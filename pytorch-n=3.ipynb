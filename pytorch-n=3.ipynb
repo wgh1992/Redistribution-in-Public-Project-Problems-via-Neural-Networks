{
 "cells": [
  {
   "cell_type": "code",
   "execution_count": 1,
   "metadata": {
    "ExecuteTime": {
     "end_time": "2021-05-17T05:01:41.122519Z",
     "start_time": "2021-05-17T05:01:39.860215Z"
    }
   },
   "outputs": [
    {
     "name": "stdout",
     "output_type": "stream",
     "text": [
      "pygame 2.0.1 (SDL 2.0.14, Python 3.8.3)\n",
      "Hello from the pygame community. https://www.pygame.org/contribute.html\n"
     ]
    },
    {
     "name": "stderr",
     "output_type": "stream",
     "text": [
      "D:\\ComputerSoftwares\\Anaconda\\lib\\site-packages\\sklearn\\utils\\deprecation.py:143: FutureWarning: The sklearn.datasets.samples_generator module is  deprecated in version 0.22 and will be removed in version 0.24. The corresponding classes / functions should instead be imported from sklearn.datasets. Anything that cannot be imported from sklearn.datasets is now part of the private API.\n",
      "  warnings.warn(message, FutureWarning)\n"
     ]
    }
   ],
   "source": [
    "\"\"\"\n",
    "The classic game of flappy bird. Make with python\n",
    "and pygame. Features pixel perfect collision using masks :o\n",
    "Date Modified:  Jul 30, 2019\n",
    "Author: Tech With Tim\n",
    "Estimated Work Time: 5 hours (1 just for that damn collision)\n",
    "\"\"\"\n",
    "import pygame\n",
    "import random\n",
    "import os\n",
    "import time\n",
    "import numpy as np\n",
    "import math\n",
    "import torch\n",
    "import torch.nn.functional\n",
    "import matplotlib.pyplot as plt\n",
    "import torch.optim as opt\n",
    "from torch.autograd import Variable\n",
    "from sklearn.model_selection import train_test_split\n",
    "\n",
    "import scipy.stats as st\n",
    "from sklearn.datasets.samples_generator import make_blobs\n",
    "from matplotlib.colors import LogNorm \n",
    "import matplotlib.cm as cm"
   ]
  },
  {
   "cell_type": "code",
   "execution_count": 2,
   "metadata": {
    "ExecuteTime": {
     "end_time": "2021-05-17T05:01:41.138007Z",
     "start_time": "2021-05-17T05:01:41.123516Z"
    }
   },
   "outputs": [],
   "source": [
    "global target_order\n",
    "target_order = \"supervised\""
   ]
  },
  {
   "cell_type": "code",
   "execution_count": 3,
   "metadata": {
    "ExecuteTime": {
     "end_time": "2021-05-17T05:01:41.848523Z",
     "start_time": "2021-05-17T05:01:41.140005Z"
    }
   },
   "outputs": [
    {
     "name": "stdout",
     "output_type": "stream",
     "text": [
      "[[[0.34573009 0.74780545]\n",
      "  [0.78397177 0.74780545]\n",
      "  [0.78397177 0.34573009]]\n",
      "\n",
      " [[0.7284134  0.89008843]\n",
      "  [0.7079701  0.89008843]\n",
      "  [0.7079701  0.7284134 ]]\n",
      "\n",
      " [[0.86696787 0.30803065]\n",
      "  [0.93938807 0.30803065]\n",
      "  [0.93938807 0.86696787]]\n",
      "\n",
      " ...\n",
      "\n",
      " [[0.62825913 0.18193471]\n",
      "  [0.36902795 0.18193471]\n",
      "  [0.36902795 0.62825913]]\n",
      "\n",
      " [[0.13506652 0.69757164]\n",
      "  [0.96284725 0.69757164]\n",
      "  [0.96284725 0.13506652]]\n",
      "\n",
      " [[0.16776643 0.74324425]\n",
      "  [0.89453518 0.74324425]\n",
      "  [0.89453518 0.16776643]]]\n",
      "[[[0.12606449 0.61847061]\n",
      "  [0.93482865 0.61847061]\n",
      "  [0.93482865 0.12606449]]\n",
      "\n",
      " [[0.03425515 0.13796096]\n",
      "  [0.62571719 0.13796096]\n",
      "  [0.62571719 0.03425515]]\n",
      "\n",
      " [[0.15836249 0.42315214]\n",
      "  [0.44133296 0.42315214]\n",
      "  [0.44133296 0.15836249]]\n",
      "\n",
      " ...\n",
      "\n",
      " [[0.91981784 0.79631366]\n",
      "  [0.82598394 0.79631366]\n",
      "  [0.82598394 0.91981784]]\n",
      "\n",
      " [[0.99556413 0.02295769]\n",
      "  [0.07626833 0.02295769]\n",
      "  [0.07626833 0.99556413]]\n",
      "\n",
      " [[0.13263775 0.9951007 ]\n",
      "  [0.68204954 0.9951007 ]\n",
      "  [0.68204954 0.13263775]]]\n",
      "[1.8775073  2.32647193 2.11438659 ... 1.17922179 1.79548541 1.80554586]\n",
      "[1.67936376 1.         1.02284759 ... 2.54211544 1.09479015 1.80978799]\n"
     ]
    }
   ],
   "source": [
    "Agent_number_n=3;\n",
    "Alpha = (1-0.667 - 0.01);\n",
    "\n",
    "global temp_list\n",
    "temp_list = []\n",
    "def appen(_x_list,y):\n",
    "    global temp_list\n",
    "    temp_list.append(_x_list)\n",
    "    \n",
    "def appen_train(x_list):\n",
    "    global temp_list\n",
    "                \n",
    "    S= max(sum(x_list),1.0);\n",
    "    temp_list = []\n",
    "    \n",
    "    for i in range(Agent_number_n):\n",
    "        temp = []\n",
    "        for j in range(Agent_number_n):\n",
    "            if(i!=j):\n",
    "                temp.append(x_list[j])\n",
    "        appen(temp,S)\n",
    "    \n",
    "    training_data.append(temp_list)\n",
    "    training_label.append(S)\n",
    "    \n",
    "\n",
    "def read_training_data():\n",
    "    for i in range(50000):\n",
    "        appen_train(np.random.rand(Agent_number_n));\n",
    "\n",
    "training_data=[]\n",
    "training_label=[]\n",
    "S=1.0\n",
    "read_training_data();\n",
    "\n",
    "def appen_test(x_list):\n",
    "    global temp_list\n",
    "                \n",
    "    S= max(sum(x_list),1.0);\n",
    "    temp_list = []\n",
    "    \n",
    "    for i in range(Agent_number_n):\n",
    "        temp = []\n",
    "        for j in range(Agent_number_n):\n",
    "            if(i!=j):\n",
    "                temp.append(x_list[j])\n",
    "        appen(temp,S)\n",
    "    testing_data.append(temp_list)\n",
    "    testing_label.append(S)\n",
    "    \n",
    "\n",
    "def read_testing_data():\n",
    "#     devided=20\n",
    "#     for i1 in range(devided+1):\n",
    "#         for i2 in range(i1+1):\n",
    "#             for i3 in range(i2+1):\n",
    "#                 appen_test(i1/devided,i2/devided,i3/devided);\n",
    "    for i in range(10000):\n",
    "        appen_test(np.random.rand(Agent_number_n));\n",
    "                            \n",
    "\n",
    "testing_data=[]\n",
    "testing_label=[]\n",
    "S=1.0\n",
    "read_testing_data();\n",
    "\n",
    "training_data=np.array(training_data)\n",
    "training_label=np.array(training_label)\n",
    "testing_data=np.array(testing_data)\n",
    "testing_label=np.array(testing_label)\n",
    "print(training_data)\n",
    "print(testing_data)\n",
    "print(training_label)\n",
    "print(testing_label)"
   ]
  },
  {
   "cell_type": "code",
   "execution_count": 4,
   "metadata": {
    "ExecuteTime": {
     "end_time": "2021-05-17T05:01:44.972540Z",
     "start_time": "2021-05-17T05:01:41.849520Z"
    }
   },
   "outputs": [
    {
     "name": "stdout",
     "output_type": "stream",
     "text": [
      "2.333301627891426 2.0 0.33330162789142603\n"
     ]
    }
   ],
   "source": [
    "\n",
    "def h_3_star(a, b, t):\n",
    "    return a - min(a, t) + b - min(b, t) + max(min(a, t)+min(b, t), 2*t/3) + 1/2 * max(min(a, t)+min(b, t), t) - 1/2 * max(max(min(a, t), min(b, t)), 2*t/3) - t/6\n",
    "\n",
    "\n",
    "def f_function(a, b, z):\n",
    "    if(z >= 1):\n",
    "        return (a+b)/2 + z/3\n",
    "    else:\n",
    "        return z/3 + h_3_star(a, b, 1-z)/2\n",
    "\n",
    "    \n",
    "\n",
    "def h_function(input_list):\n",
    "    \n",
    "    f_list = []\n",
    "    for j1 in range(len(input_list) ):\n",
    "        for j2 in range(len(input_list)):\n",
    "            if(j1 != j2):\n",
    "                a = input_list[j1]\n",
    "                b = input_list[j2]\n",
    "                z = sum(input_list) - a - b\n",
    "\n",
    "                f_list.append( f_function(a, b, z))\n",
    "    h = sum(f_list)/len(f_list) * (Agent_number_n-1)\n",
    "    return h\n",
    "                \n",
    "x_list = []\n",
    "y_list = []\n",
    "z_list = []\n",
    "result_list = []\n",
    "training_supervised_label=[]\n",
    "for index in range(len(training_data)):\n",
    "    h_list = []\n",
    "    for i in range(Agent_number_n):\n",
    "        x_list.append(training_data[index][i][0])\n",
    "        y_list.append(training_data[index][i][1])\n",
    "        h = h_function(training_data[index][i])\n",
    "        z_list.append(float(h))\n",
    "        h_list.append(float(h))\n",
    "    training_supervised_label.append(h_list)\n",
    "    result_list.append(sum(h_list)/training_label[index]) \n",
    "    \n",
    "    \n",
    "print(max(result_list), min(result_list), max(result_list)-min(result_list))"
   ]
  },
  {
   "cell_type": "code",
   "execution_count": 5,
   "metadata": {
    "ExecuteTime": {
     "end_time": "2021-05-17T05:01:45.035836Z",
     "start_time": "2021-05-17T05:01:44.973472Z"
    }
   },
   "outputs": [
    {
     "name": "stdout",
     "output_type": "stream",
     "text": [
      "[[1.09973391 1.73901327 1.13590023]\n",
      " [1.81604186 1.78537692 1.62370188]\n",
      " [1.16234718 1.23476739 2.07317321]\n",
      " ...\n",
      " [0.81019384 0.66666667 0.99728708]\n",
      " [0.81718567 1.84253805 0.99878036]\n",
      " [0.87272189 1.84273489 0.97951816]]\n"
     ]
    }
   ],
   "source": [
    "training_supervised_label=np.array(training_supervised_label)\n",
    "print(training_supervised_label)"
   ]
  },
  {
   "cell_type": "code",
   "execution_count": 6,
   "metadata": {
    "ExecuteTime": {
     "end_time": "2021-05-17T05:01:45.523600Z",
     "start_time": "2021-05-17T05:01:45.037858Z"
    }
   },
   "outputs": [
    {
     "name": "stdout",
     "output_type": "stream",
     "text": [
      "cuda:0\n"
     ]
    }
   ],
   "source": [
    "if torch.cuda.is_available():  \n",
    "    dev = \"cuda:0\" \n",
    "else:  \n",
    "    dev = \"cpu\"  \n",
    "\n",
    "print(dev)\n"
   ]
  },
  {
   "cell_type": "code",
   "execution_count": 7,
   "metadata": {
    "ExecuteTime": {
     "end_time": "2021-05-17T05:01:45.555517Z",
     "start_time": "2021-05-17T05:01:45.527591Z"
    },
    "run_control": {
     "marked": true
    }
   },
   "outputs": [],
   "source": [
    "def weight_init(m):\n",
    "    if isinstance(m, torch.nn.Conv2d):\n",
    "        torch.nn.init.xavier_normal_(m.weight, gain=nn.init.calculate_gain('relu'))\n",
    "        torch.nn.init.zeros_(m.bias)\n",
    "    elif isinstance(m, torch.nn.Linear):\n",
    "        torch.nn.init.xavier_normal_(m.weight)\n",
    "        torch.nn.init.zeros_(m.bias)\n",
    "        \n",
    "\n",
    "class Net(torch.nn.Module):\n",
    "    def __init__(self):\n",
    "\n",
    "        super(Net, self).__init__()\n",
    "\n",
    "        num_input = Agent_number_n-1\n",
    "        num_hidden = 100\n",
    "        num_output = 1\n",
    "\n",
    "        self.hidden_0 = torch.nn.Linear(num_input, num_hidden)\n",
    "        self.hidden_1 = torch.nn.Linear(num_hidden, num_hidden)\n",
    "        self.hidden_2 = torch.nn.Linear(num_hidden, num_hidden)\n",
    "        self.hidden_3 = torch.nn.Linear(num_hidden, num_hidden)\n",
    "        self.output_allocation = torch.nn.Linear(num_hidden, num_output)\n",
    "\n",
    "    def calculate(self, value_list):\n",
    "        h1 = torch.relu_(self.hidden_0(value_list))\n",
    "        h2 = torch.relu_(self.hidden_1(h1))\n",
    "        h3 = torch.relu_(self.hidden_2(h2))\n",
    "        h4 = torch.relu_(self.hidden_3(h3))\n",
    "        h = torch.relu(self.output_allocation(h4))\n",
    "\n",
    "        return h\n",
    "\n",
    "    def forward(self, input_list,input_label,label):\n",
    "        global iteration,echo,target_order\n",
    "        loss1 = 0\n",
    "        loss2 = 0\n",
    "        input_list = torch.from_numpy(\n",
    "            np.array(input_list)).cuda().type(torch.float32)\n",
    "        h_list = []\n",
    "\n",
    "        if (target_order == \"supervised\"):\n",
    "            loss = 0 \n",
    "            for i in range(Agent_number_n):\n",
    "                h = self.calculate(input_list[i])\n",
    "                loss += torch.square(h - label[i])\n",
    "                h_list.append(h)\n",
    "            return loss\n",
    "        else:\n",
    "            for i in range(Agent_number_n):\n",
    "                h = self.calculate(input_list[i])\n",
    "                h_list.append(h)\n",
    "            input_label = torch.from_numpy(\n",
    "                np.array(input_label)).cuda().type(torch.float32)\n",
    "            sum_h = torch.sum(torch.cat(h_list)).cuda()\n",
    "\n",
    "\n",
    "            loss1 = torch.where((Agent_number_n-1)*input_label>sum_h,\n",
    "                            torch.square((Agent_number_n-1)*input_label-sum_h),\n",
    "                            torch.zeros(1).cuda()\n",
    "                          )\n",
    "\n",
    "            loss2 = torch.where((Agent_number_n-Alpha)*input_label<sum_h,\n",
    "                            torch.square(sum_h-(Agent_number_n-Alpha)*input_label),\n",
    "                            torch.zeros(1).cuda()\n",
    "                          )\n",
    "\n",
    "            return loss1,loss2,h_list"
   ]
  },
  {
   "cell_type": "code",
   "execution_count": 14,
   "metadata": {
    "ExecuteTime": {
     "end_time": "2021-05-17T05:07:20.820867Z",
     "start_time": "2021-05-17T05:07:20.734802Z"
    }
   },
   "outputs": [
    {
     "data": {
      "text/plain": [
       "Net(\n",
       "  (hidden_0): Linear(in_features=2, out_features=100, bias=True)\n",
       "  (hidden_1): Linear(in_features=100, out_features=100, bias=True)\n",
       "  (hidden_2): Linear(in_features=100, out_features=100, bias=True)\n",
       "  (hidden_3): Linear(in_features=100, out_features=100, bias=True)\n",
       "  (output_allocation): Linear(in_features=100, out_features=1, bias=True)\n",
       ")"
      ]
     },
     "execution_count": 14,
     "metadata": {},
     "output_type": "execute_result"
    }
   ],
   "source": [
    "random.seed(2000)\n",
    "torch.manual_seed(256)\n",
    "net  = Net()\n",
    "net.apply(weight_init)\n",
    "\n",
    "net = torch.load(\"save/Deep_learning_3\")\n",
    "net.to(dev)"
   ]
  },
  {
   "cell_type": "code",
   "execution_count": 15,
   "metadata": {
    "ExecuteTime": {
     "end_time": "2021-05-17T05:07:24.025709Z",
     "start_time": "2021-05-17T05:07:24.012890Z"
    },
    "run_control": {
     "marked": true
    }
   },
   "outputs": [],
   "source": [
    "#optimizer = opt.RMSprop(net.parameters(), lr=0.00001)\n",
    "#optimizer = opt.SGD(net.parameters(), lr=0.00001)\n",
    "optimizer = opt.Adam(net.parameters(), lr=0.00005)\n",
    "\n",
    "batch_size = 32\n",
    "echo = 5"
   ]
  },
  {
   "cell_type": "code",
   "execution_count": 16,
   "metadata": {
    "ExecuteTime": {
     "end_time": "2021-05-17T05:17:35.647153Z",
     "start_time": "2021-05-17T05:07:27.051179Z"
    }
   },
   "outputs": [
    {
     "name": "stdout",
     "output_type": "stream",
     "text": [
      "1488 tensor([0.0003], device='cuda:0', grad_fn=<DivBackward0>) 0.009059135802090168\n",
      "2139 tensor([0.0003], device='cuda:0', grad_fn=<DivBackward0>) 0.009445085190236568\n",
      "4371 tensor([0.0003], device='cuda:0', grad_fn=<DivBackward0>) 0.00940058846026659\n",
      "6448 tensor([0.0003], device='cuda:0', grad_fn=<DivBackward0>) 0.011044786311686039\n",
      "7936 tensor([0.0003], device='cuda:0', grad_fn=<DivBackward0>) 0.00933702103793621\n",
      "12307 tensor([0.0002], device='cuda:0', grad_fn=<DivBackward0>) 0.006586650386452675\n",
      "17267 tensor([0.0002], device='cuda:0', grad_fn=<DivBackward0>) 0.007647315971553326\n",
      "17887 tensor([0.0002], device='cuda:0', grad_fn=<DivBackward0>) 0.006547295022755861\n",
      "18042 tensor([0.0002], device='cuda:0', grad_fn=<DivBackward0>) 0.006183155812323093\n",
      "27559 tensor([0.0001], device='cuda:0', grad_fn=<DivBackward0>) 0.004008443560451269\n",
      "33511 tensor([9.3639e-05], device='cuda:0', grad_fn=<DivBackward0>) 0.002996450988575816\n",
      "33542 tensor([0.0002], device='cuda:0', grad_fn=<DivBackward0>) 0.00587846664711833\n",
      "39370 tensor([0.0002], device='cuda:0', grad_fn=<DivBackward0>) 0.004909275099635124\n",
      "40362 tensor([0.0001], device='cuda:0', grad_fn=<DivBackward0>) 0.004612340591847897\n",
      "42160 tensor([0.0002], device='cuda:0', grad_fn=<DivBackward0>) 0.006214749999344349\n",
      "42253 tensor([0.0002], device='cuda:0', grad_fn=<DivBackward0>) 0.007796272169798613\n",
      "46686 tensor([0.0001], device='cuda:0', grad_fn=<DivBackward0>) 0.0042452262714505196\n",
      "batch iteration 0\n",
      "batch_loss: 0.00 \n",
      "\n",
      "\n",
      "1209 tensor([0.0001], device='cuda:0', grad_fn=<DivBackward0>) 0.003569705644622445\n",
      "2852 tensor([0.0001], device='cuda:0', grad_fn=<DivBackward0>) 0.003522432642057538\n",
      "3875 tensor([0.0001], device='cuda:0', grad_fn=<DivBackward0>) 0.004523697309195995\n",
      "6944 tensor([6.7373e-05], device='cuda:0', grad_fn=<DivBackward0>) 0.0021559426095336676\n",
      "7812 tensor([0.0001], device='cuda:0', grad_fn=<DivBackward0>) 0.0039027819875627756\n",
      "10664 tensor([9.2011e-05], device='cuda:0', grad_fn=<DivBackward0>) 0.0029443649109452963\n",
      "13144 tensor([0.0001], device='cuda:0', grad_fn=<DivBackward0>) 0.0032463804818689823\n",
      "17887 tensor([0.0001], device='cuda:0', grad_fn=<DivBackward0>) 0.0036471348721534014\n",
      "21390 tensor([0.0001], device='cuda:0', grad_fn=<DivBackward0>) 0.004387252498418093\n",
      "24180 tensor([9.8053e-05], device='cuda:0', grad_fn=<DivBackward0>) 0.003137699095532298\n",
      "29667 tensor([0.0001], device='cuda:0', grad_fn=<DivBackward0>) 0.003598507260903716\n",
      "34379 tensor([0.0001], device='cuda:0', grad_fn=<DivBackward0>) 0.004023882560431957\n",
      "41695 tensor([0.0001], device='cuda:0', grad_fn=<DivBackward0>) 0.0035593989305198193\n",
      "47306 tensor([8.6893e-05], device='cuda:0', grad_fn=<DivBackward0>) 0.0027805680874735117\n",
      "batch iteration 1\n",
      "batch_loss: 0.00 \n",
      "\n",
      "\n",
      "3224 tensor([6.8919e-05], device='cuda:0', grad_fn=<DivBackward0>) 0.0022054053843021393\n",
      "7130 tensor([7.3013e-05], device='cuda:0', grad_fn=<DivBackward0>) 0.0023364098742604256\n",
      "7502 tensor([8.2948e-05], device='cuda:0', grad_fn=<DivBackward0>) 0.0026543245185166597\n",
      "7533 tensor([0.0001], device='cuda:0', grad_fn=<DivBackward0>) 0.003334397217258811\n",
      "9951 tensor([6.5473e-05], device='cuda:0', grad_fn=<DivBackward0>) 0.0020951370242983103\n",
      "19003 tensor([7.2950e-05], device='cuda:0', grad_fn=<DivBackward0>) 0.002334412420168519\n",
      "27032 tensor([7.3136e-05], device='cuda:0', grad_fn=<DivBackward0>) 0.0023403605446219444\n",
      "28148 tensor([6.1445e-05], device='cuda:0', grad_fn=<DivBackward0>) 0.00196625292301178\n",
      "34937 tensor([7.2338e-05], device='cuda:0', grad_fn=<DivBackward0>) 0.002314811572432518\n",
      "47461 tensor([6.0377e-05], device='cuda:0', grad_fn=<DivBackward0>) 0.0019320768769830465\n",
      "batch iteration 2\n",
      "batch_loss: 0.00 \n",
      "\n",
      "\n",
      "2728 tensor([7.2413e-05], device='cuda:0', grad_fn=<DivBackward0>) 0.0023172209039330482\n",
      "2883 tensor([4.3971e-05], device='cuda:0', grad_fn=<DivBackward0>) 0.001407082425430417\n",
      "4681 tensor([3.9992e-05], device='cuda:0', grad_fn=<DivBackward0>) 0.001279751886613667\n",
      "8773 tensor([6.6021e-05], device='cuda:0', grad_fn=<DivBackward0>) 0.002112668938934803\n",
      "10323 tensor([4.5778e-05], device='cuda:0', grad_fn=<DivBackward0>) 0.0014649046352133155\n",
      "17856 tensor([4.7308e-05], device='cuda:0', grad_fn=<DivBackward0>) 0.0015138541348278522\n",
      "17918 tensor([5.5234e-05], device='cuda:0', grad_fn=<DivBackward0>) 0.0017674861010164022\n",
      "18786 tensor([6.7106e-05], device='cuda:0', grad_fn=<DivBackward0>) 0.0021474026143550873\n",
      "21886 tensor([3.0441e-05], device='cuda:0', grad_fn=<DivBackward0>) 0.0009741042158566415\n",
      "24769 tensor([4.7963e-05], device='cuda:0', grad_fn=<DivBackward0>) 0.001534804585389793\n",
      "26195 tensor([4.7251e-05], device='cuda:0', grad_fn=<DivBackward0>) 0.0015120399184525013\n",
      "29481 tensor([3.9754e-05], device='cuda:0', grad_fn=<DivBackward0>) 0.0012721160892397165\n",
      "32860 tensor([3.3567e-05], device='cuda:0', grad_fn=<DivBackward0>) 0.001074130297638476\n",
      "34720 tensor([3.8388e-05], device='cuda:0', grad_fn=<DivBackward0>) 0.0012284278636798263\n",
      "39804 tensor([5.0834e-05], device='cuda:0', grad_fn=<DivBackward0>) 0.0016266773454844952\n",
      "42780 tensor([3.4041e-05], device='cuda:0', grad_fn=<DivBackward0>) 0.0010893234284594655\n",
      "44237 tensor([3.2300e-05], device='cuda:0', grad_fn=<DivBackward0>) 0.0010335904080420732\n",
      "44857 tensor([4.4323e-05], device='cuda:0', grad_fn=<DivBackward0>) 0.0014183317543938756\n",
      "44888 tensor([5.1102e-05], device='cuda:0', grad_fn=<DivBackward0>) 0.0016352568054571748\n",
      "47337 tensor([3.7139e-05], device='cuda:0', grad_fn=<DivBackward0>) 0.0011884351260960102\n",
      "48236 tensor([2.2542e-05], device='cuda:0', grad_fn=<DivBackward0>) 0.0007213327335193753\n",
      "batch iteration 3\n",
      "batch_loss: 0.00 \n",
      "\n",
      "\n",
      "2604 tensor([2.7997e-05], device='cuda:0', grad_fn=<DivBackward0>) 0.000895909673999995\n",
      "3317 tensor([3.3665e-05], device='cuda:0', grad_fn=<DivBackward0>) 0.0010772724635899067\n",
      "17701 tensor([3.0165e-05], device='cuda:0', grad_fn=<DivBackward0>) 0.0009652679436840117\n",
      "18538 tensor([1.6743e-05], device='cuda:0', grad_fn=<DivBackward0>) 0.0005357624031603336\n",
      "18972 tensor([2.4036e-05], device='cuda:0', grad_fn=<DivBackward0>) 0.0007691420614719391\n",
      "25296 tensor([2.5072e-05], device='cuda:0', grad_fn=<DivBackward0>) 0.0008022913243621588\n",
      "27528 tensor([2.1105e-05], device='cuda:0', grad_fn=<DivBackward0>) 0.0006753600900992751\n",
      "29171 tensor([4.5592e-05], device='cuda:0', grad_fn=<DivBackward0>) 0.0014589321799576283\n",
      "32488 tensor([2.3375e-05], device='cuda:0', grad_fn=<DivBackward0>) 0.0007479985360987484\n",
      "33077 tensor([1.3693e-05], device='cuda:0', grad_fn=<DivBackward0>) 0.0004381855542305857\n",
      "36735 tensor([2.3126e-05], device='cuda:0', grad_fn=<DivBackward0>) 0.0007400414906442165\n",
      "47585 tensor([1.8757e-05], device='cuda:0', grad_fn=<DivBackward0>) 0.0006002234877087176\n",
      "batch iteration 4\n",
      "batch_loss: 0.00 \n",
      "\n",
      "\n"
     ]
    }
   ],
   "source": [
    "target_order = \"supervised\"\n",
    "for iteration in range(int(echo)):\n",
    "    # offender_types = []\n",
    "    # defender_types = []\n",
    "    \n",
    "    \n",
    "    X_train_list = []\n",
    "    temp_number = 0\n",
    "    total_batch_loss = 0 \n",
    "    while(temp_number<len(training_data)-1):\n",
    "        loss_sum = 0\n",
    "        denominator = 0\n",
    "        for index in range(temp_number, min(batch_size+temp_number,len(training_data))):\n",
    "            h_loss = net(training_data[index],training_label[index],training_supervised_label[index])\n",
    "            denominator += 1\n",
    "            loss_sum += h_loss\n",
    "            \n",
    "        loss = (loss_sum) / denominator \n",
    "        total_batch_loss +=float(loss_sum)\n",
    "        optimizer.zero_grad()\n",
    "        \n",
    "        loss.backward()\n",
    "        \n",
    "        optimizer.step()\n",
    "        \n",
    "        temp_number = index\n",
    "        \n",
    "        if(random.random()<=0.01):\n",
    "            print(temp_number,loss,float(loss_sum))\n",
    "\n",
    "\n",
    "    print(\"batch iteration\", iteration)\n",
    "    print(\"batch_loss: %.2f \" % (total_batch_loss/len(training_data)))\n",
    "    \n",
    "    print()\n",
    "    print()"
   ]
  },
  {
   "cell_type": "code",
   "execution_count": 17,
   "metadata": {
    "ExecuteTime": {
     "end_time": "2021-05-17T05:17:52.542172Z",
     "start_time": "2021-05-17T05:17:38.657708Z"
    }
   },
   "outputs": [
    {
     "name": "stdout",
     "output_type": "stream",
     "text": [
      "2.3469607830047607 1.9905501008033752 0.3564106822013855\n"
     ]
    }
   ],
   "source": [
    "denominator = 0\n",
    "result_list = []\n",
    "for index in range(len(testing_data)):\n",
    "    h_list = []\n",
    "    for i in range(Agent_number_n):\n",
    "        h = net.calculate(torch.tensor(testing_data[index][i]).cuda().type(torch.float32))\n",
    "        h_list.append(float(h))\n",
    "    \n",
    "    #print(sum(h_list),h_list,sum(h_list)/testing_label[index])\n",
    "    result_list.append(sum(h_list)/testing_label[index])\n",
    "    \n",
    "\n",
    "print(max(result_list),min(result_list),max(result_list)-min(result_list))"
   ]
  },
  {
   "cell_type": "code",
   "execution_count": 18,
   "metadata": {
    "ExecuteTime": {
     "end_time": "2021-05-17T05:17:55.706324Z",
     "start_time": "2021-05-17T05:17:55.679020Z"
    }
   },
   "outputs": [],
   "source": [
    "torch.save(net, \"save/Deep_learning_3\")"
   ]
  },
  {
   "cell_type": "code",
   "execution_count": 12,
   "metadata": {
    "ExecuteTime": {
     "end_time": "2021-05-17T05:06:13.972643Z",
     "start_time": "2021-05-17T05:06:13.470064Z"
    }
   },
   "outputs": [
    {
     "ename": "NameError",
     "evalue": "name 'p' is not defined",
     "output_type": "error",
     "traceback": [
      "\u001b[1;31m---------------------------------------------------------------------------\u001b[0m",
      "\u001b[1;31mNameError\u001b[0m                                 Traceback (most recent call last)",
      "\u001b[1;32m<ipython-input-12-6c10289a8da7>\u001b[0m in \u001b[0;36m<module>\u001b[1;34m\u001b[0m\n\u001b[1;32m----> 1\u001b[1;33m \u001b[0mp\u001b[0m\u001b[1;33m\u001b[0m\u001b[1;33m\u001b[0m\u001b[0m\n\u001b[0m",
      "\u001b[1;31mNameError\u001b[0m: name 'p' is not defined"
     ]
    }
   ],
   "source": []
  },
  {
   "cell_type": "code",
   "execution_count": null,
   "metadata": {
    "ExecuteTime": {
     "end_time": "2021-05-17T05:06:13.977131Z",
     "start_time": "2021-05-17T05:01:39.836Z"
    }
   },
   "outputs": [],
   "source": [
    "#optimizer = opt.RMSprop(net.parameters(), lr=0.00001)\n",
    "#optimizer = opt.SGD(net.parameters(), lr=0.00001)\n",
    "optimizer = opt.Adam(net.parameters(), lr=0.00005)\n",
    "\n",
    "batch_size = 64\n",
    "echo = 3"
   ]
  },
  {
   "cell_type": "code",
   "execution_count": null,
   "metadata": {
    "ExecuteTime": {
     "end_time": "2021-05-17T05:06:13.977131Z",
     "start_time": "2021-05-17T05:01:39.837Z"
    }
   },
   "outputs": [],
   "source": [
    "target_order = \"unsupervised\"\n",
    "for iteration in range(int(echo)):\n",
    "    # offender_types = []\n",
    "    # defender_types = []\n",
    "    \n",
    "    \n",
    "    X_train_list = []\n",
    "    temp_number = 0\n",
    "    total_batch_loss = 0 \n",
    "    while(temp_number<len(training_data)-1):\n",
    "        \n",
    "        loss2_list = []\n",
    "        loss1_sum = 0\n",
    "        loss2_sum = 0\n",
    "        denominator = 0\n",
    "        for index in range(temp_number, min(batch_size+temp_number,len(training_data))):\n",
    "            h_loss1,h_loss2,h_list = net(training_data[index],training_label[index],0)\n",
    "            denominator += 1\n",
    "            loss1_sum += h_loss1\n",
    "            loss2_sum += h_loss2\n",
    "            \n",
    "        loss_sum = loss1_sum + loss2_sum\n",
    "        loss = (loss_sum) / denominator \n",
    "        total_batch_loss +=float(loss_sum)\n",
    "        optimizer.zero_grad()\n",
    "        \n",
    "        loss.backward()\n",
    "        \n",
    "        optimizer.step()\n",
    "        \n",
    "        temp_number = index\n",
    "        \n",
    "        if(random.random()<=0.01):\n",
    "            print(temp_number,loss,float(loss1_sum),float(loss2_sum))\n",
    "\n",
    "\n",
    "    print(\"batch iteration\", iteration)\n",
    "    print(\"batch_loss: %.2f \" % (total_batch_loss/len(training_data)))\n",
    "    \n",
    "    print()\n",
    "    print()"
   ]
  },
  {
   "cell_type": "code",
   "execution_count": null,
   "metadata": {
    "ExecuteTime": {
     "end_time": "2021-05-17T05:06:13.977131Z",
     "start_time": "2021-05-17T05:01:39.838Z"
    }
   },
   "outputs": [],
   "source": [
    "torch.save(net, \"save/Deep_learning_3\")"
   ]
  },
  {
   "cell_type": "code",
   "execution_count": null,
   "metadata": {
    "ExecuteTime": {
     "end_time": "2021-05-17T05:06:13.977131Z",
     "start_time": "2021-05-17T05:01:39.839Z"
    }
   },
   "outputs": [],
   "source": [
    "denominator = 0\n",
    "result_list = []\n",
    "for index in range(len(testing_data)):\n",
    "    h_list = []\n",
    "    for i in range(Agent_number_n):\n",
    "        h = net.calculate(torch.tensor(testing_data[index][i]).cuda().type(torch.float32))\n",
    "        h_list.append(float(h))\n",
    "    \n",
    "    #print(sum(h_list),h_list,sum(h_list)/testing_label[index])\n",
    "    result_list.append(sum(h_list)/testing_label[index])\n",
    "    \n",
    "\n",
    "print(max(result_list),min(result_list),max(result_list)-min(result_list))"
   ]
  },
  {
   "cell_type": "code",
   "execution_count": null,
   "metadata": {
    "ExecuteTime": {
     "start_time": "2021-05-17T04:56:58.368Z"
    }
   },
   "outputs": [],
   "source": []
  },
  {
   "cell_type": "code",
   "execution_count": null,
   "metadata": {
    "ExecuteTime": {
     "end_time": "2021-05-17T05:06:13.977131Z",
     "start_time": "2021-05-17T05:01:39.840Z"
    }
   },
   "outputs": [],
   "source": [
    "plt.hist(result_list,bins=500)\n",
    "\n",
    "plt.title(\"Means\", y=1.015, fontsize=20)\n",
    "plt.axvline(x=sum(result_list)/len(result_list), linestyle='--', linewidth=2.5, label=\"sample mean\", c='orange')\n",
    "plt.xlabel(\"samples\", labelpad=14)\n",
    "plt.ylabel(\"frequency of occurence\", labelpad=14)\n",
    "plt.legend();\n",
    "\n",
    "result_list.sort()\n",
    "\n",
    "plt.axvline(x=result_list[int(len(result_list)*0.001)], linestyle='--', linewidth=0.5, label=\"0.1%\", c='b')\n",
    "plt.axvline(x=result_list[int(len(result_list)*0.999)], linestyle='--', linewidth=0.5, label=\"99%\", c='r')\n",
    "\n",
    "\n",
    "plt.show()"
   ]
  },
  {
   "cell_type": "code",
   "execution_count": null,
   "metadata": {
    "ExecuteTime": {
     "end_time": "2021-05-17T05:06:13.977131Z",
     "start_time": "2021-05-17T05:01:39.841Z"
    }
   },
   "outputs": [],
   "source": [
    "from mpl_toolkits import mplot3d\n",
    "denominator = 0\n",
    "x_list=[]\n",
    "y_list=[]\n",
    "z_list=[]\n",
    "result_list = []\n",
    "for index in range(len(testing_data)):\n",
    "    h_list = []\n",
    "    for i in range(Agent_number_n):\n",
    "        x_list.append(testing_data[index][i][0])\n",
    "        y_list.append(testing_data[index][i][1])\n",
    "        \n",
    "        h = net.calculate(torch.tensor(testing_data[index][i]).cuda().type(torch.float32))\n",
    "        z_list.append(float(h))\n",
    "        h_list.append(float(h))\n",
    "    \n",
    "    #print(sum(h_list),h_list,sum(h_list)/testing_label[index])\n",
    "    result_list.append(sum(h_list)/testing_label[index])\n",
    "    \n",
    "\n"
   ]
  },
  {
   "cell_type": "code",
   "execution_count": null,
   "metadata": {
    "ExecuteTime": {
     "end_time": "2021-05-17T05:06:13.977131Z",
     "start_time": "2021-05-17T05:01:39.842Z"
    }
   },
   "outputs": [],
   "source": [
    "ax = plt.axes(projection='3d')\n",
    "ax.scatter(x_list, y_list, z_list, linewidth=0.5);"
   ]
  },
  {
   "cell_type": "code",
   "execution_count": null,
   "metadata": {
    "ExecuteTime": {
     "end_time": "2021-05-17T05:06:13.977131Z",
     "start_time": "2021-05-17T05:01:39.844Z"
    },
    "run_control": {
     "marked": true
    }
   },
   "outputs": [],
   "source": [
    "def function_re1(input_list):\n",
    "    #print(max(sum(input_list), 2/3))\n",
    "    return max(sum(input_list), 2/3) + 1/2*max(sum(input_list),1) - 1/2*max(max(input_list[0],input_list[1]), 2/3)-1/6\n",
    "def function_re2(input_list):\n",
    "    #print(max(sum(input_list), 2/3))\n",
    "    return 5/6* max(sum(input_list), 1) + 2/3*max(sum(input_list),1/2) - 1/3*max(max(input_list[0],input_list[1]), 1/2)-1/3\n",
    "\n",
    "x_list = []\n",
    "y_list = []\n",
    "z_list = []\n",
    "result_list = []\n",
    "for index in range(len(testing_data)):\n",
    "    h_list = []\n",
    "    for i in range(Agent_number_n):\n",
    "        x_list.append(testing_data[index][i][0])\n",
    "        y_list.append(testing_data[index][i][1])\n",
    "        h = function_re1(testing_data[index][i])\n",
    "        z_list.append(float(h))\n",
    "        h_list.append(float(h))\n",
    "    result_list.append(sum(h_list)/testing_label[index]) \n",
    "print(max(result_list), min(result_list), max(result_list)-min(result_list))\n",
    "\n",
    "ax = plt.axes(projection='3d')\n",
    "ax.scatter(x_list, y_list, z_list, linewidth=0.5);\n",
    "plt.show()\n",
    "\n",
    "plt.hist(result_list,bins=500)\n",
    "\n",
    "plt.title(\"Means\", y=1.015, fontsize=20)\n",
    "plt.axvline(x=sum(result_list)/len(result_list), linestyle='--', linewidth=2.5, label=\"sample mean\", c='orange')\n",
    "plt.xlabel(\"samples\", labelpad=14)\n",
    "plt.ylabel(\"frequency of occurence\", labelpad=14)\n",
    "plt.legend();\n",
    "\n",
    "result_list.sort()\n",
    "\n",
    "plt.axvline(x=result_list[int(len(result_list)*0.001)], linestyle='--', linewidth=0.5, label=\"0.1%\", c='b')\n",
    "plt.axvline(x=result_list[int(len(result_list)*0.999)], linestyle='--', linewidth=0.5, label=\"99%\", c='r')\n",
    "\n",
    "\n",
    "plt.show()"
   ]
  },
  {
   "cell_type": "code",
   "execution_count": null,
   "metadata": {
    "ExecuteTime": {
     "end_time": "2021-05-17T05:06:13.986350Z",
     "start_time": "2021-05-17T05:01:39.845Z"
    },
    "scrolled": true
   },
   "outputs": [],
   "source": [
    "x_list = []\n",
    "y_list = []\n",
    "z_list = []\n",
    "result_list = []\n",
    "for index in range(len(testing_data)):\n",
    "    h_list = []\n",
    "    for i in range(Agent_number_n):\n",
    "        x_list.append(testing_data[index][i][0])\n",
    "        y_list.append(testing_data[index][i][1])\n",
    "        h = function_re2(testing_data[index][i])\n",
    "        z_list.append(float(h))\n",
    "        h_list.append(float(h))\n",
    "    result_list.append(sum(h_list)/testing_label[index]) \n",
    "print(max(result_list), min(result_list), max(result_list)-min(result_list))\n",
    "\n",
    "ax = plt.axes(projection='3d')\n",
    "ax.scatter(x_list, y_list, z_list, linewidth=0.5);\n",
    "plt.show()\n",
    "plt.hist(result_list,bins=500)\n",
    "\n",
    "plt.title(\"Means\", y=1.015, fontsize=20)\n",
    "plt.axvline(x=sum(result_list)/len(result_list), linestyle='--', linewidth=2.5, label=\"sample mean\", c='orange')\n",
    "plt.xlabel(\"samples\", labelpad=14)\n",
    "plt.ylabel(\"frequency of occurence\", labelpad=14)\n",
    "plt.legend();\n",
    "\n",
    "result_list.sort()\n",
    "\n",
    "plt.axvline(x=result_list[int(len(result_list)*0.001)], linestyle='--', linewidth=0.5, label=\"0.1%\", c='b')\n",
    "plt.axvline(x=result_list[int(len(result_list)*0.999)], linestyle='--', linewidth=0.5, label=\"99%\", c='r')\n",
    "\n",
    "\n",
    "plt.show()"
   ]
  },
  {
   "cell_type": "code",
   "execution_count": null,
   "metadata": {},
   "outputs": [],
   "source": []
  }
 ],
 "metadata": {
  "hide_input": false,
  "kernelspec": {
   "display_name": "Python 3",
   "language": "python",
   "name": "python3"
  },
  "language_info": {
   "codemirror_mode": {
    "name": "ipython",
    "version": 3
   },
   "file_extension": ".py",
   "mimetype": "text/x-python",
   "name": "python",
   "nbconvert_exporter": "python",
   "pygments_lexer": "ipython3",
   "version": "3.8.3"
  },
  "varInspector": {
   "cols": {
    "lenName": 16,
    "lenType": 16,
    "lenVar": 40
   },
   "kernels_config": {
    "python": {
     "delete_cmd_postfix": "",
     "delete_cmd_prefix": "del ",
     "library": "var_list.py",
     "varRefreshCmd": "print(var_dic_list())"
    },
    "r": {
     "delete_cmd_postfix": ") ",
     "delete_cmd_prefix": "rm(",
     "library": "var_list.r",
     "varRefreshCmd": "cat(var_dic_list()) "
    }
   },
   "types_to_exclude": [
    "module",
    "function",
    "builtin_function_or_method",
    "instance",
    "_Feature"
   ],
   "window_display": false
  }
 },
 "nbformat": 4,
 "nbformat_minor": 4
}
