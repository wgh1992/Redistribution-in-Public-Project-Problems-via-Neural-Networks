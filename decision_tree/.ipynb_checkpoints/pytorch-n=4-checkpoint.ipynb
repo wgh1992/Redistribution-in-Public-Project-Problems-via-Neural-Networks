{
 "cells": [
  {
   "cell_type": "code",
   "execution_count": 1,
   "metadata": {
    "ExecuteTime": {
     "end_time": "2021-05-27T06:40:23.549106Z",
     "start_time": "2021-05-27T06:40:21.736239Z"
    }
   },
   "outputs": [
    {
     "name": "stdout",
     "output_type": "stream",
     "text": [
      "pygame 2.0.1 (SDL 2.0.14, Python 3.8.3)\n",
      "Hello from the pygame community. https://www.pygame.org/contribute.html\n",
      "cuda:0\n"
     ]
    },
    {
     "name": "stderr",
     "output_type": "stream",
     "text": [
      "D:\\ComputerSoftwares\\Anaconda\\lib\\site-packages\\sklearn\\utils\\deprecation.py:143: FutureWarning: The sklearn.datasets.samples_generator module is  deprecated in version 0.22 and will be removed in version 0.24. The corresponding classes / functions should instead be imported from sklearn.datasets. Anything that cannot be imported from sklearn.datasets is now part of the private API.\n",
      "  warnings.warn(message, FutureWarning)\n"
     ]
    }
   ],
   "source": [
    "\n",
    "import pygame\n",
    "import random\n",
    "import os\n",
    "import time\n",
    "import numpy as np\n",
    "import math\n",
    "import torch\n",
    "import torch.nn.functional\n",
    "import matplotlib.pyplot as plt\n",
    "import torch.optim as opt\n",
    "from torch.autograd import Variable\n",
    "from sklearn.model_selection import train_test_split\n",
    "\n",
    "import scipy.stats as st\n",
    "from sklearn.datasets.samples_generator import make_blobs\n",
    "from matplotlib.colors import LogNorm \n",
    "import matplotlib.cm as cm\n",
    "import torch.nn as nn\n",
    "import numpy as np\n",
    "import matplotlib.pyplot as plt\n",
    "\n",
    "\n",
    "if torch.cuda.is_available():  \n",
    "    dev = \"cuda:0\" \n",
    "else:  \n",
    "    dev = \"cpu\"  \n",
    "\n",
    "print(dev)\n"
   ]
  },
  {
   "cell_type": "code",
   "execution_count": 2,
   "metadata": {
    "ExecuteTime": {
     "end_time": "2021-05-27T06:40:23.564904Z",
     "start_time": "2021-05-27T06:40:23.551101Z"
    }
   },
   "outputs": [],
   "source": [
    "global temp_list\n",
    "temp_list = []\n",
    "Agent_number_n=4;\n",
    "Alpha = 0.666;\n",
    "\n"
   ]
  },
  {
   "cell_type": "code",
   "execution_count": 3,
   "metadata": {
    "ExecuteTime": {
     "end_time": "2021-05-27T06:40:26.288290Z",
     "start_time": "2021-05-27T06:40:23.565125Z"
    }
   },
   "outputs": [
    {
     "name": "stdout",
     "output_type": "stream",
     "text": [
      "[[[0.87571921 0.31304327 0.13955912]\n",
      "  [0.90522683 0.31304327 0.13955912]\n",
      "  [0.90522683 0.87571921 0.13955912]\n",
      "  [0.90522683 0.87571921 0.31304327]]\n",
      "\n",
      " [[0.58036657 0.53197983 0.31821003]\n",
      "  [0.91933988 0.53197983 0.31821003]\n",
      "  [0.91933988 0.58036657 0.31821003]\n",
      "  [0.91933988 0.58036657 0.53197983]]\n",
      "\n",
      " [[0.49335121 0.42133368 0.41701373]\n",
      "  [0.9061004  0.42133368 0.41701373]\n",
      "  [0.9061004  0.49335121 0.41701373]\n",
      "  [0.9061004  0.49335121 0.42133368]]\n",
      "\n",
      " ...\n",
      "\n",
      " [[0.64704327 0.13955227 0.13126775]\n",
      "  [0.98155314 0.13955227 0.13126775]\n",
      "  [0.98155314 0.64704327 0.13126775]\n",
      "  [0.98155314 0.64704327 0.13955227]]\n",
      "\n",
      " [[0.44911432 0.20140761 0.11788418]\n",
      "  [0.64148167 0.20140761 0.11788418]\n",
      "  [0.64148167 0.44911432 0.11788418]\n",
      "  [0.64148167 0.44911432 0.20140761]]\n",
      "\n",
      " [[0.30360603 0.15320343 0.10597658]\n",
      "  [0.75404762 0.15320343 0.10597658]\n",
      "  [0.75404762 0.30360603 0.10597658]\n",
      "  [0.75404762 0.30360603 0.15320343]]]\n",
      "[[[0.53574943 0.3408424  0.13820078]\n",
      "  [0.91751612 0.3408424  0.13820078]\n",
      "  [0.91751612 0.53574943 0.13820078]\n",
      "  [0.91751612 0.53574943 0.3408424 ]]\n",
      "\n",
      " [[0.69356113 0.6586242  0.0667991 ]\n",
      "  [0.92248319 0.6586242  0.0667991 ]\n",
      "  [0.92248319 0.69356113 0.0667991 ]\n",
      "  [0.92248319 0.69356113 0.6586242 ]]\n",
      "\n",
      " [[0.82273993 0.59460653 0.52882146]\n",
      "  [0.8906486  0.59460653 0.52882146]\n",
      "  [0.8906486  0.82273993 0.52882146]\n",
      "  [0.8906486  0.82273993 0.59460653]]\n",
      "\n",
      " ...\n",
      "\n",
      " [[0.58736503 0.32913633 0.28521029]\n",
      "  [0.95995549 0.32913633 0.28521029]\n",
      "  [0.95995549 0.58736503 0.28521029]\n",
      "  [0.95995549 0.58736503 0.32913633]]\n",
      "\n",
      " [[0.08733623 0.07962225 0.05187699]\n",
      "  [0.33801446 0.07962225 0.05187699]\n",
      "  [0.33801446 0.08733623 0.05187699]\n",
      "  [0.33801446 0.08733623 0.07962225]]\n",
      "\n",
      " [[0.61154762 0.21821245 0.19156406]\n",
      "  [0.88234214 0.21821245 0.19156406]\n",
      "  [0.88234214 0.61154762 0.19156406]\n",
      "  [0.88234214 0.61154762 0.21821245]]]\n",
      "[2.23354844 2.34989631 2.23779902 ... 1.89941643 1.40988777 1.31683367]\n",
      "[1.93230873 2.34146762 2.83681651 ... 2.16166715 1.         1.90366627]\n"
     ]
    }
   ],
   "source": [
    "def appen(_x_list,y):\n",
    "    global temp_list\n",
    "    temp_list.append(_x_list)\n",
    "    \n",
    "def appen_train(x_list):\n",
    "    global temp_list\n",
    "                \n",
    "    S= max(sum(x_list),1.0);\n",
    "    temp_list = []\n",
    "    \n",
    "    for i in range(Agent_number_n):\n",
    "        temp = []\n",
    "        for j in range(Agent_number_n):\n",
    "            if(i!=j):\n",
    "                temp.append(x_list[j])\n",
    "        appen(temp,S)\n",
    "    \n",
    "    training_data.append(temp_list)\n",
    "    training_label.append(S)\n",
    "    \n",
    "\n",
    "def read_training_data():\n",
    "    for i in range(100000):\n",
    "        appen_train(sorted(np.random.rand(Agent_number_n), reverse=True));\n",
    "\n",
    "training_data=[]\n",
    "training_label=[]\n",
    "S=1.0\n",
    "read_training_data();\n",
    "\n",
    "def appen_test(x_list):\n",
    "    global temp_list\n",
    "                \n",
    "    S= max(sum(x_list),1.0);\n",
    "    temp_list = []\n",
    "    \n",
    "    for i in range(Agent_number_n):\n",
    "        temp = []\n",
    "        for j in range(Agent_number_n):\n",
    "            if(i!=j):\n",
    "                temp.append(x_list[j])\n",
    "        appen(temp,S)\n",
    "    testing_data.append(temp_list)\n",
    "    testing_label.append(S)\n",
    "    \n",
    "\n",
    "def read_testing_data():\n",
    "#     devided=20\n",
    "#     for i1 in range(devided+1):\n",
    "#         for i2 in range(i1+1):\n",
    "#             for i3 in range(i2+1):\n",
    "#                 appen_test(i1/devided,i2/devided,i3/devided);\n",
    "    for i in range(100000):\n",
    "        appen_test(sorted(np.random.rand(Agent_number_n), reverse=True));\n",
    "                            \n",
    "\n",
    "testing_data=[]\n",
    "testing_label=[]\n",
    "S=1.0\n",
    "read_testing_data();\n",
    "\n",
    "training_data=np.array(training_data)\n",
    "training_label=np.array(training_label)\n",
    "testing_data=np.array(testing_data)\n",
    "testing_label=np.array(testing_label)\n",
    "print(training_data)\n",
    "print(testing_data)\n",
    "print(training_label)\n",
    "print(testing_label)"
   ]
  },
  {
   "cell_type": "code",
   "execution_count": 4,
   "metadata": {
    "ExecuteTime": {
     "end_time": "2021-05-27T06:40:51.036895Z",
     "start_time": "2021-05-27T06:40:26.288290Z"
    }
   },
   "outputs": [
    {
     "name": "stdout",
     "output_type": "stream",
     "text": [
      "3.374941622337671 2.999999999999999 0.3749416223376718\n"
     ]
    }
   ],
   "source": [
    "def h_3_star(a, b, t):\n",
    "    return a - min(a, t) + b - min(b, t) + max(min(a, t)+min(b, t), 2*t/3) + 1/2 * max(min(a, t)+min(b, t), t) - 1/2 * max(max(min(a, t), min(b, t)), 2*t/3) - t/6\n",
    "\n",
    "\n",
    "def f_function(a, b, z):\n",
    "    if(z >= 1):\n",
    "        return (a+b)/2 + z/3\n",
    "    else:\n",
    "        return z/3 + h_3_star(a, b, 1-z)/2\n",
    "\n",
    "def h_function(input_list):\n",
    "    #input_list = sorted(input_list)\n",
    "    g_list = []\n",
    "    for j1 in range(len(input_list) ):\n",
    "        for j2 in range(len(input_list)):\n",
    "            if(j1 != j2):\n",
    "                a = input_list[j1]\n",
    "                b = input_list[j2]\n",
    "                z = sum(input_list)- a-b\n",
    "\n",
    "                g_list.append( f_function(a, b, z) * (Agent_number_n-1))\n",
    "    h = sum(g_list) * 3 /  (Agent_number_n) /  (Agent_number_n-1) /  (Agent_number_n - 2)\n",
    "    return h\n",
    "                \n",
    "                \n",
    "x_list = []\n",
    "y_list = []\n",
    "z_list = []\n",
    "result_list = []\n",
    "training_supervised_label=[]\n",
    "for index in range(len(training_data)):\n",
    "    h_list = []\n",
    "    for i in range(Agent_number_n):\n",
    "        x_list.append(training_data[index][i][0])\n",
    "        y_list.append(training_data[index][i][1])\n",
    "        h = h_function(training_data[index][i])\n",
    "        z_list.append(float(h))\n",
    "        h_list.append(float(h))\n",
    "    training_supervised_label.append(h_list)\n",
    "    result_list.append(sum(h_list)/training_label[index]) \n",
    "    \n",
    "    \n",
    "print(max(result_list), min(result_list), max(result_list)-min(result_list))"
   ]
  },
  {
   "cell_type": "code",
   "execution_count": 5,
   "metadata": {
    "ExecuteTime": {
     "end_time": "2021-05-27T06:40:52.077431Z",
     "start_time": "2021-05-27T06:40:51.037849Z"
    }
   },
   "outputs": [
    {
     "data": {
      "image/png": "[encoded data removed]",
      "text/plain": [
       "<Figure size 432x288 with 1 Axes>"
      ]
     },
     "metadata": {
      "needs_background": "light"
     },
     "output_type": "display_data"
    }
   ],
   "source": [
    "plt.hist(result_list,bins=500)\n",
    "\n",
    "plt.title(\"Means\", y=1.015, fontsize=20)\n",
    "plt.axvline(x=sum(result_list)/len(result_list), linestyle='--', linewidth=2.5, label=\"sample mean\", c='orange')\n",
    "plt.xlabel(\"samples\", labelpad=14)\n",
    "plt.ylabel(\"frequency of occurence\", labelpad=14)\n",
    "plt.legend();\n",
    "\n",
    "result_list.sort()\n",
    "\n",
    "plt.axvline(x=result_list[int(len(result_list)*0.01)], linestyle='--', linewidth=0.5, label=\"1%\", c='b')\n",
    "plt.axvline(x=result_list[int(len(result_list)*0.99)], linestyle='--', linewidth=0.5, label=\"99%\", c='r')\n",
    "\n",
    "\n",
    "plt.show()"
   ]
  },
  {
   "cell_type": "code",
   "execution_count": 6,
   "metadata": {
    "ExecuteTime": {
     "end_time": "2021-05-27T06:40:52.180849Z",
     "start_time": "2021-05-27T06:40:52.077431Z"
    }
   },
   "outputs": [
    {
     "name": "stdout",
     "output_type": "stream",
     "text": [
      "[[1.3320073  1.35782647 2.05544202 2.20724065]\n",
      " [1.55154118 1.86715971 1.92764314 2.1527255 ]\n",
      " [1.46281001 1.84077211 1.93079403 1.93619396]\n",
      " ...\n",
      " [0.89136956 1.19738402 1.83174777 1.84210343]\n",
      " [0.7863931  0.93030635 1.22492567 1.3449906 ]\n",
      " [0.75       0.95550282 1.14552448 1.21341307]]\n"
     ]
    }
   ],
   "source": [
    "training_supervised_label=np.array(training_supervised_label)\n",
    "print(training_supervised_label)"
   ]
  },
  {
   "cell_type": "code",
   "execution_count": 7,
   "metadata": {
    "ExecuteTime": {
     "end_time": "2021-05-27T06:40:52.191083Z",
     "start_time": "2021-05-27T06:40:52.180849Z"
    }
   },
   "outputs": [
    {
     "name": "stdout",
     "output_type": "stream",
     "text": [
      "cuda:0\n"
     ]
    }
   ],
   "source": [
    "if torch.cuda.is_available():  \n",
    "    dev = \"cuda:0\" \n",
    "else:  \n",
    "    dev = \"cpu\"  \n",
    "\n",
    "print(dev)\n"
   ]
  },
  {
   "cell_type": "code",
   "execution_count": 8,
   "metadata": {
    "ExecuteTime": {
     "end_time": "2021-05-27T06:40:52.222390Z",
     "start_time": "2021-05-27T06:40:52.191083Z"
    },
    "run_control": {
     "marked": true
    }
   },
   "outputs": [],
   "source": [
    "def weight_init(m):\n",
    "    if isinstance(m, torch.nn.Conv2d):\n",
    "        torch.nn.init.xavier_normal_(m.weight)\n",
    "        torch.nn.init.zeros_(m.bias)\n",
    "    elif isinstance(m, torch.nn.Linear):\n",
    "        torch.nn.init.xavier_normal_(m.weight)\n",
    "        torch.nn.init.zeros_(m.bias)\n",
    "\n",
    "\n",
    "class Net(torch.nn.Module):\n",
    "    def __init__(self):\n",
    "\n",
    "        super(Net, self).__init__()\n",
    "\n",
    "        self.input_dim = (Agent_number_n-1)\n",
    "        self.hidden_dim = 200\n",
    "        self.output_dim = 1\n",
    "        self.hidden_layer_count = 5 \n",
    "        \n",
    "        current_dim = self.input_dim\n",
    "        self.layers = torch.nn.ModuleList()\n",
    "        for i in range(self.hidden_layer_count):\n",
    "            self.layers.append(torch.nn.Linear(current_dim, self.hidden_dim))\n",
    "            current_dim = self.hidden_dim\n",
    "        self.layers.append(torch.nn.Linear(current_dim, self.output_dim))\n",
    "\n",
    "    def calculate(self, value_list):\n",
    "        h = value_list\n",
    "        for layer in self.layers:\n",
    "            h = torch.relu(layer(h))\n",
    "        return h\n",
    "\n",
    "    def forward(self, input_list, input_label, label):\n",
    "        global iteration, echo, target_order\n",
    "        loss1 = 0\n",
    "        loss2 = 0\n",
    "        input_list = torch.from_numpy(\n",
    "            np.array(input_list)).cuda().type(torch.float32)\n",
    "        h_list = []\n",
    "\n",
    "        for i in range(Agent_number_n):\n",
    "            h = self.calculate(input_list[i])\n",
    "            h_list.append(h)\n",
    "        input_label = torch.from_numpy(\n",
    "            np.array(input_label)).cuda().type(torch.float32)\n",
    "        sum_h = torch.sum(torch.cat(h_list)).cuda()\n",
    "\n",
    "        loss1 = torch.where((Agent_number_n-1)*input_label > sum_h,\n",
    "                            torch.square(\n",
    "                                ((Agent_number_n-1)*input_label-sum_h)),\n",
    "                            torch.zeros(1).cuda()\n",
    "                            )\n",
    "\n",
    "        loss2 = torch.where((Agent_number_n-Alpha)*input_label < sum_h,\n",
    "                            torch.square(\n",
    "                                (sum_h-(Agent_number_n-Alpha)*input_label)),\n",
    "                            torch.zeros(1).cuda()\n",
    "                            )\n",
    "\n",
    "        return loss1, loss2, h_list"
   ]
  },
  {
   "cell_type": "code",
   "execution_count": 9,
   "metadata": {
    "ExecuteTime": {
     "end_time": "2021-05-27T06:41:01.084989Z",
     "start_time": "2021-05-27T06:40:52.222390Z"
    },
    "run_control": {
     "marked": true
    }
   },
   "outputs": [
    {
     "data": {
      "text/plain": [
       "Net(\n",
       "  (layers): ModuleList(\n",
       "    (0): Linear(in_features=3, out_features=200, bias=True)\n",
       "    (1): Linear(in_features=200, out_features=200, bias=True)\n",
       "    (2): Linear(in_features=200, out_features=200, bias=True)\n",
       "    (3): Linear(in_features=200, out_features=200, bias=True)\n",
       "    (4): Linear(in_features=200, out_features=200, bias=True)\n",
       "    (5): Linear(in_features=200, out_features=1, bias=True)\n",
       "  )\n",
       ")"
      ]
     },
     "execution_count": 9,
     "metadata": {},
     "output_type": "execute_result"
    }
   ],
   "source": [
    "random.seed(2000)\n",
    "torch.manual_seed(256)\n",
    "net  = Net()\n",
    "net.apply(weight_init)\n",
    "\n",
    "net = torch.load(\"save/Deep_learning_4\")\n",
    "net.to(dev)"
   ]
  },
  {
   "cell_type": "code",
   "execution_count": 10,
   "metadata": {
    "ExecuteTime": {
     "end_time": "2021-05-27T06:41:01.100015Z",
     "start_time": "2021-05-27T06:41:01.085987Z"
    }
   },
   "outputs": [],
   "source": [
    "#optimizer = opt.RMSprop(net.parameters(), lr=0.00001)\n",
    "#optimizer = opt.SGD(net.parameters(), lr=0.00005)\n",
    "optimizer = opt.Adam(net.parameters(), lr=0.001)\n",
    "#optimizer = opt.Adadelta(net.parameters(), lr=1.0)\n",
    "batch_size = 64\n",
    "echo = 5"
   ]
  },
  {
   "cell_type": "code",
   "execution_count": null,
   "metadata": {
    "ExecuteTime": {
     "start_time": "2021-05-27T06:40:21.722Z"
    }
   },
   "outputs": [
    {
     "name": "stdout",
     "output_type": "stream",
     "text": [
      "3024 tensor([38.8846], device='cuda:0', grad_fn=<DivBackward0>) 2488.612060546875 0.0\n",
      "4347 tensor([41.6017], device='cuda:0', grad_fn=<DivBackward0>) 2662.5078125 0.0\n",
      "8883 tensor([41.7644], device='cuda:0', grad_fn=<DivBackward0>) 2672.9228515625 0.0\n",
      "13104 tensor([43.3099], device='cuda:0', grad_fn=<DivBackward0>) 2771.83203125 0.0\n",
      "16128 tensor([38.3283], device='cuda:0', grad_fn=<DivBackward0>) 2453.010498046875 0.0\n",
      "25011 tensor([38.4364], device='cuda:0', grad_fn=<DivBackward0>) 2459.93115234375 0.0\n",
      "35091 tensor([41.1407], device='cuda:0', grad_fn=<DivBackward0>) 2633.004638671875 0.0\n",
      "36351 tensor([37.3677], device='cuda:0', grad_fn=<DivBackward0>) 2391.5341796875 0.0\n",
      "36666 tensor([34.5663], device='cuda:0', grad_fn=<DivBackward0>) 2212.240478515625 0.0\n",
      "56007 tensor([41.7706], device='cuda:0', grad_fn=<DivBackward0>) 2673.31884765625 0.0\n",
      "68103 tensor([38.1845], device='cuda:0', grad_fn=<DivBackward0>) 2443.80859375 0.0\n",
      "68166 tensor([38.8375], device='cuda:0', grad_fn=<DivBackward0>) 2485.602783203125 0.0\n",
      "80010 tensor([42.3193], device='cuda:0', grad_fn=<DivBackward0>) 2708.4326171875 0.0\n",
      "82026 tensor([37.3520], device='cuda:0', grad_fn=<DivBackward0>) 2390.52490234375 0.0\n",
      "85680 tensor([44.7295], device='cuda:0', grad_fn=<DivBackward0>) 2862.6875 0.0\n",
      "85869 tensor([34.6772], device='cuda:0', grad_fn=<DivBackward0>) 2219.340576171875 0.0\n",
      "94878 tensor([42.0867], device='cuda:0', grad_fn=<DivBackward0>) 2693.548583984375 0.0\n",
      "batch iteration 0\n",
      "batch_loss: 39.79 \n",
      "\n",
      "\n",
      "4032 tensor([38.6482], device='cuda:0', grad_fn=<DivBackward0>) 2473.483154296875 0.0\n",
      "7371 tensor([37.3346], device='cuda:0', grad_fn=<DivBackward0>) 2389.416259765625 0.0\n",
      "9450 tensor([36.7355], device='cuda:0', grad_fn=<DivBackward0>) 2351.07177734375 0.0\n",
      "15687 tensor([38.2736], device='cuda:0', grad_fn=<DivBackward0>) 2449.50927734375 0.0\n",
      "17451 tensor([38.3114], device='cuda:0', grad_fn=<DivBackward0>) 2451.930419921875 0.0\n",
      "23247 tensor([39.2760], device='cuda:0', grad_fn=<DivBackward0>) 2513.660888671875 0.0\n",
      "28287 tensor([36.9907], device='cuda:0', grad_fn=<DivBackward0>) 2367.4052734375 0.0\n",
      "37926 tensor([43.8425], device='cuda:0', grad_fn=<DivBackward0>) 2805.91748046875 0.0\n",
      "45045 tensor([40.0551], device='cuda:0', grad_fn=<DivBackward0>) 2563.5234375 0.0\n",
      "50715 tensor([38.7706], device='cuda:0', grad_fn=<DivBackward0>) 2481.31591796875 0.0\n",
      "61866 tensor([38.4546], device='cuda:0', grad_fn=<DivBackward0>) 2461.0966796875 0.0\n",
      "71442 tensor([40.7264], device='cuda:0', grad_fn=<DivBackward0>) 2606.488037109375 0.0\n",
      "86310 tensor([41.7894], device='cuda:0', grad_fn=<DivBackward0>) 2674.52099609375 0.0\n"
     ]
    }
   ],
   "source": [
    "for iteration in range(int(echo)):\n",
    "    # offender_types = []\n",
    "    # defender_types = []\n",
    "    \n",
    "    \n",
    "    X_train_list = []\n",
    "    temp_number = 0\n",
    "    total_batch_loss = 0 \n",
    "    while(temp_number<len(training_data)-1):\n",
    "        \n",
    "        loss2_list = []\n",
    "        loss1_sum = 0\n",
    "        loss2_sum = 0\n",
    "        denominator = 0\n",
    "        for index in range(temp_number, min(batch_size+temp_number,len(training_data))):\n",
    "            h_loss1,h_loss2,h_list = net(training_data[index],training_label[index],0)\n",
    "            denominator += 1\n",
    "            loss1_sum += h_loss1\n",
    "            loss2_sum += h_loss2\n",
    "            \n",
    "        loss_sum = loss1_sum + loss2_sum\n",
    "        loss = (loss_sum) / denominator \n",
    "        total_batch_loss +=float(loss_sum)\n",
    "        optimizer.zero_grad()\n",
    "        \n",
    "        loss.backward()\n",
    "        \n",
    "        optimizer.step()\n",
    "        \n",
    "        temp_number = index\n",
    "        \n",
    "        if(random.random()<=0.01):\n",
    "            print(temp_number,loss,float(loss1_sum),float(loss2_sum))\n",
    "\n",
    "\n",
    "    print(\"batch iteration\", iteration)\n",
    "    print(\"batch_loss: %.2f \" % (total_batch_loss/len(training_data)))\n",
    "    \n",
    "    print()\n",
    "    print()"
   ]
  },
  {
   "cell_type": "code",
   "execution_count": null,
   "metadata": {
    "ExecuteTime": {
     "start_time": "2021-05-27T06:40:21.725Z"
    }
   },
   "outputs": [],
   "source": [
    "torch.save(net, \"save/Deep_learning_4\")"
   ]
  },
  {
   "cell_type": "code",
   "execution_count": null,
   "metadata": {
    "ExecuteTime": {
     "start_time": "2021-05-27T06:40:21.727Z"
    }
   },
   "outputs": [],
   "source": [
    "denominator = 0\n",
    "result_list = []\n",
    "for index in range(len(testing_data)):\n",
    "    h_list = []\n",
    "    for i in range(Agent_number_n):\n",
    "        h = net.calculate(torch.tensor(testing_data[index][i]).cuda().type(torch.float32))\n",
    "        h_list.append(float(h))\n",
    "    \n",
    "    #print(sum(h_list),h_list,sum(h_list)/testing_label[index])\n",
    "    result_list.append(sum(h_list)/testing_label[index])\n",
    "    \n",
    "\n",
    "print(max(result_list),min(result_list),max(result_list)-min(result_list))"
   ]
  },
  {
   "cell_type": "code",
   "execution_count": null,
   "metadata": {
    "ExecuteTime": {
     "start_time": "2021-05-27T06:40:21.730Z"
    }
   },
   "outputs": [],
   "source": [
    "plt.hist(result_list,bins=500)\n",
    "\n",
    "plt.title(\"Means\", y=1.015, fontsize=20)\n",
    "plt.axvline(x=sum(result_list)/len(result_list), linestyle='--', linewidth=2.5, label=\"sample mean\", c='orange')\n",
    "plt.xlabel(\"samples\", labelpad=14)\n",
    "plt.ylabel(\"frequency of occurence\", labelpad=14)\n",
    "plt.legend();\n",
    "\n",
    "result_list.sort()\n",
    "\n",
    "plt.axvline(x=result_list[int(len(result_list)*0.01)], linestyle='--', linewidth=0.5, label=\"1%\", c='b')\n",
    "plt.axvline(x=result_list[int(len(result_list)*0.99)], linestyle='--', linewidth=0.5, label=\"99%\", c='r')\n",
    "\n",
    "\n",
    "plt.show()"
   ]
  },
  {
   "cell_type": "code",
   "execution_count": null,
   "metadata": {},
   "outputs": [],
   "source": [
    "import sys\n",
    "sys.executable"
   ]
  },
  {
   "cell_type": "code",
   "execution_count": null,
   "metadata": {},
   "outputs": [],
   "source": [
    "import os\n",
    "import sklearn\n",
    "from sklearn.tree import DecisionTreeClassifier, DecisionTreeRegressor\n",
    "import xgboost as xgb\n",
    "from xgboost import plot_importance, plot_tree, plotting\n",
    "\n",
    "from dtreeviz import trees \n",
    "\n",
    "import graphviz\n",
    "import matplotlib.pyplot as plt\n",
    "from matplotlib.pylab import rcParams\n",
    "\n",
    "import pandas as pd\n",
    "import numpy as np\n",
    "from dtreeviz.models.shadow_decision_tree import ShadowDecTree\n",
    "from dtreeviz.models.xgb_decision_tree import ShadowXGBDTree"
   ]
  },
  {
   "cell_type": "code",
   "execution_count": null,
   "metadata": {},
   "outputs": [],
   "source": []
  }
 ],
 "metadata": {
  "hide_input": false,
  "kernelspec": {
   "display_name": "Python 3",
   "language": "python",
   "name": "python3"
  },
  "language_info": {
   "codemirror_mode": {
    "name": "ipython",
    "version": 3
   },
   "file_extension": ".py",
   "mimetype": "text/x-python",
   "name": "python",
   "nbconvert_exporter": "python",
   "pygments_lexer": "ipython3",
   "version": "3.8.3"
  },
  "varInspector": {
   "cols": {
    "lenName": 16,
    "lenType": 16,
    "lenVar": 40
   },
   "kernels_config": {
    "python": {
     "delete_cmd_postfix": "",
     "delete_cmd_prefix": "del ",
     "library": "var_list.py",
     "varRefreshCmd": "print(var_dic_list())"
    },
    "r": {
     "delete_cmd_postfix": ") ",
     "delete_cmd_prefix": "rm(",
     "library": "var_list.r",
     "varRefreshCmd": "cat(var_dic_list()) "
    }
   },
   "types_to_exclude": [
    "module",
    "function",
    "builtin_function_or_method",
    "instance",
    "_Feature"
   ],
   "window_display": false
  }
 },
 "nbformat": 4,
 "nbformat_minor": 4
}
