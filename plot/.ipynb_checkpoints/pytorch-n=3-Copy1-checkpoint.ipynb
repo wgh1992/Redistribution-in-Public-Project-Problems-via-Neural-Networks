{
 "cells": [
  {
   "cell_type": "code",
   "execution_count": 1,
   "metadata": {
    "ExecuteTime": {
     "end_time": "2021-06-02T05:04:55.882488Z",
     "start_time": "2021-06-02T05:04:54.210364Z"
    }
   },
   "outputs": [
    {
     "name": "stdout",
     "output_type": "stream",
     "text": [
      "pygame 2.0.1 (SDL 2.0.14, Python 3.8.3)\n",
      "Hello from the pygame community. https://www.pygame.org/contribute.html\n"
     ]
    },
    {
     "name": "stderr",
     "output_type": "stream",
     "text": [
      "D:\\ComputerSoftwares\\Anaconda\\lib\\site-packages\\sklearn\\utils\\deprecation.py:143: FutureWarning: The sklearn.datasets.samples_generator module is  deprecated in version 0.22 and will be removed in version 0.24. The corresponding classes / functions should instead be imported from sklearn.datasets. Anything that cannot be imported from sklearn.datasets is now part of the private API.\n",
      "  warnings.warn(message, FutureWarning)\n"
     ]
    },
    {
     "name": "stdout",
     "output_type": "stream",
     "text": [
      "cuda:0\n"
     ]
    }
   ],
   "source": [
    "\n",
    "import pygame\n",
    "import random\n",
    "import os\n",
    "import time\n",
    "import numpy as np\n",
    "import math\n",
    "import torch\n",
    "import torch.nn.functional\n",
    "import matplotlib.pyplot as plt\n",
    "import torch.optim as opt\n",
    "from torch.autograd import Variable\n",
    "from sklearn.model_selection import train_test_split\n",
    "\n",
    "import scipy.stats as st\n",
    "from sklearn.datasets.samples_generator import make_blobs\n",
    "from matplotlib.colors import LogNorm \n",
    "import matplotlib.cm as cm\n",
    "import torch.nn as nn\n",
    "import numpy as np\n",
    "import matplotlib.pyplot as plt\n",
    "import plotly.graph_objects as go\n",
    "import plotly.express as px\n",
    "from scipy.interpolate import griddata\n",
    "if torch.cuda.is_available():  \n",
    "    dev = \"cuda:0\" \n",
    "else:  \n",
    "    dev = \"cpu\"  \n",
    "\n",
    "print(dev)\n",
    "\n"
   ]
  },
  {
   "cell_type": "code",
   "execution_count": 2,
   "metadata": {
    "ExecuteTime": {
     "end_time": "2021-06-02T05:04:55.898597Z",
     "start_time": "2021-06-02T05:04:55.883449Z"
    },
    "run_control": {
     "marked": true
    }
   },
   "outputs": [],
   "source": [
    "global temp_list\n",
    "temp_list = []\n",
    "Agent_number_n=3;\n",
    "Alpha = 0.666 "
   ]
  },
  {
   "cell_type": "code",
   "execution_count": 3,
   "metadata": {
    "ExecuteTime": {
     "end_time": "2021-06-02T05:04:57.164142Z",
     "start_time": "2021-06-02T05:04:55.899594Z"
    }
   },
   "outputs": [
    {
     "name": "stdout",
     "output_type": "stream",
     "text": [
      "[[[0.77711897 0.505733  ]\n",
      "  [0.8476354  0.505733  ]\n",
      "  [0.8476354  0.77711897]]\n",
      "\n",
      " [[0.50065067 0.03749318]\n",
      "  [0.64872335 0.03749318]\n",
      "  [0.64872335 0.50065067]]\n",
      "\n",
      " [[0.43501688 0.2464076 ]\n",
      "  [0.71563102 0.2464076 ]\n",
      "  [0.71563102 0.43501688]]\n",
      "\n",
      " ...\n",
      "\n",
      " [[0.61836502 0.33952311]\n",
      "  [0.97596444 0.33952311]\n",
      "  [0.97596444 0.61836502]]\n",
      "\n",
      " [[0.57967241 0.14324657]\n",
      "  [0.8758235  0.14324657]\n",
      "  [0.8758235  0.57967241]]\n",
      "\n",
      " [[0.47435642 0.10201179]\n",
      "  [0.60417164 0.10201179]\n",
      "  [0.60417164 0.47435642]]]\n",
      "[[[0.77205252 0.35691064]\n",
      "  [0.83011649 0.35691064]\n",
      "  [0.83011649 0.77205252]]\n",
      "\n",
      " [[0.38908492 0.17219621]\n",
      "  [0.85072355 0.17219621]\n",
      "  [0.85072355 0.38908492]]\n",
      "\n",
      " [[0.44399861 0.28457411]\n",
      "  [0.84766134 0.28457411]\n",
      "  [0.84766134 0.44399861]]\n",
      "\n",
      " ...\n",
      "\n",
      " [[0.75137733 0.58170835]\n",
      "  [0.99837198 0.58170835]\n",
      "  [0.99837198 0.75137733]]\n",
      "\n",
      " [[0.3181774  0.2325234 ]\n",
      "  [0.36511974 0.2325234 ]\n",
      "  [0.36511974 0.3181774 ]]\n",
      "\n",
      " [[0.58806902 0.33265439]\n",
      "  [0.94514107 0.33265439]\n",
      "  [0.94514107 0.58806902]]]\n",
      "[2.13048737 1.18686721 1.3970555  ... 1.93385257 1.59874248 1.18053985]\n",
      "[1.95907964 1.41200468 1.57623407 ... 2.33145766 1.         1.86586448]\n"
     ]
    }
   ],
   "source": [
    "def appen(_x_list,y):\n",
    "    global temp_list\n",
    "    temp_list.append(_x_list)\n",
    "    \n",
    "def appen_train(x_list):\n",
    "    global temp_list\n",
    "                \n",
    "    S= max(sum(x_list),1.0);\n",
    "    temp_list = []\n",
    "    \n",
    "    for i in range(Agent_number_n):\n",
    "        temp = []\n",
    "        for j in range(Agent_number_n):\n",
    "            if(i!=j):\n",
    "                temp.append(x_list[j])\n",
    "        appen(temp,S)\n",
    "    \n",
    "    training_data.append(temp_list)\n",
    "    training_label.append(S)\n",
    "    \n",
    "\n",
    "def read_training_data():\n",
    "    for i in range(100000):\n",
    "        appen_train(sorted(np.random.rand(Agent_number_n), reverse=True));\n",
    "\n",
    "training_data=[]\n",
    "training_label=[]\n",
    "S=1.0\n",
    "read_training_data();\n",
    "\n",
    "def appen_test(x_list):\n",
    "    global temp_list\n",
    "                \n",
    "    S= max(sum(x_list),1.0);\n",
    "    temp_list = []\n",
    "    \n",
    "    for i in range(Agent_number_n):\n",
    "        temp = []\n",
    "        for j in range(Agent_number_n):\n",
    "            if(i!=j):\n",
    "                temp.append(x_list[j])\n",
    "        appen(temp,S)\n",
    "    testing_data.append(temp_list)\n",
    "    testing_label.append(S)\n",
    "    \n",
    "\n",
    "def read_testing_data():\n",
    "    for i in range(10000):\n",
    "        appen_test(sorted(np.random.rand(Agent_number_n), reverse=True));\n",
    "                            \n",
    "\n",
    "testing_data=[]\n",
    "testing_label=[]\n",
    "S=1.0\n",
    "read_testing_data();\n",
    "\n",
    "training_data=np.array(training_data)\n",
    "training_label=np.array(training_label)\n",
    "testing_data=np.array(testing_data)\n",
    "testing_label=np.array(testing_label)\n",
    "print(training_data)\n",
    "print(testing_data)\n",
    "print(training_label)\n",
    "print(testing_label)"
   ]
  },
  {
   "cell_type": "code",
   "execution_count": 4,
   "metadata": {
    "ExecuteTime": {
     "end_time": "2021-06-02T05:05:04.036097Z",
     "start_time": "2021-06-02T05:04:57.165139Z"
    }
   },
   "outputs": [
    {
     "name": "stdout",
     "output_type": "stream",
     "text": [
      "2.333254488981219 2.0 0.3332544889812188 2.1019314184069193\n"
     ]
    }
   ],
   "source": [
    "def h_3_star(a, b, t):\n",
    "    return a - min(a, t) + b - min(b, t) + max(min(a, t)+min(b, t), 2*t/3) + 1/2 * max(min(a, t)+min(b, t), t) - 1/2 * max(max(min(a, t), min(b, t)), 2*t/3) - t/6\n",
    "\n",
    "\n",
    "def f_function(a, b, z):\n",
    "    if(z >= 1):\n",
    "        return (a+b)/2 + z/3\n",
    "    else:\n",
    "        return z/3 + h_3_star(a, b, 1-z)/2\n",
    "\n",
    "def h_function(input_list):\n",
    "    #input_list = sorted(input_list)\n",
    "    g_list = []\n",
    "    for j1 in range(len(input_list) ):\n",
    "        for j2 in range(len(input_list)):\n",
    "            if(j1 != j2):\n",
    "                a = input_list[j1]\n",
    "                b = input_list[j2]\n",
    "                z = sum(input_list)- a-b\n",
    "\n",
    "                g_list.append( f_function(a, b, z) * (Agent_number_n-1))\n",
    "    h = sum(g_list) * 3 /  (Agent_number_n) /  (Agent_number_n-1) /  (Agent_number_n - 2)\n",
    "    return h\n",
    "                \n",
    "                \n",
    "x_list = []\n",
    "y_list = []\n",
    "z_list = []\n",
    "result_list = []\n",
    "training_supervised_label=[]\n",
    "for index in range(len(training_data)):\n",
    "    h_list = []\n",
    "    for i in range(Agent_number_n):\n",
    "        x_list.append(training_data[index][i][0])\n",
    "        y_list.append(training_data[index][i][1])\n",
    "        h = h_function(training_data[index][i])\n",
    "        z_list.append(float(h))\n",
    "        h_list.append(float(h))\n",
    "    training_supervised_label.append(h_list)\n",
    "    result_list.append(sum(h_list)/training_label[index]) \n",
    "    \n",
    "    \n",
    "print(max(result_list), min(result_list), max(result_list)-min(result_list),sum(result_list)/len(result_list))"
   ]
  },
  {
   "cell_type": "code",
   "execution_count": 5,
   "metadata": {
    "ExecuteTime": {
     "end_time": "2021-06-02T05:05:05.055425Z",
     "start_time": "2021-06-02T05:05:04.037975Z"
    }
   },
   "outputs": [
    {
     "data": {
      "image/png": "[encoded data removed]",
      "text/plain": [
       "<Figure size 432x288 with 1 Axes>"
      ]
     },
     "metadata": {
      "needs_background": "light"
     },
     "output_type": "display_data"
    }
   ],
   "source": [
    "plt.hist(result_list,bins=500)\n",
    "\n",
    "plt.title(\"Means\", y=1.015, fontsize=20)\n",
    "plt.axvline(x=sum(result_list)/len(result_list), linestyle='--', linewidth=2.5, label=\"sample mean\", c='orange')\n",
    "plt.xlabel(\"samples\", labelpad=14)\n",
    "plt.ylabel(\"frequency of occurence\", labelpad=14)\n",
    "plt.legend();\n",
    "\n",
    "result_list.sort()\n",
    "\n",
    "plt.axvline(x=result_list[int(len(result_list)*0.01)], linestyle='--', linewidth=0.5, label=\"1%\", c='b')\n",
    "plt.axvline(x=result_list[int(len(result_list)*0.99)], linestyle='--', linewidth=0.5, label=\"99%\", c='r')\n",
    "\n",
    "\n",
    "plt.show()"
   ]
  },
  {
   "cell_type": "code",
   "execution_count": 6,
   "metadata": {
    "ExecuteTime": {
     "end_time": "2021-06-02T05:05:05.150580Z",
     "start_time": "2021-06-02T05:05:05.056419Z"
    }
   },
   "outputs": [
    {
     "name": "stdout",
     "output_type": "stream",
     "text": [
      "[[1.3690518  1.43956824 1.84664719]\n",
      " [0.66666667 0.68621653 1.22406104]\n",
      " [0.68142448 0.93755645 1.20148967]\n",
      " ...\n",
      " [0.95788813 1.31858244 1.73684531]\n",
      " [0.72291898 0.92402669 1.57866545]\n",
      " [0.66666667 0.70618343 1.11779208]]\n"
     ]
    }
   ],
   "source": [
    "training_supervised_label=np.array(training_supervised_label)\n",
    "print(training_supervised_label)"
   ]
  },
  {
   "cell_type": "code",
   "execution_count": 7,
   "metadata": {
    "ExecuteTime": {
     "end_time": "2021-06-02T05:05:05.166538Z",
     "start_time": "2021-06-02T05:05:05.152554Z"
    }
   },
   "outputs": [
    {
     "name": "stdout",
     "output_type": "stream",
     "text": [
      "cuda:0\n"
     ]
    }
   ],
   "source": [
    "if torch.cuda.is_available():  \n",
    "    dev = \"cuda:0\" \n",
    "else:  \n",
    "    dev = \"cpu\"  \n",
    "\n",
    "print(dev)\n"
   ]
  },
  {
   "cell_type": "code",
   "execution_count": 8,
   "metadata": {
    "ExecuteTime": {
     "end_time": "2021-06-02T05:05:05.197645Z",
     "start_time": "2021-06-02T05:05:05.167534Z"
    },
    "run_control": {
     "marked": true
    }
   },
   "outputs": [],
   "source": [
    "def weight_init(m):\n",
    "    if isinstance(m, torch.nn.Conv2d):\n",
    "        torch.nn.init.xavier_normal_(m.weight)\n",
    "        torch.nn.init.zeros_(m.bias)\n",
    "    elif isinstance(m, torch.nn.Linear):\n",
    "        torch.nn.init.normal_(m.weight, mean=0.0,std =0.2)\n",
    "        torch.nn.init.normal_(m.bias, mean=0.0,std =0.01)\n",
    "\n",
    "def h_function_2(input_list):\n",
    "    h = 3*input_list[1] + 1/2*sum(input_list) + 1.5\n",
    "    return h   \n",
    "\n",
    "class Net(torch.nn.Module):\n",
    "    def __init__(self):\n",
    "\n",
    "        super(Net, self).__init__()\n",
    "        \n",
    "        self.input_dim = Agent_number_n-1\n",
    "        self.hidden_dim = 100\n",
    "        self.output_dim_2 = 2\n",
    "        self.output_dim = 1\n",
    "        self.hidden_layer_count = 7 \n",
    "        \n",
    "        current_dim = self.input_dim\n",
    "        self.layers = torch.nn.ModuleList()\n",
    "        for i in range(self.hidden_layer_count):\n",
    "            self.layers.append(torch.nn.Linear(current_dim, self.hidden_dim))\n",
    "            current_dim = self.hidden_dim\n",
    "        self.layers.append(torch.nn.Linear(current_dim, self.output_dim_2))\n",
    "        self.layers.append(torch.nn.Linear(self.output_dim_2, self.output_dim))\n",
    "\n",
    "    def calculate(self, value_list):\n",
    "        h = value_list\n",
    "        for layer in self.layers:\n",
    "            h = torch.relu(layer(h))\n",
    "        return h\n",
    "    \n",
    "    def calculate_2(self, value_list):\n",
    "        h = value_list\n",
    "        for layer in self.layers[:-2]:\n",
    "            h = torch.relu(layer(h))\n",
    "        h2 = torch.relu(self.layers[len(self.layers)-2](h))\n",
    "        h1 = torch.relu(self.layers[len(self.layers)-1](h2))\n",
    "        return h1,h2\n",
    "\n",
    "    def forward(self, input_list,input_label,label):\n",
    "        global iteration,echo,target_order\n",
    "        loss1 = 0\n",
    "        loss2 = 0\n",
    "        loss3 = 0\n",
    "        input_list = torch.from_numpy(\n",
    "            np.array(input_list)).cuda().type(torch.float32)\n",
    "        h_list = []\n",
    "\n",
    "        for i in range(Agent_number_n):\n",
    "            h,h2 = self.calculate_2(input_list[i])\n",
    "            h_list.append(h)\n",
    "            loss3 += torch.square(h_function_2(input_list)-h2[1])\n",
    "            \n",
    "        input_label = torch.from_numpy(\n",
    "            np.array(input_label)).cuda().type(torch.float32)\n",
    "        sum_h = torch.sum(torch.cat(h_list)).cuda()\n",
    "\n",
    "\n",
    "        loss1 = torch.where((Agent_number_n-1)*input_label>sum_h,\n",
    "                        torch.square(((Agent_number_n-1)*input_label-sum_h)),\n",
    "                        torch.zeros(1).cuda()\n",
    "                      )\n",
    "\n",
    "        loss2 = torch.where((Agent_number_n-Alpha)*input_label<sum_h,\n",
    "                        torch.square((sum_h-(Agent_number_n-Alpha)*input_label))/100,\n",
    "                        torch.zeros(1).cuda()\n",
    "                      )\n",
    "        \n",
    "#         loss1 = torch.relu(((Agent_number_n-1)*input_label-sum_h))\n",
    "\n",
    "#         loss2 = torch.relu((sum_h-(Agent_number_n-Alpha)*input_label))/10000\n",
    "\n",
    "        return loss1,loss2+torch.sum(loss3),h_list"
   ]
  },
  {
   "cell_type": "code",
   "execution_count": 9,
   "metadata": {
    "ExecuteTime": {
     "end_time": "2021-06-02T05:05:06.294432Z",
     "start_time": "2021-06-02T05:05:05.201632Z"
    }
   },
   "outputs": [
    {
     "data": {
      "text/plain": [
       "Net(\n",
       "  (layers): ModuleList(\n",
       "    (0): Linear(in_features=2, out_features=100, bias=True)\n",
       "    (1): Linear(in_features=100, out_features=100, bias=True)\n",
       "    (2): Linear(in_features=100, out_features=100, bias=True)\n",
       "    (3): Linear(in_features=100, out_features=100, bias=True)\n",
       "    (4): Linear(in_features=100, out_features=100, bias=True)\n",
       "    (5): Linear(in_features=100, out_features=100, bias=True)\n",
       "    (6): Linear(in_features=100, out_features=100, bias=True)\n",
       "    (7): Linear(in_features=100, out_features=2, bias=True)\n",
       "    (8): Linear(in_features=2, out_features=1, bias=True)\n",
       "  )\n",
       ")"
      ]
     },
     "execution_count": 9,
     "metadata": {},
     "output_type": "execute_result"
    }
   ],
   "source": [
    "random.seed(2000)\n",
    "torch.manual_seed(256)\n",
    "net  = Net()\n",
    "net.apply(weight_init)\n",
    "\n",
    "net = torch.load(\"save/Deep_learning_3_1\")\n",
    "net.to(dev)"
   ]
  },
  {
   "cell_type": "code",
   "execution_count": 10,
   "metadata": {
    "ExecuteTime": {
     "end_time": "2021-06-02T05:05:06.309694Z",
     "start_time": "2021-06-02T05:05:06.295430Z"
    }
   },
   "outputs": [],
   "source": [
    "#optimizer = opt.RMSprop(net.parameters(), lr=0.00001)\n",
    "#optimizer = opt.SGD(net.parameters(), lr=0.00005)\n",
    "optimizer = opt.Adam(net.parameters(), lr=0.0001)\n",
    "#optimizer = opt.Adadelta(net.parameters(), lr=1.0)\n",
    "batch_size = 64\n",
    "echo = 1"
   ]
  },
  {
   "cell_type": "code",
   "execution_count": 11,
   "metadata": {
    "ExecuteTime": {
     "end_time": "2021-06-02T05:05:07.389617Z",
     "start_time": "2021-06-02T05:05:06.310647Z"
    }
   },
   "outputs": [
    {
     "ename": "ValueError",
     "evalue": "only one element tensors can be converted to Python scalars",
     "output_type": "error",
     "traceback": [
      "\u001b[1;31m---------------------------------------------------------------------------\u001b[0m",
      "\u001b[1;31mValueError\u001b[0m                                Traceback (most recent call last)",
      "\u001b[1;32m<ipython-input-11-5b25d34eac97>\u001b[0m in \u001b[0;36m<module>\u001b[1;34m\u001b[0m\n\u001b[0;32m     21\u001b[0m         \u001b[0mloss_sum\u001b[0m \u001b[1;33m=\u001b[0m \u001b[0mloss1_sum\u001b[0m \u001b[1;33m+\u001b[0m \u001b[0mloss2_sum\u001b[0m\u001b[1;33m\u001b[0m\u001b[1;33m\u001b[0m\u001b[0m\n\u001b[0;32m     22\u001b[0m         \u001b[0mloss\u001b[0m \u001b[1;33m=\u001b[0m \u001b[1;33m(\u001b[0m\u001b[0mloss_sum\u001b[0m\u001b[1;33m)\u001b[0m \u001b[1;33m/\u001b[0m \u001b[0mdenominator\u001b[0m\u001b[1;33m\u001b[0m\u001b[1;33m\u001b[0m\u001b[0m\n\u001b[1;32m---> 23\u001b[1;33m         \u001b[0mtotal_batch_loss\u001b[0m \u001b[1;33m+=\u001b[0m\u001b[0mfloat\u001b[0m\u001b[1;33m(\u001b[0m\u001b[0mloss_sum\u001b[0m\u001b[1;33m)\u001b[0m\u001b[1;33m\u001b[0m\u001b[1;33m\u001b[0m\u001b[0m\n\u001b[0m\u001b[0;32m     24\u001b[0m         \u001b[0moptimizer\u001b[0m\u001b[1;33m.\u001b[0m\u001b[0mzero_grad\u001b[0m\u001b[1;33m(\u001b[0m\u001b[1;33m)\u001b[0m\u001b[1;33m\u001b[0m\u001b[1;33m\u001b[0m\u001b[0m\n\u001b[0;32m     25\u001b[0m \u001b[1;33m\u001b[0m\u001b[0m\n",
      "\u001b[1;31mValueError\u001b[0m: only one element tensors can be converted to Python scalars"
     ]
    }
   ],
   "source": [
    "for iteration in range(int(echo)):\n",
    "    # offender_types = []\n",
    "    # defender_types = []\n",
    "    \n",
    "    \n",
    "    X_train_list = []\n",
    "    temp_number = 0\n",
    "    total_batch_loss = 0 \n",
    "    while(temp_number<len(training_data)-1):\n",
    "        \n",
    "        loss2_list = []\n",
    "        loss1_sum = 0\n",
    "        loss2_sum = 0\n",
    "        denominator = 0\n",
    "        for index in range(temp_number, min(batch_size+temp_number,len(training_data))):\n",
    "            h_loss1,h_loss2,h_list = net(training_data[index],training_label[index],0)\n",
    "            denominator += 1\n",
    "            loss1_sum += h_loss1\n",
    "            loss2_sum += h_loss2\n",
    "            \n",
    "        loss_sum = loss1_sum + loss2_sum\n",
    "        loss = (loss_sum) / denominator \n",
    "        total_batch_loss +=float(loss_sum)\n",
    "        optimizer.zero_grad()\n",
    "        \n",
    "        loss.backward()\n",
    "        \n",
    "        optimizer.step()\n",
    "        \n",
    "        temp_number = index\n",
    "        \n",
    "        if(random.random()<=0.01):\n",
    "            print(temp_number,loss,float(loss1_sum),float(loss2_sum))\n",
    "\n",
    "\n",
    "    print(\"batch iteration\", iteration)\n",
    "    print(\"batch_loss: %.2f \" % (total_batch_loss/len(training_data)))\n",
    "    \n",
    "    print()\n",
    "    print()"
   ]
  },
  {
   "cell_type": "code",
   "execution_count": null,
   "metadata": {
    "ExecuteTime": {
     "end_time": "2021-06-02T05:05:07.392610Z",
     "start_time": "2021-06-02T05:04:54.188Z"
    }
   },
   "outputs": [],
   "source": [
    "torch.save(net, \"save/Deep_learning_3_2\")"
   ]
  },
  {
   "cell_type": "code",
   "execution_count": null,
   "metadata": {
    "ExecuteTime": {
     "end_time": "2021-06-02T05:05:07.393606Z",
     "start_time": "2021-06-02T05:04:54.189Z"
    }
   },
   "outputs": [],
   "source": [
    "denominator = 0\n",
    "result_list = []\n",
    "for index in range(len(testing_data)):\n",
    "    h_list = []\n",
    "    for i in range(Agent_number_n):\n",
    "        h = net.calculate(torch.tensor(testing_data[index][i]).cuda().type(torch.float32))\n",
    "        h_list.append(float(h))\n",
    "    \n",
    "    #print(sum(h_list),h_list,sum(h_list)/testing_label[index])\n",
    "    result_list.append(sum(h_list)/testing_label[index])\n",
    "    \n",
    "\n",
    "print(max(result_list),min(result_list),max(result_list)-min(result_list),sum(result_list)/len(result_list))"
   ]
  },
  {
   "cell_type": "code",
   "execution_count": null,
   "metadata": {
    "ExecuteTime": {
     "end_time": "2021-06-02T05:05:07.394603Z",
     "start_time": "2021-06-02T05:04:54.190Z"
    }
   },
   "outputs": [],
   "source": [
    "plt.hist(result_list,bins=500)\n",
    "\n",
    "plt.title(\"Means\", y=1.015, fontsize=20)\n",
    "plt.axvline(x=sum(result_list)/len(result_list), linestyle='--', linewidth=2.5, label=\"sample mean\", c='orange')\n",
    "plt.xlabel(\"samples\", labelpad=14)\n",
    "plt.ylabel(\"frequency of occurence\", labelpad=14)\n",
    "plt.legend();\n",
    "\n",
    "result_list.sort()\n",
    "\n",
    "plt.axvline(x=result_list[int(len(result_list)*0.01)], linestyle='--', linewidth=0.5, label=\"1%\", c='b')\n",
    "plt.axvline(x=result_list[int(len(result_list)*0.99)], linestyle='--', linewidth=0.5, label=\"99%\", c='r')\n",
    "\n",
    "\n",
    "plt.show()"
   ]
  },
  {
   "cell_type": "code",
   "execution_count": null,
   "metadata": {
    "ExecuteTime": {
     "end_time": "2021-06-02T05:05:07.395601Z",
     "start_time": "2021-06-02T05:04:54.192Z"
    }
   },
   "outputs": [],
   "source": [
    "\n",
    "# Create the figure\n",
    "fig = plt.figure()\n",
    "ax = fig.add_subplot(111, projection='3d')\n",
    "# Generate the values\n",
    "x_vals = []\n",
    "y_vals = []\n",
    "z_vals = []\n",
    "x_ = np.linspace(0.0,1.0,101)\n",
    "y_ = np.linspace(0.0,1.0,101)\n",
    "\n",
    "result_list = []\n",
    "for i in range(len(x_)):\n",
    "    for j in range(0,i):\n",
    "        h = net.calculate(torch.tensor([x_[i],y_[j]]).cuda().type(torch.float32))\n",
    "        x_vals.append(x_[i])\n",
    "        y_vals.append(y_[j])\n",
    "        z_vals.append(float(h))\n",
    "\n",
    "\n",
    "# Plot the values\n",
    "ax.scatter(x_vals, y_vals, z_vals, c = 'b', marker='o')\n",
    "\n",
    "\n",
    "ax.set_xlabel('X-axis')\n",
    "ax.set_ylabel('Y-axis')\n",
    "ax.set_zlabel('Z-axis')\n",
    "\n",
    "\n",
    "\n",
    "plt.show()"
   ]
  },
  {
   "cell_type": "code",
   "execution_count": null,
   "metadata": {
    "ExecuteTime": {
     "end_time": "2021-06-02T05:05:07.396598Z",
     "start_time": "2021-06-02T05:04:54.194Z"
    }
   },
   "outputs": [],
   "source": [
    "fig = px.scatter_3d(z=z_vals, x=x_vals, y=y_vals)\n",
    "\n",
    "fig.show()"
   ]
  },
  {
   "cell_type": "code",
   "execution_count": null,
   "metadata": {
    "ExecuteTime": {
     "end_time": "2021-06-02T05:05:07.397595Z",
     "start_time": "2021-06-02T05:04:54.195Z"
    }
   },
   "outputs": [],
   "source": [
    "x_vals = []\n",
    "y_vals = []\n",
    "z_vals_1 = []\n",
    "z_vals_2 = []\n",
    "x_ = np.linspace(0.0,1.0,101)\n",
    "y_ = np.linspace(0.0,1.0,101)\n",
    "\n",
    "result_list = []\n",
    "for i in range(len(x_)):\n",
    "    for j in range(0,i):\n",
    "        h2 = net.calculate_2(torch.tensor([x_[i],y_[j]]).cuda().type(torch.float32))\n",
    "        x_vals.append(x_[i])\n",
    "        y_vals.append(y_[j])\n",
    "        z_vals_1.append(float(h2[0]))\n",
    "        z_vals_2.append(float(h2[1]))\n",
    "\n"
   ]
  },
  {
   "cell_type": "code",
   "execution_count": null,
   "metadata": {
    "ExecuteTime": {
     "end_time": "2021-06-02T05:05:07.397595Z",
     "start_time": "2021-06-02T05:04:54.197Z"
    }
   },
   "outputs": [],
   "source": [
    "fig = px.scatter_3d(z=z_vals_1, x=x_vals, y=y_vals)\n",
    "\n",
    "fig.show()"
   ]
  },
  {
   "cell_type": "code",
   "execution_count": null,
   "metadata": {
    "ExecuteTime": {
     "end_time": "2021-06-02T05:05:07.399591Z",
     "start_time": "2021-06-02T05:04:54.199Z"
    }
   },
   "outputs": [],
   "source": [
    "fig = px.scatter_3d(z=z_vals_2, x=x_vals, y=y_vals)\n",
    "\n",
    "fig.show()"
   ]
  },
  {
   "cell_type": "code",
   "execution_count": null,
   "metadata": {
    "ExecuteTime": {
     "end_time": "2021-06-02T05:05:07.400587Z",
     "start_time": "2021-06-02T05:04:54.201Z"
    }
   },
   "outputs": [],
   "source": [
    "# def h_function(input_list):\n",
    "\n",
    "#     h = max(sum(input_list),2/3) + 1/2 * max(sum(input_list),1) - 1/2 * max(input_list[0],2/3) - 1/6\n",
    "#     return h\n",
    "\n",
    "def h_function(input_list):\n",
    "    h = 3*input_list[1] + 1/2*sum(input_list) + 1.5\n",
    "    return h   \n",
    "                \n",
    "x_list2 = []\n",
    "y_list2 = []\n",
    "z_list2 = []\n",
    "result_list = []\n",
    "for index in range(len(training_data)):\n",
    "    h_list = []\n",
    "    for i in range(Agent_number_n):\n",
    "        x_list2.append(training_data[index][i][0])\n",
    "        y_list2.append(training_data[index][i][1])\n",
    "        h = h_function(training_data[index][i])\n",
    "        z_list2.append(float(h))\n",
    "        h_list.append(float(h))\n",
    "    result_list.append(sum(h_list)/training_label[index]) \n",
    "    \n",
    "    \n",
    "print(max(result_list), min(result_list), max(result_list)-min(result_list),sum(result_list)/len(result_list))\n",
    "fig = px.scatter_3d(z=z_list2[:10000], x=x_list2[:10000], y=y_list2[:10000])\n",
    "\n",
    "fig.show()"
   ]
  },
  {
   "cell_type": "code",
   "execution_count": null,
   "metadata": {
    "ExecuteTime": {
     "end_time": "2021-06-02T05:05:07.401586Z",
     "start_time": "2021-06-02T05:04:54.202Z"
    }
   },
   "outputs": [],
   "source": [
    "# def h_function(input_list):\n",
    "\n",
    "#     h = max(sum(input_list),2/3) + 1/2 * max(sum(input_list),1) - 1/2 * max(input_list[0],2/3) - 1/6\n",
    "#     return h\n",
    "\n",
    "def h_function(input_list):\n",
    "    if(sum(input_list)>=2/3):\n",
    "        h = sum(input_list)\n",
    "    else:\n",
    "        h = 2/3\n",
    "    return h   \n",
    "                \n",
    "x_list2 = []\n",
    "y_list2 = []\n",
    "z_list2 = []\n",
    "result_list = []\n",
    "for index in range(len(training_data)):\n",
    "    h_list = []\n",
    "    for i in range(Agent_number_n):\n",
    "        x_list2.append(training_data[index][i][0])\n",
    "        y_list2.append(training_data[index][i][1])\n",
    "        h = h_function(training_data[index][i])\n",
    "        z_list2.append(float(h))\n",
    "        h_list.append(float(h))\n",
    "    result_list.append(sum(h_list)/training_label[index]) \n",
    "    \n",
    "    \n",
    "print(max(result_list), min(result_list), max(result_list)-min(result_list),sum(result_list)/len(result_list))\n",
    "fig = px.scatter_3d(z=z_list2[:10000], x=x_list2[:10000], y=y_list2[:10000])\n",
    "\n",
    "fig.show()"
   ]
  },
  {
   "cell_type": "code",
   "execution_count": null,
   "metadata": {
    "ExecuteTime": {
     "end_time": "2021-06-02T05:05:07.402581Z",
     "start_time": "2021-06-02T05:04:54.203Z"
    }
   },
   "outputs": [],
   "source": [
    "def h_function(input_list):\n",
    "    if(sum(input_list)>=2/3):\n",
    "        h = sum(input_list)\n",
    "    else:\n",
    "        h = 2/3-sum(input_list)*1/16+1/24\n",
    "    return h   \n",
    "                \n",
    "x_list2 = []\n",
    "y_list2 = []\n",
    "z_list2 = []\n",
    "result_list = []\n",
    "for index in range(len(training_data)):\n",
    "    h_list = []\n",
    "    for i in range(Agent_number_n):\n",
    "        x_list2.append(training_data[index][i][0])\n",
    "        y_list2.append(training_data[index][i][1])\n",
    "        h = h_function(training_data[index][i])\n",
    "        z_list2.append(float(h))\n",
    "        h_list.append(float(h))\n",
    "    result_list.append(sum(h_list)/training_label[index]) \n",
    "    \n",
    "    \n",
    "print(max(result_list), min(result_list), max(result_list)-min(result_list),sum(result_list)/len(result_list))\n",
    "fig = px.scatter_3d(z=z_list2[:10000], x=x_list2[:10000], y=y_list2[:10000])\n",
    "\n",
    "fig.show()"
   ]
  },
  {
   "cell_type": "code",
   "execution_count": null,
   "metadata": {
    "ExecuteTime": {
     "end_time": "2021-06-02T05:05:07.403579Z",
     "start_time": "2021-06-02T05:04:54.205Z"
    }
   },
   "outputs": [],
   "source": [
    "def h_function(input_list):\n",
    "\n",
    "    h = max(sum(input_list),2/3) + 1/2 * max(sum(input_list),1) - 1/2 * max(input_list[0],2/3) - 1/6\n",
    "    return h   \n",
    "                \n",
    "x_list1 = []\n",
    "y_list1 = []\n",
    "z_list1 = []\n",
    "result_list = []\n",
    "for index in range(len(training_data)):\n",
    "    h_list = []\n",
    "    for i in range(Agent_number_n):\n",
    "        x_list1.append(training_data[index][i][0])\n",
    "        y_list1.append(training_data[index][i][1])\n",
    "        h = h_function(training_data[index][i])\n",
    "        z_list1.append(float(h))\n",
    "        h_list.append(float(h))\n",
    "    result_list.append(sum(h_list)/training_label[index]) \n",
    "    \n",
    "    \n",
    "print(max(result_list), min(result_list), max(result_list)-min(result_list),sum(result_list)/len(result_list))\n",
    "fig = px.scatter_3d(z=z_list1[:10000], x=x_list1[:10000], y=y_list1[:10000])\n",
    "\n",
    "fig.show()"
   ]
  },
  {
   "cell_type": "code",
   "execution_count": null,
   "metadata": {
    "ExecuteTime": {
     "end_time": "2021-06-02T05:05:07.404577Z",
     "start_time": "2021-06-02T05:04:54.206Z"
    }
   },
   "outputs": [],
   "source": [
    "fig = px.scatter_3d(z=z_list[:10000], x=x_list[:10000], y=y_list[:10000])\n",
    "\n",
    "fig.show()"
   ]
  },
  {
   "cell_type": "code",
   "execution_count": null,
   "metadata": {
    "ExecuteTime": {
     "end_time": "2021-06-02T05:05:07.405576Z",
     "start_time": "2021-06-02T05:04:54.207Z"
    }
   },
   "outputs": [],
   "source": [
    "# Create the figure\n",
    "fig = plt.figure()\n",
    "ax = fig.add_subplot(111, projection='3d')\n",
    "# Generate the values\n",
    "\n",
    "# Plot the values\n",
    "ax.scatter(x_list, y_list, z_list, c = 'b', marker='o')\n",
    "ax.set_xlabel('X-axis')\n",
    "ax.set_ylabel('Y-axis')\n",
    "ax.set_zlabel('Z-axis')\n",
    "\n",
    "plt.show()"
   ]
  },
  {
   "cell_type": "code",
   "execution_count": null,
   "metadata": {
    "ExecuteTime": {
     "end_time": "2021-06-02T05:05:07.406573Z",
     "start_time": "2021-06-02T05:04:54.209Z"
    }
   },
   "outputs": [],
   "source": [
    "o_frame = np.linspace(0.0,1.0,101)\n",
    "    \n",
    "#o* = argmax_o { (2 * theta_O - 400)(o-o*o/2) + (2 * theta_D - 15)(1-o)  }\n",
    "\n",
    "grid_x, grid_y = np.mgrid[0:1:400j, 0:1:400j]\n",
    "\n",
    "points =np.reshape([x_vals,y_vals],(2,-1))\n",
    "\n",
    "points = np.transpose(points)\n",
    "\n",
    "grid_z2 = griddata(points, z_vals, (grid_x, grid_y), method='nearest')\n",
    "\n",
    "\n",
    "im =plt.imshow(grid_z2.T, extent=(0,1,0,1) , aspect='auto',interpolation='bilinear')\n",
    "plt.colorbar(im)\n",
    "plt.title('high')\n",
    "plt.xlabel(r\"Defender type $\\dot{\\Theta}$d\")\n",
    "plt.ylabel(r\"offender type $\\dot{\\Theta}$o\")\n",
    "plt.show()"
   ]
  },
  {
   "cell_type": "code",
   "execution_count": null,
   "metadata": {},
   "outputs": [],
   "source": []
  }
 ],
 "metadata": {
  "hide_input": false,
  "kernelspec": {
   "display_name": "Python 3",
   "language": "python",
   "name": "python3"
  },
  "language_info": {
   "codemirror_mode": {
    "name": "ipython",
    "version": 3
   },
   "file_extension": ".py",
   "mimetype": "text/x-python",
   "name": "python",
   "nbconvert_exporter": "python",
   "pygments_lexer": "ipython3",
   "version": "3.8.3"
  },
  "varInspector": {
   "cols": {
    "lenName": 16,
    "lenType": 16,
    "lenVar": 40
   },
   "kernels_config": {
    "python": {
     "delete_cmd_postfix": "",
     "delete_cmd_prefix": "del ",
     "library": "var_list.py",
     "varRefreshCmd": "print(var_dic_list())"
    },
    "r": {
     "delete_cmd_postfix": ") ",
     "delete_cmd_prefix": "rm(",
     "library": "var_list.r",
     "varRefreshCmd": "cat(var_dic_list()) "
    }
   },
   "types_to_exclude": [
    "module",
    "function",
    "builtin_function_or_method",
    "instance",
    "_Feature"
   ],
   "window_display": false
  }
 },
 "nbformat": 4,
 "nbformat_minor": 4
}
