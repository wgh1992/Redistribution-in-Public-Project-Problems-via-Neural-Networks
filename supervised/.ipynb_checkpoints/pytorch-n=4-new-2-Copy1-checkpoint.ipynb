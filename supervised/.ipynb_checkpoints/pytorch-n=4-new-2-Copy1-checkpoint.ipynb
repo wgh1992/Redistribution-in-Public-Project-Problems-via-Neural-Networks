{
 "cells": [
  {
   "cell_type": "code",
   "execution_count": 1,
   "metadata": {
    "ExecuteTime": {
     "end_time": "2021-05-31T13:22:24.354240Z",
     "start_time": "2021-05-31T13:22:23.102461Z"
    }
   },
   "outputs": [
    {
     "name": "stdout",
     "output_type": "stream",
     "text": [
      "pygame 2.0.1 (SDL 2.0.14, Python 3.8.3)\n",
      "Hello from the pygame community. https://www.pygame.org/contribute.html\n",
      "cuda:0\n"
     ]
    },
    {
     "name": "stderr",
     "output_type": "stream",
     "text": [
      "D:\\ComputerSoftwares\\Anaconda\\lib\\site-packages\\sklearn\\utils\\deprecation.py:143: FutureWarning: The sklearn.datasets.samples_generator module is  deprecated in version 0.22 and will be removed in version 0.24. The corresponding classes / functions should instead be imported from sklearn.datasets. Anything that cannot be imported from sklearn.datasets is now part of the private API.\n",
      "  warnings.warn(message, FutureWarning)\n"
     ]
    }
   ],
   "source": [
    "\n",
    "import pygame\n",
    "import random\n",
    "import os\n",
    "import time\n",
    "import numpy as np\n",
    "import math\n",
    "import torch\n",
    "import torch.nn.functional\n",
    "import matplotlib.pyplot as plt\n",
    "import torch.optim as opt\n",
    "from torch.autograd import Variable\n",
    "from sklearn.model_selection import train_test_split\n",
    "\n",
    "import scipy.stats as st\n",
    "from sklearn.datasets.samples_generator import make_blobs\n",
    "from matplotlib.colors import LogNorm \n",
    "import matplotlib.cm as cm\n",
    "import torch.nn as nn\n",
    "import numpy as np\n",
    "import matplotlib.pyplot as plt\n",
    "\n",
    "\n",
    "if torch.cuda.is_available():  \n",
    "    dev = \"cuda:0\" \n",
    "else:  \n",
    "    dev = \"cpu\"  \n",
    "\n",
    "print(dev)\n"
   ]
  },
  {
   "cell_type": "code",
   "execution_count": 2,
   "metadata": {
    "ExecuteTime": {
     "end_time": "2021-05-31T13:22:24.370167Z",
     "start_time": "2021-05-31T13:22:24.356237Z"
    }
   },
   "outputs": [],
   "source": [
    "global target_order\n",
    "target_order = \"supervised\"\n",
    "global temp_list\n",
    "temp_list = []\n",
    "Agent_number_n=4;\n",
    "Alpha = 0.666;\n",
    "\n"
   ]
  },
  {
   "cell_type": "code",
   "execution_count": 3,
   "metadata": {
    "ExecuteTime": {
     "end_time": "2021-05-31T13:22:25.928486Z",
     "start_time": "2021-05-31T13:22:24.371163Z"
    }
   },
   "outputs": [
    {
     "name": "stdout",
     "output_type": "stream",
     "text": [
      "[[[0.68661384 0.62027544 0.1069318 ]\n",
      "  [0.86066807 0.62027544 0.1069318 ]\n",
      "  [0.86066807 0.68661384 0.1069318 ]\n",
      "  [0.86066807 0.68661384 0.62027544]]\n",
      "\n",
      " [[0.45423805 0.32680162 0.30570655]\n",
      "  [0.70587512 0.32680162 0.30570655]\n",
      "  [0.70587512 0.45423805 0.30570655]\n",
      "  [0.70587512 0.45423805 0.32680162]]\n",
      "\n",
      " [[0.71033069 0.69650736 0.0716067 ]\n",
      "  [0.75484809 0.69650736 0.0716067 ]\n",
      "  [0.75484809 0.71033069 0.0716067 ]\n",
      "  [0.75484809 0.71033069 0.69650736]]\n",
      "\n",
      " ...\n",
      "\n",
      " [[0.86935132 0.6925664  0.23326688]\n",
      "  [0.89090574 0.6925664  0.23326688]\n",
      "  [0.89090574 0.86935132 0.23326688]\n",
      "  [0.89090574 0.86935132 0.6925664 ]]\n",
      "\n",
      " [[0.60536622 0.5983426  0.5372086 ]\n",
      "  [0.61036856 0.5983426  0.5372086 ]\n",
      "  [0.61036856 0.60536622 0.5372086 ]\n",
      "  [0.61036856 0.60536622 0.5983426 ]]\n",
      "\n",
      " [[0.73218592 0.68547277 0.6425752 ]\n",
      "  [0.77338862 0.68547277 0.6425752 ]\n",
      "  [0.77338862 0.73218592 0.6425752 ]\n",
      "  [0.77338862 0.73218592 0.68547277]]]\n",
      "[[[0.81670823 0.71268644 0.12166526]\n",
      "  [0.91378802 0.71268644 0.12166526]\n",
      "  [0.91378802 0.81670823 0.12166526]\n",
      "  [0.91378802 0.81670823 0.71268644]]\n",
      "\n",
      " [[0.57279231 0.40349134 0.26476902]\n",
      "  [0.88873324 0.40349134 0.26476902]\n",
      "  [0.88873324 0.57279231 0.26476902]\n",
      "  [0.88873324 0.57279231 0.40349134]]\n",
      "\n",
      " [[0.57434817 0.15823349 0.078398  ]\n",
      "  [0.81856153 0.15823349 0.078398  ]\n",
      "  [0.81856153 0.57434817 0.078398  ]\n",
      "  [0.81856153 0.57434817 0.15823349]]\n",
      "\n",
      " ...\n",
      "\n",
      " [[0.68593109 0.12720477 0.04653008]\n",
      "  [0.88611501 0.12720477 0.04653008]\n",
      "  [0.88611501 0.68593109 0.04653008]\n",
      "  [0.88611501 0.68593109 0.12720477]]\n",
      "\n",
      " [[0.1560201  0.13327401 0.11886373]\n",
      "  [0.47629053 0.13327401 0.11886373]\n",
      "  [0.47629053 0.1560201  0.11886373]\n",
      "  [0.47629053 0.1560201  0.13327401]]\n",
      "\n",
      " [[0.29710864 0.05619598 0.03970461]\n",
      "  [0.5436848  0.05619598 0.03970461]\n",
      "  [0.5436848  0.29710864 0.03970461]\n",
      "  [0.5436848  0.29710864 0.05619598]]]\n",
      "[2.27448914 1.79262135 2.23329284 ... 2.68609035 2.35128598 2.83362251]\n",
      "[2.56484794 2.12978591 1.6295412  1.30587412 2.54427331 1.83400057\n",
      " 1.99286498 1.3345208  1.33263338 2.52034591 2.12031561 2.69262443\n",
      " 1.88400193 2.39884717 2.37692825 1.90084491 1.84948012 2.5366714\n",
      " 2.19759554 2.76829315 1.0231142  1.60975347 2.12729284 2.25584984\n",
      " 2.6255767  1.75906922 1.         1.         1.27108783 1.93296913\n",
      " 1.94373467 2.67401605 1.84836015 2.66881748 1.38260143 2.47847457\n",
      " 1.38973634 2.4395912  2.81903778 1.43155743 1.80757369 2.11664235\n",
      " 2.48423512 1.         1.34804114 1.87989394 3.30753324 1.\n",
      " 1.65987658 1.59961942 2.60263262 1.83506145 2.23393892 1.84147979\n",
      " 1.82360299 2.4868492  1.45526854 1.86391111 3.05301331 1.\n",
      " 2.37770705 2.45190063 2.58836157 1.43003038 2.18760109 2.3619532\n",
      " 2.08026625 1.49208235 2.2571092  3.53294469 2.23184404 1.\n",
      " 2.15124336 2.44189368 2.71172737 1.63819533 1.84689675 1.\n",
      " 1.74687327 1.         2.00533682 1.93932896 2.47370436 2.04557975\n",
      " 2.517351   2.94794333 2.89889579 2.14402195 1.94736756 1.87803847\n",
      " 1.         2.58871636 1.68213713 1.21976945 2.73622189 2.39576115\n",
      " 1.         2.05937091 1.52813297 3.04677779 2.37109901 1.93798887\n",
      " 1.54096991 1.         2.21232273 2.76684295 1.99576596 2.18771946\n",
      " 1.14912664 1.75103418 1.89341009 2.07400938 1.89644498 2.41317079\n",
      " 2.55419939 1.84911404 2.24951568 1.98273316 1.54342521 1.24863233\n",
      " 1.94817602 1.87751686 2.4449792  1.5177242  1.31441006 1.85774257\n",
      " 1.52020888 2.69397123 2.24225768 1.93218361 1.61872574 1.81845732\n",
      " 2.5583015  2.04335633 2.63629638 1.86481994 2.17487595 1.91556962\n",
      " 2.54395506 2.50930338 1.0548823  3.13706721 2.20555134 1.86723884\n",
      " 1.         2.17877834 2.21929149 2.26341375 1.90276359 1.24100147\n",
      " 1.14362589 2.85038738 1.89452638 1.13215824 1.85353238 1.73180648\n",
      " 1.70125165 1.3711634  2.15407719 2.14866144 1.62520512 2.11887361\n",
      " 2.27182389 2.99121746 2.10066098 1.97255374 1.65160194 2.91184541\n",
      " 2.69056986 1.74835181 1.72679356 2.55448164 3.2616676  1.37524671\n",
      " 1.66425924 2.07989578 2.63622766 1.96256021 1.176119   1.99136922\n",
      " 1.93094929 1.66215371 2.26556574 2.58814011 1.         2.02896622\n",
      " 1.10754677 1.42899007 1.54596061 3.30333886 1.87877432 2.95254103\n",
      " 1.71783728 1.         1.64964469 1.22535335 2.20061956 1.61670627\n",
      " 2.79485064 2.3854587  1.73315252 1.94496701 1.5358152  2.18567954\n",
      " 2.76652978 2.69245444 2.26597516 1.71564867 1.98172375 1.65104316\n",
      " 2.96248747 2.19421982 2.01425084 2.54273151 1.98549608 2.50337442\n",
      " 2.63779731 1.24024044 1.88365254 1.72086266 1.         2.74278275\n",
      " 1.85958266 2.39203341 2.28023951 2.60196907 2.96250964 1.57739413\n",
      " 1.77169896 1.66955579 1.91931696 1.69470255 1.30087791 1.19048694\n",
      " 1.         2.36363796 2.46086856 2.50554323 3.25486496 2.91462535\n",
      " 1.79712922 1.         1.54511628 2.11774152 1.33696863 1.56015534\n",
      " 1.80271113 2.29994057 1.781401   1.71559259 2.09847328 1.57500432\n",
      " 1.         1.34224664 2.67621072 1.99262004 3.10556924 2.11439276\n",
      " 2.49183462 1.67817631 2.37333827 1.16141194 2.08508233 2.80137324\n",
      " 1.         2.3505247  2.43371206 1.99906966 2.30840678 1.\n",
      " 1.         1.53965235 1.93232471 1.39951559 1.51814797 2.19501739\n",
      " 2.14753757 2.09734363 1.         2.00132371 1.7760223  2.39545167\n",
      " 2.6249858  2.94328029 2.07293338 1.74557621 2.96390846 1.1441257\n",
      " 2.73981739 2.75256709 1.99114252 1.77845272 2.63746283 2.43918861\n",
      " 1.67754288 1.65090109 1.8834545  2.20170116 1.83974955 2.53157658\n",
      " 2.27426727 2.78946181 2.55624053 1.91960016 1.60498619 2.44716047\n",
      " 1.84701637 2.36653184 1.65135648 2.42805274 2.42010727 3.09223788\n",
      " 2.84269467 1.66491059 1.87909462 1.4594959  2.92347618 2.64221484\n",
      " 2.12318108 1.91977908 2.44121034 2.59696709 1.22399745 2.3734051\n",
      " 2.59483757 2.08730628 1.43849705 1.7596679  2.12232121 1.85387133\n",
      " 2.54363067 1.76421781 1.99071289 1.         1.2708483  2.04018198\n",
      " 2.01867816 2.9625137  1.78459135 3.04223814 2.3460292  3.27501636\n",
      " 2.55215895 1.48253937 1.         3.25114955 2.78988511 1.7661048\n",
      " 1.5712965  2.52943921 1.47704703 2.60937143 1.59825966 2.64608389\n",
      " 2.38667256 2.38510797 1.         3.08278688 1.6989271  1.56424516\n",
      " 2.92942204 1.72995272 1.89403739 2.48023775 1.8208137  2.67264661\n",
      " 2.44472556 1.4295311  1.91165706 2.9165379  2.21562713 1.83937431\n",
      " 1.68519089 2.59043115 1.10281798 2.29940194 2.87186409 2.17011691\n",
      " 1.78779222 1.51683112 1.58563099 2.38061782 1.593128   2.07938541\n",
      " 1.82300346 1.70924524 2.00508739 2.46582411 2.47064625 1.\n",
      " 1.99070501 1.69524991 1.37582508 2.62922852 3.19869228 1.09320067\n",
      " 1.9365731  2.02245831 2.41212113 1.06256167 1.96353698 1.95334626\n",
      " 2.25423828 1.42876015 1.         2.23743096 2.19357604 2.22346504\n",
      " 2.82336867 2.05528789 1.75814306 2.00836346 2.1149675  1.99789066\n",
      " 2.37017414 2.98909465 1.51443036 1.47831505 1.27790258 1.80873714\n",
      " 2.85977286 2.72475777 1.88457215 2.15330599 1.35950003 2.8620478\n",
      " 1.82905012 1.78665174 2.12273487 2.98884644 1.2437153  1.63011023\n",
      " 2.63974617 1.         1.1367742  1.06214883 1.95713753 1.32089617\n",
      " 2.04260008 1.47908171 2.0940088  2.54280505 1.17781538 1.76849083\n",
      " 2.50072233 2.48417638 2.35146681 2.45052648 2.92835204 2.16784613\n",
      " 2.26385532 3.56007003 1.         2.14624719 2.31180236 1.82203938\n",
      " 1.72976405 2.27676308 2.91528471 2.12122491 2.25069257 1.80591118\n",
      " 1.62778946 2.22748288 2.20670415 1.97353547 2.44838137 1.14795891\n",
      " 1.35690415 2.99554299 1.88612467 2.06020768 1.84419206 1.20329186\n",
      " 1.92003062 2.98107462 1.37077553 2.33934443 2.01619751 2.0125008\n",
      " 1.87628889 1.95977012 2.61397618 2.17477951 1.92530426 3.10083318\n",
      " 1.29423026 2.23863784 2.27105412 2.12086937 2.79348449 1.29997332\n",
      " 1.51430644 1.26528116 2.33982143 1.74941088 2.22679981 2.36392714\n",
      " 2.07372193 2.76778192 2.23126562 2.16952343 3.02634178 2.16536977\n",
      " 2.34294798 2.69293202 1.7802579  1.54679892 3.04330432 1.82664778\n",
      " 1.63970426 2.86661986 2.59929628 1.40733894 2.3206033  2.22559102\n",
      " 2.31472995 1.81763709 1.55571989 2.61459961 1.39467777 1.79453558\n",
      " 2.31079312 3.28425562 1.94891751 2.07511276 2.17952029 2.27111334\n",
      " 2.57137978 1.53410742 1.40262304 1.91632672 1.82269687 1.22208508\n",
      " 1.25626272 1.68865679 2.01453235 2.25084765 3.16022095 1.\n",
      " 1.88374333 1.69085923 2.75549015 2.58923431 1.46152051 2.3454619\n",
      " 1.77520431 1.81317769 1.58413621 2.77269971 2.77387829 3.65854048\n",
      " 1.56638985 1.4061071  2.54236122 1.58661293 1.55075268 1.48870175\n",
      " 2.35511728 2.40577734 2.41618749 1.82628129 1.56045701 2.1783087\n",
      " 2.0835038  1.46588703 1.30899058 1.         2.04825739 2.90566369\n",
      " 2.45158205 1.26962437 1.78430419 1.71972825 1.4547853  2.18891854\n",
      " 1.65009147 2.93063678 2.02563394 1.64203049 2.37724506 2.11349118\n",
      " 2.96355578 2.09975837 1.93790033 1.7679377  1.83380921 2.37891374\n",
      " 2.64672836 1.         1.47873141 1.44730373 1.74699176 1.24361401\n",
      " 2.55885436 2.39671329 2.55338114 3.24778935 1.69117095 1.85725017\n",
      " 2.17359073 2.25585049 1.01591572 2.98292544 1.50849697 3.16034137\n",
      " 1.18674825 2.9470585  1.97082441 2.57179379 2.45178789 2.05724792\n",
      " 1.50442881 2.34793018 2.24785056 1.76928293 1.07425663 2.58139515\n",
      " 1.20458093 1.43424048 2.70977826 1.21836984 1.         1.39409937\n",
      " 2.07924525 1.95567388 2.78945673 1.398527   1.32729596 1.80851423\n",
      " 2.42069949 1.78433442 1.99579018 1.98502869 1.99953502 2.30956813\n",
      " 1.         1.99175353 2.1321625  1.65869996 2.72701842 1.44698324\n",
      " 1.76049353 1.40867405 2.6586068  2.22971191 2.44679981 2.0866573\n",
      " 2.62953494 1.68957775 2.18679567 2.02937432 2.52092929 1.80471115\n",
      " 2.15789421 1.48423763 1.44283743 1.97757536 2.63229571 1.8760827\n",
      " 1.82883628 2.32125093 1.37304562 2.85412771 1.34388883 2.56969199\n",
      " 1.49386581 1.79714219 1.78066195 1.79553053 1.         2.44798089\n",
      " 2.3460026  2.86128653 1.47013906 2.02991169 3.08947757 2.75599748\n",
      " 1.42922628 1.80251027 2.51673194 2.35943946 2.06079737 1.80523994\n",
      " 1.82875421 2.93184546 1.66368382 1.         1.83544713 1.96214707\n",
      " 2.1807288  2.41206435 2.54099422 1.63544749 2.30000901 1.51154544\n",
      " 2.29407991 1.74624614 1.50974191 1.48843589 2.21328553 2.8528676\n",
      " 2.48484007 1.78723455 3.2089224  1.40641313 2.04955327 2.48555442\n",
      " 2.88385208 1.44046202 2.04976531 2.03225803 1.83977599 1.44722112\n",
      " 1.67383621 1.33977679 3.04312458 2.1787489  3.29276527 2.31428634\n",
      " 1.96730704 3.23460222 1.85102785 2.28931057 1.59776045 1.16611721\n",
      " 1.76730298 1.80456328 2.34465555 1.64200987 2.64114796 2.55367829\n",
      " 1.09281331 1.66812524 2.29586291 1.44457787 2.35853714 1.53297933\n",
      " 2.97624689 2.8706192  1.18067449 1.94553858 1.79746515 2.8070289\n",
      " 2.37030093 3.27239007 1.41176509 2.38726689 2.10739834 2.71708237\n",
      " 2.47591012 1.28832032 1.49659278 1.49907466 1.2718558  1.07815384\n",
      " 1.04577024 2.54616697 2.23449849 2.23901234 2.808647   2.72761246\n",
      " 2.28408212 2.50210147 1.38696593 1.74617519 2.335463   1.63305296\n",
      " 1.69354321 2.17061141 2.51781703 2.06038302 2.04875369 1.39821123\n",
      " 2.62439547 2.62589753 2.5822324  1.         1.05875101 2.42643451\n",
      " 1.         1.93300675 1.83557453 1.88712112 1.95934569 2.78123409\n",
      " 2.29621411 1.68224327 1.7164804  1.61125684 3.15496177 1.03418719\n",
      " 1.20934307 2.43270868 2.05820499 2.97764862 3.00619342 2.23500073\n",
      " 2.01913087 1.6726125  1.2916534  1.         1.72423968 3.01850431\n",
      " 1.59870287 2.9413229  2.4895414  1.86211194 1.96787471 1.33111458\n",
      " 1.88617751 2.20341107 2.11308012 2.54833243 2.17521295 1.\n",
      " 1.95948015 1.         2.03989468 2.49719525 1.44824904 1.76786808\n",
      " 1.78787481 2.41017753 1.12564666 1.76460823 2.38469757 1.60551452\n",
      " 2.00344485 1.75812915 1.16722572 2.41674782 1.73487933 2.0530118\n",
      " 2.88812372 1.60950687 1.90458646 2.54543256 1.64831842 2.26151282\n",
      " 2.16402738 2.7881702  2.60268722 1.77852197 1.7464677  2.57395489\n",
      " 1.2191357  2.25568771 2.73988419 2.27322317 1.         1.22296273\n",
      " 2.0715525  1.1296051  1.67286234 2.2983457  1.54748915 2.57657457\n",
      " 1.         2.19490147 3.18188692 1.79918094 1.         1.54377391\n",
      " 1.83085087 1.64710985 1.58678151 2.46821115 2.44954119 2.83020662\n",
      " 1.54231429 2.66547855 2.47794861 2.00457271 1.40182088 2.22775132\n",
      " 1.1338577  2.28293375 1.73188131 2.24926775 2.17611712 2.55651592\n",
      " 2.49232049 2.18388936 2.1810418  1.23437315 2.11529271 2.76255603\n",
      " 1.         1.57370102 1.89203995 3.03348052 2.72547172 1.63595929\n",
      " 2.08608969 2.84732032 1.45706124 2.67537328 2.33131954 2.03950536\n",
      " 2.7013865  2.31948848 1.20205824 2.14694129 2.77542081 1.67191376\n",
      " 1.6889077  2.33479334 2.55645773 2.11068977 1.57385964 3.15812998\n",
      " 1.97860859 2.3153493  2.22953876 1.         3.05879709 2.31839296\n",
      " 3.12455685 2.26457554 1.97815538 1.80247708 1.44674471 2.44770271\n",
      " 1.96088964 1.21477305 1.         1.94499186 1.27267821 2.11435032\n",
      " 1.         2.38802629 2.35134045 2.52397282 2.63930199 2.14996704\n",
      " 2.31731046 2.51550305 1.91606707 1.62686164 1.29887349 1.88756701\n",
      " 1.58829816 3.32760007 1.24495886 1.86345375 1.56392567 2.27372954\n",
      " 1.68224428 1.55510951 1.63963826 1.46133926 1.89162022 2.46760759\n",
      " 2.44542954 2.22179413 1.2125373  1.383242   2.03176386 1.0240416\n",
      " 1.9271443  2.67971377 1.63073024 1.         2.50893315 1.84949607\n",
      " 1.92632805 2.91394326 2.89899413 2.79174503 2.82025778 1.19705018\n",
      " 2.43088187 2.12390682 1.74633788 2.43790618 2.49782117 1.21254573\n",
      " 1.21845824 1.39343389 1.32795872 2.26631314 1.         1.65143765\n",
      " 1.9098697  2.88618587 1.52535286 2.09114506 1.8535397  2.616694\n",
      " 1.         1.9602722  1.63554212 1.         2.44741155 1.68122016\n",
      " 3.13005383 1.74578096 1.         1.        ]\n"
     ]
    }
   ],
   "source": [
    "global temp_list\n",
    "temp_list = []\n",
    "def appen(_x_list,y):\n",
    "    global temp_list\n",
    "    temp_list.append(_x_list)\n",
    "    \n",
    "def appen_train(x_list):\n",
    "    global temp_list\n",
    "                \n",
    "    S= max(sum(x_list),1.0);\n",
    "    temp_list = []\n",
    "    \n",
    "    for i in range(Agent_number_n):\n",
    "        temp = []\n",
    "        for j in range(Agent_number_n):\n",
    "            if(i!=j):\n",
    "                temp.append(x_list[j])\n",
    "        appen(temp,S)\n",
    "    \n",
    "    training_data.append(temp_list)\n",
    "    training_label.append(S)\n",
    "    \n",
    "\n",
    "def read_training_data():\n",
    "    for i in range(100000):\n",
    "        appen_train(sorted(np.random.rand(Agent_number_n), reverse=True));\n",
    "\n",
    "training_data=[]\n",
    "training_label=[]\n",
    "S=1.0\n",
    "read_training_data();\n",
    "\n",
    "def appen_test(x_list):\n",
    "    global temp_list\n",
    "                \n",
    "    S= max(sum(x_list),1.0);\n",
    "    temp_list = []\n",
    "    \n",
    "    for i in range(Agent_number_n):\n",
    "        temp = []\n",
    "        for j in range(Agent_number_n):\n",
    "            if(i!=j):\n",
    "                temp.append(x_list[j])\n",
    "        appen(temp,S)\n",
    "    testing_data.append(temp_list)\n",
    "    testing_label.append(S)\n",
    "    \n",
    "\n",
    "def read_testing_data():\n",
    "#     devided=20\n",
    "#     for i1 in range(devided+1):\n",
    "#         for i2 in range(i1+1):\n",
    "#             for i3 in range(i2+1):\n",
    "#                 appen_test(i1/devided,i2/devided,i3/devided);\n",
    "    for i in range(1000):\n",
    "        appen_test(sorted(np.random.rand(Agent_number_n), reverse=True));\n",
    "                            \n",
    "\n",
    "testing_data=[]\n",
    "testing_label=[]\n",
    "S=1.0\n",
    "read_testing_data();\n",
    "\n",
    "training_data=np.array(training_data)\n",
    "training_label=np.array(training_label)\n",
    "testing_data=np.array(testing_data)\n",
    "testing_label=np.array(testing_label)\n",
    "print(training_data)\n",
    "print(testing_data)\n",
    "print(training_label)\n",
    "print(testing_label)"
   ]
  },
  {
   "cell_type": "code",
   "execution_count": 4,
   "metadata": {
    "ExecuteTime": {
     "end_time": "2021-05-31T13:22:52.372859Z",
     "start_time": "2021-05-31T13:22:25.931057Z"
    }
   },
   "outputs": [
    {
     "name": "stdout",
     "output_type": "stream",
     "text": [
      "3.374444926400344 2.999999999999999 0.3744449264003449\n"
     ]
    }
   ],
   "source": [
    "def h_3_star(a, b, t):\n",
    "    return a - min(a, t) + b - min(b, t) + max(min(a, t)+min(b, t), 2*t/3) + 1/2 * max(min(a, t)+min(b, t), t) - 1/2 * max(max(min(a, t), min(b, t)), 2*t/3) - t/6\n",
    "\n",
    "\n",
    "def f_function(a, b, z):\n",
    "    if(z >= 1):\n",
    "        return (a+b)/2 + z/3\n",
    "    else:\n",
    "        return z/3 + h_3_star(a, b, 1-z)/2\n",
    "\n",
    "def h_function(input_list):\n",
    "    #input_list = sorted(input_list)\n",
    "    g_list = []\n",
    "    for j1 in range(len(input_list) ):\n",
    "        for j2 in range(len(input_list)):\n",
    "            if(j1 != j2):\n",
    "                a = input_list[j1]\n",
    "                b = input_list[j2]\n",
    "                z = sum(input_list)- a-b\n",
    "\n",
    "                g_list.append( f_function(a, b, z) * (Agent_number_n-1))\n",
    "    h = sum(g_list) * 3 /  (Agent_number_n) /  (Agent_number_n-1) /  (Agent_number_n - 2)\n",
    "    return h\n",
    "                \n",
    "                \n",
    "x_list = []\n",
    "y_list = []\n",
    "z_list = []\n",
    "result_list = []\n",
    "training_supervised_label=[]\n",
    "for index in range(len(training_data)):\n",
    "    h_list = []\n",
    "    for i in range(Agent_number_n):\n",
    "        x_list.append(training_data[index][i][0])\n",
    "        y_list.append(training_data[index][i][1])\n",
    "        h = h_function(training_data[index][i])\n",
    "        z_list.append(float(h))\n",
    "        h_list.append(float(h))\n",
    "    training_supervised_label.append(h_list)\n",
    "    result_list.append(sum(h_list)/training_label[index]) \n",
    "    \n",
    "    \n",
    "print(max(result_list), min(result_list), max(result_list)-min(result_list))"
   ]
  },
  {
   "cell_type": "code",
   "execution_count": 5,
   "metadata": {
    "ExecuteTime": {
     "end_time": "2021-05-31T13:22:53.576214Z",
     "start_time": "2021-05-31T13:22:52.373892Z"
    }
   },
   "outputs": [
    {
     "data": {
      "image/png": "[encoded data removed]",
      "text/plain": [
       "<Figure size 432x288 with 1 Axes>"
      ]
     },
     "metadata": {
      "needs_background": "light"
     },
     "output_type": "display_data"
    }
   ],
   "source": [
    "plt.hist(result_list,bins=500)\n",
    "\n",
    "plt.title(\"Means\", y=1.015, fontsize=20)\n",
    "plt.axvline(x=sum(result_list)/len(result_list), linestyle='--', linewidth=2.5, label=\"sample mean\", c='orange')\n",
    "plt.xlabel(\"samples\", labelpad=14)\n",
    "plt.ylabel(\"frequency of occurence\", labelpad=14)\n",
    "plt.legend();\n",
    "\n",
    "result_list.sort()\n",
    "\n",
    "plt.axvline(x=result_list[int(len(result_list)*0.01)], linestyle='--', linewidth=0.5, label=\"1%\", c='b')\n",
    "plt.axvline(x=result_list[int(len(result_list)*0.99)], linestyle='--', linewidth=0.5, label=\"99%\", c='r')\n",
    "\n",
    "\n",
    "plt.show()"
   ]
  },
  {
   "cell_type": "code",
   "execution_count": 6,
   "metadata": {
    "ExecuteTime": {
     "end_time": "2021-05-31T13:22:53.676227Z",
     "start_time": "2021-05-31T13:22:53.577255Z"
    }
   },
   "outputs": [
    {
     "name": "stdout",
     "output_type": "stream",
     "text": [
      "[[1.47108596 1.65601858 1.73894158 2.27161268]\n",
      " [1.13452115 1.40827595 1.56757149 1.59394033]\n",
      " [1.54079519 1.58809493 1.60537409 2.26647537]\n",
      " ...\n",
      " [1.91797401 1.93683413 2.11933345 2.52122054]\n",
      " [1.89830274 1.90267979 1.90882546 1.96231771]\n",
      " [2.17770466 2.21375702 2.25463103 2.2921664 ]]\n"
     ]
    }
   ],
   "source": [
    "training_supervised_label=np.array(training_supervised_label)\n",
    "print(training_supervised_label)"
   ]
  },
  {
   "cell_type": "code",
   "execution_count": 7,
   "metadata": {
    "ExecuteTime": {
     "end_time": "2021-05-31T13:22:53.692248Z",
     "start_time": "2021-05-31T13:22:53.677712Z"
    }
   },
   "outputs": [
    {
     "name": "stdout",
     "output_type": "stream",
     "text": [
      "cuda:0\n"
     ]
    }
   ],
   "source": [
    "if torch.cuda.is_available():  \n",
    "    dev = \"cuda:0\" \n",
    "else:  \n",
    "    dev = \"cpu\"  \n",
    "\n",
    "print(dev)\n"
   ]
  },
  {
   "cell_type": "code",
   "execution_count": 8,
   "metadata": {
    "ExecuteTime": {
     "end_time": "2021-05-31T13:22:53.730717Z",
     "start_time": "2021-05-31T13:22:53.693531Z"
    },
    "run_control": {
     "marked": true
    }
   },
   "outputs": [],
   "source": [
    "def weight_init(m):\n",
    "    if isinstance(m, torch.nn.Conv2d):\n",
    "        torch.nn.init.xavier_normal_(m.weight)\n",
    "        torch.nn.init.zeros_(m.bias)\n",
    "    elif isinstance(m, torch.nn.Linear):\n",
    "        torch.nn.init.normal_(m.weight, mean=0.0,std =0.2)\n",
    "        torch.nn.init.normal_(m.bias, mean=0.0,std =0.01)\n",
    "#     elif isinstance(m, torch.nn.Parameter):\n",
    "#         torch.nn.init.normal_(m, mean=0.0,std =0.1)\n",
    "\n",
    "        \n",
    "\n",
    "class Net(torch.nn.Module):\n",
    "    def __init__(self):\n",
    "\n",
    "        super(Net, self).__init__()\n",
    "        \n",
    "        self.input_dim = (Agent_number_n-1)*10\n",
    "        self.hidden_dim = 12\n",
    "        self.output_dim = 1\n",
    "        self.hidden_layer_count = 1\n",
    "        \n",
    "        current_dim = self.input_dim\n",
    "        self.layers = torch.nn.ModuleList()\n",
    "        for i in range(self.hidden_layer_count):\n",
    "            self.layers.append(torch.nn.Linear(current_dim, self.hidden_dim))\n",
    "            current_dim = self.hidden_dim\n",
    "        self.layers.append(torch.nn.Linear(current_dim, self.output_dim))\n",
    "\n",
    "    def calculate(self, value_list):\n",
    "        input_h = torch.zeros(self.input_dim).cuda()\n",
    "        for i in range((Agent_number_n-1)):\n",
    "            for j in range(10):\n",
    "                \n",
    "                input_h[i*10+j] = torch.where( value_list[i]*10>torch.tensor(j) ,\n",
    "                            torch.ones(1).cuda(),\n",
    "                            value_list[i]*10 - torch.tensor(j)\n",
    "                          )\n",
    "                if(value_list[i]*10<=torch.tensor(j)):\n",
    "                    break;\n",
    "        \n",
    "        h = input_h\n",
    "        for layer in self.layers:\n",
    "            h = torch.relu(layer(h))\n",
    "        return h\n",
    "\n",
    "    def forward(self, input_list,input_label,label):\n",
    "        global iteration,echo,target_order\n",
    "        loss1 = 0\n",
    "        loss2 = 0\n",
    "        input_list = torch.from_numpy(\n",
    "            np.array(input_list)).cuda().type(torch.float32)\n",
    "        h_list = []\n",
    "\n",
    "        if (target_order == \"supervised\"):\n",
    "            loss = 0 \n",
    "            for i in range(Agent_number_n):\n",
    "                h = self.calculate(input_list[i])\n",
    "                loss += torch.square(h - label[i])\n",
    "                h_list.append(h)\n",
    "            return loss\n",
    "        else:\n",
    "            for i in range(Agent_number_n):\n",
    "                h = self.calculate(input_list[i])\n",
    "                h_list.append(h)\n",
    "            input_label = torch.from_numpy(\n",
    "                np.array(input_label)).cuda().type(torch.float32)\n",
    "            sum_h = torch.sum(torch.cat(h_list)).cuda()\n",
    "\n",
    "\n",
    "            loss1 = torch.where((Agent_number_n-1)*input_label>sum_h,\n",
    "                            torch.square(((Agent_number_n-1)*input_label-sum_h)),\n",
    "                            torch.zeros(1).cuda()\n",
    "                          )\n",
    "\n",
    "            loss2 = torch.where((Agent_number_n-Alpha)*input_label<sum_h,\n",
    "                            torch.square((sum_h-(Agent_number_n-Alpha)*input_label))/4,\n",
    "                            torch.zeros(1).cuda()\n",
    "                          )\n",
    "\n",
    "            return loss1,loss2,h_list"
   ]
  },
  {
   "cell_type": "code",
   "execution_count": 9,
   "metadata": {
    "ExecuteTime": {
     "end_time": "2021-05-31T13:22:55.433558Z",
     "start_time": "2021-05-31T13:22:53.730717Z"
    }
   },
   "outputs": [
    {
     "data": {
      "text/plain": [
       "Net(\n",
       "  (layers): ModuleList(\n",
       "    (0): Linear(in_features=30, out_features=12, bias=True)\n",
       "    (1): Linear(in_features=12, out_features=1, bias=True)\n",
       "  )\n",
       ")"
      ]
     },
     "execution_count": 9,
     "metadata": {},
     "output_type": "execute_result"
    }
   ],
   "source": [
    "random.seed(2000)\n",
    "torch.manual_seed(256)\n",
    "net  = Net()\n",
    "net.apply(weight_init)\n",
    "\n",
    "net = torch.load(\"save/Deep_learning_small_12_4\")\n",
    "net.to(dev)"
   ]
  },
  {
   "cell_type": "code",
   "execution_count": 10,
   "metadata": {
    "ExecuteTime": {
     "end_time": "2021-05-31T13:22:55.449479Z",
     "start_time": "2021-05-31T13:22:55.435517Z"
    },
    "run_control": {
     "marked": true
    }
   },
   "outputs": [],
   "source": [
    "#optimizer = opt.RMSprop(net.parameters(), lr=0.00001)\n",
    "optimizer = opt.SGD(net.parameters(), lr=0.001)\n",
    "#optimizer = opt.Adam(net.parameters(), lr=0.00001)\n",
    "\n",
    "batch_size = 64\n",
    "echo = 0"
   ]
  },
  {
   "cell_type": "code",
   "execution_count": 11,
   "metadata": {
    "ExecuteTime": {
     "end_time": "2021-05-31T13:22:55.465446Z",
     "start_time": "2021-05-31T13:22:55.451474Z"
    }
   },
   "outputs": [],
   "source": [
    "target_order = \"supervised\"\n",
    "for iteration in range(int(echo)):\n",
    "    # offender_types = []\n",
    "    # defender_types = []\n",
    "    \n",
    "    \n",
    "    X_train_list = []\n",
    "    temp_number = 0\n",
    "    total_batch_loss = 0 \n",
    "    while(temp_number<len(training_data)-1):\n",
    "        loss_sum = 0\n",
    "        denominator = 0\n",
    "        for index in range(temp_number, min(batch_size+temp_number,len(training_data))):\n",
    "            h_loss = net(training_data[index],training_label[index],training_supervised_label[index])\n",
    "            denominator += 1\n",
    "            loss_sum += h_loss\n",
    "            \n",
    "        loss = (loss_sum) / denominator \n",
    "        total_batch_loss +=float(loss_sum)\n",
    "        optimizer.zero_grad()\n",
    "        \n",
    "        loss.backward()\n",
    "        \n",
    "        optimizer.step()\n",
    "        \n",
    "        temp_number = index\n",
    "        \n",
    "        if(random.random()<=0.01):\n",
    "            print(temp_number,loss,float(loss_sum))\n",
    "\n",
    "\n",
    "    print(\"batch iteration\", iteration)\n",
    "    print(\"batch_loss: %.2f \" % (total_batch_loss/len(training_data)))\n",
    "    \n",
    "    print()\n",
    "    print()"
   ]
  },
  {
   "cell_type": "code",
   "execution_count": 12,
   "metadata": {
    "ExecuteTime": {
     "end_time": "2021-05-31T13:23:18.176809Z",
     "start_time": "2021-05-31T13:22:55.466435Z"
    }
   },
   "outputs": [
    {
     "name": "stdout",
     "output_type": "stream",
     "text": [
      "4.441230017982454 2.104008972644806 2.337221045337648\n"
     ]
    }
   ],
   "source": [
    "denominator = 0\n",
    "result_list = []\n",
    "for index in range(len(testing_data)):\n",
    "    h_list = []\n",
    "    for i in range(Agent_number_n):\n",
    "        h = net.calculate(torch.tensor(testing_data[index][i]).cuda().type(torch.float32))\n",
    "        h_list.append(float(h))\n",
    "    \n",
    "    #print(sum(h_list),h_list,sum(h_list)/testing_label[index])\n",
    "    result_list.append(sum(h_list)/testing_label[index])\n",
    "    \n",
    "\n",
    "print(max(result_list),min(result_list),max(result_list)-min(result_list))"
   ]
  },
  {
   "cell_type": "code",
   "execution_count": 13,
   "metadata": {
    "ExecuteTime": {
     "end_time": "2021-05-31T13:23:19.258241Z",
     "start_time": "2021-05-31T13:23:18.177816Z"
    }
   },
   "outputs": [
    {
     "data": {
      "image/png": "[encoded data removed]",
      "text/plain": [
       "<Figure size 432x288 with 1 Axes>"
      ]
     },
     "metadata": {
      "needs_background": "light"
     },
     "output_type": "display_data"
    }
   ],
   "source": [
    "plt.hist(result_list,bins=500)\n",
    "\n",
    "plt.title(\"Means\", y=1.015, fontsize=20)\n",
    "plt.axvline(x=sum(result_list)/len(result_list), linestyle='--', linewidth=2.5, label=\"sample mean\", c='orange')\n",
    "plt.xlabel(\"samples\", labelpad=14)\n",
    "plt.ylabel(\"frequency of occurence\", labelpad=14)\n",
    "plt.legend();\n",
    "\n",
    "result_list.sort()\n",
    "\n",
    "plt.axvline(x=result_list[int(len(result_list)*0.01)], linestyle='--', linewidth=0.5, label=\"1%\", c='b')\n",
    "plt.axvline(x=result_list[int(len(result_list)*0.99)], linestyle='--', linewidth=0.5, label=\"99%\", c='r')\n",
    "\n",
    "\n",
    "plt.show()"
   ]
  },
  {
   "cell_type": "code",
   "execution_count": 14,
   "metadata": {
    "ExecuteTime": {
     "end_time": "2021-05-31T13:23:19.274257Z",
     "start_time": "2021-05-31T13:23:19.260237Z"
    }
   },
   "outputs": [],
   "source": [
    "torch.save(net, \"save/Deep_learning_small_12_4\")"
   ]
  },
  {
   "cell_type": "code",
   "execution_count": 15,
   "metadata": {
    "ExecuteTime": {
     "end_time": "2021-05-31T13:23:19.290156Z",
     "start_time": "2021-05-31T13:23:19.275227Z"
    },
    "run_control": {
     "marked": true
    }
   },
   "outputs": [],
   "source": [
    "#optimizer = opt.RMSprop(net.parameters(), lr=0.00001)\n",
    "#optimizer = opt.SGD(net.parameters(), lr=0.0001)\n",
    "optimizer = opt.Adam(net.parameters(), lr=0.001)\n",
    "\n",
    "batch_size = 64\n",
    "echo = 1"
   ]
  },
  {
   "cell_type": "code",
   "execution_count": 16,
   "metadata": {
    "ExecuteTime": {
     "end_time": "2021-05-31T14:01:42.708776Z",
     "start_time": "2021-05-31T13:23:19.292151Z"
    }
   },
   "outputs": [
    {
     "name": "stdout",
     "output_type": "stream",
     "text": [
      "3024 tensor([0.0143], device='cuda:0', grad_fn=<DivBackward0>) 0.2712341547012329 0.6464320421218872\n",
      "4347 tensor([0.0027], device='cuda:0', grad_fn=<DivBackward0>) 0.10074855387210846 0.07192011922597885\n",
      "8883 tensor([0.0037], device='cuda:0', grad_fn=<DivBackward0>) 0.05732473358511925 0.17776894569396973\n",
      "13104 tensor([0.0009], device='cuda:0', grad_fn=<DivBackward0>) 0.002568334573879838 0.05593328922986984\n",
      "16128 tensor([0.0006], device='cuda:0', grad_fn=<DivBackward0>) 0.005981576628983021 0.0303062591701746\n",
      "25011 tensor([0.0002], device='cuda:0', grad_fn=<DivBackward0>) 0.00450529670342803 0.0075402697548270226\n",
      "35091 tensor([9.1227e-05], device='cuda:0', grad_fn=<DivBackward0>) 0.0 0.005838508252054453\n",
      "36351 tensor([0.0002], device='cuda:0', grad_fn=<DivBackward0>) 0.004240239504724741 0.006822910159826279\n",
      "36666 tensor([7.5446e-05], device='cuda:0', grad_fn=<DivBackward0>) 0.0 0.004828554578125477\n",
      "56007 tensor([0.0004], device='cuda:0', grad_fn=<DivBackward0>) 0.02313300035893917 0.001738903229124844\n",
      "68103 tensor([3.6605e-05], device='cuda:0', grad_fn=<DivBackward0>) 0.0 0.002342729829251766\n",
      "68166 tensor([5.3481e-07], device='cuda:0', grad_fn=<DivBackward0>) 0.0 3.4227581636514515e-05\n",
      "80010 tensor([2.5668e-09], device='cuda:0', grad_fn=<DivBackward0>) 0.0 1.6427748050773516e-07\n",
      "82026 tensor([3.3983e-06], device='cuda:0', grad_fn=<DivBackward0>) 0.00021749228471890092 0.0\n",
      "85680 tensor([3.5879e-06], device='cuda:0', grad_fn=<DivBackward0>) 0.0 0.0002296257734997198\n",
      "85869 tensor([1.1725e-05], device='cuda:0', grad_fn=<DivBackward0>) 0.0 0.0007504125824198127\n",
      "94878 tensor([4.5008e-05], device='cuda:0', grad_fn=<DivBackward0>) 0.0 0.0028805392794311047\n",
      "batch iteration 0\n",
      "batch_loss: 0.00 \n",
      "\n",
      "\n"
     ]
    }
   ],
   "source": [
    "target_order = \"unsupervised\"\n",
    "for iteration in range(int(echo)):\n",
    "    # offender_types = []\n",
    "    # defender_types = []\n",
    "    \n",
    "    \n",
    "    X_train_list = []\n",
    "    temp_number = 0\n",
    "    total_batch_loss = 0 \n",
    "    while(temp_number<len(training_data)-1):\n",
    "        \n",
    "        loss2_list = []\n",
    "        loss1_sum = 0\n",
    "        loss2_sum = 0\n",
    "        denominator = 0\n",
    "        for index in range(temp_number, min(batch_size+temp_number,len(training_data))):\n",
    "            h_loss1,h_loss2,h_list = net(training_data[index],training_label[index],0)\n",
    "            denominator += 1\n",
    "            loss1_sum += h_loss1\n",
    "            loss2_sum += h_loss2\n",
    "            \n",
    "        loss_sum = loss1_sum + loss2_sum\n",
    "        loss = (loss_sum) / denominator \n",
    "        total_batch_loss +=float(loss_sum)\n",
    "        optimizer.zero_grad()\n",
    "        \n",
    "        loss.backward()\n",
    "        \n",
    "        optimizer.step()\n",
    "        \n",
    "        temp_number = index\n",
    "        \n",
    "        if(random.random()<=0.01):\n",
    "            print(temp_number,loss,float(loss1_sum),float(loss2_sum))\n",
    "\n",
    "\n",
    "    print(\"batch iteration\", iteration)\n",
    "    print(\"batch_loss: %.2f \" % (total_batch_loss/len(training_data)))\n",
    "    \n",
    "    print()\n",
    "    print()"
   ]
  },
  {
   "cell_type": "code",
   "execution_count": 17,
   "metadata": {
    "ExecuteTime": {
     "end_time": "2021-05-31T14:01:42.724746Z",
     "start_time": "2021-05-31T14:01:42.709772Z"
    }
   },
   "outputs": [],
   "source": [
    "torch.save(net, \"save/Deep_learning_small_12_4\")"
   ]
  },
  {
   "cell_type": "code",
   "execution_count": 18,
   "metadata": {
    "ExecuteTime": {
     "end_time": "2021-05-31T14:02:03.813014Z",
     "start_time": "2021-05-31T14:01:42.725743Z"
    }
   },
   "outputs": [
    {
     "name": "stdout",
     "output_type": "stream",
     "text": [
      "3.54774934053421 2.8411970138549805 0.7065523266792297\n"
     ]
    }
   ],
   "source": [
    "denominator = 0\n",
    "result_list = []\n",
    "for index in range(len(testing_data)):\n",
    "    h_list = []\n",
    "    for i in range(Agent_number_n):\n",
    "        h = net.calculate(torch.tensor(testing_data[index][i]).cuda().type(torch.float32))\n",
    "        h_list.append(float(h))\n",
    "    \n",
    "    #print(sum(h_list),h_list,sum(h_list)/testing_label[index])\n",
    "    result_list.append(sum(h_list)/testing_label[index])\n",
    "    \n",
    "\n",
    "print(max(result_list),min(result_list),max(result_list)-min(result_list))"
   ]
  },
  {
   "cell_type": "code",
   "execution_count": 19,
   "metadata": {
    "ExecuteTime": {
     "end_time": "2021-05-31T14:02:04.757025Z",
     "start_time": "2021-05-31T14:02:03.813940Z"
    }
   },
   "outputs": [
    {
     "data": {
      "image/png": "[encoded data removed]",
      "text/plain": [
       "<Figure size 432x288 with 1 Axes>"
      ]
     },
     "metadata": {
      "needs_background": "light"
     },
     "output_type": "display_data"
    }
   ],
   "source": [
    "plt.hist(result_list,bins=500)\n",
    "\n",
    "plt.title(\"Means\", y=1.015, fontsize=20)\n",
    "plt.axvline(x=sum(result_list)/len(result_list), linestyle='--', linewidth=2.5, label=\"sample mean\", c='orange')\n",
    "plt.xlabel(\"samples\", labelpad=14)\n",
    "plt.ylabel(\"frequency of occurence\", labelpad=14)\n",
    "plt.legend();\n",
    "\n",
    "result_list.sort()\n",
    "\n",
    "plt.axvline(x=result_list[int(len(result_list)*0.01)], linestyle='--', linewidth=0.5, label=\"1%\", c='b')\n",
    "plt.axvline(x=result_list[int(len(result_list)*0.99)], linestyle='--', linewidth=0.5, label=\"99%\", c='r')\n",
    "\n",
    "\n",
    "plt.show()"
   ]
  },
  {
   "cell_type": "code",
   "execution_count": 20,
   "metadata": {
    "ExecuteTime": {
     "end_time": "2021-05-31T14:02:04.802821Z",
     "start_time": "2021-05-31T14:02:04.758026Z"
    }
   },
   "outputs": [
    {
     "name": "stdout",
     "output_type": "stream",
     "text": [
      "Parameter containing:\n",
      "tensor([[-3.7325e-02,  1.5654e-01,  8.7346e-02, -2.0494e-02,  1.9930e-01,\n",
      "          2.2685e-01, -2.1432e-01,  8.2668e-02,  3.0000e-01, -1.6314e-01,\n",
      "         -1.0632e-01, -1.1086e-01,  2.1823e-01,  1.3957e-02,  7.7547e-02,\n",
      "          2.2623e-01,  6.8901e-03,  7.3875e-02,  2.7803e-01,  5.8433e-01,\n",
      "         -1.2295e-01,  2.1700e-01,  5.4913e-02, -5.9687e-02,  3.7248e-01,\n",
      "          3.4422e-01,  1.6365e-02, -4.1124e-01, -1.5682e-01, -1.6956e-01],\n",
      "        [ 9.5331e-02, -2.2068e-01,  8.9110e-03,  1.3735e-01,  1.1744e-01,\n",
      "         -8.7413e-03,  1.7380e-01, -1.3862e-01,  3.1006e-01, -2.4733e-02,\n",
      "          4.7738e-01,  4.2877e-03, -2.3489e-01,  2.9742e-01, -1.8127e-01,\n",
      "          8.3327e-02, -2.0265e-01, -3.1895e-02,  9.8131e-02,  3.6253e-02,\n",
      "          2.5383e-01, -1.8705e-01, -1.6878e-01,  2.1700e-01,  1.1462e-01,\n",
      "         -2.1135e-01, -2.1792e-01,  5.7267e-02,  5.8400e-02, -1.2456e-01],\n",
      "        [ 1.1490e-01,  2.8422e-01, -2.2128e-01, -9.8405e-02,  1.0084e-01,\n",
      "          1.2595e-01,  1.8009e-01,  2.5388e-01, -1.7954e-01,  1.8889e-01,\n",
      "          4.5083e-01,  7.6139e-03,  3.7425e-01,  2.6554e-02, -1.9701e-01,\n",
      "          1.3907e-01,  2.1621e-01, -5.4728e-02, -2.0754e-01, -9.3163e-03,\n",
      "          2.5262e-01,  1.5707e-01,  1.5449e-01,  1.6666e-01, -7.7515e-02,\n",
      "         -5.1876e-05,  4.5099e-01,  2.7696e-01,  1.3189e-01,  8.1339e-02],\n",
      "        [ 3.2773e-02,  6.9967e-02, -2.6764e-01, -1.5811e-03,  2.7183e-01,\n",
      "          1.6963e-01, -4.8638e-03, -5.9430e-02,  6.4332e-02,  1.3603e-03,\n",
      "          1.1542e-01,  7.2056e-02,  1.7578e-02,  9.0340e-02, -5.4733e-01,\n",
      "          2.1093e-02,  1.1910e-01, -1.4095e-01, -1.8873e-01, -2.3107e-01,\n",
      "          2.1817e-01,  9.6806e-02,  4.0880e-02,  1.5817e-01,  2.7117e-01,\n",
      "         -2.2925e-01,  1.1198e-02, -1.4642e-01,  2.7882e-01, -6.9650e-02],\n",
      "        [-1.5109e-01, -1.2691e-01, -4.4804e-02,  2.8695e-01,  1.8698e-01,\n",
      "          2.9666e-01, -1.5976e-02,  1.2283e-01, -6.0173e-02, -7.7908e-03,\n",
      "         -2.2215e-01, -1.5776e-01,  1.2597e-01, -1.7171e-02, -2.8931e-01,\n",
      "         -2.5215e-01, -1.4368e-02, -3.0058e-01, -3.4667e-01,  6.8637e-02,\n",
      "         -1.3593e-01, -2.7341e-01,  5.2359e-02, -2.1962e-01, -3.1374e-01,\n",
      "          3.6171e-01,  6.4667e-02,  2.0770e-02, -3.3801e-01,  1.2088e-01],\n",
      "        [-2.2683e-01,  4.4634e-02, -1.8892e-01, -1.5582e-01, -2.0670e-01,\n",
      "          2.9144e-01, -6.8613e-02, -2.2150e-02, -3.3667e-02, -2.0655e-01,\n",
      "         -3.2198e-01, -3.6008e-01,  2.5064e-02,  1.5554e-01, -3.4537e-01,\n",
      "          3.8420e-01,  1.1684e-01,  1.9101e-01, -3.4863e-01,  6.4327e-02,\n",
      "          9.0406e-02, -1.0394e-01,  6.0689e-02,  5.4364e-02,  2.9648e-01,\n",
      "          6.2343e-03, -1.2379e-01, -4.9636e-02, -1.9763e-01, -5.5606e-02],\n",
      "        [-3.1731e-01,  1.7966e-02,  1.0352e-01,  8.4565e-02, -4.0603e-01,\n",
      "         -1.1173e-01, -2.6220e-01,  2.1665e-02,  1.8044e-01,  1.3777e-01,\n",
      "         -1.0990e-01,  1.5867e-01,  7.4219e-02,  2.9343e-01, -3.7510e-01,\n",
      "          3.6532e-01, -2.7322e-02,  1.5300e-01, -1.5316e-01, -6.8278e-02,\n",
      "         -2.8273e-01,  2.4395e-02, -1.1626e-01,  9.2447e-02,  9.2426e-02,\n",
      "          4.1108e-02, -2.4492e-01,  1.1780e-01,  1.8733e-01, -2.4168e-02],\n",
      "        [-3.1105e-02,  9.0669e-02,  1.6740e-01, -4.7579e-02, -2.1208e-01,\n",
      "          8.6937e-02, -2.4586e-01, -1.9926e-01, -5.1526e-03,  7.2828e-02,\n",
      "          1.1570e-01, -1.1253e-01, -1.4130e-01, -1.0565e-01,  7.8980e-02,\n",
      "          4.9830e-04,  5.3036e-01,  1.3600e-01,  2.7772e-01,  4.6395e-02,\n",
      "         -4.8292e-03, -2.5414e-01, -2.6800e-01, -3.6991e-01,  2.0509e-01,\n",
      "          1.7882e-01, -4.9707e-01,  1.1171e-01, -1.7447e-01,  1.6002e-01],\n",
      "        [ 3.9080e-01, -1.2503e-01,  6.5231e-02, -1.9640e-01, -1.6722e-01,\n",
      "          1.0338e-01,  2.8587e-01,  1.2852e-01, -5.7945e-01, -5.3318e-01,\n",
      "         -1.4165e-01, -1.6742e-01, -2.9505e-01,  4.0143e-01, -1.2497e-01,\n",
      "          4.2822e-02, -2.2006e-01,  7.5021e-02, -3.7969e-02,  5.8437e-02,\n",
      "         -3.2623e-01,  1.0710e-01, -4.4388e-01,  4.9506e-02, -1.2270e-01,\n",
      "          4.3194e-02,  1.3663e-01, -2.1996e-01, -9.4326e-02, -4.1580e-02],\n",
      "        [ 1.8715e-01, -5.7019e-02,  9.4341e-02, -1.1731e-01,  1.2059e-01,\n",
      "          8.8391e-02,  1.5753e-01, -1.0789e-02,  1.0378e-01, -8.1995e-02,\n",
      "          8.6273e-02, -1.1843e-01,  3.1424e-01, -2.6369e-01, -3.4917e-01,\n",
      "          4.5377e-02, -2.4507e-01, -1.5065e-01, -5.9164e-04, -2.6582e-01,\n",
      "          1.7791e-01, -6.4014e-02,  1.5465e-01, -3.5913e-02, -2.6577e-01,\n",
      "         -5.9873e-01, -2.9231e-02,  1.3020e-01,  1.7074e-01,  1.5488e-01],\n",
      "        [-9.0668e-02, -2.5347e-01, -2.4821e-01, -1.3367e-01,  3.2470e-02,\n",
      "          2.4795e-01,  3.5013e-01,  1.2523e-02,  1.9649e-01,  8.7457e-02,\n",
      "         -9.3826e-02,  1.9777e-01,  8.5639e-02,  1.2884e-01,  2.2796e-02,\n",
      "          3.5435e-01, -8.1737e-02, -4.7709e-02,  2.6403e-01,  1.1255e-01,\n",
      "          3.8650e-02,  3.4079e-01,  2.5369e-01, -5.6422e-02, -9.0909e-02,\n",
      "         -1.9422e-01, -1.5864e-01, -2.4446e-01,  4.2933e-01, -5.0904e-04],\n",
      "        [ 2.2951e-01,  2.6876e-02, -3.1900e-01,  2.4487e-02,  3.3968e-01,\n",
      "          9.4609e-02,  1.3183e-01, -8.8915e-02,  3.2502e-01, -1.3380e-01,\n",
      "          8.2934e-02, -7.3357e-02,  3.7082e-01, -1.1094e-01,  2.3909e-01,\n",
      "         -2.1123e-01, -8.4686e-02,  3.3309e-01,  2.1739e-01, -5.4610e-01,\n",
      "         -2.6672e-01, -5.7108e-02,  2.9102e-01, -1.6780e-02,  1.9857e-01,\n",
      "         -7.1007e-02, -8.1253e-02,  2.3965e-01, -6.6046e-02,  1.3096e-01]],\n",
      "       device='cuda:0', requires_grad=True)\n",
      "Parameter containing:\n",
      "tensor([-0.0054,  0.0334,  0.0767,  0.0238,  0.0027, -0.0121,  0.0214,  0.0278,\n",
      "        -0.0442,  0.0101,  0.0311,  0.0192], device='cuda:0',\n",
      "       requires_grad=True)\n",
      "Parameter containing:\n",
      "tensor([[ 0.2021,  0.2299,  0.5606, -0.1390, -0.3698, -0.1066, -0.1060,  0.2200,\n",
      "         -0.0837, -0.2674,  0.1483,  0.2199]], device='cuda:0',\n",
      "       requires_grad=True)\n",
      "Parameter containing:\n",
      "tensor([0.1488], device='cuda:0', requires_grad=True)\n"
     ]
    }
   ],
   "source": [
    "for param in net.parameters():\n",
    "    print(param )"
   ]
  }
 ],
 "metadata": {
  "hide_input": false,
  "kernelspec": {
   "display_name": "Python 3",
   "language": "python",
   "name": "python3"
  },
  "language_info": {
   "codemirror_mode": {
    "name": "ipython",
    "version": 3
   },
   "file_extension": ".py",
   "mimetype": "text/x-python",
   "name": "python",
   "nbconvert_exporter": "python",
   "pygments_lexer": "ipython3",
   "version": "3.8.3"
  },
  "varInspector": {
   "cols": {
    "lenName": 16,
    "lenType": 16,
    "lenVar": 40
   },
   "kernels_config": {
    "python": {
     "delete_cmd_postfix": "",
     "delete_cmd_prefix": "del ",
     "library": "var_list.py",
     "varRefreshCmd": "print(var_dic_list())"
    },
    "r": {
     "delete_cmd_postfix": ") ",
     "delete_cmd_prefix": "rm(",
     "library": "var_list.r",
     "varRefreshCmd": "cat(var_dic_list()) "
    }
   },
   "types_to_exclude": [
    "module",
    "function",
    "builtin_function_or_method",
    "instance",
    "_Feature"
   ],
   "window_display": false
  }
 },
 "nbformat": 4,
 "nbformat_minor": 4
}
