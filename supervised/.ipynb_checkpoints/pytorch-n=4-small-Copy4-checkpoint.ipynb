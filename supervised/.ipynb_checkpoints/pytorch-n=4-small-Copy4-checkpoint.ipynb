{
 "cells": [
  {
   "cell_type": "code",
   "execution_count": 1,
   "metadata": {
    "ExecuteTime": {
     "end_time": "2021-05-27T14:35:10.575239Z",
     "start_time": "2021-05-27T14:35:09.306933Z"
    }
   },
   "outputs": [
    {
     "name": "stdout",
     "output_type": "stream",
     "text": [
      "pygame 2.0.1 (SDL 2.0.14, Python 3.8.3)\n",
      "Hello from the pygame community. https://www.pygame.org/contribute.html\n",
      "cuda:0\n"
     ]
    },
    {
     "name": "stderr",
     "output_type": "stream",
     "text": [
      "D:\\ComputerSoftwares\\Anaconda\\lib\\site-packages\\sklearn\\utils\\deprecation.py:143: FutureWarning: The sklearn.datasets.samples_generator module is  deprecated in version 0.22 and will be removed in version 0.24. The corresponding classes / functions should instead be imported from sklearn.datasets. Anything that cannot be imported from sklearn.datasets is now part of the private API.\n",
      "  warnings.warn(message, FutureWarning)\n"
     ]
    }
   ],
   "source": [
    "\n",
    "import pygame\n",
    "import random\n",
    "import os\n",
    "import time\n",
    "import numpy as np\n",
    "import math\n",
    "import torch\n",
    "import torch.nn.functional\n",
    "import matplotlib.pyplot as plt\n",
    "import torch.optim as opt\n",
    "from torch.autograd import Variable\n",
    "from sklearn.model_selection import train_test_split\n",
    "\n",
    "import scipy.stats as st\n",
    "from sklearn.datasets.samples_generator import make_blobs\n",
    "from matplotlib.colors import LogNorm \n",
    "import matplotlib.cm as cm\n",
    "import torch.nn as nn\n",
    "import numpy as np\n",
    "import matplotlib.pyplot as plt\n",
    "\n",
    "\n",
    "if torch.cuda.is_available():  \n",
    "    dev = \"cuda:0\" \n",
    "else:  \n",
    "    dev = \"cpu\"  \n",
    "\n",
    "print(dev)\n"
   ]
  },
  {
   "cell_type": "code",
   "execution_count": 2,
   "metadata": {
    "ExecuteTime": {
     "end_time": "2021-05-27T14:35:10.590681Z",
     "start_time": "2021-05-27T14:35:10.577213Z"
    }
   },
   "outputs": [],
   "source": [
    "global target_order\n",
    "target_order = \"supervised\"\n",
    "global temp_list\n",
    "temp_list = []\n",
    "Agent_number_n=4;\n",
    "Alpha = 0.666;\n",
    "\n"
   ]
  },
  {
   "cell_type": "code",
   "execution_count": 3,
   "metadata": {
    "ExecuteTime": {
     "end_time": "2021-05-27T14:35:13.271364Z",
     "start_time": "2021-05-27T14:35:10.592675Z"
    }
   },
   "outputs": [
    {
     "name": "stdout",
     "output_type": "stream",
     "text": [
      "[[[0.65314782 0.62464143 0.1265776 ]\n",
      "  [0.75563268 0.62464143 0.1265776 ]\n",
      "  [0.75563268 0.65314782 0.1265776 ]\n",
      "  [0.75563268 0.65314782 0.62464143]]\n",
      "\n",
      " [[0.75271794 0.55264507 0.35759328]\n",
      "  [0.86728952 0.55264507 0.35759328]\n",
      "  [0.86728952 0.75271794 0.35759328]\n",
      "  [0.86728952 0.75271794 0.55264507]]\n",
      "\n",
      " [[0.86737285 0.7149515  0.16656164]\n",
      "  [0.9691164  0.7149515  0.16656164]\n",
      "  [0.9691164  0.86737285 0.16656164]\n",
      "  [0.9691164  0.86737285 0.7149515 ]]\n",
      "\n",
      " ...\n",
      "\n",
      " [[0.83459374 0.67625752 0.52628985]\n",
      "  [0.95437467 0.67625752 0.52628985]\n",
      "  [0.95437467 0.83459374 0.52628985]\n",
      "  [0.95437467 0.83459374 0.67625752]]\n",
      "\n",
      " [[0.60411368 0.43737541 0.23409471]\n",
      "  [0.61119475 0.43737541 0.23409471]\n",
      "  [0.61119475 0.60411368 0.23409471]\n",
      "  [0.61119475 0.60411368 0.43737541]]\n",
      "\n",
      " [[0.88514755 0.32852904 0.27854314]\n",
      "  [0.99249306 0.32852904 0.27854314]\n",
      "  [0.99249306 0.88514755 0.27854314]\n",
      "  [0.99249306 0.88514755 0.32852904]]]\n",
      "[[[0.88011125 0.09829093 0.01544174]\n",
      "  [0.91344645 0.09829093 0.01544174]\n",
      "  [0.91344645 0.88011125 0.01544174]\n",
      "  [0.91344645 0.88011125 0.09829093]]\n",
      "\n",
      " [[0.46637194 0.33216209 0.24637014]\n",
      "  [0.61060273 0.33216209 0.24637014]\n",
      "  [0.61060273 0.46637194 0.24637014]\n",
      "  [0.61060273 0.46637194 0.33216209]]\n",
      "\n",
      " [[0.52437078 0.41919736 0.1387868 ]\n",
      "  [0.95035052 0.41919736 0.1387868 ]\n",
      "  [0.95035052 0.52437078 0.1387868 ]\n",
      "  [0.95035052 0.52437078 0.41919736]]\n",
      "\n",
      " ...\n",
      "\n",
      " [[0.63859094 0.52027178 0.13869583]\n",
      "  [0.65822175 0.52027178 0.13869583]\n",
      "  [0.65822175 0.63859094 0.13869583]\n",
      "  [0.65822175 0.63859094 0.52027178]]\n",
      "\n",
      " [[0.75926587 0.62139614 0.10926083]\n",
      "  [0.92107518 0.62139614 0.10926083]\n",
      "  [0.92107518 0.75926587 0.10926083]\n",
      "  [0.92107518 0.75926587 0.62139614]]\n",
      "\n",
      " [[0.54742019 0.44718493 0.35604171]\n",
      "  [0.95023381 0.44718493 0.35604171]\n",
      "  [0.95023381 0.54742019 0.35604171]\n",
      "  [0.95023381 0.54742019 0.44718493]]]\n",
      "[2.15999953 2.53024581 2.71800238 ... 2.99151578 1.88677856 2.48471279]\n",
      "[1.90729037 1.6555069  2.03270545 ... 1.95578031 2.41099802 2.30088064]\n"
     ]
    }
   ],
   "source": [
    "global temp_list\n",
    "temp_list = []\n",
    "def appen(_x_list,y):\n",
    "    global temp_list\n",
    "    temp_list.append(_x_list)\n",
    "    \n",
    "def appen_train(x_list):\n",
    "    global temp_list\n",
    "                \n",
    "    S= max(sum(x_list),1.0);\n",
    "    temp_list = []\n",
    "    \n",
    "    for i in range(Agent_number_n):\n",
    "        temp = []\n",
    "        for j in range(Agent_number_n):\n",
    "            if(i!=j):\n",
    "                temp.append(x_list[j])\n",
    "        appen(temp,S)\n",
    "    \n",
    "    training_data.append(temp_list)\n",
    "    training_label.append(S)\n",
    "    \n",
    "\n",
    "def read_training_data():\n",
    "    for i in range(100000):\n",
    "        appen_train(sorted(np.random.rand(Agent_number_n), reverse=True));\n",
    "\n",
    "training_data=[]\n",
    "training_label=[]\n",
    "S=1.0\n",
    "read_training_data();\n",
    "\n",
    "def appen_test(x_list):\n",
    "    global temp_list\n",
    "                \n",
    "    S= max(sum(x_list),1.0);\n",
    "    temp_list = []\n",
    "    \n",
    "    for i in range(Agent_number_n):\n",
    "        temp = []\n",
    "        for j in range(Agent_number_n):\n",
    "            if(i!=j):\n",
    "                temp.append(x_list[j])\n",
    "        appen(temp,S)\n",
    "    testing_data.append(temp_list)\n",
    "    testing_label.append(S)\n",
    "    \n",
    "\n",
    "def read_testing_data():\n",
    "#     devided=20\n",
    "#     for i1 in range(devided+1):\n",
    "#         for i2 in range(i1+1):\n",
    "#             for i3 in range(i2+1):\n",
    "#                 appen_test(i1/devided,i2/devided,i3/devided);\n",
    "    for i in range(100000):\n",
    "        appen_test(sorted(np.random.rand(Agent_number_n), reverse=True));\n",
    "                            \n",
    "\n",
    "testing_data=[]\n",
    "testing_label=[]\n",
    "S=1.0\n",
    "read_testing_data();\n",
    "\n",
    "training_data=np.array(training_data)\n",
    "training_label=np.array(training_label)\n",
    "testing_data=np.array(testing_data)\n",
    "testing_label=np.array(testing_label)\n",
    "print(training_data)\n",
    "print(testing_data)\n",
    "print(training_label)\n",
    "print(testing_label)"
   ]
  },
  {
   "cell_type": "code",
   "execution_count": 4,
   "metadata": {
    "ExecuteTime": {
     "end_time": "2021-05-27T14:35:35.852209Z",
     "start_time": "2021-05-27T14:35:13.272340Z"
    }
   },
   "outputs": [
    {
     "name": "stdout",
     "output_type": "stream",
     "text": [
      "3.374947371059616 2.999999999999999 0.37494737105961695\n"
     ]
    }
   ],
   "source": [
    "def h_3_star(a, b, t):\n",
    "    return a - min(a, t) + b - min(b, t) + max(min(a, t)+min(b, t), 2*t/3) + 1/2 * max(min(a, t)+min(b, t), t) - 1/2 * max(max(min(a, t), min(b, t)), 2*t/3) - t/6\n",
    "\n",
    "\n",
    "def f_function(a, b, z):\n",
    "    if(z >= 1):\n",
    "        return (a+b)/2 + z/3\n",
    "    else:\n",
    "        return z/3 + h_3_star(a, b, 1-z)/2\n",
    "\n",
    "def h_function(input_list):\n",
    "    #input_list = sorted(input_list)\n",
    "    g_list = []\n",
    "    for j1 in range(len(input_list) ):\n",
    "        for j2 in range(len(input_list)):\n",
    "            if(j1 != j2):\n",
    "                a = input_list[j1]\n",
    "                b = input_list[j2]\n",
    "                z = sum(input_list)- a-b\n",
    "\n",
    "                g_list.append( f_function(a, b, z) * (Agent_number_n-1))\n",
    "    h = sum(g_list) * 3 /  (Agent_number_n) /  (Agent_number_n-1) /  (Agent_number_n - 2)\n",
    "    return h\n",
    "                \n",
    "                \n",
    "x_list = []\n",
    "y_list = []\n",
    "z_list = []\n",
    "result_list = []\n",
    "training_supervised_label=[]\n",
    "for index in range(len(training_data)):\n",
    "    h_list = []\n",
    "    for i in range(Agent_number_n):\n",
    "        x_list.append(training_data[index][i][0])\n",
    "        y_list.append(training_data[index][i][1])\n",
    "        h = h_function(training_data[index][i])\n",
    "        z_list.append(float(h))\n",
    "        h_list.append(float(h))\n",
    "    training_supervised_label.append(h_list)\n",
    "    result_list.append(sum(h_list)/training_label[index]) \n",
    "    \n",
    "    \n",
    "print(max(result_list), min(result_list), max(result_list)-min(result_list))"
   ]
  },
  {
   "cell_type": "code",
   "execution_count": 5,
   "metadata": {
    "ExecuteTime": {
     "end_time": "2021-05-27T14:35:36.840200Z",
     "start_time": "2021-05-27T14:35:35.853207Z"
    }
   },
   "outputs": [
    {
     "data": {
      "image/png": "[encoded data removed]",
      "text/plain": [
       "<Figure size 432x288 with 1 Axes>"
      ]
     },
     "metadata": {
      "needs_background": "light"
     },
     "output_type": "display_data"
    }
   ],
   "source": [
    "plt.hist(result_list,bins=500)\n",
    "\n",
    "plt.title(\"Means\", y=1.015, fontsize=20)\n",
    "plt.axvline(x=sum(result_list)/len(result_list), linestyle='--', linewidth=2.5, label=\"sample mean\", c='orange')\n",
    "plt.xlabel(\"samples\", labelpad=14)\n",
    "plt.ylabel(\"frequency of occurence\", labelpad=14)\n",
    "plt.legend();\n",
    "\n",
    "result_list.sort()\n",
    "\n",
    "plt.axvline(x=result_list[int(len(result_list)*0.001)], linestyle='--', linewidth=0.5, label=\"1%\", c='b')\n",
    "plt.axvline(x=result_list[int(len(result_list)*0.999)], linestyle='--', linewidth=0.5, label=\"99%\", c='r')\n",
    "\n",
    "\n",
    "plt.show()"
   ]
  },
  {
   "cell_type": "code",
   "execution_count": 6,
   "metadata": {
    "ExecuteTime": {
     "end_time": "2021-05-27T14:35:36.950840Z",
     "start_time": "2021-05-27T14:35:36.841164Z"
    }
   },
   "outputs": [
    {
     "name": "stdout",
     "output_type": "stream",
     "text": [
      "[[1.46922664 1.57811681 1.61374979 2.15424419]\n",
      " [1.79642613 1.89667626 2.10540065 2.27607096]\n",
      " [1.86084266 1.94986827 2.12766952 2.60751065]\n",
      " ...\n",
      " [2.15749848 2.26230678 2.40085098 2.53207269]\n",
      " [1.3376012  1.34512484 1.55354767 1.82109837]\n",
      " [1.53334433 1.62727165 2.26166077 2.30539844]]\n"
     ]
    }
   ],
   "source": [
    "training_supervised_label=np.array(training_supervised_label)\n",
    "print(training_supervised_label)"
   ]
  },
  {
   "cell_type": "code",
   "execution_count": 7,
   "metadata": {
    "ExecuteTime": {
     "end_time": "2021-05-27T14:35:36.966763Z",
     "start_time": "2021-05-27T14:35:36.953798Z"
    }
   },
   "outputs": [
    {
     "name": "stdout",
     "output_type": "stream",
     "text": [
      "cuda:0\n"
     ]
    }
   ],
   "source": [
    "if torch.cuda.is_available():  \n",
    "    dev = \"cuda:0\" \n",
    "else:  \n",
    "    dev = \"cpu\"  \n",
    "\n",
    "print(dev)\n"
   ]
  },
  {
   "cell_type": "code",
   "execution_count": 8,
   "metadata": {
    "ExecuteTime": {
     "end_time": "2021-05-27T14:35:36.998453Z",
     "start_time": "2021-05-27T14:35:36.968758Z"
    },
    "run_control": {
     "marked": true
    }
   },
   "outputs": [],
   "source": [
    "def weight_init(m):\n",
    "    if isinstance(m, torch.nn.Conv2d):\n",
    "        torch.nn.init.xavier_normal_(m.weight)\n",
    "        torch.nn.init.zeros_(m.bias)\n",
    "    elif isinstance(m, torch.nn.Linear):\n",
    "        torch.nn.init.normal_(m.weight, mean=0.0,std =0.2)\n",
    "        torch.nn.init.normal_(m.bias, mean=0.0,std =0.01)\n",
    "    elif isinstance(m, torch.nn.Parameter):\n",
    "         torch.nn.init.normal_(m, mean=0.0,std =0.2)\n",
    "\n",
    "        \n",
    "\n",
    "class Net(torch.nn.Module):\n",
    "    def __init__(self):\n",
    "\n",
    "        super(Net, self).__init__()\n",
    "        \n",
    "        self.input_dim = Agent_number_n-1\n",
    "        self.hidden_dim = 20\n",
    "        self.output_dim = 1\n",
    "        self.hidden_layer_count = 3\n",
    "        \n",
    "        current_dim = self.input_dim\n",
    "        self.layers = torch.nn.ModuleList()\n",
    "        for i in range(self.hidden_layer_count):\n",
    "            self.layers.append(torch.nn.Linear(current_dim, self.hidden_dim))\n",
    "            current_dim = self.hidden_dim\n",
    "        self.layers.append(torch.nn.Linear(current_dim, self.hidden_dim))\n",
    "        \n",
    "        self.layer1 = torch.nn.Parameter(torch.Tensor(self.hidden_dim, self.hidden_dim))\n",
    "        self.bias1 = torch.nn.Parameter(torch.Tensor(self.hidden_dim))\n",
    "        self.layer2 = torch.nn.Parameter(torch.Tensor(self.hidden_dim, self.output_dim))\n",
    "        self.bias2 = torch.nn.Parameter(torch.Tensor(self.output_dim))\n",
    "\n",
    "    def calculate(self, value_list):\n",
    "        #h0 = torch.cat([torch.tensor([torch.sum(value_list)]).cuda(),value_list])\n",
    "        h0 = value_list\n",
    "        for layer in self.layers:\n",
    "            h0 = torch.relu(layer(h0))\n",
    "        h1 = h0\n",
    "        h2 = torch.relu(torch.matmul(h1,self.layer1)-self.bias1) + self.bias1\n",
    "        h = torch.matmul(h2,self.layer2) + self.bias2\n",
    "        \n",
    "        return h\n",
    "\n",
    "    def forward(self, input_list,input_label,label):\n",
    "        global iteration,echo,target_order\n",
    "        loss1 = 0\n",
    "        loss2 = 0\n",
    "        input_list = torch.from_numpy(\n",
    "            np.array(input_list)).cuda().type(torch.float32)\n",
    "        h_list = []\n",
    "\n",
    "        if (target_order == \"supervised\"):\n",
    "            loss = 0 \n",
    "            for i in range(Agent_number_n):\n",
    "                h = self.calculate(input_list[i])\n",
    "                loss += torch.square(h - label[i])\n",
    "                h_list.append(h)\n",
    "            return loss\n",
    "        else:\n",
    "            for i in range(Agent_number_n):\n",
    "                h = self.calculate(input_list[i])\n",
    "                h_list.append(h)\n",
    "            input_label = torch.from_numpy(\n",
    "                np.array(input_label)).cuda().type(torch.float32)\n",
    "            sum_h = torch.sum(torch.cat(h_list)).cuda()\n",
    "\n",
    "\n",
    "            loss1 = torch.where((Agent_number_n-1)*input_label>sum_h,\n",
    "                            torch.square(((Agent_number_n-1)*input_label-sum_h)),\n",
    "                            torch.zeros(1).cuda()\n",
    "                          )\n",
    "\n",
    "            loss2 = torch.where((Agent_number_n-Alpha)*input_label<sum_h,\n",
    "                            torch.square((sum_h-(Agent_number_n-Alpha)*input_label)),\n",
    "                            torch.zeros(1).cuda()\n",
    "                          )\n",
    "\n",
    "            return loss1,loss2,h_list"
   ]
  },
  {
   "cell_type": "code",
   "execution_count": 9,
   "metadata": {
    "ExecuteTime": {
     "end_time": "2021-05-27T14:35:38.563720Z",
     "start_time": "2021-05-27T14:35:36.999194Z"
    },
    "run_control": {
     "marked": true
    }
   },
   "outputs": [
    {
     "data": {
      "text/plain": [
       "Net(\n",
       "  (layers): ModuleList(\n",
       "    (0): Linear(in_features=3, out_features=20, bias=True)\n",
       "    (1): Linear(in_features=20, out_features=20, bias=True)\n",
       "    (2): Linear(in_features=20, out_features=20, bias=True)\n",
       "    (3): Linear(in_features=20, out_features=20, bias=True)\n",
       "  )\n",
       ")"
      ]
     },
     "execution_count": 9,
     "metadata": {},
     "output_type": "execute_result"
    }
   ],
   "source": [
    "random.seed(2000)\n",
    "torch.manual_seed(256)\n",
    "net  = Net()\n",
    "net.apply(weight_init)\n",
    "\n",
    "#net = torch.load(\"save/Deep_learning_small_4_4\")\n",
    "net.to(dev)"
   ]
  },
  {
   "cell_type": "code",
   "execution_count": 10,
   "metadata": {
    "ExecuteTime": {
     "end_time": "2021-05-27T14:35:38.579293Z",
     "start_time": "2021-05-27T14:35:38.565715Z"
    },
    "run_control": {
     "marked": true
    }
   },
   "outputs": [],
   "source": [
    "#optimizer = opt.RMSprop(net.parameters(), lr=0.00001)\n",
    "#optimizer = opt.SGD(net.parameters(), lr=0.00001)\n",
    "optimizer = opt.Adam(net.parameters(), lr=0.001)\n",
    "\n",
    "batch_size = 64\n",
    "echo = 1"
   ]
  },
  {
   "cell_type": "code",
   "execution_count": 11,
   "metadata": {
    "ExecuteTime": {
     "end_time": "2021-05-27T14:42:02.394176Z",
     "start_time": "2021-05-27T14:35:38.581794Z"
    }
   },
   "outputs": [
    {
     "name": "stdout",
     "output_type": "stream",
     "text": [
      "3024 tensor([9.1258], device='cuda:0', grad_fn=<DivBackward0>) 584.0528564453125\n",
      "4347 tensor([9.5485], device='cuda:0', grad_fn=<DivBackward0>) 611.1009521484375\n",
      "8883 tensor([9.8324], device='cuda:0', grad_fn=<DivBackward0>) 629.2734985351562\n",
      "13104 tensor([8.1031], device='cuda:0', grad_fn=<DivBackward0>) 518.59716796875\n",
      "16128 tensor([7.9884], device='cuda:0', grad_fn=<DivBackward0>) 511.2563781738281\n",
      "25011 tensor([7.4944], device='cuda:0', grad_fn=<DivBackward0>) 479.63934326171875\n",
      "35091 tensor([4.9385], device='cuda:0', grad_fn=<DivBackward0>) 316.0635681152344\n",
      "36351 tensor([5.8584], device='cuda:0', grad_fn=<DivBackward0>) 374.94061279296875\n",
      "36666 tensor([5.1258], device='cuda:0', grad_fn=<DivBackward0>) 328.0516662597656\n",
      "56007 tensor([3.3220], device='cuda:0', grad_fn=<DivBackward0>) 212.61082458496094\n",
      "68103 tensor([3.0745], device='cuda:0', grad_fn=<DivBackward0>) 196.76663208007812\n",
      "68166 tensor([2.5587], device='cuda:0', grad_fn=<DivBackward0>) 163.759521484375\n",
      "80010 tensor([2.8829], device='cuda:0', grad_fn=<DivBackward0>) 184.5050048828125\n",
      "82026 tensor([2.1729], device='cuda:0', grad_fn=<DivBackward0>) 139.06448364257812\n",
      "85680 tensor([2.2620], device='cuda:0', grad_fn=<DivBackward0>) 144.7655487060547\n",
      "85869 tensor([2.1342], device='cuda:0', grad_fn=<DivBackward0>) 136.58700561523438\n",
      "94878 tensor([1.7513], device='cuda:0', grad_fn=<DivBackward0>) 112.08589935302734\n",
      "batch iteration 0\n",
      "batch_loss: 4.94 \n",
      "\n",
      "\n"
     ]
    }
   ],
   "source": [
    "target_order = \"supervised\"\n",
    "for iteration in range(int(echo)):\n",
    "    # offender_types = []\n",
    "    # defender_types = []\n",
    "    \n",
    "    \n",
    "    X_train_list = []\n",
    "    temp_number = 0\n",
    "    total_batch_loss = 0 \n",
    "    while(temp_number<len(training_data)-1):\n",
    "        loss_sum = 0\n",
    "        denominator = 0\n",
    "        for index in range(temp_number, min(batch_size+temp_number,len(training_data))):\n",
    "            h_loss = net(training_data[index],training_label[index],training_supervised_label[index])\n",
    "            denominator += 1\n",
    "            loss_sum += h_loss\n",
    "        \n",
    "        loss = (loss_sum) / denominator \n",
    "        total_batch_loss +=float(loss_sum)\n",
    "        optimizer.zero_grad()\n",
    "        \n",
    "        loss.backward()\n",
    "        \n",
    "        optimizer.step()\n",
    "        \n",
    "        temp_number = index\n",
    "        \n",
    "        if(random.random()<=0.01):\n",
    "            print(temp_number,loss,float(loss_sum))\n",
    "\n",
    "\n",
    "    print(\"batch iteration\", iteration)\n",
    "    print(\"batch_loss: %.2f \" % (total_batch_loss/len(training_data)))\n",
    "    \n",
    "    print()\n",
    "    print()"
   ]
  },
  {
   "cell_type": "code",
   "execution_count": 12,
   "metadata": {
    "ExecuteTime": {
     "end_time": "2021-05-27T14:45:22.737575Z",
     "start_time": "2021-05-27T14:42:02.394176Z"
    }
   },
   "outputs": [
    {
     "name": "stdout",
     "output_type": "stream",
     "text": [
      "4.736763000488281 1.2302598579333834 3.506503142554898\n"
     ]
    }
   ],
   "source": [
    "denominator = 0\n",
    "result_list = []\n",
    "for index in range(len(testing_data)):\n",
    "    h_list = []\n",
    "    for i in range(Agent_number_n):\n",
    "        h = net.calculate(torch.tensor(testing_data[index][i]).cuda().type(torch.float32))\n",
    "        h_list.append(float(h))\n",
    "    \n",
    "    #print(sum(h_list),h_list,sum(h_list)/testing_label[index])\n",
    "    result_list.append(sum(h_list)/testing_label[index])\n",
    "    \n",
    "\n",
    "print(max(result_list),min(result_list),max(result_list)-min(result_list))"
   ]
  },
  {
   "cell_type": "code",
   "execution_count": 13,
   "metadata": {
    "ExecuteTime": {
     "end_time": "2021-05-27T14:45:23.783300Z",
     "start_time": "2021-05-27T14:45:22.738554Z"
    }
   },
   "outputs": [
    {
     "data": {
      "image/png": "[encoded data removed]",
      "text/plain": [
       "<Figure size 432x288 with 1 Axes>"
      ]
     },
     "metadata": {
      "needs_background": "light"
     },
     "output_type": "display_data"
    }
   ],
   "source": [
    "plt.hist(result_list,bins=500)\n",
    "\n",
    "plt.title(\"Means\", y=1.015, fontsize=20)\n",
    "plt.axvline(x=sum(result_list)/len(result_list), linestyle='--', linewidth=2.5, label=\"sample mean\", c='orange')\n",
    "plt.xlabel(\"samples\", labelpad=14)\n",
    "plt.ylabel(\"frequency of occurence\", labelpad=14)\n",
    "plt.legend();\n",
    "\n",
    "result_list.sort()\n",
    "\n",
    "plt.axvline(x=result_list[int(len(result_list)*0.01)], linestyle='--', linewidth=0.5, label=\"1%\", c='b')\n",
    "plt.axvline(x=result_list[int(len(result_list)*0.99)], linestyle='--', linewidth=0.5, label=\"99%\", c='r')\n",
    "\n",
    "\n",
    "plt.show()"
   ]
  },
  {
   "cell_type": "code",
   "execution_count": 14,
   "metadata": {
    "ExecuteTime": {
     "end_time": "2021-05-27T14:45:23.799348Z",
     "start_time": "2021-05-27T14:45:23.785294Z"
    }
   },
   "outputs": [],
   "source": [
    "torch.save(net, \"save/Deep_learning_small_4_4\")"
   ]
  },
  {
   "cell_type": "code",
   "execution_count": 15,
   "metadata": {
    "ExecuteTime": {
     "end_time": "2021-05-27T14:45:23.815305Z",
     "start_time": "2021-05-27T14:45:23.801342Z"
    }
   },
   "outputs": [],
   "source": [
    "#optimizer = opt.RMSprop(net.parameters(), lr=0.00001)\n",
    "#optimizer = opt.SGD(net.parameters(), lr=0.00005)\n",
    "optimizer = opt.Adam(net.parameters(), lr=0.0001)\n",
    "\n",
    "batch_size = 64\n",
    "echo = 1"
   ]
  },
  {
   "cell_type": "code",
   "execution_count": 16,
   "metadata": {
    "ExecuteTime": {
     "end_time": "2021-05-27T14:52:38.939909Z",
     "start_time": "2021-05-27T14:45:23.817298Z"
    }
   },
   "outputs": [
    {
     "name": "stdout",
     "output_type": "stream",
     "text": [
      "4032 tensor([3.8708], device='cuda:0', grad_fn=<DivBackward0>) 241.3691864013672 6.363259315490723\n",
      "7371 tensor([4.8620], device='cuda:0', grad_fn=<DivBackward0>) 297.5945739746094 13.571938514709473\n",
      "9450 tensor([3.8229], device='cuda:0', grad_fn=<DivBackward0>) 233.92347717285156 10.74351692199707\n",
      "15687 tensor([4.7841], device='cuda:0', grad_fn=<DivBackward0>) 291.45843505859375 14.723407745361328\n",
      "17451 tensor([3.3448], device='cuda:0', grad_fn=<DivBackward0>) 208.98361206054688 5.083733558654785\n",
      "23247 tensor([2.4667], device='cuda:0', grad_fn=<DivBackward0>) 135.54299926757812 22.327739715576172\n",
      "28287 tensor([3.9085], device='cuda:0', grad_fn=<DivBackward0>) 237.05506896972656 13.091621398925781\n",
      "37926 tensor([3.8871], device='cuda:0', grad_fn=<DivBackward0>) 235.62814331054688 13.147153854370117\n",
      "45045 tensor([3.1953], device='cuda:0', grad_fn=<DivBackward0>) 187.46206665039062 17.03680419921875\n",
      "50715 tensor([2.8870], device='cuda:0', grad_fn=<DivBackward0>) 168.47900390625 16.286998748779297\n",
      "61866 tensor([2.9871], device='cuda:0', grad_fn=<DivBackward0>) 166.30274963378906 24.87248992919922\n",
      "71442 tensor([2.8973], device='cuda:0', grad_fn=<DivBackward0>) 169.22845458984375 16.201520919799805\n",
      "86310 tensor([2.5579], device='cuda:0', grad_fn=<DivBackward0>) 142.26263427734375 21.44080924987793\n",
      "97713 tensor([3.3515], device='cuda:0', grad_fn=<DivBackward0>) 185.89044189453125 28.604337692260742\n",
      "batch iteration 0\n",
      "batch_loss: 3.74 \n",
      "\n",
      "\n"
     ]
    }
   ],
   "source": [
    "target_order = \"unsupervised\"\n",
    "for iteration in range(int(echo)):\n",
    "    # offender_types = []\n",
    "    # defender_types = []\n",
    "    \n",
    "    \n",
    "    X_train_list = []\n",
    "    temp_number = 0\n",
    "    total_batch_loss = 0 \n",
    "    while(temp_number<len(training_data)-1):\n",
    "        \n",
    "        loss2_list = []\n",
    "        loss1_sum = 0\n",
    "        loss2_sum = 0\n",
    "        denominator = 0\n",
    "        for index in range(temp_number, min(batch_size+temp_number,len(training_data))):\n",
    "            h_loss1,h_loss2,h_list = net(training_data[index],training_label[index],0)\n",
    "            denominator += 1\n",
    "            loss1_sum += h_loss1\n",
    "            loss2_sum += h_loss2\n",
    "            \n",
    "        loss_sum = loss1_sum + loss2_sum\n",
    "        loss = (loss_sum) / denominator \n",
    "        total_batch_loss +=float(loss_sum)\n",
    "        optimizer.zero_grad()\n",
    "        \n",
    "        loss.backward()\n",
    "        \n",
    "        optimizer.step()\n",
    "        \n",
    "        temp_number = index\n",
    "        \n",
    "        if(random.random()<=0.01):\n",
    "            print(temp_number,loss,float(loss1_sum),float(loss2_sum))\n",
    "\n",
    "\n",
    "    print(\"batch iteration\", iteration)\n",
    "    print(\"batch_loss: %.2f \" % (total_batch_loss/len(training_data)))\n",
    "    \n",
    "    print()\n",
    "    print()"
   ]
  },
  {
   "cell_type": "code",
   "execution_count": 17,
   "metadata": {
    "ExecuteTime": {
     "end_time": "2021-05-27T14:52:38.955511Z",
     "start_time": "2021-05-27T14:52:38.941522Z"
    }
   },
   "outputs": [],
   "source": [
    "torch.save(net, \"save/Deep_learning_small_4_4\")"
   ]
  },
  {
   "cell_type": "code",
   "execution_count": 18,
   "metadata": {
    "ExecuteTime": {
     "end_time": "2021-05-27T14:56:00.023368Z",
     "start_time": "2021-05-27T14:52:38.956508Z"
    }
   },
   "outputs": [
    {
     "name": "stdout",
     "output_type": "stream",
     "text": [
      "5.3062262535095215 1.3781641927476804 3.928062060761841\n"
     ]
    }
   ],
   "source": [
    "denominator = 0\n",
    "result_list = []\n",
    "for index in range(len(testing_data)):\n",
    "    h_list = []\n",
    "    for i in range(Agent_number_n):\n",
    "        h = net.calculate(torch.tensor(testing_data[index][i]).cuda().type(torch.float32))\n",
    "        h_list.append(float(h))\n",
    "    \n",
    "    #print(sum(h_list),h_list,sum(h_list)/testing_label[index])\n",
    "    result_list.append(sum(h_list)/testing_label[index])\n",
    "    \n",
    "\n",
    "print(max(result_list),min(result_list),max(result_list)-min(result_list))"
   ]
  },
  {
   "cell_type": "code",
   "execution_count": 19,
   "metadata": {
    "ExecuteTime": {
     "end_time": "2021-05-27T14:56:01.124790Z",
     "start_time": "2021-05-27T14:56:00.025337Z"
    }
   },
   "outputs": [
    {
     "data": {
      "image/png": "[encoded data removed]",
      "text/plain": [
       "<Figure size 432x288 with 1 Axes>"
      ]
     },
     "metadata": {
      "needs_background": "light"
     },
     "output_type": "display_data"
    }
   ],
   "source": [
    "plt.hist(result_list,bins=500)\n",
    "\n",
    "plt.title(\"Means\", y=1.015, fontsize=20)\n",
    "plt.axvline(x=sum(result_list)/len(result_list), linestyle='--', linewidth=2.5, label=\"sample mean\", c='orange')\n",
    "plt.xlabel(\"samples\", labelpad=14)\n",
    "plt.ylabel(\"frequency of occurence\", labelpad=14)\n",
    "plt.legend();\n",
    "\n",
    "result_list.sort()\n",
    "\n",
    "plt.axvline(x=result_list[int(len(result_list)*0.01)], linestyle='--', linewidth=0.5, label=\"1%\", c='b')\n",
    "plt.axvline(x=result_list[int(len(result_list)*0.99)], linestyle='--', linewidth=0.5, label=\"99%\", c='r')\n",
    "\n",
    "\n",
    "plt.show()"
   ]
  },
  {
   "cell_type": "code",
   "execution_count": 20,
   "metadata": {
    "ExecuteTime": {
     "end_time": "2021-05-27T14:56:01.236427Z",
     "start_time": "2021-05-27T14:56:01.125723Z"
    }
   },
   "outputs": [
    {
     "name": "stdout",
     "output_type": "stream",
     "text": [
      "Parameter containing:\n",
      "tensor([[0., 0., 0., 0., 0., 0., 0., 0., 0., 0., 0., 0., 0., 0., 0., 0., 0., 0., 0., 0.],\n",
      "        [0., 0., 0., 0., 0., 0., 0., 0., 0., 0., 0., 0., 0., 0., 0., 0., 0., 0., 0., 0.],\n",
      "        [0., 0., 0., 0., 0., 0., 0., 0., 0., 0., 0., 0., 0., 0., 0., 0., 0., 0., 0., 0.],\n",
      "        [0., 0., 0., 0., 0., 0., 0., 0., 0., 0., 0., 0., 0., 0., 0., 0., 0., 0., 0., 0.],\n",
      "        [0., 0., 0., 0., 0., 0., 0., 0., 0., 0., 0., 0., 0., 0., 0., 0., 0., 0., 0., 0.],\n",
      "        [0., 0., 0., 0., 0., 0., 0., 0., 0., 0., 0., 0., 0., 0., 0., 0., 0., 0., 0., 0.],\n",
      "        [0., 0., 0., 0., 0., 0., 0., 0., 0., 0., 0., 0., 0., 0., 0., 0., 0., 0., 0., 0.],\n",
      "        [0., 0., 0., 0., 0., 0., 0., 0., 0., 0., 0., 0., 0., 0., 0., 0., 0., 0., 0., 0.],\n",
      "        [0., 0., 0., 0., 0., 0., 0., 0., 0., 0., 0., 0., 0., 0., 0., 0., 0., 0., 0., 0.],\n",
      "        [0., 0., 0., 0., 0., 0., 0., 0., 0., 0., 0., 0., 0., 0., 0., 0., 0., 0., 0., 0.],\n",
      "        [0., 0., 0., 0., 0., 0., 0., 0., 0., 0., 0., 0., 0., 0., 0., 0., 0., 0., 0., 0.],\n",
      "        [0., 0., 0., 0., 0., 0., 0., 0., 0., 0., 0., 0., 0., 0., 0., 0., 0., 0., 0., 0.],\n",
      "        [0., 0., 0., 0., 0., 0., 0., 0., 0., 0., 0., 0., 0., 0., 0., 0., 0., 0., 0., 0.],\n",
      "        [0., 0., 0., 0., 0., 0., 0., 0., 0., 0., 0., 0., 0., 0., 0., 0., 0., 0., 0., 0.],\n",
      "        [0., 0., 0., 0., 0., 0., 0., 0., 0., 0., 0., 0., 0., 0., 0., 0., 0., 0., 0., 0.],\n",
      "        [0., 0., 0., 0., 0., 0., 0., 0., 0., 0., 0., 0., 0., 0., 0., 0., 0., 0., 0., 0.],\n",
      "        [0., 0., 0., 0., 0., 0., 0., 0., 0., 0., 0., 0., 0., 0., 0., 0., 0., 0., 0., 0.],\n",
      "        [0., 0., 0., 0., 0., 0., 0., 0., 0., 0., 0., 0., 0., 0., 0., 0., 0., 0., 0., 0.],\n",
      "        [0., 0., 0., 0., 0., 0., 0., 0., 0., 0., 0., 0., 0., 0., 0., 0., 0., 0., 0., 0.],\n",
      "        [0., 0., 0., 0., 0., 0., 0., 0., 0., 0., 0., 0., 0., 0., 0., 0., 0., 0., 0., 0.]],\n",
      "       device='cuda:0', requires_grad=True)\n",
      "Parameter containing:\n",
      "tensor([0., 0., 0., 0., 0., 0., 0., 0., 0., 0., 0., 0., 0., 0., 0., 0., 0., 0., 0., 0.],\n",
      "       device='cuda:0', requires_grad=True)\n",
      "Parameter containing:\n",
      "tensor([[0.],\n",
      "        [0.],\n",
      "        [0.],\n",
      "        [0.],\n",
      "        [0.],\n",
      "        [0.],\n",
      "        [0.],\n",
      "        [0.],\n",
      "        [0.],\n",
      "        [0.],\n",
      "        [0.],\n",
      "        [0.],\n",
      "        [0.],\n",
      "        [0.],\n",
      "        [0.],\n",
      "        [0.],\n",
      "        [0.],\n",
      "        [0.],\n",
      "        [0.],\n",
      "        [0.]], device='cuda:0', requires_grad=True)\n",
      "Parameter containing:\n",
      "tensor([1.3266], device='cuda:0', requires_grad=True)\n",
      "Parameter containing:\n",
      "tensor([[ 0.1130,  0.1115,  0.0318],\n",
      "        [ 0.1990, -0.1589,  0.0867],\n",
      "        [ 0.2243, -0.0428,  0.0925],\n",
      "        [ 0.1533,  0.2141,  0.1426],\n",
      "        [ 0.3056,  0.0217,  0.1900],\n",
      "        [ 0.0665,  0.1699, -0.2149],\n",
      "        [-0.0961,  0.0693,  0.0817],\n",
      "        [-0.0672,  0.2306, -0.1933],\n",
      "        [-0.0766, -0.2386,  0.0389],\n",
      "        [-0.1709, -0.0008, -0.1509],\n",
      "        [ 0.0930,  0.2172, -0.2991],\n",
      "        [ 0.2011, -0.0264,  0.1668],\n",
      "        [ 0.1514,  0.2275,  0.2728],\n",
      "        [ 0.1994,  0.1043, -0.0777],\n",
      "        [ 0.0620, -0.0593,  0.0176],\n",
      "        [-0.2350, -0.3176,  0.1444],\n",
      "        [ 0.0342,  0.2640, -0.0722],\n",
      "        [ 0.1834, -0.2614, -0.4047],\n",
      "        [-0.1028,  0.2876,  0.3052],\n",
      "        [ 0.1411, -0.0516, -0.0977]], device='cuda:0', requires_grad=True)\n",
      "Parameter containing:\n",
      "tensor([ 0.0188,  0.0109, -0.0077, -0.0030, -0.0014,  0.0077, -0.0012,  0.0088,\n",
      "        -0.0030,  0.0059,  0.0094,  0.0056,  0.0008, -0.0140,  0.0085,  0.0067,\n",
      "         0.0049, -0.0038, -0.0077,  0.0293], device='cuda:0',\n",
      "       requires_grad=True)\n",
      "Parameter containing:\n",
      "tensor([[-0.0733,  0.1234,  0.1359,  0.5100, -0.0578,  0.0069, -0.3929,  0.5753,\n",
      "          0.1458, -0.2265, -0.1286,  0.1235,  0.2285,  0.0134, -0.0167, -0.0999,\n",
      "         -0.1539,  0.0557, -0.0130,  0.0627],\n",
      "        [ 0.1119,  0.1912, -0.2796,  0.0302, -0.0300,  0.1599,  0.0499,  0.4184,\n",
      "         -0.0076,  0.1197,  0.0074, -0.3178,  0.1228,  0.0708, -0.0273, -0.0850,\n",
      "         -0.0314, -0.1909, -0.3717, -0.0159],\n",
      "        [-0.3367,  0.0452, -0.1993, -0.0200, -0.1861,  0.3328, -0.2746, -0.0592,\n",
      "         -0.1940,  0.2792, -0.0292,  0.3040, -0.0476,  0.3492,  0.1121,  0.2274,\n",
      "          0.5069, -0.0580,  0.3316, -0.1434],\n",
      "        [ 0.2429,  0.0432, -0.0535,  0.1646,  0.0449,  0.0445, -0.2932,  0.3896,\n",
      "          0.1342,  0.2382,  0.1442,  0.3885, -0.0893, -0.2093, -0.0893,  0.2024,\n",
      "         -0.0731, -0.0599, -0.0392, -0.1014],\n",
      "        [-0.1033,  0.2804, -0.1562,  0.2561, -0.1457, -0.1066,  0.1933,  0.2579,\n",
      "          0.0316, -0.0562, -0.1640, -0.1186,  0.1428, -0.2103,  0.3014, -0.2868,\n",
      "          0.0095, -0.0426,  0.0023,  0.2066],\n",
      "        [ 0.2284, -0.1342,  0.3836,  0.1875, -0.0611, -0.1842,  0.0797, -0.1924,\n",
      "          0.0164,  0.0845, -0.0770,  0.2466,  0.0235,  0.0026, -0.4388, -0.1296,\n",
      "         -0.0278, -0.0957,  0.3996,  0.1507],\n",
      "        [-0.0671,  0.0759,  0.0216, -0.1206, -0.1761, -0.3706, -0.1549,  0.0604,\n",
      "         -0.1984,  0.0240,  0.0132, -0.2225,  0.3081,  0.1495, -0.1215,  0.3705,\n",
      "          0.0179,  0.1753, -0.2500,  0.2136],\n",
      "        [-0.0500, -0.1611,  0.0350,  0.1986, -0.1043, -0.2706, -0.1108,  0.0104,\n",
      "          0.0791,  0.3277, -0.2809, -0.0474, -0.0362,  0.1621,  0.0155,  0.0975,\n",
      "         -0.0381,  0.0302,  0.0848, -0.0847],\n",
      "        [ 0.1222, -0.1636,  0.2318, -0.0570, -0.2978,  0.0774,  0.0327, -0.0774,\n",
      "          0.0627,  0.1761,  0.6385, -0.2558, -0.3647, -0.0416,  0.1201,  0.0728,\n",
      "          0.0210, -0.1560, -0.0064,  0.2911],\n",
      "        [-0.0585,  0.1015,  0.2783, -0.1574,  0.0245,  0.3579,  0.1200, -0.0771,\n",
      "          0.3397, -0.0188,  0.0170,  0.0790,  0.3379,  0.1233,  0.2437, -0.2560,\n",
      "         -0.2537, -0.0447,  0.3426,  0.0493],\n",
      "        [ 0.2728,  0.1951,  0.0507, -0.4290, -0.1613,  0.3362, -0.3033, -0.1234,\n",
      "          0.3268,  0.2496,  0.4809,  0.4512,  0.0166,  0.4218,  0.0716,  0.0269,\n",
      "          0.3101,  0.1359,  0.1569, -0.2789],\n",
      "        [-0.0582,  0.0870,  0.1285, -0.3327, -0.1128, -0.3800,  0.1878, -0.1661,\n",
      "          0.4820,  0.0290,  0.3060, -0.0661,  0.0331,  0.1527, -0.0150, -0.4520,\n",
      "         -0.0985,  0.5379,  0.0718,  0.1649],\n",
      "        [ 0.1920, -0.0454, -0.0081,  0.3502,  0.0534, -0.1749,  0.2987,  0.2405,\n",
      "          0.0677,  0.1065, -0.0131,  0.1269,  0.1565, -0.0502, -0.0015,  0.4363,\n",
      "         -0.1757,  0.3210,  0.2532,  0.3131],\n",
      "        [-0.0237,  0.2448, -0.0612, -0.0715, -0.1893, -0.0581,  0.0441, -0.0084,\n",
      "          0.2144, -0.1063,  0.2401,  0.2005, -0.0280, -0.1559, -0.0383, -0.1050,\n",
      "         -0.2058, -0.3423, -0.1500, -0.3133],\n",
      "        [-0.1176,  0.2741,  0.3788, -0.4334, -0.3915, -0.0016,  0.0639,  0.1603,\n",
      "         -0.0586,  0.0302,  0.1228, -0.1747,  0.2062,  0.1267, -0.0541,  0.1368,\n",
      "          0.0767, -0.2656,  0.0666,  0.0710],\n",
      "        [ 0.1658,  0.0117, -0.2225,  0.1859,  0.1447, -0.0476, -0.0584,  0.0868,\n",
      "         -0.0754,  0.0323, -0.0401,  0.1974,  0.3188,  0.1842,  0.0654,  0.1022,\n",
      "          0.0583, -0.2973, -0.0321, -0.0099],\n",
      "        [-0.0841, -0.0800, -0.0130,  0.0588, -0.0041,  0.2233, -0.0850, -0.0444,\n",
      "          0.0207,  0.1531,  0.0248,  0.1426,  0.1126,  0.2355, -0.2435,  0.1893,\n",
      "          0.0047,  0.3222, -0.1892,  0.1651],\n",
      "        [-0.2495,  0.1359, -0.2139,  0.1968, -0.1107, -0.1699,  0.1378, -0.0504,\n",
      "         -0.1040,  0.2239,  0.1776,  0.0125,  0.1196,  0.1216, -0.3048,  0.1301,\n",
      "          0.4329, -0.2591, -0.3790,  0.3754],\n",
      "        [-0.1714, -0.0073, -0.0049, -0.2281, -0.1261,  0.5087, -0.0381, -0.1430,\n",
      "          0.1677,  0.3498, -0.4624,  0.0479, -0.3187, -0.1704, -0.1657, -0.1912,\n",
      "          0.0471, -0.0867, -0.0458,  0.0247],\n",
      "        [ 0.2199,  0.1170,  0.0159,  0.0763,  0.0232,  0.3881, -0.2365,  0.2098,\n",
      "         -0.3171, -0.0026,  0.2481, -0.0953,  0.1559, -0.3743, -0.0882,  0.1539,\n",
      "          0.1187,  0.1130, -0.0061,  0.0803]], device='cuda:0',\n",
      "       requires_grad=True)\n",
      "Parameter containing:\n",
      "tensor([ 0.0090,  0.0152, -0.0076, -0.0015,  0.0162, -0.0012, -0.0009, -0.0116,\n",
      "        -0.0022, -0.0081,  0.0083,  0.0207,  0.0184,  0.0159, -0.0106, -0.0157,\n",
      "         0.0122, -0.0051,  0.0029,  0.0067], device='cuda:0',\n",
      "       requires_grad=True)\n",
      "Parameter containing:\n",
      "tensor([[ 2.1147e-01,  2.8442e-01, -3.6100e-01,  7.9236e-03,  1.1239e-01,\n",
      "         -1.9436e-01,  7.0648e-02, -2.2025e-01, -8.9157e-02, -7.7139e-02,\n",
      "         -5.5407e-02,  2.0511e-01,  3.8014e-02, -5.8079e-02,  2.1311e-01,\n",
      "         -4.0295e-02, -2.1893e-01,  2.6434e-01,  2.7716e-01, -1.5790e-01],\n",
      "        [ 3.4222e-02, -1.1475e-01,  1.4138e-01,  3.2217e-01,  5.2935e-02,\n",
      "         -2.5385e-01, -2.6295e-01, -3.1427e-02, -2.4538e-01,  3.0295e-01,\n",
      "         -4.4453e-03,  8.5139e-02,  1.0593e-01,  9.2993e-02, -8.3527e-03,\n",
      "          2.0078e-01,  2.1527e-01, -6.2938e-02,  1.2779e-01,  3.6282e-03],\n",
      "        [-1.8979e-01,  1.8200e-01,  1.4821e-01, -7.8819e-02,  9.0925e-02,\n",
      "          6.0389e-02,  2.0542e-03,  2.3601e-01,  2.5863e-01,  1.9897e-01,\n",
      "          8.5249e-02,  1.3831e-01, -1.2021e-01,  2.2194e-01, -9.8484e-03,\n",
      "         -1.6536e-01,  5.6489e-02, -2.5783e-01,  3.1564e-02, -2.7201e-01],\n",
      "        [-1.4414e-01,  2.0850e-01,  2.0308e-02,  7.4907e-02, -6.4931e-02,\n",
      "          3.9956e-01,  2.3973e-01,  1.5157e-01,  6.4589e-02, -7.1441e-02,\n",
      "         -7.6169e-02,  1.5628e-01,  1.0304e-01, -1.6437e-01,  4.7283e-02,\n",
      "          1.3107e-01,  1.1963e-01,  2.4429e-01,  9.4020e-02,  1.7523e-02],\n",
      "        [ 1.0436e-01, -2.0646e-01, -1.5481e-02, -2.0705e-01,  5.8837e-02,\n",
      "          2.3109e-01,  3.9890e-01,  1.1160e-01, -1.5541e-01, -1.7549e-01,\n",
      "         -2.3758e-01,  4.1024e-01,  3.4519e-01,  1.6320e-01,  5.8950e-01,\n",
      "         -5.0094e-04, -1.6531e-01, -1.6794e-01, -2.5501e-03, -1.6893e-01],\n",
      "        [-3.5999e-01, -9.8673e-02, -2.8161e-01, -3.1171e-01, -4.5064e-01,\n",
      "         -1.0652e-01, -1.9426e-01,  3.8639e-02, -5.5733e-02, -1.0766e-01,\n",
      "         -1.3309e-01,  1.0876e-01,  7.7153e-02,  8.3998e-03, -3.4563e-01,\n",
      "          1.7175e-01,  1.8152e-01,  1.4227e-01,  1.2243e-01,  2.0385e-01],\n",
      "        [-5.7790e-02,  4.8768e-02,  1.7877e-01,  1.6183e-01,  5.3713e-02,\n",
      "          1.1996e-01,  1.3319e-01,  1.3945e-01,  1.1136e-01,  1.7104e-01,\n",
      "         -7.1306e-03,  1.3919e-01, -4.1563e-02,  2.7593e-02,  3.2808e-02,\n",
      "         -8.0367e-02,  1.7409e-01, -3.0062e-01, -1.4437e-02,  1.0654e-02],\n",
      "        [-2.2518e-01,  2.6711e-02,  8.5871e-02, -1.8437e-01,  3.9737e-01,\n",
      "          1.1820e-01,  4.0149e-01,  2.5128e-01, -1.6179e-01,  2.1096e-01,\n",
      "         -2.4987e-01, -1.3407e-01, -3.1414e-01, -1.2207e-01, -1.6909e-01,\n",
      "          3.7176e-02, -2.2506e-01,  7.1462e-02,  3.5546e-02, -1.0140e-01],\n",
      "        [-2.4847e-01,  8.1186e-02,  2.1457e-02,  3.1938e-02,  4.0547e-02,\n",
      "         -8.9775e-02,  5.0575e-02,  3.9016e-01, -7.4669e-02, -3.7103e-01,\n",
      "          2.4740e-02,  5.4892e-02,  1.9752e-01,  3.6605e-02,  2.0693e-01,\n",
      "         -3.5974e-01,  2.2839e-01,  1.4221e-01, -2.7320e-01, -4.0250e-02],\n",
      "        [-2.3944e-01, -1.7355e-01, -9.7164e-02, -7.2645e-02, -1.2970e-01,\n",
      "          9.5859e-02, -1.8774e-01, -4.5526e-02, -8.2602e-02,  2.1442e-01,\n",
      "         -5.7852e-02, -5.1685e-02, -2.6288e-01, -4.8905e-02, -2.2048e-01,\n",
      "         -1.4096e-01, -2.2806e-01,  2.3416e-02, -1.8959e-01,  1.2523e-01],\n",
      "        [-8.3491e-03,  2.4358e-01,  1.3752e-01,  1.6833e-01, -3.3062e-01,\n",
      "          7.7695e-02,  1.3828e-01, -4.2206e-01,  1.2298e-01, -9.4976e-02,\n",
      "          1.5268e-01,  5.6993e-02,  1.3889e-01, -1.2244e-03, -2.6753e-01,\n",
      "          8.0842e-02,  1.9422e-01,  9.5104e-02,  5.9038e-02,  6.8344e-02],\n",
      "        [ 1.5830e-01, -2.4908e-01,  2.9730e-01,  1.1303e-01, -6.5540e-02,\n",
      "          3.5156e-02,  3.0452e-02,  7.4049e-02, -1.6590e-01, -1.6677e-01,\n",
      "         -1.8208e-01,  2.5248e-01,  2.5052e-01,  5.5566e-01,  8.4966e-02,\n",
      "         -1.4392e-02, -1.4943e-01,  5.0948e-02, -1.0780e-01,  1.1382e-01],\n",
      "        [ 1.4502e-01,  9.8041e-02,  2.7129e-01, -8.7519e-02, -3.7371e-02,\n",
      "         -6.7012e-02, -1.6068e-01,  1.7027e-01, -2.5977e-02,  1.6584e-01,\n",
      "          1.1243e-01,  2.0118e-02,  1.2902e-01,  9.6831e-03, -1.3900e-01,\n",
      "          4.2320e-02,  1.9874e-01, -8.7739e-02, -7.6173e-02, -2.8459e-01],\n",
      "        [ 1.7980e-01,  4.5185e-02, -9.5633e-02,  4.8781e-02, -4.6853e-01,\n",
      "          3.9172e-01,  6.4903e-03,  2.6836e-01,  1.8092e-01,  4.0900e-04,\n",
      "         -5.9671e-02, -8.7435e-02,  1.7116e-01,  1.4863e-01, -1.0527e-01,\n",
      "          1.8616e-01, -5.1591e-02, -1.7010e-01, -1.6177e-01,  1.8640e-01],\n",
      "        [ 6.1222e-02,  1.7275e-02, -1.9671e-01,  2.1882e-02,  8.2558e-02,\n",
      "          2.3361e-01,  3.0831e-02,  1.5081e-01, -5.4369e-02,  1.0705e-01,\n",
      "         -2.8873e-01, -2.7794e-01,  1.8749e-01,  2.0307e-01, -1.8055e-02,\n",
      "         -2.5377e-01,  1.2419e-01,  3.2180e-01, -4.3547e-02, -1.8486e-01],\n",
      "        [ 2.3924e-01, -5.1994e-01, -5.9169e-03, -3.5922e-02, -1.5674e-01,\n",
      "          4.5931e-03, -7.5388e-01, -1.9792e-01,  4.2244e-01,  1.8596e-01,\n",
      "         -1.5830e-01, -1.0953e-01, -1.0846e-01, -1.4921e-01, -2.7761e-01,\n",
      "          1.2208e-01, -5.5916e-01, -1.2166e-01, -9.8526e-02, -5.3439e-02],\n",
      "        [ 2.8963e-01,  1.5116e-01, -1.1876e-01, -7.1423e-02,  2.5164e-01,\n",
      "         -1.7667e-01, -2.1673e-01,  1.1824e-01,  2.1391e-01, -5.6024e-03,\n",
      "          2.6368e-01,  1.7384e-01, -1.0566e-01, -7.9438e-02,  1.0041e-01,\n",
      "         -1.5191e-01, -6.9351e-02,  1.3093e-01,  4.4650e-01, -1.3809e-01],\n",
      "        [-2.2439e-01, -4.2872e-02,  1.2970e-01,  2.1785e-01, -3.2989e-01,\n",
      "         -4.1112e-02, -4.3221e-01, -2.1413e-01, -1.1530e-01, -2.0300e-01,\n",
      "         -1.2682e-01,  3.7370e-01,  6.1190e-02, -1.6600e-01,  2.2514e-01,\n",
      "          2.8145e-01,  4.4028e-02,  4.8175e-02,  2.4956e-02,  3.0835e-01],\n",
      "        [ 2.0986e-01,  5.0561e-03, -2.3598e-01,  1.4834e-01,  4.0633e-03,\n",
      "         -2.1349e-01, -1.2524e-01,  2.6299e-01,  1.4653e-01,  7.4349e-04,\n",
      "          2.2987e-02, -4.9313e-02,  2.1110e-01, -8.8217e-02, -7.3612e-02,\n",
      "         -4.6532e-02,  1.7527e-01,  4.4957e-02,  1.2497e-01, -9.8440e-03],\n",
      "        [-4.1946e-03,  3.1900e-01, -1.1179e-01,  2.4044e-01,  3.7269e-03,\n",
      "         -9.9002e-02, -1.8887e-01, -2.8648e-02,  1.7521e-01,  1.0468e-01,\n",
      "          2.7769e-01,  1.6853e-01,  1.3931e-01,  4.1121e-01, -2.7320e-01,\n",
      "         -1.4334e-01, -5.7690e-02, -5.2319e-01,  6.0358e-03,  8.3637e-02]],\n",
      "       device='cuda:0', requires_grad=True)\n",
      "Parameter containing:\n",
      "tensor([-0.0112, -0.0238,  0.0124, -0.0022, -0.0052, -0.0018,  0.0021, -0.0049,\n",
      "         0.0034,  0.0181, -0.0149, -0.0008,  0.0154, -0.0029,  0.0043, -0.0029,\n",
      "        -0.0264,  0.0057,  0.0034,  0.0242], device='cuda:0',\n",
      "       requires_grad=True)\n",
      "Parameter containing:\n",
      "tensor([[-2.4445e-01, -3.6423e-01, -7.7669e-02, -4.5389e-02, -3.9369e-01,\n",
      "         -1.4966e-01,  4.7207e-02,  4.8094e-02,  3.8276e-01, -1.0958e-01,\n",
      "         -2.0436e-01,  1.2778e-01, -2.4923e-01, -2.5039e-01, -9.3962e-02,\n",
      "         -7.3924e-02,  5.7424e-01, -4.0614e-01, -1.5206e-01,  1.7084e-01],\n",
      "        [ 2.1569e-01,  5.5183e-02,  2.7072e-02, -1.3327e-01,  6.9247e-02,\n",
      "         -1.5115e-01, -1.8549e-02,  4.6979e-02, -3.1230e-02, -2.0046e-01,\n",
      "         -8.3348e-02,  5.0742e-02, -1.8298e-01,  1.0035e-02,  2.6722e-02,\n",
      "          3.1929e-04,  8.6436e-03, -3.3461e-01,  2.9702e-02,  3.5050e-02],\n",
      "        [-1.6046e-01,  1.0558e-01, -1.6281e-01, -1.0977e-01,  1.4375e-02,\n",
      "         -4.3117e-02, -5.1569e-02,  1.1902e-01,  4.4741e-01,  3.4341e-01,\n",
      "         -1.1448e-01, -1.4467e-02, -3.6134e-01,  3.9525e-01, -2.3239e-01,\n",
      "         -1.6760e-01, -1.7299e-01, -2.1022e-01, -1.3215e-01, -4.9888e-02],\n",
      "        [-2.2639e-01, -2.6216e-01, -1.0612e-01, -2.4297e-02,  3.5434e-01,\n",
      "          1.8159e-01,  8.5294e-02, -2.7091e-01,  4.3487e-01, -1.3285e-01,\n",
      "         -3.9159e-02, -1.0289e-01,  3.1772e-01, -3.3737e-01,  2.3468e-01,\n",
      "          1.8283e-01, -1.9250e-01,  1.8773e-01,  1.4802e-01,  1.6379e-01],\n",
      "        [-5.7136e-02,  3.0510e-01, -3.6960e-01, -2.6673e-01,  2.4720e-02,\n",
      "          1.8298e-01, -2.0550e-02, -9.9618e-02,  1.7239e-02, -6.9488e-02,\n",
      "          3.2481e-01, -2.9615e-01, -9.7935e-02,  2.5587e-01, -5.6286e-01,\n",
      "         -1.1257e-01, -1.1487e-01,  2.3847e-01, -9.4185e-03,  1.7274e-01],\n",
      "        [-2.6714e-01,  2.1102e-02,  6.1876e-03,  1.6200e-01,  1.3701e-01,\n",
      "         -7.7381e-03,  2.8561e-01, -4.9318e-02,  4.0590e-01,  1.7508e-01,\n",
      "          3.1876e-01, -3.7734e-01, -1.8700e-01, -1.0940e-02,  3.8428e-01,\n",
      "          2.2861e-01, -5.7138e-02,  1.0873e-01,  2.9470e-01,  5.6992e-02],\n",
      "        [-2.7037e-02,  2.9359e-01,  1.4161e-01,  2.1347e-01, -2.1055e-01,\n",
      "         -1.3545e-01, -1.7488e-01, -1.0157e-01, -2.5624e-01, -1.7806e-01,\n",
      "         -2.0826e-01,  1.4753e-01, -4.0182e-01, -3.0112e-01, -1.0126e-01,\n",
      "         -2.2625e-01, -4.7208e-01, -1.2873e-01,  1.3857e-03, -4.7153e-02],\n",
      "        [ 1.1655e-01, -3.0546e-01,  1.5714e-01, -1.2880e-01, -8.3812e-02,\n",
      "          1.0412e-01,  8.0006e-02, -1.7170e-01,  3.5143e-01,  9.7878e-02,\n",
      "         -1.8066e-02, -6.5449e-02, -2.1739e-01,  4.3419e-01,  1.9596e-01,\n",
      "         -1.2451e-01,  2.8459e-01,  1.0623e-01, -1.7294e-01,  3.4951e-01],\n",
      "        [-5.2729e-01,  5.0554e-02,  1.8075e-01,  7.9899e-02, -2.6390e-01,\n",
      "          1.6794e-01, -5.2034e-02, -1.3862e-02,  1.7952e-01, -2.2566e-01,\n",
      "          2.5819e-01,  1.0884e-01, -1.1034e-01, -2.9204e-01, -1.7613e-01,\n",
      "         -9.9474e-02, -2.5472e-01, -2.7477e-01, -1.6031e-01,  7.4720e-02],\n",
      "        [ 3.3606e-01, -6.4639e-02, -2.4891e-01,  2.3433e-01, -1.1856e-03,\n",
      "         -2.2644e-01,  2.7383e-01,  2.0860e-01,  5.5957e-02,  9.2229e-02,\n",
      "         -2.2779e-01, -2.5827e-01,  1.9290e-01, -2.8879e-01, -1.9246e-01,\n",
      "          7.5187e-02, -1.6185e-01, -1.5129e-01,  2.2565e-01,  1.1913e-01],\n",
      "        [ 2.2002e-01,  4.5536e-01, -9.9109e-02,  8.7134e-03,  8.8991e-03,\n",
      "          3.6644e-01, -5.8263e-03,  1.2452e-01, -1.6357e-02,  2.8860e-01,\n",
      "         -1.3425e-01, -1.5481e-01, -3.0130e-01, -9.1418e-02,  1.4495e-01,\n",
      "          2.6321e-02,  1.5137e-02, -2.1386e-02,  1.9404e-01,  7.7428e-02],\n",
      "        [-1.2610e-01,  4.6062e-01, -2.5560e-01, -3.2582e-01,  9.7767e-02,\n",
      "          2.9902e-01, -2.0790e-01, -9.1576e-02,  6.5622e-02,  7.7258e-02,\n",
      "         -2.9696e-01, -1.8351e-02, -1.8218e-01, -2.0271e-01, -3.6834e-01,\n",
      "          6.3175e-02, -1.5226e-01, -5.2487e-02,  3.2305e-01,  3.4012e-01],\n",
      "        [ 3.9170e-01, -1.2916e-01,  4.4209e-01,  1.8648e-01,  5.6317e-02,\n",
      "         -1.8157e-01,  8.0162e-02, -5.8342e-01,  2.1151e-01, -2.5136e-02,\n",
      "          2.0763e-01,  8.6992e-02, -6.2661e-02, -9.3233e-02, -9.0129e-02,\n",
      "         -1.2498e-01, -1.5026e-01, -1.9001e-01,  1.3216e-01,  1.2409e-01],\n",
      "        [ 8.8168e-02, -1.0395e-01,  2.8468e-02, -3.9688e-02, -3.3197e-02,\n",
      "          2.7753e-01, -1.4529e-01, -3.8622e-01, -2.2951e-02, -6.2061e-02,\n",
      "          3.7105e-02,  3.6956e-01,  1.6954e-01, -5.5551e-02, -7.2014e-02,\n",
      "         -1.1462e-01, -2.1529e-02,  6.6068e-02, -1.9124e-01, -1.2482e-01],\n",
      "        [ 1.3952e-01, -2.0888e-02, -1.4127e-01, -1.0873e-01,  4.3663e-02,\n",
      "         -2.0780e-01, -1.4897e-01, -2.8653e-01, -7.2483e-02, -3.7196e-01,\n",
      "         -5.5955e-02,  2.3951e-01,  5.6216e-01, -2.7137e-01,  5.0171e-01,\n",
      "          5.8830e-02,  2.3854e-01,  2.3426e-01, -3.7687e-01,  3.5721e-02],\n",
      "        [ 2.9910e-01,  2.4046e-01, -2.1891e-01, -6.0331e-02, -2.0717e-01,\n",
      "         -2.0112e-01,  2.5881e-01, -4.7550e-01,  6.3881e-02,  1.4127e-01,\n",
      "          7.6060e-02,  1.6300e-01, -2.8142e-01, -8.0456e-02,  1.8133e-01,\n",
      "         -2.1295e-01, -4.6531e-01,  1.5410e-01, -7.3560e-02,  1.2271e-01],\n",
      "        [ 2.4829e-01, -1.2524e-01,  5.5156e-02, -1.8456e-02, -5.2808e-01,\n",
      "          4.4384e-02, -1.4980e-02,  4.1173e-01,  9.7033e-02,  1.7733e-01,\n",
      "         -1.4707e-02, -4.9274e-02,  1.3625e-01,  1.7578e-01,  1.3949e-01,\n",
      "         -3.2013e-01, -2.2945e-01, -3.3249e-01,  1.7503e-01,  3.6886e-02],\n",
      "        [ 3.7093e-02, -1.9402e-01, -4.9717e-01,  6.3017e-02, -1.5935e-01,\n",
      "          9.3420e-02, -5.3351e-01, -6.6766e-02, -2.5197e-01, -3.3545e-03,\n",
      "          3.1014e-01,  2.6082e-02, -1.1471e-01,  6.8774e-02, -1.1108e-01,\n",
      "         -1.6879e-01, -4.4972e-03, -1.7649e-01,  7.6548e-02, -2.0685e-02],\n",
      "        [ 9.0881e-02,  2.9136e-02,  7.7518e-02, -3.8547e-02,  2.8471e-01,\n",
      "          2.7957e-02, -9.6068e-03, -7.5116e-02,  6.6339e-02, -7.3250e-02,\n",
      "         -9.9085e-02, -1.1933e-01, -8.3687e-02,  6.2149e-02,  3.7255e-02,\n",
      "         -7.3315e-02, -6.7367e-02,  4.9396e-03, -2.4995e-01,  4.5028e-01],\n",
      "        [-1.8728e-02,  4.1880e-02, -3.7756e-01, -3.5552e-01,  1.7395e-02,\n",
      "         -3.1987e-01, -1.9206e-01,  2.4205e-01,  4.7638e-02,  8.8307e-03,\n",
      "          7.1586e-02, -2.4984e-02, -4.5678e-01,  9.5704e-03, -3.1588e-01,\n",
      "          2.2776e-01, -1.4744e-01,  3.3966e-01, -2.8122e-01, -1.2996e-01]],\n",
      "       device='cuda:0', requires_grad=True)\n",
      "Parameter containing:\n",
      "tensor([ 0.0042, -0.0036,  0.0035, -0.0083,  0.0025,  0.0053,  0.0018, -0.0030,\n",
      "        -0.0133,  0.0042,  0.0133, -0.0033,  0.0023, -0.0133, -0.0009,  0.0100,\n",
      "         0.0043, -0.0011,  0.0041, -0.0025], device='cuda:0',\n",
      "       requires_grad=True)\n"
     ]
    }
   ],
   "source": [
    "for param in net.parameters():\n",
    "    print(param )"
   ]
  },
  {
   "cell_type": "code",
   "execution_count": 21,
   "metadata": {
    "ExecuteTime": {
     "end_time": "2021-05-27T14:56:01.441912Z",
     "start_time": "2021-05-27T14:56:01.237426Z"
    }
   },
   "outputs": [
    {
     "data": {
      "image/png": "[encoded data removed]",
      "text/plain": [
       "<Figure size 432x288 with 1 Axes>"
      ]
     },
     "metadata": {
      "needs_background": "light"
     },
     "output_type": "display_data"
    }
   ],
   "source": [
    "# Import the necessary modules and libraries\n",
    "import numpy as np\n",
    "from sklearn.tree import DecisionTreeRegressor\n",
    "import matplotlib.pyplot as plt\n",
    "\n",
    "# Create a random dataset\n",
    "rng = np.random.RandomState(1)\n",
    "X = np.sort(5 * rng.rand(80, 1), axis=0)\n",
    "y = np.sin(X).ravel()\n",
    "y[::5] += 3 * (0.5 - rng.rand(16))\n",
    "\n",
    "# Fit regression model\n",
    "regr_1 = DecisionTreeRegressor(max_depth=2)\n",
    "regr_2 = DecisionTreeRegressor(max_depth=5)\n",
    "regr_1.fit(X, y)\n",
    "regr_2.fit(X, y)\n",
    "\n",
    "# Predict\n",
    "X_test = np.arange(0.0, 5.0, 0.01)[:, np.newaxis]\n",
    "y_1 = regr_1.predict(X_test)\n",
    "y_2 = regr_2.predict(X_test)\n",
    "\n",
    "# Plot the results\n",
    "plt.figure()\n",
    "plt.scatter(X, y, s=20, edgecolor=\"black\",\n",
    "            c=\"darkorange\", label=\"data\")\n",
    "plt.plot(X_test, y_1, color=\"cornflowerblue\",\n",
    "         label=\"max_depth=2\", linewidth=2)\n",
    "plt.plot(X_test, y_2, color=\"yellowgreen\", label=\"max_depth=5\", linewidth=2)\n",
    "plt.xlabel(\"data\")\n",
    "plt.ylabel(\"target\")\n",
    "plt.title(\"Decision Tree Regression\")\n",
    "plt.legend()\n",
    "plt.show()"
   ]
  },
  {
   "cell_type": "code",
   "execution_count": null,
   "metadata": {
    "ExecuteTime": {
     "start_time": "2021-05-27T14:35:09.301Z"
    }
   },
   "outputs": [],
   "source": [
    "x_list_3 = []\n",
    "z_list_3 = []\n",
    "result_list = []\n",
    "for index in range(len(testing_data)):\n",
    "    h_list = []\n",
    "    for i in range(Agent_number_n):\n",
    "        x_list_3.append(training_data[index][i])\n",
    "        h = net.calculate(torch.tensor(testing_data[index][i]).cuda().type(torch.float32))\n",
    "        h_list.append(float(h))\n",
    "        z_list_3.append(float(h))\n",
    "    #print(sum(h_list),h_list,sum(h_list)/testing_label[index])\n",
    "    result_list.append(sum(h_list)/testing_label[index])\n",
    "    \n",
    "\n",
    "print(max(result_list),min(result_list),max(result_list)-min(result_list))\n",
    "\n",
    "regr_3 = DecisionTreeRegressor(max_depth=12)\n",
    "regr_3.fit(x_list_3, z_list_3)\n",
    "\n"
   ]
  },
  {
   "cell_type": "code",
   "execution_count": null,
   "metadata": {
    "ExecuteTime": {
     "start_time": "2021-05-27T14:35:09.302Z"
    }
   },
   "outputs": [],
   "source": [
    "from xgboost import XGBRegressor\n",
    "from xgboost import plot_tree\n",
    "regr_4 =XGBRegressor(max_depth=20)\n",
    "regr_4.fit(np.array(x_list_3), np.array(z_list_3))"
   ]
  },
  {
   "cell_type": "code",
   "execution_count": null,
   "metadata": {
    "ExecuteTime": {
     "start_time": "2021-05-27T14:35:09.303Z"
    }
   },
   "outputs": [],
   "source": [
    "result_list = []\n",
    "for index in range(len(training_data[:1000])):\n",
    "    h_list = []\n",
    "    for i in range(Agent_number_n):\n",
    "        h = regr_4.predict(np.array([training_data[index][i]]))\n",
    "        h_list.append(float(h))\n",
    "    \n",
    "    #print(sum(h_list),h_list,sum(h_list)/testing_label[index])\n",
    "    result_list.append(sum(h_list)/training_label[index])\n",
    "    \n",
    "\n",
    "print(max(result_list),min(result_list),max(result_list)-min(result_list))"
   ]
  },
  {
   "cell_type": "code",
   "execution_count": null,
   "metadata": {
    "ExecuteTime": {
     "start_time": "2021-05-27T14:35:09.305Z"
    },
    "run_control": {
     "marked": true
    }
   },
   "outputs": [],
   "source": [
    "result_list = []\n",
    "for index in range(len(testing_data[:1000])):\n",
    "    h_list = []\n",
    "    for i in range(Agent_number_n):\n",
    "        h = regr_4.predict(np.array([testing_data[index][i]]))\n",
    "        h_list.append(float(h))\n",
    "    \n",
    "    #print(sum(h_list),h_list,sum(h_list)/testing_label[index])\n",
    "    result_list.append(sum(h_list)/testing_label[index])\n",
    "    \n",
    "\n",
    "print(max(result_list),min(result_list),max(result_list)-min(result_list))"
   ]
  },
  {
   "cell_type": "code",
   "execution_count": null,
   "metadata": {
    "ExecuteTime": {
     "start_time": "2021-05-27T14:35:09.307Z"
    }
   },
   "outputs": [],
   "source": [
    "plt.hist(result_list,bins=500)\n",
    "\n",
    "plt.title(\"Means\", y=1.015, fontsize=20)\n",
    "plt.axvline(x=sum(result_list)/len(result_list), linestyle='--', linewidth=2.5, label=\"sample mean\", c='orange')\n",
    "plt.xlabel(\"samples\", labelpad=14)\n",
    "plt.ylabel(\"frequency of occurence\", labelpad=14)\n",
    "plt.legend();\n",
    "\n",
    "result_list.sort()\n",
    "\n",
    "plt.axvline(x=result_list[int(len(result_list)*0.01)], linestyle='--', linewidth=0.5, label=\"1%\", c='b')\n",
    "plt.axvline(x=result_list[int(len(result_list)*0.99)], linestyle='--', linewidth=0.5, label=\"99%\", c='r')\n",
    "\n",
    "\n",
    "plt.show()"
   ]
  },
  {
   "cell_type": "code",
   "execution_count": null,
   "metadata": {},
   "outputs": [],
   "source": []
  },
  {
   "cell_type": "code",
   "execution_count": null,
   "metadata": {},
   "outputs": [],
   "source": []
  }
 ],
 "metadata": {
  "hide_input": false,
  "kernelspec": {
   "display_name": "Python 3",
   "language": "python",
   "name": "python3"
  },
  "language_info": {
   "codemirror_mode": {
    "name": "ipython",
    "version": 3
   },
   "file_extension": ".py",
   "mimetype": "text/x-python",
   "name": "python",
   "nbconvert_exporter": "python",
   "pygments_lexer": "ipython3",
   "version": "3.8.3"
  },
  "varInspector": {
   "cols": {
    "lenName": 16,
    "lenType": 16,
    "lenVar": 40
   },
   "kernels_config": {
    "python": {
     "delete_cmd_postfix": "",
     "delete_cmd_prefix": "del ",
     "library": "var_list.py",
     "varRefreshCmd": "print(var_dic_list())"
    },
    "r": {
     "delete_cmd_postfix": ") ",
     "delete_cmd_prefix": "rm(",
     "library": "var_list.r",
     "varRefreshCmd": "cat(var_dic_list()) "
    }
   },
   "types_to_exclude": [
    "module",
    "function",
    "builtin_function_or_method",
    "instance",
    "_Feature"
   ],
   "window_display": false
  }
 },
 "nbformat": 4,
 "nbformat_minor": 4
}
