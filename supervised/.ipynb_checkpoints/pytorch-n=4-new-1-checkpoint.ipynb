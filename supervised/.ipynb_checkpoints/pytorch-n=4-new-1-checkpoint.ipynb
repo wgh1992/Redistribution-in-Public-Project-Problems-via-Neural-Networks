{
 "cells": [
  {
   "cell_type": "code",
   "execution_count": 1,
   "metadata": {
    "ExecuteTime": {
     "end_time": "2021-05-30T11:35:24.210270Z",
     "start_time": "2021-05-30T11:35:22.416898Z"
    }
   },
   "outputs": [
    {
     "name": "stdout",
     "output_type": "stream",
     "text": [
      "pygame 2.0.1 (SDL 2.0.14, Python 3.8.3)\n",
      "Hello from the pygame community. https://www.pygame.org/contribute.html\n",
      "cuda:0\n"
     ]
    },
    {
     "name": "stderr",
     "output_type": "stream",
     "text": [
      "D:\\ComputerSoftwares\\Anaconda\\lib\\site-packages\\sklearn\\utils\\deprecation.py:143: FutureWarning: The sklearn.datasets.samples_generator module is  deprecated in version 0.22 and will be removed in version 0.24. The corresponding classes / functions should instead be imported from sklearn.datasets. Anything that cannot be imported from sklearn.datasets is now part of the private API.\n",
      "  warnings.warn(message, FutureWarning)\n"
     ]
    }
   ],
   "source": [
    "\n",
    "import pygame\n",
    "import random\n",
    "import os\n",
    "import time\n",
    "import numpy as np\n",
    "import math\n",
    "import torch\n",
    "import torch.nn.functional\n",
    "import matplotlib.pyplot as plt\n",
    "import torch.optim as opt\n",
    "from torch.autograd import Variable\n",
    "from sklearn.model_selection import train_test_split\n",
    "\n",
    "import scipy.stats as st\n",
    "from sklearn.datasets.samples_generator import make_blobs\n",
    "from matplotlib.colors import LogNorm \n",
    "import matplotlib.cm as cm\n",
    "import torch.nn as nn\n",
    "import numpy as np\n",
    "import matplotlib.pyplot as plt\n",
    "\n",
    "\n",
    "if torch.cuda.is_available():  \n",
    "    dev = \"cuda:0\" \n",
    "else:  \n",
    "    dev = \"cpu\"  \n",
    "\n",
    "print(dev)\n"
   ]
  },
  {
   "cell_type": "code",
   "execution_count": 2,
   "metadata": {
    "ExecuteTime": {
     "end_time": "2021-05-30T11:35:24.226184Z",
     "start_time": "2021-05-30T11:35:24.212197Z"
    }
   },
   "outputs": [],
   "source": [
    "global target_order\n",
    "target_order = \"supervised\"\n",
    "global temp_list\n",
    "temp_list = []\n",
    "Agent_number_n=3;\n",
    "Alpha = 0.666;\n",
    "\n"
   ]
  },
  {
   "cell_type": "code",
   "execution_count": 3,
   "metadata": {
    "ExecuteTime": {
     "end_time": "2021-05-30T11:35:25.491927Z",
     "start_time": "2021-05-30T11:35:24.227180Z"
    }
   },
   "outputs": [
    {
     "name": "stdout",
     "output_type": "stream",
     "text": [
      "[[[0.2924571  0.04653286]\n",
      "  [0.30581804 0.04653286]\n",
      "  [0.30581804 0.2924571 ]]\n",
      "\n",
      " [[0.49974555 0.12097156]\n",
      "  [0.93824097 0.12097156]\n",
      "  [0.93824097 0.49974555]]\n",
      "\n",
      " [[0.67251551 0.5000205 ]\n",
      "  [0.73581989 0.5000205 ]\n",
      "  [0.73581989 0.67251551]]\n",
      "\n",
      " ...\n",
      "\n",
      " [[0.66330593 0.01316305]\n",
      "  [0.75606182 0.01316305]\n",
      "  [0.75606182 0.66330593]]\n",
      "\n",
      " [[0.62389069 0.44383411]\n",
      "  [0.69381628 0.44383411]\n",
      "  [0.69381628 0.62389069]]\n",
      "\n",
      " [[0.43561622 0.3789799 ]\n",
      "  [0.85108349 0.3789799 ]\n",
      "  [0.85108349 0.43561622]]]\n",
      "[[[0.83365995 0.55948834]\n",
      "  [0.98378145 0.55948834]\n",
      "  [0.98378145 0.83365995]]\n",
      "\n",
      " [[0.95343184 0.29878927]\n",
      "  [0.97068312 0.29878927]\n",
      "  [0.97068312 0.95343184]]\n",
      "\n",
      " [[0.56958144 0.12548651]\n",
      "  [0.59890168 0.12548651]\n",
      "  [0.59890168 0.56958144]]\n",
      "\n",
      " ...\n",
      "\n",
      " [[0.36026867 0.20086731]\n",
      "  [0.54106523 0.20086731]\n",
      "  [0.54106523 0.36026867]]\n",
      "\n",
      " [[0.95248929 0.47355473]\n",
      "  [0.95721237 0.47355473]\n",
      "  [0.95721237 0.95248929]]\n",
      "\n",
      " [[0.70631736 0.2308538 ]\n",
      "  [0.95192464 0.2308538 ]\n",
      "  [0.95192464 0.70631736]]]\n",
      "[1.         1.55895807 1.9083559  ... 1.43253081 1.76154108 1.66567961]\n",
      "[2.37692974 2.22290424 1.29396963 1.38912419 1.7475845  1.2540861\n",
      " 1.17796368 2.01517456 1.         1.4699413  2.26681916 1.7882499\n",
      " 1.68443584 1.43413835 1.30210086 2.19282106 1.36239844 1.70256959\n",
      " 2.41347372 1.49941731 1.82214834 1.85901157 1.00204233 2.09182489\n",
      " 1.         2.41570013 1.57008566 2.0607214  1.28517695 1.58149361\n",
      " 1.25148945 2.09314692 1.07671781 1.74436152 2.1317173  1.31915643\n",
      " 2.25725988 2.3222746  1.82015152 1.63913674 1.41395301 1.\n",
      " 1.8024171  1.96643371 2.0973717  1.28268904 1.42201164 1.63873997\n",
      " 1.25711602 1.85589251 1.         1.33670373 1.02530543 2.01206475\n",
      " 1.         1.98193907 1.73177514 1.         1.61960919 1.00235983\n",
      " 1.89143631 1.         1.59542702 1.12464547 1.90063606 1.\n",
      " 1.36099964 1.         2.05894421 1.09526603 2.38361027 1.62744739\n",
      " 1.1010502  1.82469202 2.11610326 1.         1.74700192 1.\n",
      " 2.27127939 2.1329138  1.91531332 1.92519832 1.21647132 1.23875717\n",
      " 1.         1.57058448 1.27067854 2.11909541 1.83603045 1.\n",
      " 1.51430105 1.73736553 1.         1.68103837 1.25177202 1.61725778\n",
      " 1.         1.50851322 1.         1.84643499 2.20681007 1.45678447\n",
      " 1.77567014 1.68222624 1.         1.36514871 1.79999293 1.09674025\n",
      " 1.93714204 1.29921051 2.0784068  2.31794913 1.39188797 1.89018945\n",
      " 2.33581786 1.50432716 1.20099213 2.13558061 2.02194643 1.53029451\n",
      " 1.22873132 1.45916004 1.86255624 1.43531831 1.09805973 1.47514007\n",
      " 2.09384007 1.83957862 2.02347426 1.         2.10169217 2.02234314\n",
      " 1.94533088 1.85422135 2.25422165 2.47028527 2.35520213 1.92117603\n",
      " 2.44136277 1.72996305 1.         2.06247568 1.9296071  1.16996617\n",
      " 1.53093968 2.0856492  1.24786078 1.75134457 2.23243185 1.30749505\n",
      " 2.07333437 1.04598994 1.         1.66676886 2.35873804 1.54609133\n",
      " 1.44409936 1.1131918  1.03123299 1.79153555 1.         1.60269271\n",
      " 1.         1.93782685 1.         2.36219977 1.64138716 1.14967708\n",
      " 2.10167771 1.66811891 1.         1.48158902 1.86360524 1.41455932\n",
      " 1.         1.61882468 1.30589359 1.91449156 2.10784685 1.44955577\n",
      " 1.18002147 1.93611712 1.61367881 1.32652937 1.64838962 1.52507403\n",
      " 1.20871213 1.2936381  1.98249114 2.44384942 1.50660364 1.\n",
      " 1.         2.05805194 1.87568539 2.36741401 1.01397072 2.22026997\n",
      " 2.02816454 1.         1.15411574 1.56005208 1.10029817 1.\n",
      " 2.58885033 1.83421743 1.65847033 2.07928258 1.2192588  1.29220641\n",
      " 1.62419957 1.73032004 1.         1.41162648 1.4907267  1.15149736\n",
      " 1.5038249  1.42932171 1.08996385 1.         1.75502002 1.49095759\n",
      " 1.48175169 1.46218594 1.24135723 1.92845288 1.77673909 1.21100805\n",
      " 1.23433969 2.01136189 1.         2.20053606 1.60217841 2.04046943\n",
      " 1.67848135 1.         1.62562513 2.03739442 1.45446052 1.\n",
      " 1.27945951 1.00900477 1.67734361 1.0311931  1.24573488 1.75230688\n",
      " 1.29321751 1.65837696 1.         1.45051903 1.         1.83727673\n",
      " 1.47548174 1.95385706 1.82819199 1.62664236 1.         1.41547456\n",
      " 2.06477316 1.         1.52772269 1.         1.399385   1.68097528\n",
      " 1.43340742 1.         1.494837   1.7185919  2.23531111 1.08238786\n",
      " 1.1116768  1.33208442 1.         1.         2.03262099 1.80572946\n",
      " 2.03763355 1.         2.29645487 2.25109056 1.19023247 1.75520274\n",
      " 2.00418615 1.18031911 1.19429452 1.60987344 1.28498037 2.00179992\n",
      " 1.         1.         2.08779637 1.68742007 1.33015421 2.37377511\n",
      " 1.19847421 1.67349645 1.         1.80418442 1.22946654 1.21459031\n",
      " 1.72775506 1.62368013 1.66558203 1.34780695 1.         1.59489839\n",
      " 1.70876066 1.31669307 1.72469436 1.89616473 1.88565581 1.42643055\n",
      " 1.27019862 1.77850134 1.94507818 1.84873588 1.99422229 1.\n",
      " 2.49957205 1.82152864 1.70216487 2.15891515 1.85184294 1.45066502\n",
      " 1.         2.22007377 1.6272655  1.0721895  1.52498327 1.21398843\n",
      " 1.6284147  1.90982111 1.96170273 1.         2.50994158 1.48102317\n",
      " 1.16525818 2.25252904 1.32479831 1.89573293 1.18688389 1.77610873\n",
      " 2.07278281 1.56888217 1.48059671 2.55093198 1.75499571 1.16696658\n",
      " 2.04300032 2.25163908 1.         2.05633234 2.32926465 2.00835491\n",
      " 2.28448632 1.11244358 1.         1.8104085  1.         1.15210833\n",
      " 1.         1.40099546 2.14343312 1.3622589  1.08925298 1.62723968\n",
      " 1.19047895 1.58473227 2.18559732 1.23698176 1.         1.42120361\n",
      " 1.         1.44959664 1.36325173 1.53546753 2.15925807 1.5426721\n",
      " 1.81673725 1.2836949  1.22323839 1.         1.10760641 1.\n",
      " 1.56626484 1.76174228 1.         2.35858118 1.90572258 1.\n",
      " 1.24166912 2.13957479 1.76554279 1.19020532 1.         1.\n",
      " 1.27427951 1.08050294 1.1146741  1.132251   1.         1.36937276\n",
      " 1.59293633 1.         1.8216146  1.72459809 1.81810523 2.21310469\n",
      " 1.23847082 1.33451436 1.95136955 1.21786587 1.         1.66659933\n",
      " 2.67558758 2.09112735 2.02985539 1.         1.         1.87697805\n",
      " 1.64907964 1.33881203 1.04299549 1.         1.92049684 1.67371783\n",
      " 1.35783269 2.34024933 1.         1.9625523  1.10991624 1.45825473\n",
      " 1.71965701 1.422927   1.01344519 1.00804741 1.44621382 1.33220259\n",
      " 1.53578215 2.39516574 1.07438972 2.05155316 1.68357039 1.48260982\n",
      " 1.35175198 1.         1.99307575 1.51981593 1.46535739 2.00534208\n",
      " 2.01125486 1.75136839 1.         1.65640608 1.         2.68433606\n",
      " 1.21550115 1.15129036 1.06994682 1.49138551 1.         1.10033251\n",
      " 1.04973762 1.62179593 1.70589241 1.76267138 1.75847077 1.59834263\n",
      " 1.80573004 2.17032042 1.57537451 2.0139729  1.42981262 1.73050608\n",
      " 1.23229156 1.73882307 1.16150926 1.         2.15419822 2.20984653\n",
      " 1.57865902 1.70146911 1.25028778 2.17509356 1.6234282  2.12650938\n",
      " 1.87430873 1.79525433 1.7579349  1.58526409 2.58603774 1.21554553\n",
      " 2.3491337  1.67441457 2.33833269 2.27785523 1.         1.74247354\n",
      " 1.05161322 1.06348297 1.46344958 2.02553049 1.35317701 1.\n",
      " 2.33240404 1.72796868 1.73604221 1.56693122 2.5167473  1.48908984\n",
      " 1.64056342 1.18525856 1.         1.78164094 1.54622388 1.606654\n",
      " 2.20678549 2.4858534  1.14218158 1.         1.38182841 1.53870404\n",
      " 1.29380595 1.87089952 1.48364414 1.29870793 1.68995804 2.11019803\n",
      " 1.90864939 1.7076515  2.00555546 1.98518698 1.         2.30251986\n",
      " 1.59997368 1.30069661 1.7522596  2.43840514 1.39309145 2.45511549\n",
      " 1.77899993 1.20773049 1.64059207 1.         1.34332124 1.\n",
      " 2.41510266 1.899954   1.99076733 1.37067358 1.         1.41338153\n",
      " 1.09533443 1.         1.         1.         1.91427766 2.3394862\n",
      " 1.1068817  1.66574507 1.14950279 1.90296453 1.         1.\n",
      " 1.         1.43805552 1.         1.63389976 1.45638988 1.60385653\n",
      " 2.00751524 1.78148491 2.01458806 1.52254933 1.94824531 1.01412544\n",
      " 1.         1.09831645 1.         1.         1.02341526 1.87007673\n",
      " 1.53748135 1.98595904 1.32016727 1.76495028 1.         1.75408332\n",
      " 2.28226396 1.27442519 1.44968979 1.         1.541876   1.\n",
      " 1.95194755 2.44578852 1.3983057  2.01820412 1.         1.19890072\n",
      " 1.87754445 1.17762093 1.         1.         1.561186   1.\n",
      " 2.20567946 1.42212412 1.76121361 1.11765469 1.         1.01040649\n",
      " 1.70001607 1.         1.16139024 1.         1.         1.66375053\n",
      " 1.56414536 2.77964208 1.24637162 1.35914749 2.08034318 2.39913181\n",
      " 1.71367987 1.04751709 1.06950994 1.         2.15331643 1.47974376\n",
      " 1.9295787  1.80455757 1.83063927 1.         1.5149617  1.18316408\n",
      " 1.38669485 1.74806449 1.24004545 1.88068574 1.61882632 1.53373161\n",
      " 1.51065129 1.6077077  1.61096382 1.23360689 2.31331566 2.00251001\n",
      " 1.46833531 2.05510122 1.93508394 1.         1.15760151 1.\n",
      " 1.51143187 1.38665692 1.         2.27745436 2.23664675 1.53807305\n",
      " 2.25240192 1.012712   1.71856992 2.45395811 1.31105475 1.6431649\n",
      " 1.         1.87979455 1.37740943 1.90112295 2.08881008 2.23786438\n",
      " 1.72335318 1.3336336  1.21018658 2.1929883  1.         1.92088905\n",
      " 1.31910715 1.42461207 1.41724346 1.58637746 1.28046356 1.13455836\n",
      " 1.54017245 1.23285989 1.78070578 1.77382087 1.63028939 1.\n",
      " 1.52733896 1.77041144 2.10848228 1.65084579 1.80335942 1.14943785\n",
      " 1.76253875 1.         1.08508915 1.80377715 1.7369449  2.74640156\n",
      " 1.81120612 1.20954902 1.36071984 1.11495742 1.23587682 1.\n",
      " 1.71215005 1.         1.46613603 1.87689735 1.19551029 1.66050351\n",
      " 2.14449099 1.86980343 2.1370223  1.18810786 2.56536465 1.9201019\n",
      " 1.39062585 1.         1.27192155 2.35402132 1.53150215 2.13022808\n",
      " 1.33341119 1.85060097 1.68034074 1.04708476 1.67065905 1.\n",
      " 1.55308678 1.         1.         1.         2.33382089 1.\n",
      " 2.40563758 1.95624358 1.         2.27574869 1.         1.9169591\n",
      " 2.06521604 1.85195762 1.02920083 1.44725335 1.         1.23535461\n",
      " 1.11274967 1.57831309 1.61342263 1.         1.6575972  1.27451501\n",
      " 1.97947808 2.16543076 2.06206964 1.         1.09007767 1.8131869\n",
      " 1.6446151  2.01267593 1.79413506 1.10553741 1.19346249 1.25921925\n",
      " 1.62103085 1.92847057 1.62749934 2.15883743 1.48641718 1.43442813\n",
      " 1.7537956  1.         1.91924817 1.40500721 1.27989048 1.\n",
      " 1.54453457 1.94719089 1.76717753 1.         1.95427383 1.84321774\n",
      " 1.47723342 1.84872894 1.         1.66770473 1.         1.65569718\n",
      " 1.73458311 1.78999927 1.94079534 2.11551501 1.18632571 1.41161637\n",
      " 1.45044313 1.76179877 1.         1.         1.         2.17896802\n",
      " 1.01677064 1.26096622 1.42300756 2.40389423 2.30418813 1.\n",
      " 1.16114031 1.         1.6644003  2.03464178 1.32330896 1.\n",
      " 1.81457923 1.78197825 1.03152375 1.87111262 1.75292068 1.\n",
      " 1.47170801 1.67184545 1.94164557 1.62472968 2.6166248  2.13973009\n",
      " 1.31593748 2.15516427 1.63632151 1.61217421 1.70777311 1.79847227\n",
      " 1.4721618  1.94901868 1.98269326 1.36983009 1.13887585 1.\n",
      " 1.66692371 1.         1.28582394 2.26996626 1.         1.\n",
      " 1.8272891  1.04323604 1.31780773 1.         1.49791429 1.57519008\n",
      " 1.59615997 1.94242352 1.72864427 1.88302563 1.49742467 1.\n",
      " 2.20615003 1.60550597 1.         1.         1.42537282 1.639461\n",
      " 1.6036794  1.73529837 1.28053434 1.71001089 1.         2.00177915\n",
      " 1.         2.10734874 1.78742693 1.         1.29506716 1.27345872\n",
      " 1.3627249  1.83343286 1.83560489 1.92800245 1.38359508 2.14243502\n",
      " 1.64364873 1.96854738 1.72089095 1.5751087  1.90204214 2.14514442\n",
      " 1.8157868  1.13943732 1.86087822 1.68257709 1.50436217 1.32686952\n",
      " 1.96786046 1.555429   1.19056071 1.23295524 1.         1.81991883\n",
      " 1.27386908 1.90630734 1.05653556 1.84124769 1.4624681  1.82979086\n",
      " 1.75511461 1.51556251 1.1379605  1.38053402 1.         2.32541467\n",
      " 1.88893413 1.         1.33589506 1.12654771 2.20772262 1.57022829\n",
      " 1.         1.         2.25009949 1.17846437 1.         1.60621804\n",
      " 1.63624377 1.19833487 1.78588595 1.23180798 1.02572803 1.68288863\n",
      " 1.         1.74710053 2.26871368 1.51850863 1.31289198 1.03418905\n",
      " 1.89273514 1.84939913 1.         1.80504692 2.54619352 2.06465653\n",
      " 1.48051239 1.58171196 1.         1.52507748 1.         1.32260035\n",
      " 1.42869207 1.47121842 1.12867969 1.         1.23917709 1.\n",
      " 1.95274972 1.91505225 1.73100592 2.28346564 1.38461189 2.31382888\n",
      " 1.88720389 1.         1.22273006 1.05889845 1.4465824  2.0897394\n",
      " 1.30168539 1.50476478 1.74160026 1.40040371 1.25342849 1.55167149\n",
      " 1.39258926 2.67508249 1.13674886 1.17175153 1.39088959 2.0791888\n",
      " 1.84628152 2.1633639  1.10960099 1.3827647  1.76066851 1.39219654\n",
      " 1.58023389 1.47170876 1.57973546 1.36756581 1.67037492 1.31803068\n",
      " 1.56815404 1.66965313 1.40071386 1.72613467 1.75040674 1.43014688\n",
      " 2.3093584  1.10220121 2.38325639 1.8890958 ]\n"
     ]
    }
   ],
   "source": [
    "global temp_list\n",
    "temp_list = []\n",
    "def appen(_x_list,y):\n",
    "    global temp_list\n",
    "    temp_list.append(_x_list)\n",
    "    \n",
    "def appen_train(x_list):\n",
    "    global temp_list\n",
    "                \n",
    "    S= max(sum(x_list),1.0);\n",
    "    temp_list = []\n",
    "    \n",
    "    for i in range(Agent_number_n):\n",
    "        temp = []\n",
    "        for j in range(Agent_number_n):\n",
    "            if(i!=j):\n",
    "                temp.append(x_list[j])\n",
    "        appen(temp,S)\n",
    "    \n",
    "    training_data.append(temp_list)\n",
    "    training_label.append(S)\n",
    "    \n",
    "\n",
    "def read_training_data():\n",
    "    for i in range(100000):\n",
    "        appen_train(sorted(np.random.rand(Agent_number_n), reverse=True));\n",
    "\n",
    "training_data=[]\n",
    "training_label=[]\n",
    "S=1.0\n",
    "read_training_data();\n",
    "\n",
    "def appen_test(x_list):\n",
    "    global temp_list\n",
    "                \n",
    "    S= max(sum(x_list),1.0);\n",
    "    temp_list = []\n",
    "    \n",
    "    for i in range(Agent_number_n):\n",
    "        temp = []\n",
    "        for j in range(Agent_number_n):\n",
    "            if(i!=j):\n",
    "                temp.append(x_list[j])\n",
    "        appen(temp,S)\n",
    "    testing_data.append(temp_list)\n",
    "    testing_label.append(S)\n",
    "    \n",
    "\n",
    "def read_testing_data():\n",
    "#     devided=20\n",
    "#     for i1 in range(devided+1):\n",
    "#         for i2 in range(i1+1):\n",
    "#             for i3 in range(i2+1):\n",
    "#                 appen_test(i1/devided,i2/devided,i3/devided);\n",
    "    for i in range(1000):\n",
    "        appen_test(sorted(np.random.rand(Agent_number_n), reverse=True));\n",
    "                            \n",
    "\n",
    "testing_data=[]\n",
    "testing_label=[]\n",
    "S=1.0\n",
    "read_testing_data();\n",
    "\n",
    "training_data=np.array(training_data)\n",
    "training_label=np.array(training_label)\n",
    "testing_data=np.array(testing_data)\n",
    "testing_label=np.array(testing_label)\n",
    "print(training_data)\n",
    "print(testing_data)\n",
    "print(training_label)\n",
    "print(testing_label)"
   ]
  },
  {
   "cell_type": "code",
   "execution_count": 4,
   "metadata": {
    "ExecuteTime": {
     "end_time": "2021-05-30T11:35:32.232472Z",
     "start_time": "2021-05-30T11:35:25.492925Z"
    }
   },
   "outputs": [
    {
     "name": "stdout",
     "output_type": "stream",
     "text": [
      "2.3332878620183553 2.0 0.33328786201835525\n"
     ]
    }
   ],
   "source": [
    "def h_3_star(a, b, t):\n",
    "    return a - min(a, t) + b - min(b, t) + max(min(a, t)+min(b, t), 2*t/3) + 1/2 * max(min(a, t)+min(b, t), t) - 1/2 * max(max(min(a, t), min(b, t)), 2*t/3) - t/6\n",
    "\n",
    "\n",
    "def f_function(a, b, z):\n",
    "    if(z >= 1):\n",
    "        return (a+b)/2 + z/3\n",
    "    else:\n",
    "        return z/3 + h_3_star(a, b, 1-z)/2\n",
    "\n",
    "def h_function(input_list):\n",
    "    #input_list = sorted(input_list)\n",
    "    g_list = []\n",
    "    for j1 in range(len(input_list) ):\n",
    "        for j2 in range(len(input_list)):\n",
    "            if(j1 != j2):\n",
    "                a = input_list[j1]\n",
    "                b = input_list[j2]\n",
    "                z = sum(input_list)- a-b\n",
    "\n",
    "                g_list.append( f_function(a, b, z) * (Agent_number_n-1))\n",
    "    h = sum(g_list) * 3 /  (Agent_number_n) /  (Agent_number_n-1) /  (Agent_number_n - 2)\n",
    "    return h\n",
    "                \n",
    "                \n",
    "x_list = []\n",
    "y_list = []\n",
    "z_list = []\n",
    "result_list = []\n",
    "training_supervised_label=[]\n",
    "for index in range(len(training_data)):\n",
    "    h_list = []\n",
    "    for i in range(Agent_number_n):\n",
    "        x_list.append(training_data[index][i][0])\n",
    "        y_list.append(training_data[index][i][1])\n",
    "        h = h_function(training_data[index][i])\n",
    "        z_list.append(float(h))\n",
    "        h_list.append(float(h))\n",
    "    training_supervised_label.append(h_list)\n",
    "    result_list.append(sum(h_list)/training_label[index]) \n",
    "    \n",
    "    \n",
    "print(max(result_list), min(result_list), max(result_list)-min(result_list))"
   ]
  },
  {
   "cell_type": "code",
   "execution_count": 5,
   "metadata": {
    "ExecuteTime": {
     "end_time": "2021-05-30T11:35:33.259796Z",
     "start_time": "2021-05-30T11:35:32.234432Z"
    }
   },
   "outputs": [
    {
     "data": {
      "image/png": "[encoded data removed]",
      "text/plain": [
       "<Figure size 432x288 with 1 Axes>"
      ]
     },
     "metadata": {
      "needs_background": "light"
     },
     "output_type": "display_data"
    }
   ],
   "source": [
    "plt.hist(result_list,bins=500)\n",
    "\n",
    "plt.title(\"Means\", y=1.015, fontsize=20)\n",
    "plt.axvline(x=sum(result_list)/len(result_list), linestyle='--', linewidth=2.5, label=\"sample mean\", c='orange')\n",
    "plt.xlabel(\"samples\", labelpad=14)\n",
    "plt.ylabel(\"frequency of occurence\", labelpad=14)\n",
    "plt.legend();\n",
    "\n",
    "result_list.sort()\n",
    "\n",
    "plt.axvline(x=result_list[int(len(result_list)*0.01)], linestyle='--', linewidth=0.5, label=\"1%\", c='b')\n",
    "plt.axvline(x=result_list[int(len(result_list)*0.99)], linestyle='--', linewidth=0.5, label=\"99%\", c='r')\n",
    "\n",
    "\n",
    "plt.show()"
   ]
  },
  {
   "cell_type": "code",
   "execution_count": 6,
   "metadata": {
    "ExecuteTime": {
     "end_time": "2021-05-30T11:35:33.367535Z",
     "start_time": "2021-05-30T11:35:33.261792Z"
    }
   },
   "outputs": [
    {
     "name": "stdout",
     "output_type": "stream",
     "text": [
      "[[0.66666667 0.66666667 0.66666667]\n",
      " [0.66666667 0.95303164 1.52119262]\n",
      " [1.2558796  1.31918397 1.57792649]\n",
      " ...\n",
      " [0.67646899 0.7245273  1.58435405]\n",
      " [1.1015872  1.19290078 1.46298564]\n",
      " [0.81459612 1.25288667 1.33784116]]\n"
     ]
    }
   ],
   "source": [
    "training_supervised_label=np.array(training_supervised_label)\n",
    "print(training_supervised_label)"
   ]
  },
  {
   "cell_type": "code",
   "execution_count": 7,
   "metadata": {
    "ExecuteTime": {
     "end_time": "2021-05-30T11:35:33.382701Z",
     "start_time": "2021-05-30T11:35:33.369503Z"
    }
   },
   "outputs": [
    {
     "name": "stdout",
     "output_type": "stream",
     "text": [
      "cuda:0\n"
     ]
    }
   ],
   "source": [
    "if torch.cuda.is_available():  \n",
    "    dev = \"cuda:0\" \n",
    "else:  \n",
    "    dev = \"cpu\"  \n",
    "\n",
    "print(dev)\n"
   ]
  },
  {
   "cell_type": "code",
   "execution_count": 8,
   "metadata": {
    "ExecuteTime": {
     "end_time": "2021-05-30T11:35:33.414587Z",
     "start_time": "2021-05-30T11:35:33.384667Z"
    },
    "run_control": {
     "marked": true
    }
   },
   "outputs": [],
   "source": [
    "def weight_init(m):\n",
    "    if isinstance(m, torch.nn.Conv2d):\n",
    "        torch.nn.init.xavier_normal_(m.weight)\n",
    "        torch.nn.init.zeros_(m.bias)\n",
    "    elif isinstance(m, torch.nn.Linear):\n",
    "        torch.nn.init.normal_(m.weight, mean=0.0,std =0.2)\n",
    "        torch.nn.init.normal_(m.bias, mean=0.0,std =0.01)\n",
    "#     elif isinstance(m, torch.nn.Parameter):\n",
    "#         torch.nn.init.normal_(m, mean=0.0,std =0.1)\n",
    "\n",
    "        \n",
    "\n",
    "class Net(torch.nn.Module):\n",
    "    def __init__(self):\n",
    "\n",
    "        super(Net, self).__init__()\n",
    "        \n",
    "        self.input_dim = (Agent_number_n-1)*10\n",
    "        self.hidden_dim = 50\n",
    "        self.output_dim = 1\n",
    "        self.hidden_layer_count = 8\n",
    "        \n",
    "        current_dim = self.input_dim\n",
    "        self.layers = torch.nn.ModuleList()\n",
    "        for i in range(self.hidden_layer_count):\n",
    "            self.layers.append(torch.nn.Linear(current_dim, self.hidden_dim))\n",
    "            current_dim = self.hidden_dim\n",
    "        self.layers.append(torch.nn.Linear(current_dim, self.output_dim))\n",
    "\n",
    "    def calculate(self, value_list):\n",
    "        input_h = torch.zeros(self.input_dim).cuda()\n",
    "        for i in range((Agent_number_n-1)):\n",
    "            for j in range(10):\n",
    "                \n",
    "                input_h[i*10+j] = torch.where( value_list[i]*10>torch.tensor(j) ,\n",
    "                            torch.ones(1).cuda(),\n",
    "                            value_list[i]*10 - torch.tensor(j)\n",
    "                          )\n",
    "                if(value_list[i]*10<=torch.tensor(j)):\n",
    "                    break;\n",
    "        \n",
    "        h = input_h\n",
    "        for layer in self.layers:\n",
    "            h = torch.relu(layer(h))\n",
    "        return h\n",
    "\n",
    "    def forward(self, input_list,input_label,label):\n",
    "        global iteration,echo,target_order\n",
    "        loss1 = 0\n",
    "        loss2 = 0\n",
    "        input_list = torch.from_numpy(\n",
    "            np.array(input_list)).cuda().type(torch.float32)\n",
    "        h_list = []\n",
    "\n",
    "        if (target_order == \"supervised\"):\n",
    "            loss = 0 \n",
    "            for i in range(Agent_number_n):\n",
    "                h = self.calculate(input_list[i])\n",
    "                loss += torch.square(h - label[i])\n",
    "                h_list.append(h)\n",
    "            return loss\n",
    "        else:\n",
    "            for i in range(Agent_number_n):\n",
    "                h = self.calculate(input_list[i])\n",
    "                h_list.append(h)\n",
    "            input_label = torch.from_numpy(\n",
    "                np.array(input_label)).cuda().type(torch.float32)\n",
    "            sum_h = torch.sum(torch.cat(h_list)).cuda()\n",
    "\n",
    "\n",
    "            loss1 = torch.where((Agent_number_n-1)*input_label>sum_h,\n",
    "                            torch.square(((Agent_number_n-1)*input_label-sum_h)),\n",
    "                            torch.zeros(1).cuda()\n",
    "                          )\n",
    "\n",
    "            loss2 = torch.where((Agent_number_n-Alpha)*input_label<sum_h,\n",
    "                            torch.square((sum_h-(Agent_number_n-Alpha)*input_label))/4,\n",
    "                            torch.zeros(1).cuda()\n",
    "                          )\n",
    "\n",
    "            return loss1,loss2,h_list"
   ]
  },
  {
   "cell_type": "code",
   "execution_count": 9,
   "metadata": {
    "ExecuteTime": {
     "end_time": "2021-05-30T11:35:34.959798Z",
     "start_time": "2021-05-30T11:35:33.415585Z"
    }
   },
   "outputs": [
    {
     "data": {
      "text/plain": [
       "Net(\n",
       "  (layers): ModuleList(\n",
       "    (0): Linear(in_features=20, out_features=50, bias=True)\n",
       "    (1): Linear(in_features=50, out_features=50, bias=True)\n",
       "    (2): Linear(in_features=50, out_features=50, bias=True)\n",
       "    (3): Linear(in_features=50, out_features=50, bias=True)\n",
       "    (4): Linear(in_features=50, out_features=50, bias=True)\n",
       "    (5): Linear(in_features=50, out_features=50, bias=True)\n",
       "    (6): Linear(in_features=50, out_features=50, bias=True)\n",
       "    (7): Linear(in_features=50, out_features=50, bias=True)\n",
       "    (8): Linear(in_features=50, out_features=1, bias=True)\n",
       "  )\n",
       ")"
      ]
     },
     "execution_count": 9,
     "metadata": {},
     "output_type": "execute_result"
    }
   ],
   "source": [
    "random.seed(2000)\n",
    "torch.manual_seed(256)\n",
    "net  = Net()\n",
    "net.apply(weight_init)\n",
    "\n",
    "#net = torch.load(\"save/Deep_learning_small_5_3\")\n",
    "net.to(dev)"
   ]
  },
  {
   "cell_type": "code",
   "execution_count": 10,
   "metadata": {
    "ExecuteTime": {
     "end_time": "2021-05-30T11:35:34.975753Z",
     "start_time": "2021-05-30T11:35:34.960734Z"
    },
    "run_control": {
     "marked": true
    }
   },
   "outputs": [],
   "source": [
    "#optimizer = opt.RMSprop(net.parameters(), lr=0.00001)\n",
    "#optimizer = opt.SGD(net.parameters(), lr=0.00001)\n",
    "optimizer = opt.Adam(net.parameters(), lr=0.00001)\n",
    "\n",
    "batch_size = 64\n",
    "echo = 0"
   ]
  },
  {
   "cell_type": "code",
   "execution_count": 11,
   "metadata": {
    "ExecuteTime": {
     "end_time": "2021-05-30T11:35:34.991653Z",
     "start_time": "2021-05-30T11:35:34.976693Z"
    }
   },
   "outputs": [],
   "source": [
    "target_order = \"supervised\"\n",
    "for iteration in range(int(echo)):\n",
    "    # offender_types = []\n",
    "    # defender_types = []\n",
    "    \n",
    "    \n",
    "    X_train_list = []\n",
    "    temp_number = 0\n",
    "    total_batch_loss = 0 \n",
    "    while(temp_number<len(training_data)-1):\n",
    "        loss_sum = 0\n",
    "        denominator = 0\n",
    "        for index in range(temp_number, min(batch_size+temp_number,len(training_data))):\n",
    "            h_loss = net(training_data[index],training_label[index],training_supervised_label[index])\n",
    "            denominator += 1\n",
    "            loss_sum += h_loss\n",
    "            \n",
    "        loss = (loss_sum) / denominator \n",
    "        total_batch_loss +=float(loss_sum)\n",
    "        optimizer.zero_grad()\n",
    "        \n",
    "        loss.backward()\n",
    "        \n",
    "        optimizer.step()\n",
    "        \n",
    "        temp_number = index\n",
    "        \n",
    "        if(random.random()<=0.01):\n",
    "            print(temp_number,loss,float(loss_sum))\n",
    "\n",
    "\n",
    "    print(\"batch iteration\", iteration)\n",
    "    print(\"batch_loss: %.2f \" % (total_batch_loss/len(training_data)))\n",
    "    \n",
    "    print()\n",
    "    print()"
   ]
  },
  {
   "cell_type": "code",
   "execution_count": 12,
   "metadata": {
    "ExecuteTime": {
     "end_time": "2021-05-30T11:35:48.039191Z",
     "start_time": "2021-05-30T11:35:34.992650Z"
    }
   },
   "outputs": [
    {
     "name": "stdout",
     "output_type": "stream",
     "text": [
      "0.8029171596920941 0.0 0.8029171596920941\n"
     ]
    }
   ],
   "source": [
    "denominator = 0\n",
    "result_list = []\n",
    "for index in range(len(testing_data)):\n",
    "    h_list = []\n",
    "    for i in range(Agent_number_n):\n",
    "        h = net.calculate(torch.tensor(testing_data[index][i]).cuda().type(torch.float32))\n",
    "        h_list.append(float(h))\n",
    "    \n",
    "    #print(sum(h_list),h_list,sum(h_list)/testing_label[index])\n",
    "    result_list.append(sum(h_list)/testing_label[index])\n",
    "    \n",
    "\n",
    "print(max(result_list),min(result_list),max(result_list)-min(result_list))"
   ]
  },
  {
   "cell_type": "code",
   "execution_count": 13,
   "metadata": {
    "ExecuteTime": {
     "end_time": "2021-05-30T11:35:49.073096Z",
     "start_time": "2021-05-30T11:35:48.040119Z"
    }
   },
   "outputs": [
    {
     "data": {
      "image/png": "[encoded data removed]",
      "text/plain": [
       "<Figure size 432x288 with 1 Axes>"
      ]
     },
     "metadata": {
      "needs_background": "light"
     },
     "output_type": "display_data"
    }
   ],
   "source": [
    "plt.hist(result_list,bins=500)\n",
    "\n",
    "plt.title(\"Means\", y=1.015, fontsize=20)\n",
    "plt.axvline(x=sum(result_list)/len(result_list), linestyle='--', linewidth=2.5, label=\"sample mean\", c='orange')\n",
    "plt.xlabel(\"samples\", labelpad=14)\n",
    "plt.ylabel(\"frequency of occurence\", labelpad=14)\n",
    "plt.legend();\n",
    "\n",
    "result_list.sort()\n",
    "\n",
    "plt.axvline(x=result_list[int(len(result_list)*0.01)], linestyle='--', linewidth=0.5, label=\"1%\", c='b')\n",
    "plt.axvline(x=result_list[int(len(result_list)*0.99)], linestyle='--', linewidth=0.5, label=\"99%\", c='r')\n",
    "\n",
    "\n",
    "plt.show()"
   ]
  },
  {
   "cell_type": "code",
   "execution_count": 14,
   "metadata": {
    "ExecuteTime": {
     "end_time": "2021-05-30T11:35:49.088986Z",
     "start_time": "2021-05-30T11:35:49.074026Z"
    }
   },
   "outputs": [],
   "source": [
    "torch.save(net, \"save/Deep_learning_small_5_3\")"
   ]
  },
  {
   "cell_type": "code",
   "execution_count": 15,
   "metadata": {
    "ExecuteTime": {
     "end_time": "2021-05-30T11:35:49.104942Z",
     "start_time": "2021-05-30T11:35:49.089982Z"
    }
   },
   "outputs": [],
   "source": [
    "#optimizer = opt.RMSprop(net.parameters(), lr=0.00001)\n",
    "#optimizer = opt.SGD(net.parameters(), lr=0.00005)\n",
    "optimizer = opt.Adam(net.parameters(), lr=0.001)\n",
    "\n",
    "batch_size = 64\n",
    "echo = 1"
   ]
  },
  {
   "cell_type": "code",
   "execution_count": null,
   "metadata": {
    "ExecuteTime": {
     "start_time": "2021-05-30T11:35:22.392Z"
    }
   },
   "outputs": [
    {
     "name": "stdout",
     "output_type": "stream",
     "text": [
      "3024 tensor([0.0460], device='cuda:0', grad_fn=<DivBackward0>) 1.0225021839141846 1.9237382411956787\n",
      "4347 tensor([0.0309], device='cuda:0', grad_fn=<DivBackward0>) 0.6118931770324707 1.3651114702224731\n",
      "8883 tensor([0.0238], device='cuda:0', grad_fn=<DivBackward0>) 0.14487922191619873 1.378909945487976\n",
      "13104 tensor([0.0218], device='cuda:0', grad_fn=<DivBackward0>) 0.06542135775089264 1.3323454856872559\n"
     ]
    }
   ],
   "source": [
    "target_order = \"unsupervised\"\n",
    "for iteration in range(int(echo)):\n",
    "    # offender_types = []\n",
    "    # defender_types = []\n",
    "    \n",
    "    \n",
    "    X_train_list = []\n",
    "    temp_number = 0\n",
    "    total_batch_loss = 0 \n",
    "    while(temp_number<len(training_data)-1):\n",
    "        \n",
    "        loss2_list = []\n",
    "        loss1_sum = 0\n",
    "        loss2_sum = 0\n",
    "        denominator = 0\n",
    "        for index in range(temp_number, min(batch_size+temp_number,len(training_data))):\n",
    "            h_loss1,h_loss2,h_list = net(training_data[index],training_label[index],0)\n",
    "            denominator += 1\n",
    "            loss1_sum += h_loss1\n",
    "            loss2_sum += h_loss2\n",
    "            \n",
    "        loss_sum = loss1_sum + loss2_sum\n",
    "        loss = (loss_sum) / denominator \n",
    "        total_batch_loss +=float(loss_sum)\n",
    "        optimizer.zero_grad()\n",
    "        \n",
    "        loss.backward()\n",
    "        \n",
    "        optimizer.step()\n",
    "        \n",
    "        temp_number = index\n",
    "        \n",
    "        if(random.random()<=0.01):\n",
    "            print(temp_number,loss,float(loss1_sum),float(loss2_sum))\n",
    "\n",
    "\n",
    "    print(\"batch iteration\", iteration)\n",
    "    print(\"batch_loss: %.2f \" % (total_batch_loss/len(training_data)))\n",
    "    \n",
    "    print()\n",
    "    print()"
   ]
  },
  {
   "cell_type": "code",
   "execution_count": null,
   "metadata": {
    "ExecuteTime": {
     "start_time": "2021-05-30T11:35:22.395Z"
    }
   },
   "outputs": [],
   "source": [
    "torch.save(net, \"save/Deep_learning_small_5_3\")"
   ]
  },
  {
   "cell_type": "code",
   "execution_count": null,
   "metadata": {
    "ExecuteTime": {
     "start_time": "2021-05-30T11:35:22.396Z"
    }
   },
   "outputs": [],
   "source": [
    "denominator = 0\n",
    "result_list = []\n",
    "for index in range(len(testing_data)):\n",
    "    h_list = []\n",
    "    for i in range(Agent_number_n):\n",
    "        h = net.calculate(torch.tensor(testing_data[index][i]).cuda().type(torch.float32))\n",
    "        h_list.append(float(h))\n",
    "    \n",
    "    #print(sum(h_list),h_list,sum(h_list)/testing_label[index])\n",
    "    result_list.append(sum(h_list)/testing_label[index])\n",
    "    \n",
    "\n",
    "print(max(result_list),min(result_list),max(result_list)-min(result_list))"
   ]
  },
  {
   "cell_type": "code",
   "execution_count": null,
   "metadata": {
    "ExecuteTime": {
     "start_time": "2021-05-30T11:35:22.398Z"
    }
   },
   "outputs": [],
   "source": [
    "plt.hist(result_list,bins=500)\n",
    "\n",
    "plt.title(\"Means\", y=1.015, fontsize=20)\n",
    "plt.axvline(x=sum(result_list)/len(result_list), linestyle='--', linewidth=2.5, label=\"sample mean\", c='orange')\n",
    "plt.xlabel(\"samples\", labelpad=14)\n",
    "plt.ylabel(\"frequency of occurence\", labelpad=14)\n",
    "plt.legend();\n",
    "\n",
    "result_list.sort()\n",
    "\n",
    "plt.axvline(x=result_list[int(len(result_list)*0.01)], linestyle='--', linewidth=0.5, label=\"1%\", c='b')\n",
    "plt.axvline(x=result_list[int(len(result_list)*0.99)], linestyle='--', linewidth=0.5, label=\"99%\", c='r')\n",
    "\n",
    "\n",
    "plt.show()"
   ]
  },
  {
   "cell_type": "code",
   "execution_count": null,
   "metadata": {
    "ExecuteTime": {
     "start_time": "2021-05-30T11:35:22.399Z"
    }
   },
   "outputs": [],
   "source": [
    "for param in net.parameters():\n",
    "    print(param )"
   ]
  }
 ],
 "metadata": {
  "hide_input": false,
  "kernelspec": {
   "display_name": "Python 3",
   "language": "python",
   "name": "python3"
  },
  "language_info": {
   "codemirror_mode": {
    "name": "ipython",
    "version": 3
   },
   "file_extension": ".py",
   "mimetype": "text/x-python",
   "name": "python",
   "nbconvert_exporter": "python",
   "pygments_lexer": "ipython3",
   "version": "3.8.3"
  },
  "varInspector": {
   "cols": {
    "lenName": 16,
    "lenType": 16,
    "lenVar": 40
   },
   "kernels_config": {
    "python": {
     "delete_cmd_postfix": "",
     "delete_cmd_prefix": "del ",
     "library": "var_list.py",
     "varRefreshCmd": "print(var_dic_list())"
    },
    "r": {
     "delete_cmd_postfix": ") ",
     "delete_cmd_prefix": "rm(",
     "library": "var_list.r",
     "varRefreshCmd": "cat(var_dic_list()) "
    }
   },
   "types_to_exclude": [
    "module",
    "function",
    "builtin_function_or_method",
    "instance",
    "_Feature"
   ],
   "window_display": false
  }
 },
 "nbformat": 4,
 "nbformat_minor": 4
}
