{
 "cells": [
  {
   "cell_type": "code",
   "execution_count": 1,
   "metadata": {
    "ExecuteTime": {
     "end_time": "2021-05-23T14:27:36.783137Z",
     "start_time": "2021-05-23T14:27:35.379413Z"
    }
   },
   "outputs": [
    {
     "name": "stdout",
     "output_type": "stream",
     "text": [
      "pygame 2.0.1 (SDL 2.0.14, Python 3.8.3)\n",
      "Hello from the pygame community. https://www.pygame.org/contribute.html\n",
      "cuda:0\n"
     ]
    },
    {
     "name": "stderr",
     "output_type": "stream",
     "text": [
      "D:\\ComputerSoftwares\\Anaconda\\lib\\site-packages\\sklearn\\utils\\deprecation.py:143: FutureWarning: The sklearn.datasets.samples_generator module is  deprecated in version 0.22 and will be removed in version 0.24. The corresponding classes / functions should instead be imported from sklearn.datasets. Anything that cannot be imported from sklearn.datasets is now part of the private API.\n",
      "  warnings.warn(message, FutureWarning)\n"
     ]
    }
   ],
   "source": [
    "\n",
    "import pygame\n",
    "import random\n",
    "import os\n",
    "import time\n",
    "import numpy as np\n",
    "import math\n",
    "import torch\n",
    "import torch.nn.functional\n",
    "import matplotlib.pyplot as plt\n",
    "import torch.optim as opt\n",
    "from torch.autograd import Variable\n",
    "from sklearn.model_selection import train_test_split\n",
    "\n",
    "import scipy.stats as st\n",
    "from sklearn.datasets.samples_generator import make_blobs\n",
    "from matplotlib.colors import LogNorm \n",
    "import matplotlib.cm as cm\n",
    "import torch.nn as nn\n",
    "import numpy as np\n",
    "import matplotlib.pyplot as plt\n",
    "\n",
    "\n",
    "if torch.cuda.is_available():  \n",
    "    dev = \"cuda:0\" \n",
    "else:  \n",
    "    dev = \"cpu\"  \n",
    "\n",
    "print(dev)\n"
   ]
  },
  {
   "cell_type": "code",
   "execution_count": 2,
   "metadata": {
    "ExecuteTime": {
     "end_time": "2021-05-23T14:27:36.798095Z",
     "start_time": "2021-05-23T14:27:36.785132Z"
    }
   },
   "outputs": [],
   "source": [
    "global target_order\n",
    "target_order = \"supervised\"\n",
    "global temp_list\n",
    "temp_list = []\n",
    "Agent_number_n=5;\n",
    "Alpha = 0.650#(0.600+0.714)/2\n",
    "\n"
   ]
  },
  {
   "cell_type": "code",
   "execution_count": 3,
   "metadata": {
    "ExecuteTime": {
     "end_time": "2021-05-23T14:27:42.459667Z",
     "start_time": "2021-05-23T14:27:36.799094Z"
    }
   },
   "outputs": [
    {
     "name": "stdout",
     "output_type": "stream",
     "text": [
      "[[[0.41612404 0.34386986 0.22558567 0.07510368]\n",
      "  [0.94491777 0.34386986 0.22558567 0.07510368]\n",
      "  [0.94491777 0.41612404 0.22558567 0.07510368]\n",
      "  [0.94491777 0.41612404 0.34386986 0.07510368]\n",
      "  [0.94491777 0.41612404 0.34386986 0.22558567]]\n",
      "\n",
      " [[0.65388065 0.63207782 0.2603016  0.00395622]\n",
      "  [0.8560894  0.63207782 0.2603016  0.00395622]\n",
      "  [0.8560894  0.65388065 0.2603016  0.00395622]\n",
      "  [0.8560894  0.65388065 0.63207782 0.00395622]\n",
      "  [0.8560894  0.65388065 0.63207782 0.2603016 ]]\n",
      "\n",
      " [[0.4207626  0.35673772 0.23241497 0.19352447]\n",
      "  [0.94327631 0.35673772 0.23241497 0.19352447]\n",
      "  [0.94327631 0.4207626  0.23241497 0.19352447]\n",
      "  [0.94327631 0.4207626  0.35673772 0.19352447]\n",
      "  [0.94327631 0.4207626  0.35673772 0.23241497]]\n",
      "\n",
      " ...\n",
      "\n",
      " [[0.53030193 0.19740737 0.14401602 0.07590742]\n",
      "  [0.90478755 0.19740737 0.14401602 0.07590742]\n",
      "  [0.90478755 0.53030193 0.14401602 0.07590742]\n",
      "  [0.90478755 0.53030193 0.19740737 0.07590742]\n",
      "  [0.90478755 0.53030193 0.19740737 0.14401602]]\n",
      "\n",
      " [[0.79545692 0.42780437 0.34012675 0.25775763]\n",
      "  [0.98548584 0.42780437 0.34012675 0.25775763]\n",
      "  [0.98548584 0.79545692 0.34012675 0.25775763]\n",
      "  [0.98548584 0.79545692 0.42780437 0.25775763]\n",
      "  [0.98548584 0.79545692 0.42780437 0.34012675]]\n",
      "\n",
      " [[0.86906287 0.59521895 0.41909993 0.20200349]\n",
      "  [0.95667379 0.59521895 0.41909993 0.20200349]\n",
      "  [0.95667379 0.86906287 0.41909993 0.20200349]\n",
      "  [0.95667379 0.86906287 0.59521895 0.20200349]\n",
      "  [0.95667379 0.86906287 0.59521895 0.41909993]]]\n",
      "[[[0.67752989 0.34473985 0.09865473 0.06184346]\n",
      "  [0.72736217 0.34473985 0.09865473 0.06184346]\n",
      "  [0.72736217 0.67752989 0.09865473 0.06184346]\n",
      "  [0.72736217 0.67752989 0.34473985 0.06184346]\n",
      "  [0.72736217 0.67752989 0.34473985 0.09865473]]\n",
      "\n",
      " [[0.68917738 0.62393464 0.36400219 0.04209555]\n",
      "  [0.95406455 0.62393464 0.36400219 0.04209555]\n",
      "  [0.95406455 0.68917738 0.36400219 0.04209555]\n",
      "  [0.95406455 0.68917738 0.62393464 0.04209555]\n",
      "  [0.95406455 0.68917738 0.62393464 0.36400219]]\n",
      "\n",
      " [[0.8719116  0.25979423 0.20326743 0.13178349]\n",
      "  [0.94366687 0.25979423 0.20326743 0.13178349]\n",
      "  [0.94366687 0.8719116  0.20326743 0.13178349]\n",
      "  [0.94366687 0.8719116  0.25979423 0.13178349]\n",
      "  [0.94366687 0.8719116  0.25979423 0.20326743]]\n",
      "\n",
      " ...\n",
      "\n",
      " [[0.84370622 0.73281782 0.26620452 0.09378853]\n",
      "  [0.94169321 0.73281782 0.26620452 0.09378853]\n",
      "  [0.94169321 0.84370622 0.26620452 0.09378853]\n",
      "  [0.94169321 0.84370622 0.73281782 0.09378853]\n",
      "  [0.94169321 0.84370622 0.73281782 0.26620452]]\n",
      "\n",
      " [[0.76477917 0.41893526 0.1740115  0.07690018]\n",
      "  [0.77981599 0.41893526 0.1740115  0.07690018]\n",
      "  [0.77981599 0.76477917 0.1740115  0.07690018]\n",
      "  [0.77981599 0.76477917 0.41893526 0.07690018]\n",
      "  [0.77981599 0.76477917 0.41893526 0.1740115 ]]\n",
      "\n",
      " [[0.86268404 0.81673395 0.61996737 0.24463039]\n",
      "  [0.90991588 0.81673395 0.61996737 0.24463039]\n",
      "  [0.90991588 0.86268404 0.61996737 0.24463039]\n",
      "  [0.90991588 0.86268404 0.81673395 0.24463039]\n",
      "  [0.90991588 0.86268404 0.81673395 0.61996737]]]\n",
      "[2.00560101 2.40630568 2.14671607 ... 1.85242029 2.80663151 3.04205904]\n",
      "[1.9101301  2.67327432 2.41042362 ... 2.8782103  2.21444209 3.45393162]\n"
     ]
    }
   ],
   "source": [
    "global temp_list\n",
    "temp_list = []\n",
    "def appen(_x_list,y):\n",
    "    global temp_list\n",
    "    temp_list.append(_x_list)\n",
    "    \n",
    "def appen_train(x_list):\n",
    "    global temp_list\n",
    "                \n",
    "    S= max(sum(x_list),1.0);\n",
    "    temp_list = []\n",
    "    \n",
    "    for i in range(Agent_number_n):\n",
    "        temp = []\n",
    "        for j in range(Agent_number_n):\n",
    "            if(i!=j):\n",
    "                temp.append(x_list[j])\n",
    "        appen(temp,S)\n",
    "    \n",
    "    training_data.append(temp_list)\n",
    "    training_label.append(S)\n",
    "    \n",
    "\n",
    "def read_training_data():\n",
    "    for i in range(200000):\n",
    "        appen_train(sorted(np.random.rand(Agent_number_n), reverse=True));\n",
    "\n",
    "training_data=[]\n",
    "training_label=[]\n",
    "S=1.0\n",
    "read_training_data();\n",
    "\n",
    "def appen_test(x_list):\n",
    "    global temp_list\n",
    "                \n",
    "    S= max(sum(x_list),1.0);\n",
    "    temp_list = []\n",
    "    \n",
    "    for i in range(Agent_number_n):\n",
    "        temp = []\n",
    "        for j in range(Agent_number_n):\n",
    "            if(i!=j):\n",
    "                temp.append(x_list[j])\n",
    "        appen(temp,S)\n",
    "    testing_data.append(temp_list)\n",
    "    testing_label.append(S)\n",
    "    \n",
    "\n",
    "def read_testing_data():\n",
    "#     devided=20\n",
    "#     for i1 in range(devided+1):\n",
    "#         for i2 in range(i1+1):\n",
    "#             for i3 in range(i2+1):\n",
    "#                 appen_test(i1/devided,i2/devided,i3/devided);\n",
    "    for i in range(100000):\n",
    "        appen_test(sorted(np.random.rand(Agent_number_n), reverse=True));\n",
    "                            \n",
    "\n",
    "testing_data=[]\n",
    "testing_label=[]\n",
    "S=1.0\n",
    "read_testing_data();\n",
    "\n",
    "training_data=np.array(training_data)\n",
    "training_label=np.array(training_label)\n",
    "testing_data=np.array(testing_data)\n",
    "testing_label=np.array(testing_label)\n",
    "print(training_data)\n",
    "print(testing_data)\n",
    "print(training_label)\n",
    "print(testing_label)"
   ]
  },
  {
   "cell_type": "code",
   "execution_count": 4,
   "metadata": {
    "ExecuteTime": {
     "end_time": "2021-05-23T14:29:12.629754Z",
     "start_time": "2021-05-23T14:27:42.460624Z"
    }
   },
   "outputs": [
    {
     "name": "stdout",
     "output_type": "stream",
     "text": [
      "4.399651724859101 3.9999999999999982 0.39965172485910294\n"
     ]
    }
   ],
   "source": [
    "def h_3_star(a, b, t):\n",
    "    return a - min(a, t) + b - min(b, t) + max(min(a, t)+min(b, t), 2*t/3) + 1/2 * max(min(a, t)+min(b, t), t) - 1/2 * max(max(min(a, t), min(b, t)), 2*t/3) - t/6\n",
    "\n",
    "\n",
    "def f_function(a, b, z):\n",
    "    if(z >= 1):\n",
    "        return (a+b)/2 + z/3\n",
    "    else:\n",
    "        return z/3 + h_3_star(a, b, 1-z)/2\n",
    "\n",
    "def h_function(input_list):\n",
    "    #input_list = sorted(input_list)\n",
    "    g_list = []\n",
    "    for j1 in range(len(input_list) ):\n",
    "        for j2 in range(len(input_list)):\n",
    "            if(j1 != j2):\n",
    "                a = input_list[j1]\n",
    "                b = input_list[j2]\n",
    "                z = sum(input_list)- a-b\n",
    "\n",
    "                g_list.append( f_function(a, b, z) * (Agent_number_n-1))\n",
    "    h = sum(g_list) * 3 /  (Agent_number_n) /  (Agent_number_n-1) /  (Agent_number_n - 2)\n",
    "    return h\n",
    "                \n",
    "                \n",
    "x_list = []\n",
    "y_list = []\n",
    "z_list = []\n",
    "result_list = []\n",
    "training_supervised_label=[]\n",
    "for index in range(len(training_data)):\n",
    "    h_list = []\n",
    "    for i in range(Agent_number_n):\n",
    "        x_list.append(training_data[index][i][0])\n",
    "        y_list.append(training_data[index][i][1])\n",
    "        h = h_function(training_data[index][i])\n",
    "        z_list.append(float(h))\n",
    "        h_list.append(float(h))\n",
    "    training_supervised_label.append(h_list)\n",
    "    result_list.append(sum(h_list)/training_label[index]) \n",
    "    \n",
    "    \n",
    "print(max(result_list), min(result_list), max(result_list)-min(result_list))"
   ]
  },
  {
   "cell_type": "code",
   "execution_count": 5,
   "metadata": {
    "ExecuteTime": {
     "end_time": "2021-05-23T14:29:13.993563Z",
     "start_time": "2021-05-23T14:29:12.631750Z"
    }
   },
   "outputs": [
    {
     "data": {
      "image/png": "[encoded data removed]",
      "text/plain": [
       "<Figure size 432x288 with 1 Axes>"
      ]
     },
     "metadata": {
      "needs_background": "light"
     },
     "output_type": "display_data"
    }
   ],
   "source": [
    "plt.hist(result_list,bins=500)\n",
    "\n",
    "plt.title(\"Means\", y=1.015, fontsize=20)\n",
    "plt.axvline(x=sum(result_list)/len(result_list), linestyle='--', linewidth=2.5, label=\"sample mean\", c='orange')\n",
    "plt.xlabel(\"samples\", labelpad=14)\n",
    "plt.ylabel(\"frequency of occurence\", labelpad=14)\n",
    "plt.legend();\n",
    "\n",
    "result_list.sort()\n",
    "\n",
    "plt.axvline(x=result_list[int(len(result_list)*0.01)], linestyle='--', linewidth=0.5, label=\"1%\", c='b')\n",
    "plt.axvline(x=result_list[int(len(result_list)*0.99)], linestyle='--', linewidth=0.5, label=\"99%\", c='r')\n",
    "\n",
    "\n",
    "plt.show()"
   ]
  },
  {
   "cell_type": "code",
   "execution_count": 6,
   "metadata": {
    "ExecuteTime": {
     "end_time": "2021-05-23T14:29:14.242334Z",
     "start_time": "2021-05-23T14:29:13.995530Z"
    }
   },
   "outputs": [
    {
     "name": "stdout",
     "output_type": "stream",
     "text": [
      "[[1.06377848 1.5969035  1.68120005 1.81919827 1.99476059]\n",
      " [1.6117653  1.8111446  1.83658123 2.20240965 2.41524535]\n",
      " [1.26399784 1.75639966 1.83109536 1.97613856 2.01853623]\n",
      " ...\n",
      " [0.93289806 1.2929605  1.68133749 1.74362739 1.82180042]\n",
      " [1.88438717 2.07441609 2.40563485 2.48746729 2.56434514]\n",
      " [2.12416352 2.21177444 2.47209986 2.63647761 2.84005555]]\n"
     ]
    }
   ],
   "source": [
    "training_supervised_label=np.array(training_supervised_label)\n",
    "print(training_supervised_label)"
   ]
  },
  {
   "cell_type": "code",
   "execution_count": 7,
   "metadata": {
    "ExecuteTime": {
     "end_time": "2021-05-23T14:29:14.257293Z",
     "start_time": "2021-05-23T14:29:14.248319Z"
    }
   },
   "outputs": [
    {
     "name": "stdout",
     "output_type": "stream",
     "text": [
      "cuda:0\n"
     ]
    }
   ],
   "source": [
    "if torch.cuda.is_available():  \n",
    "    dev = \"cuda:0\" \n",
    "else:  \n",
    "    dev = \"cpu\"  \n",
    "\n",
    "print(dev)\n"
   ]
  },
  {
   "cell_type": "code",
   "execution_count": 8,
   "metadata": {
    "ExecuteTime": {
     "end_time": "2021-05-23T14:29:14.288210Z",
     "start_time": "2021-05-23T14:29:14.259288Z"
    },
    "run_control": {
     "marked": true
    }
   },
   "outputs": [],
   "source": [
    "def weight_init(m):\n",
    "    if isinstance(m, torch.nn.Conv2d):\n",
    "        torch.nn.init.xavier_normal_(m.weight)\n",
    "        torch.nn.init.zeros_(m.bias)\n",
    "    elif isinstance(m, torch.nn.Linear):\n",
    "        torch.nn.init.xavier_normal_(m.weight)\n",
    "        torch.nn.init.normal_(m.bias,mean = 0,std = 0.01)\n",
    "\n",
    "        \n",
    "\n",
    "class Net(torch.nn.Module):\n",
    "    def __init__(self):\n",
    "\n",
    "        super(Net, self).__init__()\n",
    "        \n",
    "        self.input_dim = Agent_number_n-1\n",
    "        self.hidden_dim = 100\n",
    "        self.output_dim = 1\n",
    "        self.hidden_layer_count = 6 \n",
    "        \n",
    "        current_dim = self.input_dim\n",
    "        self.layers = torch.nn.ModuleList()\n",
    "        for i in range(self.hidden_layer_count):\n",
    "            self.layers.append(torch.nn.Linear(current_dim, self.hidden_dim))\n",
    "            current_dim = self.hidden_dim\n",
    "        self.layers.append(torch.nn.Linear(current_dim, self.output_dim))\n",
    "\n",
    "    def calculate(self, value_list):\n",
    "        h = value_list\n",
    "        for layer in self.layers:\n",
    "            h = torch.relu(layer(h))\n",
    "        return h\n",
    "\n",
    "    def forward(self, input_list,input_label,label):\n",
    "        global iteration,echo,target_order\n",
    "        loss1 = 0\n",
    "        loss2 = 0\n",
    "        input_list = torch.from_numpy(\n",
    "            np.array(input_list)).cuda().type(torch.float32)\n",
    "        h_list = []\n",
    "\n",
    "        if (target_order == \"supervised\"):\n",
    "            loss = 0 \n",
    "            for i in range(Agent_number_n):\n",
    "                h = self.calculate(input_list[i])\n",
    "                loss += torch.square(h - label[i])\n",
    "                h_list.append(h)\n",
    "            return loss\n",
    "        else:\n",
    "            for i in range(Agent_number_n):\n",
    "                h = self.calculate(input_list[i])\n",
    "                h_list.append(h)\n",
    "            input_label = torch.from_numpy(\n",
    "                np.array(input_label)).cuda().type(torch.float32)\n",
    "            sum_h = torch.sum(torch.cat(h_list)).cuda()\n",
    "\n",
    "\n",
    "            loss1 = torch.where((Agent_number_n-1)*input_label>sum_h,\n",
    "                            torch.square(((Agent_number_n-1)*input_label-sum_h)),\n",
    "                            torch.zeros(1).cuda()\n",
    "                          )\n",
    "\n",
    "            loss2 = torch.where((Agent_number_n-Alpha)*input_label<sum_h,\n",
    "                            torch.square((sum_h-(Agent_number_n-Alpha)*input_label)),\n",
    "                            torch.zeros(1).cuda()\n",
    "                          )\n",
    "\n",
    "            return loss1,loss2,h_list"
   ]
  },
  {
   "cell_type": "code",
   "execution_count": 9,
   "metadata": {
    "ExecuteTime": {
     "end_time": "2021-05-23T14:29:15.618457Z",
     "start_time": "2021-05-23T14:29:14.289207Z"
    }
   },
   "outputs": [
    {
     "data": {
      "text/plain": [
       "Net(\n",
       "  (layers): ModuleList(\n",
       "    (0): Linear(in_features=4, out_features=100, bias=True)\n",
       "    (1): Linear(in_features=100, out_features=100, bias=True)\n",
       "    (2): Linear(in_features=100, out_features=100, bias=True)\n",
       "    (3): Linear(in_features=100, out_features=100, bias=True)\n",
       "    (4): Linear(in_features=100, out_features=100, bias=True)\n",
       "    (5): Linear(in_features=100, out_features=100, bias=True)\n",
       "    (6): Linear(in_features=100, out_features=1, bias=True)\n",
       "  )\n",
       ")"
      ]
     },
     "execution_count": 9,
     "metadata": {},
     "output_type": "execute_result"
    }
   ],
   "source": [
    "random.seed(2000)\n",
    "torch.manual_seed(256)\n",
    "net  = Net()\n",
    "net.apply(weight_init)\n",
    "\n",
    "net = torch.load(\"save/Deep_learning_5\")\n",
    "net.to(dev)"
   ]
  },
  {
   "cell_type": "code",
   "execution_count": 10,
   "metadata": {
    "ExecuteTime": {
     "end_time": "2021-05-23T14:29:15.633389Z",
     "start_time": "2021-05-23T14:29:15.620422Z"
    },
    "run_control": {
     "marked": true
    }
   },
   "outputs": [],
   "source": [
    "#optimizer = opt.RMSprop(net.parameters(), lr=0.00001)\n",
    "#optimizer = opt.SGD(net.parameters(), lr=0.00001)\n",
    "optimizer = opt.Adam(net.parameters(), lr=0.000005)\n",
    "\n",
    "batch_size = 64\n",
    "echo = 0"
   ]
  },
  {
   "cell_type": "code",
   "execution_count": 11,
   "metadata": {
    "ExecuteTime": {
     "end_time": "2021-05-23T14:29:15.648348Z",
     "start_time": "2021-05-23T14:29:15.635383Z"
    }
   },
   "outputs": [],
   "source": [
    "target_order = \"supervised\"\n",
    "for iteration in range(int(echo)):\n",
    "    # offender_types = []\n",
    "    # defender_types = []\n",
    "    \n",
    "    \n",
    "    X_train_list = []\n",
    "    temp_number = 0\n",
    "    total_batch_loss = 0 \n",
    "    while(temp_number<len(training_data)-1):\n",
    "        loss_sum = 0\n",
    "        denominator = 0\n",
    "        for index in range(temp_number, min(batch_size+temp_number,len(training_data))):\n",
    "            h_loss = net(training_data[index],training_label[index],training_supervised_label[index])\n",
    "            denominator += 1\n",
    "            loss_sum += h_loss\n",
    "            \n",
    "        loss = (loss_sum) / denominator \n",
    "        total_batch_loss +=float(loss_sum)\n",
    "        optimizer.zero_grad()\n",
    "        \n",
    "        loss.backward()\n",
    "        \n",
    "        optimizer.step()\n",
    "        \n",
    "        temp_number = index\n",
    "        \n",
    "        if(random.random()<=0.01):\n",
    "            print(temp_number,loss,float(loss_sum))\n",
    "\n",
    "\n",
    "    print(\"batch iteration\", iteration)\n",
    "    print(\"batch_loss: %.2f \" % (total_batch_loss/len(training_data)))\n",
    "    \n",
    "    print()\n",
    "    print()"
   ]
  },
  {
   "cell_type": "code",
   "execution_count": 12,
   "metadata": {
    "ExecuteTime": {
     "end_time": "2021-05-23T14:35:16.693763Z",
     "start_time": "2021-05-23T14:29:15.649346Z"
    }
   },
   "outputs": [
    {
     "name": "stdout",
     "output_type": "stream",
     "text": [
      "7.208427834159106 3.196394960146329 4.012032874012776\n"
     ]
    }
   ],
   "source": [
    "denominator = 0\n",
    "result_list = []\n",
    "for index in range(len(testing_data)):\n",
    "    h_list = []\n",
    "    for i in range(Agent_number_n):\n",
    "        h = net.calculate(torch.tensor(testing_data[index][i]).cuda().type(torch.float32))\n",
    "        h_list.append(float(h))\n",
    "    \n",
    "    #print(sum(h_list),h_list,sum(h_list)/testing_label[index])\n",
    "    result_list.append(sum(h_list)/testing_label[index])\n",
    "    \n",
    "\n",
    "print(max(result_list),min(result_list),max(result_list)-min(result_list))"
   ]
  },
  {
   "cell_type": "code",
   "execution_count": 13,
   "metadata": {
    "ExecuteTime": {
     "end_time": "2021-05-23T14:35:17.885967Z",
     "start_time": "2021-05-23T14:35:16.694719Z"
    }
   },
   "outputs": [
    {
     "data": {
      "image/png": "[encoded data removed]",
      "text/plain": [
       "<Figure size 432x288 with 1 Axes>"
      ]
     },
     "metadata": {
      "needs_background": "light"
     },
     "output_type": "display_data"
    }
   ],
   "source": [
    "plt.hist(result_list,bins=500)\n",
    "\n",
    "plt.title(\"Means\", y=1.015, fontsize=20)\n",
    "plt.axvline(x=sum(result_list)/len(result_list), linestyle='--', linewidth=2.5, label=\"sample mean\", c='orange')\n",
    "plt.xlabel(\"samples\", labelpad=14)\n",
    "plt.ylabel(\"frequency of occurence\", labelpad=14)\n",
    "plt.legend();\n",
    "\n",
    "result_list.sort()\n",
    "\n",
    "plt.axvline(x=result_list[int(len(result_list)*0.01)], linestyle='--', linewidth=0.5, label=\"1%\", c='b')\n",
    "plt.axvline(x=result_list[int(len(result_list)*0.99)], linestyle='--', linewidth=0.5, label=\"99%\", c='r')\n",
    "\n",
    "\n",
    "plt.show()"
   ]
  },
  {
   "cell_type": "code",
   "execution_count": 14,
   "metadata": {
    "ExecuteTime": {
     "end_time": "2021-05-23T14:35:17.901580Z",
     "start_time": "2021-05-23T14:35:17.886929Z"
    }
   },
   "outputs": [],
   "source": [
    "torch.save(net, \"save/Deep_learning_5\")"
   ]
  },
  {
   "cell_type": "code",
   "execution_count": 15,
   "metadata": {
    "ExecuteTime": {
     "end_time": "2021-05-23T14:35:17.917663Z",
     "start_time": "2021-05-23T14:35:17.902579Z"
    }
   },
   "outputs": [],
   "source": [
    "#optimizer = opt.RMSprop(net.parameters(), lr=0.00001)\n",
    "#optimizer = opt.SGD(net.parameters(), lr=0.00005)\n",
    "optimizer = opt.Adam(net.parameters(), lr=0.000005)\n",
    "\n",
    "batch_size = 128\n",
    "echo = 2"
   ]
  },
  {
   "cell_type": "code",
   "execution_count": 16,
   "metadata": {
    "ExecuteTime": {
     "end_time": "2021-05-23T15:14:41.420152Z",
     "start_time": "2021-05-23T14:35:17.918622Z"
    }
   },
   "outputs": [
    {
     "name": "stdout",
     "output_type": "stream",
     "text": [
      "6096 tensor([0.3936], device='cuda:0', grad_fn=<DivBackward0>) 31.094377517700195 19.290058135986328\n",
      "8763 tensor([0.4466], device='cuda:0', grad_fn=<DivBackward0>) 26.28501319885254 30.874935150146484\n",
      "17907 tensor([0.3437], device='cuda:0', grad_fn=<DivBackward0>) 18.36315155029297 25.626279830932617\n",
      "26416 tensor([0.3233], device='cuda:0', grad_fn=<DivBackward0>) 12.913844108581543 28.464641571044922\n",
      "32512 tensor([0.2700], device='cuda:0', grad_fn=<DivBackward0>) 16.120267868041992 18.4451847076416\n",
      "50419 tensor([0.2608], device='cuda:0', grad_fn=<DivBackward0>) 13.610773086547852 19.766258239746094\n",
      "70739 tensor([0.1942], device='cuda:0', grad_fn=<DivBackward0>) 6.932734489440918 17.924434661865234\n",
      "73279 tensor([0.1692], device='cuda:0', grad_fn=<DivBackward0>) 9.048810958862305 12.611656188964844\n",
      "73914 tensor([0.1500], device='cuda:0', grad_fn=<DivBackward0>) 7.700437545776367 11.501760482788086\n",
      "112903 tensor([0.0832], device='cuda:0', grad_fn=<DivBackward0>) 2.382389545440674 8.26428508758545\n",
      "137287 tensor([0.0459], device='cuda:0', grad_fn=<DivBackward0>) 1.6360585689544678 4.240110874176025\n",
      "137414 tensor([0.0471], device='cuda:0', grad_fn=<DivBackward0>) 1.9881701469421387 4.041845321655273\n",
      "161290 tensor([0.0209], device='cuda:0', grad_fn=<DivBackward0>) 0.7779709100723267 1.9026297330856323\n",
      "165354 tensor([0.0199], device='cuda:0', grad_fn=<DivBackward0>) 1.5452897548675537 0.9960594773292542\n",
      "172720 tensor([0.0249], device='cuda:0', grad_fn=<DivBackward0>) 0.5804153680801392 2.602128505706787\n",
      "173101 tensor([0.0188], device='cuda:0', grad_fn=<DivBackward0>) 0.5974766612052917 1.8132705688476562\n",
      "191262 tensor([0.0150], device='cuda:0', grad_fn=<DivBackward0>) 1.0347654819488525 0.8916151523590088\n",
      "batch iteration 0\n",
      "batch_loss: 0.17 \n",
      "\n",
      "\n",
      "9779 tensor([0.0079], device='cuda:0', grad_fn=<DivBackward0>) 0.6401183605194092 0.37672579288482666\n",
      "16510 tensor([0.0053], device='cuda:0', grad_fn=<DivBackward0>) 0.12631896138191223 0.5556256175041199\n",
      "20701 tensor([0.0106], device='cuda:0', grad_fn=<DivBackward0>) 0.39730945229530334 0.9586818814277649\n",
      "33274 tensor([0.0061], device='cuda:0', grad_fn=<DivBackward0>) 0.2727418839931488 0.5135221481323242\n",
      "36830 tensor([0.0033], device='cuda:0', grad_fn=<DivBackward0>) 0.10198792815208435 0.31595876812934875\n",
      "48514 tensor([0.0060], device='cuda:0', grad_fn=<DivBackward0>) 0.5439551472663879 0.22690361738204956\n",
      "58674 tensor([0.0046], device='cuda:0', grad_fn=<DivBackward0>) 0.1543961763381958 0.4368075430393219\n",
      "78105 tensor([0.0023], device='cuda:0', grad_fn=<DivBackward0>) 0.03227779269218445 0.2679608464241028\n",
      "92456 tensor([0.0011], device='cuda:0', grad_fn=<DivBackward0>) 0.036750417202711105 0.10143247991800308\n",
      "103886 tensor([0.0011], device='cuda:0', grad_fn=<DivBackward0>) 0.00376894767396152 0.1410803645849228\n",
      "126365 tensor([0.0005], device='cuda:0', grad_fn=<DivBackward0>) 0.014840550720691681 0.04893553629517555\n",
      "145669 tensor([0.0036], device='cuda:0', grad_fn=<DivBackward0>) 0.04811474308371544 0.4098285734653473\n",
      "175641 tensor([0.0054], device='cuda:0', grad_fn=<DivBackward0>) 0.6510981917381287 0.03631526604294777\n",
      "198628 tensor([0.0007], device='cuda:0', grad_fn=<DivBackward0>) 0.0024472081568092108 0.09193822741508484\n",
      "batch iteration 1\n",
      "batch_loss: 0.00 \n",
      "\n",
      "\n"
     ]
    }
   ],
   "source": [
    "target_order = \"unsupervised\"\n",
    "for iteration in range(int(echo)):\n",
    "    # offender_types = []\n",
    "    # defender_types = []\n",
    "    \n",
    "    \n",
    "    X_train_list = []\n",
    "    temp_number = 0\n",
    "    total_batch_loss = 0 \n",
    "    while(temp_number<len(training_data)-1):\n",
    "        \n",
    "        loss2_list = []\n",
    "        loss1_sum = 0\n",
    "        loss2_sum = 0\n",
    "        denominator = 0\n",
    "        for index in range(temp_number, min(batch_size+temp_number,len(training_data))):\n",
    "            h_loss1,h_loss2,h_list = net(training_data[index],training_label[index],0)\n",
    "            denominator += 1\n",
    "            loss1_sum += h_loss1\n",
    "            loss2_sum += h_loss2\n",
    "            \n",
    "        loss_sum = loss1_sum + loss2_sum\n",
    "        loss = (loss_sum) / denominator \n",
    "        total_batch_loss +=float(loss_sum)\n",
    "        optimizer.zero_grad()\n",
    "        \n",
    "        loss.backward()\n",
    "        \n",
    "        optimizer.step()\n",
    "        \n",
    "        temp_number = index\n",
    "        \n",
    "        if(random.random()<=0.01):\n",
    "            print(temp_number,loss,float(loss1_sum),float(loss2_sum))\n",
    "\n",
    "\n",
    "    print(\"batch iteration\", iteration)\n",
    "    print(\"batch_loss: %.2f \" % (total_batch_loss/len(training_data)))\n",
    "    \n",
    "    print()\n",
    "    print()"
   ]
  },
  {
   "cell_type": "code",
   "execution_count": 17,
   "metadata": {
    "ExecuteTime": {
     "end_time": "2021-05-23T15:14:41.435585Z",
     "start_time": "2021-05-23T15:14:41.422111Z"
    }
   },
   "outputs": [],
   "source": [
    "torch.save(net, \"save/Deep_learning_5\")"
   ]
  },
  {
   "cell_type": "code",
   "execution_count": 18,
   "metadata": {
    "ExecuteTime": {
     "end_time": "2021-05-23T15:19:36.879461Z",
     "start_time": "2021-05-23T15:14:41.437579Z"
    }
   },
   "outputs": [
    {
     "name": "stdout",
     "output_type": "stream",
     "text": [
      "5.167940694917788 1.8320149183273315 3.3359257765904564\n"
     ]
    }
   ],
   "source": [
    "denominator = 0\n",
    "result_list = []\n",
    "for index in range(len(testing_data)):\n",
    "    h_list = []\n",
    "    for i in range(Agent_number_n):\n",
    "        h = net.calculate(torch.tensor(testing_data[index][i]).cuda().type(torch.float32))\n",
    "        h_list.append(float(h))\n",
    "    \n",
    "    #print(sum(h_list),h_list,sum(h_list)/testing_label[index])\n",
    "    result_list.append(sum(h_list)/testing_label[index])\n",
    "    \n",
    "\n",
    "print(max(result_list),min(result_list),max(result_list)-min(result_list))"
   ]
  },
  {
   "cell_type": "code",
   "execution_count": 19,
   "metadata": {
    "ExecuteTime": {
     "end_time": "2021-05-23T15:19:37.828311Z",
     "start_time": "2021-05-23T15:19:36.880458Z"
    }
   },
   "outputs": [
    {
     "data": {
      "image/png": "[encoded data removed]",
      "text/plain": [
       "<Figure size 432x288 with 1 Axes>"
      ]
     },
     "metadata": {
      "needs_background": "light"
     },
     "output_type": "display_data"
    }
   ],
   "source": [
    "plt.hist(result_list,bins=500)\n",
    "\n",
    "plt.title(\"Means\", y=1.015, fontsize=20)\n",
    "plt.axvline(x=sum(result_list)/len(result_list), linestyle='--', linewidth=2.5, label=\"sample mean\", c='orange')\n",
    "plt.xlabel(\"samples\", labelpad=14)\n",
    "plt.ylabel(\"frequency of occurence\", labelpad=14)\n",
    "plt.legend();\n",
    "\n",
    "result_list.sort()\n",
    "\n",
    "plt.axvline(x=result_list[int(len(result_list)*0.01)], linestyle='--', linewidth=0.5, label=\"1%\", c='b')\n",
    "plt.axvline(x=result_list[int(len(result_list)*0.99)], linestyle='--', linewidth=0.5, label=\"99%\", c='r')\n",
    "\n",
    "\n",
    "plt.show()"
   ]
  },
  {
   "cell_type": "code",
   "execution_count": null,
   "metadata": {},
   "outputs": [],
   "source": []
  }
 ],
 "metadata": {
  "hide_input": false,
  "kernelspec": {
   "display_name": "Python 3",
   "language": "python",
   "name": "python3"
  },
  "language_info": {
   "codemirror_mode": {
    "name": "ipython",
    "version": 3
   },
   "file_extension": ".py",
   "mimetype": "text/x-python",
   "name": "python",
   "nbconvert_exporter": "python",
   "pygments_lexer": "ipython3",
   "version": "3.8.3"
  },
  "varInspector": {
   "cols": {
    "lenName": 16,
    "lenType": 16,
    "lenVar": 40
   },
   "kernels_config": {
    "python": {
     "delete_cmd_postfix": "",
     "delete_cmd_prefix": "del ",
     "library": "var_list.py",
     "varRefreshCmd": "print(var_dic_list())"
    },
    "r": {
     "delete_cmd_postfix": ") ",
     "delete_cmd_prefix": "rm(",
     "library": "var_list.r",
     "varRefreshCmd": "cat(var_dic_list()) "
    }
   },
   "types_to_exclude": [
    "module",
    "function",
    "builtin_function_or_method",
    "instance",
    "_Feature"
   ],
   "window_display": false
  }
 },
 "nbformat": 4,
 "nbformat_minor": 4
}
