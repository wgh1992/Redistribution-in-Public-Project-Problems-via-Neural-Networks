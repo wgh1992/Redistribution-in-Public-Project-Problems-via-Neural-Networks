{
 "cells": [
  {
   "cell_type": "code",
   "execution_count": 1,
   "metadata": {
    "ExecuteTime": {
     "end_time": "2021-05-22T07:13:54.767283Z",
     "start_time": "2021-05-22T07:13:53.048385Z"
    }
   },
   "outputs": [
    {
     "name": "stdout",
     "output_type": "stream",
     "text": [
      "pygame 2.0.1 (SDL 2.0.14, Python 3.8.3)\n",
      "Hello from the pygame community. https://www.pygame.org/contribute.html\n",
      "cuda:0\n"
     ]
    },
    {
     "name": "stderr",
     "output_type": "stream",
     "text": [
      "D:\\ComputerSoftwares\\Anaconda\\lib\\site-packages\\sklearn\\utils\\deprecation.py:143: FutureWarning: The sklearn.datasets.samples_generator module is  deprecated in version 0.22 and will be removed in version 0.24. The corresponding classes / functions should instead be imported from sklearn.datasets. Anything that cannot be imported from sklearn.datasets is now part of the private API.\n",
      "  warnings.warn(message, FutureWarning)\n"
     ]
    }
   ],
   "source": [
    "\n",
    "import pygame\n",
    "import random\n",
    "import os\n",
    "import time\n",
    "import numpy as np\n",
    "import math\n",
    "import torch\n",
    "import torch.nn.functional\n",
    "import matplotlib.pyplot as plt\n",
    "import torch.optim as opt\n",
    "from torch.autograd import Variable\n",
    "from sklearn.model_selection import train_test_split\n",
    "\n",
    "import scipy.stats as st\n",
    "from sklearn.datasets.samples_generator import make_blobs\n",
    "from matplotlib.colors import LogNorm \n",
    "import matplotlib.cm as cm\n",
    "import torch.nn as nn\n",
    "import numpy as np\n",
    "import matplotlib.pyplot as plt\n",
    "\n",
    "\n",
    "if torch.cuda.is_available():  \n",
    "    dev = \"cuda:0\" \n",
    "else:  \n",
    "    dev = \"cpu\"  \n",
    "\n",
    "print(dev)\n"
   ]
  },
  {
   "cell_type": "code",
   "execution_count": 2,
   "metadata": {
    "ExecuteTime": {
     "end_time": "2021-05-22T07:13:54.783734Z",
     "start_time": "2021-05-22T07:13:54.768999Z"
    }
   },
   "outputs": [],
   "source": [
    "global target_order\n",
    "target_order = \"supervised\"\n",
    "global temp_list\n",
    "temp_list = []\n",
    "Agent_number_n=4;\n",
    "Alpha = 0.666;\n",
    "\n"
   ]
  },
  {
   "cell_type": "code",
   "execution_count": 3,
   "metadata": {
    "ExecuteTime": {
     "end_time": "2021-05-22T07:14:02.866992Z",
     "start_time": "2021-05-22T07:13:54.784773Z"
    }
   },
   "outputs": [
    {
     "name": "stdout",
     "output_type": "stream",
     "text": [
      "[[[0.90028094 0.83630209 0.18508058]\n",
      "  [0.93178919 0.83630209 0.18508058]\n",
      "  [0.93178919 0.90028094 0.18508058]\n",
      "  [0.93178919 0.90028094 0.83630209]]\n",
      "\n",
      " [[0.61980781 0.49452262 0.36731415]\n",
      "  [0.92119864 0.49452262 0.36731415]\n",
      "  [0.92119864 0.61980781 0.36731415]\n",
      "  [0.92119864 0.61980781 0.49452262]]\n",
      "\n",
      " [[0.47875075 0.41502209 0.4063432 ]\n",
      "  [0.65685027 0.41502209 0.4063432 ]\n",
      "  [0.65685027 0.47875075 0.4063432 ]\n",
      "  [0.65685027 0.47875075 0.41502209]]\n",
      "\n",
      " ...\n",
      "\n",
      " [[0.48921559 0.15736386 0.14984673]\n",
      "  [0.67444785 0.15736386 0.14984673]\n",
      "  [0.67444785 0.48921559 0.14984673]\n",
      "  [0.67444785 0.48921559 0.15736386]]\n",
      "\n",
      " [[0.65073233 0.33904835 0.1190652 ]\n",
      "  [0.81272059 0.33904835 0.1190652 ]\n",
      "  [0.81272059 0.65073233 0.1190652 ]\n",
      "  [0.81272059 0.65073233 0.33904835]]\n",
      "\n",
      " [[0.55540619 0.1800292  0.07616031]\n",
      "  [0.92660724 0.1800292  0.07616031]\n",
      "  [0.92660724 0.55540619 0.07616031]\n",
      "  [0.92660724 0.55540619 0.1800292 ]]]\n",
      "[[[0.89500425 0.86770015 0.11843712]\n",
      "  [0.91555547 0.86770015 0.11843712]\n",
      "  [0.91555547 0.89500425 0.11843712]\n",
      "  [0.91555547 0.89500425 0.86770015]]\n",
      "\n",
      " [[0.53078724 0.24600211 0.17703825]\n",
      "  [0.95333705 0.24600211 0.17703825]\n",
      "  [0.95333705 0.53078724 0.17703825]\n",
      "  [0.95333705 0.53078724 0.24600211]]\n",
      "\n",
      " [[0.3488207  0.31020719 0.17768738]\n",
      "  [0.41558886 0.31020719 0.17768738]\n",
      "  [0.41558886 0.3488207  0.17768738]\n",
      "  [0.41558886 0.3488207  0.31020719]]\n",
      "\n",
      " ...\n",
      "\n",
      " [[0.15816095 0.10428971 0.06084771]\n",
      "  [0.81711683 0.10428971 0.06084771]\n",
      "  [0.81711683 0.15816095 0.06084771]\n",
      "  [0.81711683 0.15816095 0.10428971]]\n",
      "\n",
      " [[0.71750832 0.22276051 0.14614257]\n",
      "  [0.85326637 0.22276051 0.14614257]\n",
      "  [0.85326637 0.71750832 0.14614257]\n",
      "  [0.85326637 0.71750832 0.22276051]]\n",
      "\n",
      " [[0.49937858 0.46016516 0.37670764]\n",
      "  [0.78910343 0.46016516 0.37670764]\n",
      "  [0.78910343 0.49937858 0.37670764]\n",
      "  [0.78910343 0.49937858 0.46016516]]]\n",
      "[2.8534528  2.40284322 1.95696631 ... 1.47087404 1.92156647 1.73820294]\n",
      "[2.79669699 1.90716465 1.25230413 ... 1.14041521 1.93967776 2.12535482]\n"
     ]
    }
   ],
   "source": [
    "global temp_list\n",
    "temp_list = []\n",
    "def appen(_x_list,y):\n",
    "    global temp_list\n",
    "    temp_list.append(_x_list)\n",
    "    \n",
    "def appen_train(x_list):\n",
    "    global temp_list\n",
    "                \n",
    "    S= max(sum(x_list),1.0);\n",
    "    temp_list = []\n",
    "    \n",
    "    for i in range(Agent_number_n):\n",
    "        temp = []\n",
    "        for j in range(Agent_number_n):\n",
    "            if(i!=j):\n",
    "                temp.append(x_list[j])\n",
    "        appen(temp,S)\n",
    "    \n",
    "    training_data.append(temp_list)\n",
    "    training_label.append(S)\n",
    "    \n",
    "\n",
    "def read_training_data():\n",
    "    for i in range(500000):\n",
    "        appen_train(sorted(np.random.rand(Agent_number_n), reverse=True));\n",
    "\n",
    "training_data=[]\n",
    "training_label=[]\n",
    "S=1.0\n",
    "read_training_data();\n",
    "\n",
    "def appen_test(x_list):\n",
    "    global temp_list\n",
    "                \n",
    "    S= max(sum(x_list),1.0);\n",
    "    temp_list = []\n",
    "    \n",
    "    for i in range(Agent_number_n):\n",
    "        temp = []\n",
    "        for j in range(Agent_number_n):\n",
    "            if(i!=j):\n",
    "                temp.append(x_list[j])\n",
    "        appen(temp,S)\n",
    "    testing_data.append(temp_list)\n",
    "    testing_label.append(S)\n",
    "    \n",
    "\n",
    "def read_testing_data():\n",
    "#     devided=20\n",
    "#     for i1 in range(devided+1):\n",
    "#         for i2 in range(i1+1):\n",
    "#             for i3 in range(i2+1):\n",
    "#                 appen_test(i1/devided,i2/devided,i3/devided);\n",
    "    for i in range(100000):\n",
    "        appen_test(sorted(np.random.rand(Agent_number_n), reverse=True));\n",
    "                            \n",
    "\n",
    "testing_data=[]\n",
    "testing_label=[]\n",
    "S=1.0\n",
    "read_testing_data();\n",
    "\n",
    "training_data=np.array(training_data)\n",
    "training_label=np.array(training_label)\n",
    "testing_data=np.array(testing_data)\n",
    "testing_label=np.array(testing_label)\n",
    "print(training_data)\n",
    "print(testing_data)\n",
    "print(training_label)\n",
    "print(testing_label)"
   ]
  },
  {
   "cell_type": "code",
   "execution_count": 4,
   "metadata": {
    "ExecuteTime": {
     "end_time": "2021-05-22T07:15:56.836513Z",
     "start_time": "2021-05-22T07:14:02.867989Z"
    }
   },
   "outputs": [
    {
     "name": "stdout",
     "output_type": "stream",
     "text": [
      "3.374665607609125 2.999999999999999 0.37466560760912593\n"
     ]
    }
   ],
   "source": [
    "def h_3_star(a, b, t):\n",
    "    return a - min(a, t) + b - min(b, t) + max(min(a, t)+min(b, t), 2*t/3) + 1/2 * max(min(a, t)+min(b, t), t) - 1/2 * max(max(min(a, t), min(b, t)), 2*t/3) - t/6\n",
    "\n",
    "\n",
    "def f_function(a, b, z):\n",
    "    if(z >= 1):\n",
    "        return (a+b)/2 + z/3\n",
    "    else:\n",
    "        return z/3 + h_3_star(a, b, 1-z)/2\n",
    "\n",
    "def h_function(input_list):\n",
    "    #input_list = sorted(input_list)\n",
    "    g_list = []\n",
    "    for j1 in range(len(input_list) ):\n",
    "        for j2 in range(len(input_list)):\n",
    "            if(j1 != j2):\n",
    "                a = input_list[j1]\n",
    "                b = input_list[j2]\n",
    "                z = sum(input_list)- a-b\n",
    "\n",
    "                g_list.append( f_function(a, b, z) * (Agent_number_n-1))\n",
    "    h = sum(g_list) * 3 /  (Agent_number_n) /  (Agent_number_n-1) /  (Agent_number_n - 2)\n",
    "    return h\n",
    "                \n",
    "                \n",
    "x_list = []\n",
    "y_list = []\n",
    "z_list = []\n",
    "result_list = []\n",
    "training_supervised_label=[]\n",
    "for index in range(len(training_data)):\n",
    "    h_list = []\n",
    "    for i in range(Agent_number_n):\n",
    "        x_list.append(training_data[index][i][0])\n",
    "        y_list.append(training_data[index][i][1])\n",
    "        h = h_function(training_data[index][i])\n",
    "        z_list.append(float(h))\n",
    "        h_list.append(float(h))\n",
    "    training_supervised_label.append(h_list)\n",
    "    result_list.append(sum(h_list)/training_label[index]) \n",
    "    \n",
    "    \n",
    "print(max(result_list), min(result_list), max(result_list)-min(result_list))"
   ]
  },
  {
   "cell_type": "code",
   "execution_count": 5,
   "metadata": {
    "ExecuteTime": {
     "end_time": "2021-05-22T07:15:58.295029Z",
     "start_time": "2021-05-22T07:15:56.837445Z"
    }
   },
   "outputs": [
    {
     "data": {
      "image/png": "[encoded data removed]",
      "text/plain": [
       "<Figure size 432x288 with 1 Axes>"
      ]
     },
     "metadata": {
      "needs_background": "light"
     },
     "output_type": "display_data"
    }
   ],
   "source": [
    "plt.hist(result_list,bins=500)\n",
    "\n",
    "plt.title(\"Means\", y=1.015, fontsize=20)\n",
    "plt.axvline(x=sum(result_list)/len(result_list), linestyle='--', linewidth=2.5, label=\"sample mean\", c='orange')\n",
    "plt.xlabel(\"samples\", labelpad=14)\n",
    "plt.ylabel(\"frequency of occurence\", labelpad=14)\n",
    "plt.legend();\n",
    "\n",
    "result_list.sort()\n",
    "\n",
    "plt.axvline(x=result_list[int(len(result_list)*0.001)], linestyle='--', linewidth=0.5, label=\"0.1%\", c='b')\n",
    "plt.axvline(x=result_list[int(len(result_list)*0.999)], linestyle='--', linewidth=0.5, label=\"99%\", c='r')\n",
    "\n",
    "\n",
    "plt.show()"
   ]
  },
  {
   "cell_type": "code",
   "execution_count": 6,
   "metadata": {
    "ExecuteTime": {
     "end_time": "2021-05-22T07:15:58.754931Z",
     "start_time": "2021-05-22T07:15:58.295754Z"
    }
   },
   "outputs": [
    {
     "name": "stdout",
     "output_type": "stream",
     "text": [
      "[[2.05645566 2.08402538 2.14000687 2.70982569]\n",
      " [1.61721316 1.88334477 2.03995125 2.15608794]\n",
      " [1.42406863 1.6014506  1.68111142 1.69196003]\n",
      " ...\n",
      " [0.80891832 0.94033918 1.35602501 1.36683088]\n",
      " [1.09886976 1.27098229 1.66058726 1.94835637]\n",
      " [0.82503077 1.13101822 1.60023946 1.73007557]]\n"
     ]
    }
   ],
   "source": [
    "training_supervised_label=np.array(training_supervised_label)\n",
    "print(training_supervised_label)"
   ]
  },
  {
   "cell_type": "code",
   "execution_count": 7,
   "metadata": {
    "ExecuteTime": {
     "end_time": "2021-05-22T07:15:58.770356Z",
     "start_time": "2021-05-22T07:15:58.756929Z"
    }
   },
   "outputs": [
    {
     "name": "stdout",
     "output_type": "stream",
     "text": [
      "cuda:0\n"
     ]
    }
   ],
   "source": [
    "if torch.cuda.is_available():  \n",
    "    dev = \"cuda:0\" \n",
    "else:  \n",
    "    dev = \"cpu\"  \n",
    "\n",
    "print(dev)\n"
   ]
  },
  {
   "cell_type": "code",
   "execution_count": 8,
   "metadata": {
    "ExecuteTime": {
     "end_time": "2021-05-22T07:15:58.786413Z",
     "start_time": "2021-05-22T07:15:58.772336Z"
    },
    "run_control": {
     "marked": true
    }
   },
   "outputs": [],
   "source": [
    "def weight_init(m):\n",
    "    if isinstance(m, torch.nn.Conv2d):\n",
    "        torch.nn.init.xavier_normal_(m.weight)\n",
    "        torch.nn.init.zeros_(m.bias)\n",
    "    elif isinstance(m, torch.nn.Linear):\n",
    "        torch.nn.init.xavier_normal_(m.weight)\n",
    "        torch.nn.init.zeros_(m.bias)\n",
    "\n",
    "        \n",
    "\n",
    "class Net(torch.nn.Module):\n",
    "    def __init__(self):\n",
    "\n",
    "        super(Net, self).__init__()\n",
    "        \n",
    "        self.input_dim = Agent_number_n-1\n",
    "        self.hidden_dim = 100\n",
    "        self.output_dim = 1\n",
    "        self.hidden_layer_count = 6 \n",
    "        \n",
    "        current_dim = self.input_dim\n",
    "        self.layers = torch.nn.ModuleList()\n",
    "        for i in range(self.hidden_layer_count):\n",
    "            self.layers.append(torch.nn.Linear(current_dim, self.hidden_dim))\n",
    "            current_dim = self.hidden_dim\n",
    "        self.layers.append(torch.nn.Linear(current_dim, self.output_dim))\n",
    "\n",
    "    def calculate(self, value_list):\n",
    "        h = value_list\n",
    "        for layer in self.layers:\n",
    "            h = torch.relu(layer(h))\n",
    "        return h\n",
    "\n",
    "    def forward(self, input_list,input_label,label):\n",
    "        global iteration,echo,target_order\n",
    "        loss1 = 0\n",
    "        loss2 = 0\n",
    "        input_list = torch.from_numpy(\n",
    "            np.array(input_list)).cuda().type(torch.float32)\n",
    "        h_list = []\n",
    "\n",
    "        if (target_order == \"supervised\"):\n",
    "            loss = 0 \n",
    "            for i in range(Agent_number_n):\n",
    "                h = self.calculate(input_list[i])\n",
    "                loss += torch.square(h - label[i])\n",
    "                h_list.append(h)\n",
    "            return loss\n",
    "        else:\n",
    "            for i in range(Agent_number_n):\n",
    "                h = self.calculate(input_list[i])\n",
    "                h_list.append(h)\n",
    "            input_label = torch.from_numpy(\n",
    "                np.array(input_label)).cuda().type(torch.float32)\n",
    "            sum_h = torch.sum(torch.cat(h_list)).cuda()\n",
    "\n",
    "\n",
    "            loss1 = torch.where((Agent_number_n-1)*input_label>sum_h,\n",
    "                            torch.square(((Agent_number_n-1)*input_label-sum_h)),\n",
    "                            torch.zeros(1).cuda()\n",
    "                          )\n",
    "\n",
    "            loss2 = torch.where((Agent_number_n-Alpha)*input_label<sum_h,\n",
    "                            torch.square((sum_h-(Agent_number_n-Alpha)*input_label)),\n",
    "                            torch.zeros(1).cuda()\n",
    "                          )\n",
    "\n",
    "            return loss1,loss2,h_list"
   ]
  },
  {
   "cell_type": "code",
   "execution_count": 9,
   "metadata": {
    "ExecuteTime": {
     "end_time": "2021-05-22T07:16:00.369530Z",
     "start_time": "2021-05-22T07:15:58.787199Z"
    }
   },
   "outputs": [
    {
     "data": {
      "text/plain": [
       "Net(\n",
       "  (layers): ModuleList(\n",
       "    (0): Linear(in_features=3, out_features=100, bias=True)\n",
       "    (1): Linear(in_features=100, out_features=100, bias=True)\n",
       "    (2): Linear(in_features=100, out_features=100, bias=True)\n",
       "    (3): Linear(in_features=100, out_features=100, bias=True)\n",
       "    (4): Linear(in_features=100, out_features=100, bias=True)\n",
       "    (5): Linear(in_features=100, out_features=100, bias=True)\n",
       "    (6): Linear(in_features=100, out_features=1, bias=True)\n",
       "  )\n",
       ")"
      ]
     },
     "execution_count": 9,
     "metadata": {},
     "output_type": "execute_result"
    }
   ],
   "source": [
    "random.seed(2000)\n",
    "torch.manual_seed(256)\n",
    "net  = Net()\n",
    "net.apply(weight_init)\n",
    "\n",
    "net = torch.load(\"save/Deep_learning_4\")\n",
    "net.to(dev)"
   ]
  },
  {
   "cell_type": "code",
   "execution_count": 10,
   "metadata": {
    "ExecuteTime": {
     "end_time": "2021-05-22T07:16:00.384678Z",
     "start_time": "2021-05-22T07:16:00.370530Z"
    },
    "run_control": {
     "marked": true
    }
   },
   "outputs": [],
   "source": [
    "#optimizer = opt.RMSprop(net.parameters(), lr=0.00001)\n",
    "#optimizer = opt.SGD(net.parameters(), lr=0.00001)\n",
    "optimizer = opt.Adam(net.parameters(), lr=0.00002)\n",
    "\n",
    "batch_size = 64\n",
    "echo = 0"
   ]
  },
  {
   "cell_type": "code",
   "execution_count": 11,
   "metadata": {
    "ExecuteTime": {
     "end_time": "2021-05-22T07:16:00.400633Z",
     "start_time": "2021-05-22T07:16:00.388669Z"
    }
   },
   "outputs": [],
   "source": [
    "target_order = \"supervised\"\n",
    "for iteration in range(int(echo)):\n",
    "    # offender_types = []\n",
    "    # defender_types = []\n",
    "    \n",
    "    \n",
    "    X_train_list = []\n",
    "    temp_number = 0\n",
    "    total_batch_loss = 0 \n",
    "    while(temp_number<len(training_data)-1):\n",
    "        loss_sum = 0\n",
    "        denominator = 0\n",
    "        for index in range(temp_number, min(batch_size+temp_number,len(training_data))):\n",
    "            h_loss = net(training_data[index],training_label[index],training_supervised_label[index])\n",
    "            denominator += 1\n",
    "            loss_sum += h_loss\n",
    "            \n",
    "        loss = (loss_sum) / denominator \n",
    "        total_batch_loss +=float(loss_sum)\n",
    "        optimizer.zero_grad()\n",
    "        \n",
    "        loss.backward()\n",
    "        \n",
    "        optimizer.step()\n",
    "        \n",
    "        temp_number = index\n",
    "        \n",
    "        if(random.random()<=0.01):\n",
    "            print(temp_number,loss,float(loss_sum))\n",
    "\n",
    "\n",
    "    print(\"batch iteration\", iteration)\n",
    "    print(\"batch_loss: %.2f \" % (total_batch_loss/len(training_data)))\n",
    "    \n",
    "    print()\n",
    "    print()"
   ]
  },
  {
   "cell_type": "code",
   "execution_count": 12,
   "metadata": {
    "ExecuteTime": {
     "end_time": "2021-05-22T07:19:54.247418Z",
     "start_time": "2021-05-22T07:16:00.401630Z"
    }
   },
   "outputs": [
    {
     "name": "stdout",
     "output_type": "stream",
     "text": [
      "3.3524014279059005 2.989150285720825 0.36325114218507526\n"
     ]
    }
   ],
   "source": [
    "denominator = 0\n",
    "result_list = []\n",
    "for index in range(len(testing_data)):\n",
    "    h_list = []\n",
    "    for i in range(Agent_number_n):\n",
    "        h = net.calculate(torch.tensor(testing_data[index][i]).cuda().type(torch.float32))\n",
    "        h_list.append(float(h))\n",
    "    \n",
    "    #print(sum(h_list),h_list,sum(h_list)/testing_label[index])\n",
    "    result_list.append(sum(h_list)/testing_label[index])\n",
    "    \n",
    "\n",
    "print(max(result_list),min(result_list),max(result_list)-min(result_list))"
   ]
  },
  {
   "cell_type": "code",
   "execution_count": 13,
   "metadata": {
    "ExecuteTime": {
     "end_time": "2021-05-22T07:19:55.212554Z",
     "start_time": "2021-05-22T07:19:54.248415Z"
    }
   },
   "outputs": [
    {
     "data": {
      "image/png": "[encoded data removed]",
      "text/plain": [
       "<Figure size 432x288 with 1 Axes>"
      ]
     },
     "metadata": {
      "needs_background": "light"
     },
     "output_type": "display_data"
    }
   ],
   "source": [
    "plt.hist(result_list,bins=500)\n",
    "\n",
    "plt.title(\"Means\", y=1.015, fontsize=20)\n",
    "plt.axvline(x=sum(result_list)/len(result_list), linestyle='--', linewidth=2.5, label=\"sample mean\", c='orange')\n",
    "plt.xlabel(\"samples\", labelpad=14)\n",
    "plt.ylabel(\"frequency of occurence\", labelpad=14)\n",
    "plt.legend();\n",
    "\n",
    "result_list.sort()\n",
    "\n",
    "plt.axvline(x=result_list[int(len(result_list)*0.01)], linestyle='--', linewidth=0.5, label=\"1%\", c='b')\n",
    "plt.axvline(x=result_list[int(len(result_list)*0.99)], linestyle='--', linewidth=0.5, label=\"99%\", c='r')\n",
    "\n",
    "\n",
    "plt.show()"
   ]
  },
  {
   "cell_type": "code",
   "execution_count": 14,
   "metadata": {
    "ExecuteTime": {
     "end_time": "2021-05-22T07:19:55.228480Z",
     "start_time": "2021-05-22T07:19:55.213442Z"
    }
   },
   "outputs": [],
   "source": [
    "torch.save(net, \"save/Deep_learning_4\")"
   ]
  },
  {
   "cell_type": "code",
   "execution_count": 15,
   "metadata": {
    "ExecuteTime": {
     "end_time": "2021-05-22T07:19:55.243967Z",
     "start_time": "2021-05-22T07:19:55.229294Z"
    }
   },
   "outputs": [],
   "source": [
    "#optimizer = opt.RMSprop(net.parameters(), lr=0.00001)\n",
    "#optimizer = opt.SGD(net.parameters(), lr=0.00005)\n",
    "optimizer = opt.Adam(net.parameters(), lr=0.000001)\n",
    "\n",
    "batch_size = 64\n",
    "echo = 1"
   ]
  },
  {
   "cell_type": "code",
   "execution_count": 16,
   "metadata": {
    "ExecuteTime": {
     "end_time": "2021-05-22T07:59:46.251161Z",
     "start_time": "2021-05-22T07:19:55.244969Z"
    }
   },
   "outputs": [
    {
     "name": "stdout",
     "output_type": "stream",
     "text": [
      "3024 tensor([0.], device='cuda:0', grad_fn=<DivBackward0>) 0.0 0.0\n",
      "4347 tensor([0.], device='cuda:0', grad_fn=<DivBackward0>) 0.0 0.0\n",
      "8883 tensor([0.], device='cuda:0', grad_fn=<DivBackward0>) 0.0 0.0\n",
      "13104 tensor([0.], device='cuda:0', grad_fn=<DivBackward0>) 0.0 0.0\n",
      "16128 tensor([0.], device='cuda:0', grad_fn=<DivBackward0>) 0.0 0.0\n",
      "25011 tensor([0.], device='cuda:0', grad_fn=<DivBackward0>) 0.0 0.0\n",
      "35091 tensor([0.], device='cuda:0', grad_fn=<DivBackward0>) 0.0 0.0\n",
      "36351 tensor([0.], device='cuda:0', grad_fn=<DivBackward0>) 0.0 0.0\n",
      "36666 tensor([0.], device='cuda:0', grad_fn=<DivBackward0>) 0.0 0.0\n",
      "56007 tensor([0.], device='cuda:0', grad_fn=<DivBackward0>) 0.0 0.0\n",
      "68103 tensor([0.], device='cuda:0', grad_fn=<DivBackward0>) 0.0 0.0\n",
      "68166 tensor([0.], device='cuda:0', grad_fn=<DivBackward0>) 0.0 0.0\n",
      "80010 tensor([0.], device='cuda:0', grad_fn=<DivBackward0>) 0.0 0.0\n",
      "82026 tensor([0.], device='cuda:0', grad_fn=<DivBackward0>) 0.0 0.0\n",
      "85680 tensor([0.], device='cuda:0', grad_fn=<DivBackward0>) 0.0 0.0\n",
      "85869 tensor([0.], device='cuda:0', grad_fn=<DivBackward0>) 0.0 0.0\n",
      "94878 tensor([0.], device='cuda:0', grad_fn=<DivBackward0>) 0.0 0.0\n",
      "104076 tensor([0.], device='cuda:0', grad_fn=<DivBackward0>) 0.0 0.0\n",
      "107415 tensor([0.], device='cuda:0', grad_fn=<DivBackward0>) 0.0 0.0\n",
      "109494 tensor([0.], device='cuda:0', grad_fn=<DivBackward0>) 0.0 0.0\n",
      "115731 tensor([0.], device='cuda:0', grad_fn=<DivBackward0>) 0.0 0.0\n",
      "117495 tensor([0.], device='cuda:0', grad_fn=<DivBackward0>) 0.0 0.0\n",
      "123291 tensor([0.], device='cuda:0', grad_fn=<DivBackward0>) 0.0 0.0\n",
      "128331 tensor([0.], device='cuda:0', grad_fn=<DivBackward0>) 0.0 0.0\n",
      "137970 tensor([0.], device='cuda:0', grad_fn=<DivBackward0>) 0.0 0.0\n",
      "145089 tensor([0.], device='cuda:0', grad_fn=<DivBackward0>) 0.0 0.0\n",
      "150759 tensor([0.], device='cuda:0', grad_fn=<DivBackward0>) 0.0 0.0\n",
      "161910 tensor([0.], device='cuda:0', grad_fn=<DivBackward0>) 0.0 0.0\n",
      "171486 tensor([0.], device='cuda:0', grad_fn=<DivBackward0>) 0.0 0.0\n",
      "186354 tensor([0.], device='cuda:0', grad_fn=<DivBackward0>) 0.0 0.0\n",
      "197757 tensor([0.], device='cuda:0', grad_fn=<DivBackward0>) 0.0 0.0\n",
      "209790 tensor([0.], device='cuda:0', grad_fn=<DivBackward0>) 0.0 0.0\n",
      "217728 tensor([0.], device='cuda:0', grad_fn=<DivBackward0>) 0.0 0.0\n",
      "218484 tensor([0.], device='cuda:0', grad_fn=<DivBackward0>) 0.0 0.0\n",
      "218547 tensor([0.], device='cuda:0', grad_fn=<DivBackward0>) 0.0 0.0\n",
      "223461 tensor([0.], device='cuda:0', grad_fn=<DivBackward0>) 0.0 0.0\n",
      "241857 tensor([0.], device='cuda:0', grad_fn=<DivBackward0>) 0.0 0.0\n",
      "258174 tensor([9.1633e-09], device='cuda:0', grad_fn=<DivBackward0>) 5.864503691555001e-07 0.0\n",
      "260442 tensor([0.], device='cuda:0', grad_fn=<DivBackward0>) 0.0 0.0\n",
      "274239 tensor([0.], device='cuda:0', grad_fn=<DivBackward0>) 0.0 0.0\n",
      "299691 tensor([0.], device='cuda:0', grad_fn=<DivBackward0>) 0.0 0.0\n",
      "310401 tensor([0.], device='cuda:0', grad_fn=<DivBackward0>) 0.0 0.0\n",
      "310716 tensor([0.], device='cuda:0', grad_fn=<DivBackward0>) 0.0 0.0\n",
      "314370 tensor([0.], device='cuda:0', grad_fn=<DivBackward0>) 0.0 0.0\n",
      "322686 tensor([0.], device='cuda:0', grad_fn=<DivBackward0>) 0.0 0.0\n",
      "325836 tensor([0.], device='cuda:0', grad_fn=<DivBackward0>) 0.0 0.0\n",
      "341145 tensor([0.], device='cuda:0', grad_fn=<DivBackward0>) 0.0 0.0\n",
      "341271 tensor([0.], device='cuda:0', grad_fn=<DivBackward0>) 0.0 0.0\n",
      "343035 tensor([0.], device='cuda:0', grad_fn=<DivBackward0>) 0.0 0.0\n",
      "349335 tensor([0.], device='cuda:0', grad_fn=<DivBackward0>) 0.0 0.0\n",
      "355194 tensor([0.], device='cuda:0', grad_fn=<DivBackward0>) 0.0 0.0\n",
      "358092 tensor([0.], device='cuda:0', grad_fn=<DivBackward0>) 0.0 0.0\n",
      "364770 tensor([0.], device='cuda:0', grad_fn=<DivBackward0>) 0.0 0.0\n",
      "371637 tensor([0.], device='cuda:0', grad_fn=<DivBackward0>) 0.0 0.0\n",
      "375417 tensor([0.], device='cuda:0', grad_fn=<DivBackward0>) 0.0 0.0\n",
      "385749 tensor([0.], device='cuda:0', grad_fn=<DivBackward0>) 0.0 0.0\n",
      "391797 tensor([0.], device='cuda:0', grad_fn=<DivBackward0>) 0.0 0.0\n",
      "394758 tensor([0.], device='cuda:0', grad_fn=<DivBackward0>) 0.0 0.0\n",
      "396018 tensor([0.], device='cuda:0', grad_fn=<DivBackward0>) 0.0 0.0\n",
      "396081 tensor([0.], device='cuda:0', grad_fn=<DivBackward0>) 0.0 0.0\n",
      "401058 tensor([0.], device='cuda:0', grad_fn=<DivBackward0>) 0.0 0.0\n",
      "402885 tensor([0.], device='cuda:0', grad_fn=<DivBackward0>) 0.0 0.0\n",
      "411768 tensor([0.], device='cuda:0', grad_fn=<DivBackward0>) 0.0 0.0\n",
      "413217 tensor([0.], device='cuda:0', grad_fn=<DivBackward0>) 0.0 0.0\n",
      "442449 tensor([0.], device='cuda:0', grad_fn=<DivBackward0>) 0.0 0.0\n",
      "444150 tensor([0.], device='cuda:0', grad_fn=<DivBackward0>) 0.0 0.0\n",
      "445032 tensor([0.], device='cuda:0', grad_fn=<DivBackward0>) 0.0 0.0\n",
      "457884 tensor([0.], device='cuda:0', grad_fn=<DivBackward0>) 0.0 0.0\n",
      "462420 tensor([0.], device='cuda:0', grad_fn=<DivBackward0>) 0.0 0.0\n",
      "465759 tensor([0.], device='cuda:0', grad_fn=<DivBackward0>) 0.0 0.0\n",
      "472500 tensor([0.], device='cuda:0', grad_fn=<DivBackward0>) 0.0 0.0\n",
      "473697 tensor([2.2016e-07], device='cuda:0', grad_fn=<DivBackward0>) 1.4089979231357574e-05 0.0\n",
      "481131 tensor([0.], device='cuda:0', grad_fn=<DivBackward0>) 0.0 0.0\n",
      "batch iteration 0\n",
      "batch_loss: 0.00 \n",
      "\n",
      "\n"
     ]
    }
   ],
   "source": [
    "target_order = \"unsupervised\"\n",
    "for iteration in range(int(echo)):\n",
    "    # offender_types = []\n",
    "    # defender_types = []\n",
    "    \n",
    "    \n",
    "    X_train_list = []\n",
    "    temp_number = 0\n",
    "    total_batch_loss = 0 \n",
    "    while(temp_number<len(training_data)-1):\n",
    "        \n",
    "        loss2_list = []\n",
    "        loss1_sum = 0\n",
    "        loss2_sum = 0\n",
    "        denominator = 0\n",
    "        for index in range(temp_number, min(batch_size+temp_number,len(training_data))):\n",
    "            h_loss1,h_loss2,h_list = net(training_data[index],training_label[index],0)\n",
    "            denominator += 1\n",
    "            loss1_sum += h_loss1\n",
    "            loss2_sum += h_loss2\n",
    "            \n",
    "        loss_sum = loss1_sum + loss2_sum\n",
    "        loss = (loss_sum) / denominator \n",
    "        total_batch_loss +=float(loss_sum)\n",
    "        optimizer.zero_grad()\n",
    "        \n",
    "        loss.backward()\n",
    "        \n",
    "        optimizer.step()\n",
    "        \n",
    "        temp_number = index\n",
    "        \n",
    "        if(random.random()<=0.01):\n",
    "            print(temp_number,loss,float(loss1_sum),float(loss2_sum))\n",
    "\n",
    "\n",
    "    print(\"batch iteration\", iteration)\n",
    "    print(\"batch_loss: %.2f \" % (total_batch_loss/len(training_data)))\n",
    "    \n",
    "    print()\n",
    "    print()"
   ]
  },
  {
   "cell_type": "code",
   "execution_count": 17,
   "metadata": {
    "ExecuteTime": {
     "end_time": "2021-05-22T07:59:46.266812Z",
     "start_time": "2021-05-22T07:59:46.251161Z"
    }
   },
   "outputs": [],
   "source": [
    "torch.save(net, \"save/Deep_learning_4\")"
   ]
  },
  {
   "cell_type": "code",
   "execution_count": 18,
   "metadata": {
    "ExecuteTime": {
     "end_time": "2021-05-22T08:03:36.779706Z",
     "start_time": "2021-05-22T07:59:46.266812Z"
    }
   },
   "outputs": [
    {
     "name": "stdout",
     "output_type": "stream",
     "text": [
      "3.3438572883605957 2.9777084589004517 0.36614882946014404\n"
     ]
    }
   ],
   "source": [
    "denominator = 0\n",
    "result_list = []\n",
    "for index in range(len(testing_data)):\n",
    "    h_list = []\n",
    "    for i in range(Agent_number_n):\n",
    "        h = net.calculate(torch.tensor(testing_data[index][i]).cuda().type(torch.float32))\n",
    "        h_list.append(float(h))\n",
    "    \n",
    "    #print(sum(h_list),h_list,sum(h_list)/testing_label[index])\n",
    "    result_list.append(sum(h_list)/testing_label[index])\n",
    "    \n",
    "\n",
    "print(max(result_list),min(result_list),max(result_list)-min(result_list))"
   ]
  },
  {
   "cell_type": "code",
   "execution_count": 19,
   "metadata": {
    "ExecuteTime": {
     "end_time": "2021-05-22T08:03:37.905004Z",
     "start_time": "2021-05-22T08:03:36.779706Z"
    }
   },
   "outputs": [
    {
     "data": {
      "image/png": "[encoded data removed]",
      "text/plain": [
       "<Figure size 432x288 with 1 Axes>"
      ]
     },
     "metadata": {
      "needs_background": "light"
     },
     "output_type": "display_data"
    }
   ],
   "source": [
    "plt.hist(result_list,bins=500)\n",
    "\n",
    "plt.title(\"Means\", y=1.015, fontsize=20)\n",
    "plt.axvline(x=sum(result_list)/len(result_list), linestyle='--', linewidth=2.5, label=\"sample mean\", c='orange')\n",
    "plt.xlabel(\"samples\", labelpad=14)\n",
    "plt.ylabel(\"frequency of occurence\", labelpad=14)\n",
    "plt.legend();\n",
    "\n",
    "result_list.sort()\n",
    "\n",
    "plt.axvline(x=result_list[int(len(result_list)*0.01)], linestyle='--', linewidth=0.5, label=\"1%\", c='b')\n",
    "plt.axvline(x=result_list[int(len(result_list)*0.99)], linestyle='--', linewidth=0.5, label=\"99%\", c='r')\n",
    "\n",
    "\n",
    "plt.show()"
   ]
  },
  {
   "cell_type": "code",
   "execution_count": null,
   "metadata": {},
   "outputs": [],
   "source": []
  }
 ],
 "metadata": {
  "hide_input": false,
  "kernelspec": {
   "display_name": "Python 3",
   "language": "python",
   "name": "python3"
  },
  "language_info": {
   "codemirror_mode": {
    "name": "ipython",
    "version": 3
   },
   "file_extension": ".py",
   "mimetype": "text/x-python",
   "name": "python",
   "nbconvert_exporter": "python",
   "pygments_lexer": "ipython3",
   "version": "3.8.3"
  },
  "varInspector": {
   "cols": {
    "lenName": 16,
    "lenType": 16,
    "lenVar": 40
   },
   "kernels_config": {
    "python": {
     "delete_cmd_postfix": "",
     "delete_cmd_prefix": "del ",
     "library": "var_list.py",
     "varRefreshCmd": "print(var_dic_list())"
    },
    "r": {
     "delete_cmd_postfix": ") ",
     "delete_cmd_prefix": "rm(",
     "library": "var_list.r",
     "varRefreshCmd": "cat(var_dic_list()) "
    }
   },
   "types_to_exclude": [
    "module",
    "function",
    "builtin_function_or_method",
    "instance",
    "_Feature"
   ],
   "window_display": false
  }
 },
 "nbformat": 4,
 "nbformat_minor": 4
}
