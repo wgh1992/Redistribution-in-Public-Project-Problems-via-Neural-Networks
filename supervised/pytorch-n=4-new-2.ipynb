{
 "cells": [
  {
   "cell_type": "code",
   "execution_count": 1,
   "metadata": {
    "ExecuteTime": {
     "end_time": "2021-05-31T11:47:32.473940Z",
     "start_time": "2021-05-31T11:47:08.488739Z"
    }
   },
   "outputs": [
    {
     "name": "stdout",
     "output_type": "stream",
     "text": [
      "pygame 2.0.1 (SDL 2.0.14, Python 3.8.3)\n",
      "Hello from the pygame community. https://www.pygame.org/contribute.html\n",
      "cuda:0\n"
     ]
    },
    {
     "name": "stderr",
     "output_type": "stream",
     "text": [
      "D:\\ComputerSoftwares\\Anaconda\\lib\\site-packages\\sklearn\\utils\\deprecation.py:143: FutureWarning: The sklearn.datasets.samples_generator module is  deprecated in version 0.22 and will be removed in version 0.24. The corresponding classes / functions should instead be imported from sklearn.datasets. Anything that cannot be imported from sklearn.datasets is now part of the private API.\n",
      "  warnings.warn(message, FutureWarning)\n"
     ]
    }
   ],
   "source": [
    "\n",
    "import pygame\n",
    "import random\n",
    "import os\n",
    "import time\n",
    "import numpy as np\n",
    "import math\n",
    "import torch\n",
    "import torch.nn.functional\n",
    "import matplotlib.pyplot as plt\n",
    "import torch.optim as opt\n",
    "from torch.autograd import Variable\n",
    "from sklearn.model_selection import train_test_split\n",
    "\n",
    "import scipy.stats as st\n",
    "from sklearn.datasets.samples_generator import make_blobs\n",
    "from matplotlib.colors import LogNorm \n",
    "import matplotlib.cm as cm\n",
    "import torch.nn as nn\n",
    "import numpy as np\n",
    "import matplotlib.pyplot as plt\n",
    "\n",
    "\n",
    "if torch.cuda.is_available():  \n",
    "    dev = \"cuda:0\" \n",
    "else:  \n",
    "    dev = \"cpu\"  \n",
    "\n",
    "print(dev)\n"
   ]
  },
  {
   "cell_type": "code",
   "execution_count": 2,
   "metadata": {
    "ExecuteTime": {
     "end_time": "2021-05-31T11:47:32.488899Z",
     "start_time": "2021-05-31T11:47:32.475934Z"
    }
   },
   "outputs": [],
   "source": [
    "global target_order\n",
    "target_order = \"supervised\"\n",
    "global temp_list\n",
    "temp_list = []\n",
    "Agent_number_n=4;\n",
    "Alpha = 0.666;\n",
    "\n"
   ]
  },
  {
   "cell_type": "code",
   "execution_count": 3,
   "metadata": {
    "ExecuteTime": {
     "end_time": "2021-05-31T11:47:34.093007Z",
     "start_time": "2021-05-31T11:47:32.490895Z"
    }
   },
   "outputs": [
    {
     "name": "stdout",
     "output_type": "stream",
     "text": [
      "[[[0.30078485 0.27281225 0.04751721]\n",
      "  [0.84373699 0.27281225 0.04751721]\n",
      "  [0.84373699 0.30078485 0.04751721]\n",
      "  [0.84373699 0.30078485 0.27281225]]\n",
      "\n",
      " [[0.49764063 0.31593847 0.06524414]\n",
      "  [0.90130972 0.31593847 0.06524414]\n",
      "  [0.90130972 0.49764063 0.06524414]\n",
      "  [0.90130972 0.49764063 0.31593847]]\n",
      "\n",
      " [[0.48860115 0.28554194 0.27028804]\n",
      "  [0.65273119 0.28554194 0.27028804]\n",
      "  [0.65273119 0.48860115 0.27028804]\n",
      "  [0.65273119 0.48860115 0.28554194]]\n",
      "\n",
      " ...\n",
      "\n",
      " [[0.48622056 0.48224093 0.33318776]\n",
      "  [0.69802342 0.48224093 0.33318776]\n",
      "  [0.69802342 0.48622056 0.33318776]\n",
      "  [0.69802342 0.48622056 0.48224093]]\n",
      "\n",
      " [[0.95520191 0.25832741 0.25729148]\n",
      "  [0.96451656 0.25832741 0.25729148]\n",
      "  [0.96451656 0.95520191 0.25729148]\n",
      "  [0.96451656 0.95520191 0.25832741]]\n",
      "\n",
      " [[0.72185606 0.65588043 0.0691026 ]\n",
      "  [0.86718277 0.65588043 0.0691026 ]\n",
      "  [0.86718277 0.72185606 0.0691026 ]\n",
      "  [0.86718277 0.72185606 0.65588043]]]\n",
      "[[[0.57406007 0.46396297 0.27278405]\n",
      "  [0.71238595 0.46396297 0.27278405]\n",
      "  [0.71238595 0.57406007 0.27278405]\n",
      "  [0.71238595 0.57406007 0.46396297]]\n",
      "\n",
      " [[0.93623523 0.85073685 0.52513941]\n",
      "  [0.95165621 0.85073685 0.52513941]\n",
      "  [0.95165621 0.93623523 0.52513941]\n",
      "  [0.95165621 0.93623523 0.85073685]]\n",
      "\n",
      " [[0.77129684 0.49203038 0.05653952]\n",
      "  [0.84230944 0.49203038 0.05653952]\n",
      "  [0.84230944 0.77129684 0.05653952]\n",
      "  [0.84230944 0.77129684 0.49203038]]\n",
      "\n",
      " ...\n",
      "\n",
      " [[0.5250184  0.39928129 0.0510709 ]\n",
      "  [0.95267545 0.39928129 0.0510709 ]\n",
      "  [0.95267545 0.5250184  0.0510709 ]\n",
      "  [0.95267545 0.5250184  0.39928129]]\n",
      "\n",
      " [[0.32592019 0.31270729 0.19688735]\n",
      "  [0.98269933 0.31270729 0.19688735]\n",
      "  [0.98269933 0.32592019 0.19688735]\n",
      "  [0.98269933 0.32592019 0.31270729]]\n",
      "\n",
      " [[0.83881506 0.67463926 0.11902849]\n",
      "  [0.98165983 0.67463926 0.11902849]\n",
      "  [0.98165983 0.83881506 0.11902849]\n",
      "  [0.98165983 0.83881506 0.67463926]]]\n",
      "[1.4648513  1.78013296 1.69716231 ... 1.99967267 2.43533735 2.31402187]\n",
      "[2.02319304 3.2637677  2.16217618 2.1559464  1.81333017 2.84456433\n",
      " 1.80513232 2.3688362  1.30030848 2.56279321 1.37629723 1.15276798\n",
      " 2.28823584 2.20255367 1.68748244 1.97161563 1.43041041 2.191982\n",
      " 2.60801325 1.52304997 1.30141299 2.6699427  1.70297401 1.62963553\n",
      " 1.46265296 2.45088631 1.32634239 1.69038729 2.32092004 1.89936457\n",
      " 2.11634492 2.50086511 2.8167976  2.18788538 1.97284098 2.34997605\n",
      " 2.13330286 1.50943717 3.1813335  1.53012495 2.46001669 2.16051217\n",
      " 2.34057242 1.67296707 2.08932861 2.76583471 1.         1.54312153\n",
      " 3.10822958 2.48365144 1.63072897 1.         2.272833   2.1689192\n",
      " 1.79618851 1.46681666 2.37135284 2.13163566 1.73815426 2.09003684\n",
      " 2.88619943 1.29813373 2.50090851 1.80149015 2.54269659 2.1059471\n",
      " 1.81177091 2.48893555 1.06421934 1.         2.85930677 2.18497789\n",
      " 1.63347798 2.14005942 1.31567457 1.83930109 2.79871551 1.62759488\n",
      " 2.26052479 2.04938053 2.41522845 1.9795162  2.72283497 1.37151672\n",
      " 3.43044052 2.07782549 2.51225516 1.97882289 1.91176689 1.89681831\n",
      " 2.51867815 1.34932339 2.25697832 2.22616453 1.75695179 1.\n",
      " 2.36450838 1.77086458 2.26799148 2.73684668 2.14193697 1.\n",
      " 1.20590367 1.83155826 2.29200698 1.86014835 3.13351394 2.27927987\n",
      " 3.10962828 2.45551155 2.83328731 1.34245398 1.         2.66039831\n",
      " 1.61242624 1.35895506 1.79864913 1.63777214 2.19321149 1.53786137\n",
      " 2.24764931 2.85689037 2.07614562 2.01146744 2.00458418 1.54751834\n",
      " 2.76647183 1.34187307 1.36828056 2.05985459 1.23773022 2.24167907\n",
      " 1.83040798 1.49350771 1.78029549 1.6351308  1.         1.86255608\n",
      " 1.51242256 1.6355515  1.84078312 1.78782588 2.63836548 1.1741708\n",
      " 2.4830441  1.08568174 1.95692635 1.         2.12948324 2.51748591\n",
      " 1.92632658 1.74246451 1.64059221 2.90091275 1.         1.\n",
      " 1.69229129 2.46596044 1.72227993 2.67420452 2.47456428 2.10454927\n",
      " 1.51003576 2.12409258 2.22170155 1.09764993 2.62066362 1.74409676\n",
      " 2.3951495  2.3450248  1.85759435 1.94095472 2.43541607 2.56650583\n",
      " 2.17246509 1.85034164 2.45800201 1.77412366 1.         2.86104654\n",
      " 2.21283521 1.9043717  2.19406626 2.36312469 2.5515105  3.01410011\n",
      " 1.59710805 1.         1.25014693 2.57573859 2.62230861 1.79358679\n",
      " 1.76990551 1.84154152 2.13754894 2.89652377 2.22720536 1.2905096\n",
      " 2.68473285 2.65997116 2.49861387 2.97910889 2.22532059 2.47020975\n",
      " 2.55245538 1.6981489  1.5375664  2.08742636 2.49718224 2.06819315\n",
      " 2.10812517 1.39197788 1.90885981 1.69774904 2.94159259 1.83432761\n",
      " 3.18264424 1.57528694 1.         1.91107631 2.28552023 1.95573128\n",
      " 1.87646187 2.03510506 1.90126824 2.02671756 1.2355681  2.14585689\n",
      " 1.48031914 2.74539259 2.37328735 2.355002   1.         1.\n",
      " 2.39159329 2.52949778 1.41822048 3.41043911 1.66253876 2.42327517\n",
      " 1.92859759 1.40497415 1.         1.77994205 1.72615197 2.5972674\n",
      " 3.56400348 2.57330887 2.19804085 1.38080047 2.45887613 2.1634607\n",
      " 1.81355781 2.75903192 2.22850869 1.92054149 1.70250162 1.65345724\n",
      " 1.91112514 1.68492772 2.4677118  1.51124873 1.54067153 1.41052952\n",
      " 2.23682202 1.4223791  2.82095304 1.32799542 2.86013466 2.27705014\n",
      " 1.91540859 2.2443153  1.23487619 1.63359376 1.36347618 2.53963752\n",
      " 1.49533023 1.5439952  2.62100799 1.90166502 2.0807727  1.60203253\n",
      " 2.17263271 1.64691844 1.53359254 2.24116691 1.31601652 2.1659886\n",
      " 1.74546624 1.5598797  1.08602122 1.73133597 2.50375249 2.38730622\n",
      " 2.46700272 1.         2.47520524 1.27736253 2.50322043 1.49194344\n",
      " 1.97073809 3.17292717 2.42905518 1.53278399 2.60188911 1.68061008\n",
      " 1.55892224 2.56042599 1.76441112 1.66843922 2.81963895 1.24412804\n",
      " 2.04629638 2.70457    2.20793252 1.85714778 1.33679338 2.29318618\n",
      " 1.54247978 1.36058756 1.73913728 1.         2.69281798 2.17027185\n",
      " 1.54967639 1.55478993 1.95924455 1.7396121  2.94207463 1.85857227\n",
      " 1.         2.27073236 1.11908831 1.6891208  1.4167049  2.67759092\n",
      " 2.53680479 2.14652092 2.13286486 1.09017876 1.17339144 2.40265544\n",
      " 1.70140813 2.59528052 2.85725543 1.89163011 1.58319472 1.18430952\n",
      " 2.83767432 1.85823159 2.95767327 2.01986647 1.90653041 2.44216475\n",
      " 2.1407617  2.14952996 2.62971494 1.45660003 1.91940117 2.1650017\n",
      " 2.10897699 2.37511092 1.6817027  2.69526487 1.604689   1.85111106\n",
      " 1.95127578 2.42003705 2.14307586 1.7404748  2.71862359 1.00775236\n",
      " 2.87920098 1.01884766 2.6605333  1.95562442 2.25653472 2.35846232\n",
      " 1.35411054 1.18377001 2.96348932 1.68897741 2.33940603 2.0294484\n",
      " 1.86630701 2.72902458 2.00587284 2.09543396 2.0264591  1.39363904\n",
      " 1.51624974 1.49351547 1.76662088 1.59697251 1.         2.57892923\n",
      " 2.33595101 1.58535826 1.54777637 2.20439238 1.3361659  2.92221807\n",
      " 2.82309154 1.         2.43298839 1.42226818 1.56608103 1.54760085\n",
      " 2.47833958 1.98220651 1.34821115 2.66618149 2.88326025 1.74685805\n",
      " 2.09384777 2.53813795 2.3962364  2.77551856 2.05151544 1.10516183\n",
      " 1.93240179 1.5112462  1.84105714 2.23677852 1.29316367 1.58677628\n",
      " 2.28472831 1.91462656 2.09713161 1.26307337 2.05975577 1.48485926\n",
      " 1.54394087 2.67007462 1.41539304 3.00399    1.69328003 2.35475501\n",
      " 1.02260824 1.5713995  3.20305086 1.93739475 2.69819495 2.23201426\n",
      " 2.23330717 1.52023355 2.63705934 1.10828114 1.4600761  3.16809341\n",
      " 1.76396196 2.30759331 1.45843326 2.45680835 1.43793712 2.32225693\n",
      " 2.48209774 2.39840953 2.9361862  1.         1.77008781 1.52301328\n",
      " 1.         1.65491383 1.83935474 2.98344991 2.07004182 2.06124564\n",
      " 2.58144302 2.54001989 1.79268097 2.06084288 2.54296592 2.2384965\n",
      " 2.45863917 1.         1.56457807 2.13966984 2.12257932 1.29671709\n",
      " 2.58220877 1.74257046 1.92404215 1.07388528 1.70153321 1.81727724\n",
      " 3.28092148 2.85744835 1.68746145 2.87917515 1.8119457  2.26564842\n",
      " 1.76200835 2.94951903 3.05627133 2.10713061 2.27230224 1.84764426\n",
      " 1.93579911 1.87931524 1.73603743 1.80626601 2.22443906 1.28047004\n",
      " 2.37255014 1.70245737 2.03242702 2.08252977 1.95004037 1.\n",
      " 2.79778085 1.         2.44517684 1.31146708 1.50502059 1.\n",
      " 2.47919779 1.92749915 2.51520765 2.43340029 3.04552732 2.52095937\n",
      " 2.03943497 3.00594021 1.5021163  2.30550188 1.73870215 1.84486966\n",
      " 1.79948106 1.53019646 2.5321119  2.54067266 2.21007913 2.0443782\n",
      " 2.41400193 1.693129   1.63956945 1.85897545 1.56311173 2.21621831\n",
      " 1.21358085 1.60450175 2.57283248 2.41766571 1.89272738 3.00372535\n",
      " 2.1553409  1.63653257 1.79170181 1.84155182 1.84508596 1.47942646\n",
      " 1.07955702 1.65031561 2.71758402 1.21050655 2.85772271 2.24884316\n",
      " 1.76173706 1.52488364 1.41692276 1.44637552 1.97404774 2.41370015\n",
      " 2.02218878 1.62292874 1.30932266 2.47159432 1.36772517 2.7911934\n",
      " 1.44944488 2.54238715 2.30633858 2.03604964 2.34564996 1.2368099\n",
      " 1.         2.00855997 2.64529227 1.97646671 2.77260249 1.71064971\n",
      " 2.75482443 1.24779408 2.16029844 2.67180793 2.70316552 1.59930515\n",
      " 2.55851643 1.72529254 2.65566848 1.33159351 1.8276927  2.4480215\n",
      " 1.27404454 1.77575755 1.9371321  2.19412184 1.50775649 2.42891988\n",
      " 3.26459111 2.22178189 2.75644682 2.40048442 1.67457125 2.03700832\n",
      " 1.93756339 1.92731394 2.67954897 1.17063338 2.16831163 2.59685254\n",
      " 1.         2.89999474 1.50779569 2.11899853 2.07844562 2.53330074\n",
      " 1.28825348 2.07961899 2.27157515 3.01620043 2.87279694 2.2604071\n",
      " 1.30499071 1.20158344 1.49377467 1.88190749 1.76824365 1.69997087\n",
      " 1.06030831 2.57265085 1.4845884  1.         1.84532606 1.50888979\n",
      " 1.92690585 2.78708681 2.16957715 3.3470257  2.34236427 1.1889963\n",
      " 1.86653141 2.07118361 2.59480056 3.05615784 2.03256793 3.07705922\n",
      " 1.99367144 1.80991885 2.83792683 3.62012479 1.81884159 2.02085574\n",
      " 2.43336198 1.73358227 1.34626472 1.60244661 1.77027677 2.29648135\n",
      " 2.74773788 1.         1.91511556 1.20341122 1.36127196 2.39196712\n",
      " 1.6487458  2.31418324 2.88505013 2.02424465 2.05472426 2.0848583\n",
      " 1.33801879 1.80562247 2.52350405 1.19528407 2.35088879 2.41932439\n",
      " 1.98431497 2.86792611 1.67797755 1.64075446 1.05953893 2.9702396\n",
      " 2.50133927 1.87668605 2.39159682 1.         2.09704587 3.09539261\n",
      " 2.19616269 1.78164686 1.73620759 1.77288748 1.59977205 2.99679163\n",
      " 1.         2.313423   1.68577086 2.77102913 1.22935092 1.6296191\n",
      " 3.00628412 2.6217715  2.1035418  2.49183493 2.86106021 1.87071752\n",
      " 2.09767026 2.47504832 1.74968428 1.37447902 2.4887979  2.61625457\n",
      " 1.42719529 2.09704742 2.40412979 1.54386568 2.3757891  2.82640837\n",
      " 2.25930133 1.88460507 2.35491412 1.58971654 1.85569687 2.7863669\n",
      " 1.44452538 2.22569989 1.32762793 2.47168194 2.07284986 1.64656546\n",
      " 2.45524184 1.97952723 1.67414825 1.81938101 1.53992953 1.\n",
      " 2.2864122  1.61847792 1.52257958 2.69592894 2.18999168 1.85412129\n",
      " 2.69976394 1.63977251 1.8103434  2.32067824 1.42751248 3.08439071\n",
      " 1.90107159 2.01242945 2.00692021 1.15031499 2.68392597 2.02839579\n",
      " 2.14903082 2.22663921 1.98061805 1.08850988 2.77505997 1.82693401\n",
      " 1.19142313 1.45152884 1.60588255 1.27150418 2.13665011 1.9113322\n",
      " 2.67099349 2.68523905 1.67618606 2.6038517  1.7831406  1.906468\n",
      " 2.45689108 1.94816614 2.04702313 1.71409098 1.22118751 1.9432542\n",
      " 1.80132133 2.3882469  1.54576712 2.07256268 1.97555153 1.62621368\n",
      " 2.02601737 1.59765982 1.66404396 2.60949868 2.44434232 2.12411304\n",
      " 2.18789011 1.         1.67527868 1.28137728 1.         2.01081963\n",
      " 1.63997535 1.34860073 2.95921857 1.50307581 2.60185777 1.88899769\n",
      " 2.21273709 1.68025334 1.53787781 1.         2.10114961 2.59837637\n",
      " 2.14879556 2.47406974 1.79285493 1.6856723  2.15267942 2.21112855\n",
      " 1.         2.45357999 2.11890844 2.14571845 2.68419336 2.10092994\n",
      " 2.55462214 2.19184078 1.76447781 2.48675407 2.19533709 2.68702419\n",
      " 1.38590662 2.42644611 2.96885054 1.80368151 1.         2.33461307\n",
      " 1.69550618 2.35046121 2.5446813  2.32640251 1.         1.85274848\n",
      " 1.03551121 1.72137862 1.56136376 3.02724472 1.03129284 1.95335214\n",
      " 1.64492194 1.14318525 2.10829808 1.82103817 2.22167578 2.9940667\n",
      " 2.13807138 2.52532671 2.64910689 2.29994122 1.81500584 1.73657158\n",
      " 2.13379501 1.75525261 1.92378203 1.6633244  1.89275408 2.518271\n",
      " 2.60569702 1.         2.22962886 2.41890731 2.04935568 1.99495276\n",
      " 2.05514691 2.09709737 2.90574836 1.62783205 3.13080296 2.46004863\n",
      " 2.98242505 2.17092135 2.12812328 2.12745964 1.78989578 1.19421471\n",
      " 2.38421783 2.53277992 1.49320093 1.32270425 1.26372603 2.56487648\n",
      " 1.72364278 1.77569872 2.6347806  2.03763525 2.87191077 1.32822365\n",
      " 2.21494151 1.43586772 1.34453334 2.3942937  2.02493806 1.59361522\n",
      " 2.15626693 2.38890226 1.79649318 1.42803634 1.         1.3973426\n",
      " 1.1746431  1.33201667 2.08600547 1.68725143 1.21214315 1.09407651\n",
      " 1.93732234 2.11778587 2.25485942 2.4769445  1.41080714 2.01596058\n",
      " 1.73991111 1.63337922 3.0895901  2.24104604 1.13071649 2.91475279\n",
      " 1.36875868 2.39276868 1.11859577 1.28380615 2.05487917 2.5674752\n",
      " 2.04924747 1.36013607 2.68482134 1.47701104 2.45263679 1.37509301\n",
      " 1.78428115 1.75514768 1.10845279 1.82316993 1.47616838 1.2472498\n",
      " 1.         1.9565219  1.37383302 2.32086589 1.83198009 2.76219115\n",
      " 1.70802312 1.91587852 2.25812291 1.60365439 2.05155081 1.36007251\n",
      " 2.32036326 1.         1.94882564 1.16909138 1.81843897 1.98144583\n",
      " 1.66667471 1.70118325 1.75114686 2.47921717 2.48117882 2.49762037\n",
      " 1.45253596 2.03997487 1.89696532 2.68225042 2.54569064 1.31786453\n",
      " 1.10797873 2.53747339 2.87271497 2.71084248 1.         2.47542313\n",
      " 1.38649463 1.88729052 1.23292559 1.90500221 1.24540399 1.29829677\n",
      " 2.10915941 2.35726606 2.54950262 1.85679371 2.53560804 1.71403856\n",
      " 1.97491564 2.14638035 1.         1.91618216 2.17381219 2.78933461\n",
      " 2.26256731 1.92804603 1.81821416 2.61414264]\n"
     ]
    }
   ],
   "source": [
    "global temp_list\n",
    "temp_list = []\n",
    "def appen(_x_list,y):\n",
    "    global temp_list\n",
    "    temp_list.append(_x_list)\n",
    "    \n",
    "def appen_train(x_list):\n",
    "    global temp_list\n",
    "                \n",
    "    S= max(sum(x_list),1.0);\n",
    "    temp_list = []\n",
    "    \n",
    "    for i in range(Agent_number_n):\n",
    "        temp = []\n",
    "        for j in range(Agent_number_n):\n",
    "            if(i!=j):\n",
    "                temp.append(x_list[j])\n",
    "        appen(temp,S)\n",
    "    \n",
    "    training_data.append(temp_list)\n",
    "    training_label.append(S)\n",
    "    \n",
    "\n",
    "def read_training_data():\n",
    "    for i in range(100000):\n",
    "        appen_train(sorted(np.random.rand(Agent_number_n), reverse=True));\n",
    "\n",
    "training_data=[]\n",
    "training_label=[]\n",
    "S=1.0\n",
    "read_training_data();\n",
    "\n",
    "def appen_test(x_list):\n",
    "    global temp_list\n",
    "                \n",
    "    S= max(sum(x_list),1.0);\n",
    "    temp_list = []\n",
    "    \n",
    "    for i in range(Agent_number_n):\n",
    "        temp = []\n",
    "        for j in range(Agent_number_n):\n",
    "            if(i!=j):\n",
    "                temp.append(x_list[j])\n",
    "        appen(temp,S)\n",
    "    testing_data.append(temp_list)\n",
    "    testing_label.append(S)\n",
    "    \n",
    "\n",
    "def read_testing_data():\n",
    "#     devided=20\n",
    "#     for i1 in range(devided+1):\n",
    "#         for i2 in range(i1+1):\n",
    "#             for i3 in range(i2+1):\n",
    "#                 appen_test(i1/devided,i2/devided,i3/devided);\n",
    "    for i in range(1000):\n",
    "        appen_test(sorted(np.random.rand(Agent_number_n), reverse=True));\n",
    "                            \n",
    "\n",
    "testing_data=[]\n",
    "testing_label=[]\n",
    "S=1.0\n",
    "read_testing_data();\n",
    "\n",
    "training_data=np.array(training_data)\n",
    "training_label=np.array(training_label)\n",
    "testing_data=np.array(testing_data)\n",
    "testing_label=np.array(testing_label)\n",
    "print(training_data)\n",
    "print(testing_data)\n",
    "print(training_label)\n",
    "print(testing_label)"
   ]
  },
  {
   "cell_type": "code",
   "execution_count": 4,
   "metadata": {
    "ExecuteTime": {
     "end_time": "2021-05-31T11:48:00.710079Z",
     "start_time": "2021-05-31T11:47:34.095003Z"
    }
   },
   "outputs": [
    {
     "name": "stdout",
     "output_type": "stream",
     "text": [
      "3.374474347537738 2.999999999999999 0.3744743475377388\n"
     ]
    }
   ],
   "source": [
    "def h_3_star(a, b, t):\n",
    "    return a - min(a, t) + b - min(b, t) + max(min(a, t)+min(b, t), 2*t/3) + 1/2 * max(min(a, t)+min(b, t), t) - 1/2 * max(max(min(a, t), min(b, t)), 2*t/3) - t/6\n",
    "\n",
    "\n",
    "def f_function(a, b, z):\n",
    "    if(z >= 1):\n",
    "        return (a+b)/2 + z/3\n",
    "    else:\n",
    "        return z/3 + h_3_star(a, b, 1-z)/2\n",
    "\n",
    "def h_function(input_list):\n",
    "    #input_list = sorted(input_list)\n",
    "    g_list = []\n",
    "    for j1 in range(len(input_list) ):\n",
    "        for j2 in range(len(input_list)):\n",
    "            if(j1 != j2):\n",
    "                a = input_list[j1]\n",
    "                b = input_list[j2]\n",
    "                z = sum(input_list)- a-b\n",
    "\n",
    "                g_list.append( f_function(a, b, z) * (Agent_number_n-1))\n",
    "    h = sum(g_list) * 3 /  (Agent_number_n) /  (Agent_number_n-1) /  (Agent_number_n - 2)\n",
    "    return h\n",
    "                \n",
    "                \n",
    "x_list = []\n",
    "y_list = []\n",
    "z_list = []\n",
    "result_list = []\n",
    "training_supervised_label=[]\n",
    "for index in range(len(training_data)):\n",
    "    h_list = []\n",
    "    for i in range(Agent_number_n):\n",
    "        x_list.append(training_data[index][i][0])\n",
    "        y_list.append(training_data[index][i][1])\n",
    "        h = h_function(training_data[index][i])\n",
    "        z_list.append(float(h))\n",
    "        h_list.append(float(h))\n",
    "    training_supervised_label.append(h_list)\n",
    "    result_list.append(sum(h_list)/training_label[index]) \n",
    "    \n",
    "    \n",
    "print(max(result_list), min(result_list), max(result_list)-min(result_list))"
   ]
  },
  {
   "cell_type": "code",
   "execution_count": 5,
   "metadata": {
    "ExecuteTime": {
     "end_time": "2021-05-31T11:48:02.146035Z",
     "start_time": "2021-05-31T11:48:00.712075Z"
    }
   },
   "outputs": [
    {
     "data": {
      "image/png": "[encoded data removed]",
      "text/plain": [
       "<Figure size 432x288 with 1 Axes>"
      ]
     },
     "metadata": {
      "needs_background": "light"
     },
     "output_type": "display_data"
    }
   ],
   "source": [
    "plt.hist(result_list,bins=500)\n",
    "\n",
    "plt.title(\"Means\", y=1.015, fontsize=20)\n",
    "plt.axvline(x=sum(result_list)/len(result_list), linestyle='--', linewidth=2.5, label=\"sample mean\", c='orange')\n",
    "plt.xlabel(\"samples\", labelpad=14)\n",
    "plt.ylabel(\"frequency of occurence\", labelpad=14)\n",
    "plt.legend();\n",
    "\n",
    "result_list.sort()\n",
    "\n",
    "plt.axvline(x=result_list[int(len(result_list)*0.01)], linestyle='--', linewidth=0.5, label=\"1%\", c='b')\n",
    "plt.axvline(x=result_list[int(len(result_list)*0.99)], linestyle='--', linewidth=0.5, label=\"99%\", c='r')\n",
    "\n",
    "\n",
    "plt.show()"
   ]
  },
  {
   "cell_type": "code",
   "execution_count": 6,
   "metadata": {
    "ExecuteTime": {
     "end_time": "2021-05-31T11:48:02.255702Z",
     "start_time": "2021-05-31T11:48:02.146965Z"
    }
   },
   "outputs": [
    {
     "name": "stdout",
     "output_type": "stream",
     "text": [
      "[[0.75       1.11829185 1.15325761 1.45526624]\n",
      " [0.87102331 1.25885311 1.48598082 1.80561987]\n",
      " [1.06671945 1.25149336 1.50531738 1.52724486]\n",
      " ...\n",
      " [1.41086791 1.63005636 1.63503089 1.82134736]\n",
      " [1.48032528 1.4884756  2.2798837  2.28079014]\n",
      " [1.4986576  1.65306723 1.73553677 2.33930436]]\n"
     ]
    }
   ],
   "source": [
    "training_supervised_label=np.array(training_supervised_label)\n",
    "print(training_supervised_label)"
   ]
  },
  {
   "cell_type": "code",
   "execution_count": 7,
   "metadata": {
    "ExecuteTime": {
     "end_time": "2021-05-31T11:48:02.271259Z",
     "start_time": "2021-05-31T11:48:02.258667Z"
    }
   },
   "outputs": [
    {
     "name": "stdout",
     "output_type": "stream",
     "text": [
      "cuda:0\n"
     ]
    }
   ],
   "source": [
    "if torch.cuda.is_available():  \n",
    "    dev = \"cuda:0\" \n",
    "else:  \n",
    "    dev = \"cpu\"  \n",
    "\n",
    "print(dev)\n"
   ]
  },
  {
   "cell_type": "code",
   "execution_count": 8,
   "metadata": {
    "ExecuteTime": {
     "end_time": "2021-05-31T11:48:02.302945Z",
     "start_time": "2021-05-31T11:48:02.274255Z"
    },
    "run_control": {
     "marked": true
    }
   },
   "outputs": [],
   "source": [
    "def weight_init(m):\n",
    "    if isinstance(m, torch.nn.Conv2d):\n",
    "        torch.nn.init.xavier_normal_(m.weight)\n",
    "        torch.nn.init.zeros_(m.bias)\n",
    "    elif isinstance(m, torch.nn.Linear):\n",
    "        torch.nn.init.normal_(m.weight, mean=0.0,std =0.2)\n",
    "        torch.nn.init.normal_(m.bias, mean=0.0,std =0.01)\n",
    "#     elif isinstance(m, torch.nn.Parameter):\n",
    "#         torch.nn.init.normal_(m, mean=0.0,std =0.1)\n",
    "\n",
    "        \n",
    "\n",
    "class Net(torch.nn.Module):\n",
    "    def __init__(self):\n",
    "\n",
    "        super(Net, self).__init__()\n",
    "        \n",
    "        self.input_dim = (Agent_number_n-1)*10\n",
    "        self.hidden_dim = 12\n",
    "        self.output_dim = 1\n",
    "        self.hidden_layer_count = 1\n",
    "        \n",
    "        current_dim = self.input_dim\n",
    "        self.layers = torch.nn.ModuleList()\n",
    "        for i in range(self.hidden_layer_count):\n",
    "            self.layers.append(torch.nn.Linear(current_dim, self.hidden_dim))\n",
    "            current_dim = self.hidden_dim\n",
    "        self.layers.append(torch.nn.Linear(current_dim, self.output_dim))\n",
    "\n",
    "    def calculate(self, value_list):\n",
    "        input_h = torch.zeros(self.input_dim).cuda()\n",
    "        for i in range((Agent_number_n-1)):\n",
    "            for j in range(10):\n",
    "                \n",
    "                input_h[i*10+j] = torch.where( value_list[i]*10>torch.tensor(j) ,\n",
    "                            torch.ones(1).cuda(),\n",
    "                            value_list[i]*10 - torch.tensor(j)\n",
    "                          )\n",
    "                if(value_list[i]*10<=torch.tensor(j)):\n",
    "                    break;\n",
    "        \n",
    "        h = input_h\n",
    "        for layer in self.layers:\n",
    "            h = torch.relu(layer(h))\n",
    "        return h\n",
    "\n",
    "    def forward(self, input_list,input_label,label):\n",
    "        global iteration,echo,target_order\n",
    "        loss1 = 0\n",
    "        loss2 = 0\n",
    "        input_list = torch.from_numpy(\n",
    "            np.array(input_list)).cuda().type(torch.float32)\n",
    "        h_list = []\n",
    "\n",
    "        if (target_order == \"supervised\"):\n",
    "            loss = 0 \n",
    "            for i in range(Agent_number_n):\n",
    "                h = self.calculate(input_list[i])\n",
    "                loss += torch.square(h - label[i])\n",
    "                h_list.append(h)\n",
    "            return loss\n",
    "        else:\n",
    "            for i in range(Agent_number_n):\n",
    "                h = self.calculate(input_list[i])\n",
    "                h_list.append(h)\n",
    "            input_label = torch.from_numpy(\n",
    "                np.array(input_label)).cuda().type(torch.float32)\n",
    "            sum_h = torch.sum(torch.cat(h_list)).cuda()\n",
    "\n",
    "\n",
    "            loss1 = torch.where((Agent_number_n-1)*input_label>sum_h,\n",
    "                            torch.square(((Agent_number_n-1)*input_label-sum_h)),\n",
    "                            torch.zeros(1).cuda()\n",
    "                          )\n",
    "\n",
    "            loss2 = torch.where((Agent_number_n-Alpha)*input_label<sum_h,\n",
    "                            torch.square((sum_h-(Agent_number_n-Alpha)*input_label))/4,\n",
    "                            torch.zeros(1).cuda()\n",
    "                          )\n",
    "\n",
    "            return loss1,loss2,h_list"
   ]
  },
  {
   "cell_type": "code",
   "execution_count": 9,
   "metadata": {
    "ExecuteTime": {
     "end_time": "2021-05-31T11:48:13.294730Z",
     "start_time": "2021-05-31T11:48:02.304939Z"
    }
   },
   "outputs": [
    {
     "data": {
      "text/plain": [
       "Net(\n",
       "  (layers): ModuleList(\n",
       "    (0): Linear(in_features=30, out_features=12, bias=True)\n",
       "    (1): Linear(in_features=12, out_features=1, bias=True)\n",
       "  )\n",
       ")"
      ]
     },
     "execution_count": 9,
     "metadata": {},
     "output_type": "execute_result"
    }
   ],
   "source": [
    "random.seed(2000)\n",
    "torch.manual_seed(256)\n",
    "net  = Net()\n",
    "net.apply(weight_init)\n",
    "\n",
    "net = torch.load(\"save/Deep_learning_small_11_4\")\n",
    "net.to(dev)"
   ]
  },
  {
   "cell_type": "code",
   "execution_count": 10,
   "metadata": {
    "ExecuteTime": {
     "end_time": "2021-05-31T11:48:13.310689Z",
     "start_time": "2021-05-31T11:48:13.296725Z"
    },
    "run_control": {
     "marked": true
    }
   },
   "outputs": [],
   "source": [
    "#optimizer = opt.RMSprop(net.parameters(), lr=0.00001)\n",
    "#optimizer = opt.SGD(net.parameters(), lr=0.00001)\n",
    "optimizer = opt.Adam(net.parameters(), lr=0.00001)\n",
    "\n",
    "batch_size = 64\n",
    "echo = 0"
   ]
  },
  {
   "cell_type": "code",
   "execution_count": 11,
   "metadata": {
    "ExecuteTime": {
     "end_time": "2021-05-31T11:48:13.326645Z",
     "start_time": "2021-05-31T11:48:13.313681Z"
    }
   },
   "outputs": [],
   "source": [
    "target_order = \"supervised\"\n",
    "for iteration in range(int(echo)):\n",
    "    # offender_types = []\n",
    "    # defender_types = []\n",
    "    \n",
    "    \n",
    "    X_train_list = []\n",
    "    temp_number = 0\n",
    "    total_batch_loss = 0 \n",
    "    while(temp_number<len(training_data)-1):\n",
    "        loss_sum = 0\n",
    "        denominator = 0\n",
    "        for index in range(temp_number, min(batch_size+temp_number,len(training_data))):\n",
    "            h_loss = net(training_data[index],training_label[index],training_supervised_label[index])\n",
    "            denominator += 1\n",
    "            loss_sum += h_loss\n",
    "            \n",
    "        loss = (loss_sum) / denominator \n",
    "        total_batch_loss +=float(loss_sum)\n",
    "        optimizer.zero_grad()\n",
    "        \n",
    "        loss.backward()\n",
    "        \n",
    "        optimizer.step()\n",
    "        \n",
    "        temp_number = index\n",
    "        \n",
    "        if(random.random()<=0.01):\n",
    "            print(temp_number,loss,float(loss_sum))\n",
    "\n",
    "\n",
    "    print(\"batch iteration\", iteration)\n",
    "    print(\"batch_loss: %.2f \" % (total_batch_loss/len(training_data)))\n",
    "    \n",
    "    print()\n",
    "    print()"
   ]
  },
  {
   "cell_type": "code",
   "execution_count": 12,
   "metadata": {
    "ExecuteTime": {
     "end_time": "2021-05-31T11:48:44.976901Z",
     "start_time": "2021-05-31T11:48:13.328640Z"
    }
   },
   "outputs": [
    {
     "name": "stdout",
     "output_type": "stream",
     "text": [
      "3.355390225591033 2.9398505091667175 0.4155397164243153\n"
     ]
    }
   ],
   "source": [
    "denominator = 0\n",
    "result_list = []\n",
    "for index in range(len(testing_data)):\n",
    "    h_list = []\n",
    "    for i in range(Agent_number_n):\n",
    "        h = net.calculate(torch.tensor(testing_data[index][i]).cuda().type(torch.float32))\n",
    "        h_list.append(float(h))\n",
    "    \n",
    "    #print(sum(h_list),h_list,sum(h_list)/testing_label[index])\n",
    "    result_list.append(sum(h_list)/testing_label[index])\n",
    "    \n",
    "\n",
    "print(max(result_list),min(result_list),max(result_list)-min(result_list))"
   ]
  },
  {
   "cell_type": "code",
   "execution_count": 13,
   "metadata": {
    "ExecuteTime": {
     "end_time": "2021-05-31T11:48:46.187547Z",
     "start_time": "2021-05-31T11:48:44.978897Z"
    }
   },
   "outputs": [
    {
     "data": {
      "image/png": "[encoded data removed]",
      "text/plain": [
       "<Figure size 432x288 with 1 Axes>"
      ]
     },
     "metadata": {
      "needs_background": "light"
     },
     "output_type": "display_data"
    }
   ],
   "source": [
    "plt.hist(result_list,bins=500)\n",
    "\n",
    "plt.title(\"Means\", y=1.015, fontsize=20)\n",
    "plt.axvline(x=sum(result_list)/len(result_list), linestyle='--', linewidth=2.5, label=\"sample mean\", c='orange')\n",
    "plt.xlabel(\"samples\", labelpad=14)\n",
    "plt.ylabel(\"frequency of occurence\", labelpad=14)\n",
    "plt.legend();\n",
    "\n",
    "result_list.sort()\n",
    "\n",
    "plt.axvline(x=result_list[int(len(result_list)*0.01)], linestyle='--', linewidth=0.5, label=\"1%\", c='b')\n",
    "plt.axvline(x=result_list[int(len(result_list)*0.99)], linestyle='--', linewidth=0.5, label=\"99%\", c='r')\n",
    "\n",
    "\n",
    "plt.show()"
   ]
  },
  {
   "cell_type": "code",
   "execution_count": 14,
   "metadata": {
    "ExecuteTime": {
     "end_time": "2021-05-31T11:48:46.359805Z",
     "start_time": "2021-05-31T11:48:46.188545Z"
    }
   },
   "outputs": [],
   "source": [
    "torch.save(net, \"save/Deep_learning_small_11_4\")"
   ]
  },
  {
   "cell_type": "code",
   "execution_count": 15,
   "metadata": {
    "ExecuteTime": {
     "end_time": "2021-05-31T11:48:46.375754Z",
     "start_time": "2021-05-31T11:48:46.361764Z"
    }
   },
   "outputs": [],
   "source": [
    "#optimizer = opt.RMSprop(net.parameters(), lr=0.00001)\n",
    "#optimizer = opt.SGD(net.parameters(), lr=0.00005)\n",
    "optimizer = opt.Adam(net.parameters(), lr=0.0001)\n",
    "\n",
    "batch_size = 64\n",
    "echo = 1"
   ]
  },
  {
   "cell_type": "code",
   "execution_count": 16,
   "metadata": {
    "ExecuteTime": {
     "end_time": "2021-05-31T12:37:33.832611Z",
     "start_time": "2021-05-31T11:48:46.377721Z"
    }
   },
   "outputs": [
    {
     "name": "stdout",
     "output_type": "stream",
     "text": [
      "3024 tensor([3.0146e-05], device='cuda:0', grad_fn=<DivBackward0>) 0.001929346937686205 0.0\n",
      "4347 tensor([0.], device='cuda:0', grad_fn=<DivBackward0>) 0.0 0.0\n",
      "8883 tensor([0.], device='cuda:0', grad_fn=<DivBackward0>) 0.0 0.0\n",
      "13104 tensor([0.], device='cuda:0', grad_fn=<DivBackward0>) 0.0 0.0\n",
      "16128 tensor([7.4135e-05], device='cuda:0', grad_fn=<DivBackward0>) 0.0036494077648967505 0.0010952474549412727\n",
      "25011 tensor([4.6564e-05], device='cuda:0', grad_fn=<DivBackward0>) 0.0029800781048834324 0.0\n",
      "35091 tensor([0.], device='cuda:0', grad_fn=<DivBackward0>) 0.0 0.0\n",
      "36351 tensor([8.9879e-05], device='cuda:0', grad_fn=<DivBackward0>) 0.0 0.005752229131758213\n",
      "36666 tensor([2.7944e-06], device='cuda:0', grad_fn=<DivBackward0>) 1.272164809051901e-07 0.00017871326417662203\n",
      "56007 tensor([1.5768e-05], device='cuda:0', grad_fn=<DivBackward0>) 0.0 0.0010091353906318545\n",
      "68103 tensor([0.], device='cuda:0', grad_fn=<DivBackward0>) 0.0 0.0\n",
      "68166 tensor([0.], device='cuda:0', grad_fn=<DivBackward0>) 0.0 0.0\n",
      "80010 tensor([2.9170e-05], device='cuda:0', grad_fn=<DivBackward0>) 0.0 0.0018669109558686614\n",
      "82026 tensor([3.2054e-06], device='cuda:0', grad_fn=<DivBackward0>) 0.0 0.00020514817151706666\n",
      "85680 tensor([0.], device='cuda:0', grad_fn=<DivBackward0>) 0.0 0.0\n",
      "85869 tensor([0.], device='cuda:0', grad_fn=<DivBackward0>) 0.0 0.0\n",
      "94878 tensor([0.], device='cuda:0', grad_fn=<DivBackward0>) 0.0 0.0\n",
      "batch iteration 0\n",
      "batch_loss: 0.00 \n",
      "\n",
      "\n"
     ]
    }
   ],
   "source": [
    "target_order = \"unsupervised\"\n",
    "for iteration in range(int(echo)):\n",
    "    # offender_types = []\n",
    "    # defender_types = []\n",
    "    \n",
    "    \n",
    "    X_train_list = []\n",
    "    temp_number = 0\n",
    "    total_batch_loss = 0 \n",
    "    while(temp_number<len(training_data)-1):\n",
    "        \n",
    "        loss2_list = []\n",
    "        loss1_sum = 0\n",
    "        loss2_sum = 0\n",
    "        denominator = 0\n",
    "        for index in range(temp_number, min(batch_size+temp_number,len(training_data))):\n",
    "            h_loss1,h_loss2,h_list = net(training_data[index],training_label[index],0)\n",
    "            denominator += 1\n",
    "            loss1_sum += h_loss1\n",
    "            loss2_sum += h_loss2\n",
    "            \n",
    "        loss_sum = loss1_sum + loss2_sum\n",
    "        loss = (loss_sum) / denominator \n",
    "        total_batch_loss +=float(loss_sum)\n",
    "        optimizer.zero_grad()\n",
    "        \n",
    "        loss.backward()\n",
    "        \n",
    "        optimizer.step()\n",
    "        \n",
    "        temp_number = index\n",
    "        \n",
    "        if(random.random()<=0.01):\n",
    "            print(temp_number,loss,float(loss1_sum),float(loss2_sum))\n",
    "\n",
    "\n",
    "    print(\"batch iteration\", iteration)\n",
    "    print(\"batch_loss: %.2f \" % (total_batch_loss/len(training_data)))\n",
    "    \n",
    "    print()\n",
    "    print()"
   ]
  },
  {
   "cell_type": "code",
   "execution_count": 17,
   "metadata": {
    "ExecuteTime": {
     "end_time": "2021-05-31T12:37:33.848635Z",
     "start_time": "2021-05-31T12:37:33.833590Z"
    }
   },
   "outputs": [],
   "source": [
    "torch.save(net, \"save/Deep_learning_small_11_4\")"
   ]
  },
  {
   "cell_type": "code",
   "execution_count": 18,
   "metadata": {
    "ExecuteTime": {
     "end_time": "2021-05-31T12:38:02.757968Z",
     "start_time": "2021-05-31T12:37:33.850630Z"
    }
   },
   "outputs": [
    {
     "name": "stdout",
     "output_type": "stream",
     "text": [
      "3.3046436638194807 2.956053906168955 0.3485897576505259\n"
     ]
    }
   ],
   "source": [
    "denominator = 0\n",
    "result_list = []\n",
    "for index in range(len(testing_data)):\n",
    "    h_list = []\n",
    "    for i in range(Agent_number_n):\n",
    "        h = net.calculate(torch.tensor(testing_data[index][i]).cuda().type(torch.float32))\n",
    "        h_list.append(float(h))\n",
    "    \n",
    "    #print(sum(h_list),h_list,sum(h_list)/testing_label[index])\n",
    "    result_list.append(sum(h_list)/testing_label[index])\n",
    "    \n",
    "\n",
    "print(max(result_list),min(result_list),max(result_list)-min(result_list))"
   ]
  },
  {
   "cell_type": "code",
   "execution_count": 19,
   "metadata": {
    "ExecuteTime": {
     "end_time": "2021-05-31T12:38:03.743264Z",
     "start_time": "2021-05-31T12:38:02.757968Z"
    }
   },
   "outputs": [
    {
     "data": {
      "image/png": "[encoded data removed]",
      "text/plain": [
       "<Figure size 432x288 with 1 Axes>"
      ]
     },
     "metadata": {
      "needs_background": "light"
     },
     "output_type": "display_data"
    }
   ],
   "source": [
    "plt.hist(result_list,bins=500)\n",
    "\n",
    "plt.title(\"Means\", y=1.015, fontsize=20)\n",
    "plt.axvline(x=sum(result_list)/len(result_list), linestyle='--', linewidth=2.5, label=\"sample mean\", c='orange')\n",
    "plt.xlabel(\"samples\", labelpad=14)\n",
    "plt.ylabel(\"frequency of occurence\", labelpad=14)\n",
    "plt.legend();\n",
    "\n",
    "result_list.sort()\n",
    "\n",
    "plt.axvline(x=result_list[int(len(result_list)*0.01)], linestyle='--', linewidth=0.5, label=\"1%\", c='b')\n",
    "plt.axvline(x=result_list[int(len(result_list)*0.99)], linestyle='--', linewidth=0.5, label=\"99%\", c='r')\n",
    "\n",
    "\n",
    "plt.show()"
   ]
  },
  {
   "cell_type": "code",
   "execution_count": 20,
   "metadata": {
    "ExecuteTime": {
     "end_time": "2021-05-31T12:38:03.789590Z",
     "start_time": "2021-05-31T12:38:03.743264Z"
    }
   },
   "outputs": [
    {
     "name": "stdout",
     "output_type": "stream",
     "text": [
      "Parameter containing:\n",
      "tensor([[-4.4376e-02,  1.4949e-01,  8.9019e-02,  4.9592e-02,  2.3903e-01,\n",
      "          2.0930e-01, -1.9564e-01,  1.7375e-01,  2.8820e-01, -1.5000e-01,\n",
      "         -1.1337e-01, -7.7505e-02,  2.4214e-01,  9.2772e-02,  1.2188e-01,\n",
      "          2.7444e-01,  4.9540e-03,  1.4098e-01,  2.9724e-01,  6.0616e-01,\n",
      "         -1.3000e-01,  3.7671e-01,  6.9905e-02,  3.1993e-02,  4.1458e-01,\n",
      "          3.7903e-01,  1.1471e-01, -4.1089e-01, -1.6579e-01, -1.9116e-01],\n",
      "        [ 1.3029e-01, -2.4615e-01,  3.5575e-02,  1.4505e-01,  1.3492e-01,\n",
      "          1.8130e-02,  2.1802e-01, -1.0403e-01,  2.9017e-01, -1.4932e-02,\n",
      "          5.1234e-01,  3.9790e-02, -2.7094e-01,  2.5772e-01, -1.4960e-01,\n",
      "          1.1496e-01, -2.2416e-01,  1.2500e-02,  1.0629e-01,  1.9420e-02,\n",
      "          2.8879e-01, -1.0208e-01, -1.0847e-01,  2.7322e-01,  1.2263e-01,\n",
      "         -1.9220e-01, -1.7812e-01,  5.6654e-02,  6.9538e-02, -1.4677e-01],\n",
      "        [ 9.9703e-02,  2.1075e-01, -2.4778e-01, -1.2748e-01,  6.9381e-02,\n",
      "          1.1493e-01,  1.8413e-01,  2.3885e-01, -2.5229e-01,  1.5881e-01,\n",
      "          4.3564e-01, -6.6591e-03,  2.7860e-01, -6.1004e-02, -2.3086e-01,\n",
      "          1.2416e-01,  1.2589e-01, -6.3659e-02, -2.2645e-01, -3.7609e-02,\n",
      "          2.3742e-01,  2.0144e-01,  1.4223e-01,  2.2593e-01, -1.2281e-01,\n",
      "         -3.0747e-02,  4.8688e-01,  2.6715e-01,  1.2426e-01,  5.6080e-02],\n",
      "        [ 1.7827e-02,  1.1423e-01, -2.4564e-01,  1.1248e-02,  2.2868e-01,\n",
      "          1.0858e-01, -6.7860e-02, -1.1557e-01,  5.4463e-02, -3.1763e-02,\n",
      "          1.0047e-01,  4.1548e-02,  8.8215e-02,  1.5045e-01, -5.2422e-01,\n",
      "         -3.4767e-02,  1.8471e-01, -1.8063e-01, -1.9039e-01, -1.2625e-01,\n",
      "          2.0323e-01, -1.1498e-02, -4.9990e-02,  4.5449e-02,  2.4735e-01,\n",
      "         -2.6030e-01, -6.6724e-02, -1.0399e-01,  2.6390e-01, -1.0167e-02],\n",
      "        [-1.8313e-01, -1.5480e-01, -7.4678e-02,  2.5708e-01,  1.6111e-01,\n",
      "          2.5933e-01,  2.0709e-02,  1.7447e-01,  3.9948e-02,  4.1320e-02,\n",
      "         -2.5419e-01, -2.6714e-01, -1.0777e-02, -8.8502e-02, -1.4412e-01,\n",
      "         -2.2663e-01,  1.3019e-02, -3.2353e-01, -3.5621e-01,  6.8637e-02,\n",
      "         -1.6798e-01, -2.2087e-01,  6.5341e-02, -2.2765e-01, -2.6603e-01,\n",
      "          3.6171e-01,  6.4667e-02,  2.0770e-02, -3.3801e-01,  1.2088e-01],\n",
      "        [-1.6032e-01,  2.9017e-01, -4.6386e-01, -1.0617e-01, -2.3002e-01,\n",
      "          2.5845e-01, -1.0161e-01, -5.5148e-02, -2.6390e-02, -2.3107e-01,\n",
      "         -2.5547e-01, -1.9316e-01, -5.5164e-02,  1.2254e-01, -3.7837e-01,\n",
      "          3.5120e-01,  8.3840e-02,  1.5801e-01, -3.1636e-01,  6.4327e-02,\n",
      "          1.5691e-01, -8.5028e-02, -2.6428e-02,  2.1366e-02,  2.6348e-01,\n",
      "         -1.0626e-02, -1.0592e-01, -4.6603e-02, -1.9683e-01, -5.5606e-02],\n",
      "        [-3.3892e-01, -3.6482e-03,  8.1903e-02,  6.2951e-02, -4.3965e-01,\n",
      "         -8.3179e-02, -2.2350e-01,  5.2122e-02,  2.1360e-01,  1.9959e-01,\n",
      "         -1.3152e-01,  1.3706e-01,  5.5151e-02,  2.8234e-01, -2.6701e-01,\n",
      "          4.6707e-01,  8.9593e-02,  2.4711e-01, -2.3045e-02,  1.2828e-02,\n",
      "         -3.0435e-01,  1.7645e-01,  5.9614e-02,  9.5689e-02,  1.8638e-01,\n",
      "          6.1353e-02, -2.8691e-01,  9.2176e-02,  1.8034e-01, -4.0589e-02],\n",
      "        [ 6.0131e-02,  1.6910e-01,  1.7060e-01, -1.2297e-03, -4.9843e-02,\n",
      "          1.6887e-01, -2.2247e-01, -1.8685e-01,  1.2925e-02,  8.8504e-02,\n",
      "          2.0693e-01,  5.7589e-02, -6.3432e-02,  5.0029e-02,  2.5384e-01,\n",
      "         -8.7033e-02,  4.7328e-01,  2.5869e-01,  3.1181e-01,  1.0432e-01,\n",
      "          8.6407e-02, -1.3455e-01, -8.8744e-02, -2.3067e-01,  2.7603e-01,\n",
      "          2.8557e-01, -2.5902e-01,  1.2810e-01, -2.1518e-01,  3.1970e-01],\n",
      "        [ 4.8745e-01,  5.6721e-02,  1.5979e-01, -5.0061e-02,  2.6321e-01,\n",
      "          6.3383e-01,  6.0875e-01, -2.2246e-01, -2.3596e-01,  6.5623e-02,\n",
      "         -4.5004e-02,  5.8250e-02, -1.0933e-01, -1.2876e-01, -5.8565e-01,\n",
      "          2.6956e-02, -4.6451e-01,  1.3855e-02,  3.4195e-01, -3.3362e-01,\n",
      "         -2.2959e-01,  1.5933e-01,  5.9832e-02,  2.5058e-01, -9.8287e-02,\n",
      "         -3.1093e-01,  1.9483e-01,  3.5523e-02, -1.2630e-01, -2.0884e-01],\n",
      "        [ 9.2568e-03, -1.4604e-01, -1.7055e-02, -2.7401e-01,  1.8783e-02,\n",
      "         -5.5473e-02,  2.2004e-02, -8.5954e-02,  1.1503e-01, -1.8321e-01,\n",
      "         -9.1624e-02, -1.5119e-01,  2.6090e-01, -1.4855e-01, -2.1507e-01,\n",
      "         -5.5927e-02, -6.6962e-02, -2.4019e-01, -1.0007e-01, -1.2594e-01,\n",
      "          1.0511e-05,  1.2494e-01,  1.7803e-01, -5.2231e-02, -2.8546e-01,\n",
      "         -5.5756e-01, -2.9231e-02,  1.3020e-01,  1.7074e-01,  1.5488e-01],\n",
      "        [-9.2383e-02, -2.5519e-01, -2.3040e-01, -1.6119e-02,  1.1573e-01,\n",
      "          2.4568e-01,  3.8792e-01,  9.5204e-02,  1.8526e-01,  9.8169e-02,\n",
      "         -9.5541e-02,  2.9616e-01,  2.2477e-01,  3.5282e-01,  1.4203e-01,\n",
      "          3.2443e-01, -9.2496e-02,  1.3535e-03,  2.7159e-01,  1.0766e-01,\n",
      "          3.6935e-02,  3.9666e-01,  3.4028e-01,  2.2088e-02, -7.6030e-02,\n",
      "         -1.8044e-01, -8.6055e-02, -2.5746e-01,  4.4606e-01, -2.1037e-02],\n",
      "        [ 2.3865e-01, -3.7368e-02, -3.4941e-01,  1.8496e-02,  3.2533e-01,\n",
      "          1.1473e-01,  2.1287e-01, -3.1623e-02,  3.0017e-01, -1.1926e-01,\n",
      "          9.2079e-02, -6.3728e-02,  3.4289e-01, -9.0552e-02,  2.7729e-01,\n",
      "         -1.6864e-01, -1.0595e-01,  3.6878e-01,  2.2363e-01, -5.6840e-01,\n",
      "         -2.5758e-01,  5.0636e-02,  2.7068e-01,  7.4776e-02,  2.0600e-01,\n",
      "         -6.0565e-02, -1.3289e-02,  2.4016e-01, -7.2936e-02,  1.0543e-01]],\n",
      "       device='cuda:0', requires_grad=True)\n",
      "Parameter containing:\n",
      "tensor([-0.0124,  0.0683,  0.0615,  0.0089, -0.0294,  0.0544, -0.0002,  0.1191,\n",
      "         0.0524, -0.1678,  0.0294,  0.0283], device='cuda:0',\n",
      "       requires_grad=True)\n",
      "Parameter containing:\n",
      "tensor([[ 0.0822,  0.2800,  0.4272, -0.1160, -0.3016, -0.1558, -0.1064,  0.2691,\n",
      "         -0.1285, -0.1072,  0.2156,  0.1385]], device='cuda:0',\n",
      "       requires_grad=True)\n",
      "Parameter containing:\n",
      "tensor([0.0631], device='cuda:0', requires_grad=True)\n"
     ]
    }
   ],
   "source": [
    "for param in net.parameters():\n",
    "    print(param )"
   ]
  }
 ],
 "metadata": {
  "hide_input": false,
  "kernelspec": {
   "display_name": "Python 3",
   "language": "python",
   "name": "python3"
  },
  "language_info": {
   "codemirror_mode": {
    "name": "ipython",
    "version": 3
   },
   "file_extension": ".py",
   "mimetype": "text/x-python",
   "name": "python",
   "nbconvert_exporter": "python",
   "pygments_lexer": "ipython3",
   "version": "3.8.3"
  },
  "varInspector": {
   "cols": {
    "lenName": 16,
    "lenType": 16,
    "lenVar": 40
   },
   "kernels_config": {
    "python": {
     "delete_cmd_postfix": "",
     "delete_cmd_prefix": "del ",
     "library": "var_list.py",
     "varRefreshCmd": "print(var_dic_list())"
    },
    "r": {
     "delete_cmd_postfix": ") ",
     "delete_cmd_prefix": "rm(",
     "library": "var_list.r",
     "varRefreshCmd": "cat(var_dic_list()) "
    }
   },
   "types_to_exclude": [
    "module",
    "function",
    "builtin_function_or_method",
    "instance",
    "_Feature"
   ],
   "window_display": false
  }
 },
 "nbformat": 4,
 "nbformat_minor": 4
}
