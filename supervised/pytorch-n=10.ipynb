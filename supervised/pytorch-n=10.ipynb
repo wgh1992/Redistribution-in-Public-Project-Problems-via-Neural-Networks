{
 "cells": [
  {
   "cell_type": "code",
   "execution_count": 1,
   "metadata": {
    "ExecuteTime": {
     "end_time": "2021-05-23T02:59:54.947291Z",
     "start_time": "2021-05-23T02:59:53.510895Z"
    }
   },
   "outputs": [
    {
     "name": "stdout",
     "output_type": "stream",
     "text": [
      "pygame 2.0.1 (SDL 2.0.14, Python 3.8.3)\n",
      "Hello from the pygame community. https://www.pygame.org/contribute.html\n",
      "cuda:0\n"
     ]
    },
    {
     "name": "stderr",
     "output_type": "stream",
     "text": [
      "D:\\ComputerSoftwares\\Anaconda\\lib\\site-packages\\sklearn\\utils\\deprecation.py:143: FutureWarning: The sklearn.datasets.samples_generator module is  deprecated in version 0.22 and will be removed in version 0.24. The corresponding classes / functions should instead be imported from sklearn.datasets. Anything that cannot be imported from sklearn.datasets is now part of the private API.\n",
      "  warnings.warn(message, FutureWarning)\n"
     ]
    }
   ],
   "source": [
    "\n",
    "import pygame\n",
    "import random\n",
    "import os\n",
    "import time\n",
    "import numpy as np\n",
    "import math\n",
    "import torch\n",
    "import torch.nn.functional\n",
    "import matplotlib.pyplot as plt\n",
    "import torch.optim as opt\n",
    "from torch.autograd import Variable\n",
    "from sklearn.model_selection import train_test_split\n",
    "\n",
    "import scipy.stats as st\n",
    "from sklearn.datasets.samples_generator import make_blobs\n",
    "from matplotlib.colors import LogNorm \n",
    "import matplotlib.cm as cm\n",
    "import torch.nn as nn\n",
    "import numpy as np\n",
    "import matplotlib.pyplot as plt\n",
    "\n",
    "\n",
    "if torch.cuda.is_available():  \n",
    "    dev = \"cuda:0\" \n",
    "else:  \n",
    "    dev = \"cpu\"  \n",
    "\n",
    "print(dev)\n"
   ]
  },
  {
   "cell_type": "code",
   "execution_count": 2,
   "metadata": {
    "ExecuteTime": {
     "end_time": "2021-05-23T02:59:54.953791Z",
     "start_time": "2021-05-23T02:59:54.948287Z"
    }
   },
   "outputs": [],
   "source": [
    "global target_order\n",
    "target_order = \"supervised\"\n",
    "global temp_list\n",
    "temp_list = []\n",
    "Agent_number_n=10;\n",
    "Alpha = 0.882;\n",
    "\n"
   ]
  },
  {
   "cell_type": "code",
   "execution_count": 3,
   "metadata": {
    "ExecuteTime": {
     "end_time": "2021-05-23T03:00:03.958098Z",
     "start_time": "2021-05-23T02:59:54.956082Z"
    }
   },
   "outputs": [
    {
     "name": "stdout",
     "output_type": "stream",
     "text": [
      "[[[0.96356285 0.80680199 0.69228951 ... 0.22405136 0.20437243 0.16439282]\n",
      "  [0.97752099 0.80680199 0.69228951 ... 0.22405136 0.20437243 0.16439282]\n",
      "  [0.97752099 0.96356285 0.69228951 ... 0.22405136 0.20437243 0.16439282]\n",
      "  ...\n",
      "  [0.97752099 0.96356285 0.80680199 ... 0.28253571 0.20437243 0.16439282]\n",
      "  [0.97752099 0.96356285 0.80680199 ... 0.28253571 0.22405136 0.16439282]\n",
      "  [0.97752099 0.96356285 0.80680199 ... 0.28253571 0.22405136 0.20437243]]\n",
      "\n",
      " [[0.89927286 0.75587668 0.45248054 ... 0.10261339 0.07926119 0.01983747]\n",
      "  [0.96299902 0.75587668 0.45248054 ... 0.10261339 0.07926119 0.01983747]\n",
      "  [0.96299902 0.89927286 0.45248054 ... 0.10261339 0.07926119 0.01983747]\n",
      "  ...\n",
      "  [0.96299902 0.89927286 0.75587668 ... 0.15751695 0.07926119 0.01983747]\n",
      "  [0.96299902 0.89927286 0.75587668 ... 0.15751695 0.10261339 0.01983747]\n",
      "  [0.96299902 0.89927286 0.75587668 ... 0.15751695 0.10261339 0.07926119]]\n",
      "\n",
      " [[0.86770564 0.78705156 0.70481082 ... 0.18136823 0.11815983 0.05282368]\n",
      "  [0.91253788 0.78705156 0.70481082 ... 0.18136823 0.11815983 0.05282368]\n",
      "  [0.91253788 0.86770564 0.70481082 ... 0.18136823 0.11815983 0.05282368]\n",
      "  ...\n",
      "  [0.91253788 0.86770564 0.78705156 ... 0.46387989 0.11815983 0.05282368]\n",
      "  [0.91253788 0.86770564 0.78705156 ... 0.46387989 0.18136823 0.05282368]\n",
      "  [0.91253788 0.86770564 0.78705156 ... 0.46387989 0.18136823 0.11815983]]\n",
      "\n",
      " ...\n",
      "\n",
      " [[0.93200119 0.77724779 0.64168091 ... 0.17245312 0.08068299 0.03624606]\n",
      "  [0.97592836 0.77724779 0.64168091 ... 0.17245312 0.08068299 0.03624606]\n",
      "  [0.97592836 0.93200119 0.64168091 ... 0.17245312 0.08068299 0.03624606]\n",
      "  ...\n",
      "  [0.97592836 0.93200119 0.77724779 ... 0.26153142 0.08068299 0.03624606]\n",
      "  [0.97592836 0.93200119 0.77724779 ... 0.26153142 0.17245312 0.03624606]\n",
      "  [0.97592836 0.93200119 0.77724779 ... 0.26153142 0.17245312 0.08068299]]\n",
      "\n",
      " [[0.91890799 0.90315932 0.87115799 ... 0.54348484 0.38537683 0.01829623]\n",
      "  [0.97134593 0.90315932 0.87115799 ... 0.54348484 0.38537683 0.01829623]\n",
      "  [0.97134593 0.91890799 0.87115799 ... 0.54348484 0.38537683 0.01829623]\n",
      "  ...\n",
      "  [0.97134593 0.91890799 0.90315932 ... 0.7247278  0.38537683 0.01829623]\n",
      "  [0.97134593 0.91890799 0.90315932 ... 0.7247278  0.54348484 0.01829623]\n",
      "  [0.97134593 0.91890799 0.90315932 ... 0.7247278  0.54348484 0.38537683]]\n",
      "\n",
      " [[0.89578379 0.89246702 0.70548708 ... 0.08325699 0.06554716 0.00513255]\n",
      "  [0.92347033 0.89246702 0.70548708 ... 0.08325699 0.06554716 0.00513255]\n",
      "  [0.92347033 0.89578379 0.70548708 ... 0.08325699 0.06554716 0.00513255]\n",
      "  ...\n",
      "  [0.92347033 0.89578379 0.89246702 ... 0.17084413 0.06554716 0.00513255]\n",
      "  [0.92347033 0.89578379 0.89246702 ... 0.17084413 0.08325699 0.00513255]\n",
      "  [0.92347033 0.89578379 0.89246702 ... 0.17084413 0.08325699 0.06554716]]]\n",
      "[[[0.68234354 0.6716777  0.59037307 ... 0.24342741 0.10027398 0.01552952]\n",
      "  [0.72951229 0.6716777  0.59037307 ... 0.24342741 0.10027398 0.01552952]\n",
      "  [0.72951229 0.68234354 0.59037307 ... 0.24342741 0.10027398 0.01552952]\n",
      "  ...\n",
      "  [0.72951229 0.68234354 0.6716777  ... 0.27997644 0.10027398 0.01552952]\n",
      "  [0.72951229 0.68234354 0.6716777  ... 0.27997644 0.24342741 0.01552952]\n",
      "  [0.72951229 0.68234354 0.6716777  ... 0.27997644 0.24342741 0.10027398]]\n",
      "\n",
      " [[0.93888873 0.85581729 0.85401999 ... 0.33359052 0.31860499 0.18745892]\n",
      "  [0.9786156  0.85581729 0.85401999 ... 0.33359052 0.31860499 0.18745892]\n",
      "  [0.9786156  0.93888873 0.85401999 ... 0.33359052 0.31860499 0.18745892]\n",
      "  ...\n",
      "  [0.9786156  0.93888873 0.85581729 ... 0.39983508 0.31860499 0.18745892]\n",
      "  [0.9786156  0.93888873 0.85581729 ... 0.39983508 0.33359052 0.18745892]\n",
      "  [0.9786156  0.93888873 0.85581729 ... 0.39983508 0.33359052 0.31860499]]\n",
      "\n",
      " [[0.73399327 0.67441327 0.55690954 ... 0.22252622 0.17857464 0.13175611]\n",
      "  [0.7726021  0.67441327 0.55690954 ... 0.22252622 0.17857464 0.13175611]\n",
      "  [0.7726021  0.73399327 0.55690954 ... 0.22252622 0.17857464 0.13175611]\n",
      "  ...\n",
      "  [0.7726021  0.73399327 0.67441327 ... 0.31099612 0.17857464 0.13175611]\n",
      "  [0.7726021  0.73399327 0.67441327 ... 0.31099612 0.22252622 0.13175611]\n",
      "  [0.7726021  0.73399327 0.67441327 ... 0.31099612 0.22252622 0.17857464]]\n",
      "\n",
      " ...\n",
      "\n",
      " [[0.7973994  0.7666019  0.66214849 ... 0.33640376 0.30992374 0.20709993]\n",
      "  [0.8855185  0.7666019  0.66214849 ... 0.33640376 0.30992374 0.20709993]\n",
      "  [0.8855185  0.7973994  0.66214849 ... 0.33640376 0.30992374 0.20709993]\n",
      "  ...\n",
      "  [0.8855185  0.7973994  0.7666019  ... 0.38104799 0.30992374 0.20709993]\n",
      "  [0.8855185  0.7973994  0.7666019  ... 0.38104799 0.33640376 0.20709993]\n",
      "  [0.8855185  0.7973994  0.7666019  ... 0.38104799 0.33640376 0.30992374]]\n",
      "\n",
      " [[0.88830093 0.74570878 0.69769271 ... 0.57710375 0.43548864 0.13490501]\n",
      "  [0.89453508 0.74570878 0.69769271 ... 0.57710375 0.43548864 0.13490501]\n",
      "  [0.89453508 0.88830093 0.69769271 ... 0.57710375 0.43548864 0.13490501]\n",
      "  ...\n",
      "  [0.89453508 0.88830093 0.74570878 ... 0.61621993 0.43548864 0.13490501]\n",
      "  [0.89453508 0.88830093 0.74570878 ... 0.61621993 0.57710375 0.13490501]\n",
      "  [0.89453508 0.88830093 0.74570878 ... 0.61621993 0.57710375 0.43548864]]\n",
      "\n",
      " [[0.93185181 0.67111215 0.53110014 ... 0.20304414 0.02423755 0.01611544]\n",
      "  [0.93880991 0.67111215 0.53110014 ... 0.20304414 0.02423755 0.01611544]\n",
      "  [0.93880991 0.93185181 0.53110014 ... 0.20304414 0.02423755 0.01611544]\n",
      "  ...\n",
      "  [0.93880991 0.93185181 0.67111215 ... 0.23415358 0.02423755 0.01611544]\n",
      "  [0.93880991 0.93185181 0.67111215 ... 0.23415358 0.20304414 0.01611544]\n",
      "  [0.93880991 0.93185181 0.67111215 ... 0.23415358 0.20304414 0.02423755]]]\n",
      "[5.45984616 3.99104171 5.45579127 ... 4.76155525 6.99048488 4.98145332]\n",
      "[4.32331663 6.23027155 4.53542775 ... 5.20327942 6.2581763  4.1060866 ]\n"
     ]
    }
   ],
   "source": [
    "global temp_list\n",
    "temp_list = []\n",
    "def appen(_x_list,y):\n",
    "    global temp_list\n",
    "    temp_list.append(_x_list)\n",
    "    \n",
    "def appen_train(x_list):\n",
    "    global temp_list\n",
    "                \n",
    "    S= max(sum(x_list),1.0);\n",
    "    temp_list = []\n",
    "    \n",
    "    for i in range(Agent_number_n):\n",
    "        temp = []\n",
    "        for j in range(Agent_number_n):\n",
    "            if(i!=j):\n",
    "                temp.append(x_list[j])\n",
    "        appen(temp,S)\n",
    "    \n",
    "    training_data.append(temp_list)\n",
    "    training_label.append(S)\n",
    "    \n",
    "\n",
    "def read_training_data():\n",
    "    for i in range(100000):\n",
    "        appen_train(sorted(np.random.rand(Agent_number_n), reverse=True));\n",
    "\n",
    "training_data=[]\n",
    "training_label=[]\n",
    "S=1.0\n",
    "read_training_data();\n",
    "\n",
    "def appen_test(x_list):\n",
    "    global temp_list\n",
    "                \n",
    "    S= max(sum(x_list),1.0);\n",
    "    temp_list = []\n",
    "    \n",
    "    for i in range(Agent_number_n):\n",
    "        temp = []\n",
    "        for j in range(Agent_number_n):\n",
    "            if(i!=j):\n",
    "                temp.append(x_list[j])\n",
    "        appen(temp,S)\n",
    "    testing_data.append(temp_list)\n",
    "    testing_label.append(S)\n",
    "    \n",
    "\n",
    "def read_testing_data():\n",
    "#     devided=20\n",
    "#     for i1 in range(devided+1):\n",
    "#         for i2 in range(i1+1):\n",
    "#             for i3 in range(i2+1):\n",
    "#                 appen_test(i1/devided,i2/devided,i3/devided);\n",
    "    for i in range(100000):\n",
    "        appen_test(sorted(np.random.rand(Agent_number_n), reverse=True));\n",
    "                            \n",
    "\n",
    "testing_data=[]\n",
    "testing_label=[]\n",
    "S=1.0\n",
    "read_testing_data();\n",
    "\n",
    "training_data=np.array(training_data)\n",
    "training_label=np.array(training_label)\n",
    "testing_data=np.array(testing_data)\n",
    "testing_label=np.array(testing_label)\n",
    "print(training_data)\n",
    "print(testing_data)\n",
    "print(training_label)\n",
    "print(testing_label)"
   ]
  },
  {
   "cell_type": "code",
   "execution_count": 4,
   "metadata": {
    "ExecuteTime": {
     "end_time": "2021-05-23T03:06:37.781198Z",
     "start_time": "2021-05-23T03:00:03.958098Z"
    }
   },
   "outputs": [
    {
     "name": "stdout",
     "output_type": "stream",
     "text": [
      "9.147392536293822 8.999999999999995 0.1473925362938271\n"
     ]
    }
   ],
   "source": [
    "def h_3_star(a, b, t):\n",
    "    return a - min(a, t) + b - min(b, t) + max(min(a, t)+min(b, t), 2*t/3) + 1/2 * max(min(a, t)+min(b, t), t) - 1/2 * max(max(min(a, t), min(b, t)), 2*t/3) - t/6\n",
    "\n",
    "\n",
    "def f_function(a, b, z):\n",
    "    if(z >= 1):\n",
    "        return (a+b)/2 + z/3\n",
    "    else:\n",
    "        return z/3 + h_3_star(a, b, 1-z)/2\n",
    "\n",
    "def h_function(input_list):\n",
    "    #input_list = sorted(input_list)\n",
    "    g_list = []\n",
    "    for j1 in range(len(input_list) ):\n",
    "        for j2 in range(len(input_list)):\n",
    "            if(j1 != j2):\n",
    "                a = input_list[j1]\n",
    "                b = input_list[j2]\n",
    "                z = sum(input_list)- a-b\n",
    "\n",
    "                g_list.append( f_function(a, b, z) * (Agent_number_n-1))\n",
    "    h = sum(g_list) * 3 /  (Agent_number_n) /  (Agent_number_n-1) /  (Agent_number_n - 2)\n",
    "    return h\n",
    "                \n",
    "                \n",
    "x_list = []\n",
    "y_list = []\n",
    "z_list = []\n",
    "result_list = []\n",
    "training_supervised_label=[]\n",
    "for index in range(len(training_data)):\n",
    "    h_list = []\n",
    "    for i in range(Agent_number_n):\n",
    "        x_list.append(training_data[index][i][0])\n",
    "        y_list.append(training_data[index][i][1])\n",
    "        h = h_function(training_data[index][i])\n",
    "        z_list.append(float(h))\n",
    "        h_list.append(float(h))\n",
    "    training_supervised_label.append(h_list)\n",
    "    result_list.append(sum(h_list)/training_label[index]) \n",
    "    \n",
    "    \n",
    "print(max(result_list), min(result_list), max(result_list)-min(result_list))"
   ]
  },
  {
   "cell_type": "code",
   "execution_count": 5,
   "metadata": {
    "ExecuteTime": {
     "end_time": "2021-05-23T03:06:38.717353Z",
     "start_time": "2021-05-23T03:06:37.783168Z"
    }
   },
   "outputs": [
    {
     "data": {
      "image/png": "[encoded data removed]",
      "text/plain": [
       "<Figure size 432x288 with 1 Axes>"
      ]
     },
     "metadata": {
      "needs_background": "light"
     },
     "output_type": "display_data"
    }
   ],
   "source": [
    "plt.hist(result_list,bins=500)\n",
    "\n",
    "plt.title(\"Means\", y=1.015, fontsize=20)\n",
    "plt.axvline(x=sum(result_list)/len(result_list), linestyle='--', linewidth=2.5, label=\"sample mean\", c='orange')\n",
    "plt.xlabel(\"samples\", labelpad=14)\n",
    "plt.ylabel(\"frequency of occurence\", labelpad=14)\n",
    "plt.legend();\n",
    "\n",
    "result_list.sort()\n",
    "\n",
    "plt.axvline(x=result_list[int(len(result_list)*0.01)], linestyle='--', linewidth=0.5, label=\"1%\", c='b')\n",
    "plt.axvline(x=result_list[int(len(result_list)*0.99)], linestyle='--', linewidth=0.5, label=\"99%\", c='r')\n",
    "\n",
    "\n",
    "plt.show()"
   ]
  },
  {
   "cell_type": "code",
   "execution_count": 6,
   "metadata": {
    "ExecuteTime": {
     "end_time": "2021-05-23T03:06:38.889764Z",
     "start_time": "2021-05-23T03:06:38.718351Z"
    }
   },
   "outputs": [
    {
     "name": "stdout",
     "output_type": "stream",
     "text": [
      "[[4.48232517 4.49628331 4.65304416 ... 5.2357948  5.25547373 5.29545334]\n",
      " [3.02804268 3.09176885 3.23516502 ... 3.88842832 3.91178051 3.97120423]\n",
      " [4.54325339 4.58808563 4.66873971 ... 5.27442305 5.33763144 5.40296759]\n",
      " ...\n",
      " [3.78562689 3.82955407 3.98430746 ... 4.58910214 4.68087227 4.72530919]\n",
      " [6.01913895 6.07157689 6.08732556 ... 6.44700004 6.60510805 6.97218866]\n",
      " [4.057983   4.08566953 4.0889863  ... 4.89819633 4.91590616 4.97632077]]\n"
     ]
    }
   ],
   "source": [
    "training_supervised_label=np.array(training_supervised_label)\n",
    "print(training_supervised_label)"
   ]
  },
  {
   "cell_type": "code",
   "execution_count": 7,
   "metadata": {
    "ExecuteTime": {
     "end_time": "2021-05-23T03:06:38.905761Z",
     "start_time": "2021-05-23T03:06:38.891759Z"
    }
   },
   "outputs": [
    {
     "name": "stdout",
     "output_type": "stream",
     "text": [
      "cuda:0\n"
     ]
    }
   ],
   "source": [
    "if torch.cuda.is_available():  \n",
    "    dev = \"cuda:0\" \n",
    "else:  \n",
    "    dev = \"cpu\"  \n",
    "\n",
    "print(dev)\n"
   ]
  },
  {
   "cell_type": "code",
   "execution_count": 8,
   "metadata": {
    "ExecuteTime": {
     "end_time": "2021-05-23T03:06:38.921680Z",
     "start_time": "2021-05-23T03:06:38.907718Z"
    },
    "run_control": {
     "marked": true
    }
   },
   "outputs": [],
   "source": [
    "def weight_init(m):\n",
    "    if isinstance(m, torch.nn.Conv2d):\n",
    "        torch.nn.init.xavier_normal_(m.weight)\n",
    "        torch.nn.init.zeros_(m.bias)\n",
    "    elif isinstance(m, torch.nn.Linear):\n",
    "        torch.nn.init.xavier_normal_(m.weight)\n",
    "        torch.nn.init.zeros_(m.bias)\n",
    "\n",
    "        \n",
    "\n",
    "class Net(torch.nn.Module):\n",
    "    def __init__(self):\n",
    "\n",
    "        super(Net, self).__init__()\n",
    "        \n",
    "        self.input_dim = Agent_number_n-1\n",
    "        self.hidden_dim = 100\n",
    "        self.output_dim = 1\n",
    "        self.hidden_layer_count = 6 \n",
    "        \n",
    "        current_dim = self.input_dim\n",
    "        self.layers = torch.nn.ModuleList()\n",
    "        for i in range(self.hidden_layer_count):\n",
    "            self.layers.append(torch.nn.Linear(current_dim, self.hidden_dim))\n",
    "            current_dim = self.hidden_dim\n",
    "        self.layers.append(torch.nn.Linear(current_dim, self.output_dim))\n",
    "\n",
    "    def calculate(self, value_list):\n",
    "        h = value_list\n",
    "        for layer in self.layers:\n",
    "            h = torch.relu(layer(h))\n",
    "        return h\n",
    "\n",
    "    def forward(self, input_list,input_label,label):\n",
    "        global iteration,echo,target_order\n",
    "        loss1 = 0\n",
    "        loss2 = 0\n",
    "        input_list = torch.from_numpy(\n",
    "            np.array(input_list)).cuda().type(torch.float32)\n",
    "        h_list = []\n",
    "\n",
    "        if (target_order == \"supervised\"):\n",
    "            loss = 0 \n",
    "            for i in range(Agent_number_n):\n",
    "                h = self.calculate(input_list[i])\n",
    "                loss += torch.square(h - label[i])\n",
    "                h_list.append(h)\n",
    "            return loss\n",
    "        else:\n",
    "            for i in range(Agent_number_n):\n",
    "                h = self.calculate(input_list[i])\n",
    "                h_list.append(h)\n",
    "            input_label = torch.from_numpy(\n",
    "                np.array(input_label)).cuda().type(torch.float32)\n",
    "            sum_h = torch.sum(torch.cat(h_list)).cuda()\n",
    "\n",
    "\n",
    "            loss1 = torch.where((Agent_number_n-1)*input_label>sum_h,\n",
    "                            torch.square(((Agent_number_n-1)*input_label-sum_h)),\n",
    "                            torch.zeros(1).cuda()\n",
    "                          )\n",
    "\n",
    "            loss2 = torch.where((Agent_number_n-Alpha)*input_label<sum_h,\n",
    "                            torch.square((sum_h-(Agent_number_n-Alpha)*input_label)),\n",
    "                            torch.zeros(1).cuda()\n",
    "                          )\n",
    "\n",
    "            return loss1,loss2,h_list"
   ]
  },
  {
   "cell_type": "code",
   "execution_count": 9,
   "metadata": {
    "ExecuteTime": {
     "end_time": "2021-05-23T03:06:40.121786Z",
     "start_time": "2021-05-23T03:06:38.922678Z"
    }
   },
   "outputs": [
    {
     "data": {
      "text/plain": [
       "Net(\n",
       "  (layers): ModuleList(\n",
       "    (0): Linear(in_features=9, out_features=100, bias=True)\n",
       "    (1): Linear(in_features=100, out_features=100, bias=True)\n",
       "    (2): Linear(in_features=100, out_features=100, bias=True)\n",
       "    (3): Linear(in_features=100, out_features=100, bias=True)\n",
       "    (4): Linear(in_features=100, out_features=100, bias=True)\n",
       "    (5): Linear(in_features=100, out_features=100, bias=True)\n",
       "    (6): Linear(in_features=100, out_features=1, bias=True)\n",
       "  )\n",
       ")"
      ]
     },
     "execution_count": 9,
     "metadata": {},
     "output_type": "execute_result"
    }
   ],
   "source": [
    "random.seed(2000)\n",
    "torch.manual_seed(256)\n",
    "net  = Net()\n",
    "net.apply(weight_init)\n",
    "\n",
    "net = torch.load(\"save/Deep_learning_10\")\n",
    "net.to(dev)"
   ]
  },
  {
   "cell_type": "code",
   "execution_count": 10,
   "metadata": {
    "ExecuteTime": {
     "end_time": "2021-05-23T03:06:40.137266Z",
     "start_time": "2021-05-23T03:06:40.122784Z"
    },
    "run_control": {
     "marked": true
    }
   },
   "outputs": [],
   "source": [
    "#optimizer = opt.RMSprop(net.parameters(), lr=0.00001)\n",
    "#optimizer = opt.SGD(net.parameters(), lr=0.00001)\n",
    "optimizer = opt.Adam(net.parameters(), lr=0.000005)\n",
    "\n",
    "batch_size = 64\n",
    "echo = 1"
   ]
  },
  {
   "cell_type": "code",
   "execution_count": 11,
   "metadata": {
    "ExecuteTime": {
     "end_time": "2021-05-23T03:24:51.426826Z",
     "start_time": "2021-05-23T03:06:40.139262Z"
    }
   },
   "outputs": [
    {
     "name": "stdout",
     "output_type": "stream",
     "text": [
      "3024 tensor([0.0009], device='cuda:0', grad_fn=<DivBackward0>) 0.05605446919798851\n",
      "4347 tensor([0.0011], device='cuda:0', grad_fn=<DivBackward0>) 0.06969217211008072\n",
      "8883 tensor([0.0009], device='cuda:0', grad_fn=<DivBackward0>) 0.05660783872008324\n",
      "13104 tensor([0.0008], device='cuda:0', grad_fn=<DivBackward0>) 0.05193834379315376\n",
      "16128 tensor([0.0008], device='cuda:0', grad_fn=<DivBackward0>) 0.053214263170957565\n",
      "25011 tensor([0.0009], device='cuda:0', grad_fn=<DivBackward0>) 0.05452448129653931\n",
      "35091 tensor([0.0007], device='cuda:0', grad_fn=<DivBackward0>) 0.046048857271671295\n",
      "36351 tensor([0.0008], device='cuda:0', grad_fn=<DivBackward0>) 0.05355206876993179\n",
      "36666 tensor([0.0006], device='cuda:0', grad_fn=<DivBackward0>) 0.03787372261285782\n",
      "56007 tensor([0.0006], device='cuda:0', grad_fn=<DivBackward0>) 0.039172712713479996\n",
      "68103 tensor([0.0005], device='cuda:0', grad_fn=<DivBackward0>) 0.03491031751036644\n",
      "68166 tensor([0.0004], device='cuda:0', grad_fn=<DivBackward0>) 0.025239519774913788\n",
      "80010 tensor([0.0006], device='cuda:0', grad_fn=<DivBackward0>) 0.03684883937239647\n",
      "82026 tensor([0.0005], device='cuda:0', grad_fn=<DivBackward0>) 0.034290920943021774\n",
      "85680 tensor([0.0007], device='cuda:0', grad_fn=<DivBackward0>) 0.045708660036325455\n",
      "85869 tensor([0.0005], device='cuda:0', grad_fn=<DivBackward0>) 0.029078409075737\n",
      "94878 tensor([0.0005], device='cuda:0', grad_fn=<DivBackward0>) 0.032955870032310486\n",
      "batch iteration 0\n",
      "batch_loss: 0.00 \n",
      "\n",
      "\n"
     ]
    }
   ],
   "source": [
    "target_order = \"supervised\"\n",
    "for iteration in range(int(echo)):\n",
    "    # offender_types = []\n",
    "    # defender_types = []\n",
    "    \n",
    "    \n",
    "    X_train_list = []\n",
    "    temp_number = 0\n",
    "    total_batch_loss = 0 \n",
    "    while(temp_number<len(training_data)-1):\n",
    "        loss_sum = 0\n",
    "        denominator = 0\n",
    "        for index in range(temp_number, min(batch_size+temp_number,len(training_data))):\n",
    "            h_loss = net(training_data[index],training_label[index],training_supervised_label[index])\n",
    "            denominator += 1\n",
    "            loss_sum += h_loss\n",
    "            \n",
    "        loss = (loss_sum) / denominator \n",
    "        total_batch_loss +=float(loss_sum)\n",
    "        optimizer.zero_grad()\n",
    "        \n",
    "        loss.backward()\n",
    "        \n",
    "        optimizer.step()\n",
    "        \n",
    "        temp_number = index\n",
    "        \n",
    "        if(random.random()<=0.01):\n",
    "            print(temp_number,loss,float(loss_sum))\n",
    "\n",
    "\n",
    "    print(\"batch iteration\", iteration)\n",
    "    print(\"batch_loss: %.2f \" % (total_batch_loss/len(training_data)))\n",
    "    \n",
    "    print()\n",
    "    print()"
   ]
  },
  {
   "cell_type": "code",
   "execution_count": 12,
   "metadata": {
    "ExecuteTime": {
     "end_time": "2021-05-23T03:34:37.094884Z",
     "start_time": "2021-05-23T03:24:51.427783Z"
    }
   },
   "outputs": [
    {
     "name": "stdout",
     "output_type": "stream",
     "text": [
      "9.145323455285192 8.74053019510642 0.4047932601787725\n"
     ]
    }
   ],
   "source": [
    "denominator = 0\n",
    "result_list = []\n",
    "for index in range(len(testing_data)):\n",
    "    h_list = []\n",
    "    for i in range(Agent_number_n):\n",
    "        h = net.calculate(torch.tensor(testing_data[index][i]).cuda().type(torch.float32))\n",
    "        h_list.append(float(h))\n",
    "    \n",
    "    #print(sum(h_list),h_list,sum(h_list)/testing_label[index])\n",
    "    result_list.append(sum(h_list)/testing_label[index])\n",
    "    \n",
    "\n",
    "print(max(result_list),min(result_list),max(result_list)-min(result_list))"
   ]
  },
  {
   "cell_type": "code",
   "execution_count": 13,
   "metadata": {
    "ExecuteTime": {
     "end_time": "2021-05-23T03:34:38.073550Z",
     "start_time": "2021-05-23T03:34:37.096567Z"
    }
   },
   "outputs": [
    {
     "data": {
      "image/png": "[encoded data removed]",
      "text/plain": [
       "<Figure size 432x288 with 1 Axes>"
      ]
     },
     "metadata": {
      "needs_background": "light"
     },
     "output_type": "display_data"
    }
   ],
   "source": [
    "plt.hist(result_list,bins=500)\n",
    "\n",
    "plt.title(\"Means\", y=1.015, fontsize=20)\n",
    "plt.axvline(x=sum(result_list)/len(result_list), linestyle='--', linewidth=2.5, label=\"sample mean\", c='orange')\n",
    "plt.xlabel(\"samples\", labelpad=14)\n",
    "plt.ylabel(\"frequency of occurence\", labelpad=14)\n",
    "plt.legend();\n",
    "\n",
    "result_list.sort()\n",
    "\n",
    "plt.axvline(x=result_list[int(len(result_list)*0.01)], linestyle='--', linewidth=0.5, label=\"1%\", c='b')\n",
    "plt.axvline(x=result_list[int(len(result_list)*0.99)], linestyle='--', linewidth=0.5, label=\"99%\", c='r')\n",
    "\n",
    "\n",
    "plt.show()"
   ]
  },
  {
   "cell_type": "code",
   "execution_count": 14,
   "metadata": {
    "ExecuteTime": {
     "end_time": "2021-05-23T03:34:38.088882Z",
     "start_time": "2021-05-23T03:34:38.074245Z"
    }
   },
   "outputs": [],
   "source": [
    "torch.save(net, \"save/Deep_learning_10\")"
   ]
  },
  {
   "cell_type": "code",
   "execution_count": 15,
   "metadata": {
    "ExecuteTime": {
     "end_time": "2021-05-23T03:34:38.104869Z",
     "start_time": "2021-05-23T03:34:38.089809Z"
    }
   },
   "outputs": [],
   "source": [
    "#optimizer = opt.RMSprop(net.parameters(), lr=0.00001)\n",
    "#optimizer = opt.SGD(net.parameters(), lr=0.00005)\n",
    "optimizer = opt.Adam(net.parameters(), lr=0.000005)\n",
    "\n",
    "batch_size = 64\n",
    "echo = 2"
   ]
  },
  {
   "cell_type": "code",
   "execution_count": 16,
   "metadata": {
    "ExecuteTime": {
     "end_time": "2021-05-23T04:09:56.242424Z",
     "start_time": "2021-05-23T03:34:38.106869Z"
    }
   },
   "outputs": [
    {
     "name": "stdout",
     "output_type": "stream",
     "text": [
      "4032 tensor([0.], device='cuda:0', grad_fn=<DivBackward0>) 0.0 0.0\n",
      "7371 tensor([0.], device='cuda:0', grad_fn=<DivBackward0>) 0.0 0.0\n",
      "9450 tensor([0.], device='cuda:0', grad_fn=<DivBackward0>) 0.0 0.0\n",
      "15687 tensor([0.], device='cuda:0', grad_fn=<DivBackward0>) 0.0 0.0\n",
      "17451 tensor([0.], device='cuda:0', grad_fn=<DivBackward0>) 0.0 0.0\n",
      "23247 tensor([6.3595e-05], device='cuda:0', grad_fn=<DivBackward0>) 0.004070056602358818 0.0\n",
      "28287 tensor([0.], device='cuda:0', grad_fn=<DivBackward0>) 0.0 0.0\n",
      "37926 tensor([7.1274e-07], device='cuda:0', grad_fn=<DivBackward0>) 4.5615455746883526e-05 0.0\n",
      "45045 tensor([0.], device='cuda:0', grad_fn=<DivBackward0>) 0.0 0.0\n",
      "50715 tensor([0.], device='cuda:0', grad_fn=<DivBackward0>) 0.0 0.0\n",
      "61866 tensor([0.], device='cuda:0', grad_fn=<DivBackward0>) 0.0 0.0\n",
      "71442 tensor([0.0002], device='cuda:0', grad_fn=<DivBackward0>) 0.0 0.012376545928418636\n",
      "86310 tensor([0.], device='cuda:0', grad_fn=<DivBackward0>) 0.0 0.0\n",
      "97713 tensor([0.], device='cuda:0', grad_fn=<DivBackward0>) 0.0 0.0\n",
      "batch iteration 0\n",
      "batch_loss: 0.00 \n",
      "\n",
      "\n",
      "9702 tensor([0.], device='cuda:0', grad_fn=<DivBackward0>) 0.0 0.0\n",
      "17640 tensor([0.], device='cuda:0', grad_fn=<DivBackward0>) 0.0 0.0\n",
      "18396 tensor([0.], device='cuda:0', grad_fn=<DivBackward0>) 0.0 0.0\n",
      "18459 tensor([0.0001], device='cuda:0', grad_fn=<DivBackward0>) 0.008819129317998886 0.0\n",
      "23373 tensor([0.], device='cuda:0', grad_fn=<DivBackward0>) 0.0 0.0\n",
      "41769 tensor([0.], device='cuda:0', grad_fn=<DivBackward0>) 0.0 0.0\n",
      "58086 tensor([0.], device='cuda:0', grad_fn=<DivBackward0>) 0.0 0.0\n",
      "60354 tensor([0.], device='cuda:0', grad_fn=<DivBackward0>) 0.0 0.0\n",
      "74151 tensor([0.], device='cuda:0', grad_fn=<DivBackward0>) 0.0 0.0\n",
      "99603 tensor([0.], device='cuda:0', grad_fn=<DivBackward0>) 0.0 0.0\n",
      "batch iteration 1\n",
      "batch_loss: 0.00 \n",
      "\n",
      "\n"
     ]
    }
   ],
   "source": [
    "target_order = \"unsupervised\"\n",
    "for iteration in range(int(echo)):\n",
    "    # offender_types = []\n",
    "    # defender_types = []\n",
    "    \n",
    "    \n",
    "    X_train_list = []\n",
    "    temp_number = 0\n",
    "    total_batch_loss = 0 \n",
    "    while(temp_number<len(training_data)-1):\n",
    "        \n",
    "        loss2_list = []\n",
    "        loss1_sum = 0\n",
    "        loss2_sum = 0\n",
    "        denominator = 0\n",
    "        for index in range(temp_number, min(batch_size+temp_number,len(training_data))):\n",
    "            h_loss1,h_loss2,h_list = net(training_data[index],training_label[index],0)\n",
    "            denominator += 1\n",
    "            loss1_sum += h_loss1\n",
    "            loss2_sum += h_loss2\n",
    "            \n",
    "        loss_sum = loss1_sum + loss2_sum\n",
    "        loss = (loss_sum) / denominator \n",
    "        total_batch_loss +=float(loss_sum)\n",
    "        optimizer.zero_grad()\n",
    "        \n",
    "        loss.backward()\n",
    "        \n",
    "        optimizer.step()\n",
    "        \n",
    "        temp_number = index\n",
    "        \n",
    "        if(random.random()<=0.01):\n",
    "            print(temp_number,loss,float(loss1_sum),float(loss2_sum))\n",
    "\n",
    "\n",
    "    print(\"batch iteration\", iteration)\n",
    "    print(\"batch_loss: %.2f \" % (total_batch_loss/len(training_data)))\n",
    "    \n",
    "    print()\n",
    "    print()"
   ]
  },
  {
   "cell_type": "code",
   "execution_count": null,
   "metadata": {},
   "outputs": [],
   "source": []
  },
  {
   "cell_type": "code",
   "execution_count": 17,
   "metadata": {
    "ExecuteTime": {
     "end_time": "2021-05-23T04:09:56.258046Z",
     "start_time": "2021-05-23T04:09:56.243377Z"
    }
   },
   "outputs": [],
   "source": [
    "torch.save(net, \"save/Deep_learning_10\")"
   ]
  },
  {
   "cell_type": "code",
   "execution_count": 18,
   "metadata": {
    "ExecuteTime": {
     "end_time": "2021-05-23T04:19:31.096456Z",
     "start_time": "2021-05-23T04:09:56.258978Z"
    }
   },
   "outputs": [
    {
     "name": "stdout",
     "output_type": "stream",
     "text": [
      "9.194835434770738 8.926316348831133 0.26851908593960516\n"
     ]
    }
   ],
   "source": [
    "denominator = 0\n",
    "result_list = []\n",
    "for index in range(len(testing_data)):\n",
    "    h_list = []\n",
    "    for i in range(Agent_number_n):\n",
    "        h = net.calculate(torch.tensor(testing_data[index][i]).cuda().type(torch.float32))\n",
    "        h_list.append(float(h))\n",
    "    \n",
    "    #print(sum(h_list),h_list,sum(h_list)/testing_label[index])\n",
    "    result_list.append(sum(h_list)/testing_label[index])\n",
    "    \n",
    "\n",
    "print(max(result_list),min(result_list),max(result_list)-min(result_list))"
   ]
  },
  {
   "cell_type": "code",
   "execution_count": 19,
   "metadata": {
    "ExecuteTime": {
     "end_time": "2021-05-23T04:19:31.965173Z",
     "start_time": "2021-05-23T04:19:31.097454Z"
    }
   },
   "outputs": [
    {
     "data": {
      "image/png": "[encoded data removed]",
      "text/plain": [
       "<Figure size 432x288 with 1 Axes>"
      ]
     },
     "metadata": {
      "needs_background": "light"
     },
     "output_type": "display_data"
    }
   ],
   "source": [
    "plt.hist(result_list,bins=500)\n",
    "\n",
    "plt.title(\"Means\", y=1.015, fontsize=20)\n",
    "plt.axvline(x=sum(result_list)/len(result_list), linestyle='--', linewidth=2.5, label=\"sample mean\", c='orange')\n",
    "plt.xlabel(\"samples\", labelpad=14)\n",
    "plt.ylabel(\"frequency of occurence\", labelpad=14)\n",
    "plt.legend();\n",
    "\n",
    "result_list.sort()\n",
    "\n",
    "plt.axvline(x=result_list[int(len(result_list)*0.01)], linestyle='--', linewidth=0.5, label=\"1%\", c='b')\n",
    "plt.axvline(x=result_list[int(len(result_list)*0.99)], linestyle='--', linewidth=0.5, label=\"99%\", c='r')\n",
    "\n",
    "\n",
    "plt.show()"
   ]
  },
  {
   "cell_type": "code",
   "execution_count": null,
   "metadata": {},
   "outputs": [],
   "source": []
  }
 ],
 "metadata": {
  "hide_input": false,
  "kernelspec": {
   "display_name": "Python 3",
   "language": "python",
   "name": "python3"
  },
  "language_info": {
   "codemirror_mode": {
    "name": "ipython",
    "version": 3
   },
   "file_extension": ".py",
   "mimetype": "text/x-python",
   "name": "python",
   "nbconvert_exporter": "python",
   "pygments_lexer": "ipython3",
   "version": "3.8.3"
  },
  "varInspector": {
   "cols": {
    "lenName": 16,
    "lenType": 16,
    "lenVar": 40
   },
   "kernels_config": {
    "python": {
     "delete_cmd_postfix": "",
     "delete_cmd_prefix": "del ",
     "library": "var_list.py",
     "varRefreshCmd": "print(var_dic_list())"
    },
    "r": {
     "delete_cmd_postfix": ") ",
     "delete_cmd_prefix": "rm(",
     "library": "var_list.r",
     "varRefreshCmd": "cat(var_dic_list()) "
    }
   },
   "types_to_exclude": [
    "module",
    "function",
    "builtin_function_or_method",
    "instance",
    "_Feature"
   ],
   "window_display": false
  }
 },
 "nbformat": 4,
 "nbformat_minor": 4
}
