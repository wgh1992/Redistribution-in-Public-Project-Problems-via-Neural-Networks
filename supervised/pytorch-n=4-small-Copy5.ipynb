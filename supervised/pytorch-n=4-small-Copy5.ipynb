{
 "cells": [
  {
   "cell_type": "code",
   "execution_count": 1,
   "metadata": {
    "ExecuteTime": {
     "end_time": "2021-05-28T03:45:47.869088Z",
     "start_time": "2021-05-28T03:45:46.510299Z"
    }
   },
   "outputs": [
    {
     "name": "stdout",
     "output_type": "stream",
     "text": [
      "pygame 2.0.1 (SDL 2.0.14, Python 3.8.3)\n",
      "Hello from the pygame community. https://www.pygame.org/contribute.html\n",
      "cuda:0\n"
     ]
    },
    {
     "name": "stderr",
     "output_type": "stream",
     "text": [
      "D:\\ComputerSoftwares\\Anaconda\\lib\\site-packages\\sklearn\\utils\\deprecation.py:143: FutureWarning: The sklearn.datasets.samples_generator module is  deprecated in version 0.22 and will be removed in version 0.24. The corresponding classes / functions should instead be imported from sklearn.datasets. Anything that cannot be imported from sklearn.datasets is now part of the private API.\n",
      "  warnings.warn(message, FutureWarning)\n"
     ]
    }
   ],
   "source": [
    "\n",
    "import pygame\n",
    "import random\n",
    "import os\n",
    "import time\n",
    "import numpy as np\n",
    "import math\n",
    "import torch\n",
    "import torch.nn.functional\n",
    "import matplotlib.pyplot as plt\n",
    "import torch.optim as opt\n",
    "from torch.autograd import Variable\n",
    "from sklearn.model_selection import train_test_split\n",
    "\n",
    "import scipy.stats as st\n",
    "from sklearn.datasets.samples_generator import make_blobs\n",
    "from matplotlib.colors import LogNorm \n",
    "import matplotlib.cm as cm\n",
    "import torch.nn as nn\n",
    "import numpy as np\n",
    "import matplotlib.pyplot as plt\n",
    "\n",
    "\n",
    "if torch.cuda.is_available():  \n",
    "    dev = \"cuda:0\" \n",
    "else:  \n",
    "    dev = \"cpu\"  \n",
    "\n",
    "print(dev)\n"
   ]
  },
  {
   "cell_type": "code",
   "execution_count": 2,
   "metadata": {
    "ExecuteTime": {
     "end_time": "2021-05-28T03:45:47.884049Z",
     "start_time": "2021-05-28T03:45:47.870085Z"
    }
   },
   "outputs": [],
   "source": [
    "global target_order\n",
    "target_order = \"supervised\"\n",
    "global temp_list\n",
    "temp_list = []\n",
    "Agent_number_n=4;\n",
    "Alpha = 0.666;\n",
    "\n"
   ]
  },
  {
   "cell_type": "code",
   "execution_count": 3,
   "metadata": {
    "ExecuteTime": {
     "end_time": "2021-05-28T03:45:55.760122Z",
     "start_time": "2021-05-28T03:45:47.885046Z"
    }
   },
   "outputs": [
    {
     "name": "stdout",
     "output_type": "stream",
     "text": [
      "[[[0.87283934 0.40854436 0.30092435]\n",
      "  [0.95166459 0.40854436 0.30092435]\n",
      "  [0.95166459 0.87283934 0.30092435]\n",
      "  [0.95166459 0.87283934 0.40854436]]\n",
      "\n",
      " [[0.60255114 0.53568718 0.50681477]\n",
      "  [0.97491381 0.53568718 0.50681477]\n",
      "  [0.97491381 0.60255114 0.50681477]\n",
      "  [0.97491381 0.60255114 0.53568718]]\n",
      "\n",
      " [[0.80279728 0.5964004  0.40202904]\n",
      "  [0.81551881 0.5964004  0.40202904]\n",
      "  [0.81551881 0.80279728 0.40202904]\n",
      "  [0.81551881 0.80279728 0.5964004 ]]\n",
      "\n",
      " ...\n",
      "\n",
      " [[0.91922896 0.85009364 0.22409439]\n",
      "  [0.93998307 0.85009364 0.22409439]\n",
      "  [0.93998307 0.91922896 0.22409439]\n",
      "  [0.93998307 0.91922896 0.85009364]]\n",
      "\n",
      " [[0.58932495 0.23098974 0.02405151]\n",
      "  [0.75393641 0.23098974 0.02405151]\n",
      "  [0.75393641 0.58932495 0.02405151]\n",
      "  [0.75393641 0.58932495 0.23098974]]\n",
      "\n",
      " [[0.69705378 0.68187245 0.08272199]\n",
      "  [0.73059232 0.68187245 0.08272199]\n",
      "  [0.73059232 0.69705378 0.08272199]\n",
      "  [0.73059232 0.69705378 0.68187245]]]\n",
      "[[[0.46524253 0.28915193 0.05513157]\n",
      "  [0.51308436 0.28915193 0.05513157]\n",
      "  [0.51308436 0.46524253 0.05513157]\n",
      "  [0.51308436 0.46524253 0.28915193]]\n",
      "\n",
      " [[0.47730825 0.36807073 0.13115207]\n",
      "  [0.62880104 0.36807073 0.13115207]\n",
      "  [0.62880104 0.47730825 0.13115207]\n",
      "  [0.62880104 0.47730825 0.36807073]]\n",
      "\n",
      " [[0.40233038 0.07464251 0.07206736]\n",
      "  [0.52442953 0.07464251 0.07206736]\n",
      "  [0.52442953 0.40233038 0.07206736]\n",
      "  [0.52442953 0.40233038 0.07464251]]\n",
      "\n",
      " ...\n",
      "\n",
      " [[0.50697538 0.48677603 0.4842383 ]\n",
      "  [0.60440946 0.48677603 0.4842383 ]\n",
      "  [0.60440946 0.50697538 0.4842383 ]\n",
      "  [0.60440946 0.50697538 0.48677603]]\n",
      "\n",
      " [[0.43205911 0.38009259 0.20226343]\n",
      "  [0.88671932 0.38009259 0.20226343]\n",
      "  [0.88671932 0.43205911 0.20226343]\n",
      "  [0.88671932 0.43205911 0.38009259]]\n",
      "\n",
      " [[0.71022655 0.35401433 0.02911446]\n",
      "  [0.86862937 0.35401433 0.02911446]\n",
      "  [0.86862937 0.71022655 0.02911446]\n",
      "  [0.86862937 0.71022655 0.35401433]]]\n",
      "[2.53397265 2.61996691 2.61674554 ... 2.93340006 1.59830262 2.19224055]\n",
      "[1.3226104  1.60533208 1.07346978 ... 2.08239916 1.90113445 1.96198471]\n"
     ]
    }
   ],
   "source": [
    "global temp_list\n",
    "temp_list = []\n",
    "def appen(_x_list,y):\n",
    "    global temp_list\n",
    "    temp_list.append(_x_list)\n",
    "    \n",
    "def appen_train(x_list):\n",
    "    global temp_list\n",
    "                \n",
    "    S= max(sum(x_list),1.0);\n",
    "    temp_list = []\n",
    "    \n",
    "    for i in range(Agent_number_n):\n",
    "        temp = []\n",
    "        for j in range(Agent_number_n):\n",
    "            if(i!=j):\n",
    "                temp.append(x_list[j])\n",
    "        appen(temp,S)\n",
    "    \n",
    "    training_data.append(temp_list)\n",
    "    training_label.append(S)\n",
    "    \n",
    "\n",
    "def read_training_data():\n",
    "    for i in range(500000):\n",
    "        appen_train(sorted(np.random.rand(Agent_number_n), reverse=True));\n",
    "\n",
    "training_data=[]\n",
    "training_label=[]\n",
    "S=1.0\n",
    "read_training_data();\n",
    "\n",
    "def appen_test(x_list):\n",
    "    global temp_list\n",
    "                \n",
    "    S= max(sum(x_list),1.0);\n",
    "    temp_list = []\n",
    "    \n",
    "    for i in range(Agent_number_n):\n",
    "        temp = []\n",
    "        for j in range(Agent_number_n):\n",
    "            if(i!=j):\n",
    "                temp.append(x_list[j])\n",
    "        appen(temp,S)\n",
    "    testing_data.append(temp_list)\n",
    "    testing_label.append(S)\n",
    "    \n",
    "\n",
    "def read_testing_data():\n",
    "#     devided=20\n",
    "#     for i1 in range(devided+1):\n",
    "#         for i2 in range(i1+1):\n",
    "#             for i3 in range(i2+1):\n",
    "#                 appen_test(i1/devided,i2/devided,i3/devided);\n",
    "    for i in range(100000):\n",
    "        appen_test(sorted(np.random.rand(Agent_number_n), reverse=True));\n",
    "                            \n",
    "\n",
    "testing_data=[]\n",
    "testing_label=[]\n",
    "S=1.0\n",
    "read_testing_data();\n",
    "\n",
    "training_data=np.array(training_data)\n",
    "training_label=np.array(training_label)\n",
    "testing_data=np.array(testing_data)\n",
    "testing_label=np.array(testing_label)\n",
    "print(training_data)\n",
    "print(testing_data)\n",
    "print(training_label)\n",
    "print(testing_label)"
   ]
  },
  {
   "cell_type": "code",
   "execution_count": 4,
   "metadata": {
    "ExecuteTime": {
     "end_time": "2021-05-28T03:47:50.329653Z",
     "start_time": "2021-05-28T03:45:55.761070Z"
    }
   },
   "outputs": [
    {
     "name": "stdout",
     "output_type": "stream",
     "text": [
      "3.3749816810682254 2.999999999999999 0.37498168106822627\n"
     ]
    }
   ],
   "source": [
    "def h_3_star(a, b, t):\n",
    "    return a - min(a, t) + b - min(b, t) + max(min(a, t)+min(b, t), 2*t/3) + 1/2 * max(min(a, t)+min(b, t), t) - 1/2 * max(max(min(a, t), min(b, t)), 2*t/3) - t/6\n",
    "\n",
    "\n",
    "def f_function(a, b, z):\n",
    "    if(z >= 1):\n",
    "        return (a+b)/2 + z/3\n",
    "    else:\n",
    "        return z/3 + h_3_star(a, b, 1-z)/2\n",
    "\n",
    "def h_function(input_list):\n",
    "    #input_list = sorted(input_list)\n",
    "    g_list = []\n",
    "    for j1 in range(len(input_list) ):\n",
    "        for j2 in range(len(input_list)):\n",
    "            if(j1 != j2):\n",
    "                a = input_list[j1]\n",
    "                b = input_list[j2]\n",
    "                z = sum(input_list)- a-b\n",
    "\n",
    "                g_list.append( f_function(a, b, z) * (Agent_number_n-1))\n",
    "    h = sum(g_list) * 3 /  (Agent_number_n) /  (Agent_number_n-1) /  (Agent_number_n - 2)\n",
    "    return h\n",
    "                \n",
    "                \n",
    "x_list = []\n",
    "y_list = []\n",
    "z_list = []\n",
    "result_list = []\n",
    "training_supervised_label=[]\n",
    "for index in range(len(training_data)):\n",
    "    h_list = []\n",
    "    for i in range(Agent_number_n):\n",
    "        x_list.append(training_data[index][i][0])\n",
    "        y_list.append(training_data[index][i][1])\n",
    "        h = h_function(training_data[index][i])\n",
    "        z_list.append(float(h))\n",
    "        h_list.append(float(h))\n",
    "    training_supervised_label.append(h_list)\n",
    "    result_list.append(sum(h_list)/training_label[index]) \n",
    "    \n",
    "    \n",
    "print(max(result_list), min(result_list), max(result_list)-min(result_list))"
   ]
  },
  {
   "cell_type": "code",
   "execution_count": 5,
   "metadata": {
    "ExecuteTime": {
     "end_time": "2021-05-28T03:47:51.868565Z",
     "start_time": "2021-05-28T03:47:50.331648Z"
    }
   },
   "outputs": [
    {
     "data": {
      "image/png": "[encoded data removed]",
      "text/plain": [
       "<Figure size 432x288 with 1 Axes>"
      ]
     },
     "metadata": {
      "needs_background": "light"
     },
     "output_type": "display_data"
    }
   ],
   "source": [
    "plt.hist(result_list,bins=500)\n",
    "\n",
    "plt.title(\"Means\", y=1.015, fontsize=20)\n",
    "plt.axvline(x=sum(result_list)/len(result_list), linestyle='--', linewidth=2.5, label=\"sample mean\", c='orange')\n",
    "plt.xlabel(\"samples\", labelpad=14)\n",
    "plt.ylabel(\"frequency of occurence\", labelpad=14)\n",
    "plt.legend();\n",
    "\n",
    "result_list.sort()\n",
    "\n",
    "plt.axvline(x=result_list[int(len(result_list)*0.01)], linestyle='--', linewidth=0.5, label=\"1%\", c='b')\n",
    "plt.axvline(x=result_list[int(len(result_list)*0.99)], linestyle='--', linewidth=0.5, label=\"99%\", c='r')\n",
    "\n",
    "\n",
    "plt.show()"
   ]
  },
  {
   "cell_type": "code",
   "execution_count": 6,
   "metadata": {
    "ExecuteTime": {
     "end_time": "2021-05-28T03:47:52.456501Z",
     "start_time": "2021-05-28T03:47:51.869563Z"
    }
   },
   "outputs": [
    {
     "name": "stdout",
     "output_type": "stream",
     "text": [
      "[[1.65057032 1.71954241 2.23474975 2.32891726]\n",
      " [1.81442146 2.1402388  2.19874476 2.22400812]\n",
      " [1.95048443 1.96161577 2.142802   2.31287694]\n",
      " ...\n",
      " [2.11923987 2.13739971 2.19789312 2.74564246]\n",
      " [0.83702235 0.93686866 1.38478767 1.68226139]\n",
      " [1.52437308 1.56000777 1.57898444 2.22082873]]\n"
     ]
    }
   ],
   "source": [
    "training_supervised_label=np.array(training_supervised_label)\n",
    "print(training_supervised_label)"
   ]
  },
  {
   "cell_type": "code",
   "execution_count": 7,
   "metadata": {
    "ExecuteTime": {
     "end_time": "2021-05-28T03:47:52.471968Z",
     "start_time": "2021-05-28T03:47:52.460035Z"
    }
   },
   "outputs": [
    {
     "name": "stdout",
     "output_type": "stream",
     "text": [
      "cuda:0\n"
     ]
    }
   ],
   "source": [
    "if torch.cuda.is_available():  \n",
    "    dev = \"cuda:0\" \n",
    "else:  \n",
    "    dev = \"cpu\"  \n",
    "\n",
    "print(dev)\n"
   ]
  },
  {
   "cell_type": "code",
   "execution_count": 8,
   "metadata": {
    "ExecuteTime": {
     "end_time": "2021-05-28T03:47:52.503883Z",
     "start_time": "2021-05-28T03:47:52.474962Z"
    },
    "run_control": {
     "marked": true
    }
   },
   "outputs": [],
   "source": [
    "def weight_init(m):\n",
    "    if isinstance(m, torch.nn.Conv2d):\n",
    "        torch.nn.init.xavier_normal_(m.weight)\n",
    "        torch.nn.init.zeros_(m.bias)\n",
    "    elif isinstance(m, torch.nn.Linear):\n",
    "        torch.nn.init.normal_(m.weight, mean=0.0,std =0.2)\n",
    "        torch.nn.init.normal_(m.bias, mean=0.0,std =0.01)\n",
    "#     elif isinstance(m, torch.nn.Parameter):\n",
    "#         torch.nn.init.normal_(m, mean=0.0,std =0.1)\n",
    "\n",
    "        \n",
    "\n",
    "class Net(torch.nn.Module):\n",
    "    def __init__(self):\n",
    "\n",
    "        super(Net, self).__init__()\n",
    "        \n",
    "        self.input_dim = Agent_number_n-1\n",
    "        self.hidden_dim = 50\n",
    "        self.output_dim = 1\n",
    "        self.hidden_layer_count = 8\n",
    "        \n",
    "        current_dim = self.input_dim\n",
    "        self.layers = torch.nn.ModuleList()\n",
    "        for i in range(self.hidden_layer_count):\n",
    "            self.layers.append(torch.nn.Linear(current_dim, self.hidden_dim))\n",
    "            current_dim = self.hidden_dim\n",
    "        self.layers.append(torch.nn.Linear(current_dim, self.output_dim))\n",
    "\n",
    "    def calculate(self, value_list):\n",
    "        h = value_list\n",
    "        for layer in self.layers:\n",
    "            h = torch.relu(layer(h))\n",
    "        return h\n",
    "\n",
    "    def forward(self, input_list,input_label,label):\n",
    "        global iteration,echo,target_order\n",
    "        loss1 = 0\n",
    "        loss2 = 0\n",
    "        input_list = torch.from_numpy(\n",
    "            np.array(input_list)).cuda().type(torch.float32)\n",
    "        h_list = []\n",
    "\n",
    "        if (target_order == \"supervised\"):\n",
    "            loss = 0 \n",
    "            for i in range(Agent_number_n):\n",
    "                h = self.calculate(input_list[i])\n",
    "                loss += torch.square(h - label[i])\n",
    "                h_list.append(h)\n",
    "            return loss\n",
    "        else:\n",
    "            for i in range(Agent_number_n):\n",
    "                h = self.calculate(input_list[i])\n",
    "                h_list.append(h)\n",
    "            input_label = torch.from_numpy(\n",
    "                np.array(input_label)).cuda().type(torch.float32)\n",
    "            sum_h = torch.sum(torch.cat(h_list)).cuda()\n",
    "\n",
    "\n",
    "            loss1 = torch.where((Agent_number_n-1)*input_label>sum_h,\n",
    "                            torch.square(((Agent_number_n-1)*input_label-sum_h)),\n",
    "                            torch.zeros(1).cuda()\n",
    "                          )\n",
    "\n",
    "            loss2 = torch.where((Agent_number_n-Alpha)*input_label<sum_h,\n",
    "                            torch.square((sum_h-(Agent_number_n-Alpha)*input_label)),\n",
    "                            torch.zeros(1).cuda()\n",
    "                          )\n",
    "\n",
    "            return loss1,loss2,h_list"
   ]
  },
  {
   "cell_type": "code",
   "execution_count": 9,
   "metadata": {
    "ExecuteTime": {
     "end_time": "2021-05-28T03:47:53.691802Z",
     "start_time": "2021-05-28T03:47:52.505889Z"
    }
   },
   "outputs": [
    {
     "data": {
      "text/plain": [
       "Net(\n",
       "  (layers): ModuleList(\n",
       "    (0): Linear(in_features=3, out_features=50, bias=True)\n",
       "    (1): Linear(in_features=50, out_features=50, bias=True)\n",
       "    (2): Linear(in_features=50, out_features=50, bias=True)\n",
       "    (3): Linear(in_features=50, out_features=50, bias=True)\n",
       "    (4): Linear(in_features=50, out_features=50, bias=True)\n",
       "    (5): Linear(in_features=50, out_features=50, bias=True)\n",
       "    (6): Linear(in_features=50, out_features=50, bias=True)\n",
       "    (7): Linear(in_features=50, out_features=50, bias=True)\n",
       "    (8): Linear(in_features=50, out_features=1, bias=True)\n",
       "  )\n",
       ")"
      ]
     },
     "execution_count": 9,
     "metadata": {},
     "output_type": "execute_result"
    }
   ],
   "source": [
    "random.seed(2000)\n",
    "torch.manual_seed(256)\n",
    "net  = Net()\n",
    "net.apply(weight_init)\n",
    "\n",
    "net = torch.load(\"save/Deep_learning_small_5_4\")\n",
    "net.to(dev)"
   ]
  },
  {
   "cell_type": "code",
   "execution_count": 10,
   "metadata": {
    "ExecuteTime": {
     "end_time": "2021-05-28T03:47:53.707021Z",
     "start_time": "2021-05-28T03:47:53.692847Z"
    },
    "run_control": {
     "marked": true
    }
   },
   "outputs": [],
   "source": [
    "#optimizer = opt.RMSprop(net.parameters(), lr=0.00001)\n",
    "#optimizer = opt.SGD(net.parameters(), lr=0.00001)\n",
    "optimizer = opt.Adam(net.parameters(), lr=0.00001)\n",
    "\n",
    "batch_size = 64\n",
    "echo = 0"
   ]
  },
  {
   "cell_type": "code",
   "execution_count": 11,
   "metadata": {
    "ExecuteTime": {
     "end_time": "2021-05-28T03:47:53.722912Z",
     "start_time": "2021-05-28T03:47:53.707952Z"
    }
   },
   "outputs": [],
   "source": [
    "target_order = \"supervised\"\n",
    "for iteration in range(int(echo)):\n",
    "    # offender_types = []\n",
    "    # defender_types = []\n",
    "    \n",
    "    \n",
    "    X_train_list = []\n",
    "    temp_number = 0\n",
    "    total_batch_loss = 0 \n",
    "    while(temp_number<len(training_data)-1):\n",
    "        loss_sum = 0\n",
    "        denominator = 0\n",
    "        for index in range(temp_number, min(batch_size+temp_number,len(training_data))):\n",
    "            h_loss = net(training_data[index],training_label[index],training_supervised_label[index])\n",
    "            denominator += 1\n",
    "            loss_sum += h_loss\n",
    "            \n",
    "        loss = (loss_sum) / denominator \n",
    "        total_batch_loss +=float(loss_sum)\n",
    "        optimizer.zero_grad()\n",
    "        \n",
    "        loss.backward()\n",
    "        \n",
    "        optimizer.step()\n",
    "        \n",
    "        temp_number = index\n",
    "        \n",
    "        if(random.random()<=0.01):\n",
    "            print(temp_number,loss,float(loss_sum))\n",
    "\n",
    "\n",
    "    print(\"batch iteration\", iteration)\n",
    "    print(\"batch_loss: %.2f \" % (total_batch_loss/len(training_data)))\n",
    "    \n",
    "    print()\n",
    "    print()"
   ]
  },
  {
   "cell_type": "code",
   "execution_count": 12,
   "metadata": {
    "ExecuteTime": {
     "end_time": "2021-05-28T03:52:36.443960Z",
     "start_time": "2021-05-28T03:47:53.723908Z"
    }
   },
   "outputs": [
    {
     "name": "stdout",
     "output_type": "stream",
     "text": [
      "3.412081048299167 2.933557450771332 0.47852359752783524\n"
     ]
    }
   ],
   "source": [
    "denominator = 0\n",
    "result_list = []\n",
    "for index in range(len(testing_data)):\n",
    "    h_list = []\n",
    "    for i in range(Agent_number_n):\n",
    "        h = net.calculate(torch.tensor(testing_data[index][i]).cuda().type(torch.float32))\n",
    "        h_list.append(float(h))\n",
    "    \n",
    "    #print(sum(h_list),h_list,sum(h_list)/testing_label[index])\n",
    "    result_list.append(sum(h_list)/testing_label[index])\n",
    "    \n",
    "\n",
    "print(max(result_list),min(result_list),max(result_list)-min(result_list))"
   ]
  },
  {
   "cell_type": "code",
   "execution_count": 13,
   "metadata": {
    "ExecuteTime": {
     "end_time": "2021-05-28T03:52:37.366410Z",
     "start_time": "2021-05-28T03:52:36.444922Z"
    }
   },
   "outputs": [
    {
     "data": {
      "image/png": "[encoded data removed]",
      "text/plain": [
       "<Figure size 432x288 with 1 Axes>"
      ]
     },
     "metadata": {
      "needs_background": "light"
     },
     "output_type": "display_data"
    }
   ],
   "source": [
    "plt.hist(result_list,bins=500)\n",
    "\n",
    "plt.title(\"Means\", y=1.015, fontsize=20)\n",
    "plt.axvline(x=sum(result_list)/len(result_list), linestyle='--', linewidth=2.5, label=\"sample mean\", c='orange')\n",
    "plt.xlabel(\"samples\", labelpad=14)\n",
    "plt.ylabel(\"frequency of occurence\", labelpad=14)\n",
    "plt.legend();\n",
    "\n",
    "result_list.sort()\n",
    "\n",
    "plt.axvline(x=result_list[int(len(result_list)*0.01)], linestyle='--', linewidth=0.5, label=\"1%\", c='b')\n",
    "plt.axvline(x=result_list[int(len(result_list)*0.99)], linestyle='--', linewidth=0.5, label=\"99%\", c='r')\n",
    "\n",
    "\n",
    "plt.show()"
   ]
  },
  {
   "cell_type": "code",
   "execution_count": 14,
   "metadata": {
    "ExecuteTime": {
     "end_time": "2021-05-28T03:52:37.381363Z",
     "start_time": "2021-05-28T03:52:37.368392Z"
    }
   },
   "outputs": [],
   "source": [
    "torch.save(net, \"save/Deep_learning_small_5_4\")"
   ]
  },
  {
   "cell_type": "code",
   "execution_count": 15,
   "metadata": {
    "ExecuteTime": {
     "end_time": "2021-05-28T03:52:37.396361Z",
     "start_time": "2021-05-28T03:52:37.383368Z"
    }
   },
   "outputs": [],
   "source": [
    "#optimizer = opt.RMSprop(net.parameters(), lr=0.00001)\n",
    "#optimizer = opt.SGD(net.parameters(), lr=0.00005)\n",
    "optimizer = opt.Adam(net.parameters(), lr=0.001)\n",
    "\n",
    "batch_size = 64\n",
    "echo = 1"
   ]
  },
  {
   "cell_type": "code",
   "execution_count": 16,
   "metadata": {
    "ExecuteTime": {
     "end_time": "2021-05-28T04:41:23.180998Z",
     "start_time": "2021-05-28T03:52:37.398321Z"
    }
   },
   "outputs": [
    {
     "name": "stdout",
     "output_type": "stream",
     "text": [
      "3024 tensor([0.0002], device='cuda:0', grad_fn=<DivBackward0>) 0.0 0.01433909684419632\n",
      "4347 tensor([2.0975e-06], device='cuda:0', grad_fn=<DivBackward0>) 0.0 0.00013423978816717863\n",
      "8883 tensor([1.6525e-06], device='cuda:0', grad_fn=<DivBackward0>) 0.0 0.00010575956548564136\n",
      "13104 tensor([1.1932e-06], device='cuda:0', grad_fn=<DivBackward0>) 0.0 7.636169175384566e-05\n",
      "16128 tensor([0.], device='cuda:0', grad_fn=<DivBackward0>) 0.0 0.0\n",
      "25011 tensor([0.], device='cuda:0', grad_fn=<DivBackward0>) 0.0 0.0\n",
      "35091 tensor([0.], device='cuda:0', grad_fn=<DivBackward0>) 0.0 0.0\n",
      "36351 tensor([0.], device='cuda:0', grad_fn=<DivBackward0>) 0.0 0.0\n",
      "36666 tensor([0.], device='cuda:0', grad_fn=<DivBackward0>) 0.0 0.0\n",
      "56007 tensor([0.], device='cuda:0', grad_fn=<DivBackward0>) 0.0 0.0\n",
      "68103 tensor([8.7922e-06], device='cuda:0', grad_fn=<DivBackward0>) 0.0 0.000562700442969799\n",
      "68166 tensor([7.0151e-07], device='cuda:0', grad_fn=<DivBackward0>) 0.0 4.489691127673723e-05\n",
      "80010 tensor([0.], device='cuda:0', grad_fn=<DivBackward0>) 0.0 0.0\n",
      "82026 tensor([0.], device='cuda:0', grad_fn=<DivBackward0>) 0.0 0.0\n",
      "85680 tensor([0.], device='cuda:0', grad_fn=<DivBackward0>) 0.0 0.0\n",
      "85869 tensor([0.], device='cuda:0', grad_fn=<DivBackward0>) 0.0 0.0\n",
      "94878 tensor([0.], device='cuda:0', grad_fn=<DivBackward0>) 0.0 0.0\n",
      "104076 tensor([0.], device='cuda:0', grad_fn=<DivBackward0>) 0.0 0.0\n",
      "107415 tensor([0.], device='cuda:0', grad_fn=<DivBackward0>) 0.0 0.0\n",
      "109494 tensor([2.1599e-05], device='cuda:0', grad_fn=<DivBackward0>) 0.0 0.0013823306653648615\n",
      "115731 tensor([0.], device='cuda:0', grad_fn=<DivBackward0>) 0.0 0.0\n",
      "117495 tensor([2.4882e-05], device='cuda:0', grad_fn=<DivBackward0>) 0.0 0.0015924657927826047\n",
      "123291 tensor([0.], device='cuda:0', grad_fn=<DivBackward0>) 0.0 0.0\n",
      "128331 tensor([0.0003], device='cuda:0', grad_fn=<DivBackward0>) 0.021346349269151688 0.0\n",
      "137970 tensor([0.], device='cuda:0', grad_fn=<DivBackward0>) 0.0 0.0\n",
      "145089 tensor([0.0035], device='cuda:0', grad_fn=<DivBackward0>) 0.160081148147583 0.06182125583291054\n",
      "150759 tensor([3.2804e-05], device='cuda:0', grad_fn=<DivBackward0>) 0.0020994534716010094 0.0\n",
      "161910 tensor([0.], device='cuda:0', grad_fn=<DivBackward0>) 0.0 0.0\n",
      "171486 tensor([0.], device='cuda:0', grad_fn=<DivBackward0>) 0.0 0.0\n",
      "186354 tensor([2.1347e-07], device='cuda:0', grad_fn=<DivBackward0>) 0.0 1.3661918274010532e-05\n",
      "197757 tensor([0.0001], device='cuda:0', grad_fn=<DivBackward0>) 0.0011939192190766335 0.006397393997758627\n",
      "209790 tensor([0.], device='cuda:0', grad_fn=<DivBackward0>) 0.0 0.0\n",
      "217728 tensor([0.], device='cuda:0', grad_fn=<DivBackward0>) 0.0 0.0\n",
      "218484 tensor([1.3942e-06], device='cuda:0', grad_fn=<DivBackward0>) 8.922881534090266e-05 0.0\n",
      "218547 tensor([8.6068e-08], device='cuda:0', grad_fn=<DivBackward0>) 5.508373760676477e-06 0.0\n",
      "223461 tensor([9.1912e-06], device='cuda:0', grad_fn=<DivBackward0>) 0.0005882374243810773 0.0\n",
      "241857 tensor([0.0001], device='cuda:0', grad_fn=<DivBackward0>) 0.0 0.006786905694752932\n",
      "258174 tensor([3.5862e-06], device='cuda:0', grad_fn=<DivBackward0>) 0.0 0.00022951740538701415\n",
      "260442 tensor([1.4958e-05], device='cuda:0', grad_fn=<DivBackward0>) 0.000957318814471364 0.0\n",
      "274239 tensor([2.0454e-05], device='cuda:0', grad_fn=<DivBackward0>) 0.001309078186750412 0.0\n",
      "299691 tensor([0.], device='cuda:0', grad_fn=<DivBackward0>) 0.0 0.0\n",
      "310401 tensor([4.7241e-06], device='cuda:0', grad_fn=<DivBackward0>) 0.0003023410390596837 0.0\n",
      "310716 tensor([1.9223e-06], device='cuda:0', grad_fn=<DivBackward0>) 3.875748734571971e-05 8.426928980043158e-05\n",
      "314370 tensor([0.], device='cuda:0', grad_fn=<DivBackward0>) 0.0 0.0\n",
      "322686 tensor([0.], device='cuda:0', grad_fn=<DivBackward0>) 0.0 0.0\n",
      "325836 tensor([0.], device='cuda:0', grad_fn=<DivBackward0>) 0.0 0.0\n",
      "341145 tensor([0.], device='cuda:0', grad_fn=<DivBackward0>) 0.0 0.0\n",
      "341271 tensor([0.], device='cuda:0', grad_fn=<DivBackward0>) 0.0 0.0\n",
      "343035 tensor([0.], device='cuda:0', grad_fn=<DivBackward0>) 0.0 0.0\n",
      "349335 tensor([0.], device='cuda:0', grad_fn=<DivBackward0>) 0.0 0.0\n",
      "355194 tensor([0.], device='cuda:0', grad_fn=<DivBackward0>) 0.0 0.0\n",
      "358092 tensor([0.], device='cuda:0', grad_fn=<DivBackward0>) 0.0 0.0\n",
      "364770 tensor([0.], device='cuda:0', grad_fn=<DivBackward0>) 0.0 0.0\n",
      "371637 tensor([0.], device='cuda:0', grad_fn=<DivBackward0>) 0.0 0.0\n",
      "375417 tensor([0.], device='cuda:0', grad_fn=<DivBackward0>) 0.0 0.0\n",
      "385749 tensor([7.0932e-07], device='cuda:0', grad_fn=<DivBackward0>) 4.539672227110714e-05 0.0\n",
      "391797 tensor([0.], device='cuda:0', grad_fn=<DivBackward0>) 0.0 0.0\n",
      "394758 tensor([0.], device='cuda:0', grad_fn=<DivBackward0>) 0.0 0.0\n",
      "396018 tensor([0.], device='cuda:0', grad_fn=<DivBackward0>) 0.0 0.0\n",
      "396081 tensor([0.], device='cuda:0', grad_fn=<DivBackward0>) 0.0 0.0\n",
      "401058 tensor([0.], device='cuda:0', grad_fn=<DivBackward0>) 0.0 0.0\n",
      "402885 tensor([0.], device='cuda:0', grad_fn=<DivBackward0>) 0.0 0.0\n",
      "411768 tensor([0.], device='cuda:0', grad_fn=<DivBackward0>) 0.0 0.0\n",
      "413217 tensor([0.], device='cuda:0', grad_fn=<DivBackward0>) 0.0 0.0\n",
      "442449 tensor([0.], device='cuda:0', grad_fn=<DivBackward0>) 0.0 0.0\n",
      "444150 tensor([0.], device='cuda:0', grad_fn=<DivBackward0>) 0.0 0.0\n",
      "445032 tensor([0.], device='cuda:0', grad_fn=<DivBackward0>) 0.0 0.0\n",
      "457884 tensor([0.], device='cuda:0', grad_fn=<DivBackward0>) 0.0 0.0\n",
      "462420 tensor([0.], device='cuda:0', grad_fn=<DivBackward0>) 0.0 0.0\n",
      "465759 tensor([1.4116e-05], device='cuda:0', grad_fn=<DivBackward0>) 0.0 0.0009034204413183033\n",
      "472500 tensor([1.2335e-06], device='cuda:0', grad_fn=<DivBackward0>) 0.0 7.894157170085236e-05\n",
      "473697 tensor([0.], device='cuda:0', grad_fn=<DivBackward0>) 0.0 0.0\n",
      "481131 tensor([0.], device='cuda:0', grad_fn=<DivBackward0>) 0.0 0.0\n",
      "batch iteration 0\n",
      "batch_loss: 0.00 \n",
      "\n",
      "\n"
     ]
    }
   ],
   "source": [
    "target_order = \"unsupervised\"\n",
    "for iteration in range(int(echo)):\n",
    "    # offender_types = []\n",
    "    # defender_types = []\n",
    "    \n",
    "    \n",
    "    X_train_list = []\n",
    "    temp_number = 0\n",
    "    total_batch_loss = 0 \n",
    "    while(temp_number<len(training_data)-1):\n",
    "        \n",
    "        loss2_list = []\n",
    "        loss1_sum = 0\n",
    "        loss2_sum = 0\n",
    "        denominator = 0\n",
    "        for index in range(temp_number, min(batch_size+temp_number,len(training_data))):\n",
    "            h_loss1,h_loss2,h_list = net(training_data[index],training_label[index],0)\n",
    "            denominator += 1\n",
    "            loss1_sum += h_loss1\n",
    "            loss2_sum += h_loss2\n",
    "            \n",
    "        loss_sum = loss1_sum + loss2_sum\n",
    "        loss = (loss_sum) / denominator \n",
    "        total_batch_loss +=float(loss_sum)\n",
    "        optimizer.zero_grad()\n",
    "        \n",
    "        loss.backward()\n",
    "        \n",
    "        optimizer.step()\n",
    "        \n",
    "        temp_number = index\n",
    "        \n",
    "        if(random.random()<=0.01):\n",
    "            print(temp_number,loss,float(loss1_sum),float(loss2_sum))\n",
    "\n",
    "\n",
    "    print(\"batch iteration\", iteration)\n",
    "    print(\"batch_loss: %.2f \" % (total_batch_loss/len(training_data)))\n",
    "    \n",
    "    print()\n",
    "    print()"
   ]
  },
  {
   "cell_type": "code",
   "execution_count": 17,
   "metadata": {
    "ExecuteTime": {
     "end_time": "2021-05-28T04:41:23.197119Z",
     "start_time": "2021-05-28T04:41:23.181996Z"
    }
   },
   "outputs": [],
   "source": [
    "torch.save(net, \"save/Deep_learning_small_5_4\")"
   ]
  },
  {
   "cell_type": "code",
   "execution_count": 18,
   "metadata": {
    "ExecuteTime": {
     "end_time": "2021-05-28T04:46:07.504887Z",
     "start_time": "2021-05-28T04:41:23.199080Z"
    }
   },
   "outputs": [
    {
     "name": "stdout",
     "output_type": "stream",
     "text": [
      "3.361366037332357 2.8561949729919434 0.5051710643404137\n"
     ]
    }
   ],
   "source": [
    "denominator = 0\n",
    "result_list = []\n",
    "for index in range(len(testing_data)):\n",
    "    h_list = []\n",
    "    for i in range(Agent_number_n):\n",
    "        h = net.calculate(torch.tensor(testing_data[index][i]).cuda().type(torch.float32))\n",
    "        h_list.append(float(h))\n",
    "    \n",
    "    #print(sum(h_list),h_list,sum(h_list)/testing_label[index])\n",
    "    result_list.append(sum(h_list)/testing_label[index])\n",
    "    \n",
    "\n",
    "print(max(result_list),min(result_list),max(result_list)-min(result_list))"
   ]
  },
  {
   "cell_type": "code",
   "execution_count": 19,
   "metadata": {
    "ExecuteTime": {
     "end_time": "2021-05-28T04:46:08.629332Z",
     "start_time": "2021-05-28T04:46:07.506023Z"
    }
   },
   "outputs": [
    {
     "data": {
      "image/png": "[encoded data removed]",
      "text/plain": [
       "<Figure size 432x288 with 1 Axes>"
      ]
     },
     "metadata": {
      "needs_background": "light"
     },
     "output_type": "display_data"
    }
   ],
   "source": [
    "plt.hist(result_list,bins=500)\n",
    "\n",
    "plt.title(\"Means\", y=1.015, fontsize=20)\n",
    "plt.axvline(x=sum(result_list)/len(result_list), linestyle='--', linewidth=2.5, label=\"sample mean\", c='orange')\n",
    "plt.xlabel(\"samples\", labelpad=14)\n",
    "plt.ylabel(\"frequency of occurence\", labelpad=14)\n",
    "plt.legend();\n",
    "\n",
    "result_list.sort()\n",
    "\n",
    "plt.axvline(x=result_list[int(len(result_list)*0.01)], linestyle='--', linewidth=0.5, label=\"1%\", c='b')\n",
    "plt.axvline(x=result_list[int(len(result_list)*0.99)], linestyle='--', linewidth=0.5, label=\"99%\", c='r')\n",
    "\n",
    "\n",
    "plt.show()"
   ]
  },
  {
   "cell_type": "code",
   "execution_count": 20,
   "metadata": {
    "ExecuteTime": {
     "end_time": "2021-05-28T04:46:08.709161Z",
     "start_time": "2021-05-28T04:46:08.630245Z"
    }
   },
   "outputs": [
    {
     "name": "stdout",
     "output_type": "stream",
     "text": [
      "Parameter containing:\n",
      "tensor([[ 0.3266, -0.1644, -0.0285],\n",
      "        [-0.1908,  0.1431, -0.3577],\n",
      "        [-0.0583,  0.2408,  0.0644],\n",
      "        [-0.0259, -0.5380, -0.1050],\n",
      "        [-0.3123, -0.1726, -0.0281],\n",
      "        [ 0.1470,  0.0024,  0.1071],\n",
      "        [-0.2471, -0.1313, -0.0592],\n",
      "        [ 0.0501,  0.0476, -0.1122],\n",
      "        [ 0.2427, -0.0664,  0.0454],\n",
      "        [-0.1700,  0.3985, -0.0876],\n",
      "        [-0.2652,  0.1484, -0.3502],\n",
      "        [-0.0215,  0.1760, -0.2785],\n",
      "        [ 0.0265, -0.1115,  0.4111],\n",
      "        [-0.4171, -0.0124, -0.0236],\n",
      "        [ 0.1057, -0.0993, -0.3191],\n",
      "        [-0.0248,  0.0897,  0.2210],\n",
      "        [-0.5240, -0.0802, -0.0347],\n",
      "        [-0.1138, -0.2466,  0.2171],\n",
      "        [ 0.0982, -0.1220, -0.1821],\n",
      "        [ 0.1062,  0.0760, -0.2608],\n",
      "        [ 0.0582, -0.2190, -0.0534],\n",
      "        [-0.1281, -0.2769,  0.1921],\n",
      "        [-0.0223,  0.1901, -0.0351],\n",
      "        [ 0.1623, -0.3786, -0.0863],\n",
      "        [-0.0271,  0.5068, -0.0604],\n",
      "        [ 0.0603,  0.1903, -0.0698],\n",
      "        [-0.1448, -0.0922,  0.0080],\n",
      "        [-0.3364,  0.2617, -0.1074],\n",
      "        [-0.0118, -0.0335, -0.0022],\n",
      "        [ 0.1491,  0.2634, -0.2591],\n",
      "        [-0.4407, -0.0351,  0.0771],\n",
      "        [ 0.2506, -0.1172, -0.1664],\n",
      "        [-0.0088, -0.2984, -0.0750],\n",
      "        [ 0.0401,  0.0495, -0.0118],\n",
      "        [-0.0773,  0.0875, -0.1551],\n",
      "        [ 0.3357, -0.3197,  0.3736],\n",
      "        [ 0.1819,  0.1296, -0.0840],\n",
      "        [-0.0398, -0.1520, -0.1184],\n",
      "        [-0.1337, -0.0953,  0.1259],\n",
      "        [-0.2031,  0.3329,  0.1649],\n",
      "        [ 0.0844,  0.0264,  0.1259],\n",
      "        [ 0.0055, -0.1292,  0.1774],\n",
      "        [ 0.1142,  0.2371,  0.1512],\n",
      "        [-0.0192, -0.0751, -0.2190],\n",
      "        [-0.1228,  0.0880,  0.4517],\n",
      "        [ 0.1030, -0.2826,  0.2305],\n",
      "        [-0.3898,  0.0378, -0.2042],\n",
      "        [-0.1341, -0.1551, -0.2109],\n",
      "        [-0.1686,  0.1216,  0.0021],\n",
      "        [-0.3405,  0.0363,  0.1237]], device='cuda:0', requires_grad=True)\n",
      "Parameter containing:\n",
      "tensor([ 0.0081, -0.0021, -0.0038, -0.0072, -0.0034, -0.0126, -0.0119, -0.0189,\n",
      "        -0.0027, -0.0045, -0.0044, -0.0535,  0.0034, -0.0060, -0.0457,  0.0119,\n",
      "         0.0028,  0.0018,  0.0798, -0.0080, -0.0455, -0.0004, -0.0110, -0.0206,\n",
      "        -0.0091,  0.0008, -0.0030, -0.0021, -0.0056, -0.0366, -0.0023, -0.0313,\n",
      "        -0.0114,  0.0074, -0.0164,  0.0167, -0.0242, -0.0090,  0.0003, -0.0025,\n",
      "        -0.0143, -0.0157, -0.0211,  0.0011,  0.0103, -0.0022, -0.0055,  0.0018,\n",
      "        -0.0122,  0.0001], device='cuda:0', requires_grad=True)\n",
      "Parameter containing:\n",
      "tensor([[ 0.0038, -0.0569, -0.0386,  ...,  0.0718, -0.6634,  0.0605],\n",
      "        [ 0.1311,  0.1350, -0.0253,  ...,  0.4872, -0.4879,  0.1145],\n",
      "        [ 0.0955,  0.2258,  0.2197,  ...,  0.0155, -0.3531, -0.1970],\n",
      "        ...,\n",
      "        [ 0.2203,  0.3473, -0.3112,  ..., -0.0139,  0.2628, -0.0604],\n",
      "        [-0.0072, -0.3434,  0.2657,  ...,  0.2020, -0.1252,  0.3028],\n",
      "        [-0.2361, -0.0884, -0.2702,  ..., -0.3706,  0.3594,  0.1025]],\n",
      "       device='cuda:0', requires_grad=True)\n",
      "Parameter containing:\n",
      "tensor([-0.0385, -0.0041,  0.0049, -0.0132, -0.0179,  0.0327, -0.0531, -0.0328,\n",
      "         0.1210, -0.0046, -0.0376, -0.0092, -0.0312,  0.0020, -0.0210, -0.0311,\n",
      "         0.0555,  0.0112, -0.0086, -0.0044, -0.0305, -0.0130,  0.0115, -0.0041,\n",
      "         0.0126, -0.0008, -0.0275, -0.0138, -0.0009, -0.0097, -0.0172, -0.0255,\n",
      "        -0.0187, -0.0194, -0.0297, -0.0310,  0.0170, -0.0144, -0.0516, -0.0410,\n",
      "        -0.0220, -0.0200, -0.0071, -0.0226, -0.0446, -0.0528, -0.0004, -0.0144,\n",
      "        -0.0034,  0.0275], device='cuda:0', requires_grad=True)\n",
      "Parameter containing:\n",
      "tensor([[ 0.1067, -0.1077,  0.1587,  ...,  0.3532, -0.2665,  0.0365],\n",
      "        [ 0.1733, -0.1152,  0.1665,  ...,  0.0092,  0.0016, -0.0521],\n",
      "        [ 0.0841,  0.3403,  0.0440,  ..., -0.0415, -0.6099,  0.1729],\n",
      "        ...,\n",
      "        [ 0.1252, -0.2581, -0.0357,  ..., -0.0202, -0.0292,  0.0768],\n",
      "        [ 0.1581,  0.0770,  0.3777,  ..., -0.0564,  0.4261, -0.2579],\n",
      "        [-0.1512, -0.2256, -0.0993,  ...,  0.0353,  0.2677, -0.3019]],\n",
      "       device='cuda:0', requires_grad=True)\n",
      "Parameter containing:\n",
      "tensor([-0.0479, -0.0060,  0.0031, -0.0353,  0.0211, -0.0509,  0.0269,  0.0133,\n",
      "        -0.0220, -0.0070, -0.0033, -0.0109, -0.0047,  0.0132, -0.0169, -0.0146,\n",
      "        -0.0048,  0.0120, -0.0240,  0.0479,  0.0031, -0.0378,  0.0053, -0.0436,\n",
      "         0.0226, -0.0117,  0.0308, -0.0176, -0.0253, -0.0291, -0.0101, -0.0530,\n",
      "        -0.0060, -0.0406, -0.0239, -0.0148, -0.0032, -0.0024, -0.0134, -0.0528,\n",
      "        -0.0038, -0.0384, -0.0092, -0.0321, -0.0111, -0.0009,  0.1046,  0.0051,\n",
      "        -0.0349,  0.0122], device='cuda:0', requires_grad=True)\n",
      "Parameter containing:\n",
      "tensor([[-3.5731e-02,  8.2556e-02,  9.7594e-05,  ...,  6.5074e-02,\n",
      "         -3.4295e-01, -1.3874e-01],\n",
      "        [ 3.1381e-01,  1.5711e-02, -5.6624e-02,  ..., -6.8144e-02,\n",
      "          4.8117e-02,  1.6548e-01],\n",
      "        [ 2.4499e-01, -4.7783e-01, -2.9843e-01,  ...,  1.7390e-01,\n",
      "          1.6702e-01, -1.6996e-01],\n",
      "        ...,\n",
      "        [-8.2980e-02, -2.6694e-02,  4.1483e-02,  ...,  1.2886e-01,\n",
      "         -5.9174e-03,  2.4392e-01],\n",
      "        [ 1.1140e-01,  1.1796e-02, -8.9955e-02,  ..., -5.0254e-01,\n",
      "          1.2233e-01, -5.4048e-01],\n",
      "        [-6.7683e-02, -1.5059e-01,  5.6685e-02,  ..., -2.8597e-01,\n",
      "          3.2820e-01, -4.1038e-01]], device='cuda:0', requires_grad=True)\n",
      "Parameter containing:\n",
      "tensor([ 0.0195, -0.0765, -0.0432, -0.0652,  0.0122, -0.0427, -0.0045,  0.0011,\n",
      "        -0.0107, -0.0041,  0.0292,  0.0023,  0.0019, -0.0231, -0.0585, -0.0050,\n",
      "        -0.0067,  0.0135, -0.0009, -0.0378,  0.0002, -0.0089,  0.0043, -0.0716,\n",
      "        -0.0461, -0.0410,  0.0140,  0.0095, -0.0100, -0.0425, -0.0047, -0.0097,\n",
      "        -0.0042, -0.0066, -0.0078,  0.0066, -0.0076,  0.0305,  0.0134, -0.0027,\n",
      "        -0.0081, -0.0403, -0.0072,  0.0005,  0.0495, -0.0150, -0.0323, -0.0099,\n",
      "        -0.0474, -0.0024], device='cuda:0', requires_grad=True)\n",
      "Parameter containing:\n",
      "tensor([[ 0.0845, -0.0831, -0.0844,  ..., -0.4007,  0.1769, -0.0913],\n",
      "        [-0.1566, -0.0718, -0.2684,  ..., -0.0039, -0.4106,  0.1448],\n",
      "        [-0.1269,  0.1003, -0.0997,  ..., -0.0703,  0.1671, -0.0093],\n",
      "        ...,\n",
      "        [-0.2079, -0.1024, -0.0139,  ...,  0.0653,  0.0832, -0.0431],\n",
      "        [ 0.0642, -0.2577,  0.1428,  ..., -0.3364,  0.1053,  0.1741],\n",
      "        [ 0.0897,  0.3005,  0.0737,  ..., -0.0073,  0.0304,  0.0081]],\n",
      "       device='cuda:0', requires_grad=True)\n",
      "Parameter containing:\n",
      "tensor([-1.5522e-02, -1.9191e-02,  4.9037e-03, -2.7606e-03, -1.0916e-02,\n",
      "        -6.2752e-02, -4.9635e-02, -1.6696e-02, -1.5138e-03, -3.3394e-03,\n",
      "         2.8552e-03, -2.4884e-02,  9.0906e-03, -4.6842e-02, -1.5347e-02,\n",
      "        -3.2957e-02,  4.9292e-02, -3.8473e-02, -3.3255e-02,  4.0329e-03,\n",
      "        -3.2269e-02, -2.2657e-02, -5.7748e-03, -1.3368e-02, -9.9754e-03,\n",
      "         1.0878e-02, -1.6612e-02, -4.3180e-02,  2.0521e-02, -1.6033e-02,\n",
      "         1.2378e-02, -1.5012e-02, -1.7382e-02, -9.2903e-03, -3.4103e-02,\n",
      "        -9.6709e-03,  4.9882e-03,  1.6085e-02, -1.0324e-02,  1.6683e-02,\n",
      "        -1.1793e-02, -4.0187e-02, -3.7729e-02, -8.0563e-06, -2.7778e-02,\n",
      "         1.6814e-02, -6.1538e-03,  1.5811e-02, -1.3317e-02, -1.2892e-03],\n",
      "       device='cuda:0', requires_grad=True)\n",
      "Parameter containing:\n",
      "tensor([[-0.0308,  0.0059, -0.2321,  ..., -0.3799, -0.2658, -0.2152],\n",
      "        [ 0.0590, -0.0787,  0.2039,  ..., -0.2790, -0.2604,  0.1767],\n",
      "        [ 0.2254,  0.0363, -0.2264,  ..., -0.2690, -0.1710, -0.3477],\n",
      "        ...,\n",
      "        [-0.1542, -0.1653, -0.1500,  ..., -0.1706,  0.1672, -0.1596],\n",
      "        [-0.5020,  0.3984, -0.0563,  ..., -0.1507,  0.2563, -0.1843],\n",
      "        [ 0.0099, -0.1941, -0.1521,  ...,  0.2453,  0.1943, -0.0723]],\n",
      "       device='cuda:0', requires_grad=True)\n",
      "Parameter containing:\n",
      "tensor([ 0.0049, -0.0174, -0.0030, -0.0002,  0.0086, -0.0074, -0.0006, -0.0481,\n",
      "         0.0293,  0.0131,  0.0184, -0.0676, -0.0291, -0.0077, -0.0403, -0.0019,\n",
      "         0.0083,  0.0243, -0.0147, -0.0043,  0.0276, -0.0201,  0.0024, -0.0524,\n",
      "        -0.0248, -0.0261,  0.0169, -0.0006,  0.0135,  0.0091,  0.0818, -0.0419,\n",
      "         0.0239,  0.0165, -0.0041, -0.0632, -0.0306, -0.0235,  0.0274,  0.0211,\n",
      "        -0.0252,  0.0120, -0.0100, -0.0083,  0.0212,  0.0027,  0.0276,  0.0268,\n",
      "         0.0060, -0.0202], device='cuda:0', requires_grad=True)\n",
      "Parameter containing:\n",
      "tensor([[-0.0112, -0.0778,  0.0552,  ..., -0.2590, -0.1772,  0.1566],\n",
      "        [ 0.1469, -0.0511, -0.1176,  ..., -0.2176,  0.2505, -0.0772],\n",
      "        [ 0.0337, -0.1781, -0.0754,  ..., -0.0205, -0.2309, -0.1279],\n",
      "        ...,\n",
      "        [ 0.0998,  0.3844, -0.1323,  ...,  0.1532, -0.0168,  0.1622],\n",
      "        [-0.0208,  0.0694, -0.0222,  ...,  0.0447,  0.2882, -0.0328],\n",
      "        [-0.1490, -0.2789,  0.2597,  ...,  0.1121, -0.1691, -0.0411]],\n",
      "       device='cuda:0', requires_grad=True)\n",
      "Parameter containing:\n",
      "tensor([-0.0570,  0.0109,  0.0113, -0.0487, -0.0754,  0.0147, -0.0417, -0.0084,\n",
      "        -0.0032, -0.0218, -0.0214, -0.0161,  0.0257,  0.0029,  0.0091, -0.0351,\n",
      "        -0.0018,  0.0177, -0.0050,  0.0159,  0.0216, -0.0167, -0.0334,  0.0104,\n",
      "         0.0192,  0.0319, -0.0003, -0.0217, -0.0045,  0.0086, -0.0645,  0.0018,\n",
      "         0.0337,  0.0049,  0.0483,  0.0087, -0.0218,  0.0210, -0.0014, -0.0019,\n",
      "        -0.0617,  0.0217,  0.0187, -0.0163, -0.0332, -0.0021,  0.0202,  0.0299,\n",
      "         0.0131,  0.0204], device='cuda:0', requires_grad=True)\n",
      "Parameter containing:\n",
      "tensor([[-0.0788,  0.2590,  0.0561,  ..., -0.1237,  0.1611, -0.2006],\n",
      "        [ 0.1568,  0.2672,  0.0838,  ..., -0.2957,  0.1538, -0.2296],\n",
      "        [ 0.0401, -0.0302, -0.2103,  ..., -0.3804,  0.0458,  0.1990],\n",
      "        ...,\n",
      "        [ 0.1183, -0.1184, -0.4870,  ...,  0.1967, -0.1822,  0.2046],\n",
      "        [ 0.0460,  0.1034,  0.4992,  ...,  0.0762,  0.0185,  0.1502],\n",
      "        [ 0.3853,  0.0897, -0.3978,  ..., -0.0440, -0.3857,  0.0075]],\n",
      "       device='cuda:0', requires_grad=True)\n",
      "Parameter containing:\n",
      "tensor([ 1.0753e-02, -8.3225e-03, -4.8335e-02,  8.5875e-03, -3.5667e-02,\n",
      "        -8.3636e-03,  2.0206e-03,  1.4402e-02, -1.5121e-02, -4.8331e-02,\n",
      "        -1.1800e-02, -2.3811e-02, -3.7050e-02,  1.0015e-02,  1.8013e-02,\n",
      "         2.1940e-02,  7.7936e-03, -2.4351e-02,  9.6554e-03, -8.3233e-03,\n",
      "         5.6803e-03, -1.8814e-02,  1.5335e-02,  1.6616e-02, -5.2786e-05,\n",
      "         3.3761e-02,  1.4928e-02,  1.8620e-02,  2.5645e-02, -4.7379e-03,\n",
      "        -2.8516e-03,  6.7344e-03, -1.0806e-03,  1.2084e-02,  5.2386e-02,\n",
      "        -1.1012e-02,  5.9969e-03, -1.8733e-02,  2.0106e-02,  2.4842e-03,\n",
      "        -5.1426e-02, -4.0172e-03,  1.8596e-02, -1.9377e-02,  1.8371e-02,\n",
      "         2.0373e-03,  1.2450e-03, -3.2745e-02, -6.4614e-02, -3.3451e-02],\n",
      "       device='cuda:0', requires_grad=True)\n",
      "Parameter containing:\n",
      "tensor([[-0.2658,  0.1834, -0.0909,  0.0102, -0.2453, -0.1729, -0.4027,  0.4303,\n",
      "          0.2135, -0.0168, -0.1335,  0.0938, -0.0120,  0.3797,  0.0817,  0.1245,\n",
      "          0.2252, -0.1004, -0.0304, -0.3270,  0.0648, -0.2339,  0.1086,  0.1622,\n",
      "          0.0337,  0.0733,  0.1280,  0.1094,  0.3779, -0.4048,  0.1884, -0.3237,\n",
      "         -0.2352,  0.2803,  0.2344, -0.0791,  0.0403, -0.0957,  0.0559, -0.0887,\n",
      "         -0.0486,  0.4109,  0.3273, -0.0400,  0.0758,  0.0763, -0.2062, -0.4190,\n",
      "         -0.0011, -0.0487]], device='cuda:0', requires_grad=True)\n",
      "Parameter containing:\n",
      "tensor([0.0212], device='cuda:0', requires_grad=True)\n"
     ]
    }
   ],
   "source": [
    "for param in net.parameters():\n",
    "    print(param )"
   ]
  }
 ],
 "metadata": {
  "hide_input": false,
  "kernelspec": {
   "display_name": "Python 3",
   "language": "python",
   "name": "python3"
  },
  "language_info": {
   "codemirror_mode": {
    "name": "ipython",
    "version": 3
   },
   "file_extension": ".py",
   "mimetype": "text/x-python",
   "name": "python",
   "nbconvert_exporter": "python",
   "pygments_lexer": "ipython3",
   "version": "3.8.3"
  },
  "varInspector": {
   "cols": {
    "lenName": 16,
    "lenType": 16,
    "lenVar": 40
   },
   "kernels_config": {
    "python": {
     "delete_cmd_postfix": "",
     "delete_cmd_prefix": "del ",
     "library": "var_list.py",
     "varRefreshCmd": "print(var_dic_list())"
    },
    "r": {
     "delete_cmd_postfix": ") ",
     "delete_cmd_prefix": "rm(",
     "library": "var_list.r",
     "varRefreshCmd": "cat(var_dic_list()) "
    }
   },
   "types_to_exclude": [
    "module",
    "function",
    "builtin_function_or_method",
    "instance",
    "_Feature"
   ],
   "window_display": false
  }
 },
 "nbformat": 4,
 "nbformat_minor": 4
}
