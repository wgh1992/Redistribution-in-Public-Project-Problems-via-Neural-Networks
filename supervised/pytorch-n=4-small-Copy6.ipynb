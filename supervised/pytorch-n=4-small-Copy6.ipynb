{
 "cells": [
  {
   "cell_type": "code",
   "execution_count": 1,
   "metadata": {
    "ExecuteTime": {
     "end_time": "2021-05-28T06:03:50.331853Z",
     "start_time": "2021-05-28T06:03:49.068546Z"
    }
   },
   "outputs": [
    {
     "name": "stdout",
     "output_type": "stream",
     "text": [
      "pygame 2.0.1 (SDL 2.0.14, Python 3.8.3)\n",
      "Hello from the pygame community. https://www.pygame.org/contribute.html\n",
      "cuda:0\n"
     ]
    },
    {
     "name": "stderr",
     "output_type": "stream",
     "text": [
      "D:\\ComputerSoftwares\\Anaconda\\lib\\site-packages\\sklearn\\utils\\deprecation.py:143: FutureWarning: The sklearn.datasets.samples_generator module is  deprecated in version 0.22 and will be removed in version 0.24. The corresponding classes / functions should instead be imported from sklearn.datasets. Anything that cannot be imported from sklearn.datasets is now part of the private API.\n",
      "  warnings.warn(message, FutureWarning)\n"
     ]
    }
   ],
   "source": [
    "\n",
    "import pygame\n",
    "import random\n",
    "import os\n",
    "import time\n",
    "import numpy as np\n",
    "import math\n",
    "import torch\n",
    "import torch.nn.functional\n",
    "import matplotlib.pyplot as plt\n",
    "import torch.optim as opt\n",
    "from torch.autograd import Variable\n",
    "from sklearn.model_selection import train_test_split\n",
    "\n",
    "import scipy.stats as st\n",
    "from sklearn.datasets.samples_generator import make_blobs\n",
    "from matplotlib.colors import LogNorm \n",
    "import matplotlib.cm as cm\n",
    "import torch.nn as nn\n",
    "import numpy as np\n",
    "import matplotlib.pyplot as plt\n",
    "\n",
    "\n",
    "if torch.cuda.is_available():  \n",
    "    dev = \"cuda:0\" \n",
    "else:  \n",
    "    dev = \"cpu\"  \n",
    "\n",
    "print(dev)\n"
   ]
  },
  {
   "cell_type": "code",
   "execution_count": 2,
   "metadata": {
    "ExecuteTime": {
     "end_time": "2021-05-28T06:03:50.347870Z",
     "start_time": "2021-05-28T06:03:50.333848Z"
    }
   },
   "outputs": [],
   "source": [
    "global target_order\n",
    "target_order = \"supervised\"\n",
    "global temp_list\n",
    "temp_list = []\n",
    "Agent_number_n=4;\n",
    "Alpha = 0.666;\n",
    "\n"
   ]
  },
  {
   "cell_type": "code",
   "execution_count": 3,
   "metadata": {
    "ExecuteTime": {
     "end_time": "2021-05-28T06:03:58.643568Z",
     "start_time": "2021-05-28T06:03:50.348870Z"
    }
   },
   "outputs": [
    {
     "name": "stdout",
     "output_type": "stream",
     "text": [
      "[[[0.69901686 0.37975015 0.06875388]\n",
      "  [0.71068752 0.37975015 0.06875388]\n",
      "  [0.71068752 0.69901686 0.06875388]\n",
      "  [0.71068752 0.69901686 0.37975015]]\n",
      "\n",
      " [[0.7689123  0.59384323 0.30547872]\n",
      "  [0.9284227  0.59384323 0.30547872]\n",
      "  [0.9284227  0.7689123  0.30547872]\n",
      "  [0.9284227  0.7689123  0.59384323]]\n",
      "\n",
      " [[0.55254964 0.29994547 0.26903483]\n",
      "  [0.60673927 0.29994547 0.26903483]\n",
      "  [0.60673927 0.55254964 0.26903483]\n",
      "  [0.60673927 0.55254964 0.29994547]]\n",
      "\n",
      " ...\n",
      "\n",
      " [[0.7490123  0.55724894 0.26193983]\n",
      "  [0.81208283 0.55724894 0.26193983]\n",
      "  [0.81208283 0.7490123  0.26193983]\n",
      "  [0.81208283 0.7490123  0.55724894]]\n",
      "\n",
      " [[0.6504598  0.18138824 0.05233254]\n",
      "  [0.96586612 0.18138824 0.05233254]\n",
      "  [0.96586612 0.6504598  0.05233254]\n",
      "  [0.96586612 0.6504598  0.18138824]]\n",
      "\n",
      " [[0.59751308 0.52015593 0.18686868]\n",
      "  [0.88615199 0.52015593 0.18686868]\n",
      "  [0.88615199 0.59751308 0.18686868]\n",
      "  [0.88615199 0.59751308 0.52015593]]]\n",
      "[[[0.36123212 0.1876603  0.12864553]\n",
      "  [0.47912153 0.1876603  0.12864553]\n",
      "  [0.47912153 0.36123212 0.12864553]\n",
      "  [0.47912153 0.36123212 0.1876603 ]]\n",
      "\n",
      " [[0.37420435 0.11261264 0.00563955]\n",
      "  [0.38010511 0.11261264 0.00563955]\n",
      "  [0.38010511 0.37420435 0.00563955]\n",
      "  [0.38010511 0.37420435 0.11261264]]\n",
      "\n",
      " [[0.79834293 0.6080836  0.28462789]\n",
      "  [0.8109105  0.6080836  0.28462789]\n",
      "  [0.8109105  0.79834293 0.28462789]\n",
      "  [0.8109105  0.79834293 0.6080836 ]]\n",
      "\n",
      " ...\n",
      "\n",
      " [[0.79571991 0.62032936 0.15740958]\n",
      "  [0.95965821 0.62032936 0.15740958]\n",
      "  [0.95965821 0.79571991 0.15740958]\n",
      "  [0.95965821 0.79571991 0.62032936]]\n",
      "\n",
      " [[0.46534945 0.40709975 0.23452441]\n",
      "  [0.60620578 0.40709975 0.23452441]\n",
      "  [0.60620578 0.46534945 0.23452441]\n",
      "  [0.60620578 0.46534945 0.40709975]]\n",
      "\n",
      " [[0.56236003 0.1753654  0.15900558]\n",
      "  [0.85662054 0.1753654  0.15900558]\n",
      "  [0.85662054 0.56236003 0.15900558]\n",
      "  [0.85662054 0.56236003 0.1753654 ]]]\n",
      "[1.8582084  2.59665696 1.7282692  ... 2.3802839  1.8500467  2.19068969]\n",
      "[1.15665947 1.         2.50196493 ... 2.53311707 1.71317939 1.75335155]\n"
     ]
    }
   ],
   "source": [
    "global temp_list\n",
    "temp_list = []\n",
    "def appen(_x_list,y):\n",
    "    global temp_list\n",
    "    temp_list.append(_x_list)\n",
    "    \n",
    "def appen_train(x_list):\n",
    "    global temp_list\n",
    "                \n",
    "    S= max(sum(x_list),1.0);\n",
    "    temp_list = []\n",
    "    \n",
    "    for i in range(Agent_number_n):\n",
    "        temp = []\n",
    "        for j in range(Agent_number_n):\n",
    "            if(i!=j):\n",
    "                temp.append(x_list[j])\n",
    "        appen(temp,S)\n",
    "    \n",
    "    training_data.append(temp_list)\n",
    "    training_label.append(S)\n",
    "    \n",
    "\n",
    "def read_training_data():\n",
    "    for i in range(500000):\n",
    "        appen_train(sorted(np.random.rand(Agent_number_n), reverse=True));\n",
    "\n",
    "training_data=[]\n",
    "training_label=[]\n",
    "S=1.0\n",
    "read_training_data();\n",
    "\n",
    "def appen_test(x_list):\n",
    "    global temp_list\n",
    "                \n",
    "    S= max(sum(x_list),1.0);\n",
    "    temp_list = []\n",
    "    \n",
    "    for i in range(Agent_number_n):\n",
    "        temp = []\n",
    "        for j in range(Agent_number_n):\n",
    "            if(i!=j):\n",
    "                temp.append(x_list[j])\n",
    "        appen(temp,S)\n",
    "    testing_data.append(temp_list)\n",
    "    testing_label.append(S)\n",
    "    \n",
    "\n",
    "def read_testing_data():\n",
    "#     devided=20\n",
    "#     for i1 in range(devided+1):\n",
    "#         for i2 in range(i1+1):\n",
    "#             for i3 in range(i2+1):\n",
    "#                 appen_test(i1/devided,i2/devided,i3/devided);\n",
    "    for i in range(100000):\n",
    "        appen_test(sorted(np.random.rand(Agent_number_n), reverse=True));\n",
    "                            \n",
    "\n",
    "testing_data=[]\n",
    "testing_label=[]\n",
    "S=1.0\n",
    "read_testing_data();\n",
    "\n",
    "training_data=np.array(training_data)\n",
    "training_label=np.array(training_label)\n",
    "testing_data=np.array(testing_data)\n",
    "testing_label=np.array(testing_label)\n",
    "print(training_data)\n",
    "print(testing_data)\n",
    "print(training_label)\n",
    "print(testing_label)"
   ]
  },
  {
   "cell_type": "code",
   "execution_count": 4,
   "metadata": {
    "ExecuteTime": {
     "end_time": "2021-05-28T06:05:55.905602Z",
     "start_time": "2021-05-28T06:03:58.645563Z"
    }
   },
   "outputs": [
    {
     "name": "stdout",
     "output_type": "stream",
     "text": [
      "3.374818342124247 2.999999999999999 0.3748183421242479\n"
     ]
    }
   ],
   "source": [
    "def h_3_star(a, b, t):\n",
    "    return a - min(a, t) + b - min(b, t) + max(min(a, t)+min(b, t), 2*t/3) + 1/2 * max(min(a, t)+min(b, t), t) - 1/2 * max(max(min(a, t), min(b, t)), 2*t/3) - t/6\n",
    "\n",
    "\n",
    "def f_function(a, b, z):\n",
    "    if(z >= 1):\n",
    "        return (a+b)/2 + z/3\n",
    "    else:\n",
    "        return z/3 + h_3_star(a, b, 1-z)/2\n",
    "\n",
    "def h_function(input_list):\n",
    "    #input_list = sorted(input_list)\n",
    "    g_list = []\n",
    "    for j1 in range(len(input_list) ):\n",
    "        for j2 in range(len(input_list)):\n",
    "            if(j1 != j2):\n",
    "                a = input_list[j1]\n",
    "                b = input_list[j2]\n",
    "                z = sum(input_list)- a-b\n",
    "\n",
    "                g_list.append( f_function(a, b, z) * (Agent_number_n-1))\n",
    "    h = sum(g_list) * 3 /  (Agent_number_n) /  (Agent_number_n-1) /  (Agent_number_n - 2)\n",
    "    return h\n",
    "                \n",
    "                \n",
    "x_list = []\n",
    "y_list = []\n",
    "z_list = []\n",
    "result_list = []\n",
    "training_supervised_label=[]\n",
    "for index in range(len(training_data)):\n",
    "    h_list = []\n",
    "    for i in range(Agent_number_n):\n",
    "        x_list.append(training_data[index][i][0])\n",
    "        y_list.append(training_data[index][i][1])\n",
    "        h = h_function(training_data[index][i])\n",
    "        z_list.append(float(h))\n",
    "        h_list.append(float(h))\n",
    "    training_supervised_label.append(h_list)\n",
    "    result_list.append(sum(h_list)/training_label[index]) \n",
    "    \n",
    "    \n",
    "print(max(result_list), min(result_list), max(result_list)-min(result_list))"
   ]
  },
  {
   "cell_type": "code",
   "execution_count": 5,
   "metadata": {
    "ExecuteTime": {
     "end_time": "2021-05-28T06:05:57.373473Z",
     "start_time": "2021-05-28T06:05:55.906573Z"
    }
   },
   "outputs": [
    {
     "data": {
      "image/png": "[encoded data removed]",
      "text/plain": [
       "<Figure size 432x288 with 1 Axes>"
      ]
     },
     "metadata": {
      "needs_background": "light"
     },
     "output_type": "display_data"
    }
   ],
   "source": [
    "plt.hist(result_list,bins=500)\n",
    "\n",
    "plt.title(\"Means\", y=1.015, fontsize=20)\n",
    "plt.axvline(x=sum(result_list)/len(result_list), linestyle='--', linewidth=2.5, label=\"sample mean\", c='orange')\n",
    "plt.xlabel(\"samples\", labelpad=14)\n",
    "plt.ylabel(\"frequency of occurence\", labelpad=14)\n",
    "plt.legend();\n",
    "\n",
    "result_list.sort()\n",
    "\n",
    "plt.axvline(x=result_list[int(len(result_list)*0.01)], linestyle='--', linewidth=0.5, label=\"1%\", c='b')\n",
    "plt.axvline(x=result_list[int(len(result_list)*0.99)], linestyle='--', linewidth=0.5, label=\"99%\", c='r')\n",
    "\n",
    "\n",
    "plt.show()"
   ]
  },
  {
   "cell_type": "code",
   "execution_count": 6,
   "metadata": {
    "ExecuteTime": {
     "end_time": "2021-05-28T06:05:57.857228Z",
     "start_time": "2021-05-28T06:05:57.374703Z"
    }
   },
   "outputs": [
    {
     "name": "stdout",
     "output_type": "stream",
     "text": [
      "[[1.1287268  1.14112688 1.54021025 1.94077271]\n",
      " [1.79695071 1.93652231 2.12746201 2.37978095]\n",
      " [1.16125339 1.21882988 1.53458508 1.57901914]\n",
      " ...\n",
      " [1.67937173 1.73455844 1.97015559 2.22855106]\n",
      " [0.86104305 1.13728383 1.72362328 1.8849429 ]\n",
      " [1.36617629 1.65916376 1.75586019 2.12834338]]\n"
     ]
    }
   ],
   "source": [
    "training_supervised_label=np.array(training_supervised_label)\n",
    "print(training_supervised_label)"
   ]
  },
  {
   "cell_type": "code",
   "execution_count": 7,
   "metadata": {
    "ExecuteTime": {
     "end_time": "2021-05-28T06:05:57.873237Z",
     "start_time": "2021-05-28T06:05:57.860222Z"
    }
   },
   "outputs": [
    {
     "name": "stdout",
     "output_type": "stream",
     "text": [
      "cuda:0\n"
     ]
    }
   ],
   "source": [
    "if torch.cuda.is_available():  \n",
    "    dev = \"cuda:0\" \n",
    "else:  \n",
    "    dev = \"cpu\"  \n",
    "\n",
    "print(dev)\n"
   ]
  },
  {
   "cell_type": "code",
   "execution_count": 8,
   "metadata": {
    "ExecuteTime": {
     "end_time": "2021-05-28T06:05:57.905207Z",
     "start_time": "2021-05-28T06:05:57.876178Z"
    },
    "run_control": {
     "marked": true
    }
   },
   "outputs": [],
   "source": [
    "def weight_init(m):\n",
    "    if isinstance(m, torch.nn.Conv2d):\n",
    "        torch.nn.init.xavier_normal_(m.weight)\n",
    "        torch.nn.init.zeros_(m.bias)\n",
    "    elif isinstance(m, torch.nn.Linear):\n",
    "        torch.nn.init.normal_(m.weight, mean=0.0,std =0.2)\n",
    "        torch.nn.init.normal_(m.bias, mean=0.0,std =0.01)\n",
    "#     elif isinstance(m, torch.nn.Parameter):\n",
    "#         torch.nn.init.normal_(m, mean=0.0,std =0.1)\n",
    "\n",
    "        \n",
    "\n",
    "class Net(torch.nn.Module):\n",
    "    def __init__(self):\n",
    "\n",
    "        super(Net, self).__init__()\n",
    "        \n",
    "        self.input_dim = Agent_number_n-1\n",
    "        self.hidden_dim = 50\n",
    "        self.output_dim = 1\n",
    "        self.hidden_layer_count = 8\n",
    "        \n",
    "        current_dim = self.input_dim\n",
    "        self.layers = torch.nn.ModuleList()\n",
    "        for i in range(self.hidden_layer_count):\n",
    "            self.layers.append(torch.nn.Linear(current_dim, self.hidden_dim))\n",
    "            current_dim = self.hidden_dim\n",
    "        self.layers.append(torch.nn.Linear(current_dim, self.output_dim))\n",
    "\n",
    "    def calculate(self, value_list):\n",
    "        h = value_list\n",
    "        for layer in self.layers:\n",
    "            h = torch.relu(layer(h))\n",
    "        return h\n",
    "\n",
    "    def forward(self, input_list,input_label,label):\n",
    "        global iteration,echo,target_order\n",
    "        loss1 = 0\n",
    "        loss2 = 0\n",
    "        input_list = torch.from_numpy(\n",
    "            np.array(input_list)).cuda().type(torch.float32)\n",
    "        h_list = []\n",
    "\n",
    "        if (target_order == \"supervised\"):\n",
    "            loss = 0 \n",
    "            for i in range(Agent_number_n):\n",
    "                h = self.calculate(input_list[i])\n",
    "                loss += torch.square(h - label[i])\n",
    "                h_list.append(h)\n",
    "            return loss\n",
    "        else:\n",
    "            for i in range(Agent_number_n):\n",
    "                h = self.calculate(input_list[i])\n",
    "                h_list.append(h)\n",
    "            input_label = torch.from_numpy(\n",
    "                np.array(input_label)).cuda().type(torch.float32)\n",
    "            sum_h = torch.sum(torch.cat(h_list)).cuda()\n",
    "\n",
    "\n",
    "            loss1 = torch.where((Agent_number_n-1)*input_label>sum_h,\n",
    "                            torch.square(((Agent_number_n-1)*input_label-sum_h)),\n",
    "                            torch.zeros(1).cuda()\n",
    "                          )\n",
    "\n",
    "            loss2 = torch.where((Agent_number_n-Alpha)*input_label<sum_h,\n",
    "                            torch.square((sum_h-(Agent_number_n-Alpha)*input_label))/4,\n",
    "                            torch.zeros(1).cuda()\n",
    "                          )\n",
    "\n",
    "            return loss1,loss2,h_list"
   ]
  },
  {
   "cell_type": "code",
   "execution_count": 9,
   "metadata": {
    "ExecuteTime": {
     "end_time": "2021-05-28T06:05:59.055189Z",
     "start_time": "2021-05-28T06:05:57.906210Z"
    }
   },
   "outputs": [
    {
     "data": {
      "text/plain": [
       "Net(\n",
       "  (layers): ModuleList(\n",
       "    (0): Linear(in_features=3, out_features=50, bias=True)\n",
       "    (1): Linear(in_features=50, out_features=50, bias=True)\n",
       "    (2): Linear(in_features=50, out_features=50, bias=True)\n",
       "    (3): Linear(in_features=50, out_features=50, bias=True)\n",
       "    (4): Linear(in_features=50, out_features=50, bias=True)\n",
       "    (5): Linear(in_features=50, out_features=50, bias=True)\n",
       "    (6): Linear(in_features=50, out_features=50, bias=True)\n",
       "    (7): Linear(in_features=50, out_features=50, bias=True)\n",
       "    (8): Linear(in_features=50, out_features=1, bias=True)\n",
       "  )\n",
       ")"
      ]
     },
     "execution_count": 9,
     "metadata": {},
     "output_type": "execute_result"
    }
   ],
   "source": [
    "random.seed(2000)\n",
    "torch.manual_seed(256)\n",
    "net  = Net()\n",
    "net.apply(weight_init)\n",
    "\n",
    "net = torch.load(\"save/Deep_learning_small_5_4\")\n",
    "net.to(dev)"
   ]
  },
  {
   "cell_type": "code",
   "execution_count": 10,
   "metadata": {
    "ExecuteTime": {
     "end_time": "2021-05-28T06:05:59.070247Z",
     "start_time": "2021-05-28T06:05:59.056145Z"
    },
    "run_control": {
     "marked": true
    }
   },
   "outputs": [],
   "source": [
    "#optimizer = opt.RMSprop(net.parameters(), lr=0.00001)\n",
    "#optimizer = opt.SGD(net.parameters(), lr=0.00001)\n",
    "optimizer = opt.Adam(net.parameters(), lr=0.00001)\n",
    "\n",
    "batch_size = 64\n",
    "echo = 0"
   ]
  },
  {
   "cell_type": "code",
   "execution_count": 11,
   "metadata": {
    "ExecuteTime": {
     "end_time": "2021-05-28T06:05:59.086272Z",
     "start_time": "2021-05-28T06:05:59.072243Z"
    }
   },
   "outputs": [],
   "source": [
    "target_order = \"supervised\"\n",
    "for iteration in range(int(echo)):\n",
    "    # offender_types = []\n",
    "    # defender_types = []\n",
    "    \n",
    "    \n",
    "    X_train_list = []\n",
    "    temp_number = 0\n",
    "    total_batch_loss = 0 \n",
    "    while(temp_number<len(training_data)-1):\n",
    "        loss_sum = 0\n",
    "        denominator = 0\n",
    "        for index in range(temp_number, min(batch_size+temp_number,len(training_data))):\n",
    "            h_loss = net(training_data[index],training_label[index],training_supervised_label[index])\n",
    "            denominator += 1\n",
    "            loss_sum += h_loss\n",
    "            \n",
    "        loss = (loss_sum) / denominator \n",
    "        total_batch_loss +=float(loss_sum)\n",
    "        optimizer.zero_grad()\n",
    "        \n",
    "        loss.backward()\n",
    "        \n",
    "        optimizer.step()\n",
    "        \n",
    "        temp_number = index\n",
    "        \n",
    "        if(random.random()<=0.01):\n",
    "            print(temp_number,loss,float(loss_sum))\n",
    "\n",
    "\n",
    "    print(\"batch iteration\", iteration)\n",
    "    print(\"batch_loss: %.2f \" % (total_batch_loss/len(training_data)))\n",
    "    \n",
    "    print()\n",
    "    print()"
   ]
  },
  {
   "cell_type": "code",
   "execution_count": 12,
   "metadata": {
    "ExecuteTime": {
     "end_time": "2021-05-28T06:10:44.378449Z",
     "start_time": "2021-05-28T06:05:59.087201Z"
    }
   },
   "outputs": [
    {
     "name": "stdout",
     "output_type": "stream",
     "text": [
      "3.4681731462478638 2.943939745426178 0.5242334008216858\n"
     ]
    }
   ],
   "source": [
    "denominator = 0\n",
    "result_list = []\n",
    "for index in range(len(testing_data)):\n",
    "    h_list = []\n",
    "    for i in range(Agent_number_n):\n",
    "        h = net.calculate(torch.tensor(testing_data[index][i]).cuda().type(torch.float32))\n",
    "        h_list.append(float(h))\n",
    "    \n",
    "    #print(sum(h_list),h_list,sum(h_list)/testing_label[index])\n",
    "    result_list.append(sum(h_list)/testing_label[index])\n",
    "    \n",
    "\n",
    "print(max(result_list),min(result_list),max(result_list)-min(result_list))"
   ]
  },
  {
   "cell_type": "code",
   "execution_count": 13,
   "metadata": {
    "ExecuteTime": {
     "end_time": "2021-05-28T06:10:45.247773Z",
     "start_time": "2021-05-28T06:10:44.380445Z"
    }
   },
   "outputs": [
    {
     "data": {
      "image/png": "[encoded data removed]",
      "text/plain": [
       "<Figure size 432x288 with 1 Axes>"
      ]
     },
     "metadata": {
      "needs_background": "light"
     },
     "output_type": "display_data"
    }
   ],
   "source": [
    "plt.hist(result_list,bins=500)\n",
    "\n",
    "plt.title(\"Means\", y=1.015, fontsize=20)\n",
    "plt.axvline(x=sum(result_list)/len(result_list), linestyle='--', linewidth=2.5, label=\"sample mean\", c='orange')\n",
    "plt.xlabel(\"samples\", labelpad=14)\n",
    "plt.ylabel(\"frequency of occurence\", labelpad=14)\n",
    "plt.legend();\n",
    "\n",
    "result_list.sort()\n",
    "\n",
    "plt.axvline(x=result_list[int(len(result_list)*0.01)], linestyle='--', linewidth=0.5, label=\"1%\", c='b')\n",
    "plt.axvline(x=result_list[int(len(result_list)*0.99)], linestyle='--', linewidth=0.5, label=\"99%\", c='r')\n",
    "\n",
    "\n",
    "plt.show()"
   ]
  },
  {
   "cell_type": "code",
   "execution_count": 14,
   "metadata": {
    "ExecuteTime": {
     "end_time": "2021-05-28T06:10:45.262936Z",
     "start_time": "2021-05-28T06:10:45.247773Z"
    }
   },
   "outputs": [],
   "source": [
    "torch.save(net, \"save/Deep_learning_small_5_4\")"
   ]
  },
  {
   "cell_type": "code",
   "execution_count": 15,
   "metadata": {
    "ExecuteTime": {
     "end_time": "2021-05-28T06:10:45.279247Z",
     "start_time": "2021-05-28T06:10:45.264931Z"
    }
   },
   "outputs": [],
   "source": [
    "#optimizer = opt.RMSprop(net.parameters(), lr=0.00001)\n",
    "#optimizer = opt.SGD(net.parameters(), lr=0.00005)\n",
    "optimizer = opt.Adam(net.parameters(), lr=0.00001)\n",
    "\n",
    "batch_size = 64\n",
    "echo = 1"
   ]
  },
  {
   "cell_type": "code",
   "execution_count": 16,
   "metadata": {
    "ExecuteTime": {
     "end_time": "2021-05-28T07:00:10.087946Z",
     "start_time": "2021-05-28T06:10:45.280931Z"
    }
   },
   "outputs": [
    {
     "name": "stdout",
     "output_type": "stream",
     "text": [
      "3024 tensor([0.], device='cuda:0', grad_fn=<DivBackward0>) 0.0 0.0\n",
      "4347 tensor([0.], device='cuda:0', grad_fn=<DivBackward0>) 0.0 0.0\n",
      "8883 tensor([0.], device='cuda:0', grad_fn=<DivBackward0>) 0.0 0.0\n",
      "13104 tensor([0.], device='cuda:0', grad_fn=<DivBackward0>) 0.0 0.0\n",
      "16128 tensor([0.], device='cuda:0', grad_fn=<DivBackward0>) 0.0 0.0\n",
      "25011 tensor([0.], device='cuda:0', grad_fn=<DivBackward0>) 0.0 0.0\n",
      "35091 tensor([0.], device='cuda:0', grad_fn=<DivBackward0>) 0.0 0.0\n",
      "36351 tensor([0.], device='cuda:0', grad_fn=<DivBackward0>) 0.0 0.0\n",
      "36666 tensor([0.], device='cuda:0', grad_fn=<DivBackward0>) 0.0 0.0\n",
      "56007 tensor([3.1906e-07], device='cuda:0', grad_fn=<DivBackward0>) 0.0 2.0420155124156736e-05\n",
      "68103 tensor([0.], device='cuda:0', grad_fn=<DivBackward0>) 0.0 0.0\n",
      "68166 tensor([1.8378e-05], device='cuda:0', grad_fn=<DivBackward0>) 0.0 0.0011762017384171486\n",
      "80010 tensor([1.3326e-06], device='cuda:0', grad_fn=<DivBackward0>) 8.528347825631499e-05 0.0\n",
      "82026 tensor([0.], device='cuda:0', grad_fn=<DivBackward0>) 0.0 0.0\n",
      "85680 tensor([0.], device='cuda:0', grad_fn=<DivBackward0>) 0.0 0.0\n",
      "85869 tensor([0.], device='cuda:0', grad_fn=<DivBackward0>) 0.0 0.0\n",
      "94878 tensor([0.], device='cuda:0', grad_fn=<DivBackward0>) 0.0 0.0\n",
      "104076 tensor([0.], device='cuda:0', grad_fn=<DivBackward0>) 0.0 0.0\n",
      "107415 tensor([0.], device='cuda:0', grad_fn=<DivBackward0>) 0.0 0.0\n",
      "109494 tensor([0.], device='cuda:0', grad_fn=<DivBackward0>) 0.0 0.0\n",
      "115731 tensor([0.], device='cuda:0', grad_fn=<DivBackward0>) 0.0 0.0\n",
      "117495 tensor([0.], device='cuda:0', grad_fn=<DivBackward0>) 0.0 0.0\n",
      "123291 tensor([5.1753e-06], device='cuda:0', grad_fn=<DivBackward0>) 0.0001672875660005957 0.00016393100668210536\n",
      "128331 tensor([1.0486e-06], device='cuda:0', grad_fn=<DivBackward0>) 0.0 6.71079324092716e-05\n",
      "137970 tensor([3.2497e-06], device='cuda:0', grad_fn=<DivBackward0>) 0.0 0.00020798204059246927\n",
      "145089 tensor([0.], device='cuda:0', grad_fn=<DivBackward0>) 0.0 0.0\n",
      "150759 tensor([0.], device='cuda:0', grad_fn=<DivBackward0>) 0.0 0.0\n",
      "161910 tensor([0.], device='cuda:0', grad_fn=<DivBackward0>) 0.0 0.0\n",
      "171486 tensor([0.], device='cuda:0', grad_fn=<DivBackward0>) 0.0 0.0\n",
      "186354 tensor([0.], device='cuda:0', grad_fn=<DivBackward0>) 0.0 0.0\n",
      "197757 tensor([2.4324e-05], device='cuda:0', grad_fn=<DivBackward0>) 0.0 0.0015567485243082047\n",
      "209790 tensor([0.], device='cuda:0', grad_fn=<DivBackward0>) 0.0 0.0\n",
      "217728 tensor([1.9534e-07], device='cuda:0', grad_fn=<DivBackward0>) 1.2501510354923084e-05 0.0\n",
      "218484 tensor([0.], device='cuda:0', grad_fn=<DivBackward0>) 0.0 0.0\n",
      "218547 tensor([0.], device='cuda:0', grad_fn=<DivBackward0>) 0.0 0.0\n",
      "223461 tensor([0.], device='cuda:0', grad_fn=<DivBackward0>) 0.0 0.0\n",
      "241857 tensor([5.8879e-08], device='cuda:0', grad_fn=<DivBackward0>) 3.768273245441378e-06 0.0\n",
      "258174 tensor([0.], device='cuda:0', grad_fn=<DivBackward0>) 0.0 0.0\n",
      "260442 tensor([0.], device='cuda:0', grad_fn=<DivBackward0>) 0.0 0.0\n",
      "274239 tensor([0.], device='cuda:0', grad_fn=<DivBackward0>) 0.0 0.0\n",
      "299691 tensor([0.], device='cuda:0', grad_fn=<DivBackward0>) 0.0 0.0\n",
      "310401 tensor([0.], device='cuda:0', grad_fn=<DivBackward0>) 0.0 0.0\n",
      "310716 tensor([0.], device='cuda:0', grad_fn=<DivBackward0>) 0.0 0.0\n",
      "314370 tensor([0.], device='cuda:0', grad_fn=<DivBackward0>) 0.0 0.0\n",
      "322686 tensor([0.], device='cuda:0', grad_fn=<DivBackward0>) 0.0 0.0\n",
      "325836 tensor([0.], device='cuda:0', grad_fn=<DivBackward0>) 0.0 0.0\n",
      "341145 tensor([0.], device='cuda:0', grad_fn=<DivBackward0>) 0.0 0.0\n",
      "341271 tensor([0.], device='cuda:0', grad_fn=<DivBackward0>) 0.0 0.0\n",
      "343035 tensor([0.], device='cuda:0', grad_fn=<DivBackward0>) 0.0 0.0\n",
      "349335 tensor([0.], device='cuda:0', grad_fn=<DivBackward0>) 0.0 0.0\n",
      "355194 tensor([0.], device='cuda:0', grad_fn=<DivBackward0>) 0.0 0.0\n",
      "358092 tensor([0.], device='cuda:0', grad_fn=<DivBackward0>) 0.0 0.0\n",
      "364770 tensor([0.], device='cuda:0', grad_fn=<DivBackward0>) 0.0 0.0\n",
      "371637 tensor([8.8126e-06], device='cuda:0', grad_fn=<DivBackward0>) 0.0005640090676024556 0.0\n",
      "375417 tensor([0.], device='cuda:0', grad_fn=<DivBackward0>) 0.0 0.0\n",
      "385749 tensor([0.], device='cuda:0', grad_fn=<DivBackward0>) 0.0 0.0\n",
      "391797 tensor([0.], device='cuda:0', grad_fn=<DivBackward0>) 0.0 0.0\n",
      "394758 tensor([0.], device='cuda:0', grad_fn=<DivBackward0>) 0.0 0.0\n",
      "396018 tensor([0.], device='cuda:0', grad_fn=<DivBackward0>) 0.0 0.0\n",
      "396081 tensor([0.], device='cuda:0', grad_fn=<DivBackward0>) 0.0 0.0\n",
      "401058 tensor([0.], device='cuda:0', grad_fn=<DivBackward0>) 0.0 0.0\n",
      "402885 tensor([0.], device='cuda:0', grad_fn=<DivBackward0>) 0.0 0.0\n",
      "411768 tensor([0.], device='cuda:0', grad_fn=<DivBackward0>) 0.0 0.0\n",
      "413217 tensor([0.], device='cuda:0', grad_fn=<DivBackward0>) 0.0 0.0\n",
      "442449 tensor([0.], device='cuda:0', grad_fn=<DivBackward0>) 0.0 0.0\n",
      "444150 tensor([0.], device='cuda:0', grad_fn=<DivBackward0>) 0.0 0.0\n",
      "445032 tensor([1.2845e-05], device='cuda:0', grad_fn=<DivBackward0>) 0.0 0.0008220482268370688\n",
      "457884 tensor([0.], device='cuda:0', grad_fn=<DivBackward0>) 0.0 0.0\n",
      "462420 tensor([0.], device='cuda:0', grad_fn=<DivBackward0>) 0.0 0.0\n",
      "465759 tensor([0.], device='cuda:0', grad_fn=<DivBackward0>) 0.0 0.0\n",
      "472500 tensor([0.], device='cuda:0', grad_fn=<DivBackward0>) 0.0 0.0\n",
      "473697 tensor([0.], device='cuda:0', grad_fn=<DivBackward0>) 0.0 0.0\n",
      "481131 tensor([0.], device='cuda:0', grad_fn=<DivBackward0>) 0.0 0.0\n",
      "batch iteration 0\n",
      "batch_loss: 0.00 \n",
      "\n",
      "\n"
     ]
    }
   ],
   "source": [
    "target_order = \"unsupervised\"\n",
    "for iteration in range(int(echo)):\n",
    "    # offender_types = []\n",
    "    # defender_types = []\n",
    "    \n",
    "    \n",
    "    X_train_list = []\n",
    "    temp_number = 0\n",
    "    total_batch_loss = 0 \n",
    "    while(temp_number<len(training_data)-1):\n",
    "        \n",
    "        loss2_list = []\n",
    "        loss1_sum = 0\n",
    "        loss2_sum = 0\n",
    "        denominator = 0\n",
    "        for index in range(temp_number, min(batch_size+temp_number,len(training_data))):\n",
    "            h_loss1,h_loss2,h_list = net(training_data[index],training_label[index],0)\n",
    "            denominator += 1\n",
    "            loss1_sum += h_loss1\n",
    "            loss2_sum += h_loss2\n",
    "            \n",
    "        loss_sum = loss1_sum + loss2_sum\n",
    "        loss = (loss_sum) / denominator \n",
    "        total_batch_loss +=float(loss_sum)\n",
    "        optimizer.zero_grad()\n",
    "        \n",
    "        loss.backward()\n",
    "        \n",
    "        optimizer.step()\n",
    "        \n",
    "        temp_number = index\n",
    "        \n",
    "        if(random.random()<=0.01):\n",
    "            print(temp_number,loss,float(loss1_sum),float(loss2_sum))\n",
    "\n",
    "\n",
    "    print(\"batch iteration\", iteration)\n",
    "    print(\"batch_loss: %.2f \" % (total_batch_loss/len(training_data)))\n",
    "    \n",
    "    print()\n",
    "    print()"
   ]
  },
  {
   "cell_type": "code",
   "execution_count": 17,
   "metadata": {
    "ExecuteTime": {
     "end_time": "2021-05-28T07:00:10.103419Z",
     "start_time": "2021-05-28T07:00:10.088943Z"
    }
   },
   "outputs": [],
   "source": [
    "torch.save(net, \"save/Deep_learning_small_5_4\")"
   ]
  },
  {
   "cell_type": "code",
   "execution_count": 18,
   "metadata": {
    "ExecuteTime": {
     "end_time": "2021-05-28T07:04:55.698413Z",
     "start_time": "2021-05-28T07:00:10.104417Z"
    }
   },
   "outputs": [
    {
     "name": "stdout",
     "output_type": "stream",
     "text": [
      "3.4082398414611816 2.9749106764793396 0.43332916498184204\n"
     ]
    }
   ],
   "source": [
    "denominator = 0\n",
    "result_list = []\n",
    "for index in range(len(testing_data)):\n",
    "    h_list = []\n",
    "    for i in range(Agent_number_n):\n",
    "        h = net.calculate(torch.tensor(testing_data[index][i]).cuda().type(torch.float32))\n",
    "        h_list.append(float(h))\n",
    "    \n",
    "    #print(sum(h_list),h_list,sum(h_list)/testing_label[index])\n",
    "    result_list.append(sum(h_list)/testing_label[index])\n",
    "    \n",
    "\n",
    "print(max(result_list),min(result_list),max(result_list)-min(result_list))"
   ]
  },
  {
   "cell_type": "code",
   "execution_count": 19,
   "metadata": {
    "ExecuteTime": {
     "end_time": "2021-05-28T07:04:56.728467Z",
     "start_time": "2021-05-28T07:04:55.699411Z"
    }
   },
   "outputs": [
    {
     "data": {
      "image/png": "[encoded data removed]",
      "text/plain": [
       "<Figure size 432x288 with 1 Axes>"
      ]
     },
     "metadata": {
      "needs_background": "light"
     },
     "output_type": "display_data"
    }
   ],
   "source": [
    "plt.hist(result_list,bins=500)\n",
    "\n",
    "plt.title(\"Means\", y=1.015, fontsize=20)\n",
    "plt.axvline(x=sum(result_list)/len(result_list), linestyle='--', linewidth=2.5, label=\"sample mean\", c='orange')\n",
    "plt.xlabel(\"samples\", labelpad=14)\n",
    "plt.ylabel(\"frequency of occurence\", labelpad=14)\n",
    "plt.legend();\n",
    "\n",
    "result_list.sort()\n",
    "\n",
    "plt.axvline(x=result_list[int(len(result_list)*0.01)], linestyle='--', linewidth=0.5, label=\"1%\", c='b')\n",
    "plt.axvline(x=result_list[int(len(result_list)*0.99)], linestyle='--', linewidth=0.5, label=\"99%\", c='r')\n",
    "\n",
    "\n",
    "plt.show()"
   ]
  },
  {
   "cell_type": "code",
   "execution_count": 20,
   "metadata": {
    "ExecuteTime": {
     "end_time": "2021-05-28T07:04:56.823739Z",
     "start_time": "2021-05-28T07:04:56.730464Z"
    }
   },
   "outputs": [
    {
     "name": "stdout",
     "output_type": "stream",
     "text": [
      "Parameter containing:\n",
      "tensor([[ 0.3274, -0.1616, -0.0142],\n",
      "        [-0.1908,  0.1431, -0.3577],\n",
      "        [-0.0577,  0.2412,  0.0729],\n",
      "        [-0.0259, -0.5380, -0.1050],\n",
      "        [-0.3123, -0.1726, -0.0281],\n",
      "        [ 0.1441,  0.0020,  0.0898],\n",
      "        [-0.2471, -0.1313, -0.0592],\n",
      "        [ 0.0519,  0.0512, -0.0958],\n",
      "        [ 0.2435, -0.0649,  0.0613],\n",
      "        [-0.1822,  0.3881, -0.1022],\n",
      "        [-0.2652,  0.1484, -0.3502],\n",
      "        [-0.0350,  0.1608, -0.2935],\n",
      "        [ 0.0274, -0.1096,  0.4136],\n",
      "        [-0.4171, -0.0124, -0.0236],\n",
      "        [ 0.0868, -0.1093, -0.3451],\n",
      "        [-0.0232,  0.0896,  0.2318],\n",
      "        [-0.5240, -0.0802, -0.0347],\n",
      "        [-0.1659, -0.2702,  0.1910],\n",
      "        [ 0.0926, -0.1287, -0.2047],\n",
      "        [ 0.0909,  0.0533, -0.2944],\n",
      "        [ 0.0520, -0.2252, -0.0595],\n",
      "        [-0.1281, -0.2769,  0.1921],\n",
      "        [-0.0258,  0.1882, -0.0374],\n",
      "        [ 0.1723, -0.3732, -0.1691],\n",
      "        [-0.0193,  0.5133, -0.0434],\n",
      "        [ 0.0645,  0.1945, -0.0549],\n",
      "        [-0.1448, -0.0922,  0.0080],\n",
      "        [-0.3364,  0.2617, -0.1074],\n",
      "        [-0.0118, -0.0335, -0.0022],\n",
      "        [ 0.1508,  0.2629, -0.2495],\n",
      "        [-0.4407, -0.0351,  0.0771],\n",
      "        [ 0.2436, -0.1225, -0.1739],\n",
      "        [-0.0088, -0.2984, -0.0750],\n",
      "        [ 0.0366,  0.0477, -0.0066],\n",
      "        [-0.0773,  0.0875, -0.1551],\n",
      "        [ 0.3384, -0.3153,  0.3890],\n",
      "        [ 0.1698,  0.1164, -0.0899],\n",
      "        [-0.0398, -0.1520, -0.1184],\n",
      "        [-0.1337, -0.0953,  0.1259],\n",
      "        [-0.2053,  0.3304,  0.1643],\n",
      "        [ 0.0876,  0.0308,  0.1411],\n",
      "        [-0.0283, -0.1629,  0.1438],\n",
      "        [ 0.1187,  0.2420,  0.1661],\n",
      "        [-0.0438, -0.0984, -0.2263],\n",
      "        [-0.1176,  0.0885,  0.4533],\n",
      "        [ 0.0984, -0.2817,  0.2349],\n",
      "        [-0.3898,  0.0378, -0.2042],\n",
      "        [-0.1547, -0.1695, -0.2115],\n",
      "        [-0.1686,  0.1216,  0.0021],\n",
      "        [-0.3405,  0.0363,  0.1237]], device='cuda:0', requires_grad=True)\n",
      "Parameter containing:\n",
      "tensor([ 0.0003, -0.0021, -0.0139, -0.0072, -0.0034, -0.0243, -0.0119, -0.0257,\n",
      "        -0.0098, -0.0081, -0.0044, -0.0711, -0.0047, -0.0060, -0.0692,  0.0038,\n",
      "         0.0028, -0.0073,  0.0855, -0.0152, -0.0517, -0.0004, -0.0168,  0.0028,\n",
      "        -0.0129, -0.0045, -0.0030, -0.0021, -0.0056, -0.0433, -0.0023, -0.0399,\n",
      "        -0.0114, -0.0052, -0.0164,  0.0087, -0.0438, -0.0090,  0.0003, -0.0110,\n",
      "        -0.0222, -0.0497, -0.0280, -0.0242,  0.0043, -0.0124, -0.0055, -0.0281,\n",
      "        -0.0122,  0.0001], device='cuda:0', requires_grad=True)\n",
      "Parameter containing:\n",
      "tensor([[-0.0262, -0.0569, -0.0673,  ...,  0.0718, -0.6634,  0.0605],\n",
      "        [ 0.1260,  0.1350, -0.0317,  ...,  0.4858, -0.4879,  0.1145],\n",
      "        [ 0.0958,  0.2258,  0.2215,  ...,  0.0155, -0.3531, -0.1970],\n",
      "        ...,\n",
      "        [ 0.2203,  0.3473, -0.3112,  ..., -0.0139,  0.2628, -0.0604],\n",
      "        [-0.0088, -0.3434,  0.2691,  ...,  0.2023, -0.1252,  0.3028],\n",
      "        [-0.2716, -0.0884, -0.3168,  ..., -0.3690,  0.3594,  0.1025]],\n",
      "       device='cuda:0', requires_grad=True)\n",
      "Parameter containing:\n",
      "tensor([-0.0684, -0.0036, -0.0013, -0.0463, -0.0179,  0.0436, -0.0531, -0.0328,\n",
      "         0.1301, -0.0170, -0.0368, -0.0144, -0.0312,  0.0012, -0.0210, -0.0311,\n",
      "         0.0517, -0.0055, -0.0120, -0.0162, -0.0870, -0.0130,  0.0087, -0.0122,\n",
      "         0.0055, -0.0060, -0.0430, -0.0138, -0.0009, -0.0275, -0.0340, -0.0445,\n",
      "        -0.0276, -0.0366, -0.0297, -0.0310,  0.0154, -0.0166, -0.0474, -0.0410,\n",
      "        -0.0309, -0.0411, -0.0388, -0.0226, -0.0446, -0.0709, -0.0303, -0.0144,\n",
      "        -0.0134,  0.0433], device='cuda:0', requires_grad=True)\n",
      "Parameter containing:\n",
      "tensor([[ 0.1067, -0.1077,  0.1587,  ...,  0.3532, -0.2665,  0.0365],\n",
      "        [ 0.2042, -0.1237,  0.1705,  ...,  0.0092, -0.0020, -0.0521],\n",
      "        [ 0.0841,  0.3403,  0.0440,  ..., -0.0415, -0.6099,  0.1729],\n",
      "        ...,\n",
      "        [ 0.1252, -0.1516, -0.0993,  ..., -0.0202, -0.0849,  0.1053],\n",
      "        [ 0.1889,  0.0657,  0.3781,  ..., -0.0564,  0.4186, -0.3212],\n",
      "        [-0.1512, -0.2767, -0.0989,  ...,  0.0353,  0.2728, -0.3145]],\n",
      "       device='cuda:0', requires_grad=True)\n",
      "Parameter containing:\n",
      "tensor([-0.0479, -0.0065,  0.0031, -0.0353,  0.0203, -0.0509,  0.0148,  0.0122,\n",
      "        -0.0537, -0.0083, -0.0033, -0.0109, -0.0110,  0.0132, -0.0474, -0.0590,\n",
      "        -0.0123,  0.0130, -0.0240,  0.0156,  0.0023, -0.0378, -0.0523, -0.0436,\n",
      "         0.0052, -0.0425,  0.0220, -0.0176, -0.0253, -0.0291, -0.0174, -0.0530,\n",
      "        -0.0060, -0.0487, -0.0239, -0.0145, -0.0219, -0.0341, -0.0118, -0.0528,\n",
      "        -0.0038, -0.0614, -0.0470, -0.0273, -0.0131, -0.0019,  0.0795, -0.0376,\n",
      "        -0.0385, -0.0124], device='cuda:0', requires_grad=True)\n",
      "Parameter containing:\n",
      "tensor([[-3.5731e-02,  8.1873e-02,  9.7594e-05,  ...,  1.3718e-02,\n",
      "         -3.4909e-01, -1.1249e-01],\n",
      "        [ 3.1381e-01,  1.5711e-02, -5.6624e-02,  ..., -6.8144e-02,\n",
      "          4.8117e-02,  1.6548e-01],\n",
      "        [ 2.4499e-01, -4.7783e-01, -2.9843e-01,  ...,  1.7390e-01,\n",
      "          1.6702e-01, -1.6996e-01],\n",
      "        ...,\n",
      "        [-8.2980e-02, -4.4233e-02,  4.1483e-02,  ...,  6.0147e-02,\n",
      "         -7.0534e-03,  1.8330e-01],\n",
      "        [ 1.1140e-01,  1.1796e-02, -8.9955e-02,  ..., -5.0254e-01,\n",
      "          1.2233e-01, -5.4048e-01],\n",
      "        [-6.7683e-02, -1.9261e-01,  5.6685e-02,  ..., -3.2259e-01,\n",
      "          2.8859e-01, -4.5049e-01]], device='cuda:0', requires_grad=True)\n",
      "Parameter containing:\n",
      "tensor([ 1.2806e-02, -7.6545e-02, -4.3184e-02, -6.5197e-02, -2.2822e-02,\n",
      "        -4.2721e-02, -3.3257e-02,  7.6618e-04, -4.2063e-02, -9.6602e-05,\n",
      "         3.1521e-02, -1.0386e-02, -4.0638e-02, -5.4067e-02, -5.8497e-02,\n",
      "        -2.8465e-02, -6.1898e-02, -4.1565e-02, -2.5007e-03, -3.7789e-02,\n",
      "         1.8868e-04, -6.1370e-03,  7.4365e-03, -1.0902e-01, -4.6147e-02,\n",
      "        -4.1036e-02,  1.8802e-02,  9.7784e-03, -2.8341e-02, -4.2495e-02,\n",
      "        -2.3969e-03, -5.3528e-03, -1.7863e-03, -1.2756e-02, -6.3621e-03,\n",
      "         1.0504e-02, -7.5581e-03,  2.9342e-02,  3.1739e-03, -1.1115e-02,\n",
      "        -8.0637e-03, -3.9835e-02,  3.4826e-04,  3.9629e-03,  3.4770e-02,\n",
      "        -2.2455e-02, -3.2294e-02, -7.4434e-02, -4.7352e-02, -4.5221e-02],\n",
      "       device='cuda:0', requires_grad=True)\n",
      "Parameter containing:\n",
      "tensor([[ 0.0845, -0.0831, -0.0844,  ..., -0.4007,  0.1769, -0.0913],\n",
      "        [-0.1566, -0.0718, -0.2684,  ..., -0.0039, -0.4106,  0.1448],\n",
      "        [-0.1228,  0.1003, -0.0997,  ..., -0.0105,  0.1671, -0.0481],\n",
      "        ...,\n",
      "        [-0.2056, -0.1024, -0.0139,  ...,  0.0610,  0.0832, -0.0842],\n",
      "        [ 0.0296, -0.2577,  0.1428,  ..., -0.3349,  0.1053,  0.1741],\n",
      "        [ 0.0552,  0.3005,  0.0737,  ..., -0.0256,  0.0304,  0.0081]],\n",
      "       device='cuda:0', requires_grad=True)\n",
      "Parameter containing:\n",
      "tensor([-1.5522e-02, -1.9191e-02,  1.0828e-02, -3.5909e-02, -4.2565e-02,\n",
      "        -1.0769e-01, -4.9635e-02, -5.0647e-02, -5.5832e-03, -4.5804e-02,\n",
      "        -6.3978e-03, -5.6591e-02,  1.4297e-02, -4.6842e-02, -2.2028e-02,\n",
      "        -6.4650e-02,  5.0911e-02, -8.9804e-02, -6.3658e-02, -1.4411e-02,\n",
      "        -4.2023e-02, -5.4314e-02,  2.2746e-03, -9.0311e-03, -1.4829e-02,\n",
      "        -6.2676e-03, -2.7998e-02, -4.3180e-02,  2.0521e-02, -1.6033e-02,\n",
      "         1.6491e-02, -1.5012e-02, -4.7767e-02, -6.7086e-03, -3.4103e-02,\n",
      "        -5.4292e-02,  1.2086e-02,  2.1061e-02, -6.6792e-03,  2.0503e-02,\n",
      "        -2.3029e-02, -9.5304e-02, -3.7729e-02, -8.0563e-06, -5.9442e-02,\n",
      "         2.4912e-02, -6.1538e-03,  1.9093e-02, -4.8465e-02, -3.6371e-02],\n",
      "       device='cuda:0', requires_grad=True)\n",
      "Parameter containing:\n",
      "tensor([[-0.0308,  0.0059, -0.2321,  ..., -0.3799, -0.2658, -0.2152],\n",
      "        [ 0.0590, -0.0787,  0.2039,  ..., -0.2790, -0.2604,  0.1767],\n",
      "        [ 0.2254,  0.0363, -0.2264,  ..., -0.2690, -0.1710, -0.3477],\n",
      "        ...,\n",
      "        [-0.1542, -0.1653, -0.1503,  ..., -0.1994,  0.1407, -0.1863],\n",
      "        [-0.5020,  0.3984, -0.0563,  ..., -0.1507,  0.2563, -0.1843],\n",
      "        [ 0.0099, -0.1941, -0.1537,  ...,  0.2377,  0.1630, -0.0832]],\n",
      "       device='cuda:0', requires_grad=True)\n",
      "Parameter containing:\n",
      "tensor([ 0.0049, -0.0174, -0.0030, -0.0176,  0.0136, -0.0221, -0.0323, -0.0798,\n",
      "         0.0401,  0.0236,  0.0349, -0.1034, -0.0354, -0.0077, -0.0403, -0.0019,\n",
      "         0.0183,  0.0360, -0.0147, -0.0043,  0.0389, -0.0201,  0.0115, -0.0524,\n",
      "        -0.0248, -0.0261,  0.0279,  0.0046,  0.0228,  0.0091,  0.0934, -0.0419,\n",
      "         0.0346,  0.0263, -0.0041, -0.0632, -0.0698, -0.0235,  0.0861,  0.0306,\n",
      "        -0.0338,  0.0223, -0.0100, -0.0083,  0.0173,  0.0088,  0.0348, -0.0025,\n",
      "         0.0060, -0.0138], device='cuda:0', requires_grad=True)\n",
      "Parameter containing:\n",
      "tensor([[-0.0112, -0.0778,  0.0552,  ..., -0.2493, -0.1772,  0.0872],\n",
      "        [ 0.1469, -0.0511, -0.1176,  ..., -0.2176,  0.2505, -0.1012],\n",
      "        [ 0.0337, -0.1781, -0.0754,  ..., -0.0028, -0.2309, -0.1295],\n",
      "        ...,\n",
      "        [ 0.0998,  0.3844, -0.1323,  ...,  0.1709, -0.0168,  0.1580],\n",
      "        [-0.0208,  0.0694, -0.0222,  ...,  0.0476,  0.2882, -0.0394],\n",
      "        [-0.1490, -0.2789,  0.2597,  ...,  0.1291, -0.1691, -0.0419]],\n",
      "       device='cuda:0', requires_grad=True)\n",
      "Parameter containing:\n",
      "tensor([-0.1211, -0.0073,  0.0250, -0.0487, -0.0754,  0.0225, -0.0417, -0.0084,\n",
      "        -0.0032, -0.0218, -0.0214, -0.0009,  0.0046,  0.0108,  0.0218, -0.0668,\n",
      "        -0.0689,  0.0318, -0.0050,  0.0159,  0.0274, -0.0167, -0.0693,  0.0104,\n",
      "         0.0341,  0.0464, -0.0003, -0.0217, -0.0045,  0.0223, -0.0645,  0.0018,\n",
      "         0.0411,  0.0049,  0.0442,  0.0087, -0.0218,  0.0316,  0.0128,  0.0042,\n",
      "        -0.0617,  0.0341,  0.0312, -0.0479, -0.0332, -0.0021,  0.0192,  0.0404,\n",
      "         0.0065,  0.0347], device='cuda:0', requires_grad=True)\n",
      "Parameter containing:\n",
      "tensor([[-0.0788,  0.2590,  0.0561,  ..., -0.1237,  0.1611, -0.2006],\n",
      "        [ 0.1568,  0.2672,  0.0838,  ..., -0.2957,  0.1538, -0.2296],\n",
      "        [ 0.0401, -0.0302, -0.2103,  ..., -0.3804,  0.0458,  0.1990],\n",
      "        ...,\n",
      "        [ 0.1183, -0.1184, -0.4870,  ...,  0.1967, -0.1822,  0.2046],\n",
      "        [ 0.0460,  0.1034,  0.4678,  ...,  0.0447,  0.0185,  0.1187],\n",
      "        [ 0.3853,  0.0897, -0.3978,  ..., -0.0440, -0.3857,  0.0075]],\n",
      "       device='cuda:0', requires_grad=True)\n",
      "Parameter containing:\n",
      "tensor([ 0.0108, -0.0083, -0.0483,  0.0144, -0.0357, -0.0084,  0.0020,  0.0315,\n",
      "        -0.0151, -0.0795, -0.0118, -0.0238, -0.0371,  0.0270,  0.0180,  0.0219,\n",
      "         0.0078, -0.0339,  0.0097, -0.0400,  0.0057, -0.0188,  0.0153,  0.0328,\n",
      "         0.0100,  0.0476,  0.0306,  0.0340,  0.0428, -0.0047, -0.0029,  0.0067,\n",
      "        -0.0011,  0.0289,  0.0524, -0.0110,  0.0171, -0.0512,  0.0201,  0.0025,\n",
      "        -0.0514, -0.0040,  0.0356, -0.0458,  0.0333,  0.0166,  0.0012, -0.0327,\n",
      "        -0.0962, -0.0335], device='cuda:0', requires_grad=True)\n",
      "Parameter containing:\n",
      "tensor([[-0.2658,  0.1834, -0.0909, -0.0108, -0.2453, -0.1729, -0.4027,  0.4264,\n",
      "          0.2135, -0.0143, -0.1335,  0.0938, -0.0120,  0.3752,  0.0817,  0.1245,\n",
      "          0.2252, -0.1033, -0.0304, -0.2954,  0.0648, -0.2339,  0.1086,  0.1566,\n",
      "          0.0279,  0.0701,  0.1228,  0.1071,  0.3735, -0.4048,  0.1884, -0.3237,\n",
      "         -0.2352,  0.2760,  0.2344, -0.0791,  0.0368, -0.0657,  0.0559, -0.0887,\n",
      "         -0.0486,  0.4109,  0.3238, -0.0145,  0.0665,  0.0691, -0.2062, -0.4190,\n",
      "          0.0305, -0.0487]], device='cuda:0', requires_grad=True)\n",
      "Parameter containing:\n",
      "tensor([0.0390], device='cuda:0', requires_grad=True)\n"
     ]
    }
   ],
   "source": [
    "for param in net.parameters():\n",
    "    print(param )"
   ]
  }
 ],
 "metadata": {
  "hide_input": false,
  "kernelspec": {
   "display_name": "Python 3",
   "language": "python",
   "name": "python3"
  },
  "language_info": {
   "codemirror_mode": {
    "name": "ipython",
    "version": 3
   },
   "file_extension": ".py",
   "mimetype": "text/x-python",
   "name": "python",
   "nbconvert_exporter": "python",
   "pygments_lexer": "ipython3",
   "version": "3.8.3"
  },
  "varInspector": {
   "cols": {
    "lenName": 16,
    "lenType": 16,
    "lenVar": 40
   },
   "kernels_config": {
    "python": {
     "delete_cmd_postfix": "",
     "delete_cmd_prefix": "del ",
     "library": "var_list.py",
     "varRefreshCmd": "print(var_dic_list())"
    },
    "r": {
     "delete_cmd_postfix": ") ",
     "delete_cmd_prefix": "rm(",
     "library": "var_list.r",
     "varRefreshCmd": "cat(var_dic_list()) "
    }
   },
   "types_to_exclude": [
    "module",
    "function",
    "builtin_function_or_method",
    "instance",
    "_Feature"
   ],
   "window_display": false
  }
 },
 "nbformat": 4,
 "nbformat_minor": 4
}
