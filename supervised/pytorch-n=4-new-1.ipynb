{
 "cells": [
  {
   "cell_type": "code",
   "execution_count": 1,
   "metadata": {
    "ExecuteTime": {
     "end_time": "2021-05-30T12:41:56.476891Z",
     "start_time": "2021-05-30T12:41:55.143457Z"
    }
   },
   "outputs": [
    {
     "name": "stdout",
     "output_type": "stream",
     "text": [
      "pygame 2.0.1 (SDL 2.0.14, Python 3.8.3)\n",
      "Hello from the pygame community. https://www.pygame.org/contribute.html\n",
      "cuda:0\n"
     ]
    },
    {
     "name": "stderr",
     "output_type": "stream",
     "text": [
      "D:\\ComputerSoftwares\\Anaconda\\lib\\site-packages\\sklearn\\utils\\deprecation.py:143: FutureWarning: The sklearn.datasets.samples_generator module is  deprecated in version 0.22 and will be removed in version 0.24. The corresponding classes / functions should instead be imported from sklearn.datasets. Anything that cannot be imported from sklearn.datasets is now part of the private API.\n",
      "  warnings.warn(message, FutureWarning)\n"
     ]
    }
   ],
   "source": [
    "\n",
    "import pygame\n",
    "import random\n",
    "import os\n",
    "import time\n",
    "import numpy as np\n",
    "import math\n",
    "import torch\n",
    "import torch.nn.functional\n",
    "import matplotlib.pyplot as plt\n",
    "import torch.optim as opt\n",
    "from torch.autograd import Variable\n",
    "from sklearn.model_selection import train_test_split\n",
    "\n",
    "import scipy.stats as st\n",
    "from sklearn.datasets.samples_generator import make_blobs\n",
    "from matplotlib.colors import LogNorm \n",
    "import matplotlib.cm as cm\n",
    "import torch.nn as nn\n",
    "import numpy as np\n",
    "import matplotlib.pyplot as plt\n",
    "\n",
    "\n",
    "if torch.cuda.is_available():  \n",
    "    dev = \"cuda:0\" \n",
    "else:  \n",
    "    dev = \"cpu\"  \n",
    "\n",
    "print(dev)\n"
   ]
  },
  {
   "cell_type": "code",
   "execution_count": 2,
   "metadata": {
    "ExecuteTime": {
     "end_time": "2021-05-30T12:41:56.492869Z",
     "start_time": "2021-05-30T12:41:56.478886Z"
    }
   },
   "outputs": [],
   "source": [
    "global target_order\n",
    "target_order = \"supervised\"\n",
    "global temp_list\n",
    "temp_list = []\n",
    "Agent_number_n=4;\n",
    "Alpha = 0.666;\n",
    "\n"
   ]
  },
  {
   "cell_type": "code",
   "execution_count": 3,
   "metadata": {
    "ExecuteTime": {
     "end_time": "2021-05-30T12:41:57.946993Z",
     "start_time": "2021-05-30T12:41:56.494863Z"
    }
   },
   "outputs": [
    {
     "name": "stdout",
     "output_type": "stream",
     "text": [
      "[[[0.9243357  0.60718386 0.02994525]\n",
      "  [0.98772095 0.60718386 0.02994525]\n",
      "  [0.98772095 0.9243357  0.02994525]\n",
      "  [0.98772095 0.9243357  0.60718386]]\n",
      "\n",
      " [[0.41612238 0.2477135  0.02785492]\n",
      "  [0.57612571 0.2477135  0.02785492]\n",
      "  [0.57612571 0.41612238 0.02785492]\n",
      "  [0.57612571 0.41612238 0.2477135 ]]\n",
      "\n",
      " [[0.72389789 0.43016509 0.12559101]\n",
      "  [0.81468051 0.43016509 0.12559101]\n",
      "  [0.81468051 0.72389789 0.12559101]\n",
      "  [0.81468051 0.72389789 0.43016509]]\n",
      "\n",
      " ...\n",
      "\n",
      " [[0.8236852  0.36880587 0.18282258]\n",
      "  [0.88418969 0.36880587 0.18282258]\n",
      "  [0.88418969 0.8236852  0.18282258]\n",
      "  [0.88418969 0.8236852  0.36880587]]\n",
      "\n",
      " [[0.4334655  0.22252252 0.13946667]\n",
      "  [0.61421508 0.22252252 0.13946667]\n",
      "  [0.61421508 0.4334655  0.13946667]\n",
      "  [0.61421508 0.4334655  0.22252252]]\n",
      "\n",
      " [[0.06601116 0.04766923 0.02534092]\n",
      "  [0.59168774 0.04766923 0.02534092]\n",
      "  [0.59168774 0.06601116 0.02534092]\n",
      "  [0.59168774 0.06601116 0.04766923]]]\n",
      "[[[0.51429619 0.26532665 0.05864524]\n",
      "  [0.86629438 0.26532665 0.05864524]\n",
      "  [0.86629438 0.51429619 0.05864524]\n",
      "  [0.86629438 0.51429619 0.26532665]]\n",
      "\n",
      " [[0.19064546 0.15784554 0.01716995]\n",
      "  [0.50668217 0.15784554 0.01716995]\n",
      "  [0.50668217 0.19064546 0.01716995]\n",
      "  [0.50668217 0.19064546 0.15784554]]\n",
      "\n",
      " [[0.75428606 0.69252818 0.14700235]\n",
      "  [0.91530579 0.69252818 0.14700235]\n",
      "  [0.91530579 0.75428606 0.14700235]\n",
      "  [0.91530579 0.75428606 0.69252818]]\n",
      "\n",
      " ...\n",
      "\n",
      " [[0.6655534  0.50147008 0.40282439]\n",
      "  [0.89171985 0.50147008 0.40282439]\n",
      "  [0.89171985 0.6655534  0.40282439]\n",
      "  [0.89171985 0.6655534  0.50147008]]\n",
      "\n",
      " [[0.40605395 0.39835281 0.21498444]\n",
      "  [0.99321455 0.39835281 0.21498444]\n",
      "  [0.99321455 0.40605395 0.21498444]\n",
      "  [0.99321455 0.40605395 0.39835281]]\n",
      "\n",
      " [[0.72936867 0.0857623  0.01453325]\n",
      "  [0.95194733 0.0857623  0.01453325]\n",
      "  [0.95194733 0.72936867 0.01453325]\n",
      "  [0.95194733 0.72936867 0.0857623 ]]]\n",
      "[2.54918576 1.2678165  2.09433449 ... 2.25950334 1.40966977 1.        ]\n",
      "[1.70456246 1.         2.50912237 1.98379862 1.87451411 2.70343169\n",
      " 2.58714158 1.44323134 2.12533236 1.93806307 2.63325106 2.38903871\n",
      " 1.47878759 3.50611257 2.3167594  2.88265188 1.         2.53000188\n",
      " 2.76904934 2.08545987 1.3157797  2.11504047 1.68783956 1.35672721\n",
      " 2.50505214 2.30629225 1.54072168 2.46658987 3.3035857  2.65892481\n",
      " 2.97880294 2.31220214 1.26957271 1.55970189 2.47905757 1.53048862\n",
      " 2.75236054 1.69705161 2.1331916  2.71594337 3.28936463 1.7561548\n",
      " 1.38201478 1.17706282 1.80899669 1.84998431 2.22271276 1.98248392\n",
      " 2.3712818  1.74048418 1.25218143 2.03196503 1.18024482 1.9962227\n",
      " 2.74821651 1.59058175 1.53100005 1.37032518 1.31653384 1.5896847\n",
      " 1.7734094  2.57710539 2.95847635 3.00540378 2.22643241 1.01131545\n",
      " 2.59165509 2.18527849 2.03931115 2.2443714  1.7918025  1.83215265\n",
      " 2.52797376 2.67284256 2.13063814 2.41071263 1.41881852 1.98391591\n",
      " 1.81774575 1.76984939 2.16378247 1.6434522  1.90116105 2.57685043\n",
      " 1.76345463 1.24490163 2.38240217 2.80943745 1.2091055  2.14274191\n",
      " 1.98356694 2.58756882 1.9672881  3.2800794  2.45903179 1.54479671\n",
      " 2.04075818 3.11548041 1.55235575 1.30499824 3.35463331 2.64673766\n",
      " 3.31044668 1.52197002 1.88962836 1.17308058 1.60962336 2.26783431\n",
      " 2.49379903 2.98348254 1.91388412 2.25907866 2.66366766 2.32415263\n",
      " 2.733108   1.22969002 2.73107499 1.31463275 1.5465701  1.\n",
      " 2.0964854  1.56431481 2.25523666 1.64706318 1.43505151 1.67726434\n",
      " 3.11372164 1.90050825 2.2854388  1.7970921  2.84418849 1.94250696\n",
      " 1.42783114 2.26318591 2.50983118 2.72937857 1.47717015 2.93756346\n",
      " 1.92765234 2.4689205  2.68084388 2.75039589 2.08909924 1.67315338\n",
      " 2.36062828 2.01002916 1.77657218 1.89331028 1.40938519 1.53040129\n",
      " 1.48294562 1.7617017  1.62752375 1.28441866 2.36887837 2.46469889\n",
      " 2.00967455 1.6271716  2.14070446 2.34955743 1.40385553 1.99985382\n",
      " 2.62793176 1.80193454 2.82315219 1.15728721 1.98909878 2.66945976\n",
      " 2.81002612 1.64930548 1.86933578 2.1823315  2.23676714 1.\n",
      " 1.56248649 1.54863074 1.13286537 1.7621479  3.28479843 1.7665166\n",
      " 1.11887509 1.57939368 2.30014018 2.02835866 2.19396973 2.17432949\n",
      " 1.66211035 1.73739699 2.39961783 2.72600831 1.54713823 2.39493819\n",
      " 1.06882044 2.35432949 1.85487975 1.92724673 1.89848268 1.98939041\n",
      " 2.03781342 2.45600087 2.24298404 2.15661426 1.38902014 1.48288022\n",
      " 3.11549576 2.08240316 1.46108856 1.         2.07505093 1.50009162\n",
      " 3.15842763 1.75767156 2.05309431 1.61110409 1.43600325 1.\n",
      " 1.9577998  1.28206009 1.96100378 2.29138367 2.6809375  2.99383294\n",
      " 1.68325837 2.46983796 1.57120879 2.15212352 1.4395689  2.48113292\n",
      " 2.59348833 1.8636726  1.         2.44763312 1.         1.\n",
      " 2.65422976 1.53084478 1.48961845 1.48606737 2.25471712 1.09227096\n",
      " 1.77361905 1.48021129 2.83740732 1.         2.70020206 1.44431233\n",
      " 1.         1.85365569 2.96962128 1.50380774 2.07446613 2.30726052\n",
      " 2.05373341 1.93888303 1.         1.78259871 1.67407517 1.58160521\n",
      " 2.56474372 1.62555798 2.66747642 2.99266881 1.89360549 2.42211029\n",
      " 2.05123807 1.75853222 1.46782486 3.46465625 1.51411577 1.71606833\n",
      " 2.17380937 1.         1.84467668 2.11468565 1.99260008 3.53473457\n",
      " 2.77029456 2.09609179 2.41783091 1.         2.75917551 3.15975759\n",
      " 2.70413524 2.11128595 2.3822299  2.65164539 1.81147454 2.53707972\n",
      " 1.99848203 2.00530664 2.14833314 2.03102767 2.49991006 2.01274225\n",
      " 2.05208675 1.77083986 1.69388025 3.00376321 2.57672689 2.09059503\n",
      " 3.12787539 2.85947991 2.63996668 1.         1.88471022 1.81176541\n",
      " 1.39206284 2.48720202 1.17788401 2.09218721 1.48254797 2.16932336\n",
      " 1.76881741 1.2980579  2.33876558 2.52992951 2.01364517 2.19245028\n",
      " 2.23120395 1.54392735 1.64257093 2.1361716  3.12492369 1.79640236\n",
      " 1.29710966 2.18357142 1.77091094 1.62954578 1.77027035 3.08655001\n",
      " 2.59607442 1.57997265 1.18749998 2.97424621 1.97041076 3.14513033\n",
      " 2.18284796 1.73400462 1.80906715 2.82657295 2.21483251 2.42955814\n",
      " 1.         1.92842537 2.08068368 3.0299737  1.8045979  2.33388685\n",
      " 1.44281616 1.54490989 2.6943883  1.97107441 1.49367777 1.33257388\n",
      " 2.40020482 1.6665171  2.39864588 2.57282381 2.17062693 1.91516102\n",
      " 3.22899496 1.98520939 3.08335853 2.15006666 2.59054342 2.36659364\n",
      " 2.34876944 1.7396153  1.61690365 2.51304667 2.25772677 1.87847694\n",
      " 2.16165472 1.80045078 2.25464579 2.56415118 1.30091632 2.12991941\n",
      " 1.85629765 2.05432349 1.94449303 2.0502532  2.36055223 2.37869842\n",
      " 1.92694142 1.48331842 1.94447358 1.94183608 1.58274608 3.62161516\n",
      " 2.13533569 2.00458316 2.85859209 2.3768044  1.84041569 2.35301631\n",
      " 1.98867655 2.75014176 2.12911899 1.5826165  2.13517775 1.22771611\n",
      " 2.26855667 1.62520272 1.3497797  1.59283081 2.15966848 1.23661986\n",
      " 2.07403126 1.75140846 1.77654947 1.29319707 1.63432996 1.61881706\n",
      " 1.80736811 1.4205397  1.6629908  1.79792092 1.44213605 1.54748195\n",
      " 1.75387659 1.66682422 1.2512787  1.94550168 2.22614839 1.21554621\n",
      " 2.59006129 1.39615091 2.17278562 2.44396386 2.89123604 1.78474861\n",
      " 1.86589358 2.31802383 2.42613852 2.87640771 1.69613482 1.41481122\n",
      " 1.95617493 1.34721604 1.51661532 1.6174346  2.49237586 1.04895747\n",
      " 1.59680321 1.64287736 2.48194848 2.39822677 2.71816652 2.21501978\n",
      " 2.66780505 2.19445614 1.11472222 1.67097107 2.04442208 2.12420942\n",
      " 1.58367585 2.09764841 1.63431552 1.37749755 1.14467545 2.32285496\n",
      " 1.29343157 1.40629966 1.61045509 2.13809289 2.03239796 1.95178498\n",
      " 2.30840058 3.20862168 2.31217806 2.02128485 2.46827629 2.43583579\n",
      " 1.77773847 2.51325766 1.         1.17845183 2.21690754 2.22922276\n",
      " 2.21278244 2.88031333 2.39775874 2.52989441 1.         1.50451408\n",
      " 1.49334183 1.733694   1.         1.58102946 1.15432153 2.08899583\n",
      " 2.31115142 2.2680284  3.06460217 1.81860102 1.66953389 2.49154811\n",
      " 1.19486056 1.82347332 1.73103641 2.07299851 1.         1.\n",
      " 2.04862442 2.06784742 3.31240679 1.8298959  1.         2.4743637\n",
      " 2.64067907 3.0510342  2.29958488 1.38152511 2.07795288 2.65674899\n",
      " 2.22195894 2.61894106 2.46846328 1.64869416 2.16389401 1.52223687\n",
      " 2.80737324 1.8348609  2.14733183 1.49641869 1.40945095 1.55122667\n",
      " 2.54968755 1.66772352 1.13385203 1.54436424 1.01521071 2.50872174\n",
      " 2.01671631 1.77141426 1.76984537 3.19837007 1.63679374 2.26622238\n",
      " 2.17152003 2.02297468 2.36155542 2.03076954 1.49994129 1.02583098\n",
      " 2.02705528 1.82070753 1.70026918 2.02461203 1.03524827 1.9215511\n",
      " 2.09995518 1.69619706 2.91277359 1.9274823  1.91256658 2.23037917\n",
      " 3.09267229 2.57680882 2.64450768 2.22033503 1.4689627  1.98562687\n",
      " 1.85294344 2.73264746 1.77157361 1.83040886 1.72071884 2.37148323\n",
      " 1.49854388 1.70841622 2.25539747 1.26640564 1.85771032 2.76174689\n",
      " 2.0041473  2.40657154 1.90956021 1.67745097 1.84171996 2.0379594\n",
      " 2.436963   2.51050033 1.61902002 2.41550912 1.64144012 1.10171817\n",
      " 1.94938768 2.98035644 2.92606565 1.99564533 1.87988037 2.58129455\n",
      " 1.5028147  2.56758538 2.11540143 2.59634326 2.29749817 1.71169389\n",
      " 1.91001951 1.30175061 2.06664098 1.51397819 2.03528547 1.83437707\n",
      " 2.75000896 1.51713263 1.61969494 1.02071891 2.010414   2.23899129\n",
      " 1.88304305 1.39040797 1.17580275 2.40690737 2.26595959 2.72517838\n",
      " 1.47158979 1.33212066 2.09520097 1.21260612 1.06254147 1.86883376\n",
      " 1.8264701  1.61854928 2.13138073 2.38907273 2.70573948 2.70858766\n",
      " 1.6894212  2.17123495 1.48611745 1.60472516 1.80405416 1.26885875\n",
      " 1.78291155 1.88614158 2.60274649 1.83524209 2.30388778 1.\n",
      " 1.88950098 2.91758111 2.51260282 1.98998722 1.92331131 2.57965495\n",
      " 1.07781197 2.5942826  2.46351084 1.43374693 2.16397225 2.05702429\n",
      " 2.12233299 2.19984633 1.83789991 1.796253   2.57954404 1.55091873\n",
      " 1.99301701 1.49801175 1.15998254 1.97442087 2.25966983 2.04493812\n",
      " 1.83354175 1.30685031 2.61141512 1.97330744 1.3244163  2.7472917\n",
      " 2.659996   2.31777964 1.33104799 2.50419392 2.2118523  1.99424666\n",
      " 2.60085923 1.70717415 2.03280679 1.70512292 2.49591362 2.1607263\n",
      " 1.6268348  2.34065192 2.96674155 2.46563383 2.22328403 2.33423466\n",
      " 1.61885599 2.76350904 2.56378351 2.9283346  2.32284448 1.23123016\n",
      " 2.2074766  3.13965808 2.4532693  1.57997025 1.68677807 1.\n",
      " 2.46380011 1.30173671 1.88568526 1.         1.         2.50841786\n",
      " 2.84134398 2.79568915 1.9877079  2.04206659 2.0645375  1.32592515\n",
      " 2.61469906 2.36072854 2.38907438 1.86980902 1.48604969 1.95344044\n",
      " 2.16491877 2.95508416 1.96247773 1.70090874 2.40920306 2.71701259\n",
      " 1.         1.83092354 1.83741647 1.         2.71710696 2.00596552\n",
      " 2.11269589 1.2801268  2.51928373 2.0790874  2.66792176 2.09793349\n",
      " 1.99943378 1.10658306 2.52915324 2.66201749 1.15963461 2.29089604\n",
      " 2.72120208 1.         2.02779382 2.13437282 1.84637456 2.08449477\n",
      " 2.49117243 1.55935127 2.00832843 1.83916563 1.34236664 1.8575659\n",
      " 1.5647386  1.42392603 2.49517987 2.3209563  1.57686412 1.88963293\n",
      " 1.21999235 1.71837761 1.91225637 1.50976853 2.4290316  2.2807058\n",
      " 2.20523687 2.84337269 2.97093587 2.57751593 1.87196354 2.02497354\n",
      " 2.0853552  1.60629475 2.83264776 1.46700491 1.93371224 1.87816596\n",
      " 2.0230264  1.78257268 2.64965364 2.91099205 2.01263789 1.62509172\n",
      " 1.45171568 2.15937402 2.11020844 1.74331481 2.49869318 2.23870295\n",
      " 3.45478709 2.23128879 3.17703214 2.1981696  1.87895567 1.11691133\n",
      " 1.80668916 1.77128944 2.84889688 1.89825877 2.59250556 1.57147797\n",
      " 1.77572203 1.82939015 1.3889711  1.95654108 1.81517801 2.44406033\n",
      " 3.03863973 1.06817199 1.         1.75165754 2.04350804 1.49273259\n",
      " 2.81656719 3.28301822 2.22954445 2.16594222 2.50273865 1.\n",
      " 2.31597542 1.44222496 2.40774322 1.86831234 1.2870462  1.71282532\n",
      " 3.27559929 1.37951568 1.32425662 1.90438391 2.44714591 1.\n",
      " 1.73781434 2.04619593 2.73591851 1.39002511 2.29438128 1.76496287\n",
      " 2.4320647  2.33272089 2.07134382 2.53891608 2.32563072 2.76017143\n",
      " 2.34916132 2.528987   2.31608334 1.14063391 2.55475575 2.3446421\n",
      " 2.02594794 1.80752471 1.888986   2.07093466 1.7996202  2.17176402\n",
      " 1.47039512 2.26706495 2.36884398 3.28546703 2.70542718 1.35988011\n",
      " 2.56669898 2.33907746 2.11333823 1.5134795  2.95329588 2.61465499\n",
      " 1.60459897 1.03163352 1.61167847 1.60574713 2.0388904  1.35184233\n",
      " 1.98226076 1.44512192 1.         1.53833381 2.69911134 2.09103396\n",
      " 1.73530771 1.74438116 2.66045834 1.52775055 1.24267452 2.36069053\n",
      " 2.78106947 3.32127593 1.77065091 1.66315614 1.74562244 1.50993371\n",
      " 1.98307488 2.46246097 2.09942567 2.56132567 1.49860667 1.8606015\n",
      " 1.6165505  1.55655024 1.37413831 1.78961174 2.81525633 3.1027399\n",
      " 1.99540494 2.03534248 2.454872   1.64196767 1.89595072 3.48290564\n",
      " 1.9656455  2.42513363 2.22177503 2.1873462  1.66714656 1.7731628\n",
      " 2.74180454 1.51709184 2.96417512 1.         2.46217572 1.59495013\n",
      " 2.02875779 1.49855727 1.15916833 1.80051014 1.63343356 1.93325152\n",
      " 1.90629967 1.47760698 2.4519168  2.30216242 2.32636735 2.62932371\n",
      " 1.40671867 2.30688621 2.1046438  1.65553684 1.         1.18102887\n",
      " 3.00282928 1.49231803 1.97718274 1.         1.4001315  1.56300553\n",
      " 1.         1.56087937 1.67801212 1.87349394 1.1547153  2.11066622\n",
      " 1.95952266 2.79941891 2.88587722 1.19437773 1.99701785 1.80412952\n",
      " 2.25194904 1.59395797 1.15805376 2.07681467 2.08247993 2.72020196\n",
      " 1.58101896 2.64214307 2.96291434 1.87737826 2.92698918 1.\n",
      " 2.14833144 3.13434538 2.2630343  1.15521653 1.46637844 3.21073067\n",
      " 1.76576652 2.18456111 2.36003684 2.70177917 1.50220528 1.11830356\n",
      " 2.36513518 2.34694502 2.22349092 1.66543719 2.32132909 1.61325075\n",
      " 1.94504878 1.78088705 1.79766576 2.20453924 2.03936732 2.72581862\n",
      " 1.14351262 2.46156771 2.01260574 1.78161155]\n"
     ]
    }
   ],
   "source": [
    "global temp_list\n",
    "temp_list = []\n",
    "def appen(_x_list,y):\n",
    "    global temp_list\n",
    "    temp_list.append(_x_list)\n",
    "    \n",
    "def appen_train(x_list):\n",
    "    global temp_list\n",
    "                \n",
    "    S= max(sum(x_list),1.0);\n",
    "    temp_list = []\n",
    "    \n",
    "    for i in range(Agent_number_n):\n",
    "        temp = []\n",
    "        for j in range(Agent_number_n):\n",
    "            if(i!=j):\n",
    "                temp.append(x_list[j])\n",
    "        appen(temp,S)\n",
    "    \n",
    "    training_data.append(temp_list)\n",
    "    training_label.append(S)\n",
    "    \n",
    "\n",
    "def read_training_data():\n",
    "    for i in range(100000):\n",
    "        appen_train(sorted(np.random.rand(Agent_number_n), reverse=True));\n",
    "\n",
    "training_data=[]\n",
    "training_label=[]\n",
    "S=1.0\n",
    "read_training_data();\n",
    "\n",
    "def appen_test(x_list):\n",
    "    global temp_list\n",
    "                \n",
    "    S= max(sum(x_list),1.0);\n",
    "    temp_list = []\n",
    "    \n",
    "    for i in range(Agent_number_n):\n",
    "        temp = []\n",
    "        for j in range(Agent_number_n):\n",
    "            if(i!=j):\n",
    "                temp.append(x_list[j])\n",
    "        appen(temp,S)\n",
    "    testing_data.append(temp_list)\n",
    "    testing_label.append(S)\n",
    "    \n",
    "\n",
    "def read_testing_data():\n",
    "#     devided=20\n",
    "#     for i1 in range(devided+1):\n",
    "#         for i2 in range(i1+1):\n",
    "#             for i3 in range(i2+1):\n",
    "#                 appen_test(i1/devided,i2/devided,i3/devided);\n",
    "    for i in range(1000):\n",
    "        appen_test(sorted(np.random.rand(Agent_number_n), reverse=True));\n",
    "                            \n",
    "\n",
    "testing_data=[]\n",
    "testing_label=[]\n",
    "S=1.0\n",
    "read_testing_data();\n",
    "\n",
    "training_data=np.array(training_data)\n",
    "training_label=np.array(training_label)\n",
    "testing_data=np.array(testing_data)\n",
    "testing_label=np.array(testing_label)\n",
    "print(training_data)\n",
    "print(testing_data)\n",
    "print(training_label)\n",
    "print(testing_label)"
   ]
  },
  {
   "cell_type": "code",
   "execution_count": 4,
   "metadata": {
    "ExecuteTime": {
     "end_time": "2021-05-30T12:42:21.199771Z",
     "start_time": "2021-05-30T12:41:57.948988Z"
    }
   },
   "outputs": [
    {
     "name": "stdout",
     "output_type": "stream",
     "text": [
      "3.3732650722836413 2.999999999999999 0.37326507228364214\n"
     ]
    }
   ],
   "source": [
    "def h_3_star(a, b, t):\n",
    "    return a - min(a, t) + b - min(b, t) + max(min(a, t)+min(b, t), 2*t/3) + 1/2 * max(min(a, t)+min(b, t), t) - 1/2 * max(max(min(a, t), min(b, t)), 2*t/3) - t/6\n",
    "\n",
    "\n",
    "def f_function(a, b, z):\n",
    "    if(z >= 1):\n",
    "        return (a+b)/2 + z/3\n",
    "    else:\n",
    "        return z/3 + h_3_star(a, b, 1-z)/2\n",
    "\n",
    "def h_function(input_list):\n",
    "    #input_list = sorted(input_list)\n",
    "    g_list = []\n",
    "    for j1 in range(len(input_list) ):\n",
    "        for j2 in range(len(input_list)):\n",
    "            if(j1 != j2):\n",
    "                a = input_list[j1]\n",
    "                b = input_list[j2]\n",
    "                z = sum(input_list)- a-b\n",
    "\n",
    "                g_list.append( f_function(a, b, z) * (Agent_number_n-1))\n",
    "    h = sum(g_list) * 3 /  (Agent_number_n) /  (Agent_number_n-1) /  (Agent_number_n - 2)\n",
    "    return h\n",
    "                \n",
    "                \n",
    "x_list = []\n",
    "y_list = []\n",
    "z_list = []\n",
    "result_list = []\n",
    "training_supervised_label=[]\n",
    "for index in range(len(training_data)):\n",
    "    h_list = []\n",
    "    for i in range(Agent_number_n):\n",
    "        x_list.append(training_data[index][i][0])\n",
    "        y_list.append(training_data[index][i][1])\n",
    "        h = h_function(training_data[index][i])\n",
    "        z_list.append(float(h))\n",
    "        h_list.append(float(h))\n",
    "    training_supervised_label.append(h_list)\n",
    "    result_list.append(sum(h_list)/training_label[index]) \n",
    "    \n",
    "    \n",
    "print(max(result_list), min(result_list), max(result_list)-min(result_list))"
   ]
  },
  {
   "cell_type": "code",
   "execution_count": 5,
   "metadata": {
    "ExecuteTime": {
     "end_time": "2021-05-30T12:42:22.317293Z",
     "start_time": "2021-05-30T12:42:21.201767Z"
    }
   },
   "outputs": [
    {
     "data": {
      "image/png": "[encoded data removed]",
      "text/plain": [
       "<Figure size 432x288 with 1 Axes>"
      ]
     },
     "metadata": {
      "needs_background": "light"
     },
     "output_type": "display_data"
    }
   ],
   "source": [
    "plt.hist(result_list,bins=500)\n",
    "\n",
    "plt.title(\"Means\", y=1.015, fontsize=20)\n",
    "plt.axvline(x=sum(result_list)/len(result_list), linestyle='--', linewidth=2.5, label=\"sample mean\", c='orange')\n",
    "plt.xlabel(\"samples\", labelpad=14)\n",
    "plt.ylabel(\"frequency of occurence\", labelpad=14)\n",
    "plt.legend();\n",
    "\n",
    "result_list.sort()\n",
    "\n",
    "plt.axvline(x=result_list[int(len(result_list)*0.01)], linestyle='--', linewidth=0.5, label=\"1%\", c='b')\n",
    "plt.axvline(x=result_list[int(len(result_list)*0.99)], linestyle='--', linewidth=0.5, label=\"99%\", c='r')\n",
    "\n",
    "\n",
    "plt.show()"
   ]
  },
  {
   "cell_type": "code",
   "execution_count": 6,
   "metadata": {
    "ExecuteTime": {
     "end_time": "2021-05-30T12:42:22.444969Z",
     "start_time": "2021-05-30T12:42:22.318290Z"
    }
   },
   "outputs": [
    {
     "name": "stdout",
     "output_type": "stream",
     "text": [
      "[[1.5966328  1.66066722 2.05710701 2.57933545]\n",
      " [0.75590218 0.84033678 0.97133342 1.30087469]\n",
      " [1.29988494 1.39634148 1.76350747 2.09765055]\n",
      " ...\n",
      " [1.41026011 1.46320154 2.02936029 2.19209566]\n",
      " [0.80134237 0.95062497 1.20741874 1.32681151]\n",
      " [0.75       0.75       0.75297232 0.76481605]]\n"
     ]
    }
   ],
   "source": [
    "training_supervised_label=np.array(training_supervised_label)\n",
    "print(training_supervised_label)"
   ]
  },
  {
   "cell_type": "code",
   "execution_count": 7,
   "metadata": {
    "ExecuteTime": {
     "end_time": "2021-05-30T12:42:22.459928Z",
     "start_time": "2021-05-30T12:42:22.448959Z"
    }
   },
   "outputs": [
    {
     "name": "stdout",
     "output_type": "stream",
     "text": [
      "cuda:0\n"
     ]
    }
   ],
   "source": [
    "if torch.cuda.is_available():  \n",
    "    dev = \"cuda:0\" \n",
    "else:  \n",
    "    dev = \"cpu\"  \n",
    "\n",
    "print(dev)\n"
   ]
  },
  {
   "cell_type": "code",
   "execution_count": 8,
   "metadata": {
    "ExecuteTime": {
     "end_time": "2021-05-30T12:42:22.490846Z",
     "start_time": "2021-05-30T12:42:22.461923Z"
    },
    "run_control": {
     "marked": true
    }
   },
   "outputs": [],
   "source": [
    "def weight_init(m):\n",
    "    if isinstance(m, torch.nn.Conv2d):\n",
    "        torch.nn.init.xavier_normal_(m.weight)\n",
    "        torch.nn.init.zeros_(m.bias)\n",
    "    elif isinstance(m, torch.nn.Linear):\n",
    "        torch.nn.init.normal_(m.weight, mean=0.0,std =0.2)\n",
    "        torch.nn.init.normal_(m.bias, mean=0.0,std =0.01)\n",
    "#     elif isinstance(m, torch.nn.Parameter):\n",
    "#         torch.nn.init.normal_(m, mean=0.0,std =0.1)\n",
    "\n",
    "        \n",
    "\n",
    "class Net(torch.nn.Module):\n",
    "    def __init__(self):\n",
    "\n",
    "        super(Net, self).__init__()\n",
    "        \n",
    "        self.input_dim = (Agent_number_n-1)*10\n",
    "        self.hidden_dim = 50\n",
    "        self.output_dim = 1\n",
    "        self.hidden_layer_count = 8\n",
    "        \n",
    "        current_dim = self.input_dim\n",
    "        self.layers = torch.nn.ModuleList()\n",
    "        for i in range(self.hidden_layer_count):\n",
    "            self.layers.append(torch.nn.Linear(current_dim, self.hidden_dim))\n",
    "            current_dim = self.hidden_dim\n",
    "        self.layers.append(torch.nn.Linear(current_dim, self.output_dim))\n",
    "\n",
    "    def calculate(self, value_list):\n",
    "        input_h = torch.zeros(self.input_dim).cuda()\n",
    "        for i in range((Agent_number_n-1)):\n",
    "            for j in range(10):\n",
    "                \n",
    "                input_h[i*10+j] = torch.where( value_list[i]*10>torch.tensor(j) ,\n",
    "                            torch.ones(1).cuda(),\n",
    "                            value_list[i]*10 - torch.tensor(j)\n",
    "                          )\n",
    "                if(value_list[i]*10<=torch.tensor(j)):\n",
    "                    break;\n",
    "        \n",
    "        h = input_h\n",
    "        for layer in self.layers:\n",
    "            h = torch.relu(layer(h))\n",
    "        return h\n",
    "\n",
    "    def forward(self, input_list,input_label,label):\n",
    "        global iteration,echo,target_order\n",
    "        loss1 = 0\n",
    "        loss2 = 0\n",
    "        input_list = torch.from_numpy(\n",
    "            np.array(input_list)).cuda().type(torch.float32)\n",
    "        h_list = []\n",
    "\n",
    "        if (target_order == \"supervised\"):\n",
    "            loss = 0 \n",
    "            for i in range(Agent_number_n):\n",
    "                h = self.calculate(input_list[i])\n",
    "                loss += torch.square(h - label[i])\n",
    "                h_list.append(h)\n",
    "            return loss\n",
    "        else:\n",
    "            for i in range(Agent_number_n):\n",
    "                h = self.calculate(input_list[i])\n",
    "                h_list.append(h)\n",
    "            input_label = torch.from_numpy(\n",
    "                np.array(input_label)).cuda().type(torch.float32)\n",
    "            sum_h = torch.sum(torch.cat(h_list)).cuda()\n",
    "\n",
    "\n",
    "            loss1 = torch.where((Agent_number_n-1)*input_label>sum_h,\n",
    "                            torch.square(((Agent_number_n-1)*input_label-sum_h)),\n",
    "                            torch.zeros(1).cuda()\n",
    "                          )\n",
    "\n",
    "            loss2 = torch.where((Agent_number_n-Alpha)*input_label<sum_h,\n",
    "                            torch.square((sum_h-(Agent_number_n-Alpha)*input_label))/4,\n",
    "                            torch.zeros(1).cuda()\n",
    "                          )\n",
    "\n",
    "            return loss1,loss2,h_list"
   ]
  },
  {
   "cell_type": "code",
   "execution_count": 9,
   "metadata": {
    "ExecuteTime": {
     "end_time": "2021-05-30T12:42:23.767012Z",
     "start_time": "2021-05-30T12:42:22.491843Z"
    }
   },
   "outputs": [
    {
     "data": {
      "text/plain": [
       "Net(\n",
       "  (layers): ModuleList(\n",
       "    (0): Linear(in_features=30, out_features=50, bias=True)\n",
       "    (1): Linear(in_features=50, out_features=50, bias=True)\n",
       "    (2): Linear(in_features=50, out_features=50, bias=True)\n",
       "    (3): Linear(in_features=50, out_features=50, bias=True)\n",
       "    (4): Linear(in_features=50, out_features=50, bias=True)\n",
       "    (5): Linear(in_features=50, out_features=50, bias=True)\n",
       "    (6): Linear(in_features=50, out_features=50, bias=True)\n",
       "    (7): Linear(in_features=50, out_features=50, bias=True)\n",
       "    (8): Linear(in_features=50, out_features=1, bias=True)\n",
       "  )\n",
       ")"
      ]
     },
     "execution_count": 9,
     "metadata": {},
     "output_type": "execute_result"
    }
   ],
   "source": [
    "random.seed(2000)\n",
    "torch.manual_seed(256)\n",
    "net  = Net()\n",
    "net.apply(weight_init)\n",
    "\n",
    "net = torch.load(\"save/Deep_learning_small_10_4\")\n",
    "net.to(dev)"
   ]
  },
  {
   "cell_type": "code",
   "execution_count": 10,
   "metadata": {
    "ExecuteTime": {
     "end_time": "2021-05-30T12:42:23.782894Z",
     "start_time": "2021-05-30T12:42:23.768010Z"
    },
    "run_control": {
     "marked": true
    }
   },
   "outputs": [],
   "source": [
    "#optimizer = opt.RMSprop(net.parameters(), lr=0.00001)\n",
    "#optimizer = opt.SGD(net.parameters(), lr=0.00001)\n",
    "optimizer = opt.Adam(net.parameters(), lr=0.00001)\n",
    "\n",
    "batch_size = 64\n",
    "echo = 0"
   ]
  },
  {
   "cell_type": "code",
   "execution_count": 11,
   "metadata": {
    "ExecuteTime": {
     "end_time": "2021-05-30T12:42:23.798850Z",
     "start_time": "2021-05-30T12:42:23.784888Z"
    }
   },
   "outputs": [],
   "source": [
    "target_order = \"supervised\"\n",
    "for iteration in range(int(echo)):\n",
    "    # offender_types = []\n",
    "    # defender_types = []\n",
    "    \n",
    "    \n",
    "    X_train_list = []\n",
    "    temp_number = 0\n",
    "    total_batch_loss = 0 \n",
    "    while(temp_number<len(training_data)-1):\n",
    "        loss_sum = 0\n",
    "        denominator = 0\n",
    "        for index in range(temp_number, min(batch_size+temp_number,len(training_data))):\n",
    "            h_loss = net(training_data[index],training_label[index],training_supervised_label[index])\n",
    "            denominator += 1\n",
    "            loss_sum += h_loss\n",
    "            \n",
    "        loss = (loss_sum) / denominator \n",
    "        total_batch_loss +=float(loss_sum)\n",
    "        optimizer.zero_grad()\n",
    "        \n",
    "        loss.backward()\n",
    "        \n",
    "        optimizer.step()\n",
    "        \n",
    "        temp_number = index\n",
    "        \n",
    "        if(random.random()<=0.01):\n",
    "            print(temp_number,loss,float(loss_sum))\n",
    "\n",
    "\n",
    "    print(\"batch iteration\", iteration)\n",
    "    print(\"batch_loss: %.2f \" % (total_batch_loss/len(training_data)))\n",
    "    \n",
    "    print()\n",
    "    print()"
   ]
  },
  {
   "cell_type": "code",
   "execution_count": 12,
   "metadata": {
    "ExecuteTime": {
     "end_time": "2021-05-30T12:42:54.066594Z",
     "start_time": "2021-05-30T12:42:23.799847Z"
    }
   },
   "outputs": [
    {
     "name": "stdout",
     "output_type": "stream",
     "text": [
      "3.493987277933924 2.9238667488098145 0.5701205291241096\n"
     ]
    }
   ],
   "source": [
    "denominator = 0\n",
    "result_list = []\n",
    "for index in range(len(testing_data)):\n",
    "    h_list = []\n",
    "    for i in range(Agent_number_n):\n",
    "        h = net.calculate(torch.tensor(testing_data[index][i]).cuda().type(torch.float32))\n",
    "        h_list.append(float(h))\n",
    "    \n",
    "    #print(sum(h_list),h_list,sum(h_list)/testing_label[index])\n",
    "    result_list.append(sum(h_list)/testing_label[index])\n",
    "    \n",
    "\n",
    "print(max(result_list),min(result_list),max(result_list)-min(result_list))"
   ]
  },
  {
   "cell_type": "code",
   "execution_count": 13,
   "metadata": {
    "ExecuteTime": {
     "end_time": "2021-05-30T12:42:55.012105Z",
     "start_time": "2021-05-30T12:42:54.068589Z"
    }
   },
   "outputs": [
    {
     "data": {
      "image/png": "[encoded data removed]",
      "text/plain": [
       "<Figure size 432x288 with 1 Axes>"
      ]
     },
     "metadata": {
      "needs_background": "light"
     },
     "output_type": "display_data"
    }
   ],
   "source": [
    "plt.hist(result_list,bins=500)\n",
    "\n",
    "plt.title(\"Means\", y=1.015, fontsize=20)\n",
    "plt.axvline(x=sum(result_list)/len(result_list), linestyle='--', linewidth=2.5, label=\"sample mean\", c='orange')\n",
    "plt.xlabel(\"samples\", labelpad=14)\n",
    "plt.ylabel(\"frequency of occurence\", labelpad=14)\n",
    "plt.legend();\n",
    "\n",
    "result_list.sort()\n",
    "\n",
    "plt.axvline(x=result_list[int(len(result_list)*0.01)], linestyle='--', linewidth=0.5, label=\"1%\", c='b')\n",
    "plt.axvline(x=result_list[int(len(result_list)*0.99)], linestyle='--', linewidth=0.5, label=\"99%\", c='r')\n",
    "\n",
    "\n",
    "plt.show()"
   ]
  },
  {
   "cell_type": "code",
   "execution_count": 14,
   "metadata": {
    "ExecuteTime": {
     "end_time": "2021-05-30T12:42:55.028081Z",
     "start_time": "2021-05-30T12:42:55.014099Z"
    }
   },
   "outputs": [],
   "source": [
    "torch.save(net, \"save/Deep_learning_small_10_4\")"
   ]
  },
  {
   "cell_type": "code",
   "execution_count": 15,
   "metadata": {
    "ExecuteTime": {
     "end_time": "2021-05-30T12:42:55.044038Z",
     "start_time": "2021-05-30T12:42:55.030079Z"
    }
   },
   "outputs": [],
   "source": [
    "#optimizer = opt.RMSprop(net.parameters(), lr=0.00001)\n",
    "#optimizer = opt.SGD(net.parameters(), lr=0.00005)\n",
    "optimizer = opt.Adam(net.parameters(), lr=0.001)\n",
    "\n",
    "batch_size = 64\n",
    "echo = 1"
   ]
  },
  {
   "cell_type": "code",
   "execution_count": 16,
   "metadata": {
    "ExecuteTime": {
     "end_time": "2021-05-30T13:36:10.069478Z",
     "start_time": "2021-05-30T12:42:55.045035Z"
    }
   },
   "outputs": [
    {
     "name": "stdout",
     "output_type": "stream",
     "text": [
      "3024 tensor([0.0003], device='cuda:0', grad_fn=<DivBackward0>) 0.02002197876572609 0.002360115060582757\n",
      "4347 tensor([0.0002], device='cuda:0', grad_fn=<DivBackward0>) 0.006614966318011284 0.0058595878072083\n",
      "8883 tensor([0.], device='cuda:0', grad_fn=<DivBackward0>) 0.0 0.0\n",
      "13104 tensor([6.0437e-05], device='cuda:0', grad_fn=<DivBackward0>) 0.0013956796610727906 0.0024722935631871223\n",
      "16128 tensor([0.], device='cuda:0', grad_fn=<DivBackward0>) 0.0 0.0\n",
      "25011 tensor([0.0004], device='cuda:0', grad_fn=<DivBackward0>) 0.0 0.024889014661312103\n",
      "35091 tensor([0.0004], device='cuda:0', grad_fn=<DivBackward0>) 0.002300257096067071 0.02441956102848053\n",
      "36351 tensor([1.7256e-05], device='cuda:0', grad_fn=<DivBackward0>) 0.0 0.0011043910635635257\n",
      "36666 tensor([0.0001], device='cuda:0', grad_fn=<DivBackward0>) 0.0 0.007214241195470095\n",
      "56007 tensor([0.0004], device='cuda:0', grad_fn=<DivBackward0>) 0.0 0.025124486535787582\n",
      "68103 tensor([0.0003], device='cuda:0', grad_fn=<DivBackward0>) 0.008310895413160324 0.01110120676457882\n",
      "68166 tensor([2.1994e-06], device='cuda:0', grad_fn=<DivBackward0>) 1.9152976165059954e-05 0.00012160740152467042\n",
      "80010 tensor([5.9602e-05], device='cuda:0', grad_fn=<DivBackward0>) 0.0 0.0038144963327795267\n",
      "82026 tensor([1.4111e-05], device='cuda:0', grad_fn=<DivBackward0>) 0.0009030764922499657 0.0\n",
      "85680 tensor([3.7749e-05], device='cuda:0', grad_fn=<DivBackward0>) 0.002415955998003483 0.0\n",
      "85869 tensor([9.1647e-08], device='cuda:0', grad_fn=<DivBackward0>) 5.865385901415721e-06 0.0\n",
      "94878 tensor([4.7639e-05], device='cuda:0', grad_fn=<DivBackward0>) 0.0016171707538887858 0.001431706128641963\n",
      "batch iteration 0\n",
      "batch_loss: 0.00 \n",
      "\n",
      "\n"
     ]
    }
   ],
   "source": [
    "target_order = \"unsupervised\"\n",
    "for iteration in range(int(echo)):\n",
    "    # offender_types = []\n",
    "    # defender_types = []\n",
    "    \n",
    "    \n",
    "    X_train_list = []\n",
    "    temp_number = 0\n",
    "    total_batch_loss = 0 \n",
    "    while(temp_number<len(training_data)-1):\n",
    "        \n",
    "        loss2_list = []\n",
    "        loss1_sum = 0\n",
    "        loss2_sum = 0\n",
    "        denominator = 0\n",
    "        for index in range(temp_number, min(batch_size+temp_number,len(training_data))):\n",
    "            h_loss1,h_loss2,h_list = net(training_data[index],training_label[index],0)\n",
    "            denominator += 1\n",
    "            loss1_sum += h_loss1\n",
    "            loss2_sum += h_loss2\n",
    "            \n",
    "        loss_sum = loss1_sum + loss2_sum\n",
    "        loss = (loss_sum) / denominator \n",
    "        total_batch_loss +=float(loss_sum)\n",
    "        optimizer.zero_grad()\n",
    "        \n",
    "        loss.backward()\n",
    "        \n",
    "        optimizer.step()\n",
    "        \n",
    "        temp_number = index\n",
    "        \n",
    "        if(random.random()<=0.01):\n",
    "            print(temp_number,loss,float(loss1_sum),float(loss2_sum))\n",
    "\n",
    "\n",
    "    print(\"batch iteration\", iteration)\n",
    "    print(\"batch_loss: %.2f \" % (total_batch_loss/len(training_data)))\n",
    "    \n",
    "    print()\n",
    "    print()"
   ]
  },
  {
   "cell_type": "code",
   "execution_count": 17,
   "metadata": {
    "ExecuteTime": {
     "end_time": "2021-05-30T13:36:10.084993Z",
     "start_time": "2021-05-30T13:36:10.071447Z"
    }
   },
   "outputs": [],
   "source": [
    "torch.save(net, \"save/Deep_learning_small_10_4\")"
   ]
  },
  {
   "cell_type": "code",
   "execution_count": 18,
   "metadata": {
    "ExecuteTime": {
     "end_time": "2021-05-30T13:36:39.815966Z",
     "start_time": "2021-05-30T13:36:10.086988Z"
    }
   },
   "outputs": [
    {
     "name": "stdout",
     "output_type": "stream",
     "text": [
      "3.460055138226385 2.9942059966813956 0.46584914154498946\n"
     ]
    }
   ],
   "source": [
    "denominator = 0\n",
    "result_list = []\n",
    "for index in range(len(testing_data)):\n",
    "    h_list = []\n",
    "    for i in range(Agent_number_n):\n",
    "        h = net.calculate(torch.tensor(testing_data[index][i]).cuda().type(torch.float32))\n",
    "        h_list.append(float(h))\n",
    "    \n",
    "    #print(sum(h_list),h_list,sum(h_list)/testing_label[index])\n",
    "    result_list.append(sum(h_list)/testing_label[index])\n",
    "    \n",
    "\n",
    "print(max(result_list),min(result_list),max(result_list)-min(result_list))"
   ]
  },
  {
   "cell_type": "code",
   "execution_count": 19,
   "metadata": {
    "ExecuteTime": {
     "end_time": "2021-05-30T13:36:40.774465Z",
     "start_time": "2021-05-30T13:36:39.817961Z"
    }
   },
   "outputs": [
    {
     "data": {
      "image/png": "[encoded data removed]",
      "text/plain": [
       "<Figure size 432x288 with 1 Axes>"
      ]
     },
     "metadata": {
      "needs_background": "light"
     },
     "output_type": "display_data"
    }
   ],
   "source": [
    "plt.hist(result_list,bins=500)\n",
    "\n",
    "plt.title(\"Means\", y=1.015, fontsize=20)\n",
    "plt.axvline(x=sum(result_list)/len(result_list), linestyle='--', linewidth=2.5, label=\"sample mean\", c='orange')\n",
    "plt.xlabel(\"samples\", labelpad=14)\n",
    "plt.ylabel(\"frequency of occurence\", labelpad=14)\n",
    "plt.legend();\n",
    "\n",
    "result_list.sort()\n",
    "\n",
    "plt.axvline(x=result_list[int(len(result_list)*0.01)], linestyle='--', linewidth=0.5, label=\"1%\", c='b')\n",
    "plt.axvline(x=result_list[int(len(result_list)*0.99)], linestyle='--', linewidth=0.5, label=\"99%\", c='r')\n",
    "\n",
    "\n",
    "plt.show()"
   ]
  },
  {
   "cell_type": "code",
   "execution_count": 20,
   "metadata": {
    "ExecuteTime": {
     "end_time": "2021-05-30T13:36:40.870209Z",
     "start_time": "2021-05-30T13:36:40.775462Z"
    }
   },
   "outputs": [
    {
     "name": "stdout",
     "output_type": "stream",
     "text": [
      "Parameter containing:\n",
      "tensor([[-0.1303, -0.0194,  0.0042,  ...,  0.1198, -0.3205,  0.0630],\n",
      "        [-0.1578,  0.0472,  0.0189,  ..., -0.4110, -0.1892,  0.1898],\n",
      "        [ 0.2119,  0.1507,  0.1774,  ..., -0.1218, -0.0472,  0.0084],\n",
      "        ...,\n",
      "        [ 0.1811, -0.1237, -0.1857,  ..., -0.2974,  0.2289, -0.0199],\n",
      "        [ 0.2481,  0.3947, -0.2797,  ..., -0.2593,  0.2135,  0.1368],\n",
      "        [ 0.0650,  0.1035, -0.0019,  ...,  0.2662,  0.0458,  0.4679]],\n",
      "       device='cuda:0', requires_grad=True)\n",
      "Parameter containing:\n",
      "tensor([ 2.1791e-02,  2.1067e-02, -4.0313e-03, -4.0276e-03,  1.9734e-03,\n",
      "         9.6102e-03,  5.1197e-02,  1.4134e-02,  7.2946e-03,  6.0832e-03,\n",
      "        -2.7256e-02,  4.4556e-02,  1.8635e-04, -1.6701e-02,  2.0988e-02,\n",
      "        -2.4963e-02, -3.4986e-03, -1.1155e-02, -3.4610e-04,  1.3091e-02,\n",
      "         4.6254e-03, -1.5398e-02,  1.5813e-02, -1.5734e-02, -3.0315e-03,\n",
      "         1.0518e-02,  8.7796e-07, -3.9890e-03, -1.0145e-03, -4.4457e-03,\n",
      "         8.7989e-03,  4.7664e-03, -4.6741e-03,  1.5652e-02,  8.1378e-03,\n",
      "        -1.3329e-02,  6.0926e-03, -1.4482e-02,  1.9127e-02, -1.5884e-02,\n",
      "         2.8482e-02, -3.9254e-02, -1.6232e-02,  9.2470e-03, -5.4233e-03,\n",
      "         7.5004e-03,  1.7060e-02, -5.4872e-03, -2.1152e-03, -1.0306e-02],\n",
      "       device='cuda:0', requires_grad=True)\n",
      "Parameter containing:\n",
      "tensor([[ 0.4342, -0.1435,  0.0213,  ...,  0.0554, -0.3476,  0.2791],\n",
      "        [ 0.0571, -0.1661,  0.1071,  ..., -0.3986,  0.2256, -0.2466],\n",
      "        [-0.0657, -0.0076, -0.3305,  ..., -0.2132,  0.0354,  0.1918],\n",
      "        ...,\n",
      "        [-0.1021, -0.1427, -0.1099,  ..., -0.3196, -0.3190,  0.0471],\n",
      "        [ 0.0613, -0.2350,  0.3299,  ..., -0.1858,  0.2649, -0.3664],\n",
      "        [-0.1855,  0.1128, -0.2154,  ...,  0.1039, -0.1983, -0.0533]],\n",
      "       device='cuda:0', requires_grad=True)\n",
      "Parameter containing:\n",
      "tensor([ 8.5463e-03, -2.5288e-02, -7.3286e-04,  7.2482e-03,  1.0273e-02,\n",
      "         1.0757e-02, -1.3663e-02, -6.7586e-03, -2.9255e-02, -1.2710e-02,\n",
      "        -1.3657e-02, -9.4870e-03,  1.0246e-02, -5.7480e-03, -4.8556e-03,\n",
      "        -1.0551e-02, -8.6136e-03,  1.4508e-02, -2.2992e-02,  2.8801e-03,\n",
      "         2.3508e-02,  1.2468e-02, -1.5685e-02,  4.3583e-03, -8.2304e-03,\n",
      "         6.2315e-03,  1.5446e-02, -4.0299e-03, -1.1729e-02, -2.8128e-02,\n",
      "        -4.2364e-06, -7.5665e-03, -5.2727e-03,  1.7160e-02, -1.4222e-02,\n",
      "        -9.4938e-03,  3.7006e-03, -2.9097e-02,  3.7056e-02, -3.8101e-02,\n",
      "        -9.1665e-03, -2.8384e-02, -2.4537e-02, -2.7760e-02, -2.0134e-02,\n",
      "        -4.4155e-03,  4.6911e-03, -1.6612e-02,  2.6505e-02,  2.3000e-03],\n",
      "       device='cuda:0', requires_grad=True)\n",
      "Parameter containing:\n",
      "tensor([[ 0.3330,  0.2293, -0.3779,  ...,  0.0546, -0.2150, -0.1128],\n",
      "        [-0.0687,  0.1791, -0.2020,  ..., -0.0684, -0.2757,  0.0898],\n",
      "        [-0.0218,  0.3269,  0.2379,  ...,  0.3497, -0.1111, -0.3065],\n",
      "        ...,\n",
      "        [-0.3650,  0.0862, -0.2854,  ..., -0.4065, -0.3422,  0.1504],\n",
      "        [ 0.2754, -0.3223,  0.0139,  ..., -0.1154, -0.2958, -0.0404],\n",
      "        [ 0.0032,  0.1867,  0.0186,  ...,  0.0156,  0.1918, -0.0666]],\n",
      "       device='cuda:0', requires_grad=True)\n",
      "Parameter containing:\n",
      "tensor([-0.0103, -0.0360, -0.0002,  0.0116, -0.0091,  0.0115,  0.0099, -0.0138,\n",
      "         0.0112,  0.0076,  0.0242, -0.0048, -0.0146,  0.0326, -0.0007, -0.0052,\n",
      "        -0.0043, -0.0114,  0.0185, -0.0020, -0.0127, -0.0174,  0.0057,  0.0011,\n",
      "        -0.0114,  0.0044, -0.0189,  0.0182, -0.0156, -0.0017, -0.0022, -0.0158,\n",
      "         0.0024,  0.0091, -0.0258,  0.0078, -0.0020,  0.0251, -0.0084,  0.0102,\n",
      "        -0.0141, -0.0017, -0.0377,  0.0316,  0.0194,  0.0011,  0.0040, -0.0021,\n",
      "         0.0028, -0.0021], device='cuda:0', requires_grad=True)\n",
      "Parameter containing:\n",
      "tensor([[-0.0214, -0.0445, -0.1759,  ..., -0.1140, -0.3337,  0.4562],\n",
      "        [-0.0240, -0.4522,  0.2456,  ...,  0.0128, -0.3247, -0.1702],\n",
      "        [-0.1217,  0.1168,  0.0691,  ..., -0.0409, -0.2337,  0.0046],\n",
      "        ...,\n",
      "        [-0.1169,  0.2104, -0.0824,  ...,  0.0030, -0.3296, -0.0397],\n",
      "        [-0.0392, -0.0953,  0.3250,  ..., -0.1479, -0.4287,  0.1916],\n",
      "        [-0.2182,  0.1645, -0.3921,  ..., -0.0413,  0.0764, -0.0716]],\n",
      "       device='cuda:0', requires_grad=True)\n",
      "Parameter containing:\n",
      "tensor([ 0.0033,  0.0002,  0.0008, -0.0019, -0.0156, -0.0080,  0.0164, -0.0158,\n",
      "        -0.0062, -0.0103, -0.0168, -0.0217, -0.0060,  0.0037, -0.0027, -0.0164,\n",
      "         0.0122, -0.0200,  0.0065, -0.0084,  0.0120, -0.0180, -0.0022,  0.0157,\n",
      "         0.0034,  0.0041, -0.0023,  0.0078, -0.0032, -0.0202,  0.0076, -0.0024,\n",
      "         0.0058,  0.0175, -0.0084, -0.0003, -0.0057, -0.0025,  0.0185, -0.0445,\n",
      "         0.0293,  0.0198,  0.0274, -0.0235, -0.0125,  0.0389, -0.0123,  0.0204,\n",
      "         0.0054, -0.0121], device='cuda:0', requires_grad=True)\n",
      "Parameter containing:\n",
      "tensor([[-0.1293,  0.0752, -0.1310,  ..., -0.0297, -0.0187, -0.1598],\n",
      "        [-0.1376,  0.1493, -0.0503,  ...,  0.2924, -0.0791,  0.2127],\n",
      "        [-0.0793, -0.0122,  0.4036,  ...,  0.1568, -0.1349,  0.0891],\n",
      "        ...,\n",
      "        [ 0.0489, -0.0471,  0.4454,  ..., -0.0478, -0.3188,  0.0023],\n",
      "        [ 0.1409, -0.0963,  0.0107,  ...,  0.0793,  0.0063, -0.3221],\n",
      "        [-0.3252,  0.0131, -0.5370,  ...,  0.0273,  0.0158, -0.0843]],\n",
      "       device='cuda:0', requires_grad=True)\n",
      "Parameter containing:\n",
      "tensor([-0.0112, -0.0111,  0.0044, -0.0156, -0.0080, -0.0248,  0.0236,  0.0032,\n",
      "        -0.0199,  0.0216, -0.0453, -0.0024, -0.0022,  0.0176, -0.0062,  0.0044,\n",
      "        -0.0154, -0.0057, -0.0112, -0.0053, -0.0156, -0.0081,  0.0174,  0.0099,\n",
      "         0.0181,  0.0160, -0.0020, -0.0357, -0.0233, -0.0164,  0.0029, -0.0104,\n",
      "         0.0029,  0.0069, -0.0177,  0.0067, -0.0016, -0.0126, -0.0041, -0.0029,\n",
      "         0.0178, -0.0157,  0.0022, -0.0057, -0.0092,  0.0204,  0.0118, -0.0382,\n",
      "         0.0025, -0.0237], device='cuda:0', requires_grad=True)\n",
      "Parameter containing:\n",
      "tensor([[ 0.2774,  0.0110, -0.0062,  ..., -0.1171, -0.2822, -0.0017],\n",
      "        [-0.4157, -0.0012, -0.1564,  ..., -0.0930,  0.0737, -0.2386],\n",
      "        [-0.0557, -0.0247,  0.1261,  ...,  0.2488, -0.0686, -0.1014],\n",
      "        ...,\n",
      "        [ 0.0534,  0.0517,  0.2054,  ..., -0.0281,  0.0736,  0.3313],\n",
      "        [-0.1595, -0.1011, -0.4775,  ...,  0.0873,  0.3267,  0.3524],\n",
      "        [-0.4264,  0.1284, -0.3499,  ...,  0.0636, -0.3893, -0.3678]],\n",
      "       device='cuda:0', requires_grad=True)\n",
      "Parameter containing:\n",
      "tensor([-0.0038, -0.0126, -0.0087, -0.0172,  0.0056, -0.0074,  0.0146, -0.0273,\n",
      "        -0.0187, -0.0235, -0.0099, -0.0096, -0.0166,  0.0027,  0.0109,  0.0140,\n",
      "        -0.0265, -0.0339, -0.0119,  0.0753,  0.0207,  0.0114,  0.0155, -0.0122,\n",
      "        -0.0129, -0.0276, -0.0090,  0.0028, -0.0302, -0.0212, -0.0104, -0.0163,\n",
      "         0.0131, -0.0361, -0.0067,  0.0087,  0.0071, -0.0249, -0.0051, -0.0097,\n",
      "        -0.0038,  0.0245, -0.0173,  0.0076,  0.0266, -0.0043,  0.0244, -0.0014,\n",
      "        -0.0082,  0.0319], device='cuda:0', requires_grad=True)\n",
      "Parameter containing:\n",
      "tensor([[-1.5000e-01, -4.7173e-01, -1.1899e-01,  ...,  3.1170e-01,\n",
      "          1.7262e-01,  2.5011e-01],\n",
      "        [ 7.8322e-02,  1.5421e-01,  3.8960e-01,  ...,  1.0094e-01,\n",
      "         -1.2565e-02,  2.3426e-02],\n",
      "        [ 6.9561e-02, -8.0575e-02,  3.3966e-01,  ..., -6.9837e-02,\n",
      "          1.9023e-01, -1.9035e-01],\n",
      "        ...,\n",
      "        [-1.9899e-01, -4.2923e-04, -2.1303e-01,  ...,  2.9005e-02,\n",
      "         -9.7721e-02, -5.1485e-02],\n",
      "        [-7.6172e-02,  1.6134e-02,  1.1231e-01,  ..., -6.2019e-02,\n",
      "          3.9005e-01, -2.6210e-01],\n",
      "        [-1.7745e-01,  2.0920e-01,  4.0043e-01,  ...,  9.2346e-03,\n",
      "         -1.4867e-01,  1.2210e-01]], device='cuda:0', requires_grad=True)\n",
      "Parameter containing:\n",
      "tensor([ 1.1976e-02, -2.2402e-02, -9.2345e-03,  8.8897e-03, -2.0499e-02,\n",
      "         3.1566e-02, -1.5159e-02, -1.4039e-02,  5.4017e-03,  1.6972e-02,\n",
      "         4.3900e-03, -2.1432e-02, -3.1501e-02, -1.0786e-02, -8.8960e-04,\n",
      "         1.1349e-03, -2.3021e-03,  1.9392e-02,  1.8907e-02, -3.6700e-06,\n",
      "        -1.6482e-02, -8.6617e-03,  1.2140e-02,  1.6646e-02, -2.7514e-02,\n",
      "        -1.2607e-02,  2.6316e-02, -5.4629e-03,  2.3561e-02,  1.7697e-02,\n",
      "        -1.5582e-02,  8.0597e-03, -1.1542e-02,  2.8479e-02, -1.5147e-03,\n",
      "         2.0290e-02,  1.9339e-02,  2.7153e-03, -2.8261e-02, -1.2888e-02,\n",
      "        -1.8582e-02, -2.3113e-02, -2.2353e-02, -1.1144e-02,  4.6233e-03,\n",
      "         2.2530e-02, -2.7498e-02,  1.3557e-02, -3.9484e-02, -1.0640e-03],\n",
      "       device='cuda:0', requires_grad=True)\n",
      "Parameter containing:\n",
      "tensor([[-0.0688,  0.2864, -0.1155,  ..., -0.4019, -0.0659,  0.0896],\n",
      "        [-0.0876, -0.2368,  0.0840,  ..., -0.4726, -0.0016,  0.3626],\n",
      "        [ 0.2580,  0.1756, -0.2400,  ..., -0.0172, -0.1630,  0.3020],\n",
      "        ...,\n",
      "        [ 0.1270,  0.3253, -0.1138,  ..., -0.0623, -0.1846,  0.2427],\n",
      "        [-0.2834,  0.1139,  0.5696,  ..., -0.1532, -0.0336, -0.2174],\n",
      "        [-0.2485, -0.2080, -0.0416,  ...,  0.2124,  0.1397, -0.0653]],\n",
      "       device='cuda:0', requires_grad=True)\n",
      "Parameter containing:\n",
      "tensor([-0.0179, -0.0253, -0.0118, -0.0122, -0.0073, -0.0183, -0.0032, -0.0146,\n",
      "         0.0231, -0.0195,  0.0165, -0.0311,  0.0089,  0.0117,  0.0288,  0.0123,\n",
      "        -0.0061,  0.1125, -0.0037, -0.0229, -0.0002, -0.0598,  0.0244, -0.0181,\n",
      "         0.0227, -0.0303,  0.0228,  0.0110, -0.0082,  0.0021, -0.0008,  0.0111,\n",
      "         0.0059,  0.0187, -0.0322, -0.0057,  0.0055, -0.0071, -0.0348, -0.0242,\n",
      "        -0.0085, -0.0122,  0.0189, -0.0124, -0.0206,  0.0098, -0.0265, -0.0041,\n",
      "        -0.0079,  0.0039], device='cuda:0', requires_grad=True)\n",
      "Parameter containing:\n",
      "tensor([[ 0.0336, -0.1484,  0.2290, -0.1721, -0.0404, -0.0058, -0.0939, -0.1500,\n",
      "          0.1528, -0.1847,  0.1351, -0.0549,  0.0756,  0.4388,  0.1215,  0.0387,\n",
      "         -0.0923,  0.2910,  0.1036, -0.0908, -0.0235, -0.1520,  0.2137, -0.5023,\n",
      "          0.0642, -0.0869,  0.0188, -0.1331,  0.2660, -0.2921,  0.2441,  0.2686,\n",
      "         -0.2926,  0.5981, -0.0225, -0.0923,  0.4278,  0.2321, -0.1542, -0.1691,\n",
      "          0.0388, -0.2383,  0.0223, -0.1678, -0.2226,  0.3911,  0.0165,  0.0099,\n",
      "         -0.0107, -0.1252]], device='cuda:0', requires_grad=True)\n",
      "Parameter containing:\n",
      "tensor([0.0132], device='cuda:0', requires_grad=True)\n"
     ]
    }
   ],
   "source": [
    "for param in net.parameters():\n",
    "    print(param )"
   ]
  }
 ],
 "metadata": {
  "hide_input": false,
  "kernelspec": {
   "display_name": "Python 3",
   "language": "python",
   "name": "python3"
  },
  "language_info": {
   "codemirror_mode": {
    "name": "ipython",
    "version": 3
   },
   "file_extension": ".py",
   "mimetype": "text/x-python",
   "name": "python",
   "nbconvert_exporter": "python",
   "pygments_lexer": "ipython3",
   "version": "3.8.3"
  },
  "varInspector": {
   "cols": {
    "lenName": 16,
    "lenType": 16,
    "lenVar": 40
   },
   "kernels_config": {
    "python": {
     "delete_cmd_postfix": "",
     "delete_cmd_prefix": "del ",
     "library": "var_list.py",
     "varRefreshCmd": "print(var_dic_list())"
    },
    "r": {
     "delete_cmd_postfix": ") ",
     "delete_cmd_prefix": "rm(",
     "library": "var_list.r",
     "varRefreshCmd": "cat(var_dic_list()) "
    }
   },
   "types_to_exclude": [
    "module",
    "function",
    "builtin_function_or_method",
    "instance",
    "_Feature"
   ],
   "window_display": false
  }
 },
 "nbformat": 4,
 "nbformat_minor": 4
}
