{
 "cells": [
  {
   "cell_type": "code",
   "execution_count": 1,
   "metadata": {
    "ExecuteTime": {
     "end_time": "2021-05-28T02:27:13.319628Z",
     "start_time": "2021-05-28T02:27:12.035704Z"
    }
   },
   "outputs": [
    {
     "name": "stdout",
     "output_type": "stream",
     "text": [
      "pygame 2.0.1 (SDL 2.0.14, Python 3.8.3)\n",
      "Hello from the pygame community. https://www.pygame.org/contribute.html\n",
      "cuda:0\n"
     ]
    },
    {
     "name": "stderr",
     "output_type": "stream",
     "text": [
      "D:\\ComputerSoftwares\\Anaconda\\lib\\site-packages\\sklearn\\utils\\deprecation.py:143: FutureWarning: The sklearn.datasets.samples_generator module is  deprecated in version 0.22 and will be removed in version 0.24. The corresponding classes / functions should instead be imported from sklearn.datasets. Anything that cannot be imported from sklearn.datasets is now part of the private API.\n",
      "  warnings.warn(message, FutureWarning)\n"
     ]
    }
   ],
   "source": [
    "\n",
    "import pygame\n",
    "import random\n",
    "import os\n",
    "import time\n",
    "import numpy as np\n",
    "import math\n",
    "import torch\n",
    "import torch.nn.functional\n",
    "import matplotlib.pyplot as plt\n",
    "import torch.optim as opt\n",
    "from torch.autograd import Variable\n",
    "from sklearn.model_selection import train_test_split\n",
    "\n",
    "import scipy.stats as st\n",
    "from sklearn.datasets.samples_generator import make_blobs\n",
    "from matplotlib.colors import LogNorm \n",
    "import matplotlib.cm as cm\n",
    "import torch.nn as nn\n",
    "import numpy as np\n",
    "import matplotlib.pyplot as plt\n",
    "\n",
    "\n",
    "if torch.cuda.is_available():  \n",
    "    dev = \"cuda:0\" \n",
    "else:  \n",
    "    dev = \"cpu\"  \n",
    "\n",
    "print(dev)\n"
   ]
  },
  {
   "cell_type": "code",
   "execution_count": 2,
   "metadata": {
    "ExecuteTime": {
     "end_time": "2021-05-28T02:27:13.336358Z",
     "start_time": "2021-05-28T02:27:13.320736Z"
    }
   },
   "outputs": [],
   "source": [
    "global target_order\n",
    "target_order = \"supervised\"\n",
    "global temp_list\n",
    "temp_list = []\n",
    "Agent_number_n=4;\n",
    "Alpha = 0.666;\n",
    "\n"
   ]
  },
  {
   "cell_type": "code",
   "execution_count": 3,
   "metadata": {
    "ExecuteTime": {
     "end_time": "2021-05-28T02:27:16.181162Z",
     "start_time": "2021-05-28T02:27:13.336358Z"
    }
   },
   "outputs": [
    {
     "name": "stdout",
     "output_type": "stream",
     "text": [
      "[[[0.65414049 0.31161115 0.07452692]\n",
      "  [0.83405484 0.31161115 0.07452692]\n",
      "  [0.83405484 0.65414049 0.07452692]\n",
      "  [0.83405484 0.65414049 0.31161115]]\n",
      "\n",
      " [[0.45993467 0.18665316 0.03595544]\n",
      "  [0.72477328 0.18665316 0.03595544]\n",
      "  [0.72477328 0.45993467 0.03595544]\n",
      "  [0.72477328 0.45993467 0.18665316]]\n",
      "\n",
      " [[0.65313249 0.40734165 0.13997768]\n",
      "  [0.69131001 0.40734165 0.13997768]\n",
      "  [0.69131001 0.65313249 0.13997768]\n",
      "  [0.69131001 0.65313249 0.40734165]]\n",
      "\n",
      " ...\n",
      "\n",
      " [[0.38081614 0.3182278  0.09985653]\n",
      "  [0.86150028 0.3182278  0.09985653]\n",
      "  [0.86150028 0.38081614 0.09985653]\n",
      "  [0.86150028 0.38081614 0.3182278 ]]\n",
      "\n",
      " [[0.49693629 0.40819907 0.31467132]\n",
      "  [0.66460834 0.40819907 0.31467132]\n",
      "  [0.66460834 0.49693629 0.31467132]\n",
      "  [0.66460834 0.49693629 0.40819907]]\n",
      "\n",
      " [[0.50582587 0.25247219 0.20519868]\n",
      "  [0.55864396 0.25247219 0.20519868]\n",
      "  [0.55864396 0.50582587 0.20519868]\n",
      "  [0.55864396 0.50582587 0.25247219]]]\n",
      "[[[0.25232693 0.14661051 0.11683918]\n",
      "  [0.65216966 0.14661051 0.11683918]\n",
      "  [0.65216966 0.25232693 0.11683918]\n",
      "  [0.65216966 0.25232693 0.14661051]]\n",
      "\n",
      " [[0.54936772 0.35476274 0.02128973]\n",
      "  [0.59598505 0.35476274 0.02128973]\n",
      "  [0.59598505 0.54936772 0.02128973]\n",
      "  [0.59598505 0.54936772 0.35476274]]\n",
      "\n",
      " [[0.80545898 0.72569424 0.43946899]\n",
      "  [0.86440102 0.72569424 0.43946899]\n",
      "  [0.86440102 0.80545898 0.43946899]\n",
      "  [0.86440102 0.80545898 0.72569424]]\n",
      "\n",
      " ...\n",
      "\n",
      " [[0.75151842 0.68473899 0.32843727]\n",
      "  [0.79280335 0.68473899 0.32843727]\n",
      "  [0.79280335 0.75151842 0.32843727]\n",
      "  [0.79280335 0.75151842 0.68473899]]\n",
      "\n",
      " [[0.28694947 0.19529821 0.06458199]\n",
      "  [0.45914242 0.19529821 0.06458199]\n",
      "  [0.45914242 0.28694947 0.06458199]\n",
      "  [0.45914242 0.28694947 0.19529821]]\n",
      "\n",
      " [[0.43737513 0.11141308 0.10499355]\n",
      "  [0.98064769 0.11141308 0.10499355]\n",
      "  [0.98064769 0.43737513 0.10499355]\n",
      "  [0.98064769 0.43737513 0.11141308]]]\n",
      "[1.8743334  1.40731655 1.89176184 ... 1.66040076 1.88441502 1.5221407 ]\n",
      "[1.16794628 1.52140524 2.83502322 ... 2.55749803 1.00597209 1.63442946]\n"
     ]
    }
   ],
   "source": [
    "global temp_list\n",
    "temp_list = []\n",
    "def appen(_x_list,y):\n",
    "    global temp_list\n",
    "    temp_list.append(_x_list)\n",
    "    \n",
    "def appen_train(x_list):\n",
    "    global temp_list\n",
    "                \n",
    "    S= max(sum(x_list),1.0);\n",
    "    temp_list = []\n",
    "    \n",
    "    for i in range(Agent_number_n):\n",
    "        temp = []\n",
    "        for j in range(Agent_number_n):\n",
    "            if(i!=j):\n",
    "                temp.append(x_list[j])\n",
    "        appen(temp,S)\n",
    "    \n",
    "    training_data.append(temp_list)\n",
    "    training_label.append(S)\n",
    "    \n",
    "\n",
    "def read_training_data():\n",
    "    for i in range(100000):\n",
    "        appen_train(sorted(np.random.rand(Agent_number_n), reverse=True));\n",
    "\n",
    "training_data=[]\n",
    "training_label=[]\n",
    "S=1.0\n",
    "read_training_data();\n",
    "\n",
    "def appen_test(x_list):\n",
    "    global temp_list\n",
    "                \n",
    "    S= max(sum(x_list),1.0);\n",
    "    temp_list = []\n",
    "    \n",
    "    for i in range(Agent_number_n):\n",
    "        temp = []\n",
    "        for j in range(Agent_number_n):\n",
    "            if(i!=j):\n",
    "                temp.append(x_list[j])\n",
    "        appen(temp,S)\n",
    "    testing_data.append(temp_list)\n",
    "    testing_label.append(S)\n",
    "    \n",
    "\n",
    "def read_testing_data():\n",
    "#     devided=20\n",
    "#     for i1 in range(devided+1):\n",
    "#         for i2 in range(i1+1):\n",
    "#             for i3 in range(i2+1):\n",
    "#                 appen_test(i1/devided,i2/devided,i3/devided);\n",
    "    for i in range(100000):\n",
    "        appen_test(sorted(np.random.rand(Agent_number_n), reverse=True));\n",
    "                            \n",
    "\n",
    "testing_data=[]\n",
    "testing_label=[]\n",
    "S=1.0\n",
    "read_testing_data();\n",
    "\n",
    "training_data=np.array(training_data)\n",
    "training_label=np.array(training_label)\n",
    "testing_data=np.array(testing_data)\n",
    "testing_label=np.array(testing_label)\n",
    "print(training_data)\n",
    "print(testing_data)\n",
    "print(training_label)\n",
    "print(testing_label)"
   ]
  },
  {
   "cell_type": "code",
   "execution_count": 4,
   "metadata": {
    "ExecuteTime": {
     "end_time": "2021-05-28T02:27:40.394431Z",
     "start_time": "2021-05-28T02:27:16.183127Z"
    }
   },
   "outputs": [
    {
     "name": "stdout",
     "output_type": "stream",
     "text": [
      "3.373305284180635 2.999999999999999 0.3733052841806357\n"
     ]
    }
   ],
   "source": [
    "def h_3_star(a, b, t):\n",
    "    return a - min(a, t) + b - min(b, t) + max(min(a, t)+min(b, t), 2*t/3) + 1/2 * max(min(a, t)+min(b, t), t) - 1/2 * max(max(min(a, t), min(b, t)), 2*t/3) - t/6\n",
    "\n",
    "\n",
    "def f_function(a, b, z):\n",
    "    if(z >= 1):\n",
    "        return (a+b)/2 + z/3\n",
    "    else:\n",
    "        return z/3 + h_3_star(a, b, 1-z)/2\n",
    "\n",
    "def h_function(input_list):\n",
    "    #input_list = sorted(input_list)\n",
    "    g_list = []\n",
    "    for j1 in range(len(input_list) ):\n",
    "        for j2 in range(len(input_list)):\n",
    "            if(j1 != j2):\n",
    "                a = input_list[j1]\n",
    "                b = input_list[j2]\n",
    "                z = sum(input_list)- a-b\n",
    "\n",
    "                g_list.append( f_function(a, b, z) * (Agent_number_n-1))\n",
    "    h = sum(g_list) * 3 /  (Agent_number_n) /  (Agent_number_n-1) /  (Agent_number_n - 2)\n",
    "    return h\n",
    "                \n",
    "                \n",
    "x_list = []\n",
    "y_list = []\n",
    "z_list = []\n",
    "result_list = []\n",
    "training_supervised_label=[]\n",
    "for index in range(len(training_data)):\n",
    "    h_list = []\n",
    "    for i in range(Agent_number_n):\n",
    "        x_list.append(training_data[index][i][0])\n",
    "        y_list.append(training_data[index][i][1])\n",
    "        h = h_function(training_data[index][i])\n",
    "        z_list.append(float(h))\n",
    "        h_list.append(float(h))\n",
    "    training_supervised_label.append(h_list)\n",
    "    result_list.append(sum(h_list)/training_label[index]) \n",
    "    \n",
    "    \n",
    "print(max(result_list), min(result_list), max(result_list)-min(result_list))"
   ]
  },
  {
   "cell_type": "code",
   "execution_count": 5,
   "metadata": {
    "ExecuteTime": {
     "end_time": "2021-05-28T02:27:41.558032Z",
     "start_time": "2021-05-28T02:27:40.395429Z"
    }
   },
   "outputs": [
    {
     "data": {
      "image/png": "[encoded data removed]",
      "text/plain": [
       "<Figure size 432x288 with 1 Axes>"
      ]
     },
     "metadata": {
      "needs_background": "light"
     },
     "output_type": "display_data"
    }
   ],
   "source": [
    "plt.hist(result_list,bins=500)\n",
    "\n",
    "plt.title(\"Means\", y=1.015, fontsize=20)\n",
    "plt.axvline(x=sum(result_list)/len(result_list), linestyle='--', linewidth=2.5, label=\"sample mean\", c='orange')\n",
    "plt.xlabel(\"samples\", labelpad=14)\n",
    "plt.ylabel(\"frequency of occurence\", labelpad=14)\n",
    "plt.legend();\n",
    "\n",
    "result_list.sort()\n",
    "\n",
    "plt.axvline(x=result_list[int(len(result_list)*0.001)], linestyle='--', linewidth=0.5, label=\"1%\", c='b')\n",
    "plt.axvline(x=result_list[int(len(result_list)*0.999)], linestyle='--', linewidth=0.5, label=\"99%\", c='r')\n",
    "\n",
    "\n",
    "plt.show()"
   ]
  },
  {
   "cell_type": "code",
   "execution_count": 6,
   "metadata": {
    "ExecuteTime": {
     "end_time": "2021-05-28T02:27:41.684695Z",
     "start_time": "2021-05-28T02:27:41.560029Z"
    }
   },
   "outputs": [
    {
     "name": "stdout",
     "output_type": "stream",
     "text": [
      "[[1.00417065 1.19532965 1.62349133 1.93698754]\n",
      " [0.7514593  0.8971717  1.20917589 1.42580386]\n",
      " [1.21684825 1.25741187 1.56465042 1.90781114]\n",
      " ...\n",
      " [0.79890048 1.26917256 1.347408   1.62761768]\n",
      " [1.30308366 1.48123523 1.59215675 1.71295149]\n",
      " [0.96209536 1.00879158 1.33331464 1.40127032]]\n"
     ]
    }
   ],
   "source": [
    "training_supervised_label=np.array(training_supervised_label)\n",
    "print(training_supervised_label)"
   ]
  },
  {
   "cell_type": "code",
   "execution_count": 7,
   "metadata": {
    "ExecuteTime": {
     "end_time": "2021-05-28T02:27:41.700088Z",
     "start_time": "2021-05-28T02:27:41.687855Z"
    }
   },
   "outputs": [
    {
     "name": "stdout",
     "output_type": "stream",
     "text": [
      "cuda:0\n"
     ]
    }
   ],
   "source": [
    "if torch.cuda.is_available():  \n",
    "    dev = \"cuda:0\" \n",
    "else:  \n",
    "    dev = \"cpu\"  \n",
    "\n",
    "print(dev)\n"
   ]
  },
  {
   "cell_type": "code",
   "execution_count": 8,
   "metadata": {
    "ExecuteTime": {
     "end_time": "2021-05-28T02:27:41.732002Z",
     "start_time": "2021-05-28T02:27:41.702084Z"
    },
    "run_control": {
     "marked": true
    }
   },
   "outputs": [],
   "source": [
    "def weight_init(m):\n",
    "    if isinstance(m, torch.nn.Conv2d):\n",
    "        torch.nn.init.xavier_normal_(m.weight)\n",
    "        torch.nn.init.zeros_(m.bias)\n",
    "    elif isinstance(m, torch.nn.Linear):\n",
    "        torch.nn.init.normal_(m.weight, mean=0.0,std =0.2)\n",
    "        torch.nn.init.normal_(m.bias, mean=0.0,std =0.01)\n",
    "#     elif isinstance(m, torch.nn.Parameter):\n",
    "#         torch.nn.init.normal_(m, mean=0.0,std =0.1)\n",
    "\n",
    "        \n",
    "\n",
    "class Net(torch.nn.Module):\n",
    "    def __init__(self):\n",
    "\n",
    "        super(Net, self).__init__()\n",
    "        \n",
    "        self.input_dim = Agent_number_n-1\n",
    "        self.hidden_dim = 10\n",
    "        self.output_dim = 1\n",
    "        self.hidden_layer_count = 5\n",
    "        \n",
    "        current_dim = self.input_dim\n",
    "        self.layers = torch.nn.ModuleList()\n",
    "        for i in range(self.hidden_layer_count):\n",
    "            self.layers.append(torch.nn.Linear(current_dim, self.hidden_dim))\n",
    "            current_dim = self.hidden_dim\n",
    "        self.layers.append(torch.nn.Linear(current_dim, self.output_dim))\n",
    "\n",
    "    def calculate(self, value_list):\n",
    "        h = value_list\n",
    "        for layer in self.layers:\n",
    "            h = torch.relu(layer(h))\n",
    "        return h\n",
    "\n",
    "    def forward(self, input_list,input_label,label):\n",
    "        global iteration,echo,target_order\n",
    "        loss1 = 0\n",
    "        loss2 = 0\n",
    "        input_list = torch.from_numpy(\n",
    "            np.array(input_list)).cuda().type(torch.float32)\n",
    "        h_list = []\n",
    "\n",
    "        if (target_order == \"supervised\"):\n",
    "            loss = 0 \n",
    "            for i in range(Agent_number_n):\n",
    "                h = self.calculate(input_list[i])\n",
    "                loss += torch.square(h - label[i])\n",
    "                h_list.append(h)\n",
    "            return loss\n",
    "        else:\n",
    "            for i in range(Agent_number_n):\n",
    "                h = self.calculate(input_list[i])\n",
    "                h_list.append(h)\n",
    "            input_label = torch.from_numpy(\n",
    "                np.array(input_label)).cuda().type(torch.float32)\n",
    "            sum_h = torch.sum(torch.cat(h_list)).cuda()\n",
    "\n",
    "\n",
    "            loss1 = torch.where((Agent_number_n-1)*input_label>sum_h,\n",
    "                            torch.square(((Agent_number_n-1)*input_label-sum_h)),\n",
    "                            torch.zeros(1).cuda()\n",
    "                          )\n",
    "\n",
    "            loss2 = torch.where((Agent_number_n-Alpha)*input_label<sum_h,\n",
    "                            torch.square((sum_h-(Agent_number_n-Alpha)*input_label)),\n",
    "                            torch.zeros(1).cuda()\n",
    "                          )\n",
    "\n",
    "            return loss1,loss2,h_list"
   ]
  },
  {
   "cell_type": "code",
   "execution_count": 9,
   "metadata": {
    "ExecuteTime": {
     "end_time": "2021-05-28T02:27:42.948510Z",
     "start_time": "2021-05-28T02:27:41.733997Z"
    }
   },
   "outputs": [
    {
     "data": {
      "text/plain": [
       "Net(\n",
       "  (layers): ModuleList(\n",
       "    (0): Linear(in_features=3, out_features=10, bias=True)\n",
       "    (1): Linear(in_features=10, out_features=10, bias=True)\n",
       "    (2): Linear(in_features=10, out_features=10, bias=True)\n",
       "    (3): Linear(in_features=10, out_features=10, bias=True)\n",
       "    (4): Linear(in_features=10, out_features=10, bias=True)\n",
       "    (5): Linear(in_features=10, out_features=1, bias=True)\n",
       "  )\n",
       ")"
      ]
     },
     "execution_count": 9,
     "metadata": {},
     "output_type": "execute_result"
    }
   ],
   "source": [
    "random.seed(2000)\n",
    "torch.manual_seed(256)\n",
    "net  = Net()\n",
    "net.apply(weight_init)\n",
    "\n",
    "net = torch.load(\"save/Deep_learning_small_3_4\")\n",
    "net.to(dev)"
   ]
  },
  {
   "cell_type": "code",
   "execution_count": 10,
   "metadata": {
    "ExecuteTime": {
     "end_time": "2021-05-28T02:27:42.964412Z",
     "start_time": "2021-05-28T02:27:42.950506Z"
    },
    "run_control": {
     "marked": true
    }
   },
   "outputs": [],
   "source": [
    "#optimizer = opt.RMSprop(net.parameters(), lr=0.00001)\n",
    "#optimizer = opt.SGD(net.parameters(), lr=0.00001)\n",
    "optimizer = opt.Adam(net.parameters(), lr=0.001)\n",
    "\n",
    "batch_size = 64\n",
    "echo = 0"
   ]
  },
  {
   "cell_type": "code",
   "execution_count": 11,
   "metadata": {
    "ExecuteTime": {
     "end_time": "2021-05-28T02:27:42.980368Z",
     "start_time": "2021-05-28T02:27:42.965408Z"
    }
   },
   "outputs": [],
   "source": [
    "target_order = \"supervised\"\n",
    "for iteration in range(int(echo)):\n",
    "    # offender_types = []\n",
    "    # defender_types = []\n",
    "    \n",
    "    \n",
    "    X_train_list = []\n",
    "    temp_number = 0\n",
    "    total_batch_loss = 0 \n",
    "    while(temp_number<len(training_data)-1):\n",
    "        loss_sum = 0\n",
    "        denominator = 0\n",
    "        for index in range(temp_number, min(batch_size+temp_number,len(training_data))):\n",
    "            h_loss = net(training_data[index],training_label[index],training_supervised_label[index])\n",
    "            denominator += 1\n",
    "            loss_sum += h_loss\n",
    "            \n",
    "        loss = (loss_sum) / denominator \n",
    "        total_batch_loss +=float(loss_sum)\n",
    "        optimizer.zero_grad()\n",
    "        \n",
    "        loss.backward()\n",
    "        \n",
    "        optimizer.step()\n",
    "        \n",
    "        temp_number = index\n",
    "        \n",
    "        if(random.random()<=0.01):\n",
    "            print(temp_number,loss,float(loss_sum))\n",
    "\n",
    "\n",
    "    print(\"batch iteration\", iteration)\n",
    "    print(\"batch_loss: %.2f \" % (total_batch_loss/len(training_data)))\n",
    "    \n",
    "    print()\n",
    "    print()"
   ]
  },
  {
   "cell_type": "code",
   "execution_count": 12,
   "metadata": {
    "ExecuteTime": {
     "end_time": "2021-05-28T02:31:43.722451Z",
     "start_time": "2021-05-28T02:27:42.981366Z"
    }
   },
   "outputs": [
    {
     "name": "stdout",
     "output_type": "stream",
     "text": [
      "3.4092366099357605 2.9942235350608826 0.41501307487487793\n"
     ]
    }
   ],
   "source": [
    "denominator = 0\n",
    "result_list = []\n",
    "for index in range(len(testing_data)):\n",
    "    h_list = []\n",
    "    for i in range(Agent_number_n):\n",
    "        h = net.calculate(torch.tensor(testing_data[index][i]).cuda().type(torch.float32))\n",
    "        h_list.append(float(h))\n",
    "    \n",
    "    #print(sum(h_list),h_list,sum(h_list)/testing_label[index])\n",
    "    result_list.append(sum(h_list)/testing_label[index])\n",
    "    \n",
    "\n",
    "print(max(result_list),min(result_list),max(result_list)-min(result_list))"
   ]
  },
  {
   "cell_type": "code",
   "execution_count": 13,
   "metadata": {
    "ExecuteTime": {
     "end_time": "2021-05-28T02:31:44.829638Z",
     "start_time": "2021-05-28T02:31:43.724446Z"
    }
   },
   "outputs": [
    {
     "data": {
      "image/png": "[encoded data removed]",
      "text/plain": [
       "<Figure size 432x288 with 1 Axes>"
      ]
     },
     "metadata": {
      "needs_background": "light"
     },
     "output_type": "display_data"
    }
   ],
   "source": [
    "plt.hist(result_list,bins=500)\n",
    "\n",
    "plt.title(\"Means\", y=1.015, fontsize=20)\n",
    "plt.axvline(x=sum(result_list)/len(result_list), linestyle='--', linewidth=2.5, label=\"sample mean\", c='orange')\n",
    "plt.xlabel(\"samples\", labelpad=14)\n",
    "plt.ylabel(\"frequency of occurence\", labelpad=14)\n",
    "plt.legend();\n",
    "\n",
    "result_list.sort()\n",
    "\n",
    "plt.axvline(x=result_list[int(len(result_list)*0.01)], linestyle='--', linewidth=0.5, label=\"1%\", c='b')\n",
    "plt.axvline(x=result_list[int(len(result_list)*0.99)], linestyle='--', linewidth=0.5, label=\"99%\", c='r')\n",
    "\n",
    "\n",
    "plt.show()"
   ]
  },
  {
   "cell_type": "code",
   "execution_count": 14,
   "metadata": {
    "ExecuteTime": {
     "end_time": "2021-05-28T02:31:44.940841Z",
     "start_time": "2021-05-28T02:31:44.830635Z"
    }
   },
   "outputs": [],
   "source": [
    "torch.save(net, \"save/Deep_learning_small_3_4\")"
   ]
  },
  {
   "cell_type": "code",
   "execution_count": 15,
   "metadata": {
    "ExecuteTime": {
     "end_time": "2021-05-28T02:31:44.956798Z",
     "start_time": "2021-05-28T02:31:44.941839Z"
    }
   },
   "outputs": [],
   "source": [
    "#optimizer = opt.RMSprop(net.parameters(), lr=0.00001)\n",
    "#optimizer = opt.SGD(net.parameters(), lr=0.00005)\n",
    "optimizer = opt.Adam(net.parameters(), lr=0.0001)\n",
    "\n",
    "batch_size = 64\n",
    "echo = 1"
   ]
  },
  {
   "cell_type": "code",
   "execution_count": 16,
   "metadata": {
    "ExecuteTime": {
     "end_time": "2021-05-28T02:39:29.982614Z",
     "start_time": "2021-05-28T02:31:44.958796Z"
    }
   },
   "outputs": [
    {
     "name": "stdout",
     "output_type": "stream",
     "text": [
      "3024 tensor([0.], device='cuda:0', grad_fn=<DivBackward0>) 0.0 0.0\n",
      "4347 tensor([3.2341e-06], device='cuda:0', grad_fn=<DivBackward0>) 0.0002069825422950089 0.0\n",
      "8883 tensor([0.], device='cuda:0', grad_fn=<DivBackward0>) 0.0 0.0\n",
      "13104 tensor([0.], device='cuda:0', grad_fn=<DivBackward0>) 0.0 0.0\n",
      "16128 tensor([0.], device='cuda:0', grad_fn=<DivBackward0>) 0.0 0.0\n",
      "25011 tensor([2.0564e-07], device='cuda:0', grad_fn=<DivBackward0>) 1.3160766684450209e-05 0.0\n",
      "35091 tensor([7.6968e-06], device='cuda:0', grad_fn=<DivBackward0>) 0.0004925958928652108 0.0\n",
      "36351 tensor([3.0723e-05], device='cuda:0', grad_fn=<DivBackward0>) 0.0 0.0019662799313664436\n",
      "36666 tensor([0.], device='cuda:0', grad_fn=<DivBackward0>) 0.0 0.0\n",
      "56007 tensor([0.], device='cuda:0', grad_fn=<DivBackward0>) 0.0 0.0\n",
      "68103 tensor([0.], device='cuda:0', grad_fn=<DivBackward0>) 0.0 0.0\n",
      "68166 tensor([0.], device='cuda:0', grad_fn=<DivBackward0>) 0.0 0.0\n",
      "80010 tensor([0.], device='cuda:0', grad_fn=<DivBackward0>) 0.0 0.0\n",
      "82026 tensor([0.], device='cuda:0', grad_fn=<DivBackward0>) 0.0 0.0\n",
      "85680 tensor([0.], device='cuda:0', grad_fn=<DivBackward0>) 0.0 0.0\n",
      "85869 tensor([1.1769e-06], device='cuda:0', grad_fn=<DivBackward0>) 0.0 7.531939627369866e-05\n",
      "94878 tensor([0.], device='cuda:0', grad_fn=<DivBackward0>) 0.0 0.0\n",
      "batch iteration 0\n",
      "batch_loss: 0.00 \n",
      "\n",
      "\n"
     ]
    }
   ],
   "source": [
    "target_order = \"unsupervised\"\n",
    "for iteration in range(int(echo)):\n",
    "    # offender_types = []\n",
    "    # defender_types = []\n",
    "    \n",
    "    \n",
    "    X_train_list = []\n",
    "    temp_number = 0\n",
    "    total_batch_loss = 0 \n",
    "    while(temp_number<len(training_data)-1):\n",
    "        \n",
    "        loss2_list = []\n",
    "        loss1_sum = 0\n",
    "        loss2_sum = 0\n",
    "        denominator = 0\n",
    "        for index in range(temp_number, min(batch_size+temp_number,len(training_data))):\n",
    "            h_loss1,h_loss2,h_list = net(training_data[index],training_label[index],0)\n",
    "            denominator += 1\n",
    "            loss1_sum += h_loss1\n",
    "            loss2_sum += h_loss2\n",
    "            \n",
    "        loss_sum = loss1_sum + loss2_sum\n",
    "        loss = (loss_sum) / denominator \n",
    "        total_batch_loss +=float(loss_sum)\n",
    "        optimizer.zero_grad()\n",
    "        \n",
    "        loss.backward()\n",
    "        \n",
    "        optimizer.step()\n",
    "        \n",
    "        temp_number = index\n",
    "        \n",
    "        if(random.random()<=0.01):\n",
    "            print(temp_number,loss,float(loss1_sum),float(loss2_sum))\n",
    "\n",
    "\n",
    "    print(\"batch iteration\", iteration)\n",
    "    print(\"batch_loss: %.2f \" % (total_batch_loss/len(training_data)))\n",
    "    \n",
    "    print()\n",
    "    print()"
   ]
  },
  {
   "cell_type": "code",
   "execution_count": 17,
   "metadata": {
    "ExecuteTime": {
     "end_time": "2021-05-28T02:39:29.997587Z",
     "start_time": "2021-05-28T02:39:29.983592Z"
    }
   },
   "outputs": [],
   "source": [
    "torch.save(net, \"save/Deep_learning_small_3_4\")"
   ]
  },
  {
   "cell_type": "code",
   "execution_count": 18,
   "metadata": {
    "ExecuteTime": {
     "end_time": "2021-05-28T02:43:29.866969Z",
     "start_time": "2021-05-28T02:39:30.000570Z"
    }
   },
   "outputs": [
    {
     "name": "stdout",
     "output_type": "stream",
     "text": [
      "3.393745720386505 2.9867586493492126 0.4069870710372925\n"
     ]
    }
   ],
   "source": [
    "denominator = 0\n",
    "result_list = []\n",
    "for index in range(len(testing_data)):\n",
    "    h_list = []\n",
    "    for i in range(Agent_number_n):\n",
    "        h = net.calculate(torch.tensor(testing_data[index][i]).cuda().type(torch.float32))\n",
    "        h_list.append(float(h))\n",
    "    \n",
    "    #print(sum(h_list),h_list,sum(h_list)/testing_label[index])\n",
    "    result_list.append(sum(h_list)/testing_label[index])\n",
    "    \n",
    "\n",
    "print(max(result_list),min(result_list),max(result_list)-min(result_list))"
   ]
  },
  {
   "cell_type": "code",
   "execution_count": 19,
   "metadata": {
    "ExecuteTime": {
     "end_time": "2021-05-28T02:43:30.957553Z",
     "start_time": "2021-05-28T02:43:29.866969Z"
    }
   },
   "outputs": [
    {
     "data": {
      "image/png": "[encoded data removed]",
      "text/plain": [
       "<Figure size 432x288 with 1 Axes>"
      ]
     },
     "metadata": {
      "needs_background": "light"
     },
     "output_type": "display_data"
    }
   ],
   "source": [
    "plt.hist(result_list,bins=500)\n",
    "\n",
    "plt.title(\"Means\", y=1.015, fontsize=20)\n",
    "plt.axvline(x=sum(result_list)/len(result_list), linestyle='--', linewidth=2.5, label=\"sample mean\", c='orange')\n",
    "plt.xlabel(\"samples\", labelpad=14)\n",
    "plt.ylabel(\"frequency of occurence\", labelpad=14)\n",
    "plt.legend();\n",
    "\n",
    "result_list.sort()\n",
    "\n",
    "plt.axvline(x=result_list[int(len(result_list)*0.01)], linestyle='--', linewidth=0.5, label=\"1%\", c='b')\n",
    "plt.axvline(x=result_list[int(len(result_list)*0.99)], linestyle='--', linewidth=0.5, label=\"99%\", c='r')\n",
    "\n",
    "\n",
    "plt.show()"
   ]
  },
  {
   "cell_type": "code",
   "execution_count": 20,
   "metadata": {
    "ExecuteTime": {
     "end_time": "2021-05-28T02:43:31.020626Z",
     "start_time": "2021-05-28T02:43:30.959282Z"
    }
   },
   "outputs": [
    {
     "name": "stdout",
     "output_type": "stream",
     "text": [
      "Parameter containing:\n",
      "tensor([[-0.0473,  0.0484, -0.3011],\n",
      "        [ 0.2884,  0.3364,  0.4140],\n",
      "        [ 0.2350,  0.4634,  0.2693],\n",
      "        [-0.3017, -0.2675, -0.4627],\n",
      "        [-0.1230,  0.0791, -0.0298],\n",
      "        [ 0.4006,  0.1569,  0.2477],\n",
      "        [-0.0156,  0.0883, -0.2603],\n",
      "        [ 0.0011, -0.3618, -0.4205],\n",
      "        [ 0.0975, -0.0635, -0.4142],\n",
      "        [ 0.4933,  0.4399,  0.5441]], device='cuda:0', requires_grad=True)\n",
      "Parameter containing:\n",
      "tensor([-0.0138, -0.1981, -0.2886,  0.2606, -0.0273,  0.0557, -0.0719,  0.0940,\n",
      "         0.1656, -0.0591], device='cuda:0', requires_grad=True)\n",
      "Parameter containing:\n",
      "tensor([[ 0.1354,  0.3176,  0.5100,  0.5767, -0.1339,  0.1535, -0.1373, -0.2326,\n",
      "         -0.3149,  0.3043],\n",
      "        [ 0.1293,  0.3452,  0.1043,  0.5556, -0.2895,  0.2272,  0.0848, -0.2582,\n",
      "         -0.2385,  0.2899],\n",
      "        [-0.0395,  0.4554,  0.2719,  0.9600,  0.2057,  0.3299, -0.3055, -0.0553,\n",
      "         -0.4650,  0.4202],\n",
      "        [-0.0227,  0.2919,  0.6805,  0.5922, -0.1359, -0.0116,  0.2109, -0.2019,\n",
      "         -0.2758,  0.3819],\n",
      "        [ 0.0710,  0.3905,  0.4507, -0.0639, -0.2344, -0.3083, -0.1151,  0.0340,\n",
      "         -0.4818,  0.1654],\n",
      "        [-0.1433, -0.1661,  0.2560,  0.3770,  0.3337,  0.2541,  0.0334,  0.0321,\n",
      "          0.2132, -0.0141],\n",
      "        [-0.2848, -0.0425,  0.6900,  0.6900,  0.2382,  0.3357,  0.0594, -0.1309,\n",
      "          0.3232,  0.1114],\n",
      "        [ 0.0735, -0.2730, -0.2886, -0.1004,  0.3161,  0.1850, -0.3765, -0.5149,\n",
      "         -0.1056, -0.2791],\n",
      "        [-0.1095,  0.4796,  0.8960,  0.6634,  0.1078,  0.0680,  0.0891, -0.1885,\n",
      "         -0.0788,  0.1724],\n",
      "        [ 0.1050, -0.1388,  0.0587, -0.2002,  0.3182, -0.2627, -0.3135, -0.0436,\n",
      "         -0.0569, -0.2544]], device='cuda:0', requires_grad=True)\n",
      "Parameter containing:\n",
      "tensor([ 0.0908,  0.0546,  0.0493, -0.0394, -0.1735,  0.1094,  0.0832, -0.0066,\n",
      "         0.0486,  0.0036], device='cuda:0', requires_grad=True)\n",
      "Parameter containing:\n",
      "tensor([[ 3.8769e-01,  2.5603e-01,  1.0852e-01,  4.6918e-01, -3.3512e-01,\n",
      "         -3.5445e-03,  1.2195e-01,  1.5873e-01,  1.0672e-01, -9.4476e-02],\n",
      "        [ 4.6925e-01,  2.8581e-01,  1.7136e-01,  2.6007e-01, -1.1372e+00,\n",
      "          1.9594e-04,  4.8447e-02, -2.4266e-01,  9.5272e-02, -2.6092e-01],\n",
      "        [ 2.1444e-01,  4.1885e-01,  1.1899e-01,  4.0038e-01, -1.5050e+00,\n",
      "         -1.4830e-01,  4.2775e-01,  8.7537e-02,  3.5478e-01,  5.1926e-01],\n",
      "        [-9.2902e-02, -1.1053e-01,  4.7828e-02, -9.9920e-02,  2.9552e-01,\n",
      "         -2.0955e-01,  1.8937e-03,  5.6130e-03, -2.9109e-01,  7.4657e-02],\n",
      "        [ 4.6426e-01,  2.1377e-01,  2.6510e-01,  1.8737e-01, -5.8133e-01,\n",
      "          2.0626e-01,  6.0437e-01,  1.6388e-01,  7.4177e-02,  2.3012e-01],\n",
      "        [-2.5557e-01,  4.1714e-02,  1.2937e-01, -2.4823e-01, -1.9456e-01,\n",
      "          2.2973e-01,  5.2087e-02, -9.2008e-03, -3.5003e-01,  1.1154e-01],\n",
      "        [ 5.0885e-01,  2.4527e-01,  3.8565e-01,  1.8454e-01, -8.2481e-01,\n",
      "          1.7660e-01,  3.8184e-01, -1.2067e-01,  5.1129e-01,  1.6152e-01],\n",
      "        [ 3.9358e-01,  3.4563e-01,  6.6253e-01,  3.8038e-01, -4.1272e-01,\n",
      "         -1.5442e-01,  3.9516e-01, -1.6234e-01,  6.7838e-01, -1.7662e-01],\n",
      "        [-1.1511e-01,  1.2480e-01,  5.1330e-04,  2.8977e-02,  3.4285e-01,\n",
      "          1.3270e-01, -6.5251e-02, -5.8798e-02, -2.2185e-01,  2.7145e-01],\n",
      "        [-1.3917e-01, -1.5276e-01, -8.3347e-02, -1.7459e-01,  8.7606e-02,\n",
      "         -1.2685e-03,  1.5524e-01, -5.6703e-02,  8.7953e-02,  9.6158e-03]],\n",
      "       device='cuda:0', requires_grad=True)\n",
      "Parameter containing:\n",
      "tensor([ 0.0671,  0.1052, -0.0265, -0.0109,  0.0228, -0.0281,  0.0873,  0.0619,\n",
      "        -0.0146, -0.0071], device='cuda:0', requires_grad=True)\n",
      "Parameter containing:\n",
      "tensor([[ 0.3337,  0.1045,  0.1680, -0.2633,  0.1040, -0.0723,  0.4381,  0.8068,\n",
      "         -0.2713, -0.2646],\n",
      "        [ 0.4976,  0.2769, -0.0026,  0.0851,  0.2978, -0.0667,  0.4004,  0.2635,\n",
      "         -0.2264, -0.2847],\n",
      "        [ 0.2649,  0.3725,  0.0822, -0.0644,  0.3081, -0.1748,  0.0686,  0.3239,\n",
      "          0.1320,  0.0361],\n",
      "        [-0.0437,  0.1197, -0.0130, -0.0068,  0.2738, -0.0999,  0.3616,  0.2286,\n",
      "          0.0043, -0.0371],\n",
      "        [ 0.1973,  0.1828,  0.2389,  0.0896,  0.2229,  0.1755,  0.4413,  0.2725,\n",
      "          0.1503, -0.1116],\n",
      "        [-0.3298,  0.0254,  0.2826,  0.3048, -0.0908, -0.0901, -0.2672, -0.1170,\n",
      "          0.1183,  0.3683],\n",
      "        [-0.0714, -0.1621, -0.0766,  0.1370,  0.2087,  0.1777,  0.0554, -0.0871,\n",
      "          0.0423, -0.0841],\n",
      "        [ 0.0256,  0.3913,  0.3832,  0.1230,  0.1246, -0.3139,  0.1606, -0.0718,\n",
      "         -0.3566,  0.1367],\n",
      "        [-0.0123,  0.1233, -0.0679, -0.1356, -0.0655,  0.0343,  0.0010, -0.0068,\n",
      "          0.1463,  0.0933],\n",
      "        [ 0.0672,  0.3944,  0.6246, -0.2897, -0.1414, -0.0355,  0.5711, -0.2410,\n",
      "         -0.1641, -0.1497]], device='cuda:0', requires_grad=True)\n",
      "Parameter containing:\n",
      "tensor([ 0.1082,  0.0739,  0.0772,  0.0023,  0.0763, -0.0199, -0.0194,  0.0974,\n",
      "        -0.0152,  0.0900], device='cuda:0', requires_grad=True)\n",
      "Parameter containing:\n",
      "tensor([[-0.1562,  0.2454,  0.2004, -0.1377,  0.1522,  0.1961, -0.0196, -0.5886,\n",
      "         -0.3293,  0.0312],\n",
      "        [-0.1364,  0.1011, -0.4055, -0.1633, -0.2298,  0.0094, -0.1281,  0.0556,\n",
      "         -0.0330,  0.0909],\n",
      "        [ 0.3136,  0.5081,  0.3468,  0.1667,  0.3591,  0.1285, -0.2360,  0.2957,\n",
      "         -0.0627,  0.2284],\n",
      "        [-0.1750,  0.3744, -0.1656,  0.3880, -0.2769, -0.1370,  0.1531, -0.1376,\n",
      "         -0.2756, -0.2232],\n",
      "        [ 0.0452, -0.4344, -0.1282, -0.1722,  0.1908, -0.4420,  0.0940,  0.0519,\n",
      "         -0.0734,  0.0834],\n",
      "        [-0.1779, -0.2033,  0.3132,  0.1838, -0.0345, -0.0972, -0.0119, -0.0606,\n",
      "          0.2055,  0.2002],\n",
      "        [-0.2045,  0.0314,  0.2017, -0.0307, -0.0400,  0.0906, -0.0584,  0.1329,\n",
      "         -0.2541, -0.0118],\n",
      "        [-0.1156,  0.0037,  0.3911,  0.0082, -0.7872,  0.0460,  0.1802,  0.1172,\n",
      "         -0.0902, -0.1989],\n",
      "        [-0.1428, -0.0478,  0.1654, -0.1944,  0.1459,  0.0461, -0.3026,  0.1708,\n",
      "         -0.1224, -0.0488],\n",
      "        [-0.1648, -0.0327, -0.0550,  0.0065, -0.0850,  0.0298, -0.1405,  0.1417,\n",
      "         -0.5044, -0.0359]], device='cuda:0', requires_grad=True)\n",
      "Parameter containing:\n",
      "tensor([-0.0554,  0.0022,  0.1176, -0.0016, -0.0118, -0.0059,  0.0004, -0.0059,\n",
      "        -0.0421, -0.0041], device='cuda:0', requires_grad=True)\n",
      "Parameter containing:\n",
      "tensor([[-0.1829,  0.5018,  0.4052, -0.2695, -0.2304,  0.0927, -0.2044, -0.0626,\n",
      "         -0.0393, -0.2031]], device='cuda:0', requires_grad=True)\n",
      "Parameter containing:\n",
      "tensor([0.0954], device='cuda:0', requires_grad=True)\n"
     ]
    }
   ],
   "source": [
    "for param in net.parameters():\n",
    "    print(param )"
   ]
  },
  {
   "cell_type": "code",
   "execution_count": 21,
   "metadata": {
    "ExecuteTime": {
     "end_time": "2021-05-28T02:43:32.517740Z",
     "start_time": "2021-05-28T02:43:31.021624Z"
    }
   },
   "outputs": [
    {
     "data": {
      "image/png": "[encoded data removed]",
      "text/plain": [
       "<Figure size 432x288 with 1 Axes>"
      ]
     },
     "metadata": {
      "needs_background": "light"
     },
     "output_type": "display_data"
    }
   ],
   "source": [
    "# Import the necessary modules and libraries\n",
    "import numpy as np\n",
    "from sklearn.tree import DecisionTreeRegressor\n",
    "import matplotlib.pyplot as plt\n",
    "\n",
    "# Create a random dataset\n",
    "rng = np.random.RandomState(1)\n",
    "X = np.sort(5 * rng.rand(80, 1), axis=0)\n",
    "y = np.sin(X).ravel()\n",
    "y[::5] += 3 * (0.5 - rng.rand(16))\n",
    "\n",
    "# Fit regression model\n",
    "regr_1 = DecisionTreeRegressor(max_depth=2)\n",
    "regr_2 = DecisionTreeRegressor(max_depth=5)\n",
    "regr_1.fit(X, y)\n",
    "regr_2.fit(X, y)\n",
    "\n",
    "# Predict\n",
    "X_test = np.arange(0.0, 5.0, 0.01)[:, np.newaxis]\n",
    "y_1 = regr_1.predict(X_test)\n",
    "y_2 = regr_2.predict(X_test)\n",
    "\n",
    "# Plot the results\n",
    "plt.figure()\n",
    "plt.scatter(X, y, s=20, edgecolor=\"black\",\n",
    "            c=\"darkorange\", label=\"data\")\n",
    "plt.plot(X_test, y_1, color=\"cornflowerblue\",\n",
    "         label=\"max_depth=2\", linewidth=2)\n",
    "plt.plot(X_test, y_2, color=\"yellowgreen\", label=\"max_depth=5\", linewidth=2)\n",
    "plt.xlabel(\"data\")\n",
    "plt.ylabel(\"target\")\n",
    "plt.title(\"Decision Tree Regression\")\n",
    "plt.legend()\n",
    "plt.show()"
   ]
  },
  {
   "cell_type": "code",
   "execution_count": 22,
   "metadata": {
    "ExecuteTime": {
     "end_time": "2021-05-28T02:48:20.487800Z",
     "start_time": "2021-05-28T02:43:32.517740Z"
    }
   },
   "outputs": [
    {
     "name": "stdout",
     "output_type": "stream",
     "text": [
      "3.393745720386505 2.9867586493492126 0.4069870710372925\n"
     ]
    },
    {
     "data": {
      "text/plain": [
       "DecisionTreeRegressor(max_depth=12)"
      ]
     },
     "execution_count": 22,
     "metadata": {},
     "output_type": "execute_result"
    }
   ],
   "source": [
    "x_list_3 = []\n",
    "z_list_3 = []\n",
    "result_list = []\n",
    "for index in range(len(testing_data)):\n",
    "    h_list = []\n",
    "    for i in range(Agent_number_n):\n",
    "        x_list_3.append(training_data[index][i])\n",
    "        h = net.calculate(torch.tensor(testing_data[index][i]).cuda().type(torch.float32))\n",
    "        h_list.append(float(h))\n",
    "        z_list_3.append(float(h))\n",
    "    #print(sum(h_list),h_list,sum(h_list)/testing_label[index])\n",
    "    result_list.append(sum(h_list)/testing_label[index])\n",
    "    \n",
    "\n",
    "print(max(result_list),min(result_list),max(result_list)-min(result_list))\n",
    "\n",
    "regr_3 = DecisionTreeRegressor(max_depth=12)\n",
    "regr_3.fit(x_list_3, z_list_3)\n",
    "\n"
   ]
  },
  {
   "cell_type": "code",
   "execution_count": 23,
   "metadata": {
    "ExecuteTime": {
     "end_time": "2021-05-28T02:49:33.970645Z",
     "start_time": "2021-05-28T02:48:20.487800Z"
    }
   },
   "outputs": [
    {
     "data": {
      "text/plain": [
       "XGBRegressor(base_score=0.5, booster='gbtree', colsample_bylevel=1,\n",
       "             colsample_bynode=1, colsample_bytree=1, gamma=0, gpu_id=-1,\n",
       "             importance_type='gain', interaction_constraints='',\n",
       "             learning_rate=0.300000012, max_delta_step=0, max_depth=20,\n",
       "             min_child_weight=1, missing=nan, monotone_constraints='()',\n",
       "             n_estimators=100, n_jobs=8, num_parallel_tree=1, random_state=0,\n",
       "             reg_alpha=0, reg_lambda=1, scale_pos_weight=1, subsample=1,\n",
       "             tree_method='exact', validate_parameters=1, verbosity=None)"
      ]
     },
     "execution_count": 23,
     "metadata": {},
     "output_type": "execute_result"
    }
   ],
   "source": [
    "from xgboost import XGBRegressor\n",
    "from xgboost import plot_tree\n",
    "regr_4 =XGBRegressor(max_depth=20)\n",
    "regr_4.fit(np.array(x_list_3), np.array(z_list_3))"
   ]
  },
  {
   "cell_type": "code",
   "execution_count": 24,
   "metadata": {
    "ExecuteTime": {
     "end_time": "2021-05-28T02:49:49.776656Z",
     "start_time": "2021-05-28T02:49:33.972640Z"
    }
   },
   "outputs": [
    {
     "name": "stdout",
     "output_type": "stream",
     "text": [
      "7.414788603782654 1.547518636327253 5.8672699674554005\n"
     ]
    }
   ],
   "source": [
    "result_list = []\n",
    "for index in range(len(training_data[:1000])):\n",
    "    h_list = []\n",
    "    for i in range(Agent_number_n):\n",
    "        h = regr_4.predict(np.array([training_data[index][i]]))\n",
    "        h_list.append(float(h))\n",
    "    \n",
    "    #print(sum(h_list),h_list,sum(h_list)/testing_label[index])\n",
    "    result_list.append(sum(h_list)/training_label[index])\n",
    "    \n",
    "\n",
    "print(max(result_list),min(result_list),max(result_list)-min(result_list))"
   ]
  },
  {
   "cell_type": "code",
   "execution_count": 25,
   "metadata": {
    "ExecuteTime": {
     "end_time": "2021-05-28T02:50:06.325779Z",
     "start_time": "2021-05-28T02:49:49.783638Z"
    },
    "run_control": {
     "marked": true
    }
   },
   "outputs": [
    {
     "name": "stdout",
     "output_type": "stream",
     "text": [
      "6.695350408554077 1.9547908765982174 4.74055953195586\n"
     ]
    }
   ],
   "source": [
    "result_list = []\n",
    "for index in range(len(testing_data[:1000])):\n",
    "    h_list = []\n",
    "    for i in range(Agent_number_n):\n",
    "        h = regr_4.predict(np.array([testing_data[index][i]]))\n",
    "        h_list.append(float(h))\n",
    "    \n",
    "    #print(sum(h_list),h_list,sum(h_list)/testing_label[index])\n",
    "    result_list.append(sum(h_list)/testing_label[index])\n",
    "    \n",
    "\n",
    "print(max(result_list),min(result_list),max(result_list)-min(result_list))"
   ]
  },
  {
   "cell_type": "code",
   "execution_count": 26,
   "metadata": {
    "ExecuteTime": {
     "end_time": "2021-05-28T02:50:08.332475Z",
     "start_time": "2021-05-28T02:50:06.330767Z"
    }
   },
   "outputs": [
    {
     "data": {
      "image/png": "[encoded data removed]",
      "text/plain": [
       "<Figure size 432x288 with 1 Axes>"
      ]
     },
     "metadata": {
      "needs_background": "light"
     },
     "output_type": "display_data"
    }
   ],
   "source": [
    "plt.hist(result_list,bins=500)\n",
    "\n",
    "plt.title(\"Means\", y=1.015, fontsize=20)\n",
    "plt.axvline(x=sum(result_list)/len(result_list), linestyle='--', linewidth=2.5, label=\"sample mean\", c='orange')\n",
    "plt.xlabel(\"samples\", labelpad=14)\n",
    "plt.ylabel(\"frequency of occurence\", labelpad=14)\n",
    "plt.legend();\n",
    "\n",
    "result_list.sort()\n",
    "\n",
    "plt.axvline(x=result_list[int(len(result_list)*0.01)], linestyle='--', linewidth=0.5, label=\"1%\", c='b')\n",
    "plt.axvline(x=result_list[int(len(result_list)*0.99)], linestyle='--', linewidth=0.5, label=\"99%\", c='r')\n",
    "\n",
    "\n",
    "plt.show()"
   ]
  },
  {
   "cell_type": "code",
   "execution_count": null,
   "metadata": {},
   "outputs": [],
   "source": []
  }
 ],
 "metadata": {
  "hide_input": false,
  "kernelspec": {
   "display_name": "Python 3",
   "language": "python",
   "name": "python3"
  },
  "language_info": {
   "codemirror_mode": {
    "name": "ipython",
    "version": 3
   },
   "file_extension": ".py",
   "mimetype": "text/x-python",
   "name": "python",
   "nbconvert_exporter": "python",
   "pygments_lexer": "ipython3",
   "version": "3.8.3"
  },
  "varInspector": {
   "cols": {
    "lenName": 16,
    "lenType": 16,
    "lenVar": 40
   },
   "kernels_config": {
    "python": {
     "delete_cmd_postfix": "",
     "delete_cmd_prefix": "del ",
     "library": "var_list.py",
     "varRefreshCmd": "print(var_dic_list())"
    },
    "r": {
     "delete_cmd_postfix": ") ",
     "delete_cmd_prefix": "rm(",
     "library": "var_list.r",
     "varRefreshCmd": "cat(var_dic_list()) "
    }
   },
   "types_to_exclude": [
    "module",
    "function",
    "builtin_function_or_method",
    "instance",
    "_Feature"
   ],
   "window_display": false
  }
 },
 "nbformat": 4,
 "nbformat_minor": 4
}
