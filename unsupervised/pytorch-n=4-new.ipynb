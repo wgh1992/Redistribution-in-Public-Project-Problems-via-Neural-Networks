{
 "cells": [
  {
   "cell_type": "code",
   "execution_count": 1,
   "metadata": {
    "ExecuteTime": {
     "end_time": "2021-06-01T10:16:30.618336Z",
     "start_time": "2021-06-01T10:16:07.471359Z"
    }
   },
   "outputs": [
    {
     "name": "stdout",
     "output_type": "stream",
     "text": [
      "pygame 2.0.1 (SDL 2.0.14, Python 3.8.3)\n",
      "Hello from the pygame community. https://www.pygame.org/contribute.html\n"
     ]
    },
    {
     "name": "stderr",
     "output_type": "stream",
     "text": [
      "D:\\ComputerSoftwares\\Anaconda\\lib\\site-packages\\sklearn\\utils\\deprecation.py:143: FutureWarning: The sklearn.datasets.samples_generator module is  deprecated in version 0.22 and will be removed in version 0.24. The corresponding classes / functions should instead be imported from sklearn.datasets. Anything that cannot be imported from sklearn.datasets is now part of the private API.\n",
      "  warnings.warn(message, FutureWarning)\n"
     ]
    },
    {
     "name": "stdout",
     "output_type": "stream",
     "text": [
      "cuda:0\n"
     ]
    }
   ],
   "source": [
    "\n",
    "import pygame\n",
    "import random\n",
    "import os\n",
    "import time\n",
    "import numpy as np\n",
    "import math\n",
    "import torch\n",
    "import torch.nn.functional\n",
    "import matplotlib.pyplot as plt\n",
    "import torch.optim as opt\n",
    "from torch.autograd import Variable\n",
    "from sklearn.model_selection import train_test_split\n",
    "\n",
    "import scipy.stats as st\n",
    "from sklearn.datasets.samples_generator import make_blobs\n",
    "from matplotlib.colors import LogNorm \n",
    "import matplotlib.cm as cm\n",
    "import torch.nn as nn\n",
    "import numpy as np\n",
    "import matplotlib.pyplot as plt\n",
    "\n",
    "\n",
    "if torch.cuda.is_available():  \n",
    "    dev = \"cuda:0\" \n",
    "else:  \n",
    "    dev = \"cpu\"  \n",
    "\n",
    "print(dev)\n"
   ]
  },
  {
   "cell_type": "code",
   "execution_count": 2,
   "metadata": {
    "ExecuteTime": {
     "end_time": "2021-06-01T10:16:30.637412Z",
     "start_time": "2021-06-01T10:16:30.619333Z"
    }
   },
   "outputs": [],
   "source": [
    "global temp_list\n",
    "temp_list = []\n",
    "Agent_number_n=4;\n",
    "Alpha = 0.666;\n",
    "\n"
   ]
  },
  {
   "cell_type": "code",
   "execution_count": 3,
   "metadata": {
    "ExecuteTime": {
     "end_time": "2021-06-01T10:16:33.485521Z",
     "start_time": "2021-06-01T10:16:30.639599Z"
    }
   },
   "outputs": [
    {
     "name": "stdout",
     "output_type": "stream",
     "text": [
      "[[[0.51642554 0.41016483 0.18674076]\n",
      "  [0.60091673 0.41016483 0.18674076]\n",
      "  [0.60091673 0.51642554 0.18674076]\n",
      "  [0.60091673 0.51642554 0.41016483]]\n",
      "\n",
      " [[0.58663128 0.06889475 0.01550505]\n",
      "  [0.84254741 0.06889475 0.01550505]\n",
      "  [0.84254741 0.58663128 0.01550505]\n",
      "  [0.84254741 0.58663128 0.06889475]]\n",
      "\n",
      " [[0.76305303 0.27630015 0.209252  ]\n",
      "  [0.78554795 0.27630015 0.209252  ]\n",
      "  [0.78554795 0.76305303 0.209252  ]\n",
      "  [0.78554795 0.76305303 0.27630015]]\n",
      "\n",
      " ...\n",
      "\n",
      " [[0.55573131 0.55342845 0.10022732]\n",
      "  [0.88797201 0.55342845 0.10022732]\n",
      "  [0.88797201 0.55573131 0.10022732]\n",
      "  [0.88797201 0.55573131 0.55342845]]\n",
      "\n",
      " [[0.77313177 0.7545363  0.38520357]\n",
      "  [0.99926349 0.7545363  0.38520357]\n",
      "  [0.99926349 0.77313177 0.38520357]\n",
      "  [0.99926349 0.77313177 0.7545363 ]]\n",
      "\n",
      " [[0.76580891 0.7404402  0.06961989]\n",
      "  [0.90891743 0.7404402  0.06961989]\n",
      "  [0.90891743 0.76580891 0.06961989]\n",
      "  [0.90891743 0.76580891 0.7404402 ]]]\n",
      "[[[0.63441619 0.50197343 0.05720197]\n",
      "  [0.93169403 0.50197343 0.05720197]\n",
      "  [0.93169403 0.63441619 0.05720197]\n",
      "  [0.93169403 0.63441619 0.50197343]]\n",
      "\n",
      " [[0.90805538 0.7111049  0.00319073]\n",
      "  [0.9848346  0.7111049  0.00319073]\n",
      "  [0.9848346  0.90805538 0.00319073]\n",
      "  [0.9848346  0.90805538 0.7111049 ]]\n",
      "\n",
      " [[0.40278641 0.34836384 0.12654451]\n",
      "  [0.52288078 0.34836384 0.12654451]\n",
      "  [0.52288078 0.40278641 0.12654451]\n",
      "  [0.52288078 0.40278641 0.34836384]]\n",
      "\n",
      " ...\n",
      "\n",
      " [[0.74375705 0.64675187 0.3238187 ]\n",
      "  [0.83108478 0.64675187 0.3238187 ]\n",
      "  [0.83108478 0.74375705 0.3238187 ]\n",
      "  [0.83108478 0.74375705 0.64675187]]\n",
      "\n",
      " [[0.41382754 0.36573414 0.20911924]\n",
      "  [0.6377419  0.36573414 0.20911924]\n",
      "  [0.6377419  0.41382754 0.20911924]\n",
      "  [0.6377419  0.41382754 0.36573414]]\n",
      "\n",
      " [[0.63324111 0.26114535 0.08592075]\n",
      "  [0.99265827 0.26114535 0.08592075]\n",
      "  [0.99265827 0.63324111 0.08592075]\n",
      "  [0.99265827 0.63324111 0.26114535]]]\n",
      "[1.71424785 1.51357849 2.03415314 ... 2.0973591  2.91213513 2.48478643]\n",
      "[2.12528563 2.60718561 1.40057555 ... 2.54541241 1.62642283 1.97296548]\n"
     ]
    }
   ],
   "source": [
    "global temp_list\n",
    "temp_list = []\n",
    "def appen(_x_list,y):\n",
    "    global temp_list\n",
    "    temp_list.append(_x_list)\n",
    "    \n",
    "def appen_train(x_list):\n",
    "    global temp_list\n",
    "                \n",
    "    S= max(sum(x_list),1.0);\n",
    "    temp_list = []\n",
    "    \n",
    "    for i in range(Agent_number_n):\n",
    "        temp = []\n",
    "        for j in range(Agent_number_n):\n",
    "            if(i!=j):\n",
    "                temp.append(x_list[j])\n",
    "        appen(temp,S)\n",
    "    \n",
    "    training_data.append(temp_list)\n",
    "    training_label.append(S)\n",
    "    \n",
    "\n",
    "def read_training_data():\n",
    "    for i in range(100000):\n",
    "        appen_train(sorted(np.random.rand(Agent_number_n), reverse=True));\n",
    "\n",
    "training_data=[]\n",
    "training_label=[]\n",
    "S=1.0\n",
    "read_training_data();\n",
    "\n",
    "def appen_test(x_list):\n",
    "    global temp_list\n",
    "                \n",
    "    S= max(sum(x_list),1.0);\n",
    "    temp_list = []\n",
    "    \n",
    "    for i in range(Agent_number_n):\n",
    "        temp = []\n",
    "        for j in range(Agent_number_n):\n",
    "            if(i!=j):\n",
    "                temp.append(x_list[j])\n",
    "        appen(temp,S)\n",
    "    testing_data.append(temp_list)\n",
    "    testing_label.append(S)\n",
    "    \n",
    "\n",
    "def read_testing_data():\n",
    "#     devided=20\n",
    "#     for i1 in range(devided+1):\n",
    "#         for i2 in range(i1+1):\n",
    "#             for i3 in range(i2+1):\n",
    "#                 appen_test(i1/devided,i2/devided,i3/devided);\n",
    "    for i in range(100000):\n",
    "        appen_test(sorted(np.random.rand(Agent_number_n), reverse=True));\n",
    "                            \n",
    "\n",
    "testing_data=[]\n",
    "testing_label=[]\n",
    "S=1.0\n",
    "read_testing_data();\n",
    "\n",
    "training_data=np.array(training_data)\n",
    "training_label=np.array(training_label)\n",
    "testing_data=np.array(testing_data)\n",
    "testing_label=np.array(testing_label)\n",
    "print(training_data)\n",
    "print(testing_data)\n",
    "print(training_label)\n",
    "print(testing_label)"
   ]
  },
  {
   "cell_type": "code",
   "execution_count": 4,
   "metadata": {
    "ExecuteTime": {
     "end_time": "2021-06-01T10:16:56.615251Z",
     "start_time": "2021-06-01T10:16:33.486470Z"
    }
   },
   "outputs": [
    {
     "name": "stdout",
     "output_type": "stream",
     "text": [
      "3.374705820305553 2.999999999999999 0.37470582030555377\n"
     ]
    }
   ],
   "source": [
    "def h_3_star(a, b, t):\n",
    "    return a - min(a, t) + b - min(b, t) + max(min(a, t)+min(b, t), 2*t/3) + 1/2 * max(min(a, t)+min(b, t), t) - 1/2 * max(max(min(a, t), min(b, t)), 2*t/3) - t/6\n",
    "\n",
    "\n",
    "def f_function(a, b, z):\n",
    "    if(z >= 1):\n",
    "        return (a+b)/2 + z/3\n",
    "    else:\n",
    "        return z/3 + h_3_star(a, b, 1-z)/2\n",
    "\n",
    "def h_function(input_list):\n",
    "    #input_list = sorted(input_list)\n",
    "    g_list = []\n",
    "    for j1 in range(len(input_list) ):\n",
    "        for j2 in range(len(input_list)):\n",
    "            if(j1 != j2):\n",
    "                a = input_list[j1]\n",
    "                b = input_list[j2]\n",
    "                z = sum(input_list)- a-b\n",
    "\n",
    "                g_list.append( f_function(a, b, z) * (Agent_number_n-1))\n",
    "    h = sum(g_list) * 3 /  (Agent_number_n) /  (Agent_number_n-1) /  (Agent_number_n - 2)\n",
    "    return h\n",
    "                \n",
    "                \n",
    "x_list = []\n",
    "y_list = []\n",
    "z_list = []\n",
    "result_list = []\n",
    "training_supervised_label=[]\n",
    "for index in range(len(training_data)):\n",
    "    h_list = []\n",
    "    for i in range(Agent_number_n):\n",
    "        x_list.append(training_data[index][i][0])\n",
    "        y_list.append(training_data[index][i][1])\n",
    "        h = h_function(training_data[index][i])\n",
    "        z_list.append(float(h))\n",
    "        h_list.append(float(h))\n",
    "    training_supervised_label.append(h_list)\n",
    "    result_list.append(sum(h_list)/training_label[index]) \n",
    "    \n",
    "    \n",
    "print(max(result_list), min(result_list), max(result_list)-min(result_list))"
   ]
  },
  {
   "cell_type": "code",
   "execution_count": 5,
   "metadata": {
    "ExecuteTime": {
     "end_time": "2021-06-01T10:16:58.048461Z",
     "start_time": "2021-06-01T10:16:56.617325Z"
    }
   },
   "outputs": [
    {
     "data": {
      "image/png": "[encoded data removed]",
      "text/plain": [
       "<Figure size 432x288 with 1 Axes>"
      ]
     },
     "metadata": {
      "needs_background": "light"
     },
     "output_type": "display_data"
    }
   ],
   "source": [
    "plt.hist(result_list,bins=500)\n",
    "\n",
    "plt.title(\"Means\", y=1.015, fontsize=20)\n",
    "plt.axvline(x=sum(result_list)/len(result_list), linestyle='--', linewidth=2.5, label=\"sample mean\", c='orange')\n",
    "plt.xlabel(\"samples\", labelpad=14)\n",
    "plt.ylabel(\"frequency of occurence\", labelpad=14)\n",
    "plt.legend();\n",
    "\n",
    "result_list.sort()\n",
    "\n",
    "plt.axvline(x=result_list[int(len(result_list)*0.01)], linestyle='--', linewidth=0.5, label=\"1%\", c='b')\n",
    "plt.axvline(x=result_list[int(len(result_list)*0.99)], linestyle='--', linewidth=0.5, label=\"99%\", c='r')\n",
    "\n",
    "\n",
    "plt.show()"
   ]
  },
  {
   "cell_type": "code",
   "execution_count": 6,
   "metadata": {
    "ExecuteTime": {
     "end_time": "2021-06-01T10:16:58.173108Z",
     "start_time": "2021-06-01T10:16:58.050412Z"
    }
   },
   "outputs": [
    {
     "name": "stdout",
     "output_type": "stream",
     "text": [
      "[[1.13752039 1.2321199  1.36494578 1.6840401 ]\n",
      " [0.75       0.85815518 1.46328423 1.54003193]\n",
      " [1.26941879 1.29331964 1.90176074 1.9717885 ]\n",
      " ...\n",
      " [1.2305549  1.5918326  1.59471118 2.1224903 ]\n",
      " [2.04876269 2.24662794 2.26289898 2.58606511]\n",
      " [1.6518008  1.80385361 1.8355645  2.48827072]]\n"
     ]
    }
   ],
   "source": [
    "training_supervised_label=np.array(training_supervised_label)\n",
    "print(training_supervised_label)"
   ]
  },
  {
   "cell_type": "code",
   "execution_count": 7,
   "metadata": {
    "ExecuteTime": {
     "end_time": "2021-06-01T10:16:58.188574Z",
     "start_time": "2021-06-01T10:16:58.177097Z"
    }
   },
   "outputs": [
    {
     "name": "stdout",
     "output_type": "stream",
     "text": [
      "cuda:0\n"
     ]
    }
   ],
   "source": [
    "if torch.cuda.is_available():  \n",
    "    dev = \"cuda:0\" \n",
    "else:  \n",
    "    dev = \"cpu\"  \n",
    "\n",
    "print(dev)\n"
   ]
  },
  {
   "cell_type": "code",
   "execution_count": 8,
   "metadata": {
    "ExecuteTime": {
     "end_time": "2021-06-01T10:16:58.219495Z",
     "start_time": "2021-06-01T10:16:58.190570Z"
    },
    "run_control": {
     "marked": true
    }
   },
   "outputs": [],
   "source": [
    "def weight_init(m):\n",
    "    if isinstance(m, torch.nn.Conv2d):\n",
    "        torch.nn.init.xavier_normal_(m.weight)\n",
    "        torch.nn.init.zeros_(m.bias)\n",
    "    elif isinstance(m, torch.nn.Linear):\n",
    "        torch.nn.init.normal_(m.weight, mean=0.0,std =0.2)\n",
    "        torch.nn.init.normal_(m.bias, mean=0.0,std =0.01)\n",
    "#     elif isinstance(m, torch.nn.Parameter):\n",
    "#         torch.nn.init.normal_(m, mean=0.0,std =0.1)\n",
    "\n",
    "        \n",
    "\n",
    "class Net(torch.nn.Module):\n",
    "    def __init__(self):\n",
    "\n",
    "        super(Net, self).__init__()\n",
    "        self.devided_number = Agent_number_n*2\n",
    "        self.input_dim = (Agent_number_n-1+1)*self.devided_number\n",
    "        self.hidden_dim = 10\n",
    "        self.output_dim = 1\n",
    "        self.hidden_layer_count = 1\n",
    "        \n",
    "        current_dim = self.input_dim\n",
    "        self.layers = torch.nn.ModuleList()\n",
    "        for i in range(self.hidden_layer_count):\n",
    "            self.layers.append(torch.nn.Linear(current_dim, self.hidden_dim))\n",
    "            current_dim = self.hidden_dim\n",
    "        self.layers.append(torch.nn.Linear(current_dim, self.output_dim))\n",
    "\n",
    "    def calculate(self, value_list):\n",
    "        input_h = torch.zeros(self.input_dim).cuda()\n",
    "        value_list = torch.cat([torch.tensor([torch.sum(value_list)]).cuda(),value_list])\n",
    "        for i in range((Agent_number_n-1+1)):\n",
    "            for j in range(self.devided_number):\n",
    "                \n",
    "                input_h[i*self.devided_number+j] = torch.where( value_list[i]*self.devided_number>torch.tensor(j) ,\n",
    "                            torch.ones(1).cuda(),\n",
    "                            value_list[i]*self.devided_number - torch.tensor(j)\n",
    "                          )\n",
    "                if(value_list[i]*self.devided_number<=torch.tensor(j)):\n",
    "                    break;\n",
    "        \n",
    "        h = input_h\n",
    "        for layer in self.layers:\n",
    "            h = torch.relu(layer(h))\n",
    "        return h\n",
    "\n",
    "    def forward(self, input_list,input_label,label):\n",
    "        global iteration,echo,target_order\n",
    "        loss1 = 0\n",
    "        loss2 = 0\n",
    "        input_list = torch.from_numpy(\n",
    "            np.array(input_list)).cuda().type(torch.float32)\n",
    "        h_list = []\n",
    "\n",
    "\n",
    "        for i in range(Agent_number_n):\n",
    "            h = self.calculate(input_list[i])\n",
    "            h_list.append(h)\n",
    "        input_label = torch.from_numpy(\n",
    "            np.array(input_label)).cuda().type(torch.float32)\n",
    "        sum_h = torch.sum(torch.cat(h_list)).cuda()\n",
    "\n",
    "\n",
    "        loss1 = torch.where((Agent_number_n-1)*input_label>sum_h,\n",
    "                        torch.square(((Agent_number_n-1)*input_label-sum_h)),\n",
    "                        torch.zeros(1).cuda()\n",
    "                      )\n",
    "\n",
    "        loss2 = torch.where((Agent_number_n-Alpha)*input_label<sum_h,\n",
    "                        torch.square((sum_h-(Agent_number_n-Alpha)*input_label))/4,\n",
    "                        torch.zeros(1).cuda()\n",
    "                      )\n",
    "\n",
    "        return loss1,loss2,h_list"
   ]
  },
  {
   "cell_type": "code",
   "execution_count": 9,
   "metadata": {
    "ExecuteTime": {
     "end_time": "2021-06-01T10:17:07.660551Z",
     "start_time": "2021-06-01T10:16:58.220490Z"
    }
   },
   "outputs": [
    {
     "data": {
      "text/plain": [
       "Net(\n",
       "  (layers): ModuleList(\n",
       "    (0): Linear(in_features=32, out_features=10, bias=True)\n",
       "    (1): Linear(in_features=10, out_features=1, bias=True)\n",
       "  )\n",
       ")"
      ]
     },
     "execution_count": 9,
     "metadata": {},
     "output_type": "execute_result"
    }
   ],
   "source": [
    "random.seed(2000)\n",
    "torch.manual_seed(256)\n",
    "net  = Net()\n",
    "net.apply(weight_init)\n",
    "\n",
    "net = torch.load( \"save/Deep_learning_small4_1\")\n",
    "net.to(dev)"
   ]
  },
  {
   "cell_type": "code",
   "execution_count": 10,
   "metadata": {
    "ExecuteTime": {
     "end_time": "2021-06-01T10:17:07.675513Z",
     "start_time": "2021-06-01T10:17:07.662546Z"
    }
   },
   "outputs": [],
   "source": [
    "#optimizer = opt.RMSprop(net.parameters(), lr=0.00001)\n",
    "#optimizer = opt.SGD(net.parameters(), lr=0.00005)\n",
    "optimizer = opt.Adam(net.parameters(), lr=0.0001)\n",
    "\n",
    "batch_size = 64\n",
    "echo = 1"
   ]
  },
  {
   "cell_type": "code",
   "execution_count": 11,
   "metadata": {
    "ExecuteTime": {
     "end_time": "2021-06-01T10:26:15.347495Z",
     "start_time": "2021-06-01T10:17:07.677510Z"
    }
   },
   "outputs": [
    {
     "name": "stdout",
     "output_type": "stream",
     "text": [
      "3024 tensor([8.7200e-06], device='cuda:0', grad_fn=<DivBackward0>) 0.0005580794531852007 0.0\n",
      "3402 tensor([0.0001], device='cuda:0', grad_fn=<DivBackward0>) 0.0 0.009197111241519451\n",
      "4347 tensor([0.0002], device='cuda:0', grad_fn=<DivBackward0>) 9.490233878750587e-07 0.01032298244535923\n",
      "5166 tensor([0.0002], device='cuda:0', grad_fn=<DivBackward0>) 0.001704818569123745 0.009637122973799706\n",
      "5859 tensor([6.2774e-05], device='cuda:0', grad_fn=<DivBackward0>) 0.0 0.004017538391053677\n",
      "6867 tensor([0.0001], device='cuda:0', grad_fn=<DivBackward0>) 0.0010989010334014893 0.007246395107358694\n",
      "7434 tensor([0.0002], device='cuda:0', grad_fn=<DivBackward0>) 0.0 0.014516893774271011\n",
      "8883 tensor([0.0002], device='cuda:0', grad_fn=<DivBackward0>) 0.001555786351673305 0.008969057351350784\n",
      "9954 tensor([5.1851e-05], device='cuda:0', grad_fn=<DivBackward0>) 0.0 0.0033184767235070467\n",
      "11025 tensor([0.0001], device='cuda:0', grad_fn=<DivBackward0>) 5.784443146694684e-07 0.0069005126133561134\n",
      "11466 tensor([6.4554e-05], device='cuda:0', grad_fn=<DivBackward0>) 0.0039018727838993073 0.000229589655646123\n",
      "13104 tensor([3.0093e-05], device='cuda:0', grad_fn=<DivBackward0>) 0.0019259632099419832 0.0\n",
      "13797 tensor([1.8411e-05], device='cuda:0', grad_fn=<DivBackward0>) 0.00020398880587890744 0.000974345370195806\n"
     ]
    },
    {
     "ename": "KeyboardInterrupt",
     "evalue": "",
     "output_type": "error",
     "traceback": [
      "\u001b[1;31m---------------------------------------------------------------------------\u001b[0m",
      "\u001b[1;31mKeyboardInterrupt\u001b[0m                         Traceback (most recent call last)",
      "\u001b[1;32m<ipython-input-11-06a888360782>\u001b[0m in \u001b[0;36m<module>\u001b[1;34m\u001b[0m\n\u001b[0;32m     14\u001b[0m         \u001b[0mdenominator\u001b[0m \u001b[1;33m=\u001b[0m \u001b[1;36m0\u001b[0m\u001b[1;33m\u001b[0m\u001b[1;33m\u001b[0m\u001b[0m\n\u001b[0;32m     15\u001b[0m         \u001b[1;32mfor\u001b[0m \u001b[0mindex\u001b[0m \u001b[1;32min\u001b[0m \u001b[0mrange\u001b[0m\u001b[1;33m(\u001b[0m\u001b[0mtemp_number\u001b[0m\u001b[1;33m,\u001b[0m \u001b[0mmin\u001b[0m\u001b[1;33m(\u001b[0m\u001b[0mbatch_size\u001b[0m\u001b[1;33m+\u001b[0m\u001b[0mtemp_number\u001b[0m\u001b[1;33m,\u001b[0m\u001b[0mlen\u001b[0m\u001b[1;33m(\u001b[0m\u001b[0mtraining_data\u001b[0m\u001b[1;33m)\u001b[0m\u001b[1;33m)\u001b[0m\u001b[1;33m)\u001b[0m\u001b[1;33m:\u001b[0m\u001b[1;33m\u001b[0m\u001b[1;33m\u001b[0m\u001b[0m\n\u001b[1;32m---> 16\u001b[1;33m             \u001b[0mh_loss1\u001b[0m\u001b[1;33m,\u001b[0m\u001b[0mh_loss2\u001b[0m\u001b[1;33m,\u001b[0m\u001b[0mh_list\u001b[0m \u001b[1;33m=\u001b[0m \u001b[0mnet\u001b[0m\u001b[1;33m(\u001b[0m\u001b[0mtraining_data\u001b[0m\u001b[1;33m[\u001b[0m\u001b[0mindex\u001b[0m\u001b[1;33m]\u001b[0m\u001b[1;33m,\u001b[0m\u001b[0mtraining_label\u001b[0m\u001b[1;33m[\u001b[0m\u001b[0mindex\u001b[0m\u001b[1;33m]\u001b[0m\u001b[1;33m,\u001b[0m\u001b[1;36m0\u001b[0m\u001b[1;33m)\u001b[0m\u001b[1;33m\u001b[0m\u001b[1;33m\u001b[0m\u001b[0m\n\u001b[0m\u001b[0;32m     17\u001b[0m             \u001b[0mdenominator\u001b[0m \u001b[1;33m+=\u001b[0m \u001b[1;36m1\u001b[0m\u001b[1;33m\u001b[0m\u001b[1;33m\u001b[0m\u001b[0m\n\u001b[0;32m     18\u001b[0m             \u001b[0mloss1_sum\u001b[0m \u001b[1;33m+=\u001b[0m \u001b[0mh_loss1\u001b[0m\u001b[1;33m\u001b[0m\u001b[1;33m\u001b[0m\u001b[0m\n",
      "\u001b[1;32mD:\\ComputerSoftwares\\Anaconda\\lib\\site-packages\\torch\\nn\\modules\\module.py\u001b[0m in \u001b[0;36m_call_impl\u001b[1;34m(self, *input, **kwargs)\u001b[0m\n\u001b[0;32m    720\u001b[0m             \u001b[0mresult\u001b[0m \u001b[1;33m=\u001b[0m \u001b[0mself\u001b[0m\u001b[1;33m.\u001b[0m\u001b[0m_slow_forward\u001b[0m\u001b[1;33m(\u001b[0m\u001b[1;33m*\u001b[0m\u001b[0minput\u001b[0m\u001b[1;33m,\u001b[0m \u001b[1;33m**\u001b[0m\u001b[0mkwargs\u001b[0m\u001b[1;33m)\u001b[0m\u001b[1;33m\u001b[0m\u001b[1;33m\u001b[0m\u001b[0m\n\u001b[0;32m    721\u001b[0m         \u001b[1;32melse\u001b[0m\u001b[1;33m:\u001b[0m\u001b[1;33m\u001b[0m\u001b[1;33m\u001b[0m\u001b[0m\n\u001b[1;32m--> 722\u001b[1;33m             \u001b[0mresult\u001b[0m \u001b[1;33m=\u001b[0m \u001b[0mself\u001b[0m\u001b[1;33m.\u001b[0m\u001b[0mforward\u001b[0m\u001b[1;33m(\u001b[0m\u001b[1;33m*\u001b[0m\u001b[0minput\u001b[0m\u001b[1;33m,\u001b[0m \u001b[1;33m**\u001b[0m\u001b[0mkwargs\u001b[0m\u001b[1;33m)\u001b[0m\u001b[1;33m\u001b[0m\u001b[1;33m\u001b[0m\u001b[0m\n\u001b[0m\u001b[0;32m    723\u001b[0m         for hook in itertools.chain(\n\u001b[0;32m    724\u001b[0m                 \u001b[0m_global_forward_hooks\u001b[0m\u001b[1;33m.\u001b[0m\u001b[0mvalues\u001b[0m\u001b[1;33m(\u001b[0m\u001b[1;33m)\u001b[0m\u001b[1;33m,\u001b[0m\u001b[1;33m\u001b[0m\u001b[1;33m\u001b[0m\u001b[0m\n",
      "\u001b[1;32m<ipython-input-8-76e1b71fc1c7>\u001b[0m in \u001b[0;36mforward\u001b[1;34m(self, input_list, input_label, label)\u001b[0m\n\u001b[0;32m     56\u001b[0m \u001b[1;33m\u001b[0m\u001b[0m\n\u001b[0;32m     57\u001b[0m         \u001b[1;32mfor\u001b[0m \u001b[0mi\u001b[0m \u001b[1;32min\u001b[0m \u001b[0mrange\u001b[0m\u001b[1;33m(\u001b[0m\u001b[0mAgent_number_n\u001b[0m\u001b[1;33m)\u001b[0m\u001b[1;33m:\u001b[0m\u001b[1;33m\u001b[0m\u001b[1;33m\u001b[0m\u001b[0m\n\u001b[1;32m---> 58\u001b[1;33m             \u001b[0mh\u001b[0m \u001b[1;33m=\u001b[0m \u001b[0mself\u001b[0m\u001b[1;33m.\u001b[0m\u001b[0mcalculate\u001b[0m\u001b[1;33m(\u001b[0m\u001b[0minput_list\u001b[0m\u001b[1;33m[\u001b[0m\u001b[0mi\u001b[0m\u001b[1;33m]\u001b[0m\u001b[1;33m)\u001b[0m\u001b[1;33m\u001b[0m\u001b[1;33m\u001b[0m\u001b[0m\n\u001b[0m\u001b[0;32m     59\u001b[0m             \u001b[0mh_list\u001b[0m\u001b[1;33m.\u001b[0m\u001b[0mappend\u001b[0m\u001b[1;33m(\u001b[0m\u001b[0mh\u001b[0m\u001b[1;33m)\u001b[0m\u001b[1;33m\u001b[0m\u001b[1;33m\u001b[0m\u001b[0m\n\u001b[0;32m     60\u001b[0m         input_label = torch.from_numpy(\n",
      "\u001b[1;32m<ipython-input-8-76e1b71fc1c7>\u001b[0m in \u001b[0;36mcalculate\u001b[1;34m(self, value_list)\u001b[0m\n\u001b[0;32m     38\u001b[0m                             \u001b[0mvalue_list\u001b[0m\u001b[1;33m[\u001b[0m\u001b[0mi\u001b[0m\u001b[1;33m]\u001b[0m\u001b[1;33m*\u001b[0m\u001b[0mself\u001b[0m\u001b[1;33m.\u001b[0m\u001b[0mdevided_number\u001b[0m \u001b[1;33m-\u001b[0m \u001b[0mtorch\u001b[0m\u001b[1;33m.\u001b[0m\u001b[0mtensor\u001b[0m\u001b[1;33m(\u001b[0m\u001b[0mj\u001b[0m\u001b[1;33m)\u001b[0m\u001b[1;33m\u001b[0m\u001b[1;33m\u001b[0m\u001b[0m\n\u001b[0;32m     39\u001b[0m                           )\n\u001b[1;32m---> 40\u001b[1;33m                 \u001b[1;32mif\u001b[0m\u001b[1;33m(\u001b[0m\u001b[0mvalue_list\u001b[0m\u001b[1;33m[\u001b[0m\u001b[0mi\u001b[0m\u001b[1;33m]\u001b[0m\u001b[1;33m*\u001b[0m\u001b[0mself\u001b[0m\u001b[1;33m.\u001b[0m\u001b[0mdevided_number\u001b[0m\u001b[1;33m<=\u001b[0m\u001b[0mtorch\u001b[0m\u001b[1;33m.\u001b[0m\u001b[0mtensor\u001b[0m\u001b[1;33m(\u001b[0m\u001b[0mj\u001b[0m\u001b[1;33m)\u001b[0m\u001b[1;33m)\u001b[0m\u001b[1;33m:\u001b[0m\u001b[1;33m\u001b[0m\u001b[1;33m\u001b[0m\u001b[0m\n\u001b[0m\u001b[0;32m     41\u001b[0m                     \u001b[1;32mbreak\u001b[0m\u001b[1;33m;\u001b[0m\u001b[1;33m\u001b[0m\u001b[1;33m\u001b[0m\u001b[0m\n\u001b[0;32m     42\u001b[0m \u001b[1;33m\u001b[0m\u001b[0m\n",
      "\u001b[1;32mD:\\ComputerSoftwares\\Anaconda\\lib\\site-packages\\torch\\tensor.py\u001b[0m in \u001b[0;36mwrapped\u001b[1;34m(*args, **kwargs)\u001b[0m\n\u001b[0;32m     20\u001b[0m     \u001b[1;32mdef\u001b[0m \u001b[0mwrapped\u001b[0m\u001b[1;33m(\u001b[0m\u001b[1;33m*\u001b[0m\u001b[0margs\u001b[0m\u001b[1;33m,\u001b[0m \u001b[1;33m**\u001b[0m\u001b[0mkwargs\u001b[0m\u001b[1;33m)\u001b[0m\u001b[1;33m:\u001b[0m\u001b[1;33m\u001b[0m\u001b[1;33m\u001b[0m\u001b[0m\n\u001b[0;32m     21\u001b[0m         \u001b[1;32mtry\u001b[0m\u001b[1;33m:\u001b[0m\u001b[1;33m\u001b[0m\u001b[1;33m\u001b[0m\u001b[0m\n\u001b[1;32m---> 22\u001b[1;33m             \u001b[1;32mreturn\u001b[0m \u001b[0mf\u001b[0m\u001b[1;33m(\u001b[0m\u001b[1;33m*\u001b[0m\u001b[0margs\u001b[0m\u001b[1;33m,\u001b[0m \u001b[1;33m**\u001b[0m\u001b[0mkwargs\u001b[0m\u001b[1;33m)\u001b[0m\u001b[1;33m\u001b[0m\u001b[1;33m\u001b[0m\u001b[0m\n\u001b[0m\u001b[0;32m     23\u001b[0m         \u001b[1;32mexcept\u001b[0m \u001b[0mTypeError\u001b[0m\u001b[1;33m:\u001b[0m\u001b[1;33m\u001b[0m\u001b[1;33m\u001b[0m\u001b[0m\n\u001b[0;32m     24\u001b[0m             \u001b[1;32mreturn\u001b[0m \u001b[0mNotImplemented\u001b[0m\u001b[1;33m\u001b[0m\u001b[1;33m\u001b[0m\u001b[0m\n",
      "\u001b[1;31mKeyboardInterrupt\u001b[0m: "
     ]
    }
   ],
   "source": [
    "for iteration in range(int(echo)):\n",
    "    # offender_types = []\n",
    "    # defender_types = []\n",
    "    \n",
    "    \n",
    "    X_train_list = []\n",
    "    temp_number = 0\n",
    "    total_batch_loss = 0 \n",
    "    while(temp_number<len(training_data)-1):\n",
    "        \n",
    "        loss2_list = []\n",
    "        loss1_sum = 0\n",
    "        loss2_sum = 0\n",
    "        denominator = 0\n",
    "        for index in range(temp_number, min(batch_size+temp_number,len(training_data))):\n",
    "            h_loss1,h_loss2,h_list = net(training_data[index],training_label[index],0)\n",
    "            denominator += 1\n",
    "            loss1_sum += h_loss1\n",
    "            loss2_sum += h_loss2\n",
    "            \n",
    "        loss_sum = loss1_sum + loss2_sum\n",
    "        loss = (loss_sum) / denominator \n",
    "        total_batch_loss +=float(loss_sum)\n",
    "        optimizer.zero_grad()\n",
    "        \n",
    "        loss.backward()\n",
    "        \n",
    "        optimizer.step()\n",
    "        \n",
    "        temp_number = index\n",
    "        \n",
    "        if(random.random()<=0.05):\n",
    "            print(temp_number,loss,float(loss1_sum),float(loss2_sum))\n",
    "\n",
    "\n",
    "    print(\"batch iteration\", iteration)\n",
    "    print(\"batch_loss: %.2f \" % (total_batch_loss/len(training_data)))\n",
    "    \n",
    "    print()\n",
    "    print()"
   ]
  },
  {
   "cell_type": "code",
   "execution_count": 12,
   "metadata": {
    "ExecuteTime": {
     "end_time": "2021-06-01T10:26:19.023294Z",
     "start_time": "2021-06-01T10:26:18.899928Z"
    }
   },
   "outputs": [],
   "source": [
    "torch.save(net, \"save/Deep_learning_small4_1\")"
   ]
  },
  {
   "cell_type": "code",
   "execution_count": 13,
   "metadata": {
    "ExecuteTime": {
     "end_time": "2021-06-01T11:29:33.555386Z",
     "start_time": "2021-06-01T10:26:21.323962Z"
    }
   },
   "outputs": [
    {
     "name": "stdout",
     "output_type": "stream",
     "text": [
      "3.709637463092804 1.5999819040298462 2.1096555590629578\n"
     ]
    }
   ],
   "source": [
    "denominator = 0\n",
    "result_list = []\n",
    "for index in range(len(testing_data)):\n",
    "    h_list = []\n",
    "    for i in range(Agent_number_n):\n",
    "        h = net.calculate(torch.tensor(testing_data[index][i]).cuda().type(torch.float32))\n",
    "        h_list.append(float(h))\n",
    "    \n",
    "    #print(sum(h_list),h_list,sum(h_list)/testing_label[index])\n",
    "    result_list.append(sum(h_list)/testing_label[index])\n",
    "    \n",
    "\n",
    "print(max(result_list),min(result_list),max(result_list)-min(result_list))"
   ]
  },
  {
   "cell_type": "code",
   "execution_count": 14,
   "metadata": {
    "ExecuteTime": {
     "end_time": "2021-06-01T11:29:37.834382Z",
     "start_time": "2021-06-01T11:29:36.597764Z"
    }
   },
   "outputs": [
    {
     "data": {
      "image/png": "[encoded data removed]",
      "text/plain": [
       "<Figure size 432x288 with 1 Axes>"
      ]
     },
     "metadata": {
      "needs_background": "light"
     },
     "output_type": "display_data"
    }
   ],
   "source": [
    "plt.hist(result_list,bins=500)\n",
    "\n",
    "plt.title(\"Means\", y=1.015, fontsize=20)\n",
    "plt.axvline(x=sum(result_list)/len(result_list), linestyle='--', linewidth=2.5, label=\"sample mean\", c='orange')\n",
    "plt.xlabel(\"samples\", labelpad=14)\n",
    "plt.ylabel(\"frequency of occurence\", labelpad=14)\n",
    "plt.legend();\n",
    "\n",
    "result_list.sort()\n",
    "\n",
    "plt.axvline(x=result_list[int(len(result_list)*0.01)], linestyle='--', linewidth=0.5, label=\"1%\", c='b')\n",
    "plt.axvline(x=result_list[int(len(result_list)*0.99)], linestyle='--', linewidth=0.5, label=\"99%\", c='r')\n",
    "\n",
    "\n",
    "plt.show()"
   ]
  },
  {
   "cell_type": "code",
   "execution_count": 15,
   "metadata": {
    "ExecuteTime": {
     "end_time": "2021-06-01T11:29:40.728793Z",
     "start_time": "2021-06-01T11:29:40.687565Z"
    }
   },
   "outputs": [
    {
     "name": "stdout",
     "output_type": "stream",
     "text": [
      "Parameter containing:\n",
      "tensor([[-0.1263,  0.2598, -0.0876, -0.1876, -0.0476, -0.0498, -0.1428,  0.0749,\n",
      "         -0.2189, -0.3291,  0.0713, -0.2243,  0.0380, -0.0102,  0.0749,  0.2129,\n",
      "         -0.1249,  0.0286, -0.1469, -0.1176,  0.0398,  0.2262,  0.0794, -0.3436,\n",
      "         -0.1544, -0.1209,  0.2652,  0.1109, -0.1120,  0.0913, -0.1745, -0.1579],\n",
      "        [-0.0045,  0.0719, -0.0603, -0.2099, -0.0853, -0.0659,  0.0140,  0.0751,\n",
      "          0.4253,  0.0113,  0.4595,  0.1471, -0.0100,  0.0382,  0.4189,  0.3918,\n",
      "          0.3021,  0.2060, -0.0974,  0.1800,  0.1199, -0.0959, -0.2776,  0.2051,\n",
      "          0.2959, -0.0011,  0.1272,  0.2916, -0.0239, -0.2345, -0.0594, -0.0801],\n",
      "        [-0.1117,  0.2746,  0.0663,  0.0779,  0.2672,  0.4308,  0.4749, -0.2680,\n",
      "         -0.1168, -0.1443,  0.0793, -0.0622, -0.5341, -0.5168, -0.1649,  0.1641,\n",
      "          0.2093,  0.3896,  0.2393, -0.2049,  0.1377,  0.4200,  0.0103, -0.2561,\n",
      "         -0.2477, -0.0077, -0.1136,  0.1097, -0.2689,  0.1901, -0.0571, -0.1479],\n",
      "        [-0.0440,  0.4028,  0.0615, -0.2346, -0.2189,  0.0484,  0.0509, -0.2407,\n",
      "          0.1777,  0.2753, -0.2699, -0.1304, -0.0780,  0.3638,  0.1109,  0.0922,\n",
      "         -0.1645,  0.0737,  0.5207,  0.1406,  0.0465,  0.1329,  0.4036, -0.2034,\n",
      "          0.1869, -0.0117, -0.0390,  0.0575,  0.2622,  0.5468,  0.2583, -0.0158],\n",
      "        [-0.2198, -0.1358,  0.3518,  0.2087,  0.0362,  0.0495,  0.0864,  0.3762,\n",
      "         -0.2619, -0.0316,  0.2294,  0.0519, -0.1209,  0.0825, -0.0567,  0.5299,\n",
      "          0.0539,  0.0273, -0.0206,  0.0676, -0.0428, -0.0755, -0.0808,  0.1103,\n",
      "         -0.2296, -0.3558,  0.1403,  0.1356,  0.2712,  0.1804, -0.0913, -0.3077],\n",
      "        [ 0.1356, -0.0680,  0.3099,  0.0336,  0.4146,  0.1906,  0.3824, -0.0180,\n",
      "          0.3057,  0.3403,  0.0036,  0.2129,  0.1864, -0.3190, -0.2886,  0.2781,\n",
      "          0.3226,  0.0772, -0.1552, -0.1659,  0.0665,  0.3246, -0.1726, -0.2065,\n",
      "         -0.0202, -0.2242,  0.2522, -0.2594,  0.0146, -0.1927,  0.1031, -0.2522],\n",
      "        [-0.2915,  0.1673, -0.1731,  0.0176,  0.2910,  0.2502,  0.2880, -0.0722,\n",
      "         -0.0176,  0.0288,  0.0303, -0.1053,  0.0054, -0.2908,  0.2940,  0.2109,\n",
      "         -0.2944,  0.4312,  0.2425,  0.3028,  0.3331,  0.3299,  0.1133,  0.3231,\n",
      "          0.1117,  0.2530,  0.3915,  0.0647, -0.0189,  0.1352, -0.1581,  0.0715],\n",
      "        [-0.2134,  0.1102,  0.1220,  0.1373, -0.0328, -0.1533, -0.2641,  0.1473,\n",
      "          0.3164,  0.2009, -0.0355,  0.2379, -0.1589,  0.2279, -0.0540, -0.1444,\n",
      "          0.1165,  0.1650, -0.0032,  0.0798, -0.0474,  0.0227,  0.2713, -0.0464,\n",
      "          0.2676,  0.1597, -0.1507,  0.2089, -0.1939,  0.0434,  0.2032,  0.5798],\n",
      "        [ 0.0788, -0.0764, -0.0339,  0.2791, -0.1784,  0.2340,  0.1192,  0.0541,\n",
      "          0.1500,  0.0358, -0.0859, -0.0121, -0.2056, -0.1420, -0.1665,  0.1273,\n",
      "          0.3009,  0.0016,  0.1619, -0.0852,  0.4244,  0.4398,  0.1056, -0.0314,\n",
      "         -0.3825,  0.2912, -0.0721,  0.2320,  0.1141,  0.0507,  0.0679, -0.1655],\n",
      "        [-0.2553, -0.0021,  0.1792, -0.0975, -0.4333,  0.1928,  0.0325, -0.1918,\n",
      "         -0.2016,  0.4745, -0.2013,  0.0055,  0.0143,  0.3550,  0.4402,  0.0381,\n",
      "         -0.2364, -0.0087, -0.3309, -0.0704,  0.0900, -0.0656, -0.0442, -0.3007,\n",
      "         -0.0437, -0.1020,  0.0815, -0.1465,  0.2351, -0.0542, -0.1513, -0.1679]],\n",
      "       device='cuda:0', requires_grad=True)\n",
      "Parameter containing:\n",
      "tensor([-0.0081,  0.1007,  0.0153,  0.1267, -0.0442,  0.1167,  0.0646,  0.1267,\n",
      "         0.0604,  0.0427], device='cuda:0', requires_grad=True)\n",
      "Parameter containing:\n",
      "tensor([[-0.0434,  0.1645, -0.2603,  0.2737, -0.0670,  0.1319,  0.2564,  0.1604,\n",
      "          0.2001, -0.3511]], device='cuda:0', requires_grad=True)\n",
      "Parameter containing:\n",
      "tensor([0.1111], device='cuda:0', requires_grad=True)\n"
     ]
    }
   ],
   "source": [
    "for param in net.parameters():\n",
    "    print(param )"
   ]
  },
  {
   "cell_type": "code",
   "execution_count": null,
   "metadata": {},
   "outputs": [],
   "source": []
  }
 ],
 "metadata": {
  "hide_input": false,
  "kernelspec": {
   "display_name": "Python 3",
   "language": "python",
   "name": "python3"
  },
  "language_info": {
   "codemirror_mode": {
    "name": "ipython",
    "version": 3
   },
   "file_extension": ".py",
   "mimetype": "text/x-python",
   "name": "python",
   "nbconvert_exporter": "python",
   "pygments_lexer": "ipython3",
   "version": "3.8.3"
  },
  "varInspector": {
   "cols": {
    "lenName": 16,
    "lenType": 16,
    "lenVar": 40
   },
   "kernels_config": {
    "python": {
     "delete_cmd_postfix": "",
     "delete_cmd_prefix": "del ",
     "library": "var_list.py",
     "varRefreshCmd": "print(var_dic_list())"
    },
    "r": {
     "delete_cmd_postfix": ") ",
     "delete_cmd_prefix": "rm(",
     "library": "var_list.r",
     "varRefreshCmd": "cat(var_dic_list()) "
    }
   },
   "types_to_exclude": [
    "module",
    "function",
    "builtin_function_or_method",
    "instance",
    "_Feature"
   ],
   "window_display": false
  }
 },
 "nbformat": 4,
 "nbformat_minor": 4
}
