{
 "cells": [
  {
   "cell_type": "code",
   "execution_count": 1,
   "metadata": {
    "ExecuteTime": {
     "end_time": "2021-05-21T12:57:50.202429Z",
     "start_time": "2021-05-21T12:57:48.498150Z"
    }
   },
   "outputs": [
    {
     "name": "stdout",
     "output_type": "stream",
     "text": [
      "pygame 2.0.1 (SDL 2.0.14, Python 3.8.3)\n",
      "Hello from the pygame community. https://www.pygame.org/contribute.html\n",
      "cuda:0\n"
     ]
    },
    {
     "name": "stderr",
     "output_type": "stream",
     "text": [
      "D:\\ComputerSoftwares\\Anaconda\\lib\\site-packages\\sklearn\\utils\\deprecation.py:143: FutureWarning: The sklearn.datasets.samples_generator module is  deprecated in version 0.22 and will be removed in version 0.24. The corresponding classes / functions should instead be imported from sklearn.datasets. Anything that cannot be imported from sklearn.datasets is now part of the private API.\n",
      "  warnings.warn(message, FutureWarning)\n"
     ]
    }
   ],
   "source": [
    "\n",
    "import pygame\n",
    "import random\n",
    "import os\n",
    "import time\n",
    "import numpy as np\n",
    "import math\n",
    "import torch\n",
    "import torch.nn.functional\n",
    "import matplotlib.pyplot as plt\n",
    "import torch.optim as opt\n",
    "from torch.autograd import Variable\n",
    "from sklearn.model_selection import train_test_split\n",
    "\n",
    "import scipy.stats as st\n",
    "from sklearn.datasets.samples_generator import make_blobs\n",
    "from matplotlib.colors import LogNorm \n",
    "import matplotlib.cm as cm\n",
    "\n",
    "if torch.cuda.is_available():  \n",
    "    dev = \"cuda:0\" \n",
    "else:  \n",
    "    dev = \"cpu\"  \n",
    "\n",
    "print(dev)\n"
   ]
  },
  {
   "cell_type": "code",
   "execution_count": 2,
   "metadata": {
    "ExecuteTime": {
     "end_time": "2021-05-21T12:57:50.217231Z",
     "start_time": "2021-05-21T12:57:50.203425Z"
    }
   },
   "outputs": [],
   "source": [
    "global target_order\n",
    "global temp_list\n",
    "temp_list = []\n",
    "Agent_number_n=4;\n",
    "Alpha = (1-0.700);\n",
    "\n",
    "# torch.manual_seed(1)    # reproducible\n",
    "# np.random.seed(1)\n",
    "\n"
   ]
  },
  {
   "cell_type": "code",
   "execution_count": 3,
   "metadata": {
    "ExecuteTime": {
     "end_time": "2021-05-21T12:57:51.529011Z",
     "start_time": "2021-05-21T12:57:50.219226Z"
    }
   },
   "outputs": [
    {
     "name": "stdout",
     "output_type": "stream",
     "text": [
      "[[[0.68915775 0.13342484 0.08468059]\n",
      "  [0.92993767 0.13342484 0.08468059]\n",
      "  [0.92993767 0.68915775 0.08468059]\n",
      "  [0.92993767 0.68915775 0.13342484]]\n",
      "\n",
      " [[0.83103509 0.82771585 0.80800915]\n",
      "  [0.98407681 0.82771585 0.80800915]\n",
      "  [0.98407681 0.83103509 0.80800915]\n",
      "  [0.98407681 0.83103509 0.82771585]]\n",
      "\n",
      " [[0.85230346 0.29890253 0.22720868]\n",
      "  [0.87977717 0.29890253 0.22720868]\n",
      "  [0.87977717 0.85230346 0.22720868]\n",
      "  [0.87977717 0.85230346 0.29890253]]\n",
      "\n",
      " ...\n",
      "\n",
      " [[0.80562974 0.20923524 0.01415388]\n",
      "  [0.84700534 0.20923524 0.01415388]\n",
      "  [0.84700534 0.80562974 0.01415388]\n",
      "  [0.84700534 0.80562974 0.20923524]]\n",
      "\n",
      " [[0.79012924 0.39641391 0.17032705]\n",
      "  [0.87737588 0.39641391 0.17032705]\n",
      "  [0.87737588 0.79012924 0.17032705]\n",
      "  [0.87737588 0.79012924 0.39641391]]\n",
      "\n",
      " [[0.85040973 0.58508898 0.21861156]\n",
      "  [0.89396161 0.58508898 0.21861156]\n",
      "  [0.89396161 0.85040973 0.21861156]\n",
      "  [0.89396161 0.85040973 0.58508898]]]\n",
      "[[[0.40971669 0.35758063 0.04451949]\n",
      "  [0.76431769 0.35758063 0.04451949]\n",
      "  [0.76431769 0.40971669 0.04451949]\n",
      "  [0.76431769 0.40971669 0.35758063]]\n",
      "\n",
      " [[0.55811576 0.53971923 0.11305052]\n",
      "  [0.63948968 0.53971923 0.11305052]\n",
      "  [0.63948968 0.55811576 0.11305052]\n",
      "  [0.63948968 0.55811576 0.53971923]]\n",
      "\n",
      " [[0.80330733 0.27428363 0.19964774]\n",
      "  [0.96198175 0.27428363 0.19964774]\n",
      "  [0.96198175 0.80330733 0.19964774]\n",
      "  [0.96198175 0.80330733 0.27428363]]\n",
      "\n",
      " ...\n",
      "\n",
      " [[0.64583127 0.53440792 0.48422145]\n",
      "  [0.91734688 0.53440792 0.48422145]\n",
      "  [0.91734688 0.64583127 0.48422145]\n",
      "  [0.91734688 0.64583127 0.53440792]]\n",
      "\n",
      " [[0.72187785 0.28757263 0.17607307]\n",
      "  [0.90744214 0.28757263 0.17607307]\n",
      "  [0.90744214 0.72187785 0.17607307]\n",
      "  [0.90744214 0.72187785 0.28757263]]\n",
      "\n",
      " [[0.56549277 0.14730655 0.06521299]\n",
      "  [0.69622596 0.14730655 0.06521299]\n",
      "  [0.69622596 0.56549277 0.06521299]\n",
      "  [0.69622596 0.56549277 0.14730655]]]\n",
      "[1.83720086 3.4508369  2.25819183 ... 1.87602419 2.23424607 2.54807188]\n",
      "[1.5761345  1.85037519 2.23922044 ... 2.58180751 2.09296568 1.47423827]\n"
     ]
    }
   ],
   "source": [
    "def appen(_x_list,y):\n",
    "    global temp_list\n",
    "    temp_list.append(_x_list)\n",
    "    \n",
    "def appen_train(x_list):\n",
    "    global temp_list\n",
    "                \n",
    "    S= max(sum(x_list),1.0);\n",
    "    temp_list = []\n",
    "    \n",
    "    for i in range(Agent_number_n):\n",
    "        temp = []\n",
    "        for j in range(Agent_number_n):\n",
    "            if(i!=j):\n",
    "                temp.append(x_list[j])\n",
    "        appen(temp,S)\n",
    "    \n",
    "    training_data.append(temp_list)\n",
    "    training_label.append(S)\n",
    "    \n",
    "\n",
    "def read_training_data():\n",
    "    for i in range(50000):\n",
    "        appen_train(sorted(np.random.rand(Agent_number_n), reverse=True));\n",
    "\n",
    "training_data=[]\n",
    "training_label=[]\n",
    "S=1.0\n",
    "read_training_data();\n",
    "\n",
    "def appen_test(x_list):\n",
    "    global temp_list\n",
    "                \n",
    "    S= max(sum(x_list),1.0);\n",
    "    temp_list = []\n",
    "    \n",
    "    for i in range(Agent_number_n):\n",
    "        temp = []\n",
    "        for j in range(Agent_number_n):\n",
    "            if(i!=j):\n",
    "                temp.append(x_list[j])\n",
    "        appen(temp,S)\n",
    "    testing_data.append(temp_list)\n",
    "    testing_label.append(S)\n",
    "    \n",
    "\n",
    "def read_testing_data():\n",
    "#     devided=20\n",
    "#     for i1 in range(devided+1):\n",
    "#         for i2 in range(i1+1):\n",
    "#             for i3 in range(i2+1):\n",
    "#                 appen_test(i1/devided,i2/devided,i3/devided);\n",
    "    for i in range(50000):\n",
    "        appen_test(sorted(np.random.rand(Agent_number_n), reverse=True));\n",
    "                            \n",
    "\n",
    "testing_data=[]\n",
    "testing_label=[]\n",
    "S=1.0\n",
    "read_testing_data();\n",
    "\n",
    "training_data=np.array(training_data)\n",
    "training_label=np.array(training_label)\n",
    "testing_data=np.array(testing_data)\n",
    "testing_label=np.array(testing_label)\n",
    "print(training_data)\n",
    "print(testing_data)\n",
    "print(training_label)\n",
    "print(testing_label)"
   ]
  },
  {
   "cell_type": "code",
   "execution_count": 4,
   "metadata": {
    "ExecuteTime": {
     "end_time": "2021-05-21T12:58:03.089506Z",
     "start_time": "2021-05-21T12:57:51.530007Z"
    }
   },
   "outputs": [
    {
     "name": "stdout",
     "output_type": "stream",
     "text": [
      "3.3731989354196426 2.999999999999999 0.37319893541964344\n"
     ]
    }
   ],
   "source": [
    "def h_3_star(a, b, t):\n",
    "    return a - min(a, t) + b - min(b, t) + max(min(a, t)+min(b, t), 2*t/3) + 1/2 * max(min(a, t)+min(b, t), t) - 1/2 * max(max(min(a, t), min(b, t)), 2*t/3) - t/6\n",
    "\n",
    "\n",
    "def f_function(a, b, z):\n",
    "    if(z >= 1):\n",
    "        return (a+b)/2 + z/3\n",
    "    else:\n",
    "        return z/3 + h_3_star(a, b, 1-z)/2\n",
    "\n",
    "def h_function(input_list):\n",
    "    #input_list = sorted(input_list)\n",
    "    g_list = []\n",
    "    for j1 in range(len(input_list) ):\n",
    "        for j2 in range(len(input_list)):\n",
    "            if(j1 != j2):\n",
    "                a = input_list[j1]\n",
    "                b = input_list[j2]\n",
    "                z = sum(input_list)- a-b\n",
    "\n",
    "                g_list.append( f_function(a, b, z) * (Agent_number_n-1))\n",
    "    h = sum(g_list) * 3 /  (Agent_number_n) /  (Agent_number_n-1) /  (Agent_number_n - 2)\n",
    "    return h\n",
    "                \n",
    "                \n",
    "x_list = []\n",
    "y_list = []\n",
    "z_list = []\n",
    "result_list = []\n",
    "training_supervised_label=[]\n",
    "for index in range(len(training_data)):\n",
    "    h_list = []\n",
    "    for i in range(Agent_number_n):\n",
    "        x_list.append(training_data[index][i][0])\n",
    "        y_list.append(training_data[index][i][1])\n",
    "        h = h_function(training_data[index][i])\n",
    "        z_list.append(float(h))\n",
    "        h_list.append(float(h))\n",
    "    training_supervised_label.append(h_list)\n",
    "    result_list.append(sum(h_list)/training_label[index]) \n",
    "    \n",
    "    \n",
    "print(max(result_list), min(result_list), max(result_list)-min(result_list))"
   ]
  },
  {
   "cell_type": "code",
   "execution_count": 5,
   "metadata": {
    "ExecuteTime": {
     "end_time": "2021-05-21T12:58:04.058556Z",
     "start_time": "2021-05-21T12:58:03.090502Z"
    }
   },
   "outputs": [
    {
     "data": {
      "image/png": "[encoded data removed]",
      "text/plain": [
       "<Figure size 432x288 with 1 Axes>"
      ]
     },
     "metadata": {
      "needs_background": "light"
     },
     "output_type": "display_data"
    }
   ],
   "source": [
    "plt.hist(result_list,bins=500)\n",
    "\n",
    "plt.title(\"Means\", y=1.015, fontsize=20)\n",
    "plt.axvline(x=sum(result_list)/len(result_list), linestyle='--', linewidth=2.5, label=\"sample mean\", c='orange')\n",
    "plt.xlabel(\"samples\", labelpad=14)\n",
    "plt.ylabel(\"frequency of occurence\", labelpad=14)\n",
    "plt.legend();\n",
    "\n",
    "result_list.sort()\n",
    "\n",
    "plt.axvline(x=result_list[int(len(result_list)*0.01)], linestyle='--', linewidth=0.5, label=\"1%\", c='b')\n",
    "plt.axvline(x=result_list[int(len(result_list)*0.99)], linestyle='--', linewidth=0.5, label=\"99%\", c='r')\n",
    "\n",
    "\n",
    "plt.show()"
   ]
  },
  {
   "cell_type": "code",
   "execution_count": 6,
   "metadata": {
    "ExecuteTime": {
     "end_time": "2021-05-21T12:58:04.073804Z",
     "start_time": "2021-05-21T12:58:04.060551Z"
    },
    "run_control": {
     "marked": true
    }
   },
   "outputs": [],
   "source": [
    "def weight_init(m):\n",
    "    if isinstance(m, torch.nn.Conv2d):\n",
    "        torch.nn.init.xavier_normal_(m.weight, gain=torch.nn.init.calculate_gain('relu'))\n",
    "        torch.nn.init.zeros_(m.bias)\n",
    "    elif isinstance(m, torch.nn.Linear):\n",
    "        torch.nn.init.xavier_normal_(m.weight, gain=torch.nn.init.calculate_gain('relu'))\n",
    "        torch.nn.init.uniform_(m.bias, a=-1.0, b=1.0)\n",
    "\n",
    "class Net(torch.nn.Module):\n",
    "    def __init__(self):\n",
    "\n",
    "        super(Net, self).__init__()\n",
    "        \n",
    "        self.input_dim = Agent_number_n-1\n",
    "        self.hidden_dim = 20\n",
    "        self.output_dim = 1\n",
    "        self.hidden_layer_count = 4 \n",
    "        \n",
    "        current_dim = self.input_dim\n",
    "        self.layers = torch.nn.ModuleList()\n",
    "        for i in range(self.hidden_layer_count):\n",
    "            self.layers.append(torch.nn.Linear(current_dim, self.hidden_dim))\n",
    "            current_dim = self.hidden_dim\n",
    "        self.layers.append(torch.nn.Linear(current_dim, self.output_dim))\n",
    "\n",
    "    def calculate(self, value_list):\n",
    "        h = value_list\n",
    "        for layer in self.layers:\n",
    "            h = torch.relu(layer(h))\n",
    "        return h\n",
    "\n",
    "    def forward(self, input_list,input_label):\n",
    "        global iteration,echo\n",
    "        loss1 = 0\n",
    "        loss2 = 0\n",
    "        input_list = torch.from_numpy(\n",
    "            np.array(input_list)).cuda().type(torch.float32)\n",
    "        h_list = []\n",
    "        for i in range(Agent_number_n):\n",
    "            h = self.calculate(input_list[i])\n",
    "            h_list.append(h)\n",
    "        \n",
    "        input_label = torch.from_numpy(\n",
    "            np.array(input_label)).cuda().type(torch.float32)\n",
    "        sum_h = torch.sum(torch.cat(h_list)).cuda()\n",
    "        \n",
    "        \n",
    "        loss1 = torch.where((Agent_number_n-1)*input_label>sum_h,\n",
    "                        torch.square((Agent_number_n-1)*input_label-sum_h),\n",
    "                        torch.zeros(1).cuda()\n",
    "                      )\n",
    "\n",
    "        loss2 = torch.where((Agent_number_n-Alpha)*input_label<sum_h,\n",
    "                        torch.square(sum_h-(Agent_number_n-Alpha)*input_label),\n",
    "                        torch.zeros(1).cuda()\n",
    "                      )\n",
    "                      \n",
    "\n",
    "        return loss1,loss2,h_list"
   ]
  },
  {
   "cell_type": "code",
   "execution_count": 7,
   "metadata": {
    "ExecuteTime": {
     "end_time": "2021-05-21T12:58:06.174188Z",
     "start_time": "2021-05-21T12:58:04.076508Z"
    }
   },
   "outputs": [
    {
     "data": {
      "text/plain": [
       "Net(\n",
       "  (layers): ModuleList(\n",
       "    (0): Linear(in_features=3, out_features=20, bias=True)\n",
       "    (1): Linear(in_features=20, out_features=20, bias=True)\n",
       "    (2): Linear(in_features=20, out_features=20, bias=True)\n",
       "    (3): Linear(in_features=20, out_features=20, bias=True)\n",
       "    (4): Linear(in_features=20, out_features=1, bias=True)\n",
       "  )\n",
       ")"
      ]
     },
     "execution_count": 7,
     "metadata": {},
     "output_type": "execute_result"
    }
   ],
   "source": [
    "random.seed(2000)\n",
    "torch.manual_seed(256)\n",
    "net  = Net()\n",
    "net.apply(weight_init)\n",
    "\n",
    "net = torch.load(\"save/Deep_learning_4\")\n",
    "net.to(dev)"
   ]
  },
  {
   "cell_type": "code",
   "execution_count": 8,
   "metadata": {
    "ExecuteTime": {
     "end_time": "2021-05-21T12:58:06.190145Z",
     "start_time": "2021-05-21T12:58:06.176183Z"
    },
    "run_control": {
     "marked": true
    }
   },
   "outputs": [],
   "source": [
    "#optimizer = opt.RMSprop(net.parameters(), lr=0.00001)\n",
    "#optimizer = opt.SGD(net.parameters(), lr=0.00001)\n",
    "optimizer = opt.Adam(net.parameters(), lr=0.00005)\n",
    "\n",
    "batch_size = 128\n",
    "echo = 10"
   ]
  },
  {
   "cell_type": "code",
   "execution_count": 9,
   "metadata": {
    "ExecuteTime": {
     "end_time": "2021-05-21T14:08:57.572492Z",
     "start_time": "2021-05-21T12:58:06.191142Z"
    }
   },
   "outputs": [
    {
     "name": "stdout",
     "output_type": "stream",
     "text": [
      "6096 tensor([0.0006], device='cuda:0', grad_fn=<DivBackward0>) 0.0 0.07892870903015137\n",
      "6858 tensor([3.0151e-05], device='cuda:0', grad_fn=<DivBackward0>) 0.0038593041244894266 0.0\n",
      "8763 tensor([2.4667e-05], device='cuda:0', grad_fn=<DivBackward0>) 0.003157317638397217 0.0\n",
      "10414 tensor([0.0003], device='cuda:0', grad_fn=<DivBackward0>) 0.0003346477751620114 0.04183473810553551\n",
      "11811 tensor([0.0001], device='cuda:0', grad_fn=<DivBackward0>) 0.0 0.014089942909777164\n",
      "17907 tensor([0.0014], device='cuda:0', grad_fn=<DivBackward0>) 0.17351919412612915 0.0010134262265637517\n",
      "23114 tensor([0.0001], device='cuda:0', grad_fn=<DivBackward0>) 0.018888656049966812 0.0\n",
      "26416 tensor([1.5088e-05], device='cuda:0', grad_fn=<DivBackward0>) 1.6933520328166196e-06 0.0019296192331239581\n",
      "29337 tensor([0.0001], device='cuda:0', grad_fn=<DivBackward0>) 0.0017701833276078105 0.015094384551048279\n",
      "32512 tensor([1.8990e-05], device='cuda:0', grad_fn=<DivBackward0>) 0.0024307703133672476 0.0\n",
      "33401 tensor([0.], device='cuda:0', grad_fn=<DivBackward0>) 0.0 0.0\n",
      "49149 tensor([0.], device='cuda:0', grad_fn=<DivBackward0>) 0.0 0.0\n",
      "batch iteration 0\n",
      "batch_loss: 0.00 \n",
      "\n",
      "381 tensor([0.0005], device='cuda:0', grad_fn=<DivBackward0>) 6.57264536130242e-05 0.06122449040412903\n",
      "3302 tensor([0.0005], device='cuda:0', grad_fn=<DivBackward0>) 0.0 0.05842813849449158\n",
      "18669 tensor([0.0003], device='cuda:0', grad_fn=<DivBackward0>) 0.0 0.04272863641381264\n",
      "20701 tensor([0.0008], device='cuda:0', grad_fn=<DivBackward0>) 0.06707318127155304 0.03032701462507248\n",
      "21844 tensor([3.1166e-06], device='cuda:0', grad_fn=<DivBackward0>) 0.0 0.000398919393774122\n",
      "23241 tensor([9.3370e-10], device='cuda:0', grad_fn=<DivBackward0>) 1.1951328815484885e-07 0.0\n",
      "23876 tensor([0.0005], device='cuda:0', grad_fn=<DivBackward0>) 0.059539079666137695 0.0\n",
      "25654 tensor([0.0002], device='cuda:0', grad_fn=<DivBackward0>) 0.0 0.031020941212773323\n",
      "49276 tensor([0.], device='cuda:0', grad_fn=<DivBackward0>) 0.0 0.0\n",
      "batch iteration 1\n",
      "batch_loss: 0.00 \n",
      "\n",
      "9144 tensor([9.3186e-07], device='cuda:0', grad_fn=<DivBackward0>) 0.00011927868763450533 0.0\n",
      "12827 tensor([0.], device='cuda:0', grad_fn=<DivBackward0>) 0.0 0.0\n",
      "17653 tensor([0.], device='cuda:0', grad_fn=<DivBackward0>) 0.0 0.0\n",
      "37211 tensor([6.5746e-05], device='cuda:0', grad_fn=<DivBackward0>) 0.0 0.008415460586547852\n",
      "37338 tensor([6.4858e-07], device='cuda:0', grad_fn=<DivBackward0>) 8.301768684759736e-05 0.0\n",
      "39624 tensor([0.], device='cuda:0', grad_fn=<DivBackward0>) 0.0 0.0\n",
      "47879 tensor([5.5382e-05], device='cuda:0', grad_fn=<DivBackward0>) 0.0 0.007088923826813698\n",
      "batch iteration 2\n",
      "batch_loss: 0.00 \n",
      "\n",
      "5461 tensor([1.5251e-05], device='cuda:0', grad_fn=<DivBackward0>) 0.0019521715585142374 0.0\n",
      "7239 tensor([4.6188e-07], device='cuda:0', grad_fn=<DivBackward0>) 5.9120709920534864e-05 0.0\n",
      "10287 tensor([0.], device='cuda:0', grad_fn=<DivBackward0>) 0.0 0.0\n",
      "11176 tensor([0.], device='cuda:0', grad_fn=<DivBackward0>) 0.0 0.0\n",
      "15240 tensor([4.0395e-05], device='cuda:0', grad_fn=<DivBackward0>) 0.00517051387578249 0.0\n",
      "22352 tensor([0.], device='cuda:0', grad_fn=<DivBackward0>) 0.0 0.0\n",
      "22606 tensor([0.0003], device='cuda:0', grad_fn=<DivBackward0>) 0.0 0.03797784447669983\n",
      "22987 tensor([0.0003], device='cuda:0', grad_fn=<DivBackward0>) 0.0 0.04243665188550949\n",
      "31877 tensor([1.9858e-06], device='cuda:0', grad_fn=<DivBackward0>) 0.000254180864430964 0.0\n",
      "35687 tensor([1.9437e-06], device='cuda:0', grad_fn=<DivBackward0>) 0.0 0.0002487968886271119\n",
      "41148 tensor([0.], device='cuda:0', grad_fn=<DivBackward0>) 0.0 0.0\n",
      "46990 tensor([0.], device='cuda:0', grad_fn=<DivBackward0>) 0.0 0.0\n",
      "batch iteration 3\n",
      "batch_loss: 0.00 \n",
      "\n",
      "6985 tensor([0.], device='cuda:0', grad_fn=<DivBackward0>) 0.0 0.0\n",
      "9652 tensor([0.0006], device='cuda:0', grad_fn=<DivBackward0>) 0.05600457265973091 0.02433820068836212\n",
      "16383 tensor([0.], device='cuda:0', grad_fn=<DivBackward0>) 0.0 0.0\n",
      "20574 tensor([0.], device='cuda:0', grad_fn=<DivBackward0>) 0.0 0.0\n",
      "33147 tensor([0.], device='cuda:0', grad_fn=<DivBackward0>) 0.0 0.0\n",
      "34417 tensor([1.8696e-07], device='cuda:0', grad_fn=<DivBackward0>) 2.393041540926788e-05 0.0\n",
      "36703 tensor([0.0002], device='cuda:0', grad_fn=<DivBackward0>) 0.0 0.025920072570443153\n",
      "40386 tensor([0.], device='cuda:0', grad_fn=<DivBackward0>) 0.0 0.0\n",
      "48387 tensor([3.2458e-07], device='cuda:0', grad_fn=<DivBackward0>) 0.0 4.15463546232786e-05\n",
      "batch iteration 4\n",
      "batch_loss: 0.00 \n",
      "\n",
      "7874 tensor([0.], device='cuda:0', grad_fn=<DivBackward0>) 0.0 0.0\n",
      "8509 tensor([0.0001], device='cuda:0', grad_fn=<DivBackward0>) 0.018390100449323654 0.0\n",
      "9779 tensor([7.2456e-05], device='cuda:0', grad_fn=<DivBackward0>) 0.0 0.009274411015212536\n",
      "21844 tensor([0.], device='cuda:0', grad_fn=<DivBackward0>) 0.0 0.0\n",
      "26035 tensor([4.7476e-06], device='cuda:0', grad_fn=<DivBackward0>) 0.0 0.0006076978170312941\n",
      "27940 tensor([0.], device='cuda:0', grad_fn=<DivBackward0>) 0.0 0.0\n",
      "42291 tensor([0.], device='cuda:0', grad_fn=<DivBackward0>) 0.0 0.0\n",
      "batch iteration 5\n",
      "batch_loss: 0.00 \n",
      "\n",
      "3683 tensor([0.], device='cuda:0', grad_fn=<DivBackward0>) 0.0 0.0\n",
      "10795 tensor([5.6770e-05], device='cuda:0', grad_fn=<DivBackward0>) 0.0 0.007266529370099306\n",
      "20447 tensor([0.], device='cuda:0', grad_fn=<DivBackward0>) 0.0 0.0\n",
      "23622 tensor([0.], device='cuda:0', grad_fn=<DivBackward0>) 0.0 0.0\n",
      "26162 tensor([0.], device='cuda:0', grad_fn=<DivBackward0>) 0.0 0.0\n",
      "32639 tensor([0.], device='cuda:0', grad_fn=<DivBackward0>) 0.0 0.0\n",
      "38481 tensor([3.2736e-05], device='cuda:0', grad_fn=<DivBackward0>) 0.004190199542790651 0.0\n",
      "45466 tensor([0.], device='cuda:0', grad_fn=<DivBackward0>) 0.0 0.0\n",
      "batch iteration 6\n",
      "batch_loss: 0.00 \n",
      "\n",
      "3175 tensor([0.], device='cuda:0', grad_fn=<DivBackward0>) 0.0 0.0\n",
      "14351 tensor([0.], device='cuda:0', grad_fn=<DivBackward0>) 0.0 0.0\n",
      "15748 tensor([0.], device='cuda:0', grad_fn=<DivBackward0>) 0.0 0.0\n",
      "25400 tensor([0.], device='cuda:0', grad_fn=<DivBackward0>) 0.0 0.0\n",
      "29845 tensor([0.], device='cuda:0', grad_fn=<DivBackward0>) 0.0 0.0\n",
      "40513 tensor([0.], device='cuda:0', grad_fn=<DivBackward0>) 0.0 0.0\n",
      "48387 tensor([0.], device='cuda:0', grad_fn=<DivBackward0>) 0.0 0.0\n",
      "batch iteration 7\n",
      "batch_loss: 0.00 \n",
      "\n",
      "13335 tensor([0.], device='cuda:0', grad_fn=<DivBackward0>) 0.0 0.0\n",
      "16256 tensor([0.], device='cuda:0', grad_fn=<DivBackward0>) 0.0 0.0\n",
      "22606 tensor([7.2989e-05], device='cuda:0', grad_fn=<DivBackward0>) 0.0 0.009342582896351814\n",
      "38608 tensor([1.3052e-05], device='cuda:0', grad_fn=<DivBackward0>) 0.001670622848905623 0.0\n",
      "40132 tensor([0.], device='cuda:0', grad_fn=<DivBackward0>) 0.0 0.0\n",
      "40259 tensor([0.], device='cuda:0', grad_fn=<DivBackward0>) 0.0 0.0\n",
      "batch iteration 8\n",
      "batch_loss: 0.00 \n",
      "\n",
      "127 tensor([3.7279e-06], device='cuda:0', grad_fn=<DivBackward0>) 0.0 0.00047717723646201193\n",
      "12573 tensor([0.], device='cuda:0', grad_fn=<DivBackward0>) 0.0 0.0\n",
      "21717 tensor([0.], device='cuda:0', grad_fn=<DivBackward0>) 0.0 0.0\n",
      "36576 tensor([0.], device='cuda:0', grad_fn=<DivBackward0>) 0.0 0.0\n",
      "37211 tensor([0.], device='cuda:0', grad_fn=<DivBackward0>) 0.0 0.0\n",
      "41656 tensor([0.], device='cuda:0', grad_fn=<DivBackward0>) 0.0 0.0\n",
      "batch iteration 9\n",
      "batch_loss: 0.00 \n",
      "\n",
      "2032 tensor([1.4533e-06], device='cuda:0', grad_fn=<DivBackward0>) 0.0 0.00018602808995638043\n",
      "6985 tensor([2.9137e-06], device='cuda:0', grad_fn=<DivBackward0>) 0.0003729496675077826 0.0\n",
      "8890 tensor([0.], device='cuda:0', grad_fn=<DivBackward0>) 0.0 0.0\n",
      "10922 tensor([1.2153e-05], device='cuda:0', grad_fn=<DivBackward0>) 0.0015555634163320065 0.0\n",
      "20066 tensor([0.], device='cuda:0', grad_fn=<DivBackward0>) 0.0 0.0\n",
      "24638 tensor([0.], device='cuda:0', grad_fn=<DivBackward0>) 0.0 0.0\n",
      "25908 tensor([0.], device='cuda:0', grad_fn=<DivBackward0>) 0.0 0.0\n",
      "batch iteration 10\n",
      "batch_loss: 0.00 \n",
      "\n",
      "2413 tensor([0.], device='cuda:0', grad_fn=<DivBackward0>) 0.0 0.0\n",
      "24765 tensor([0.], device='cuda:0', grad_fn=<DivBackward0>) 0.0 0.0\n",
      "29718 tensor([0.], device='cuda:0', grad_fn=<DivBackward0>) 0.0 0.0\n",
      "38227 tensor([0.], device='cuda:0', grad_fn=<DivBackward0>) 0.0 0.0\n",
      "batch iteration 11\n",
      "batch_loss: 0.00 \n",
      "\n",
      "3683 tensor([0.], device='cuda:0', grad_fn=<DivBackward0>) 0.0 0.0\n",
      "22606 tensor([5.4367e-06], device='cuda:0', grad_fn=<DivBackward0>) 0.0 0.0006958951125852764\n",
      "25273 tensor([0.], device='cuda:0', grad_fn=<DivBackward0>) 0.0 0.0\n"
     ]
    },
    {
     "name": "stdout",
     "output_type": "stream",
     "text": [
      "25908 tensor([0.], device='cuda:0', grad_fn=<DivBackward0>) 0.0 0.0\n",
      "33274 tensor([0.], device='cuda:0', grad_fn=<DivBackward0>) 0.0 0.0\n",
      "36195 tensor([0.], device='cuda:0', grad_fn=<DivBackward0>) 0.0 0.0\n",
      "36449 tensor([0.], device='cuda:0', grad_fn=<DivBackward0>) 0.0 0.0\n",
      "49999 tensor([8.5837e-09], device='cuda:0', grad_fn=<DivBackward0>) 7.639503110112855e-07 0.0\n",
      "batch iteration 12\n",
      "batch_loss: 0.00 \n",
      "\n",
      "3810 tensor([0.], device='cuda:0', grad_fn=<DivBackward0>) 0.0 0.0\n",
      "6350 tensor([1.0252e-07], device='cuda:0', grad_fn=<DivBackward0>) 1.3122737072990276e-05 0.0\n",
      "7493 tensor([0.], device='cuda:0', grad_fn=<DivBackward0>) 0.0 0.0\n",
      "9398 tensor([0.], device='cuda:0', grad_fn=<DivBackward0>) 0.0 0.0\n",
      "13081 tensor([0.], device='cuda:0', grad_fn=<DivBackward0>) 0.0 0.0\n",
      "28829 tensor([0.], device='cuda:0', grad_fn=<DivBackward0>) 0.0 0.0\n",
      "37211 tensor([0.], device='cuda:0', grad_fn=<DivBackward0>) 0.0 0.0\n",
      "37465 tensor([0.], device='cuda:0', grad_fn=<DivBackward0>) 0.0 0.0\n",
      "39624 tensor([0.], device='cuda:0', grad_fn=<DivBackward0>) 0.0 0.0\n",
      "41021 tensor([0.], device='cuda:0', grad_fn=<DivBackward0>) 0.0 0.0\n",
      "batch iteration 13\n",
      "batch_loss: 0.00 \n",
      "\n",
      "3683 tensor([0.], device='cuda:0', grad_fn=<DivBackward0>) 0.0 0.0\n",
      "6858 tensor([0.], device='cuda:0', grad_fn=<DivBackward0>) 0.0 0.0\n",
      "15494 tensor([0.], device='cuda:0', grad_fn=<DivBackward0>) 0.0 0.0\n",
      "21336 tensor([0.], device='cuda:0', grad_fn=<DivBackward0>) 0.0 0.0\n",
      "28829 tensor([0.], device='cuda:0', grad_fn=<DivBackward0>) 0.0 0.0\n",
      "34798 tensor([0.], device='cuda:0', grad_fn=<DivBackward0>) 0.0 0.0\n",
      "38608 tensor([0.], device='cuda:0', grad_fn=<DivBackward0>) 0.0 0.0\n",
      "48641 tensor([0.], device='cuda:0', grad_fn=<DivBackward0>) 0.0 0.0\n",
      "batch iteration 14\n",
      "batch_loss: 0.00 \n",
      "\n",
      "6223 tensor([0.], device='cuda:0', grad_fn=<DivBackward0>) 0.0 0.0\n",
      "27051 tensor([0.], device='cuda:0', grad_fn=<DivBackward0>) 0.0 0.0\n",
      "35306 tensor([0.], device='cuda:0', grad_fn=<DivBackward0>) 0.0 0.0\n",
      "39243 tensor([0.], device='cuda:0', grad_fn=<DivBackward0>) 0.0 0.0\n",
      "45212 tensor([0.], device='cuda:0', grad_fn=<DivBackward0>) 0.0 0.0\n",
      "47752 tensor([0.], device='cuda:0', grad_fn=<DivBackward0>) 0.0 0.0\n",
      "47879 tensor([0.], device='cuda:0', grad_fn=<DivBackward0>) 0.0 0.0\n",
      "batch iteration 15\n",
      "batch_loss: 0.00 \n",
      "\n",
      "7874 tensor([0.], device='cuda:0', grad_fn=<DivBackward0>) 0.0 0.0\n",
      "8255 tensor([0.], device='cuda:0', grad_fn=<DivBackward0>) 0.0 0.0\n",
      "10668 tensor([0.], device='cuda:0', grad_fn=<DivBackward0>) 0.0 0.0\n",
      "11430 tensor([0.], device='cuda:0', grad_fn=<DivBackward0>) 0.0 0.0\n",
      "11557 tensor([0.], device='cuda:0', grad_fn=<DivBackward0>) 0.0 0.0\n",
      "20193 tensor([0.], device='cuda:0', grad_fn=<DivBackward0>) 0.0 0.0\n",
      "29464 tensor([0.], device='cuda:0', grad_fn=<DivBackward0>) 0.0 0.0\n",
      "30226 tensor([0.], device='cuda:0', grad_fn=<DivBackward0>) 0.0 0.0\n",
      "32385 tensor([0.], device='cuda:0', grad_fn=<DivBackward0>) 0.0 0.0\n",
      "33274 tensor([0.], device='cuda:0', grad_fn=<DivBackward0>) 0.0 0.0\n",
      "42799 tensor([0.], device='cuda:0', grad_fn=<DivBackward0>) 0.0 0.0\n",
      "batch iteration 16\n",
      "batch_loss: 0.00 \n",
      "\n",
      "8382 tensor([0.], device='cuda:0', grad_fn=<DivBackward0>) 0.0 0.0\n",
      "12954 tensor([0.], device='cuda:0', grad_fn=<DivBackward0>) 0.0 0.0\n",
      "18542 tensor([0.], device='cuda:0', grad_fn=<DivBackward0>) 0.0 0.0\n",
      "20701 tensor([8.7412e-07], device='cuda:0', grad_fn=<DivBackward0>) 0.00011188728967681527 0.0\n",
      "22098 tensor([0.], device='cuda:0', grad_fn=<DivBackward0>) 0.0 0.0\n",
      "38608 tensor([0.], device='cuda:0', grad_fn=<DivBackward0>) 0.0 0.0\n",
      "41275 tensor([0.], device='cuda:0', grad_fn=<DivBackward0>) 0.0 0.0\n",
      "44704 tensor([0.], device='cuda:0', grad_fn=<DivBackward0>) 0.0 0.0\n",
      "46482 tensor([0.], device='cuda:0', grad_fn=<DivBackward0>) 0.0 0.0\n",
      "batch iteration 17\n",
      "batch_loss: 0.00 \n",
      "\n",
      "22352 tensor([0.], device='cuda:0', grad_fn=<DivBackward0>) 0.0 0.0\n",
      "24892 tensor([0.], device='cuda:0', grad_fn=<DivBackward0>) 0.0 0.0\n",
      "26924 tensor([0.], device='cuda:0', grad_fn=<DivBackward0>) 0.0 0.0\n",
      "31496 tensor([0.], device='cuda:0', grad_fn=<DivBackward0>) 0.0 0.0\n",
      "38227 tensor([0.], device='cuda:0', grad_fn=<DivBackward0>) 0.0 0.0\n",
      "49149 tensor([0.], device='cuda:0', grad_fn=<DivBackward0>) 0.0 0.0\n",
      "batch iteration 18\n",
      "batch_loss: 0.00 \n",
      "\n",
      "1778 tensor([0.], device='cuda:0', grad_fn=<DivBackward0>) 0.0 0.0\n",
      "4191 tensor([0.], device='cuda:0', grad_fn=<DivBackward0>) 0.0 0.0\n",
      "19177 tensor([0.], device='cuda:0', grad_fn=<DivBackward0>) 0.0 0.0\n",
      "42926 tensor([0.], device='cuda:0', grad_fn=<DivBackward0>) 0.0 0.0\n",
      "43561 tensor([0.], device='cuda:0', grad_fn=<DivBackward0>) 0.0 0.0\n",
      "45339 tensor([0.], device='cuda:0', grad_fn=<DivBackward0>) 0.0 0.0\n",
      "48006 tensor([0.], device='cuda:0', grad_fn=<DivBackward0>) 0.0 0.0\n",
      "batch iteration 19\n",
      "batch_loss: 0.00 \n",
      "\n"
     ]
    }
   ],
   "source": [
    "for iteration in range(int(echo)):\n",
    "    # offender_types = []\n",
    "    # defender_types = []\n",
    "    \n",
    "    \n",
    "    X_train_list = []\n",
    "    temp_number = 0\n",
    "    total_batch_loss = 0 \n",
    "    while(temp_number<len(training_data)-1):\n",
    "        loss2_list = []\n",
    "        loss1_sum = 0\n",
    "        loss2_sum = 0\n",
    "        denominator = 0\n",
    "        for index in range(temp_number, min(batch_size+temp_number,len(training_data))):\n",
    "            h_loss1,h_loss2,h_list = net(training_data[index],training_label[index])\n",
    "            denominator += 1\n",
    "            loss1_sum += h_loss1\n",
    "            loss2_sum += h_loss2\n",
    "            \n",
    "        loss_sum = loss1_sum + loss2_sum\n",
    "        loss = (loss_sum) / denominator \n",
    "        total_batch_loss +=float(loss_sum)\n",
    "        optimizer.zero_grad()\n",
    "        \n",
    "        loss.backward()\n",
    "        \n",
    "        optimizer.step()\n",
    "        \n",
    "        temp_number = index\n",
    "        \n",
    "        if(random.random()<=0.02):\n",
    "            print(temp_number,loss,float(loss1_sum),float(loss2_sum))\n",
    "\n",
    "\n",
    "    print(\"batch iteration\", iteration)\n",
    "    print(\"batch_loss: %.2f \" % (total_batch_loss/len(training_data)))\n",
    "    \n",
    "    print()"
   ]
  },
  {
   "cell_type": "code",
   "execution_count": 10,
   "metadata": {
    "ExecuteTime": {
     "end_time": "2021-05-21T14:08:57.603409Z",
     "start_time": "2021-05-21T14:08:57.577479Z"
    }
   },
   "outputs": [],
   "source": [
    "torch.save(net, \"save/Deep_learning_4\")"
   ]
  },
  {
   "cell_type": "code",
   "execution_count": 11,
   "metadata": {
    "ExecuteTime": {
     "end_time": "2021-05-21T14:10:35.500458Z",
     "start_time": "2021-05-21T14:08:57.604407Z"
    }
   },
   "outputs": [],
   "source": [
    "denominator = 0\n",
    "result_list = []\n",
    "for index in range(len(testing_data)):\n",
    "    h_list = []\n",
    "    for i in range(Agent_number_n):\n",
    "        h = net.calculate(torch.tensor(testing_data[index][i]).cuda().type(torch.float32))\n",
    "        h_list.append(float(h))\n",
    "    \n",
    "    #print(sum(h_list),h_list,sum(h_list)/testing_label[index])\n",
    "    result_list.append(sum(h_list)/testing_label[index])\n",
    "    \n",
    "\n"
   ]
  },
  {
   "cell_type": "code",
   "execution_count": 12,
   "metadata": {
    "ExecuteTime": {
     "end_time": "2021-05-21T14:10:35.516200Z",
     "start_time": "2021-05-21T14:10:35.502158Z"
    }
   },
   "outputs": [
    {
     "name": "stdout",
     "output_type": "stream",
     "text": [
      "tensor([0.9620, 0.8033, 0.2743], device='cuda:0')\n"
     ]
    }
   ],
   "source": [
    "print(torch.tensor(testing_data[2][i]).cuda().type(torch.float32))"
   ]
  },
  {
   "cell_type": "code",
   "execution_count": 13,
   "metadata": {
    "ExecuteTime": {
     "end_time": "2021-05-21T14:10:35.531425Z",
     "start_time": "2021-05-21T14:10:35.517171Z"
    }
   },
   "outputs": [
    {
     "name": "stdout",
     "output_type": "stream",
     "text": [
      "tensor([2.3324], device='cuda:0', grad_fn=<ReluBackward0>)\n"
     ]
    }
   ],
   "source": [
    "h = net.calculate(torch.tensor(testing_data[2][i]).cuda().type(torch.float32))\n",
    "print(h)"
   ]
  },
  {
   "cell_type": "code",
   "execution_count": 14,
   "metadata": {
    "ExecuteTime": {
     "end_time": "2021-05-21T14:10:35.562945Z",
     "start_time": "2021-05-21T14:10:35.533449Z"
    }
   },
   "outputs": [
    {
     "name": "stdout",
     "output_type": "stream",
     "text": [
      "3.70862478017807 2.9273587465286255 0.7812660336494446\n"
     ]
    }
   ],
   "source": [
    "print(max(result_list),min(result_list),max(result_list)-min(result_list))"
   ]
  },
  {
   "cell_type": "code",
   "execution_count": 15,
   "metadata": {
    "ExecuteTime": {
     "end_time": "2021-05-21T14:10:36.667372Z",
     "start_time": "2021-05-21T14:10:35.564430Z"
    }
   },
   "outputs": [
    {
     "data": {
      "image/png": "[encoded data removed]",
      "text/plain": [
       "<Figure size 432x288 with 1 Axes>"
      ]
     },
     "metadata": {
      "needs_background": "light"
     },
     "output_type": "display_data"
    }
   ],
   "source": [
    "plt.hist(result_list,bins=500)\n",
    "\n",
    "plt.title(\"Means\", y=1.015, fontsize=20)\n",
    "plt.axvline(x=sum(result_list)/len(result_list), linestyle='--', linewidth=2.5, label=\"sample mean\", c='orange')\n",
    "plt.xlabel(\"samples\", labelpad=14)\n",
    "plt.ylabel(\"frequency of occurence\", labelpad=14)\n",
    "plt.legend();\n",
    "\n",
    "result_list.sort()\n",
    "\n",
    "plt.axvline(x=result_list[int(len(result_list)*0.001)], linestyle='--', linewidth=0.5, label=\"0.1%\", c='b')\n",
    "plt.axvline(x=result_list[int(len(result_list)*0.999)], linestyle='--', linewidth=0.5, label=\"99%\", c='r')\n",
    "\n",
    "\n",
    "plt.show()"
   ]
  },
  {
   "cell_type": "code",
   "execution_count": null,
   "metadata": {},
   "outputs": [],
   "source": []
  },
  {
   "cell_type": "code",
   "execution_count": null,
   "metadata": {},
   "outputs": [],
   "source": []
  }
 ],
 "metadata": {
  "hide_input": false,
  "kernelspec": {
   "display_name": "Python 3",
   "language": "python",
   "name": "python3"
  },
  "language_info": {
   "codemirror_mode": {
    "name": "ipython",
    "version": 3
   },
   "file_extension": ".py",
   "mimetype": "text/x-python",
   "name": "python",
   "nbconvert_exporter": "python",
   "pygments_lexer": "ipython3",
   "version": "3.8.3"
  },
  "varInspector": {
   "cols": {
    "lenName": 16,
    "lenType": 16,
    "lenVar": 40
   },
   "kernels_config": {
    "python": {
     "delete_cmd_postfix": "",
     "delete_cmd_prefix": "del ",
     "library": "var_list.py",
     "varRefreshCmd": "print(var_dic_list())"
    },
    "r": {
     "delete_cmd_postfix": ") ",
     "delete_cmd_prefix": "rm(",
     "library": "var_list.r",
     "varRefreshCmd": "cat(var_dic_list()) "
    }
   },
   "types_to_exclude": [
    "module",
    "function",
    "builtin_function_or_method",
    "instance",
    "_Feature"
   ],
   "window_display": false
  }
 },
 "nbformat": 4,
 "nbformat_minor": 4
}
