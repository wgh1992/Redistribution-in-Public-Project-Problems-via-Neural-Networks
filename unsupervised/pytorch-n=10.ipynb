{
 "cells": [
  {
   "cell_type": "code",
   "execution_count": 1,
   "metadata": {
    "ExecuteTime": {
     "end_time": "2021-05-12T07:08:15.723967Z",
     "start_time": "2021-05-12T07:08:13.958112Z"
    }
   },
   "outputs": [
    {
     "name": "stdout",
     "output_type": "stream",
     "text": [
      "pygame 2.0.1 (SDL 2.0.14, Python 3.8.3)\n",
      "Hello from the pygame community. https://www.pygame.org/contribute.html\n"
     ]
    },
    {
     "name": "stderr",
     "output_type": "stream",
     "text": [
      "D:\\ComputerSoftwares\\Anaconda\\lib\\site-packages\\sklearn\\utils\\deprecation.py:143: FutureWarning: The sklearn.datasets.samples_generator module is  deprecated in version 0.22 and will be removed in version 0.24. The corresponding classes / functions should instead be imported from sklearn.datasets. Anything that cannot be imported from sklearn.datasets is now part of the private API.\n",
      "  warnings.warn(message, FutureWarning)\n"
     ]
    }
   ],
   "source": [
    "\"\"\"\n",
    "The classic game of flappy bird. Make with python\n",
    "and pygame. Features pixel perfect collision using masks :o\n",
    "Date Modified:  Jul 30, 2019\n",
    "Author: Tech With Tim\n",
    "Estimated Work Time: 5 hours (1 just for that damn collision)\n",
    "\"\"\"\n",
    "import pygame\n",
    "import random\n",
    "import os\n",
    "import time\n",
    "import numpy as np\n",
    "import math\n",
    "import torch\n",
    "import torch.nn.functional\n",
    "import matplotlib.pyplot as plt\n",
    "import torch.optim as opt\n",
    "from torch.autograd import Variable\n",
    "from sklearn.model_selection import train_test_split\n",
    "\n",
    "import scipy.stats as st\n",
    "from sklearn.datasets.samples_generator import make_blobs\n",
    "from matplotlib.colors import LogNorm \n",
    "import matplotlib.cm as cm"
   ]
  },
  {
   "cell_type": "code",
   "execution_count": 2,
   "metadata": {
    "ExecuteTime": {
     "end_time": "2021-05-12T07:08:20.512929Z",
     "start_time": "2021-05-12T07:08:15.725962Z"
    }
   },
   "outputs": [],
   "source": [
    "Agent_number_n=10;\n",
    "Alpha = (1-0.882);\n",
    "\n",
    "global temp_list\n",
    "temp_list = []\n",
    "def appen(_x_list,y):\n",
    "    global temp_list\n",
    "    temp_list.append(_x_list)\n",
    "    \n",
    "def appen_train(x_list):\n",
    "    global temp_list\n",
    "                \n",
    "    S= max(sum(x_list),1.0);\n",
    "    temp_list = []\n",
    "    \n",
    "    for i in range(Agent_number_n):\n",
    "        temp = []\n",
    "        for j in range(Agent_number_n):\n",
    "            if(i!=j):\n",
    "                temp.append(x_list[j])\n",
    "        appen(temp,S)\n",
    "    \n",
    "    training_data.append(temp_list)\n",
    "    training_label.append(S)\n",
    "    \n",
    "\n",
    "def read_training_data():\n",
    "    for i in range(50000):\n",
    "        appen_train(np.random.rand(Agent_number_n));\n",
    "\n",
    "training_data=[]\n",
    "training_label=[]\n",
    "S=1.0\n",
    "read_training_data();\n",
    "\n",
    "def appen_test(x_list):\n",
    "    global temp_list\n",
    "                \n",
    "    S= max(sum(x_list),1.0);\n",
    "    temp_list = []\n",
    "    \n",
    "    for i in range(Agent_number_n):\n",
    "        temp = []\n",
    "        for j in range(Agent_number_n):\n",
    "            if(i!=j):\n",
    "                temp.append(x_list[j])\n",
    "        appen(temp,S)\n",
    "    testing_data.append(temp_list)\n",
    "    testing_label.append(S)\n",
    "    \n",
    "\n",
    "def read_testing_data():\n",
    "#     devided=20\n",
    "#     for i1 in range(devided+1):\n",
    "#         for i2 in range(i1+1):\n",
    "#             for i3 in range(i2+1):\n",
    "#                 appen_test(i1/devided,i2/devided,i3/devided);\n",
    "    for i in range(50000):\n",
    "        appen_test(np.random.rand(Agent_number_n));\n",
    "                            \n",
    "\n",
    "testing_data=[]\n",
    "testing_label=[]\n",
    "S=1.0\n",
    "read_testing_data();"
   ]
  },
  {
   "cell_type": "code",
   "execution_count": 3,
   "metadata": {
    "ExecuteTime": {
     "end_time": "2021-05-12T07:08:22.785186Z",
     "start_time": "2021-05-12T07:08:20.512929Z"
    }
   },
   "outputs": [
    {
     "name": "stdout",
     "output_type": "stream",
     "text": [
      "[[[0.81511945 0.3396833  0.45888269 ... 0.2209894  0.54489236 0.08852149]\n",
      "  [0.93771476 0.3396833  0.45888269 ... 0.2209894  0.54489236 0.08852149]\n",
      "  [0.93771476 0.81511945 0.45888269 ... 0.2209894  0.54489236 0.08852149]\n",
      "  ...\n",
      "  [0.93771476 0.81511945 0.3396833  ... 0.520938   0.54489236 0.08852149]\n",
      "  [0.93771476 0.81511945 0.3396833  ... 0.520938   0.2209894  0.08852149]\n",
      "  [0.93771476 0.81511945 0.3396833  ... 0.520938   0.2209894  0.54489236]]\n",
      "\n",
      " [[0.86281336 0.21031825 0.79541202 ... 0.5584279  0.15129679 0.80217793]\n",
      "  [0.44663432 0.21031825 0.79541202 ... 0.5584279  0.15129679 0.80217793]\n",
      "  [0.44663432 0.86281336 0.79541202 ... 0.5584279  0.15129679 0.80217793]\n",
      "  ...\n",
      "  [0.44663432 0.86281336 0.21031825 ... 0.45101672 0.15129679 0.80217793]\n",
      "  [0.44663432 0.86281336 0.21031825 ... 0.45101672 0.5584279  0.80217793]\n",
      "  [0.44663432 0.86281336 0.21031825 ... 0.45101672 0.5584279  0.15129679]]\n",
      "\n",
      " [[0.47958595 0.47921349 0.18712731 ... 0.45541222 0.48153191 0.55202996]\n",
      "  [0.12139634 0.47921349 0.18712731 ... 0.45541222 0.48153191 0.55202996]\n",
      "  [0.12139634 0.47958595 0.18712731 ... 0.45541222 0.48153191 0.55202996]\n",
      "  ...\n",
      "  [0.12139634 0.47958595 0.47921349 ... 0.80671578 0.48153191 0.55202996]\n",
      "  [0.12139634 0.47958595 0.47921349 ... 0.80671578 0.45541222 0.55202996]\n",
      "  [0.12139634 0.47958595 0.47921349 ... 0.80671578 0.45541222 0.48153191]]\n",
      "\n",
      " ...\n",
      "\n",
      " [[0.53285448 0.31497102 0.81467526 ... 0.03032146 0.30117372 0.12259059]\n",
      "  [0.85210041 0.31497102 0.81467526 ... 0.03032146 0.30117372 0.12259059]\n",
      "  [0.85210041 0.53285448 0.81467526 ... 0.03032146 0.30117372 0.12259059]\n",
      "  ...\n",
      "  [0.85210041 0.53285448 0.31497102 ... 0.80308439 0.30117372 0.12259059]\n",
      "  [0.85210041 0.53285448 0.31497102 ... 0.80308439 0.03032146 0.12259059]\n",
      "  [0.85210041 0.53285448 0.31497102 ... 0.80308439 0.03032146 0.30117372]]\n",
      "\n",
      " [[0.01033805 0.32011863 0.74964735 ... 0.37490473 0.08911732 0.17492974]\n",
      "  [0.29847197 0.32011863 0.74964735 ... 0.37490473 0.08911732 0.17492974]\n",
      "  [0.29847197 0.01033805 0.74964735 ... 0.37490473 0.08911732 0.17492974]\n",
      "  ...\n",
      "  [0.29847197 0.01033805 0.32011863 ... 0.89331894 0.08911732 0.17492974]\n",
      "  [0.29847197 0.01033805 0.32011863 ... 0.89331894 0.37490473 0.17492974]\n",
      "  [0.29847197 0.01033805 0.32011863 ... 0.89331894 0.37490473 0.08911732]]\n",
      "\n",
      " [[0.05439813 0.26731608 0.06681898 ... 0.67375209 0.06232888 0.85809806]\n",
      "  [0.47020522 0.26731608 0.06681898 ... 0.67375209 0.06232888 0.85809806]\n",
      "  [0.47020522 0.05439813 0.06681898 ... 0.67375209 0.06232888 0.85809806]\n",
      "  ...\n",
      "  [0.47020522 0.05439813 0.26731608 ... 0.12437891 0.06232888 0.85809806]\n",
      "  [0.47020522 0.05439813 0.26731608 ... 0.12437891 0.67375209 0.85809806]\n",
      "  [0.47020522 0.05439813 0.26731608 ... 0.12437891 0.67375209 0.06232888]]]\n",
      "[[[0.86712311 0.3410754  0.5682937  ... 0.82168805 0.55806908 0.02738161]\n",
      "  [0.41488722 0.3410754  0.5682937  ... 0.82168805 0.55806908 0.02738161]\n",
      "  [0.41488722 0.86712311 0.5682937  ... 0.82168805 0.55806908 0.02738161]\n",
      "  ...\n",
      "  [0.41488722 0.86712311 0.3410754  ... 0.77976223 0.55806908 0.02738161]\n",
      "  [0.41488722 0.86712311 0.3410754  ... 0.77976223 0.82168805 0.02738161]\n",
      "  [0.41488722 0.86712311 0.3410754  ... 0.77976223 0.82168805 0.55806908]]\n",
      "\n",
      " [[0.8517983  0.60096255 0.44915675 ... 0.78616509 0.13397257 0.56381477]\n",
      "  [0.03025392 0.60096255 0.44915675 ... 0.78616509 0.13397257 0.56381477]\n",
      "  [0.03025392 0.8517983  0.44915675 ... 0.78616509 0.13397257 0.56381477]\n",
      "  ...\n",
      "  [0.03025392 0.8517983  0.60096255 ... 0.33165371 0.13397257 0.56381477]\n",
      "  [0.03025392 0.8517983  0.60096255 ... 0.33165371 0.78616509 0.56381477]\n",
      "  [0.03025392 0.8517983  0.60096255 ... 0.33165371 0.78616509 0.13397257]]\n",
      "\n",
      " [[0.28426311 0.1997869  0.76044526 ... 0.27267272 0.1092094  0.9430065 ]\n",
      "  [0.67353778 0.1997869  0.76044526 ... 0.27267272 0.1092094  0.9430065 ]\n",
      "  [0.67353778 0.28426311 0.76044526 ... 0.27267272 0.1092094  0.9430065 ]\n",
      "  ...\n",
      "  [0.67353778 0.28426311 0.1997869  ... 0.44148055 0.1092094  0.9430065 ]\n",
      "  [0.67353778 0.28426311 0.1997869  ... 0.44148055 0.27267272 0.9430065 ]\n",
      "  [0.67353778 0.28426311 0.1997869  ... 0.44148055 0.27267272 0.1092094 ]]\n",
      "\n",
      " ...\n",
      "\n",
      " [[0.92974821 0.62007509 0.09835141 ... 0.4243334  0.48776182 0.41244362]\n",
      "  [0.06550464 0.62007509 0.09835141 ... 0.4243334  0.48776182 0.41244362]\n",
      "  [0.06550464 0.92974821 0.09835141 ... 0.4243334  0.48776182 0.41244362]\n",
      "  ...\n",
      "  [0.06550464 0.92974821 0.62007509 ... 0.25548797 0.48776182 0.41244362]\n",
      "  [0.06550464 0.92974821 0.62007509 ... 0.25548797 0.4243334  0.41244362]\n",
      "  [0.06550464 0.92974821 0.62007509 ... 0.25548797 0.4243334  0.48776182]]\n",
      "\n",
      " [[0.01331455 0.10118773 0.2444481  ... 0.53968671 0.69560755 0.9613849 ]\n",
      "  [0.42707336 0.10118773 0.2444481  ... 0.53968671 0.69560755 0.9613849 ]\n",
      "  [0.42707336 0.01331455 0.2444481  ... 0.53968671 0.69560755 0.9613849 ]\n",
      "  ...\n",
      "  [0.42707336 0.01331455 0.10118773 ... 0.48736157 0.69560755 0.9613849 ]\n",
      "  [0.42707336 0.01331455 0.10118773 ... 0.48736157 0.53968671 0.9613849 ]\n",
      "  [0.42707336 0.01331455 0.10118773 ... 0.48736157 0.53968671 0.69560755]]\n",
      "\n",
      " [[0.71628052 0.51188671 0.61056434 ... 0.66754109 0.47521126 0.38858256]\n",
      "  [0.68413653 0.51188671 0.61056434 ... 0.66754109 0.47521126 0.38858256]\n",
      "  [0.68413653 0.71628052 0.61056434 ... 0.66754109 0.47521126 0.38858256]\n",
      "  ...\n",
      "  [0.68413653 0.71628052 0.51188671 ... 0.23306582 0.47521126 0.38858256]\n",
      "  [0.68413653 0.71628052 0.51188671 ... 0.23306582 0.66754109 0.38858256]\n",
      "  [0.68413653 0.71628052 0.51188671 ... 0.23306582 0.66754109 0.47521126]]]\n",
      "[4.79415879 5.17839563 4.2919042  ... 4.87290399 4.08830087 3.82659524]\n",
      "[5.06610872 4.74795625 4.87087999 ... 4.61237942 4.70686982 5.25202336]\n"
     ]
    }
   ],
   "source": [
    "training_data=np.array(training_data)\n",
    "training_label=np.array(training_label)\n",
    "testing_data=np.array(testing_data)\n",
    "testing_label=np.array(testing_label)\n",
    "print(training_data)\n",
    "print(testing_data)\n",
    "print(training_label)\n",
    "print(testing_label)"
   ]
  },
  {
   "cell_type": "code",
   "execution_count": 4,
   "metadata": {
    "ExecuteTime": {
     "end_time": "2021-05-12T07:08:22.826805Z",
     "start_time": "2021-05-12T07:08:22.786182Z"
    }
   },
   "outputs": [
    {
     "name": "stdout",
     "output_type": "stream",
     "text": [
      "cuda:0\n"
     ]
    }
   ],
   "source": [
    "if torch.cuda.is_available():  \n",
    "    dev = \"cuda:0\" \n",
    "else:  \n",
    "    dev = \"cpu\"  \n",
    "\n",
    "print(dev)\n"
   ]
  },
  {
   "cell_type": "code",
   "execution_count": 5,
   "metadata": {
    "ExecuteTime": {
     "end_time": "2021-05-12T07:08:22.848799Z",
     "start_time": "2021-05-12T07:08:22.826805Z"
    },
    "run_control": {
     "marked": true
    }
   },
   "outputs": [],
   "source": [
    "def weight_init(m):\n",
    "    if isinstance(m, torch.nn.Conv2d):\n",
    "        torch.nn.init.xavier_normal_(m.weight, gain=nn.init.calculate_gain('relu'))\n",
    "        torch.nn.init.zeros_(m.bias)\n",
    "    elif isinstance(m, torch.nn.Linear):\n",
    "        torch.nn.init.xavier_normal_(m.weight)\n",
    "        torch.nn.init.zeros_(m.bias)\n",
    "        \n",
    "\n",
    "class Net(torch.nn.Module):\n",
    "    def __init__(self):\n",
    "\n",
    "        super(Net, self).__init__()\n",
    "\n",
    "        num_input = Agent_number_n-1\n",
    "        num_hidden = 100\n",
    "        num_output = 1\n",
    "\n",
    "        self.hidden_0 = torch.nn.Linear(num_input, num_hidden)\n",
    "        self.hidden_1 = torch.nn.Linear(num_hidden, num_hidden)\n",
    "        self.hidden_2 = torch.nn.Linear(num_hidden, num_hidden)\n",
    "        self.hidden_3 = torch.nn.Linear(num_hidden, num_hidden)\n",
    "        self.output_allocation = torch.nn.Linear(num_hidden, num_output)\n",
    "\n",
    "    def calculate(self, value_list):\n",
    "        h1 = torch.relu_(self.hidden_0(value_list))\n",
    "        h2 = torch.relu_(self.hidden_1(h1))\n",
    "        h3 = torch.relu_(self.hidden_2(h2))\n",
    "        h4 = torch.relu_(self.hidden_3(h3))\n",
    "        h = torch.relu(self.output_allocation(h4))\n",
    "\n",
    "        return h\n",
    "\n",
    "    def forward(self, input_list,input_label):\n",
    "        global iteration,echo\n",
    "        loss1 = 0\n",
    "        loss2 = 0\n",
    "        input_list = torch.from_numpy(\n",
    "            np.array(input_list)).cuda().type(torch.float32)\n",
    "        h_list = []\n",
    "        for i in range(Agent_number_n):\n",
    "            h = self.calculate(input_list[i])\n",
    "            h_list.append(h)\n",
    "        \n",
    "        input_label = torch.from_numpy(\n",
    "            np.array(input_label)).cuda().type(torch.float32)\n",
    "        sum_h = torch.sum(torch.cat(h_list)).cuda()\n",
    "        \n",
    "        \n",
    "        loss1 = torch.where((Agent_number_n-1)*input_label>sum_h,\n",
    "                        torch.square((Agent_number_n-1)*input_label-sum_h),\n",
    "                        torch.zeros(1).cuda()\n",
    "                      )\n",
    "\n",
    "        loss2 = torch.where((Agent_number_n-Alpha)*input_label<sum_h,\n",
    "                        torch.square(sum_h-(Agent_number_n-Alpha)*input_label),\n",
    "                        torch.zeros(1).cuda()\n",
    "                      )\n",
    "                      \n",
    "\n",
    "        return loss1,loss2,h_list"
   ]
  },
  {
   "cell_type": "code",
   "execution_count": 6,
   "metadata": {
    "ExecuteTime": {
     "end_time": "2021-05-12T07:08:24.206124Z",
     "start_time": "2021-05-12T07:08:22.848799Z"
    }
   },
   "outputs": [
    {
     "data": {
      "text/plain": [
       "Net(\n",
       "  (hidden_0): Linear(in_features=9, out_features=100, bias=True)\n",
       "  (hidden_1): Linear(in_features=100, out_features=100, bias=True)\n",
       "  (hidden_2): Linear(in_features=100, out_features=100, bias=True)\n",
       "  (hidden_3): Linear(in_features=100, out_features=100, bias=True)\n",
       "  (output_allocation): Linear(in_features=100, out_features=1, bias=True)\n",
       ")"
      ]
     },
     "execution_count": 6,
     "metadata": {},
     "output_type": "execute_result"
    }
   ],
   "source": [
    "random.seed(2000)\n",
    "torch.manual_seed(256)\n",
    "net  = Net()\n",
    "net.apply(weight_init)\n",
    "\n",
    "net = torch.load(\"save/Deep_learning_10\")\n",
    "net.to(dev)"
   ]
  },
  {
   "cell_type": "code",
   "execution_count": 7,
   "metadata": {
    "ExecuteTime": {
     "end_time": "2021-05-12T07:08:24.221904Z",
     "start_time": "2021-05-12T07:08:24.206124Z"
    },
    "run_control": {
     "marked": true
    }
   },
   "outputs": [],
   "source": [
    "#optimizer = opt.RMSprop(net.parameters(), lr=0.00001)\n",
    "#optimizer = opt.SGD(net.parameters(), lr=0.00001)\n",
    "optimizer = opt.Adam(net.parameters(), lr=0.00005)\n",
    "\n",
    "batch_size = 128\n",
    "echo = 10"
   ]
  },
  {
   "cell_type": "code",
   "execution_count": 8,
   "metadata": {
    "ExecuteTime": {
     "end_time": "2021-05-12T08:26:12.975036Z",
     "start_time": "2021-05-12T07:08:24.224406Z"
    }
   },
   "outputs": [
    {
     "name": "stdout",
     "output_type": "stream",
     "text": [
      "6096 tensor([0.], device='cuda:0', grad_fn=<DivBackward0>) 0.0 0.0\n",
      "6858 tensor([0.], device='cuda:0', grad_fn=<DivBackward0>) 0.0 0.0\n",
      "8763 tensor([0.], device='cuda:0', grad_fn=<DivBackward0>) 0.0 0.0\n",
      "10414 tensor([0.], device='cuda:0', grad_fn=<DivBackward0>) 0.0 0.0\n",
      "11811 tensor([0.], device='cuda:0', grad_fn=<DivBackward0>) 0.0 0.0\n",
      "17907 tensor([2.2287e-05], device='cuda:0', grad_fn=<DivBackward0>) 0.0 0.0028527865651994944\n",
      "23114 tensor([0.], device='cuda:0', grad_fn=<DivBackward0>) 0.0 0.0\n",
      "26416 tensor([0.], device='cuda:0', grad_fn=<DivBackward0>) 0.0 0.0\n",
      "29337 tensor([0.], device='cuda:0', grad_fn=<DivBackward0>) 0.0 0.0\n",
      "32512 tensor([0.], device='cuda:0', grad_fn=<DivBackward0>) 0.0 0.0\n",
      "33401 tensor([0.], device='cuda:0', grad_fn=<DivBackward0>) 0.0 0.0\n",
      "49149 tensor([0.], device='cuda:0', grad_fn=<DivBackward0>) 0.0 0.0\n",
      "batch iteration 0\n",
      "batch_loss: 0.00 \n",
      "\n",
      "381 tensor([0.], device='cuda:0', grad_fn=<DivBackward0>) 0.0 0.0\n",
      "3302 tensor([0.], device='cuda:0', grad_fn=<DivBackward0>) 0.0 0.0\n",
      "18669 tensor([0.], device='cuda:0', grad_fn=<DivBackward0>) 0.0 0.0\n",
      "20701 tensor([0.], device='cuda:0', grad_fn=<DivBackward0>) 0.0 0.0\n",
      "21844 tensor([0.], device='cuda:0', grad_fn=<DivBackward0>) 0.0 0.0\n",
      "23241 tensor([0.], device='cuda:0', grad_fn=<DivBackward0>) 0.0 0.0\n",
      "23876 tensor([0.], device='cuda:0', grad_fn=<DivBackward0>) 0.0 0.0\n",
      "25654 tensor([0.], device='cuda:0', grad_fn=<DivBackward0>) 0.0 0.0\n",
      "49276 tensor([0.], device='cuda:0', grad_fn=<DivBackward0>) 0.0 0.0\n",
      "batch iteration 1\n",
      "batch_loss: 0.00 \n",
      "\n",
      "9144 tensor([0.], device='cuda:0', grad_fn=<DivBackward0>) 0.0 0.0\n",
      "12827 tensor([0.], device='cuda:0', grad_fn=<DivBackward0>) 0.0 0.0\n",
      "17653 tensor([0.], device='cuda:0', grad_fn=<DivBackward0>) 0.0 0.0\n",
      "37211 tensor([0.], device='cuda:0', grad_fn=<DivBackward0>) 0.0 0.0\n",
      "37338 tensor([0.], device='cuda:0', grad_fn=<DivBackward0>) 0.0 0.0\n",
      "39624 tensor([0.], device='cuda:0', grad_fn=<DivBackward0>) 0.0 0.0\n",
      "47879 tensor([0.], device='cuda:0', grad_fn=<DivBackward0>) 0.0 0.0\n",
      "batch iteration 2\n",
      "batch_loss: 0.00 \n",
      "\n",
      "5461 tensor([0.], device='cuda:0', grad_fn=<DivBackward0>) 0.0 0.0\n",
      "7239 tensor([0.], device='cuda:0', grad_fn=<DivBackward0>) 0.0 0.0\n",
      "10287 tensor([0.], device='cuda:0', grad_fn=<DivBackward0>) 0.0 0.0\n",
      "11176 tensor([0.], device='cuda:0', grad_fn=<DivBackward0>) 0.0 0.0\n",
      "15240 tensor([0.], device='cuda:0', grad_fn=<DivBackward0>) 0.0 0.0\n",
      "22352 tensor([0.], device='cuda:0', grad_fn=<DivBackward0>) 0.0 0.0\n",
      "22606 tensor([0.], device='cuda:0', grad_fn=<DivBackward0>) 0.0 0.0\n",
      "22987 tensor([0.], device='cuda:0', grad_fn=<DivBackward0>) 0.0 0.0\n",
      "31877 tensor([0.], device='cuda:0', grad_fn=<DivBackward0>) 0.0 0.0\n",
      "35687 tensor([0.], device='cuda:0', grad_fn=<DivBackward0>) 0.0 0.0\n",
      "41148 tensor([0.], device='cuda:0', grad_fn=<DivBackward0>) 0.0 0.0\n",
      "46990 tensor([0.], device='cuda:0', grad_fn=<DivBackward0>) 0.0 0.0\n",
      "batch iteration 3\n",
      "batch_loss: 0.00 \n",
      "\n",
      "6985 tensor([0.], device='cuda:0', grad_fn=<DivBackward0>) 0.0 0.0\n",
      "9652 tensor([0.], device='cuda:0', grad_fn=<DivBackward0>) 0.0 0.0\n",
      "16383 tensor([0.], device='cuda:0', grad_fn=<DivBackward0>) 0.0 0.0\n",
      "20574 tensor([0.], device='cuda:0', grad_fn=<DivBackward0>) 0.0 0.0\n",
      "33147 tensor([0.], device='cuda:0', grad_fn=<DivBackward0>) 0.0 0.0\n",
      "34417 tensor([0.], device='cuda:0', grad_fn=<DivBackward0>) 0.0 0.0\n",
      "36703 tensor([0.], device='cuda:0', grad_fn=<DivBackward0>) 0.0 0.0\n",
      "40386 tensor([0.], device='cuda:0', grad_fn=<DivBackward0>) 0.0 0.0\n",
      "48387 tensor([0.], device='cuda:0', grad_fn=<DivBackward0>) 0.0 0.0\n",
      "batch iteration 4\n",
      "batch_loss: 0.00 \n",
      "\n",
      "7874 tensor([0.], device='cuda:0', grad_fn=<DivBackward0>) 0.0 0.0\n",
      "8509 tensor([0.], device='cuda:0', grad_fn=<DivBackward0>) 0.0 0.0\n",
      "9779 tensor([0.], device='cuda:0', grad_fn=<DivBackward0>) 0.0 0.0\n",
      "21844 tensor([0.], device='cuda:0', grad_fn=<DivBackward0>) 0.0 0.0\n",
      "26035 tensor([0.], device='cuda:0', grad_fn=<DivBackward0>) 0.0 0.0\n",
      "27940 tensor([0.], device='cuda:0', grad_fn=<DivBackward0>) 0.0 0.0\n",
      "42291 tensor([0.], device='cuda:0', grad_fn=<DivBackward0>) 0.0 0.0\n",
      "batch iteration 5\n",
      "batch_loss: 0.00 \n",
      "\n",
      "3683 tensor([0.], device='cuda:0', grad_fn=<DivBackward0>) 0.0 0.0\n",
      "10795 tensor([0.], device='cuda:0', grad_fn=<DivBackward0>) 0.0 0.0\n",
      "20447 tensor([0.], device='cuda:0', grad_fn=<DivBackward0>) 0.0 0.0\n",
      "23622 tensor([0.], device='cuda:0', grad_fn=<DivBackward0>) 0.0 0.0\n",
      "26162 tensor([0.], device='cuda:0', grad_fn=<DivBackward0>) 0.0 0.0\n",
      "32639 tensor([0.], device='cuda:0', grad_fn=<DivBackward0>) 0.0 0.0\n",
      "38481 tensor([0.], device='cuda:0', grad_fn=<DivBackward0>) 0.0 0.0\n",
      "45466 tensor([0.], device='cuda:0', grad_fn=<DivBackward0>) 0.0 0.0\n",
      "batch iteration 6\n",
      "batch_loss: 0.00 \n",
      "\n",
      "3175 tensor([0.], device='cuda:0', grad_fn=<DivBackward0>) 0.0 0.0\n",
      "14351 tensor([0.], device='cuda:0', grad_fn=<DivBackward0>) 0.0 0.0\n",
      "15748 tensor([0.], device='cuda:0', grad_fn=<DivBackward0>) 0.0 0.0\n",
      "25400 tensor([0.], device='cuda:0', grad_fn=<DivBackward0>) 0.0 0.0\n",
      "29845 tensor([0.], device='cuda:0', grad_fn=<DivBackward0>) 0.0 0.0\n",
      "40513 tensor([0.], device='cuda:0', grad_fn=<DivBackward0>) 0.0 0.0\n",
      "48387 tensor([0.], device='cuda:0', grad_fn=<DivBackward0>) 0.0 0.0\n",
      "batch iteration 7\n",
      "batch_loss: 0.00 \n",
      "\n",
      "13335 tensor([0.], device='cuda:0', grad_fn=<DivBackward0>) 0.0 0.0\n",
      "16256 tensor([0.], device='cuda:0', grad_fn=<DivBackward0>) 0.0 0.0\n",
      "22606 tensor([0.], device='cuda:0', grad_fn=<DivBackward0>) 0.0 0.0\n",
      "38608 tensor([0.], device='cuda:0', grad_fn=<DivBackward0>) 0.0 0.0\n",
      "40132 tensor([0.], device='cuda:0', grad_fn=<DivBackward0>) 0.0 0.0\n",
      "40259 tensor([0.], device='cuda:0', grad_fn=<DivBackward0>) 0.0 0.0\n",
      "batch iteration 8\n",
      "batch_loss: 0.00 \n",
      "\n",
      "127 tensor([0.], device='cuda:0', grad_fn=<DivBackward0>) 0.0 0.0\n",
      "12573 tensor([0.], device='cuda:0', grad_fn=<DivBackward0>) 0.0 0.0\n",
      "21717 tensor([0.], device='cuda:0', grad_fn=<DivBackward0>) 0.0 0.0\n",
      "36576 tensor([0.], device='cuda:0', grad_fn=<DivBackward0>) 0.0 0.0\n",
      "37211 tensor([0.], device='cuda:0', grad_fn=<DivBackward0>) 0.0 0.0\n",
      "41656 tensor([0.], device='cuda:0', grad_fn=<DivBackward0>) 0.0 0.0\n",
      "batch iteration 9\n",
      "batch_loss: 0.00 \n",
      "\n"
     ]
    }
   ],
   "source": [
    "for iteration in range(int(echo)):\n",
    "    # offender_types = []\n",
    "    # defender_types = []\n",
    "    \n",
    "    \n",
    "    X_train_list = []\n",
    "    temp_number = 0\n",
    "    total_batch_loss = 0 \n",
    "    while(temp_number<len(training_data)-1):\n",
    "        loss2_list = []\n",
    "        loss1_sum = 0\n",
    "        loss2_sum = 0\n",
    "        denominator = 0\n",
    "        for index in range(temp_number, min(batch_size+temp_number,len(training_data))):\n",
    "            h_loss1,h_loss2,h_list = net(training_data[index],training_label[index])\n",
    "            denominator += 1\n",
    "            loss1_sum += h_loss1\n",
    "            loss2_sum += h_loss2\n",
    "            \n",
    "        loss_sum = loss1_sum + loss2_sum\n",
    "        loss = (loss_sum) / denominator \n",
    "        total_batch_loss +=float(loss_sum)\n",
    "        optimizer.zero_grad()\n",
    "        \n",
    "        loss.backward()\n",
    "        \n",
    "        optimizer.step()\n",
    "        \n",
    "        temp_number = index\n",
    "        \n",
    "        if(random.random()<=0.02):\n",
    "            print(temp_number,loss,float(loss1_sum),float(loss2_sum))\n",
    "\n",
    "\n",
    "    print(\"batch iteration\", iteration)\n",
    "    print(\"batch_loss: %.2f \" % (total_batch_loss/len(training_data)))\n",
    "    \n",
    "    print()"
   ]
  },
  {
   "cell_type": "code",
   "execution_count": 9,
   "metadata": {
    "ExecuteTime": {
     "end_time": "2021-05-12T08:26:13.004708Z",
     "start_time": "2021-05-12T08:26:12.981020Z"
    }
   },
   "outputs": [],
   "source": [
    "torch.save(net, \"save/Deep_learning_10\")"
   ]
  },
  {
   "cell_type": "code",
   "execution_count": 10,
   "metadata": {
    "ExecuteTime": {
     "end_time": "2021-05-12T08:30:09.032273Z",
     "start_time": "2021-05-12T08:26:13.006362Z"
    }
   },
   "outputs": [],
   "source": [
    "denominator = 0\n",
    "result_list = []\n",
    "for index in range(len(testing_data)):\n",
    "    h_list = []\n",
    "    for i in range(Agent_number_n):\n",
    "        h = net.calculate(torch.tensor(testing_data[index][i]).cuda().type(torch.float32))\n",
    "        h_list.append(float(h))\n",
    "    \n",
    "    #print(sum(h_list),h_list,sum(h_list)/testing_label[index])\n",
    "    result_list.append(sum(h_list)/testing_label[index])\n",
    "    \n",
    "\n"
   ]
  },
  {
   "cell_type": "code",
   "execution_count": 11,
   "metadata": {
    "ExecuteTime": {
     "end_time": "2021-05-12T08:30:09.048266Z",
     "start_time": "2021-05-12T08:30:09.034266Z"
    }
   },
   "outputs": [
    {
     "name": "stdout",
     "output_type": "stream",
     "text": [
      "9.944425200963728 9.102172607009836 0.8422525939538925\n"
     ]
    }
   ],
   "source": [
    "print(max(result_list),min(result_list),max(result_list)-min(result_list))"
   ]
  },
  {
   "cell_type": "code",
   "execution_count": 12,
   "metadata": {
    "ExecuteTime": {
     "end_time": "2021-05-12T08:30:09.885964Z",
     "start_time": "2021-05-12T08:30:09.050247Z"
    }
   },
   "outputs": [
    {
     "data": {
      "image/png": "[encoded data removed]",
      "text/plain": [
       "<Figure size 432x288 with 1 Axes>"
      ]
     },
     "metadata": {
      "needs_background": "light"
     },
     "output_type": "display_data"
    }
   ],
   "source": [
    "plt.hist(result_list,bins=500)\n",
    "\n",
    "plt.title(\"Means\", y=1.015, fontsize=20)\n",
    "plt.axvline(x=sum(result_list)/len(result_list), linestyle='--', linewidth=2.5, label=\"sample mean\", c='orange')\n",
    "plt.xlabel(\"samples\", labelpad=14)\n",
    "plt.ylabel(\"frequency of occurence\", labelpad=14)\n",
    "plt.legend();\n",
    "\n",
    "result_list.sort()\n",
    "\n",
    "plt.axvline(x=result_list[int(len(result_list)*0.001)], linestyle='--', linewidth=0.5, label=\"0.1%\", c='b')\n",
    "plt.axvline(x=result_list[int(len(result_list)*0.999)], linestyle='--', linewidth=0.5, label=\"99%\", c='r')\n",
    "\n",
    "\n",
    "plt.show()"
   ]
  },
  {
   "cell_type": "code",
   "execution_count": null,
   "metadata": {},
   "outputs": [],
   "source": []
  },
  {
   "cell_type": "code",
   "execution_count": null,
   "metadata": {},
   "outputs": [],
   "source": []
  }
 ],
 "metadata": {
  "hide_input": false,
  "kernelspec": {
   "display_name": "Python 3",
   "language": "python",
   "name": "python3"
  },
  "language_info": {
   "codemirror_mode": {
    "name": "ipython",
    "version": 3
   },
   "file_extension": ".py",
   "mimetype": "text/x-python",
   "name": "python",
   "nbconvert_exporter": "python",
   "pygments_lexer": "ipython3",
   "version": "3.8.3"
  },
  "varInspector": {
   "cols": {
    "lenName": 16,
    "lenType": 16,
    "lenVar": 40
   },
   "kernels_config": {
    "python": {
     "delete_cmd_postfix": "",
     "delete_cmd_prefix": "del ",
     "library": "var_list.py",
     "varRefreshCmd": "print(var_dic_list())"
    },
    "r": {
     "delete_cmd_postfix": ") ",
     "delete_cmd_prefix": "rm(",
     "library": "var_list.r",
     "varRefreshCmd": "cat(var_dic_list()) "
    }
   },
   "types_to_exclude": [
    "module",
    "function",
    "builtin_function_or_method",
    "instance",
    "_Feature"
   ],
   "window_display": false
  }
 },
 "nbformat": 4,
 "nbformat_minor": 4
}
