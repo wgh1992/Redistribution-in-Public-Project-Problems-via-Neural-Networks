{
 "cells": [
  {
   "cell_type": "code",
   "execution_count": 1,
   "metadata": {
    "ExecuteTime": {
     "end_time": "2021-05-12T14:29:18.677299Z",
     "start_time": "2021-05-12T14:29:17.503466Z"
    }
   },
   "outputs": [
    {
     "name": "stdout",
     "output_type": "stream",
     "text": [
      "pygame 2.0.1 (SDL 2.0.14, Python 3.8.3)\n",
      "Hello from the pygame community. https://www.pygame.org/contribute.html\n"
     ]
    },
    {
     "name": "stderr",
     "output_type": "stream",
     "text": [
      "D:\\ComputerSoftwares\\Anaconda\\lib\\site-packages\\sklearn\\utils\\deprecation.py:143: FutureWarning: The sklearn.datasets.samples_generator module is  deprecated in version 0.22 and will be removed in version 0.24. The corresponding classes / functions should instead be imported from sklearn.datasets. Anything that cannot be imported from sklearn.datasets is now part of the private API.\n",
      "  warnings.warn(message, FutureWarning)\n"
     ]
    }
   ],
   "source": [
    "\"\"\"\n",
    "The classic game of flappy bird. Make with python\n",
    "and pygame. Features pixel perfect collision using masks :o\n",
    "Date Modified:  Jul 30, 2019\n",
    "Author: Tech With Tim\n",
    "Estimated Work Time: 5 hours (1 just for that damn collision)\n",
    "\"\"\"\n",
    "import pygame\n",
    "import random\n",
    "import os\n",
    "import time\n",
    "import numpy as np\n",
    "import math\n",
    "import torch\n",
    "import torch.nn.functional\n",
    "import matplotlib.pyplot as plt\n",
    "import torch.optim as opt\n",
    "from torch.autograd import Variable\n",
    "from sklearn.model_selection import train_test_split\n",
    "\n",
    "import scipy.stats as st\n",
    "from sklearn.datasets.samples_generator import make_blobs\n",
    "from matplotlib.colors import LogNorm \n",
    "import matplotlib.cm as cm"
   ]
  },
  {
   "cell_type": "code",
   "execution_count": 2,
   "metadata": {
    "ExecuteTime": {
     "end_time": "2021-05-12T14:29:19.926486Z",
     "start_time": "2021-05-12T14:29:18.678297Z"
    }
   },
   "outputs": [],
   "source": [
    "Agent_number_n=5;\n",
    "Alpha = 0.5 #(1-0.667);\n",
    "\n",
    "global temp_list\n",
    "temp_list = []\n",
    "def appen(_x_list,y):\n",
    "    global temp_list\n",
    "    temp_list.append(_x_list)\n",
    "    \n",
    "def appen_train(x_list):\n",
    "    global temp_list\n",
    "                \n",
    "    S= max(sum(x_list),1.0);\n",
    "    temp_list = []\n",
    "    \n",
    "    for i in range(Agent_number_n):\n",
    "        temp = []\n",
    "        for j in range(Agent_number_n):\n",
    "            if(i!=j):\n",
    "                temp.append(x_list[j])\n",
    "        appen(temp,S)\n",
    "    \n",
    "    training_data.append(temp_list)\n",
    "    training_label.append(S)\n",
    "    \n",
    "\n",
    "def read_training_data():\n",
    "    for i in range(50000):\n",
    "        appen_train(np.random.rand(Agent_number_n));\n",
    "\n",
    "training_data=[]\n",
    "training_label=[]\n",
    "S=1.0\n",
    "read_training_data();\n",
    "\n",
    "def appen_test(x_list):\n",
    "    global temp_list\n",
    "                \n",
    "    S= max(sum(x_list),1.0);\n",
    "    temp_list = []\n",
    "    \n",
    "    for i in range(Agent_number_n):\n",
    "        temp = []\n",
    "        for j in range(Agent_number_n):\n",
    "            if(i!=j):\n",
    "                temp.append(x_list[j])\n",
    "        appen(temp,S)\n",
    "    testing_data.append(temp_list)\n",
    "    testing_label.append(S)\n",
    "    \n",
    "\n",
    "def read_testing_data():\n",
    "#     devided=20\n",
    "#     for i1 in range(devided+1):\n",
    "#         for i2 in range(i1+1):\n",
    "#             for i3 in range(i2+1):\n",
    "#                 appen_test(i1/devided,i2/devided,i3/devided);\n",
    "    for i in range(50000):\n",
    "        appen_test(np.random.rand(Agent_number_n));\n",
    "                            \n",
    "\n",
    "testing_data=[]\n",
    "testing_label=[]\n",
    "S=1.0\n",
    "read_testing_data();"
   ]
  },
  {
   "cell_type": "code",
   "execution_count": 3,
   "metadata": {
    "ExecuteTime": {
     "end_time": "2021-05-12T14:29:20.588317Z",
     "start_time": "2021-05-12T14:29:19.931060Z"
    }
   },
   "outputs": [
    {
     "name": "stdout",
     "output_type": "stream",
     "text": [
      "[[[0.94619665 0.40224285 0.26564296 0.48540186]\n",
      "  [0.41453186 0.40224285 0.26564296 0.48540186]\n",
      "  [0.41453186 0.94619665 0.26564296 0.48540186]\n",
      "  [0.41453186 0.94619665 0.40224285 0.48540186]\n",
      "  [0.41453186 0.94619665 0.40224285 0.26564296]]\n",
      "\n",
      " [[0.79527822 0.04934928 0.63421112 0.65958959]\n",
      "  [0.64705067 0.04934928 0.63421112 0.65958959]\n",
      "  [0.64705067 0.79527822 0.63421112 0.65958959]\n",
      "  [0.64705067 0.79527822 0.04934928 0.65958959]\n",
      "  [0.64705067 0.79527822 0.04934928 0.63421112]]\n",
      "\n",
      " [[0.62918119 0.1502158  0.82286378 0.34820528]\n",
      "  [0.96967844 0.1502158  0.82286378 0.34820528]\n",
      "  [0.96967844 0.62918119 0.82286378 0.34820528]\n",
      "  [0.96967844 0.62918119 0.1502158  0.34820528]\n",
      "  [0.96967844 0.62918119 0.1502158  0.82286378]]\n",
      "\n",
      " ...\n",
      "\n",
      " [[0.16975102 0.05767686 0.74019389 0.44658978]\n",
      "  [0.91777435 0.05767686 0.74019389 0.44658978]\n",
      "  [0.91777435 0.16975102 0.74019389 0.44658978]\n",
      "  [0.91777435 0.16975102 0.05767686 0.44658978]\n",
      "  [0.91777435 0.16975102 0.05767686 0.74019389]]\n",
      "\n",
      " [[0.64782605 0.48316381 0.34527068 0.35297408]\n",
      "  [0.16761877 0.48316381 0.34527068 0.35297408]\n",
      "  [0.16761877 0.64782605 0.34527068 0.35297408]\n",
      "  [0.16761877 0.64782605 0.48316381 0.35297408]\n",
      "  [0.16761877 0.64782605 0.48316381 0.34527068]]\n",
      "\n",
      " [[0.1745567  0.72675649 0.20878692 0.97961375]\n",
      "  [0.4603106  0.72675649 0.20878692 0.97961375]\n",
      "  [0.4603106  0.1745567  0.20878692 0.97961375]\n",
      "  [0.4603106  0.1745567  0.72675649 0.97961375]\n",
      "  [0.4603106  0.1745567  0.72675649 0.20878692]]]\n",
      "[[[0.31207576 0.61392809 0.20356218 0.46106113]\n",
      "  [0.9261715  0.61392809 0.20356218 0.46106113]\n",
      "  [0.9261715  0.31207576 0.20356218 0.46106113]\n",
      "  [0.9261715  0.31207576 0.61392809 0.46106113]\n",
      "  [0.9261715  0.31207576 0.61392809 0.20356218]]\n",
      "\n",
      " [[0.8013574  0.69734294 0.99827588 0.68960785]\n",
      "  [0.93196172 0.69734294 0.99827588 0.68960785]\n",
      "  [0.93196172 0.8013574  0.99827588 0.68960785]\n",
      "  [0.93196172 0.8013574  0.69734294 0.68960785]\n",
      "  [0.93196172 0.8013574  0.69734294 0.99827588]]\n",
      "\n",
      " [[0.81743442 0.28300424 0.48490064 0.11138628]\n",
      "  [0.06534187 0.28300424 0.48490064 0.11138628]\n",
      "  [0.06534187 0.81743442 0.48490064 0.11138628]\n",
      "  [0.06534187 0.81743442 0.28300424 0.11138628]\n",
      "  [0.06534187 0.81743442 0.28300424 0.48490064]]\n",
      "\n",
      " ...\n",
      "\n",
      " [[0.55774223 0.73170849 0.8442529  0.77304966]\n",
      "  [0.04530123 0.73170849 0.8442529  0.77304966]\n",
      "  [0.04530123 0.55774223 0.8442529  0.77304966]\n",
      "  [0.04530123 0.55774223 0.73170849 0.77304966]\n",
      "  [0.04530123 0.55774223 0.73170849 0.8442529 ]]\n",
      "\n",
      " [[0.26158893 0.13102757 0.7144588  0.57253145]\n",
      "  [0.49491043 0.13102757 0.7144588  0.57253145]\n",
      "  [0.49491043 0.26158893 0.7144588  0.57253145]\n",
      "  [0.49491043 0.26158893 0.13102757 0.57253145]\n",
      "  [0.49491043 0.26158893 0.13102757 0.7144588 ]]\n",
      "\n",
      " [[0.6551913  0.90855993 0.00729481 0.54819076]\n",
      "  [0.04668153 0.90855993 0.00729481 0.54819076]\n",
      "  [0.04668153 0.6551913  0.00729481 0.54819076]\n",
      "  [0.04668153 0.6551913  0.90855993 0.54819076]\n",
      "  [0.04668153 0.6551913  0.90855993 0.00729481]]]\n",
      "[2.51401617 2.78547888 2.92014449 ... 2.3319859  1.99685339 2.55002446]\n",
      "[2.51679866 4.11854578 1.76206744 ... 2.95205451 2.17451717 2.16591833]\n"
     ]
    }
   ],
   "source": [
    "training_data=np.array(training_data)\n",
    "training_label=np.array(training_label)\n",
    "testing_data=np.array(testing_data)\n",
    "testing_label=np.array(testing_label)\n",
    "print(training_data)\n",
    "print(testing_data)\n",
    "print(training_label)\n",
    "print(testing_label)"
   ]
  },
  {
   "cell_type": "code",
   "execution_count": 4,
   "metadata": {
    "ExecuteTime": {
     "end_time": "2021-05-12T14:29:20.635084Z",
     "start_time": "2021-05-12T14:29:20.588317Z"
    }
   },
   "outputs": [
    {
     "name": "stdout",
     "output_type": "stream",
     "text": [
      "cuda:0\n"
     ]
    }
   ],
   "source": [
    "if torch.cuda.is_available():  \n",
    "    dev = \"cuda:0\" \n",
    "else:  \n",
    "    dev = \"cpu\"  \n",
    "\n",
    "print(dev)\n"
   ]
  },
  {
   "cell_type": "code",
   "execution_count": 5,
   "metadata": {
    "ExecuteTime": {
     "end_time": "2021-05-12T14:29:20.666527Z",
     "start_time": "2021-05-12T14:29:20.636589Z"
    },
    "run_control": {
     "marked": true
    }
   },
   "outputs": [],
   "source": [
    "def weight_init(m):\n",
    "    if isinstance(m, torch.nn.Conv2d):\n",
    "        torch.nn.init.xavier_normal_(m.weight, gain=nn.init.calculate_gain('relu'))\n",
    "        torch.nn.init.zeros_(m.bias)\n",
    "    elif isinstance(m, torch.nn.Linear):\n",
    "        torch.nn.init.xavier_normal_(m.weight)\n",
    "        torch.nn.init.zeros_(m.bias)\n",
    "        \n",
    "\n",
    "class Net(torch.nn.Module):\n",
    "    def __init__(self):\n",
    "\n",
    "        super(Net, self).__init__()\n",
    "\n",
    "        num_input = Agent_number_n-1\n",
    "        num_hidden = 10\n",
    "        num_output = 1\n",
    "\n",
    "        self.hidden_0 = torch.nn.Linear(num_input, num_hidden)\n",
    "        self.hidden_1 = torch.nn.Linear(num_hidden, num_hidden)\n",
    "        self.output_allocation = torch.nn.Linear(num_hidden, num_output)\n",
    "\n",
    "    def calculate(self, value_list):\n",
    "        h1 = torch.relu_(self.hidden_0(value_list))\n",
    "        h2 = torch.relu_(self.hidden_1(h1))\n",
    "        h = torch.relu(self.output_allocation(h2))\n",
    "        return h\n",
    "\n",
    "    def forward(self, input_list,input_label):\n",
    "        global iteration,echo\n",
    "        loss1 = 0\n",
    "        loss2 = 0\n",
    "        input_list = torch.from_numpy(\n",
    "            np.array(input_list)).cuda().type(torch.float32)\n",
    "        h_list = []\n",
    "        for i in range(Agent_number_n):\n",
    "            h = self.calculate(input_list[i])\n",
    "            h_list.append(h)\n",
    "        \n",
    "        input_label = torch.from_numpy(\n",
    "            np.array(input_label)).cuda().type(torch.float32)\n",
    "        sum_h = torch.sum(torch.cat(h_list)).cuda()\n",
    "        \n",
    "        \n",
    "        loss1 = torch.where((Agent_number_n-1)*input_label>sum_h,\n",
    "                        torch.square((Agent_number_n-1)*input_label-sum_h),\n",
    "                        torch.zeros(1).cuda()\n",
    "                      )\n",
    "\n",
    "        loss2 = torch.where((Agent_number_n-Alpha)*input_label<sum_h,\n",
    "                        torch.square(sum_h-(Agent_number_n-Alpha)*input_label),\n",
    "                        torch.zeros(1).cuda()\n",
    "                      )\n",
    "                      \n",
    "\n",
    "        return loss1,loss2,h_list"
   ]
  },
  {
   "cell_type": "code",
   "execution_count": 6,
   "metadata": {
    "ExecuteTime": {
     "end_time": "2021-05-12T14:29:21.865022Z",
     "start_time": "2021-05-12T14:29:20.667248Z"
    }
   },
   "outputs": [
    {
     "data": {
      "text/plain": [
       "Net(\n",
       "  (hidden_0): Linear(in_features=4, out_features=10, bias=True)\n",
       "  (hidden_1): Linear(in_features=10, out_features=10, bias=True)\n",
       "  (output_allocation): Linear(in_features=10, out_features=1, bias=True)\n",
       ")"
      ]
     },
     "execution_count": 6,
     "metadata": {},
     "output_type": "execute_result"
    }
   ],
   "source": [
    "random.seed(2000)\n",
    "torch.manual_seed(256)\n",
    "net  = Net()\n",
    "net.apply(weight_init)\n",
    "\n",
    "net = torch.load(\"save/Deep_learning_small_5\")\n",
    "net.to(dev)"
   ]
  },
  {
   "cell_type": "code",
   "execution_count": 7,
   "metadata": {
    "ExecuteTime": {
     "end_time": "2021-05-12T14:29:21.880288Z",
     "start_time": "2021-05-12T14:29:21.867059Z"
    },
    "run_control": {
     "marked": true
    }
   },
   "outputs": [],
   "source": [
    "#optimizer = opt.RMSprop(net.parameters(), lr=0.00001)\n",
    "#optimizer = opt.SGD(net.parameters(), lr=0.00001)\n",
    "optimizer = opt.Adam(net.parameters(), lr=0.00005)\n",
    "\n",
    "batch_size = 64\n",
    "echo = 5"
   ]
  },
  {
   "cell_type": "code",
   "execution_count": 8,
   "metadata": {
    "ExecuteTime": {
     "end_time": "2021-05-12T14:41:46.578850Z",
     "start_time": "2021-05-12T14:29:21.884259Z"
    }
   },
   "outputs": [
    {
     "name": "stdout",
     "output_type": "stream",
     "text": [
      "3024 tensor([0.1940], device='cuda:0', grad_fn=<DivBackward0>) 2.307215452194214 10.109123229980469\n",
      "4347 tensor([0.0769], device='cuda:0', grad_fn=<DivBackward0>) 0.9742982387542725 3.9472920894622803\n",
      "8883 tensor([0.1216], device='cuda:0', grad_fn=<DivBackward0>) 2.5249030590057373 5.259761810302734\n",
      "13104 tensor([0.0885], device='cuda:0', grad_fn=<DivBackward0>) 0.7364383935928345 4.926290512084961\n",
      "16128 tensor([0.0773], device='cuda:0', grad_fn=<DivBackward0>) 2.253408432006836 2.691411256790161\n",
      "25011 tensor([0.0605], device='cuda:0', grad_fn=<DivBackward0>) 0.6475600004196167 3.226292848587036\n",
      "35091 tensor([0.0559], device='cuda:0', grad_fn=<DivBackward0>) 0.8334420919418335 2.7411530017852783\n",
      "36351 tensor([0.0662], device='cuda:0', grad_fn=<DivBackward0>) 0.3997996151447296 3.8350067138671875\n",
      "36666 tensor([0.0580], device='cuda:0', grad_fn=<DivBackward0>) 0.889094352722168 2.8204572200775146\n",
      "batch iteration 0\n",
      "batch_loss: 0.07 \n",
      "\n",
      "\n",
      "5985 tensor([0.0343], device='cuda:0', grad_fn=<DivBackward0>) 0.6881182193756104 1.505503535270691\n",
      "18081 tensor([0.0189], device='cuda:0', grad_fn=<DivBackward0>) 0.35991036891937256 0.8523766398429871\n",
      "18144 tensor([0.0123], device='cuda:0', grad_fn=<DivBackward0>) 0.08166162669658661 0.7062036991119385\n",
      "29988 tensor([0.0097], device='cuda:0', grad_fn=<DivBackward0>) 0.000644732266664505 0.6229228377342224\n",
      "32004 tensor([0.0117], device='cuda:0', grad_fn=<DivBackward0>) 0.031121602281928062 0.7157963514328003\n",
      "35658 tensor([0.0143], device='cuda:0', grad_fn=<DivBackward0>) 0.15801852941513062 0.7570453882217407\n",
      "35847 tensor([0.0072], device='cuda:0', grad_fn=<DivBackward0>) 0.10932549834251404 0.34979569911956787\n",
      "44856 tensor([0.0178], device='cuda:0', grad_fn=<DivBackward0>) 0.08202682435512543 1.0578532218933105\n",
      "batch iteration 1\n",
      "batch_loss: 0.01 \n",
      "\n",
      "\n",
      "4032 tensor([0.0035], device='cuda:0', grad_fn=<DivBackward0>) 0.00044642004650086164 0.22062969207763672\n",
      "7371 tensor([0.0045], device='cuda:0', grad_fn=<DivBackward0>) 0.07462632656097412 0.21555528044700623\n",
      "9450 tensor([0.0006], device='cuda:0', grad_fn=<DivBackward0>) 0.0 0.04019247740507126\n",
      "15687 tensor([0.0039], device='cuda:0', grad_fn=<DivBackward0>) 0.04806215316057205 0.1995323896408081\n",
      "17451 tensor([0.0026], device='cuda:0', grad_fn=<DivBackward0>) 0.04360673204064369 0.1217510998249054\n",
      "23247 tensor([0.0017], device='cuda:0', grad_fn=<DivBackward0>) 0.01850273087620735 0.09190812706947327\n",
      "28287 tensor([0.0021], device='cuda:0', grad_fn=<DivBackward0>) 0.0004689425986725837 0.13134215772151947\n",
      "37926 tensor([0.0002], device='cuda:0', grad_fn=<DivBackward0>) 0.001639694906771183 0.0086100148037076\n",
      "45045 tensor([0.0032], device='cuda:0', grad_fn=<DivBackward0>) 0.002861962653696537 0.19956561923027039\n",
      "batch iteration 2\n",
      "batch_loss: 0.00 \n",
      "\n",
      "\n",
      "693 tensor([0.0008], device='cuda:0', grad_fn=<DivBackward0>) 0.0 0.048584531992673874\n",
      "11844 tensor([0.0008], device='cuda:0', grad_fn=<DivBackward0>) 0.02526831440627575 0.025825146585702896\n",
      "21420 tensor([0.0017], device='cuda:0', grad_fn=<DivBackward0>) 0.03516080975532532 0.07633963972330093\n",
      "36288 tensor([0.0001], device='cuda:0', grad_fn=<DivBackward0>) 0.00037675327621400356 0.008841622620821\n",
      "47691 tensor([0.0005], device='cuda:0', grad_fn=<DivBackward0>) 0.003725523129105568 0.02776842750608921\n",
      "batch iteration 3\n",
      "batch_loss: 0.00 \n",
      "\n",
      "\n",
      "9702 tensor([0.0005], device='cuda:0', grad_fn=<DivBackward0>) 0.0007958111236803234 0.034400664269924164\n",
      "17640 tensor([0.0001], device='cuda:0', grad_fn=<DivBackward0>) 0.0 0.0075819301418960094\n",
      "18396 tensor([7.3982e-05], device='cuda:0', grad_fn=<DivBackward0>) 0.0015473444946110249 0.0031875052955001593\n",
      "18459 tensor([0.0024], device='cuda:0', grad_fn=<DivBackward0>) 0.020690541714429855 0.1323830932378769\n",
      "23373 tensor([0.0005], device='cuda:0', grad_fn=<DivBackward0>) 0.001505976659245789 0.03019709140062332\n",
      "41769 tensor([0.0454], device='cuda:0', grad_fn=<DivBackward0>) 2.746500253677368 0.15963271260261536\n",
      "batch iteration 4\n",
      "batch_loss: 0.00 \n",
      "\n",
      "\n"
     ]
    }
   ],
   "source": [
    "for iteration in range(int(echo)):\n",
    "    # offender_types = []\n",
    "    # defender_types = []\n",
    "    \n",
    "    \n",
    "    X_train_list = []\n",
    "    temp_number = 0\n",
    "    total_batch_loss = 0 \n",
    "    while(temp_number<len(training_data)-1):\n",
    "        loss2_list = []\n",
    "        loss1_sum = 0\n",
    "        loss2_sum = 0\n",
    "        denominator = 0\n",
    "        for index in range(temp_number, min(batch_size+temp_number,len(training_data))):\n",
    "            h_loss1,h_loss2,h_list = net(training_data[index],training_label[index])\n",
    "            denominator += 1\n",
    "            loss1_sum += h_loss1\n",
    "            loss2_sum += h_loss2\n",
    "            \n",
    "        loss_sum = loss1_sum + loss2_sum\n",
    "        loss = (loss_sum) / denominator \n",
    "        total_batch_loss +=float(loss_sum)\n",
    "        optimizer.zero_grad()\n",
    "        \n",
    "        loss.backward()\n",
    "        \n",
    "        optimizer.step()\n",
    "        \n",
    "        temp_number = index\n",
    "        \n",
    "        if(random.random()<=0.01):\n",
    "            print(temp_number,loss,float(loss1_sum),float(loss2_sum))\n",
    "\n",
    "\n",
    "    print(\"batch iteration\", iteration)\n",
    "    print(\"batch_loss: %.2f \" % (total_batch_loss/len(training_data)))\n",
    "    \n",
    "    print()\n",
    "    print()"
   ]
  },
  {
   "cell_type": "code",
   "execution_count": 9,
   "metadata": {
    "ExecuteTime": {
     "end_time": "2021-05-12T14:41:46.594217Z",
     "start_time": "2021-05-12T14:41:46.578850Z"
    }
   },
   "outputs": [],
   "source": [
    "torch.save(net, \"save/Deep_learning_small_5\")"
   ]
  },
  {
   "cell_type": "code",
   "execution_count": 10,
   "metadata": {
    "ExecuteTime": {
     "end_time": "2021-05-12T14:43:08.427139Z",
     "start_time": "2021-05-12T14:41:46.595102Z"
    }
   },
   "outputs": [],
   "source": [
    "denominator = 0\n",
    "result_list = []\n",
    "for index in range(len(testing_data)):\n",
    "    h_list = []\n",
    "    for i in range(Agent_number_n):\n",
    "        h = net.calculate(torch.tensor(testing_data[index][i]).cuda().type(torch.float32))\n",
    "        h_list.append(float(h))\n",
    "    \n",
    "    #print(sum(h_list),h_list,sum(h_list)/testing_label[index])\n",
    "    result_list.append(sum(h_list)/testing_label[index])\n",
    "    \n",
    "\n"
   ]
  },
  {
   "cell_type": "code",
   "execution_count": 11,
   "metadata": {
    "ExecuteTime": {
     "end_time": "2021-05-12T14:43:08.442574Z",
     "start_time": "2021-05-12T14:43:08.430242Z"
    }
   },
   "outputs": [
    {
     "name": "stdout",
     "output_type": "stream",
     "text": [
      "5.035050365663392 1.6802600622177124 3.3547903034456796\n"
     ]
    }
   ],
   "source": [
    "print(max(result_list),min(result_list),max(result_list)-min(result_list))"
   ]
  },
  {
   "cell_type": "code",
   "execution_count": 12,
   "metadata": {
    "ExecuteTime": {
     "end_time": "2021-05-12T14:43:09.286949Z",
     "start_time": "2021-05-12T14:43:08.444570Z"
    }
   },
   "outputs": [
    {
     "data": {
      "image/png": "[encoded data removed]",
      "text/plain": [
       "<Figure size 432x288 with 1 Axes>"
      ]
     },
     "metadata": {
      "needs_background": "light"
     },
     "output_type": "display_data"
    }
   ],
   "source": [
    "plt.hist(result_list,bins=500)\n",
    "\n",
    "plt.title(\"Means\", y=1.015, fontsize=20)\n",
    "plt.axvline(x=sum(result_list)/len(result_list), linestyle='--', linewidth=2.5, label=\"sample mean\", c='orange')\n",
    "plt.xlabel(\"samples\", labelpad=14)\n",
    "plt.ylabel(\"frequency of occurence\", labelpad=14)\n",
    "plt.legend();\n",
    "\n",
    "result_list.sort()\n",
    "\n",
    "plt.axvline(x=result_list[int(len(result_list)*0.001)], linestyle='--', linewidth=0.5, label=\"0.1%\", c='b')\n",
    "plt.axvline(x=result_list[int(len(result_list)*0.999)], linestyle='--', linewidth=0.5, label=\"99%\", c='r')\n",
    "\n",
    "\n",
    "plt.show()"
   ]
  },
  {
   "cell_type": "code",
   "execution_count": 13,
   "metadata": {
    "ExecuteTime": {
     "end_time": "2021-05-12T14:43:09.303176Z",
     "start_time": "2021-05-12T14:43:09.286949Z"
    }
   },
   "outputs": [],
   "source": [
    "from torchsummary import summary"
   ]
  },
  {
   "cell_type": "code",
   "execution_count": 14,
   "metadata": {
    "ExecuteTime": {
     "end_time": "2021-05-12T14:43:09.319918Z",
     "start_time": "2021-05-12T14:43:09.304218Z"
    },
    "run_control": {
     "marked": true
    }
   },
   "outputs": [],
   "source": [
    "#summary( net(training_data[index],training_label[index]),input_size=(2))"
   ]
  },
  {
   "cell_type": "code",
   "execution_count": null,
   "metadata": {},
   "outputs": [],
   "source": []
  }
 ],
 "metadata": {
  "hide_input": false,
  "kernelspec": {
   "display_name": "Python 3",
   "language": "python",
   "name": "python3"
  },
  "language_info": {
   "codemirror_mode": {
    "name": "ipython",
    "version": 3
   },
   "file_extension": ".py",
   "mimetype": "text/x-python",
   "name": "python",
   "nbconvert_exporter": "python",
   "pygments_lexer": "ipython3",
   "version": "3.8.3"
  },
  "varInspector": {
   "cols": {
    "lenName": 16,
    "lenType": 16,
    "lenVar": 40
   },
   "kernels_config": {
    "python": {
     "delete_cmd_postfix": "",
     "delete_cmd_prefix": "del ",
     "library": "var_list.py",
     "varRefreshCmd": "print(var_dic_list())"
    },
    "r": {
     "delete_cmd_postfix": ") ",
     "delete_cmd_prefix": "rm(",
     "library": "var_list.r",
     "varRefreshCmd": "cat(var_dic_list()) "
    }
   },
   "types_to_exclude": [
    "module",
    "function",
    "builtin_function_or_method",
    "instance",
    "_Feature"
   ],
   "window_display": false
  }
 },
 "nbformat": 4,
 "nbformat_minor": 4
}
