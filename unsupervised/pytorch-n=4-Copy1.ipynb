{
 "cells": [
  {
   "cell_type": "code",
   "execution_count": 1,
   "metadata": {
    "ExecuteTime": {
     "end_time": "2021-05-21T13:35:11.239971Z",
     "start_time": "2021-05-21T13:35:09.761139Z"
    }
   },
   "outputs": [
    {
     "name": "stdout",
     "output_type": "stream",
     "text": [
      "pygame 2.0.1 (SDL 2.0.14, Python 3.8.3)\n",
      "Hello from the pygame community. https://www.pygame.org/contribute.html\n",
      "cuda:0\n"
     ]
    },
    {
     "name": "stderr",
     "output_type": "stream",
     "text": [
      "D:\\ComputerSoftwares\\Anaconda\\lib\\site-packages\\sklearn\\utils\\deprecation.py:143: FutureWarning: The sklearn.datasets.samples_generator module is  deprecated in version 0.22 and will be removed in version 0.24. The corresponding classes / functions should instead be imported from sklearn.datasets. Anything that cannot be imported from sklearn.datasets is now part of the private API.\n",
      "  warnings.warn(message, FutureWarning)\n"
     ]
    }
   ],
   "source": [
    "\n",
    "import pygame\n",
    "import random\n",
    "import os\n",
    "import time\n",
    "import numpy as np\n",
    "import math\n",
    "import torch\n",
    "import torch.nn.functional\n",
    "import matplotlib.pyplot as plt\n",
    "import torch.optim as opt\n",
    "from torch.autograd import Variable\n",
    "from sklearn.model_selection import train_test_split\n",
    "\n",
    "import scipy.stats as st\n",
    "from sklearn.datasets.samples_generator import make_blobs\n",
    "from matplotlib.colors import LogNorm \n",
    "import matplotlib.cm as cm\n",
    "\n",
    "if torch.cuda.is_available():  \n",
    "    dev = \"cuda:0\" \n",
    "else:  \n",
    "    dev = \"cpu\"  \n",
    "\n",
    "print(dev)\n"
   ]
  },
  {
   "cell_type": "code",
   "execution_count": 2,
   "metadata": {
    "ExecuteTime": {
     "end_time": "2021-05-21T13:35:11.254931Z",
     "start_time": "2021-05-21T13:35:11.241967Z"
    }
   },
   "outputs": [],
   "source": [
    "global target_order\n",
    "global temp_list\n",
    "temp_list = []\n",
    "Agent_number_n=4;\n",
    "Alpha = (1-0.700);\n",
    "\n",
    "# torch.manual_seed(1)    # reproducible\n",
    "# np.random.seed(1)\n",
    "\n"
   ]
  },
  {
   "cell_type": "code",
   "execution_count": 3,
   "metadata": {
    "ExecuteTime": {
     "end_time": "2021-05-21T13:35:12.801969Z",
     "start_time": "2021-05-21T13:35:11.255928Z"
    }
   },
   "outputs": [
    {
     "name": "stdout",
     "output_type": "stream",
     "text": [
      "[[[0.69810282 0.33585658 0.09898744]\n",
      "  [0.74278968 0.33585658 0.09898744]\n",
      "  [0.74278968 0.69810282 0.09898744]\n",
      "  [0.74278968 0.69810282 0.33585658]]\n",
      "\n",
      " [[0.56895179 0.4213326  0.04096365]\n",
      "  [0.90271179 0.4213326  0.04096365]\n",
      "  [0.90271179 0.56895179 0.04096365]\n",
      "  [0.90271179 0.56895179 0.4213326 ]]\n",
      "\n",
      " [[0.59794763 0.52584147 0.29182933]\n",
      "  [0.7859279  0.52584147 0.29182933]\n",
      "  [0.7859279  0.59794763 0.29182933]\n",
      "  [0.7859279  0.59794763 0.52584147]]\n",
      "\n",
      " ...\n",
      "\n",
      " [[0.50426797 0.49116051 0.26282227]\n",
      "  [0.73957552 0.49116051 0.26282227]\n",
      "  [0.73957552 0.50426797 0.26282227]\n",
      "  [0.73957552 0.50426797 0.49116051]]\n",
      "\n",
      " [[0.77195476 0.67935178 0.0637522 ]\n",
      "  [0.96032966 0.67935178 0.0637522 ]\n",
      "  [0.96032966 0.77195476 0.0637522 ]\n",
      "  [0.96032966 0.77195476 0.67935178]]\n",
      "\n",
      " [[0.90105104 0.63215727 0.50354272]\n",
      "  [0.99321363 0.63215727 0.50354272]\n",
      "  [0.99321363 0.90105104 0.50354272]\n",
      "  [0.99321363 0.90105104 0.63215727]]]\n",
      "[[[0.50250525 0.50009775 0.32310263]\n",
      "  [0.73463728 0.50009775 0.32310263]\n",
      "  [0.73463728 0.50250525 0.32310263]\n",
      "  [0.73463728 0.50250525 0.50009775]]\n",
      "\n",
      " [[0.66090665 0.45787315 0.15487018]\n",
      "  [0.81183674 0.45787315 0.15487018]\n",
      "  [0.81183674 0.66090665 0.15487018]\n",
      "  [0.81183674 0.66090665 0.45787315]]\n",
      "\n",
      " [[0.91733659 0.57582973 0.34680186]\n",
      "  [0.94055806 0.57582973 0.34680186]\n",
      "  [0.94055806 0.91733659 0.34680186]\n",
      "  [0.94055806 0.91733659 0.57582973]]\n",
      "\n",
      " ...\n",
      "\n",
      " [[0.94471158 0.60161675 0.5490249 ]\n",
      "  [0.99553685 0.60161675 0.5490249 ]\n",
      "  [0.99553685 0.94471158 0.5490249 ]\n",
      "  [0.99553685 0.94471158 0.60161675]]\n",
      "\n",
      " [[0.35217059 0.24013942 0.13747002]\n",
      "  [0.7656515  0.24013942 0.13747002]\n",
      "  [0.7656515  0.35217059 0.13747002]\n",
      "  [0.7656515  0.35217059 0.24013942]]\n",
      "\n",
      " [[0.59023887 0.58047462 0.48409587]\n",
      "  [0.6767328  0.58047462 0.48409587]\n",
      "  [0.6767328  0.59023887 0.48409587]\n",
      "  [0.6767328  0.59023887 0.58047462]]]\n",
      "[1.87573653 1.93395983 2.20154632 ... 1.99782627 2.47538841 3.02996467]\n",
      "[2.06034292 2.08548673 2.78052623 ... 3.09089008 1.49543153 2.33154216]\n"
     ]
    }
   ],
   "source": [
    "def appen(_x_list,y):\n",
    "    global temp_list\n",
    "    temp_list.append(_x_list)\n",
    "    \n",
    "def appen_train(x_list):\n",
    "    global temp_list\n",
    "                \n",
    "    S= max(sum(x_list),1.0);\n",
    "    temp_list = []\n",
    "    \n",
    "    for i in range(Agent_number_n):\n",
    "        temp = []\n",
    "        for j in range(Agent_number_n):\n",
    "            if(i!=j):\n",
    "                temp.append(x_list[j])\n",
    "        appen(temp,S)\n",
    "    \n",
    "    training_data.append(temp_list)\n",
    "    training_label.append(S)\n",
    "    \n",
    "\n",
    "def read_training_data():\n",
    "    for i in range(50000):\n",
    "        appen_train(sorted(np.random.rand(Agent_number_n), reverse=True));\n",
    "\n",
    "training_data=[]\n",
    "training_label=[]\n",
    "S=1.0\n",
    "read_training_data();\n",
    "\n",
    "def appen_test(x_list):\n",
    "    global temp_list\n",
    "                \n",
    "    S= max(sum(x_list),1.0);\n",
    "    temp_list = []\n",
    "    \n",
    "    for i in range(Agent_number_n):\n",
    "        temp = []\n",
    "        for j in range(Agent_number_n):\n",
    "            if(i!=j):\n",
    "                temp.append(x_list[j])\n",
    "        appen(temp,S)\n",
    "    testing_data.append(temp_list)\n",
    "    testing_label.append(S)\n",
    "    \n",
    "\n",
    "def read_testing_data():\n",
    "#     devided=20\n",
    "#     for i1 in range(devided+1):\n",
    "#         for i2 in range(i1+1):\n",
    "#             for i3 in range(i2+1):\n",
    "#                 appen_test(i1/devided,i2/devided,i3/devided);\n",
    "    for i in range(50000):\n",
    "        appen_test(sorted(np.random.rand(Agent_number_n), reverse=True));\n",
    "                            \n",
    "\n",
    "testing_data=[]\n",
    "testing_label=[]\n",
    "S=1.0\n",
    "read_testing_data();\n",
    "\n",
    "training_data=np.array(training_data)\n",
    "training_label=np.array(training_label)\n",
    "testing_data=np.array(testing_data)\n",
    "testing_label=np.array(testing_label)\n",
    "print(training_data)\n",
    "print(testing_data)\n",
    "print(training_label)\n",
    "print(testing_label)"
   ]
  },
  {
   "cell_type": "code",
   "execution_count": 4,
   "metadata": {
    "ExecuteTime": {
     "end_time": "2021-05-21T13:35:25.995086Z",
     "start_time": "2021-05-21T13:35:12.804931Z"
    }
   },
   "outputs": [
    {
     "name": "stdout",
     "output_type": "stream",
     "text": [
      "3.3734935889632798 2.999999999999999 0.37349358896328066\n"
     ]
    }
   ],
   "source": [
    "def h_3_star(a, b, t):\n",
    "    return a - min(a, t) + b - min(b, t) + max(min(a, t)+min(b, t), 2*t/3) + 1/2 * max(min(a, t)+min(b, t), t) - 1/2 * max(max(min(a, t), min(b, t)), 2*t/3) - t/6\n",
    "\n",
    "\n",
    "def f_function(a, b, z):\n",
    "    if(z >= 1):\n",
    "        return (a+b)/2 + z/3\n",
    "    else:\n",
    "        return z/3 + h_3_star(a, b, 1-z)/2\n",
    "\n",
    "def h_function(input_list):\n",
    "    #input_list = sorted(input_list)\n",
    "    g_list = []\n",
    "    for j1 in range(len(input_list) ):\n",
    "        for j2 in range(len(input_list)):\n",
    "            if(j1 != j2):\n",
    "                a = input_list[j1]\n",
    "                b = input_list[j2]\n",
    "                z = sum(input_list)- a-b\n",
    "\n",
    "                g_list.append( f_function(a, b, z) * (Agent_number_n-1))\n",
    "    h = sum(g_list) * 3 /  (Agent_number_n) /  (Agent_number_n-1) /  (Agent_number_n - 2)\n",
    "    return h\n",
    "                \n",
    "                \n",
    "x_list = []\n",
    "y_list = []\n",
    "z_list = []\n",
    "result_list = []\n",
    "training_supervised_label=[]\n",
    "for index in range(len(training_data)):\n",
    "    h_list = []\n",
    "    for i in range(Agent_number_n):\n",
    "        x_list.append(training_data[index][i][0])\n",
    "        y_list.append(training_data[index][i][1])\n",
    "        h = h_function(training_data[index][i])\n",
    "        z_list.append(float(h))\n",
    "        h_list.append(float(h))\n",
    "    training_supervised_label.append(h_list)\n",
    "    result_list.append(sum(h_list)/training_label[index]) \n",
    "    \n",
    "    \n",
    "print(max(result_list), min(result_list), max(result_list)-min(result_list))"
   ]
  },
  {
   "cell_type": "code",
   "execution_count": 5,
   "metadata": {
    "ExecuteTime": {
     "end_time": "2021-05-21T13:35:27.120629Z",
     "start_time": "2021-05-21T13:35:25.996083Z"
    }
   },
   "outputs": [
    {
     "data": {
      "image/png": "[encoded data removed]",
      "text/plain": [
       "<Figure size 432x288 with 1 Axes>"
      ]
     },
     "metadata": {
      "needs_background": "light"
     },
     "output_type": "display_data"
    }
   ],
   "source": [
    "plt.hist(result_list,bins=500)\n",
    "\n",
    "plt.title(\"Means\", y=1.015, fontsize=20)\n",
    "plt.axvline(x=sum(result_list)/len(result_list), linestyle='--', linewidth=2.5, label=\"sample mean\", c='orange')\n",
    "plt.xlabel(\"samples\", labelpad=14)\n",
    "plt.ylabel(\"frequency of occurence\", labelpad=14)\n",
    "plt.legend();\n",
    "\n",
    "result_list.sort()\n",
    "\n",
    "plt.axvline(x=result_list[int(len(result_list)*0.01)], linestyle='--', linewidth=0.5, label=\"1%\", c='b')\n",
    "plt.axvline(x=result_list[int(len(result_list)*0.99)], linestyle='--', linewidth=0.5, label=\"99%\", c='r')\n",
    "\n",
    "\n",
    "plt.show()"
   ]
  },
  {
   "cell_type": "code",
   "execution_count": 6,
   "metadata": {
    "ExecuteTime": {
     "end_time": "2021-05-21T13:35:27.136630Z",
     "start_time": "2021-05-21T13:35:27.121626Z"
    },
    "run_control": {
     "marked": true
    }
   },
   "outputs": [],
   "source": [
    "def weight_init(m):\n",
    "    if isinstance(m, torch.nn.Conv2d):\n",
    "        torch.nn.init.xavier_normal_(m.weight, gain=torch.nn.init.calculate_gain('relu'))\n",
    "        torch.nn.init.zeros_(m.bias)\n",
    "    elif isinstance(m, torch.nn.Linear):\n",
    "        torch.nn.init.xavier_normal_(m.weight, gain=torch.nn.init.calculate_gain('relu'))\n",
    "        torch.nn.init.uniform_(m.bias, a=-1.0, b=1.0)\n",
    "\n",
    "class Net(torch.nn.Module):\n",
    "    def __init__(self):\n",
    "\n",
    "        super(Net, self).__init__()\n",
    "        \n",
    "        self.input_dim = Agent_number_n-1\n",
    "        self.hidden_dim = 20\n",
    "        self.output_dim = 1\n",
    "        self.hidden_layer_count = 3 \n",
    "        \n",
    "        current_dim = self.input_dim\n",
    "        self.layers = torch.nn.ModuleList()\n",
    "        for i in range(self.hidden_layer_count):\n",
    "            self.layers.append(torch.nn.Linear(current_dim, self.hidden_dim))\n",
    "            current_dim = self.hidden_dim\n",
    "        self.layers.append(torch.nn.Linear(current_dim, self.output_dim))\n",
    "\n",
    "    def calculate(self, value_list):\n",
    "        h = value_list\n",
    "        for layer in self.layers:\n",
    "            h = torch.relu(layer(h))\n",
    "        return h\n",
    "\n",
    "    def forward(self, input_list,input_label):\n",
    "        global iteration,echo\n",
    "        loss1 = 0\n",
    "        loss2 = 0\n",
    "        input_list = torch.from_numpy(\n",
    "            np.array(input_list)).cuda().type(torch.float32)\n",
    "        h_list = []\n",
    "        for i in range(Agent_number_n):\n",
    "            h = self.calculate(input_list[i])\n",
    "            h_list.append(h)\n",
    "        \n",
    "        input_label = torch.from_numpy(\n",
    "            np.array(input_label)).cuda().type(torch.float32)\n",
    "        sum_h = torch.sum(torch.cat(h_list)).cuda()\n",
    "        \n",
    "        \n",
    "        loss1 = torch.where((Agent_number_n-1)*input_label>sum_h,\n",
    "                        torch.square((Agent_number_n-1)*input_label-sum_h),\n",
    "                        torch.zeros(1).cuda()\n",
    "                      )\n",
    "\n",
    "        loss2 = torch.where((Agent_number_n-Alpha)*input_label<sum_h,\n",
    "                        torch.square(sum_h-(Agent_number_n-Alpha)*input_label),\n",
    "                        torch.zeros(1).cuda()\n",
    "                      )\n",
    "                      \n",
    "\n",
    "        return loss1,loss2,h_list"
   ]
  },
  {
   "cell_type": "code",
   "execution_count": 7,
   "metadata": {
    "ExecuteTime": {
     "end_time": "2021-05-21T13:35:28.541859Z",
     "start_time": "2021-05-21T13:35:27.139579Z"
    }
   },
   "outputs": [
    {
     "data": {
      "text/plain": [
       "Net(\n",
       "  (layers): ModuleList(\n",
       "    (0): Linear(in_features=3, out_features=20, bias=True)\n",
       "    (1): Linear(in_features=20, out_features=20, bias=True)\n",
       "    (2): Linear(in_features=20, out_features=20, bias=True)\n",
       "    (3): Linear(in_features=20, out_features=1, bias=True)\n",
       "  )\n",
       ")"
      ]
     },
     "execution_count": 7,
     "metadata": {},
     "output_type": "execute_result"
    }
   ],
   "source": [
    "random.seed(2000)\n",
    "torch.manual_seed(256)\n",
    "net  = Net()\n",
    "net.apply(weight_init)\n",
    "\n",
    "#net = torch.load(\"save/Deep_learning_small_4\")\n",
    "net.to(dev)"
   ]
  },
  {
   "cell_type": "code",
   "execution_count": 8,
   "metadata": {
    "ExecuteTime": {
     "end_time": "2021-05-21T13:35:28.556818Z",
     "start_time": "2021-05-21T13:35:28.543853Z"
    },
    "run_control": {
     "marked": true
    }
   },
   "outputs": [],
   "source": [
    "#optimizer = opt.RMSprop(net.parameters(), lr=0.00001)\n",
    "#optimizer = opt.SGD(net.parameters(), lr=0.00001)\n",
    "optimizer = opt.Adam(net.parameters(), lr=0.00005)\n",
    "\n",
    "batch_size = 128\n",
    "echo = 10"
   ]
  },
  {
   "cell_type": "code",
   "execution_count": 9,
   "metadata": {
    "ExecuteTime": {
     "end_time": "2021-05-21T14:05:32.693678Z",
     "start_time": "2021-05-21T13:35:28.557815Z"
    }
   },
   "outputs": [
    {
     "name": "stdout",
     "output_type": "stream",
     "text": [
      "6096 tensor([31.9172], device='cuda:0', grad_fn=<DivBackward0>) 4085.40087890625 0.0\n",
      "6858 tensor([30.7265], device='cuda:0', grad_fn=<DivBackward0>) 3932.99560546875 0.0\n",
      "8763 tensor([29.0014], device='cuda:0', grad_fn=<DivBackward0>) 3712.184326171875 0.0\n",
      "10414 tensor([27.5604], device='cuda:0', grad_fn=<DivBackward0>) 3527.73095703125 0.0\n",
      "11811 tensor([23.5181], device='cuda:0', grad_fn=<DivBackward0>) 3010.3134765625 0.0\n",
      "17907 tensor([17.2731], device='cuda:0', grad_fn=<DivBackward0>) 2210.957275390625 0.0\n",
      "23114 tensor([11.1913], device='cuda:0', grad_fn=<DivBackward0>) 1432.4893798828125 0.0\n",
      "26416 tensor([10.1730], device='cuda:0', grad_fn=<DivBackward0>) 1301.9110107421875 0.23267345130443573\n",
      "29337 tensor([8.8140], device='cuda:0', grad_fn=<DivBackward0>) 1127.4072265625 0.7886591553688049\n",
      "32512 tensor([8.1121], device='cuda:0', grad_fn=<DivBackward0>) 1033.9395751953125 4.413887977600098\n",
      "33401 tensor([4.3235], device='cuda:0', grad_fn=<DivBackward0>) 548.7547607421875 4.650364398956299\n",
      "49149 tensor([2.0947], device='cuda:0', grad_fn=<DivBackward0>) 225.34765625 42.77178192138672\n",
      "batch iteration 0\n",
      "batch_loss: 15.15 \n",
      "\n",
      "381 tensor([2.3531], device='cuda:0', grad_fn=<DivBackward0>) 262.846435546875 38.35176086425781\n",
      "3302 tensor([1.8678], device='cuda:0', grad_fn=<DivBackward0>) 198.56396484375 40.515254974365234\n",
      "18669 tensor([1.5004], device='cuda:0', grad_fn=<DivBackward0>) 140.16127014160156 51.885616302490234\n",
      "20701 tensor([1.6424], device='cuda:0', grad_fn=<DivBackward0>) 138.8089599609375 71.41556549072266\n",
      "21844 tensor([1.2580], device='cuda:0', grad_fn=<DivBackward0>) 96.28974151611328 64.73272705078125\n",
      "23241 tensor([1.3761], device='cuda:0', grad_fn=<DivBackward0>) 87.42626953125 88.70851135253906\n",
      "23876 tensor([1.7065], device='cuda:0', grad_fn=<DivBackward0>) 168.73208618164062 49.69484329223633\n",
      "25654 tensor([1.0854], device='cuda:0', grad_fn=<DivBackward0>) 85.48200988769531 53.451141357421875\n",
      "49276 tensor([1.2301], device='cuda:0', grad_fn=<DivBackward0>) 95.8263168334961 61.625518798828125\n",
      "batch iteration 1\n",
      "batch_loss: 1.59 \n",
      "\n",
      "9144 tensor([0.8651], device='cuda:0', grad_fn=<DivBackward0>) 63.542572021484375 47.19182205200195\n",
      "12827 tensor([1.0607], device='cuda:0', grad_fn=<DivBackward0>) 69.56814575195312 66.2057113647461\n",
      "17653 tensor([1.1339], device='cuda:0', grad_fn=<DivBackward0>) 80.91401672363281 64.22282409667969\n",
      "37211 tensor([0.7502], device='cuda:0', grad_fn=<DivBackward0>) 47.71632385253906 48.307743072509766\n",
      "37338 tensor([0.7931], device='cuda:0', grad_fn=<DivBackward0>) 56.566165924072266 44.95331573486328\n",
      "39624 tensor([0.7517], device='cuda:0', grad_fn=<DivBackward0>) 49.25088119506836 46.96720504760742\n",
      "47879 tensor([0.5617], device='cuda:0', grad_fn=<DivBackward0>) 40.88896179199219 31.005069732666016\n",
      "batch iteration 2\n",
      "batch_loss: 0.82 \n",
      "\n",
      "5461 tensor([0.6211], device='cuda:0', grad_fn=<DivBackward0>) 40.91957092285156 38.58484649658203\n",
      "7239 tensor([0.5293], device='cuda:0', grad_fn=<DivBackward0>) 34.752098083496094 33.00326919555664\n",
      "10287 tensor([0.3844], device='cuda:0', grad_fn=<DivBackward0>) 21.4183406829834 27.787736892700195\n",
      "11176 tensor([0.4238], device='cuda:0', grad_fn=<DivBackward0>) 22.593414306640625 31.65162467956543\n",
      "15240 tensor([0.4656], device='cuda:0', grad_fn=<DivBackward0>) 30.206348419189453 29.39505386352539\n",
      "22352 tensor([0.3944], device='cuda:0', grad_fn=<DivBackward0>) 23.904033660888672 26.574134826660156\n",
      "22606 tensor([0.4579], device='cuda:0', grad_fn=<DivBackward0>) 26.008087158203125 32.608673095703125\n",
      "22987 tensor([0.4102], device='cuda:0', grad_fn=<DivBackward0>) 35.54987716674805 16.949790954589844\n",
      "31877 tensor([0.4199], device='cuda:0', grad_fn=<DivBackward0>) 34.14345932006836 19.608413696289062\n",
      "35687 tensor([0.2487], device='cuda:0', grad_fn=<DivBackward0>) 9.558487892150879 22.277095794677734\n",
      "41148 tensor([0.2860], device='cuda:0', grad_fn=<DivBackward0>) 12.764754295349121 23.8478946685791\n",
      "46990 tensor([0.2645], device='cuda:0', grad_fn=<DivBackward0>) 14.144767761230469 19.71074676513672\n",
      "batch iteration 3\n",
      "batch_loss: 0.41 \n",
      "\n",
      "6985 tensor([0.2476], device='cuda:0', grad_fn=<DivBackward0>) 16.952911376953125 14.74271297454834\n",
      "9652 tensor([0.3115], device='cuda:0', grad_fn=<DivBackward0>) 25.437772750854492 14.430743217468262\n",
      "16383 tensor([0.2669], device='cuda:0', grad_fn=<DivBackward0>) 18.852088928222656 15.305360794067383\n",
      "20574 tensor([0.2027], device='cuda:0', grad_fn=<DivBackward0>) 12.834756851196289 13.108065605163574\n",
      "33147 tensor([0.1021], device='cuda:0', grad_fn=<DivBackward0>) 5.763582706451416 7.302812099456787\n",
      "34417 tensor([0.1325], device='cuda:0', grad_fn=<DivBackward0>) 7.677370071411133 9.288285255432129\n",
      "36703 tensor([0.1788], device='cuda:0', grad_fn=<DivBackward0>) 12.999979972839355 9.88923168182373\n",
      "40386 tensor([0.1401], device='cuda:0', grad_fn=<DivBackward0>) 8.459210395812988 9.478549003601074\n",
      "48387 tensor([0.1305], device='cuda:0', grad_fn=<DivBackward0>) 8.176746368408203 8.53313159942627\n",
      "batch iteration 4\n",
      "batch_loss: 0.19 \n",
      "\n",
      "7874 tensor([0.1025], device='cuda:0', grad_fn=<DivBackward0>) 6.0738325119018555 7.048690319061279\n",
      "8509 tensor([0.0723], device='cuda:0', grad_fn=<DivBackward0>) 4.063103675842285 5.196445465087891\n",
      "9779 tensor([0.1076], device='cuda:0', grad_fn=<DivBackward0>) 4.93345832824707 8.838727951049805\n",
      "21844 tensor([0.0608], device='cuda:0', grad_fn=<DivBackward0>) 3.779867649078369 3.9992287158966064\n",
      "26035 tensor([0.0940], device='cuda:0', grad_fn=<DivBackward0>) 8.308476448059082 3.7266860008239746\n",
      "27940 tensor([0.0600], device='cuda:0', grad_fn=<DivBackward0>) 4.285527229309082 3.393571376800537\n",
      "42291 tensor([0.0690], device='cuda:0', grad_fn=<DivBackward0>) 2.7846720218658447 6.0421905517578125\n",
      "batch iteration 5\n",
      "batch_loss: 0.09 \n",
      "\n",
      "3683 tensor([0.0522], device='cuda:0', grad_fn=<DivBackward0>) 3.3792314529418945 3.297322988510132\n",
      "10795 tensor([0.0448], device='cuda:0', grad_fn=<DivBackward0>) 2.5002410411834717 3.2397398948669434\n",
      "20447 tensor([0.0388], device='cuda:0', grad_fn=<DivBackward0>) 4.479762554168701 0.48846152424812317\n",
      "23622 tensor([0.0281], device='cuda:0', grad_fn=<DivBackward0>) 1.1939737796783447 2.405484437942505\n",
      "26162 tensor([0.0451], device='cuda:0', grad_fn=<DivBackward0>) 2.9272284507751465 2.8504316806793213\n",
      "32639 tensor([0.0255], device='cuda:0', grad_fn=<DivBackward0>) 1.4632389545440674 1.7949076890945435\n",
      "38481 tensor([0.0318], device='cuda:0', grad_fn=<DivBackward0>) 1.7389415502548218 2.329965114593506\n",
      "45466 tensor([0.0096], device='cuda:0', grad_fn=<DivBackward0>) 0.21000805497169495 1.0136654376983643\n",
      "batch iteration 6\n",
      "batch_loss: 0.04 \n",
      "\n",
      "3175 tensor([0.0170], device='cuda:0', grad_fn=<DivBackward0>) 0.3210371136665344 1.8562813997268677\n",
      "14351 tensor([0.0127], device='cuda:0', grad_fn=<DivBackward0>) 0.2883983254432678 1.3427320718765259\n",
      "15748 tensor([0.0199], device='cuda:0', grad_fn=<DivBackward0>) 0.9314477443695068 1.6207597255706787\n",
      "25400 tensor([0.0190], device='cuda:0', grad_fn=<DivBackward0>) 1.4149035215377808 1.0146231651306152\n",
      "29845 tensor([0.0091], device='cuda:0', grad_fn=<DivBackward0>) 0.40730416774749756 0.7535194158554077\n",
      "40513 tensor([0.0178], device='cuda:0', grad_fn=<DivBackward0>) 1.2241249084472656 1.0571324825286865\n",
      "48387 tensor([0.0096], device='cuda:0', grad_fn=<DivBackward0>) 0.3380500078201294 0.8871543407440186\n",
      "batch iteration 7\n",
      "batch_loss: 0.02 \n",
      "\n",
      "13335 tensor([0.0093], device='cuda:0', grad_fn=<DivBackward0>) 0.48447033762931824 0.7020020484924316\n",
      "16256 tensor([0.0020], device='cuda:0', grad_fn=<DivBackward0>) 0.03638080880045891 0.21391244232654572\n",
      "22606 tensor([0.0128], device='cuda:0', grad_fn=<DivBackward0>) 0.7274420261383057 0.9100841283798218\n",
      "38608 tensor([0.0065], device='cuda:0', grad_fn=<DivBackward0>) 0.6895058155059814 0.13641346991062164\n",
      "40132 tensor([0.0046], device='cuda:0', grad_fn=<DivBackward0>) 0.4091182351112366 0.18375062942504883\n",
      "40259 tensor([0.0063], device='cuda:0', grad_fn=<DivBackward0>) 0.3769945204257965 0.4270608723163605\n",
      "batch iteration 8\n",
      "batch_loss: 0.01 \n",
      "\n",
      "127 tensor([0.0116], device='cuda:0', grad_fn=<DivBackward0>) 0.4329279959201813 1.0560470819473267\n",
      "12573 tensor([0.0086], device='cuda:0', grad_fn=<DivBackward0>) 0.922410786151886 0.18398837745189667\n"
     ]
    },
    {
     "name": "stdout",
     "output_type": "stream",
     "text": [
      "21717 tensor([0.0013], device='cuda:0', grad_fn=<DivBackward0>) 0.020922040566802025 0.15169480443000793\n",
      "36576 tensor([0.0021], device='cuda:0', grad_fn=<DivBackward0>) 0.11737082898616791 0.14635561406612396\n",
      "37211 tensor([0.0043], device='cuda:0', grad_fn=<DivBackward0>) 0.16413554549217224 0.3902175724506378\n",
      "41656 tensor([0.0028], device='cuda:0', grad_fn=<DivBackward0>) 0.03029174543917179 0.32245203852653503\n",
      "batch iteration 9\n",
      "batch_loss: 0.01 \n",
      "\n"
     ]
    }
   ],
   "source": [
    "for iteration in range(int(echo)):\n",
    "    # offender_types = []\n",
    "    # defender_types = []\n",
    "    \n",
    "    \n",
    "    X_train_list = []\n",
    "    temp_number = 0\n",
    "    total_batch_loss = 0 \n",
    "    while(temp_number<len(training_data)-1):\n",
    "        loss2_list = []\n",
    "        loss1_sum = 0\n",
    "        loss2_sum = 0\n",
    "        denominator = 0\n",
    "        for index in range(temp_number, min(batch_size+temp_number,len(training_data))):\n",
    "            h_loss1,h_loss2,h_list = net(training_data[index],training_label[index])\n",
    "            denominator += 1\n",
    "            loss1_sum += h_loss1\n",
    "            loss2_sum += h_loss2\n",
    "            \n",
    "        loss_sum = loss1_sum + loss2_sum\n",
    "        loss = (loss_sum) / denominator \n",
    "        total_batch_loss +=float(loss_sum)\n",
    "        optimizer.zero_grad()\n",
    "        \n",
    "        loss.backward()\n",
    "        \n",
    "        optimizer.step()\n",
    "        \n",
    "        temp_number = index\n",
    "        \n",
    "        if(random.random()<=0.02):\n",
    "            print(temp_number,loss,float(loss1_sum),float(loss2_sum))\n",
    "\n",
    "\n",
    "    print(\"batch iteration\", iteration)\n",
    "    print(\"batch_loss: %.2f \" % (total_batch_loss/len(training_data)))\n",
    "    \n",
    "    print()"
   ]
  },
  {
   "cell_type": "code",
   "execution_count": 10,
   "metadata": {
    "ExecuteTime": {
     "end_time": "2021-05-21T14:05:32.709636Z",
     "start_time": "2021-05-21T14:05:32.694641Z"
    }
   },
   "outputs": [],
   "source": [
    "torch.save(net, \"save/Deep_learning_small_4\")"
   ]
  },
  {
   "cell_type": "code",
   "execution_count": 11,
   "metadata": {
    "ExecuteTime": {
     "end_time": "2021-05-21T14:07:11.766371Z",
     "start_time": "2021-05-21T14:05:32.710599Z"
    }
   },
   "outputs": [],
   "source": [
    "denominator = 0\n",
    "result_list = []\n",
    "for index in range(len(testing_data)):\n",
    "    h_list = []\n",
    "    for i in range(Agent_number_n):\n",
    "        h = net.calculate(torch.tensor(testing_data[index][i]).cuda().type(torch.float32))\n",
    "        h_list.append(float(h))\n",
    "    \n",
    "    #print(sum(h_list),h_list,sum(h_list)/testing_label[index])\n",
    "    result_list.append(sum(h_list)/testing_label[index])\n",
    "    \n",
    "\n"
   ]
  },
  {
   "cell_type": "code",
   "execution_count": 12,
   "metadata": {
    "ExecuteTime": {
     "end_time": "2021-05-21T14:07:11.781838Z",
     "start_time": "2021-05-21T14:07:11.767369Z"
    }
   },
   "outputs": [
    {
     "name": "stdout",
     "output_type": "stream",
     "text": [
      "tensor([0.9406, 0.9173, 0.5758], device='cuda:0')\n"
     ]
    }
   ],
   "source": [
    "print(torch.tensor(testing_data[2][i]).cuda().type(torch.float32))"
   ]
  },
  {
   "cell_type": "code",
   "execution_count": 13,
   "metadata": {
    "ExecuteTime": {
     "end_time": "2021-05-21T14:07:11.797795Z",
     "start_time": "2021-05-21T14:07:11.783833Z"
    }
   },
   "outputs": [
    {
     "name": "stdout",
     "output_type": "stream",
     "text": [
      "tensor([2.5815], device='cuda:0', grad_fn=<ReluBackward0>)\n"
     ]
    }
   ],
   "source": [
    "h = net.calculate(torch.tensor(testing_data[2][i]).cuda().type(torch.float32))\n",
    "print(h)"
   ]
  },
  {
   "cell_type": "code",
   "execution_count": 14,
   "metadata": {
    "ExecuteTime": {
     "end_time": "2021-05-21T14:07:11.827714Z",
     "start_time": "2021-05-21T14:07:11.798793Z"
    }
   },
   "outputs": [
    {
     "name": "stdout",
     "output_type": "stream",
     "text": [
      "4.263631024237064 2.030844271183014 2.23278675305405\n"
     ]
    }
   ],
   "source": [
    "print(max(result_list),min(result_list),max(result_list)-min(result_list))"
   ]
  },
  {
   "cell_type": "code",
   "execution_count": 15,
   "metadata": {
    "ExecuteTime": {
     "end_time": "2021-05-21T14:07:12.985205Z",
     "start_time": "2021-05-21T14:07:11.829713Z"
    }
   },
   "outputs": [
    {
     "data": {
      "image/png": "[encoded data removed]",
      "text/plain": [
       "<Figure size 432x288 with 1 Axes>"
      ]
     },
     "metadata": {
      "needs_background": "light"
     },
     "output_type": "display_data"
    }
   ],
   "source": [
    "plt.hist(result_list,bins=500)\n",
    "\n",
    "plt.title(\"Means\", y=1.015, fontsize=20)\n",
    "plt.axvline(x=sum(result_list)/len(result_list), linestyle='--', linewidth=2.5, label=\"sample mean\", c='orange')\n",
    "plt.xlabel(\"samples\", labelpad=14)\n",
    "plt.ylabel(\"frequency of occurence\", labelpad=14)\n",
    "plt.legend();\n",
    "\n",
    "result_list.sort()\n",
    "\n",
    "plt.axvline(x=result_list[int(len(result_list)*0.001)], linestyle='--', linewidth=0.5, label=\"0.1%\", c='b')\n",
    "plt.axvline(x=result_list[int(len(result_list)*0.999)], linestyle='--', linewidth=0.5, label=\"99%\", c='r')\n",
    "\n",
    "\n",
    "plt.show()"
   ]
  },
  {
   "cell_type": "code",
   "execution_count": null,
   "metadata": {},
   "outputs": [],
   "source": []
  },
  {
   "cell_type": "code",
   "execution_count": null,
   "metadata": {},
   "outputs": [],
   "source": []
  }
 ],
 "metadata": {
  "hide_input": false,
  "kernelspec": {
   "display_name": "Python 3",
   "language": "python",
   "name": "python3"
  },
  "language_info": {
   "codemirror_mode": {
    "name": "ipython",
    "version": 3
   },
   "file_extension": ".py",
   "mimetype": "text/x-python",
   "name": "python",
   "nbconvert_exporter": "python",
   "pygments_lexer": "ipython3",
   "version": "3.8.3"
  },
  "varInspector": {
   "cols": {
    "lenName": 16,
    "lenType": 16,
    "lenVar": 40
   },
   "kernels_config": {
    "python": {
     "delete_cmd_postfix": "",
     "delete_cmd_prefix": "del ",
     "library": "var_list.py",
     "varRefreshCmd": "print(var_dic_list())"
    },
    "r": {
     "delete_cmd_postfix": ") ",
     "delete_cmd_prefix": "rm(",
     "library": "var_list.r",
     "varRefreshCmd": "cat(var_dic_list()) "
    }
   },
   "types_to_exclude": [
    "module",
    "function",
    "builtin_function_or_method",
    "instance",
    "_Feature"
   ],
   "window_display": false
  }
 },
 "nbformat": 4,
 "nbformat_minor": 4
}
