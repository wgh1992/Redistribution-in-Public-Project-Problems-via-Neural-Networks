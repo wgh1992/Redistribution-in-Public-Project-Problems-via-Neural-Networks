{
 "cells": [
  {
   "cell_type": "code",
   "execution_count": 1,
   "metadata": {
    "ExecuteTime": {
     "end_time": "2021-05-12T12:59:04.761216Z",
     "start_time": "2021-05-12T12:59:03.524240Z"
    }
   },
   "outputs": [
    {
     "name": "stdout",
     "output_type": "stream",
     "text": [
      "pygame 2.0.1 (SDL 2.0.14, Python 3.8.3)\n",
      "Hello from the pygame community. https://www.pygame.org/contribute.html\n"
     ]
    },
    {
     "name": "stderr",
     "output_type": "stream",
     "text": [
      "D:\\ComputerSoftwares\\Anaconda\\lib\\site-packages\\sklearn\\utils\\deprecation.py:143: FutureWarning: The sklearn.datasets.samples_generator module is  deprecated in version 0.22 and will be removed in version 0.24. The corresponding classes / functions should instead be imported from sklearn.datasets. Anything that cannot be imported from sklearn.datasets is now part of the private API.\n",
      "  warnings.warn(message, FutureWarning)\n"
     ]
    }
   ],
   "source": [
    "\"\"\"\n",
    "The classic game of flappy bird. Make with python\n",
    "and pygame. Features pixel perfect collision using masks :o\n",
    "Date Modified:  Jul 30, 2019\n",
    "Author: Tech With Tim\n",
    "Estimated Work Time: 5 hours (1 just for that damn collision)\n",
    "\"\"\"\n",
    "import pygame\n",
    "import random\n",
    "import os\n",
    "import time\n",
    "import numpy as np\n",
    "import math\n",
    "import torch\n",
    "import torch.nn.functional\n",
    "import matplotlib.pyplot as plt\n",
    "import torch.optim as opt\n",
    "from torch.autograd import Variable\n",
    "from sklearn.model_selection import train_test_split\n",
    "\n",
    "import scipy.stats as st\n",
    "from sklearn.datasets.samples_generator import make_blobs\n",
    "from matplotlib.colors import LogNorm \n",
    "import matplotlib.cm as cm"
   ]
  },
  {
   "cell_type": "code",
   "execution_count": 2,
   "metadata": {
    "ExecuteTime": {
     "end_time": "2021-05-12T12:59:05.514421Z",
     "start_time": "2021-05-12T12:59:04.763211Z"
    }
   },
   "outputs": [],
   "source": [
    "Agent_number_n=3;\n",
    "Alpha = 0.5 #(1-0.667);\n",
    "\n",
    "global temp_list\n",
    "temp_list = []\n",
    "def appen(_x_list,y):\n",
    "    global temp_list\n",
    "    temp_list.append(_x_list)\n",
    "    \n",
    "def appen_train(x_list):\n",
    "    global temp_list\n",
    "                \n",
    "    S= max(sum(x_list),1.0);\n",
    "    temp_list = []\n",
    "    \n",
    "    for i in range(Agent_number_n):\n",
    "        temp = []\n",
    "        for j in range(Agent_number_n):\n",
    "            if(i!=j):\n",
    "                temp.append(x_list[j])\n",
    "        appen(temp,S)\n",
    "    \n",
    "    training_data.append(temp_list)\n",
    "    training_label.append(S)\n",
    "    \n",
    "\n",
    "def read_training_data():\n",
    "    for i in range(50000):\n",
    "        appen_train(np.random.rand(Agent_number_n));\n",
    "\n",
    "training_data=[]\n",
    "training_label=[]\n",
    "S=1.0\n",
    "read_training_data();\n",
    "\n",
    "def appen_test(x_list):\n",
    "    global temp_list\n",
    "                \n",
    "    S= max(sum(x_list),1.0);\n",
    "    temp_list = []\n",
    "    \n",
    "    for i in range(Agent_number_n):\n",
    "        temp = []\n",
    "        for j in range(Agent_number_n):\n",
    "            if(i!=j):\n",
    "                temp.append(x_list[j])\n",
    "        appen(temp,S)\n",
    "    testing_data.append(temp_list)\n",
    "    testing_label.append(S)\n",
    "    \n",
    "\n",
    "def read_testing_data():\n",
    "#     devided=20\n",
    "#     for i1 in range(devided+1):\n",
    "#         for i2 in range(i1+1):\n",
    "#             for i3 in range(i2+1):\n",
    "#                 appen_test(i1/devided,i2/devided,i3/devided);\n",
    "    for i in range(50000):\n",
    "        appen_test(np.random.rand(Agent_number_n));\n",
    "                            \n",
    "\n",
    "testing_data=[]\n",
    "testing_label=[]\n",
    "S=1.0\n",
    "read_testing_data();"
   ]
  },
  {
   "cell_type": "code",
   "execution_count": 3,
   "metadata": {
    "ExecuteTime": {
     "end_time": "2021-05-12T12:59:05.884323Z",
     "start_time": "2021-05-12T12:59:05.516321Z"
    }
   },
   "outputs": [
    {
     "name": "stdout",
     "output_type": "stream",
     "text": [
      "[[[0.16371014 0.96518704]\n",
      "  [0.78313502 0.96518704]\n",
      "  [0.78313502 0.16371014]]\n",
      "\n",
      " [[0.59477193 0.48187925]\n",
      "  [0.88650986 0.48187925]\n",
      "  [0.88650986 0.59477193]]\n",
      "\n",
      " [[0.86035231 0.08810826]\n",
      "  [0.43083429 0.08810826]\n",
      "  [0.43083429 0.86035231]]\n",
      "\n",
      " ...\n",
      "\n",
      " [[0.83437973 0.30248598]\n",
      "  [0.15436716 0.30248598]\n",
      "  [0.15436716 0.83437973]]\n",
      "\n",
      " [[0.52361337 0.37344769]\n",
      "  [0.73010519 0.37344769]\n",
      "  [0.73010519 0.52361337]]\n",
      "\n",
      " [[0.9645672  0.68817152]\n",
      "  [0.08491066 0.68817152]\n",
      "  [0.08491066 0.9645672 ]]]\n",
      "[[[0.64163588 0.84155615]\n",
      "  [0.96483659 0.84155615]\n",
      "  [0.96483659 0.64163588]]\n",
      "\n",
      " [[0.74052946 0.62253511]\n",
      "  [0.43778308 0.62253511]\n",
      "  [0.43778308 0.74052946]]\n",
      "\n",
      " [[0.76814409 0.79053885]\n",
      "  [0.21736123 0.79053885]\n",
      "  [0.21736123 0.76814409]]\n",
      "\n",
      " ...\n",
      "\n",
      " [[0.9345091  0.7030138 ]\n",
      "  [0.51572761 0.7030138 ]\n",
      "  [0.51572761 0.9345091 ]]\n",
      "\n",
      " [[0.46143159 0.01156365]\n",
      "  [0.97256026 0.01156365]\n",
      "  [0.97256026 0.46143159]]\n",
      "\n",
      " [[0.40153657 0.65184302]\n",
      "  [0.72137101 0.65184302]\n",
      "  [0.72137101 0.40153657]]]\n",
      "[1.9120322  1.96316104 1.37929486 ... 1.29123287 1.62716625 1.73764938]\n",
      "[2.44802861 1.80084765 1.77604417 ... 2.15325051 1.4455555  1.7747506 ]\n"
     ]
    }
   ],
   "source": [
    "training_data=np.array(training_data)\n",
    "training_label=np.array(training_label)\n",
    "testing_data=np.array(testing_data)\n",
    "testing_label=np.array(testing_label)\n",
    "print(training_data)\n",
    "print(testing_data)\n",
    "print(training_label)\n",
    "print(testing_label)"
   ]
  },
  {
   "cell_type": "code",
   "execution_count": 4,
   "metadata": {
    "ExecuteTime": {
     "end_time": "2021-05-12T12:59:06.466535Z",
     "start_time": "2021-05-12T12:59:05.884323Z"
    }
   },
   "outputs": [
    {
     "name": "stdout",
     "output_type": "stream",
     "text": [
      "cuda:0\n"
     ]
    }
   ],
   "source": [
    "if torch.cuda.is_available():  \n",
    "    dev = \"cuda:0\" \n",
    "else:  \n",
    "    dev = \"cpu\"  \n",
    "\n",
    "print(dev)\n"
   ]
  },
  {
   "cell_type": "code",
   "execution_count": 5,
   "metadata": {
    "ExecuteTime": {
     "end_time": "2021-05-12T12:59:06.491361Z",
     "start_time": "2021-05-12T12:59:06.467558Z"
    },
    "run_control": {
     "marked": true
    }
   },
   "outputs": [],
   "source": [
    "def weight_init(m):\n",
    "    if isinstance(m, torch.nn.Conv2d):\n",
    "        torch.nn.init.xavier_normal_(m.weight, gain=nn.init.calculate_gain('relu'))\n",
    "        torch.nn.init.zeros_(m.bias)\n",
    "    elif isinstance(m, torch.nn.Linear):\n",
    "        torch.nn.init.xavier_normal_(m.weight)\n",
    "        torch.nn.init.zeros_(m.bias)\n",
    "        \n",
    "\n",
    "class Net(torch.nn.Module):\n",
    "    def __init__(self):\n",
    "\n",
    "        super(Net, self).__init__()\n",
    "\n",
    "        num_input = Agent_number_n-1\n",
    "        num_hidden = 10\n",
    "        num_output = 1\n",
    "\n",
    "        self.hidden_0 = torch.nn.Linear(num_input, num_hidden)\n",
    "        self.hidden_1 = torch.nn.Linear(num_hidden, num_hidden)\n",
    "        self.output_allocation = torch.nn.Linear(num_hidden, num_output)\n",
    "\n",
    "    def calculate(self, value_list):\n",
    "        h1 = torch.relu_(self.hidden_0(value_list))\n",
    "        h2 = torch.relu_(self.hidden_1(h1))\n",
    "        h = torch.relu(self.output_allocation(h2))\n",
    "        return h\n",
    "\n",
    "    def forward(self, input_list,input_label):\n",
    "        global iteration,echo\n",
    "        loss1 = 0\n",
    "        loss2 = 0\n",
    "        input_list = torch.from_numpy(\n",
    "            np.array(input_list)).cuda().type(torch.float32)\n",
    "        h_list = []\n",
    "        for i in range(Agent_number_n):\n",
    "            h = self.calculate(input_list[i])\n",
    "            h_list.append(h)\n",
    "        \n",
    "        input_label = torch.from_numpy(\n",
    "            np.array(input_label)).cuda().type(torch.float32)\n",
    "        sum_h = torch.sum(torch.cat(h_list)).cuda()\n",
    "        \n",
    "        \n",
    "        loss1 = torch.where((Agent_number_n-1)*input_label>sum_h,\n",
    "                        torch.square((Agent_number_n-1)*input_label-sum_h),\n",
    "                        torch.zeros(1).cuda()\n",
    "                      )\n",
    "\n",
    "        loss2 = torch.where((Agent_number_n-Alpha)*input_label<sum_h,\n",
    "                        torch.square(sum_h-(Agent_number_n-Alpha)*input_label),\n",
    "                        torch.zeros(1).cuda()\n",
    "                      )\n",
    "                      \n",
    "\n",
    "        return loss1,loss2,h_list"
   ]
  },
  {
   "cell_type": "code",
   "execution_count": 6,
   "metadata": {
    "ExecuteTime": {
     "end_time": "2021-05-12T12:59:07.675840Z",
     "start_time": "2021-05-12T12:59:06.491361Z"
    }
   },
   "outputs": [
    {
     "data": {
      "text/plain": [
       "Net(\n",
       "  (hidden_0): Linear(in_features=2, out_features=10, bias=True)\n",
       "  (hidden_1): Linear(in_features=10, out_features=10, bias=True)\n",
       "  (output_allocation): Linear(in_features=10, out_features=1, bias=True)\n",
       ")"
      ]
     },
     "execution_count": 6,
     "metadata": {},
     "output_type": "execute_result"
    }
   ],
   "source": [
    "random.seed(2000)\n",
    "torch.manual_seed(256)\n",
    "net  = Net()\n",
    "net.apply(weight_init)\n",
    "\n",
    "net = torch.load(\"save/Deep_learning_small_3\")\n",
    "net.to(dev)"
   ]
  },
  {
   "cell_type": "code",
   "execution_count": 7,
   "metadata": {
    "ExecuteTime": {
     "end_time": "2021-05-12T12:59:07.691798Z",
     "start_time": "2021-05-12T12:59:07.677835Z"
    },
    "run_control": {
     "marked": true
    }
   },
   "outputs": [],
   "source": [
    "#optimizer = opt.RMSprop(net.parameters(), lr=0.00001)\n",
    "#optimizer = opt.SGD(net.parameters(), lr=0.00001)\n",
    "optimizer = opt.Adam(net.parameters(), lr=0.00005)\n",
    "\n",
    "batch_size = 64\n",
    "echo = 5"
   ]
  },
  {
   "cell_type": "code",
   "execution_count": 8,
   "metadata": {
    "ExecuteTime": {
     "end_time": "2021-05-12T13:07:45.009703Z",
     "start_time": "2021-05-12T12:59:07.693794Z"
    }
   },
   "outputs": [
    {
     "name": "stdout",
     "output_type": "stream",
     "text": [
      "3024 tensor([0.0004], device='cuda:0', grad_fn=<DivBackward0>) 0.008322054520249367 0.017346136271953583\n",
      "4347 tensor([0.0007], device='cuda:0', grad_fn=<DivBackward0>) 0.004812747705727816 0.03874523937702179\n",
      "8883 tensor([0.0010], device='cuda:0', grad_fn=<DivBackward0>) 0.052522581070661545 0.01027033943682909\n",
      "13104 tensor([0.0014], device='cuda:0', grad_fn=<DivBackward0>) 0.07835227996110916 0.009111556224524975\n",
      "16128 tensor([0.0010], device='cuda:0', grad_fn=<DivBackward0>) 0.03570135682821274 0.02821424975991249\n",
      "25011 tensor([0.0004], device='cuda:0', grad_fn=<DivBackward0>) 0.009376266039907932 0.01579222083091736\n",
      "35091 tensor([0.0004], device='cuda:0', grad_fn=<DivBackward0>) 0.010250493884086609 0.01234855130314827\n",
      "36351 tensor([0.0004], device='cuda:0', grad_fn=<DivBackward0>) 0.0058718654327094555 0.017788412049412727\n",
      "36666 tensor([0.0008], device='cuda:0', grad_fn=<DivBackward0>) 0.025983884930610657 0.023914970457553864\n",
      "batch iteration 0\n",
      "batch_loss: 0.00 \n",
      "\n",
      "\n",
      "5985 tensor([0.0011], device='cuda:0', grad_fn=<DivBackward0>) 0.06853297352790833 0.0017495537176728249\n",
      "18081 tensor([0.0003], device='cuda:0', grad_fn=<DivBackward0>) 0.0018321691313758492 0.015842106193304062\n",
      "18144 tensor([0.0004], device='cuda:0', grad_fn=<DivBackward0>) 0.024910517036914825 0.0\n",
      "29988 tensor([0.0003], device='cuda:0', grad_fn=<DivBackward0>) 0.011317025870084763 0.00515383668243885\n",
      "32004 tensor([0.0001], device='cuda:0', grad_fn=<DivBackward0>) 0.0 0.008866159245371819\n",
      "35658 tensor([0.0002], device='cuda:0', grad_fn=<DivBackward0>) 0.0020210244692862034 0.009121481329202652\n",
      "35847 tensor([0.0004], device='cuda:0', grad_fn=<DivBackward0>) 0.02735198475420475 0.0\n",
      "44856 tensor([0.0001], device='cuda:0', grad_fn=<DivBackward0>) 0.0 0.0071420264430344105\n",
      "batch iteration 1\n",
      "batch_loss: 0.00 \n",
      "\n",
      "\n",
      "4032 tensor([0.0002], device='cuda:0', grad_fn=<DivBackward0>) 0.0016896432498469949 0.010039483197033405\n",
      "7371 tensor([1.5890e-06], device='cuda:0', grad_fn=<DivBackward0>) 0.0 0.00010169493180001155\n",
      "9450 tensor([0.0001], device='cuda:0', grad_fn=<DivBackward0>) 0.00878098700195551 0.0006285383715294302\n",
      "15687 tensor([0.0006], device='cuda:0', grad_fn=<DivBackward0>) 0.03320939838886261 0.004119332414120436\n",
      "17451 tensor([0.0002], device='cuda:0', grad_fn=<DivBackward0>) 0.01079596672207117 0.004823167808353901\n",
      "23247 tensor([0.0004], device='cuda:0', grad_fn=<DivBackward0>) 0.018688039854168892 0.005773509386926889\n",
      "28287 tensor([0.0012], device='cuda:0', grad_fn=<DivBackward0>) 0.07044488936662674 0.004788942635059357\n",
      "37926 tensor([0.0002], device='cuda:0', grad_fn=<DivBackward0>) 0.0010976502671837807 0.010895655490458012\n",
      "45045 tensor([0.0001], device='cuda:0', grad_fn=<DivBackward0>) 0.008865676820278168 0.0\n",
      "batch iteration 2\n",
      "batch_loss: 0.00 \n",
      "\n",
      "\n",
      "693 tensor([0.0005], device='cuda:0', grad_fn=<DivBackward0>) 0.02350250445306301 0.006979971192777157\n",
      "11844 tensor([0.0003], device='cuda:0', grad_fn=<DivBackward0>) 0.013066770508885384 0.007925163023173809\n",
      "21420 tensor([5.5458e-05], device='cuda:0', grad_fn=<DivBackward0>) 0.00023286702344194055 0.0033164257183670998\n",
      "36288 tensor([0.0005], device='cuda:0', grad_fn=<DivBackward0>) 0.02342676930129528 0.00952071137726307\n",
      "47691 tensor([0.0011], device='cuda:0', grad_fn=<DivBackward0>) 0.061947837471961975 0.008421359583735466\n",
      "batch iteration 3\n",
      "batch_loss: 0.00 \n",
      "\n",
      "\n",
      "9702 tensor([3.5524e-05], device='cuda:0', grad_fn=<DivBackward0>) 0.0022735053207725286 0.0\n",
      "17640 tensor([0.0001], device='cuda:0', grad_fn=<DivBackward0>) 0.0013733922969549894 0.006224134471267462\n",
      "18396 tensor([0.0003], device='cuda:0', grad_fn=<DivBackward0>) 0.0012783375568687916 0.016169406473636627\n",
      "18459 tensor([0.0001], device='cuda:0', grad_fn=<DivBackward0>) 0.004334090277552605 0.0029966188594698906\n",
      "23373 tensor([0.0004], device='cuda:0', grad_fn=<DivBackward0>) 0.020260624587535858 0.005035269074141979\n",
      "41769 tensor([2.7112e-05], device='cuda:0', grad_fn=<DivBackward0>) 0.000857482838910073 0.0008777169277891517\n",
      "batch iteration 4\n",
      "batch_loss: 0.00 \n",
      "\n",
      "\n"
     ]
    }
   ],
   "source": [
    "for iteration in range(int(echo)):\n",
    "    # offender_types = []\n",
    "    # defender_types = []\n",
    "    \n",
    "    \n",
    "    X_train_list = []\n",
    "    temp_number = 0\n",
    "    total_batch_loss = 0 \n",
    "    while(temp_number<len(training_data)-1):\n",
    "        loss2_list = []\n",
    "        loss1_sum = 0\n",
    "        loss2_sum = 0\n",
    "        denominator = 0\n",
    "        for index in range(temp_number, min(batch_size+temp_number,len(training_data))):\n",
    "            h_loss1,h_loss2,h_list = net(training_data[index],training_label[index])\n",
    "            denominator += 1\n",
    "            loss1_sum += h_loss1\n",
    "            loss2_sum += h_loss2\n",
    "            \n",
    "        loss_sum = loss1_sum + loss2_sum\n",
    "        loss = (loss_sum) / denominator \n",
    "        total_batch_loss +=float(loss_sum)\n",
    "        optimizer.zero_grad()\n",
    "        \n",
    "        loss.backward()\n",
    "        \n",
    "        optimizer.step()\n",
    "        \n",
    "        temp_number = index\n",
    "        \n",
    "        if(random.random()<=0.01):\n",
    "            print(temp_number,loss,float(loss1_sum),float(loss2_sum))\n",
    "\n",
    "\n",
    "    print(\"batch iteration\", iteration)\n",
    "    print(\"batch_loss: %.2f \" % (total_batch_loss/len(training_data)))\n",
    "    \n",
    "    print()\n",
    "    print()"
   ]
  },
  {
   "cell_type": "code",
   "execution_count": 9,
   "metadata": {
    "ExecuteTime": {
     "end_time": "2021-05-12T13:07:45.024880Z",
     "start_time": "2021-05-12T13:07:45.009703Z"
    }
   },
   "outputs": [],
   "source": [
    "torch.save(net, \"save/Deep_learning_small_3\")"
   ]
  },
  {
   "cell_type": "code",
   "execution_count": 10,
   "metadata": {
    "ExecuteTime": {
     "end_time": "2021-05-12T13:08:37.993462Z",
     "start_time": "2021-05-12T13:07:45.025839Z"
    }
   },
   "outputs": [],
   "source": [
    "denominator = 0\n",
    "result_list = []\n",
    "for index in range(len(testing_data)):\n",
    "    h_list = []\n",
    "    for i in range(Agent_number_n):\n",
    "        h = net.calculate(torch.tensor(testing_data[index][i]).cuda().type(torch.float32))\n",
    "        h_list.append(float(h))\n",
    "    \n",
    "    #print(sum(h_list),h_list,sum(h_list)/testing_label[index])\n",
    "    result_list.append(sum(h_list)/testing_label[index])\n",
    "    \n",
    "\n"
   ]
  },
  {
   "cell_type": "code",
   "execution_count": 11,
   "metadata": {
    "ExecuteTime": {
     "end_time": "2021-05-12T13:08:38.008608Z",
     "start_time": "2021-05-12T13:08:37.995155Z"
    }
   },
   "outputs": [
    {
     "name": "stdout",
     "output_type": "stream",
     "text": [
      "2.603384554386139 1.6872694492340088 0.9161151051521301\n"
     ]
    }
   ],
   "source": [
    "print(max(result_list),min(result_list),max(result_list)-min(result_list))"
   ]
  },
  {
   "cell_type": "code",
   "execution_count": 12,
   "metadata": {
    "ExecuteTime": {
     "end_time": "2021-05-12T13:08:38.944024Z",
     "start_time": "2021-05-12T13:08:38.009339Z"
    }
   },
   "outputs": [
    {
     "data": {
      "image/png": "[encoded data removed]",
      "text/plain": [
       "<Figure size 432x288 with 1 Axes>"
      ]
     },
     "metadata": {
      "needs_background": "light"
     },
     "output_type": "display_data"
    }
   ],
   "source": [
    "plt.hist(result_list,bins=500)\n",
    "\n",
    "plt.title(\"Means\", y=1.015, fontsize=20)\n",
    "plt.axvline(x=sum(result_list)/len(result_list), linestyle='--', linewidth=2.5, label=\"sample mean\", c='orange')\n",
    "plt.xlabel(\"samples\", labelpad=14)\n",
    "plt.ylabel(\"frequency of occurence\", labelpad=14)\n",
    "plt.legend();\n",
    "\n",
    "result_list.sort()\n",
    "\n",
    "plt.axvline(x=result_list[int(len(result_list)*0.001)], linestyle='--', linewidth=0.5, label=\"0.1%\", c='b')\n",
    "plt.axvline(x=result_list[int(len(result_list)*0.999)], linestyle='--', linewidth=0.5, label=\"99%\", c='r')\n",
    "\n",
    "\n",
    "plt.show()"
   ]
  },
  {
   "cell_type": "code",
   "execution_count": 13,
   "metadata": {
    "ExecuteTime": {
     "end_time": "2021-05-12T13:08:38.975633Z",
     "start_time": "2021-05-12T13:08:38.944024Z"
    }
   },
   "outputs": [],
   "source": [
    "from torchsummary import summary"
   ]
  },
  {
   "cell_type": "code",
   "execution_count": 14,
   "metadata": {
    "ExecuteTime": {
     "end_time": "2021-05-12T13:08:38.980094Z",
     "start_time": "2021-05-12T13:08:38.975633Z"
    },
    "run_control": {
     "marked": true
    }
   },
   "outputs": [],
   "source": [
    "#summary( net(training_data[index],training_label[index]),input_size=(2))"
   ]
  },
  {
   "cell_type": "code",
   "execution_count": null,
   "metadata": {},
   "outputs": [],
   "source": []
  }
 ],
 "metadata": {
  "hide_input": false,
  "kernelspec": {
   "display_name": "Python 3",
   "language": "python",
   "name": "python3"
  },
  "language_info": {
   "codemirror_mode": {
    "name": "ipython",
    "version": 3
   },
   "file_extension": ".py",
   "mimetype": "text/x-python",
   "name": "python",
   "nbconvert_exporter": "python",
   "pygments_lexer": "ipython3",
   "version": "3.8.3"
  },
  "varInspector": {
   "cols": {
    "lenName": 16,
    "lenType": 16,
    "lenVar": 40
   },
   "kernels_config": {
    "python": {
     "delete_cmd_postfix": "",
     "delete_cmd_prefix": "del ",
     "library": "var_list.py",
     "varRefreshCmd": "print(var_dic_list())"
    },
    "r": {
     "delete_cmd_postfix": ") ",
     "delete_cmd_prefix": "rm(",
     "library": "var_list.r",
     "varRefreshCmd": "cat(var_dic_list()) "
    }
   },
   "types_to_exclude": [
    "module",
    "function",
    "builtin_function_or_method",
    "instance",
    "_Feature"
   ],
   "window_display": false
  }
 },
 "nbformat": 4,
 "nbformat_minor": 4
}
