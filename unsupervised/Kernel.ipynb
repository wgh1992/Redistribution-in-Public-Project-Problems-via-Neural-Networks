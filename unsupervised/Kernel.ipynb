{
 "cells": [
  {
   "cell_type": "code",
   "execution_count": 1,
   "metadata": {
    "ExecuteTime": {
     "end_time": "2021-06-01T04:56:37.607135Z",
     "start_time": "2021-06-01T04:56:36.241415Z"
    }
   },
   "outputs": [
    {
     "name": "stdout",
     "output_type": "stream",
     "text": [
      "pygame 2.0.1 (SDL 2.0.14, Python 3.8.3)\n",
      "Hello from the pygame community. https://www.pygame.org/contribute.html\n",
      "cuda:0\n"
     ]
    },
    {
     "name": "stderr",
     "output_type": "stream",
     "text": [
      "D:\\ComputerSoftwares\\Anaconda\\lib\\site-packages\\sklearn\\utils\\deprecation.py:143: FutureWarning: The sklearn.datasets.samples_generator module is  deprecated in version 0.22 and will be removed in version 0.24. The corresponding classes / functions should instead be imported from sklearn.datasets. Anything that cannot be imported from sklearn.datasets is now part of the private API.\n",
      "  warnings.warn(message, FutureWarning)\n"
     ]
    }
   ],
   "source": [
    "\n",
    "import pygame\n",
    "import random\n",
    "import os\n",
    "import time\n",
    "import numpy as np\n",
    "import math\n",
    "import torch\n",
    "import torch.nn.functional\n",
    "import matplotlib.pyplot as plt\n",
    "import torch.optim as opt\n",
    "from torch.autograd import Variable\n",
    "from sklearn.model_selection import train_test_split\n",
    "\n",
    "import scipy.stats as st\n",
    "from sklearn.datasets.samples_generator import make_blobs\n",
    "from matplotlib.colors import LogNorm \n",
    "import matplotlib.cm as cm\n",
    "import torch.nn as nn\n",
    "import numpy as np\n",
    "import matplotlib.pyplot as plt\n",
    "\n",
    "\n",
    "if torch.cuda.is_available():  \n",
    "    dev = \"cuda:0\" \n",
    "else:  \n",
    "    dev = \"cpu\"  \n",
    "\n",
    "print(dev)\n"
   ]
  },
  {
   "cell_type": "code",
   "execution_count": 2,
   "metadata": {
    "ExecuteTime": {
     "end_time": "2021-06-01T04:56:37.622094Z",
     "start_time": "2021-06-01T04:56:37.608098Z"
    }
   },
   "outputs": [],
   "source": [
    "global temp_list\n",
    "temp_list = []\n",
    "Agent_number_n=4;\n",
    "Alpha = 0.666;\n",
    "\n"
   ]
  },
  {
   "cell_type": "code",
   "execution_count": 3,
   "metadata": {
    "ExecuteTime": {
     "end_time": "2021-06-01T04:56:40.732995Z",
     "start_time": "2021-06-01T04:56:37.623081Z"
    }
   },
   "outputs": [
    {
     "name": "stdout",
     "output_type": "stream",
     "text": [
      "[[[0.4100703  0.16713258 0.15688668]\n",
      "  [0.70870741 0.16713258 0.15688668]\n",
      "  [0.70870741 0.4100703  0.15688668]\n",
      "  [0.70870741 0.4100703  0.16713258]]\n",
      "\n",
      " [[0.76482611 0.56706249 0.24300791]\n",
      "  [0.87599273 0.56706249 0.24300791]\n",
      "  [0.87599273 0.76482611 0.24300791]\n",
      "  [0.87599273 0.76482611 0.56706249]]\n",
      "\n",
      " [[0.79892946 0.58188895 0.16594584]\n",
      "  [0.83185056 0.58188895 0.16594584]\n",
      "  [0.83185056 0.79892946 0.16594584]\n",
      "  [0.83185056 0.79892946 0.58188895]]\n",
      "\n",
      " ...\n",
      "\n",
      " [[0.47895193 0.31750909 0.25290459]\n",
      "  [0.87421405 0.31750909 0.25290459]\n",
      "  [0.87421405 0.47895193 0.25290459]\n",
      "  [0.87421405 0.47895193 0.31750909]]\n",
      "\n",
      " [[0.89949009 0.21194944 0.13549105]\n",
      "  [0.95996973 0.21194944 0.13549105]\n",
      "  [0.95996973 0.89949009 0.13549105]\n",
      "  [0.95996973 0.89949009 0.21194944]]\n",
      "\n",
      " [[0.6478121  0.51985214 0.04811184]\n",
      "  [0.94620768 0.51985214 0.04811184]\n",
      "  [0.94620768 0.6478121  0.04811184]\n",
      "  [0.94620768 0.6478121  0.51985214]]]\n",
      "[[[0.77719475 0.73858866 0.32631081]\n",
      "  [0.89791399 0.73858866 0.32631081]\n",
      "  [0.89791399 0.77719475 0.32631081]\n",
      "  [0.89791399 0.77719475 0.73858866]]\n",
      "\n",
      " [[0.87981172 0.70719782 0.22197591]\n",
      "  [0.91386318 0.70719782 0.22197591]\n",
      "  [0.91386318 0.87981172 0.22197591]\n",
      "  [0.91386318 0.87981172 0.70719782]]\n",
      "\n",
      " [[0.94442544 0.87335691 0.16734355]\n",
      "  [0.99620411 0.87335691 0.16734355]\n",
      "  [0.99620411 0.94442544 0.16734355]\n",
      "  [0.99620411 0.94442544 0.87335691]]\n",
      "\n",
      " ...\n",
      "\n",
      " [[0.17476984 0.15288245 0.08938354]\n",
      "  [0.28017196 0.15288245 0.08938354]\n",
      "  [0.28017196 0.17476984 0.08938354]\n",
      "  [0.28017196 0.17476984 0.15288245]]\n",
      "\n",
      " [[0.62309485 0.30133546 0.24450805]\n",
      "  [0.79717736 0.30133546 0.24450805]\n",
      "  [0.79717736 0.62309485 0.24450805]\n",
      "  [0.79717736 0.62309485 0.30133546]]\n",
      "\n",
      " [[0.95065251 0.63296755 0.15246347]\n",
      "  [0.97076846 0.63296755 0.15246347]\n",
      "  [0.97076846 0.95065251 0.15246347]\n",
      "  [0.97076846 0.95065251 0.63296755]]]\n",
      "[1.44279696 2.45088923 2.37861481 ... 1.92357967 2.20690031 2.16198377]\n",
      "[2.74000821 2.72284863 2.98133001 ... 1.         1.96611572 2.70685199]\n"
     ]
    }
   ],
   "source": [
    "global temp_list\n",
    "temp_list = []\n",
    "def appen(_x_list,y):\n",
    "    global temp_list\n",
    "    temp_list.append(_x_list)\n",
    "    \n",
    "def appen_train(x_list):\n",
    "    global temp_list\n",
    "                \n",
    "    S= max(sum(x_list),1.0);\n",
    "    temp_list = []\n",
    "    \n",
    "    for i in range(Agent_number_n):\n",
    "        temp = []\n",
    "        for j in range(Agent_number_n):\n",
    "            if(i!=j):\n",
    "                temp.append(x_list[j])\n",
    "        appen(temp,S)\n",
    "    \n",
    "    training_data.append(temp_list)\n",
    "    training_label.append(S)\n",
    "    \n",
    "\n",
    "def read_training_data():\n",
    "    for i in range(100000):\n",
    "        appen_train(sorted(np.random.rand(Agent_number_n), reverse=True));\n",
    "\n",
    "training_data=[]\n",
    "training_label=[]\n",
    "S=1.0\n",
    "read_training_data();\n",
    "\n",
    "def appen_test(x_list):\n",
    "    global temp_list\n",
    "                \n",
    "    S= max(sum(x_list),1.0);\n",
    "    temp_list = []\n",
    "    \n",
    "    for i in range(Agent_number_n):\n",
    "        temp = []\n",
    "        for j in range(Agent_number_n):\n",
    "            if(i!=j):\n",
    "                temp.append(x_list[j])\n",
    "        appen(temp,S)\n",
    "    testing_data.append(temp_list)\n",
    "    testing_label.append(S)\n",
    "    \n",
    "\n",
    "def read_testing_data():\n",
    "#     devided=20\n",
    "#     for i1 in range(devided+1):\n",
    "#         for i2 in range(i1+1):\n",
    "#             for i3 in range(i2+1):\n",
    "#                 appen_test(i1/devided,i2/devided,i3/devided);\n",
    "    for i in range(100000):\n",
    "        appen_test(sorted(np.random.rand(Agent_number_n), reverse=True));\n",
    "                            \n",
    "\n",
    "testing_data=[]\n",
    "testing_label=[]\n",
    "S=1.0\n",
    "read_testing_data();\n",
    "\n",
    "training_data=np.array(training_data)\n",
    "training_label=np.array(training_label)\n",
    "testing_data=np.array(testing_data)\n",
    "testing_label=np.array(testing_label)\n",
    "print(training_data)\n",
    "print(testing_data)\n",
    "print(training_label)\n",
    "print(testing_label)"
   ]
  },
  {
   "cell_type": "code",
   "execution_count": 4,
   "metadata": {
    "ExecuteTime": {
     "end_time": "2021-06-01T04:56:40.748641Z",
     "start_time": "2021-06-01T04:56:40.733993Z"
    }
   },
   "outputs": [
    {
     "name": "stdout",
     "output_type": "stream",
     "text": [
      "[[0.70870741 0.16713258 0.15688668]\n",
      " [0.87599273 0.56706249 0.24300791]\n",
      " [0.83185056 0.58188895 0.16594584]\n",
      " ...\n",
      " [0.87421405 0.31750909 0.25290459]\n",
      " [0.95996973 0.21194944 0.13549105]\n",
      " [0.94620768 0.51985214 0.04811184]]\n"
     ]
    }
   ],
   "source": [
    "print(training_data[:,1])"
   ]
  },
  {
   "cell_type": "code",
   "execution_count": 7,
   "metadata": {
    "ExecuteTime": {
     "end_time": "2021-06-01T04:58:50.632365Z",
     "start_time": "2021-06-01T04:58:50.611386Z"
    }
   },
   "outputs": [],
   "source": [
    "def kernelTrans(X, A, kTup):\n",
    "    \"\"\"\n",
    "    Function：   核转换函数\n",
    "\n",
    "    Input：      X：数据集\n",
    "                A：某一行数据\n",
    "                kTup：核函数信息\n",
    "\n",
    "    Output： K：计算出的核向量\n",
    "    \"\"\" \n",
    "    #获取数据集行列数\n",
    "    m, n = np.shape(X)\n",
    "    #初始化列向量\n",
    "    K = np.mat(np.zeros((m, 1)))\n",
    "    #根据键值选择相应核函数\n",
    "    #lin表示的是线性核函数\n",
    "    if kTup[0] == 'lin': K = X * A.T\n",
    "    #rbf表示径向基核函数\n",
    "    elif kTup[0] == 'rbf':\n",
    "        for j in range(m):\n",
    "            deltaRow = X[j,:] - A\n",
    "            K[j] = np.deltaRow * np.deltaRow.T\n",
    "        #对矩阵元素展开计算，而不像在MATLAB中一样计算矩阵的逆\n",
    "        K =  exp(K/(-1*kTup[1]**2))\n",
    "    #如果无法识别，就报错\n",
    "    else: raise NameError('Houston We Have a Problem -- That Kernel is not recognized')\n",
    "    #返回计算出的核向量\n",
    "    return K\n"
   ]
  },
  {
   "cell_type": "code",
   "execution_count": 8,
   "metadata": {
    "ExecuteTime": {
     "end_time": "2021-06-01T04:58:51.118603Z",
     "start_time": "2021-06-01T04:58:51.099627Z"
    },
    "run_control": {
     "marked": true
    }
   },
   "outputs": [
    {
     "ename": "ValueError",
     "evalue": "too many values to unpack (expected 2)",
     "output_type": "error",
     "traceback": [
      "\u001b[1;31m---------------------------------------------------------------------------\u001b[0m",
      "\u001b[1;31mValueError\u001b[0m                                Traceback (most recent call last)",
      "\u001b[1;32m<ipython-input-8-9ca27e676b94>\u001b[0m in \u001b[0;36m<module>\u001b[1;34m\u001b[0m\n\u001b[1;32m----> 1\u001b[1;33m \u001b[0mk\u001b[0m \u001b[1;33m=\u001b[0m \u001b[0mkernelTrans\u001b[0m\u001b[1;33m(\u001b[0m\u001b[0mtraining_data\u001b[0m\u001b[1;33m,\u001b[0m \u001b[0mtraining_data\u001b[0m\u001b[1;33m[\u001b[0m\u001b[1;33m:\u001b[0m\u001b[1;33m,\u001b[0m\u001b[1;36m1\u001b[0m\u001b[1;33m]\u001b[0m\u001b[1;33m,\u001b[0m \u001b[1;34m'lin'\u001b[0m\u001b[1;33m)\u001b[0m\u001b[1;33m\u001b[0m\u001b[1;33m\u001b[0m\u001b[0m\n\u001b[0m",
      "\u001b[1;32m<ipython-input-7-20a724aa226a>\u001b[0m in \u001b[0;36mkernelTrans\u001b[1;34m(X, A, kTup)\u001b[0m\n\u001b[0;32m     10\u001b[0m     \"\"\" \n\u001b[0;32m     11\u001b[0m     \u001b[1;31m#获取数据集行列数\u001b[0m\u001b[1;33m\u001b[0m\u001b[1;33m\u001b[0m\u001b[1;33m\u001b[0m\u001b[0m\n\u001b[1;32m---> 12\u001b[1;33m     \u001b[0mm\u001b[0m\u001b[1;33m,\u001b[0m \u001b[0mn\u001b[0m \u001b[1;33m=\u001b[0m \u001b[0mnp\u001b[0m\u001b[1;33m.\u001b[0m\u001b[0mshape\u001b[0m\u001b[1;33m(\u001b[0m\u001b[0mX\u001b[0m\u001b[1;33m)\u001b[0m\u001b[1;33m\u001b[0m\u001b[1;33m\u001b[0m\u001b[0m\n\u001b[0m\u001b[0;32m     13\u001b[0m     \u001b[1;31m#初始化列向量\u001b[0m\u001b[1;33m\u001b[0m\u001b[1;33m\u001b[0m\u001b[1;33m\u001b[0m\u001b[0m\n\u001b[0;32m     14\u001b[0m     \u001b[0mK\u001b[0m \u001b[1;33m=\u001b[0m \u001b[0mnp\u001b[0m\u001b[1;33m.\u001b[0m\u001b[0mmat\u001b[0m\u001b[1;33m(\u001b[0m\u001b[0mnp\u001b[0m\u001b[1;33m.\u001b[0m\u001b[0mzeros\u001b[0m\u001b[1;33m(\u001b[0m\u001b[1;33m(\u001b[0m\u001b[0mm\u001b[0m\u001b[1;33m,\u001b[0m \u001b[1;36m1\u001b[0m\u001b[1;33m)\u001b[0m\u001b[1;33m)\u001b[0m\u001b[1;33m)\u001b[0m\u001b[1;33m\u001b[0m\u001b[1;33m\u001b[0m\u001b[0m\n",
      "\u001b[1;31mValueError\u001b[0m: too many values to unpack (expected 2)"
     ]
    }
   ],
   "source": [
    "k = kernelTrans(training_data, training_data[:,1], 'lin')"
   ]
  },
  {
   "cell_type": "code",
   "execution_count": null,
   "metadata": {},
   "outputs": [],
   "source": []
  }
 ],
 "metadata": {
  "hide_input": false,
  "kernelspec": {
   "display_name": "Python 3",
   "language": "python",
   "name": "python3"
  },
  "language_info": {
   "codemirror_mode": {
    "name": "ipython",
    "version": 3
   },
   "file_extension": ".py",
   "mimetype": "text/x-python",
   "name": "python",
   "nbconvert_exporter": "python",
   "pygments_lexer": "ipython3",
   "version": "3.8.3"
  },
  "varInspector": {
   "cols": {
    "lenName": 16,
    "lenType": 16,
    "lenVar": 40
   },
   "kernels_config": {
    "python": {
     "delete_cmd_postfix": "",
     "delete_cmd_prefix": "del ",
     "library": "var_list.py",
     "varRefreshCmd": "print(var_dic_list())"
    },
    "r": {
     "delete_cmd_postfix": ") ",
     "delete_cmd_prefix": "rm(",
     "library": "var_list.r",
     "varRefreshCmd": "cat(var_dic_list()) "
    }
   },
   "types_to_exclude": [
    "module",
    "function",
    "builtin_function_or_method",
    "instance",
    "_Feature"
   ],
   "window_display": false
  }
 },
 "nbformat": 4,
 "nbformat_minor": 4
}
