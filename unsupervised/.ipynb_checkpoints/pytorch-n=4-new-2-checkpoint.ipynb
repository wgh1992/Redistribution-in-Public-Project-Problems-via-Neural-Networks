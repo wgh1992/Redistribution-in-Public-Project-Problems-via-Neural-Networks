{
 "cells": [
  {
   "cell_type": "code",
   "execution_count": 1,
   "metadata": {
    "ExecuteTime": {
     "end_time": "2021-06-01T12:26:19.589932Z",
     "start_time": "2021-06-01T12:26:17.699505Z"
    }
   },
   "outputs": [
    {
     "name": "stdout",
     "output_type": "stream",
     "text": [
      "pygame 2.0.1 (SDL 2.0.14, Python 3.8.3)\n",
      "Hello from the pygame community. https://www.pygame.org/contribute.html\n",
      "cuda:0\n"
     ]
    },
    {
     "name": "stderr",
     "output_type": "stream",
     "text": [
      "D:\\ComputerSoftwares\\Anaconda\\lib\\site-packages\\sklearn\\utils\\deprecation.py:143: FutureWarning: The sklearn.datasets.samples_generator module is  deprecated in version 0.22 and will be removed in version 0.24. The corresponding classes / functions should instead be imported from sklearn.datasets. Anything that cannot be imported from sklearn.datasets is now part of the private API.\n",
      "  warnings.warn(message, FutureWarning)\n"
     ]
    }
   ],
   "source": [
    "\n",
    "import pygame\n",
    "import random\n",
    "import os\n",
    "import time\n",
    "import numpy as np\n",
    "import math\n",
    "import torch\n",
    "import torch.nn.functional\n",
    "import matplotlib.pyplot as plt\n",
    "import torch.optim as opt\n",
    "from torch.autograd import Variable\n",
    "from sklearn.model_selection import train_test_split\n",
    "\n",
    "import scipy.stats as st\n",
    "from sklearn.datasets.samples_generator import make_blobs\n",
    "from matplotlib.colors import LogNorm \n",
    "import matplotlib.cm as cm\n",
    "import torch.nn as nn\n",
    "import numpy as np\n",
    "import matplotlib.pyplot as plt\n",
    "\n",
    "\n",
    "if torch.cuda.is_available():  \n",
    "    dev = \"cuda:0\" \n",
    "else:  \n",
    "    dev = \"cpu\"  \n",
    "\n",
    "print(dev)\n"
   ]
  },
  {
   "cell_type": "code",
   "execution_count": 2,
   "metadata": {
    "ExecuteTime": {
     "end_time": "2021-06-01T12:26:19.605213Z",
     "start_time": "2021-06-01T12:26:19.591925Z"
    }
   },
   "outputs": [],
   "source": [
    "global temp_list\n",
    "temp_list = []\n",
    "Agent_number_n=4;\n",
    "Alpha = 0.666;\n",
    "\n"
   ]
  },
  {
   "cell_type": "code",
   "execution_count": 3,
   "metadata": {
    "ExecuteTime": {
     "end_time": "2021-06-01T12:26:21.746232Z",
     "start_time": "2021-06-01T12:26:19.606210Z"
    }
   },
   "outputs": [
    {
     "name": "stdout",
     "output_type": "stream",
     "text": [
      "[[[0.88101279 0.54191888 0.50612025]\n",
      "  [0.90489228 0.54191888 0.50612025]\n",
      "  [0.90489228 0.88101279 0.50612025]\n",
      "  [0.90489228 0.88101279 0.54191888]]\n",
      "\n",
      " [[0.69277395 0.26160944 0.09036412]\n",
      "  [0.88635393 0.26160944 0.09036412]\n",
      "  [0.88635393 0.69277395 0.09036412]\n",
      "  [0.88635393 0.69277395 0.26160944]]\n",
      "\n",
      " [[0.58706823 0.54291644 0.38017882]\n",
      "  [0.72204032 0.54291644 0.38017882]\n",
      "  [0.72204032 0.58706823 0.38017882]\n",
      "  [0.72204032 0.58706823 0.54291644]]\n",
      "\n",
      " ...\n",
      "\n",
      " [[0.74467989 0.64493718 0.19594554]\n",
      "  [0.97190548 0.64493718 0.19594554]\n",
      "  [0.97190548 0.74467989 0.19594554]\n",
      "  [0.97190548 0.74467989 0.64493718]]\n",
      "\n",
      " [[0.48842304 0.26924955 0.0387953 ]\n",
      "  [0.73211139 0.26924955 0.0387953 ]\n",
      "  [0.73211139 0.48842304 0.0387953 ]\n",
      "  [0.73211139 0.48842304 0.26924955]]\n",
      "\n",
      " [[0.70967415 0.44927573 0.37188678]\n",
      "  [0.77715335 0.44927573 0.37188678]\n",
      "  [0.77715335 0.70967415 0.37188678]\n",
      "  [0.77715335 0.70967415 0.44927573]]]\n",
      "[[[0.81449612 0.6103413  0.22515712]\n",
      "  [0.82696508 0.6103413  0.22515712]\n",
      "  [0.82696508 0.81449612 0.22515712]\n",
      "  [0.82696508 0.81449612 0.6103413 ]]\n",
      "\n",
      " [[0.57620684 0.07629085 0.07564467]\n",
      "  [0.72272201 0.07629085 0.07564467]\n",
      "  [0.72272201 0.57620684 0.07564467]\n",
      "  [0.72272201 0.57620684 0.07629085]]\n",
      "\n",
      " [[0.52275955 0.40722352 0.21137166]\n",
      "  [0.76693846 0.40722352 0.21137166]\n",
      "  [0.76693846 0.52275955 0.21137166]\n",
      "  [0.76693846 0.52275955 0.40722352]]\n",
      "\n",
      " ...\n",
      "\n",
      " [[0.86824769 0.73110099 0.40816755]\n",
      "  [0.935064   0.73110099 0.40816755]\n",
      "  [0.935064   0.86824769 0.40816755]\n",
      "  [0.935064   0.86824769 0.73110099]]\n",
      "\n",
      " [[0.58738981 0.42205535 0.20978856]\n",
      "  [0.85596139 0.42205535 0.20978856]\n",
      "  [0.85596139 0.58738981 0.20978856]\n",
      "  [0.85596139 0.58738981 0.42205535]]\n",
      "\n",
      " [[0.72657633 0.68414214 0.57354555]\n",
      "  [0.94381825 0.68414214 0.57354555]\n",
      "  [0.94381825 0.72657633 0.57354555]\n",
      "  [0.94381825 0.72657633 0.68414214]]]\n",
      "[2.8339442  1.93110144 2.23220381 ... 2.55746808 1.52857927 2.30799   ]\n",
      "[2.47695962 1.45086437 1.90829318 ... 2.94258022 2.07519511 2.92808227]\n"
     ]
    }
   ],
   "source": [
    "global temp_list\n",
    "temp_list = []\n",
    "def appen(_x_list,y):\n",
    "    global temp_list\n",
    "    temp_list.append(_x_list)\n",
    "    \n",
    "def appen_train(x_list):\n",
    "    global temp_list\n",
    "                \n",
    "    S= max(sum(x_list),1.0);\n",
    "    temp_list = []\n",
    "    \n",
    "    for i in range(Agent_number_n):\n",
    "        temp = []\n",
    "        for j in range(Agent_number_n):\n",
    "            if(i!=j):\n",
    "                temp.append(x_list[j])\n",
    "        appen(temp,S)\n",
    "    \n",
    "    training_data.append(temp_list)\n",
    "    training_label.append(S)\n",
    "    \n",
    "\n",
    "def read_training_data():\n",
    "    for i in range(100000):\n",
    "        appen_train(sorted(np.random.rand(Agent_number_n), reverse=True));\n",
    "\n",
    "training_data=[]\n",
    "training_label=[]\n",
    "S=1.0\n",
    "read_training_data();\n",
    "\n",
    "def appen_test(x_list):\n",
    "    global temp_list\n",
    "                \n",
    "    S= max(sum(x_list),1.0);\n",
    "    temp_list = []\n",
    "    \n",
    "    for i in range(Agent_number_n):\n",
    "        temp = []\n",
    "        for j in range(Agent_number_n):\n",
    "            if(i!=j):\n",
    "                temp.append(x_list[j])\n",
    "        appen(temp,S)\n",
    "    testing_data.append(temp_list)\n",
    "    testing_label.append(S)\n",
    "    \n",
    "\n",
    "def read_testing_data():\n",
    "#     devided=20\n",
    "#     for i1 in range(devided+1):\n",
    "#         for i2 in range(i1+1):\n",
    "#             for i3 in range(i2+1):\n",
    "#                 appen_test(i1/devided,i2/devided,i3/devided);\n",
    "    for i in range(10000):\n",
    "        appen_test(sorted(np.random.rand(Agent_number_n), reverse=True));\n",
    "                            \n",
    "\n",
    "testing_data=[]\n",
    "testing_label=[]\n",
    "S=1.0\n",
    "read_testing_data();\n",
    "\n",
    "training_data=np.array(training_data)\n",
    "training_label=np.array(training_label)\n",
    "testing_data=np.array(testing_data)\n",
    "testing_label=np.array(testing_label)\n",
    "print(training_data)\n",
    "print(testing_data)\n",
    "print(training_label)\n",
    "print(testing_label)"
   ]
  },
  {
   "cell_type": "code",
   "execution_count": 4,
   "metadata": {
    "ExecuteTime": {
     "end_time": "2021-06-01T12:26:51.820613Z",
     "start_time": "2021-06-01T12:26:21.747161Z"
    }
   },
   "outputs": [
    {
     "name": "stdout",
     "output_type": "stream",
     "text": [
      "3.372758326335814 2.9999999999999996 0.3727583263358145\n"
     ]
    }
   ],
   "source": [
    "def h_3_star(a, b, t):\n",
    "    return a - min(a, t) + b - min(b, t) + max(min(a, t)+min(b, t), 2*t/3) + 1/2 * max(min(a, t)+min(b, t), t) - 1/2 * max(max(min(a, t), min(b, t)), 2*t/3) - t/6\n",
    "\n",
    "\n",
    "def f_function(a, b, z):\n",
    "    if(z >= 1):\n",
    "        return (a+b)/2 + z/3\n",
    "    else:\n",
    "        return z/3 + h_3_star(a, b, 1-z)/2\n",
    "\n",
    "def h_function(input_list):\n",
    "    #input_list = sorted(input_list)\n",
    "    g_list = []\n",
    "    for j1 in range(len(input_list) ):\n",
    "        for j2 in range(len(input_list)):\n",
    "            if(j1 != j2):\n",
    "                a = input_list[j1]\n",
    "                b = input_list[j2]\n",
    "                z = sum(input_list)- a-b\n",
    "\n",
    "                g_list.append( f_function(a, b, z) * (Agent_number_n-1))\n",
    "    h = sum(g_list) * 3 /  (Agent_number_n) /  (Agent_number_n-1) /  (Agent_number_n - 2)\n",
    "    return h\n",
    "                \n",
    "                \n",
    "x_list = []\n",
    "y_list = []\n",
    "z_list = []\n",
    "result_list = []\n",
    "training_supervised_label=[]\n",
    "for index in range(len(training_data)):\n",
    "    h_list = []\n",
    "    for i in range(Agent_number_n):\n",
    "        x_list.append(training_data[index][i][0])\n",
    "        y_list.append(training_data[index][i][1])\n",
    "        h = h_function(training_data[index][i])\n",
    "        z_list.append(float(h))\n",
    "        h_list.append(float(h))\n",
    "    training_supervised_label.append(h_list)\n",
    "    result_list.append(sum(h_list)/training_label[index]) \n",
    "    \n",
    "    \n",
    "print(max(result_list), min(result_list), max(result_list)-min(result_list))"
   ]
  },
  {
   "cell_type": "code",
   "execution_count": 5,
   "metadata": {
    "ExecuteTime": {
     "end_time": "2021-06-01T12:26:53.093063Z",
     "start_time": "2021-06-01T12:26:51.822607Z"
    }
   },
   "outputs": [
    {
     "data": {
      "image/png": "[encoded data removed]",
      "text/plain": [
       "<Figure size 432x288 with 1 Axes>"
      ]
     },
     "metadata": {
      "needs_background": "light"
     },
     "output_type": "display_data"
    }
   ],
   "source": [
    "plt.hist(result_list,bins=500)\n",
    "\n",
    "plt.title(\"Means\", y=1.015, fontsize=20)\n",
    "plt.axvline(x=sum(result_list)/len(result_list), linestyle='--', linewidth=2.5, label=\"sample mean\", c='orange')\n",
    "plt.xlabel(\"samples\", labelpad=14)\n",
    "plt.ylabel(\"frequency of occurence\", labelpad=14)\n",
    "plt.legend();\n",
    "\n",
    "result_list.sort()\n",
    "\n",
    "plt.axvline(x=result_list[int(len(result_list)*0.01)], linestyle='--', linewidth=0.5, label=\"1%\", c='b')\n",
    "plt.axvline(x=result_list[int(len(result_list)*0.99)], linestyle='--', linewidth=0.5, label=\"99%\", c='r')\n",
    "\n",
    "\n",
    "plt.show()"
   ]
  },
  {
   "cell_type": "code",
   "execution_count": 6,
   "metadata": {
    "ExecuteTime": {
     "end_time": "2021-06-01T12:26:53.234187Z",
     "start_time": "2021-06-01T12:26:53.094023Z"
    }
   },
   "outputs": [
    {
     "name": "stdout",
     "output_type": "stream",
     "text": [
      "[[2.06292043 2.08381498 2.38052215 2.41184596]\n",
      " [1.00548255 1.21116127 1.75011691 1.96853892]\n",
      " [1.66141259 1.78565434 1.84084409 1.99552187]\n",
      " ...\n",
      " [1.69156556 1.90152068 2.02619907 2.44133222]\n",
      " [0.80860979 0.98269852 1.25666539 1.5876882 ]\n",
      " [1.64741801 1.70646231 2.00137499 2.06909032]]\n"
     ]
    }
   ],
   "source": [
    "training_supervised_label=np.array(training_supervised_label)\n",
    "print(training_supervised_label)"
   ]
  },
  {
   "cell_type": "code",
   "execution_count": 7,
   "metadata": {
    "ExecuteTime": {
     "end_time": "2021-06-01T12:26:53.250144Z",
     "start_time": "2021-06-01T12:26:53.237180Z"
    }
   },
   "outputs": [
    {
     "name": "stdout",
     "output_type": "stream",
     "text": [
      "cuda:0\n"
     ]
    }
   ],
   "source": [
    "if torch.cuda.is_available():  \n",
    "    dev = \"cuda:0\" \n",
    "else:  \n",
    "    dev = \"cpu\"  \n",
    "\n",
    "print(dev)\n"
   ]
  },
  {
   "cell_type": "code",
   "execution_count": 8,
   "metadata": {
    "ExecuteTime": {
     "end_time": "2021-06-01T12:26:53.281062Z",
     "start_time": "2021-06-01T12:26:53.252141Z"
    },
    "run_control": {
     "marked": true
    }
   },
   "outputs": [],
   "source": [
    "def weight_init(m):\n",
    "    if isinstance(m, torch.nn.Conv2d):\n",
    "        torch.nn.init.xavier_normal_(m.weight)\n",
    "        torch.nn.init.zeros_(m.bias)\n",
    "    elif isinstance(m, torch.nn.Linear):\n",
    "        torch.nn.init.normal_(m.weight, mean=0.0,std =0.2)\n",
    "        torch.nn.init.normal_(m.bias, mean=0.0,std =0.01)\n",
    "#     elif isinstance(m, torch.nn.Parameter):\n",
    "#         torch.nn.init.normal_(m, mean=0.0,std =0.1)\n",
    "\n",
    "        \n",
    "\n",
    "class Net(torch.nn.Module):\n",
    "    def __init__(self):\n",
    "\n",
    "        super(Net, self).__init__()\n",
    "        self.devided_number = Agent_number_n*2\n",
    "        self.input_dim = (Agent_number_n-1+1)*(self.devided_number+1)\n",
    "        self.hidden_dim = 15\n",
    "        self.output_dim = 1\n",
    "        self.hidden_layer_count = 1\n",
    "        \n",
    "        current_dim = self.input_dim\n",
    "        self.layers = torch.nn.ModuleList()\n",
    "        for i in range(self.hidden_layer_count):\n",
    "            self.layers.append(torch.nn.Linear(current_dim, self.hidden_dim))\n",
    "            current_dim = self.hidden_dim\n",
    "        self.layers.append(torch.nn.Linear(current_dim, self.output_dim))\n",
    "\n",
    "    def calculate(self, value_list):\n",
    "        input_h = torch.zeros(self.input_dim).cuda()\n",
    "        value_list = torch.cat([torch.tensor([torch.sum(value_list)]).cuda(),value_list])\n",
    "        for i in range((Agent_number_n-1+1)):\n",
    "            input_h[i] = value_list[i]\n",
    "        \n",
    "        for i in range((Agent_number_n-1+1)):\n",
    "            for j in range(self.devided_number):\n",
    "                \n",
    "                input_h[i*self.devided_number+j+Agent_number_n] = torch.where( value_list[i]*self.devided_number>torch.tensor(j) ,\n",
    "                            torch.ones(1).cuda(),\n",
    "                            value_list[i]*self.devided_number - torch.tensor(j)\n",
    "                          )\n",
    "                if(value_list[i]*self.devided_number<=torch.tensor(j)):\n",
    "                    break;\n",
    "        \n",
    "        h = input_h\n",
    "        for layer in self.layers:\n",
    "            h = torch.relu(layer(h))\n",
    "        return h\n",
    "\n",
    "    def forward(self, input_list,input_label,label):\n",
    "        global iteration,echo,target_order\n",
    "        loss1 = 0\n",
    "        loss2 = 0\n",
    "        input_list = torch.from_numpy(\n",
    "            np.array(input_list)).cuda().type(torch.float32)\n",
    "        h_list = []\n",
    "\n",
    "\n",
    "        for i in range(Agent_number_n):\n",
    "            h = self.calculate(input_list[i])\n",
    "            h_list.append(h)\n",
    "        input_label = torch.from_numpy(\n",
    "            np.array(input_label)).cuda().type(torch.float32)\n",
    "        sum_h = torch.sum(torch.cat(h_list)).cuda()\n",
    "\n",
    "\n",
    "        loss1 = torch.where((Agent_number_n-1)*input_label>sum_h,\n",
    "                        torch.square(((Agent_number_n-1)*input_label-sum_h)),\n",
    "                        torch.zeros(1).cuda()\n",
    "                      )\n",
    "\n",
    "        loss2 = torch.where((Agent_number_n-Alpha)*input_label<sum_h,\n",
    "                        torch.square((sum_h-(Agent_number_n-Alpha)*input_label))/4,\n",
    "                        torch.zeros(1).cuda()\n",
    "                      )\n",
    "\n",
    "        return loss1,loss2,h_list"
   ]
  },
  {
   "cell_type": "code",
   "execution_count": 9,
   "metadata": {
    "ExecuteTime": {
     "end_time": "2021-06-01T12:26:54.513738Z",
     "start_time": "2021-06-01T12:26:53.283058Z"
    }
   },
   "outputs": [
    {
     "data": {
      "text/plain": [
       "Net(\n",
       "  (layers): ModuleList(\n",
       "    (0): Linear(in_features=36, out_features=15, bias=True)\n",
       "    (1): Linear(in_features=15, out_features=1, bias=True)\n",
       "  )\n",
       ")"
      ]
     },
     "execution_count": 9,
     "metadata": {},
     "output_type": "execute_result"
    }
   ],
   "source": [
    "random.seed(2000)\n",
    "torch.manual_seed(256)\n",
    "net  = Net()\n",
    "net.apply(weight_init)\n",
    "\n",
    "#net = torch.load( \"save/Deep_learning_small4_2\")\n",
    "net.to(dev)"
   ]
  },
  {
   "cell_type": "code",
   "execution_count": 10,
   "metadata": {
    "ExecuteTime": {
     "end_time": "2021-06-01T12:26:54.528755Z",
     "start_time": "2021-06-01T12:26:54.515733Z"
    }
   },
   "outputs": [],
   "source": [
    "#optimizer = opt.RMSprop(net.parameters(), lr=0.00001)\n",
    "#optimizer = opt.SGD(net.parameters(), lr=0.00005)\n",
    "optimizer = opt.Adam(net.parameters(), lr=0.001)\n",
    "\n",
    "batch_size = 64\n",
    "echo = 1"
   ]
  },
  {
   "cell_type": "code",
   "execution_count": 11,
   "metadata": {
    "ExecuteTime": {
     "end_time": "2021-06-01T13:17:35.941295Z",
     "start_time": "2021-06-01T12:26:54.529694Z"
    }
   },
   "outputs": [
    {
     "name": "stdout",
     "output_type": "stream",
     "text": [
      "3024 tensor([1.6764], device='cuda:0', grad_fn=<DivBackward0>) 105.40545654296875 1.886573076248169\n",
      "3402 tensor([0.5313], device='cuda:0', grad_fn=<DivBackward0>) 30.923988342285156 3.0775234699249268\n",
      "4347 tensor([0.6864], device='cuda:0', grad_fn=<DivBackward0>) 22.04166030883789 21.88485336303711\n",
      "5166 tensor([0.3859], device='cuda:0', grad_fn=<DivBackward0>) 5.367820739746094 19.327560424804688\n",
      "5859 tensor([0.5215], device='cuda:0', grad_fn=<DivBackward0>) 11.86274528503418 21.515995025634766\n",
      "6867 tensor([0.4878], device='cuda:0', grad_fn=<DivBackward0>) 21.156206130981445 10.063657760620117\n",
      "7434 tensor([0.4964], device='cuda:0', grad_fn=<DivBackward0>) 15.881175994873047 15.885855674743652\n",
      "8883 tensor([0.3273], device='cuda:0', grad_fn=<DivBackward0>) 13.129862785339355 7.819036960601807\n",
      "9954 tensor([0.2203], device='cuda:0', grad_fn=<DivBackward0>) 5.643159866333008 8.45511531829834\n",
      "11025 tensor([0.2272], device='cuda:0', grad_fn=<DivBackward0>) 6.689343452453613 7.851259708404541\n",
      "11466 tensor([0.2650], device='cuda:0', grad_fn=<DivBackward0>) 10.660343170166016 6.301130771636963\n",
      "13104 tensor([0.2215], device='cuda:0', grad_fn=<DivBackward0>) 7.620120525360107 6.554813861846924\n",
      "13797 tensor([0.1534], device='cuda:0', grad_fn=<DivBackward0>) 2.906198024749756 6.912853240966797\n",
      "14553 tensor([0.1219], device='cuda:0', grad_fn=<DivBackward0>) 2.479081392288208 5.322859287261963\n",
      "16128 tensor([0.1105], device='cuda:0', grad_fn=<DivBackward0>) 2.077381134033203 4.995321273803711\n",
      "16569 tensor([0.1094], device='cuda:0', grad_fn=<DivBackward0>) 2.5460734367370605 4.455728054046631\n",
      "17073 tensor([0.1616], device='cuda:0', grad_fn=<DivBackward0>) 7.816973686218262 2.5273754596710205\n",
      "18081 tensor([0.0613], device='cuda:0', grad_fn=<DivBackward0>) 0.7249863743782043 3.1975204944610596\n",
      "19089 tensor([0.0691], device='cuda:0', grad_fn=<DivBackward0>) 0.9200641512870789 3.501704216003418\n",
      "24129 tensor([0.0324], device='cuda:0', grad_fn=<DivBackward0>) 0.24178099632263184 1.8317177295684814\n",
      "24381 tensor([0.0456], device='cuda:0', grad_fn=<DivBackward0>) 0.3939375877380371 2.523873805999756\n",
      "25011 tensor([0.0505], device='cuda:0', grad_fn=<DivBackward0>) 0.5989251732826233 2.6350276470184326\n",
      "26460 tensor([0.0686], device='cuda:0', grad_fn=<DivBackward0>) 2.2787110805511475 2.113755464553833\n",
      "30807 tensor([0.0352], device='cuda:0', grad_fn=<DivBackward0>) 0.3652140498161316 1.889976978302002\n",
      "30996 tensor([0.0249], device='cuda:0', grad_fn=<DivBackward0>) 0.5787351131439209 1.0134732723236084\n",
      "31374 tensor([0.0388], device='cuda:0', grad_fn=<DivBackward0>) 1.4146796464920044 1.0713484287261963\n",
      "32445 tensor([0.0342], device='cuda:0', grad_fn=<DivBackward0>) 0.6270156502723694 1.5624700784683228\n",
      "34083 tensor([0.0210], device='cuda:0', grad_fn=<DivBackward0>) 0.31288719177246094 1.0311359167099\n",
      "35091 tensor([0.0226], device='cuda:0', grad_fn=<DivBackward0>) 0.2146296501159668 1.2305203676223755\n",
      "35658 tensor([0.0194], device='cuda:0', grad_fn=<DivBackward0>) 0.4677039384841919 0.772220253944397\n",
      "36351 tensor([0.0247], device='cuda:0', grad_fn=<DivBackward0>) 0.2504364252090454 1.3334952592849731\n",
      "36666 tensor([0.0233], device='cuda:0', grad_fn=<DivBackward0>) 0.6429843306541443 0.8450367450714111\n",
      "37548 tensor([0.0247], device='cuda:0', grad_fn=<DivBackward0>) 0.6945204734802246 0.883732795715332\n",
      "41265 tensor([0.0102], device='cuda:0', grad_fn=<DivBackward0>) 0.21072235703468323 0.4448188841342926\n",
      "48006 tensor([0.0068], device='cuda:0', grad_fn=<DivBackward0>) 0.2614518702030182 0.17265376448631287\n",
      "49266 tensor([0.0108], device='cuda:0', grad_fn=<DivBackward0>) 0.25191575288772583 0.4396432638168335\n",
      "50967 tensor([0.0099], device='cuda:0', grad_fn=<DivBackward0>) 0.3010116517543793 0.33016854524612427\n",
      "51219 tensor([0.0282], device='cuda:0', grad_fn=<DivBackward0>) 1.1133662462234497 0.6925316452980042\n",
      "51660 tensor([0.0157], device='cuda:0', grad_fn=<DivBackward0>) 0.3327822983264923 0.6691372990608215\n",
      "54180 tensor([0.0096], device='cuda:0', grad_fn=<DivBackward0>) 0.16017286479473114 0.4558296203613281\n",
      "56007 tensor([0.0088], device='cuda:0', grad_fn=<DivBackward0>) 0.11171156913042068 0.4519987106323242\n",
      "58401 tensor([0.0071], device='cuda:0', grad_fn=<DivBackward0>) 0.17944195866584778 0.27759620547294617\n",
      "59661 tensor([0.0286], device='cuda:0', grad_fn=<DivBackward0>) 1.4156677722930908 0.41781944036483765\n",
      "62181 tensor([0.0179], device='cuda:0', grad_fn=<DivBackward0>) 0.41523945331573486 0.7300444841384888\n",
      "62370 tensor([0.0080], device='cuda:0', grad_fn=<DivBackward0>) 0.08862733840942383 0.4229222536087036\n",
      "64071 tensor([0.0076], device='cuda:0', grad_fn=<DivBackward0>) 0.05288005620241165 0.43345052003860474\n",
      "66402 tensor([0.0077], device='cuda:0', grad_fn=<DivBackward0>) 0.18375623226165771 0.30820131301879883\n",
      "68103 tensor([0.0054], device='cuda:0', grad_fn=<DivBackward0>) 0.1273762583732605 0.21828779578208923\n",
      "68166 tensor([0.0066], device='cuda:0', grad_fn=<DivBackward0>) 0.15021055936813354 0.26940813660621643\n",
      "69300 tensor([0.0036], device='cuda:0', grad_fn=<DivBackward0>) 0.03487830609083176 0.197686567902565\n",
      "69426 tensor([0.0107], device='cuda:0', grad_fn=<DivBackward0>) 0.3795170187950134 0.3069714903831482\n",
      "72891 tensor([0.0152], device='cuda:0', grad_fn=<DivBackward0>) 0.22705960273742676 0.7473628520965576\n",
      "73395 tensor([0.0073], device='cuda:0', grad_fn=<DivBackward0>) 0.14083924889564514 0.32371756434440613\n",
      "75159 tensor([0.0143], device='cuda:0', grad_fn=<DivBackward0>) 0.506655752658844 0.40587928891181946\n",
      "75726 tensor([0.0049], device='cuda:0', grad_fn=<DivBackward0>) 0.05329851433634758 0.2597637176513672\n",
      "77175 tensor([0.0127], device='cuda:0', grad_fn=<DivBackward0>) 0.5171217918395996 0.2971786856651306\n",
      "78057 tensor([0.0089], device='cuda:0', grad_fn=<DivBackward0>) 0.18991664052009583 0.380265474319458\n",
      "79569 tensor([0.0107], device='cuda:0', grad_fn=<DivBackward0>) 0.11566398292779922 0.5719225406646729\n",
      "80010 tensor([0.0156], device='cuda:0', grad_fn=<DivBackward0>) 0.3533998429775238 0.6435257792472839\n",
      "81459 tensor([0.0085], device='cuda:0', grad_fn=<DivBackward0>) 0.08595001697540283 0.45790186524391174\n",
      "81963 tensor([0.0071], device='cuda:0', grad_fn=<DivBackward0>) 0.046002913266420364 0.40934160351753235\n",
      "82026 tensor([0.0082], device='cuda:0', grad_fn=<DivBackward0>) 0.1815393716096878 0.3427925407886505\n",
      "85554 tensor([0.0088], device='cuda:0', grad_fn=<DivBackward0>) 0.11903103440999985 0.446699321269989\n",
      "85680 tensor([0.0044], device='cuda:0', grad_fn=<DivBackward0>) 0.19052231311798096 0.09224314987659454\n",
      "85869 tensor([0.0099], device='cuda:0', grad_fn=<DivBackward0>) 0.13392853736877441 0.49673566222190857\n",
      "85995 tensor([0.0083], device='cuda:0', grad_fn=<DivBackward0>) 0.0984056293964386 0.4354451298713684\n",
      "86373 tensor([0.0245], device='cuda:0', grad_fn=<DivBackward0>) 1.469333529472351 0.09745676815509796\n",
      "90279 tensor([0.0086], device='cuda:0', grad_fn=<DivBackward0>) 0.12640583515167236 0.42178791761398315\n",
      "91980 tensor([0.0039], device='cuda:0', grad_fn=<DivBackward0>) 0.11314724385738373 0.13637255132198334\n",
      "92169 tensor([0.0187], device='cuda:0', grad_fn=<DivBackward0>) 1.0584627389907837 0.13721705973148346\n",
      "94878 tensor([0.0064], device='cuda:0', grad_fn=<DivBackward0>) 0.1905752271413803 0.21946504712104797\n",
      "97398 tensor([0.0047], device='cuda:0', grad_fn=<DivBackward0>) 0.01798235811293125 0.28348308801651\n",
      "97776 tensor([0.0068], device='cuda:0', grad_fn=<DivBackward0>) 0.15616849064826965 0.27997493743896484\n",
      "98532 tensor([0.0072], device='cuda:0', grad_fn=<DivBackward0>) 0.275063157081604 0.18341845273971558\n",
      "batch iteration 0\n",
      "batch_loss: 0.71 \n",
      "\n",
      "\n"
     ]
    }
   ],
   "source": [
    "for iteration in range(int(echo)):\n",
    "    # offender_types = []\n",
    "    # defender_types = []\n",
    "    \n",
    "    \n",
    "    X_train_list = []\n",
    "    temp_number = 0\n",
    "    total_batch_loss = 0 \n",
    "    while(temp_number<len(training_data)-1):\n",
    "        \n",
    "        loss2_list = []\n",
    "        loss1_sum = 0\n",
    "        loss2_sum = 0\n",
    "        denominator = 0\n",
    "        for index in range(temp_number, min(batch_size+temp_number,len(training_data))):\n",
    "            h_loss1,h_loss2,h_list = net(training_data[index],training_label[index],0)\n",
    "            denominator += 1\n",
    "            loss1_sum += h_loss1\n",
    "            loss2_sum += h_loss2\n",
    "            \n",
    "        loss_sum = loss1_sum + loss2_sum\n",
    "        loss = (loss_sum) / denominator \n",
    "        total_batch_loss +=float(loss_sum)\n",
    "        optimizer.zero_grad()\n",
    "        \n",
    "        loss.backward()\n",
    "        \n",
    "        optimizer.step()\n",
    "        \n",
    "        temp_number = index\n",
    "        \n",
    "        if(random.random()<=0.05):\n",
    "            print(temp_number,loss,float(loss1_sum),float(loss2_sum))\n",
    "\n",
    "\n",
    "    print(\"batch iteration\", iteration)\n",
    "    print(\"batch_loss: %.2f \" % (total_batch_loss/len(training_data)))\n",
    "    \n",
    "    print()\n",
    "    print()"
   ]
  },
  {
   "cell_type": "code",
   "execution_count": 12,
   "metadata": {
    "ExecuteTime": {
     "end_time": "2021-06-01T13:17:35.956276Z",
     "start_time": "2021-06-01T13:17:35.941295Z"
    }
   },
   "outputs": [],
   "source": [
    "torch.save(net, \"save/Deep_learning_small4_2\")"
   ]
  },
  {
   "cell_type": "code",
   "execution_count": 13,
   "metadata": {
    "ExecuteTime": {
     "end_time": "2021-06-01T13:22:11.209614Z",
     "start_time": "2021-06-01T13:17:35.956276Z"
    }
   },
   "outputs": [
    {
     "name": "stdout",
     "output_type": "stream",
     "text": [
      "4.776635050773621 1.762315183877945 3.0143198668956757\n"
     ]
    }
   ],
   "source": [
    "denominator = 0\n",
    "result_list = []\n",
    "for index in range(len(testing_data)):\n",
    "    h_list = []\n",
    "    for i in range(Agent_number_n):\n",
    "        h = net.calculate(torch.tensor(testing_data[index][i]).cuda().type(torch.float32))\n",
    "        h_list.append(float(h))\n",
    "    \n",
    "    #print(sum(h_list),h_list,sum(h_list)/testing_label[index])\n",
    "    result_list.append(sum(h_list)/testing_label[index])\n",
    "    \n",
    "\n",
    "print(max(result_list),min(result_list),max(result_list)-min(result_list))"
   ]
  },
  {
   "cell_type": "code",
   "execution_count": 14,
   "metadata": {
    "ExecuteTime": {
     "end_time": "2021-06-01T13:22:12.001219Z",
     "start_time": "2021-06-01T13:22:11.209614Z"
    }
   },
   "outputs": [
    {
     "data": {
      "image/png": "[encoded data removed]",
      "text/plain": [
       "<Figure size 432x288 with 1 Axes>"
      ]
     },
     "metadata": {
      "needs_background": "light"
     },
     "output_type": "display_data"
    }
   ],
   "source": [
    "plt.hist(result_list,bins=500)\n",
    "\n",
    "plt.title(\"Means\", y=1.015, fontsize=20)\n",
    "plt.axvline(x=sum(result_list)/len(result_list), linestyle='--', linewidth=2.5, label=\"sample mean\", c='orange')\n",
    "plt.xlabel(\"samples\", labelpad=14)\n",
    "plt.ylabel(\"frequency of occurence\", labelpad=14)\n",
    "plt.legend();\n",
    "\n",
    "result_list.sort()\n",
    "\n",
    "plt.axvline(x=result_list[int(len(result_list)*0.01)], linestyle='--', linewidth=0.5, label=\"1%\", c='b')\n",
    "plt.axvline(x=result_list[int(len(result_list)*0.99)], linestyle='--', linewidth=0.5, label=\"99%\", c='r')\n",
    "\n",
    "\n",
    "plt.show()"
   ]
  },
  {
   "cell_type": "code",
   "execution_count": 15,
   "metadata": {
    "ExecuteTime": {
     "end_time": "2021-06-01T13:22:12.048306Z",
     "start_time": "2021-06-01T13:22:12.002602Z"
    }
   },
   "outputs": [
    {
     "name": "stdout",
     "output_type": "stream",
     "text": [
      "Parameter containing:\n",
      "tensor([[-1.6262e-01,  1.7856e-01,  1.3186e-01,  8.1272e-03, -6.2340e-02,\n",
      "          8.5976e-02,  1.2408e-02,  1.8244e-01, -1.1104e-01, -1.1450e-01,\n",
      "          2.6849e-01,  1.9642e-01, -3.1305e-01,  1.7422e-01, -2.6192e-01,\n",
      "          2.0312e-01,  2.0790e-01,  1.7867e-01,  1.9085e-01,  1.5338e-01,\n",
      "         -8.3764e-02, -7.9496e-02,  2.8835e-01,  1.1313e-01,  2.4499e-01,\n",
      "          7.1575e-01,  3.2854e-01,  3.0061e-01,  3.1355e-01, -6.4237e-03,\n",
      "         -9.3081e-02, -1.4562e-01,  1.9945e-01,  2.2425e-02,  3.2306e-01,\n",
      "          1.9845e-01],\n",
      "        [-7.4069e-02, -3.4327e-01,  4.3838e-02, -6.1941e-02, -2.4268e-01,\n",
      "          8.4784e-02, -5.6656e-03,  2.2992e-01,  2.9634e-01, -1.8364e-01,\n",
      "         -2.2638e-01, -2.8997e-01,  6.0524e-02,  9.1075e-02,  2.6222e-01,\n",
      "          1.7751e-01,  1.8413e-02,  1.1720e-01,  4.9099e-01, -1.7641e-02,\n",
      "          9.5261e-02, -2.7822e-02, -2.0454e-01,  5.6164e-03,  3.8688e-01,\n",
      "          2.7568e-01, -1.6364e-01, -4.1581e-01, -5.8867e-03, -1.9821e-01,\n",
      "         -2.3729e-03,  2.5250e-01,  4.2471e-01,  1.0160e-01, -6.3128e-02,\n",
      "          1.6417e-01],\n",
      "        [ 4.5937e-01,  1.0216e-01, -1.6367e-01,  1.0631e-01, -2.3218e-01,\n",
      "          2.9788e-01, -1.5628e-01,  8.9096e-02,  1.3249e-02, -2.5362e-01,\n",
      "          2.3546e-02,  2.7342e-01,  1.5909e-01, -1.3903e-01,  1.5080e-01,\n",
      "         -7.9681e-02, -1.1829e-01, -9.2090e-02, -2.0709e-01,  4.3608e-01,\n",
      "          2.3138e-01, -1.8837e-01,  1.4398e-01, -9.2200e-02, -8.3262e-02,\n",
      "         -2.4397e-01, -1.2790e-01,  1.5326e-01,  1.9587e-01,  3.6843e-01,\n",
      "          8.0318e-03, -4.5552e-02,  8.8421e-02,  1.6048e-01,  2.4018e-01,\n",
      "         -2.0680e-01],\n",
      "        [-4.2552e-01, -2.2288e-02, -2.9231e-02,  1.3020e-01,  7.7869e-03,\n",
      "          5.8107e-03, -4.3944e-01,  1.9197e-01, -2.7226e-01, -1.4042e-01,\n",
      "          9.0094e-03,  2.1970e-01, -1.0747e-01, -1.9197e-01, -2.3519e-02,\n",
      "          2.3136e-01, -8.4018e-02,  2.0803e-01,  5.8945e-02,  6.9099e-02,\n",
      "         -6.4204e-02,  1.5001e-01,  2.6206e-01, -3.6234e-01,  8.4764e-02,\n",
      "         -5.2896e-02,  1.2694e-02,  3.6698e-01, -5.9365e-01,  2.5433e-02,\n",
      "         -3.0057e-01, -1.1329e-01, -1.5722e-01, -4.4901e-02,  4.3839e-01,\n",
      "         -2.8305e-02],\n",
      "        [ 2.0941e-02,  2.0084e-01, -1.1809e-01,  2.7038e-01,  7.3258e-03,\n",
      "         -1.7097e-01,  1.6897e-01, -8.1564e-02, -3.4299e-02, -4.1567e-02,\n",
      "         -1.6766e-01,  2.1403e-01, -1.3796e-01,  9.5389e-02,  8.4439e-02,\n",
      "          4.7915e-02, -2.1152e-01,  1.6389e-01, -8.4209e-02, -3.1019e-02,\n",
      "          6.1146e-02,  7.6285e-02,  4.4486e-02, -1.0864e-02,  5.1766e-01,\n",
      "          2.4443e-01,  2.9608e-01,  3.0157e-01, -1.2107e-02,  3.2681e-01,\n",
      "          9.9931e-03,  1.8647e-01, -8.5542e-02,  2.9816e-01,  3.6359e-01,\n",
      "         -5.4192e-01],\n",
      "        [-2.2142e-01,  1.0558e-02,  2.9692e-02, -1.5786e-01,  1.9036e-01,\n",
      "         -8.3903e-02, -7.2141e-02,  2.6600e-01, -1.0574e-02,  1.5191e-01,\n",
      "         -5.3307e-02,  6.0188e-02,  1.9403e-01,  1.7744e-01,  1.7992e-01,\n",
      "         -1.2093e-02,  4.7886e-01, -2.0074e-01,  3.4220e-02, -2.0943e-01,\n",
      "          4.2217e-01, -1.1467e-01,  1.6703e-01,  6.0725e-02,  1.0192e-01,\n",
      "          1.0518e-01,  7.1700e-02, -1.3089e-01,  5.5507e-01, -1.0332e-01,\n",
      "          3.2904e-01,  1.1410e-01, -2.5523e-01,  1.5543e-01,  1.6789e-01,\n",
      "         -1.3767e-01],\n",
      "        [ 1.5705e-01, -2.3560e-02, -5.1057e-02, -1.5355e-01, -3.1524e-01,\n",
      "         -8.8267e-02, -1.4507e-01,  1.2973e-02, -8.9116e-02, -9.7956e-02,\n",
      "         -2.3267e-01,  2.3214e-01, -1.7829e-01, -1.9188e-01,  4.6250e-01,\n",
      "          1.8199e-01,  4.7196e-02, -4.5343e-02,  1.1104e-01, -7.4725e-02,\n",
      "          4.8830e-02, -2.9596e-02,  7.6231e-02, -3.7075e-01, -8.9793e-02,\n",
      "         -1.1649e-02,  1.6181e-01,  1.9548e-02,  1.5410e-01,  1.9931e-01,\n",
      "         -1.2622e-02,  3.2511e-02, -7.6322e-02, -5.9358e-02, -8.7629e-02,\n",
      "          4.9780e-02],\n",
      "        [-1.8242e-01, -2.0363e-01,  2.3969e-01, -3.6928e-01, -2.7406e-01,\n",
      "          8.0126e-02,  8.8537e-02, -1.1592e-01, -5.1420e-02, -2.9270e-01,\n",
      "         -1.1024e-01, -1.1655e-01, -7.2644e-02, -4.0620e-02, -2.6866e-01,\n",
      "         -2.7913e-01,  2.8038e-01,  7.6153e-02, -2.0965e-01,  8.5133e-02,\n",
      "         -1.0200e-01,  4.4705e-01,  2.1650e-01,  3.0229e-02, -2.2800e-01,\n",
      "         -2.7698e-01,  5.9349e-02,  1.7108e-01, -5.0600e-02,  2.1603e-01,\n",
      "          1.2388e-01, -1.8250e-01, -1.3926e-01,  1.0196e-01,  1.2017e-01,\n",
      "          3.6058e-02],\n",
      "        [-3.2728e-01,  2.0391e-01, -2.3436e-01, -3.9780e-02,  6.5770e-02,\n",
      "         -1.7349e-01,  1.5171e-01, -2.0722e-04, -8.4239e-02,  5.4546e-02,\n",
      "         -4.3623e-02, -4.1405e-02, -2.2248e-02,  5.1642e-02,  3.7825e-03,\n",
      "          1.1197e-01,  4.0398e-02, -8.0003e-02,  1.0531e-01, -1.2360e-01,\n",
      "         -3.6775e-01, -1.2570e-02,  2.4478e-01,  2.6670e-01,  9.3067e-02,\n",
      "          1.6348e-01, -3.0657e-01, -8.4979e-02,  8.0293e-02,  3.3263e-01,\n",
      "         -1.1488e-01, -1.9332e-01,  1.7922e-01, -1.6831e-01,  2.1527e-01,\n",
      "          1.9238e-01],\n",
      "        [ 1.3458e-02, -1.2937e-01,  2.4952e-04, -1.2547e-01, -2.3322e-01,\n",
      "         -9.7271e-02,  1.1718e-01,  7.1817e-02, -1.1432e-01, -3.7615e-01,\n",
      "         -7.7261e-02, -3.3330e-01, -3.1636e-01,  4.4670e-02, -4.2520e-02,\n",
      "          9.3050e-02, -1.0212e-01, -1.7333e-01, -1.1901e-01,  3.4228e-01,\n",
      "          8.1215e-02, -2.3322e-02,  2.3386e-01,  2.1564e-01, -1.2476e-01,\n",
      "          2.9912e-02,  1.1252e-01, -2.9192e-01, -8.0662e-02,  2.5813e-01,\n",
      "          5.0851e-02,  3.5864e-01, -2.9350e-01, -2.6831e-01, -5.9410e-02,\n",
      "          4.1860e-02],\n",
      "        [-2.0853e-01,  2.0672e-02, -1.6203e-01, -2.1125e-01,  5.9955e-02,\n",
      "         -1.0432e-01,  3.5396e-01, -3.4105e-01,  2.8883e-01,  2.2718e-01,\n",
      "          1.9691e-02, -2.1352e-01, -2.9536e-01, -1.6041e-01,  1.9285e-01,\n",
      "         -2.2130e-01, -5.1750e-02,  1.3859e-01,  5.3944e-02,  2.7577e-01,\n",
      "          9.6734e-02,  3.6289e-01,  8.3701e-02, -1.3684e-01, -3.4472e-01,\n",
      "          4.2222e-02, -7.3365e-02,  1.3073e-01, -6.8952e-02,  9.3119e-02,\n",
      "          5.4853e-02, -8.6013e-02,  9.0653e-02, -1.0587e-02, -4.3880e-01,\n",
      "         -3.4350e-01],\n",
      "        [-1.3866e-01,  2.4708e-01,  6.6533e-02,  8.2676e-02,  4.5153e-02,\n",
      "         -4.3273e-01, -2.1307e-01,  7.8856e-02, -3.9745e-01,  1.0915e-01,\n",
      "          2.1821e-01, -4.7041e-02, -1.6500e-01,  7.4178e-02,  2.2008e-01,\n",
      "          1.3268e-01,  4.7270e-02,  2.5581e-01,  4.0548e-01, -2.2271e-01,\n",
      "          2.0168e-01,  4.5027e-02,  5.6190e-02,  2.5362e-01, -8.5792e-02,\n",
      "         -9.6368e-03, -1.6930e-01,  3.2514e-01, -1.0426e-01,  4.4662e-01,\n",
      "          3.1491e-01,  1.1867e-01, -2.4616e-01, -8.9331e-02,  1.1299e-01,\n",
      "          1.5453e-01],\n",
      "        [-1.8455e-01, -1.4168e-01,  3.1084e-01,  3.8071e-01, -1.4705e-01,\n",
      "         -1.2510e-01,  1.1110e-01, -1.2738e-01,  1.5336e-01,  1.1250e-01,\n",
      "          1.5770e-01,  3.5063e-01, -9.6155e-02, -1.5920e-01, -3.9384e-02,\n",
      "          3.1037e-01,  2.9606e-02,  1.4117e-03,  2.0277e-01,  5.0666e-01,\n",
      "          2.5023e-01,  1.1819e-01, -1.1209e-02,  1.7144e-01,  2.6120e-01,\n",
      "          4.3167e-02,  8.7521e-02,  5.3500e-01,  5.9606e-02,  2.5577e-01,\n",
      "         -2.9037e-01,  1.5712e-01, -9.7268e-03,  8.0525e-03,  2.0164e-01,\n",
      "          1.0117e-01],\n",
      "        [-1.4787e-01, -4.0245e-02,  4.3403e-04, -6.9009e-02, -1.0414e-01,\n",
      "         -2.0737e-01,  1.4335e-01,  1.8813e-02, -3.1264e-01,  4.6655e-02,\n",
      "         -2.1618e-01,  1.3249e-01, -9.3695e-02,  8.0884e-02,  7.6919e-02,\n",
      "         -1.5932e-01,  8.0265e-02, -1.2789e-01, -3.8606e-01,  2.2617e-01,\n",
      "         -9.0960e-02, -1.2282e-02,  1.4180e-01,  3.0124e-01,  8.3989e-03,\n",
      "          1.4382e-01,  5.9246e-02,  4.5292e-02, -3.1649e-01,  2.2395e-01,\n",
      "         -1.0607e-01,  1.7513e-02, -1.4097e-01, -3.2723e-02,  3.9366e-01,\n",
      "         -4.6939e-02],\n",
      "        [-6.8337e-02,  6.5086e-02, -1.3331e-01,  1.5194e-01, -4.6458e-01,\n",
      "          2.0191e-02, -3.2475e-01,  9.7750e-02,  3.5189e-01,  2.0124e-01,\n",
      "         -3.2190e-01, -2.6823e-01, -2.4418e-01,  1.2225e-01,  3.5521e-01,\n",
      "         -1.5504e-02,  1.8867e-01, -3.9163e-01, -1.8663e-01, -3.2570e-01,\n",
      "         -8.1102e-02,  1.8451e-01,  7.0858e-02, -3.5339e-02,  2.8403e-02,\n",
      "         -1.8146e-03, -3.4769e-01,  4.2888e-02,  3.2200e-01,  5.3010e-01,\n",
      "         -7.2354e-02, -4.6628e-02, -1.9345e-01,  3.5111e-01, -3.0516e-01,\n",
      "         -1.9197e-01]], device='cuda:0', requires_grad=True)\n",
      "Parameter containing:\n",
      "tensor([ 0.0501,  0.0447,  0.0795,  0.0078,  0.0173,  0.0604, -0.0342, -0.0376,\n",
      "        -0.0484, -0.0282, -0.0664,  0.0665,  0.0712, -0.0172,  0.0539],\n",
      "       device='cuda:0', requires_grad=True)\n",
      "Parameter containing:\n",
      "tensor([[ 0.1008,  0.3249,  0.3245,  0.2639,  0.1402,  0.2532, -0.0271, -0.2008,\n",
      "         -0.0552, -0.0984, -0.1315,  0.2197,  0.1074, -0.0740, -0.1353]],\n",
      "       device='cuda:0', requires_grad=True)\n",
      "Parameter containing:\n",
      "tensor([0.0490], device='cuda:0', requires_grad=True)\n"
     ]
    }
   ],
   "source": [
    "for param in net.parameters():\n",
    "    print(param )"
   ]
  },
  {
   "cell_type": "code",
   "execution_count": null,
   "metadata": {},
   "outputs": [],
   "source": []
  }
 ],
 "metadata": {
  "hide_input": false,
  "kernelspec": {
   "display_name": "Python 3",
   "language": "python",
   "name": "python3"
  },
  "language_info": {
   "codemirror_mode": {
    "name": "ipython",
    "version": 3
   },
   "file_extension": ".py",
   "mimetype": "text/x-python",
   "name": "python",
   "nbconvert_exporter": "python",
   "pygments_lexer": "ipython3",
   "version": "3.8.3"
  },
  "varInspector": {
   "cols": {
    "lenName": 16,
    "lenType": 16,
    "lenVar": 40
   },
   "kernels_config": {
    "python": {
     "delete_cmd_postfix": "",
     "delete_cmd_prefix": "del ",
     "library": "var_list.py",
     "varRefreshCmd": "print(var_dic_list())"
    },
    "r": {
     "delete_cmd_postfix": ") ",
     "delete_cmd_prefix": "rm(",
     "library": "var_list.r",
     "varRefreshCmd": "cat(var_dic_list()) "
    }
   },
   "types_to_exclude": [
    "module",
    "function",
    "builtin_function_or_method",
    "instance",
    "_Feature"
   ],
   "window_display": false
  }
 },
 "nbformat": 4,
 "nbformat_minor": 4
}
