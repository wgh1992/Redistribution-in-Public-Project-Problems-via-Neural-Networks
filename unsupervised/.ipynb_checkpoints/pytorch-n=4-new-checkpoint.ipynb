{
 "cells": [
  {
   "cell_type": "code",
   "execution_count": 1,
   "metadata": {
    "ExecuteTime": {
     "end_time": "2021-06-01T02:52:50.949490Z",
     "start_time": "2021-06-01T02:52:49.235119Z"
    }
   },
   "outputs": [
    {
     "name": "stdout",
     "output_type": "stream",
     "text": [
      "pygame 2.0.1 (SDL 2.0.14, Python 3.8.3)\n",
      "Hello from the pygame community. https://www.pygame.org/contribute.html\n",
      "cuda:0\n"
     ]
    },
    {
     "name": "stderr",
     "output_type": "stream",
     "text": [
      "D:\\ComputerSoftwares\\Anaconda\\lib\\site-packages\\sklearn\\utils\\deprecation.py:143: FutureWarning: The sklearn.datasets.samples_generator module is  deprecated in version 0.22 and will be removed in version 0.24. The corresponding classes / functions should instead be imported from sklearn.datasets. Anything that cannot be imported from sklearn.datasets is now part of the private API.\n",
      "  warnings.warn(message, FutureWarning)\n"
     ]
    }
   ],
   "source": [
    "\n",
    "import pygame\n",
    "import random\n",
    "import os\n",
    "import time\n",
    "import numpy as np\n",
    "import math\n",
    "import torch\n",
    "import torch.nn.functional\n",
    "import matplotlib.pyplot as plt\n",
    "import torch.optim as opt\n",
    "from torch.autograd import Variable\n",
    "from sklearn.model_selection import train_test_split\n",
    "\n",
    "import scipy.stats as st\n",
    "from sklearn.datasets.samples_generator import make_blobs\n",
    "from matplotlib.colors import LogNorm \n",
    "import matplotlib.cm as cm\n",
    "import torch.nn as nn\n",
    "import numpy as np\n",
    "import matplotlib.pyplot as plt\n",
    "\n",
    "\n",
    "if torch.cuda.is_available():  \n",
    "    dev = \"cuda:0\" \n",
    "else:  \n",
    "    dev = \"cpu\"  \n",
    "\n",
    "print(dev)\n"
   ]
  },
  {
   "cell_type": "code",
   "execution_count": 2,
   "metadata": {
    "ExecuteTime": {
     "end_time": "2021-06-01T02:52:50.964733Z",
     "start_time": "2021-06-01T02:52:50.951190Z"
    }
   },
   "outputs": [],
   "source": [
    "global temp_list\n",
    "temp_list = []\n",
    "Agent_number_n=4;\n",
    "Alpha = 0.666;\n",
    "\n"
   ]
  },
  {
   "cell_type": "code",
   "execution_count": 3,
   "metadata": {
    "ExecuteTime": {
     "end_time": "2021-06-01T02:52:59.009581Z",
     "start_time": "2021-06-01T02:52:50.965788Z"
    }
   },
   "outputs": [
    {
     "name": "stdout",
     "output_type": "stream",
     "text": [
      "[[[0.41287433 0.31998002 0.29772005]\n",
      "  [0.74320971 0.31998002 0.29772005]\n",
      "  [0.74320971 0.41287433 0.29772005]\n",
      "  [0.74320971 0.41287433 0.31998002]]\n",
      "\n",
      " [[0.58180881 0.38302044 0.29196973]\n",
      "  [0.81657519 0.38302044 0.29196973]\n",
      "  [0.81657519 0.58180881 0.29196973]\n",
      "  [0.81657519 0.58180881 0.38302044]]\n",
      "\n",
      " [[0.86326161 0.72978556 0.449504  ]\n",
      "  [0.95304661 0.72978556 0.449504  ]\n",
      "  [0.95304661 0.86326161 0.449504  ]\n",
      "  [0.95304661 0.86326161 0.72978556]]\n",
      "\n",
      " ...\n",
      "\n",
      " [[0.93900001 0.47570649 0.20925929]\n",
      "  [0.98077415 0.47570649 0.20925929]\n",
      "  [0.98077415 0.93900001 0.20925929]\n",
      "  [0.98077415 0.93900001 0.47570649]]\n",
      "\n",
      " [[0.87964798 0.5328409  0.4587613 ]\n",
      "  [0.9072527  0.5328409  0.4587613 ]\n",
      "  [0.9072527  0.87964798 0.4587613 ]\n",
      "  [0.9072527  0.87964798 0.5328409 ]]\n",
      "\n",
      " [[0.53287426 0.24400309 0.23847786]\n",
      "  [0.85938251 0.24400309 0.23847786]\n",
      "  [0.85938251 0.53287426 0.23847786]\n",
      "  [0.85938251 0.53287426 0.24400309]]]\n",
      "[[[0.85455595 0.61294362 0.56972222]\n",
      "  [0.94693603 0.61294362 0.56972222]\n",
      "  [0.94693603 0.85455595 0.56972222]\n",
      "  [0.94693603 0.85455595 0.61294362]]\n",
      "\n",
      " [[0.70010165 0.34170849 0.00118028]\n",
      "  [0.88201464 0.34170849 0.00118028]\n",
      "  [0.88201464 0.70010165 0.00118028]\n",
      "  [0.88201464 0.70010165 0.34170849]]\n",
      "\n",
      " [[0.25339292 0.22784819 0.1331451 ]\n",
      "  [0.28659307 0.22784819 0.1331451 ]\n",
      "  [0.28659307 0.25339292 0.1331451 ]\n",
      "  [0.28659307 0.25339292 0.22784819]]\n",
      "\n",
      " ...\n",
      "\n",
      " [[0.32131859 0.19914601 0.1563934 ]\n",
      "  [0.83055007 0.19914601 0.1563934 ]\n",
      "  [0.83055007 0.32131859 0.1563934 ]\n",
      "  [0.83055007 0.32131859 0.19914601]]\n",
      "\n",
      " [[0.67223218 0.53618583 0.32482482]\n",
      "  [0.88301175 0.53618583 0.32482482]\n",
      "  [0.88301175 0.67223218 0.32482482]\n",
      "  [0.88301175 0.67223218 0.53618583]]\n",
      "\n",
      " [[0.39458705 0.11176753 0.07040155]\n",
      "  [0.89080047 0.11176753 0.07040155]\n",
      "  [0.89080047 0.39458705 0.07040155]\n",
      "  [0.89080047 0.39458705 0.11176753]]]\n",
      "[1.77378411 2.07337417 2.9955978  ... 2.60473994 2.77850288 1.87473772]\n",
      "[2.98415782 1.92500505 1.         ... 1.50740808 2.41625458 1.4675566 ]\n"
     ]
    }
   ],
   "source": [
    "global temp_list\n",
    "temp_list = []\n",
    "def appen(_x_list,y):\n",
    "    global temp_list\n",
    "    temp_list.append(_x_list)\n",
    "    \n",
    "def appen_train(x_list):\n",
    "    global temp_list\n",
    "                \n",
    "    S= max(sum(x_list),1.0);\n",
    "    temp_list = []\n",
    "    \n",
    "    for i in range(Agent_number_n):\n",
    "        temp = []\n",
    "        for j in range(Agent_number_n):\n",
    "            if(i!=j):\n",
    "                temp.append(x_list[j])\n",
    "        appen(temp,S)\n",
    "    \n",
    "    training_data.append(temp_list)\n",
    "    training_label.append(S)\n",
    "    \n",
    "\n",
    "def read_training_data():\n",
    "    for i in range(100000):\n",
    "        appen_train(sorted(np.random.rand(Agent_number_n), reverse=True));\n",
    "\n",
    "training_data=[]\n",
    "training_label=[]\n",
    "S=1.0\n",
    "read_training_data();\n",
    "\n",
    "def appen_test(x_list):\n",
    "    global temp_list\n",
    "                \n",
    "    S= max(sum(x_list),1.0);\n",
    "    temp_list = []\n",
    "    \n",
    "    for i in range(Agent_number_n):\n",
    "        temp = []\n",
    "        for j in range(Agent_number_n):\n",
    "            if(i!=j):\n",
    "                temp.append(x_list[j])\n",
    "        appen(temp,S)\n",
    "    testing_data.append(temp_list)\n",
    "    testing_label.append(S)\n",
    "    \n",
    "\n",
    "def read_testing_data():\n",
    "#     devided=20\n",
    "#     for i1 in range(devided+1):\n",
    "#         for i2 in range(i1+1):\n",
    "#             for i3 in range(i2+1):\n",
    "#                 appen_test(i1/devided,i2/devided,i3/devided);\n",
    "    for i in range(100000):\n",
    "        appen_test(sorted(np.random.rand(Agent_number_n), reverse=True));\n",
    "                            \n",
    "\n",
    "testing_data=[]\n",
    "testing_label=[]\n",
    "S=1.0\n",
    "read_testing_data();\n",
    "\n",
    "training_data=np.array(training_data)\n",
    "training_label=np.array(training_label)\n",
    "testing_data=np.array(testing_data)\n",
    "testing_label=np.array(testing_label)\n",
    "print(training_data)\n",
    "print(testing_data)\n",
    "print(training_label)\n",
    "print(testing_label)"
   ]
  },
  {
   "cell_type": "code",
   "execution_count": 4,
   "metadata": {
    "ExecuteTime": {
     "end_time": "2021-06-01T02:54:56.015996Z",
     "start_time": "2021-06-01T02:52:59.009581Z"
    }
   },
   "outputs": [
    {
     "name": "stdout",
     "output_type": "stream",
     "text": [
      "3.374946236163931 2.999999999999999 0.37494623616393197\n"
     ]
    }
   ],
   "source": [
    "def h_3_star(a, b, t):\n",
    "    return a - min(a, t) + b - min(b, t) + max(min(a, t)+min(b, t), 2*t/3) + 1/2 * max(min(a, t)+min(b, t), t) - 1/2 * max(max(min(a, t), min(b, t)), 2*t/3) - t/6\n",
    "\n",
    "\n",
    "def f_function(a, b, z):\n",
    "    if(z >= 1):\n",
    "        return (a+b)/2 + z/3\n",
    "    else:\n",
    "        return z/3 + h_3_star(a, b, 1-z)/2\n",
    "\n",
    "def h_function(input_list):\n",
    "    #input_list = sorted(input_list)\n",
    "    g_list = []\n",
    "    for j1 in range(len(input_list) ):\n",
    "        for j2 in range(len(input_list)):\n",
    "            if(j1 != j2):\n",
    "                a = input_list[j1]\n",
    "                b = input_list[j2]\n",
    "                z = sum(input_list)- a-b\n",
    "\n",
    "                g_list.append( f_function(a, b, z) * (Agent_number_n-1))\n",
    "    h = sum(g_list) * 3 /  (Agent_number_n) /  (Agent_number_n-1) /  (Agent_number_n - 2)\n",
    "    return h\n",
    "                \n",
    "                \n",
    "x_list = []\n",
    "y_list = []\n",
    "z_list = []\n",
    "result_list = []\n",
    "training_supervised_label=[]\n",
    "for index in range(len(training_data)):\n",
    "    h_list = []\n",
    "    for i in range(Agent_number_n):\n",
    "        x_list.append(training_data[index][i][0])\n",
    "        y_list.append(training_data[index][i][1])\n",
    "        h = h_function(training_data[index][i])\n",
    "        z_list.append(float(h))\n",
    "        h_list.append(float(h))\n",
    "    training_supervised_label.append(h_list)\n",
    "    result_list.append(sum(h_list)/training_label[index]) \n",
    "    \n",
    "    \n",
    "print(max(result_list), min(result_list), max(result_list)-min(result_list))"
   ]
  },
  {
   "cell_type": "code",
   "execution_count": 5,
   "metadata": {
    "ExecuteTime": {
     "end_time": "2021-06-01T02:54:57.465371Z",
     "start_time": "2021-06-01T02:54:56.016926Z"
    }
   },
   "outputs": [
    {
     "data": {
      "image/png": "[encoded data removed]",
      "text/plain": [
       "<Figure size 432x288 with 1 Axes>"
      ]
     },
     "metadata": {
      "needs_background": "light"
     },
     "output_type": "display_data"
    }
   ],
   "source": [
    "plt.hist(result_list,bins=500)\n",
    "\n",
    "plt.title(\"Means\", y=1.015, fontsize=20)\n",
    "plt.axvline(x=sum(result_list)/len(result_list), linestyle='--', linewidth=2.5, label=\"sample mean\", c='orange')\n",
    "plt.xlabel(\"samples\", labelpad=14)\n",
    "plt.ylabel(\"frequency of occurence\", labelpad=14)\n",
    "plt.legend();\n",
    "\n",
    "result_list.sort()\n",
    "\n",
    "plt.axvline(x=result_list[int(len(result_list)*0.01)], linestyle='--', linewidth=0.5, label=\"1%\", c='b')\n",
    "plt.axvline(x=result_list[int(len(result_list)*0.99)], linestyle='--', linewidth=0.5, label=\"99%\", c='r')\n",
    "\n",
    "\n",
    "plt.show()"
   ]
  },
  {
   "cell_type": "code",
   "execution_count": 6,
   "metadata": {
    "ExecuteTime": {
     "end_time": "2021-06-01T02:54:57.916954Z",
     "start_time": "2021-06-01T02:54:57.467369Z"
    }
   },
   "outputs": [
    {
     "name": "stdout",
     "output_type": "stream",
     "text": [
      "[[1.04777251 1.42243359 1.53855147 1.56637643]\n",
      " [1.3291539  1.558241   1.80672646 1.92053986]\n",
      " [2.16223229 2.24079416 2.3575857  2.60283207]\n",
      " ...\n",
      " [1.67783223 1.7143846  2.23790427 2.47104557]\n",
      " [2.00919473 2.03334886 2.33995423 2.40477388]\n",
      " [1.01385455 1.35506088 1.71614985 1.72305639]]\n"
     ]
    }
   ],
   "source": [
    "training_supervised_label=np.array(training_supervised_label)\n",
    "print(training_supervised_label)"
   ]
  },
  {
   "cell_type": "code",
   "execution_count": 7,
   "metadata": {
    "ExecuteTime": {
     "end_time": "2021-06-01T02:54:57.932351Z",
     "start_time": "2021-06-01T02:54:57.919973Z"
    }
   },
   "outputs": [
    {
     "name": "stdout",
     "output_type": "stream",
     "text": [
      "cuda:0\n"
     ]
    }
   ],
   "source": [
    "if torch.cuda.is_available():  \n",
    "    dev = \"cuda:0\" \n",
    "else:  \n",
    "    dev = \"cpu\"  \n",
    "\n",
    "print(dev)\n"
   ]
  },
  {
   "cell_type": "code",
   "execution_count": 8,
   "metadata": {
    "ExecuteTime": {
     "end_time": "2021-06-01T02:54:57.963278Z",
     "start_time": "2021-06-01T02:54:57.933349Z"
    },
    "run_control": {
     "marked": true
    }
   },
   "outputs": [],
   "source": [
    "def weight_init(m):\n",
    "    if isinstance(m, torch.nn.Conv2d):\n",
    "        torch.nn.init.xavier_normal_(m.weight)\n",
    "        torch.nn.init.zeros_(m.bias)\n",
    "    elif isinstance(m, torch.nn.Linear):\n",
    "        torch.nn.init.normal_(m.weight, mean=0.0,std =0.2)\n",
    "        torch.nn.init.normal_(m.bias, mean=0.0,std =0.01)\n",
    "#     elif isinstance(m, torch.nn.Parameter):\n",
    "#         torch.nn.init.normal_(m, mean=0.0,std =0.1)\n",
    "\n",
    "        \n",
    "\n",
    "class Net(torch.nn.Module):\n",
    "    def __init__(self):\n",
    "\n",
    "        super(Net, self).__init__()\n",
    "        self.devided_number = Agent_number_n*2\n",
    "        self.input_dim = (Agent_number_n-1+1)*self.devided_number\n",
    "        self.hidden_dim = 10\n",
    "        self.output_dim = 1\n",
    "        self.hidden_layer_count = 1\n",
    "        \n",
    "        current_dim = self.input_dim\n",
    "        self.layers = torch.nn.ModuleList()\n",
    "        for i in range(self.hidden_layer_count):\n",
    "            self.layers.append(torch.nn.Linear(current_dim, self.hidden_dim))\n",
    "            current_dim = self.hidden_dim\n",
    "        self.layers.append(torch.nn.Linear(current_dim, self.output_dim))\n",
    "\n",
    "    def calculate(self, value_list):\n",
    "        input_h = torch.zeros(self.input_dim).cuda()\n",
    "        value_list = torch.cat([torch.tensor([torch.sum(value_list)]).cuda(),value_list])\n",
    "        for i in range((Agent_number_n-1+1)):\n",
    "            for j in range(self.devided_number):\n",
    "                \n",
    "                input_h[i*self.devided_number+j] = torch.where( value_list[i]*self.devided_number>torch.tensor(j) ,\n",
    "                            torch.ones(1).cuda(),\n",
    "                            value_list[i]*self.devided_number - torch.tensor(j)\n",
    "                          )\n",
    "                if(value_list[i]*self.devided_number<=torch.tensor(j)):\n",
    "                    break;\n",
    "        \n",
    "        h = input_h\n",
    "        for layer in self.layers:\n",
    "            h = torch.relu(layer(h))\n",
    "        return h\n",
    "\n",
    "    def forward(self, input_list,input_label,label):\n",
    "        global iteration,echo,target_order\n",
    "        loss1 = 0\n",
    "        loss2 = 0\n",
    "        input_list = torch.from_numpy(\n",
    "            np.array(input_list)).cuda().type(torch.float32)\n",
    "        h_list = []\n",
    "\n",
    "\n",
    "        for i in range(Agent_number_n):\n",
    "            h = self.calculate(input_list[i])\n",
    "            h_list.append(h)\n",
    "        input_label = torch.from_numpy(\n",
    "            np.array(input_label)).cuda().type(torch.float32)\n",
    "        sum_h = torch.sum(torch.cat(h_list)).cuda()\n",
    "\n",
    "\n",
    "        loss1 = torch.where((Agent_number_n-1)*input_label>sum_h,\n",
    "                        torch.square(((Agent_number_n-1)*input_label-sum_h)),\n",
    "                        torch.zeros(1).cuda()\n",
    "                      )\n",
    "\n",
    "        loss2 = torch.where((Agent_number_n-Alpha)*input_label<sum_h,\n",
    "                        torch.square((sum_h-(Agent_number_n-Alpha)*input_label))/4,\n",
    "                        torch.zeros(1).cuda()\n",
    "                      )\n",
    "\n",
    "        return loss1,loss2,h_list"
   ]
  },
  {
   "cell_type": "code",
   "execution_count": 9,
   "metadata": {
    "ExecuteTime": {
     "end_time": "2021-06-01T02:55:00.129515Z",
     "start_time": "2021-06-01T02:54:57.964176Z"
    }
   },
   "outputs": [
    {
     "data": {
      "text/plain": [
       "Net(\n",
       "  (layers): ModuleList(\n",
       "    (0): Linear(in_features=32, out_features=10, bias=True)\n",
       "    (1): Linear(in_features=10, out_features=1, bias=True)\n",
       "  )\n",
       ")"
      ]
     },
     "execution_count": 9,
     "metadata": {},
     "output_type": "execute_result"
    }
   ],
   "source": [
    "random.seed(2000)\n",
    "torch.manual_seed(256)\n",
    "net  = Net()\n",
    "net.apply(weight_init)\n",
    "\n",
    "net = torch.load( \"save/Deep_learning_small4_1\")\n",
    "net.to(dev)"
   ]
  },
  {
   "cell_type": "code",
   "execution_count": 10,
   "metadata": {
    "ExecuteTime": {
     "end_time": "2021-06-01T02:55:00.144466Z",
     "start_time": "2021-06-01T02:55:00.130476Z"
    }
   },
   "outputs": [],
   "source": [
    "#optimizer = opt.RMSprop(net.parameters(), lr=0.00001)\n",
    "#optimizer = opt.SGD(net.parameters(), lr=0.00005)\n",
    "optimizer = opt.Adam(net.parameters(), lr=0.0001)\n",
    "\n",
    "batch_size = 64\n",
    "echo = 1"
   ]
  },
  {
   "cell_type": "code",
   "execution_count": 11,
   "metadata": {
    "ExecuteTime": {
     "end_time": "2021-06-01T05:29:15.138221Z",
     "start_time": "2021-06-01T02:55:00.145437Z"
    }
   },
   "outputs": [
    {
     "name": "stdout",
     "output_type": "stream",
     "text": [
      "3024 tensor([0.0005], device='cuda:0', grad_fn=<DivBackward0>) 0.0264576505869627 0.006411433219909668\n",
      "3402 tensor([0.0014], device='cuda:0', grad_fn=<DivBackward0>) 0.08063645660877228 0.007153169251978397\n",
      "4347 tensor([0.0003], device='cuda:0', grad_fn=<DivBackward0>) 0.0005392709281295538 0.017638862133026123\n",
      "5166 tensor([0.0008], device='cuda:0', grad_fn=<DivBackward0>) 0.022402584552764893 0.028351161628961563\n",
      "5859 tensor([0.0021], device='cuda:0', grad_fn=<DivBackward0>) 0.0041688475757837296 0.1282704472541809\n",
      "6867 tensor([0.0002], device='cuda:0', grad_fn=<DivBackward0>) 0.0017316967714577913 0.012160487473011017\n",
      "7434 tensor([0.0011], device='cuda:0', grad_fn=<DivBackward0>) 0.009789776057004929 0.05793195962905884\n",
      "8883 tensor([0.0002], device='cuda:0', grad_fn=<DivBackward0>) 0.0 0.011747682467103004\n",
      "9954 tensor([0.0011], device='cuda:0', grad_fn=<DivBackward0>) 0.01054078433662653 0.06204155460000038\n",
      "11025 tensor([0.0003], device='cuda:0', grad_fn=<DivBackward0>) 0.010525335557758808 0.008889337070286274\n",
      "11466 tensor([0.0016], device='cuda:0', grad_fn=<DivBackward0>) 0.002824099501594901 0.10209452360868454\n",
      "13104 tensor([0.0005], device='cuda:0', grad_fn=<DivBackward0>) 0.021153263747692108 0.011546988040208817\n",
      "13797 tensor([8.5698e-05], device='cuda:0', grad_fn=<DivBackward0>) 0.0 0.005484697874635458\n",
      "14553 tensor([0.0006], device='cuda:0', grad_fn=<DivBackward0>) 0.0 0.03532325476408005\n",
      "16128 tensor([0.0076], device='cuda:0', grad_fn=<DivBackward0>) 0.47030001878738403 0.01598312333226204\n",
      "16569 tensor([0.0005], device='cuda:0', grad_fn=<DivBackward0>) 0.00012663804227486253 0.03326058387756348\n",
      "17073 tensor([0.0002], device='cuda:0', grad_fn=<DivBackward0>) 1.163366687251255e-05 0.010679107159376144\n",
      "18081 tensor([0.0007], device='cuda:0', grad_fn=<DivBackward0>) 0.007313523441553116 0.037228696048259735\n",
      "19089 tensor([0.0011], device='cuda:0', grad_fn=<DivBackward0>) 0.06768229603767395 0.0002764437813311815\n",
      "24129 tensor([0.0003], device='cuda:0', grad_fn=<DivBackward0>) 0.0 0.021685520187020302\n",
      "24381 tensor([0.0006], device='cuda:0', grad_fn=<DivBackward0>) 0.026846202090382576 0.012111939489841461\n",
      "25011 tensor([9.3047e-05], device='cuda:0', grad_fn=<DivBackward0>) 0.004910576622933149 0.0010444449726492167\n",
      "26460 tensor([5.6016e-05], device='cuda:0', grad_fn=<DivBackward0>) 0.0 0.0035850387066602707\n",
      "30807 tensor([0.0103], device='cuda:0', grad_fn=<DivBackward0>) 0.6126521229743958 0.044302888214588165\n",
      "30996 tensor([0.0006], device='cuda:0', grad_fn=<DivBackward0>) 0.029705237597227097 0.008833440020680428\n",
      "31374 tensor([0.0005], device='cuda:0', grad_fn=<DivBackward0>) 0.02217881754040718 0.007025294937193394\n",
      "32445 tensor([0.0037], device='cuda:0', grad_fn=<DivBackward0>) 0.16766126453876495 0.06698231399059296\n",
      "34083 tensor([0.0037], device='cuda:0', grad_fn=<DivBackward0>) 0.17866405844688416 0.05866900458931923\n",
      "35091 tensor([0.0005], device='cuda:0', grad_fn=<DivBackward0>) 0.019519269466400146 0.010636340826749802\n",
      "35658 tensor([0.0009], device='cuda:0', grad_fn=<DivBackward0>) 0.003503368468955159 0.05165855959057808\n",
      "36351 tensor([0.0002], device='cuda:0', grad_fn=<DivBackward0>) 0.0 0.011533336713910103\n",
      "36666 tensor([0.0009], device='cuda:0', grad_fn=<DivBackward0>) 0.005380861461162567 0.0541519857943058\n",
      "37548 tensor([1.7746e-05], device='cuda:0', grad_fn=<DivBackward0>) 0.0 0.0011357535840943456\n",
      "41265 tensor([0.0024], device='cuda:0', grad_fn=<DivBackward0>) 0.0548969991505146 0.09575360268354416\n",
      "48006 tensor([2.5270e-05], device='cuda:0', grad_fn=<DivBackward0>) 5.2532413974404335e-09 0.0016173043986782432\n",
      "49266 tensor([0.0008], device='cuda:0', grad_fn=<DivBackward0>) 0.0017472959589213133 0.05181434750556946\n",
      "50967 tensor([8.0786e-05], device='cuda:0', grad_fn=<DivBackward0>) 0.00024783509434200823 0.004922463092952967\n",
      "51219 tensor([0.0003], device='cuda:0', grad_fn=<DivBackward0>) 0.021134288981556892 0.0008597393753007054\n",
      "51660 tensor([0.0016], device='cuda:0', grad_fn=<DivBackward0>) 0.0021659862250089645 0.10232774913311005\n",
      "54180 tensor([0.0007], device='cuda:0', grad_fn=<DivBackward0>) 0.005395233165472746 0.04059187322854996\n",
      "56007 tensor([0.0004], device='cuda:0', grad_fn=<DivBackward0>) 0.007506391499191523 0.019679348915815353\n",
      "58401 tensor([0.0002], device='cuda:0', grad_fn=<DivBackward0>) 0.005327949300408363 0.008837107568979263\n",
      "59661 tensor([0.0002], device='cuda:0', grad_fn=<DivBackward0>) 0.00013655346992891282 0.01514363568276167\n",
      "62181 tensor([0.0002], device='cuda:0', grad_fn=<DivBackward0>) 0.001014205627143383 0.012198497541248798\n",
      "62370 tensor([0.0003], device='cuda:0', grad_fn=<DivBackward0>) 0.0 0.01901036873459816\n",
      "64071 tensor([0.0002], device='cuda:0', grad_fn=<DivBackward0>) 0.0 0.014049523510038853\n",
      "66402 tensor([0.0001], device='cuda:0', grad_fn=<DivBackward0>) 0.0 0.008693592622876167\n",
      "68103 tensor([0.0002], device='cuda:0', grad_fn=<DivBackward0>) 0.006376434583216906 0.004023162182420492\n",
      "68166 tensor([8.2208e-05], device='cuda:0', grad_fn=<DivBackward0>) 0.0003447318740654737 0.004916602745652199\n",
      "69300 tensor([0.0004], device='cuda:0', grad_fn=<DivBackward0>) 0.0 0.02419593743979931\n",
      "69426 tensor([0.0003], device='cuda:0', grad_fn=<DivBackward0>) 0.0 0.02112216129899025\n",
      "72891 tensor([0.0001], device='cuda:0', grad_fn=<DivBackward0>) 7.303198799490929e-05 0.008394218981266022\n",
      "73395 tensor([0.0005], device='cuda:0', grad_fn=<DivBackward0>) 0.0032101129181683064 0.026559380814433098\n",
      "75159 tensor([0.0009], device='cuda:0', grad_fn=<DivBackward0>) 0.0 0.05487958714365959\n",
      "75726 tensor([0.0014], device='cuda:0', grad_fn=<DivBackward0>) 0.05158775672316551 0.03865981101989746\n",
      "77175 tensor([9.7530e-05], device='cuda:0', grad_fn=<DivBackward0>) 0.004198990762233734 0.0020429103169590235\n",
      "78057 tensor([9.2400e-05], device='cuda:0', grad_fn=<DivBackward0>) 0.005062283482402563 0.000851342105306685\n",
      "79569 tensor([0.0004], device='cuda:0', grad_fn=<DivBackward0>) 0.0002172222302760929 0.025738835334777832\n",
      "80010 tensor([0.0005], device='cuda:0', grad_fn=<DivBackward0>) 0.009485786780714989 0.019412560388445854\n",
      "81459 tensor([8.4334e-05], device='cuda:0', grad_fn=<DivBackward0>) 0.0033638442400842905 0.0020335561130195856\n",
      "81963 tensor([0.0004], device='cuda:0', grad_fn=<DivBackward0>) 0.0017192058730870485 0.025599287822842598\n",
      "82026 tensor([6.9089e-05], device='cuda:0', grad_fn=<DivBackward0>) 0.0008266688673757017 0.0035950453020632267\n",
      "85554 tensor([0.0041], device='cuda:0', grad_fn=<DivBackward0>) 0.22956408560276031 0.03433437645435333\n",
      "85680 tensor([0.0003], device='cuda:0', grad_fn=<DivBackward0>) 0.019733503460884094 0.0\n",
      "85869 tensor([0.0002], device='cuda:0', grad_fn=<DivBackward0>) 0.002325296401977539 0.008677897043526173\n",
      "85995 tensor([0.0006], device='cuda:0', grad_fn=<DivBackward0>) 0.037439294159412384 0.0\n",
      "86373 tensor([0.0002], device='cuda:0', grad_fn=<DivBackward0>) 0.0020375819876790047 0.009282693266868591\n",
      "90279 tensor([0.0010], device='cuda:0', grad_fn=<DivBackward0>) 0.025910619646310806 0.03725598752498627\n",
      "91980 tensor([8.8826e-05], device='cuda:0', grad_fn=<DivBackward0>) 0.005174450576305389 0.0005104338633827865\n",
      "92169 tensor([9.4780e-05], device='cuda:0', grad_fn=<DivBackward0>) 0.0 0.006065946072340012\n",
      "94878 tensor([5.9709e-05], device='cuda:0', grad_fn=<DivBackward0>) 0.0021145204082131386 0.001706847921013832\n",
      "97398 tensor([0.0271], device='cuda:0', grad_fn=<DivBackward0>) 1.7323518991470337 0.0009193631703965366\n",
      "97776 tensor([8.8568e-06], device='cuda:0', grad_fn=<DivBackward0>) 0.0 0.0005668334197252989\n",
      "98532 tensor([0.0001], device='cuda:0', grad_fn=<DivBackward0>) 0.0 0.00787457823753357\n",
      "101619 tensor([4.4370e-05], device='cuda:0', grad_fn=<DivBackward0>) 0.002831657649949193 8.027965122892056e-06\n",
      "102753 tensor([0.0004], device='cuda:0', grad_fn=<DivBackward0>) 0.0009031338267959654 0.024103354662656784\n",
      "104076 tensor([0.0002], device='cuda:0', grad_fn=<DivBackward0>) 7.091230145306326e-07 0.01298710610717535\n",
      "105966 tensor([5.2651e-05], device='cuda:0', grad_fn=<DivBackward0>) 4.3238309444859624e-05 0.003326397854834795\n",
      "107415 tensor([0.0019], device='cuda:0', grad_fn=<DivBackward0>) 0.10865069180727005 0.011414272710680962\n",
      "108297 tensor([0.0003], device='cuda:0', grad_fn=<DivBackward0>) 0.013943594880402088 0.008055956102907658\n"
     ]
    },
    {
     "name": "stdout",
     "output_type": "stream",
     "text": [
      "109494 tensor([0.0001], device='cuda:0', grad_fn=<DivBackward0>) 0.0008465194841846824 0.0075129978358745575\n",
      "111069 tensor([7.4278e-05], device='cuda:0', grad_fn=<DivBackward0>) 0.0 0.0047538066282868385\n",
      "111699 tensor([0.0006], device='cuda:0', grad_fn=<DivBackward0>) 0.005729449912905693 0.03024914115667343\n",
      "114912 tensor([0.0003], device='cuda:0', grad_fn=<DivBackward0>) 8.660965249873698e-05 0.017131812870502472\n",
      "115731 tensor([0.0002], device='cuda:0', grad_fn=<DivBackward0>) 0.008681568317115307 0.0014949404867365956\n",
      "116361 tensor([4.2596e-05], device='cuda:0', grad_fn=<DivBackward0>) 0.0027261627838015556 0.0\n",
      "117495 tensor([0.0041], device='cuda:0', grad_fn=<DivBackward0>) 0.23463623225688934 0.02663550153374672\n",
      "118125 tensor([1.1165e-05], device='cuda:0', grad_fn=<DivBackward0>) 0.0006623407825827599 5.223216430749744e-05\n",
      "118314 tensor([0.0030], device='cuda:0', grad_fn=<DivBackward0>) 0.1834878772497177 0.009822959080338478\n",
      "119070 tensor([0.0006], device='cuda:0', grad_fn=<DivBackward0>) 0.01206506509333849 0.024886012077331543\n",
      "119322 tensor([0.0005], device='cuda:0', grad_fn=<DivBackward0>) 0.030500108376145363 6.741021934431046e-05\n",
      "120456 tensor([4.1997e-05], device='cuda:0', grad_fn=<DivBackward0>) 0.0 0.002687815111130476\n",
      "122598 tensor([0.0013], device='cuda:0', grad_fn=<DivBackward0>) 0.004817269276827574 0.07763680070638657\n",
      "123165 tensor([0.0010], device='cuda:0', grad_fn=<DivBackward0>) 0.015129148960113525 0.04918322712182999\n",
      "123228 tensor([1.6932e-05], device='cuda:0', grad_fn=<DivBackward0>) 0.0 0.0010836167493835092\n",
      "123291 tensor([3.9314e-05], device='cuda:0', grad_fn=<DivBackward0>) 0.00042199931340292096 0.002094079041853547\n",
      "123921 tensor([0.0006], device='cuda:0', grad_fn=<DivBackward0>) 0.0003835200041066855 0.036949217319488525\n",
      "127197 tensor([0.0004], device='cuda:0', grad_fn=<DivBackward0>) 0.0 0.027745598927140236\n",
      "128016 tensor([3.6133e-05], device='cuda:0', grad_fn=<DivBackward0>) 0.0005340680945664644 0.0017784156370908022\n",
      "128331 tensor([0.0002], device='cuda:0', grad_fn=<DivBackward0>) 0.009076564572751522 0.0013088902924209833\n",
      "128961 tensor([0.0013], device='cuda:0', grad_fn=<DivBackward0>) 0.0822509303689003 0.0\n",
      "129087 tensor([0.0002], device='cuda:0', grad_fn=<DivBackward0>) 9.889396096696146e-06 0.010018259286880493\n",
      "130158 tensor([4.7386e-05], device='cuda:0', grad_fn=<DivBackward0>) 0.0 0.003032732754945755\n",
      "134379 tensor([0.0003], device='cuda:0', grad_fn=<DivBackward0>) 0.004994507879018784 0.014460165053606033\n",
      "134631 tensor([0.0002], device='cuda:0', grad_fn=<DivBackward0>) 0.0 0.013553784228861332\n",
      "134946 tensor([7.8211e-05], device='cuda:0', grad_fn=<DivBackward0>) 0.005005505867302418 0.0\n",
      "136647 tensor([0.0005], device='cuda:0', grad_fn=<DivBackward0>) 0.0 0.033139947801828384\n",
      "137025 tensor([3.9637e-05], device='cuda:0', grad_fn=<DivBackward0>) 0.002536788582801819 0.0\n",
      "137970 tensor([0.0006], device='cuda:0', grad_fn=<DivBackward0>) 0.003334537846967578 0.036454640328884125\n",
      "138915 tensor([0.0005], device='cuda:0', grad_fn=<DivBackward0>) 0.008456036448478699 0.022249393165111542\n",
      "143892 tensor([0.0005], device='cuda:0', grad_fn=<DivBackward0>) 0.0 0.03351978585124016\n",
      "145089 tensor([0.0004], device='cuda:0', grad_fn=<DivBackward0>) 0.0008758015464991331 0.02606799453496933\n",
      "145971 tensor([0.0007], device='cuda:0', grad_fn=<DivBackward0>) 0.0 0.04665127769112587\n",
      "147294 tensor([0.0002], device='cuda:0', grad_fn=<DivBackward0>) 0.003639065660536289 0.006760060787200928\n",
      "148176 tensor([0.0001], device='cuda:0', grad_fn=<DivBackward0>) 0.007801615633070469 0.0016973490128293633\n",
      "150696 tensor([0.0004], device='cuda:0', grad_fn=<DivBackward0>) 0.00038046593545004725 0.024803798645734787\n",
      "150759 tensor([0.0005], device='cuda:0', grad_fn=<DivBackward0>) 0.029845984652638435 0.0016185900894924998\n",
      "151452 tensor([0.0004], device='cuda:0', grad_fn=<DivBackward0>) 0.02742801606655121 0.0007345955818891525\n",
      "151956 tensor([2.4464e-05], device='cuda:0', grad_fn=<DivBackward0>) 2.725174454099033e-06 0.0015629632398486137\n",
      "152271 tensor([0.0003], device='cuda:0', grad_fn=<DivBackward0>) 0.002411095891147852 0.014284146949648857\n",
      "154287 tensor([4.7341e-05], device='cuda:0', grad_fn=<DivBackward0>) 0.002601498505100608 0.00042835684143938124\n",
      "158697 tensor([0.0003], device='cuda:0', grad_fn=<DivBackward0>) 0.0007106777047738433 0.018070004880428314\n",
      "159075 tensor([3.0375e-05], device='cuda:0', grad_fn=<DivBackward0>) 0.0002239700552308932 0.001720022177323699\n",
      "160650 tensor([2.2865e-05], device='cuda:0', grad_fn=<DivBackward0>) 0.0 0.0014633787795901299\n",
      "160902 tensor([9.1601e-05], device='cuda:0', grad_fn=<DivBackward0>) 0.0005137465195730329 0.005348715931177139\n",
      "161406 tensor([0.0002], device='cuda:0', grad_fn=<DivBackward0>) 0.012095137499272823 0.0\n",
      "161910 tensor([0.0002], device='cuda:0', grad_fn=<DivBackward0>) 0.0 0.010691609233617783\n",
      "162225 tensor([0.0001], device='cuda:0', grad_fn=<DivBackward0>) 0.00010179594391956925 0.006978084798902273\n",
      "163548 tensor([0.0001], device='cuda:0', grad_fn=<DivBackward0>) 3.950661630369723e-05 0.008162174373865128\n",
      "164934 tensor([0.0005], device='cuda:0', grad_fn=<DivBackward0>) 0.0 0.030556421726942062\n",
      "165123 tensor([1.9475e-05], device='cuda:0', grad_fn=<DivBackward0>) 0.0 0.0012464110041037202\n",
      "167832 tensor([5.9682e-05], device='cuda:0', grad_fn=<DivBackward0>) 0.00015981780597940087 0.0036598420701920986\n",
      "168021 tensor([0.0025], device='cuda:0', grad_fn=<DivBackward0>) 0.15800626575946808 2.726267211983213e-09\n",
      "171486 tensor([0.0005], device='cuda:0', grad_fn=<DivBackward0>) 0.0025671254843473434 0.029268553480505943\n",
      "171675 tensor([0.0010], device='cuda:0', grad_fn=<DivBackward0>) 0.004527343437075615 0.06155320256948471\n",
      "175329 tensor([0.0002], device='cuda:0', grad_fn=<DivBackward0>) 0.013659694232046604 0.0009341423865407705\n",
      "180873 tensor([0.0034], device='cuda:0', grad_fn=<DivBackward0>) 0.2205507755279541 0.0\n",
      "181566 tensor([0.0004], device='cuda:0', grad_fn=<DivBackward0>) 0.0 0.02267664112150669\n",
      "183330 tensor([0.0006], device='cuda:0', grad_fn=<DivBackward0>) 0.020925963297486305 0.016459235921502113\n",
      "186165 tensor([0.0002], device='cuda:0', grad_fn=<DivBackward0>) 0.0 0.012877855449914932\n",
      "186354 tensor([0.0003], device='cuda:0', grad_fn=<DivBackward0>) 0.0 0.01928829960525036\n",
      "188559 tensor([0.0002], device='cuda:0', grad_fn=<DivBackward0>) 0.0052453288808465 0.008816984482109547\n",
      "189126 tensor([3.6092e-05], device='cuda:0', grad_fn=<DivBackward0>) 0.0 0.0023098953533917665\n",
      "191457 tensor([0.0001], device='cuda:0', grad_fn=<DivBackward0>) 0.0 0.006799071561545134\n",
      "191709 tensor([0.0003], device='cuda:0', grad_fn=<DivBackward0>) 0.005524501670151949 0.013403293676674366\n",
      "191961 tensor([3.1440e-05], device='cuda:0', grad_fn=<DivBackward0>) 0.00048324826639145613 0.0015289165312424302\n",
      "193851 tensor([6.0186e-05], device='cuda:0', grad_fn=<DivBackward0>) 0.0 0.0038519310764968395\n",
      "197757 tensor([6.3957e-05], device='cuda:0', grad_fn=<DivBackward0>) 0.0 0.004093220457434654\n",
      "198954 tensor([0.0001], device='cuda:0', grad_fn=<DivBackward0>) 0.0009326293366029859 0.0070444075390696526\n",
      "199206 tensor([2.1856e-05], device='cuda:0', grad_fn=<DivBackward0>) 0.00020676320127677172 0.001191993011161685\n",
      "200088 tensor([5.7221e-06], device='cuda:0', grad_fn=<DivBackward0>) 0.0 0.00036621204344555736\n",
      "200277 tensor([0.0001], device='cuda:0', grad_fn=<DivBackward0>) 0.0014744900399819016 0.005284421145915985\n",
      "201348 tensor([5.8665e-06], device='cuda:0', grad_fn=<DivBackward0>) 0.0003754586214199662 0.0\n",
      "204372 tensor([0.0008], device='cuda:0', grad_fn=<DivBackward0>) 2.846575625881087e-05 0.04854555428028107\n",
      "205191 tensor([9.1357e-06], device='cuda:0', grad_fn=<DivBackward0>) 0.0005846849526278675 0.0\n",
      "206640 tensor([2.5993e-05], device='cuda:0', grad_fn=<DivBackward0>) 0.00019202654948458076 0.001471515279263258\n",
      "207144 tensor([8.0458e-05], device='cuda:0', grad_fn=<DivBackward0>) 0.0005696968291886151 0.004579644650220871\n",
      "208152 tensor([5.7329e-05], device='cuda:0', grad_fn=<DivBackward0>) 0.003669059369713068 0.0\n",
      "208719 tensor([0.0001], device='cuda:0', grad_fn=<DivBackward0>) 0.0076108528301119804 0.0005392377497628331\n",
      "209097 tensor([3.4746e-05], device='cuda:0', grad_fn=<DivBackward0>) 0.0015773421619087458 0.0006464284379035234\n"
     ]
    },
    {
     "name": "stdout",
     "output_type": "stream",
     "text": [
      "209790 tensor([0.], device='cuda:0', grad_fn=<DivBackward0>) 0.0 0.0\n",
      "209853 tensor([1.2148e-05], device='cuda:0', grad_fn=<DivBackward0>) 0.0 0.0007774567347951233\n",
      "210861 tensor([0.0004], device='cuda:0', grad_fn=<DivBackward0>) 0.00884298887103796 0.017469201236963272\n",
      "217476 tensor([0.0003], device='cuda:0', grad_fn=<DivBackward0>) 4.482664735405706e-05 0.01725718192756176\n",
      "217728 tensor([0.0004], device='cuda:0', grad_fn=<DivBackward0>) 0.0008387909037992358 0.023370660841464996\n",
      "218358 tensor([1.9253e-06], device='cuda:0', grad_fn=<DivBackward0>) 0.0001204690124723129 2.752794898697175e-06\n",
      "218484 tensor([0.0006], device='cuda:0', grad_fn=<DivBackward0>) 0.03325045108795166 0.007576657924801111\n",
      "218547 tensor([0.0011], device='cuda:0', grad_fn=<DivBackward0>) 0.035173673182725906 0.037407003343105316\n",
      "219051 tensor([0.0004], device='cuda:0', grad_fn=<DivBackward0>) 0.02308615855872631 0.002030606148764491\n",
      "219996 tensor([3.4960e-05], device='cuda:0', grad_fn=<DivBackward0>) 4.0020790038397536e-05 0.0021973885595798492\n",
      "220437 tensor([0.0007], device='cuda:0', grad_fn=<DivBackward0>) 0.009447142481803894 0.03391076624393463\n",
      "221949 tensor([0.0008], device='cuda:0', grad_fn=<DivBackward0>) 0.04268442466855049 0.010690695606172085\n",
      "223461 tensor([5.3863e-05], device='cuda:0', grad_fn=<DivBackward0>) 0.0 0.003447211580350995\n",
      "224343 tensor([4.7619e-05], device='cuda:0', grad_fn=<DivBackward0>) 8.699171303305775e-05 0.0029606414027512074\n",
      "228627 tensor([4.2230e-05], device='cuda:0', grad_fn=<DivBackward0>) 0.0 0.00270274025388062\n",
      "229635 tensor([0.0003], device='cuda:0', grad_fn=<DivBackward0>) 0.0006108639645390213 0.01818976178765297\n",
      "232470 tensor([0.0004], device='cuda:0', grad_fn=<DivBackward0>) 0.00039477035170421004 0.027774527668952942\n",
      "232596 tensor([0.0175], device='cuda:0', grad_fn=<DivBackward0>) 1.1152160167694092 0.006207762286067009\n",
      "234171 tensor([0.], device='cuda:0', grad_fn=<DivBackward0>) 0.0 0.0\n",
      "236502 tensor([5.0635e-05], device='cuda:0', grad_fn=<DivBackward0>) 0.0 0.00324065238237381\n",
      "237447 tensor([0.0004], device='cuda:0', grad_fn=<DivBackward0>) 0.026635389775037766 0.0021625361405313015\n",
      "237951 tensor([0.0003], device='cuda:0', grad_fn=<DivBackward0>) 0.01878182962536812 0.0008570081554353237\n",
      "240975 tensor([0.0014], device='cuda:0', grad_fn=<DivBackward0>) 0.08343657106161118 0.0031664473935961723\n",
      "241542 tensor([0.0003], device='cuda:0', grad_fn=<DivBackward0>) 0.0005808628629893064 0.01787284016609192\n",
      "241857 tensor([1.8967e-05], device='cuda:0', grad_fn=<DivBackward0>) 0.0 0.0012138786260038614\n",
      "244062 tensor([0.0007], device='cuda:0', grad_fn=<DivBackward0>) 0.005404235795140266 0.041340265423059464\n",
      "245007 tensor([0.0005], device='cuda:0', grad_fn=<DivBackward0>) 0.001224622130393982 0.030468761920928955\n",
      "245448 tensor([0.], device='cuda:0', grad_fn=<DivBackward0>) 0.0 0.0\n",
      "245637 tensor([1.1901e-05], device='cuda:0', grad_fn=<DivBackward0>) 0.0 0.0007616443326696754\n",
      "246456 tensor([0.0004], device='cuda:0', grad_fn=<DivBackward0>) 0.022209804505109787 0.0028196319472044706\n",
      "248409 tensor([0.0002], device='cuda:0', grad_fn=<DivBackward0>) 4.431729394127615e-05 0.009831160306930542\n",
      "249228 tensor([1.4019e-05], device='cuda:0', grad_fn=<DivBackward0>) 0.0 0.0008972021169029176\n",
      "249543 tensor([3.7247e-05], device='cuda:0', grad_fn=<DivBackward0>) 0.0023837934713810682 0.0\n",
      "251685 tensor([0.0001], device='cuda:0', grad_fn=<DivBackward0>) 0.007524034008383751 0.00011152945808134973\n",
      "252630 tensor([0.0021], device='cuda:0', grad_fn=<DivBackward0>) 0.13186359405517578 0.0\n",
      "253575 tensor([5.3616e-05], device='cuda:0', grad_fn=<DivBackward0>) 0.0 0.00343139236792922\n",
      "253638 tensor([0.0003], device='cuda:0', grad_fn=<DivBackward0>) 0.019966231659054756 0.0003592691500671208\n",
      "254457 tensor([6.1626e-05], device='cuda:0', grad_fn=<DivBackward0>) 0.0001775613345671445 0.0037664982955902815\n",
      "255339 tensor([0.0002], device='cuda:0', grad_fn=<DivBackward0>) 0.0053799888119101524 0.0099709527567029\n",
      "256095 tensor([0.0002], device='cuda:0', grad_fn=<DivBackward0>) 0.0 0.009760807268321514\n",
      "257229 tensor([6.2048e-05], device='cuda:0', grad_fn=<DivBackward0>) 0.0002220161841250956 0.0037490525282919407\n",
      "257670 tensor([0.0002], device='cuda:0', grad_fn=<DivBackward0>) 0.004705043509602547 0.00591416098177433\n",
      "258174 tensor([0.0003], device='cuda:0', grad_fn=<DivBackward0>) 0.0037680286914110184 0.01332021877169609\n",
      "260064 tensor([0.], device='cuda:0', grad_fn=<DivBackward0>) 0.0 0.0\n",
      "260442 tensor([4.6824e-06], device='cuda:0', grad_fn=<DivBackward0>) 0.00029967405134812 0.0\n",
      "260694 tensor([0.0002], device='cuda:0', grad_fn=<DivBackward0>) 0.00041406822856515646 0.011333117261528969\n",
      "261072 tensor([7.2043e-05], device='cuda:0', grad_fn=<DivBackward0>) 9.796464291866869e-05 0.004512772895395756\n",
      "261576 tensor([0.0003], device='cuda:0', grad_fn=<DivBackward0>) 0.019061671569943428 0.00014912805636413395\n",
      "266868 tensor([2.2164e-05], device='cuda:0', grad_fn=<DivBackward0>) 0.0 0.0014184822794049978\n",
      "271908 tensor([0.0005], device='cuda:0', grad_fn=<DivBackward0>) 0.0 0.032466061413288116\n",
      "272286 tensor([0.0002], device='cuda:0', grad_fn=<DivBackward0>) 0.005017423070967197 0.004853514023125172\n",
      "272727 tensor([0.0001], device='cuda:0', grad_fn=<DivBackward0>) 0.001182191539555788 0.005659408867359161\n",
      "274239 tensor([0.0002], device='cuda:0', grad_fn=<DivBackward0>) 0.0002525565796531737 0.011997085064649582\n",
      "274869 tensor([5.7686e-05], device='cuda:0', grad_fn=<DivBackward0>) 0.002289028838276863 0.0014028786681592464\n",
      "280161 tensor([8.0915e-05], device='cuda:0', grad_fn=<DivBackward0>) 0.005178585648536682 0.0\n",
      "280224 tensor([0.0007], device='cuda:0', grad_fn=<DivBackward0>) 0.003963750787079334 0.04154415428638458\n",
      "280791 tensor([3.7886e-06], device='cuda:0', grad_fn=<DivBackward0>) 0.0 0.00024246959947049618\n",
      "281169 tensor([2.6412e-05], device='cuda:0', grad_fn=<DivBackward0>) 0.0 0.0016903604846447706\n",
      "282177 tensor([0.0002], device='cuda:0', grad_fn=<DivBackward0>) 0.014955399557948112 0.0002946926688309759\n",
      "282429 tensor([2.0272e-05], device='cuda:0', grad_fn=<DivBackward0>) 7.471229037037119e-05 0.0012226670514792204\n",
      "282933 tensor([6.5333e-05], device='cuda:0', grad_fn=<DivBackward0>) 0.004181282594799995 0.0\n",
      "284256 tensor([7.6147e-05], device='cuda:0', grad_fn=<DivBackward0>) 0.0 0.004873380530625582\n",
      "285075 tensor([0.0002], device='cuda:0', grad_fn=<DivBackward0>) 0.009714468382298946 0.0017780429916456342\n",
      "285327 tensor([0.0006], device='cuda:0', grad_fn=<DivBackward0>) 0.0 0.04084860533475876\n",
      "287721 tensor([0.], device='cuda:0', grad_fn=<DivBackward0>) 0.0 0.0\n",
      "287784 tensor([3.7808e-07], device='cuda:0', grad_fn=<DivBackward0>) 2.4197073798859492e-05 0.0\n",
      "288792 tensor([0.0004], device='cuda:0', grad_fn=<DivBackward0>) 0.0 0.025067122653126717\n",
      "289674 tensor([7.7438e-05], device='cuda:0', grad_fn=<DivBackward0>) 0.0033930588979274035 0.0015629820991307497\n",
      "292005 tensor([3.1717e-06], device='cuda:0', grad_fn=<DivBackward0>) 0.00020298890012782067 0.0\n",
      "292131 tensor([4.6942e-07], device='cuda:0', grad_fn=<DivBackward0>) 8.267967132269405e-06 2.177462010877207e-05\n",
      "293580 tensor([5.8545e-05], device='cuda:0', grad_fn=<DivBackward0>) 0.003287719329819083 0.0004591408360283822\n",
      "296163 tensor([0.0002], device='cuda:0', grad_fn=<DivBackward0>) 0.01039155200123787 0.0\n",
      "296226 tensor([2.1869e-05], device='cuda:0', grad_fn=<DivBackward0>) 0.0 0.0013995899353176355\n",
      "299691 tensor([0.0001], device='cuda:0', grad_fn=<DivBackward0>) 0.0 0.008329018950462341\n",
      "300321 tensor([8.1381e-05], device='cuda:0', grad_fn=<DivBackward0>) 0.00520836329087615 0.0\n",
      "301518 tensor([0.0001], device='cuda:0', grad_fn=<DivBackward0>) 0.0 0.00675745215266943\n",
      "303345 tensor([0.0001], device='cuda:0', grad_fn=<DivBackward0>) 4.366375651443377e-05 0.006628756877034903\n",
      "306810 tensor([0.0001], device='cuda:0', grad_fn=<DivBackward0>) 0.0 0.008564494550228119\n",
      "309078 tensor([0.0003], device='cuda:0', grad_fn=<DivBackward0>) 0.0020637281704694033 0.014147547073662281\n",
      "310338 tensor([0.0001], device='cuda:0', grad_fn=<DivBackward0>) 0.0001372255792375654 0.007599658332765102\n",
      "310401 tensor([3.6006e-05], device='cuda:0', grad_fn=<DivBackward0>) 3.3748048736015335e-05 0.002270657569169998\n",
      "310716 tensor([0.0003], device='cuda:0', grad_fn=<DivBackward0>) 0.0 0.01653309352695942\n"
     ]
    },
    {
     "name": "stdout",
     "output_type": "stream",
     "text": [
      "314370 tensor([0.0134], device='cuda:0', grad_fn=<DivBackward0>) 0.8512077927589417 0.005820699036121368\n"
     ]
    },
    {
     "ename": "KeyboardInterrupt",
     "evalue": "",
     "output_type": "error",
     "traceback": [
      "\u001b[1;31m---------------------------------------------------------------------------\u001b[0m",
      "\u001b[1;31mKeyboardInterrupt\u001b[0m                         Traceback (most recent call last)",
      "\u001b[1;32m<ipython-input-11-06a888360782>\u001b[0m in \u001b[0;36m<module>\u001b[1;34m\u001b[0m\n\u001b[0;32m     14\u001b[0m         \u001b[0mdenominator\u001b[0m \u001b[1;33m=\u001b[0m \u001b[1;36m0\u001b[0m\u001b[1;33m\u001b[0m\u001b[1;33m\u001b[0m\u001b[0m\n\u001b[0;32m     15\u001b[0m         \u001b[1;32mfor\u001b[0m \u001b[0mindex\u001b[0m \u001b[1;32min\u001b[0m \u001b[0mrange\u001b[0m\u001b[1;33m(\u001b[0m\u001b[0mtemp_number\u001b[0m\u001b[1;33m,\u001b[0m \u001b[0mmin\u001b[0m\u001b[1;33m(\u001b[0m\u001b[0mbatch_size\u001b[0m\u001b[1;33m+\u001b[0m\u001b[0mtemp_number\u001b[0m\u001b[1;33m,\u001b[0m\u001b[0mlen\u001b[0m\u001b[1;33m(\u001b[0m\u001b[0mtraining_data\u001b[0m\u001b[1;33m)\u001b[0m\u001b[1;33m)\u001b[0m\u001b[1;33m)\u001b[0m\u001b[1;33m:\u001b[0m\u001b[1;33m\u001b[0m\u001b[1;33m\u001b[0m\u001b[0m\n\u001b[1;32m---> 16\u001b[1;33m             \u001b[0mh_loss1\u001b[0m\u001b[1;33m,\u001b[0m\u001b[0mh_loss2\u001b[0m\u001b[1;33m,\u001b[0m\u001b[0mh_list\u001b[0m \u001b[1;33m=\u001b[0m \u001b[0mnet\u001b[0m\u001b[1;33m(\u001b[0m\u001b[0mtraining_data\u001b[0m\u001b[1;33m[\u001b[0m\u001b[0mindex\u001b[0m\u001b[1;33m]\u001b[0m\u001b[1;33m,\u001b[0m\u001b[0mtraining_label\u001b[0m\u001b[1;33m[\u001b[0m\u001b[0mindex\u001b[0m\u001b[1;33m]\u001b[0m\u001b[1;33m,\u001b[0m\u001b[1;36m0\u001b[0m\u001b[1;33m)\u001b[0m\u001b[1;33m\u001b[0m\u001b[1;33m\u001b[0m\u001b[0m\n\u001b[0m\u001b[0;32m     17\u001b[0m             \u001b[0mdenominator\u001b[0m \u001b[1;33m+=\u001b[0m \u001b[1;36m1\u001b[0m\u001b[1;33m\u001b[0m\u001b[1;33m\u001b[0m\u001b[0m\n\u001b[0;32m     18\u001b[0m             \u001b[0mloss1_sum\u001b[0m \u001b[1;33m+=\u001b[0m \u001b[0mh_loss1\u001b[0m\u001b[1;33m\u001b[0m\u001b[1;33m\u001b[0m\u001b[0m\n",
      "\u001b[1;32mD:\\ComputerSoftwares\\Anaconda\\lib\\site-packages\\torch\\nn\\modules\\module.py\u001b[0m in \u001b[0;36m_call_impl\u001b[1;34m(self, *input, **kwargs)\u001b[0m\n\u001b[0;32m    720\u001b[0m             \u001b[0mresult\u001b[0m \u001b[1;33m=\u001b[0m \u001b[0mself\u001b[0m\u001b[1;33m.\u001b[0m\u001b[0m_slow_forward\u001b[0m\u001b[1;33m(\u001b[0m\u001b[1;33m*\u001b[0m\u001b[0minput\u001b[0m\u001b[1;33m,\u001b[0m \u001b[1;33m**\u001b[0m\u001b[0mkwargs\u001b[0m\u001b[1;33m)\u001b[0m\u001b[1;33m\u001b[0m\u001b[1;33m\u001b[0m\u001b[0m\n\u001b[0;32m    721\u001b[0m         \u001b[1;32melse\u001b[0m\u001b[1;33m:\u001b[0m\u001b[1;33m\u001b[0m\u001b[1;33m\u001b[0m\u001b[0m\n\u001b[1;32m--> 722\u001b[1;33m             \u001b[0mresult\u001b[0m \u001b[1;33m=\u001b[0m \u001b[0mself\u001b[0m\u001b[1;33m.\u001b[0m\u001b[0mforward\u001b[0m\u001b[1;33m(\u001b[0m\u001b[1;33m*\u001b[0m\u001b[0minput\u001b[0m\u001b[1;33m,\u001b[0m \u001b[1;33m**\u001b[0m\u001b[0mkwargs\u001b[0m\u001b[1;33m)\u001b[0m\u001b[1;33m\u001b[0m\u001b[1;33m\u001b[0m\u001b[0m\n\u001b[0m\u001b[0;32m    723\u001b[0m         for hook in itertools.chain(\n\u001b[0;32m    724\u001b[0m                 \u001b[0m_global_forward_hooks\u001b[0m\u001b[1;33m.\u001b[0m\u001b[0mvalues\u001b[0m\u001b[1;33m(\u001b[0m\u001b[1;33m)\u001b[0m\u001b[1;33m,\u001b[0m\u001b[1;33m\u001b[0m\u001b[1;33m\u001b[0m\u001b[0m\n",
      "\u001b[1;32m<ipython-input-8-76e1b71fc1c7>\u001b[0m in \u001b[0;36mforward\u001b[1;34m(self, input_list, input_label, label)\u001b[0m\n\u001b[0;32m     56\u001b[0m \u001b[1;33m\u001b[0m\u001b[0m\n\u001b[0;32m     57\u001b[0m         \u001b[1;32mfor\u001b[0m \u001b[0mi\u001b[0m \u001b[1;32min\u001b[0m \u001b[0mrange\u001b[0m\u001b[1;33m(\u001b[0m\u001b[0mAgent_number_n\u001b[0m\u001b[1;33m)\u001b[0m\u001b[1;33m:\u001b[0m\u001b[1;33m\u001b[0m\u001b[1;33m\u001b[0m\u001b[0m\n\u001b[1;32m---> 58\u001b[1;33m             \u001b[0mh\u001b[0m \u001b[1;33m=\u001b[0m \u001b[0mself\u001b[0m\u001b[1;33m.\u001b[0m\u001b[0mcalculate\u001b[0m\u001b[1;33m(\u001b[0m\u001b[0minput_list\u001b[0m\u001b[1;33m[\u001b[0m\u001b[0mi\u001b[0m\u001b[1;33m]\u001b[0m\u001b[1;33m)\u001b[0m\u001b[1;33m\u001b[0m\u001b[1;33m\u001b[0m\u001b[0m\n\u001b[0m\u001b[0;32m     59\u001b[0m             \u001b[0mh_list\u001b[0m\u001b[1;33m.\u001b[0m\u001b[0mappend\u001b[0m\u001b[1;33m(\u001b[0m\u001b[0mh\u001b[0m\u001b[1;33m)\u001b[0m\u001b[1;33m\u001b[0m\u001b[1;33m\u001b[0m\u001b[0m\n\u001b[0;32m     60\u001b[0m         input_label = torch.from_numpy(\n",
      "\u001b[1;32m<ipython-input-8-76e1b71fc1c7>\u001b[0m in \u001b[0;36mcalculate\u001b[1;34m(self, value_list)\u001b[0m\n\u001b[0;32m     30\u001b[0m     \u001b[1;32mdef\u001b[0m \u001b[0mcalculate\u001b[0m\u001b[1;33m(\u001b[0m\u001b[0mself\u001b[0m\u001b[1;33m,\u001b[0m \u001b[0mvalue_list\u001b[0m\u001b[1;33m)\u001b[0m\u001b[1;33m:\u001b[0m\u001b[1;33m\u001b[0m\u001b[1;33m\u001b[0m\u001b[0m\n\u001b[0;32m     31\u001b[0m         \u001b[0minput_h\u001b[0m \u001b[1;33m=\u001b[0m \u001b[0mtorch\u001b[0m\u001b[1;33m.\u001b[0m\u001b[0mzeros\u001b[0m\u001b[1;33m(\u001b[0m\u001b[0mself\u001b[0m\u001b[1;33m.\u001b[0m\u001b[0minput_dim\u001b[0m\u001b[1;33m)\u001b[0m\u001b[1;33m.\u001b[0m\u001b[0mcuda\u001b[0m\u001b[1;33m(\u001b[0m\u001b[1;33m)\u001b[0m\u001b[1;33m\u001b[0m\u001b[1;33m\u001b[0m\u001b[0m\n\u001b[1;32m---> 32\u001b[1;33m         \u001b[0mvalue_list\u001b[0m \u001b[1;33m=\u001b[0m \u001b[0mtorch\u001b[0m\u001b[1;33m.\u001b[0m\u001b[0mcat\u001b[0m\u001b[1;33m(\u001b[0m\u001b[1;33m[\u001b[0m\u001b[0mtorch\u001b[0m\u001b[1;33m.\u001b[0m\u001b[0mtensor\u001b[0m\u001b[1;33m(\u001b[0m\u001b[1;33m[\u001b[0m\u001b[0mtorch\u001b[0m\u001b[1;33m.\u001b[0m\u001b[0msum\u001b[0m\u001b[1;33m(\u001b[0m\u001b[0mvalue_list\u001b[0m\u001b[1;33m)\u001b[0m\u001b[1;33m]\u001b[0m\u001b[1;33m)\u001b[0m\u001b[1;33m.\u001b[0m\u001b[0mcuda\u001b[0m\u001b[1;33m(\u001b[0m\u001b[1;33m)\u001b[0m\u001b[1;33m,\u001b[0m\u001b[0mvalue_list\u001b[0m\u001b[1;33m]\u001b[0m\u001b[1;33m)\u001b[0m\u001b[1;33m\u001b[0m\u001b[1;33m\u001b[0m\u001b[0m\n\u001b[0m\u001b[0;32m     33\u001b[0m         \u001b[1;32mfor\u001b[0m \u001b[0mi\u001b[0m \u001b[1;32min\u001b[0m \u001b[0mrange\u001b[0m\u001b[1;33m(\u001b[0m\u001b[1;33m(\u001b[0m\u001b[0mAgent_number_n\u001b[0m\u001b[1;33m-\u001b[0m\u001b[1;36m1\u001b[0m\u001b[1;33m+\u001b[0m\u001b[1;36m1\u001b[0m\u001b[1;33m)\u001b[0m\u001b[1;33m)\u001b[0m\u001b[1;33m:\u001b[0m\u001b[1;33m\u001b[0m\u001b[1;33m\u001b[0m\u001b[0m\n\u001b[0;32m     34\u001b[0m             \u001b[1;32mfor\u001b[0m \u001b[0mj\u001b[0m \u001b[1;32min\u001b[0m \u001b[0mrange\u001b[0m\u001b[1;33m(\u001b[0m\u001b[0mself\u001b[0m\u001b[1;33m.\u001b[0m\u001b[0mdevided_number\u001b[0m\u001b[1;33m)\u001b[0m\u001b[1;33m:\u001b[0m\u001b[1;33m\u001b[0m\u001b[1;33m\u001b[0m\u001b[0m\n",
      "\u001b[1;31mKeyboardInterrupt\u001b[0m: "
     ]
    }
   ],
   "source": [
    "for iteration in range(int(echo)):\n",
    "    # offender_types = []\n",
    "    # defender_types = []\n",
    "    \n",
    "    \n",
    "    X_train_list = []\n",
    "    temp_number = 0\n",
    "    total_batch_loss = 0 \n",
    "    while(temp_number<len(training_data)-1):\n",
    "        \n",
    "        loss2_list = []\n",
    "        loss1_sum = 0\n",
    "        loss2_sum = 0\n",
    "        denominator = 0\n",
    "        for index in range(temp_number, min(batch_size+temp_number,len(training_data))):\n",
    "            h_loss1,h_loss2,h_list = net(training_data[index],training_label[index],0)\n",
    "            denominator += 1\n",
    "            loss1_sum += h_loss1\n",
    "            loss2_sum += h_loss2\n",
    "            \n",
    "        loss_sum = loss1_sum + loss2_sum\n",
    "        loss = (loss_sum) / denominator \n",
    "        total_batch_loss +=float(loss_sum)\n",
    "        optimizer.zero_grad()\n",
    "        \n",
    "        loss.backward()\n",
    "        \n",
    "        optimizer.step()\n",
    "        \n",
    "        temp_number = index\n",
    "        \n",
    "        if(random.random()<=0.05):\n",
    "            print(temp_number,loss,float(loss1_sum),float(loss2_sum))\n",
    "\n",
    "\n",
    "    print(\"batch iteration\", iteration)\n",
    "    print(\"batch_loss: %.2f \" % (total_batch_loss/len(training_data)))\n",
    "    \n",
    "    print()\n",
    "    print()"
   ]
  },
  {
   "cell_type": "code",
   "execution_count": 12,
   "metadata": {
    "ExecuteTime": {
     "end_time": "2021-06-01T05:29:16.828830Z",
     "start_time": "2021-06-01T05:29:16.812859Z"
    }
   },
   "outputs": [],
   "source": [
    "torch.save(net, \"save/Deep_learning_small4_1\")"
   ]
  },
  {
   "cell_type": "code",
   "execution_count": null,
   "metadata": {
    "ExecuteTime": {
     "start_time": "2021-06-01T05:29:17.041Z"
    }
   },
   "outputs": [],
   "source": [
    "denominator = 0\n",
    "result_list = []\n",
    "for index in range(len(testing_data)):\n",
    "    h_list = []\n",
    "    for i in range(Agent_number_n):\n",
    "        h = net.calculate(torch.tensor(testing_data[index][i]).cuda().type(torch.float32))\n",
    "        h_list.append(float(h))\n",
    "    \n",
    "    #print(sum(h_list),h_list,sum(h_list)/testing_label[index])\n",
    "    result_list.append(sum(h_list)/testing_label[index])\n",
    "    \n",
    "\n",
    "print(max(result_list),min(result_list),max(result_list)-min(result_list))"
   ]
  },
  {
   "cell_type": "code",
   "execution_count": null,
   "metadata": {
    "ExecuteTime": {
     "start_time": "2021-06-01T05:29:17.256Z"
    }
   },
   "outputs": [],
   "source": [
    "plt.hist(result_list,bins=500)\n",
    "\n",
    "plt.title(\"Means\", y=1.015, fontsize=20)\n",
    "plt.axvline(x=sum(result_list)/len(result_list), linestyle='--', linewidth=2.5, label=\"sample mean\", c='orange')\n",
    "plt.xlabel(\"samples\", labelpad=14)\n",
    "plt.ylabel(\"frequency of occurence\", labelpad=14)\n",
    "plt.legend();\n",
    "\n",
    "result_list.sort()\n",
    "\n",
    "plt.axvline(x=result_list[int(len(result_list)*0.01)], linestyle='--', linewidth=0.5, label=\"1%\", c='b')\n",
    "plt.axvline(x=result_list[int(len(result_list)*0.99)], linestyle='--', linewidth=0.5, label=\"99%\", c='r')\n",
    "\n",
    "\n",
    "plt.show()"
   ]
  },
  {
   "cell_type": "code",
   "execution_count": null,
   "metadata": {
    "ExecuteTime": {
     "start_time": "2021-06-01T05:29:17.449Z"
    }
   },
   "outputs": [],
   "source": [
    "for param in net.parameters():\n",
    "    print(param )"
   ]
  },
  {
   "cell_type": "code",
   "execution_count": null,
   "metadata": {},
   "outputs": [],
   "source": []
  }
 ],
 "metadata": {
  "hide_input": false,
  "kernelspec": {
   "display_name": "Python 3",
   "language": "python",
   "name": "python3"
  },
  "language_info": {
   "codemirror_mode": {
    "name": "ipython",
    "version": 3
   },
   "file_extension": ".py",
   "mimetype": "text/x-python",
   "name": "python",
   "nbconvert_exporter": "python",
   "pygments_lexer": "ipython3",
   "version": "3.8.3"
  },
  "varInspector": {
   "cols": {
    "lenName": 16,
    "lenType": 16,
    "lenVar": 40
   },
   "kernels_config": {
    "python": {
     "delete_cmd_postfix": "",
     "delete_cmd_prefix": "del ",
     "library": "var_list.py",
     "varRefreshCmd": "print(var_dic_list())"
    },
    "r": {
     "delete_cmd_postfix": ") ",
     "delete_cmd_prefix": "rm(",
     "library": "var_list.r",
     "varRefreshCmd": "cat(var_dic_list()) "
    }
   },
   "types_to_exclude": [
    "module",
    "function",
    "builtin_function_or_method",
    "instance",
    "_Feature"
   ],
   "window_display": false
  }
 },
 "nbformat": 4,
 "nbformat_minor": 4
}
