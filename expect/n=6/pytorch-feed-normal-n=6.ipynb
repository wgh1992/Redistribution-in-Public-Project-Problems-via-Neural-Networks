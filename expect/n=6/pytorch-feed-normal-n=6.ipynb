{
 "cells": [
  {
   "cell_type": "code",
   "execution_count": 1,
   "metadata": {
    "ExecuteTime": {
     "end_time": "2021-06-22T03:57:41.917383Z",
     "start_time": "2021-06-22T03:57:39.808090Z"
    }
   },
   "outputs": [
    {
     "name": "stdout",
     "output_type": "stream",
     "text": [
      "pygame 2.0.1 (SDL 2.0.14, Python 3.8.3)\n",
      "Hello from the pygame community. https://www.pygame.org/contribute.html\n"
     ]
    },
    {
     "name": "stderr",
     "output_type": "stream",
     "text": [
      "D:\\ComputerSoftwares\\Anaconda\\lib\\site-packages\\sklearn\\utils\\deprecation.py:143: FutureWarning: The sklearn.datasets.samples_generator module is  deprecated in version 0.22 and will be removed in version 0.24. The corresponding classes / functions should instead be imported from sklearn.datasets. Anything that cannot be imported from sklearn.datasets is now part of the private API.\n",
      "  warnings.warn(message, FutureWarning)\n"
     ]
    },
    {
     "name": "stdout",
     "output_type": "stream",
     "text": [
      "cuda:0\n"
     ]
    }
   ],
   "source": [
    "\n",
    "import pygame\n",
    "import random\n",
    "import os\n",
    "import time\n",
    "import numpy as np\n",
    "import math\n",
    "import torch\n",
    "import torch.nn.functional\n",
    "import matplotlib.pyplot as plt\n",
    "import torch.optim as opt\n",
    "from torch.autograd import Variable\n",
    "from sklearn.model_selection import train_test_split\n",
    "\n",
    "import scipy.stats as st\n",
    "from sklearn.datasets.samples_generator import make_blobs\n",
    "from matplotlib.colors import LogNorm \n",
    "import matplotlib.cm as cm\n",
    "import torch.nn as nn\n",
    "import numpy as np\n",
    "import matplotlib.pyplot as plt\n",
    "import plotly.graph_objects as go\n",
    "import plotly.express as px\n",
    "from scipy.interpolate import griddata\n",
    "import torch.nn.functional as F\n",
    "import torch.distributions as D\n",
    "if torch.cuda.is_available():  \n",
    "    dev = \"cuda:0\" \n",
    "else:  \n",
    "    dev = \"cpu\"  \n",
    "\n",
    "print(dev)\n",
    "\n"
   ]
  },
  {
   "cell_type": "code",
   "execution_count": 2,
   "metadata": {
    "ExecuteTime": {
     "end_time": "2021-06-22T03:57:41.932343Z",
     "start_time": "2021-06-22T03:57:41.920375Z"
    },
    "run_control": {
     "marked": true
    }
   },
   "outputs": [],
   "source": [
    "global temp_list\n",
    "temp_list = []\n",
    "Agent_number_n=6;\n",
    "Alpha = 1.0;\n",
    "\n",
    "echo = 1001\n",
    "BATCH_SIZE = 64\n",
    "LR = 0.001           # learning rate for generator\n",
    "devided_number = 1\n",
    "\n",
    "uniformlow = 0\n",
    "uniformhigh = 1.0\n",
    "\n",
    "normalloc = 0.5\n",
    "normalscale = 0.1\n",
    "\n",
    "doublePeakHighMean = 0.9\n",
    "doublePeakLowMean = 0.1\n",
    "doublePeakStd = 0.04\n",
    "\n",
    "beta_a = 0.3\n",
    "beta_b = 0.2\n",
    "\n",
    "def Generate_distribution(Agent_number_n):\n",
    "    #return sorted(np.random.rand(Agent_number_n), reverse=True)\n",
    "    return sorted(np.random.normal(normalloc,normalscale,Agent_number_n), reverse=True)\n",
    "Prior_Distribution = \"normal\""
   ]
  },
  {
   "cell_type": "code",
   "execution_count": 3,
   "metadata": {
    "ExecuteTime": {
     "end_time": "2021-06-22T03:57:41.948301Z",
     "start_time": "2021-06-22T03:57:41.934338Z"
    }
   },
   "outputs": [],
   "source": [
    "new_input = 3\n",
    "def Dimensionality_reduction(data_sorted):\n",
    "    out_data = torch.ones(new_input).cuda()\n",
    "    out_data[0] = torch.max(data_sorted) \n",
    "    out_data[1] = torch.sum(data_sorted) \n",
    "    \n",
    "    temp_list = []\n",
    "    for i in range(len(data_sorted)-1):\n",
    "        temp_list.append(data_sorted[i] - data_sorted[i + 1])\n",
    "    \n",
    "    temp_tensor = torch.stack(temp_list)    \n",
    "    out_data[2] = torch.max(temp_tensor) \n",
    "    return out_data\n"
   ]
  },
  {
   "cell_type": "code",
   "execution_count": 4,
   "metadata": {
    "ExecuteTime": {
     "end_time": "2021-06-22T03:57:41.979218Z",
     "start_time": "2021-06-22T03:57:41.950297Z"
    },
    "run_control": {
     "marked": true
    }
   },
   "outputs": [],
   "source": [
    "d_1 = D.uniform.Uniform(uniformlow, uniformhigh)\n",
    "distributionRatio_1 = d_1.cdf(1) - d_1.cdf(0)\n",
    "distributionBase_1 = d_1.cdf(0)\n",
    "\n",
    "d_2 = D.normal.Normal(normalloc, normalscale)\n",
    "distributionRatio_2 = d_2.cdf(1) - d_2.cdf(0)\n",
    "distributionBase_2 = d_2.cdf(0)\n",
    "\n",
    "d_3 = D.normal.Normal(doublePeakLowMean, doublePeakStd)\n",
    "d_4 = D.normal.Normal(doublePeakHighMean, doublePeakStd)\n",
    "distributionRatio_3 = (d_3.cdf(1) + d_4.cdf(1) - d_3.cdf(0) - d_4.cdf(0)) / 2\n",
    "distributionBase_3 = d_3.cdf(0) + d_4.cdf(0)\n",
    "\n",
    "# d_5 = D.beta.Beta(beta_a,beta_b)\n",
    "\n",
    "# d10 = D.beta.Beta(0.5,0.5)\n",
    "\n",
    "\n",
    "def cdf(x, y, i=None):\n",
    "    if (y == \"uniform\"):\n",
    "        return (d_1.cdf(x) - distributionBase_1) / distributionRatio_1\n",
    "    elif (y == \"normal\"):\n",
    "        return (d_2.cdf(x) - distributionBase_2) / distributionRatio_2\n",
    "    elif (y == \"twopeak\"):\n",
    "        return (d_3.cdf(x) + d_4.cdf(x) -\n",
    "                distributionBase_3) / 2 / distributionRatio_3\n",
    "\n",
    "\n",
    "def pdf(x, y, i=None):\n",
    "    x= x.cpu().type(torch.float32)\n",
    "    if (y == \"uniform\"):\n",
    "        return torch.pow(torch.tensor(10.0), d_1.log_prob(x)).to(dev)\n",
    "    elif (y == \"normal\"):\n",
    "        return torch.pow(torch.tensor(10.0), d_2.log_prob(x)).to(dev)\n",
    "    elif (y == \"twopeak\"):\n",
    "        return (torch.pow(torch.tensor(10.0), d_3.log_prob(x)) +\n",
    "                torch.pow(torch.tensor(10.0), d_4.log_prob(x))).to(dev) / 2 \n",
    "    \n",
    "def Generate_distribution(Agent_number_n):\n",
    "    return np.random.rand(Agent_number_n)\n",
    "    #return np.random.normal(normalloc,normalscale,Agent_number_n)\n"
   ]
  },
  {
   "cell_type": "code",
   "execution_count": 5,
   "metadata": {
    "ExecuteTime": {
     "end_time": "2021-06-22T03:57:43.449016Z",
     "start_time": "2021-06-22T03:57:41.981213Z"
    },
    "run_control": {
     "marked": false
    }
   },
   "outputs": [
    {
     "name": "stdout",
     "output_type": "stream",
     "text": [
      "tensor(10., device='cuda:0')\n",
      "tensor([1.], device='cuda:0')\n",
      "tensor([0.0008], device='cuda:0')\n"
     ]
    }
   ],
   "source": [
    "print(torch.tensor(10.0).to(dev))\n",
    "print(pdf(torch.ones(1)*0.2,\"uniform\"))\n",
    "print(pdf(torch.ones(1)*0.2,\"normal\"))\n"
   ]
  },
  {
   "cell_type": "code",
   "execution_count": 6,
   "metadata": {
    "ExecuteTime": {
     "end_time": "2021-06-22T03:57:43.924120Z",
     "start_time": "2021-06-22T03:57:43.450014Z"
    }
   },
   "outputs": [
    {
     "name": "stdout",
     "output_type": "stream",
     "text": [
      "[[[0.57540204 0.71846366 0.00216551 0.79314785 0.4143874 ]\n",
      "  [0.28567917 0.71846366 0.00216551 0.79314785 0.4143874 ]\n",
      "  [0.28567917 0.57540204 0.00216551 0.79314785 0.4143874 ]\n",
      "  [0.28567917 0.57540204 0.71846366 0.79314785 0.4143874 ]\n",
      "  [0.28567917 0.57540204 0.71846366 0.00216551 0.4143874 ]\n",
      "  [0.28567917 0.57540204 0.71846366 0.00216551 0.79314785]]\n",
      "\n",
      " [[0.85609549 0.60980555 0.38665985 0.25387938 0.43369242]\n",
      "  [0.82369746 0.60980555 0.38665985 0.25387938 0.43369242]\n",
      "  [0.82369746 0.85609549 0.38665985 0.25387938 0.43369242]\n",
      "  [0.82369746 0.85609549 0.60980555 0.25387938 0.43369242]\n",
      "  [0.82369746 0.85609549 0.60980555 0.38665985 0.43369242]\n",
      "  [0.82369746 0.85609549 0.60980555 0.38665985 0.25387938]]\n",
      "\n",
      " [[0.17094025 0.36466157 0.9617503  0.90878519 0.88159999]\n",
      "  [0.8344531  0.36466157 0.9617503  0.90878519 0.88159999]\n",
      "  [0.8344531  0.17094025 0.9617503  0.90878519 0.88159999]\n",
      "  [0.8344531  0.17094025 0.36466157 0.90878519 0.88159999]\n",
      "  [0.8344531  0.17094025 0.36466157 0.9617503  0.88159999]\n",
      "  [0.8344531  0.17094025 0.36466157 0.9617503  0.90878519]]\n",
      "\n",
      " ...\n",
      "\n",
      " [[0.76196867 0.0431164  0.71552401 0.81707717 0.55288263]\n",
      "  [0.07343634 0.0431164  0.71552401 0.81707717 0.55288263]\n",
      "  [0.07343634 0.76196867 0.71552401 0.81707717 0.55288263]\n",
      "  [0.07343634 0.76196867 0.0431164  0.81707717 0.55288263]\n",
      "  [0.07343634 0.76196867 0.0431164  0.71552401 0.55288263]\n",
      "  [0.07343634 0.76196867 0.0431164  0.71552401 0.81707717]]\n",
      "\n",
      " [[0.60046724 0.87695932 0.50327399 0.18041705 0.67512155]\n",
      "  [0.54083951 0.87695932 0.50327399 0.18041705 0.67512155]\n",
      "  [0.54083951 0.60046724 0.50327399 0.18041705 0.67512155]\n",
      "  [0.54083951 0.60046724 0.87695932 0.18041705 0.67512155]\n",
      "  [0.54083951 0.60046724 0.87695932 0.50327399 0.67512155]\n",
      "  [0.54083951 0.60046724 0.87695932 0.50327399 0.18041705]]\n",
      "\n",
      " [[0.75295279 0.46912493 0.44628067 0.35305978 0.63554775]\n",
      "  [0.65432411 0.46912493 0.44628067 0.35305978 0.63554775]\n",
      "  [0.65432411 0.75295279 0.44628067 0.35305978 0.63554775]\n",
      "  [0.65432411 0.75295279 0.46912493 0.35305978 0.63554775]\n",
      "  [0.65432411 0.75295279 0.46912493 0.44628067 0.63554775]\n",
      "  [0.65432411 0.75295279 0.46912493 0.44628067 0.35305978]]]\n",
      "[2.78924564 3.36383015 4.1221904  ... 2.96400522 3.37707867 3.31129004]\n"
     ]
    }
   ],
   "source": [
    "def h_3_star(a, b, t):\n",
    "    return a - min(a, t) + b - min(b, t) + max(min(a, t)+min(b, t), 2*t/3) + 1/2 * max(min(a, t)+min(b, t), t) - 1/2 * max(max(min(a, t), min(b, t)), 2*t/3) - t/6\n",
    "\n",
    "\n",
    "def f_function(a, b, z):\n",
    "    if(z >= 1):\n",
    "        return (a+b)/2 + z/3\n",
    "    else:\n",
    "        return z/3 + h_3_star(a, b, 1-z)/2\n",
    "\n",
    "def h_function_label(input_list):\n",
    "    #input_list = sorted(input_list)\n",
    "    g_list = []\n",
    "    for j1 in range(len(input_list) ):\n",
    "        for j2 in range(len(input_list)):\n",
    "            if(j1 != j2):\n",
    "                a = input_list[j1]\n",
    "                b = input_list[j2]\n",
    "                z = sum(input_list)- a-b\n",
    "\n",
    "                g_list.append( f_function(a, b, z) * (Agent_number_n-1))\n",
    "    h = sum(g_list) * 3 /  (Agent_number_n) /  (Agent_number_n-1) /  (Agent_number_n - 2)\n",
    "    return h\n",
    "\n",
    "def appen(_x_list,y):\n",
    "    global temp_list\n",
    "    temp_list.append(_x_list)\n",
    "    \n",
    "def appen_train(x_list):\n",
    "    global temp_list\n",
    "                \n",
    "    S= max(sum(x_list),1.0);\n",
    "    temp_list = []\n",
    "    h_list = []\n",
    "    for i in range(Agent_number_n):\n",
    "        temp = []\n",
    "        for j in range(Agent_number_n):\n",
    "            if(i!=j):\n",
    "                temp.append(x_list[j])\n",
    "        appen(temp,S)\n",
    "        \n",
    "        h = h_function_label(temp)\n",
    "        h_list.append(float(h))\n",
    "    temp_list = np.array(temp_list)\n",
    "    x_list = np.array(x_list)\n",
    "    return temp_list,S,x_list,h_list\n",
    "    \n",
    "\n",
    "def appen_test(x_list):\n",
    "    global temp_list\n",
    "                \n",
    "    S= max(sum(x_list),1.0);\n",
    "    temp_list = []\n",
    "    \n",
    "    for i in range(Agent_number_n):\n",
    "        temp = []\n",
    "        for j in range(Agent_number_n):\n",
    "            if(i!=j):\n",
    "                temp.append(x_list[j])\n",
    "        appen(temp,S)\n",
    "    testing_data.append(temp_list)\n",
    "    testing_label.append(S)\n",
    "    temp_list = np.array(temp_list)\n",
    "    return temp_list,S\n",
    "    \n",
    "\n",
    "def read_testing_data():\n",
    "    for i in range(10000):\n",
    "        appen_test(Generate_distribution(Agent_number_n));\n",
    "                            \n",
    "\n",
    "testing_data=[]\n",
    "testing_label=[]\n",
    "S=1.0\n",
    "read_testing_data();\n",
    "\n",
    "testing_data=np.array(testing_data)\n",
    "testing_label=np.array(testing_label)\n",
    "print(testing_data)\n",
    "print(testing_label)"
   ]
  },
  {
   "cell_type": "code",
   "execution_count": 7,
   "metadata": {
    "ExecuteTime": {
     "end_time": "2021-06-22T03:57:53.567031Z",
     "start_time": "2021-06-22T03:57:43.928110Z"
    }
   },
   "outputs": [
    {
     "name": "stdout",
     "output_type": "stream",
     "text": [
      "5.366723445749804 4.999999999999998 0.3667234457498054 5.025170399975017\n"
     ]
    }
   ],
   "source": [
    "def h_3_star(a, b, t):\n",
    "    return a - min(a, t) + b - min(b, t) + max(min(a, t)+min(b, t), 2*t/3) + 1/2 * max(min(a, t)+min(b, t), t) - 1/2 * max(max(min(a, t), min(b, t)), 2*t/3) - t/6\n",
    "\n",
    "\n",
    "def f_function(a, b, z):\n",
    "    if(z >= 1):\n",
    "        return (a+b)/2 + z/3\n",
    "    else:\n",
    "        return z/3 + h_3_star(a, b, 1-z)/2\n",
    "\n",
    "def h_function(input_list):\n",
    "    #input_list = sorted(input_list)\n",
    "    g_list = []\n",
    "    for j1 in range(len(input_list) ):\n",
    "        for j2 in range(len(input_list)):\n",
    "            if(j1 != j2):\n",
    "                a = input_list[j1]\n",
    "                b = input_list[j2]\n",
    "                z = sum(input_list)- a-b\n",
    "\n",
    "                g_list.append( f_function(a, b, z) * (Agent_number_n-1))\n",
    "    h = sum(g_list) * 3 /  (Agent_number_n) /  (Agent_number_n-1) /  (Agent_number_n - 2)\n",
    "    return h\n",
    "                \n",
    "                \n",
    "x_list = []\n",
    "y_list = []\n",
    "z_list = []\n",
    "result_list = []\n",
    "for index in range(len(testing_data)):\n",
    "    h_list = []\n",
    "    for i in range(Agent_number_n):\n",
    "        x_list.append(testing_data[index][i][0])\n",
    "        y_list.append(testing_data[index][i][1])\n",
    "        h = h_function(testing_data[index][i])\n",
    "        z_list.append(float(h))\n",
    "        h_list.append(float(h))\n",
    "    result_list.append(sum(h_list)/testing_label[index]) \n",
    "    \n",
    "    \n",
    "print(max(result_list), min(result_list), max(result_list)-min(result_list),sum(result_list)/len(result_list))"
   ]
  },
  {
   "cell_type": "code",
   "execution_count": 8,
   "metadata": {
    "ExecuteTime": {
     "end_time": "2021-06-22T03:57:55.559823Z",
     "start_time": "2021-06-22T03:57:53.569027Z"
    }
   },
   "outputs": [
    {
     "data": {
      "image/png": "[encoded data removed]",
      "text/plain": [
       "<Figure size 432x288 with 1 Axes>"
      ]
     },
     "metadata": {
      "needs_background": "light"
     },
     "output_type": "display_data"
    }
   ],
   "source": [
    "plt.hist(result_list,bins=500)\n",
    "\n",
    "plt.title(\"Means\", y=1.015, fontsize=20)\n",
    "plt.axvline(x=sum(result_list)/len(result_list), linestyle='--', linewidth=2.5, label=\"sample mean\", c='orange')\n",
    "plt.xlabel(\"samples\", labelpad=14)\n",
    "plt.ylabel(\"frequency of occurence\", labelpad=14)\n",
    "plt.legend();\n",
    "\n",
    "result_list.sort()\n",
    "\n",
    "plt.axvline(x=result_list[int(len(result_list)*0.01)], linestyle='--', linewidth=0.5, label=\"1%\", c='b')\n",
    "plt.axvline(x=result_list[int(len(result_list)*0.99)], linestyle='--', linewidth=0.5, label=\"99%\", c='r')\n",
    "\n",
    "\n",
    "plt.show()"
   ]
  },
  {
   "cell_type": "code",
   "execution_count": 9,
   "metadata": {
    "ExecuteTime": {
     "end_time": "2021-06-22T03:57:55.575779Z",
     "start_time": "2021-06-22T03:57:55.561818Z"
    }
   },
   "outputs": [
    {
     "name": "stdout",
     "output_type": "stream",
     "text": [
      "tensor([0.8560], device='cuda:0', grad_fn=<SortBackward>)\n"
     ]
    }
   ],
   "source": [
    "tensor_sample_list,indices = torch.sort(torch.rand(devided_number,requires_grad=True).to(dev))  # random ideas\\n\n",
    "print(tensor_sample_list)"
   ]
  },
  {
   "cell_type": "code",
   "execution_count": 10,
   "metadata": {
    "ExecuteTime": {
     "end_time": "2021-06-22T03:57:56.721749Z",
     "start_time": "2021-06-22T03:57:55.577774Z"
    },
    "run_control": {
     "marked": true
    }
   },
   "outputs": [
    {
     "name": "stdout",
     "output_type": "stream",
     "text": [
      "tensor([0.9998], device='cuda:0', grad_fn=<DivBackward0>)\n",
      "tensor([0.9998], device='cuda:0', grad_fn=<DivBackward0>)\n"
     ]
    }
   ],
   "source": [
    "print(cdf(tensor_sample_list,Prior_Distribution))\n",
    "print(cdf(tensor_sample_list,\"normal\"))"
   ]
  },
  {
   "cell_type": "code",
   "execution_count": 11,
   "metadata": {
    "ExecuteTime": {
     "end_time": "2021-06-22T03:57:56.865365Z",
     "start_time": "2021-06-22T03:57:56.723744Z"
    },
    "run_control": {
     "marked": true
    }
   },
   "outputs": [],
   "source": [
    "def weight_init(m):\n",
    "    if isinstance(m, torch.nn.Conv2d):\n",
    "        torch.nn.init.xavier_normal_(m.weight)\n",
    "        torch.nn.init.zeros_(m.bias)\n",
    "    elif isinstance(m, torch.nn.Linear):\n",
    "        torch.nn.init.xavier_normal_(m.weight)\n",
    "        torch.nn.init.normal_(m.bias, mean=0.0, std=0.01)\n",
    "\n",
    "\n",
    "\n",
    "def redistribution_value_function(input_tensor):\n",
    "    S = torch.max(torch.sum(input_tensor), torch.ones(1).to(dev))\n",
    "    temp_list = []\n",
    "\n",
    "    for i in range(Agent_number_n):\n",
    "        temp = []\n",
    "\n",
    "        for j in range(Agent_number_n):\n",
    "            if(i != j):\n",
    "                temp .append(input_tensor[j])\n",
    "\n",
    "        temp = torch.stack(temp)\n",
    "        temp_list.append(temp)\n",
    "    return torch.stack(temp_list), S\n",
    "\n",
    "\n",
    "class Net(torch.nn.Module):\n",
    "    def __init__(self):\n",
    "\n",
    "        super(Net, self).__init__()\n",
    "\n",
    "        self.input_dim = new_input#(Agent_number_n-1)\n",
    "        self.hidden_dim = 128\n",
    "        self.output_dim = 1\n",
    "        self.hidden_layer_count = 6\n",
    "\n",
    "        current_dim = self.input_dim\n",
    "        self.layers = torch.nn.ModuleList()\n",
    "        for i in range(self.hidden_layer_count):\n",
    "            self.layers.append(torch.nn.Linear(current_dim, self.hidden_dim))\n",
    "            current_dim = self.hidden_dim\n",
    "        self.layers.append(torch.nn.Linear(current_dim, self.output_dim))\n",
    "\n",
    "    def calculate(self, value_list):\n",
    "        h = Dimensionality_reduction(value_list)\n",
    "        for layer in self.layers:\n",
    "            h = torch.relu(layer(h))\n",
    "        return h\n",
    "\n",
    "    def forward(self, input_list, input_label, input_data):\n",
    "        global iteration, echo, target_order\n",
    "        loss1 = 0\n",
    "        loss2 = 0\n",
    "        input_list = torch.from_numpy(\n",
    "            np.array(input_list)).to(dev).type(torch.float32)\n",
    "\n",
    "        input_data = torch.from_numpy(\n",
    "            np.array(input_data)).to(dev).type(torch.float32)\n",
    "        \n",
    "        input_label = torch.from_numpy(\n",
    "            np.array(input_label)).to(dev).type(torch.float32)\n",
    "        \n",
    "        \n",
    "        random_index = random.randint(0, Agent_number_n-1)\n",
    "        tensor_sample_list,indices = torch.sort(torch.rand(devided_number,requires_grad=True).to(dev))\n",
    "     \n",
    "        tensor_sample = torch.rand(devided_number,requires_grad=True)[0].to(dev)\n",
    "    \n",
    "        input_data_temp = input_data.detach().clone()\n",
    "        \n",
    "        input_data_temp[random_index] = tensor_sample\n",
    "\n",
    "        value_list_tensor, S_tensor = redistribution_value_function(\n",
    "            input_data_temp)\n",
    "       \n",
    "        h_list = []\n",
    "        for i in range(Agent_number_n):\n",
    "            h = self.calculate(\n",
    "                value_list_tensor[i].to(dev).type(torch.float32))\n",
    "            h_list.append(h)\n",
    "            \n",
    "        S_tensor = S_tensor.detach().to(dev).type(torch.float32)\n",
    "        \n",
    "        sum_h = torch.sum(torch.cat(h_list)).to(dev)\n",
    "        \n",
    "        temp_loss1 = torch.where((Agent_number_n-1)*S_tensor > sum_h,\n",
    "                 torch.square(((Agent_number_n-1)*S_tensor - sum_h)),\n",
    "                 torch.zeros(1).to(dev)\n",
    "              )\n",
    "\n",
    "        temp_loss2 = torch.where((Agent_number_n-Alpha)*S_tensor < sum_h,\n",
    "                    torch.square((sum_h-(Agent_number_n-Alpha)*S_tensor))/10000,\n",
    "                    torch.zeros(1).to(dev)\n",
    "                  )\n",
    "\n",
    "\n",
    "        loss1 = temp_loss1 * pdf(tensor_sample, Prior_Distribution)\n",
    "        loss2 = temp_loss2 * pdf(tensor_sample, Prior_Distribution)\n",
    "                \n",
    "        return loss1, loss2\n",
    "    \n",
    "    def supervised_loss(self, input_list,label):\n",
    "        global iteration,echo,target_order\n",
    "        input_list = torch.from_numpy(\n",
    "            np.array(input_list)).to(dev).type(torch.float32)\n",
    "        loss = 0 \n",
    "        for i in range(Agent_number_n):\n",
    "            h = self.calculate(input_list[i])\n",
    "            loss += torch.square(h - label[i])\n",
    "        return loss"
   ]
  },
  {
   "cell_type": "code",
   "execution_count": 12,
   "metadata": {
    "ExecuteTime": {
     "end_time": "2021-06-22T03:57:56.896283Z",
     "start_time": "2021-06-22T03:57:56.867359Z"
    }
   },
   "outputs": [],
   "source": [
    "random.seed(200)\n",
    "torch.manual_seed(256)\n",
    "net  = Net()\n",
    "net.apply(weight_init)\n",
    "#net = torch.load(\"save/Deep_learning_F_normal_10_1\")\n",
    "net.to(dev)\n",
    "\n",
    "#optimizer = opt.RMSprop(net.parameters(), lr=0.00001)\n",
    "#optimizer = opt.SGD(net.parameters(), lr=0.00005)\n",
    "optimizer = opt.Adam(net.parameters(), lr=LR)\n",
    "#optimizer = opt.Adadelta(net.parameters(), lr=1.0)\n",
    "\n",
    "scheduler = torch.optim.lr_scheduler.StepLR(optimizer, step_size=100, gamma=0.98)\n",
    "index_train_list = []\n",
    "index_test_list = []\n",
    "train_losses = []\n",
    "test_losses = []"
   ]
  },
  {
   "cell_type": "code",
   "execution_count": 13,
   "metadata": {
    "ExecuteTime": {
     "end_time": "2021-06-22T04:20:13.823031Z",
     "start_time": "2021-06-22T03:57:56.898279Z"
    }
   },
   "outputs": [
    {
     "name": "stdout",
     "output_type": "stream",
     "text": [
      "0 tensor(43.9148, device='cuda:0', grad_fn=<DivBackward0>) 2810.544189453125\n",
      "50 tensor(0.0666, device='cuda:0', grad_fn=<DivBackward0>) 4.263567924499512\n",
      "100 tensor(0.0219, device='cuda:0', grad_fn=<DivBackward0>) 1.4002183675765991\n",
      "150 tensor(0.0070, device='cuda:0', grad_fn=<DivBackward0>) 0.44540563225746155\n",
      "200 tensor(0.0016, device='cuda:0', grad_fn=<DivBackward0>) 0.10128256678581238\n",
      "250 tensor(0.0031, device='cuda:0', grad_fn=<DivBackward0>) 0.1963392049074173\n",
      "300 tensor(0.0011, device='cuda:0', grad_fn=<DivBackward0>) 0.06906314939260483\n",
      "350 tensor(0.0006, device='cuda:0', grad_fn=<DivBackward0>) 0.03819606080651283\n",
      "400 tensor(0.0007, device='cuda:0', grad_fn=<DivBackward0>) 0.04611534997820854\n",
      "450 tensor(0.0005, device='cuda:0', grad_fn=<DivBackward0>) 0.033150624483823776\n",
      "500 tensor(0.0002, device='cuda:0', grad_fn=<DivBackward0>) 0.012169127352535725\n",
      "550 tensor(0.0002, device='cuda:0', grad_fn=<DivBackward0>) 0.010482745245099068\n",
      "600 tensor(0.0002, device='cuda:0', grad_fn=<DivBackward0>) 0.00976775772869587\n",
      "650 tensor(0.0002, device='cuda:0', grad_fn=<DivBackward0>) 0.011551006697118282\n",
      "700 tensor(0.0001, device='cuda:0', grad_fn=<DivBackward0>) 0.008508402854204178\n",
      "750 tensor(9.2108e-05, device='cuda:0', grad_fn=<DivBackward0>) 0.005894939880818129\n",
      "800 tensor(9.2108e-05, device='cuda:0', grad_fn=<DivBackward0>) 0.005894928704947233\n",
      "850 tensor(0.0001, device='cuda:0', grad_fn=<DivBackward0>) 0.007258894853293896\n",
      "900 tensor(8.9763e-05, device='cuda:0', grad_fn=<DivBackward0>) 0.005744819529354572\n",
      "950 tensor(0.0001, device='cuda:0', grad_fn=<DivBackward0>) 0.008290761150419712\n"
     ]
    }
   ],
   "source": [
    "#supervised\n",
    "index_supervisedtrain_list = []\n",
    "supervisedtrain_losses = []\n",
    "for iteration in range(1000):\n",
    "\n",
    "    temp_number = 0\n",
    "    total_batch_loss = 0 \n",
    "    \n",
    "    loss_sum = 0\n",
    "    denominator = 0\n",
    "    for index in range(0, BATCH_SIZE):\n",
    "        training_data_i, training_S, training_data,label = appen_train(\n",
    "            Generate_distribution(Agent_number_n))\n",
    "        h_loss = net.supervised_loss(training_data_i, label)\n",
    "        denominator += 1\n",
    "        loss_sum += h_loss\n",
    "\n",
    "    loss_sum = torch.sum(loss_sum)\n",
    "    loss = (loss_sum) / denominator \n",
    "    total_batch_loss += float(loss_sum)\n",
    "\n",
    "    optimizer.zero_grad()\n",
    "    loss.backward()\n",
    "    optimizer.step()\n",
    "\n",
    "    if (iteration%50 == 0):\n",
    "        print(iteration,loss,total_batch_loss)\n",
    "        index_supervisedtrain_list.append(iteration)\n",
    "        supervisedtrain_losses.append(total_batch_loss)\n",
    "    scheduler.step()"
   ]
  },
  {
   "cell_type": "code",
   "execution_count": 14,
   "metadata": {
    "ExecuteTime": {
     "end_time": "2021-06-22T04:20:14.136248Z",
     "start_time": "2021-06-22T04:20:13.823031Z"
    }
   },
   "outputs": [
    {
     "data": {
      "image/png": "[encoded data removed]",
      "text/plain": [
       "<Figure size 432x288 with 1 Axes>"
      ]
     },
     "metadata": {
      "needs_background": "light"
     },
     "output_type": "display_data"
    }
   ],
   "source": [
    "plt.ylim(0, 0.1)\n",
    "plt.plot(index_supervisedtrain_list ,supervisedtrain_losses)\n",
    "plt.ylabel('supervised train loss')\n",
    "\n",
    "plt.show()"
   ]
  },
  {
   "cell_type": "code",
   "execution_count": 15,
   "metadata": {
    "ExecuteTime": {
     "end_time": "2021-06-22T04:20:14.152205Z",
     "start_time": "2021-06-22T04:20:14.138242Z"
    }
   },
   "outputs": [],
   "source": [
    "optimizer = opt.Adam(net.parameters(), lr=LR/100)\n",
    "#optimizer = opt.Adadelta(net.parameters(), lr=1.0)\n",
    "\n",
    "scheduler = torch.optim.lr_scheduler.StepLR(optimizer, step_size=100, gamma=0.98)"
   ]
  },
  {
   "cell_type": "code",
   "execution_count": 16,
   "metadata": {
    "ExecuteTime": {
     "end_time": "2021-06-22T06:12:15.206743Z",
     "start_time": "2021-06-22T04:20:14.154200Z"
    }
   },
   "outputs": [
    {
     "name": "stdout",
     "output_type": "stream",
     "text": [
      "0 tensor(3.0378e-06, device='cuda:0', grad_fn=<DivBackward0>) 4.062559128215071e-06 0.00019035952573176473\n",
      "batch iteration 0\n",
      "batch_loss: 0.0002 \n",
      "5.382400856839455 4.983886395365483 0.3985144614739724 0.04803011416925518\n",
      "\n",
      "50 tensor(2.2452e-05, device='cuda:0', grad_fn=<DivBackward0>) 0.0 0.001436903839930892\n",
      "batch iteration 50\n",
      "batch_loss: 0.0014 \n",
      "5.4118259469879755 5.038883686065674 0.37294226092230165 0.04119281832082944\n",
      "\n",
      "100 tensor(1.7185e-05, device='cuda:0', grad_fn=<DivBackward0>) 0.0 0.0010998602956533432\n",
      "batch iteration 100\n",
      "batch_loss: 0.0011 \n",
      "5.37522330502957 5.004783749580383 0.3704395554491864 0.06741877247496575\n",
      "\n",
      "150 tensor(1.6390e-05, device='cuda:0', grad_fn=<DivBackward0>) 0.0 0.0010489282431080937\n",
      "batch iteration 150\n",
      "batch_loss: 0.0010 \n",
      "5.347624524866512 4.987510025501251 0.3601144993652605 0.08901268133600126\n",
      "\n",
      "200 tensor(1.1170e-05, device='cuda:0', grad_fn=<DivBackward0>) 0.0 0.0007148878648877144\n",
      "batch iteration 200\n",
      "batch_loss: 0.0007 \n",
      "5.324716591472094 4.976546943187714 0.34816964828438035 0.10342516035745675\n",
      "\n",
      "250 tensor(9.4538e-06, device='cuda:0', grad_fn=<DivBackward0>) 0.0 0.0006050408119335771\n",
      "batch iteration 250\n",
      "batch_loss: 0.0006 \n",
      "5.337880526919161 4.98515748512099 0.35272304179817127 0.08353416129827629\n",
      "\n",
      "300 tensor(5.7558e-06, device='cuda:0', grad_fn=<DivBackward0>) 0.0 0.00036837230436503887\n",
      "batch iteration 300\n",
      "batch_loss: 0.0004 \n",
      "5.342789780113966 4.9840849465257 0.3587048335882663 0.08175166634678632\n",
      "\n",
      "350 tensor(6.9136e-06, device='cuda:0', grad_fn=<DivBackward0>) 0.0 0.00044247289770282805\n",
      "batch iteration 350\n",
      "batch_loss: 0.0004 \n",
      "5.357977160096779 4.99166294012684 0.3663142199699392 0.06531068582865096\n",
      "\n",
      "400 tensor(5.0954e-06, device='cuda:0', grad_fn=<DivBackward0>) 0.0 0.00032610358903184533\n",
      "batch iteration 400\n",
      "batch_loss: 0.0003 \n",
      "5.351284709435009 4.984343132316332 0.36694157711867703 0.07391429611543376\n",
      "\n",
      "450 tensor(1.1856e-05, device='cuda:0', grad_fn=<DivBackward0>) 0.0 0.0007587821455672383\n",
      "batch iteration 450\n",
      "batch_loss: 0.0008 \n",
      "5.377000473569145 5.001331615213391 0.3756688583557537 0.046554109713306424\n",
      "\n",
      "500 tensor(4.1384e-06, device='cuda:0', grad_fn=<DivBackward0>) 0.0 0.00026485678972676396\n",
      "batch iteration 500\n",
      "batch_loss: 0.0003 \n",
      "5.3699746687241054 4.994334466962826 0.37564020176127944 0.053074119792245966\n",
      "\n",
      "550 tensor(1.8010e-06, device='cuda:0', grad_fn=<DivBackward0>) 0.0 0.0001152615004684776\n",
      "batch iteration 550\n",
      "batch_loss: 0.0001 \n",
      "5.364710050073393 4.98826698782776 0.37644306224563273 0.05999395337267455\n",
      "\n",
      "600 tensor(4.3834e-06, device='cuda:0', grad_fn=<DivBackward0>) 0.0 0.00028053662390448153\n",
      "batch iteration 600\n",
      "batch_loss: 0.0003 \n",
      "5.363493173644276 4.985261657418599 0.37823151622567686 0.06243742629860538\n",
      "\n",
      "650 tensor(2.5455e-06, device='cuda:0', grad_fn=<DivBackward0>) 7.482707055494618e-16 0.00016290973871946335\n",
      "batch iteration 650\n",
      "batch_loss: 0.0002 \n",
      "5.361848300247217 4.982136100872476 0.3797121993747403 0.06519206303066305\n",
      "\n",
      "700 tensor(1.9444e-06, device='cuda:0', grad_fn=<DivBackward0>) 0.0 0.0001244415034307167\n",
      "batch iteration 700\n",
      "batch_loss: 0.0001 \n",
      "5.357646137857122 4.977509494196154 0.38013664366096833 0.0704235843571217\n",
      "\n",
      "750 tensor(1.7985e-06, device='cuda:0', grad_fn=<DivBackward0>) 0.0 0.00011510340118547902\n",
      "batch iteration 750\n",
      "batch_loss: 0.0001 \n",
      "5.368166957410871 4.984879272408027 0.38328768500284394 0.0577143874647188\n",
      "\n",
      "800 tensor(2.3420e-06, device='cuda:0', grad_fn=<DivBackward0>) 0.0 0.00014989066403359175\n",
      "batch iteration 800\n",
      "batch_loss: 0.0001 \n",
      "5.370413301629988 4.9846503194637 0.38576298216628757 0.056472376723720075\n",
      "\n",
      "850 tensor(2.4910e-06, device='cuda:0', grad_fn=<DivBackward0>) 0.0 0.0001594268687767908\n",
      "batch iteration 850\n",
      "batch_loss: 0.0002 \n",
      "5.37388090178208 4.984671283129172 0.3892096186529077 0.05487427034957193\n",
      "\n",
      "900 tensor(2.5621e-06, device='cuda:0', grad_fn=<DivBackward0>) 0.0 0.00016397635044995695\n",
      "batch iteration 900\n",
      "batch_loss: 0.0002 \n",
      "5.394782908656184 4.99738543937401 0.3973974692821747 0.035542718679399066\n",
      "\n",
      "950 tensor(2.3562e-06, device='cuda:0', grad_fn=<DivBackward0>) 3.0252655849188903e-12 0.00015079902368597686\n",
      "batch iteration 950\n",
      "batch_loss: 0.0002 \n",
      "5.393148102430331 4.994091753584769 0.39905634884556207 0.03868885311111825\n",
      "\n",
      "1000 tensor(2.2259e-06, device='cuda:0', grad_fn=<DivBackward0>) 0.0 0.00014245786587707698\n",
      "batch iteration 1000\n",
      "batch_loss: 0.0001 \n",
      "5.388471929843449 4.9892798009724215 0.39919212887102784 0.04430375606542025\n",
      "\n"
     ]
    }
   ],
   "source": [
    "for iteration in range(int(echo)):\n",
    "    \n",
    "    temp_number = 0\n",
    "    total_batch_loss = 0 \n",
    "        \n",
    "    loss2_list = []\n",
    "    loss1_sum = 0\n",
    "    loss2_sum = 0\n",
    "    denominator = 0\n",
    "    for index in range(0, BATCH_SIZE):\n",
    "        training_data_i, training_label, training_data,label = appen_train(\n",
    "            Generate_distribution(Agent_number_n))\n",
    "        h_loss1, h_loss2 = net(training_data_i, training_label,\n",
    "                                       training_data)\n",
    "        denominator += 1\n",
    "        loss1_sum += h_loss1\n",
    "        loss2_sum += h_loss2\n",
    "\n",
    "    loss_sum = torch.sum(loss1_sum + loss2_sum)\n",
    "    loss = (loss_sum) / denominator \n",
    "    total_batch_loss +=float(loss_sum)\n",
    "    optimizer.zero_grad()\n",
    "\n",
    "    loss.backward()\n",
    "\n",
    "    optimizer.step()\n",
    "\n",
    "    temp_number = iteration\n",
    "    index_train_list.append(iteration)\n",
    "    train_losses.append(total_batch_loss)\n",
    "    if (iteration%50 == 0):\n",
    "        print(temp_number, loss, float(loss1_sum), float(loss2_sum))\n",
    "\n",
    "        print(\"batch iteration\", iteration)\n",
    "        print(\"batch_loss: %.4f \" % total_batch_loss)\n",
    "\n",
    "        result_list = []\n",
    "        for index in range(len(testing_data)):\n",
    "            h_list = []\n",
    "            for i in range(Agent_number_n):\n",
    "                h = net.calculate(\n",
    "                    torch.tensor(testing_data[index][i]).to(dev).type(\n",
    "                        torch.float32))\n",
    "                h_list.append(float(h))\n",
    "            result_list.append(sum(h_list) / testing_label[index])\n",
    "        print(max(result_list), min(result_list),\n",
    "              max(result_list) - min(result_list),\n",
    "              (sum(result_list) / len(result_list) - min(result_list))+ Agent_number_n-1 - min(min(result_list),Agent_number_n-1) )\n",
    "\n",
    "        index_test_list.append(iteration)\n",
    "        test_losses.append(\n",
    "            (sum(result_list) / len(result_list) - min(result_list))+ Agent_number_n-1 - min(min(result_list),Agent_number_n-1) )\n",
    "        print()\n",
    "        \n",
    "    scheduler.step()\n"
   ]
  },
  {
   "cell_type": "code",
   "execution_count": 17,
   "metadata": {
    "ExecuteTime": {
     "end_time": "2021-06-22T06:12:16.612606Z",
     "start_time": "2021-06-22T06:12:15.206743Z"
    }
   },
   "outputs": [
    {
     "data": {
      "image/png": "[encoded data removed]",
      "text/plain": [
       "<Figure size 432x288 with 1 Axes>"
      ]
     },
     "metadata": {
      "needs_background": "light"
     },
     "output_type": "display_data"
    },
    {
     "ename": "FileNotFoundError",
     "evalue": "[Errno 2] No such file or directory: 'save/test_loss_unfeed_normal_10.csv'",
     "output_type": "error",
     "traceback": [
      "\u001b[1;31m---------------------------------------------------------------------------\u001b[0m",
      "\u001b[1;31mFileNotFoundError\u001b[0m                         Traceback (most recent call last)",
      "\u001b[1;32m<ipython-input-17-993feb05b73c>\u001b[0m in \u001b[0;36m<module>\u001b[1;34m\u001b[0m\n\u001b[0;32m     12\u001b[0m \u001b[1;33m\u001b[0m\u001b[0m\n\u001b[0;32m     13\u001b[0m \u001b[1;33m\u001b[0m\u001b[0m\n\u001b[1;32m---> 14\u001b[1;33m \u001b[1;32mwith\u001b[0m \u001b[0mopen\u001b[0m\u001b[1;33m(\u001b[0m\u001b[1;34m'save/test_loss_unfeed_normal_10.csv'\u001b[0m\u001b[1;33m)\u001b[0m \u001b[1;32mas\u001b[0m \u001b[0mcsvfile_unfeed\u001b[0m\u001b[1;33m:\u001b[0m\u001b[1;33m\u001b[0m\u001b[1;33m\u001b[0m\u001b[0m\n\u001b[0m\u001b[0;32m     15\u001b[0m     \u001b[0mreader\u001b[0m \u001b[1;33m=\u001b[0m \u001b[0mcsv\u001b[0m\u001b[1;33m.\u001b[0m\u001b[0mreader\u001b[0m\u001b[1;33m(\u001b[0m\u001b[0mcsvfile_unfeed\u001b[0m\u001b[1;33m)\u001b[0m\u001b[1;33m\u001b[0m\u001b[1;33m\u001b[0m\u001b[0m\n\u001b[0;32m     16\u001b[0m     \u001b[0mlist_feed\u001b[0m \u001b[1;33m=\u001b[0m \u001b[1;33m[\u001b[0m\u001b[1;33m]\u001b[0m\u001b[1;33m\u001b[0m\u001b[1;33m\u001b[0m\u001b[0m\n",
      "\u001b[1;31mFileNotFoundError\u001b[0m: [Errno 2] No such file or directory: 'save/test_loss_unfeed_normal_10.csv'"
     ]
    }
   ],
   "source": [
    "plt.ylim(0, 1.0)\n",
    "plt.plot(index_test_list,test_losses)\n",
    "plt.ylabel('Testing Loss')\n",
    "plt.xlabel('Batch Epoch')\n",
    "plt.show()\n",
    "\n",
    "import csv\n",
    "with open('save/test_loss_feed_normal_10.csv', 'w', newline='') as csvfile_feed:\n",
    "    spamwriter = csv.writer(csvfile_feed)\n",
    "    spamwriter.writerow(index_test_list)\n",
    "    spamwriter.writerow(test_losses)\n",
    "\n",
    "\n",
    "with open('save/test_loss_unfeed_normal_10.csv') as csvfile_unfeed:\n",
    "    reader = csv.reader(csvfile_unfeed)\n",
    "    list_feed = []\n",
    "    for row in reader:\n",
    "        row = np.array(row)\n",
    "        temp_list = []\n",
    "        for i in range(len(row)):\n",
    "            temp_list.append(float(row[i]))\n",
    "\n",
    "        list_feed.append(temp_list)\n",
    "    plt.ylim(0, 1.0)\n",
    "    plt.plot(list_feed[0],list_feed[1],label='neural network')\n",
    "    plt.plot(index_test_list,test_losses,label='feed distribution')\n",
    "    plt.ylabel('Testing Loss')\n",
    "    plt.xlabel('Batch Epoch')\n",
    "    #plt.title('Two or more lines on same plot with suitable legends ')\n",
    "    # show a legend on the plot\n",
    "    plt.legend()\n",
    "    plt.show()\n"
   ]
  },
  {
   "cell_type": "code",
   "execution_count": 18,
   "metadata": {
    "ExecuteTime": {
     "end_time": "2021-06-22T07:45:09.274795Z",
     "start_time": "2021-06-22T07:45:09.170385Z"
    }
   },
   "outputs": [
    {
     "data": {
      "image/png": "[encoded data removed]",
      "text/plain": [
       "<Figure size 432x288 with 1 Axes>"
      ]
     },
     "metadata": {
      "needs_background": "light"
     },
     "output_type": "display_data"
    }
   ],
   "source": [
    "plt.ylim(0, 1.0)\n",
    "\n",
    "plt.plot(index_train_list,train_losses)\n",
    "plt.ylabel('training loss')\n",
    "\n",
    "plt.plot(index_test_list,test_losses)\n",
    "plt.ylabel('training loss')\n",
    "\n",
    "plt.show()"
   ]
  },
  {
   "cell_type": "code",
   "execution_count": 19,
   "metadata": {
    "ExecuteTime": {
     "end_time": "2021-06-22T07:45:10.206867Z",
     "start_time": "2021-06-22T07:45:10.074769Z"
    }
   },
   "outputs": [],
   "source": [
    "torch.save(net, \"save/Deep_learning_F_normal_6_1\")"
   ]
  },
  {
   "cell_type": "code",
   "execution_count": 20,
   "metadata": {
    "ExecuteTime": {
     "end_time": "2021-06-22T07:46:55.631057Z",
     "start_time": "2021-06-22T07:45:11.101276Z"
    }
   },
   "outputs": [
    {
     "name": "stdout",
     "output_type": "stream",
     "text": [
      "5.388471929843449 4.9892798009724215 0.39919212887102784 0.03358355703784177\n"
     ]
    }
   ],
   "source": [
    "denominator = 0\n",
    "result_list = []\n",
    "for index in range(len(testing_data)):\n",
    "    h_list = []\n",
    "    for i in range(Agent_number_n):\n",
    "        h = net.calculate(torch.tensor(testing_data[index][i]).cuda().type(torch.float32))\n",
    "        h_list.append(float(h))\n",
    "    \n",
    "    #print(sum(h_list),h_list,sum(h_list)/testing_label[index])\n",
    "    result_list.append(sum(h_list)/testing_label[index])\n",
    "    \n",
    "\n",
    "print(max(result_list),min(result_list),max(result_list)-min(result_list),sum(result_list)/len(result_list)-min(result_list))"
   ]
  },
  {
   "cell_type": "code",
   "execution_count": 21,
   "metadata": {
    "ExecuteTime": {
     "end_time": "2021-06-22T07:46:59.680757Z",
     "start_time": "2021-06-22T07:46:57.471852Z"
    }
   },
   "outputs": [
    {
     "data": {
      "image/png": "[encoded data removed]",
      "text/plain": [
       "<Figure size 432x288 with 1 Axes>"
      ]
     },
     "metadata": {
      "needs_background": "light"
     },
     "output_type": "display_data"
    }
   ],
   "source": [
    "plt.hist(result_list,bins=500)\n",
    "\n",
    "plt.title(\"Means\", y=1.015, fontsize=20)\n",
    "plt.axvline(x=sum(result_list)/len(result_list), linestyle='--', linewidth=2.5, label=\"sample mean\", c='orange')\n",
    "plt.xlabel(\"samples\", labelpad=14)\n",
    "plt.ylabel(\"frequency of occurence\", labelpad=14)\n",
    "plt.legend();\n",
    "\n",
    "result_list.sort()\n",
    "\n",
    "plt.axvline(x=result_list[int(len(result_list)*0.01)], linestyle='--', linewidth=0.5, label=\"1%\", c='b')\n",
    "plt.axvline(x=result_list[int(len(result_list)*0.99)], linestyle='--', linewidth=0.5, label=\"99%\", c='r')\n",
    "\n",
    "\n",
    "plt.show()"
   ]
  },
  {
   "cell_type": "code",
   "execution_count": null,
   "metadata": {},
   "outputs": [],
   "source": []
  },
  {
   "cell_type": "code",
   "execution_count": null,
   "metadata": {},
   "outputs": [],
   "source": []
  },
  {
   "cell_type": "code",
   "execution_count": null,
   "metadata": {},
   "outputs": [],
   "source": []
  }
 ],
 "metadata": {
  "hide_input": false,
  "kernelspec": {
   "display_name": "Python 3",
   "language": "python",
   "name": "python3"
  },
  "language_info": {
   "codemirror_mode": {
    "name": "ipython",
    "version": 3
   },
   "file_extension": ".py",
   "mimetype": "text/x-python",
   "name": "python",
   "nbconvert_exporter": "python",
   "pygments_lexer": "ipython3",
   "version": "3.8.3"
  },
  "varInspector": {
   "cols": {
    "lenName": 16,
    "lenType": 16,
    "lenVar": 40
   },
   "kernels_config": {
    "python": {
     "delete_cmd_postfix": "",
     "delete_cmd_prefix": "del ",
     "library": "var_list.py",
     "varRefreshCmd": "print(var_dic_list())"
    },
    "r": {
     "delete_cmd_postfix": ") ",
     "delete_cmd_prefix": "rm(",
     "library": "var_list.r",
     "varRefreshCmd": "cat(var_dic_list()) "
    }
   },
   "types_to_exclude": [
    "module",
    "function",
    "builtin_function_or_method",
    "instance",
    "_Feature"
   ],
   "window_display": false
  }
 },
 "nbformat": 4,
 "nbformat_minor": 4
}
