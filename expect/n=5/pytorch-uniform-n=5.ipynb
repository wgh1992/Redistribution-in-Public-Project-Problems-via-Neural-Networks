{
 "cells": [
  {
   "cell_type": "code",
   "execution_count": 1,
   "metadata": {
    "ExecuteTime": {
     "end_time": "2021-06-15T06:51:18.725974Z",
     "start_time": "2021-06-15T06:51:16.211137Z"
    }
   },
   "outputs": [
    {
     "name": "stdout",
     "output_type": "stream",
     "text": [
      "pygame 2.0.1 (SDL 2.0.14, Python 3.8.3)\n",
      "Hello from the pygame community. https://www.pygame.org/contribute.html\n"
     ]
    },
    {
     "name": "stderr",
     "output_type": "stream",
     "text": [
      "D:\\ComputerSoftwares\\Anaconda\\lib\\site-packages\\sklearn\\utils\\deprecation.py:143: FutureWarning: The sklearn.datasets.samples_generator module is  deprecated in version 0.22 and will be removed in version 0.24. The corresponding classes / functions should instead be imported from sklearn.datasets. Anything that cannot be imported from sklearn.datasets is now part of the private API.\n",
      "  warnings.warn(message, FutureWarning)\n"
     ]
    },
    {
     "name": "stdout",
     "output_type": "stream",
     "text": [
      "cuda:0\n"
     ]
    }
   ],
   "source": [
    "\n",
    "import pygame\n",
    "import random\n",
    "import os\n",
    "import time\n",
    "import numpy as np\n",
    "import math\n",
    "import torch\n",
    "import torch.nn.functional\n",
    "import matplotlib.pyplot as plt\n",
    "import torch.optim as opt\n",
    "from torch.autograd import Variable\n",
    "from sklearn.model_selection import train_test_split\n",
    "\n",
    "import scipy.stats as st\n",
    "from sklearn.datasets.samples_generator import make_blobs\n",
    "from matplotlib.colors import LogNorm \n",
    "import matplotlib.cm as cm\n",
    "import torch.nn as nn\n",
    "import numpy as np\n",
    "import matplotlib.pyplot as plt\n",
    "import plotly.graph_objects as go\n",
    "import plotly.express as px\n",
    "from scipy.interpolate import griddata\n",
    "# import LossAccPlotter\n",
    "# from laplotter import LossAccPlotter\n",
    "# from check_laplotter import show_chart, add_noise\n",
    "\n",
    "if torch.cuda.is_available():  \n",
    "    dev = \"cuda:0\" \n",
    "else:  \n",
    "    dev = \"cpu\"  \n",
    "\n",
    "print(dev)\n",
    "\n"
   ]
  },
  {
   "cell_type": "code",
   "execution_count": 2,
   "metadata": {
    "ExecuteTime": {
     "end_time": "2021-06-15T06:51:18.740947Z",
     "start_time": "2021-06-15T06:51:18.727969Z"
    },
    "run_control": {
     "marked": true
    }
   },
   "outputs": [],
   "source": [
    "global temp_list\n",
    "temp_list = []\n",
    "Agent_number_n=5;\n",
    "Alpha = 1.0;\n",
    "\n",
    "echo = 2001\n",
    "BATCH_SIZE = 64\n",
    "LR = 0.001           # learning rate for generator\n",
    "\n",
    "def Generate_distribution(Agent_number_n):\n",
    "    return sorted(np.random.rand(Agent_number_n), reverse=True)\n",
    "    #return sorted(np.random.normal(normalloc,normalscale,Agent_number_n), reverse=True)\n"
   ]
  },
  {
   "cell_type": "code",
   "execution_count": 3,
   "metadata": {
    "ExecuteTime": {
     "end_time": "2021-06-15T06:51:19.239162Z",
     "start_time": "2021-06-15T06:51:18.743448Z"
    }
   },
   "outputs": [
    {
     "name": "stdout",
     "output_type": "stream",
     "text": [
      "[[[0.57401468 0.47904803 0.25789763 0.04228511]\n",
      "  [0.6825702  0.47904803 0.25789763 0.04228511]\n",
      "  [0.6825702  0.57401468 0.25789763 0.04228511]\n",
      "  [0.6825702  0.57401468 0.47904803 0.04228511]\n",
      "  [0.6825702  0.57401468 0.47904803 0.25789763]]\n",
      "\n",
      " [[0.5063007  0.27844529 0.23895324 0.18982784]\n",
      "  [0.70978843 0.27844529 0.23895324 0.18982784]\n",
      "  [0.70978843 0.5063007  0.23895324 0.18982784]\n",
      "  [0.70978843 0.5063007  0.27844529 0.18982784]\n",
      "  [0.70978843 0.5063007  0.27844529 0.23895324]]\n",
      "\n",
      " [[0.62164328 0.61416742 0.34020401 0.20581105]\n",
      "  [0.75952404 0.61416742 0.34020401 0.20581105]\n",
      "  [0.75952404 0.62164328 0.34020401 0.20581105]\n",
      "  [0.75952404 0.62164328 0.61416742 0.20581105]\n",
      "  [0.75952404 0.62164328 0.61416742 0.34020401]]\n",
      "\n",
      " ...\n",
      "\n",
      " [[0.43746395 0.40507724 0.13233254 0.06378896]\n",
      "  [0.92458527 0.40507724 0.13233254 0.06378896]\n",
      "  [0.92458527 0.43746395 0.13233254 0.06378896]\n",
      "  [0.92458527 0.43746395 0.40507724 0.06378896]\n",
      "  [0.92458527 0.43746395 0.40507724 0.13233254]]\n",
      "\n",
      " [[0.280003   0.09950201 0.03896721 0.0281988 ]\n",
      "  [0.61740595 0.09950201 0.03896721 0.0281988 ]\n",
      "  [0.61740595 0.280003   0.03896721 0.0281988 ]\n",
      "  [0.61740595 0.280003   0.09950201 0.0281988 ]\n",
      "  [0.61740595 0.280003   0.09950201 0.03896721]]\n",
      "\n",
      " [[0.79240781 0.62067482 0.58765491 0.53563273]\n",
      "  [0.9845844  0.62067482 0.58765491 0.53563273]\n",
      "  [0.9845844  0.79240781 0.58765491 0.53563273]\n",
      "  [0.9845844  0.79240781 0.62067482 0.53563273]\n",
      "  [0.9845844  0.79240781 0.62067482 0.58765491]]]\n",
      "[2.03581566 1.9233155  2.5413498  ... 1.96324796 1.06407697 3.52095466]\n"
     ]
    }
   ],
   "source": [
    "def h_3_star(a, b, t):\n",
    "    return a - min(a, t) + b - min(b, t) + max(min(a, t)+min(b, t), 2*t/3) + 1/2 * max(min(a, t)+min(b, t), t) - 1/2 * max(max(min(a, t), min(b, t)), 2*t/3) - t/6\n",
    "\n",
    "\n",
    "def f_function(a, b, z):\n",
    "    if(z >= 1):\n",
    "        return (a+b)/2 + z/3\n",
    "    else:\n",
    "        return z/3 + h_3_star(a, b, 1-z)/2\n",
    "\n",
    "def h_function_label(input_list):\n",
    "    #input_list = sorted(input_list)\n",
    "    g_list = []\n",
    "    for j1 in range(len(input_list) ):\n",
    "        for j2 in range(len(input_list)):\n",
    "            if(j1 != j2):\n",
    "                a = input_list[j1]\n",
    "                b = input_list[j2]\n",
    "                z = sum(input_list)- a-b\n",
    "\n",
    "                g_list.append( f_function(a, b, z) * (Agent_number_n-1))\n",
    "    h = sum(g_list) * 3 /  (Agent_number_n) /  (Agent_number_n-1) /  (Agent_number_n - 2)\n",
    "    return h\n",
    "\n",
    "def appen(_x_list,y):\n",
    "    global temp_list\n",
    "    temp_list.append(_x_list)\n",
    "    \n",
    "def appen_train(x_list):\n",
    "    global temp_list\n",
    "                \n",
    "    S= max(sum(x_list),1.0);\n",
    "    temp_list = []\n",
    "    h_list = []\n",
    "    for i in range(Agent_number_n):\n",
    "        temp = []\n",
    "        for j in range(Agent_number_n):\n",
    "            if(i!=j):\n",
    "                temp.append(x_list[j])\n",
    "        appen(temp,S)\n",
    "        \n",
    "        h = h_function_label(temp)\n",
    "        h_list.append(float(h))\n",
    "    temp_list = np.array(temp_list)\n",
    "    x_list = np.array(x_list)\n",
    "    return temp_list,S,x_list,h_list\n",
    "    \n",
    "\n",
    "def appen_test(x_list):\n",
    "    global temp_list\n",
    "                \n",
    "    S= max(sum(x_list),1.0);\n",
    "    temp_list = []\n",
    "    \n",
    "    for i in range(Agent_number_n):\n",
    "        temp = []\n",
    "        for j in range(Agent_number_n):\n",
    "            if(i!=j):\n",
    "                temp.append(x_list[j])\n",
    "        appen(temp,S)\n",
    "    testing_data.append(temp_list)\n",
    "    testing_label.append(S)\n",
    "    temp_list = np.array(temp_list)\n",
    "    return temp_list,S\n",
    "    \n",
    "\n",
    "def read_testing_data():\n",
    "    for i in range(10000):\n",
    "        appen_test(Generate_distribution(Agent_number_n));\n",
    "                            \n",
    "\n",
    "testing_data=[]\n",
    "testing_label=[]\n",
    "S=1.0\n",
    "read_testing_data();\n",
    "\n",
    "testing_data=np.array(testing_data)\n",
    "testing_label=np.array(testing_label)\n",
    "print(testing_data)\n",
    "print(testing_label)"
   ]
  },
  {
   "cell_type": "code",
   "execution_count": 4,
   "metadata": {
    "ExecuteTime": {
     "end_time": "2021-06-15T06:51:26.197907Z",
     "start_time": "2021-06-15T06:51:19.241157Z"
    }
   },
   "outputs": [
    {
     "name": "stdout",
     "output_type": "stream",
     "text": [
      "4.351752551702378 3.999999999999999 0.3517525517023792 4.06884935716782\n"
     ]
    }
   ],
   "source": [
    "def h_3_star(a, b, t):\n",
    "    return a - min(a, t) + b - min(b, t) + max(min(a, t)+min(b, t), 2*t/3) + 1/2 * max(min(a, t)+min(b, t), t) - 1/2 * max(max(min(a, t), min(b, t)), 2*t/3) - t/6\n",
    "\n",
    "\n",
    "def f_function(a, b, z):\n",
    "    if(z >= 1):\n",
    "        return (a+b)/2 + z/3\n",
    "    else:\n",
    "        return z/3 + h_3_star(a, b, 1-z)/2\n",
    "\n",
    "def h_function(input_list):\n",
    "    #input_list = sorted(input_list)\n",
    "    g_list = []\n",
    "    for j1 in range(len(input_list) ):\n",
    "        for j2 in range(len(input_list)):\n",
    "            if(j1 != j2):\n",
    "                a = input_list[j1]\n",
    "                b = input_list[j2]\n",
    "                z = sum(input_list)- a-b\n",
    "\n",
    "                g_list.append( f_function(a, b, z) * (Agent_number_n-1))\n",
    "    h = sum(g_list) * 3 /  (Agent_number_n) /  (Agent_number_n-1) /  (Agent_number_n - 2)\n",
    "    return h\n",
    "                \n",
    "                \n",
    "x_list = []\n",
    "y_list = []\n",
    "z_list = []\n",
    "result_list = []\n",
    "for index in range(len(testing_data)):\n",
    "    h_list = []\n",
    "    for i in range(Agent_number_n):\n",
    "        x_list.append(testing_data[index][i][0])\n",
    "        y_list.append(testing_data[index][i][1])\n",
    "        h = h_function(testing_data[index][i])\n",
    "        z_list.append(float(h))\n",
    "        h_list.append(float(h))\n",
    "    result_list.append(sum(h_list)/testing_label[index]) \n",
    "    \n",
    "    \n",
    "print(max(result_list), min(result_list), max(result_list)-min(result_list),sum(result_list)/len(result_list))"
   ]
  },
  {
   "cell_type": "code",
   "execution_count": 5,
   "metadata": {
    "ExecuteTime": {
     "end_time": "2021-06-15T06:51:27.656588Z",
     "start_time": "2021-06-15T06:51:26.199902Z"
    }
   },
   "outputs": [
    {
     "data": {
      "image/png": "[encoded data removed]",
      "text/plain": [
       "<Figure size 432x288 with 1 Axes>"
      ]
     },
     "metadata": {
      "needs_background": "light"
     },
     "output_type": "display_data"
    }
   ],
   "source": [
    "plt.hist(result_list,bins=500)\n",
    "\n",
    "plt.title(\"Means\", y=1.015, fontsize=20)\n",
    "plt.axvline(x=sum(result_list)/len(result_list), linestyle='--', linewidth=2.5, label=\"sample mean\", c='orange')\n",
    "plt.xlabel(\"samples\", labelpad=14)\n",
    "plt.ylabel(\"frequency of occurence\", labelpad=14)\n",
    "plt.legend();\n",
    "\n",
    "result_list.sort()\n",
    "\n",
    "plt.axvline(x=result_list[int(len(result_list)*0.01)], linestyle='--', linewidth=0.5, label=\"1%\", c='b')\n",
    "plt.axvline(x=result_list[int(len(result_list)*0.99)], linestyle='--', linewidth=0.5, label=\"99%\", c='r')\n",
    "\n",
    "\n",
    "plt.show()"
   ]
  },
  {
   "cell_type": "code",
   "execution_count": 6,
   "metadata": {
    "ExecuteTime": {
     "end_time": "2021-06-15T06:51:27.688502Z",
     "start_time": "2021-06-15T06:51:27.660578Z"
    },
    "run_control": {
     "marked": true
    }
   },
   "outputs": [],
   "source": [
    "def weight_init(m):\n",
    "    if isinstance(m, torch.nn.Conv2d):\n",
    "        torch.nn.init.xavier_normal_(m.weight)\n",
    "        torch.nn.init.zeros_(m.bias)\n",
    "    elif isinstance(m, torch.nn.Linear):\n",
    "        torch.nn.init.xavier_normal_(m.weight)\n",
    "        torch.nn.init.normal_(m.bias, mean=0.0, std=0.01)\n",
    "\n",
    "\n",
    "class Net(torch.nn.Module):\n",
    "    def __init__(self):\n",
    "\n",
    "        super(Net, self).__init__()\n",
    "\n",
    "        self.input_dim = (Agent_number_n-1)\n",
    "        self.hidden_dim = 100\n",
    "        self.output_dim = 1\n",
    "        self.hidden_layer_count = 6\n",
    "\n",
    "        current_dim = self.input_dim\n",
    "        self.layers = torch.nn.ModuleList()\n",
    "        for i in range(self.hidden_layer_count):\n",
    "            self.layers.append(torch.nn.Linear(current_dim, self.hidden_dim))\n",
    "            current_dim = self.hidden_dim\n",
    "        self.layers.append(torch.nn.Linear(current_dim, self.output_dim))\n",
    "\n",
    "    def calculate(self, value_list):\n",
    "        h = value_list\n",
    "        for layer in self.layers:\n",
    "            h = torch.relu(layer(h))\n",
    "        return h\n",
    "\n",
    "    def forward(self, input_list, input_label, label):\n",
    "        global iteration, echo, target_order\n",
    "        loss1 = 0\n",
    "        loss2 = 0\n",
    "        input_list = torch.from_numpy(\n",
    "            np.array(input_list)).to(dev).type(torch.float32)\n",
    "        h_list = []\n",
    "\n",
    "        for i in range(Agent_number_n):\n",
    "            h = self.calculate(input_list[i])\n",
    "            h_list.append(h)\n",
    "#             loss3 += torch.square(h_function_2(input_list)-h2[1])\n",
    "\n",
    "        input_label = torch.from_numpy(\n",
    "            np.array(input_label)).to(dev).type(torch.float32)\n",
    "        sum_h = torch.sum(torch.cat(h_list)).to(dev)\n",
    "\n",
    "        loss1 = torch.where((Agent_number_n-1)*input_label > sum_h,\n",
    "                            torch.square(\n",
    "                                ((Agent_number_n-1)*input_label-sum_h)),\n",
    "                            torch.zeros(1).to(dev)\n",
    "                            )\n",
    "#         loss2 = torch.relu((sum_h-(Agent_number_n-Alpha)*input_label))/10000\n",
    "\n",
    "        loss2 = torch.where((Agent_number_n-Alpha)*input_label<sum_h,\n",
    "                        torch.square((sum_h-(Agent_number_n-Alpha)*input_label))/10000,\n",
    "                        torch.zeros(1).to(dev)\n",
    "                      )\n",
    "\n",
    "#         loss1 = torch.relu(((Agent_number_n-1)*input_label-sum_h))\n",
    "\n",
    "#         loss2 = torch.relu((sum_h-(Agent_number_n-Alpha)*input_label))/10000\n",
    "\n",
    "        return loss1, loss2\n",
    "    def supervised_loss(self, input_list,label):\n",
    "        global iteration,echo,target_order\n",
    "        input_list = torch.from_numpy(\n",
    "            np.array(input_list)).to(dev).type(torch.float32)\n",
    "        loss = 0 \n",
    "        for i in range(Agent_number_n):\n",
    "            h = self.calculate(input_list[i])\n",
    "            loss += torch.square(h - label[i])\n",
    "        return loss"
   ]
  },
  {
   "cell_type": "code",
   "execution_count": 7,
   "metadata": {
    "ExecuteTime": {
     "end_time": "2021-06-15T06:51:29.279791Z",
     "start_time": "2021-06-15T06:51:27.691495Z"
    }
   },
   "outputs": [
    {
     "name": "stdout",
     "output_type": "stream",
     "text": [
      "Net(\n",
      "  (layers): ModuleList(\n",
      "    (0): Linear(in_features=4, out_features=100, bias=True)\n",
      "    (1): Linear(in_features=100, out_features=100, bias=True)\n",
      "    (2): Linear(in_features=100, out_features=100, bias=True)\n",
      "    (3): Linear(in_features=100, out_features=100, bias=True)\n",
      "    (4): Linear(in_features=100, out_features=100, bias=True)\n",
      "    (5): Linear(in_features=100, out_features=100, bias=True)\n",
      "    (6): Linear(in_features=100, out_features=1, bias=True)\n",
      "  )\n",
      ")\n"
     ]
    }
   ],
   "source": [
    "random.seed(2000)\n",
    "torch.manual_seed(256)\n",
    "net  = Net()\n",
    "net.apply(weight_init)\n",
    "\n",
    "#net = torch.load(\"save/Deep_learning_uniform_5_1\")\n",
    "net.to(dev)\n",
    "#optimizer = opt.RMSprop(net.parameters(), lr=0.00001)\n",
    "#optimizer = opt.SGD(net.parameters(), lr=0.00005)\n",
    "optimizer = opt.Adam(net.parameters(), lr=LR)\n",
    "#optimizer = opt.Adadelta(net.parameters(), lr=1.0)\n",
    "print(net)\n",
    "scheduler = torch.optim.lr_scheduler.StepLR(optimizer, step_size=100, gamma=0.95)\n",
    "\n",
    "\n",
    "index_train_list = []\n",
    "index_test_list = []\n",
    "train_losses = []\n",
    "test_losses = []"
   ]
  },
  {
   "cell_type": "code",
   "execution_count": 8,
   "metadata": {
    "ExecuteTime": {
     "end_time": "2021-06-15T06:59:53.811815Z",
     "start_time": "2021-06-15T06:51:29.281786Z"
    }
   },
   "outputs": [
    {
     "name": "stdout",
     "output_type": "stream",
     "text": [
      "0 tensor(23.8058, device='cuda:0', grad_fn=<DivBackward0>) 1523.5709228515625\n",
      "50 tensor(0.2797, device='cuda:0', grad_fn=<DivBackward0>) 17.898818969726562\n",
      "100 tensor(0.0165, device='cuda:0', grad_fn=<DivBackward0>) 1.0531522035598755\n",
      "150 tensor(0.0052, device='cuda:0', grad_fn=<DivBackward0>) 0.3344419598579407\n",
      "200 tensor(0.0013, device='cuda:0', grad_fn=<DivBackward0>) 0.08198042958974838\n",
      "250 tensor(0.0010, device='cuda:0', grad_fn=<DivBackward0>) 0.06103350222110748\n",
      "300 tensor(0.0009, device='cuda:0', grad_fn=<DivBackward0>) 0.05619101598858833\n",
      "350 tensor(0.0007, device='cuda:0', grad_fn=<DivBackward0>) 0.045461852103471756\n",
      "400 tensor(0.0006, device='cuda:0', grad_fn=<DivBackward0>) 0.03734833374619484\n",
      "450 tensor(0.0005, device='cuda:0', grad_fn=<DivBackward0>) 0.03354525566101074\n",
      "500 tensor(0.0006, device='cuda:0', grad_fn=<DivBackward0>) 0.039096951484680176\n",
      "550 tensor(0.0006, device='cuda:0', grad_fn=<DivBackward0>) 0.036925915628671646\n",
      "600 tensor(0.0005, device='cuda:0', grad_fn=<DivBackward0>) 0.031235836446285248\n",
      "650 tensor(0.0005, device='cuda:0', grad_fn=<DivBackward0>) 0.028931062668561935\n",
      "700 tensor(0.0006, device='cuda:0', grad_fn=<DivBackward0>) 0.03840374946594238\n",
      "750 tensor(0.0005, device='cuda:0', grad_fn=<DivBackward0>) 0.031590577214956284\n",
      "800 tensor(0.0005, device='cuda:0', grad_fn=<DivBackward0>) 0.032884545624256134\n",
      "850 tensor(0.0004, device='cuda:0', grad_fn=<DivBackward0>) 0.022400882095098495\n",
      "900 tensor(0.0004, device='cuda:0', grad_fn=<DivBackward0>) 0.02839283086359501\n",
      "950 tensor(0.0004, device='cuda:0', grad_fn=<DivBackward0>) 0.025805385783314705\n"
     ]
    }
   ],
   "source": [
    "#supervised\n",
    "index_supervisedtrain_list = []\n",
    "supervisedtrain_losses = []\n",
    "for iteration in range(1000):\n",
    "\n",
    "    temp_number = 0\n",
    "    total_batch_loss = 0 \n",
    "    \n",
    "    loss_sum = 0\n",
    "    denominator = 0\n",
    "    for index in range(0, BATCH_SIZE):\n",
    "        training_data_i, training_S, training_data,label = appen_train(\n",
    "            Generate_distribution(Agent_number_n))\n",
    "        h_loss = net.supervised_loss(training_data_i, label)\n",
    "        denominator += 1\n",
    "        loss_sum += h_loss\n",
    "\n",
    "    loss_sum = torch.sum(loss_sum)\n",
    "    loss = (loss_sum) / denominator \n",
    "    total_batch_loss += float(loss_sum)\n",
    "\n",
    "    optimizer.zero_grad()\n",
    "    loss.backward()\n",
    "    optimizer.step()\n",
    "\n",
    "    if (iteration%50 == 0):\n",
    "        print(iteration,loss,total_batch_loss)\n",
    "        index_supervisedtrain_list.append(iteration)\n",
    "        supervisedtrain_losses.append(total_batch_loss)\n",
    "    scheduler.step()"
   ]
  },
  {
   "cell_type": "code",
   "execution_count": 10,
   "metadata": {
    "ExecuteTime": {
     "end_time": "2021-06-15T08:07:49.410136Z",
     "start_time": "2021-06-15T07:06:30.423220Z"
    }
   },
   "outputs": [
    {
     "name": "stdout",
     "output_type": "stream",
     "text": [
      "0 tensor(0.0001, device='cuda:0', grad_fn=<DivBackward0>) 0.008281910791993141 0.00018858254770748317\n",
      "batch iteration 0\n",
      "batch_loss: 0.00 \n",
      "4.391403588928945 3.961876094341278 0.42952749458766704 0.15708572365281004\n",
      "\n",
      "50 tensor(1.4587e-05, device='cuda:0', grad_fn=<DivBackward0>) 0.0 0.0009335940121673048\n",
      "batch iteration 50\n",
      "batch_loss: 0.00 \n",
      "4.502997517585754 4.0064204931259155 0.49657702445983887 0.1477788922559311\n",
      "\n",
      "100 tensor(1.0303e-05, device='cuda:0', grad_fn=<DivBackward0>) 0.0 0.0006594093283638358\n",
      "batch iteration 100\n",
      "batch_loss: 0.00 \n",
      "4.568661689758301 4.025922863293315 0.5427388264649862 0.10020544836002365\n",
      "\n",
      "150 tensor(5.7142e-06, device='cuda:0', grad_fn=<DivBackward0>) 0.0 0.0003657094493974\n",
      "batch iteration 150\n",
      "batch_loss: 0.00 \n",
      "4.5310763120651245 4.005674808843392 0.5254015032217323 0.09500985841260157\n",
      "\n",
      "200 tensor(5.2583e-06, device='cuda:0', grad_fn=<DivBackward0>) 0.0 0.0003365332668181509\n",
      "batch iteration 200\n",
      "batch_loss: 0.00 \n",
      "4.487643897533417 3.998077857914597 0.4895660396188197 0.0907720989291998\n",
      "\n",
      "250 tensor(4.5767e-06, device='cuda:0', grad_fn=<DivBackward0>) 0.0 0.0002929066540673375\n",
      "batch iteration 250\n",
      "batch_loss: 0.00 \n",
      "4.498038947582245 4.001998090150628 0.4960408574316171 0.086872467289278\n",
      "\n",
      "300 tensor(4.1523e-06, device='cuda:0', grad_fn=<DivBackward0>) 0.0 0.000265748705714941\n",
      "batch iteration 300\n",
      "batch_loss: 0.00 \n",
      "4.481212794780731 3.993111235116052 0.4881015596646794 0.09175859437083034\n",
      "\n",
      "350 tensor(4.2712e-06, device='cuda:0', grad_fn=<DivBackward0>) 0.0 0.0002733549918048084\n",
      "batch iteration 350\n",
      "batch_loss: 0.00 \n",
      "4.503187716007233 4.002850489312841 0.5003372266943913 0.08151080727074955\n",
      "\n",
      "400 tensor(3.7374e-06, device='cuda:0', grad_fn=<DivBackward0>) 0.0 0.00023919474915601313\n",
      "batch iteration 400\n",
      "batch_loss: 0.00 \n",
      "4.493138253688812 3.987654556660792 0.5054836970280201 0.09502121132409425\n",
      "\n",
      "450 tensor(3.4397e-06, device='cuda:0', grad_fn=<DivBackward0>) 0.0 0.0002201436582254246\n",
      "batch iteration 450\n",
      "batch_loss: 0.00 \n",
      "4.516219615936279 3.989066432162812 0.5271531837734673 0.09194844937427105\n",
      "\n",
      "500 tensor(3.9149e-06, device='cuda:0', grad_fn=<DivBackward0>) 0.0 0.0002505559823475778\n",
      "batch iteration 500\n",
      "batch_loss: 0.00 \n",
      "4.502855658531189 3.9944231074183376 0.5084325511128513 0.08488810387858425\n",
      "\n",
      "550 tensor(3.3296e-06, device='cuda:0', grad_fn=<DivBackward0>) 0.0 0.00021309255680534989\n",
      "batch iteration 550\n",
      "batch_loss: 0.00 \n",
      "4.436765611171722 3.970231831073761 0.4665337800979614 0.12827538073792777\n",
      "\n",
      "600 tensor(4.8430e-06, device='cuda:0', grad_fn=<DivBackward0>) 0.0 0.0003099492460023612\n",
      "batch iteration 600\n",
      "batch_loss: 0.00 \n",
      "4.886889576911926 4.00069885940944 0.8861907175024859 0.08883373106224823\n",
      "\n",
      "650 tensor(2.6627e-06, device='cuda:0', grad_fn=<DivBackward0>) 0.0 0.00017041339015122503\n",
      "batch iteration 650\n",
      "batch_loss: 0.00 \n",
      "4.822824835777283 3.9968389713151375 0.8259858644621452 0.0842465227451572\n",
      "\n",
      "700 tensor(2.4903e-06, device='cuda:0', grad_fn=<DivBackward0>) 0.0 0.0001593811612110585\n",
      "batch iteration 700\n",
      "batch_loss: 0.00 \n",
      "4.773971378803253 3.9904994916629337 0.7834718871403195 0.08933171991532385\n",
      "\n",
      "750 tensor(3.5794e-06, device='cuda:0', grad_fn=<DivBackward0>) 0.0 0.00022908080427441746\n",
      "batch iteration 750\n",
      "batch_loss: 0.00 \n",
      "4.755895972251892 3.994633967883343 0.761262004368549 0.08169241448394127\n",
      "\n",
      "800 tensor(3.7685e-06, device='cuda:0', grad_fn=<DivBackward0>) 1.3223115274740849e-05 0.00022796218399889767\n",
      "batch iteration 800\n",
      "batch_loss: 0.00 \n",
      "4.715879261493683 3.992721907955304 0.7231573535383791 0.08321204013364669\n",
      "\n",
      "850 tensor(3.0097e-06, device='cuda:0', grad_fn=<DivBackward0>) 0.0 0.0001926206168718636\n",
      "batch iteration 850\n",
      "batch_loss: 0.00 \n",
      "4.698748052120209 3.9984703492377816 0.7002777028824272 0.07576841450782679\n",
      "\n",
      "900 tensor(3.0585e-06, device='cuda:0', grad_fn=<DivBackward0>) 0.0 0.00019574217731133103\n",
      "batch iteration 900\n",
      "batch_loss: 0.00 \n",
      "4.663660943508148 3.995235305496559 0.6684256380115894 0.08039986773616548\n",
      "\n",
      "950 tensor(3.7870e-06, device='cuda:0', grad_fn=<DivBackward0>) 0.0 0.0002423671103315428\n",
      "batch iteration 950\n",
      "batch_loss: 0.00 \n",
      "4.650474309921265 3.9967574717046497 0.653716838216615 0.07939008372442968\n",
      "\n",
      "1000 tensor(2.9684e-06, device='cuda:0', grad_fn=<DivBackward0>) 0.0 0.00018997560255229473\n",
      "batch iteration 1000\n",
      "batch_loss: 0.00 \n",
      "4.641526758670807 3.9926784506600765 0.6488483080107303 0.08293049956911913\n",
      "\n",
      "1050 tensor(2.6903e-06, device='cuda:0', grad_fn=<DivBackward0>) 0.0 0.00017217865388374776\n",
      "batch iteration 1050\n",
      "batch_loss: 0.00 \n",
      "4.6580241322517395 3.9921388969661935 0.665885235285546 0.07670069652582967\n",
      "\n",
      "1100 tensor(2.2605e-06, device='cuda:0', grad_fn=<DivBackward0>) 0.0 0.00014466918946709484\n",
      "batch iteration 1100\n",
      "batch_loss: 0.00 \n",
      "4.682269930839539 3.9982524794107297 0.6840174514288089 0.06814171130274538\n",
      "\n",
      "1150 tensor(2.0743e-06, device='cuda:0', grad_fn=<DivBackward0>) 0.0 0.00013275704986881465\n",
      "batch iteration 1150\n",
      "batch_loss: 0.00 \n",
      "4.639827787876129 3.987524440725344 0.6523033471507853 0.08360341472456145\n",
      "\n",
      "1200 tensor(2.4509e-06, device='cuda:0', grad_fn=<DivBackward0>) 0.0 0.00015685650578234345\n",
      "batch iteration 1200\n",
      "batch_loss: 0.00 \n",
      "4.672922134399414 4.002006725709964 0.6709154086894502 0.06295055995526777\n",
      "\n",
      "1250 tensor(2.3264e-06, device='cuda:0', grad_fn=<DivBackward0>) 0.0 0.00014888781879562885\n",
      "batch iteration 1250\n",
      "batch_loss: 0.00 \n",
      "4.6473053097724915 3.9949967377092603 0.6523085720632311 0.07058903760963275\n",
      "\n",
      "1300 tensor(2.3334e-06, device='cuda:0', grad_fn=<DivBackward0>) 0.0 0.00014933750208001584\n",
      "batch iteration 1300\n",
      "batch_loss: 0.00 \n",
      "4.656675577163696 4.001626420590211 0.6550491565734857 0.06359507632527706\n",
      "\n",
      "1350 tensor(1.8459e-06, device='cuda:0', grad_fn=<DivBackward0>) 0.0 0.00011813901801360771\n",
      "batch iteration 1350\n",
      "batch_loss: 0.00 \n",
      "4.642977952957153 3.996716225713802 0.6462617272433513 0.0660125705289567\n",
      "\n",
      "1400 tensor(2.6700e-06, device='cuda:0', grad_fn=<DivBackward0>) 0.0 0.00017088082677219063\n",
      "batch iteration 1400\n",
      "batch_loss: 0.00 \n",
      "4.6322662234306335 3.993431952677786 0.6388342707528474 0.07002246581023686\n",
      "\n",
      "1450 tensor(1.8963e-06, device='cuda:0', grad_fn=<DivBackward0>) 0.0 0.00012136359873693436\n",
      "batch iteration 1450\n",
      "batch_loss: 0.00 \n",
      "4.6296546459198 3.99448457965131 0.6351700662684898 0.0637539904774238\n",
      "\n",
      "1500 tensor(2.6962e-06, device='cuda:0', grad_fn=<DivBackward0>) 0.0 0.00017255439888685942\n",
      "batch iteration 1500\n",
      "batch_loss: 0.00 \n",
      "4.623008370399475 3.9977643681010426 0.6252440022984325 0.06030010268092534\n",
      "\n",
      "1550 tensor(2.4308e-06, device='cuda:0', grad_fn=<DivBackward0>) 0.0 0.00015557381266262382\n",
      "batch iteration 1550\n",
      "batch_loss: 0.00 \n",
      "4.608062446117401 3.9966496280821304 0.6114128180352707 0.06271793551585558\n",
      "\n",
      "1600 tensor(1.8372e-06, device='cuda:0', grad_fn=<DivBackward0>) 0.0 0.00011757838365156204\n",
      "batch iteration 1600\n",
      "batch_loss: 0.00 \n",
      "4.613645792007446 3.9968687483917464 0.6167770436156998 0.058320190292373564\n",
      "\n",
      "1650 tensor(1.6387e-06, device='cuda:0', grad_fn=<DivBackward0>) 0.0 0.00010487693361938\n",
      "batch iteration 1650\n",
      "batch_loss: 0.00 \n",
      "4.6081883907318115 3.9969873448858895 0.611201045845922 0.0580276431851372\n",
      "\n",
      "1700 tensor(1.8821e-06, device='cuda:0', grad_fn=<DivBackward0>) 0.0 0.00012045488256262615\n",
      "batch iteration 1700\n",
      "batch_loss: 0.00 \n",
      "4.612109839916229 4.002652994252948 0.6094568456632814 0.05408760459003581\n",
      "\n",
      "1750 tensor(5.4745e-06, device='cuda:0', grad_fn=<DivBackward0>) 0.00026271308888681233 8.765170787228271e-05\n",
      "batch iteration 1750\n",
      "batch_loss: 0.00 \n",
      "4.5956438183784485 3.995528542526164 0.6001152758522843 0.05879626913319891\n",
      "\n",
      "1800 tensor(1.5219e-06, device='cuda:0', grad_fn=<DivBackward0>) 0.0 9.740233508637175e-05\n",
      "batch iteration 1800\n",
      "batch_loss: 0.00 \n",
      "4.593945205211639 3.998944546470819 0.5950006587408203 0.05333459560868148\n",
      "\n",
      "1850 tensor(1.9664e-06, device='cuda:0', grad_fn=<DivBackward0>) 0.0 0.00012584983778651804\n",
      "batch iteration 1850\n",
      "batch_loss: 0.00 \n",
      "4.589871466159821 4.002426185978804 0.5874452801810168 0.053198110591566206\n",
      "\n",
      "1900 tensor(1.2033e-06, device='cuda:0', grad_fn=<DivBackward0>) 0.0 7.701291906414554e-05\n",
      "batch iteration 1900\n",
      "batch_loss: 0.00 \n",
      "4.5811222195625305 3.9964531291816905 0.58466909038084 0.05462457339733495\n",
      "\n",
      "1950 tensor(2.1521e-06, device='cuda:0', grad_fn=<DivBackward0>) 0.0 0.00013773290265817195\n",
      "batch iteration 1950\n",
      "batch_loss: 0.00 \n"
     ]
    },
    {
     "name": "stdout",
     "output_type": "stream",
     "text": [
      "4.581676781177521 3.999853642593414 0.5818231385841068 0.050220590650376096\n",
      "\n",
      "2000 tensor(1.2470e-06, device='cuda:0', grad_fn=<DivBackward0>) 0.0 7.980554073583335e-05\n",
      "batch iteration 2000\n",
      "batch_loss: 0.00 \n",
      "4.58156818151474 3.9985525438149847 0.5830156376997553 0.05223772359799517\n",
      "\n"
     ]
    }
   ],
   "source": [
    "for iteration in range(int(echo)):\n",
    "\n",
    "    temp_number = 0\n",
    "    total_batch_loss = 0\n",
    "\n",
    "    loss2_list = []\n",
    "    loss1_sum = 0\n",
    "    loss2_sum = 0\n",
    "    denominator = 0\n",
    "    for index in range(0, BATCH_SIZE):\n",
    "        training_data_i, training_label, training_data,label = appen_train(\n",
    "            Generate_distribution(Agent_number_n))\n",
    "        h_loss1, h_loss2 = net(training_data_i, training_label,\n",
    "                                       training_data)\n",
    "        denominator += 1\n",
    "        loss1_sum += h_loss1\n",
    "        loss2_sum += h_loss2\n",
    "\n",
    "    loss_sum = torch.sum(loss1_sum + loss2_sum)\n",
    "    loss = (loss_sum) / denominator\n",
    "    total_batch_loss = float(loss)\n",
    "    optimizer.zero_grad()\n",
    "\n",
    "    loss.backward()\n",
    "\n",
    "    optimizer.step()\n",
    "\n",
    "    temp_number = iteration\n",
    "\n",
    "    index_train_list.append(iteration)\n",
    "    train_losses.append(total_batch_loss)\n",
    "\n",
    "    if (iteration%50 == 0):\n",
    "        print(temp_number, loss, float(loss1_sum), float(loss2_sum))\n",
    "\n",
    "        print(\"batch iteration\", iteration)\n",
    "        print(\"batch_loss: %.2f \" % total_batch_loss)\n",
    "\n",
    "        result_list = []\n",
    "        for index in range(len(testing_data)):\n",
    "            h_list = []\n",
    "            for i in range(Agent_number_n):\n",
    "                h = net.calculate(\n",
    "                    torch.tensor(testing_data[index][i]).to(dev).type(\n",
    "                        torch.float32))\n",
    "                h_list.append(float(h))\n",
    "            result_list.append(sum(h_list) / testing_label[index])\n",
    "        print(max(result_list), min(result_list),\n",
    "              max(result_list) - min(result_list),\n",
    "              (sum(result_list) / len(result_list) - min(result_list))+ Agent_number_n-1 - min(min(result_list),Agent_number_n-1) )\n",
    "\n",
    "        index_test_list.append(iteration)\n",
    "        test_losses.append(\n",
    "            (sum(result_list) / len(result_list) - min(result_list))+ Agent_number_n-1 - min(min(result_list),Agent_number_n-1) )\n",
    "        print()\n",
    "    scheduler.step()\n",
    "    "
   ]
  },
  {
   "cell_type": "code",
   "execution_count": 11,
   "metadata": {
    "ExecuteTime": {
     "end_time": "2021-06-15T08:27:44.530361Z",
     "start_time": "2021-06-15T08:27:44.311945Z"
    }
   },
   "outputs": [
    {
     "data": {
      "image/png": "[encoded data removed]",
      "text/plain": [
       "<Figure size 432x288 with 1 Axes>"
      ]
     },
     "metadata": {
      "needs_background": "light"
     },
     "output_type": "display_data"
    }
   ],
   "source": [
    "plt.ylim(0, 1.0)\n",
    "plt.plot(index_test_list,test_losses)\n",
    "plt.ylabel('Testing Loss')\n",
    "plt.xlabel('Batch Epoch')\n",
    "plt.show()\n",
    "\n",
    "\n",
    "\n"
   ]
  },
  {
   "cell_type": "code",
   "execution_count": 12,
   "metadata": {
    "ExecuteTime": {
     "end_time": "2021-06-15T08:27:47.959297Z",
     "start_time": "2021-06-15T08:27:47.759305Z"
    }
   },
   "outputs": [
    {
     "data": {
      "image/png": "[encoded data removed]",
      "text/plain": [
       "<Figure size 432x288 with 1 Axes>"
      ]
     },
     "metadata": {
      "needs_background": "light"
     },
     "output_type": "display_data"
    }
   ],
   "source": [
    "import csv\n",
    "with open('save/test_loss_unfeed_uniform_5.csv', 'w', newline='') as csvfile_unfeed:\n",
    "    spamwriter = csv.writer(csvfile_unfeed)\n",
    "    spamwriter.writerow(index_test_list)\n",
    "    spamwriter.writerow(test_losses)\n",
    "\n",
    "with open('save/test_loss_feed_uniform_5.csv') as csvfile_feed:\n",
    "    reader = csv.reader(csvfile_feed)\n",
    "    list_feed = []\n",
    "    for row in reader:\n",
    "        row = np.array(row)\n",
    "        temp_list = []\n",
    "        for i in range(len(row)):\n",
    "            temp_list.append(float(row[i]))\n",
    "\n",
    "        list_feed.append(temp_list)\n",
    "    plt.ylim(0, 1.0)\n",
    "    plt.plot(index_test_list,test_losses,label='neural network')\n",
    "    plt.plot(list_feed[0],list_feed[1],label='feed distribution')\n",
    "    plt.ylabel('Testing Loss')\n",
    "    plt.xlabel('Batch Epoch')\n",
    "    #plt.title('Two or more lines on same plot with suitable legends ')\n",
    "    # show a legend on the plot\n",
    "    plt.legend()\n",
    "    plt.show()"
   ]
  },
  {
   "cell_type": "code",
   "execution_count": 13,
   "metadata": {
    "ExecuteTime": {
     "end_time": "2021-06-15T08:27:51.185307Z",
     "start_time": "2021-06-15T08:27:51.172326Z"
    }
   },
   "outputs": [
    {
     "name": "stdout",
     "output_type": "stream",
     "text": [
      "41\n",
      "41\n"
     ]
    }
   ],
   "source": [
    "print(len(list_feed[0]))\n",
    "print(len(list_feed[1]))"
   ]
  },
  {
   "cell_type": "code",
   "execution_count": 14,
   "metadata": {
    "ExecuteTime": {
     "end_time": "2021-06-15T08:27:54.643726Z",
     "start_time": "2021-06-15T08:27:54.473160Z"
    }
   },
   "outputs": [
    {
     "data": {
      "image/png": "[encoded data removed]",
      "text/plain": [
       "<Figure size 432x288 with 1 Axes>"
      ]
     },
     "metadata": {
      "needs_background": "light"
     },
     "output_type": "display_data"
    }
   ],
   "source": [
    "plt.ylim(0, 1.0)\n",
    "\n",
    "plt.plot(index_train_list,train_losses)\n",
    "plt.ylabel('training loss')\n",
    "\n",
    "plt.plot(index_test_list,test_losses)\n",
    "plt.ylabel('training loss')\n",
    "\n",
    "plt.show()"
   ]
  },
  {
   "cell_type": "code",
   "execution_count": 15,
   "metadata": {
    "ExecuteTime": {
     "end_time": "2021-06-15T08:27:57.935060Z",
     "start_time": "2021-06-15T08:27:57.920084Z"
    }
   },
   "outputs": [],
   "source": [
    "torch.save(net, \"save/Deep_learning_uniform_5_1\")"
   ]
  },
  {
   "cell_type": "code",
   "execution_count": 16,
   "metadata": {
    "ExecuteTime": {
     "end_time": "2021-06-15T08:28:48.232832Z",
     "start_time": "2021-06-15T08:28:00.906739Z"
    }
   },
   "outputs": [
    {
     "name": "stdout",
     "output_type": "stream",
     "text": [
      "4.58156818151474 3.9985525438149847 0.5830156376997553 0.05079026741298032\n"
     ]
    }
   ],
   "source": [
    "denominator = 0\n",
    "result_list = []\n",
    "for index in range(len(testing_data)):\n",
    "    h_list = []\n",
    "    for i in range(Agent_number_n):\n",
    "        h = net.calculate(torch.tensor(testing_data[index][i]).to(dev).type(torch.float32))\n",
    "        h_list.append(float(h))\n",
    "    \n",
    "    #print(sum(h_list),h_list,sum(h_list)/testing_label[index])\n",
    "    result_list.append(sum(h_list)/testing_label[index])\n",
    "    \n",
    "\n",
    "print(max(result_list),min(result_list),max(result_list)-min(result_list),sum(result_list)/len(result_list)-min(result_list))"
   ]
  },
  {
   "cell_type": "code",
   "execution_count": 17,
   "metadata": {
    "ExecuteTime": {
     "end_time": "2021-06-15T08:28:52.555444Z",
     "start_time": "2021-06-15T08:28:51.284284Z"
    }
   },
   "outputs": [
    {
     "data": {
      "image/png": "[encoded data removed]",
      "text/plain": [
       "<Figure size 432x288 with 1 Axes>"
      ]
     },
     "metadata": {
      "needs_background": "light"
     },
     "output_type": "display_data"
    }
   ],
   "source": [
    "plt.hist(result_list,bins=500)\n",
    "\n",
    "plt.title(\"Means\", y=1.015, fontsize=20)\n",
    "plt.axvline(x=sum(result_list)/len(result_list), linestyle='--', linewidth=2.5, label=\"sample mean\", c='orange')\n",
    "plt.xlabel(\"samples\", labelpad=14)\n",
    "plt.ylabel(\"frequency of occurence\", labelpad=14)\n",
    "plt.legend();\n",
    "\n",
    "result_list.sort()\n",
    "\n",
    "plt.axvline(x=result_list[int(len(result_list)*0.01)], linestyle='--', linewidth=0.5, label=\"1%\", c='b')\n",
    "plt.axvline(x=result_list[int(len(result_list)*0.99)], linestyle='--', linewidth=0.5, label=\"99%\", c='r')\n",
    "\n",
    "\n",
    "plt.show()"
   ]
  },
  {
   "cell_type": "code",
   "execution_count": null,
   "metadata": {},
   "outputs": [],
   "source": []
  },
  {
   "cell_type": "code",
   "execution_count": null,
   "metadata": {},
   "outputs": [],
   "source": []
  },
  {
   "cell_type": "code",
   "execution_count": null,
   "metadata": {},
   "outputs": [],
   "source": []
  }
 ],
 "metadata": {
  "hide_input": false,
  "kernelspec": {
   "display_name": "Python 3",
   "language": "python",
   "name": "python3"
  },
  "language_info": {
   "codemirror_mode": {
    "name": "ipython",
    "version": 3
   },
   "file_extension": ".py",
   "mimetype": "text/x-python",
   "name": "python",
   "nbconvert_exporter": "python",
   "pygments_lexer": "ipython3",
   "version": "3.8.3"
  },
  "varInspector": {
   "cols": {
    "lenName": 16,
    "lenType": 16,
    "lenVar": 40
   },
   "kernels_config": {
    "python": {
     "delete_cmd_postfix": "",
     "delete_cmd_prefix": "del ",
     "library": "var_list.py",
     "varRefreshCmd": "print(var_dic_list())"
    },
    "r": {
     "delete_cmd_postfix": ") ",
     "delete_cmd_prefix": "rm(",
     "library": "var_list.r",
     "varRefreshCmd": "cat(var_dic_list()) "
    }
   },
   "types_to_exclude": [
    "module",
    "function",
    "builtin_function_or_method",
    "instance",
    "_Feature"
   ],
   "window_display": false
  }
 },
 "nbformat": 4,
 "nbformat_minor": 4
}
