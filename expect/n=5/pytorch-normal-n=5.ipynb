{
 "cells": [
  {
   "cell_type": "code",
   "execution_count": 1,
   "metadata": {
    "ExecuteTime": {
     "end_time": "2021-06-15T06:43:14.631699Z",
     "start_time": "2021-06-15T06:43:12.357009Z"
    }
   },
   "outputs": [
    {
     "name": "stdout",
     "output_type": "stream",
     "text": [
      "pygame 2.0.1 (SDL 2.0.14, Python 3.8.3)\n",
      "Hello from the pygame community. https://www.pygame.org/contribute.html\n"
     ]
    },
    {
     "name": "stderr",
     "output_type": "stream",
     "text": [
      "D:\\ComputerSoftwares\\Anaconda\\lib\\site-packages\\sklearn\\utils\\deprecation.py:143: FutureWarning: The sklearn.datasets.samples_generator module is  deprecated in version 0.22 and will be removed in version 0.24. The corresponding classes / functions should instead be imported from sklearn.datasets. Anything that cannot be imported from sklearn.datasets is now part of the private API.\n",
      "  warnings.warn(message, FutureWarning)\n"
     ]
    },
    {
     "name": "stdout",
     "output_type": "stream",
     "text": [
      "cuda:0\n"
     ]
    }
   ],
   "source": [
    "\n",
    "import pygame\n",
    "import random\n",
    "import os\n",
    "import time\n",
    "import numpy as np\n",
    "import math\n",
    "import torch\n",
    "import torch.nn.functional\n",
    "import matplotlib.pyplot as plt\n",
    "import torch.optim as opt\n",
    "from torch.autograd import Variable\n",
    "from sklearn.model_selection import train_test_split\n",
    "\n",
    "import scipy.stats as st\n",
    "from sklearn.datasets.samples_generator import make_blobs\n",
    "from matplotlib.colors import LogNorm \n",
    "import matplotlib.cm as cm\n",
    "import torch.nn as nn\n",
    "import numpy as np\n",
    "import matplotlib.pyplot as plt\n",
    "import plotly.graph_objects as go\n",
    "import plotly.express as px\n",
    "from scipy.interpolate import griddata\n",
    "# import LossAccPlotter\n",
    "# from laplotter import LossAccPlotter\n",
    "# from check_laplotter import show_chart, add_noise\n",
    "\n",
    "if torch.cuda.is_available():  \n",
    "    dev = \"cuda:0\" \n",
    "else:  \n",
    "    dev = \"cpu\"  \n",
    "\n",
    "print(dev)\n",
    "\n"
   ]
  },
  {
   "cell_type": "code",
   "execution_count": 2,
   "metadata": {
    "ExecuteTime": {
     "end_time": "2021-06-15T06:43:14.647168Z",
     "start_time": "2021-06-15T06:43:14.633695Z"
    },
    "run_control": {
     "marked": true
    }
   },
   "outputs": [],
   "source": [
    "global temp_list\n",
    "temp_list = []\n",
    "Agent_number_n=5;\n",
    "Alpha = 1.0;\n",
    "\n",
    "echo = 2001\n",
    "BATCH_SIZE = 64\n",
    "LR = 0.001           # learning rate for generator\n",
    "\n",
    "normalloc = 0.5\n",
    "normalscale = 0.1\n",
    "\n",
    "def Generate_distribution(Agent_number_n):\n",
    "    #return sorted(np.random.rand(Agent_number_n), reverse=True)\n",
    "    return sorted(np.random.normal(normalloc,normalscale,Agent_number_n), reverse=True)\n"
   ]
  },
  {
   "cell_type": "code",
   "execution_count": 3,
   "metadata": {
    "ExecuteTime": {
     "end_time": "2021-06-15T06:43:15.106448Z",
     "start_time": "2021-06-15T06:43:14.648651Z"
    }
   },
   "outputs": [
    {
     "name": "stdout",
     "output_type": "stream",
     "text": [
      "[[[0.59282258 0.57478586 0.52202903 0.45797377]\n",
      "  [0.64665705 0.57478586 0.52202903 0.45797377]\n",
      "  [0.64665705 0.59282258 0.52202903 0.45797377]\n",
      "  [0.64665705 0.59282258 0.57478586 0.45797377]\n",
      "  [0.64665705 0.59282258 0.57478586 0.52202903]]\n",
      "\n",
      " [[0.63610247 0.47206856 0.42366174 0.15978952]\n",
      "  [0.68063209 0.47206856 0.42366174 0.15978952]\n",
      "  [0.68063209 0.63610247 0.42366174 0.15978952]\n",
      "  [0.68063209 0.63610247 0.47206856 0.15978952]\n",
      "  [0.68063209 0.63610247 0.47206856 0.42366174]]\n",
      "\n",
      " [[0.56201343 0.55561566 0.44917784 0.33014038]\n",
      "  [0.56925147 0.55561566 0.44917784 0.33014038]\n",
      "  [0.56925147 0.56201343 0.44917784 0.33014038]\n",
      "  [0.56925147 0.56201343 0.55561566 0.33014038]\n",
      "  [0.56925147 0.56201343 0.55561566 0.44917784]]\n",
      "\n",
      " ...\n",
      "\n",
      " [[0.50208711 0.45532361 0.43597744 0.41702201]\n",
      "  [0.52658692 0.45532361 0.43597744 0.41702201]\n",
      "  [0.52658692 0.50208711 0.43597744 0.41702201]\n",
      "  [0.52658692 0.50208711 0.45532361 0.41702201]\n",
      "  [0.52658692 0.50208711 0.45532361 0.43597744]]\n",
      "\n",
      " [[0.51998876 0.49557591 0.43941456 0.40642475]\n",
      "  [0.5664145  0.49557591 0.43941456 0.40642475]\n",
      "  [0.5664145  0.51998876 0.43941456 0.40642475]\n",
      "  [0.5664145  0.51998876 0.49557591 0.40642475]\n",
      "  [0.5664145  0.51998876 0.49557591 0.43941456]]\n",
      "\n",
      " [[0.57596372 0.49619081 0.39793517 0.36212153]\n",
      "  [0.70429755 0.49619081 0.39793517 0.36212153]\n",
      "  [0.70429755 0.57596372 0.39793517 0.36212153]\n",
      "  [0.70429755 0.57596372 0.49619081 0.36212153]\n",
      "  [0.70429755 0.57596372 0.49619081 0.39793517]]]\n",
      "[2.79426828 2.37225437 2.46619878 ... 2.3369971  2.42781847 2.53650878]\n"
     ]
    }
   ],
   "source": [
    "def h_3_star(a, b, t):\n",
    "    return a - min(a, t) + b - min(b, t) + max(min(a, t)+min(b, t), 2*t/3) + 1/2 * max(min(a, t)+min(b, t), t) - 1/2 * max(max(min(a, t), min(b, t)), 2*t/3) - t/6\n",
    "\n",
    "\n",
    "def f_function(a, b, z):\n",
    "    if(z >= 1):\n",
    "        return (a+b)/2 + z/3\n",
    "    else:\n",
    "        return z/3 + h_3_star(a, b, 1-z)/2\n",
    "\n",
    "def h_function_label(input_list):\n",
    "    #input_list = sorted(input_list)\n",
    "    g_list = []\n",
    "    for j1 in range(len(input_list) ):\n",
    "        for j2 in range(len(input_list)):\n",
    "            if(j1 != j2):\n",
    "                a = input_list[j1]\n",
    "                b = input_list[j2]\n",
    "                z = sum(input_list)- a-b\n",
    "\n",
    "                g_list.append( f_function(a, b, z) * (Agent_number_n-1))\n",
    "    h = sum(g_list) * 3 /  (Agent_number_n) /  (Agent_number_n-1) /  (Agent_number_n - 2)\n",
    "    return h\n",
    "\n",
    "def appen(_x_list,y):\n",
    "    global temp_list\n",
    "    temp_list.append(_x_list)\n",
    "    \n",
    "def appen_train(x_list):\n",
    "    global temp_list\n",
    "                \n",
    "    S= max(sum(x_list),1.0);\n",
    "    temp_list = []\n",
    "    h_list = []\n",
    "    for i in range(Agent_number_n):\n",
    "        temp = []\n",
    "        for j in range(Agent_number_n):\n",
    "            if(i!=j):\n",
    "                temp.append(x_list[j])\n",
    "        appen(temp,S)\n",
    "        \n",
    "        h = h_function_label(temp)\n",
    "        h_list.append(float(h))\n",
    "    temp_list = np.array(temp_list)\n",
    "    x_list = np.array(x_list)\n",
    "    return temp_list,S,x_list,h_list\n",
    "    \n",
    "\n",
    "def appen_test(x_list):\n",
    "    global temp_list\n",
    "                \n",
    "    S= max(sum(x_list),1.0);\n",
    "    temp_list = []\n",
    "    \n",
    "    for i in range(Agent_number_n):\n",
    "        temp = []\n",
    "        for j in range(Agent_number_n):\n",
    "            if(i!=j):\n",
    "                temp.append(x_list[j])\n",
    "        appen(temp,S)\n",
    "    testing_data.append(temp_list)\n",
    "    testing_label.append(S)\n",
    "    temp_list = np.array(temp_list)\n",
    "    return temp_list,S\n",
    "    \n",
    "\n",
    "def read_testing_data():\n",
    "    for i in range(10000):\n",
    "        appen_test(Generate_distribution(Agent_number_n));\n",
    "                            \n",
    "\n",
    "testing_data=[]\n",
    "testing_label=[]\n",
    "S=1.0\n",
    "read_testing_data();\n",
    "\n",
    "testing_data=np.array(testing_data)\n",
    "testing_label=np.array(testing_label)\n",
    "print(testing_data)\n",
    "print(testing_label)"
   ]
  },
  {
   "cell_type": "code",
   "execution_count": 4,
   "metadata": {
    "ExecuteTime": {
     "end_time": "2021-06-15T06:43:20.957545Z",
     "start_time": "2021-06-15T06:43:15.109438Z"
    }
   },
   "outputs": [
    {
     "name": "stdout",
     "output_type": "stream",
     "text": [
      "4.3301999890330745 3.9999999999999987 0.3301999890330758 4.049100144702339\n"
     ]
    }
   ],
   "source": [
    "def h_3_star(a, b, t):\n",
    "    return a - min(a, t) + b - min(b, t) + max(min(a, t)+min(b, t), 2*t/3) + 1/2 * max(min(a, t)+min(b, t), t) - 1/2 * max(max(min(a, t), min(b, t)), 2*t/3) - t/6\n",
    "\n",
    "\n",
    "def f_function(a, b, z):\n",
    "    if(z >= 1):\n",
    "        return (a+b)/2 + z/3\n",
    "    else:\n",
    "        return z/3 + h_3_star(a, b, 1-z)/2\n",
    "\n",
    "def h_function(input_list):\n",
    "    #input_list = sorted(input_list)\n",
    "    g_list = []\n",
    "    for j1 in range(len(input_list) ):\n",
    "        for j2 in range(len(input_list)):\n",
    "            if(j1 != j2):\n",
    "                a = input_list[j1]\n",
    "                b = input_list[j2]\n",
    "                z = sum(input_list)- a-b\n",
    "\n",
    "                g_list.append( f_function(a, b, z) * (Agent_number_n-1))\n",
    "    h = sum(g_list) * 3 /  (Agent_number_n) /  (Agent_number_n-1) /  (Agent_number_n - 2)\n",
    "    return h\n",
    "                \n",
    "                \n",
    "x_list = []\n",
    "y_list = []\n",
    "z_list = []\n",
    "result_list = []\n",
    "for index in range(len(testing_data)):\n",
    "    h_list = []\n",
    "    for i in range(Agent_number_n):\n",
    "        x_list.append(testing_data[index][i][0])\n",
    "        y_list.append(testing_data[index][i][1])\n",
    "        h = h_function(testing_data[index][i])\n",
    "        z_list.append(float(h))\n",
    "        h_list.append(float(h))\n",
    "    result_list.append(sum(h_list)/testing_label[index]) \n",
    "    \n",
    "    \n",
    "print(max(result_list), min(result_list), max(result_list)-min(result_list),sum(result_list)/len(result_list))"
   ]
  },
  {
   "cell_type": "code",
   "execution_count": 5,
   "metadata": {
    "ExecuteTime": {
     "end_time": "2021-06-15T06:43:22.220774Z",
     "start_time": "2021-06-15T06:43:20.959539Z"
    }
   },
   "outputs": [
    {
     "data": {
      "image/png": "[encoded data removed]",
      "text/plain": [
       "<Figure size 432x288 with 1 Axes>"
      ]
     },
     "metadata": {
      "needs_background": "light"
     },
     "output_type": "display_data"
    }
   ],
   "source": [
    "plt.hist(result_list,bins=500)\n",
    "\n",
    "plt.title(\"Means\", y=1.015, fontsize=20)\n",
    "plt.axvline(x=sum(result_list)/len(result_list), linestyle='--', linewidth=2.5, label=\"sample mean\", c='orange')\n",
    "plt.xlabel(\"samples\", labelpad=14)\n",
    "plt.ylabel(\"frequency of occurence\", labelpad=14)\n",
    "plt.legend();\n",
    "\n",
    "result_list.sort()\n",
    "\n",
    "plt.axvline(x=result_list[int(len(result_list)*0.01)], linestyle='--', linewidth=0.5, label=\"1%\", c='b')\n",
    "plt.axvline(x=result_list[int(len(result_list)*0.99)], linestyle='--', linewidth=0.5, label=\"99%\", c='r')\n",
    "\n",
    "\n",
    "plt.show()"
   ]
  },
  {
   "cell_type": "code",
   "execution_count": 6,
   "metadata": {
    "ExecuteTime": {
     "end_time": "2021-06-15T06:43:22.252690Z",
     "start_time": "2021-06-15T06:43:22.222774Z"
    },
    "run_control": {
     "marked": true
    }
   },
   "outputs": [],
   "source": [
    "def weight_init(m):\n",
    "    if isinstance(m, torch.nn.Conv2d):\n",
    "        torch.nn.init.xavier_normal_(m.weight)\n",
    "        torch.nn.init.zeros_(m.bias)\n",
    "    elif isinstance(m, torch.nn.Linear):\n",
    "        torch.nn.init.xavier_normal_(m.weight)\n",
    "        torch.nn.init.normal_(m.bias, mean=0.0, std=0.01)\n",
    "\n",
    "\n",
    "class Net(torch.nn.Module):\n",
    "    def __init__(self):\n",
    "\n",
    "        super(Net, self).__init__()\n",
    "\n",
    "        self.input_dim = (Agent_number_n-1)\n",
    "        self.hidden_dim = 100\n",
    "        self.output_dim = 1\n",
    "        self.hidden_layer_count = 6\n",
    "\n",
    "        current_dim = self.input_dim\n",
    "        self.layers = torch.nn.ModuleList()\n",
    "        for i in range(self.hidden_layer_count):\n",
    "            self.layers.append(torch.nn.Linear(current_dim, self.hidden_dim))\n",
    "            current_dim = self.hidden_dim\n",
    "        self.layers.append(torch.nn.Linear(current_dim, self.output_dim))\n",
    "\n",
    "    def calculate(self, value_list):\n",
    "        h = value_list\n",
    "        for layer in self.layers:\n",
    "            h = torch.relu(layer(h))\n",
    "        return h\n",
    "\n",
    "    def forward(self, input_list, input_label, label):\n",
    "        global iteration, echo, target_order\n",
    "        loss1 = 0\n",
    "        loss2 = 0\n",
    "        input_list = torch.from_numpy(\n",
    "            np.array(input_list)).to(dev).type(torch.float32)\n",
    "        h_list = []\n",
    "\n",
    "        for i in range(Agent_number_n):\n",
    "            h = self.calculate(input_list[i])\n",
    "            h_list.append(h)\n",
    "#             loss3 += torch.square(h_function_2(input_list)-h2[1])\n",
    "\n",
    "        input_label = torch.from_numpy(\n",
    "            np.array(input_label)).to(dev).type(torch.float32)\n",
    "        sum_h = torch.sum(torch.cat(h_list)).to(dev)\n",
    "\n",
    "        loss1 = torch.where((Agent_number_n-1)*input_label > sum_h,\n",
    "                            torch.square(\n",
    "                                ((Agent_number_n-1)*input_label-sum_h)),\n",
    "                            torch.zeros(1).to(dev)\n",
    "                            )\n",
    "#         loss2 = torch.relu((sum_h-(Agent_number_n-Alpha)*input_label))/10000\n",
    "\n",
    "        loss2 = torch.where((Agent_number_n-Alpha)*input_label<sum_h,\n",
    "                        torch.square((sum_h-(Agent_number_n-Alpha)*input_label))/10000,\n",
    "                        torch.zeros(1).to(dev)\n",
    "                      )\n",
    "\n",
    "#         loss1 = torch.relu(((Agent_number_n-1)*input_label-sum_h))\n",
    "\n",
    "#         loss2 = torch.relu((sum_h-(Agent_number_n-Alpha)*input_label))/10000\n",
    "\n",
    "        return loss1, loss2\n",
    "\n",
    "    def supervised_loss(self, input_list,label):\n",
    "        global iteration,echo,target_order\n",
    "        input_list = torch.from_numpy(\n",
    "            np.array(input_list)).to(dev).type(torch.float32)\n",
    "        loss = 0 \n",
    "        for i in range(Agent_number_n):\n",
    "            h = self.calculate(input_list[i])\n",
    "            loss += torch.square(h - label[i])\n",
    "        return loss"
   ]
  },
  {
   "cell_type": "code",
   "execution_count": 7,
   "metadata": {
    "ExecuteTime": {
     "end_time": "2021-06-15T06:43:23.755690Z",
     "start_time": "2021-06-15T06:43:22.256679Z"
    }
   },
   "outputs": [
    {
     "name": "stdout",
     "output_type": "stream",
     "text": [
      "Net(\n",
      "  (layers): ModuleList(\n",
      "    (0): Linear(in_features=4, out_features=100, bias=True)\n",
      "    (1): Linear(in_features=100, out_features=100, bias=True)\n",
      "    (2): Linear(in_features=100, out_features=100, bias=True)\n",
      "    (3): Linear(in_features=100, out_features=100, bias=True)\n",
      "    (4): Linear(in_features=100, out_features=100, bias=True)\n",
      "    (5): Linear(in_features=100, out_features=100, bias=True)\n",
      "    (6): Linear(in_features=100, out_features=1, bias=True)\n",
      "  )\n",
      ")\n"
     ]
    }
   ],
   "source": [
    "random.seed(2000)\n",
    "torch.manual_seed(256)\n",
    "net  = Net()\n",
    "net.apply(weight_init)\n",
    "\n",
    "#net = torch.load(\"save/Deep_learning_normal_5_1\")\n",
    "net.to(dev)\n",
    "#optimizer = opt.RMSprop(net.parameters(), lr=0.00001)\n",
    "#optimizer = opt.SGD(net.parameters(), lr=0.00005)\n",
    "optimizer = opt.Adam(net.parameters(), lr=LR)\n",
    "#optimizer = opt.Adadelta(net.parameters(), lr=1.0)\n",
    "print(net)\n",
    "scheduler = torch.optim.lr_scheduler.StepLR(optimizer, step_size=100, gamma=0.99)\n",
    "\n",
    "\n",
    "index_train_list = []\n",
    "index_test_list = []\n",
    "train_losses = []\n",
    "test_losses = []"
   ]
  },
  {
   "cell_type": "code",
   "execution_count": 8,
   "metadata": {
    "ExecuteTime": {
     "end_time": "2021-06-15T06:52:36.309734Z",
     "start_time": "2021-06-15T06:43:23.759678Z"
    }
   },
   "outputs": [
    {
     "name": "stdout",
     "output_type": "stream",
     "text": [
      "0 tensor(20.2737, device='cuda:0', grad_fn=<DivBackward0>) 1297.5142822265625\n",
      "50 tensor(0.1146, device='cuda:0', grad_fn=<DivBackward0>) 7.337370872497559\n",
      "100 tensor(0.0172, device='cuda:0', grad_fn=<DivBackward0>) 1.103294849395752\n",
      "150 tensor(0.0156, device='cuda:0', grad_fn=<DivBackward0>) 0.995667576789856\n",
      "200 tensor(0.0122, device='cuda:0', grad_fn=<DivBackward0>) 0.7799647450447083\n",
      "250 tensor(0.0099, device='cuda:0', grad_fn=<DivBackward0>) 0.6333146095275879\n",
      "300 tensor(0.0050, device='cuda:0', grad_fn=<DivBackward0>) 0.3208049535751343\n",
      "350 tensor(0.0021, device='cuda:0', grad_fn=<DivBackward0>) 0.13537786900997162\n",
      "400 tensor(0.0011, device='cuda:0', grad_fn=<DivBackward0>) 0.0694284439086914\n",
      "450 tensor(0.0004, device='cuda:0', grad_fn=<DivBackward0>) 0.02599290758371353\n",
      "500 tensor(0.0004, device='cuda:0', grad_fn=<DivBackward0>) 0.028702549636363983\n",
      "550 tensor(0.0003, device='cuda:0', grad_fn=<DivBackward0>) 0.01916186511516571\n",
      "600 tensor(0.0004, device='cuda:0', grad_fn=<DivBackward0>) 0.023904690518975258\n",
      "650 tensor(0.0004, device='cuda:0', grad_fn=<DivBackward0>) 0.025133417919278145\n",
      "700 tensor(0.0004, device='cuda:0', grad_fn=<DivBackward0>) 0.024679919704794884\n",
      "750 tensor(0.0003, device='cuda:0', grad_fn=<DivBackward0>) 0.017626235261559486\n",
      "800 tensor(0.0004, device='cuda:0', grad_fn=<DivBackward0>) 0.024114741012454033\n",
      "850 tensor(0.0003, device='cuda:0', grad_fn=<DivBackward0>) 0.018833482638001442\n",
      "900 tensor(0.0004, device='cuda:0', grad_fn=<DivBackward0>) 0.023569665849208832\n",
      "950 tensor(0.0003, device='cuda:0', grad_fn=<DivBackward0>) 0.019894225522875786\n"
     ]
    }
   ],
   "source": [
    "#supervised\n",
    "index_supervisedtrain_list = []\n",
    "supervisedtrain_losses = []\n",
    "for iteration in range(1000):\n",
    "\n",
    "    temp_number = 0\n",
    "    total_batch_loss = 0 \n",
    "    \n",
    "    loss_sum = 0\n",
    "    denominator = 0\n",
    "    for index in range(0, BATCH_SIZE):\n",
    "        training_data_i, training_S, training_data,label = appen_train(\n",
    "            Generate_distribution(Agent_number_n))\n",
    "        h_loss = net.supervised_loss(training_data_i, label)\n",
    "        denominator += 1\n",
    "        loss_sum += h_loss\n",
    "\n",
    "    loss_sum = torch.sum(loss_sum)\n",
    "    loss = (loss_sum) / denominator \n",
    "    total_batch_loss += float(loss_sum)\n",
    "\n",
    "    optimizer.zero_grad()\n",
    "    loss.backward()\n",
    "    optimizer.step()\n",
    "\n",
    "    if (iteration%50 == 0):\n",
    "        print(iteration,loss,total_batch_loss)\n",
    "        index_supervisedtrain_list.append(iteration)\n",
    "        supervisedtrain_losses.append(total_batch_loss)\n",
    "    scheduler.step()"
   ]
  },
  {
   "cell_type": "code",
   "execution_count": 10,
   "metadata": {
    "ExecuteTime": {
     "end_time": "2021-06-15T08:07:10.701387Z",
     "start_time": "2021-06-15T07:05:52.532293Z"
    }
   },
   "outputs": [
    {
     "name": "stdout",
     "output_type": "stream",
     "text": [
      "0 tensor(0.0004, device='cuda:0', grad_fn=<DivBackward0>) 0.027642689645290375 0.00013857189333066344\n",
      "batch iteration 0\n",
      "batch_loss: 0.00 \n",
      "4.330226786088831 3.9487631041537408 0.3814636819350903 0.15828493234614038\n",
      "\n",
      "50 tensor(2.0529e-05, device='cuda:0', grad_fn=<DivBackward0>) 0.0 0.0013138719368726015\n",
      "batch iteration 50\n",
      "batch_loss: 0.00 \n",
      "4.471662475322056 4.033715003458449 0.43794747186360716 0.15463349696147155\n",
      "\n",
      "100 tensor(1.4606e-05, device='cuda:0', grad_fn=<DivBackward0>) 0.0 0.0009347963496111333\n",
      "batch iteration 100\n",
      "batch_loss: 0.00 \n",
      "4.428647753382799 4.014705695742566 0.4139420576402326 0.13552873154973355\n",
      "\n",
      "150 tensor(7.0437e-06, device='cuda:0', grad_fn=<DivBackward0>) 0.0 0.0004507974663283676\n",
      "batch iteration 150\n",
      "batch_loss: 0.00 \n",
      "4.3803636497082445 3.9884105145679585 0.39195313514028607 0.13005886827151825\n",
      "\n",
      "200 tensor(7.4526e-06, device='cuda:0', grad_fn=<DivBackward0>) 0.0 0.0004769667866639793\n",
      "batch iteration 200\n",
      "batch_loss: 0.00 \n",
      "4.373056359103917 3.9858523325954303 0.38720402650848706 0.12973212847008986\n",
      "\n",
      "250 tensor(5.6042e-06, device='cuda:0', grad_fn=<DivBackward0>) 0.0 0.00035866646794602275\n",
      "batch iteration 250\n",
      "batch_loss: 0.00 \n",
      "4.355291704778055 3.9767884416923702 0.3785032630856846 0.13257750932995416\n",
      "\n",
      "300 tensor(9.1022e-06, device='cuda:0', grad_fn=<DivBackward0>) 0.0 0.0005825409316457808\n",
      "batch iteration 300\n",
      "batch_loss: 0.00 \n",
      "4.3931829516029195 4.00061646370429 0.39256648789862947 0.12210659417158798\n",
      "\n",
      "350 tensor(5.9193e-06, device='cuda:0', grad_fn=<DivBackward0>) 0.0 0.00037883472396060824\n",
      "batch iteration 350\n",
      "batch_loss: 0.00 \n",
      "4.356686413609746 3.98072194289572 0.37596447071402617 0.12884872624808663\n",
      "\n",
      "400 tensor(5.7890e-06, device='cuda:0', grad_fn=<DivBackward0>) 0.0 0.0003704940027091652\n",
      "batch iteration 400\n",
      "batch_loss: 0.00 \n",
      "4.363457018999886 3.9869519083816667 0.3765051106182189 0.12391883327073172\n",
      "\n",
      "450 tensor(8.0077e-06, device='cuda:0', grad_fn=<DivBackward0>) 0.0 0.0005124959861859679\n",
      "batch iteration 450\n",
      "batch_loss: 0.00 \n",
      "4.379931610636098 3.9982975871333295 0.38163402350276865 0.11780875117987488\n",
      "\n",
      "500 tensor(6.5021e-06, device='cuda:0', grad_fn=<DivBackward0>) 0.0 0.00041613171924836934\n",
      "batch iteration 500\n",
      "batch_loss: 0.00 \n",
      "4.36665934044087 3.9929028770263293 0.3737564634145403 0.11783844370877761\n",
      "\n",
      "550 tensor(4.1885e-06, device='cuda:0', grad_fn=<DivBackward0>) 0.0 0.00026806327514350414\n",
      "batch iteration 550\n",
      "batch_loss: 0.00 \n",
      "4.347438086565022 3.9829417716116513 0.36449631495337087 0.12127850252996986\n",
      "\n",
      "600 tensor(4.7478e-06, device='cuda:0', grad_fn=<DivBackward0>) 0.0 0.00030386162688955665\n",
      "batch iteration 600\n",
      "batch_loss: 0.00 \n",
      "4.341390212280174 3.980738499070028 0.36065171321014633 0.12151303429975124\n",
      "\n",
      "650 tensor(5.1105e-06, device='cuda:0', grad_fn=<DivBackward0>) 0.0 0.0003270744637120515\n",
      "batch iteration 650\n",
      "batch_loss: 0.00 \n",
      "4.352180350733404 3.9884006097824556 0.3637797409509482 0.11748564287703589\n",
      "\n",
      "700 tensor(5.0259e-06, device='cuda:0', grad_fn=<DivBackward0>) 0.0 0.00032166013261303306\n",
      "batch iteration 700\n",
      "batch_loss: 0.00 \n",
      "4.3469098477894415 3.991302422744002 0.3556074250454393 0.10881573527805388\n",
      "\n",
      "750 tensor(5.4713e-06, device='cuda:0', grad_fn=<DivBackward0>) 0.0 0.0003501619503367692\n",
      "batch iteration 750\n",
      "batch_loss: 0.00 \n",
      "4.343107604965577 3.99064053726021 0.35246706770536695 0.10829966946766811\n",
      "\n",
      "800 tensor(5.7432e-06, device='cuda:0', grad_fn=<DivBackward0>) 1.6355270417989232e-06 0.0003659298818092793\n",
      "batch iteration 800\n",
      "batch_loss: 0.00 \n",
      "4.344314100236081 3.993839493786845 0.35047460644923634 0.10474366658220413\n",
      "\n",
      "850 tensor(7.0733e-06, device='cuda:0', grad_fn=<DivBackward0>) 0.0 0.00045269288239069283\n",
      "batch iteration 850\n",
      "batch_loss: 0.00 \n",
      "4.357193797904163 4.002627496649911 0.3545663012542519 0.10321361605470347\n",
      "\n",
      "900 tensor(3.2599e-06, device='cuda:0', grad_fn=<DivBackward0>) 0.0 0.00020863469399046153\n",
      "batch iteration 900\n",
      "batch_loss: 0.00 \n",
      "4.322932576252259 3.9820890201882406 0.3408435560640184 0.11153056454754218\n",
      "\n",
      "950 tensor(7.0549e-06, device='cuda:0', grad_fn=<DivBackward0>) 0.0 0.00045151563244871795\n",
      "batch iteration 950\n",
      "batch_loss: 0.00 \n",
      "4.349104651124291 4.002867452730818 0.34623719839347267 0.09906441429289004\n",
      "\n",
      "1000 tensor(6.6356e-06, device='cuda:0', grad_fn=<DivBackward0>) 0.0 0.00042467715684324503\n",
      "batch iteration 1000\n",
      "batch_loss: 0.00 \n",
      "4.343164188629524 4.001470227295562 0.341693961333962 0.09686195742383319\n",
      "\n",
      "1050 tensor(4.7051e-06, device='cuda:0', grad_fn=<DivBackward0>) 0.0 0.00030112435342743993\n",
      "batch iteration 1050\n",
      "batch_loss: 0.00 \n",
      "4.336086147823514 3.9993313720085606 0.3367547758149536 0.09506478384842332\n",
      "\n",
      "1100 tensor(5.0817e-06, device='cuda:0', grad_fn=<DivBackward0>) 0.0 0.00032522762194275856\n",
      "batch iteration 1100\n",
      "batch_loss: 0.00 \n",
      "4.330411262287803 3.997614518422148 0.33279674386565494 0.09495725609050654\n",
      "\n",
      "1150 tensor(3.8533e-06, device='cuda:0', grad_fn=<DivBackward0>) 0.0 0.0002466115984134376\n",
      "batch iteration 1150\n",
      "batch_loss: 0.00 \n",
      "4.319207024101063 3.9918102418197154 0.3273967822813475 0.09806241987317765\n",
      "\n",
      "1200 tensor(4.9239e-06, device='cuda:0', grad_fn=<DivBackward0>) 0.0 0.0003151277778670192\n",
      "batch iteration 1200\n",
      "batch_loss: 0.00 \n",
      "4.3200993567037065 3.994811030338587 0.3252883263651194 0.09479777672440726\n",
      "\n",
      "1250 tensor(4.1298e-06, device='cuda:0', grad_fn=<DivBackward0>) 0.0 0.0002643043117132038\n",
      "batch iteration 1250\n",
      "batch_loss: 0.00 \n",
      "4.313902137424716 3.9919989388282024 0.3219031985965133 0.0962207771128396\n",
      "\n",
      "1300 tensor(3.7643e-06, device='cuda:0', grad_fn=<DivBackward0>) 0.0 0.00024091651721391827\n",
      "batch iteration 1300\n",
      "batch_loss: 0.00 \n",
      "4.3048911328806945 3.9866023715278627 0.3182887613528318 0.10012648735763419\n",
      "\n",
      "1350 tensor(3.7421e-06, device='cuda:0', grad_fn=<DivBackward0>) 0.0 0.0002394950861344114\n",
      "batch iteration 1350\n",
      "batch_loss: 0.00 \n",
      "4.301293996495233 3.9855477020220653 0.31574629447316793 0.10051611852677356\n",
      "\n",
      "1400 tensor(4.8637e-06, device='cuda:0', grad_fn=<DivBackward0>) 0.0 0.00031127373222261667\n",
      "batch iteration 1400\n",
      "batch_loss: 0.00 \n",
      "4.316906453415506 3.9992668101585305 0.3176396432569759 0.0895835862260701\n",
      "\n",
      "1450 tensor(8.3866e-06, device='cuda:0', grad_fn=<DivBackward0>) 0.0 0.0005367436679080129\n",
      "batch iteration 1450\n",
      "batch_loss: 0.00 \n",
      "4.345393973674714 4.0180279198552045 0.32736605381950934 0.09924891481258147\n",
      "\n",
      "1500 tensor(3.4210e-06, device='cuda:0', grad_fn=<DivBackward0>) 0.0 0.00021894426026847214\n",
      "batch iteration 1500\n",
      "batch_loss: 0.00 \n",
      "4.291146983332099 3.985241728210821 0.305905255121278 0.09835511082760195\n",
      "\n",
      "1550 tensor(6.4041e-06, device='cuda:0', grad_fn=<DivBackward0>) 0.0 0.0004098609497305006\n",
      "batch iteration 1550\n",
      "batch_loss: 0.00 \n",
      "4.3220963040828515 4.014018506062233 0.3080777980206184 0.08590449191170357\n",
      "\n",
      "1600 tensor(4.5668e-06, device='cuda:0', grad_fn=<DivBackward0>) 0.0 0.0002922757703345269\n",
      "batch iteration 1600\n",
      "batch_loss: 0.00 \n",
      "4.3100468240573875 4.008129865549659 0.3019169585077286 0.08228488832649905\n",
      "\n",
      "1650 tensor(5.6597e-06, device='cuda:0', grad_fn=<DivBackward0>) 0.0 0.000362218648660928\n",
      "batch iteration 1650\n",
      "batch_loss: 0.00 \n",
      "4.3116914876740715 4.011794267186334 0.2998972204877379 0.0822576173386036\n",
      "\n",
      "1700 tensor(3.8802e-06, device='cuda:0', grad_fn=<DivBackward0>) 0.0 0.00024833300267346203\n",
      "batch iteration 1700\n",
      "batch_loss: 0.00 \n",
      "4.2889666809626465 3.9951608778193357 0.29380580314331084 0.08516335886285997\n",
      "\n",
      "1750 tensor(1.0944e-05, device='cuda:0', grad_fn=<DivBackward0>) 0.0 0.0007003991631790996\n",
      "batch iteration 1750\n",
      "batch_loss: 0.00 \n",
      "4.343122554414441 4.035072392858579 0.30805016155586173 0.09420383925142595\n",
      "\n",
      "1800 tensor(1.8697e-06, device='cuda:0', grad_fn=<DivBackward0>) 0.0 0.00011966046440647915\n",
      "batch iteration 1800\n",
      "batch_loss: 0.00 \n",
      "4.264285066142275 3.980391017692059 0.28389404845021593 0.09764887812712386\n",
      "\n",
      "1850 tensor(4.4485e-06, device='cuda:0', grad_fn=<DivBackward0>) 0.0 0.0002847016730811447\n",
      "batch iteration 1850\n",
      "batch_loss: 0.00 \n",
      "4.289276433543092 4.0066977143866005 0.2825787191564917 0.0776444303162247\n",
      "\n",
      "1900 tensor(4.7078e-06, device='cuda:0', grad_fn=<DivBackward0>) 0.0 0.000301299529382959\n",
      "batch iteration 1900\n",
      "batch_loss: 0.00 \n",
      "4.285687519354506 4.0076855055384035 0.2780020138161028 0.07655415607709948\n",
      "\n",
      "1950 tensor(3.4457e-06, device='cuda:0', grad_fn=<DivBackward0>) 0.0 0.00022052372514735907\n",
      "batch iteration 1950\n",
      "batch_loss: 0.00 \n"
     ]
    },
    {
     "name": "stdout",
     "output_type": "stream",
     "text": [
      "4.274258291962375 4.000789912781598 0.2734683791807768 0.07556758964788113\n",
      "\n",
      "2000 tensor(5.0370e-06, device='cuda:0', grad_fn=<DivBackward0>) 0.0 0.0003223651146981865\n",
      "batch iteration 2000\n",
      "batch_loss: 0.00 \n",
      "4.282564803728718 4.011739729760344 0.27082507396837396 0.07478656868509592\n",
      "\n"
     ]
    }
   ],
   "source": [
    "for iteration in range(int(echo)):\n",
    "\n",
    "    temp_number = 0\n",
    "    total_batch_loss = 0\n",
    "\n",
    "    loss2_list = []\n",
    "    loss1_sum = 0\n",
    "    loss2_sum = 0\n",
    "    denominator = 0\n",
    "    for index in range(0, BATCH_SIZE):\n",
    "        training_data_i, training_label, training_data,label = appen_train(\n",
    "            Generate_distribution(Agent_number_n))\n",
    "        h_loss1, h_loss2 = net(training_data_i, training_label,\n",
    "                                       training_data)\n",
    "        denominator += 1\n",
    "        loss1_sum += h_loss1\n",
    "        loss2_sum += h_loss2\n",
    "\n",
    "    loss_sum = torch.sum(loss1_sum + loss2_sum)\n",
    "    loss = (loss_sum) / denominator\n",
    "    total_batch_loss = float(loss)\n",
    "    optimizer.zero_grad()\n",
    "\n",
    "    loss.backward()\n",
    "\n",
    "    optimizer.step()\n",
    "\n",
    "    temp_number = iteration\n",
    "\n",
    "    index_train_list.append(iteration)\n",
    "    train_losses.append(total_batch_loss)\n",
    "\n",
    "    if (iteration%50 == 0):\n",
    "        print(temp_number, loss, float(loss1_sum), float(loss2_sum))\n",
    "\n",
    "        print(\"batch iteration\", iteration)\n",
    "        print(\"batch_loss: %.2f \" % total_batch_loss)\n",
    "\n",
    "        result_list = []\n",
    "        for index in range(len(testing_data)):\n",
    "            h_list = []\n",
    "            for i in range(Agent_number_n):\n",
    "                h = net.calculate(\n",
    "                    torch.tensor(testing_data[index][i]).to(dev).type(\n",
    "                        torch.float32))\n",
    "                h_list.append(float(h))\n",
    "            result_list.append(sum(h_list) / testing_label[index])\n",
    "        print(max(result_list), min(result_list),\n",
    "              max(result_list) - min(result_list),\n",
    "              (sum(result_list) / len(result_list) - min(result_list))+ Agent_number_n-1 - min(min(result_list),Agent_number_n-1) )\n",
    "\n",
    "        index_test_list.append(iteration)\n",
    "        test_losses.append(\n",
    "            (sum(result_list) / len(result_list) - min(result_list))+ Agent_number_n-1 - min(min(result_list),Agent_number_n-1) )\n",
    "        print()\n",
    "    scheduler.step()\n",
    "    "
   ]
  },
  {
   "cell_type": "code",
   "execution_count": 11,
   "metadata": {
    "ExecuteTime": {
     "end_time": "2021-06-15T08:23:03.406983Z",
     "start_time": "2021-06-15T08:23:03.072370Z"
    }
   },
   "outputs": [
    {
     "data": {
      "image/png": "[encoded data removed]",
      "text/plain": [
       "<Figure size 432x288 with 1 Axes>"
      ]
     },
     "metadata": {
      "needs_background": "light"
     },
     "output_type": "display_data"
    },
    {
     "data": {
      "image/png": "[encoded data removed]",
      "text/plain": [
       "<Figure size 432x288 with 1 Axes>"
      ]
     },
     "metadata": {
      "needs_background": "light"
     },
     "output_type": "display_data"
    }
   ],
   "source": [
    "plt.ylim(0, 1.0)\n",
    "plt.plot(index_test_list,test_losses)\n",
    "plt.ylabel('Testing Loss')\n",
    "plt.xlabel('Batch Epoch')\n",
    "plt.show()\n",
    "\n",
    "import csv\n",
    "with open('save/test_loss_unfeed_normal_5.csv', 'w', newline='') as csvfile_unfeed:\n",
    "    spamwriter = csv.writer(csvfile_unfeed)\n",
    "    spamwriter.writerow(index_test_list)\n",
    "    spamwriter.writerow(test_losses)\n",
    "\n",
    "\n",
    "with open('save/test_loss_feed_normal_5.csv') as csvfile_feed:\n",
    "    reader = csv.reader(csvfile_feed)\n",
    "    list_feed = []\n",
    "    for row in reader:\n",
    "        row = np.array(row)\n",
    "        temp_list = []\n",
    "        for i in range(len(row)):\n",
    "            temp_list.append(float(row[i]))\n",
    "\n",
    "        list_feed.append(temp_list)\n",
    "    plt.ylim(0, 1.0)\n",
    "    plt.plot(index_test_list,test_losses,label='neural network')\n",
    "    plt.plot(list_feed[0],list_feed[1],label='feed distribution')\n",
    "    plt.ylabel('Testing Loss')\n",
    "    plt.xlabel('Batch Epoch')\n",
    "    #plt.title('Two or more lines on same plot with suitable legends ')\n",
    "    # show a legend on the plot\n",
    "    plt.legend()\n",
    "    plt.show()\n",
    "\n"
   ]
  },
  {
   "cell_type": "code",
   "execution_count": 12,
   "metadata": {
    "ExecuteTime": {
     "end_time": "2021-06-15T08:23:06.518269Z",
     "start_time": "2021-06-15T08:23:06.505283Z"
    }
   },
   "outputs": [
    {
     "name": "stdout",
     "output_type": "stream",
     "text": [
      "41\n",
      "41\n"
     ]
    }
   ],
   "source": [
    "print(len(list_feed[0]))\n",
    "print(len(list_feed[1]))"
   ]
  },
  {
   "cell_type": "code",
   "execution_count": 13,
   "metadata": {
    "ExecuteTime": {
     "end_time": "2021-06-15T08:23:09.928413Z",
     "start_time": "2021-06-15T08:23:09.744373Z"
    }
   },
   "outputs": [
    {
     "data": {
      "image/png": "[encoded data removed]",
      "text/plain": [
       "<Figure size 432x288 with 1 Axes>"
      ]
     },
     "metadata": {
      "needs_background": "light"
     },
     "output_type": "display_data"
    }
   ],
   "source": [
    "plt.ylim(0, 1.0)\n",
    "\n",
    "plt.plot(index_train_list,train_losses)\n",
    "plt.ylabel('training loss')\n",
    "\n",
    "plt.plot(index_test_list,test_losses)\n",
    "plt.ylabel('training loss')\n",
    "\n",
    "plt.show()"
   ]
  },
  {
   "cell_type": "code",
   "execution_count": 14,
   "metadata": {
    "ExecuteTime": {
     "end_time": "2021-06-15T08:23:13.254177Z",
     "start_time": "2021-06-15T08:23:13.240214Z"
    }
   },
   "outputs": [],
   "source": [
    "torch.save(net, \"save/Deep_learning_normal_5_1\")"
   ]
  },
  {
   "cell_type": "code",
   "execution_count": 15,
   "metadata": {
    "ExecuteTime": {
     "end_time": "2021-06-15T08:24:02.892998Z",
     "start_time": "2021-06-15T08:23:16.491944Z"
    }
   },
   "outputs": [
    {
     "name": "stdout",
     "output_type": "stream",
     "text": [
      "4.282564803728718 4.011739729760344 0.27082507396837396 0.07478656868509592\n"
     ]
    }
   ],
   "source": [
    "denominator = 0\n",
    "result_list = []\n",
    "for index in range(len(testing_data)):\n",
    "    h_list = []\n",
    "    for i in range(Agent_number_n):\n",
    "        h = net.calculate(torch.tensor(testing_data[index][i]).to(dev).type(torch.float32))\n",
    "        h_list.append(float(h))\n",
    "    \n",
    "    #print(sum(h_list),h_list,sum(h_list)/testing_label[index])\n",
    "    result_list.append(sum(h_list)/testing_label[index])\n",
    "    \n",
    "\n",
    "print(max(result_list),min(result_list),max(result_list)-min(result_list),sum(result_list)/len(result_list)-min(result_list))"
   ]
  },
  {
   "cell_type": "code",
   "execution_count": 16,
   "metadata": {
    "ExecuteTime": {
     "end_time": "2021-06-15T08:24:07.008598Z",
     "start_time": "2021-06-15T08:24:05.822249Z"
    }
   },
   "outputs": [
    {
     "data": {
      "image/png": "[encoded data removed]",
      "text/plain": [
       "<Figure size 432x288 with 1 Axes>"
      ]
     },
     "metadata": {
      "needs_background": "light"
     },
     "output_type": "display_data"
    }
   ],
   "source": [
    "plt.hist(result_list,bins=500)\n",
    "\n",
    "plt.title(\"Means\", y=1.015, fontsize=20)\n",
    "plt.axvline(x=sum(result_list)/len(result_list), linestyle='--', linewidth=2.5, label=\"sample mean\", c='orange')\n",
    "plt.xlabel(\"samples\", labelpad=14)\n",
    "plt.ylabel(\"frequency of occurence\", labelpad=14)\n",
    "plt.legend();\n",
    "\n",
    "result_list.sort()\n",
    "\n",
    "plt.axvline(x=result_list[int(len(result_list)*0.01)], linestyle='--', linewidth=0.5, label=\"1%\", c='b')\n",
    "plt.axvline(x=result_list[int(len(result_list)*0.99)], linestyle='--', linewidth=0.5, label=\"99%\", c='r')\n",
    "\n",
    "\n",
    "plt.show()"
   ]
  },
  {
   "cell_type": "code",
   "execution_count": null,
   "metadata": {},
   "outputs": [],
   "source": []
  },
  {
   "cell_type": "code",
   "execution_count": null,
   "metadata": {},
   "outputs": [],
   "source": []
  }
 ],
 "metadata": {
  "hide_input": false,
  "kernelspec": {
   "display_name": "Python 3",
   "language": "python",
   "name": "python3"
  },
  "language_info": {
   "codemirror_mode": {
    "name": "ipython",
    "version": 3
   },
   "file_extension": ".py",
   "mimetype": "text/x-python",
   "name": "python",
   "nbconvert_exporter": "python",
   "pygments_lexer": "ipython3",
   "version": "3.8.3"
  },
  "varInspector": {
   "cols": {
    "lenName": 16,
    "lenType": 16,
    "lenVar": 40
   },
   "kernels_config": {
    "python": {
     "delete_cmd_postfix": "",
     "delete_cmd_prefix": "del ",
     "library": "var_list.py",
     "varRefreshCmd": "print(var_dic_list())"
    },
    "r": {
     "delete_cmd_postfix": ") ",
     "delete_cmd_prefix": "rm(",
     "library": "var_list.r",
     "varRefreshCmd": "cat(var_dic_list()) "
    }
   },
   "types_to_exclude": [
    "module",
    "function",
    "builtin_function_or_method",
    "instance",
    "_Feature"
   ],
   "window_display": false
  }
 },
 "nbformat": 4,
 "nbformat_minor": 4
}
