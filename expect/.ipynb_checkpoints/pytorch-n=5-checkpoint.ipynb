{
 "cells": [
  {
   "cell_type": "code",
   "execution_count": 1,
   "metadata": {
    "ExecuteTime": {
     "end_time": "2021-05-26T05:00:55.337217Z",
     "start_time": "2021-05-26T05:00:52.739830Z"
    }
   },
   "outputs": [
    {
     "name": "stdout",
     "output_type": "stream",
     "text": [
      "pygame 2.0.1 (SDL 2.0.14, Python 3.8.3)\n",
      "Hello from the pygame community. https://www.pygame.org/contribute.html\n"
     ]
    },
    {
     "name": "stderr",
     "output_type": "stream",
     "text": [
      "D:\\ComputerSoftwares\\Anaconda\\lib\\site-packages\\sklearn\\utils\\deprecation.py:143: FutureWarning: The sklearn.datasets.samples_generator module is  deprecated in version 0.22 and will be removed in version 0.24. The corresponding classes / functions should instead be imported from sklearn.datasets. Anything that cannot be imported from sklearn.datasets is now part of the private API.\n",
      "  warnings.warn(message, FutureWarning)\n"
     ]
    },
    {
     "name": "stdout",
     "output_type": "stream",
     "text": [
      "cuda:0\n"
     ]
    }
   ],
   "source": [
    "\n",
    "import pygame\n",
    "import random\n",
    "import os\n",
    "import time\n",
    "import numpy as np\n",
    "import math\n",
    "import torch\n",
    "import torch.nn.functional\n",
    "import matplotlib.pyplot as plt\n",
    "import torch.optim as opt\n",
    "from torch.autograd import Variable\n",
    "from sklearn.model_selection import train_test_split\n",
    "\n",
    "import scipy.stats as st\n",
    "from sklearn.datasets.samples_generator import make_blobs\n",
    "from matplotlib.colors import LogNorm \n",
    "import matplotlib.cm as cm\n",
    "import torch.nn as nn\n",
    "import numpy as np\n",
    "import matplotlib.pyplot as plt\n",
    "import plotly.graph_objects as go\n",
    "import plotly.express as px\n",
    "from scipy.interpolate import griddata\n",
    "if torch.cuda.is_available():  \n",
    "    dev = \"cuda:0\" \n",
    "else:  \n",
    "    dev = \"cpu\"  \n",
    "\n",
    "print(dev)\n",
    "\n"
   ]
  },
  {
   "cell_type": "code",
   "execution_count": 2,
   "metadata": {
    "ExecuteTime": {
     "end_time": "2021-05-26T05:00:55.352474Z",
     "start_time": "2021-05-26T05:00:55.340209Z"
    }
   },
   "outputs": [],
   "source": [
    "global temp_list\n",
    "temp_list = []\n",
    "Agent_number_n=5;"
   ]
  },
  {
   "cell_type": "code",
   "execution_count": 3,
   "metadata": {
    "ExecuteTime": {
     "end_time": "2021-05-26T05:01:01.294417Z",
     "start_time": "2021-05-26T05:00:55.355465Z"
    }
   },
   "outputs": [
    {
     "name": "stdout",
     "output_type": "stream",
     "text": [
      "[[[0.7209953  0.69745304 0.6857042  0.53372662]\n",
      "  [0.77915377 0.69745304 0.6857042  0.53372662]\n",
      "  [0.77915377 0.7209953  0.6857042  0.53372662]\n",
      "  [0.77915377 0.7209953  0.69745304 0.53372662]\n",
      "  [0.77915377 0.7209953  0.69745304 0.6857042 ]]\n",
      "\n",
      " [[0.7799582  0.40892628 0.37844312 0.11479999]\n",
      "  [0.87244332 0.40892628 0.37844312 0.11479999]\n",
      "  [0.87244332 0.7799582  0.37844312 0.11479999]\n",
      "  [0.87244332 0.7799582  0.40892628 0.11479999]\n",
      "  [0.87244332 0.7799582  0.40892628 0.37844312]]\n",
      "\n",
      " [[0.51763593 0.22039018 0.09939943 0.09436559]\n",
      "  [0.89361847 0.22039018 0.09939943 0.09436559]\n",
      "  [0.89361847 0.51763593 0.09939943 0.09436559]\n",
      "  [0.89361847 0.51763593 0.22039018 0.09436559]\n",
      "  [0.89361847 0.51763593 0.22039018 0.09939943]]\n",
      "\n",
      " ...\n",
      "\n",
      " [[0.6936404  0.42942362 0.15212467 0.12759672]\n",
      "  [0.89501331 0.42942362 0.15212467 0.12759672]\n",
      "  [0.89501331 0.6936404  0.15212467 0.12759672]\n",
      "  [0.89501331 0.6936404  0.42942362 0.12759672]\n",
      "  [0.89501331 0.6936404  0.42942362 0.15212467]]\n",
      "\n",
      " [[0.88504522 0.78458777 0.51460796 0.30330693]\n",
      "  [0.91078781 0.78458777 0.51460796 0.30330693]\n",
      "  [0.91078781 0.88504522 0.51460796 0.30330693]\n",
      "  [0.91078781 0.88504522 0.78458777 0.30330693]\n",
      "  [0.91078781 0.88504522 0.78458777 0.51460796]]\n",
      "\n",
      " [[0.64665339 0.49540548 0.360152   0.23221578]\n",
      "  [0.91254036 0.49540548 0.360152   0.23221578]\n",
      "  [0.91254036 0.64665339 0.360152   0.23221578]\n",
      "  [0.91254036 0.64665339 0.49540548 0.23221578]\n",
      "  [0.91254036 0.64665339 0.49540548 0.360152  ]]]\n",
      "[[[0.69048752 0.66903075 0.11197571 0.00192566]\n",
      "  [0.70928875 0.66903075 0.11197571 0.00192566]\n",
      "  [0.70928875 0.69048752 0.11197571 0.00192566]\n",
      "  [0.70928875 0.69048752 0.66903075 0.00192566]\n",
      "  [0.70928875 0.69048752 0.66903075 0.11197571]]\n",
      "\n",
      " [[0.78293636 0.37130902 0.2646337  0.09402257]\n",
      "  [0.80924512 0.37130902 0.2646337  0.09402257]\n",
      "  [0.80924512 0.78293636 0.2646337  0.09402257]\n",
      "  [0.80924512 0.78293636 0.37130902 0.09402257]\n",
      "  [0.80924512 0.78293636 0.37130902 0.2646337 ]]\n",
      "\n",
      " [[0.57928292 0.52152841 0.34474245 0.17775459]\n",
      "  [0.72895883 0.52152841 0.34474245 0.17775459]\n",
      "  [0.72895883 0.57928292 0.34474245 0.17775459]\n",
      "  [0.72895883 0.57928292 0.52152841 0.17775459]\n",
      "  [0.72895883 0.57928292 0.52152841 0.34474245]]\n",
      "\n",
      " ...\n",
      "\n",
      " [[0.25015871 0.23651391 0.20976095 0.19565937]\n",
      "  [0.4717872  0.23651391 0.20976095 0.19565937]\n",
      "  [0.4717872  0.25015871 0.20976095 0.19565937]\n",
      "  [0.4717872  0.25015871 0.23651391 0.19565937]\n",
      "  [0.4717872  0.25015871 0.23651391 0.20976095]]\n",
      "\n",
      " [[0.68195612 0.56394525 0.33785226 0.23142796]\n",
      "  [0.76563219 0.56394525 0.33785226 0.23142796]\n",
      "  [0.76563219 0.68195612 0.33785226 0.23142796]\n",
      "  [0.76563219 0.68195612 0.56394525 0.23142796]\n",
      "  [0.76563219 0.68195612 0.56394525 0.33785226]]\n",
      "\n",
      " [[0.74669605 0.66838132 0.5173204  0.2437512 ]\n",
      "  [0.76113812 0.66838132 0.5173204  0.2437512 ]\n",
      "  [0.76113812 0.74669605 0.5173204  0.2437512 ]\n",
      "  [0.76113812 0.74669605 0.66838132 0.2437512 ]\n",
      "  [0.76113812 0.74669605 0.66838132 0.5173204 ]]]\n",
      "[3.41703294 2.55457092 1.8254096  ... 2.29779872 3.3983357  2.646967  ]\n",
      "[2.18270839 2.32214677 2.3522672  ... 1.36388014 2.58081378 2.93728709]\n"
     ]
    }
   ],
   "source": [
    "def appen(_x_list,y):\n",
    "    global temp_list\n",
    "    temp_list.append(_x_list)\n",
    "    \n",
    "def appen_train(x_list):\n",
    "    global temp_list\n",
    "                \n",
    "    S= max(sum(x_list),1.0);\n",
    "    temp_list = []\n",
    "    \n",
    "    for i in range(Agent_number_n):\n",
    "        temp = []\n",
    "        for j in range(Agent_number_n):\n",
    "            if(i!=j):\n",
    "                temp.append(x_list[j])\n",
    "        appen(temp,S)\n",
    "    \n",
    "    training_data.append(temp_list)\n",
    "    training_label.append(S)\n",
    "    \n",
    "\n",
    "def read_training_data():\n",
    "    for i in range(100000):\n",
    "        appen_train(sorted(np.random.rand(Agent_number_n), reverse=True));\n",
    "\n",
    "training_data=[]\n",
    "training_label=[]\n",
    "S=1.0\n",
    "read_training_data();\n",
    "\n",
    "def appen_test(x_list):\n",
    "    global temp_list\n",
    "                \n",
    "    S= max(sum(x_list),1.0);\n",
    "    temp_list = []\n",
    "    \n",
    "    for i in range(Agent_number_n):\n",
    "        temp = []\n",
    "        for j in range(Agent_number_n):\n",
    "            if(i!=j):\n",
    "                temp.append(x_list[j])\n",
    "        appen(temp,S)\n",
    "    testing_data.append(temp_list)\n",
    "    testing_label.append(S)\n",
    "    \n",
    "\n",
    "def read_testing_data():\n",
    "    for i in range(100000):\n",
    "        appen_test(sorted(np.random.rand(Agent_number_n), reverse=True));\n",
    "                            \n",
    "\n",
    "testing_data=[]\n",
    "testing_label=[]\n",
    "S=1.0\n",
    "read_testing_data();\n",
    "\n",
    "training_data=np.array(training_data)\n",
    "training_label=np.array(training_label)\n",
    "testing_data=np.array(testing_data)\n",
    "testing_label=np.array(testing_label)\n",
    "print(training_data)\n",
    "print(testing_data)\n",
    "print(training_label)\n",
    "print(testing_label)"
   ]
  },
  {
   "cell_type": "code",
   "execution_count": 4,
   "metadata": {
    "ExecuteTime": {
     "end_time": "2021-05-26T05:02:13.524884Z",
     "start_time": "2021-05-26T05:01:01.296788Z"
    }
   },
   "outputs": [
    {
     "name": "stdout",
     "output_type": "stream",
     "text": [
      "4.386197629985663 3.9999999999999982 0.38619762998566465 4.068447644857674\n"
     ]
    }
   ],
   "source": [
    "def h_3_star(a, b, t):\n",
    "    return a - min(a, t) + b - min(b, t) + max(min(a, t)+min(b, t), 2*t/3) + 1/2 * max(min(a, t)+min(b, t), t) - 1/2 * max(max(min(a, t), min(b, t)), 2*t/3) - t/6\n",
    "\n",
    "\n",
    "def f_function(a, b, z):\n",
    "    if(z >= 1):\n",
    "        return (a+b)/2 + z/3\n",
    "    else:\n",
    "        return z/3 + h_3_star(a, b, 1-z)/2\n",
    "\n",
    "def h_function(input_list):\n",
    "    #input_list = sorted(input_list)\n",
    "    g_list = []\n",
    "    for j1 in range(len(input_list) ):\n",
    "        for j2 in range(len(input_list)):\n",
    "            if(j1 != j2):\n",
    "                a = input_list[j1]\n",
    "                b = input_list[j2]\n",
    "                z = sum(input_list)- a-b\n",
    "\n",
    "                g_list.append( f_function(a, b, z) * (Agent_number_n-1))\n",
    "    h = sum(g_list) * 3 /  (Agent_number_n) /  (Agent_number_n-1) /  (Agent_number_n - 2)\n",
    "    return h\n",
    "                \n",
    "                \n",
    "x_list = []\n",
    "y_list = []\n",
    "z_list = []\n",
    "result_list = []\n",
    "training_supervised_label=[]\n",
    "for index in range(len(training_data)):\n",
    "    h_list = []\n",
    "    for i in range(Agent_number_n):\n",
    "        x_list.append(training_data[index][i][0])\n",
    "        y_list.append(training_data[index][i][1])\n",
    "        h = h_function(training_data[index][i])\n",
    "        z_list.append(float(h))\n",
    "        h_list.append(float(h))\n",
    "    training_supervised_label.append(h_list)\n",
    "    result_list.append(sum(h_list)/training_label[index]) \n",
    "    \n",
    "    \n",
    "print(max(result_list), min(result_list), max(result_list)-min(result_list),sum(result_list)/len(result_list))"
   ]
  },
  {
   "cell_type": "code",
   "execution_count": 5,
   "metadata": {
    "ExecuteTime": {
     "end_time": "2021-05-26T05:02:17.914833Z",
     "start_time": "2021-05-26T05:02:13.524884Z"
    }
   },
   "outputs": [
    {
     "name": "stdout",
     "output_type": "stream",
     "text": [
      "4.704485854087544 3.9999999999999982 0.7044858540875456 4.006366451890246\n"
     ]
    }
   ],
   "source": [
    "# def h_function(input_list):\n",
    "\n",
    "#     h = max(sum(input_list),2/3) + 1/2 * max(sum(input_list),1) - 1/2 * max(input_list[0],2/3) - 1/6\n",
    "#     return h\n",
    "\n",
    "def h_function(input_list):\n",
    "    if(sum(input_list)>=(Agent_number_n-1)/Agent_number_n):\n",
    "        h = sum(input_list)\n",
    "    else:\n",
    "        h = (Agent_number_n-1)/Agent_number_n\n",
    "    return h   \n",
    "                \n",
    "result_list = []\n",
    "for index in range(len(training_data)):\n",
    "    h_list = []\n",
    "    for i in range(Agent_number_n):\n",
    "        h = h_function(training_data[index][i])\n",
    "        h_list.append(float(h))\n",
    "    result_list.append(sum(h_list)/training_label[index]) \n",
    "    \n",
    "    \n",
    "print(max(result_list), min(result_list), max(result_list)-min(result_list),sum(result_list)/len(result_list))"
   ]
  },
  {
   "cell_type": "code",
   "execution_count": 7,
   "metadata": {
    "ExecuteTime": {
     "end_time": "2021-05-26T09:17:15.517968Z",
     "start_time": "2021-05-26T09:17:12.245039Z"
    }
   },
   "outputs": [
    {
     "name": "stdout",
     "output_type": "stream",
     "text": [
      "4.381143171895169 2.5 1.881143171895169 4.0415577363379205\n"
     ]
    }
   ],
   "source": [
    "# def h_function(input_list):\n",
    "\n",
    "#     h = max(sum(input_list),2/3) + 1/2 * max(sum(input_list),1) - 1/2 * max(input_list[0],2/3) - 1/6\n",
    "#     return h\n",
    "def h_function(input_list):\n",
    "\n",
    "    h = (Agent_number_n-1)/(Agent_number_n*2)*max(sum(input_list),1) + (Agent_number_n-1)/Agent_number_n * max(sum(input_list),1/2) - 1.0/Agent_number_n * max(input_list[0],1/2) - 1.0/Agent_number_n\n",
    "    return h  \n",
    "                \n",
    "result_list = []\n",
    "for index in range(len(training_data)):\n",
    "    h_list = []\n",
    "    for i in range(Agent_number_n):\n",
    "        h = h_function(training_data[index][i])\n",
    "        h_list.append(float(h))\n",
    "    result_list.append(sum(h_list)/training_label[index]) \n",
    "    \n",
    "    \n",
    "print(max(result_list), min(result_list), max(result_list)-min(result_list),sum(result_list)/len(result_list))"
   ]
  },
  {
   "cell_type": "code",
   "execution_count": null,
   "metadata": {},
   "outputs": [],
   "source": []
  }
 ],
 "metadata": {
  "hide_input": false,
  "kernelspec": {
   "display_name": "Python 3",
   "language": "python",
   "name": "python3"
  },
  "language_info": {
   "codemirror_mode": {
    "name": "ipython",
    "version": 3
   },
   "file_extension": ".py",
   "mimetype": "text/x-python",
   "name": "python",
   "nbconvert_exporter": "python",
   "pygments_lexer": "ipython3",
   "version": "3.8.3"
  },
  "varInspector": {
   "cols": {
    "lenName": 16,
    "lenType": 16,
    "lenVar": 40
   },
   "kernels_config": {
    "python": {
     "delete_cmd_postfix": "",
     "delete_cmd_prefix": "del ",
     "library": "var_list.py",
     "varRefreshCmd": "print(var_dic_list())"
    },
    "r": {
     "delete_cmd_postfix": ") ",
     "delete_cmd_prefix": "rm(",
     "library": "var_list.r",
     "varRefreshCmd": "cat(var_dic_list()) "
    }
   },
   "types_to_exclude": [
    "module",
    "function",
    "builtin_function_or_method",
    "instance",
    "_Feature"
   ],
   "window_display": false
  }
 },
 "nbformat": 4,
 "nbformat_minor": 4
}
