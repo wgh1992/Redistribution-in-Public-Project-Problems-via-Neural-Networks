{
 "cells": [
  {
   "cell_type": "code",
   "execution_count": 1,
   "metadata": {
    "ExecuteTime": {
     "end_time": "2021-06-18T06:04:28.495199Z",
     "start_time": "2021-06-18T06:04:26.706435Z"
    }
   },
   "outputs": [
    {
     "name": "stdout",
     "output_type": "stream",
     "text": [
      "pygame 2.0.1 (SDL 2.0.14, Python 3.8.3)\n",
      "Hello from the pygame community. https://www.pygame.org/contribute.html\n"
     ]
    },
    {
     "name": "stderr",
     "output_type": "stream",
     "text": [
      "D:\\ComputerSoftwares\\Anaconda\\lib\\site-packages\\sklearn\\utils\\deprecation.py:143: FutureWarning: The sklearn.datasets.samples_generator module is  deprecated in version 0.22 and will be removed in version 0.24. The corresponding classes / functions should instead be imported from sklearn.datasets. Anything that cannot be imported from sklearn.datasets is now part of the private API.\n",
      "  warnings.warn(message, FutureWarning)\n"
     ]
    },
    {
     "name": "stdout",
     "output_type": "stream",
     "text": [
      "cuda:0\n"
     ]
    }
   ],
   "source": [
    "\n",
    "import pygame\n",
    "import random\n",
    "import os\n",
    "import time\n",
    "import numpy as np\n",
    "import math\n",
    "import torch\n",
    "import torch.nn.functional\n",
    "import matplotlib.pyplot as plt\n",
    "import torch.optim as opt\n",
    "from torch.autograd import Variable\n",
    "from sklearn.model_selection import train_test_split\n",
    "\n",
    "import scipy.stats as st\n",
    "from sklearn.datasets.samples_generator import make_blobs\n",
    "from matplotlib.colors import LogNorm \n",
    "import matplotlib.cm as cm\n",
    "import torch.nn as nn\n",
    "import numpy as np\n",
    "import matplotlib.pyplot as plt\n",
    "import plotly.graph_objects as go\n",
    "import plotly.express as px\n",
    "from scipy.interpolate import griddata\n",
    "import torch.nn.functional as F\n",
    "import torch.distributions as D\n",
    "if torch.cuda.is_available():  \n",
    "    dev = \"cuda:0\" \n",
    "else:  \n",
    "    dev = \"cpu\"  \n",
    "\n",
    "print(dev)\n",
    "\n"
   ]
  },
  {
   "cell_type": "code",
   "execution_count": 2,
   "metadata": {
    "ExecuteTime": {
     "end_time": "2021-06-18T06:04:28.523210Z",
     "start_time": "2021-06-18T06:04:28.498563Z"
    },
    "run_control": {
     "marked": true
    }
   },
   "outputs": [],
   "source": [
    "global temp_list\n",
    "temp_list = []\n",
    "Agent_number_n=4;\n",
    "Alpha = 1.0;\n",
    "\n",
    "echo = 2001\n",
    "BATCH_SIZE = 64\n",
    "LR = 0.001           # learning rate for generator\n",
    "devided_number = 1\n",
    "\n",
    "def Generate_distribution(Agent_number_n):\n",
    "    return sorted(np.random.rand(Agent_number_n), reverse=True)\n",
    "    #return sorted(np.random.normal(normalloc,normalscale,Agent_number_n), reverse=True)\n",
    "Prior_Distribution = \"uniform\""
   ]
  },
  {
   "cell_type": "code",
   "execution_count": 3,
   "metadata": {
    "ExecuteTime": {
     "end_time": "2021-06-18T06:04:28.567565Z",
     "start_time": "2021-06-18T06:04:28.523210Z"
    },
    "run_control": {
     "marked": true
    }
   },
   "outputs": [],
   "source": [
    "uniformlow = 0\n",
    "uniformhigh = 1.0\n",
    "\n",
    "normalloc = 0.2\n",
    "normalscale = 0.1\n",
    "\n",
    "doublePeakHighMean = 0.9\n",
    "doublePeakLowMean = 0.1\n",
    "doublePeakStd = 0.04\n",
    "\n",
    "beta_a = 0.3\n",
    "beta_b = 0.2\n",
    "\n",
    "d_1 = D.uniform.Uniform(uniformlow, uniformhigh)\n",
    "distributionRatio_1 = d_1.cdf(1) - d_1.cdf(0)\n",
    "distributionBase_1 = d_1.cdf(0)\n",
    "\n",
    "d_2 = D.normal.Normal(normalloc, normalscale)\n",
    "distributionRatio_2 = d_2.cdf(1) - d_2.cdf(0)\n",
    "distributionBase_2 = d_2.cdf(0)\n",
    "\n",
    "d_3 = D.normal.Normal(doublePeakLowMean, doublePeakStd)\n",
    "d_4 = D.normal.Normal(doublePeakHighMean, doublePeakStd)\n",
    "distributionRatio_3 = (d_3.cdf(1) + d_4.cdf(1) - d_3.cdf(0) - d_4.cdf(0)) / 2\n",
    "distributionBase_3 = d_3.cdf(0) + d_4.cdf(0)\n",
    "\n",
    "# d_5 = D.beta.Beta(beta_a,beta_b)\n",
    "\n",
    "# d10 = D.beta.Beta(0.5,0.5)\n",
    "\n",
    "\n",
    "def cdf(x, y, i=None):\n",
    "    if (y == \"uniform\"):\n",
    "        return (d_1.cdf(x) - distributionBase_1) / distributionRatio_1\n",
    "    elif (y == \"normal\"):\n",
    "        return (d_2.cdf(x) - distributionBase_2) / distributionRatio_2\n",
    "    elif (y == \"twopeak\"):\n",
    "        return (d_3.cdf(x) + d_4.cdf(x) -\n",
    "                distributionBase_3) / 2 / distributionRatio_3\n",
    "\n",
    "\n",
    "def pdf(x, y, i=None):\n",
    "    x= x.cpu().type(torch.float32)\n",
    "    if (y == \"uniform\"):\n",
    "        return torch.pow(torch.tensor(10.0), d_1.log_prob(x)).to(dev)\n",
    "    elif (y == \"normal\"):\n",
    "        return torch.pow(torch.tensor(10.0), d_2.log_prob(x)).to(dev)\n",
    "    elif (y == \"twopeak\"):\n",
    "        return (torch.pow(torch.tensor(10.0), d_3.log_prob(x)) +\n",
    "                torch.pow(torch.tensor(10.0), d_4.log_prob(x))).to(dev) / 2 \n",
    "    \n",
    "def Generate_distribution(Agent_number_n):\n",
    "    return np.random.rand(Agent_number_n)\n",
    "    #return np.random.normal(normalloc,normalscale,Agent_number_n)\n"
   ]
  },
  {
   "cell_type": "code",
   "execution_count": 4,
   "metadata": {
    "ExecuteTime": {
     "end_time": "2021-06-18T06:04:29.718425Z",
     "start_time": "2021-06-18T06:04:28.567565Z"
    },
    "run_control": {
     "marked": false
    }
   },
   "outputs": [
    {
     "name": "stdout",
     "output_type": "stream",
     "text": [
      "tensor(10., device='cuda:0')\n",
      "tensor([1.], device='cuda:0')\n",
      "tensor([24.1906], device='cuda:0')\n"
     ]
    }
   ],
   "source": [
    "print(torch.tensor(10.0).to(dev))\n",
    "print(pdf(torch.ones(1)*0.2,\"uniform\"))\n",
    "print(pdf(torch.ones(1)*0.2,\"normal\"))\n"
   ]
  },
  {
   "cell_type": "code",
   "execution_count": 5,
   "metadata": {
    "ExecuteTime": {
     "end_time": "2021-06-18T06:04:29.975343Z",
     "start_time": "2021-06-18T06:04:29.718425Z"
    }
   },
   "outputs": [
    {
     "name": "stdout",
     "output_type": "stream",
     "text": [
      "[[[0.36469867 0.2049129  0.57950574]\n",
      "  [0.45650224 0.2049129  0.57950574]\n",
      "  [0.45650224 0.36469867 0.57950574]\n",
      "  [0.45650224 0.36469867 0.2049129 ]]\n",
      "\n",
      " [[0.85240839 0.98676577 0.30542832]\n",
      "  [0.42579471 0.98676577 0.30542832]\n",
      "  [0.42579471 0.85240839 0.30542832]\n",
      "  [0.42579471 0.85240839 0.98676577]]\n",
      "\n",
      " [[0.7936709  0.8786191  0.16183037]\n",
      "  [0.11431136 0.8786191  0.16183037]\n",
      "  [0.11431136 0.7936709  0.16183037]\n",
      "  [0.11431136 0.7936709  0.8786191 ]]\n",
      "\n",
      " ...\n",
      "\n",
      " [[0.04484199 0.58933746 0.89273272]\n",
      "  [0.50690905 0.58933746 0.89273272]\n",
      "  [0.50690905 0.04484199 0.89273272]\n",
      "  [0.50690905 0.04484199 0.58933746]]\n",
      "\n",
      " [[0.82462328 0.98712163 0.7683385 ]\n",
      "  [0.61275134 0.98712163 0.7683385 ]\n",
      "  [0.61275134 0.82462328 0.7683385 ]\n",
      "  [0.61275134 0.82462328 0.98712163]]\n",
      "\n",
      " [[0.83376086 0.27526578 0.3755042 ]\n",
      "  [0.67405926 0.27526578 0.3755042 ]\n",
      "  [0.67405926 0.83376086 0.3755042 ]\n",
      "  [0.67405926 0.83376086 0.27526578]]]\n",
      "[1.60561955 2.5703972  1.94843172 ... 2.03382122 3.19283475 2.15859009]\n"
     ]
    }
   ],
   "source": [
    "def h_3_star(a, b, t):\n",
    "    return a - min(a, t) + b - min(b, t) + max(min(a, t)+min(b, t), 2*t/3) + 1/2 * max(min(a, t)+min(b, t), t) - 1/2 * max(max(min(a, t), min(b, t)), 2*t/3) - t/6\n",
    "\n",
    "\n",
    "def f_function(a, b, z):\n",
    "    if(z >= 1):\n",
    "        return (a+b)/2 + z/3\n",
    "    else:\n",
    "        return z/3 + h_3_star(a, b, 1-z)/2\n",
    "\n",
    "def h_function_label(input_list):\n",
    "    #input_list = sorted(input_list)\n",
    "    g_list = []\n",
    "    for j1 in range(len(input_list) ):\n",
    "        for j2 in range(len(input_list)):\n",
    "            if(j1 != j2):\n",
    "                a = input_list[j1]\n",
    "                b = input_list[j2]\n",
    "                z = sum(input_list)- a-b\n",
    "\n",
    "                g_list.append( f_function(a, b, z) * (Agent_number_n-1))\n",
    "    h = sum(g_list) * 3 /  (Agent_number_n) /  (Agent_number_n-1) /  (Agent_number_n - 2)\n",
    "    return h\n",
    "\n",
    "def appen(_x_list,y):\n",
    "    global temp_list\n",
    "    temp_list.append(_x_list)\n",
    "    \n",
    "def appen_train(x_list):\n",
    "    global temp_list\n",
    "                \n",
    "    S= max(sum(x_list),1.0);\n",
    "    temp_list = []\n",
    "    h_list = []\n",
    "    for i in range(Agent_number_n):\n",
    "        temp = []\n",
    "        for j in range(Agent_number_n):\n",
    "            if(i!=j):\n",
    "                temp.append(x_list[j])\n",
    "        appen(temp,S)\n",
    "        \n",
    "        h = h_function_label(temp)\n",
    "        h_list.append(float(h))\n",
    "    temp_list = np.array(temp_list)\n",
    "    x_list = np.array(x_list)\n",
    "    return temp_list,S,x_list,h_list\n",
    "    \n",
    "\n",
    "def appen_test(x_list):\n",
    "    global temp_list\n",
    "                \n",
    "    S= max(sum(x_list),1.0);\n",
    "    temp_list = []\n",
    "    \n",
    "    for i in range(Agent_number_n):\n",
    "        temp = []\n",
    "        for j in range(Agent_number_n):\n",
    "            if(i!=j):\n",
    "                temp.append(x_list[j])\n",
    "        appen(temp,S)\n",
    "    testing_data.append(temp_list)\n",
    "    testing_label.append(S)\n",
    "    temp_list = np.array(temp_list)\n",
    "    return temp_list,S\n",
    "    \n",
    "\n",
    "def read_testing_data():\n",
    "    for i in range(10000):\n",
    "        appen_test(Generate_distribution(Agent_number_n));\n",
    "                            \n",
    "\n",
    "testing_data=[]\n",
    "testing_label=[]\n",
    "S=1.0\n",
    "read_testing_data();\n",
    "\n",
    "testing_data=np.array(testing_data)\n",
    "testing_label=np.array(testing_label)\n",
    "print(testing_data)\n",
    "print(testing_label)"
   ]
  },
  {
   "cell_type": "code",
   "execution_count": 6,
   "metadata": {
    "ExecuteTime": {
     "end_time": "2021-06-18T06:04:32.481209Z",
     "start_time": "2021-06-18T06:04:29.976342Z"
    }
   },
   "outputs": [
    {
     "name": "stdout",
     "output_type": "stream",
     "text": [
      "3.371942748507054 2.9999999999999996 0.37194274850705433 3.121373949358076\n"
     ]
    }
   ],
   "source": [
    "def h_3_star(a, b, t):\n",
    "    return a - min(a, t) + b - min(b, t) + max(min(a, t)+min(b, t), 2*t/3) + 1/2 * max(min(a, t)+min(b, t), t) - 1/2 * max(max(min(a, t), min(b, t)), 2*t/3) - t/6\n",
    "\n",
    "\n",
    "def f_function(a, b, z):\n",
    "    if(z >= 1):\n",
    "        return (a+b)/2 + z/3\n",
    "    else:\n",
    "        return z/3 + h_3_star(a, b, 1-z)/2\n",
    "\n",
    "def h_function(input_list):\n",
    "    #input_list = sorted(input_list)\n",
    "    g_list = []\n",
    "    for j1 in range(len(input_list) ):\n",
    "        for j2 in range(len(input_list)):\n",
    "            if(j1 != j2):\n",
    "                a = input_list[j1]\n",
    "                b = input_list[j2]\n",
    "                z = sum(input_list)- a-b\n",
    "\n",
    "                g_list.append( f_function(a, b, z) * (Agent_number_n-1))\n",
    "    h = sum(g_list) * 3 /  (Agent_number_n) /  (Agent_number_n-1) /  (Agent_number_n - 2)\n",
    "    return h\n",
    "                \n",
    "                \n",
    "x_list = []\n",
    "y_list = []\n",
    "z_list = []\n",
    "result_list = []\n",
    "for index in range(len(testing_data)):\n",
    "    h_list = []\n",
    "    for i in range(Agent_number_n):\n",
    "        x_list.append(testing_data[index][i][0])\n",
    "        y_list.append(testing_data[index][i][1])\n",
    "        h = h_function(testing_data[index][i])\n",
    "        z_list.append(float(h))\n",
    "        h_list.append(float(h))\n",
    "    result_list.append(sum(h_list)/testing_label[index]) \n",
    "    \n",
    "    \n",
    "print(max(result_list), min(result_list), max(result_list)-min(result_list),sum(result_list)/len(result_list))"
   ]
  },
  {
   "cell_type": "code",
   "execution_count": 7,
   "metadata": {
    "ExecuteTime": {
     "end_time": "2021-06-18T06:04:33.451483Z",
     "start_time": "2021-06-18T06:04:32.481209Z"
    }
   },
   "outputs": [
    {
     "data": {
      "image/png": "[encoded data removed]",
      "text/plain": [
       "<Figure size 432x288 with 1 Axes>"
      ]
     },
     "metadata": {
      "needs_background": "light"
     },
     "output_type": "display_data"
    }
   ],
   "source": [
    "plt.hist(result_list,bins=500)\n",
    "\n",
    "plt.title(\"Means\", y=1.015, fontsize=20)\n",
    "plt.axvline(x=sum(result_list)/len(result_list), linestyle='--', linewidth=2.5, label=\"sample mean\", c='orange')\n",
    "plt.xlabel(\"samples\", labelpad=14)\n",
    "plt.ylabel(\"frequency of occurence\", labelpad=14)\n",
    "plt.legend();\n",
    "\n",
    "result_list.sort()\n",
    "\n",
    "plt.axvline(x=result_list[int(len(result_list)*0.01)], linestyle='--', linewidth=0.5, label=\"1%\", c='b')\n",
    "plt.axvline(x=result_list[int(len(result_list)*0.99)], linestyle='--', linewidth=0.5, label=\"99%\", c='r')\n",
    "\n",
    "\n",
    "plt.show()"
   ]
  },
  {
   "cell_type": "code",
   "execution_count": 8,
   "metadata": {
    "ExecuteTime": {
     "end_time": "2021-06-18T06:04:33.480906Z",
     "start_time": "2021-06-18T06:04:33.451483Z"
    }
   },
   "outputs": [
    {
     "name": "stdout",
     "output_type": "stream",
     "text": [
      "tensor([0.7755], device='cuda:0', grad_fn=<SortBackward>)\n"
     ]
    }
   ],
   "source": [
    "tensor_sample_list,indices = torch.sort(torch.rand(devided_number,requires_grad=True).to(dev))  # random ideas\\n\n",
    "print(tensor_sample_list)"
   ]
  },
  {
   "cell_type": "code",
   "execution_count": 9,
   "metadata": {
    "ExecuteTime": {
     "end_time": "2021-06-18T06:04:33.494337Z",
     "start_time": "2021-06-18T06:04:33.480906Z"
    },
    "run_control": {
     "marked": true
    }
   },
   "outputs": [
    {
     "name": "stdout",
     "output_type": "stream",
     "text": [
      "tensor([0.7755], device='cuda:0', grad_fn=<DivBackward0>)\n",
      "tensor([1.], device='cuda:0', grad_fn=<DivBackward0>)\n"
     ]
    }
   ],
   "source": [
    "print(cdf(tensor_sample_list,Prior_Distribution))\n",
    "print(cdf(tensor_sample_list,\"normal\"))"
   ]
  },
  {
   "cell_type": "code",
   "execution_count": 10,
   "metadata": {
    "ExecuteTime": {
     "end_time": "2021-06-18T06:04:33.517446Z",
     "start_time": "2021-06-18T06:04:33.494337Z"
    },
    "run_control": {
     "marked": true
    }
   },
   "outputs": [],
   "source": [
    "def weight_init(m):\n",
    "    if isinstance(m, torch.nn.Conv2d):\n",
    "        torch.nn.init.xavier_normal_(m.weight)\n",
    "        torch.nn.init.zeros_(m.bias)\n",
    "    elif isinstance(m, torch.nn.Linear):\n",
    "        torch.nn.init.xavier_normal_(m.weight)\n",
    "        torch.nn.init.normal_(m.bias, mean=0.0, std=0.01)\n",
    "\n",
    "\n",
    "\n",
    "def redistribution_value_function(input_tensor):\n",
    "    S = torch.max(torch.sum(input_tensor), torch.ones(1).to(dev))\n",
    "    temp_list = []\n",
    "\n",
    "    for i in range(Agent_number_n):\n",
    "        temp = []\n",
    "\n",
    "        for j in range(Agent_number_n):\n",
    "            if(i != j):\n",
    "                temp .append(input_tensor[j])\n",
    "\n",
    "        temp = torch.stack(temp)\n",
    "        temp_list.append(temp)\n",
    "    return torch.stack(temp_list), S\n",
    "\n",
    "\n",
    "class Net(torch.nn.Module):\n",
    "    def __init__(self):\n",
    "\n",
    "        super(Net, self).__init__()\n",
    "\n",
    "        self.input_dim = (Agent_number_n-1)\n",
    "        self.hidden_dim = 128\n",
    "        self.output_dim = 1\n",
    "        self.hidden_layer_count = 6\n",
    "\n",
    "        current_dim = self.input_dim\n",
    "        self.layers = torch.nn.ModuleList()\n",
    "        for i in range(self.hidden_layer_count):\n",
    "            self.layers.append(torch.nn.Linear(current_dim, self.hidden_dim))\n",
    "            current_dim = self.hidden_dim\n",
    "        self.layers.append(torch.nn.Linear(current_dim, self.output_dim))\n",
    "\n",
    "    def calculate(self, value_list):\n",
    "        h = value_list\n",
    "        for layer in self.layers:\n",
    "            h = torch.relu(layer(h))\n",
    "        return h\n",
    "\n",
    "    def forward(self, input_list, input_label, input_data):\n",
    "        global iteration, echo, target_order\n",
    "        loss1 = 0\n",
    "        loss2 = 0\n",
    "        input_list = torch.from_numpy(\n",
    "            np.array(input_list)).to(dev).type(torch.float32)\n",
    "\n",
    "        input_data = torch.from_numpy(\n",
    "            np.array(input_data)).to(dev).type(torch.float32)\n",
    "        \n",
    "        input_label = torch.from_numpy(\n",
    "            np.array(input_label)).to(dev).type(torch.float32)\n",
    "        \n",
    "        \n",
    "        random_index = random.randint(0, Agent_number_n-1)\n",
    "        tensor_sample_list,indices = torch.sort(torch.rand(devided_number,requires_grad=True).to(dev))\n",
    "     \n",
    "        tensor_sample = torch.rand(devided_number,requires_grad=True)[0].to(dev)\n",
    "    \n",
    "        input_data_temp = input_data.detach().clone()\n",
    "        \n",
    "        input_data_temp[random_index] = tensor_sample\n",
    "\n",
    "        value_list_tensor, S_tensor = redistribution_value_function(\n",
    "            input_data_temp)\n",
    "       \n",
    "        h_list = []\n",
    "        for i in range(Agent_number_n):\n",
    "            h = self.calculate(\n",
    "                value_list_tensor[i].to(dev).type(torch.float32))\n",
    "            h_list.append(h)\n",
    "            \n",
    "        S_tensor = S_tensor.detach().to(dev).type(torch.float32)\n",
    "        \n",
    "        sum_h = torch.sum(torch.cat(h_list)).to(dev)\n",
    "        \n",
    "        temp_loss1 = torch.where((Agent_number_n-1)*S_tensor > sum_h,\n",
    "                 torch.square(((Agent_number_n-1)*S_tensor - sum_h)),\n",
    "                 torch.zeros(1).to(dev)\n",
    "              )\n",
    "\n",
    "        temp_loss2 = torch.where((Agent_number_n-Alpha)*S_tensor < sum_h,\n",
    "                    torch.square((sum_h-(Agent_number_n-Alpha)*S_tensor))/10000,\n",
    "                    torch.zeros(1).to(dev)\n",
    "                  )\n",
    "\n",
    "\n",
    "        loss1 = temp_loss1 * pdf(tensor_sample, Prior_Distribution)\n",
    "        loss2 = temp_loss2 * pdf(tensor_sample, Prior_Distribution)\n",
    "                \n",
    "        return loss1, loss2\n",
    "    def supervised_loss(self, input_list,label):\n",
    "        global iteration,echo,target_order\n",
    "        input_list = torch.from_numpy(\n",
    "            np.array(input_list)).to(dev).type(torch.float32)\n",
    "        loss = 0 \n",
    "        for i in range(Agent_number_n):\n",
    "            h = self.calculate(input_list[i])\n",
    "            loss += torch.square(h - label[i])\n",
    "        return loss"
   ]
  },
  {
   "cell_type": "code",
   "execution_count": 11,
   "metadata": {
    "ExecuteTime": {
     "end_time": "2021-06-18T06:04:33.539248Z",
     "start_time": "2021-06-18T06:04:33.517446Z"
    }
   },
   "outputs": [],
   "source": [
    "random.seed(200)\n",
    "torch.manual_seed(256)\n",
    "net  = Net()\n",
    "net.apply(weight_init)\n",
    "#net = torch.load(\"save/Deep_learning_F_uniform_4_1\")\n",
    "net.to(dev)\n",
    "\n",
    "optimizer = opt.Adam(net.parameters(), lr=LR)\n",
    "\n",
    "\n",
    "scheduler = torch.optim.lr_scheduler.StepLR(optimizer, step_size=100, gamma=0.99)\n",
    "index_train_list = []\n",
    "index_test_list = []\n",
    "train_losses = []\n",
    "test_losses = []"
   ]
  },
  {
   "cell_type": "code",
   "execution_count": 12,
   "metadata": {
    "ExecuteTime": {
     "end_time": "2021-06-18T06:15:53.670252Z",
     "start_time": "2021-06-18T06:04:33.539248Z"
    }
   },
   "outputs": [
    {
     "name": "stdout",
     "output_type": "stream",
     "text": [
      "0 tensor(11.0499, device='cuda:0', grad_fn=<DivBackward0>) 707.19580078125\n",
      "50 tensor(0.0824, device='cuda:0', grad_fn=<DivBackward0>) 5.275620937347412\n",
      "100 tensor(0.0078, device='cuda:0', grad_fn=<DivBackward0>) 0.49669772386550903\n",
      "150 tensor(0.0035, device='cuda:0', grad_fn=<DivBackward0>) 0.22094902396202087\n",
      "200 tensor(0.0019, device='cuda:0', grad_fn=<DivBackward0>) 0.12222380191087723\n",
      "250 tensor(0.0009, device='cuda:0', grad_fn=<DivBackward0>) 0.054695747792720795\n",
      "300 tensor(0.0006, device='cuda:0', grad_fn=<DivBackward0>) 0.040436871349811554\n",
      "350 tensor(0.0004, device='cuda:0', grad_fn=<DivBackward0>) 0.024174993857741356\n",
      "400 tensor(0.0003, device='cuda:0', grad_fn=<DivBackward0>) 0.01817418821156025\n",
      "450 tensor(0.0003, device='cuda:0', grad_fn=<DivBackward0>) 0.01719209924340248\n",
      "500 tensor(0.0002, device='cuda:0', grad_fn=<DivBackward0>) 0.015706831589341164\n",
      "550 tensor(0.0002, device='cuda:0', grad_fn=<DivBackward0>) 0.014531854540109634\n",
      "600 tensor(0.0001, device='cuda:0', grad_fn=<DivBackward0>) 0.009529015980660915\n",
      "650 tensor(0.0001, device='cuda:0', grad_fn=<DivBackward0>) 0.00894945114850998\n",
      "700 tensor(8.4410e-05, device='cuda:0', grad_fn=<DivBackward0>) 0.005402217619121075\n",
      "750 tensor(9.2264e-05, device='cuda:0', grad_fn=<DivBackward0>) 0.005904903635382652\n",
      "800 tensor(9.5962e-05, device='cuda:0', grad_fn=<DivBackward0>) 0.006141583900898695\n",
      "850 tensor(9.8420e-05, device='cuda:0', grad_fn=<DivBackward0>) 0.006298889871686697\n",
      "900 tensor(8.0524e-05, device='cuda:0', grad_fn=<DivBackward0>) 0.005153559613972902\n",
      "950 tensor(8.9342e-05, device='cuda:0', grad_fn=<DivBackward0>) 0.0057178642600774765\n",
      "1000 tensor(7.1314e-05, device='cuda:0', grad_fn=<DivBackward0>) 0.004564102739095688\n",
      "1050 tensor(8.0053e-05, device='cuda:0', grad_fn=<DivBackward0>) 0.005123366601765156\n",
      "1100 tensor(9.3672e-05, device='cuda:0', grad_fn=<DivBackward0>) 0.005995017942041159\n",
      "1150 tensor(6.6189e-05, device='cuda:0', grad_fn=<DivBackward0>) 0.004236103966832161\n",
      "1200 tensor(5.9396e-05, device='cuda:0', grad_fn=<DivBackward0>) 0.0038013462908566\n",
      "1250 tensor(7.1850e-05, device='cuda:0', grad_fn=<DivBackward0>) 0.004598397761583328\n",
      "1300 tensor(5.6117e-05, device='cuda:0', grad_fn=<DivBackward0>) 0.0035914608743041754\n",
      "1350 tensor(4.2541e-05, device='cuda:0', grad_fn=<DivBackward0>) 0.0027226367965340614\n",
      "1400 tensor(5.0231e-05, device='cuda:0', grad_fn=<DivBackward0>) 0.0032148053869605064\n",
      "1450 tensor(5.3229e-05, device='cuda:0', grad_fn=<DivBackward0>) 0.0034066764637827873\n",
      "1500 tensor(4.5814e-05, device='cuda:0', grad_fn=<DivBackward0>) 0.002932088216766715\n",
      "1550 tensor(5.9887e-05, device='cuda:0', grad_fn=<DivBackward0>) 0.0038327674847096205\n",
      "1600 tensor(5.6583e-05, device='cuda:0', grad_fn=<DivBackward0>) 0.0036212950944900513\n",
      "1650 tensor(5.7925e-05, device='cuda:0', grad_fn=<DivBackward0>) 0.0037071730475872755\n",
      "1700 tensor(5.5633e-05, device='cuda:0', grad_fn=<DivBackward0>) 0.0035605081357061863\n",
      "1750 tensor(4.3736e-05, device='cuda:0', grad_fn=<DivBackward0>) 0.002799105830490589\n",
      "1800 tensor(5.1597e-05, device='cuda:0', grad_fn=<DivBackward0>) 0.0033021816052496433\n",
      "1850 tensor(4.7893e-05, device='cuda:0', grad_fn=<DivBackward0>) 0.003065132535994053\n",
      "1900 tensor(4.6020e-05, device='cuda:0', grad_fn=<DivBackward0>) 0.002945251762866974\n",
      "1950 tensor(3.6282e-05, device='cuda:0', grad_fn=<DivBackward0>) 0.0023220477160066366\n",
      "2000 tensor(4.5764e-05, device='cuda:0', grad_fn=<DivBackward0>) 0.00292886421084404\n"
     ]
    }
   ],
   "source": [
    "#supervised\n",
    "index_supervisedtrain_list = []\n",
    "supervisedtrain_losses = []\n",
    "for iteration in range(echo):\n",
    "\n",
    "    temp_number = 0\n",
    "    total_batch_loss = 0 \n",
    "    \n",
    "    loss_sum = 0\n",
    "    denominator = 0\n",
    "    for index in range(0, BATCH_SIZE):\n",
    "        training_data_i, training_S, training_data,label = appen_train(\n",
    "            Generate_distribution(Agent_number_n))\n",
    "        h_loss = net.supervised_loss(training_data_i, label)\n",
    "        denominator += 1\n",
    "        loss_sum += h_loss\n",
    "\n",
    "    loss_sum = torch.sum(loss_sum)\n",
    "    loss = (loss_sum) / denominator \n",
    "    total_batch_loss += float(loss_sum)\n",
    "\n",
    "    optimizer.zero_grad()\n",
    "    loss.backward()\n",
    "    optimizer.step()\n",
    "\n",
    "    if (iteration%50 == 0):\n",
    "        print(iteration,loss,total_batch_loss)\n",
    "        index_supervisedtrain_list.append(iteration)\n",
    "        supervisedtrain_losses.append(total_batch_loss)\n",
    "    scheduler.step()"
   ]
  },
  {
   "cell_type": "code",
   "execution_count": 13,
   "metadata": {
    "ExecuteTime": {
     "end_time": "2021-06-18T06:56:35.668684Z",
     "start_time": "2021-06-18T06:15:53.670252Z"
    }
   },
   "outputs": [
    {
     "name": "stdout",
     "output_type": "stream",
     "text": [
      "0 tensor(9.3016e-06, device='cuda:0', grad_fn=<DivBackward0>) 6.7176779339206405e-06 0.0005885857390239835\n",
      "batch iteration 0\n",
      "batch_loss: 0.0006 \n",
      "3.3750213384628296 2.9889151453971863 0.3861061930656433 0.14787859117749935\n",
      "\n",
      "50 tensor(7.9843e-06, device='cuda:0', grad_fn=<DivBackward0>) 0.0 0.0005109976045787334\n",
      "batch iteration 50\n",
      "batch_loss: 0.0005 \n",
      "3.4165746569633484 2.992687117674499 0.42388753928884926 0.1312593908473052\n",
      "\n",
      "100 tensor(6.2570e-06, device='cuda:0', grad_fn=<DivBackward0>) 0.0 0.00040044818888418376\n",
      "batch iteration 100\n",
      "batch_loss: 0.0004 \n",
      "3.4532653093338013 2.991339620806277 0.46192568852752425 0.12099733605428797\n",
      "\n",
      "150 tensor(7.0397e-06, device='cuda:0', grad_fn=<DivBackward0>) 4.2900341213680804e-05 0.0004076386394444853\n",
      "batch iteration 150\n",
      "batch_loss: 0.0005 \n",
      "3.429269790649414 2.9834957621530123 0.4457740284964018 0.13105262233875692\n",
      "\n",
      "200 tensor(6.7373e-06, device='cuda:0', grad_fn=<DivBackward0>) 0.0 0.000431188935181126\n",
      "batch iteration 200\n",
      "batch_loss: 0.0004 \n",
      "3.4682201147079468 3.001527978098175 0.4666921366097716 0.11376098210764596\n",
      "\n",
      "250 tensor(5.2377e-06, device='cuda:0', grad_fn=<DivBackward0>) 0.0 0.00033521000295877457\n",
      "batch iteration 250\n",
      "batch_loss: 0.0003 \n",
      "3.4932907819747925 2.993941359301873 0.4993494226729194 0.1194078970009409\n",
      "\n",
      "300 tensor(1.1208e-05, device='cuda:0', grad_fn=<DivBackward0>) 0.0 0.000717307033482939\n",
      "batch iteration 300\n",
      "batch_loss: 0.0007 \n",
      "3.5030763745307922 3.0270899581906274 0.4759864163401648 0.11162543874146102\n",
      "\n",
      "350 tensor(6.1078e-06, device='cuda:0', grad_fn=<DivBackward0>) 0.0 0.00039090163772925735\n",
      "batch iteration 350\n",
      "batch_loss: 0.0004 \n",
      "3.4734817147254944 2.998132889466349 0.47534882525914535 0.11533884499847291\n",
      "\n",
      "400 tensor(6.4759e-06, device='cuda:0', grad_fn=<DivBackward0>) 0.0 0.00041445778333581984\n",
      "batch iteration 400\n",
      "batch_loss: 0.0004 \n",
      "3.4882662892341614 2.9902018480710497 0.49806444116311166 0.1196000357481184\n",
      "\n",
      "450 tensor(6.4564e-06, device='cuda:0', grad_fn=<DivBackward0>) 0.0 0.0004132070462219417\n",
      "batch iteration 450\n",
      "batch_loss: 0.0004 \n",
      "3.5084651708602905 2.999569331970106 0.5088958388901847 0.10550251441180158\n",
      "\n",
      "500 tensor(5.3668e-06, device='cuda:0', grad_fn=<DivBackward0>) 0.0 0.00034347749897278845\n",
      "batch iteration 500\n",
      "batch_loss: 0.0003 \n",
      "3.53142774105072 3.000948018935811 0.5304797221149093 0.10594294421443617\n",
      "\n",
      "550 tensor(1.1910e-05, device='cuda:0', grad_fn=<DivBackward0>) 0.0 0.0007622202974744141\n",
      "batch iteration 550\n",
      "batch_loss: 0.0008 \n",
      "3.597340941429138 3.052404995676454 0.5449359457526843 0.11728331319272556\n",
      "\n",
      "600 tensor(7.8186e-06, device='cuda:0', grad_fn=<DivBackward0>) 0.0 0.0005003929254598916\n",
      "batch iteration 600\n",
      "batch_loss: 0.0005 \n",
      "3.4874989986419678 2.9837215309323133 0.5037774677096545 0.12913929158808823\n",
      "\n",
      "650 tensor(5.7904e-06, device='cuda:0', grad_fn=<DivBackward0>) 1.7194091924466193e-05 0.00035339154419489205\n",
      "batch iteration 650\n",
      "batch_loss: 0.0004 \n",
      "3.531352400779724 2.994122309048682 0.537230091731042 0.11066257407742386\n",
      "\n",
      "700 tensor(5.3815e-06, device='cuda:0', grad_fn=<DivBackward0>) 5.034380592405796e-07 0.00034390983637422323\n",
      "batch iteration 700\n",
      "batch_loss: 0.0003 \n",
      "3.527214825153351 2.986347347814208 0.5408674773391429 0.11561997587823747\n",
      "\n",
      "750 tensor(5.3463e-06, device='cuda:0', grad_fn=<DivBackward0>) 0.0 0.00034216034691780806\n",
      "batch iteration 750\n",
      "batch_loss: 0.0003 \n",
      "3.6045602560043335 2.989544543014671 0.6150157129896625 0.12423849952643717\n",
      "\n",
      "800 tensor(5.0921e-06, device='cuda:0', grad_fn=<DivBackward0>) 0.0 0.0003258931974414736\n",
      "batch iteration 800\n",
      "batch_loss: 0.0003 \n",
      "3.542370915412903 2.9954058086675497 0.5469651067453531 0.1069955477785447\n",
      "\n",
      "850 tensor(4.6627e-06, device='cuda:0', grad_fn=<DivBackward0>) 0.0 0.0002984101010952145\n",
      "batch iteration 850\n",
      "batch_loss: 0.0003 \n",
      "3.5576124787330627 2.9910876503051296 0.5665248284279332 0.10940821900459552\n",
      "\n",
      "900 tensor(3.4665e-06, device='cuda:0', grad_fn=<DivBackward0>) 2.9059776807116577e-06 0.00021894864039495587\n",
      "batch iteration 900\n",
      "batch_loss: 0.0002 \n",
      "3.5779460668563843 2.990217512663279 0.5877285541931054 0.10742020537472685\n",
      "\n",
      "950 tensor(5.2169e-06, device='cuda:0', grad_fn=<DivBackward0>) 0.0 0.000333884556312114\n",
      "batch iteration 950\n",
      "batch_loss: 0.0003 \n",
      "3.560623049736023 2.9938162398791412 0.5668068098568817 0.10505321499168652\n",
      "\n",
      "1000 tensor(5.2145e-06, device='cuda:0', grad_fn=<DivBackward0>) 0.0 0.00033372867619618773\n",
      "batch iteration 1000\n",
      "batch_loss: 0.0003 \n",
      "3.563320517539978 2.9921307164656223 0.5711898010743557 0.10031374405471993\n",
      "\n",
      "1050 tensor(5.0792e-06, device='cuda:0', grad_fn=<DivBackward0>) 0.0 0.0003250718000344932\n",
      "batch iteration 1050\n",
      "batch_loss: 0.0003 \n",
      "3.6479102969169617 3.0095525314342093 0.6383577654827524 0.09734964706588833\n",
      "\n",
      "1100 tensor(4.8923e-06, device='cuda:0', grad_fn=<DivBackward0>) 0.00012493740359786898 0.00018817020463757217\n",
      "batch iteration 1100\n",
      "batch_loss: 0.0003 \n",
      "3.581835448741913 2.996399820943297 0.5854356277986157 0.09312809560137802\n",
      "\n",
      "1150 tensor(3.8604e-06, device='cuda:0', grad_fn=<DivBackward0>) 0.0 0.0002470624167472124\n",
      "batch iteration 1150\n",
      "batch_loss: 0.0002 \n",
      "3.602414071559906 2.9978117984002277 0.6046022731596783 0.10526187821285449\n",
      "\n",
      "1200 tensor(5.8376e-06, device='cuda:0', grad_fn=<DivBackward0>) 0.00014749047113582492 0.00022611612803302705\n",
      "batch iteration 1200\n",
      "batch_loss: 0.0004 \n",
      "3.584116816520691 2.9937444487614973 0.5903723677591937 0.09914436589779418\n",
      "\n",
      "1250 tensor(3.9374e-06, device='cuda:0', grad_fn=<DivBackward0>) 0.0 0.00025199129595421255\n",
      "batch iteration 1250\n",
      "batch_loss: 0.0003 \n",
      "3.6456645727157593 3.0004808684191193 0.64518370429664 0.0963070317069743\n",
      "\n",
      "1300 tensor(2.9957e-06, device='cuda:0', grad_fn=<DivBackward0>) 0.0 0.00019172434986103326\n",
      "batch iteration 1300\n",
      "batch_loss: 0.0002 \n",
      "3.6022545099258423 2.9901508107174397 0.6121036992084026 0.09917826970713861\n",
      "\n",
      "1350 tensor(3.1090e-06, device='cuda:0', grad_fn=<DivBackward0>) 0.0 0.00019897540914826095\n",
      "batch iteration 1350\n",
      "batch_loss: 0.0002 \n",
      "3.5942779779434204 3.0080828790445917 0.5861950988988287 0.08299704331830693\n",
      "\n",
      "1400 tensor(2.8314e-06, device='cuda:0', grad_fn=<DivBackward0>) 0.0 0.0001812102273106575\n",
      "batch iteration 1400\n",
      "batch_loss: 0.0002 \n",
      "3.5666035413742065 2.994214952737089 0.5723885886371174 0.09351607938321527\n",
      "\n",
      "1450 tensor(2.8685e-06, device='cuda:0', grad_fn=<DivBackward0>) 0.0 0.00018358709348831326\n",
      "batch iteration 1450\n",
      "batch_loss: 0.0002 \n",
      "3.5662882924079895 2.9909918308258057 0.5752964615821838 0.09542926568367793\n",
      "\n",
      "1500 tensor(3.0081e-06, device='cuda:0', grad_fn=<DivBackward0>) 1.0668941285985056e-07 0.0001924148527905345\n",
      "batch iteration 1500\n",
      "batch_loss: 0.0002 \n",
      "3.565625250339508 2.9913261559320676 0.5742990944074404 0.0899141326729418\n",
      "\n",
      "1550 tensor(2.9061e-06, device='cuda:0', grad_fn=<DivBackward0>) 0.0 0.00018599261238705367\n",
      "batch iteration 1550\n",
      "batch_loss: 0.0002 \n",
      "3.5785880088806152 2.988739311695099 0.5898486971855164 0.0969132552495715\n",
      "\n",
      "1600 tensor(2.9523e-06, device='cuda:0', grad_fn=<DivBackward0>) 9.34818308451213e-06 0.0001795981515897438\n",
      "batch iteration 1600\n",
      "batch_loss: 0.0002 \n",
      "3.580947995185852 2.991619732328459 0.5893282628573933 0.08599280526988773\n",
      "\n",
      "1650 tensor(3.1740e-06, device='cuda:0', grad_fn=<DivBackward0>) 5.015451824874617e-05 0.00015298205835279077\n",
      "batch iteration 1650\n",
      "batch_loss: 0.0002 \n",
      "3.6220957040786743 2.9923715290678223 0.629724175010852 0.0954355403684839\n",
      "\n",
      "1700 tensor(2.5538e-06, device='cuda:0', grad_fn=<DivBackward0>) 0.0 0.00016344181494787335\n",
      "batch iteration 1700\n",
      "batch_loss: 0.0002 \n",
      "3.567989230155945 2.9930396132992017 0.5749496168567432 0.07894746151605991\n",
      "\n",
      "1750 tensor(3.8085e-06, device='cuda:0', grad_fn=<DivBackward0>) 0.0 0.00024374651547987014\n",
      "batch iteration 1750\n",
      "batch_loss: 0.0002 \n",
      "3.6432263255119324 3.0147531152474536 0.6284732102644788 0.07880409930136079\n",
      "\n",
      "1800 tensor(3.3399e-06, device='cuda:0', grad_fn=<DivBackward0>) 0.0 0.00021375197684392333\n",
      "batch iteration 1800\n",
      "batch_loss: 0.0002 \n",
      "3.6486726999282837 2.9953621807291557 0.653310519199128 0.09813188871366973\n",
      "\n",
      "1850 tensor(1.8566e-06, device='cuda:0', grad_fn=<DivBackward0>) 0.0 0.00011882535181939602\n",
      "batch iteration 1850\n",
      "batch_loss: 0.0001 \n",
      "3.590629994869232 2.9964794265447914 0.5941505683244408 0.0746318619415618\n",
      "\n",
      "1900 tensor(4.1289e-06, device='cuda:0', grad_fn=<DivBackward0>) 2.4373312044190243e-05 0.0002398741926299408\n",
      "batch iteration 1900\n",
      "batch_loss: 0.0003 \n"
     ]
    },
    {
     "name": "stdout",
     "output_type": "stream",
     "text": [
      "3.537889301776886 2.983232021331787 0.5546572804450989 0.12461954429273003\n",
      "\n",
      "1950 tensor(2.5223e-06, device='cuda:0', grad_fn=<DivBackward0>) 0.0 0.00016142628737725317\n",
      "batch iteration 1950\n",
      "batch_loss: 0.0002 \n",
      "3.560626447200775 3.0043637758591015 0.5562626713416736 0.07015240567061554\n",
      "\n",
      "2000 tensor(2.3338e-06, device='cuda:0', grad_fn=<DivBackward0>) 0.0 0.00014936158549971879\n",
      "batch iteration 2000\n",
      "batch_loss: 0.0001 \n",
      "3.5841293334960938 3.0021750696152223 0.5819542638808715 0.07094217331327002\n",
      "\n"
     ]
    }
   ],
   "source": [
    "for iteration in range(int(echo)):\n",
    "    \n",
    "    temp_number = 0\n",
    "    total_batch_loss = 0 \n",
    "        \n",
    "    loss2_list = []\n",
    "    loss1_sum = 0\n",
    "    loss2_sum = 0\n",
    "    denominator = 0\n",
    "    for index in range(0, BATCH_SIZE):\n",
    "        training_data_i, training_label, training_data,label = appen_train(\n",
    "            Generate_distribution(Agent_number_n))\n",
    "        h_loss1, h_loss2 = net(training_data_i, training_label,\n",
    "                                       training_data)\n",
    "        denominator += 1\n",
    "        loss1_sum += h_loss1\n",
    "        loss2_sum += h_loss2\n",
    "\n",
    "    loss_sum = torch.sum(loss1_sum + loss2_sum)\n",
    "    loss = (loss_sum) / denominator \n",
    "    total_batch_loss +=float(loss_sum)\n",
    "    optimizer.zero_grad()\n",
    "\n",
    "    loss.backward()\n",
    "\n",
    "    optimizer.step()\n",
    "\n",
    "    temp_number = iteration\n",
    "    index_train_list.append(iteration)\n",
    "    train_losses.append(total_batch_loss)\n",
    "    if (iteration%50 == 0):\n",
    "        print(temp_number, loss, float(loss1_sum), float(loss2_sum))\n",
    "\n",
    "        print(\"batch iteration\", iteration)\n",
    "        print(\"batch_loss: %.4f \" % total_batch_loss)\n",
    "\n",
    "        result_list = []\n",
    "        for index in range(len(testing_data)):\n",
    "            h_list = []\n",
    "            for i in range(Agent_number_n):\n",
    "                h = net.calculate(\n",
    "                    torch.tensor(testing_data[index][i]).to(dev).type(\n",
    "                        torch.float32))\n",
    "                h_list.append(float(h))\n",
    "            result_list.append(sum(h_list) / testing_label[index])\n",
    "        print(max(result_list), min(result_list),\n",
    "              max(result_list) - min(result_list),\n",
    "              (sum(result_list) / len(result_list) - min(result_list))+ Agent_number_n-1 - min(min(result_list),Agent_number_n-1) )\n",
    "\n",
    "        index_test_list.append(iteration)\n",
    "        test_losses.append(\n",
    "            (sum(result_list) / len(result_list) - min(result_list))+ Agent_number_n-1 - min(min(result_list),Agent_number_n-1) )\n",
    "        print()\n",
    "        \n",
    "    scheduler.step()\n"
   ]
  },
  {
   "cell_type": "code",
   "execution_count": 14,
   "metadata": {
    "ExecuteTime": {
     "end_time": "2021-06-18T06:56:35.811247Z",
     "start_time": "2021-06-18T06:56:35.670002Z"
    }
   },
   "outputs": [
    {
     "data": {
      "image/png": "[encoded data removed]",
      "text/plain": [
       "<Figure size 432x288 with 1 Axes>"
      ]
     },
     "metadata": {
      "needs_background": "light"
     },
     "output_type": "display_data"
    }
   ],
   "source": [
    "plt.ylim(0, 1.0)\n",
    "plt.plot(index_test_list,test_losses)\n",
    "plt.ylabel('Testing Loss')\n",
    "plt.xlabel('Batch Epoch')\n",
    "plt.show()\n",
    "\n"
   ]
  },
  {
   "cell_type": "code",
   "execution_count": 15,
   "metadata": {
    "ExecuteTime": {
     "end_time": "2021-06-18T06:56:36.501347Z",
     "start_time": "2021-06-18T06:56:35.811247Z"
    }
   },
   "outputs": [
    {
     "ename": "FileNotFoundError",
     "evalue": "[Errno 2] No such file or directory: 'save/test_loss_unfeed_uniform_4.csv'",
     "output_type": "error",
     "traceback": [
      "\u001b[1;31m---------------------------------------------------------------------------\u001b[0m",
      "\u001b[1;31mFileNotFoundError\u001b[0m                         Traceback (most recent call last)",
      "\u001b[1;32m<ipython-input-15-4ee1a1f36147>\u001b[0m in \u001b[0;36m<module>\u001b[1;34m\u001b[0m\n\u001b[0;32m      5\u001b[0m     \u001b[0mspamwriter\u001b[0m\u001b[1;33m.\u001b[0m\u001b[0mwriterow\u001b[0m\u001b[1;33m(\u001b[0m\u001b[0mtest_losses\u001b[0m\u001b[1;33m)\u001b[0m\u001b[1;33m\u001b[0m\u001b[1;33m\u001b[0m\u001b[0m\n\u001b[0;32m      6\u001b[0m \u001b[1;33m\u001b[0m\u001b[0m\n\u001b[1;32m----> 7\u001b[1;33m \u001b[1;32mwith\u001b[0m \u001b[0mopen\u001b[0m\u001b[1;33m(\u001b[0m\u001b[1;34m'save/test_loss_unfeed_uniform_4.csv'\u001b[0m\u001b[1;33m)\u001b[0m \u001b[1;32mas\u001b[0m \u001b[0mcsvfile_unfeed\u001b[0m\u001b[1;33m:\u001b[0m\u001b[1;33m\u001b[0m\u001b[1;33m\u001b[0m\u001b[0m\n\u001b[0m\u001b[0;32m      8\u001b[0m     \u001b[0mreader\u001b[0m \u001b[1;33m=\u001b[0m \u001b[0mcsv\u001b[0m\u001b[1;33m.\u001b[0m\u001b[0mreader\u001b[0m\u001b[1;33m(\u001b[0m\u001b[0mcsvfile_unfeed\u001b[0m\u001b[1;33m)\u001b[0m\u001b[1;33m\u001b[0m\u001b[1;33m\u001b[0m\u001b[0m\n\u001b[0;32m      9\u001b[0m     \u001b[0mlist_feed\u001b[0m \u001b[1;33m=\u001b[0m \u001b[1;33m[\u001b[0m\u001b[1;33m]\u001b[0m\u001b[1;33m\u001b[0m\u001b[1;33m\u001b[0m\u001b[0m\n",
      "\u001b[1;31mFileNotFoundError\u001b[0m: [Errno 2] No such file or directory: 'save/test_loss_unfeed_uniform_4.csv'"
     ]
    }
   ],
   "source": [
    "import csv\n",
    "with open('save/test_loss_feed_uniform_4.csv', 'w', newline='') as csvfile_feed:\n",
    "    spamwriter = csv.writer(csvfile_feed)\n",
    "    spamwriter.writerow(index_test_list)\n",
    "    spamwriter.writerow(test_losses)\n",
    "\n",
    "with open('save/test_loss_unfeed_uniform_4.csv') as csvfile_unfeed:\n",
    "    reader = csv.reader(csvfile_unfeed)\n",
    "    list_feed = []\n",
    "    for row in reader:\n",
    "        row = np.array(row)\n",
    "        temp_list = []\n",
    "        for i in range(len(row)):\n",
    "            temp_list.append(float(row[i]))\n",
    "\n",
    "        list_feed.append(temp_list)\n",
    "    plt.ylim(0, 1.0)\n",
    "    plt.plot(list_feed[0],list_feed[1],label='neural network')\n",
    "    plt.plot(index_test_list,test_losses,label='feed distribution')\n",
    "    plt.ylabel('Testing Loss')\n",
    "    plt.xlabel('Batch Epoch')\n",
    "    #plt.title('Two or more lines on same plot with suitable legends ')\n",
    "    # show a legend on the plot\n",
    "    plt.legend()\n",
    "    plt.show()"
   ]
  },
  {
   "cell_type": "code",
   "execution_count": 16,
   "metadata": {
    "ExecuteTime": {
     "end_time": "2021-06-18T08:18:51.357604Z",
     "start_time": "2021-06-18T08:18:51.240268Z"
    }
   },
   "outputs": [
    {
     "data": {
      "image/png": "[encoded data removed]",
      "text/plain": [
       "<Figure size 432x288 with 1 Axes>"
      ]
     },
     "metadata": {
      "needs_background": "light"
     },
     "output_type": "display_data"
    }
   ],
   "source": [
    "plt.ylim(0, 1.0)\n",
    "\n",
    "plt.plot(index_train_list,train_losses)\n",
    "plt.ylabel('training loss')\n",
    "\n",
    "plt.plot(index_test_list,test_losses)\n",
    "plt.ylabel('training loss')\n",
    "\n",
    "plt.show()"
   ]
  },
  {
   "cell_type": "code",
   "execution_count": 17,
   "metadata": {
    "ExecuteTime": {
     "end_time": "2021-06-18T08:18:51.782716Z",
     "start_time": "2021-06-18T08:18:51.768754Z"
    }
   },
   "outputs": [],
   "source": [
    "torch.save(net, \"save/Deep_learning_F_uniform_4_1\")"
   ]
  },
  {
   "cell_type": "code",
   "execution_count": 18,
   "metadata": {
    "ExecuteTime": {
     "end_time": "2021-06-18T08:19:19.333819Z",
     "start_time": "2021-06-18T08:18:53.118740Z"
    }
   },
   "outputs": [
    {
     "name": "stdout",
     "output_type": "stream",
     "text": [
      "3.5841293334960938 3.0021750696152223 0.5819542638808715 0.07094217331326957\n"
     ]
    }
   ],
   "source": [
    "denominator = 0\n",
    "result_list = []\n",
    "for index in range(len(testing_data)):\n",
    "    h_list = []\n",
    "    for i in range(Agent_number_n):\n",
    "        h = net.calculate(torch.tensor(testing_data[index][i]).cuda().type(torch.float32))\n",
    "        h_list.append(float(h))\n",
    "    \n",
    "    #print(sum(h_list),h_list,sum(h_list)/testing_label[index])\n",
    "    result_list.append(sum(h_list)/testing_label[index])\n",
    "    \n",
    "\n",
    "print(max(result_list),min(result_list),max(result_list)-min(result_list),sum(result_list)/len(result_list)-min(result_list))"
   ]
  },
  {
   "cell_type": "code",
   "execution_count": 19,
   "metadata": {
    "ExecuteTime": {
     "end_time": "2021-06-18T08:19:21.373728Z",
     "start_time": "2021-06-18T08:19:20.486496Z"
    }
   },
   "outputs": [
    {
     "data": {
      "image/png": "[encoded data removed]",
      "text/plain": [
       "<Figure size 432x288 with 1 Axes>"
      ]
     },
     "metadata": {
      "needs_background": "light"
     },
     "output_type": "display_data"
    }
   ],
   "source": [
    "plt.hist(result_list,bins=500)\n",
    "\n",
    "plt.title(\"Means\", y=1.015, fontsize=20)\n",
    "plt.axvline(x=sum(result_list)/len(result_list), linestyle='--', linewidth=2.5, label=\"sample mean\", c='orange')\n",
    "plt.xlabel(\"samples\", labelpad=14)\n",
    "plt.ylabel(\"frequency of occurence\", labelpad=14)\n",
    "plt.legend();\n",
    "\n",
    "result_list.sort()\n",
    "\n",
    "plt.axvline(x=result_list[int(len(result_list)*0.01)], linestyle='--', linewidth=0.5, label=\"1%\", c='b')\n",
    "plt.axvline(x=result_list[int(len(result_list)*0.99)], linestyle='--', linewidth=0.5, label=\"99%\", c='r')\n",
    "\n",
    "\n",
    "plt.show()"
   ]
  },
  {
   "cell_type": "code",
   "execution_count": null,
   "metadata": {},
   "outputs": [],
   "source": []
  },
  {
   "cell_type": "code",
   "execution_count": null,
   "metadata": {},
   "outputs": [],
   "source": []
  }
 ],
 "metadata": {
  "hide_input": false,
  "kernelspec": {
   "display_name": "Python 3",
   "language": "python",
   "name": "python3"
  },
  "language_info": {
   "codemirror_mode": {
    "name": "ipython",
    "version": 3
   },
   "file_extension": ".py",
   "mimetype": "text/x-python",
   "name": "python",
   "nbconvert_exporter": "python",
   "pygments_lexer": "ipython3",
   "version": "3.8.3"
  },
  "varInspector": {
   "cols": {
    "lenName": 16,
    "lenType": 16,
    "lenVar": 40
   },
   "kernels_config": {
    "python": {
     "delete_cmd_postfix": "",
     "delete_cmd_prefix": "del ",
     "library": "var_list.py",
     "varRefreshCmd": "print(var_dic_list())"
    },
    "r": {
     "delete_cmd_postfix": ") ",
     "delete_cmd_prefix": "rm(",
     "library": "var_list.r",
     "varRefreshCmd": "cat(var_dic_list()) "
    }
   },
   "types_to_exclude": [
    "module",
    "function",
    "builtin_function_or_method",
    "instance",
    "_Feature"
   ],
   "window_display": false
  }
 },
 "nbformat": 4,
 "nbformat_minor": 4
}
