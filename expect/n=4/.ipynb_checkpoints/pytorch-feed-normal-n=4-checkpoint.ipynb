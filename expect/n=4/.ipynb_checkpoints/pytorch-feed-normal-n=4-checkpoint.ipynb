{
 "cells": [
  {
   "cell_type": "code",
   "execution_count": 1,
   "metadata": {
    "ExecuteTime": {
     "end_time": "2021-06-18T06:04:18.155921Z",
     "start_time": "2021-06-18T06:04:16.239686Z"
    }
   },
   "outputs": [
    {
     "name": "stdout",
     "output_type": "stream",
     "text": [
      "pygame 2.0.1 (SDL 2.0.14, Python 3.8.3)\n",
      "Hello from the pygame community. https://www.pygame.org/contribute.html\n"
     ]
    },
    {
     "name": "stderr",
     "output_type": "stream",
     "text": [
      "D:\\ComputerSoftwares\\Anaconda\\lib\\site-packages\\sklearn\\utils\\deprecation.py:143: FutureWarning: The sklearn.datasets.samples_generator module is  deprecated in version 0.22 and will be removed in version 0.24. The corresponding classes / functions should instead be imported from sklearn.datasets. Anything that cannot be imported from sklearn.datasets is now part of the private API.\n",
      "  warnings.warn(message, FutureWarning)\n"
     ]
    },
    {
     "name": "stdout",
     "output_type": "stream",
     "text": [
      "cuda:0\n"
     ]
    }
   ],
   "source": [
    "\n",
    "import pygame\n",
    "import random\n",
    "import os\n",
    "import time\n",
    "import numpy as np\n",
    "import math\n",
    "import torch\n",
    "import torch.nn.functional\n",
    "import matplotlib.pyplot as plt\n",
    "import torch.optim as opt\n",
    "from torch.autograd import Variable\n",
    "from sklearn.model_selection import train_test_split\n",
    "\n",
    "import scipy.stats as st\n",
    "from sklearn.datasets.samples_generator import make_blobs\n",
    "from matplotlib.colors import LogNorm \n",
    "import matplotlib.cm as cm\n",
    "import torch.nn as nn\n",
    "import numpy as np\n",
    "import matplotlib.pyplot as plt\n",
    "import plotly.graph_objects as go\n",
    "import plotly.express as px\n",
    "from scipy.interpolate import griddata\n",
    "import torch.nn.functional as F\n",
    "import torch.distributions as D\n",
    "if torch.cuda.is_available():  \n",
    "    dev = \"cuda:0\" \n",
    "else:  \n",
    "    dev = \"cpu\"  \n",
    "\n",
    "print(dev)\n",
    "\n"
   ]
  },
  {
   "cell_type": "code",
   "execution_count": 2,
   "metadata": {
    "ExecuteTime": {
     "end_time": "2021-06-18T06:04:18.171302Z",
     "start_time": "2021-06-18T06:04:18.158885Z"
    },
    "run_control": {
     "marked": true
    }
   },
   "outputs": [],
   "source": [
    "global temp_list\n",
    "temp_list = []\n",
    "Agent_number_n=4;\n",
    "Alpha = 1.0;\n",
    "\n",
    "echo = 2001\n",
    "BATCH_SIZE = 64\n",
    "LR = 0.001           # learning rate for generator\n",
    "devided_number = 1\n",
    "\n",
    "uniformlow = 0\n",
    "uniformhigh = 1.0\n",
    "\n",
    "normalloc = 0.5\n",
    "normalscale = 0.1\n",
    "\n",
    "doublePeakHighMean = 0.9\n",
    "doublePeakLowMean = 0.1\n",
    "doublePeakStd = 0.04\n",
    "\n",
    "beta_a = 0.3\n",
    "beta_b = 0.2\n",
    "\n",
    "def Generate_distribution(Agent_number_n):\n",
    "    #return sorted(np.random.rand(Agent_number_n), reverse=True)\n",
    "    return sorted(np.random.normal(normalloc,normalscale,Agent_number_n), reverse=True)\n",
    "Prior_Distribution = \"normal\""
   ]
  },
  {
   "cell_type": "code",
   "execution_count": null,
   "metadata": {},
   "outputs": [],
   "source": []
  },
  {
   "cell_type": "code",
   "execution_count": 3,
   "metadata": {
    "ExecuteTime": {
     "end_time": "2021-06-18T06:04:18.202726Z",
     "start_time": "2021-06-18T06:04:18.173815Z"
    },
    "run_control": {
     "marked": true
    }
   },
   "outputs": [],
   "source": [
    "d_1 = D.uniform.Uniform(uniformlow, uniformhigh)\n",
    "distributionRatio_1 = d_1.cdf(1) - d_1.cdf(0)\n",
    "distributionBase_1 = d_1.cdf(0)\n",
    "\n",
    "d_2 = D.normal.Normal(normalloc, normalscale)\n",
    "distributionRatio_2 = d_2.cdf(1) - d_2.cdf(0)\n",
    "distributionBase_2 = d_2.cdf(0)\n",
    "\n",
    "d_3 = D.normal.Normal(doublePeakLowMean, doublePeakStd)\n",
    "d_4 = D.normal.Normal(doublePeakHighMean, doublePeakStd)\n",
    "distributionRatio_3 = (d_3.cdf(1) + d_4.cdf(1) - d_3.cdf(0) - d_4.cdf(0)) / 2\n",
    "distributionBase_3 = d_3.cdf(0) + d_4.cdf(0)\n",
    "\n",
    "# d_5 = D.beta.Beta(beta_a,beta_b)\n",
    "\n",
    "# d10 = D.beta.Beta(0.5,0.5)\n",
    "\n",
    "\n",
    "def cdf(x, y, i=None):\n",
    "    if (y == \"uniform\"):\n",
    "        return (d_1.cdf(x) - distributionBase_1) / distributionRatio_1\n",
    "    elif (y == \"normal\"):\n",
    "        return (d_2.cdf(x) - distributionBase_2) / distributionRatio_2\n",
    "    elif (y == \"twopeak\"):\n",
    "        return (d_3.cdf(x) + d_4.cdf(x) -\n",
    "                distributionBase_3) / 2 / distributionRatio_3\n",
    "\n",
    "\n",
    "def pdf(x, y, i=None):\n",
    "    x= x.cpu().type(torch.float32)\n",
    "    if (y == \"uniform\"):\n",
    "        return torch.pow(torch.tensor(10.0), d_1.log_prob(x)).to(dev)\n",
    "    elif (y == \"normal\"):\n",
    "        return torch.pow(torch.tensor(10.0), d_2.log_prob(x)).to(dev)\n",
    "    elif (y == \"twopeak\"):\n",
    "        return (torch.pow(torch.tensor(10.0), d_3.log_prob(x)) +\n",
    "                torch.pow(torch.tensor(10.0), d_4.log_prob(x))).to(dev) / 2 \n",
    "    \n",
    "def Generate_distribution(Agent_number_n):\n",
    "    return np.random.rand(Agent_number_n)\n",
    "    #return np.random.normal(normalloc,normalscale,Agent_number_n)\n"
   ]
  },
  {
   "cell_type": "code",
   "execution_count": 4,
   "metadata": {
    "ExecuteTime": {
     "end_time": "2021-06-18T06:04:19.535865Z",
     "start_time": "2021-06-18T06:04:18.203724Z"
    },
    "run_control": {
     "marked": false
    }
   },
   "outputs": [
    {
     "name": "stdout",
     "output_type": "stream",
     "text": [
      "tensor(10., device='cuda:0')\n",
      "tensor([1.], device='cuda:0')\n",
      "tensor([0.0008], device='cuda:0')\n"
     ]
    }
   ],
   "source": [
    "print(torch.tensor(10.0).to(dev))\n",
    "print(pdf(torch.ones(1)*0.2,\"uniform\"))\n",
    "print(pdf(torch.ones(1)*0.2,\"normal\"))\n"
   ]
  },
  {
   "cell_type": "code",
   "execution_count": 5,
   "metadata": {
    "ExecuteTime": {
     "end_time": "2021-06-18T06:04:19.818708Z",
     "start_time": "2021-06-18T06:04:19.537859Z"
    }
   },
   "outputs": [
    {
     "name": "stdout",
     "output_type": "stream",
     "text": [
      "[[[0.91040883 0.79970543 0.09310638]\n",
      "  [0.92558437 0.79970543 0.09310638]\n",
      "  [0.92558437 0.91040883 0.09310638]\n",
      "  [0.92558437 0.91040883 0.79970543]]\n",
      "\n",
      " [[0.56017797 0.98067481 0.59259828]\n",
      "  [0.81666256 0.98067481 0.59259828]\n",
      "  [0.81666256 0.56017797 0.59259828]\n",
      "  [0.81666256 0.56017797 0.98067481]]\n",
      "\n",
      " [[0.64644746 0.74170564 0.43723541]\n",
      "  [0.00916048 0.74170564 0.43723541]\n",
      "  [0.00916048 0.64644746 0.43723541]\n",
      "  [0.00916048 0.64644746 0.74170564]]\n",
      "\n",
      " ...\n",
      "\n",
      " [[0.69768323 0.98346944 0.58175433]\n",
      "  [0.32136945 0.98346944 0.58175433]\n",
      "  [0.32136945 0.69768323 0.58175433]\n",
      "  [0.32136945 0.69768323 0.98346944]]\n",
      "\n",
      " [[0.23726845 0.57416913 0.4886639 ]\n",
      "  [0.4712868  0.57416913 0.4886639 ]\n",
      "  [0.4712868  0.23726845 0.4886639 ]\n",
      "  [0.4712868  0.23726845 0.57416913]]\n",
      "\n",
      " [[0.49967027 0.7668078  0.57761806]\n",
      "  [0.6865814  0.7668078  0.57761806]\n",
      "  [0.6865814  0.49967027 0.57761806]\n",
      "  [0.6865814  0.49967027 0.7668078 ]]]\n",
      "[2.72880502 2.95011361 1.83454898 ... 2.58427644 1.77138829 2.53067753]\n"
     ]
    }
   ],
   "source": [
    "def h_3_star(a, b, t):\n",
    "    return a - min(a, t) + b - min(b, t) + max(min(a, t)+min(b, t), 2*t/3) + 1/2 * max(min(a, t)+min(b, t), t) - 1/2 * max(max(min(a, t), min(b, t)), 2*t/3) - t/6\n",
    "\n",
    "\n",
    "def f_function(a, b, z):\n",
    "    if(z >= 1):\n",
    "        return (a+b)/2 + z/3\n",
    "    else:\n",
    "        return z/3 + h_3_star(a, b, 1-z)/2\n",
    "\n",
    "def h_function_label(input_list):\n",
    "    #input_list = sorted(input_list)\n",
    "    g_list = []\n",
    "    for j1 in range(len(input_list) ):\n",
    "        for j2 in range(len(input_list)):\n",
    "            if(j1 != j2):\n",
    "                a = input_list[j1]\n",
    "                b = input_list[j2]\n",
    "                z = sum(input_list)- a-b\n",
    "\n",
    "                g_list.append( f_function(a, b, z) * (Agent_number_n-1))\n",
    "    h = sum(g_list) * 3 /  (Agent_number_n) /  (Agent_number_n-1) /  (Agent_number_n - 2)\n",
    "    return h\n",
    "\n",
    "def appen(_x_list,y):\n",
    "    global temp_list\n",
    "    temp_list.append(_x_list)\n",
    "    \n",
    "def appen_train(x_list):\n",
    "    global temp_list\n",
    "                \n",
    "    S= max(sum(x_list),1.0);\n",
    "    temp_list = []\n",
    "    h_list = []\n",
    "    for i in range(Agent_number_n):\n",
    "        temp = []\n",
    "        for j in range(Agent_number_n):\n",
    "            if(i!=j):\n",
    "                temp.append(x_list[j])\n",
    "        appen(temp,S)\n",
    "        \n",
    "        h = h_function_label(temp)\n",
    "        h_list.append(float(h))\n",
    "    temp_list = np.array(temp_list)\n",
    "    x_list = np.array(x_list)\n",
    "    return temp_list,S,x_list,h_list\n",
    "    \n",
    "\n",
    "def appen_test(x_list):\n",
    "    global temp_list\n",
    "                \n",
    "    S= max(sum(x_list),1.0);\n",
    "    temp_list = []\n",
    "    \n",
    "    for i in range(Agent_number_n):\n",
    "        temp = []\n",
    "        for j in range(Agent_number_n):\n",
    "            if(i!=j):\n",
    "                temp.append(x_list[j])\n",
    "        appen(temp,S)\n",
    "    testing_data.append(temp_list)\n",
    "    testing_label.append(S)\n",
    "    temp_list = np.array(temp_list)\n",
    "    return temp_list,S\n",
    "    \n",
    "\n",
    "def read_testing_data():\n",
    "    for i in range(10000):\n",
    "        appen_test(Generate_distribution(Agent_number_n));\n",
    "                            \n",
    "\n",
    "testing_data=[]\n",
    "testing_label=[]\n",
    "S=1.0\n",
    "read_testing_data();\n",
    "\n",
    "testing_data=np.array(testing_data)\n",
    "testing_label=np.array(testing_label)\n",
    "print(testing_data)\n",
    "print(testing_label)"
   ]
  },
  {
   "cell_type": "code",
   "execution_count": 6,
   "metadata": {
    "ExecuteTime": {
     "end_time": "2021-06-18T06:04:22.477375Z",
     "start_time": "2021-06-18T06:04:19.820635Z"
    }
   },
   "outputs": [
    {
     "name": "stdout",
     "output_type": "stream",
     "text": [
      "3.3638382849102073 2.999999999999999 0.3638382849102082 3.122675282558712\n"
     ]
    }
   ],
   "source": [
    "def h_3_star(a, b, t):\n",
    "    return a - min(a, t) + b - min(b, t) + max(min(a, t)+min(b, t), 2*t/3) + 1/2 * max(min(a, t)+min(b, t), t) - 1/2 * max(max(min(a, t), min(b, t)), 2*t/3) - t/6\n",
    "\n",
    "\n",
    "def f_function(a, b, z):\n",
    "    if(z >= 1):\n",
    "        return (a+b)/2 + z/3\n",
    "    else:\n",
    "        return z/3 + h_3_star(a, b, 1-z)/2\n",
    "\n",
    "def h_function(input_list):\n",
    "    #input_list = sorted(input_list)\n",
    "    g_list = []\n",
    "    for j1 in range(len(input_list) ):\n",
    "        for j2 in range(len(input_list)):\n",
    "            if(j1 != j2):\n",
    "                a = input_list[j1]\n",
    "                b = input_list[j2]\n",
    "                z = sum(input_list)- a-b\n",
    "\n",
    "                g_list.append( f_function(a, b, z) * (Agent_number_n-1))\n",
    "    h = sum(g_list) * 3 /  (Agent_number_n) /  (Agent_number_n-1) /  (Agent_number_n - 2)\n",
    "    return h\n",
    "                \n",
    "                \n",
    "x_list = []\n",
    "y_list = []\n",
    "z_list = []\n",
    "result_list = []\n",
    "for index in range(len(testing_data)):\n",
    "    h_list = []\n",
    "    for i in range(Agent_number_n):\n",
    "        x_list.append(testing_data[index][i][0])\n",
    "        y_list.append(testing_data[index][i][1])\n",
    "        h = h_function(testing_data[index][i])\n",
    "        z_list.append(float(h))\n",
    "        h_list.append(float(h))\n",
    "    result_list.append(sum(h_list)/testing_label[index]) \n",
    "    \n",
    "    \n",
    "print(max(result_list), min(result_list), max(result_list)-min(result_list),sum(result_list)/len(result_list))"
   ]
  },
  {
   "cell_type": "code",
   "execution_count": 7,
   "metadata": {
    "ExecuteTime": {
     "end_time": "2021-06-18T06:04:23.472812Z",
     "start_time": "2021-06-18T06:04:22.479368Z"
    }
   },
   "outputs": [
    {
     "data": {
      "image/png": "[encoded data removed]",
      "text/plain": [
       "<Figure size 432x288 with 1 Axes>"
      ]
     },
     "metadata": {
      "needs_background": "light"
     },
     "output_type": "display_data"
    }
   ],
   "source": [
    "plt.hist(result_list,bins=500)\n",
    "\n",
    "plt.title(\"Means\", y=1.015, fontsize=20)\n",
    "plt.axvline(x=sum(result_list)/len(result_list), linestyle='--', linewidth=2.5, label=\"sample mean\", c='orange')\n",
    "plt.xlabel(\"samples\", labelpad=14)\n",
    "plt.ylabel(\"frequency of occurence\", labelpad=14)\n",
    "plt.legend();\n",
    "\n",
    "result_list.sort()\n",
    "\n",
    "plt.axvline(x=result_list[int(len(result_list)*0.01)], linestyle='--', linewidth=0.5, label=\"1%\", c='b')\n",
    "plt.axvline(x=result_list[int(len(result_list)*0.99)], linestyle='--', linewidth=0.5, label=\"99%\", c='r')\n",
    "\n",
    "\n",
    "plt.show()"
   ]
  },
  {
   "cell_type": "code",
   "execution_count": 8,
   "metadata": {
    "ExecuteTime": {
     "end_time": "2021-06-18T06:04:23.501906Z",
     "start_time": "2021-06-18T06:04:23.474387Z"
    }
   },
   "outputs": [
    {
     "name": "stdout",
     "output_type": "stream",
     "text": [
      "tensor([0.1388], device='cuda:0', grad_fn=<SortBackward>)\n"
     ]
    }
   ],
   "source": [
    "tensor_sample_list,indices = torch.sort(torch.rand(devided_number,requires_grad=True).to(dev))  # random ideas\\n\n",
    "print(tensor_sample_list)"
   ]
  },
  {
   "cell_type": "code",
   "execution_count": 9,
   "metadata": {
    "ExecuteTime": {
     "end_time": "2021-06-18T06:04:23.517560Z",
     "start_time": "2021-06-18T06:04:23.501906Z"
    },
    "run_control": {
     "marked": true
    }
   },
   "outputs": [
    {
     "name": "stdout",
     "output_type": "stream",
     "text": [
      "tensor([0.0002], device='cuda:0', grad_fn=<DivBackward0>)\n",
      "tensor([0.0002], device='cuda:0', grad_fn=<DivBackward0>)\n"
     ]
    }
   ],
   "source": [
    "print(cdf(tensor_sample_list,Prior_Distribution))\n",
    "print(cdf(tensor_sample_list,\"normal\"))"
   ]
  },
  {
   "cell_type": "code",
   "execution_count": 10,
   "metadata": {
    "ExecuteTime": {
     "end_time": "2021-06-18T06:04:23.548736Z",
     "start_time": "2021-06-18T06:04:23.517560Z"
    },
    "run_control": {
     "marked": true
    }
   },
   "outputs": [],
   "source": [
    "def weight_init(m):\n",
    "    if isinstance(m, torch.nn.Conv2d):\n",
    "        torch.nn.init.xavier_normal_(m.weight)\n",
    "        torch.nn.init.zeros_(m.bias)\n",
    "    elif isinstance(m, torch.nn.Linear):\n",
    "        torch.nn.init.xavier_normal_(m.weight)\n",
    "        torch.nn.init.normal_(m.bias, mean=0.0, std=0.01)\n",
    "\n",
    "\n",
    "\n",
    "def redistribution_value_function(input_tensor):\n",
    "    S = torch.max(torch.sum(input_tensor), torch.ones(1).to(dev))\n",
    "    temp_list = []\n",
    "\n",
    "    for i in range(Agent_number_n):\n",
    "        temp = []\n",
    "\n",
    "        for j in range(Agent_number_n):\n",
    "            if(i != j):\n",
    "                temp .append(input_tensor[j])\n",
    "\n",
    "        temp = torch.stack(temp)\n",
    "        temp_list.append(temp)\n",
    "    return torch.stack(temp_list), S\n",
    "\n",
    "\n",
    "class Net(torch.nn.Module):\n",
    "    def __init__(self):\n",
    "\n",
    "        super(Net, self).__init__()\n",
    "\n",
    "        self.input_dim = (Agent_number_n-1)\n",
    "        self.hidden_dim = 128\n",
    "        self.output_dim = 1\n",
    "        self.hidden_layer_count = 6\n",
    "\n",
    "        current_dim = self.input_dim\n",
    "        self.layers = torch.nn.ModuleList()\n",
    "        for i in range(self.hidden_layer_count):\n",
    "            self.layers.append(torch.nn.Linear(current_dim, self.hidden_dim))\n",
    "            current_dim = self.hidden_dim\n",
    "        self.layers.append(torch.nn.Linear(current_dim, self.output_dim))\n",
    "\n",
    "    def calculate(self, value_list):\n",
    "        h = value_list\n",
    "        for layer in self.layers:\n",
    "            h = torch.relu(layer(h))\n",
    "        return h\n",
    "\n",
    "    def forward(self, input_list, input_label, input_data):\n",
    "        global iteration, echo, target_order\n",
    "        loss1 = 0\n",
    "        loss2 = 0\n",
    "        input_list = torch.from_numpy(\n",
    "            np.array(input_list)).to(dev).type(torch.float32)\n",
    "\n",
    "        input_data = torch.from_numpy(\n",
    "            np.array(input_data)).to(dev).type(torch.float32)\n",
    "        \n",
    "        input_label = torch.from_numpy(\n",
    "            np.array(input_label)).to(dev).type(torch.float32)\n",
    "        \n",
    "        \n",
    "        random_index = random.randint(0, Agent_number_n-1)\n",
    "        tensor_sample_list,indices = torch.sort(torch.rand(devided_number,requires_grad=True).to(dev))\n",
    "     \n",
    "        tensor_sample = torch.rand(devided_number,requires_grad=True)[0].to(dev)\n",
    "    \n",
    "        input_data_temp = input_data.detach().clone()\n",
    "        \n",
    "        input_data_temp[random_index] = tensor_sample\n",
    "\n",
    "        value_list_tensor, S_tensor = redistribution_value_function(\n",
    "            input_data_temp)\n",
    "       \n",
    "        h_list = []\n",
    "        for i in range(Agent_number_n):\n",
    "            h = self.calculate(\n",
    "                value_list_tensor[i].to(dev).type(torch.float32))\n",
    "            h_list.append(h)\n",
    "            \n",
    "        S_tensor = S_tensor.detach().to(dev).type(torch.float32)\n",
    "        \n",
    "        sum_h = torch.sum(torch.cat(h_list)).to(dev)\n",
    "        \n",
    "        temp_loss1 = torch.where((Agent_number_n-1)*S_tensor > sum_h,\n",
    "                 torch.square(((Agent_number_n-1)*S_tensor - sum_h)),\n",
    "                 torch.zeros(1).to(dev)\n",
    "              )\n",
    "\n",
    "        temp_loss2 = torch.where((Agent_number_n-Alpha)*S_tensor < sum_h,\n",
    "                    torch.square((sum_h-(Agent_number_n-Alpha)*S_tensor))/10000,\n",
    "                    torch.zeros(1).to(dev)\n",
    "                  )\n",
    "\n",
    "\n",
    "        loss1 = temp_loss1 * pdf(tensor_sample, Prior_Distribution)\n",
    "        loss2 = temp_loss2 * pdf(tensor_sample, Prior_Distribution)\n",
    "                \n",
    "        return loss1, loss2\n",
    "    \n",
    "    def supervised_loss(self, input_list,label):\n",
    "        global iteration,echo,target_order\n",
    "        input_list = torch.from_numpy(\n",
    "            np.array(input_list)).to(dev).type(torch.float32)\n",
    "        loss = 0 \n",
    "        for i in range(Agent_number_n):\n",
    "            h = self.calculate(input_list[i])\n",
    "            loss += torch.square(h - label[i])\n",
    "        return loss"
   ]
  },
  {
   "cell_type": "code",
   "execution_count": 11,
   "metadata": {
    "ExecuteTime": {
     "end_time": "2021-06-18T06:04:23.563992Z",
     "start_time": "2021-06-18T06:04:23.550028Z"
    }
   },
   "outputs": [],
   "source": [
    "random.seed(200)\n",
    "torch.manual_seed(256)\n",
    "net  = Net()\n",
    "net.apply(weight_init)\n",
    "#net = torch.load(\"save/Deep_learning_F_normal_5_1\")\n",
    "net.to(dev)\n",
    "\n",
    "#optimizer = opt.RMSprop(net.parameters(), lr=0.00001)\n",
    "#optimizer = opt.SGD(net.parameters(), lr=0.00005)\n",
    "optimizer = opt.Adam(net.parameters(), lr=LR)\n",
    "#optimizer = opt.Adadelta(net.parameters(), lr=1.0)\n",
    "\n",
    "scheduler = torch.optim.lr_scheduler.StepLR(optimizer, step_size=100, gamma=0.95)\n",
    "index_train_list = []\n",
    "index_test_list = []\n",
    "train_losses = []\n",
    "test_losses = []"
   ]
  },
  {
   "cell_type": "code",
   "execution_count": 12,
   "metadata": {
    "ExecuteTime": {
     "end_time": "2021-06-18T06:15:45.552063Z",
     "start_time": "2021-06-18T06:04:23.564988Z"
    }
   },
   "outputs": [
    {
     "name": "stdout",
     "output_type": "stream",
     "text": [
      "0 tensor(11.2971, device='cuda:0', grad_fn=<DivBackward0>) 723.0150756835938\n",
      "50 tensor(0.0906, device='cuda:0', grad_fn=<DivBackward0>) 5.800172328948975\n",
      "100 tensor(0.0100, device='cuda:0', grad_fn=<DivBackward0>) 0.6372392177581787\n",
      "150 tensor(0.0029, device='cuda:0', grad_fn=<DivBackward0>) 0.1859913021326065\n",
      "200 tensor(0.0012, device='cuda:0', grad_fn=<DivBackward0>) 0.07457674294710159\n",
      "250 tensor(0.0009, device='cuda:0', grad_fn=<DivBackward0>) 0.05595463886857033\n",
      "300 tensor(0.0006, device='cuda:0', grad_fn=<DivBackward0>) 0.037626296281814575\n",
      "350 tensor(0.0005, device='cuda:0', grad_fn=<DivBackward0>) 0.034823544323444366\n",
      "400 tensor(0.0004, device='cuda:0', grad_fn=<DivBackward0>) 0.027750255540013313\n",
      "450 tensor(0.0003, device='cuda:0', grad_fn=<DivBackward0>) 0.01725482940673828\n",
      "500 tensor(0.0003, device='cuda:0', grad_fn=<DivBackward0>) 0.016049016267061234\n",
      "550 tensor(0.0003, device='cuda:0', grad_fn=<DivBackward0>) 0.01835707388818264\n",
      "600 tensor(0.0002, device='cuda:0', grad_fn=<DivBackward0>) 0.01432233490049839\n",
      "650 tensor(0.0002, device='cuda:0', grad_fn=<DivBackward0>) 0.011977319605648518\n",
      "700 tensor(0.0001, device='cuda:0', grad_fn=<DivBackward0>) 0.008410610258579254\n",
      "750 tensor(0.0002, device='cuda:0', grad_fn=<DivBackward0>) 0.011070085689425468\n",
      "800 tensor(0.0001, device='cuda:0', grad_fn=<DivBackward0>) 0.008662884123623371\n",
      "850 tensor(0.0002, device='cuda:0', grad_fn=<DivBackward0>) 0.011200827546417713\n",
      "900 tensor(0.0001, device='cuda:0', grad_fn=<DivBackward0>) 0.008173470385372639\n",
      "950 tensor(0.0001, device='cuda:0', grad_fn=<DivBackward0>) 0.0075818393379449844\n",
      "1000 tensor(0.0001, device='cuda:0', grad_fn=<DivBackward0>) 0.0069505139254033566\n",
      "1050 tensor(0.0001, device='cuda:0', grad_fn=<DivBackward0>) 0.006624493282288313\n",
      "1100 tensor(9.3495e-05, device='cuda:0', grad_fn=<DivBackward0>) 0.005983706098049879\n",
      "1150 tensor(0.0001, device='cuda:0', grad_fn=<DivBackward0>) 0.007200173567980528\n",
      "1200 tensor(6.8734e-05, device='cuda:0', grad_fn=<DivBackward0>) 0.004398994613438845\n",
      "1250 tensor(8.1086e-05, device='cuda:0', grad_fn=<DivBackward0>) 0.005189509131014347\n",
      "1300 tensor(9.4490e-05, device='cuda:0', grad_fn=<DivBackward0>) 0.006047355011105537\n",
      "1350 tensor(7.8157e-05, device='cuda:0', grad_fn=<DivBackward0>) 0.005002073012292385\n",
      "1400 tensor(6.3056e-05, device='cuda:0', grad_fn=<DivBackward0>) 0.004035565070807934\n",
      "1450 tensor(5.8619e-05, device='cuda:0', grad_fn=<DivBackward0>) 0.0037515866570174694\n",
      "1500 tensor(5.9987e-05, device='cuda:0', grad_fn=<DivBackward0>) 0.0038391444832086563\n",
      "1550 tensor(7.8382e-05, device='cuda:0', grad_fn=<DivBackward0>) 0.005016471724957228\n",
      "1600 tensor(6.3494e-05, device='cuda:0', grad_fn=<DivBackward0>) 0.0040636141784489155\n",
      "1650 tensor(3.9147e-05, device='cuda:0', grad_fn=<DivBackward0>) 0.0025054251309484243\n",
      "1700 tensor(6.0868e-05, device='cuda:0', grad_fn=<DivBackward0>) 0.003895530942827463\n",
      "1750 tensor(7.5650e-05, device='cuda:0', grad_fn=<DivBackward0>) 0.004841574002057314\n",
      "1800 tensor(4.4512e-05, device='cuda:0', grad_fn=<DivBackward0>) 0.002848787931725383\n",
      "1850 tensor(4.5910e-05, device='cuda:0', grad_fn=<DivBackward0>) 0.0029382267966866493\n",
      "1900 tensor(5.1936e-05, device='cuda:0', grad_fn=<DivBackward0>) 0.0033239335753023624\n",
      "1950 tensor(7.2860e-05, device='cuda:0', grad_fn=<DivBackward0>) 0.004663031082600355\n",
      "2000 tensor(7.7442e-05, device='cuda:0', grad_fn=<DivBackward0>) 0.004956293851137161\n"
     ]
    }
   ],
   "source": [
    "#supervised\n",
    "index_supervisedtrain_list = []\n",
    "supervisedtrain_losses = []\n",
    "for iteration in range(echo):\n",
    "\n",
    "    temp_number = 0\n",
    "    total_batch_loss = 0 \n",
    "    \n",
    "    loss_sum = 0\n",
    "    denominator = 0\n",
    "    for index in range(0, BATCH_SIZE):\n",
    "        training_data_i, training_S, training_data,label = appen_train(\n",
    "            Generate_distribution(Agent_number_n))\n",
    "        h_loss = net.supervised_loss(training_data_i, label)\n",
    "        denominator += 1\n",
    "        loss_sum += h_loss\n",
    "\n",
    "    loss_sum = torch.sum(loss_sum)\n",
    "    loss = (loss_sum) / denominator \n",
    "    total_batch_loss += float(loss_sum)\n",
    "\n",
    "    optimizer.zero_grad()\n",
    "    loss.backward()\n",
    "    optimizer.step()\n",
    "\n",
    "    if (iteration%50 == 0):\n",
    "        print(iteration,loss,total_batch_loss)\n",
    "        index_supervisedtrain_list.append(iteration)\n",
    "        supervisedtrain_losses.append(total_batch_loss)\n",
    "    scheduler.step()"
   ]
  },
  {
   "cell_type": "code",
   "execution_count": null,
   "metadata": {},
   "outputs": [],
   "source": []
  },
  {
   "cell_type": "code",
   "execution_count": 13,
   "metadata": {
    "ExecuteTime": {
     "end_time": "2021-06-18T06:57:26.511277Z",
     "start_time": "2021-06-18T06:15:45.552063Z"
    }
   },
   "outputs": [
    {
     "name": "stdout",
     "output_type": "stream",
     "text": [
      "0 tensor(2.3771e-05, device='cuda:0', grad_fn=<DivBackward0>) 0.0 0.001521313446573913\n",
      "batch iteration 0\n",
      "batch_loss: 0.0015 \n",
      "3.4222079279285635 2.9883745312690735 0.43383339665949006 0.1490435249621438\n",
      "\n",
      "50 tensor(3.3966e-05, device='cuda:0', grad_fn=<DivBackward0>) 0.0 0.002173809800297022\n",
      "batch iteration 50\n",
      "batch_loss: 0.0022 \n",
      "3.43051815032959 2.9910912795589177 0.4394268707706721 0.12432802749387006\n",
      "\n",
      "100 tensor(3.2885e-05, device='cuda:0', grad_fn=<DivBackward0>) 0.0 0.0021046441979706287\n",
      "batch iteration 100\n",
      "batch_loss: 0.0021 \n",
      "3.571996043972849 2.976159684523289 0.5958363594495597 0.15886345048129824\n",
      "\n",
      "150 tensor(5.4589e-05, device='cuda:0', grad_fn=<DivBackward0>) 0.0 0.0034936859738081694\n",
      "batch iteration 150\n",
      "batch_loss: 0.0035 \n",
      "3.6327624320983887 2.976334957272239 0.6564274748261498 0.19482296128973964\n",
      "\n",
      "200 tensor(1.4980e-05, device='cuda:0', grad_fn=<DivBackward0>) 4.011647979496047e-05 0.0009185995440930128\n",
      "batch iteration 200\n",
      "batch_loss: 0.0010 \n",
      "3.5417231917381287 2.9429243341776905 0.5987988575604382 0.20105782352927815\n",
      "\n",
      "250 tensor(2.4484e-05, device='cuda:0', grad_fn=<DivBackward0>) 0.0 0.001566996448673308\n",
      "batch iteration 250\n",
      "batch_loss: 0.0016 \n",
      "3.5009390711784363 2.9707859913558425 0.5301530798225937 0.1453233618414047\n",
      "\n",
      "300 tensor(1.7677e-05, device='cuda:0', grad_fn=<DivBackward0>) 0.0 0.0011312977876514196\n",
      "batch iteration 300\n",
      "batch_loss: 0.0011 \n",
      "3.6764641661065895 2.9649902012749143 0.7114739648316752 0.18938344391819495\n",
      "\n",
      "350 tensor(0.0001, device='cuda:0', grad_fn=<DivBackward0>) 0.0 0.007314709480851889\n",
      "batch iteration 350\n",
      "batch_loss: 0.0073 \n",
      "4.049205315317152 3.005271704256472 1.0439336110606798 0.26895722989497806\n",
      "\n",
      "400 tensor(2.0714e-05, device='cuda:0', grad_fn=<DivBackward0>) 5.763579247286543e-05 0.0012680594809353352\n",
      "batch iteration 400\n",
      "batch_loss: 0.0013 \n",
      "3.7396531374917603 2.9346098213913696 0.8050433161003907 0.25934267351925877\n",
      "\n",
      "450 tensor(4.8998e-05, device='cuda:0', grad_fn=<DivBackward0>) 0.0 0.003135855309665203\n",
      "batch iteration 450\n",
      "batch_loss: 0.0031 \n",
      "3.6456934904026577 2.992701606751283 0.6529918836513748 0.15374932500443306\n",
      "\n",
      "500 tensor(2.2621e-05, device='cuda:0', grad_fn=<DivBackward0>) 7.241586445161374e-06 0.001440532156266272\n",
      "batch iteration 500\n",
      "batch_loss: 0.0014 \n",
      "3.5716771417009525 2.962867676504357 0.6088094651965954 0.16535968087806951\n",
      "\n",
      "550 tensor(1.3753e-05, device='cuda:0', grad_fn=<DivBackward0>) 3.954835483455099e-05 0.0008406649576500058\n",
      "batch iteration 550\n",
      "batch_loss: 0.0009 \n",
      "3.5579971382952964 2.951954047572875 0.6060430907224212 0.17825484438753936\n",
      "\n",
      "600 tensor(2.4875e-05, device='cuda:0', grad_fn=<DivBackward0>) 0.0 0.0015919901197776198\n",
      "batch iteration 600\n",
      "batch_loss: 0.0016 \n",
      "3.5943904641024735 2.94834173579094 0.6460487283115337 0.1949565544004659\n",
      "\n",
      "650 tensor(1.4861e-05, device='cuda:0', grad_fn=<DivBackward0>) 0.0 0.0009511009557172656\n",
      "batch iteration 650\n",
      "batch_loss: 0.0010 \n",
      "3.5712727475025194 2.948820647413026 0.6224521000894936 0.18531411573520096\n",
      "\n",
      "700 tensor(1.5373e-05, device='cuda:0', grad_fn=<DivBackward0>) 5.7783711149284045e-09 0.0009838812984526157\n",
      "batch iteration 700\n",
      "batch_loss: 0.0010 \n",
      "3.566489356932504 2.9404538977036725 0.6260354592288313 0.18862072586115142\n",
      "\n",
      "750 tensor(9.5231e-06, device='cuda:0', grad_fn=<DivBackward0>) 2.0874446615692932e-10 0.0006094766431488097\n",
      "batch iteration 750\n",
      "batch_loss: 0.0006 \n",
      "3.586953509425208 2.943632824881675 0.6433206845435331 0.21122094608504316\n",
      "\n",
      "800 tensor(3.7050e-05, device='cuda:0', grad_fn=<DivBackward0>) 0.0 0.0023711719550192356\n",
      "batch iteration 800\n",
      "batch_loss: 0.0024 \n",
      "3.6862094402313232 3.0268171461145057 0.6593922941168175 0.10369700585446306\n",
      "\n",
      "850 tensor(1.6409e-05, device='cuda:0', grad_fn=<DivBackward0>) 0.0 0.0010501450160518289\n",
      "batch iteration 850\n",
      "batch_loss: 0.0011 \n",
      "3.799033780481778 3.000190315384329 0.7988434650974492 0.11558297891547209\n",
      "\n",
      "900 tensor(1.0798e-05, device='cuda:0', grad_fn=<DivBackward0>) 0.0 0.0006910579977557063\n",
      "batch iteration 900\n",
      "batch_loss: 0.0007 \n",
      "3.7788627538461155 2.992038083739169 0.7868246701069466 0.11342272208715132\n",
      "\n",
      "950 tensor(3.2891e-05, device='cuda:0', grad_fn=<DivBackward0>) 0.0 0.002105053048580885\n",
      "batch iteration 950\n",
      "batch_loss: 0.0021 \n",
      "3.7990372667211783 3.0044730374476614 0.7945642292735169 0.12201002406476302\n",
      "\n",
      "1000 tensor(2.4722e-05, device='cuda:0', grad_fn=<DivBackward0>) 0.0 0.0015822032000869513\n",
      "batch iteration 1000\n",
      "batch_loss: 0.0016 \n",
      "3.8187038522423 3.001000630317929 0.8177032219243712 0.12466419348002056\n",
      "\n",
      "1050 tensor(3.6607e-05, device='cuda:0', grad_fn=<DivBackward0>) 0.0 0.0023428695276379585\n",
      "batch iteration 1050\n",
      "batch_loss: 0.0023 \n",
      "3.7743117932978154 2.995102561219635 0.7792092320781805 0.12258559083111686\n",
      "\n",
      "1100 tensor(5.9187e-06, device='cuda:0', grad_fn=<DivBackward0>) 0.0 0.00037879799492657185\n",
      "batch iteration 1100\n",
      "batch_loss: 0.0004 \n",
      "3.7029780762700195 2.976119801350362 0.7268582749196577 0.1258007432647057\n",
      "\n",
      "1150 tensor(2.4952e-05, device='cuda:0', grad_fn=<DivBackward0>) 0.0 0.001596937421709299\n",
      "batch iteration 1150\n",
      "batch_loss: 0.0016 \n",
      "3.7909090615115066 3.0099044232551915 0.7810046382563152 0.1415561023007692\n",
      "\n",
      "1200 tensor(5.8782e-06, device='cuda:0', grad_fn=<DivBackward0>) 0.0 0.00037620379589498043\n",
      "batch iteration 1200\n",
      "batch_loss: 0.0004 \n",
      "3.6455027637548607 2.9751320657264944 0.6703706980283664 0.12464313547259254\n",
      "\n",
      "1250 tensor(1.0926e-05, device='cuda:0', grad_fn=<DivBackward0>) 0.0 0.000699242576956749\n",
      "batch iteration 1250\n",
      "batch_loss: 0.0007 \n",
      "3.6726624546446534 2.9885259765064434 0.68413647813821 0.11463935640888634\n",
      "\n",
      "1300 tensor(9.5894e-06, device='cuda:0', grad_fn=<DivBackward0>) 0.0 0.0006137200980447233\n",
      "batch iteration 1300\n",
      "batch_loss: 0.0006 \n",
      "3.6376255148329886 2.9710952740742043 0.6665302407587843 0.12436764208165396\n",
      "\n",
      "1350 tensor(1.2044e-05, device='cuda:0', grad_fn=<DivBackward0>) 0.0 0.0007707922486588359\n",
      "batch iteration 1350\n",
      "batch_loss: 0.0008 \n",
      "3.6427223270626676 2.9856737025482194 0.6570486245144482 0.11596009341060798\n",
      "\n",
      "1400 tensor(2.2828e-05, device='cuda:0', grad_fn=<DivBackward0>) 0.0 0.0014609936624765396\n",
      "batch iteration 1400\n",
      "batch_loss: 0.0015 \n",
      "3.697880784908101 2.99010600233204 0.707774782576061 0.12618423678679447\n",
      "\n",
      "1450 tensor(1.0792e-05, device='cuda:0', grad_fn=<DivBackward0>) 0.00021764491975773126 0.00047301239101216197\n",
      "batch iteration 1450\n",
      "batch_loss: 0.0007 \n",
      "3.766127750032355 2.955478942463205 0.8106488075691498 0.17174869753562616\n",
      "\n",
      "1500 tensor(0.0001, device='cuda:0', grad_fn=<DivBackward0>) 0.0 0.009193752892315388\n",
      "batch iteration 1500\n",
      "batch_loss: 0.0092 \n",
      "3.8772224418387884 3.1085140632928314 0.768708378545957 0.14518638780179138\n",
      "\n",
      "1550 tensor(3.2249e-05, device='cuda:0', grad_fn=<DivBackward0>) 0.0 0.0020639565773308277\n",
      "batch iteration 1550\n",
      "batch_loss: 0.0021 \n",
      "3.7361274370446393 3.013677384437017 0.7224500526076225 0.11562233342787032\n",
      "\n",
      "1600 tensor(1.8563e-05, device='cuda:0', grad_fn=<DivBackward0>) 0.0 0.0011880109086632729\n",
      "batch iteration 1600\n",
      "batch_loss: 0.0012 \n",
      "3.858432041959817 3.0164947413250984 0.8419373006347186 0.1378246996392285\n",
      "\n",
      "1650 tensor(1.2577e-05, device='cuda:0', grad_fn=<DivBackward0>) 0.0 0.0008049346506595612\n",
      "batch iteration 1650\n",
      "batch_loss: 0.0008 \n",
      "3.7876027357721713 2.9862678113222985 0.8013349244498729 0.12597968740368204\n",
      "\n",
      "1700 tensor(7.4057e-06, device='cuda:0', grad_fn=<DivBackward0>) 0.0 0.00047396731679327786\n",
      "batch iteration 1700\n",
      "batch_loss: 0.0005 \n",
      "3.7606644872865016 2.974733045869046 0.7859314414174556 0.12716851215708047\n",
      "\n",
      "1750 tensor(1.0736e-05, device='cuda:0', grad_fn=<DivBackward0>) 0.0 0.0006871269433759153\n",
      "batch iteration 1750\n",
      "batch_loss: 0.0007 \n",
      "3.8056987157359083 2.9839316983646493 0.821767017371259 0.13585398867169873\n",
      "\n",
      "1800 tensor(1.0285e-05, device='cuda:0', grad_fn=<DivBackward0>) 0.0 0.0006582131027244031\n",
      "batch iteration 1800\n",
      "batch_loss: 0.0007 \n",
      "3.767228568086864 2.9720436282002756 0.7951849398865884 0.13228964159023482\n",
      "\n",
      "1850 tensor(1.0046e-05, device='cuda:0', grad_fn=<DivBackward0>) 7.133452868401946e-07 0.0006422491860575974\n",
      "batch iteration 1850\n",
      "batch_loss: 0.0006 \n",
      "3.756132045221079 2.9646597854916523 0.7914722597294266 0.13655411858516242\n",
      "\n",
      "1900 tensor(1.6431e-05, device='cuda:0', grad_fn=<DivBackward0>) 0.0006425840547308326 0.0004090105649083853\n",
      "batch iteration 1900\n",
      "batch_loss: 0.0011 \n",
      "3.734453977732104 2.964101860036408 0.7703521176956958 0.13726153912419692\n",
      "\n"
     ]
    },
    {
     "name": "stdout",
     "output_type": "stream",
     "text": [
      "1950 tensor(1.6012e-05, device='cuda:0', grad_fn=<DivBackward0>) 2.1782176756746097e-12 0.0010247661266475916\n",
      "batch iteration 1950\n",
      "batch_loss: 0.0010 \n",
      "3.7541835867057545 2.9677694815015543 0.7864141052042002 0.13864522429426573\n",
      "\n",
      "2000 tensor(8.8993e-06, device='cuda:0', grad_fn=<DivBackward0>) 0.0 0.0005695566069334745\n",
      "batch iteration 2000\n",
      "batch_loss: 0.0006 \n",
      "3.747172925502057 2.9653347893806314 0.7818381361214257 0.14553431764873004\n",
      "\n"
     ]
    }
   ],
   "source": [
    "for iteration in range(int(echo)):\n",
    "    \n",
    "    temp_number = 0\n",
    "    total_batch_loss = 0 \n",
    "        \n",
    "    loss2_list = []\n",
    "    loss1_sum = 0\n",
    "    loss2_sum = 0\n",
    "    denominator = 0\n",
    "    for index in range(0, BATCH_SIZE):\n",
    "        training_data_i, training_label, training_data,label = appen_train(\n",
    "            Generate_distribution(Agent_number_n))\n",
    "        h_loss1, h_loss2 = net(training_data_i, training_label,\n",
    "                                       training_data)\n",
    "        denominator += 1\n",
    "        loss1_sum += h_loss1\n",
    "        loss2_sum += h_loss2\n",
    "\n",
    "    loss_sum = torch.sum(loss1_sum + loss2_sum)\n",
    "    loss = (loss_sum) / denominator \n",
    "    total_batch_loss +=float(loss_sum)\n",
    "    optimizer.zero_grad()\n",
    "\n",
    "    loss.backward()\n",
    "\n",
    "    optimizer.step()\n",
    "\n",
    "    temp_number = iteration\n",
    "    index_train_list.append(iteration)\n",
    "    train_losses.append(total_batch_loss)\n",
    "    if (iteration%50 == 0):\n",
    "        print(temp_number, loss, float(loss1_sum), float(loss2_sum))\n",
    "\n",
    "        print(\"batch iteration\", iteration)\n",
    "        print(\"batch_loss: %.4f \" % total_batch_loss)\n",
    "\n",
    "        result_list = []\n",
    "        for index in range(len(testing_data)):\n",
    "            h_list = []\n",
    "            for i in range(Agent_number_n):\n",
    "                h = net.calculate(\n",
    "                    torch.tensor(testing_data[index][i]).to(dev).type(\n",
    "                        torch.float32))\n",
    "                h_list.append(float(h))\n",
    "            result_list.append(sum(h_list) / testing_label[index])\n",
    "        print(max(result_list), min(result_list),\n",
    "              max(result_list) - min(result_list),\n",
    "              (sum(result_list) / len(result_list) - min(result_list))+ Agent_number_n-1 - min(min(result_list),Agent_number_n-1) )\n",
    "\n",
    "        index_test_list.append(iteration)\n",
    "        test_losses.append(\n",
    "            (sum(result_list) / len(result_list) - min(result_list))+ Agent_number_n-1 - min(min(result_list),Agent_number_n-1) )\n",
    "        print()\n",
    "        \n",
    "    scheduler.step()\n"
   ]
  },
  {
   "cell_type": "code",
   "execution_count": 14,
   "metadata": {
    "ExecuteTime": {
     "end_time": "2021-06-18T06:57:27.247157Z",
     "start_time": "2021-06-18T06:57:26.512392Z"
    }
   },
   "outputs": [
    {
     "data": {
      "image/png": "[encoded data removed]",
      "text/plain": [
       "<Figure size 432x288 with 1 Axes>"
      ]
     },
     "metadata": {
      "needs_background": "light"
     },
     "output_type": "display_data"
    },
    {
     "ename": "FileNotFoundError",
     "evalue": "[Errno 2] No such file or directory: 'save/test_loss_unfeed_normal_4.csv'",
     "output_type": "error",
     "traceback": [
      "\u001b[1;31m---------------------------------------------------------------------------\u001b[0m",
      "\u001b[1;31mFileNotFoundError\u001b[0m                         Traceback (most recent call last)",
      "\u001b[1;32m<ipython-input-14-a77bad723e0b>\u001b[0m in \u001b[0;36m<module>\u001b[1;34m\u001b[0m\n\u001b[0;32m     12\u001b[0m \u001b[1;33m\u001b[0m\u001b[0m\n\u001b[0;32m     13\u001b[0m \u001b[1;33m\u001b[0m\u001b[0m\n\u001b[1;32m---> 14\u001b[1;33m \u001b[1;32mwith\u001b[0m \u001b[0mopen\u001b[0m\u001b[1;33m(\u001b[0m\u001b[1;34m'save/test_loss_unfeed_normal_4.csv'\u001b[0m\u001b[1;33m)\u001b[0m \u001b[1;32mas\u001b[0m \u001b[0mcsvfile_unfeed\u001b[0m\u001b[1;33m:\u001b[0m\u001b[1;33m\u001b[0m\u001b[1;33m\u001b[0m\u001b[0m\n\u001b[0m\u001b[0;32m     15\u001b[0m     \u001b[0mreader\u001b[0m \u001b[1;33m=\u001b[0m \u001b[0mcsv\u001b[0m\u001b[1;33m.\u001b[0m\u001b[0mreader\u001b[0m\u001b[1;33m(\u001b[0m\u001b[0mcsvfile_unfeed\u001b[0m\u001b[1;33m)\u001b[0m\u001b[1;33m\u001b[0m\u001b[1;33m\u001b[0m\u001b[0m\n\u001b[0;32m     16\u001b[0m     \u001b[0mlist_feed\u001b[0m \u001b[1;33m=\u001b[0m \u001b[1;33m[\u001b[0m\u001b[1;33m]\u001b[0m\u001b[1;33m\u001b[0m\u001b[1;33m\u001b[0m\u001b[0m\n",
      "\u001b[1;31mFileNotFoundError\u001b[0m: [Errno 2] No such file or directory: 'save/test_loss_unfeed_normal_4.csv'"
     ]
    }
   ],
   "source": [
    "plt.ylim(0, 1.0)\n",
    "plt.plot(index_test_list,test_losses)\n",
    "plt.ylabel('Testing Loss')\n",
    "plt.xlabel('Batch Epoch')\n",
    "plt.show()\n",
    "\n",
    "import csv\n",
    "with open('save/test_loss_feed_normal_4.csv', 'w', newline='') as csvfile_feed:\n",
    "    spamwriter = csv.writer(csvfile_feed)\n",
    "    spamwriter.writerow(index_test_list)\n",
    "    spamwriter.writerow(test_losses)\n",
    "\n",
    "\n",
    "with open('save/test_loss_unfeed_normal_4.csv') as csvfile_unfeed:\n",
    "    reader = csv.reader(csvfile_unfeed)\n",
    "    list_feed = []\n",
    "    for row in reader:\n",
    "        row = np.array(row)\n",
    "        temp_list = []\n",
    "        for i in range(len(row)):\n",
    "            temp_list.append(float(row[i]))\n",
    "\n",
    "        list_feed.append(temp_list)\n",
    "    plt.ylim(0, 1.0)\n",
    "    plt.plot(list_feed[0],list_feed[1],label='neural network')\n",
    "    plt.plot(index_test_list,test_losses,label='feed distribution')\n",
    "    plt.ylabel('Testing Loss')\n",
    "    plt.xlabel('Batch Epoch')\n",
    "    #plt.title('Two or more lines on same plot with suitable legends ')\n",
    "    # show a legend on the plot\n",
    "    plt.legend()\n",
    "    plt.show()\n"
   ]
  },
  {
   "cell_type": "code",
   "execution_count": 15,
   "metadata": {
    "ExecuteTime": {
     "end_time": "2021-06-18T08:18:37.311597Z",
     "start_time": "2021-06-18T08:18:37.184680Z"
    }
   },
   "outputs": [
    {
     "data": {
      "image/png": "[encoded data removed]",
      "text/plain": [
       "<Figure size 432x288 with 1 Axes>"
      ]
     },
     "metadata": {
      "needs_background": "light"
     },
     "output_type": "display_data"
    }
   ],
   "source": [
    "plt.ylim(0, 1.0)\n",
    "\n",
    "plt.plot(index_train_list,train_losses)\n",
    "plt.ylabel('training loss')\n",
    "\n",
    "plt.plot(index_test_list,test_losses)\n",
    "plt.ylabel('training loss')\n",
    "\n",
    "plt.show()"
   ]
  },
  {
   "cell_type": "code",
   "execution_count": 16,
   "metadata": {
    "ExecuteTime": {
     "end_time": "2021-06-18T08:18:37.784112Z",
     "start_time": "2021-06-18T08:18:37.687826Z"
    }
   },
   "outputs": [],
   "source": [
    "torch.save(net, \"save/Deep_learning_F_normal_4_1\")"
   ]
  },
  {
   "cell_type": "code",
   "execution_count": 17,
   "metadata": {
    "ExecuteTime": {
     "end_time": "2021-06-18T08:19:06.340896Z",
     "start_time": "2021-06-18T08:18:38.935852Z"
    }
   },
   "outputs": [
    {
     "name": "stdout",
     "output_type": "stream",
     "text": [
      "3.747172925502057 2.9653347893806314 0.7818381361214257 0.11086910702936148\n"
     ]
    }
   ],
   "source": [
    "denominator = 0\n",
    "result_list = []\n",
    "for index in range(len(testing_data)):\n",
    "    h_list = []\n",
    "    for i in range(Agent_number_n):\n",
    "        h = net.calculate(torch.tensor(testing_data[index][i]).cuda().type(torch.float32))\n",
    "        h_list.append(float(h))\n",
    "    \n",
    "    #print(sum(h_list),h_list,sum(h_list)/testing_label[index])\n",
    "    result_list.append(sum(h_list)/testing_label[index])\n",
    "    \n",
    "\n",
    "print(max(result_list),min(result_list),max(result_list)-min(result_list),sum(result_list)/len(result_list)-min(result_list))"
   ]
  },
  {
   "cell_type": "code",
   "execution_count": 18,
   "metadata": {
    "ExecuteTime": {
     "end_time": "2021-06-18T08:19:08.355915Z",
     "start_time": "2021-06-18T08:19:07.499688Z"
    }
   },
   "outputs": [
    {
     "data": {
      "image/png": "[encoded data removed]",
      "text/plain": [
       "<Figure size 432x288 with 1 Axes>"
      ]
     },
     "metadata": {
      "needs_background": "light"
     },
     "output_type": "display_data"
    }
   ],
   "source": [
    "plt.hist(result_list,bins=500)\n",
    "\n",
    "plt.title(\"Means\", y=1.015, fontsize=20)\n",
    "plt.axvline(x=sum(result_list)/len(result_list), linestyle='--', linewidth=2.5, label=\"sample mean\", c='orange')\n",
    "plt.xlabel(\"samples\", labelpad=14)\n",
    "plt.ylabel(\"frequency of occurence\", labelpad=14)\n",
    "plt.legend();\n",
    "\n",
    "result_list.sort()\n",
    "\n",
    "plt.axvline(x=result_list[int(len(result_list)*0.01)], linestyle='--', linewidth=0.5, label=\"1%\", c='b')\n",
    "plt.axvline(x=result_list[int(len(result_list)*0.99)], linestyle='--', linewidth=0.5, label=\"99%\", c='r')\n",
    "\n",
    "\n",
    "plt.show()"
   ]
  },
  {
   "cell_type": "code",
   "execution_count": null,
   "metadata": {},
   "outputs": [],
   "source": []
  },
  {
   "cell_type": "code",
   "execution_count": null,
   "metadata": {},
   "outputs": [],
   "source": []
  },
  {
   "cell_type": "code",
   "execution_count": null,
   "metadata": {},
   "outputs": [],
   "source": []
  }
 ],
 "metadata": {
  "hide_input": false,
  "kernelspec": {
   "display_name": "Python 3",
   "language": "python",
   "name": "python3"
  },
  "language_info": {
   "codemirror_mode": {
    "name": "ipython",
    "version": 3
   },
   "file_extension": ".py",
   "mimetype": "text/x-python",
   "name": "python",
   "nbconvert_exporter": "python",
   "pygments_lexer": "ipython3",
   "version": "3.8.3"
  },
  "varInspector": {
   "cols": {
    "lenName": 16,
    "lenType": 16,
    "lenVar": 40
   },
   "kernels_config": {
    "python": {
     "delete_cmd_postfix": "",
     "delete_cmd_prefix": "del ",
     "library": "var_list.py",
     "varRefreshCmd": "print(var_dic_list())"
    },
    "r": {
     "delete_cmd_postfix": ") ",
     "delete_cmd_prefix": "rm(",
     "library": "var_list.r",
     "varRefreshCmd": "cat(var_dic_list()) "
    }
   },
   "types_to_exclude": [
    "module",
    "function",
    "builtin_function_or_method",
    "instance",
    "_Feature"
   ],
   "window_display": false
  }
 },
 "nbformat": 4,
 "nbformat_minor": 4
}
