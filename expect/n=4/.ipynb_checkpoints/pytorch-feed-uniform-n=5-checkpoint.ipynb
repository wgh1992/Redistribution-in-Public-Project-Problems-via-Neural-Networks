{
 "cells": [
  {
   "cell_type": "code",
   "execution_count": 1,
   "metadata": {
    "ExecuteTime": {
     "end_time": "2021-06-15T06:44:21.456625Z",
     "start_time": "2021-06-15T06:44:18.857004Z"
    }
   },
   "outputs": [
    {
     "name": "stdout",
     "output_type": "stream",
     "text": [
      "pygame 2.0.1 (SDL 2.0.14, Python 3.8.3)\n",
      "Hello from the pygame community. https://www.pygame.org/contribute.html\n"
     ]
    },
    {
     "name": "stderr",
     "output_type": "stream",
     "text": [
      "D:\\ComputerSoftwares\\Anaconda\\lib\\site-packages\\sklearn\\utils\\deprecation.py:143: FutureWarning: The sklearn.datasets.samples_generator module is  deprecated in version 0.22 and will be removed in version 0.24. The corresponding classes / functions should instead be imported from sklearn.datasets. Anything that cannot be imported from sklearn.datasets is now part of the private API.\n",
      "  warnings.warn(message, FutureWarning)\n"
     ]
    },
    {
     "name": "stdout",
     "output_type": "stream",
     "text": [
      "cuda:0\n"
     ]
    }
   ],
   "source": [
    "\n",
    "import pygame\n",
    "import random\n",
    "import os\n",
    "import time\n",
    "import numpy as np\n",
    "import math\n",
    "import torch\n",
    "import torch.nn.functional\n",
    "import matplotlib.pyplot as plt\n",
    "import torch.optim as opt\n",
    "from torch.autograd import Variable\n",
    "from sklearn.model_selection import train_test_split\n",
    "\n",
    "import scipy.stats as st\n",
    "from sklearn.datasets.samples_generator import make_blobs\n",
    "from matplotlib.colors import LogNorm \n",
    "import matplotlib.cm as cm\n",
    "import torch.nn as nn\n",
    "import numpy as np\n",
    "import matplotlib.pyplot as plt\n",
    "import plotly.graph_objects as go\n",
    "import plotly.express as px\n",
    "from scipy.interpolate import griddata\n",
    "import torch.nn.functional as F\n",
    "import torch.distributions as D\n",
    "if torch.cuda.is_available():  \n",
    "    dev = \"cuda:0\" \n",
    "else:  \n",
    "    dev = \"cpu\"  \n",
    "\n",
    "print(dev)\n",
    "\n"
   ]
  },
  {
   "cell_type": "code",
   "execution_count": 2,
   "metadata": {
    "ExecuteTime": {
     "end_time": "2021-06-15T06:44:21.472594Z",
     "start_time": "2021-06-15T06:44:21.458619Z"
    },
    "run_control": {
     "marked": true
    }
   },
   "outputs": [],
   "source": [
    "global temp_list\n",
    "temp_list = []\n",
    "Agent_number_n=5;\n",
    "Alpha = 1.0;\n",
    "\n",
    "echo = 2001\n",
    "BATCH_SIZE = 64\n",
    "LR = 0.001           # learning rate for generator\n",
    "devided_number = 1\n",
    "\n",
    "def Generate_distribution(Agent_number_n):\n",
    "    return sorted(np.random.rand(Agent_number_n), reverse=True)\n",
    "    #return sorted(np.random.normal(normalloc,normalscale,Agent_number_n), reverse=True)\n",
    "Prior_Distribution = \"uniform\""
   ]
  },
  {
   "cell_type": "code",
   "execution_count": 3,
   "metadata": {
    "ExecuteTime": {
     "end_time": "2021-06-15T06:44:21.504509Z",
     "start_time": "2021-06-15T06:44:21.474590Z"
    },
    "run_control": {
     "marked": true
    }
   },
   "outputs": [],
   "source": [
    "uniformlow = 0\n",
    "uniformhigh = 1.0\n",
    "\n",
    "normalloc = 0.2\n",
    "normalscale = 0.1\n",
    "\n",
    "doublePeakHighMean = 0.9\n",
    "doublePeakLowMean = 0.1\n",
    "doublePeakStd = 0.04\n",
    "\n",
    "beta_a = 0.3\n",
    "beta_b = 0.2\n",
    "\n",
    "d_1 = D.uniform.Uniform(uniformlow, uniformhigh)\n",
    "distributionRatio_1 = d_1.cdf(1) - d_1.cdf(0)\n",
    "distributionBase_1 = d_1.cdf(0)\n",
    "\n",
    "d_2 = D.normal.Normal(normalloc, normalscale)\n",
    "distributionRatio_2 = d_2.cdf(1) - d_2.cdf(0)\n",
    "distributionBase_2 = d_2.cdf(0)\n",
    "\n",
    "d_3 = D.normal.Normal(doublePeakLowMean, doublePeakStd)\n",
    "d_4 = D.normal.Normal(doublePeakHighMean, doublePeakStd)\n",
    "distributionRatio_3 = (d_3.cdf(1) + d_4.cdf(1) - d_3.cdf(0) - d_4.cdf(0)) / 2\n",
    "distributionBase_3 = d_3.cdf(0) + d_4.cdf(0)\n",
    "\n",
    "# d_5 = D.beta.Beta(beta_a,beta_b)\n",
    "\n",
    "# d10 = D.beta.Beta(0.5,0.5)\n",
    "\n",
    "\n",
    "def cdf(x, y, i=None):\n",
    "    if (y == \"uniform\"):\n",
    "        return (d_1.cdf(x) - distributionBase_1) / distributionRatio_1\n",
    "    elif (y == \"normal\"):\n",
    "        return (d_2.cdf(x) - distributionBase_2) / distributionRatio_2\n",
    "    elif (y == \"twopeak\"):\n",
    "        return (d_3.cdf(x) + d_4.cdf(x) -\n",
    "                distributionBase_3) / 2 / distributionRatio_3\n",
    "\n",
    "\n",
    "def pdf(x, y, i=None):\n",
    "    x= x.cpu().type(torch.float32)\n",
    "    if (y == \"uniform\"):\n",
    "        return torch.pow(torch.tensor(10.0), d_1.log_prob(x)).to(dev)\n",
    "    elif (y == \"normal\"):\n",
    "        return torch.pow(torch.tensor(10.0), d_2.log_prob(x)).to(dev)\n",
    "    elif (y == \"twopeak\"):\n",
    "        return (torch.pow(torch.tensor(10.0), d_3.log_prob(x)) +\n",
    "                torch.pow(torch.tensor(10.0), d_4.log_prob(x))).to(dev) / 2 \n",
    "    \n",
    "def Generate_distribution(Agent_number_n):\n",
    "    return np.random.rand(Agent_number_n)\n",
    "    #return np.random.normal(normalloc,normalscale,Agent_number_n)\n"
   ]
  },
  {
   "cell_type": "code",
   "execution_count": 4,
   "metadata": {
    "ExecuteTime": {
     "end_time": "2021-06-15T06:44:23.123056Z",
     "start_time": "2021-06-15T06:44:21.506504Z"
    },
    "run_control": {
     "marked": false
    }
   },
   "outputs": [
    {
     "name": "stdout",
     "output_type": "stream",
     "text": [
      "tensor(10., device='cuda:0')\n",
      "tensor([1.], device='cuda:0')\n",
      "tensor([24.1906], device='cuda:0')\n"
     ]
    }
   ],
   "source": [
    "print(torch.tensor(10.0).to(dev))\n",
    "print(pdf(torch.ones(1)*0.2,\"uniform\"))\n",
    "print(pdf(torch.ones(1)*0.2,\"normal\"))\n"
   ]
  },
  {
   "cell_type": "code",
   "execution_count": 5,
   "metadata": {
    "ExecuteTime": {
     "end_time": "2021-06-15T06:44:23.613274Z",
     "start_time": "2021-06-15T06:44:23.125052Z"
    }
   },
   "outputs": [
    {
     "name": "stdout",
     "output_type": "stream",
     "text": [
      "[[[0.22462465 0.47592292 0.24640588 0.35608032]\n",
      "  [0.74588278 0.47592292 0.24640588 0.35608032]\n",
      "  [0.74588278 0.22462465 0.24640588 0.35608032]\n",
      "  [0.74588278 0.22462465 0.47592292 0.35608032]\n",
      "  [0.74588278 0.22462465 0.47592292 0.24640588]]\n",
      "\n",
      " [[0.50993939 0.73214915 0.83496872 0.4452574 ]\n",
      "  [0.80726501 0.73214915 0.83496872 0.4452574 ]\n",
      "  [0.80726501 0.50993939 0.83496872 0.4452574 ]\n",
      "  [0.80726501 0.50993939 0.73214915 0.4452574 ]\n",
      "  [0.80726501 0.50993939 0.73214915 0.83496872]]\n",
      "\n",
      " [[0.87508077 0.64978768 0.1489852  0.34963032]\n",
      "  [0.39556232 0.64978768 0.1489852  0.34963032]\n",
      "  [0.39556232 0.87508077 0.1489852  0.34963032]\n",
      "  [0.39556232 0.87508077 0.64978768 0.34963032]\n",
      "  [0.39556232 0.87508077 0.64978768 0.1489852 ]]\n",
      "\n",
      " ...\n",
      "\n",
      " [[0.3485434  0.93281473 0.03743393 0.55033794]\n",
      "  [0.3650247  0.93281473 0.03743393 0.55033794]\n",
      "  [0.3650247  0.3485434  0.03743393 0.55033794]\n",
      "  [0.3650247  0.3485434  0.93281473 0.55033794]\n",
      "  [0.3650247  0.3485434  0.93281473 0.03743393]]\n",
      "\n",
      " [[0.28623819 0.9651261  0.57235574 0.19146922]\n",
      "  [0.57138603 0.9651261  0.57235574 0.19146922]\n",
      "  [0.57138603 0.28623819 0.57235574 0.19146922]\n",
      "  [0.57138603 0.28623819 0.9651261  0.19146922]\n",
      "  [0.57138603 0.28623819 0.9651261  0.57235574]]\n",
      "\n",
      " [[0.74528373 0.54866758 0.8078954  0.31581221]\n",
      "  [0.2063535  0.54866758 0.8078954  0.31581221]\n",
      "  [0.2063535  0.74528373 0.8078954  0.31581221]\n",
      "  [0.2063535  0.74528373 0.54866758 0.31581221]\n",
      "  [0.2063535  0.74528373 0.54866758 0.8078954 ]]]\n",
      "[2.04891654 3.32957967 2.41904629 ... 2.2341547  2.58657528 2.62401242]\n"
     ]
    }
   ],
   "source": [
    "def h_3_star(a, b, t):\n",
    "    return a - min(a, t) + b - min(b, t) + max(min(a, t)+min(b, t), 2*t/3) + 1/2 * max(min(a, t)+min(b, t), t) - 1/2 * max(max(min(a, t), min(b, t)), 2*t/3) - t/6\n",
    "\n",
    "\n",
    "def f_function(a, b, z):\n",
    "    if(z >= 1):\n",
    "        return (a+b)/2 + z/3\n",
    "    else:\n",
    "        return z/3 + h_3_star(a, b, 1-z)/2\n",
    "\n",
    "def h_function_label(input_list):\n",
    "    #input_list = sorted(input_list)\n",
    "    g_list = []\n",
    "    for j1 in range(len(input_list) ):\n",
    "        for j2 in range(len(input_list)):\n",
    "            if(j1 != j2):\n",
    "                a = input_list[j1]\n",
    "                b = input_list[j2]\n",
    "                z = sum(input_list)- a-b\n",
    "\n",
    "                g_list.append( f_function(a, b, z) * (Agent_number_n-1))\n",
    "    h = sum(g_list) * 3 /  (Agent_number_n) /  (Agent_number_n-1) /  (Agent_number_n - 2)\n",
    "    return h\n",
    "\n",
    "def appen(_x_list,y):\n",
    "    global temp_list\n",
    "    temp_list.append(_x_list)\n",
    "    \n",
    "def appen_train(x_list):\n",
    "    global temp_list\n",
    "                \n",
    "    S= max(sum(x_list),1.0);\n",
    "    temp_list = []\n",
    "    h_list = []\n",
    "    for i in range(Agent_number_n):\n",
    "        temp = []\n",
    "        for j in range(Agent_number_n):\n",
    "            if(i!=j):\n",
    "                temp.append(x_list[j])\n",
    "        appen(temp,S)\n",
    "        \n",
    "        h = h_function_label(temp)\n",
    "        h_list.append(float(h))\n",
    "    temp_list = np.array(temp_list)\n",
    "    x_list = np.array(x_list)\n",
    "    return temp_list,S,x_list,h_list\n",
    "    \n",
    "\n",
    "def appen_test(x_list):\n",
    "    global temp_list\n",
    "                \n",
    "    S= max(sum(x_list),1.0);\n",
    "    temp_list = []\n",
    "    \n",
    "    for i in range(Agent_number_n):\n",
    "        temp = []\n",
    "        for j in range(Agent_number_n):\n",
    "            if(i!=j):\n",
    "                temp.append(x_list[j])\n",
    "        appen(temp,S)\n",
    "    testing_data.append(temp_list)\n",
    "    testing_label.append(S)\n",
    "    temp_list = np.array(temp_list)\n",
    "    return temp_list,S\n",
    "    \n",
    "\n",
    "def read_testing_data():\n",
    "    for i in range(10000):\n",
    "        appen_test(Generate_distribution(Agent_number_n));\n",
    "                            \n",
    "\n",
    "testing_data=[]\n",
    "testing_label=[]\n",
    "S=1.0\n",
    "read_testing_data();\n",
    "\n",
    "testing_data=np.array(testing_data)\n",
    "testing_label=np.array(testing_label)\n",
    "print(testing_data)\n",
    "print(testing_label)"
   ]
  },
  {
   "cell_type": "code",
   "execution_count": 6,
   "metadata": {
    "ExecuteTime": {
     "end_time": "2021-06-15T06:44:30.847436Z",
     "start_time": "2021-06-15T06:44:23.615269Z"
    }
   },
   "outputs": [
    {
     "name": "stdout",
     "output_type": "stream",
     "text": [
      "4.380633070777212 3.9999999999999982 0.38063307077721387 4.068596709624617\n"
     ]
    }
   ],
   "source": [
    "def h_3_star(a, b, t):\n",
    "    return a - min(a, t) + b - min(b, t) + max(min(a, t)+min(b, t), 2*t/3) + 1/2 * max(min(a, t)+min(b, t), t) - 1/2 * max(max(min(a, t), min(b, t)), 2*t/3) - t/6\n",
    "\n",
    "\n",
    "def f_function(a, b, z):\n",
    "    if(z >= 1):\n",
    "        return (a+b)/2 + z/3\n",
    "    else:\n",
    "        return z/3 + h_3_star(a, b, 1-z)/2\n",
    "\n",
    "def h_function(input_list):\n",
    "    #input_list = sorted(input_list)\n",
    "    g_list = []\n",
    "    for j1 in range(len(input_list) ):\n",
    "        for j2 in range(len(input_list)):\n",
    "            if(j1 != j2):\n",
    "                a = input_list[j1]\n",
    "                b = input_list[j2]\n",
    "                z = sum(input_list)- a-b\n",
    "\n",
    "                g_list.append( f_function(a, b, z) * (Agent_number_n-1))\n",
    "    h = sum(g_list) * 3 /  (Agent_number_n) /  (Agent_number_n-1) /  (Agent_number_n - 2)\n",
    "    return h\n",
    "                \n",
    "                \n",
    "x_list = []\n",
    "y_list = []\n",
    "z_list = []\n",
    "result_list = []\n",
    "for index in range(len(testing_data)):\n",
    "    h_list = []\n",
    "    for i in range(Agent_number_n):\n",
    "        x_list.append(testing_data[index][i][0])\n",
    "        y_list.append(testing_data[index][i][1])\n",
    "        h = h_function(testing_data[index][i])\n",
    "        z_list.append(float(h))\n",
    "        h_list.append(float(h))\n",
    "    result_list.append(sum(h_list)/testing_label[index]) \n",
    "    \n",
    "    \n",
    "print(max(result_list), min(result_list), max(result_list)-min(result_list),sum(result_list)/len(result_list))"
   ]
  },
  {
   "cell_type": "code",
   "execution_count": 7,
   "metadata": {
    "ExecuteTime": {
     "end_time": "2021-06-15T06:44:32.262743Z",
     "start_time": "2021-06-15T06:44:30.851426Z"
    }
   },
   "outputs": [
    {
     "data": {
      "image/png": "[encoded data removed]",
      "text/plain": [
       "<Figure size 432x288 with 1 Axes>"
      ]
     },
     "metadata": {
      "needs_background": "light"
     },
     "output_type": "display_data"
    }
   ],
   "source": [
    "plt.hist(result_list,bins=500)\n",
    "\n",
    "plt.title(\"Means\", y=1.015, fontsize=20)\n",
    "plt.axvline(x=sum(result_list)/len(result_list), linestyle='--', linewidth=2.5, label=\"sample mean\", c='orange')\n",
    "plt.xlabel(\"samples\", labelpad=14)\n",
    "plt.ylabel(\"frequency of occurence\", labelpad=14)\n",
    "plt.legend();\n",
    "\n",
    "result_list.sort()\n",
    "\n",
    "plt.axvline(x=result_list[int(len(result_list)*0.01)], linestyle='--', linewidth=0.5, label=\"1%\", c='b')\n",
    "plt.axvline(x=result_list[int(len(result_list)*0.99)], linestyle='--', linewidth=0.5, label=\"99%\", c='r')\n",
    "\n",
    "\n",
    "plt.show()"
   ]
  },
  {
   "cell_type": "code",
   "execution_count": 8,
   "metadata": {
    "ExecuteTime": {
     "end_time": "2021-06-15T06:44:32.277722Z",
     "start_time": "2021-06-15T06:44:32.265736Z"
    }
   },
   "outputs": [
    {
     "name": "stdout",
     "output_type": "stream",
     "text": [
      "tensor([0.6104], device='cuda:0', grad_fn=<SortBackward>)\n"
     ]
    }
   ],
   "source": [
    "tensor_sample_list,indices = torch.sort(torch.rand(devided_number,requires_grad=True).to(dev))  # random ideas\\n\n",
    "print(tensor_sample_list)"
   ]
  },
  {
   "cell_type": "code",
   "execution_count": 9,
   "metadata": {
    "ExecuteTime": {
     "end_time": "2021-06-15T06:44:32.293189Z",
     "start_time": "2021-06-15T06:44:32.279716Z"
    },
    "run_control": {
     "marked": true
    }
   },
   "outputs": [
    {
     "name": "stdout",
     "output_type": "stream",
     "text": [
      "tensor([0.6104], device='cuda:0', grad_fn=<DivBackward0>)\n",
      "tensor([1.0000], device='cuda:0', grad_fn=<DivBackward0>)\n"
     ]
    }
   ],
   "source": [
    "print(cdf(tensor_sample_list,Prior_Distribution))\n",
    "print(cdf(tensor_sample_list,\"normal\"))"
   ]
  },
  {
   "cell_type": "code",
   "execution_count": 10,
   "metadata": {
    "ExecuteTime": {
     "end_time": "2021-06-15T06:44:32.341060Z",
     "start_time": "2021-06-15T06:44:32.295184Z"
    },
    "run_control": {
     "marked": true
    }
   },
   "outputs": [],
   "source": [
    "def weight_init(m):\n",
    "    if isinstance(m, torch.nn.Conv2d):\n",
    "        torch.nn.init.xavier_normal_(m.weight)\n",
    "        torch.nn.init.zeros_(m.bias)\n",
    "    elif isinstance(m, torch.nn.Linear):\n",
    "        torch.nn.init.xavier_normal_(m.weight)\n",
    "        torch.nn.init.normal_(m.bias, mean=0.0, std=0.01)\n",
    "\n",
    "\n",
    "\n",
    "def redistribution_value_function(input_tensor):\n",
    "    S = torch.max(torch.sum(input_tensor), torch.ones(1).to(dev))\n",
    "    temp_list = []\n",
    "\n",
    "    for i in range(Agent_number_n):\n",
    "        temp = []\n",
    "\n",
    "        for j in range(Agent_number_n):\n",
    "            if(i != j):\n",
    "                temp .append(input_tensor[j])\n",
    "\n",
    "        temp = torch.stack(temp)\n",
    "        temp_list.append(temp)\n",
    "    return torch.stack(temp_list), S\n",
    "\n",
    "\n",
    "class Net(torch.nn.Module):\n",
    "    def __init__(self):\n",
    "\n",
    "        super(Net, self).__init__()\n",
    "\n",
    "        self.input_dim = (Agent_number_n-1)\n",
    "        self.hidden_dim = 100\n",
    "        self.output_dim = 1\n",
    "        self.hidden_layer_count = 6\n",
    "\n",
    "        current_dim = self.input_dim\n",
    "        self.layers = torch.nn.ModuleList()\n",
    "        for i in range(self.hidden_layer_count):\n",
    "            self.layers.append(torch.nn.Linear(current_dim, self.hidden_dim))\n",
    "            current_dim = self.hidden_dim\n",
    "        self.layers.append(torch.nn.Linear(current_dim, self.output_dim))\n",
    "\n",
    "    def calculate(self, value_list):\n",
    "        h = value_list\n",
    "        for layer in self.layers:\n",
    "            h = torch.relu(layer(h))\n",
    "        return h\n",
    "\n",
    "    def forward(self, input_list, input_label, input_data):\n",
    "        global iteration, echo, target_order\n",
    "        loss1 = 0\n",
    "        loss2 = 0\n",
    "        input_list = torch.from_numpy(\n",
    "            np.array(input_list)).to(dev).type(torch.float32)\n",
    "\n",
    "        input_data = torch.from_numpy(\n",
    "            np.array(input_data)).to(dev).type(torch.float32)\n",
    "        \n",
    "        input_label = torch.from_numpy(\n",
    "            np.array(input_label)).to(dev).type(torch.float32)\n",
    "        \n",
    "        \n",
    "        random_index = random.randint(0, Agent_number_n-1)\n",
    "        tensor_sample_list,indices = torch.sort(torch.rand(devided_number,requires_grad=True).to(dev))\n",
    "     \n",
    "        tensor_sample = torch.rand(devided_number,requires_grad=True)[0].to(dev)\n",
    "    \n",
    "        input_data_temp = input_data.detach().clone()\n",
    "        \n",
    "        input_data_temp[random_index] = tensor_sample\n",
    "\n",
    "        value_list_tensor, S_tensor = redistribution_value_function(\n",
    "            input_data_temp)\n",
    "       \n",
    "        h_list = []\n",
    "        for i in range(Agent_number_n):\n",
    "            h = self.calculate(\n",
    "                value_list_tensor[i].to(dev).type(torch.float32))\n",
    "            h_list.append(h)\n",
    "            \n",
    "        S_tensor = S_tensor.detach().to(dev).type(torch.float32)\n",
    "        \n",
    "        sum_h = torch.sum(torch.cat(h_list)).to(dev)\n",
    "        \n",
    "        temp_loss1 = torch.where((Agent_number_n-1)*S_tensor > sum_h,\n",
    "                 torch.square(((Agent_number_n-1)*S_tensor - sum_h)),\n",
    "                 torch.zeros(1).to(dev)\n",
    "              )\n",
    "\n",
    "        temp_loss2 = torch.where((Agent_number_n-Alpha)*S_tensor < sum_h,\n",
    "                    torch.square((sum_h-(Agent_number_n-Alpha)*S_tensor))/10000,\n",
    "                    torch.zeros(1).to(dev)\n",
    "                  )\n",
    "\n",
    "\n",
    "        loss1 = temp_loss1 * pdf(tensor_sample, Prior_Distribution)\n",
    "        loss2 = temp_loss2 * pdf(tensor_sample, Prior_Distribution)\n",
    "                \n",
    "        return loss1, loss2\n",
    "    def supervised_loss(self, input_list,label):\n",
    "        global iteration,echo,target_order\n",
    "        input_list = torch.from_numpy(\n",
    "            np.array(input_list)).to(dev).type(torch.float32)\n",
    "        loss = 0 \n",
    "        for i in range(Agent_number_n):\n",
    "            h = self.calculate(input_list[i])\n",
    "            loss += torch.square(h - label[i])\n",
    "        return loss"
   ]
  },
  {
   "cell_type": "code",
   "execution_count": 11,
   "metadata": {
    "ExecuteTime": {
     "end_time": "2021-06-15T06:44:32.357018Z",
     "start_time": "2021-06-15T06:44:32.343056Z"
    }
   },
   "outputs": [],
   "source": [
    "random.seed(200)\n",
    "torch.manual_seed(256)\n",
    "net  = Net()\n",
    "net.apply(weight_init)\n",
    "#net = torch.load(\"save/Deep_learning_F_uniform_5_1\")\n",
    "net.to(dev)\n",
    "\n",
    "#optimizer = opt.RMSprop(net.parameters(), lr=0.00001)\n",
    "#optimizer = opt.SGD(net.parameters(), lr=0.00005)\n",
    "optimizer = opt.Adam(net.parameters(), lr=LR)\n",
    "#optimizer = opt.Adadelta(net.parameters(), lr=1.0)\n",
    "\n",
    "scheduler = torch.optim.lr_scheduler.StepLR(optimizer, step_size=100, gamma=0.95)\n",
    "index_train_list = []\n",
    "index_test_list = []\n",
    "train_losses = []\n",
    "test_losses = []"
   ]
  },
  {
   "cell_type": "code",
   "execution_count": 12,
   "metadata": {
    "ExecuteTime": {
     "end_time": "2021-06-15T06:53:43.042844Z",
     "start_time": "2021-06-15T06:44:32.359014Z"
    }
   },
   "outputs": [
    {
     "name": "stdout",
     "output_type": "stream",
     "text": [
      "0 tensor(22.5417, device='cuda:0', grad_fn=<DivBackward0>) 1442.6705322265625\n",
      "50 tensor(0.2667, device='cuda:0', grad_fn=<DivBackward0>) 17.07050895690918\n",
      "100 tensor(0.0238, device='cuda:0', grad_fn=<DivBackward0>) 1.5237680673599243\n",
      "150 tensor(0.0051, device='cuda:0', grad_fn=<DivBackward0>) 0.32477107644081116\n",
      "200 tensor(0.0027, device='cuda:0', grad_fn=<DivBackward0>) 0.17511530220508575\n",
      "250 tensor(0.0021, device='cuda:0', grad_fn=<DivBackward0>) 0.1373065859079361\n",
      "300 tensor(0.0010, device='cuda:0', grad_fn=<DivBackward0>) 0.06558028608560562\n",
      "350 tensor(0.0012, device='cuda:0', grad_fn=<DivBackward0>) 0.0742197334766388\n",
      "400 tensor(0.0008, device='cuda:0', grad_fn=<DivBackward0>) 0.05015721544623375\n",
      "450 tensor(0.0006, device='cuda:0', grad_fn=<DivBackward0>) 0.04099799320101738\n",
      "500 tensor(0.0006, device='cuda:0', grad_fn=<DivBackward0>) 0.03705306351184845\n",
      "550 tensor(0.0006, device='cuda:0', grad_fn=<DivBackward0>) 0.03928273543715477\n",
      "600 tensor(0.0005, device='cuda:0', grad_fn=<DivBackward0>) 0.03266099840402603\n",
      "650 tensor(0.0005, device='cuda:0', grad_fn=<DivBackward0>) 0.0327051505446434\n",
      "700 tensor(0.0005, device='cuda:0', grad_fn=<DivBackward0>) 0.03441648930311203\n",
      "750 tensor(0.0005, device='cuda:0', grad_fn=<DivBackward0>) 0.030969912186264992\n",
      "800 tensor(0.0005, device='cuda:0', grad_fn=<DivBackward0>) 0.03014424256980419\n",
      "850 tensor(0.0004, device='cuda:0', grad_fn=<DivBackward0>) 0.022569501772522926\n",
      "900 tensor(0.0004, device='cuda:0', grad_fn=<DivBackward0>) 0.02347145788371563\n",
      "950 tensor(0.0003, device='cuda:0', grad_fn=<DivBackward0>) 0.02014566771686077\n"
     ]
    }
   ],
   "source": [
    "#supervised\n",
    "index_supervisedtrain_list = []\n",
    "supervisedtrain_losses = []\n",
    "for iteration in range(1000):\n",
    "\n",
    "    temp_number = 0\n",
    "    total_batch_loss = 0 \n",
    "    \n",
    "    loss_sum = 0\n",
    "    denominator = 0\n",
    "    for index in range(0, BATCH_SIZE):\n",
    "        training_data_i, training_S, training_data,label = appen_train(\n",
    "            Generate_distribution(Agent_number_n))\n",
    "        h_loss = net.supervised_loss(training_data_i, label)\n",
    "        denominator += 1\n",
    "        loss_sum += h_loss\n",
    "\n",
    "    loss_sum = torch.sum(loss_sum)\n",
    "    loss = (loss_sum) / denominator \n",
    "    total_batch_loss += float(loss_sum)\n",
    "\n",
    "    optimizer.zero_grad()\n",
    "    loss.backward()\n",
    "    optimizer.step()\n",
    "\n",
    "    if (iteration%50 == 0):\n",
    "        print(iteration,loss,total_batch_loss)\n",
    "        index_supervisedtrain_list.append(iteration)\n",
    "        supervisedtrain_losses.append(total_batch_loss)\n",
    "    scheduler.step()"
   ]
  },
  {
   "cell_type": "code",
   "execution_count": 14,
   "metadata": {
    "ExecuteTime": {
     "end_time": "2021-06-15T08:14:56.278103Z",
     "start_time": "2021-06-15T07:06:17.111664Z"
    }
   },
   "outputs": [
    {
     "name": "stdout",
     "output_type": "stream",
     "text": [
      "0 tensor(9.8841e-06, device='cuda:0', grad_fn=<DivBackward0>) 0.0004323868779465556 0.00020019478688482195\n",
      "batch iteration 0\n",
      "batch_loss: 0.0006 \n",
      "4.482190132141113 3.962397038936615 0.5197930932044983 0.1456562070795444\n",
      "\n",
      "50 tensor(5.3179e-06, device='cuda:0', grad_fn=<DivBackward0>) 3.866298357024789e-07 0.0003399610286578536\n",
      "batch iteration 50\n",
      "batch_loss: 0.0003 \n",
      "4.539346814155579 3.9943538202128646 0.544992993942714 0.10128484462188547\n",
      "\n",
      "100 tensor(4.0151e-06, device='cuda:0', grad_fn=<DivBackward0>) 0.0 0.00025696735247038305\n",
      "batch iteration 100\n",
      "batch_loss: 0.0003 \n",
      "4.512672483921051 3.9925067383080677 0.5201657456129833 0.09352302309365879\n",
      "\n",
      "150 tensor(4.2867e-06, device='cuda:0', grad_fn=<DivBackward0>) 0.0 0.00027434839284978807\n",
      "batch iteration 150\n",
      "batch_loss: 0.0003 \n",
      "4.506351351737976 3.9910258316072125 0.5153255201307636 0.09910182022259617\n",
      "\n",
      "200 tensor(3.2927e-06, device='cuda:0', grad_fn=<DivBackward0>) 0.0 0.00021073082461953163\n",
      "batch iteration 200\n",
      "batch_loss: 0.0002 \n",
      "4.511024594306946 3.9818342259580604 0.5291903683488854 0.10687893217980715\n",
      "\n",
      "250 tensor(2.9742e-06, device='cuda:0', grad_fn=<DivBackward0>) 0.0 0.00019035019795410335\n",
      "batch iteration 250\n",
      "batch_loss: 0.0002 \n",
      "4.512734770774841 3.9815461662106624 0.5311886045641789 0.10716968410673866\n",
      "\n",
      "300 tensor(3.1824e-06, device='cuda:0', grad_fn=<DivBackward0>) 0.0 0.0002036758669419214\n",
      "batch iteration 300\n",
      "batch_loss: 0.0002 \n",
      "4.535338401794434 3.9863684478629007 0.5489699539315329 0.09952094508690346\n",
      "\n",
      "350 tensor(3.3652e-06, device='cuda:0', grad_fn=<DivBackward0>) 0.0 0.00021537432621698827\n",
      "batch iteration 350\n",
      "batch_loss: 0.0002 \n",
      "4.54912543296814 3.995593393445506 0.5535320395226337 0.08542443834944535\n",
      "\n",
      "400 tensor(3.1031e-06, device='cuda:0', grad_fn=<DivBackward0>) 0.0 0.0001985988928936422\n",
      "batch iteration 400\n",
      "batch_loss: 0.0002 \n",
      "4.538664400577545 3.991158853569765 0.5475055470077801 0.08980904044216009\n",
      "\n",
      "450 tensor(2.8169e-06, device='cuda:0', grad_fn=<DivBackward0>) 0.0 0.00018027843907475471\n",
      "batch iteration 450\n",
      "batch_loss: 0.0002 \n",
      "4.521524667739868 3.9772992578449635 0.5442254098949046 0.1071552605916768\n",
      "\n",
      "500 tensor(2.9510e-06, device='cuda:0', grad_fn=<DivBackward0>) 0.0 0.00018886175530496985\n",
      "batch iteration 500\n",
      "batch_loss: 0.0002 \n",
      "4.544853091239929 3.991271521172598 0.553581570067331 0.08783097556468844\n",
      "\n",
      "550 tensor(2.6458e-06, device='cuda:0', grad_fn=<DivBackward0>) 0.0 0.00016933125152718276\n",
      "batch iteration 550\n",
      "batch_loss: 0.0002 \n",
      "4.553997755050659 3.9827987512719036 0.5711990037787555 0.09694998071665184\n",
      "\n",
      "600 tensor(3.5291e-06, device='cuda:0', grad_fn=<DivBackward0>) 0.0 0.000225862575462088\n",
      "batch iteration 600\n",
      "batch_loss: 0.0002 \n",
      "4.580851316452026 3.995573334636047 0.5852779818159792 0.08080322429084852\n",
      "\n",
      "650 tensor(2.1306e-06, device='cuda:0', grad_fn=<DivBackward0>) 8.460092431050725e-06 0.00012789617176167667\n",
      "batch iteration 650\n",
      "batch_loss: 0.0001 \n",
      "4.557174265384674 3.979441007456001 0.5777332579286729 0.09985475251447484\n",
      "\n",
      "700 tensor(2.8331e-06, device='cuda:0', grad_fn=<DivBackward0>) 0.0 0.00018131700926460326\n",
      "batch iteration 700\n",
      "batch_loss: 0.0002 \n",
      "4.589166045188904 3.996879008039212 0.592287037149692 0.07599283770079612\n",
      "\n",
      "750 tensor(2.4738e-06, device='cuda:0', grad_fn=<DivBackward0>) 0.0 0.00015832454664632678\n",
      "batch iteration 750\n",
      "batch_loss: 0.0002 \n",
      "4.578916311264038 3.984640371422096 0.5942759398419422 0.09207183342012959\n",
      "\n",
      "800 tensor(2.6884e-06, device='cuda:0', grad_fn=<DivBackward0>) 0.0 0.00017205605399794877\n",
      "batch iteration 800\n",
      "batch_loss: 0.0002 \n",
      "4.597999691963196 3.992176363385079 0.6058233285781167 0.08221268780645374\n",
      "\n",
      "850 tensor(2.6257e-06, device='cuda:0', grad_fn=<DivBackward0>) 0.0 0.00016804769984446466\n",
      "batch iteration 850\n",
      "batch_loss: 0.0002 \n",
      "4.592990040779114 3.9873880941194586 0.6056019466596552 0.08949544457870173\n",
      "\n",
      "900 tensor(2.8518e-06, device='cuda:0', grad_fn=<DivBackward0>) 0.0 0.00018251581059303135\n",
      "batch iteration 900\n",
      "batch_loss: 0.0002 \n",
      "4.609771549701691 3.9878111688313873 0.6219603808703034 0.08934380262206565\n",
      "\n",
      "950 tensor(1.9222e-06, device='cuda:0', grad_fn=<DivBackward0>) 0.0 0.0001230189809575677\n",
      "batch iteration 950\n",
      "batch_loss: 0.0001 \n",
      "4.587518930435181 3.98146113134351 0.6060577990916705 0.09887501907062157\n",
      "\n",
      "1000 tensor(2.7192e-06, device='cuda:0', grad_fn=<DivBackward0>) 0.0 0.00017403147649019957\n",
      "batch iteration 1000\n",
      "batch_loss: 0.0002 \n",
      "4.660667598247528 4.002734182410058 0.6579334158374701 0.07138968870084028\n",
      "\n",
      "1050 tensor(2.3840e-06, device='cuda:0', grad_fn=<DivBackward0>) 0.0 0.00015257533232215792\n",
      "batch iteration 1050\n",
      "batch_loss: 0.0002 \n",
      "4.636396110057831 3.998581117507042 0.6378149925507888 0.06756681257430852\n",
      "\n",
      "1100 tensor(2.2154e-06, device='cuda:0', grad_fn=<DivBackward0>) 0.0 0.0001417824678355828\n",
      "batch iteration 1100\n",
      "batch_loss: 0.0001 \n",
      "4.615230202674866 3.9912627083524663 0.6239674943223994 0.07780214740491509\n",
      "\n",
      "1150 tensor(1.8878e-06, device='cuda:0', grad_fn=<DivBackward0>) 0.0 0.00012081699969712645\n",
      "batch iteration 1150\n",
      "batch_loss: 0.0001 \n",
      "4.6046746373176575 3.984402625190347 0.6202720121273106 0.08714670279682846\n",
      "\n",
      "1200 tensor(2.0063e-06, device='cuda:0', grad_fn=<DivBackward0>) 0.0 0.00012840244744438678\n",
      "batch iteration 1200\n",
      "batch_loss: 0.0001 \n",
      "4.642090916633606 3.994374731752498 0.6477161848811082 0.07289870595655534\n",
      "\n",
      "1250 tensor(1.6281e-06, device='cuda:0', grad_fn=<DivBackward0>) 0.0 0.0001042010189848952\n",
      "batch iteration 1250\n",
      "batch_loss: 0.0001 \n",
      "4.636169910430908 3.988132525201859 0.6480373852290491 0.08144704047989126\n",
      "\n",
      "1300 tensor(1.9232e-06, device='cuda:0', grad_fn=<DivBackward0>) 0.0 0.00012308733130339533\n",
      "batch iteration 1300\n",
      "batch_loss: 0.0001 \n",
      "4.622550308704376 3.987207386797559 0.6353429219068172 0.08391647148737302\n",
      "\n",
      "1350 tensor(1.9622e-06, device='cuda:0', grad_fn=<DivBackward0>) 0.0 0.000125581631436944\n",
      "batch iteration 1350\n",
      "batch_loss: 0.0001 \n",
      "4.627758145332336 3.986569983719559 0.6411881616127775 0.08170294482292162\n",
      "\n",
      "1400 tensor(1.9193e-06, device='cuda:0', grad_fn=<DivBackward0>) 0.0 0.0001228359033120796\n",
      "batch iteration 1400\n",
      "batch_loss: 0.0001 \n",
      "4.623063683509827 3.9894952328569344 0.6335684506528922 0.08236296586285352\n",
      "\n",
      "1450 tensor(1.9237e-06, device='cuda:0', grad_fn=<DivBackward0>) 0.0 0.00012311911268625408\n",
      "batch iteration 1450\n",
      "batch_loss: 0.0001 \n",
      "4.640184283256531 3.9914018737612853 0.6487824094952455 0.07535549443183331\n",
      "\n",
      "1500 tensor(1.8385e-06, device='cuda:0', grad_fn=<DivBackward0>) 0.0 0.00011766397074097767\n",
      "batch iteration 1500\n",
      "batch_loss: 0.0001 \n",
      "4.678757011890411 3.99798294363148 0.6807740682589314 0.06454481966273296\n",
      "\n",
      "1550 tensor(1.9746e-06, device='cuda:0', grad_fn=<DivBackward0>) 0.0 0.0001263764570467174\n",
      "batch iteration 1550\n",
      "batch_loss: 0.0001 \n",
      "4.6631410121917725 3.990234338294161 0.6729066738976113 0.0741771961117057\n",
      "\n",
      "1600 tensor(1.9572e-06, device='cuda:0', grad_fn=<DivBackward0>) 0.0 0.00012526220234576613\n",
      "batch iteration 1600\n",
      "batch_loss: 0.0001 \n",
      "4.667458891868591 3.9914199741662704 0.6760389177023209 0.07258203716992595\n",
      "\n",
      "1650 tensor(1.6746e-06, device='cuda:0', grad_fn=<DivBackward0>) 0.0 0.00010717730765463784\n",
      "batch iteration 1650\n",
      "batch_loss: 0.0001 \n",
      "4.683414578437805 3.9966783223972864 0.6867362560405188 0.06466562909961171\n",
      "\n",
      "1700 tensor(1.9243e-06, device='cuda:0', grad_fn=<DivBackward0>) 0.0 0.0001231542555615306\n",
      "batch iteration 1700\n",
      "batch_loss: 0.0001 \n",
      "4.666520357131958 4.00143943159085 0.6650809255411083 0.059551211064286846\n",
      "\n",
      "1750 tensor(1.5679e-06, device='cuda:0', grad_fn=<DivBackward0>) 0.0 0.00010034486331278458\n",
      "batch iteration 1750\n",
      "batch_loss: 0.0001 \n",
      "4.658142447471619 3.991175410989407 0.6669670364822116 0.07056637092068474\n",
      "\n",
      "1800 tensor(2.5645e-06, device='cuda:0', grad_fn=<DivBackward0>) 4.6886634663678706e-05 0.0001172390257124789\n",
      "batch iteration 1800\n",
      "batch_loss: 0.0002 \n",
      "4.682681322097778 3.9944794470462557 0.6882018750515226 0.06805298029834583\n",
      "\n",
      "1850 tensor(1.4925e-06, device='cuda:0', grad_fn=<DivBackward0>) 0.0 9.552251867717132e-05\n",
      "batch iteration 1850\n",
      "batch_loss: 0.0001 \n",
      "4.670901954174042 3.9863508815682267 0.684551072605815 0.07796138607381797\n",
      "\n",
      "1900 tensor(1.6325e-06, device='cuda:0', grad_fn=<DivBackward0>) 0.0 0.00010447773820487782\n",
      "batch iteration 1900\n",
      "batch_loss: 0.0001 \n",
      "4.673825681209564 3.9914163837580685 0.6824092974514957 0.07009274084765549\n",
      "\n",
      "1950 tensor(1.6224e-06, device='cuda:0', grad_fn=<DivBackward0>) 0.0 0.00010383665357949212\n",
      "batch iteration 1950\n",
      "batch_loss: 0.0001 \n"
     ]
    },
    {
     "name": "stdout",
     "output_type": "stream",
     "text": [
      "4.670758783817291 3.9917347135034444 0.6790240703138468 0.0687023293829312\n",
      "\n",
      "2000 tensor(1.4344e-06, device='cuda:0', grad_fn=<DivBackward0>) 0.0 9.180162305710837e-05\n",
      "batch iteration 2000\n",
      "batch_loss: 0.0001 \n",
      "4.669380605220795 3.99241337022548 0.6769672349953146 0.06843565147235564\n",
      "\n"
     ]
    }
   ],
   "source": [
    "for iteration in range(int(echo)):\n",
    "    \n",
    "    temp_number = 0\n",
    "    total_batch_loss = 0 \n",
    "        \n",
    "    loss2_list = []\n",
    "    loss1_sum = 0\n",
    "    loss2_sum = 0\n",
    "    denominator = 0\n",
    "    for index in range(0, BATCH_SIZE):\n",
    "        training_data_i, training_label, training_data,label = appen_train(\n",
    "            Generate_distribution(Agent_number_n))\n",
    "        h_loss1, h_loss2 = net(training_data_i, training_label,\n",
    "                                       training_data)\n",
    "        denominator += 1\n",
    "        loss1_sum += h_loss1\n",
    "        loss2_sum += h_loss2\n",
    "\n",
    "    loss_sum = torch.sum(loss1_sum + loss2_sum)\n",
    "    loss = (loss_sum) / denominator \n",
    "    total_batch_loss +=float(loss_sum)\n",
    "    optimizer.zero_grad()\n",
    "\n",
    "    loss.backward()\n",
    "\n",
    "    optimizer.step()\n",
    "\n",
    "    temp_number = iteration\n",
    "    index_train_list.append(iteration)\n",
    "    train_losses.append(total_batch_loss)\n",
    "    if (iteration%50 == 0):\n",
    "        print(temp_number, loss, float(loss1_sum), float(loss2_sum))\n",
    "\n",
    "        print(\"batch iteration\", iteration)\n",
    "        print(\"batch_loss: %.4f \" % total_batch_loss)\n",
    "\n",
    "        result_list = []\n",
    "        for index in range(len(testing_data)):\n",
    "            h_list = []\n",
    "            for i in range(Agent_number_n):\n",
    "                h = net.calculate(\n",
    "                    torch.tensor(testing_data[index][i]).to(dev).type(\n",
    "                        torch.float32))\n",
    "                h_list.append(float(h))\n",
    "            result_list.append(sum(h_list) / testing_label[index])\n",
    "        print(max(result_list), min(result_list),\n",
    "              max(result_list) - min(result_list),\n",
    "              (sum(result_list) / len(result_list) - min(result_list))+ Agent_number_n-1 - min(min(result_list),Agent_number_n-1) )\n",
    "\n",
    "        index_test_list.append(iteration)\n",
    "        test_losses.append(\n",
    "            (sum(result_list) / len(result_list) - min(result_list))+ Agent_number_n-1 - min(min(result_list),Agent_number_n-1) )\n",
    "        print()\n",
    "        \n",
    "    scheduler.step()\n"
   ]
  },
  {
   "cell_type": "code",
   "execution_count": 15,
   "metadata": {
    "ExecuteTime": {
     "end_time": "2021-06-15T08:27:28.709465Z",
     "start_time": "2021-06-15T08:27:28.535423Z"
    }
   },
   "outputs": [
    {
     "data": {
      "image/png": "[encoded data removed]",
      "text/plain": [
       "<Figure size 432x288 with 1 Axes>"
      ]
     },
     "metadata": {
      "needs_background": "light"
     },
     "output_type": "display_data"
    }
   ],
   "source": [
    "plt.ylim(0, 1.0)\n",
    "plt.plot(index_test_list,test_losses)\n",
    "plt.ylabel('Testing Loss')\n",
    "plt.xlabel('Batch Epoch')\n",
    "plt.show()\n",
    "\n"
   ]
  },
  {
   "cell_type": "code",
   "execution_count": 16,
   "metadata": {
    "ExecuteTime": {
     "end_time": "2021-06-15T08:27:31.234322Z",
     "start_time": "2021-06-15T08:27:31.051284Z"
    }
   },
   "outputs": [
    {
     "data": {
      "image/png": "[encoded data removed]",
      "text/plain": [
       "<Figure size 432x288 with 1 Axes>"
      ]
     },
     "metadata": {
      "needs_background": "light"
     },
     "output_type": "display_data"
    }
   ],
   "source": [
    "import csv\n",
    "with open('save/test_loss_feed_uniform_5.csv', 'w', newline='') as csvfile_feed:\n",
    "    spamwriter = csv.writer(csvfile_feed)\n",
    "    spamwriter.writerow(index_test_list)\n",
    "    spamwriter.writerow(test_losses)\n",
    "\n",
    "with open('save/test_loss_unfeed_uniform_5.csv') as csvfile_unfeed:\n",
    "    reader = csv.reader(csvfile_unfeed)\n",
    "    list_feed = []\n",
    "    for row in reader:\n",
    "        row = np.array(row)\n",
    "        temp_list = []\n",
    "        for i in range(len(row)):\n",
    "            temp_list.append(float(row[i]))\n",
    "\n",
    "        list_feed.append(temp_list)\n",
    "    plt.ylim(0, 1.0)\n",
    "    plt.plot(list_feed[0],list_feed[1],label='neural network')\n",
    "    plt.plot(index_test_list,test_losses,label='feed distribution')\n",
    "    plt.ylabel('Testing Loss')\n",
    "    plt.xlabel('Batch Epoch')\n",
    "    #plt.title('Two or more lines on same plot with suitable legends ')\n",
    "    # show a legend on the plot\n",
    "    plt.legend()\n",
    "    plt.show()"
   ]
  },
  {
   "cell_type": "code",
   "execution_count": 17,
   "metadata": {
    "ExecuteTime": {
     "end_time": "2021-06-15T08:27:33.696825Z",
     "start_time": "2021-06-15T08:27:33.515289Z"
    }
   },
   "outputs": [
    {
     "data": {
      "image/png": "[encoded data removed]",
      "text/plain": [
       "<Figure size 432x288 with 1 Axes>"
      ]
     },
     "metadata": {
      "needs_background": "light"
     },
     "output_type": "display_data"
    }
   ],
   "source": [
    "plt.ylim(0, 1.0)\n",
    "\n",
    "plt.plot(index_train_list,train_losses)\n",
    "plt.ylabel('training loss')\n",
    "\n",
    "plt.plot(index_test_list,test_losses)\n",
    "plt.ylabel('training loss')\n",
    "\n",
    "plt.show()"
   ]
  },
  {
   "cell_type": "code",
   "execution_count": 18,
   "metadata": {
    "ExecuteTime": {
     "end_time": "2021-06-15T08:27:35.981329Z",
     "start_time": "2021-06-15T08:27:35.967349Z"
    }
   },
   "outputs": [],
   "source": [
    "torch.save(net, \"save/Deep_learning_F_uniform_5_1\")"
   ]
  },
  {
   "cell_type": "code",
   "execution_count": 19,
   "metadata": {
    "ExecuteTime": {
     "end_time": "2021-06-15T08:28:26.425654Z",
     "start_time": "2021-06-15T08:27:38.160663Z"
    }
   },
   "outputs": [
    {
     "name": "stdout",
     "output_type": "stream",
     "text": [
      "4.669380605220795 3.99241337022548 0.6769672349953146 0.06084902169783524\n"
     ]
    }
   ],
   "source": [
    "denominator = 0\n",
    "result_list = []\n",
    "for index in range(len(testing_data)):\n",
    "    h_list = []\n",
    "    for i in range(Agent_number_n):\n",
    "        h = net.calculate(torch.tensor(testing_data[index][i]).cuda().type(torch.float32))\n",
    "        h_list.append(float(h))\n",
    "    \n",
    "    #print(sum(h_list),h_list,sum(h_list)/testing_label[index])\n",
    "    result_list.append(sum(h_list)/testing_label[index])\n",
    "    \n",
    "\n",
    "print(max(result_list),min(result_list),max(result_list)-min(result_list),sum(result_list)/len(result_list)-min(result_list))"
   ]
  },
  {
   "cell_type": "code",
   "execution_count": 20,
   "metadata": {
    "ExecuteTime": {
     "end_time": "2021-06-15T08:28:30.299527Z",
     "start_time": "2021-06-15T08:28:28.803929Z"
    }
   },
   "outputs": [
    {
     "data": {
      "image/png": "[encoded data removed]",
      "text/plain": [
       "<Figure size 432x288 with 1 Axes>"
      ]
     },
     "metadata": {
      "needs_background": "light"
     },
     "output_type": "display_data"
    }
   ],
   "source": [
    "plt.hist(result_list,bins=500)\n",
    "\n",
    "plt.title(\"Means\", y=1.015, fontsize=20)\n",
    "plt.axvline(x=sum(result_list)/len(result_list), linestyle='--', linewidth=2.5, label=\"sample mean\", c='orange')\n",
    "plt.xlabel(\"samples\", labelpad=14)\n",
    "plt.ylabel(\"frequency of occurence\", labelpad=14)\n",
    "plt.legend();\n",
    "\n",
    "result_list.sort()\n",
    "\n",
    "plt.axvline(x=result_list[int(len(result_list)*0.01)], linestyle='--', linewidth=0.5, label=\"1%\", c='b')\n",
    "plt.axvline(x=result_list[int(len(result_list)*0.99)], linestyle='--', linewidth=0.5, label=\"99%\", c='r')\n",
    "\n",
    "\n",
    "plt.show()"
   ]
  },
  {
   "cell_type": "code",
   "execution_count": null,
   "metadata": {},
   "outputs": [],
   "source": []
  },
  {
   "cell_type": "code",
   "execution_count": null,
   "metadata": {},
   "outputs": [],
   "source": []
  }
 ],
 "metadata": {
  "hide_input": false,
  "kernelspec": {
   "display_name": "Python 3",
   "language": "python",
   "name": "python3"
  },
  "language_info": {
   "codemirror_mode": {
    "name": "ipython",
    "version": 3
   },
   "file_extension": ".py",
   "mimetype": "text/x-python",
   "name": "python",
   "nbconvert_exporter": "python",
   "pygments_lexer": "ipython3",
   "version": "3.8.3"
  },
  "varInspector": {
   "cols": {
    "lenName": 16,
    "lenType": 16,
    "lenVar": 40
   },
   "kernels_config": {
    "python": {
     "delete_cmd_postfix": "",
     "delete_cmd_prefix": "del ",
     "library": "var_list.py",
     "varRefreshCmd": "print(var_dic_list())"
    },
    "r": {
     "delete_cmd_postfix": ") ",
     "delete_cmd_prefix": "rm(",
     "library": "var_list.r",
     "varRefreshCmd": "cat(var_dic_list()) "
    }
   },
   "types_to_exclude": [
    "module",
    "function",
    "builtin_function_or_method",
    "instance",
    "_Feature"
   ],
   "window_display": false
  }
 },
 "nbformat": 4,
 "nbformat_minor": 4
}
