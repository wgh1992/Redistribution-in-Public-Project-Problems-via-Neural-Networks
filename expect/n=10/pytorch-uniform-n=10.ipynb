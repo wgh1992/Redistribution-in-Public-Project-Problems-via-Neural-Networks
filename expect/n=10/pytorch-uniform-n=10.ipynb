{
 "cells": [
  {
   "cell_type": "code",
   "execution_count": 1,
   "metadata": {
    "ExecuteTime": {
     "end_time": "2021-06-15T12:20:41.341040Z",
     "start_time": "2021-06-15T12:20:39.400934Z"
    }
   },
   "outputs": [
    {
     "name": "stdout",
     "output_type": "stream",
     "text": [
      "pygame 2.0.1 (SDL 2.0.14, Python 3.8.3)\n",
      "Hello from the pygame community. https://www.pygame.org/contribute.html\n"
     ]
    },
    {
     "name": "stderr",
     "output_type": "stream",
     "text": [
      "D:\\ComputerSoftwares\\Anaconda\\lib\\site-packages\\sklearn\\utils\\deprecation.py:143: FutureWarning: The sklearn.datasets.samples_generator module is  deprecated in version 0.22 and will be removed in version 0.24. The corresponding classes / functions should instead be imported from sklearn.datasets. Anything that cannot be imported from sklearn.datasets is now part of the private API.\n",
      "  warnings.warn(message, FutureWarning)\n"
     ]
    },
    {
     "name": "stdout",
     "output_type": "stream",
     "text": [
      "cuda:0\n"
     ]
    }
   ],
   "source": [
    "\n",
    "import pygame\n",
    "import random\n",
    "import os\n",
    "import time\n",
    "import numpy as np\n",
    "import math\n",
    "import torch\n",
    "import torch.nn.functional\n",
    "import matplotlib.pyplot as plt\n",
    "import torch.optim as opt\n",
    "from torch.autograd import Variable\n",
    "from sklearn.model_selection import train_test_split\n",
    "\n",
    "import scipy.stats as st\n",
    "from sklearn.datasets.samples_generator import make_blobs\n",
    "from matplotlib.colors import LogNorm \n",
    "import matplotlib.cm as cm\n",
    "import torch.nn as nn\n",
    "import numpy as np\n",
    "import matplotlib.pyplot as plt\n",
    "import plotly.graph_objects as go\n",
    "import plotly.express as px\n",
    "from scipy.interpolate import griddata\n",
    "# import LossAccPlotter\n",
    "# from laplotter import LossAccPlotter\n",
    "# from check_laplotter import show_chart, add_noise\n",
    "\n",
    "if torch.cuda.is_available():  \n",
    "    dev = \"cuda:0\" \n",
    "else:  \n",
    "    dev = \"cpu\"  \n",
    "\n",
    "print(dev)\n",
    "\n"
   ]
  },
  {
   "cell_type": "code",
   "execution_count": 2,
   "metadata": {
    "ExecuteTime": {
     "end_time": "2021-06-15T12:20:41.348683Z",
     "start_time": "2021-06-15T12:20:41.343035Z"
    },
    "run_control": {
     "marked": true
    }
   },
   "outputs": [],
   "source": [
    "global temp_list\n",
    "temp_list = []\n",
    "Agent_number_n=10;\n",
    "Alpha = 1.0;\n",
    "\n",
    "echo = 2001\n",
    "BATCH_SIZE = 64\n",
    "LR = 0.001           # learning rate for generator\n",
    "\n",
    "def Generate_distribution(Agent_number_n):\n",
    "    return sorted(np.random.rand(Agent_number_n), reverse=True)\n",
    "    #return sorted(np.random.normal(normalloc,normalscale,Agent_number_n), reverse=True)\n"
   ]
  },
  {
   "cell_type": "code",
   "execution_count": 3,
   "metadata": {
    "ExecuteTime": {
     "end_time": "2021-06-15T12:20:42.202917Z",
     "start_time": "2021-06-15T12:20:41.350218Z"
    }
   },
   "outputs": [
    {
     "name": "stdout",
     "output_type": "stream",
     "text": [
      "[[[0.6921212  0.67906842 0.66683802 ... 0.13720515 0.10105965 0.06556743]\n",
      "  [0.87089903 0.67906842 0.66683802 ... 0.13720515 0.10105965 0.06556743]\n",
      "  [0.87089903 0.6921212  0.66683802 ... 0.13720515 0.10105965 0.06556743]\n",
      "  ...\n",
      "  [0.87089903 0.6921212  0.67906842 ... 0.2981782  0.10105965 0.06556743]\n",
      "  [0.87089903 0.6921212  0.67906842 ... 0.2981782  0.13720515 0.06556743]\n",
      "  [0.87089903 0.6921212  0.67906842 ... 0.2981782  0.13720515 0.10105965]]\n",
      "\n",
      " [[0.93008531 0.82904764 0.76497219 ... 0.33755598 0.2819778  0.10826586]\n",
      "  [0.97166386 0.82904764 0.76497219 ... 0.33755598 0.2819778  0.10826586]\n",
      "  [0.97166386 0.93008531 0.76497219 ... 0.33755598 0.2819778  0.10826586]\n",
      "  ...\n",
      "  [0.97166386 0.93008531 0.82904764 ... 0.55892111 0.2819778  0.10826586]\n",
      "  [0.97166386 0.93008531 0.82904764 ... 0.55892111 0.33755598 0.10826586]\n",
      "  [0.97166386 0.93008531 0.82904764 ... 0.55892111 0.33755598 0.2819778 ]]\n",
      "\n",
      " [[0.89604267 0.45329665 0.44817867 ... 0.14742013 0.08238226 0.025712  ]\n",
      "  [0.92987766 0.45329665 0.44817867 ... 0.14742013 0.08238226 0.025712  ]\n",
      "  [0.92987766 0.89604267 0.44817867 ... 0.14742013 0.08238226 0.025712  ]\n",
      "  ...\n",
      "  [0.92987766 0.89604267 0.45329665 ... 0.22430692 0.08238226 0.025712  ]\n",
      "  [0.92987766 0.89604267 0.45329665 ... 0.22430692 0.14742013 0.025712  ]\n",
      "  [0.92987766 0.89604267 0.45329665 ... 0.22430692 0.14742013 0.08238226]]\n",
      "\n",
      " ...\n",
      "\n",
      " [[0.9085913  0.76985861 0.75196146 ... 0.37459326 0.36357046 0.34730175]\n",
      "  [0.9797768  0.76985861 0.75196146 ... 0.37459326 0.36357046 0.34730175]\n",
      "  [0.9797768  0.9085913  0.75196146 ... 0.37459326 0.36357046 0.34730175]\n",
      "  ...\n",
      "  [0.9797768  0.9085913  0.76985861 ... 0.58332147 0.36357046 0.34730175]\n",
      "  [0.9797768  0.9085913  0.76985861 ... 0.58332147 0.37459326 0.34730175]\n",
      "  [0.9797768  0.9085913  0.76985861 ... 0.58332147 0.37459326 0.36357046]]\n",
      "\n",
      " [[0.85063727 0.81339596 0.6483228  ... 0.29849362 0.23514514 0.07192763]\n",
      "  [0.97843354 0.81339596 0.6483228  ... 0.29849362 0.23514514 0.07192763]\n",
      "  [0.97843354 0.85063727 0.6483228  ... 0.29849362 0.23514514 0.07192763]\n",
      "  ...\n",
      "  [0.97843354 0.85063727 0.81339596 ... 0.36170443 0.23514514 0.07192763]\n",
      "  [0.97843354 0.85063727 0.81339596 ... 0.36170443 0.29849362 0.07192763]\n",
      "  [0.97843354 0.85063727 0.81339596 ... 0.36170443 0.29849362 0.23514514]]\n",
      "\n",
      " [[0.96689582 0.93521572 0.80501338 ... 0.57237596 0.42634964 0.22851596]\n",
      "  [0.99284067 0.93521572 0.80501338 ... 0.57237596 0.42634964 0.22851596]\n",
      "  [0.99284067 0.96689582 0.80501338 ... 0.57237596 0.42634964 0.22851596]\n",
      "  ...\n",
      "  [0.99284067 0.96689582 0.93521572 ... 0.57915311 0.42634964 0.22851596]\n",
      "  [0.99284067 0.96689582 0.93521572 ... 0.57915311 0.57237596 0.22851596]\n",
      "  [0.99284067 0.96689582 0.93521572 ... 0.57915311 0.57237596 0.42634964]]]\n",
      "[4.19923468 6.13769552 3.732212   ... 6.43391447 5.28261489 6.82659732]\n"
     ]
    }
   ],
   "source": [
    "def h_3_star(a, b, t):\n",
    "    return a - min(a, t) + b - min(b, t) + max(min(a, t)+min(b, t), 2*t/3) + 1/2 * max(min(a, t)+min(b, t), t) - 1/2 * max(max(min(a, t), min(b, t)), 2*t/3) - t/6\n",
    "\n",
    "\n",
    "def f_function(a, b, z):\n",
    "    if(z >= 1):\n",
    "        return (a+b)/2 + z/3\n",
    "    else:\n",
    "        return z/3 + h_3_star(a, b, 1-z)/2\n",
    "\n",
    "def h_function_label(input_list):\n",
    "    #input_list = sorted(input_list)\n",
    "    g_list = []\n",
    "    for j1 in range(len(input_list) ):\n",
    "        for j2 in range(len(input_list)):\n",
    "            if(j1 != j2):\n",
    "                a = input_list[j1]\n",
    "                b = input_list[j2]\n",
    "                z = sum(input_list)- a-b\n",
    "\n",
    "                g_list.append( f_function(a, b, z) * (Agent_number_n-1))\n",
    "    h = sum(g_list) * 3 /  (Agent_number_n) /  (Agent_number_n-1) /  (Agent_number_n - 2)\n",
    "    return h\n",
    "\n",
    "def appen(_x_list,y):\n",
    "    global temp_list\n",
    "    temp_list.append(_x_list)\n",
    "    \n",
    "def appen_train(x_list):\n",
    "    global temp_list\n",
    "                \n",
    "    S= max(sum(x_list),1.0);\n",
    "    temp_list = []\n",
    "    h_list = []\n",
    "    for i in range(Agent_number_n):\n",
    "        temp = []\n",
    "        for j in range(Agent_number_n):\n",
    "            if(i!=j):\n",
    "                temp.append(x_list[j])\n",
    "        appen(temp,S)\n",
    "        \n",
    "        h = h_function_label(temp)\n",
    "        h_list.append(float(h))\n",
    "    temp_list = np.array(temp_list)\n",
    "    x_list = np.array(x_list)\n",
    "    return temp_list,S,x_list,h_list\n",
    "    \n",
    "\n",
    "def appen_test(x_list):\n",
    "    global temp_list\n",
    "                \n",
    "    S= max(sum(x_list),1.0);\n",
    "    temp_list = []\n",
    "    \n",
    "    for i in range(Agent_number_n):\n",
    "        temp = []\n",
    "        for j in range(Agent_number_n):\n",
    "            if(i!=j):\n",
    "                temp.append(x_list[j])\n",
    "        appen(temp,S)\n",
    "    testing_data.append(temp_list)\n",
    "    testing_label.append(S)\n",
    "    temp_list = np.array(temp_list)\n",
    "    return temp_list,S\n",
    "    \n",
    "\n",
    "def read_testing_data():\n",
    "    for i in range(10000):\n",
    "        appen_test(Generate_distribution(Agent_number_n));\n",
    "                            \n",
    "\n",
    "testing_data=[]\n",
    "testing_label=[]\n",
    "S=1.0\n",
    "read_testing_data();\n",
    "\n",
    "testing_data=np.array(testing_data)\n",
    "testing_label=np.array(testing_label)\n",
    "print(testing_data)\n",
    "print(testing_label)"
   ]
  },
  {
   "cell_type": "code",
   "execution_count": 4,
   "metadata": {
    "ExecuteTime": {
     "end_time": "2021-06-15T12:21:34.008159Z",
     "start_time": "2021-06-15T12:20:42.202917Z"
    }
   },
   "outputs": [
    {
     "name": "stdout",
     "output_type": "stream",
     "text": [
      "9.042585059272804 8.999999999999995 0.042585059272809644 9.000021928653466\n"
     ]
    }
   ],
   "source": [
    "def h_3_star(a, b, t):\n",
    "    return a - min(a, t) + b - min(b, t) + max(min(a, t)+min(b, t), 2*t/3) + 1/2 * max(min(a, t)+min(b, t), t) - 1/2 * max(max(min(a, t), min(b, t)), 2*t/3) - t/6\n",
    "\n",
    "\n",
    "def f_function(a, b, z):\n",
    "    if(z >= 1):\n",
    "        return (a+b)/2 + z/3\n",
    "    else:\n",
    "        return z/3 + h_3_star(a, b, 1-z)/2\n",
    "\n",
    "def h_function(input_list):\n",
    "    #input_list = sorted(input_list)\n",
    "    g_list = []\n",
    "    for j1 in range(len(input_list) ):\n",
    "        for j2 in range(len(input_list)):\n",
    "            if(j1 != j2):\n",
    "                a = input_list[j1]\n",
    "                b = input_list[j2]\n",
    "                z = sum(input_list)- a-b\n",
    "\n",
    "                g_list.append( f_function(a, b, z) * (Agent_number_n-1))\n",
    "    h = sum(g_list) * 3 /  (Agent_number_n) /  (Agent_number_n-1) /  (Agent_number_n - 2)\n",
    "    return h\n",
    "                \n",
    "                \n",
    "x_list = []\n",
    "y_list = []\n",
    "z_list = []\n",
    "result_list = []\n",
    "for index in range(len(testing_data)):\n",
    "    h_list = []\n",
    "    for i in range(Agent_number_n):\n",
    "        x_list.append(testing_data[index][i][0])\n",
    "        y_list.append(testing_data[index][i][1])\n",
    "        h = h_function(testing_data[index][i])\n",
    "        z_list.append(float(h))\n",
    "        h_list.append(float(h))\n",
    "    result_list.append(sum(h_list)/testing_label[index]) \n",
    "    \n",
    "    \n",
    "print(max(result_list), min(result_list), max(result_list)-min(result_list),sum(result_list)/len(result_list))"
   ]
  },
  {
   "cell_type": "code",
   "execution_count": 5,
   "metadata": {
    "ExecuteTime": {
     "end_time": "2021-06-15T12:21:35.397610Z",
     "start_time": "2021-06-15T12:21:34.010156Z"
    }
   },
   "outputs": [
    {
     "data": {
      "image/png": "[encoded data removed]",
      "text/plain": [
       "<Figure size 432x288 with 1 Axes>"
      ]
     },
     "metadata": {
      "needs_background": "light"
     },
     "output_type": "display_data"
    }
   ],
   "source": [
    "plt.hist(result_list,bins=500)\n",
    "\n",
    "plt.title(\"Means\", y=1.015, fontsize=20)\n",
    "plt.axvline(x=sum(result_list)/len(result_list), linestyle='--', linewidth=2.5, label=\"sample mean\", c='orange')\n",
    "plt.xlabel(\"samples\", labelpad=14)\n",
    "plt.ylabel(\"frequency of occurence\", labelpad=14)\n",
    "plt.legend();\n",
    "\n",
    "result_list.sort()\n",
    "\n",
    "plt.axvline(x=result_list[int(len(result_list)*0.01)], linestyle='--', linewidth=0.5, label=\"1%\", c='b')\n",
    "plt.axvline(x=result_list[int(len(result_list)*0.99)], linestyle='--', linewidth=0.5, label=\"99%\", c='r')\n",
    "\n",
    "\n",
    "plt.show()"
   ]
  },
  {
   "cell_type": "code",
   "execution_count": 6,
   "metadata": {
    "ExecuteTime": {
     "end_time": "2021-06-15T12:21:35.428527Z",
     "start_time": "2021-06-15T12:21:35.399606Z"
    },
    "run_control": {
     "marked": true
    }
   },
   "outputs": [],
   "source": [
    "def weight_init(m):\n",
    "    if isinstance(m, torch.nn.Conv2d):\n",
    "        torch.nn.init.xavier_normal_(m.weight)\n",
    "        torch.nn.init.zeros_(m.bias)\n",
    "    elif isinstance(m, torch.nn.Linear):\n",
    "        torch.nn.init.xavier_normal_(m.weight)\n",
    "        torch.nn.init.normal_(m.bias, mean=0.0, std=0.01)\n",
    "\n",
    "\n",
    "class Net(torch.nn.Module):\n",
    "    def __init__(self):\n",
    "\n",
    "        super(Net, self).__init__()\n",
    "\n",
    "        self.input_dim = (Agent_number_n-1)\n",
    "        self.hidden_dim = 100\n",
    "        self.output_dim = 1\n",
    "        self.hidden_layer_count = 6\n",
    "\n",
    "        current_dim = self.input_dim\n",
    "        self.layers = torch.nn.ModuleList()\n",
    "        for i in range(self.hidden_layer_count):\n",
    "            self.layers.append(torch.nn.Linear(current_dim, self.hidden_dim))\n",
    "            current_dim = self.hidden_dim\n",
    "        self.layers.append(torch.nn.Linear(current_dim, self.output_dim))\n",
    "\n",
    "    def calculate(self, value_list):\n",
    "        h = value_list\n",
    "        for layer in self.layers:\n",
    "            h = torch.relu(layer(h))\n",
    "        return h\n",
    "\n",
    "    def forward(self, input_list, input_label, label):\n",
    "        global iteration, echo, target_order\n",
    "        loss1 = 0\n",
    "        loss2 = 0\n",
    "        input_list = torch.from_numpy(\n",
    "            np.array(input_list)).to(dev).type(torch.float32)\n",
    "        h_list = []\n",
    "\n",
    "        for i in range(Agent_number_n):\n",
    "            h = self.calculate(input_list[i])\n",
    "            h_list.append(h)\n",
    "#             loss3 += torch.square(h_function_2(input_list)-h2[1])\n",
    "\n",
    "        input_label = torch.from_numpy(\n",
    "            np.array(input_label)).to(dev).type(torch.float32)\n",
    "        sum_h = torch.sum(torch.cat(h_list)).to(dev)\n",
    "\n",
    "        loss1 = torch.where((Agent_number_n-1)*input_label > sum_h,\n",
    "                            torch.square(\n",
    "                                ((Agent_number_n-1)*input_label-sum_h)),\n",
    "                            torch.zeros(1).to(dev)\n",
    "                            )\n",
    "#         loss2 = torch.relu((sum_h-(Agent_number_n-Alpha)*input_label))/10000\n",
    "\n",
    "        loss2 = torch.where((Agent_number_n-Alpha)*input_label<sum_h,\n",
    "                        torch.square((sum_h-(Agent_number_n-Alpha)*input_label))/10000,\n",
    "                        torch.zeros(1).to(dev)\n",
    "                      )\n",
    "\n",
    "#         loss1 = torch.relu(((Agent_number_n-1)*input_label-sum_h))\n",
    "\n",
    "#         loss2 = torch.relu((sum_h-(Agent_number_n-Alpha)*input_label))/10000\n",
    "\n",
    "        return loss1, loss2\n",
    "    def supervised_loss(self, input_list,label):\n",
    "        global iteration,echo,target_order\n",
    "        input_list = torch.from_numpy(\n",
    "            np.array(input_list)).to(dev).type(torch.float32)\n",
    "        loss = 0 \n",
    "        for i in range(Agent_number_n):\n",
    "            h = self.calculate(input_list[i])\n",
    "            loss += torch.square(h - label[i])\n",
    "        return loss"
   ]
  },
  {
   "cell_type": "code",
   "execution_count": 7,
   "metadata": {
    "ExecuteTime": {
     "end_time": "2021-06-15T12:21:36.881165Z",
     "start_time": "2021-06-15T12:21:35.431520Z"
    }
   },
   "outputs": [
    {
     "name": "stdout",
     "output_type": "stream",
     "text": [
      "Net(\n",
      "  (layers): ModuleList(\n",
      "    (0): Linear(in_features=9, out_features=100, bias=True)\n",
      "    (1): Linear(in_features=100, out_features=100, bias=True)\n",
      "    (2): Linear(in_features=100, out_features=100, bias=True)\n",
      "    (3): Linear(in_features=100, out_features=100, bias=True)\n",
      "    (4): Linear(in_features=100, out_features=100, bias=True)\n",
      "    (5): Linear(in_features=100, out_features=100, bias=True)\n",
      "    (6): Linear(in_features=100, out_features=1, bias=True)\n",
      "  )\n",
      ")\n"
     ]
    }
   ],
   "source": [
    "random.seed(2000)\n",
    "torch.manual_seed(256)\n",
    "net  = Net()\n",
    "net.apply(weight_init)\n",
    "\n",
    "#net = torch.load(\"save/Deep_learning_uniform_10_1\")\n",
    "net.to(dev)\n",
    "#optimizer = opt.RMSprop(net.parameters(), lr=0.00001)\n",
    "#optimizer = opt.SGD(net.parameters(), lr=0.00005)\n",
    "optimizer = opt.Adam(net.parameters(), lr=LR)\n",
    "#optimizer = opt.Adadelta(net.parameters(), lr=1.0)\n",
    "print(net)\n",
    "scheduler = torch.optim.lr_scheduler.StepLR(optimizer, step_size=100, gamma=0.95)\n",
    "\n",
    "\n",
    "index_train_list = []\n",
    "index_test_list = []\n",
    "train_losses = []\n",
    "test_losses = []"
   ]
  },
  {
   "cell_type": "code",
   "execution_count": 8,
   "metadata": {
    "ExecuteTime": {
     "end_time": "2021-06-15T12:41:40.144681Z",
     "start_time": "2021-06-15T12:21:36.883159Z"
    }
   },
   "outputs": [
    {
     "name": "stdout",
     "output_type": "stream",
     "text": [
      "0 tensor(201.2947, device='cuda:0', grad_fn=<DivBackward0>) 12882.859375\n",
      "50 tensor(1.0011, device='cuda:0', grad_fn=<DivBackward0>) 64.0676498413086\n",
      "100 tensor(0.2584, device='cuda:0', grad_fn=<DivBackward0>) 16.537494659423828\n",
      "150 tensor(0.0529, device='cuda:0', grad_fn=<DivBackward0>) 3.3881235122680664\n",
      "200 tensor(0.0344, device='cuda:0', grad_fn=<DivBackward0>) 2.199648380279541\n",
      "250 tensor(0.0115, device='cuda:0', grad_fn=<DivBackward0>) 0.7358574271202087\n",
      "300 tensor(0.0105, device='cuda:0', grad_fn=<DivBackward0>) 0.6726619601249695\n",
      "350 tensor(0.0097, device='cuda:0', grad_fn=<DivBackward0>) 0.6201670169830322\n",
      "400 tensor(0.0054, device='cuda:0', grad_fn=<DivBackward0>) 0.34257787466049194\n",
      "450 tensor(0.0029, device='cuda:0', grad_fn=<DivBackward0>) 0.18583402037620544\n",
      "500 tensor(0.0020, device='cuda:0', grad_fn=<DivBackward0>) 0.12827661633491516\n",
      "550 tensor(0.0013, device='cuda:0', grad_fn=<DivBackward0>) 0.0846695825457573\n",
      "600 tensor(0.0016, device='cuda:0', grad_fn=<DivBackward0>) 0.10416204482316971\n",
      "650 tensor(0.0005, device='cuda:0', grad_fn=<DivBackward0>) 0.0308326855301857\n",
      "700 tensor(0.0005, device='cuda:0', grad_fn=<DivBackward0>) 0.029401615262031555\n",
      "750 tensor(0.0003, device='cuda:0', grad_fn=<DivBackward0>) 0.018415141850709915\n",
      "800 tensor(0.0002, device='cuda:0', grad_fn=<DivBackward0>) 0.013316025026142597\n",
      "850 tensor(0.0002, device='cuda:0', grad_fn=<DivBackward0>) 0.012106378562748432\n",
      "900 tensor(0.0002, device='cuda:0', grad_fn=<DivBackward0>) 0.010891417041420937\n",
      "950 tensor(0.0001, device='cuda:0', grad_fn=<DivBackward0>) 0.008531433530151844\n"
     ]
    }
   ],
   "source": [
    "#supervised\n",
    "index_supervisedtrain_list = []\n",
    "supervisedtrain_losses = []\n",
    "for iteration in range(1000):\n",
    "\n",
    "    temp_number = 0\n",
    "    total_batch_loss = 0 \n",
    "    \n",
    "    loss_sum = 0\n",
    "    denominator = 0\n",
    "    for index in range(0, BATCH_SIZE):\n",
    "        training_data_i, training_S, training_data,label = appen_train(\n",
    "            Generate_distribution(Agent_number_n))\n",
    "        h_loss = net.supervised_loss(training_data_i, label)\n",
    "        denominator += 1\n",
    "        loss_sum += h_loss\n",
    "\n",
    "    loss_sum = torch.sum(loss_sum)\n",
    "    loss = (loss_sum) / denominator \n",
    "    total_batch_loss += float(loss_sum)\n",
    "\n",
    "    optimizer.zero_grad()\n",
    "    loss.backward()\n",
    "    optimizer.step()\n",
    "\n",
    "    if (iteration%50 == 0):\n",
    "        print(iteration,loss,total_batch_loss)\n",
    "        index_supervisedtrain_list.append(iteration)\n",
    "        supervisedtrain_losses.append(total_batch_loss)\n",
    "    scheduler.step()"
   ]
  },
  {
   "cell_type": "code",
   "execution_count": 9,
   "metadata": {
    "ExecuteTime": {
     "end_time": "2021-06-15T14:36:19.330010Z",
     "start_time": "2021-06-15T12:41:40.146700Z"
    }
   },
   "outputs": [
    {
     "name": "stdout",
     "output_type": "stream",
     "text": [
      "0 tensor(0.0003, device='cuda:0', grad_fn=<DivBackward0>) 0.018647152930498123 2.970273499158793e-06\n",
      "batch iteration 0\n",
      "batch_loss: 0.00 \n",
      "9.141769332678587 8.971282395279397 0.17048693739918974 0.07142598469132899\n",
      "\n",
      "50 tensor(1.7305e-05, device='cuda:0', grad_fn=<DivBackward0>) 0.0 0.0011075243819504976\n",
      "batch iteration 50\n",
      "batch_loss: 0.00 \n",
      "9.299822705984468 9.009726448359764 0.2900962576247039 0.0766965949619145\n",
      "\n",
      "100 tensor(7.6034e-06, device='cuda:0', grad_fn=<DivBackward0>) 0.0 0.0004866193630732596\n",
      "batch iteration 100\n",
      "batch_loss: 0.00 \n",
      "9.260447573111222 8.992299830868854 0.2681477422423679 0.07282000355883333\n",
      "\n",
      "150 tensor(3.7525e-06, device='cuda:0', grad_fn=<DivBackward0>) 0.0 0.00024015788221731782\n",
      "batch iteration 150\n",
      "batch_loss: 0.00 \n",
      "9.236035167799555 8.981903788948 0.25413137885155557 0.07542576852078398\n",
      "\n",
      "200 tensor(6.5975e-06, device='cuda:0', grad_fn=<DivBackward0>) 0.0 0.000422241777414456\n",
      "batch iteration 200\n",
      "batch_loss: 0.00 \n",
      "9.26160646118404 9.00015117522402 0.2614552859600199 0.05243340965765064\n",
      "\n",
      "250 tensor(4.8212e-06, device='cuda:0', grad_fn=<DivBackward0>) 0.0 0.00030855671502649784\n",
      "batch iteration 250\n",
      "batch_loss: 0.00 \n",
      "9.248888677306873 8.995965060984966 0.2529236163219064 0.05157436698989848\n",
      "\n",
      "300 tensor(2.6054e-06, device='cuda:0', grad_fn=<DivBackward0>) 0.0 0.00016674440121278167\n",
      "batch iteration 300\n",
      "batch_loss: 0.00 \n",
      "9.234006466365273 8.989984353750444 0.24402211261482876 0.053234880616278346\n",
      "\n",
      "350 tensor(3.5106e-06, device='cuda:0', grad_fn=<DivBackward0>) 0.0 0.00022468043607659638\n",
      "batch iteration 350\n",
      "batch_loss: 0.00 \n",
      "9.239669106702054 8.9963329501311 0.24333615657095464 0.0457525391644058\n",
      "\n",
      "400 tensor(2.0084e-06, device='cuda:0', grad_fn=<DivBackward0>) 0.0 0.00012853996304329485\n",
      "batch iteration 400\n",
      "batch_loss: 0.00 \n",
      "9.22552649604044 8.989479730255223 0.23604676578521655 0.04854819478492267\n",
      "\n",
      "450 tensor(1.9257e-06, device='cuda:0', grad_fn=<DivBackward0>) 0.0 0.00012324776616878808\n",
      "batch iteration 450\n",
      "batch_loss: 0.00 \n",
      "9.22696326668034 8.989254015816895 0.2377092508634444 0.04988459677584345\n",
      "\n",
      "500 tensor(2.5552e-06, device='cuda:0', grad_fn=<DivBackward0>) 0.0 0.00016353550017811358\n",
      "batch iteration 500\n",
      "batch_loss: 0.00 \n",
      "9.234104272342446 8.993648072655802 0.2404561996866441 0.04763990194113177\n",
      "\n",
      "550 tensor(1.5728e-06, device='cuda:0', grad_fn=<DivBackward0>) 0.0 0.0001006568199954927\n",
      "batch iteration 550\n",
      "batch_loss: 0.00 \n",
      "9.219219221603044 8.985917020676712 0.2333022009263317 0.05221927595594167\n",
      "\n",
      "600 tensor(1.4907e-06, device='cuda:0', grad_fn=<DivBackward0>) 0.0 9.540608152747154e-05\n",
      "batch iteration 600\n",
      "batch_loss: 0.00 \n",
      "9.219966589565248 8.985133971712036 0.2348326178532112 0.05395012109522668\n",
      "\n",
      "650 tensor(2.0294e-06, device='cuda:0', grad_fn=<DivBackward0>) 0.0 0.00012987942318432033\n",
      "batch iteration 650\n",
      "batch_loss: 0.00 \n",
      "9.223821698602292 8.990445091685348 0.23337660691694317 0.0469915429267882\n",
      "\n",
      "700 tensor(2.1668e-06, device='cuda:0', grad_fn=<DivBackward0>) 2.1623578504659235e-05 0.00011705236829584464\n",
      "batch iteration 700\n",
      "batch_loss: 0.00 \n",
      "9.221025082433489 8.990136381552372 0.2308887008811169 0.046845515913387814\n",
      "\n",
      "750 tensor(6.9001e-06, device='cuda:0', grad_fn=<DivBackward0>) 0.0 0.0004416081646922976\n",
      "batch iteration 750\n",
      "batch_loss: 0.00 \n",
      "9.247914626661453 9.017677411727883 0.2302372149335703 0.03541077056639175\n",
      "\n",
      "800 tensor(2.9029e-06, device='cuda:0', grad_fn=<DivBackward0>) 0.0 0.00018578479648567736\n",
      "batch iteration 800\n",
      "batch_loss: 0.00 \n",
      "9.221592540852711 9.0031753621172 0.21841717873551048 0.03011980086613164\n",
      "\n",
      "850 tensor(1.5153e-06, device='cuda:0', grad_fn=<DivBackward0>) 0.0 9.697656059870496e-05\n",
      "batch iteration 850\n",
      "batch_loss: 0.00 \n",
      "9.20965302861969 8.994174147691444 0.21547888092824508 0.035624967615735414\n",
      "\n",
      "900 tensor(1.8356e-06, device='cuda:0', grad_fn=<DivBackward0>) 0.0 0.00011747728422051296\n",
      "batch iteration 900\n",
      "batch_loss: 0.00 \n",
      "9.214597951824238 8.999137956344782 0.21545999547945627 0.029436773094166924\n",
      "\n",
      "950 tensor(1.3928e-06, device='cuda:0', grad_fn=<DivBackward0>) 0.0 8.913673809729517e-05\n",
      "batch iteration 950\n",
      "batch_loss: 0.00 \n",
      "9.210611209806816 8.996848131881496 0.21376307792531968 0.0308766435040031\n",
      "\n",
      "1000 tensor(1.1741e-06, device='cuda:0', grad_fn=<DivBackward0>) 0.0 7.51418701838702e-05\n",
      "batch iteration 1000\n",
      "batch_loss: 0.00 \n",
      "9.207073239365265 8.994861588527082 0.21221165083818327 0.0319607395875412\n",
      "\n",
      "1050 tensor(1.6960e-06, device='cuda:0', grad_fn=<DivBackward0>) 0.0 0.00010854148422367871\n",
      "batch iteration 1050\n",
      "batch_loss: 0.00 \n",
      "9.215501091048122 8.998796566327819 0.21670452472030277 0.027245293352148536\n",
      "\n",
      "1100 tensor(9.3133e-07, device='cuda:0', grad_fn=<DivBackward0>) 0.0 5.960489215794951e-05\n",
      "batch iteration 1100\n",
      "batch_loss: 0.00 \n",
      "9.207694904513085 8.993963424621224 0.2137314798918606 0.03160060103748563\n",
      "\n",
      "1150 tensor(1.9779e-06, device='cuda:0', grad_fn=<DivBackward0>) 0.0 0.00012658315245062113\n",
      "batch iteration 1150\n",
      "batch_loss: 0.00 \n",
      "9.218409879230029 9.001549649656456 0.2168602295735731 0.025893398923379607\n",
      "\n",
      "1200 tensor(1.1741e-06, device='cuda:0', grad_fn=<DivBackward0>) 0.0 7.514320168411359e-05\n",
      "batch iteration 1200\n",
      "batch_loss: 0.00 \n",
      "9.206671575023487 8.996639967708033 0.21003160731545378 0.026513165432215047\n",
      "\n",
      "1250 tensor(1.8499e-06, device='cuda:0', grad_fn=<DivBackward0>) 0.0 0.00011839543003588915\n",
      "batch iteration 1250\n",
      "batch_loss: 0.00 \n",
      "9.214515848258431 9.002301567679584 0.21221428057884673 0.023775335762183047\n",
      "\n",
      "1300 tensor(6.7647e-07, device='cuda:0', grad_fn=<DivBackward0>) 7.33562046661973e-08 4.322066524764523e-05\n",
      "batch iteration 1300\n",
      "batch_loss: 0.00 \n",
      "9.200558075024214 8.99622166457112 0.20433641045309336 0.02400174499493346\n",
      "\n",
      "1350 tensor(2.7355e-06, device='cuda:0', grad_fn=<DivBackward0>) 0.0 0.0001750719966366887\n",
      "batch iteration 1350\n",
      "batch_loss: 0.00 \n",
      "9.223948403698254 9.008852968543525 0.21509543515472807 0.025773829155133043\n",
      "\n",
      "1400 tensor(1.1913e-06, device='cuda:0', grad_fn=<DivBackward0>) 0.0 7.624072895850986e-05\n",
      "batch iteration 1400\n",
      "batch_loss: 0.00 \n",
      "9.206574103140174 9.001462362123263 0.20511174101691054 0.021313265214837784\n",
      "\n",
      "1450 tensor(8.5058e-07, device='cuda:0', grad_fn=<DivBackward0>) 0.0 5.4437325161416084e-05\n",
      "batch iteration 1450\n",
      "batch_loss: 0.00 \n",
      "9.20116921621548 8.999078336485018 0.20209087973046103 0.0208174768066538\n",
      "\n",
      "1500 tensor(7.7890e-07, device='cuda:0', grad_fn=<DivBackward0>) 0.0 4.9849455535877496e-05\n",
      "batch iteration 1500\n",
      "batch_loss: 0.00 \n",
      "9.196214687812489 8.9963994759999 0.19981521181258977 0.022931895188802898\n",
      "\n",
      "1550 tensor(1.8246e-06, device='cuda:0', grad_fn=<DivBackward0>) 0.0 0.00011677228758344427\n",
      "batch iteration 1550\n",
      "batch_loss: 0.00 \n",
      "9.205469087702092 9.002162838532298 0.20330624916979367 0.023606594432717287\n",
      "\n",
      "1600 tensor(3.2054e-05, device='cuda:0', grad_fn=<DivBackward0>) 0.002014891477301717 3.657218621810898e-05\n",
      "batch iteration 1600\n",
      "batch_loss: 0.00 \n",
      "9.193029311677202 8.996142431669751 0.19688688000745103 0.024814737826408972\n",
      "\n",
      "1650 tensor(1.0224e-06, device='cuda:0', grad_fn=<DivBackward0>) 0.0 6.54321993351914e-05\n",
      "batch iteration 1650\n",
      "batch_loss: 0.00 \n",
      "9.196450725123754 8.998611132762488 0.19783959236126591 0.022007019644673775\n",
      "\n",
      "1700 tensor(9.7763e-07, device='cuda:0', grad_fn=<DivBackward0>) 0.0 6.256809137994424e-05\n",
      "batch iteration 1700\n",
      "batch_loss: 0.00 \n",
      "9.192835662524278 8.995667477606428 0.1971681849178495 0.025358696596084584\n",
      "\n",
      "1750 tensor(6.1155e-06, device='cuda:0', grad_fn=<DivBackward0>) 0.0 0.0003913934051524848\n",
      "batch iteration 1750\n",
      "batch_loss: 0.00 \n",
      "9.250496504002495 9.02621024978019 0.22428625422230475 0.024312371968642665\n",
      "\n",
      "1800 tensor(2.4040e-06, device='cuda:0', grad_fn=<DivBackward0>) 0.0 0.00015385454753413796\n",
      "batch iteration 1800\n",
      "batch_loss: 0.00 \n",
      "9.226187918357459 9.001149197076101 0.22503872128135782 0.027599085008974455\n",
      "\n",
      "1850 tensor(2.8356e-06, device='cuda:0', grad_fn=<DivBackward0>) 0.0 0.00018147773516830057\n",
      "batch iteration 1850\n",
      "batch_loss: 0.00 \n",
      "9.22312527995356 8.999251225539606 0.22387405441395458 0.02713275578066643\n",
      "\n",
      "1900 tensor(3.4110e-06, device='cuda:0', grad_fn=<DivBackward0>) 0.0 0.0002183028555009514\n",
      "batch iteration 1900\n",
      "batch_loss: 0.00 \n",
      "9.239913412836323 9.011743311251447 0.22817010158487605 0.022667810410592182\n",
      "\n",
      "1950 tensor(8.7080e-07, device='cuda:0', grad_fn=<DivBackward0>) 7.294351235032082e-06 4.8436813813168555e-05\n",
      "batch iteration 1950\n",
      "batch_loss: 0.00 \n"
     ]
    },
    {
     "name": "stdout",
     "output_type": "stream",
     "text": [
      "9.218908764884727 8.993445145631423 0.22546361925330416 0.030412240403791202\n",
      "\n",
      "2000 tensor(9.9175e-07, device='cuda:0', grad_fn=<DivBackward0>) 0.0 6.347207818180323e-05\n",
      "batch iteration 2000\n",
      "batch_loss: 0.00 \n",
      "9.220263181388425 8.994658621242534 0.22560456014589114 0.028094204016586133\n",
      "\n"
     ]
    }
   ],
   "source": [
    "for iteration in range(int(echo)):\n",
    "\n",
    "    temp_number = 0\n",
    "    total_batch_loss = 0\n",
    "\n",
    "    loss2_list = []\n",
    "    loss1_sum = 0\n",
    "    loss2_sum = 0\n",
    "    denominator = 0\n",
    "    for index in range(0, BATCH_SIZE):\n",
    "        training_data_i, training_label, training_data,label = appen_train(\n",
    "            Generate_distribution(Agent_number_n))\n",
    "        h_loss1, h_loss2 = net(training_data_i, training_label,\n",
    "                                       training_data)\n",
    "        denominator += 1\n",
    "        loss1_sum += h_loss1\n",
    "        loss2_sum += h_loss2\n",
    "\n",
    "    loss_sum = torch.sum(loss1_sum + loss2_sum)\n",
    "    loss = (loss_sum) / denominator\n",
    "    total_batch_loss = float(loss)\n",
    "    optimizer.zero_grad()\n",
    "\n",
    "    loss.backward()\n",
    "\n",
    "    optimizer.step()\n",
    "\n",
    "    temp_number = iteration\n",
    "\n",
    "    index_train_list.append(iteration)\n",
    "    train_losses.append(total_batch_loss)\n",
    "\n",
    "    if (iteration%50 == 0):\n",
    "        print(temp_number, loss, float(loss1_sum), float(loss2_sum))\n",
    "\n",
    "        print(\"batch iteration\", iteration)\n",
    "        print(\"batch_loss: %.2f \" % total_batch_loss)\n",
    "\n",
    "        result_list = []\n",
    "        for index in range(len(testing_data)):\n",
    "            h_list = []\n",
    "            for i in range(Agent_number_n):\n",
    "                h = net.calculate(\n",
    "                    torch.tensor(testing_data[index][i]).to(dev).type(\n",
    "                        torch.float32))\n",
    "                h_list.append(float(h))\n",
    "            result_list.append(sum(h_list) / testing_label[index])\n",
    "        print(max(result_list), min(result_list),\n",
    "              max(result_list) - min(result_list),\n",
    "              (sum(result_list) / len(result_list) - min(result_list))+ Agent_number_n-1 - min(min(result_list),Agent_number_n-1) )\n",
    "\n",
    "        index_test_list.append(iteration)\n",
    "        test_losses.append(\n",
    "            (sum(result_list) / len(result_list) - min(result_list))+ Agent_number_n-1 - min(min(result_list),Agent_number_n-1) )\n",
    "        print()\n",
    "    scheduler.step()\n",
    "    "
   ]
  },
  {
   "cell_type": "code",
   "execution_count": 10,
   "metadata": {
    "ExecuteTime": {
     "end_time": "2021-06-15T14:36:19.521498Z",
     "start_time": "2021-06-15T14:36:19.332005Z"
    }
   },
   "outputs": [
    {
     "data": {
      "image/png": "[encoded data removed]",
      "text/plain": [
       "<Figure size 432x288 with 1 Axes>"
      ]
     },
     "metadata": {
      "needs_background": "light"
     },
     "output_type": "display_data"
    }
   ],
   "source": [
    "plt.ylim(0, 1.0)\n",
    "plt.plot(index_test_list,test_losses)\n",
    "plt.ylabel('Testing Loss')\n",
    "plt.xlabel('Batch Epoch')\n",
    "plt.show()\n",
    "\n",
    "\n",
    "\n"
   ]
  },
  {
   "cell_type": "code",
   "execution_count": 12,
   "metadata": {
    "ExecuteTime": {
     "end_time": "2021-06-15T15:07:36.214152Z",
     "start_time": "2021-06-15T15:07:36.017665Z"
    }
   },
   "outputs": [
    {
     "data": {
      "image/png": "[encoded data removed]",
      "text/plain": [
       "<Figure size 432x288 with 1 Axes>"
      ]
     },
     "metadata": {
      "needs_background": "light"
     },
     "output_type": "display_data"
    }
   ],
   "source": [
    "import csv\n",
    "with open('save/test_loss_unfeed_uniform_10.csv', 'w', newline='') as csvfile_unfeed:\n",
    "    spamwriter = csv.writer(csvfile_unfeed)\n",
    "    spamwriter.writerow(index_test_list)\n",
    "    spamwriter.writerow(test_losses)\n",
    "\n",
    "with open('save/test_loss_feed_uniform_10.csv') as csvfile_feed:\n",
    "    reader = csv.reader(csvfile_feed)\n",
    "    list_feed = []\n",
    "    for row in reader:\n",
    "        row = np.array(row)\n",
    "        temp_list = []\n",
    "        for i in range(len(row)):\n",
    "            temp_list.append(float(row[i]))\n",
    "\n",
    "        list_feed.append(temp_list)\n",
    "    plt.ylim(0, 1.0)\n",
    "    plt.plot(index_test_list,test_losses,label='neural network')\n",
    "    plt.plot(list_feed[0],list_feed[1],label='feed distribution')\n",
    "    plt.ylabel('Testing Loss')\n",
    "    plt.xlabel('Batch Epoch')\n",
    "    #plt.title('Two or more lines on same plot with suitable legends ')\n",
    "    # show a legend on the plot\n",
    "    plt.legend()\n",
    "    plt.show()"
   ]
  },
  {
   "cell_type": "code",
   "execution_count": 13,
   "metadata": {
    "ExecuteTime": {
     "end_time": "2021-06-15T15:07:36.859771Z",
     "start_time": "2021-06-15T15:07:36.845463Z"
    }
   },
   "outputs": [
    {
     "name": "stdout",
     "output_type": "stream",
     "text": [
      "41\n",
      "41\n"
     ]
    }
   ],
   "source": [
    "print(len(list_feed[0]))\n",
    "print(len(list_feed[1]))"
   ]
  },
  {
   "cell_type": "code",
   "execution_count": 14,
   "metadata": {
    "ExecuteTime": {
     "end_time": "2021-06-15T15:07:38.558778Z",
     "start_time": "2021-06-15T15:07:38.421147Z"
    }
   },
   "outputs": [
    {
     "data": {
      "image/png": "[encoded data removed]",
      "text/plain": [
       "<Figure size 432x288 with 1 Axes>"
      ]
     },
     "metadata": {
      "needs_background": "light"
     },
     "output_type": "display_data"
    }
   ],
   "source": [
    "plt.ylim(0, 1.0)\n",
    "\n",
    "plt.plot(index_train_list,train_losses)\n",
    "plt.ylabel('training loss')\n",
    "\n",
    "plt.plot(index_test_list,test_losses)\n",
    "plt.ylabel('training loss')\n",
    "\n",
    "plt.show()"
   ]
  },
  {
   "cell_type": "code",
   "execution_count": 15,
   "metadata": {
    "ExecuteTime": {
     "end_time": "2021-06-15T15:07:40.199657Z",
     "start_time": "2021-06-15T15:07:40.184698Z"
    }
   },
   "outputs": [],
   "source": [
    "torch.save(net, \"save/Deep_learning_uniform_10_1\")"
   ]
  },
  {
   "cell_type": "code",
   "execution_count": 16,
   "metadata": {
    "ExecuteTime": {
     "end_time": "2021-06-15T15:09:06.586538Z",
     "start_time": "2021-06-15T15:07:41.881379Z"
    }
   },
   "outputs": [
    {
     "name": "stdout",
     "output_type": "stream",
     "text": [
      "9.220263181388425 8.994658621242534 0.22560456014589114 0.022752825259120257\n"
     ]
    }
   ],
   "source": [
    "denominator = 0\n",
    "result_list = []\n",
    "for index in range(len(testing_data)):\n",
    "    h_list = []\n",
    "    for i in range(Agent_number_n):\n",
    "        h = net.calculate(torch.tensor(testing_data[index][i]).to(dev).type(torch.float32))\n",
    "        h_list.append(float(h))\n",
    "    \n",
    "    #print(sum(h_list),h_list,sum(h_list)/testing_label[index])\n",
    "    result_list.append(sum(h_list)/testing_label[index])\n",
    "    \n",
    "\n",
    "print(max(result_list),min(result_list),max(result_list)-min(result_list),sum(result_list)/len(result_list)-min(result_list))"
   ]
  },
  {
   "cell_type": "code",
   "execution_count": 17,
   "metadata": {
    "ExecuteTime": {
     "end_time": "2021-06-15T15:09:09.317796Z",
     "start_time": "2021-06-15T15:09:08.165352Z"
    }
   },
   "outputs": [
    {
     "data": {
      "image/png": "[encoded data removed]",
      "text/plain": [
       "<Figure size 432x288 with 1 Axes>"
      ]
     },
     "metadata": {
      "needs_background": "light"
     },
     "output_type": "display_data"
    }
   ],
   "source": [
    "plt.hist(result_list,bins=500)\n",
    "\n",
    "plt.title(\"Means\", y=1.015, fontsize=20)\n",
    "plt.axvline(x=sum(result_list)/len(result_list), linestyle='--', linewidth=2.5, label=\"sample mean\", c='orange')\n",
    "plt.xlabel(\"samples\", labelpad=14)\n",
    "plt.ylabel(\"frequency of occurence\", labelpad=14)\n",
    "plt.legend();\n",
    "\n",
    "result_list.sort()\n",
    "\n",
    "plt.axvline(x=result_list[int(len(result_list)*0.01)], linestyle='--', linewidth=0.5, label=\"1%\", c='b')\n",
    "plt.axvline(x=result_list[int(len(result_list)*0.99)], linestyle='--', linewidth=0.5, label=\"99%\", c='r')\n",
    "\n",
    "\n",
    "plt.show()"
   ]
  },
  {
   "cell_type": "code",
   "execution_count": null,
   "metadata": {},
   "outputs": [],
   "source": []
  },
  {
   "cell_type": "code",
   "execution_count": null,
   "metadata": {},
   "outputs": [],
   "source": []
  },
  {
   "cell_type": "code",
   "execution_count": null,
   "metadata": {},
   "outputs": [],
   "source": []
  }
 ],
 "metadata": {
  "hide_input": false,
  "kernelspec": {
   "display_name": "Python 3",
   "language": "python",
   "name": "python3"
  },
  "language_info": {
   "codemirror_mode": {
    "name": "ipython",
    "version": 3
   },
   "file_extension": ".py",
   "mimetype": "text/x-python",
   "name": "python",
   "nbconvert_exporter": "python",
   "pygments_lexer": "ipython3",
   "version": "3.8.3"
  },
  "varInspector": {
   "cols": {
    "lenName": 16,
    "lenType": 16,
    "lenVar": 40
   },
   "kernels_config": {
    "python": {
     "delete_cmd_postfix": "",
     "delete_cmd_prefix": "del ",
     "library": "var_list.py",
     "varRefreshCmd": "print(var_dic_list())"
    },
    "r": {
     "delete_cmd_postfix": ") ",
     "delete_cmd_prefix": "rm(",
     "library": "var_list.r",
     "varRefreshCmd": "cat(var_dic_list()) "
    }
   },
   "types_to_exclude": [
    "module",
    "function",
    "builtin_function_or_method",
    "instance",
    "_Feature"
   ],
   "window_display": false
  }
 },
 "nbformat": 4,
 "nbformat_minor": 4
}
