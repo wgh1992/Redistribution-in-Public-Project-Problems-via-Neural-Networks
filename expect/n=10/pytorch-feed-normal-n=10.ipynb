{
 "cells": [
  {
   "cell_type": "code",
   "execution_count": 1,
   "metadata": {
    "ExecuteTime": {
     "end_time": "2021-06-24T07:00:03.809602Z",
     "start_time": "2021-06-24T07:00:01.997114Z"
    }
   },
   "outputs": [
    {
     "name": "stdout",
     "output_type": "stream",
     "text": [
      "pygame 2.0.1 (SDL 2.0.14, Python 3.8.3)\n",
      "Hello from the pygame community. https://www.pygame.org/contribute.html\n"
     ]
    },
    {
     "name": "stderr",
     "output_type": "stream",
     "text": [
      "D:\\ComputerSoftwares\\Anaconda\\lib\\site-packages\\sklearn\\utils\\deprecation.py:143: FutureWarning: The sklearn.datasets.samples_generator module is  deprecated in version 0.22 and will be removed in version 0.24. The corresponding classes / functions should instead be imported from sklearn.datasets. Anything that cannot be imported from sklearn.datasets is now part of the private API.\n",
      "  warnings.warn(message, FutureWarning)\n"
     ]
    },
    {
     "name": "stdout",
     "output_type": "stream",
     "text": [
      "cuda:0\n"
     ]
    }
   ],
   "source": [
    "\n",
    "import pygame\n",
    "import random\n",
    "import os\n",
    "import time\n",
    "import numpy as np\n",
    "import math\n",
    "import torch\n",
    "import torch.nn.functional\n",
    "import matplotlib.pyplot as plt\n",
    "import torch.optim as opt\n",
    "from torch.autograd import Variable\n",
    "from sklearn.model_selection import train_test_split\n",
    "\n",
    "import scipy.stats as st\n",
    "from sklearn.datasets.samples_generator import make_blobs\n",
    "from matplotlib.colors import LogNorm \n",
    "import matplotlib.cm as cm\n",
    "import torch.nn as nn\n",
    "import numpy as np\n",
    "import matplotlib.pyplot as plt\n",
    "import plotly.graph_objects as go\n",
    "import plotly.express as px\n",
    "from scipy.interpolate import griddata\n",
    "import torch.nn.functional as F\n",
    "import torch.distributions as D\n",
    "if torch.cuda.is_available():  \n",
    "    dev = \"cuda:0\" \n",
    "else:  \n",
    "    dev = \"cpu\"  \n",
    "\n",
    "print(dev)\n",
    "\n"
   ]
  },
  {
   "cell_type": "code",
   "execution_count": 2,
   "metadata": {
    "ExecuteTime": {
     "end_time": "2021-06-24T07:00:03.824717Z",
     "start_time": "2021-06-24T07:00:03.811598Z"
    },
    "run_control": {
     "marked": true
    }
   },
   "outputs": [],
   "source": [
    "global temp_list\n",
    "temp_list = []\n",
    "Agent_number_n=10;\n",
    "Alpha = 1.0;\n",
    "\n",
    "echo = 1001\n",
    "BATCH_SIZE = 64\n",
    "LR = 0.001           # learning rate for generator\n",
    "devided_number = 1\n",
    "\n",
    "uniformlow = 0\n",
    "uniformhigh = 1.0\n",
    "\n",
    "normalloc = 0.5\n",
    "normalscale = 0.1\n",
    "\n",
    "doublePeakHighMean = 0.9\n",
    "doublePeakLowMean = 0.1\n",
    "doublePeakStd = 0.04\n",
    "\n",
    "beta_a = 0.3\n",
    "beta_b = 0.2\n",
    "\n",
    "def Generate_distribution(Agent_number_n):\n",
    "    #return sorted(np.random.rand(Agent_number_n), reverse=True)\n",
    "    return sorted(np.random.normal(normalloc,normalscale,Agent_number_n), reverse=True)\n",
    "Prior_Distribution = \"normal\""
   ]
  },
  {
   "cell_type": "code",
   "execution_count": 3,
   "metadata": {
    "ExecuteTime": {
     "end_time": "2021-06-24T07:00:03.849581Z",
     "start_time": "2021-06-24T07:00:03.825906Z"
    }
   },
   "outputs": [],
   "source": [
    "new_input = 3\n",
    "def Dimensionality_reduction(data_sorted):\n",
    "    out_data = torch.ones(new_input).cuda()\n",
    "    out_data[0] = torch.max(data_sorted) \n",
    "    out_data[1] = torch.sum(data_sorted) \n",
    "    \n",
    "    temp_list = []\n",
    "    for i in range(len(data_sorted)-1):\n",
    "        temp_list.append(data_sorted[i] - data_sorted[i + 1])\n",
    "    \n",
    "    temp_tensor = torch.stack(temp_list)    \n",
    "    out_data[2] = torch.max(temp_tensor) \n",
    "    return out_data\n"
   ]
  },
  {
   "cell_type": "code",
   "execution_count": 4,
   "metadata": {
    "ExecuteTime": {
     "end_time": "2021-06-24T07:00:03.873612Z",
     "start_time": "2021-06-24T07:00:03.850860Z"
    },
    "run_control": {
     "marked": true
    }
   },
   "outputs": [],
   "source": [
    "d_1 = D.uniform.Uniform(uniformlow, uniformhigh)\n",
    "distributionRatio_1 = d_1.cdf(1) - d_1.cdf(0)\n",
    "distributionBase_1 = d_1.cdf(0)\n",
    "\n",
    "d_2 = D.normal.Normal(normalloc, normalscale)\n",
    "distributionRatio_2 = d_2.cdf(1) - d_2.cdf(0)\n",
    "distributionBase_2 = d_2.cdf(0)\n",
    "\n",
    "d_3 = D.normal.Normal(doublePeakLowMean, doublePeakStd)\n",
    "d_4 = D.normal.Normal(doublePeakHighMean, doublePeakStd)\n",
    "distributionRatio_3 = (d_3.cdf(1) + d_4.cdf(1) - d_3.cdf(0) - d_4.cdf(0)) / 2\n",
    "distributionBase_3 = d_3.cdf(0) + d_4.cdf(0)\n",
    "\n",
    "# d_5 = D.beta.Beta(beta_a,beta_b)\n",
    "\n",
    "# d10 = D.beta.Beta(0.5,0.5)\n",
    "\n",
    "\n",
    "def cdf(x, y, i=None):\n",
    "    if (y == \"uniform\"):\n",
    "        return (d_1.cdf(x) - distributionBase_1) / distributionRatio_1\n",
    "    elif (y == \"normal\"):\n",
    "        return (d_2.cdf(x) - distributionBase_2) / distributionRatio_2\n",
    "    elif (y == \"twopeak\"):\n",
    "        return (d_3.cdf(x) + d_4.cdf(x) -\n",
    "                distributionBase_3) / 2 / distributionRatio_3\n",
    "\n",
    "\n",
    "def pdf(x, y, i=None):\n",
    "    x= x.cpu().type(torch.float32)\n",
    "    if (y == \"uniform\"):\n",
    "        return torch.pow(torch.tensor(10.0), d_1.log_prob(x)).to(dev)\n",
    "    elif (y == \"normal\"):\n",
    "        return torch.pow(torch.tensor(10.0), d_2.log_prob(x)).to(dev)\n",
    "    elif (y == \"twopeak\"):\n",
    "        return (torch.pow(torch.tensor(10.0), d_3.log_prob(x)) +\n",
    "                torch.pow(torch.tensor(10.0), d_4.log_prob(x))).to(dev) / 2 \n",
    "    \n",
    "def Generate_distribution(Agent_number_n):\n",
    "    return np.random.rand(Agent_number_n)\n",
    "    #return np.random.normal(normalloc,normalscale,Agent_number_n)\n"
   ]
  },
  {
   "cell_type": "code",
   "execution_count": 5,
   "metadata": {
    "ExecuteTime": {
     "end_time": "2021-06-24T07:00:05.161287Z",
     "start_time": "2021-06-24T07:00:03.874609Z"
    },
    "run_control": {
     "marked": false
    }
   },
   "outputs": [
    {
     "name": "stdout",
     "output_type": "stream",
     "text": [
      "tensor(10., device='cuda:0')\n",
      "tensor([1.], device='cuda:0')\n",
      "tensor([0.0008], device='cuda:0')\n"
     ]
    }
   ],
   "source": [
    "print(torch.tensor(10.0).to(dev))\n",
    "print(pdf(torch.ones(1)*0.2,\"uniform\"))\n",
    "print(pdf(torch.ones(1)*0.2,\"normal\"))\n"
   ]
  },
  {
   "cell_type": "code",
   "execution_count": 6,
   "metadata": {
    "ExecuteTime": {
     "end_time": "2021-06-24T07:00:05.928366Z",
     "start_time": "2021-06-24T07:00:05.162284Z"
    }
   },
   "outputs": [
    {
     "name": "stdout",
     "output_type": "stream",
     "text": [
      "[[[0.98033986 0.16786111 0.33394864 ... 0.10991884 0.54848515 0.5445875 ]\n",
      "  [0.09863157 0.16786111 0.33394864 ... 0.10991884 0.54848515 0.5445875 ]\n",
      "  [0.09863157 0.98033986 0.33394864 ... 0.10991884 0.54848515 0.5445875 ]\n",
      "  ...\n",
      "  [0.09863157 0.98033986 0.16786111 ... 0.97856677 0.54848515 0.5445875 ]\n",
      "  [0.09863157 0.98033986 0.16786111 ... 0.97856677 0.10991884 0.5445875 ]\n",
      "  [0.09863157 0.98033986 0.16786111 ... 0.97856677 0.10991884 0.54848515]]\n",
      "\n",
      " [[0.46913107 0.50177232 0.52317746 ... 0.3623584  0.28637525 0.90235219]\n",
      "  [0.73333385 0.50177232 0.52317746 ... 0.3623584  0.28637525 0.90235219]\n",
      "  [0.73333385 0.46913107 0.52317746 ... 0.3623584  0.28637525 0.90235219]\n",
      "  ...\n",
      "  [0.73333385 0.46913107 0.50177232 ... 0.77903148 0.28637525 0.90235219]\n",
      "  [0.73333385 0.46913107 0.50177232 ... 0.77903148 0.3623584  0.90235219]\n",
      "  [0.73333385 0.46913107 0.50177232 ... 0.77903148 0.3623584  0.28637525]]\n",
      "\n",
      " [[0.64952572 0.3163133  0.48376379 ... 0.546455   0.67962049 0.91337611]\n",
      "  [0.80848069 0.3163133  0.48376379 ... 0.546455   0.67962049 0.91337611]\n",
      "  [0.80848069 0.64952572 0.48376379 ... 0.546455   0.67962049 0.91337611]\n",
      "  ...\n",
      "  [0.80848069 0.64952572 0.3163133  ... 0.04840282 0.67962049 0.91337611]\n",
      "  [0.80848069 0.64952572 0.3163133  ... 0.04840282 0.546455   0.91337611]\n",
      "  [0.80848069 0.64952572 0.3163133  ... 0.04840282 0.546455   0.67962049]]\n",
      "\n",
      " ...\n",
      "\n",
      " [[0.99060144 0.93962632 0.16158871 ... 0.17422341 0.06674426 0.52062156]\n",
      "  [0.89487768 0.93962632 0.16158871 ... 0.17422341 0.06674426 0.52062156]\n",
      "  [0.89487768 0.99060144 0.16158871 ... 0.17422341 0.06674426 0.52062156]\n",
      "  ...\n",
      "  [0.89487768 0.99060144 0.93962632 ... 0.21267995 0.06674426 0.52062156]\n",
      "  [0.89487768 0.99060144 0.93962632 ... 0.21267995 0.17422341 0.52062156]\n",
      "  [0.89487768 0.99060144 0.93962632 ... 0.21267995 0.17422341 0.06674426]]\n",
      "\n",
      " [[0.04747521 0.65852976 0.98796135 ... 0.60205951 0.1054944  0.96103882]\n",
      "  [0.87036422 0.65852976 0.98796135 ... 0.60205951 0.1054944  0.96103882]\n",
      "  [0.87036422 0.04747521 0.98796135 ... 0.60205951 0.1054944  0.96103882]\n",
      "  ...\n",
      "  [0.87036422 0.04747521 0.65852976 ... 0.29348749 0.1054944  0.96103882]\n",
      "  [0.87036422 0.04747521 0.65852976 ... 0.29348749 0.60205951 0.96103882]\n",
      "  [0.87036422 0.04747521 0.65852976 ... 0.29348749 0.60205951 0.1054944 ]]\n",
      "\n",
      " [[0.17726149 0.69454907 0.06580369 ... 0.48638936 0.35765999 0.56425674]\n",
      "  [0.18322811 0.69454907 0.06580369 ... 0.48638936 0.35765999 0.56425674]\n",
      "  [0.18322811 0.17726149 0.06580369 ... 0.48638936 0.35765999 0.56425674]\n",
      "  ...\n",
      "  [0.18322811 0.17726149 0.69454907 ... 0.3705027  0.35765999 0.56425674]\n",
      "  [0.18322811 0.17726149 0.69454907 ... 0.3705027  0.48638936 0.56425674]\n",
      "  [0.18322811 0.17726149 0.69454907 ... 0.3705027  0.48638936 0.35765999]]]\n",
      "[4.45617528 5.33986771 5.46181762 ... 5.22456866 5.52937531 4.00414309]\n"
     ]
    }
   ],
   "source": [
    "def h_3_star(a, b, t):\n",
    "    return a - min(a, t) + b - min(b, t) + max(min(a, t)+min(b, t), 2*t/3) + 1/2 * max(min(a, t)+min(b, t), t) - 1/2 * max(max(min(a, t), min(b, t)), 2*t/3) - t/6\n",
    "\n",
    "\n",
    "def f_function(a, b, z):\n",
    "    if(z >= 1):\n",
    "        return (a+b)/2 + z/3\n",
    "    else:\n",
    "        return z/3 + h_3_star(a, b, 1-z)/2\n",
    "\n",
    "def h_function_label(input_list):\n",
    "    #input_list = sorted(input_list)\n",
    "    g_list = []\n",
    "    for j1 in range(len(input_list) ):\n",
    "        for j2 in range(len(input_list)):\n",
    "            if(j1 != j2):\n",
    "                a = input_list[j1]\n",
    "                b = input_list[j2]\n",
    "                z = sum(input_list)- a-b\n",
    "\n",
    "                g_list.append( f_function(a, b, z) * (Agent_number_n-1))\n",
    "    h = sum(g_list) * 3 /  (Agent_number_n) /  (Agent_number_n-1) /  (Agent_number_n - 2)\n",
    "    return h\n",
    "\n",
    "def appen(_x_list,y):\n",
    "    global temp_list\n",
    "    temp_list.append(_x_list)\n",
    "    \n",
    "def appen_train(x_list):\n",
    "    global temp_list\n",
    "                \n",
    "    S= max(sum(x_list),1.0);\n",
    "    temp_list = []\n",
    "    h_list = []\n",
    "    for i in range(Agent_number_n):\n",
    "        temp = []\n",
    "        for j in range(Agent_number_n):\n",
    "            if(i!=j):\n",
    "                temp.append(x_list[j])\n",
    "        appen(temp,S)\n",
    "        \n",
    "        h = h_function_label(temp)\n",
    "        h_list.append(float(h))\n",
    "    temp_list = np.array(temp_list)\n",
    "    x_list = np.array(x_list)\n",
    "    return temp_list,S,x_list,h_list\n",
    "    \n",
    "\n",
    "def appen_test(x_list):\n",
    "    global temp_list\n",
    "                \n",
    "    S= max(sum(x_list),1.0);\n",
    "    temp_list = []\n",
    "    \n",
    "    for i in range(Agent_number_n):\n",
    "        temp = []\n",
    "        for j in range(Agent_number_n):\n",
    "            if(i!=j):\n",
    "                temp.append(x_list[j])\n",
    "        appen(temp,S)\n",
    "    testing_data.append(temp_list)\n",
    "    testing_label.append(S)\n",
    "    temp_list = np.array(temp_list)\n",
    "    return temp_list,S\n",
    "    \n",
    "\n",
    "def read_testing_data():\n",
    "    for i in range(10000):\n",
    "        appen_test(Generate_distribution(Agent_number_n));\n",
    "                            \n",
    "\n",
    "testing_data=[]\n",
    "testing_label=[]\n",
    "S=1.0\n",
    "read_testing_data();\n",
    "\n",
    "testing_data=np.array(testing_data)\n",
    "testing_label=np.array(testing_label)\n",
    "print(testing_data)\n",
    "print(testing_label)"
   ]
  },
  {
   "cell_type": "code",
   "execution_count": 7,
   "metadata": {
    "ExecuteTime": {
     "end_time": "2021-06-24T07:00:43.338500Z",
     "start_time": "2021-06-24T07:00:05.931358Z"
    }
   },
   "outputs": [
    {
     "name": "stdout",
     "output_type": "stream",
     "text": [
      "9.057953556948297 8.999999999999995 0.057953556948302065 9.00003644485805\n"
     ]
    }
   ],
   "source": [
    "def h_3_star(a, b, t):\n",
    "    return a - min(a, t) + b - min(b, t) + max(min(a, t)+min(b, t), 2*t/3) + 1/2 * max(min(a, t)+min(b, t), t) - 1/2 * max(max(min(a, t), min(b, t)), 2*t/3) - t/6\n",
    "\n",
    "\n",
    "def f_function(a, b, z):\n",
    "    if(z >= 1):\n",
    "        return (a+b)/2 + z/3\n",
    "    else:\n",
    "        return z/3 + h_3_star(a, b, 1-z)/2\n",
    "\n",
    "def h_function(input_list):\n",
    "    #input_list = sorted(input_list)\n",
    "    g_list = []\n",
    "    for j1 in range(len(input_list) ):\n",
    "        for j2 in range(len(input_list)):\n",
    "            if(j1 != j2):\n",
    "                a = input_list[j1]\n",
    "                b = input_list[j2]\n",
    "                z = sum(input_list)- a-b\n",
    "\n",
    "                g_list.append( f_function(a, b, z) * (Agent_number_n-1))\n",
    "    h = sum(g_list) * 3 /  (Agent_number_n) /  (Agent_number_n-1) /  (Agent_number_n - 2)\n",
    "    return h\n",
    "                \n",
    "                \n",
    "x_list = []\n",
    "y_list = []\n",
    "z_list = []\n",
    "result_list = []\n",
    "for index in range(len(testing_data)):\n",
    "    h_list = []\n",
    "    for i in range(Agent_number_n):\n",
    "        x_list.append(testing_data[index][i][0])\n",
    "        y_list.append(testing_data[index][i][1])\n",
    "        h = h_function(testing_data[index][i])\n",
    "        z_list.append(float(h))\n",
    "        h_list.append(float(h))\n",
    "    result_list.append(sum(h_list)/testing_label[index]) \n",
    "    \n",
    "    \n",
    "print(max(result_list), min(result_list), max(result_list)-min(result_list),sum(result_list)/len(result_list))"
   ]
  },
  {
   "cell_type": "code",
   "execution_count": 8,
   "metadata": {
    "ExecuteTime": {
     "end_time": "2021-06-24T07:00:44.176058Z",
     "start_time": "2021-06-24T07:00:43.338500Z"
    }
   },
   "outputs": [
    {
     "data": {
      "image/png": "[encoded data removed]",
      "text/plain": [
       "<Figure size 432x288 with 1 Axes>"
      ]
     },
     "metadata": {
      "needs_background": "light"
     },
     "output_type": "display_data"
    }
   ],
   "source": [
    "plt.hist(result_list,bins=500)\n",
    "\n",
    "plt.title(\"Means\", y=1.015, fontsize=20)\n",
    "plt.axvline(x=sum(result_list)/len(result_list), linestyle='--', linewidth=2.5, label=\"sample mean\", c='orange')\n",
    "plt.xlabel(\"samples\", labelpad=14)\n",
    "plt.ylabel(\"frequency of occurence\", labelpad=14)\n",
    "plt.legend();\n",
    "\n",
    "result_list.sort()\n",
    "\n",
    "plt.axvline(x=result_list[int(len(result_list)*0.01)], linestyle='--', linewidth=0.5, label=\"1%\", c='b')\n",
    "plt.axvline(x=result_list[int(len(result_list)*0.99)], linestyle='--', linewidth=0.5, label=\"99%\", c='r')\n",
    "\n",
    "\n",
    "plt.show()"
   ]
  },
  {
   "cell_type": "code",
   "execution_count": 9,
   "metadata": {
    "ExecuteTime": {
     "end_time": "2021-06-24T07:00:44.220366Z",
     "start_time": "2021-06-24T07:00:44.177057Z"
    }
   },
   "outputs": [
    {
     "name": "stdout",
     "output_type": "stream",
     "text": [
      "tensor([0.2521], device='cuda:0', grad_fn=<SortBackward>)\n"
     ]
    }
   ],
   "source": [
    "tensor_sample_list,indices = torch.sort(torch.rand(devided_number,requires_grad=True).to(dev))  # random ideas\\n\n",
    "print(tensor_sample_list)"
   ]
  },
  {
   "cell_type": "code",
   "execution_count": 10,
   "metadata": {
    "ExecuteTime": {
     "end_time": "2021-06-24T07:00:44.249115Z",
     "start_time": "2021-06-24T07:00:44.220366Z"
    },
    "run_control": {
     "marked": true
    }
   },
   "outputs": [
    {
     "name": "stdout",
     "output_type": "stream",
     "text": [
      "tensor([0.0066], device='cuda:0', grad_fn=<DivBackward0>)\n",
      "tensor([0.0066], device='cuda:0', grad_fn=<DivBackward0>)\n"
     ]
    }
   ],
   "source": [
    "print(cdf(tensor_sample_list,Prior_Distribution))\n",
    "print(cdf(tensor_sample_list,\"normal\"))"
   ]
  },
  {
   "cell_type": "code",
   "execution_count": 11,
   "metadata": {
    "ExecuteTime": {
     "end_time": "2021-06-24T07:00:44.301750Z",
     "start_time": "2021-06-24T07:00:44.249115Z"
    },
    "run_control": {
     "marked": true
    }
   },
   "outputs": [],
   "source": [
    "def weight_init(m):\n",
    "    if isinstance(m, torch.nn.Conv2d):\n",
    "        torch.nn.init.xavier_normal_(m.weight)\n",
    "        torch.nn.init.zeros_(m.bias)\n",
    "    elif isinstance(m, torch.nn.Linear):\n",
    "        torch.nn.init.xavier_normal_(m.weight)\n",
    "        torch.nn.init.normal_(m.bias, mean=0.0, std=0.01)\n",
    "\n",
    "\n",
    "\n",
    "def redistribution_value_function(input_tensor):\n",
    "    S = torch.max(torch.sum(input_tensor), torch.ones(1).to(dev))\n",
    "    temp_list = []\n",
    "\n",
    "    for i in range(Agent_number_n):\n",
    "        temp = []\n",
    "\n",
    "        for j in range(Agent_number_n):\n",
    "            if(i != j):\n",
    "                temp .append(input_tensor[j])\n",
    "\n",
    "        temp = torch.stack(temp)\n",
    "        temp_list.append(temp)\n",
    "    return torch.stack(temp_list), S\n",
    "\n",
    "\n",
    "class Net(torch.nn.Module):\n",
    "    def __init__(self):\n",
    "\n",
    "        super(Net, self).__init__()\n",
    "\n",
    "        self.input_dim = new_input#(Agent_number_n-1)\n",
    "        self.hidden_dim = 128\n",
    "        self.output_dim = 1\n",
    "        self.hidden_layer_count = 6\n",
    "\n",
    "        current_dim = self.input_dim\n",
    "        self.layers = torch.nn.ModuleList()\n",
    "        for i in range(self.hidden_layer_count):\n",
    "            self.layers.append(torch.nn.Linear(current_dim, self.hidden_dim))\n",
    "            current_dim = self.hidden_dim\n",
    "        self.layers.append(torch.nn.Linear(current_dim, self.output_dim))\n",
    "\n",
    "    def calculate(self, value_list):\n",
    "        h = Dimensionality_reduction(value_list)\n",
    "        for layer in self.layers:\n",
    "            h = torch.relu(layer(h))\n",
    "        return h\n",
    "\n",
    "    def forward(self, input_list, input_label, input_data):\n",
    "        global iteration, echo, target_order\n",
    "        loss1 = 0\n",
    "        loss2 = 0\n",
    "        input_list = torch.from_numpy(\n",
    "            np.array(input_list)).to(dev).type(torch.float32)\n",
    "\n",
    "        input_data = torch.from_numpy(\n",
    "            np.array(input_data)).to(dev).type(torch.float32)\n",
    "        \n",
    "        input_label = torch.from_numpy(\n",
    "            np.array(input_label)).to(dev).type(torch.float32)\n",
    "        \n",
    "        \n",
    "        random_index = random.randint(0, Agent_number_n-1)\n",
    "        tensor_sample_list,indices = torch.sort(torch.rand(devided_number,requires_grad=True).to(dev))\n",
    "     \n",
    "        tensor_sample = torch.rand(devided_number,requires_grad=True)[0].to(dev)\n",
    "    \n",
    "        input_data_temp = input_data.detach().clone()\n",
    "        \n",
    "        input_data_temp[random_index] = tensor_sample\n",
    "\n",
    "        value_list_tensor, S_tensor = redistribution_value_function(\n",
    "            input_data_temp)\n",
    "       \n",
    "        h_list = []\n",
    "        for i in range(Agent_number_n):\n",
    "            h = self.calculate(\n",
    "                value_list_tensor[i].to(dev).type(torch.float32))\n",
    "            h_list.append(h)\n",
    "            \n",
    "        S_tensor = S_tensor.detach().to(dev).type(torch.float32)\n",
    "        \n",
    "        sum_h = torch.sum(torch.cat(h_list)).to(dev)\n",
    "        \n",
    "        temp_loss1 = torch.where((Agent_number_n-1)*S_tensor > sum_h,\n",
    "                 torch.square(((Agent_number_n-1)*S_tensor - sum_h)),\n",
    "                 torch.zeros(1).to(dev)\n",
    "              )\n",
    "\n",
    "        temp_loss2 = torch.where((Agent_number_n-Alpha)*S_tensor < sum_h,\n",
    "                    torch.square((sum_h-(Agent_number_n-Alpha)*S_tensor))/10000,\n",
    "                    torch.zeros(1).to(dev)\n",
    "                  )\n",
    "\n",
    "\n",
    "        loss1 = temp_loss1 * pdf(tensor_sample, Prior_Distribution)\n",
    "        loss2 = temp_loss2 * pdf(tensor_sample, Prior_Distribution)\n",
    "                \n",
    "        return loss1, loss2\n",
    "    \n",
    "    def supervised_loss(self, input_list,label):\n",
    "        global iteration,echo,target_order\n",
    "        input_list = torch.from_numpy(\n",
    "            np.array(input_list)).to(dev).type(torch.float32)\n",
    "        loss = 0 \n",
    "        for i in range(Agent_number_n):\n",
    "            h = self.calculate(input_list[i])\n",
    "            loss += torch.square(h - label[i])\n",
    "        return loss"
   ]
  },
  {
   "cell_type": "code",
   "execution_count": 12,
   "metadata": {
    "ExecuteTime": {
     "end_time": "2021-06-24T07:00:44.317372Z",
     "start_time": "2021-06-24T07:00:44.301750Z"
    }
   },
   "outputs": [],
   "source": [
    "random.seed(200)\n",
    "torch.manual_seed(256)\n",
    "net  = Net()\n",
    "net.apply(weight_init)\n",
    "#net = torch.load(\"save/Deep_learning_F_normal_10_1\")\n",
    "net.to(dev)\n",
    "\n",
    "#optimizer = opt.RMSprop(net.parameters(), lr=0.00001)\n",
    "#optimizer = opt.SGD(net.parameters(), lr=0.00005)\n",
    "optimizer = opt.Adam(net.parameters(), lr=LR)\n",
    "#optimizer = opt.Adadelta(net.parameters(), lr=1.0)\n",
    "\n",
    "scheduler = torch.optim.lr_scheduler.StepLR(optimizer, step_size=100, gamma=0.98)\n",
    "index_train_list = []\n",
    "index_test_list = []\n",
    "train_losses = []\n",
    "test_losses = []"
   ]
  },
  {
   "cell_type": "code",
   "execution_count": 13,
   "metadata": {
    "ExecuteTime": {
     "end_time": "2021-06-24T07:41:21.378829Z",
     "start_time": "2021-06-24T07:00:44.317372Z"
    }
   },
   "outputs": [
    {
     "name": "stdout",
     "output_type": "stream",
     "text": [
      "0 tensor(213.1688, device='cuda:0', grad_fn=<DivBackward0>) 13642.8046875\n",
      "50 tensor(196.8425, device='cuda:0', grad_fn=<DivBackward0>) 12597.91796875\n",
      "100 tensor(201.2844, device='cuda:0', grad_fn=<DivBackward0>) 12882.2021484375\n",
      "150 tensor(204.1518, device='cuda:0', grad_fn=<DivBackward0>) 13065.7138671875\n",
      "200 tensor(213.4702, device='cuda:0', grad_fn=<DivBackward0>) 13662.08984375\n",
      "250 tensor(202.5754, device='cuda:0', grad_fn=<DivBackward0>) 12964.8251953125\n",
      "300 tensor(212.4646, device='cuda:0', grad_fn=<DivBackward0>) 13597.7314453125\n",
      "350 tensor(228.1510, device='cuda:0', grad_fn=<DivBackward0>) 14601.6669921875\n",
      "400 tensor(222.7299, device='cuda:0', grad_fn=<DivBackward0>) 14254.712890625\n",
      "450 tensor(0.2623, device='cuda:0', grad_fn=<DivBackward0>) 16.789257049560547\n",
      "500 tensor(0.0597, device='cuda:0', grad_fn=<DivBackward0>) 3.8214285373687744\n",
      "550 tensor(0.0185, device='cuda:0', grad_fn=<DivBackward0>) 1.1843608617782593\n",
      "600 tensor(0.0092, device='cuda:0', grad_fn=<DivBackward0>) 0.5909194946289062\n",
      "650 tensor(0.0077, device='cuda:0', grad_fn=<DivBackward0>) 0.49370115995407104\n",
      "700 tensor(0.0049, device='cuda:0', grad_fn=<DivBackward0>) 0.3131681978702545\n",
      "750 tensor(0.0029, device='cuda:0', grad_fn=<DivBackward0>) 0.18609164655208588\n",
      "800 tensor(0.0014, device='cuda:0', grad_fn=<DivBackward0>) 0.08791691064834595\n",
      "850 tensor(0.0014, device='cuda:0', grad_fn=<DivBackward0>) 0.09095946699380875\n",
      "900 tensor(0.0010, device='cuda:0', grad_fn=<DivBackward0>) 0.06430814415216446\n",
      "950 tensor(0.0005, device='cuda:0', grad_fn=<DivBackward0>) 0.034558989107608795\n",
      "1000 tensor(0.0007, device='cuda:0', grad_fn=<DivBackward0>) 0.044703803956508636\n",
      "1050 tensor(0.0002, device='cuda:0', grad_fn=<DivBackward0>) 0.01570446975529194\n",
      "1100 tensor(0.0001, device='cuda:0', grad_fn=<DivBackward0>) 0.008798064664006233\n",
      "1150 tensor(0.0001, device='cuda:0', grad_fn=<DivBackward0>) 0.007224868983030319\n",
      "1200 tensor(7.1671e-05, device='cuda:0', grad_fn=<DivBackward0>) 0.004586938768625259\n",
      "1250 tensor(5.5657e-05, device='cuda:0', grad_fn=<DivBackward0>) 0.0035620632115751505\n",
      "1300 tensor(2.1666e-05, device='cuda:0', grad_fn=<DivBackward0>) 0.0013866436202079058\n",
      "1350 tensor(2.1997e-05, device='cuda:0', grad_fn=<DivBackward0>) 0.0014078172389417887\n",
      "1400 tensor(1.8462e-05, device='cuda:0', grad_fn=<DivBackward0>) 0.0011815788457170129\n",
      "1450 tensor(1.4091e-05, device='cuda:0', grad_fn=<DivBackward0>) 0.0009018555283546448\n",
      "1500 tensor(6.6375e-06, device='cuda:0', grad_fn=<DivBackward0>) 0.0004247979959473014\n",
      "1550 tensor(8.1967e-06, device='cuda:0', grad_fn=<DivBackward0>) 0.0005245880456641316\n",
      "1600 tensor(8.1596e-06, device='cuda:0', grad_fn=<DivBackward0>) 0.000522213289514184\n",
      "1650 tensor(7.5201e-06, device='cuda:0', grad_fn=<DivBackward0>) 0.0004812843690160662\n",
      "1700 tensor(4.4320e-06, device='cuda:0', grad_fn=<DivBackward0>) 0.0002836459025274962\n",
      "1750 tensor(3.9277e-06, device='cuda:0', grad_fn=<DivBackward0>) 0.00025137412012554705\n",
      "1800 tensor(2.8928e-06, device='cuda:0', grad_fn=<DivBackward0>) 0.00018513914255890995\n",
      "1850 tensor(4.9270e-06, device='cuda:0', grad_fn=<DivBackward0>) 0.00031532521825283766\n",
      "1900 tensor(4.3949e-06, device='cuda:0', grad_fn=<DivBackward0>) 0.0002812765014823526\n",
      "1950 tensor(4.8705e-06, device='cuda:0', grad_fn=<DivBackward0>) 0.0003117125597782433\n"
     ]
    }
   ],
   "source": [
    "#supervised\n",
    "index_supervisedtrain_list = []\n",
    "supervisedtrain_losses = []\n",
    "for iteration in range(2000):\n",
    "\n",
    "    temp_number = 0\n",
    "    total_batch_loss = 0 \n",
    "    \n",
    "    loss_sum = 0\n",
    "    denominator = 0\n",
    "    for index in range(0, BATCH_SIZE):\n",
    "        training_data_i, training_S, training_data,label = appen_train(\n",
    "            Generate_distribution(Agent_number_n))\n",
    "        h_loss = net.supervised_loss(training_data_i, label)\n",
    "        denominator += 1\n",
    "        loss_sum += h_loss\n",
    "\n",
    "    loss_sum = torch.sum(loss_sum)\n",
    "    loss = (loss_sum) / denominator \n",
    "    total_batch_loss += float(loss_sum)\n",
    "\n",
    "    optimizer.zero_grad()\n",
    "    loss.backward()\n",
    "    optimizer.step()\n",
    "\n",
    "    if (iteration%50 == 0):\n",
    "        print(iteration,loss,total_batch_loss)\n",
    "        index_supervisedtrain_list.append(iteration)\n",
    "        supervisedtrain_losses.append(total_batch_loss)\n",
    "    scheduler.step()"
   ]
  },
  {
   "cell_type": "code",
   "execution_count": 14,
   "metadata": {
    "ExecuteTime": {
     "end_time": "2021-06-24T07:41:21.502378Z",
     "start_time": "2021-06-24T07:41:21.378829Z"
    }
   },
   "outputs": [
    {
     "data": {
      "image/png": "[encoded data removed]",
      "text/plain": [
       "<Figure size 432x288 with 1 Axes>"
      ]
     },
     "metadata": {
      "needs_background": "light"
     },
     "output_type": "display_data"
    }
   ],
   "source": [
    "plt.ylim(0, 0.1)\n",
    "plt.plot(index_supervisedtrain_list ,supervisedtrain_losses)\n",
    "plt.ylabel('supervised train loss')\n",
    "\n",
    "plt.show()"
   ]
  },
  {
   "cell_type": "code",
   "execution_count": 15,
   "metadata": {
    "ExecuteTime": {
     "end_time": "2021-06-24T07:41:21.510240Z",
     "start_time": "2021-06-24T07:41:21.503375Z"
    }
   },
   "outputs": [],
   "source": [
    "optimizer = opt.Adam(net.parameters(), lr=LR/100)\n",
    "#optimizer = opt.Adadelta(net.parameters(), lr=1.0)\n",
    "\n",
    "scheduler = torch.optim.lr_scheduler.StepLR(optimizer, step_size=100, gamma=0.98)"
   ]
  },
  {
   "cell_type": "code",
   "execution_count": 16,
   "metadata": {
    "ExecuteTime": {
     "end_time": "2021-06-24T09:03:30.484754Z",
     "start_time": "2021-06-24T07:41:21.510240Z"
    }
   },
   "outputs": [
    {
     "name": "stdout",
     "output_type": "stream",
     "text": [
      "0 tensor(5.9051e-06, device='cuda:0', grad_fn=<DivBackward0>) 0.0003779070684686303 1.99362055752772e-08\n",
      "batch iteration 0\n",
      "batch_loss: 0.0004 \n",
      "9.07407573560585 9.009491132395436 0.06458460321041493 0.007236694336821614\n",
      "\n",
      "50 tensor(5.3190e-05, device='cuda:0', grad_fn=<DivBackward0>) 0.0 0.0034041753970086575\n",
      "batch iteration 50\n",
      "batch_loss: 0.0034 \n",
      "9.134352561131776 9.068966919879298 0.06538564125247781 0.006509065623651722\n",
      "\n",
      "100 tensor(2.0713e-05, device='cuda:0', grad_fn=<DivBackward0>) 0.0 0.0013256290694698691\n",
      "batch iteration 100\n",
      "batch_loss: 0.0013 \n",
      "9.107995865843835 9.041948382694013 0.06604748314982167 0.006042857288431236\n",
      "\n",
      "150 tensor(1.5260e-06, device='cuda:0', grad_fn=<DivBackward0>) 0.0 9.766250877873972e-05\n",
      "batch iteration 150\n",
      "batch_loss: 0.0001 \n",
      "9.071977269509798 9.005303284544185 0.06667398496561283 0.00596579238026429\n",
      "\n",
      "200 tensor(3.9255e-07, device='cuda:0', grad_fn=<DivBackward0>) 0.0 2.5122908482444473e-05\n",
      "batch iteration 200\n",
      "batch_loss: 0.0000 \n",
      "9.066987739637703 9.000326633650957 0.06666110598674635 0.0059747643251686355\n",
      "\n",
      "250 tensor(2.3582e-07, device='cuda:0', grad_fn=<DivBackward0>) 0.0 1.5092746252776124e-05\n",
      "batch iteration 250\n",
      "batch_loss: 0.0000 \n",
      "9.06627349705333 8.999453016493238 0.06682048056009293 0.006356330678217503\n",
      "\n",
      "300 tensor(1.0506e-06, device='cuda:0', grad_fn=<DivBackward0>) 0.0 6.723644764861092e-05\n",
      "batch iteration 300\n",
      "batch_loss: 0.0001 \n",
      "9.074315436404081 9.006790154261129 0.06752528214295239 0.005872256492393646\n",
      "\n",
      "350 tensor(1.6033e-06, device='cuda:0', grad_fn=<DivBackward0>) 0.0 0.00010261106945108622\n",
      "batch iteration 350\n",
      "batch_loss: 0.0001 \n",
      "9.075998725166206 9.007025910153443 0.06897281501276353 0.006223705279195357\n",
      "\n",
      "400 tensor(1.1134e-06, device='cuda:0', grad_fn=<DivBackward0>) 0.0 7.125867705326527e-05\n",
      "batch iteration 400\n",
      "batch_loss: 0.0001 \n",
      "9.074370838241727 9.004560806055808 0.0698100321859183 0.00638215422344679\n",
      "\n",
      "450 tensor(3.6281e-08, device='cuda:0', grad_fn=<DivBackward0>) 0.0 2.3220034108817345e-06\n",
      "batch iteration 450\n",
      "batch_loss: 0.0000 \n",
      "9.065901086050214 8.995712880789814 0.0701882052604006 0.01066644548935436\n",
      "\n",
      "500 tensor(8.6565e-07, device='cuda:0', grad_fn=<DivBackward0>) 0.0 5.5401869758497924e-05\n",
      "batch iteration 500\n",
      "batch_loss: 0.0001 \n",
      "9.074970165003617 9.004311253051473 0.07065891195214391 0.0065788616801558675\n",
      "\n",
      "550 tensor(2.9311e-06, device='cuda:0', grad_fn=<DivBackward0>) 0.0 0.00018758748774416745\n",
      "batch iteration 550\n",
      "batch_loss: 0.0002 \n",
      "9.087892774475302 9.014779284615534 0.07311348985976807 0.00727726017008834\n",
      "\n",
      "600 tensor(4.4151e-05, device='cuda:0', grad_fn=<DivBackward0>) 0.0 0.0028256624937057495\n",
      "batch iteration 600\n",
      "batch_loss: 0.0028 \n",
      "9.137337531396456 9.06891204275888 0.06842548863757614 0.006661298889177658\n",
      "\n",
      "650 tensor(2.9561e-06, device='cuda:0', grad_fn=<DivBackward0>) 0.0 0.0001891917345346883\n",
      "batch iteration 650\n",
      "batch_loss: 0.0002 \n",
      "9.075704968323958 9.013435147605326 0.06226982071863141 0.006623736803875957\n",
      "\n",
      "700 tensor(3.2435e-06, device='cuda:0', grad_fn=<DivBackward0>) 0.0 0.00020758266327902675\n",
      "batch iteration 700\n",
      "batch_loss: 0.0002 \n",
      "9.077549004658195 9.013600061568082 0.06394894309011256 0.0051489063520282485\n",
      "\n",
      "750 tensor(2.9170e-07, device='cuda:0', grad_fn=<DivBackward0>) 0.0 1.866893217083998e-05\n",
      "batch iteration 750\n",
      "batch_loss: 0.0000 \n",
      "9.065275815377849 9.001253045213307 0.0640227701645415 0.005088094206948668\n",
      "\n",
      "800 tensor(1.1067e-05, device='cuda:0', grad_fn=<DivBackward0>) 0.0 0.0007083177333697677\n",
      "batch iteration 800\n",
      "batch_loss: 0.0007 \n",
      "9.090527315032775 9.023906754682962 0.06662056034981312 0.005302681659758335\n",
      "\n",
      "850 tensor(1.1315e-06, device='cuda:0', grad_fn=<DivBackward0>) 0.0 7.241618732223287e-05\n",
      "batch iteration 850\n",
      "batch_loss: 0.0001 \n",
      "9.074664669850288 9.00747640978087 0.06718826006941825 0.0052065136819070545\n",
      "\n",
      "900 tensor(4.2068e-07, device='cuda:0', grad_fn=<DivBackward0>) 0.0 2.692324051167816e-05\n",
      "batch iteration 900\n",
      "batch_loss: 0.0000 \n",
      "9.071049195271359 9.003051558649092 0.0679976366222661 0.005239661248076288\n",
      "\n",
      "950 tensor(1.1849e-07, device='cuda:0', grad_fn=<DivBackward0>) 1.0578636633340466e-08 7.5726929935626686e-06\n",
      "batch iteration 950\n",
      "batch_loss: 0.0000 \n",
      "9.065690618880215 8.99700842358369 0.06868219529652464 0.00832806586867818\n",
      "\n",
      "1000 tensor(6.0551e-07, device='cuda:0', grad_fn=<DivBackward0>) 0.0 3.87526088161394e-05\n",
      "batch iteration 1000\n",
      "batch_loss: 0.0000 \n",
      "9.072781979332431 9.003586754046852 0.0691952252855792 0.0055205185732312145\n",
      "\n"
     ]
    }
   ],
   "source": [
    "for iteration in range(int(echo)):\n",
    "    \n",
    "    temp_number = 0\n",
    "    total_batch_loss = 0 \n",
    "        \n",
    "    loss2_list = []\n",
    "    loss1_sum = 0\n",
    "    loss2_sum = 0\n",
    "    denominator = 0\n",
    "    for index in range(0, BATCH_SIZE):\n",
    "        training_data_i, training_label, training_data,label = appen_train(\n",
    "            Generate_distribution(Agent_number_n))\n",
    "        h_loss1, h_loss2 = net(training_data_i, training_label,\n",
    "                                       training_data)\n",
    "        denominator += 1\n",
    "        loss1_sum += h_loss1\n",
    "        loss2_sum += h_loss2\n",
    "\n",
    "    loss_sum = torch.sum(loss1_sum + loss2_sum)\n",
    "    loss = (loss_sum) / denominator \n",
    "    total_batch_loss +=float(loss_sum)\n",
    "    optimizer.zero_grad()\n",
    "\n",
    "    loss.backward()\n",
    "\n",
    "    optimizer.step()\n",
    "\n",
    "    temp_number = iteration\n",
    "    index_train_list.append(iteration)\n",
    "    train_losses.append(total_batch_loss)\n",
    "    if (iteration%50 == 0):\n",
    "        print(temp_number, loss, float(loss1_sum), float(loss2_sum))\n",
    "\n",
    "        print(\"batch iteration\", iteration)\n",
    "        print(\"batch_loss: %.4f \" % total_batch_loss)\n",
    "\n",
    "        result_list = []\n",
    "        for index in range(len(testing_data)):\n",
    "            h_list = []\n",
    "            for i in range(Agent_number_n):\n",
    "                h = net.calculate(\n",
    "                    torch.tensor(testing_data[index][i]).to(dev).type(\n",
    "                        torch.float32))\n",
    "                h_list.append(float(h))\n",
    "            result_list.append(sum(h_list) / testing_label[index])\n",
    "        print(max(result_list), min(result_list),\n",
    "              max(result_list) - min(result_list),\n",
    "              (sum(result_list) / len(result_list) - min(result_list))+ Agent_number_n-1 - min(min(result_list),Agent_number_n-1) )\n",
    "\n",
    "        index_test_list.append(iteration)\n",
    "        test_losses.append(\n",
    "            (sum(result_list) / len(result_list) - min(result_list))+ Agent_number_n-1 - min(min(result_list),Agent_number_n-1) )\n",
    "        print()\n",
    "        \n",
    "    scheduler.step()\n"
   ]
  },
  {
   "cell_type": "code",
   "execution_count": 17,
   "metadata": {
    "ExecuteTime": {
     "end_time": "2021-06-24T09:03:30.842729Z",
     "start_time": "2021-06-24T09:03:30.484754Z"
    }
   },
   "outputs": [
    {
     "data": {
      "image/png": "[encoded data removed]",
      "text/plain": [
       "<Figure size 432x288 with 1 Axes>"
      ]
     },
     "metadata": {
      "needs_background": "light"
     },
     "output_type": "display_data"
    },
    {
     "data": {
      "image/png": "[encoded data removed]",
      "text/plain": [
       "<Figure size 432x288 with 1 Axes>"
      ]
     },
     "metadata": {
      "needs_background": "light"
     },
     "output_type": "display_data"
    }
   ],
   "source": [
    "plt.ylim(0, 1.0)\n",
    "plt.plot(index_test_list,test_losses)\n",
    "plt.ylabel('Testing Loss')\n",
    "plt.xlabel('Batch Epoch')\n",
    "plt.show()\n",
    "\n",
    "import csv\n",
    "with open('save/test_loss_feed_normal_10.csv', 'w', newline='') as csvfile_feed:\n",
    "    spamwriter = csv.writer(csvfile_feed)\n",
    "    spamwriter.writerow(index_test_list)\n",
    "    spamwriter.writerow(test_losses)\n",
    "\n",
    "\n",
    "with open('save/test_loss_unfeed_normal_10.csv') as csvfile_unfeed:\n",
    "    reader = csv.reader(csvfile_unfeed)\n",
    "    list_feed = []\n",
    "    for row in reader:\n",
    "        row = np.array(row)\n",
    "        temp_list = []\n",
    "        for i in range(len(row)):\n",
    "            temp_list.append(float(row[i]))\n",
    "\n",
    "        list_feed.append(temp_list)\n",
    "    plt.ylim(0, 1.0)\n",
    "    plt.plot(list_feed[0],list_feed[1],label='neural network')\n",
    "    plt.plot(index_test_list,test_losses,label='feed distribution')\n",
    "    plt.ylabel('Testing Loss')\n",
    "    plt.xlabel('Batch Epoch')\n",
    "    #plt.title('Two or more lines on same plot with suitable legends ')\n",
    "    # show a legend on the plot\n",
    "    plt.legend()\n",
    "    plt.show()\n"
   ]
  },
  {
   "cell_type": "code",
   "execution_count": 18,
   "metadata": {
    "ExecuteTime": {
     "end_time": "2021-06-24T09:03:31.196142Z",
     "start_time": "2021-06-24T09:03:30.842729Z"
    }
   },
   "outputs": [
    {
     "data": {
      "image/png": "[encoded data removed]",
      "text/plain": [
       "<Figure size 432x288 with 1 Axes>"
      ]
     },
     "metadata": {
      "needs_background": "light"
     },
     "output_type": "display_data"
    }
   ],
   "source": [
    "plt.ylim(0, 1.0)\n",
    "\n",
    "plt.plot(index_train_list,train_losses)\n",
    "plt.ylabel('training loss')\n",
    "\n",
    "plt.plot(index_test_list,test_losses)\n",
    "plt.ylabel('training loss')\n",
    "\n",
    "plt.show()"
   ]
  },
  {
   "cell_type": "code",
   "execution_count": 19,
   "metadata": {
    "ExecuteTime": {
     "end_time": "2021-06-24T09:03:31.211763Z",
     "start_time": "2021-06-24T09:03:31.196142Z"
    }
   },
   "outputs": [],
   "source": [
    "torch.save(net, \"save/Deep_learning_F_normal_10_1\")"
   ]
  },
  {
   "cell_type": "code",
   "execution_count": 20,
   "metadata": {
    "ExecuteTime": {
     "end_time": "2021-06-24T09:05:15.881049Z",
     "start_time": "2021-06-24T09:03:31.211763Z"
    }
   },
   "outputs": [
    {
     "name": "stdout",
     "output_type": "stream",
     "text": [
      "9.072781979332431 9.003586754046852 0.0691952252855792 0.0055205185732312145\n"
     ]
    }
   ],
   "source": [
    "denominator = 0\n",
    "result_list = []\n",
    "for index in range(len(testing_data)):\n",
    "    h_list = []\n",
    "    for i in range(Agent_number_n):\n",
    "        h = net.calculate(torch.tensor(testing_data[index][i]).cuda().type(torch.float32))\n",
    "        h_list.append(float(h))\n",
    "    \n",
    "    #print(sum(h_list),h_list,sum(h_list)/testing_label[index])\n",
    "    result_list.append(sum(h_list)/testing_label[index])\n",
    "    \n",
    "\n",
    "print(max(result_list),min(result_list),max(result_list)-min(result_list),sum(result_list)/len(result_list)-min(result_list))"
   ]
  },
  {
   "cell_type": "code",
   "execution_count": 21,
   "metadata": {
    "ExecuteTime": {
     "end_time": "2021-06-24T09:05:16.672757Z",
     "start_time": "2021-06-24T09:05:15.881049Z"
    }
   },
   "outputs": [
    {
     "data": {
      "image/png": "[encoded data removed]",
      "text/plain": [
       "<Figure size 432x288 with 1 Axes>"
      ]
     },
     "metadata": {
      "needs_background": "light"
     },
     "output_type": "display_data"
    }
   ],
   "source": [
    "plt.hist(result_list,bins=500)\n",
    "\n",
    "plt.title(\"Means\", y=1.015, fontsize=20)\n",
    "plt.axvline(x=sum(result_list)/len(result_list), linestyle='--', linewidth=2.5, label=\"sample mean\", c='orange')\n",
    "plt.xlabel(\"samples\", labelpad=14)\n",
    "plt.ylabel(\"frequency of occurence\", labelpad=14)\n",
    "plt.legend();\n",
    "\n",
    "result_list.sort()\n",
    "\n",
    "plt.axvline(x=result_list[int(len(result_list)*0.01)], linestyle='--', linewidth=0.5, label=\"1%\", c='b')\n",
    "plt.axvline(x=result_list[int(len(result_list)*0.99)], linestyle='--', linewidth=0.5, label=\"99%\", c='r')\n",
    "\n",
    "\n",
    "plt.show()"
   ]
  },
  {
   "cell_type": "code",
   "execution_count": null,
   "metadata": {},
   "outputs": [],
   "source": []
  },
  {
   "cell_type": "code",
   "execution_count": null,
   "metadata": {},
   "outputs": [],
   "source": []
  },
  {
   "cell_type": "code",
   "execution_count": null,
   "metadata": {},
   "outputs": [],
   "source": []
  }
 ],
 "metadata": {
  "hide_input": false,
  "kernelspec": {
   "display_name": "Python 3",
   "language": "python",
   "name": "python3"
  },
  "language_info": {
   "codemirror_mode": {
    "name": "ipython",
    "version": 3
   },
   "file_extension": ".py",
   "mimetype": "text/x-python",
   "name": "python",
   "nbconvert_exporter": "python",
   "pygments_lexer": "ipython3",
   "version": "3.8.3"
  },
  "varInspector": {
   "cols": {
    "lenName": 16,
    "lenType": 16,
    "lenVar": 40
   },
   "kernels_config": {
    "python": {
     "delete_cmd_postfix": "",
     "delete_cmd_prefix": "del ",
     "library": "var_list.py",
     "varRefreshCmd": "print(var_dic_list())"
    },
    "r": {
     "delete_cmd_postfix": ") ",
     "delete_cmd_prefix": "rm(",
     "library": "var_list.r",
     "varRefreshCmd": "cat(var_dic_list()) "
    }
   },
   "types_to_exclude": [
    "module",
    "function",
    "builtin_function_or_method",
    "instance",
    "_Feature"
   ],
   "window_display": false
  }
 },
 "nbformat": 4,
 "nbformat_minor": 4
}
