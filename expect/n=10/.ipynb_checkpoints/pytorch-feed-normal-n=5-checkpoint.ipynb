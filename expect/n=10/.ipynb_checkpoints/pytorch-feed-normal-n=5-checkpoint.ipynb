{
 "cells": [
  {
   "cell_type": "code",
   "execution_count": 1,
   "metadata": {
    "ExecuteTime": {
     "end_time": "2021-06-15T07:05:03.142880Z",
     "start_time": "2021-06-15T07:05:01.127491Z"
    }
   },
   "outputs": [
    {
     "name": "stdout",
     "output_type": "stream",
     "text": [
      "pygame 2.0.1 (SDL 2.0.14, Python 3.8.3)\n",
      "Hello from the pygame community. https://www.pygame.org/contribute.html\n"
     ]
    },
    {
     "name": "stderr",
     "output_type": "stream",
     "text": [
      "D:\\ComputerSoftwares\\Anaconda\\lib\\site-packages\\sklearn\\utils\\deprecation.py:143: FutureWarning: The sklearn.datasets.samples_generator module is  deprecated in version 0.22 and will be removed in version 0.24. The corresponding classes / functions should instead be imported from sklearn.datasets. Anything that cannot be imported from sklearn.datasets is now part of the private API.\n",
      "  warnings.warn(message, FutureWarning)\n"
     ]
    },
    {
     "name": "stdout",
     "output_type": "stream",
     "text": [
      "cuda:0\n"
     ]
    }
   ],
   "source": [
    "\n",
    "import pygame\n",
    "import random\n",
    "import os\n",
    "import time\n",
    "import numpy as np\n",
    "import math\n",
    "import torch\n",
    "import torch.nn.functional\n",
    "import matplotlib.pyplot as plt\n",
    "import torch.optim as opt\n",
    "from torch.autograd import Variable\n",
    "from sklearn.model_selection import train_test_split\n",
    "\n",
    "import scipy.stats as st\n",
    "from sklearn.datasets.samples_generator import make_blobs\n",
    "from matplotlib.colors import LogNorm \n",
    "import matplotlib.cm as cm\n",
    "import torch.nn as nn\n",
    "import numpy as np\n",
    "import matplotlib.pyplot as plt\n",
    "import plotly.graph_objects as go\n",
    "import plotly.express as px\n",
    "from scipy.interpolate import griddata\n",
    "import torch.nn.functional as F\n",
    "import torch.distributions as D\n",
    "if torch.cuda.is_available():  \n",
    "    dev = \"cuda:0\" \n",
    "else:  \n",
    "    dev = \"cpu\"  \n",
    "\n",
    "print(dev)\n",
    "\n"
   ]
  },
  {
   "cell_type": "code",
   "execution_count": 2,
   "metadata": {
    "ExecuteTime": {
     "end_time": "2021-06-15T07:05:03.158345Z",
     "start_time": "2021-06-15T07:05:03.144875Z"
    },
    "run_control": {
     "marked": true
    }
   },
   "outputs": [],
   "source": [
    "global temp_list\n",
    "temp_list = []\n",
    "Agent_number_n=5;\n",
    "Alpha = 1.0;\n",
    "\n",
    "echo = 2001\n",
    "BATCH_SIZE = 64\n",
    "LR = 0.001           # learning rate for generator\n",
    "devided_number = 1\n",
    "\n",
    "uniformlow = 0\n",
    "uniformhigh = 1.0\n",
    "\n",
    "normalloc = 0.5\n",
    "normalscale = 0.1\n",
    "\n",
    "doublePeakHighMean = 0.9\n",
    "doublePeakLowMean = 0.1\n",
    "doublePeakStd = 0.04\n",
    "\n",
    "beta_a = 0.3\n",
    "beta_b = 0.2\n",
    "\n",
    "def Generate_distribution(Agent_number_n):\n",
    "    #return sorted(np.random.rand(Agent_number_n), reverse=True)\n",
    "    return sorted(np.random.normal(normalloc,normalscale,Agent_number_n), reverse=True)\n",
    "Prior_Distribution = \"normal\""
   ]
  },
  {
   "cell_type": "code",
   "execution_count": null,
   "metadata": {},
   "outputs": [],
   "source": []
  },
  {
   "cell_type": "code",
   "execution_count": 3,
   "metadata": {
    "ExecuteTime": {
     "end_time": "2021-06-15T07:05:03.188774Z",
     "start_time": "2021-06-15T07:05:03.159849Z"
    },
    "run_control": {
     "marked": true
    }
   },
   "outputs": [],
   "source": [
    "d_1 = D.uniform.Uniform(uniformlow, uniformhigh)\n",
    "distributionRatio_1 = d_1.cdf(1) - d_1.cdf(0)\n",
    "distributionBase_1 = d_1.cdf(0)\n",
    "\n",
    "d_2 = D.normal.Normal(normalloc, normalscale)\n",
    "distributionRatio_2 = d_2.cdf(1) - d_2.cdf(0)\n",
    "distributionBase_2 = d_2.cdf(0)\n",
    "\n",
    "d_3 = D.normal.Normal(doublePeakLowMean, doublePeakStd)\n",
    "d_4 = D.normal.Normal(doublePeakHighMean, doublePeakStd)\n",
    "distributionRatio_3 = (d_3.cdf(1) + d_4.cdf(1) - d_3.cdf(0) - d_4.cdf(0)) / 2\n",
    "distributionBase_3 = d_3.cdf(0) + d_4.cdf(0)\n",
    "\n",
    "# d_5 = D.beta.Beta(beta_a,beta_b)\n",
    "\n",
    "# d10 = D.beta.Beta(0.5,0.5)\n",
    "\n",
    "\n",
    "def cdf(x, y, i=None):\n",
    "    if (y == \"uniform\"):\n",
    "        return (d_1.cdf(x) - distributionBase_1) / distributionRatio_1\n",
    "    elif (y == \"normal\"):\n",
    "        return (d_2.cdf(x) - distributionBase_2) / distributionRatio_2\n",
    "    elif (y == \"twopeak\"):\n",
    "        return (d_3.cdf(x) + d_4.cdf(x) -\n",
    "                distributionBase_3) / 2 / distributionRatio_3\n",
    "\n",
    "\n",
    "def pdf(x, y, i=None):\n",
    "    x= x.cpu().type(torch.float32)\n",
    "    if (y == \"uniform\"):\n",
    "        return torch.pow(torch.tensor(10.0), d_1.log_prob(x)).to(dev)\n",
    "    elif (y == \"normal\"):\n",
    "        return torch.pow(torch.tensor(10.0), d_2.log_prob(x)).to(dev)\n",
    "    elif (y == \"twopeak\"):\n",
    "        return (torch.pow(torch.tensor(10.0), d_3.log_prob(x)) +\n",
    "                torch.pow(torch.tensor(10.0), d_4.log_prob(x))).to(dev) / 2 \n",
    "    \n",
    "def Generate_distribution(Agent_number_n):\n",
    "    return np.random.rand(Agent_number_n)\n",
    "    #return np.random.normal(normalloc,normalscale,Agent_number_n)\n"
   ]
  },
  {
   "cell_type": "code",
   "execution_count": 4,
   "metadata": {
    "ExecuteTime": {
     "end_time": "2021-06-15T07:05:04.671876Z",
     "start_time": "2021-06-15T07:05:03.190770Z"
    },
    "run_control": {
     "marked": false
    }
   },
   "outputs": [
    {
     "name": "stdout",
     "output_type": "stream",
     "text": [
      "tensor(10., device='cuda:0')\n",
      "tensor([1.], device='cuda:0')\n",
      "tensor([0.0008], device='cuda:0')\n"
     ]
    }
   ],
   "source": [
    "print(torch.tensor(10.0).to(dev))\n",
    "print(pdf(torch.ones(1)*0.2,\"uniform\"))\n",
    "print(pdf(torch.ones(1)*0.2,\"normal\"))\n"
   ]
  },
  {
   "cell_type": "code",
   "execution_count": 5,
   "metadata": {
    "ExecuteTime": {
     "end_time": "2021-06-15T07:05:05.142142Z",
     "start_time": "2021-06-15T07:05:04.673868Z"
    }
   },
   "outputs": [
    {
     "name": "stdout",
     "output_type": "stream",
     "text": [
      "[[[0.00730117 0.8910843  0.61140805 0.8318523 ]\n",
      "  [0.93302099 0.8910843  0.61140805 0.8318523 ]\n",
      "  [0.93302099 0.00730117 0.61140805 0.8318523 ]\n",
      "  [0.93302099 0.00730117 0.8910843  0.8318523 ]\n",
      "  [0.93302099 0.00730117 0.8910843  0.61140805]]\n",
      "\n",
      " [[0.09108415 0.36648165 0.37552877 0.09047587]\n",
      "  [0.8080531  0.36648165 0.37552877 0.09047587]\n",
      "  [0.8080531  0.09108415 0.37552877 0.09047587]\n",
      "  [0.8080531  0.09108415 0.36648165 0.09047587]\n",
      "  [0.8080531  0.09108415 0.36648165 0.37552877]]\n",
      "\n",
      " [[0.34786721 0.91046004 0.84077773 0.32781383]\n",
      "  [0.44920866 0.91046004 0.84077773 0.32781383]\n",
      "  [0.44920866 0.34786721 0.84077773 0.32781383]\n",
      "  [0.44920866 0.34786721 0.91046004 0.32781383]\n",
      "  [0.44920866 0.34786721 0.91046004 0.84077773]]\n",
      "\n",
      " ...\n",
      "\n",
      " [[0.18569073 0.32737493 0.53169775 0.71737421]\n",
      "  [0.14305519 0.32737493 0.53169775 0.71737421]\n",
      "  [0.14305519 0.18569073 0.53169775 0.71737421]\n",
      "  [0.14305519 0.18569073 0.32737493 0.71737421]\n",
      "  [0.14305519 0.18569073 0.32737493 0.53169775]]\n",
      "\n",
      " [[0.54057181 0.39727438 0.27880173 0.78171938]\n",
      "  [0.76533749 0.39727438 0.27880173 0.78171938]\n",
      "  [0.76533749 0.54057181 0.27880173 0.78171938]\n",
      "  [0.76533749 0.54057181 0.39727438 0.78171938]\n",
      "  [0.76533749 0.54057181 0.39727438 0.27880173]]\n",
      "\n",
      " [[0.81404598 0.70390876 0.10778491 0.80742711]\n",
      "  [0.87059501 0.70390876 0.10778491 0.80742711]\n",
      "  [0.87059501 0.81404598 0.10778491 0.80742711]\n",
      "  [0.87059501 0.81404598 0.70390876 0.80742711]\n",
      "  [0.87059501 0.81404598 0.70390876 0.10778491]]]\n",
      "[3.27466682 1.73162354 2.87612746 ... 1.90519281 2.7637048  3.30376176]\n"
     ]
    }
   ],
   "source": [
    "def h_3_star(a, b, t):\n",
    "    return a - min(a, t) + b - min(b, t) + max(min(a, t)+min(b, t), 2*t/3) + 1/2 * max(min(a, t)+min(b, t), t) - 1/2 * max(max(min(a, t), min(b, t)), 2*t/3) - t/6\n",
    "\n",
    "\n",
    "def f_function(a, b, z):\n",
    "    if(z >= 1):\n",
    "        return (a+b)/2 + z/3\n",
    "    else:\n",
    "        return z/3 + h_3_star(a, b, 1-z)/2\n",
    "\n",
    "def h_function_label(input_list):\n",
    "    #input_list = sorted(input_list)\n",
    "    g_list = []\n",
    "    for j1 in range(len(input_list) ):\n",
    "        for j2 in range(len(input_list)):\n",
    "            if(j1 != j2):\n",
    "                a = input_list[j1]\n",
    "                b = input_list[j2]\n",
    "                z = sum(input_list)- a-b\n",
    "\n",
    "                g_list.append( f_function(a, b, z) * (Agent_number_n-1))\n",
    "    h = sum(g_list) * 3 /  (Agent_number_n) /  (Agent_number_n-1) /  (Agent_number_n - 2)\n",
    "    return h\n",
    "\n",
    "def appen(_x_list,y):\n",
    "    global temp_list\n",
    "    temp_list.append(_x_list)\n",
    "    \n",
    "def appen_train(x_list):\n",
    "    global temp_list\n",
    "                \n",
    "    S= max(sum(x_list),1.0);\n",
    "    temp_list = []\n",
    "    h_list = []\n",
    "    for i in range(Agent_number_n):\n",
    "        temp = []\n",
    "        for j in range(Agent_number_n):\n",
    "            if(i!=j):\n",
    "                temp.append(x_list[j])\n",
    "        appen(temp,S)\n",
    "        \n",
    "        h = h_function_label(temp)\n",
    "        h_list.append(float(h))\n",
    "    temp_list = np.array(temp_list)\n",
    "    x_list = np.array(x_list)\n",
    "    return temp_list,S,x_list,h_list\n",
    "    \n",
    "\n",
    "def appen_test(x_list):\n",
    "    global temp_list\n",
    "                \n",
    "    S= max(sum(x_list),1.0);\n",
    "    temp_list = []\n",
    "    \n",
    "    for i in range(Agent_number_n):\n",
    "        temp = []\n",
    "        for j in range(Agent_number_n):\n",
    "            if(i!=j):\n",
    "                temp.append(x_list[j])\n",
    "        appen(temp,S)\n",
    "    testing_data.append(temp_list)\n",
    "    testing_label.append(S)\n",
    "    temp_list = np.array(temp_list)\n",
    "    return temp_list,S\n",
    "    \n",
    "\n",
    "def read_testing_data():\n",
    "    for i in range(10000):\n",
    "        appen_test(Generate_distribution(Agent_number_n));\n",
    "                            \n",
    "\n",
    "testing_data=[]\n",
    "testing_label=[]\n",
    "S=1.0\n",
    "read_testing_data();\n",
    "\n",
    "testing_data=np.array(testing_data)\n",
    "testing_label=np.array(testing_label)\n",
    "print(testing_data)\n",
    "print(testing_label)"
   ]
  },
  {
   "cell_type": "code",
   "execution_count": 6,
   "metadata": {
    "ExecuteTime": {
     "end_time": "2021-06-15T07:05:10.676042Z",
     "start_time": "2021-06-15T07:05:05.144137Z"
    }
   },
   "outputs": [
    {
     "name": "stdout",
     "output_type": "stream",
     "text": [
      "4.380666092329834 3.9999999999999982 0.38066609232983595 4.069227209225673\n"
     ]
    }
   ],
   "source": [
    "def h_3_star(a, b, t):\n",
    "    return a - min(a, t) + b - min(b, t) + max(min(a, t)+min(b, t), 2*t/3) + 1/2 * max(min(a, t)+min(b, t), t) - 1/2 * max(max(min(a, t), min(b, t)), 2*t/3) - t/6\n",
    "\n",
    "\n",
    "def f_function(a, b, z):\n",
    "    if(z >= 1):\n",
    "        return (a+b)/2 + z/3\n",
    "    else:\n",
    "        return z/3 + h_3_star(a, b, 1-z)/2\n",
    "\n",
    "def h_function(input_list):\n",
    "    #input_list = sorted(input_list)\n",
    "    g_list = []\n",
    "    for j1 in range(len(input_list) ):\n",
    "        for j2 in range(len(input_list)):\n",
    "            if(j1 != j2):\n",
    "                a = input_list[j1]\n",
    "                b = input_list[j2]\n",
    "                z = sum(input_list)- a-b\n",
    "\n",
    "                g_list.append( f_function(a, b, z) * (Agent_number_n-1))\n",
    "    h = sum(g_list) * 3 /  (Agent_number_n) /  (Agent_number_n-1) /  (Agent_number_n - 2)\n",
    "    return h\n",
    "                \n",
    "                \n",
    "x_list = []\n",
    "y_list = []\n",
    "z_list = []\n",
    "result_list = []\n",
    "for index in range(len(testing_data)):\n",
    "    h_list = []\n",
    "    for i in range(Agent_number_n):\n",
    "        x_list.append(testing_data[index][i][0])\n",
    "        y_list.append(testing_data[index][i][1])\n",
    "        h = h_function(testing_data[index][i])\n",
    "        z_list.append(float(h))\n",
    "        h_list.append(float(h))\n",
    "    result_list.append(sum(h_list)/testing_label[index]) \n",
    "    \n",
    "    \n",
    "print(max(result_list), min(result_list), max(result_list)-min(result_list),sum(result_list)/len(result_list))"
   ]
  },
  {
   "cell_type": "code",
   "execution_count": 7,
   "metadata": {
    "ExecuteTime": {
     "end_time": "2021-06-15T07:05:11.824002Z",
     "start_time": "2021-06-15T07:05:10.679035Z"
    }
   },
   "outputs": [
    {
     "data": {
      "image/png": "[encoded data removed]",
      "text/plain": [
       "<Figure size 432x288 with 1 Axes>"
      ]
     },
     "metadata": {
      "needs_background": "light"
     },
     "output_type": "display_data"
    }
   ],
   "source": [
    "plt.hist(result_list,bins=500)\n",
    "\n",
    "plt.title(\"Means\", y=1.015, fontsize=20)\n",
    "plt.axvline(x=sum(result_list)/len(result_list), linestyle='--', linewidth=2.5, label=\"sample mean\", c='orange')\n",
    "plt.xlabel(\"samples\", labelpad=14)\n",
    "plt.ylabel(\"frequency of occurence\", labelpad=14)\n",
    "plt.legend();\n",
    "\n",
    "result_list.sort()\n",
    "\n",
    "plt.axvline(x=result_list[int(len(result_list)*0.01)], linestyle='--', linewidth=0.5, label=\"1%\", c='b')\n",
    "plt.axvline(x=result_list[int(len(result_list)*0.99)], linestyle='--', linewidth=0.5, label=\"99%\", c='r')\n",
    "\n",
    "\n",
    "plt.show()"
   ]
  },
  {
   "cell_type": "code",
   "execution_count": 8,
   "metadata": {
    "ExecuteTime": {
     "end_time": "2021-06-15T07:05:11.839977Z",
     "start_time": "2021-06-15T07:05:11.826995Z"
    }
   },
   "outputs": [
    {
     "name": "stdout",
     "output_type": "stream",
     "text": [
      "tensor([0.2675], device='cuda:0', grad_fn=<SortBackward>)\n"
     ]
    }
   ],
   "source": [
    "tensor_sample_list,indices = torch.sort(torch.rand(devided_number,requires_grad=True).to(dev))  # random ideas\\n\n",
    "print(tensor_sample_list)"
   ]
  },
  {
   "cell_type": "code",
   "execution_count": 9,
   "metadata": {
    "ExecuteTime": {
     "end_time": "2021-06-15T07:05:11.855443Z",
     "start_time": "2021-06-15T07:05:11.841481Z"
    },
    "run_control": {
     "marked": true
    }
   },
   "outputs": [
    {
     "name": "stdout",
     "output_type": "stream",
     "text": [
      "tensor([0.0100], device='cuda:0', grad_fn=<DivBackward0>)\n",
      "tensor([0.0100], device='cuda:0', grad_fn=<DivBackward0>)\n"
     ]
    }
   ],
   "source": [
    "print(cdf(tensor_sample_list,Prior_Distribution))\n",
    "print(cdf(tensor_sample_list,\"normal\"))"
   ]
  },
  {
   "cell_type": "code",
   "execution_count": 10,
   "metadata": {
    "ExecuteTime": {
     "end_time": "2021-06-15T07:05:11.887358Z",
     "start_time": "2021-06-15T07:05:11.857439Z"
    },
    "run_control": {
     "marked": true
    }
   },
   "outputs": [],
   "source": [
    "def weight_init(m):\n",
    "    if isinstance(m, torch.nn.Conv2d):\n",
    "        torch.nn.init.xavier_normal_(m.weight)\n",
    "        torch.nn.init.zeros_(m.bias)\n",
    "    elif isinstance(m, torch.nn.Linear):\n",
    "        torch.nn.init.xavier_normal_(m.weight)\n",
    "        torch.nn.init.normal_(m.bias, mean=0.0, std=0.01)\n",
    "\n",
    "\n",
    "\n",
    "def redistribution_value_function(input_tensor):\n",
    "    S = torch.max(torch.sum(input_tensor), torch.ones(1).to(dev))\n",
    "    temp_list = []\n",
    "\n",
    "    for i in range(Agent_number_n):\n",
    "        temp = []\n",
    "\n",
    "        for j in range(Agent_number_n):\n",
    "            if(i != j):\n",
    "                temp .append(input_tensor[j])\n",
    "\n",
    "        temp = torch.stack(temp)\n",
    "        temp_list.append(temp)\n",
    "    return torch.stack(temp_list), S\n",
    "\n",
    "\n",
    "class Net(torch.nn.Module):\n",
    "    def __init__(self):\n",
    "\n",
    "        super(Net, self).__init__()\n",
    "\n",
    "        self.input_dim = (Agent_number_n-1)\n",
    "        self.hidden_dim = 100\n",
    "        self.output_dim = 1\n",
    "        self.hidden_layer_count = 6\n",
    "\n",
    "        current_dim = self.input_dim\n",
    "        self.layers = torch.nn.ModuleList()\n",
    "        for i in range(self.hidden_layer_count):\n",
    "            self.layers.append(torch.nn.Linear(current_dim, self.hidden_dim))\n",
    "            current_dim = self.hidden_dim\n",
    "        self.layers.append(torch.nn.Linear(current_dim, self.output_dim))\n",
    "\n",
    "    def calculate(self, value_list):\n",
    "        h = value_list\n",
    "        for layer in self.layers:\n",
    "            h = torch.relu(layer(h))\n",
    "        return h\n",
    "\n",
    "    def forward(self, input_list, input_label, input_data):\n",
    "        global iteration, echo, target_order\n",
    "        loss1 = 0\n",
    "        loss2 = 0\n",
    "        input_list = torch.from_numpy(\n",
    "            np.array(input_list)).to(dev).type(torch.float32)\n",
    "\n",
    "        input_data = torch.from_numpy(\n",
    "            np.array(input_data)).to(dev).type(torch.float32)\n",
    "        \n",
    "        input_label = torch.from_numpy(\n",
    "            np.array(input_label)).to(dev).type(torch.float32)\n",
    "        \n",
    "        \n",
    "        random_index = random.randint(0, Agent_number_n-1)\n",
    "        tensor_sample_list,indices = torch.sort(torch.rand(devided_number,requires_grad=True).to(dev))\n",
    "     \n",
    "        tensor_sample = torch.rand(devided_number,requires_grad=True)[0].to(dev)\n",
    "    \n",
    "        input_data_temp = input_data.detach().clone()\n",
    "        \n",
    "        input_data_temp[random_index] = tensor_sample\n",
    "\n",
    "        value_list_tensor, S_tensor = redistribution_value_function(\n",
    "            input_data_temp)\n",
    "       \n",
    "        h_list = []\n",
    "        for i in range(Agent_number_n):\n",
    "            h = self.calculate(\n",
    "                value_list_tensor[i].to(dev).type(torch.float32))\n",
    "            h_list.append(h)\n",
    "            \n",
    "        S_tensor = S_tensor.detach().to(dev).type(torch.float32)\n",
    "        \n",
    "        sum_h = torch.sum(torch.cat(h_list)).to(dev)\n",
    "        \n",
    "        temp_loss1 = torch.where((Agent_number_n-1)*S_tensor > sum_h,\n",
    "                 torch.square(((Agent_number_n-1)*S_tensor - sum_h)),\n",
    "                 torch.zeros(1).to(dev)\n",
    "              )\n",
    "\n",
    "        temp_loss2 = torch.where((Agent_number_n-Alpha)*S_tensor < sum_h,\n",
    "                    torch.square((sum_h-(Agent_number_n-Alpha)*S_tensor))/10000,\n",
    "                    torch.zeros(1).to(dev)\n",
    "                  )\n",
    "\n",
    "\n",
    "        loss1 = temp_loss1 * pdf(tensor_sample, Prior_Distribution)\n",
    "        loss2 = temp_loss2 * pdf(tensor_sample, Prior_Distribution)\n",
    "                \n",
    "        return loss1, loss2\n",
    "    \n",
    "    def supervised_loss(self, input_list,label):\n",
    "        global iteration,echo,target_order\n",
    "        input_list = torch.from_numpy(\n",
    "            np.array(input_list)).to(dev).type(torch.float32)\n",
    "        loss = 0 \n",
    "        for i in range(Agent_number_n):\n",
    "            h = self.calculate(input_list[i])\n",
    "            loss += torch.square(h - label[i])\n",
    "        return loss"
   ]
  },
  {
   "cell_type": "code",
   "execution_count": 11,
   "metadata": {
    "ExecuteTime": {
     "end_time": "2021-06-15T07:05:11.903314Z",
     "start_time": "2021-06-15T07:05:11.889353Z"
    }
   },
   "outputs": [],
   "source": [
    "random.seed(200)\n",
    "torch.manual_seed(256)\n",
    "net  = Net()\n",
    "net.apply(weight_init)\n",
    "#net = torch.load(\"save/Deep_learning_F_normal_5_1\")\n",
    "net.to(dev)\n",
    "\n",
    "#optimizer = opt.RMSprop(net.parameters(), lr=0.00001)\n",
    "#optimizer = opt.SGD(net.parameters(), lr=0.00005)\n",
    "optimizer = opt.Adam(net.parameters(), lr=LR)\n",
    "#optimizer = opt.Adadelta(net.parameters(), lr=1.0)\n",
    "\n",
    "scheduler = torch.optim.lr_scheduler.StepLR(optimizer, step_size=100, gamma=0.95)\n",
    "index_train_list = []\n",
    "index_test_list = []\n",
    "train_losses = []\n",
    "test_losses = []"
   ]
  },
  {
   "cell_type": "code",
   "execution_count": 12,
   "metadata": {
    "ExecuteTime": {
     "end_time": "2021-06-15T07:16:51.968579Z",
     "start_time": "2021-06-15T07:05:11.904312Z"
    }
   },
   "outputs": [
    {
     "name": "stdout",
     "output_type": "stream",
     "text": [
      "0 tensor(21.8539, device='cuda:0', grad_fn=<DivBackward0>) 1398.649169921875\n",
      "50 tensor(0.2456, device='cuda:0', grad_fn=<DivBackward0>) 15.718650817871094\n",
      "100 tensor(0.0212, device='cuda:0', grad_fn=<DivBackward0>) 1.3542102575302124\n",
      "150 tensor(0.0106, device='cuda:0', grad_fn=<DivBackward0>) 0.6754515171051025\n",
      "200 tensor(0.0032, device='cuda:0', grad_fn=<DivBackward0>) 0.20233580470085144\n",
      "250 tensor(0.0016, device='cuda:0', grad_fn=<DivBackward0>) 0.10167992860078812\n",
      "300 tensor(0.0014, device='cuda:0', grad_fn=<DivBackward0>) 0.08943715691566467\n",
      "350 tensor(0.0010, device='cuda:0', grad_fn=<DivBackward0>) 0.06193458288908005\n",
      "400 tensor(0.0009, device='cuda:0', grad_fn=<DivBackward0>) 0.057541001588106155\n",
      "450 tensor(0.0009, device='cuda:0', grad_fn=<DivBackward0>) 0.05642427131533623\n",
      "500 tensor(0.0010, device='cuda:0', grad_fn=<DivBackward0>) 0.06174053996801376\n",
      "550 tensor(0.0009, device='cuda:0', grad_fn=<DivBackward0>) 0.056427039206027985\n",
      "600 tensor(0.0006, device='cuda:0', grad_fn=<DivBackward0>) 0.03968103602528572\n",
      "650 tensor(0.0009, device='cuda:0', grad_fn=<DivBackward0>) 0.057596154510974884\n",
      "700 tensor(0.0006, device='cuda:0', grad_fn=<DivBackward0>) 0.039334964007139206\n",
      "750 tensor(0.0006, device='cuda:0', grad_fn=<DivBackward0>) 0.03948724642395973\n",
      "800 tensor(0.0005, device='cuda:0', grad_fn=<DivBackward0>) 0.03493749350309372\n",
      "850 tensor(0.0004, device='cuda:0', grad_fn=<DivBackward0>) 0.024866238236427307\n",
      "900 tensor(0.0004, device='cuda:0', grad_fn=<DivBackward0>) 0.02829750068485737\n",
      "950 tensor(0.0005, device='cuda:0', grad_fn=<DivBackward0>) 0.028811635449528694\n"
     ]
    }
   ],
   "source": [
    "#supervised\n",
    "index_supervisedtrain_list = []\n",
    "supervisedtrain_losses = []\n",
    "for iteration in range(1000):\n",
    "\n",
    "    temp_number = 0\n",
    "    total_batch_loss = 0 \n",
    "    \n",
    "    loss_sum = 0\n",
    "    denominator = 0\n",
    "    for index in range(0, BATCH_SIZE):\n",
    "        training_data_i, training_S, training_data,label = appen_train(\n",
    "            Generate_distribution(Agent_number_n))\n",
    "        h_loss = net.supervised_loss(training_data_i, label)\n",
    "        denominator += 1\n",
    "        loss_sum += h_loss\n",
    "\n",
    "    loss_sum = torch.sum(loss_sum)\n",
    "    loss = (loss_sum) / denominator \n",
    "    total_batch_loss += float(loss_sum)\n",
    "\n",
    "    optimizer.zero_grad()\n",
    "    loss.backward()\n",
    "    optimizer.step()\n",
    "\n",
    "    if (iteration%50 == 0):\n",
    "        print(iteration,loss,total_batch_loss)\n",
    "        index_supervisedtrain_list.append(iteration)\n",
    "        supervisedtrain_losses.append(total_batch_loss)\n",
    "    scheduler.step()"
   ]
  },
  {
   "cell_type": "code",
   "execution_count": null,
   "metadata": {},
   "outputs": [],
   "source": []
  },
  {
   "cell_type": "code",
   "execution_count": 14,
   "metadata": {
    "ExecuteTime": {
     "end_time": "2021-06-15T08:44:20.316013Z",
     "start_time": "2021-06-15T07:50:01.133708Z"
    }
   },
   "outputs": [
    {
     "name": "stdout",
     "output_type": "stream",
     "text": [
      "0 tensor(2.0249e-05, device='cuda:0', grad_fn=<DivBackward0>) 0.0 0.0012959298910573125\n",
      "batch iteration 0\n",
      "batch_loss: 0.0013 \n",
      "4.447782503746114 3.9620590209960938 0.48572348275002053 0.14420862408174706\n",
      "\n",
      "50 tensor(3.3044e-05, device='cuda:0', grad_fn=<DivBackward0>) 0.0 0.002114818198606372\n",
      "batch iteration 50\n",
      "batch_loss: 0.0021 \n",
      "4.445465123165007 3.9841036200523376 0.461361503112669 0.12355508754952282\n",
      "\n",
      "100 tensor(1.4501e-05, device='cuda:0', grad_fn=<DivBackward0>) 0.0 0.0009280584054067731\n",
      "batch iteration 100\n",
      "batch_loss: 0.0009 \n",
      "4.790216275171667 3.9929050889446263 0.7973111862270406 0.10697234358733443\n",
      "\n",
      "150 tensor(1.2590e-05, device='cuda:0', grad_fn=<DivBackward0>) 0.0 0.0008057423983700573\n",
      "batch iteration 150\n",
      "batch_loss: 0.0008 \n",
      "4.681353338594663 3.9867637393258746 0.6945895992687885 0.09752985382221135\n",
      "\n",
      "200 tensor(1.2763e-05, device='cuda:0', grad_fn=<DivBackward0>) 8.818637486918135e-11 0.0008168178028427064\n",
      "batch iteration 200\n",
      "batch_loss: 0.0008 \n",
      "4.613290139263744 3.966931562602261 0.6463585766614828 0.13325109567588944\n",
      "\n",
      "250 tensor(1.9286e-05, device='cuda:0', grad_fn=<DivBackward0>) 0.0 0.0012343029957264662\n",
      "batch iteration 250\n",
      "batch_loss: 0.0012 \n",
      "4.9633957528566945 3.997613529010723 0.9657822238459715 0.11135512244322099\n",
      "\n",
      "300 tensor(3.2384e-05, device='cuda:0', grad_fn=<DivBackward0>) 0.0 0.0020725480280816555\n",
      "batch iteration 300\n",
      "batch_loss: 0.0021 \n",
      "4.852316548665659 3.9968892762969896 0.8554272723686691 0.09523621282031636\n",
      "\n",
      "350 tensor(1.5062e-05, device='cuda:0', grad_fn=<DivBackward0>) 0.0 0.0009639377822168171\n",
      "batch iteration 350\n",
      "batch_loss: 0.0010 \n",
      "4.772435756420688 4.0090395127146605 0.7633962437060271 0.0791891775482938\n",
      "\n",
      "400 tensor(2.7052e-05, device='cuda:0', grad_fn=<DivBackward0>) 0.0 0.001731343800202012\n",
      "batch iteration 400\n",
      "batch_loss: 0.0017 \n",
      "4.734733779869686 4.005130442681837 0.7296033371878483 0.10783304864036225\n",
      "\n",
      "450 tensor(1.4657e-05, device='cuda:0', grad_fn=<DivBackward0>) 0.0 0.0009380183764733374\n",
      "batch iteration 450\n",
      "batch_loss: 0.0009 \n",
      "4.7085747000506855 3.9732168689713565 0.735357831079329 0.11992282596507442\n",
      "\n",
      "500 tensor(1.4123e-05, device='cuda:0', grad_fn=<DivBackward0>) 0.0 0.0009038783027790487\n",
      "batch iteration 500\n",
      "batch_loss: 0.0009 \n",
      "4.834502504237139 3.994401697917494 0.8401008063196449 0.09346490311235955\n",
      "\n",
      "550 tensor(7.6944e-06, device='cuda:0', grad_fn=<DivBackward0>) 0.0 0.0004924389650113881\n",
      "batch iteration 550\n",
      "batch_loss: 0.0005 \n",
      "4.7334951162488705 3.9870804154938924 0.7464147007549782 0.0826613736759656\n",
      "\n",
      "600 tensor(8.1324e-06, device='cuda:0', grad_fn=<DivBackward0>) 0.0 0.0005204724729992449\n",
      "batch iteration 600\n",
      "batch_loss: 0.0005 \n",
      "4.685930218835797 3.9947937812650753 0.6911364375707221 0.08061368099615862\n",
      "\n",
      "650 tensor(3.7152e-06, device='cuda:0', grad_fn=<DivBackward0>) 0.0 0.00023777422029525042\n",
      "batch iteration 650\n",
      "batch_loss: 0.0002 \n",
      "4.67214449596013 3.983519989754343 0.688624506205787 0.09111310315129062\n",
      "\n",
      "700 tensor(1.0763e-05, device='cuda:0', grad_fn=<DivBackward0>) 0.0 0.0006888048956170678\n",
      "batch iteration 700\n",
      "batch_loss: 0.0007 \n",
      "4.7260057299890805 3.995901055890584 0.7301046740984964 0.07036975379810295\n",
      "\n",
      "750 tensor(7.8170e-06, device='cuda:0', grad_fn=<DivBackward0>) 0.0 0.000500289024785161\n",
      "batch iteration 750\n",
      "batch_loss: 0.0005 \n",
      "4.681456059365102 3.9891582774900938 0.6922977818750082 0.07923636120351318\n",
      "\n",
      "800 tensor(1.6073e-05, device='cuda:0', grad_fn=<DivBackward0>) 0.0 0.001028659869916737\n",
      "batch iteration 800\n",
      "batch_loss: 0.0010 \n",
      "4.889826660681962 4.032694539894282 0.8571321207876794 0.0761959685871112\n",
      "\n",
      "850 tensor(4.1938e-06, device='cuda:0', grad_fn=<DivBackward0>) 2.0172756194369867e-06 0.0002663872146513313\n",
      "batch iteration 850\n",
      "batch_loss: 0.0003 \n",
      "4.779258499767395 3.9868252556260035 0.7924332441413915 0.07505693638376787\n",
      "\n",
      "900 tensor(8.6809e-06, device='cuda:0', grad_fn=<DivBackward0>) 0.0 0.0005555798416025937\n",
      "batch iteration 900\n",
      "batch_loss: 0.0006 \n",
      "4.783661141762555 4.008475378706356 0.7751857630561991 0.06020118195320201\n",
      "\n",
      "950 tensor(8.1267e-05, device='cuda:0', grad_fn=<DivBackward0>) 0.0 0.005201105959713459\n",
      "batch iteration 950\n",
      "batch_loss: 0.0052 \n",
      "4.832450113469627 4.13425463018155 0.6981954832880772 0.08279674694694972\n",
      "\n",
      "1000 tensor(9.3760e-05, device='cuda:0', grad_fn=<DivBackward0>) 0.0 0.006000627297908068\n",
      "batch iteration 1000\n",
      "batch_loss: 0.0060 \n",
      "4.707877568421972 4.030720737953807 0.6771568304681646 0.1362341093427899\n",
      "\n",
      "1050 tensor(2.3441e-05, device='cuda:0', grad_fn=<DivBackward0>) 0.0 0.001500221318565309\n",
      "batch iteration 1050\n",
      "batch_loss: 0.0015 \n",
      "5.01387220621109 4.046369213117724 0.9675029930933663 0.0980111623538189\n",
      "\n",
      "1100 tensor(1.6761e-05, device='cuda:0', grad_fn=<DivBackward0>) 0.0 0.0010727359913289547\n",
      "batch iteration 1100\n",
      "batch_loss: 0.0011 \n",
      "4.884281039237976 4.003408981967437 0.8808720572705386 0.08734481912618453\n",
      "\n",
      "1150 tensor(1.2095e-05, device='cuda:0', grad_fn=<DivBackward0>) 0.0 0.0007740893634036183\n",
      "batch iteration 1150\n",
      "batch_loss: 0.0008 \n",
      "5.003472983837128 4.023833159421661 0.9796398244154663 0.0937884471316961\n",
      "\n",
      "1200 tensor(2.5310e-05, device='cuda:0', grad_fn=<DivBackward0>) 0.0 0.0016198082594200969\n",
      "batch iteration 1200\n",
      "batch_loss: 0.0016 \n",
      "4.9536250829696655 4.055410954871873 0.8982141280977922 0.07281144481245594\n",
      "\n",
      "1250 tensor(4.6956e-06, device='cuda:0', grad_fn=<DivBackward0>) 0.0 0.00030052076908759773\n",
      "batch iteration 1250\n",
      "batch_loss: 0.0003 \n",
      "4.820619761943817 3.997533438291579 0.8230863236522383 0.06792574666935103\n",
      "\n",
      "1300 tensor(3.6197e-06, device='cuda:0', grad_fn=<DivBackward0>) 0.0 0.00023165818129200488\n",
      "batch iteration 1300\n",
      "batch_loss: 0.0002 \n",
      "4.769539415836334 3.98550791578488 0.7840315000514542 0.08692015718256663\n",
      "\n",
      "1350 tensor(1.3722e-05, device='cuda:0', grad_fn=<DivBackward0>) 0.0 0.0008782022632658482\n",
      "batch iteration 1350\n",
      "batch_loss: 0.0009 \n",
      "4.770951986312866 4.008562240755886 0.7623897455569804 0.07083900773560003\n",
      "\n",
      "1400 tensor(1.1946e-05, device='cuda:0', grad_fn=<DivBackward0>) 0.0 0.0007645717705599964\n",
      "batch iteration 1400\n",
      "batch_loss: 0.0008 \n",
      "4.7199547290802 4.003514211827216 0.716440517252984 0.06170653800128445\n",
      "\n",
      "1450 tensor(1.8286e-05, device='cuda:0', grad_fn=<DivBackward0>) 0.0 0.0011703051859512925\n",
      "batch iteration 1450\n",
      "batch_loss: 0.0012 \n",
      "4.905722558498383 4.021934363864432 0.8837881946339508 0.07446621516022489\n",
      "\n",
      "1500 tensor(4.5647e-06, device='cuda:0', grad_fn=<DivBackward0>) 0.0 0.0002921419218182564\n",
      "batch iteration 1500\n",
      "batch_loss: 0.0003 \n",
      "4.849042654037476 3.9902332381323964 0.8588094159050792 0.07809043121477544\n",
      "\n",
      "1550 tensor(1.3840e-05, device='cuda:0', grad_fn=<DivBackward0>) 2.0406253042892786e-07 0.0008855417254380882\n",
      "batch iteration 1550\n",
      "batch_loss: 0.0009 \n",
      "4.78835266828537 3.987132046233234 0.8012206220521358 0.07559625176235585\n",
      "\n",
      "1600 tensor(1.0405e-05, device='cuda:0', grad_fn=<DivBackward0>) 0.0 0.0006659046630375087\n",
      "batch iteration 1600\n",
      "batch_loss: 0.0007 \n",
      "4.759888470172882 3.9467430114746094 0.8131454586982727 0.18025133740361454\n",
      "\n",
      "1650 tensor(9.5022e-06, device='cuda:0', grad_fn=<DivBackward0>) 0.0 0.0006081392639316618\n",
      "batch iteration 1650\n",
      "batch_loss: 0.0006 \n",
      "4.732328176498413 3.922325015068054 0.8100031614303589 0.23021867875597923\n",
      "\n",
      "1700 tensor(3.7535e-06, device='cuda:0', grad_fn=<DivBackward0>) 2.3921277285399167e-12 0.00024022177967708558\n",
      "batch iteration 1700\n",
      "batch_loss: 0.0002 \n",
      "4.68615186214447 3.903449535369873 0.7827023267745972 0.23590536415639907\n",
      "\n",
      "1750 tensor(3.9255e-05, device='cuda:0', grad_fn=<DivBackward0>) 0.0023639872670173645 0.00014832097804173827\n",
      "batch iteration 1750\n",
      "batch_loss: 0.0025 \n",
      "4.686892926692963 3.9029476642608643 0.7839452624320984 0.23519616332487825\n",
      "\n",
      "1800 tensor(4.2305e-06, device='cuda:0', grad_fn=<DivBackward0>) 1.1369627372914692e-07 0.00027063849847763777\n",
      "batch iteration 1800\n",
      "batch_loss: 0.0003 \n",
      "4.67297750711441 3.890610933303833 0.7823665738105774 0.2673346080387473\n",
      "\n",
      "1850 tensor(1.7291e-05, device='cuda:0', grad_fn=<DivBackward0>) 0.0 0.0011066043516620994\n",
      "batch iteration 1850\n",
      "batch_loss: 0.0011 \n",
      "4.795673072338104 4.013602912425995 0.7820701599121094 0.07053234429022659\n",
      "\n",
      "1900 tensor(5.1243e-06, device='cuda:0', grad_fn=<DivBackward0>) 0.0 0.0003279577358625829\n",
      "batch iteration 1900\n",
      "batch_loss: 0.0003 \n",
      "4.741755425930023 3.986920177936554 0.7548352479934692 0.07870640156864628\n",
      "\n",
      "1950 tensor(1.2847e-06, device='cuda:0', grad_fn=<DivBackward0>) 5.169986820874328e-07 8.170195360435173e-05\n",
      "batch iteration 1950\n",
      "batch_loss: 0.0001 \n"
     ]
    },
    {
     "name": "stdout",
     "output_type": "stream",
     "text": [
      "4.698950469493866 3.9520627856254578 0.7468876838684082 0.13818141250656524\n",
      "\n",
      "2000 tensor(5.8270e-06, device='cuda:0', grad_fn=<DivBackward0>) 0.0 0.0003729250456672162\n",
      "batch iteration 2000\n",
      "batch_loss: 0.0004 \n",
      "4.682845771312714 3.9197933077812195 0.7630524635314941 0.2219234958922165\n",
      "\n"
     ]
    }
   ],
   "source": [
    "for iteration in range(int(echo)):\n",
    "    \n",
    "    temp_number = 0\n",
    "    total_batch_loss = 0 \n",
    "        \n",
    "    loss2_list = []\n",
    "    loss1_sum = 0\n",
    "    loss2_sum = 0\n",
    "    denominator = 0\n",
    "    for index in range(0, BATCH_SIZE):\n",
    "        training_data_i, training_label, training_data,label = appen_train(\n",
    "            Generate_distribution(Agent_number_n))\n",
    "        h_loss1, h_loss2 = net(training_data_i, training_label,\n",
    "                                       training_data)\n",
    "        denominator += 1\n",
    "        loss1_sum += h_loss1\n",
    "        loss2_sum += h_loss2\n",
    "\n",
    "    loss_sum = torch.sum(loss1_sum + loss2_sum)\n",
    "    loss = (loss_sum) / denominator \n",
    "    total_batch_loss +=float(loss_sum)\n",
    "    optimizer.zero_grad()\n",
    "\n",
    "    loss.backward()\n",
    "\n",
    "    optimizer.step()\n",
    "\n",
    "    temp_number = iteration\n",
    "    index_train_list.append(iteration)\n",
    "    train_losses.append(total_batch_loss)\n",
    "    if (iteration%50 == 0):\n",
    "        print(temp_number, loss, float(loss1_sum), float(loss2_sum))\n",
    "\n",
    "        print(\"batch iteration\", iteration)\n",
    "        print(\"batch_loss: %.4f \" % total_batch_loss)\n",
    "\n",
    "        result_list = []\n",
    "        for index in range(len(testing_data)):\n",
    "            h_list = []\n",
    "            for i in range(Agent_number_n):\n",
    "                h = net.calculate(\n",
    "                    torch.tensor(testing_data[index][i]).to(dev).type(\n",
    "                        torch.float32))\n",
    "                h_list.append(float(h))\n",
    "            result_list.append(sum(h_list) / testing_label[index])\n",
    "        print(max(result_list), min(result_list),\n",
    "              max(result_list) - min(result_list),\n",
    "              (sum(result_list) / len(result_list) - min(result_list))+ Agent_number_n-1 - min(min(result_list),Agent_number_n-1) )\n",
    "\n",
    "        index_test_list.append(iteration)\n",
    "        test_losses.append(\n",
    "            (sum(result_list) / len(result_list) - min(result_list))+ Agent_number_n-1 - min(min(result_list),Agent_number_n-1) )\n",
    "        print()\n",
    "        \n",
    "    scheduler.step()\n"
   ]
  },
  {
   "cell_type": "code",
   "execution_count": 15,
   "metadata": {
    "ExecuteTime": {
     "end_time": "2021-06-15T08:44:37.341287Z",
     "start_time": "2021-06-15T08:44:37.069047Z"
    }
   },
   "outputs": [
    {
     "data": {
      "image/png": "[encoded data removed]",
      "text/plain": [
       "<Figure size 432x288 with 1 Axes>"
      ]
     },
     "metadata": {
      "needs_background": "light"
     },
     "output_type": "display_data"
    },
    {
     "data": {
      "image/png": "[encoded data removed]",
      "text/plain": [
       "<Figure size 432x288 with 1 Axes>"
      ]
     },
     "metadata": {
      "needs_background": "light"
     },
     "output_type": "display_data"
    }
   ],
   "source": [
    "plt.ylim(0, 1.0)\n",
    "plt.plot(index_test_list,test_losses)\n",
    "plt.ylabel('Testing Loss')\n",
    "plt.xlabel('Batch Epoch')\n",
    "plt.show()\n",
    "\n",
    "import csv\n",
    "with open('save/test_loss_feed_normal_5.csv', 'w', newline='') as csvfile_feed:\n",
    "    spamwriter = csv.writer(csvfile_feed)\n",
    "    spamwriter.writerow(index_test_list)\n",
    "    spamwriter.writerow(test_losses)\n",
    "\n",
    "\n",
    "with open('save/test_loss_unfeed_normal_5.csv') as csvfile_unfeed:\n",
    "    reader = csv.reader(csvfile_unfeed)\n",
    "    list_feed = []\n",
    "    for row in reader:\n",
    "        row = np.array(row)\n",
    "        temp_list = []\n",
    "        for i in range(len(row)):\n",
    "            temp_list.append(float(row[i]))\n",
    "\n",
    "        list_feed.append(temp_list)\n",
    "    plt.ylim(0, 1.0)\n",
    "    plt.plot(list_feed[0],list_feed[1],label='neural network')\n",
    "    plt.plot(index_test_list,test_losses,label='feed distribution')\n",
    "    plt.ylabel('Testing Loss')\n",
    "    plt.xlabel('Batch Epoch')\n",
    "    #plt.title('Two or more lines on same plot with suitable legends ')\n",
    "    # show a legend on the plot\n",
    "    plt.legend()\n",
    "    plt.show()\n"
   ]
  },
  {
   "cell_type": "code",
   "execution_count": 16,
   "metadata": {
    "ExecuteTime": {
     "end_time": "2021-06-15T08:44:39.745033Z",
     "start_time": "2021-06-15T08:44:39.627814Z"
    }
   },
   "outputs": [
    {
     "data": {
      "image/png": "[encoded data removed]",
      "text/plain": [
       "<Figure size 432x288 with 1 Axes>"
      ]
     },
     "metadata": {
      "needs_background": "light"
     },
     "output_type": "display_data"
    }
   ],
   "source": [
    "plt.ylim(0, 1.0)\n",
    "\n",
    "plt.plot(index_train_list,train_losses)\n",
    "plt.ylabel('training loss')\n",
    "\n",
    "plt.plot(index_test_list,test_losses)\n",
    "plt.ylabel('training loss')\n",
    "\n",
    "plt.show()"
   ]
  },
  {
   "cell_type": "code",
   "execution_count": 17,
   "metadata": {
    "ExecuteTime": {
     "end_time": "2021-06-15T08:44:42.112700Z",
     "start_time": "2021-06-15T08:44:42.002995Z"
    }
   },
   "outputs": [],
   "source": [
    "torch.save(net, \"save/Deep_learning_F_normal_5_1\")"
   ]
  },
  {
   "cell_type": "code",
   "execution_count": 18,
   "metadata": {
    "ExecuteTime": {
     "end_time": "2021-06-15T08:45:16.612285Z",
     "start_time": "2021-06-15T08:44:44.477984Z"
    }
   },
   "outputs": [
    {
     "name": "stdout",
     "output_type": "stream",
     "text": [
      "4.682845771312714 3.9197933077812195 0.7630524635314941 0.14171680367343598\n"
     ]
    }
   ],
   "source": [
    "denominator = 0\n",
    "result_list = []\n",
    "for index in range(len(testing_data)):\n",
    "    h_list = []\n",
    "    for i in range(Agent_number_n):\n",
    "        h = net.calculate(torch.tensor(testing_data[index][i]).cuda().type(torch.float32))\n",
    "        h_list.append(float(h))\n",
    "    \n",
    "    #print(sum(h_list),h_list,sum(h_list)/testing_label[index])\n",
    "    result_list.append(sum(h_list)/testing_label[index])\n",
    "    \n",
    "\n",
    "print(max(result_list),min(result_list),max(result_list)-min(result_list),sum(result_list)/len(result_list)-min(result_list))"
   ]
  },
  {
   "cell_type": "code",
   "execution_count": 19,
   "metadata": {
    "ExecuteTime": {
     "end_time": "2021-06-15T08:45:19.810562Z",
     "start_time": "2021-06-15T08:45:18.859303Z"
    }
   },
   "outputs": [
    {
     "data": {
      "image/png": "[encoded data removed]",
      "text/plain": [
       "<Figure size 432x288 with 1 Axes>"
      ]
     },
     "metadata": {
      "needs_background": "light"
     },
     "output_type": "display_data"
    }
   ],
   "source": [
    "plt.hist(result_list,bins=500)\n",
    "\n",
    "plt.title(\"Means\", y=1.015, fontsize=20)\n",
    "plt.axvline(x=sum(result_list)/len(result_list), linestyle='--', linewidth=2.5, label=\"sample mean\", c='orange')\n",
    "plt.xlabel(\"samples\", labelpad=14)\n",
    "plt.ylabel(\"frequency of occurence\", labelpad=14)\n",
    "plt.legend();\n",
    "\n",
    "result_list.sort()\n",
    "\n",
    "plt.axvline(x=result_list[int(len(result_list)*0.01)], linestyle='--', linewidth=0.5, label=\"1%\", c='b')\n",
    "plt.axvline(x=result_list[int(len(result_list)*0.99)], linestyle='--', linewidth=0.5, label=\"99%\", c='r')\n",
    "\n",
    "\n",
    "plt.show()"
   ]
  },
  {
   "cell_type": "code",
   "execution_count": null,
   "metadata": {},
   "outputs": [],
   "source": []
  },
  {
   "cell_type": "code",
   "execution_count": null,
   "metadata": {},
   "outputs": [],
   "source": []
  },
  {
   "cell_type": "code",
   "execution_count": null,
   "metadata": {},
   "outputs": [],
   "source": []
  }
 ],
 "metadata": {
  "hide_input": false,
  "kernelspec": {
   "display_name": "Python 3",
   "language": "python",
   "name": "python3"
  },
  "language_info": {
   "codemirror_mode": {
    "name": "ipython",
    "version": 3
   },
   "file_extension": ".py",
   "mimetype": "text/x-python",
   "name": "python",
   "nbconvert_exporter": "python",
   "pygments_lexer": "ipython3",
   "version": "3.8.3"
  },
  "varInspector": {
   "cols": {
    "lenName": 16,
    "lenType": 16,
    "lenVar": 40
   },
   "kernels_config": {
    "python": {
     "delete_cmd_postfix": "",
     "delete_cmd_prefix": "del ",
     "library": "var_list.py",
     "varRefreshCmd": "print(var_dic_list())"
    },
    "r": {
     "delete_cmd_postfix": ") ",
     "delete_cmd_prefix": "rm(",
     "library": "var_list.r",
     "varRefreshCmd": "cat(var_dic_list()) "
    }
   },
   "types_to_exclude": [
    "module",
    "function",
    "builtin_function_or_method",
    "instance",
    "_Feature"
   ],
   "window_display": false
  }
 },
 "nbformat": 4,
 "nbformat_minor": 4
}
