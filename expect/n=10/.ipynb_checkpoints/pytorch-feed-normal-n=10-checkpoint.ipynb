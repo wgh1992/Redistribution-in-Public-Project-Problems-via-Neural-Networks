{
 "cells": [
  {
   "cell_type": "code",
   "execution_count": 1,
   "metadata": {
    "ExecuteTime": {
     "end_time": "2021-06-22T08:07:20.782675Z",
     "start_time": "2021-06-22T08:07:19.171225Z"
    }
   },
   "outputs": [
    {
     "name": "stdout",
     "output_type": "stream",
     "text": [
      "pygame 2.0.1 (SDL 2.0.14, Python 3.8.3)\n",
      "Hello from the pygame community. https://www.pygame.org/contribute.html\n"
     ]
    },
    {
     "name": "stderr",
     "output_type": "stream",
     "text": [
      "D:\\ComputerSoftwares\\Anaconda\\lib\\site-packages\\sklearn\\utils\\deprecation.py:143: FutureWarning: The sklearn.datasets.samples_generator module is  deprecated in version 0.22 and will be removed in version 0.24. The corresponding classes / functions should instead be imported from sklearn.datasets. Anything that cannot be imported from sklearn.datasets is now part of the private API.\n",
      "  warnings.warn(message, FutureWarning)\n"
     ]
    },
    {
     "name": "stdout",
     "output_type": "stream",
     "text": [
      "cuda:0\n"
     ]
    }
   ],
   "source": [
    "\n",
    "import pygame\n",
    "import random\n",
    "import os\n",
    "import time\n",
    "import numpy as np\n",
    "import math\n",
    "import torch\n",
    "import torch.nn.functional\n",
    "import matplotlib.pyplot as plt\n",
    "import torch.optim as opt\n",
    "from torch.autograd import Variable\n",
    "from sklearn.model_selection import train_test_split\n",
    "\n",
    "import scipy.stats as st\n",
    "from sklearn.datasets.samples_generator import make_blobs\n",
    "from matplotlib.colors import LogNorm \n",
    "import matplotlib.cm as cm\n",
    "import torch.nn as nn\n",
    "import numpy as np\n",
    "import matplotlib.pyplot as plt\n",
    "import plotly.graph_objects as go\n",
    "import plotly.express as px\n",
    "from scipy.interpolate import griddata\n",
    "import torch.nn.functional as F\n",
    "import torch.distributions as D\n",
    "if torch.cuda.is_available():  \n",
    "    dev = \"cuda:0\" \n",
    "else:  \n",
    "    dev = \"cpu\"  \n",
    "\n",
    "print(dev)\n",
    "\n"
   ]
  },
  {
   "cell_type": "code",
   "execution_count": 2,
   "metadata": {
    "ExecuteTime": {
     "end_time": "2021-06-22T08:07:20.798298Z",
     "start_time": "2021-06-22T08:07:20.782675Z"
    },
    "run_control": {
     "marked": true
    }
   },
   "outputs": [],
   "source": [
    "global temp_list\n",
    "temp_list = []\n",
    "Agent_number_n=10;\n",
    "Alpha = 1.0;\n",
    "\n",
    "echo = 1001\n",
    "BATCH_SIZE = 64\n",
    "LR = 0.001           # learning rate for generator\n",
    "devided_number = 1\n",
    "\n",
    "uniformlow = 0\n",
    "uniformhigh = 1.0\n",
    "\n",
    "normalloc = 0.5\n",
    "normalscale = 0.1\n",
    "\n",
    "doublePeakHighMean = 0.9\n",
    "doublePeakLowMean = 0.1\n",
    "doublePeakStd = 0.04\n",
    "\n",
    "beta_a = 0.3\n",
    "beta_b = 0.2\n",
    "\n",
    "def Generate_distribution(Agent_number_n):\n",
    "    #return sorted(np.random.rand(Agent_number_n), reverse=True)\n",
    "    return sorted(np.random.normal(normalloc,normalscale,Agent_number_n), reverse=True)\n",
    "Prior_Distribution = \"normal\""
   ]
  },
  {
   "cell_type": "code",
   "execution_count": 3,
   "metadata": {
    "ExecuteTime": {
     "end_time": "2021-06-22T08:07:20.813880Z",
     "start_time": "2021-06-22T08:07:20.798298Z"
    }
   },
   "outputs": [],
   "source": [
    "new_input = 3\n",
    "def Dimensionality_reduction(data_sorted):\n",
    "    out_data = torch.ones(new_input).cuda()\n",
    "    out_data[0] = torch.max(data_sorted) \n",
    "    out_data[1] = torch.sum(data_sorted) \n",
    "    \n",
    "    temp_list = []\n",
    "    for i in range(len(data_sorted)-1):\n",
    "        temp_list.append(data_sorted[i] - data_sorted[i + 1])\n",
    "    \n",
    "    temp_tensor = torch.stack(temp_list)    \n",
    "    out_data[2] = torch.max(temp_tensor) \n",
    "    return out_data\n"
   ]
  },
  {
   "cell_type": "code",
   "execution_count": 4,
   "metadata": {
    "ExecuteTime": {
     "end_time": "2021-06-22T08:07:20.844798Z",
     "start_time": "2021-06-22T08:07:20.815879Z"
    },
    "run_control": {
     "marked": true
    }
   },
   "outputs": [],
   "source": [
    "d_1 = D.uniform.Uniform(uniformlow, uniformhigh)\n",
    "distributionRatio_1 = d_1.cdf(1) - d_1.cdf(0)\n",
    "distributionBase_1 = d_1.cdf(0)\n",
    "\n",
    "d_2 = D.normal.Normal(normalloc, normalscale)\n",
    "distributionRatio_2 = d_2.cdf(1) - d_2.cdf(0)\n",
    "distributionBase_2 = d_2.cdf(0)\n",
    "\n",
    "d_3 = D.normal.Normal(doublePeakLowMean, doublePeakStd)\n",
    "d_4 = D.normal.Normal(doublePeakHighMean, doublePeakStd)\n",
    "distributionRatio_3 = (d_3.cdf(1) + d_4.cdf(1) - d_3.cdf(0) - d_4.cdf(0)) / 2\n",
    "distributionBase_3 = d_3.cdf(0) + d_4.cdf(0)\n",
    "\n",
    "# d_5 = D.beta.Beta(beta_a,beta_b)\n",
    "\n",
    "# d10 = D.beta.Beta(0.5,0.5)\n",
    "\n",
    "\n",
    "def cdf(x, y, i=None):\n",
    "    if (y == \"uniform\"):\n",
    "        return (d_1.cdf(x) - distributionBase_1) / distributionRatio_1\n",
    "    elif (y == \"normal\"):\n",
    "        return (d_2.cdf(x) - distributionBase_2) / distributionRatio_2\n",
    "    elif (y == \"twopeak\"):\n",
    "        return (d_3.cdf(x) + d_4.cdf(x) -\n",
    "                distributionBase_3) / 2 / distributionRatio_3\n",
    "\n",
    "\n",
    "def pdf(x, y, i=None):\n",
    "    x= x.cpu().type(torch.float32)\n",
    "    if (y == \"uniform\"):\n",
    "        return torch.pow(torch.tensor(10.0), d_1.log_prob(x)).to(dev)\n",
    "    elif (y == \"normal\"):\n",
    "        return torch.pow(torch.tensor(10.0), d_2.log_prob(x)).to(dev)\n",
    "    elif (y == \"twopeak\"):\n",
    "        return (torch.pow(torch.tensor(10.0), d_3.log_prob(x)) +\n",
    "                torch.pow(torch.tensor(10.0), d_4.log_prob(x))).to(dev) / 2 \n",
    "    \n",
    "def Generate_distribution(Agent_number_n):\n",
    "    return np.random.rand(Agent_number_n)\n",
    "    #return np.random.normal(normalloc,normalscale,Agent_number_n)\n"
   ]
  },
  {
   "cell_type": "code",
   "execution_count": 5,
   "metadata": {
    "ExecuteTime": {
     "end_time": "2021-06-22T08:07:21.925611Z",
     "start_time": "2021-06-22T08:07:20.846793Z"
    },
    "run_control": {
     "marked": false
    }
   },
   "outputs": [
    {
     "name": "stdout",
     "output_type": "stream",
     "text": [
      "tensor(10., device='cuda:0')\n",
      "tensor([1.], device='cuda:0')\n",
      "tensor([0.0008], device='cuda:0')\n"
     ]
    }
   ],
   "source": [
    "print(torch.tensor(10.0).to(dev))\n",
    "print(pdf(torch.ones(1)*0.2,\"uniform\"))\n",
    "print(pdf(torch.ones(1)*0.2,\"normal\"))\n"
   ]
  },
  {
   "cell_type": "code",
   "execution_count": 22,
   "metadata": {
    "ExecuteTime": {
     "end_time": "2021-06-22T09:49:06.596929Z",
     "start_time": "2021-06-22T09:49:05.873689Z"
    }
   },
   "outputs": [
    {
     "name": "stdout",
     "output_type": "stream",
     "text": [
      "[[[8.40999100e-01 2.37615382e-01 8.13817239e-01 ... 9.60412576e-01\n",
      "   5.87822745e-01 5.62491100e-01]\n",
      "  [3.38832988e-01 2.37615382e-01 8.13817239e-01 ... 9.60412576e-01\n",
      "   5.87822745e-01 5.62491100e-01]\n",
      "  [3.38832988e-01 8.40999100e-01 8.13817239e-01 ... 9.60412576e-01\n",
      "   5.87822745e-01 5.62491100e-01]\n",
      "  ...\n",
      "  [3.38832988e-01 8.40999100e-01 2.37615382e-01 ... 8.89118496e-01\n",
      "   5.87822745e-01 5.62491100e-01]\n",
      "  [3.38832988e-01 8.40999100e-01 2.37615382e-01 ... 8.89118496e-01\n",
      "   9.60412576e-01 5.62491100e-01]\n",
      "  [3.38832988e-01 8.40999100e-01 2.37615382e-01 ... 8.89118496e-01\n",
      "   9.60412576e-01 5.87822745e-01]]\n",
      "\n",
      " [[5.75035403e-01 6.01009856e-01 9.31859451e-01 ... 1.17235839e-01\n",
      "   1.91193243e-03 5.43806815e-01]\n",
      "  [5.93274226e-02 6.01009856e-01 9.31859451e-01 ... 1.17235839e-01\n",
      "   1.91193243e-03 5.43806815e-01]\n",
      "  [5.93274226e-02 5.75035403e-01 9.31859451e-01 ... 1.17235839e-01\n",
      "   1.91193243e-03 5.43806815e-01]\n",
      "  ...\n",
      "  [5.93274226e-02 5.75035403e-01 6.01009856e-01 ... 9.24622289e-01\n",
      "   1.91193243e-03 5.43806815e-01]\n",
      "  [5.93274226e-02 5.75035403e-01 6.01009856e-01 ... 9.24622289e-01\n",
      "   1.17235839e-01 5.43806815e-01]\n",
      "  [5.93274226e-02 5.75035403e-01 6.01009856e-01 ... 9.24622289e-01\n",
      "   1.17235839e-01 1.91193243e-03]]\n",
      "\n",
      " [[3.29139872e-01 1.13986024e-01 8.68886753e-01 ... 9.03804880e-01\n",
      "   6.31116191e-01 8.86166110e-01]\n",
      "  [6.26266906e-01 1.13986024e-01 8.68886753e-01 ... 9.03804880e-01\n",
      "   6.31116191e-01 8.86166110e-01]\n",
      "  [6.26266906e-01 3.29139872e-01 8.68886753e-01 ... 9.03804880e-01\n",
      "   6.31116191e-01 8.86166110e-01]\n",
      "  ...\n",
      "  [6.26266906e-01 3.29139872e-01 1.13986024e-01 ... 4.70670431e-01\n",
      "   6.31116191e-01 8.86166110e-01]\n",
      "  [6.26266906e-01 3.29139872e-01 1.13986024e-01 ... 4.70670431e-01\n",
      "   9.03804880e-01 8.86166110e-01]\n",
      "  [6.26266906e-01 3.29139872e-01 1.13986024e-01 ... 4.70670431e-01\n",
      "   9.03804880e-01 6.31116191e-01]]\n",
      "\n",
      " ...\n",
      "\n",
      " [[9.41489452e-01 5.63595489e-01 7.65045595e-01 ... 6.42165270e-01\n",
      "   6.29486542e-01 6.06621349e-01]\n",
      "  [4.23428644e-01 5.63595489e-01 7.65045595e-01 ... 6.42165270e-01\n",
      "   6.29486542e-01 6.06621349e-01]\n",
      "  [4.23428644e-01 9.41489452e-01 7.65045595e-01 ... 6.42165270e-01\n",
      "   6.29486542e-01 6.06621349e-01]\n",
      "  ...\n",
      "  [4.23428644e-01 9.41489452e-01 5.63595489e-01 ... 7.77497275e-01\n",
      "   6.29486542e-01 6.06621349e-01]\n",
      "  [4.23428644e-01 9.41489452e-01 5.63595489e-01 ... 7.77497275e-01\n",
      "   6.42165270e-01 6.06621349e-01]\n",
      "  [4.23428644e-01 9.41489452e-01 5.63595489e-01 ... 7.77497275e-01\n",
      "   6.42165270e-01 6.29486542e-01]]\n",
      "\n",
      " [[6.45494534e-01 8.74137666e-01 5.23748261e-01 ... 2.51580670e-01\n",
      "   2.60031905e-02 7.84272481e-02]\n",
      "  [6.73407217e-01 8.74137666e-01 5.23748261e-01 ... 2.51580670e-01\n",
      "   2.60031905e-02 7.84272481e-02]\n",
      "  [6.73407217e-01 6.45494534e-01 5.23748261e-01 ... 2.51580670e-01\n",
      "   2.60031905e-02 7.84272481e-02]\n",
      "  ...\n",
      "  [6.73407217e-01 6.45494534e-01 8.74137666e-01 ... 9.49479200e-01\n",
      "   2.60031905e-02 7.84272481e-02]\n",
      "  [6.73407217e-01 6.45494534e-01 8.74137666e-01 ... 9.49479200e-01\n",
      "   2.51580670e-01 7.84272481e-02]\n",
      "  [6.73407217e-01 6.45494534e-01 8.74137666e-01 ... 9.49479200e-01\n",
      "   2.51580670e-01 2.60031905e-02]]\n",
      "\n",
      " [[6.53965312e-01 5.66298364e-01 3.84656098e-04 ... 5.77581561e-01\n",
      "   4.19044346e-01 1.27819572e-01]\n",
      "  [4.30839380e-01 5.66298364e-01 3.84656098e-04 ... 5.77581561e-01\n",
      "   4.19044346e-01 1.27819572e-01]\n",
      "  [4.30839380e-01 6.53965312e-01 3.84656098e-04 ... 5.77581561e-01\n",
      "   4.19044346e-01 1.27819572e-01]\n",
      "  ...\n",
      "  [4.30839380e-01 6.53965312e-01 5.66298364e-01 ... 9.51912930e-01\n",
      "   4.19044346e-01 1.27819572e-01]\n",
      "  [4.30839380e-01 6.53965312e-01 5.66298364e-01 ... 9.51912930e-01\n",
      "   5.77581561e-01 1.27819572e-01]\n",
      "  [4.30839380e-01 6.53965312e-01 5.66298364e-01 ... 9.51912930e-01\n",
      "   5.77581561e-01 4.19044346e-01]]]\n",
      "[6.33364924 4.42251242 5.71174572 ... 6.69636177 5.58606159 4.93450016]\n"
     ]
    }
   ],
   "source": [
    "def h_3_star(a, b, t):\n",
    "    return a - min(a, t) + b - min(b, t) + max(min(a, t)+min(b, t), 2*t/3) + 1/2 * max(min(a, t)+min(b, t), t) - 1/2 * max(max(min(a, t), min(b, t)), 2*t/3) - t/6\n",
    "\n",
    "\n",
    "def f_function(a, b, z):\n",
    "    if(z >= 1):\n",
    "        return (a+b)/2 + z/3\n",
    "    else:\n",
    "        return z/3 + h_3_star(a, b, 1-z)/2\n",
    "\n",
    "def h_function_label(input_list):\n",
    "    #input_list = sorted(input_list)\n",
    "    g_list = []\n",
    "    for j1 in range(len(input_list) ):\n",
    "        for j2 in range(len(input_list)):\n",
    "            if(j1 != j2):\n",
    "                a = input_list[j1]\n",
    "                b = input_list[j2]\n",
    "                z = sum(input_list)- a-b\n",
    "\n",
    "                g_list.append( f_function(a, b, z) * (Agent_number_n-1))\n",
    "    h = sum(g_list) * 3 /  (Agent_number_n) /  (Agent_number_n-1) /  (Agent_number_n - 2)\n",
    "    return h\n",
    "\n",
    "def appen(_x_list,y):\n",
    "    global temp_list\n",
    "    temp_list.append(_x_list)\n",
    "    \n",
    "def appen_train(x_list):\n",
    "    global temp_list\n",
    "                \n",
    "    S= max(sum(x_list),1.0);\n",
    "    temp_list = []\n",
    "    h_list = []\n",
    "    for i in range(Agent_number_n):\n",
    "        temp = []\n",
    "        for j in range(Agent_number_n):\n",
    "            if(i!=j):\n",
    "                temp.append(x_list[j])\n",
    "        appen(temp,S)\n",
    "        \n",
    "        h = h_function_label(temp)\n",
    "        h_list.append(float(h))\n",
    "    temp_list = np.array(temp_list)\n",
    "    x_list = np.array(x_list)\n",
    "    return temp_list,S,x_list,h_list\n",
    "    \n",
    "\n",
    "def appen_test(x_list):\n",
    "    global temp_list\n",
    "                \n",
    "    S= max(sum(x_list),1.0);\n",
    "    temp_list = []\n",
    "    \n",
    "    for i in range(Agent_number_n):\n",
    "        temp = []\n",
    "        for j in range(Agent_number_n):\n",
    "            if(i!=j):\n",
    "                temp.append(x_list[j])\n",
    "        appen(temp,S)\n",
    "    testing_data.append(temp_list)\n",
    "    testing_label.append(S)\n",
    "    temp_list = np.array(temp_list)\n",
    "    return temp_list,S\n",
    "    \n",
    "\n",
    "def read_testing_data():\n",
    "    for i in range(10000):\n",
    "        appen_test(Generate_distribution(Agent_number_n));\n",
    "                            \n",
    "\n",
    "testing_data=[]\n",
    "testing_label=[]\n",
    "S=1.0\n",
    "read_testing_data();\n",
    "\n",
    "testing_data=np.array(testing_data)\n",
    "testing_label=np.array(testing_label)\n",
    "print(testing_data)\n",
    "print(testing_label)"
   ]
  },
  {
   "cell_type": "code",
   "execution_count": 7,
   "metadata": {
    "ExecuteTime": {
     "end_time": "2021-06-22T08:07:59.323603Z",
     "start_time": "2021-06-22T08:07:22.602098Z"
    }
   },
   "outputs": [
    {
     "name": "stdout",
     "output_type": "stream",
     "text": [
      "9.07438282022838 8.999999999999995 0.07438282022838472 9.000041079904953\n"
     ]
    }
   ],
   "source": [
    "def h_3_star(a, b, t):\n",
    "    return a - min(a, t) + b - min(b, t) + max(min(a, t)+min(b, t), 2*t/3) + 1/2 * max(min(a, t)+min(b, t), t) - 1/2 * max(max(min(a, t), min(b, t)), 2*t/3) - t/6\n",
    "\n",
    "\n",
    "def f_function(a, b, z):\n",
    "    if(z >= 1):\n",
    "        return (a+b)/2 + z/3\n",
    "    else:\n",
    "        return z/3 + h_3_star(a, b, 1-z)/2\n",
    "\n",
    "def h_function(input_list):\n",
    "    #input_list = sorted(input_list)\n",
    "    g_list = []\n",
    "    for j1 in range(len(input_list) ):\n",
    "        for j2 in range(len(input_list)):\n",
    "            if(j1 != j2):\n",
    "                a = input_list[j1]\n",
    "                b = input_list[j2]\n",
    "                z = sum(input_list)- a-b\n",
    "\n",
    "                g_list.append( f_function(a, b, z) * (Agent_number_n-1))\n",
    "    h = sum(g_list) * 3 /  (Agent_number_n) /  (Agent_number_n-1) /  (Agent_number_n - 2)\n",
    "    return h\n",
    "                \n",
    "                \n",
    "x_list = []\n",
    "y_list = []\n",
    "z_list = []\n",
    "result_list = []\n",
    "for index in range(len(testing_data)):\n",
    "    h_list = []\n",
    "    for i in range(Agent_number_n):\n",
    "        x_list.append(testing_data[index][i][0])\n",
    "        y_list.append(testing_data[index][i][1])\n",
    "        h = h_function(testing_data[index][i])\n",
    "        z_list.append(float(h))\n",
    "        h_list.append(float(h))\n",
    "    result_list.append(sum(h_list)/testing_label[index]) \n",
    "    \n",
    "    \n",
    "print(max(result_list), min(result_list), max(result_list)-min(result_list),sum(result_list)/len(result_list))"
   ]
  },
  {
   "cell_type": "code",
   "execution_count": 8,
   "metadata": {
    "ExecuteTime": {
     "end_time": "2021-06-22T08:08:00.314141Z",
     "start_time": "2021-06-22T08:07:59.325682Z"
    }
   },
   "outputs": [
    {
     "data": {
      "image/png": "[encoded data removed]",
      "text/plain": [
       "<Figure size 432x288 with 1 Axes>"
      ]
     },
     "metadata": {
      "needs_background": "light"
     },
     "output_type": "display_data"
    }
   ],
   "source": [
    "plt.hist(result_list,bins=500)\n",
    "\n",
    "plt.title(\"Means\", y=1.015, fontsize=20)\n",
    "plt.axvline(x=sum(result_list)/len(result_list), linestyle='--', linewidth=2.5, label=\"sample mean\", c='orange')\n",
    "plt.xlabel(\"samples\", labelpad=14)\n",
    "plt.ylabel(\"frequency of occurence\", labelpad=14)\n",
    "plt.legend();\n",
    "\n",
    "result_list.sort()\n",
    "\n",
    "plt.axvline(x=result_list[int(len(result_list)*0.01)], linestyle='--', linewidth=0.5, label=\"1%\", c='b')\n",
    "plt.axvline(x=result_list[int(len(result_list)*0.99)], linestyle='--', linewidth=0.5, label=\"99%\", c='r')\n",
    "\n",
    "\n",
    "plt.show()"
   ]
  },
  {
   "cell_type": "code",
   "execution_count": 9,
   "metadata": {
    "ExecuteTime": {
     "end_time": "2021-06-22T08:08:00.330019Z",
     "start_time": "2021-06-22T08:08:00.314141Z"
    }
   },
   "outputs": [
    {
     "name": "stdout",
     "output_type": "stream",
     "text": [
      "tensor([0.0294], device='cuda:0', grad_fn=<SortBackward>)\n"
     ]
    }
   ],
   "source": [
    "tensor_sample_list,indices = torch.sort(torch.rand(devided_number,requires_grad=True).to(dev))  # random ideas\\n\n",
    "print(tensor_sample_list)"
   ]
  },
  {
   "cell_type": "code",
   "execution_count": 10,
   "metadata": {
    "ExecuteTime": {
     "end_time": "2021-06-22T08:08:00.344981Z",
     "start_time": "2021-06-22T08:08:00.332013Z"
    },
    "run_control": {
     "marked": true
    }
   },
   "outputs": [
    {
     "name": "stdout",
     "output_type": "stream",
     "text": [
      "tensor([9.5367e-07], device='cuda:0', grad_fn=<DivBackward0>)\n",
      "tensor([9.5367e-07], device='cuda:0', grad_fn=<DivBackward0>)\n"
     ]
    }
   ],
   "source": [
    "print(cdf(tensor_sample_list,Prior_Distribution))\n",
    "print(cdf(tensor_sample_list,\"normal\"))"
   ]
  },
  {
   "cell_type": "code",
   "execution_count": 11,
   "metadata": {
    "ExecuteTime": {
     "end_time": "2021-06-22T08:08:00.391853Z",
     "start_time": "2021-06-22T08:08:00.346974Z"
    },
    "run_control": {
     "marked": true
    }
   },
   "outputs": [],
   "source": [
    "def weight_init(m):\n",
    "    if isinstance(m, torch.nn.Conv2d):\n",
    "        torch.nn.init.xavier_normal_(m.weight)\n",
    "        torch.nn.init.zeros_(m.bias)\n",
    "    elif isinstance(m, torch.nn.Linear):\n",
    "        torch.nn.init.xavier_normal_(m.weight)\n",
    "        torch.nn.init.normal_(m.bias, mean=0.0, std=0.01)\n",
    "\n",
    "\n",
    "\n",
    "def redistribution_value_function(input_tensor):\n",
    "    S = torch.max(torch.sum(input_tensor), torch.ones(1).to(dev))\n",
    "    temp_list = []\n",
    "\n",
    "    for i in range(Agent_number_n):\n",
    "        temp = []\n",
    "\n",
    "        for j in range(Agent_number_n):\n",
    "            if(i != j):\n",
    "                temp .append(input_tensor[j])\n",
    "\n",
    "        temp = torch.stack(temp)\n",
    "        temp_list.append(temp)\n",
    "    return torch.stack(temp_list), S\n",
    "\n",
    "\n",
    "class Net(torch.nn.Module):\n",
    "    def __init__(self):\n",
    "\n",
    "        super(Net, self).__init__()\n",
    "\n",
    "        self.input_dim = new_input#(Agent_number_n-1)\n",
    "        self.hidden_dim = 128\n",
    "        self.output_dim = 1\n",
    "        self.hidden_layer_count = 6\n",
    "\n",
    "        current_dim = self.input_dim\n",
    "        self.layers = torch.nn.ModuleList()\n",
    "        for i in range(self.hidden_layer_count):\n",
    "            self.layers.append(torch.nn.Linear(current_dim, self.hidden_dim))\n",
    "            current_dim = self.hidden_dim\n",
    "        self.layers.append(torch.nn.Linear(current_dim, self.output_dim))\n",
    "\n",
    "    def calculate(self, value_list):\n",
    "        h = Dimensionality_reduction(value_list)\n",
    "        for layer in self.layers:\n",
    "            h = torch.relu(layer(h))\n",
    "        return h\n",
    "\n",
    "    def forward(self, input_list, input_label, input_data):\n",
    "        global iteration, echo, target_order\n",
    "        loss1 = 0\n",
    "        loss2 = 0\n",
    "        input_list = torch.from_numpy(\n",
    "            np.array(input_list)).to(dev).type(torch.float32)\n",
    "\n",
    "        input_data = torch.from_numpy(\n",
    "            np.array(input_data)).to(dev).type(torch.float32)\n",
    "        \n",
    "        input_label = torch.from_numpy(\n",
    "            np.array(input_label)).to(dev).type(torch.float32)\n",
    "        \n",
    "        \n",
    "        random_index = random.randint(0, Agent_number_n-1)\n",
    "        tensor_sample_list,indices = torch.sort(torch.rand(devided_number,requires_grad=True).to(dev))\n",
    "     \n",
    "        tensor_sample = torch.rand(devided_number,requires_grad=True)[0].to(dev)\n",
    "    \n",
    "        input_data_temp = input_data.detach().clone()\n",
    "        \n",
    "        input_data_temp[random_index] = tensor_sample\n",
    "\n",
    "        value_list_tensor, S_tensor = redistribution_value_function(\n",
    "            input_data_temp)\n",
    "       \n",
    "        h_list = []\n",
    "        for i in range(Agent_number_n):\n",
    "            h = self.calculate(\n",
    "                value_list_tensor[i].to(dev).type(torch.float32))\n",
    "            h_list.append(h)\n",
    "            \n",
    "        S_tensor = S_tensor.detach().to(dev).type(torch.float32)\n",
    "        \n",
    "        sum_h = torch.sum(torch.cat(h_list)).to(dev)\n",
    "        \n",
    "        temp_loss1 = torch.where((Agent_number_n-1)*S_tensor > sum_h,\n",
    "                 torch.square(((Agent_number_n-1)*S_tensor - sum_h)),\n",
    "                 torch.zeros(1).to(dev)\n",
    "              )\n",
    "\n",
    "        temp_loss2 = torch.where((Agent_number_n-Alpha)*S_tensor < sum_h,\n",
    "                    torch.square((sum_h-(Agent_number_n-Alpha)*S_tensor))/10000,\n",
    "                    torch.zeros(1).to(dev)\n",
    "                  )\n",
    "\n",
    "\n",
    "        loss1 = temp_loss1 * pdf(tensor_sample, Prior_Distribution)\n",
    "        loss2 = temp_loss2 * pdf(tensor_sample, Prior_Distribution)\n",
    "                \n",
    "        return loss1, loss2\n",
    "    \n",
    "    def supervised_loss(self, input_list,label):\n",
    "        global iteration,echo,target_order\n",
    "        input_list = torch.from_numpy(\n",
    "            np.array(input_list)).to(dev).type(torch.float32)\n",
    "        loss = 0 \n",
    "        for i in range(Agent_number_n):\n",
    "            h = self.calculate(input_list[i])\n",
    "            loss += torch.square(h - label[i])\n",
    "        return loss"
   ]
  },
  {
   "cell_type": "code",
   "execution_count": 12,
   "metadata": {
    "ExecuteTime": {
     "end_time": "2021-06-22T08:08:00.407810Z",
     "start_time": "2021-06-22T08:08:00.393848Z"
    }
   },
   "outputs": [],
   "source": [
    "random.seed(200)\n",
    "torch.manual_seed(256)\n",
    "net  = Net()\n",
    "net.apply(weight_init)\n",
    "#net = torch.load(\"save/Deep_learning_F_normal_10_1\")\n",
    "net.to(dev)\n",
    "\n",
    "#optimizer = opt.RMSprop(net.parameters(), lr=0.00001)\n",
    "#optimizer = opt.SGD(net.parameters(), lr=0.00005)\n",
    "optimizer = opt.Adam(net.parameters(), lr=LR)\n",
    "#optimizer = opt.Adadelta(net.parameters(), lr=1.0)\n",
    "\n",
    "scheduler = torch.optim.lr_scheduler.StepLR(optimizer, step_size=100, gamma=0.98)\n",
    "index_train_list = []\n",
    "index_test_list = []\n",
    "train_losses = []\n",
    "test_losses = []"
   ]
  },
  {
   "cell_type": "code",
   "execution_count": 13,
   "metadata": {
    "ExecuteTime": {
     "end_time": "2021-06-22T08:27:09.440490Z",
     "start_time": "2021-06-22T08:08:00.409807Z"
    }
   },
   "outputs": [
    {
     "name": "stdout",
     "output_type": "stream",
     "text": [
      "0 tensor(221.2348, device='cuda:0', grad_fn=<DivBackward0>) 14159.0244140625\n",
      "50 tensor(216.0247, device='cuda:0', grad_fn=<DivBackward0>) 13825.580078125\n",
      "100 tensor(225.8417, device='cuda:0', grad_fn=<DivBackward0>) 14453.8662109375\n",
      "150 tensor(209.0477, device='cuda:0', grad_fn=<DivBackward0>) 13379.0498046875\n",
      "200 tensor(0.0911, device='cuda:0', grad_fn=<DivBackward0>) 5.830873489379883\n",
      "250 tensor(0.0903, device='cuda:0', grad_fn=<DivBackward0>) 5.781595230102539\n",
      "300 tensor(0.0512, device='cuda:0', grad_fn=<DivBackward0>) 3.274057388305664\n",
      "350 tensor(0.0166, device='cuda:0', grad_fn=<DivBackward0>) 1.062083125114441\n",
      "400 tensor(0.0072, device='cuda:0', grad_fn=<DivBackward0>) 0.46141621470451355\n",
      "450 tensor(0.0075, device='cuda:0', grad_fn=<DivBackward0>) 0.47990331053733826\n",
      "500 tensor(0.0029, device='cuda:0', grad_fn=<DivBackward0>) 0.1827704757452011\n",
      "550 tensor(0.0030, device='cuda:0', grad_fn=<DivBackward0>) 0.18898075819015503\n",
      "600 tensor(0.0037, device='cuda:0', grad_fn=<DivBackward0>) 0.2394966185092926\n",
      "650 tensor(0.0016, device='cuda:0', grad_fn=<DivBackward0>) 0.10357455164194107\n",
      "700 tensor(0.0023, device='cuda:0', grad_fn=<DivBackward0>) 0.14417904615402222\n",
      "750 tensor(0.0013, device='cuda:0', grad_fn=<DivBackward0>) 0.08165983855724335\n",
      "800 tensor(0.0013, device='cuda:0', grad_fn=<DivBackward0>) 0.08044472336769104\n",
      "850 tensor(0.0008, device='cuda:0', grad_fn=<DivBackward0>) 0.05316968634724617\n",
      "900 tensor(0.0006, device='cuda:0', grad_fn=<DivBackward0>) 0.03524171561002731\n",
      "950 tensor(0.0004, device='cuda:0', grad_fn=<DivBackward0>) 0.0260027963668108\n"
     ]
    }
   ],
   "source": [
    "#supervised\n",
    "index_supervisedtrain_list = []\n",
    "supervisedtrain_losses = []\n",
    "for iteration in range(1000):\n",
    "\n",
    "    temp_number = 0\n",
    "    total_batch_loss = 0 \n",
    "    \n",
    "    loss_sum = 0\n",
    "    denominator = 0\n",
    "    for index in range(0, BATCH_SIZE):\n",
    "        training_data_i, training_S, training_data,label = appen_train(\n",
    "            Generate_distribution(Agent_number_n))\n",
    "        h_loss = net.supervised_loss(training_data_i, label)\n",
    "        denominator += 1\n",
    "        loss_sum += h_loss\n",
    "\n",
    "    loss_sum = torch.sum(loss_sum)\n",
    "    loss = (loss_sum) / denominator \n",
    "    total_batch_loss += float(loss_sum)\n",
    "\n",
    "    optimizer.zero_grad()\n",
    "    loss.backward()\n",
    "    optimizer.step()\n",
    "\n",
    "    if (iteration%50 == 0):\n",
    "        print(iteration,loss,total_batch_loss)\n",
    "        index_supervisedtrain_list.append(iteration)\n",
    "        supervisedtrain_losses.append(total_batch_loss)\n",
    "    scheduler.step()"
   ]
  },
  {
   "cell_type": "code",
   "execution_count": 14,
   "metadata": {
    "ExecuteTime": {
     "end_time": "2021-06-22T08:27:09.543649Z",
     "start_time": "2021-06-22T08:27:09.440490Z"
    }
   },
   "outputs": [
    {
     "data": {
      "image/png": "[encoded data removed]",
      "text/plain": [
       "<Figure size 432x288 with 1 Axes>"
      ]
     },
     "metadata": {
      "needs_background": "light"
     },
     "output_type": "display_data"
    }
   ],
   "source": [
    "plt.ylim(0, 0.1)\n",
    "plt.plot(index_supervisedtrain_list ,supervisedtrain_losses)\n",
    "plt.ylabel('supervised train loss')\n",
    "\n",
    "plt.show()"
   ]
  },
  {
   "cell_type": "code",
   "execution_count": 15,
   "metadata": {
    "ExecuteTime": {
     "end_time": "2021-06-22T08:27:09.564806Z",
     "start_time": "2021-06-22T08:27:09.543649Z"
    }
   },
   "outputs": [],
   "source": [
    "optimizer = opt.Adam(net.parameters(), lr=LR/100)\n",
    "#optimizer = opt.Adadelta(net.parameters(), lr=1.0)\n",
    "\n",
    "scheduler = torch.optim.lr_scheduler.StepLR(optimizer, step_size=100, gamma=0.98)"
   ]
  },
  {
   "cell_type": "code",
   "execution_count": 16,
   "metadata": {
    "ExecuteTime": {
     "end_time": "2021-06-22T09:45:09.308068Z",
     "start_time": "2021-06-22T08:27:09.564806Z"
    }
   },
   "outputs": [
    {
     "name": "stdout",
     "output_type": "stream",
     "text": [
      "0 tensor(0.0035, device='cuda:0', grad_fn=<DivBackward0>) 0.22319765388965607 3.139485852443613e-05\n",
      "batch iteration 0\n",
      "batch_loss: 0.2232 \n",
      "9.225974296491426 8.978722005820636 0.24725229067079013 0.05936469124973165\n",
      "\n",
      "50 tensor(9.2025e-05, device='cuda:0', grad_fn=<DivBackward0>) 0.0 0.005889588035643101\n",
      "batch iteration 50\n",
      "batch_loss: 0.0059 \n",
      "9.304050414848408 9.055750069984988 0.24830034486342 0.03793499467862382\n",
      "\n",
      "100 tensor(6.1509e-05, device='cuda:0', grad_fn=<DivBackward0>) 0.0 0.00393654964864254\n",
      "batch iteration 100\n",
      "batch_loss: 0.0039 \n",
      "9.284635200988014 9.036835383362282 0.24779981762573122 0.03806974136774954\n",
      "\n",
      "150 tensor(3.5625e-05, device='cuda:0', grad_fn=<DivBackward0>) 0.0 0.0022799766156822443\n",
      "batch iteration 150\n",
      "batch_loss: 0.0023 \n",
      "9.264499150452057 9.01725861507872 0.24724053537333646 0.038184820109959716\n",
      "\n",
      "200 tensor(1.5491e-05, device='cuda:0', grad_fn=<DivBackward0>) 0.0 0.0009914047550410032\n",
      "batch iteration 200\n",
      "batch_loss: 0.0010 \n",
      "9.246398261611482 8.999982601060283 0.24641566055119846 0.03842375379410612\n",
      "\n",
      "250 tensor(8.4329e-06, device='cuda:0', grad_fn=<DivBackward0>) 0.0 0.0005397027125582099\n",
      "batch iteration 250\n",
      "batch_loss: 0.0005 \n",
      "9.231972737409047 8.98584546345895 0.24612727395009593 0.05333554158674758\n",
      "\n",
      "300 tensor(6.7675e-06, device='cuda:0', grad_fn=<DivBackward0>) 0.0 0.00043312041088938713\n",
      "batch iteration 300\n",
      "batch_loss: 0.0004 \n",
      "9.2394733751975 8.993525460438061 0.245947914759439 0.046268976801419726\n",
      "\n",
      "350 tensor(6.9458e-06, device='cuda:0', grad_fn=<DivBackward0>) 0.0 0.00044452917063608766\n",
      "batch iteration 350\n",
      "batch_loss: 0.0004 \n",
      "9.228223857698772 8.982621401751803 0.24560245594696894 0.05715357950566258\n",
      "\n",
      "400 tensor(1.6082e-05, device='cuda:0', grad_fn=<DivBackward0>) 0.0 0.0010292776860296726\n",
      "batch iteration 400\n",
      "batch_loss: 0.0010 \n",
      "9.247165385554686 9.00037771871674 0.24678766683794606 0.0391472042309271\n",
      "\n",
      "450 tensor(1.1514e-05, device='cuda:0', grad_fn=<DivBackward0>) 0.0 0.0007368716178461909\n",
      "batch iteration 450\n",
      "batch_loss: 0.0007 \n",
      "9.236962504860731 8.990356253412472 0.24660625144825943 0.0486196303109061\n",
      "\n",
      "500 tensor(1.9489e-05, device='cuda:0', grad_fn=<DivBackward0>) 0.0 0.0012473146198317409\n",
      "batch iteration 500\n",
      "batch_loss: 0.0012 \n",
      "9.264890997455597 9.016683768073348 0.24820722938224904 0.037994276993718046\n",
      "\n",
      "550 tensor(6.3450e-06, device='cuda:0', grad_fn=<DivBackward0>) 0.0 0.0004060803330503404\n",
      "batch iteration 550\n",
      "batch_loss: 0.0004 \n",
      "9.245182501243933 8.997312414518861 0.24787008672507227 0.04053796360122952\n",
      "\n",
      "600 tensor(7.2262e-06, device='cuda:0', grad_fn=<DivBackward0>) 0.0 0.00046247593127191067\n",
      "batch iteration 600\n",
      "batch_loss: 0.0005 \n",
      "9.228809722257768 8.981339182109394 0.24747054014837389 0.05649385623148717\n",
      "\n",
      "650 tensor(8.1726e-06, device='cuda:0', grad_fn=<DivBackward0>) 0.0 0.0005230437964200974\n",
      "batch iteration 650\n",
      "batch_loss: 0.0005 \n",
      "9.241660623629416 8.99338917763643 0.24827144599298556 0.043931194992296696\n",
      "\n",
      "700 tensor(7.2588e-06, device='cuda:0', grad_fn=<DivBackward0>) 0.0 0.0004645638109650463\n",
      "batch iteration 700\n",
      "batch_loss: 0.0005 \n",
      "9.23251161455686 8.984092231326695 0.24841938323016421 0.052920018905320276\n",
      "\n",
      "750 tensor(2.5454e-06, device='cuda:0', grad_fn=<DivBackward0>) 0.0 0.00016290532948914915\n",
      "batch iteration 750\n",
      "batch_loss: 0.0002 \n",
      "9.232701509044777 8.98417003890116 0.24853147014361632 0.05255346063481525\n",
      "\n",
      "800 tensor(1.0101e-05, device='cuda:0', grad_fn=<DivBackward0>) 0.0 0.0006464459002017975\n",
      "batch iteration 800\n",
      "batch_loss: 0.0006 \n",
      "9.240695670238127 8.991586829045843 0.2491088411922835 0.04474568401001555\n",
      "\n",
      "850 tensor(9.5533e-06, device='cuda:0', grad_fn=<DivBackward0>) 0.0 0.000611409661360085\n",
      "batch iteration 850\n",
      "batch_loss: 0.0006 \n",
      "9.24373180382046 8.994701932823867 0.24902987099659235 0.04142058625959244\n",
      "\n",
      "900 tensor(6.2936e-06, device='cuda:0', grad_fn=<DivBackward0>) 0.00012770169996656477 0.00027508693165145814\n",
      "batch iteration 900\n",
      "batch_loss: 0.0004 \n",
      "9.234158896728784 8.985213849030943 0.2489450476978412 0.050768089320952114\n",
      "\n",
      "950 tensor(1.4510e-05, device='cuda:0', grad_fn=<DivBackward0>) 0.0 0.00092865846818313\n",
      "batch iteration 950\n",
      "batch_loss: 0.0009 \n",
      "9.243987122832891 8.994160695411678 0.24982642742121364 0.04129690259745189\n",
      "\n",
      "1000 tensor(1.5125e-05, device='cuda:0', grad_fn=<DivBackward0>) 0.0 0.0009679732611402869\n",
      "batch iteration 1000\n",
      "batch_loss: 0.0010 \n",
      "9.251871594870991 9.00181446051318 0.25005713435781196 0.03506092059149957\n",
      "\n"
     ]
    }
   ],
   "source": [
    "for iteration in range(int(echo)):\n",
    "    \n",
    "    temp_number = 0\n",
    "    total_batch_loss = 0 \n",
    "        \n",
    "    loss2_list = []\n",
    "    loss1_sum = 0\n",
    "    loss2_sum = 0\n",
    "    denominator = 0\n",
    "    for index in range(0, BATCH_SIZE):\n",
    "        training_data_i, training_label, training_data,label = appen_train(\n",
    "            Generate_distribution(Agent_number_n))\n",
    "        h_loss1, h_loss2 = net(training_data_i, training_label,\n",
    "                                       training_data)\n",
    "        denominator += 1\n",
    "        loss1_sum += h_loss1\n",
    "        loss2_sum += h_loss2\n",
    "\n",
    "    loss_sum = torch.sum(loss1_sum + loss2_sum)\n",
    "    loss = (loss_sum) / denominator \n",
    "    total_batch_loss +=float(loss_sum)\n",
    "    optimizer.zero_grad()\n",
    "\n",
    "    loss.backward()\n",
    "\n",
    "    optimizer.step()\n",
    "\n",
    "    temp_number = iteration\n",
    "    index_train_list.append(iteration)\n",
    "    train_losses.append(total_batch_loss)\n",
    "    if (iteration%50 == 0):\n",
    "        print(temp_number, loss, float(loss1_sum), float(loss2_sum))\n",
    "\n",
    "        print(\"batch iteration\", iteration)\n",
    "        print(\"batch_loss: %.4f \" % total_batch_loss)\n",
    "\n",
    "        result_list = []\n",
    "        for index in range(len(testing_data)):\n",
    "            h_list = []\n",
    "            for i in range(Agent_number_n):\n",
    "                h = net.calculate(\n",
    "                    torch.tensor(testing_data[index][i]).to(dev).type(\n",
    "                        torch.float32))\n",
    "                h_list.append(float(h))\n",
    "            result_list.append(sum(h_list) / testing_label[index])\n",
    "        print(max(result_list), min(result_list),\n",
    "              max(result_list) - min(result_list),\n",
    "              (sum(result_list) / len(result_list) - min(result_list))+ Agent_number_n-1 - min(min(result_list),Agent_number_n-1) )\n",
    "\n",
    "        index_test_list.append(iteration)\n",
    "        test_losses.append(\n",
    "            (sum(result_list) / len(result_list) - min(result_list))+ Agent_number_n-1 - min(min(result_list),Agent_number_n-1) )\n",
    "        print()\n",
    "        \n",
    "    scheduler.step()\n"
   ]
  },
  {
   "cell_type": "code",
   "execution_count": 17,
   "metadata": {
    "ExecuteTime": {
     "end_time": "2021-06-22T09:45:09.721325Z",
     "start_time": "2021-06-22T09:45:09.308068Z"
    }
   },
   "outputs": [
    {
     "data": {
      "image/png": "[encoded data removed]",
      "text/plain": [
       "<Figure size 432x288 with 1 Axes>"
      ]
     },
     "metadata": {
      "needs_background": "light"
     },
     "output_type": "display_data"
    },
    {
     "data": {
      "image/png": "[encoded data removed]",
      "text/plain": [
       "<Figure size 432x288 with 1 Axes>"
      ]
     },
     "metadata": {
      "needs_background": "light"
     },
     "output_type": "display_data"
    }
   ],
   "source": [
    "plt.ylim(0, 1.0)\n",
    "plt.plot(index_test_list,test_losses)\n",
    "plt.ylabel('Testing Loss')\n",
    "plt.xlabel('Batch Epoch')\n",
    "plt.show()\n",
    "\n",
    "import csv\n",
    "with open('save/test_loss_feed_normal_10.csv', 'w', newline='') as csvfile_feed:\n",
    "    spamwriter = csv.writer(csvfile_feed)\n",
    "    spamwriter.writerow(index_test_list)\n",
    "    spamwriter.writerow(test_losses)\n",
    "\n",
    "\n",
    "with open('save/test_loss_unfeed_normal_10.csv') as csvfile_unfeed:\n",
    "    reader = csv.reader(csvfile_unfeed)\n",
    "    list_feed = []\n",
    "    for row in reader:\n",
    "        row = np.array(row)\n",
    "        temp_list = []\n",
    "        for i in range(len(row)):\n",
    "            temp_list.append(float(row[i]))\n",
    "\n",
    "        list_feed.append(temp_list)\n",
    "    plt.ylim(0, 1.0)\n",
    "    plt.plot(list_feed[0],list_feed[1],label='neural network')\n",
    "    plt.plot(index_test_list,test_losses,label='feed distribution')\n",
    "    plt.ylabel('Testing Loss')\n",
    "    plt.xlabel('Batch Epoch')\n",
    "    #plt.title('Two or more lines on same plot with suitable legends ')\n",
    "    # show a legend on the plot\n",
    "    plt.legend()\n",
    "    plt.show()\n"
   ]
  },
  {
   "cell_type": "code",
   "execution_count": 18,
   "metadata": {
    "ExecuteTime": {
     "end_time": "2021-06-22T09:45:09.819415Z",
     "start_time": "2021-06-22T09:45:09.721325Z"
    }
   },
   "outputs": [
    {
     "data": {
      "image/png": "[encoded data removed]",
      "text/plain": [
       "<Figure size 432x288 with 1 Axes>"
      ]
     },
     "metadata": {
      "needs_background": "light"
     },
     "output_type": "display_data"
    }
   ],
   "source": [
    "plt.ylim(0, 1.0)\n",
    "\n",
    "plt.plot(index_train_list,train_losses)\n",
    "plt.ylabel('training loss')\n",
    "\n",
    "plt.plot(index_test_list,test_losses)\n",
    "plt.ylabel('training loss')\n",
    "\n",
    "plt.show()"
   ]
  },
  {
   "cell_type": "code",
   "execution_count": 19,
   "metadata": {
    "ExecuteTime": {
     "end_time": "2021-06-22T09:45:09.866280Z",
     "start_time": "2021-06-22T09:45:09.819415Z"
    }
   },
   "outputs": [],
   "source": [
    "torch.save(net, \"save/Deep_learning_F_normal_10_1\")"
   ]
  },
  {
   "cell_type": "code",
   "execution_count": 23,
   "metadata": {
    "ExecuteTime": {
     "end_time": "2021-06-22T09:50:43.154103Z",
     "start_time": "2021-06-22T09:49:11.504852Z"
    }
   },
   "outputs": [
    {
     "name": "stdout",
     "output_type": "stream",
     "text": [
      "9.22917134853598 9.003917435474373 0.22525391306160714 0.03282923704931129\n"
     ]
    }
   ],
   "source": [
    "denominator = 0\n",
    "result_list = []\n",
    "for index in range(len(testing_data)):\n",
    "    h_list = []\n",
    "    for i in range(Agent_number_n):\n",
    "        h = net.calculate(torch.tensor(testing_data[index][i]).cuda().type(torch.float32))\n",
    "        h_list.append(float(h))\n",
    "    \n",
    "    #print(sum(h_list),h_list,sum(h_list)/testing_label[index])\n",
    "    result_list.append(sum(h_list)/testing_label[index])\n",
    "    \n",
    "\n",
    "print(max(result_list),min(result_list),max(result_list)-min(result_list),sum(result_list)/len(result_list)-min(result_list))"
   ]
  },
  {
   "cell_type": "code",
   "execution_count": 24,
   "metadata": {
    "ExecuteTime": {
     "end_time": "2021-06-22T09:50:44.843116Z",
     "start_time": "2021-06-22T09:50:44.021876Z"
    }
   },
   "outputs": [
    {
     "data": {
      "image/png": "[encoded data removed]",
      "text/plain": [
       "<Figure size 432x288 with 1 Axes>"
      ]
     },
     "metadata": {
      "needs_background": "light"
     },
     "output_type": "display_data"
    }
   ],
   "source": [
    "plt.hist(result_list,bins=500)\n",
    "\n",
    "plt.title(\"Means\", y=1.015, fontsize=20)\n",
    "plt.axvline(x=sum(result_list)/len(result_list), linestyle='--', linewidth=2.5, label=\"sample mean\", c='orange')\n",
    "plt.xlabel(\"samples\", labelpad=14)\n",
    "plt.ylabel(\"frequency of occurence\", labelpad=14)\n",
    "plt.legend();\n",
    "\n",
    "result_list.sort()\n",
    "\n",
    "plt.axvline(x=result_list[int(len(result_list)*0.01)], linestyle='--', linewidth=0.5, label=\"1%\", c='b')\n",
    "plt.axvline(x=result_list[int(len(result_list)*0.99)], linestyle='--', linewidth=0.5, label=\"99%\", c='r')\n",
    "\n",
    "\n",
    "plt.show()"
   ]
  },
  {
   "cell_type": "code",
   "execution_count": null,
   "metadata": {},
   "outputs": [],
   "source": []
  },
  {
   "cell_type": "code",
   "execution_count": null,
   "metadata": {},
   "outputs": [],
   "source": []
  },
  {
   "cell_type": "code",
   "execution_count": null,
   "metadata": {},
   "outputs": [],
   "source": []
  }
 ],
 "metadata": {
  "hide_input": false,
  "kernelspec": {
   "display_name": "Python 3",
   "language": "python",
   "name": "python3"
  },
  "language_info": {
   "codemirror_mode": {
    "name": "ipython",
    "version": 3
   },
   "file_extension": ".py",
   "mimetype": "text/x-python",
   "name": "python",
   "nbconvert_exporter": "python",
   "pygments_lexer": "ipython3",
   "version": "3.8.3"
  },
  "varInspector": {
   "cols": {
    "lenName": 16,
    "lenType": 16,
    "lenVar": 40
   },
   "kernels_config": {
    "python": {
     "delete_cmd_postfix": "",
     "delete_cmd_prefix": "del ",
     "library": "var_list.py",
     "varRefreshCmd": "print(var_dic_list())"
    },
    "r": {
     "delete_cmd_postfix": ") ",
     "delete_cmd_prefix": "rm(",
     "library": "var_list.r",
     "varRefreshCmd": "cat(var_dic_list()) "
    }
   },
   "types_to_exclude": [
    "module",
    "function",
    "builtin_function_or_method",
    "instance",
    "_Feature"
   ],
   "window_display": false
  }
 },
 "nbformat": 4,
 "nbformat_minor": 4
}
