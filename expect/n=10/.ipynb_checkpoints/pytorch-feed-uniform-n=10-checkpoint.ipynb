{
 "cells": [
  {
   "cell_type": "code",
   "execution_count": 1,
   "metadata": {
    "ExecuteTime": {
     "end_time": "2021-06-22T08:07:08.490496Z",
     "start_time": "2021-06-22T08:07:03.165679Z"
    }
   },
   "outputs": [
    {
     "name": "stdout",
     "output_type": "stream",
     "text": [
      "pygame 2.0.1 (SDL 2.0.14, Python 3.8.3)\n",
      "Hello from the pygame community. https://www.pygame.org/contribute.html\n"
     ]
    },
    {
     "name": "stderr",
     "output_type": "stream",
     "text": [
      "D:\\ComputerSoftwares\\Anaconda\\lib\\site-packages\\sklearn\\utils\\deprecation.py:143: FutureWarning: The sklearn.datasets.samples_generator module is  deprecated in version 0.22 and will be removed in version 0.24. The corresponding classes / functions should instead be imported from sklearn.datasets. Anything that cannot be imported from sklearn.datasets is now part of the private API.\n",
      "  warnings.warn(message, FutureWarning)\n"
     ]
    },
    {
     "name": "stdout",
     "output_type": "stream",
     "text": [
      "cuda:0\n"
     ]
    }
   ],
   "source": [
    "\n",
    "import pygame\n",
    "import random\n",
    "import os\n",
    "import time\n",
    "import numpy as np\n",
    "import math\n",
    "import torch\n",
    "import torch.nn.functional\n",
    "import matplotlib.pyplot as plt\n",
    "import torch.optim as opt\n",
    "from torch.autograd import Variable\n",
    "from sklearn.model_selection import train_test_split\n",
    "\n",
    "import scipy.stats as st\n",
    "from sklearn.datasets.samples_generator import make_blobs\n",
    "from matplotlib.colors import LogNorm \n",
    "import matplotlib.cm as cm\n",
    "import torch.nn as nn\n",
    "import numpy as np\n",
    "import matplotlib.pyplot as plt\n",
    "import plotly.graph_objects as go\n",
    "import plotly.express as px\n",
    "from scipy.interpolate import griddata\n",
    "import torch.nn.functional as F\n",
    "import torch.distributions as D\n",
    "if torch.cuda.is_available():  \n",
    "    dev = \"cuda:0\" \n",
    "else:  \n",
    "    dev = \"cpu\"  \n",
    "\n",
    "print(dev)\n",
    "\n"
   ]
  },
  {
   "cell_type": "code",
   "execution_count": 2,
   "metadata": {
    "ExecuteTime": {
     "end_time": "2021-06-22T08:07:08.505695Z",
     "start_time": "2021-06-22T08:07:08.490496Z"
    },
    "run_control": {
     "marked": true
    }
   },
   "outputs": [],
   "source": [
    "global temp_list\n",
    "temp_list = []\n",
    "Agent_number_n=10;\n",
    "Alpha = 1.0;\n",
    "\n",
    "echo = 1001\n",
    "BATCH_SIZE = 64\n",
    "LR = 0.001           # learning rate for generator\n",
    "devided_number = 1\n",
    "\n",
    "def Generate_distribution(Agent_number_n):\n",
    "    return sorted(np.random.rand(Agent_number_n), reverse=True)\n",
    "    #return sorted(np.random.normal(normalloc,normalscale,Agent_number_n), reverse=True)\n",
    "Prior_Distribution = \"uniform\""
   ]
  },
  {
   "cell_type": "code",
   "execution_count": 3,
   "metadata": {
    "ExecuteTime": {
     "end_time": "2021-06-22T08:07:08.521686Z",
     "start_time": "2021-06-22T08:07:08.507695Z"
    }
   },
   "outputs": [],
   "source": [
    "new_input = 3\n",
    "def Dimensionality_reduction(data_sorted):\n",
    "    out_data = torch.ones(new_input).cuda()\n",
    "    out_data[0] = torch.max(data_sorted) \n",
    "    out_data[1] = torch.sum(data_sorted) \n",
    "    \n",
    "    temp_list = []\n",
    "    for i in range(len(data_sorted)-1):\n",
    "        temp_list.append(data_sorted[i] - data_sorted[i + 1])\n",
    "    \n",
    "    temp_tensor = torch.stack(temp_list)    \n",
    "    out_data[2] = torch.max(temp_tensor) \n",
    "    return out_data\n"
   ]
  },
  {
   "cell_type": "code",
   "execution_count": 4,
   "metadata": {
    "ExecuteTime": {
     "end_time": "2021-06-22T08:07:08.564800Z",
     "start_time": "2021-06-22T08:07:08.522648Z"
    },
    "run_control": {
     "marked": true
    }
   },
   "outputs": [],
   "source": [
    "uniformlow = 0\n",
    "uniformhigh = 1.0\n",
    "\n",
    "normalloc = 0.2\n",
    "normalscale = 0.1\n",
    "\n",
    "doublePeakHighMean = 0.9\n",
    "doublePeakLowMean = 0.1\n",
    "doublePeakStd = 0.04\n",
    "\n",
    "beta_a = 0.3\n",
    "beta_b = 0.2\n",
    "\n",
    "d_1 = D.uniform.Uniform(uniformlow, uniformhigh)\n",
    "distributionRatio_1 = d_1.cdf(1) - d_1.cdf(0)\n",
    "distributionBase_1 = d_1.cdf(0)\n",
    "\n",
    "d_2 = D.normal.Normal(normalloc, normalscale)\n",
    "distributionRatio_2 = d_2.cdf(1) - d_2.cdf(0)\n",
    "distributionBase_2 = d_2.cdf(0)\n",
    "\n",
    "d_3 = D.normal.Normal(doublePeakLowMean, doublePeakStd)\n",
    "d_4 = D.normal.Normal(doublePeakHighMean, doublePeakStd)\n",
    "distributionRatio_3 = (d_3.cdf(1) + d_4.cdf(1) - d_3.cdf(0) - d_4.cdf(0)) / 2\n",
    "distributionBase_3 = d_3.cdf(0) + d_4.cdf(0)\n",
    "\n",
    "# d_5 = D.beta.Beta(beta_a,beta_b)\n",
    "\n",
    "# d10 = D.beta.Beta(0.5,0.5)\n",
    "\n",
    "\n",
    "def cdf(x, y, i=None):\n",
    "    if (y == \"uniform\"):\n",
    "        return (d_1.cdf(x) - distributionBase_1) / distributionRatio_1\n",
    "    elif (y == \"normal\"):\n",
    "        return (d_2.cdf(x) - distributionBase_2) / distributionRatio_2\n",
    "    elif (y == \"twopeak\"):\n",
    "        return (d_3.cdf(x) + d_4.cdf(x) -\n",
    "                distributionBase_3) / 2 / distributionRatio_3\n",
    "\n",
    "\n",
    "def pdf(x, y, i=None):\n",
    "    x= x.cpu().type(torch.float32)\n",
    "    if (y == \"uniform\"):\n",
    "        return torch.pow(torch.tensor(10.0), d_1.log_prob(x)).to(dev)\n",
    "    elif (y == \"normal\"):\n",
    "        return torch.pow(torch.tensor(10.0), d_2.log_prob(x)).to(dev)\n",
    "    elif (y == \"twopeak\"):\n",
    "        return (torch.pow(torch.tensor(10.0), d_3.log_prob(x)) +\n",
    "                torch.pow(torch.tensor(10.0), d_4.log_prob(x))).to(dev) / 2 \n",
    "    \n",
    "def Generate_distribution(Agent_number_n):\n",
    "    return np.random.rand(Agent_number_n)\n",
    "    #return np.random.normal(normalloc,normalscale,Agent_number_n)\n"
   ]
  },
  {
   "cell_type": "code",
   "execution_count": 5,
   "metadata": {
    "ExecuteTime": {
     "end_time": "2021-06-22T08:07:09.785319Z",
     "start_time": "2021-06-22T08:07:08.565731Z"
    },
    "run_control": {
     "marked": false
    }
   },
   "outputs": [
    {
     "name": "stdout",
     "output_type": "stream",
     "text": [
      "tensor(10., device='cuda:0')\n",
      "tensor([1.], device='cuda:0')\n",
      "tensor([24.1906], device='cuda:0')\n"
     ]
    }
   ],
   "source": [
    "print(torch.tensor(10.0).to(dev))\n",
    "print(pdf(torch.ones(1)*0.2,\"uniform\"))\n",
    "print(pdf(torch.ones(1)*0.2,\"normal\"))\n"
   ]
  },
  {
   "cell_type": "code",
   "execution_count": 6,
   "metadata": {
    "ExecuteTime": {
     "end_time": "2021-06-22T08:07:10.484871Z",
     "start_time": "2021-06-22T08:07:09.786094Z"
    }
   },
   "outputs": [
    {
     "name": "stdout",
     "output_type": "stream",
     "text": [
      "[[[0.02938375 0.88031493 0.63856309 ... 0.86233187 0.61087378 0.99124839]\n",
      "  [0.46989812 0.88031493 0.63856309 ... 0.86233187 0.61087378 0.99124839]\n",
      "  [0.46989812 0.02938375 0.63856309 ... 0.86233187 0.61087378 0.99124839]\n",
      "  ...\n",
      "  [0.46989812 0.02938375 0.88031493 ... 0.52172677 0.61087378 0.99124839]\n",
      "  [0.46989812 0.02938375 0.88031493 ... 0.52172677 0.86233187 0.99124839]\n",
      "  [0.46989812 0.02938375 0.88031493 ... 0.52172677 0.86233187 0.61087378]]\n",
      "\n",
      " [[0.14813458 0.78795061 0.38468141 ... 0.0335204  0.40746777 0.04606105]\n",
      "  [0.77753014 0.78795061 0.38468141 ... 0.0335204  0.40746777 0.04606105]\n",
      "  [0.77753014 0.14813458 0.38468141 ... 0.0335204  0.40746777 0.04606105]\n",
      "  ...\n",
      "  [0.77753014 0.14813458 0.78795061 ... 0.94713621 0.40746777 0.04606105]\n",
      "  [0.77753014 0.14813458 0.78795061 ... 0.94713621 0.0335204  0.04606105]\n",
      "  [0.77753014 0.14813458 0.78795061 ... 0.94713621 0.0335204  0.40746777]]\n",
      "\n",
      " [[0.06297533 0.22549638 0.0983679  ... 0.15615567 0.94456651 0.38594161]\n",
      "  [0.41785406 0.22549638 0.0983679  ... 0.15615567 0.94456651 0.38594161]\n",
      "  [0.41785406 0.06297533 0.0983679  ... 0.15615567 0.94456651 0.38594161]\n",
      "  ...\n",
      "  [0.41785406 0.06297533 0.22549638 ... 0.61483331 0.94456651 0.38594161]\n",
      "  [0.41785406 0.06297533 0.22549638 ... 0.61483331 0.15615567 0.38594161]\n",
      "  [0.41785406 0.06297533 0.22549638 ... 0.61483331 0.15615567 0.94456651]]\n",
      "\n",
      " ...\n",
      "\n",
      " [[0.87528434 0.83133489 0.28213438 ... 0.2410615  0.92373191 0.2698561 ]\n",
      "  [0.03795342 0.83133489 0.28213438 ... 0.2410615  0.92373191 0.2698561 ]\n",
      "  [0.03795342 0.87528434 0.28213438 ... 0.2410615  0.92373191 0.2698561 ]\n",
      "  ...\n",
      "  [0.03795342 0.87528434 0.83133489 ... 0.40329342 0.92373191 0.2698561 ]\n",
      "  [0.03795342 0.87528434 0.83133489 ... 0.40329342 0.2410615  0.2698561 ]\n",
      "  [0.03795342 0.87528434 0.83133489 ... 0.40329342 0.2410615  0.92373191]]\n",
      "\n",
      " [[0.7274774  0.78247081 0.13156932 ... 0.24008571 0.4406448  0.56453242]\n",
      "  [0.0119999  0.78247081 0.13156932 ... 0.24008571 0.4406448  0.56453242]\n",
      "  [0.0119999  0.7274774  0.13156932 ... 0.24008571 0.4406448  0.56453242]\n",
      "  ...\n",
      "  [0.0119999  0.7274774  0.78247081 ... 0.46191972 0.4406448  0.56453242]\n",
      "  [0.0119999  0.7274774  0.78247081 ... 0.46191972 0.24008571 0.56453242]\n",
      "  [0.0119999  0.7274774  0.78247081 ... 0.46191972 0.24008571 0.4406448 ]]\n",
      "\n",
      " [[0.38403228 0.79868092 0.0104778  ... 0.24042194 0.70831001 0.7473831 ]\n",
      "  [0.38731361 0.79868092 0.0104778  ... 0.24042194 0.70831001 0.7473831 ]\n",
      "  [0.38731361 0.38403228 0.0104778  ... 0.24042194 0.70831001 0.7473831 ]\n",
      "  ...\n",
      "  [0.38731361 0.38403228 0.79868092 ... 0.52510958 0.70831001 0.7473831 ]\n",
      "  [0.38731361 0.38403228 0.79868092 ... 0.52510958 0.24042194 0.7473831 ]\n",
      "  [0.38731361 0.38403228 0.79868092 ... 0.52510958 0.24042194 0.70831001]]]\n",
      "[5.40535047 4.56628517 3.98570582 ... 4.69625681 4.96232576 4.94942338]\n"
     ]
    }
   ],
   "source": [
    "def h_3_star(a, b, t):\n",
    "    return a - min(a, t) + b - min(b, t) + max(min(a, t)+min(b, t), 2*t/3) + 1/2 * max(min(a, t)+min(b, t), t) - 1/2 * max(max(min(a, t), min(b, t)), 2*t/3) - t/6\n",
    "\n",
    "\n",
    "def f_function(a, b, z):\n",
    "    if(z >= 1):\n",
    "        return (a+b)/2 + z/3\n",
    "    else:\n",
    "        return z/3 + h_3_star(a, b, 1-z)/2\n",
    "\n",
    "def h_function_label(input_list):\n",
    "    #input_list = sorted(input_list)\n",
    "    g_list = []\n",
    "    for j1 in range(len(input_list) ):\n",
    "        for j2 in range(len(input_list)):\n",
    "            if(j1 != j2):\n",
    "                a = input_list[j1]\n",
    "                b = input_list[j2]\n",
    "                z = sum(input_list)- a-b\n",
    "\n",
    "                g_list.append( f_function(a, b, z) * (Agent_number_n-1))\n",
    "    h = sum(g_list) * 3 /  (Agent_number_n) /  (Agent_number_n-1) /  (Agent_number_n - 2)\n",
    "    return h\n",
    "\n",
    "def appen(_x_list,y):\n",
    "    global temp_list\n",
    "    temp_list.append(_x_list)\n",
    "    \n",
    "def appen_train(x_list):\n",
    "    global temp_list\n",
    "                \n",
    "    S= max(sum(x_list),1.0);\n",
    "    temp_list = []\n",
    "    h_list = []\n",
    "    for i in range(Agent_number_n):\n",
    "        temp = []\n",
    "        for j in range(Agent_number_n):\n",
    "            if(i!=j):\n",
    "                temp.append(x_list[j])\n",
    "        appen(temp,S)\n",
    "        \n",
    "        h = h_function_label(temp)\n",
    "        h_list.append(float(h))\n",
    "    temp_list = np.array(temp_list)\n",
    "    x_list = np.array(x_list)\n",
    "    return temp_list,S,x_list,h_list\n",
    "    \n",
    "\n",
    "def appen_test(x_list):\n",
    "    global temp_list\n",
    "                \n",
    "    S= max(sum(x_list),1.0);\n",
    "    temp_list = []\n",
    "    \n",
    "    for i in range(Agent_number_n):\n",
    "        temp = []\n",
    "        for j in range(Agent_number_n):\n",
    "            if(i!=j):\n",
    "                temp.append(x_list[j])\n",
    "        appen(temp,S)\n",
    "    testing_data.append(temp_list)\n",
    "    testing_label.append(S)\n",
    "    temp_list = np.array(temp_list)\n",
    "    return temp_list,S\n",
    "    \n",
    "\n",
    "def read_testing_data():\n",
    "    for i in range(10000):\n",
    "        appen_test(Generate_distribution(Agent_number_n));\n",
    "                            \n",
    "\n",
    "testing_data=[]\n",
    "testing_label=[]\n",
    "S=1.0\n",
    "read_testing_data();\n",
    "\n",
    "testing_data=np.array(testing_data)\n",
    "testing_label=np.array(testing_label)\n",
    "print(testing_data)\n",
    "print(testing_label)"
   ]
  },
  {
   "cell_type": "code",
   "execution_count": 7,
   "metadata": {
    "ExecuteTime": {
     "end_time": "2021-06-22T08:07:46.468902Z",
     "start_time": "2021-06-22T08:07:10.485158Z"
    }
   },
   "outputs": [
    {
     "name": "stdout",
     "output_type": "stream",
     "text": [
      "9.053312715797713 8.999999999999995 0.05331271579771801 9.00003851277792\n"
     ]
    }
   ],
   "source": [
    "def h_3_star(a, b, t):\n",
    "    return a - min(a, t) + b - min(b, t) + max(min(a, t)+min(b, t), 2*t/3) + 1/2 * max(min(a, t)+min(b, t), t) - 1/2 * max(max(min(a, t), min(b, t)), 2*t/3) - t/6\n",
    "\n",
    "\n",
    "def f_function(a, b, z):\n",
    "    if(z >= 1):\n",
    "        return (a+b)/2 + z/3\n",
    "    else:\n",
    "        return z/3 + h_3_star(a, b, 1-z)/2\n",
    "\n",
    "def h_function(input_list):\n",
    "    #input_list = sorted(input_list)\n",
    "    g_list = []\n",
    "    for j1 in range(len(input_list) ):\n",
    "        for j2 in range(len(input_list)):\n",
    "            if(j1 != j2):\n",
    "                a = input_list[j1]\n",
    "                b = input_list[j2]\n",
    "                z = sum(input_list)- a-b\n",
    "\n",
    "                g_list.append( f_function(a, b, z) * (Agent_number_n-1))\n",
    "    h = sum(g_list) * 3 /  (Agent_number_n) /  (Agent_number_n-1) /  (Agent_number_n - 2)\n",
    "    return h\n",
    "                \n",
    "                \n",
    "x_list = []\n",
    "y_list = []\n",
    "z_list = []\n",
    "result_list = []\n",
    "for index in range(len(testing_data)):\n",
    "    h_list = []\n",
    "    for i in range(Agent_number_n):\n",
    "        x_list.append(testing_data[index][i][0])\n",
    "        y_list.append(testing_data[index][i][1])\n",
    "        h = h_function(testing_data[index][i])\n",
    "        z_list.append(float(h))\n",
    "        h_list.append(float(h))\n",
    "    result_list.append(sum(h_list)/testing_label[index]) \n",
    "    \n",
    "    \n",
    "print(max(result_list), min(result_list), max(result_list)-min(result_list),sum(result_list)/len(result_list))"
   ]
  },
  {
   "cell_type": "code",
   "execution_count": 8,
   "metadata": {
    "ExecuteTime": {
     "end_time": "2021-06-22T08:07:47.324207Z",
     "start_time": "2021-06-22T08:07:46.470471Z"
    }
   },
   "outputs": [
    {
     "data": {
      "image/png": "[encoded data removed]",
      "text/plain": [
       "<Figure size 432x288 with 1 Axes>"
      ]
     },
     "metadata": {
      "needs_background": "light"
     },
     "output_type": "display_data"
    }
   ],
   "source": [
    "plt.hist(result_list,bins=500)\n",
    "\n",
    "plt.title(\"Means\", y=1.015, fontsize=20)\n",
    "plt.axvline(x=sum(result_list)/len(result_list), linestyle='--', linewidth=2.5, label=\"sample mean\", c='orange')\n",
    "plt.xlabel(\"samples\", labelpad=14)\n",
    "plt.ylabel(\"frequency of occurence\", labelpad=14)\n",
    "plt.legend();\n",
    "\n",
    "result_list.sort()\n",
    "\n",
    "plt.axvline(x=result_list[int(len(result_list)*0.01)], linestyle='--', linewidth=0.5, label=\"1%\", c='b')\n",
    "plt.axvline(x=result_list[int(len(result_list)*0.99)], linestyle='--', linewidth=0.5, label=\"99%\", c='r')\n",
    "\n",
    "\n",
    "plt.show()"
   ]
  },
  {
   "cell_type": "code",
   "execution_count": 9,
   "metadata": {
    "ExecuteTime": {
     "end_time": "2021-06-22T08:07:47.651616Z",
     "start_time": "2021-06-22T08:07:47.325204Z"
    }
   },
   "outputs": [
    {
     "name": "stdout",
     "output_type": "stream",
     "text": [
      "tensor([0.8822], device='cuda:0', grad_fn=<SortBackward>)\n"
     ]
    }
   ],
   "source": [
    "tensor_sample_list,indices = torch.sort(torch.rand(devided_number,requires_grad=True).to(dev))  # random ideas\\n\n",
    "print(tensor_sample_list)"
   ]
  },
  {
   "cell_type": "code",
   "execution_count": 10,
   "metadata": {
    "ExecuteTime": {
     "end_time": "2021-06-22T08:07:47.681412Z",
     "start_time": "2021-06-22T08:07:47.653609Z"
    },
    "run_control": {
     "marked": true
    }
   },
   "outputs": [
    {
     "name": "stdout",
     "output_type": "stream",
     "text": [
      "tensor([0.8822], device='cuda:0', grad_fn=<DivBackward0>)\n",
      "tensor([1.], device='cuda:0', grad_fn=<DivBackward0>)\n"
     ]
    }
   ],
   "source": [
    "print(cdf(tensor_sample_list,Prior_Distribution))\n",
    "print(cdf(tensor_sample_list,\"normal\"))"
   ]
  },
  {
   "cell_type": "code",
   "execution_count": 11,
   "metadata": {
    "ExecuteTime": {
     "end_time": "2021-06-22T08:07:47.712653Z",
     "start_time": "2021-06-22T08:07:47.681412Z"
    },
    "run_control": {
     "marked": true
    }
   },
   "outputs": [],
   "source": [
    "def weight_init(m):\n",
    "    if isinstance(m, torch.nn.Conv2d):\n",
    "        torch.nn.init.xavier_normal_(m.weight)\n",
    "        torch.nn.init.zeros_(m.bias)\n",
    "    elif isinstance(m, torch.nn.Linear):\n",
    "        torch.nn.init.xavier_normal_(m.weight)\n",
    "        torch.nn.init.normal_(m.bias, mean=0.0, std=0.01)\n",
    "\n",
    "\n",
    "\n",
    "def redistribution_value_function(input_tensor):\n",
    "    S = torch.max(torch.sum(input_tensor), torch.ones(1).to(dev))\n",
    "    temp_list = []\n",
    "\n",
    "    for i in range(Agent_number_n):\n",
    "        temp = []\n",
    "\n",
    "        for j in range(Agent_number_n):\n",
    "            if(i != j):\n",
    "                temp .append(input_tensor[j])\n",
    "\n",
    "        temp = torch.stack(temp)\n",
    "        temp_list.append(temp)\n",
    "    return torch.stack(temp_list), S\n",
    "\n",
    "\n",
    "class Net(torch.nn.Module):\n",
    "    def __init__(self):\n",
    "\n",
    "        super(Net, self).__init__()\n",
    "\n",
    "        self.input_dim = new_input#(Agent_number_n-1)\n",
    "        self.hidden_dim = 128\n",
    "        self.output_dim = 1\n",
    "        self.hidden_layer_count = 6\n",
    "\n",
    "        current_dim = self.input_dim\n",
    "        self.layers = torch.nn.ModuleList()\n",
    "        for i in range(self.hidden_layer_count):\n",
    "            self.layers.append(torch.nn.Linear(current_dim, self.hidden_dim))\n",
    "            current_dim = self.hidden_dim\n",
    "        self.layers.append(torch.nn.Linear(current_dim, self.output_dim))\n",
    "\n",
    "    def calculate(self, value_list):\n",
    "        h = Dimensionality_reduction(value_list)\n",
    "        #h = value_list           ####Dimensionality_reduction\n",
    "        for layer in self.layers:\n",
    "            h = torch.relu(layer(h))\n",
    "        return h\n",
    "\n",
    "    def forward(self, input_list, input_label, input_data):\n",
    "        global iteration, echo, target_order\n",
    "        loss1 = 0\n",
    "        loss2 = 0\n",
    "        input_list = torch.from_numpy(\n",
    "            np.array(input_list)).to(dev).type(torch.float32)\n",
    "\n",
    "        input_data = torch.from_numpy(\n",
    "            np.array(input_data)).to(dev).type(torch.float32)\n",
    "        \n",
    "        input_label = torch.from_numpy(\n",
    "            np.array(input_label)).to(dev).type(torch.float32)\n",
    "        \n",
    "        \n",
    "        random_index = random.randint(0, Agent_number_n-1)\n",
    "        tensor_sample_list,indices = torch.sort(torch.rand(devided_number,requires_grad=True).to(dev))\n",
    "     \n",
    "        tensor_sample = torch.rand(devided_number,requires_grad=True)[0].to(dev)\n",
    "    \n",
    "        input_data_temp = input_data.detach().clone()\n",
    "        \n",
    "        input_data_temp[random_index] = tensor_sample\n",
    "\n",
    "        value_list_tensor, S_tensor = redistribution_value_function(\n",
    "            input_data_temp)\n",
    "       \n",
    "        h_list = []\n",
    "        for i in range(Agent_number_n):\n",
    "            h = self.calculate(\n",
    "                value_list_tensor[i].to(dev).type(torch.float32))\n",
    "            h_list.append(h)\n",
    "            \n",
    "        S_tensor = S_tensor.detach().to(dev).type(torch.float32)\n",
    "        \n",
    "        sum_h = torch.sum(torch.cat(h_list)).to(dev)\n",
    "        \n",
    "        temp_loss1 = torch.where((Agent_number_n-1)*S_tensor > sum_h,\n",
    "                 torch.square(((Agent_number_n-1)*S_tensor - sum_h)),\n",
    "                 torch.zeros(1).to(dev)\n",
    "              )\n",
    "\n",
    "        temp_loss2 = torch.where((Agent_number_n-Alpha)*S_tensor < sum_h,\n",
    "                    torch.square((sum_h-(Agent_number_n-Alpha)*S_tensor))/10000,\n",
    "                    torch.zeros(1).to(dev)\n",
    "                  )\n",
    "\n",
    "\n",
    "        loss1 = temp_loss1 * pdf(tensor_sample, Prior_Distribution)\n",
    "        loss2 = temp_loss2 * pdf(tensor_sample, Prior_Distribution)\n",
    "                \n",
    "        return loss1, loss2\n",
    "    \n",
    "    def supervised_loss(self, input_list,label):\n",
    "        global iteration,echo,target_order\n",
    "        input_list = torch.from_numpy(\n",
    "            np.array(input_list)).to(dev).type(torch.float32)\n",
    "        loss = 0 \n",
    "        for i in range(Agent_number_n):\n",
    "            h = self.calculate(input_list[i])\n",
    "            loss += torch.square(h - label[i])\n",
    "        return loss"
   ]
  },
  {
   "cell_type": "code",
   "execution_count": 12,
   "metadata": {
    "ExecuteTime": {
     "end_time": "2021-06-22T08:07:47.728311Z",
     "start_time": "2021-06-22T08:07:47.712653Z"
    }
   },
   "outputs": [],
   "source": [
    "random.seed(200)\n",
    "torch.manual_seed(256)\n",
    "net  = Net()\n",
    "net.apply(weight_init)\n",
    "#net = torch.load(\"save/Deep_learning_F_uniform_10_1\")\n",
    "net.to(dev)\n",
    "\n",
    "#optimizer = opt.RMSprop(net.parameters(), lr=0.00001)\n",
    "#optimizer = opt.SGD(net.parameters(), lr=0.00005)\n",
    "optimizer = opt.Adam(net.parameters(), lr=LR)\n",
    "#optimizer = opt.Adadelta(net.parameters(), lr=1.0)\n",
    "\n",
    "scheduler = torch.optim.lr_scheduler.StepLR(optimizer, step_size=100, gamma=0.98)\n",
    "index_train_list = []\n",
    "index_test_list = []\n",
    "train_losses = []\n",
    "test_losses = []"
   ]
  },
  {
   "cell_type": "code",
   "execution_count": 13,
   "metadata": {
    "ExecuteTime": {
     "end_time": "2021-06-22T08:26:56.759785Z",
     "start_time": "2021-06-22T08:07:47.728311Z"
    }
   },
   "outputs": [
    {
     "name": "stdout",
     "output_type": "stream",
     "text": [
      "0 tensor(215.9843, device='cuda:0', grad_fn=<DivBackward0>) 13822.998046875\n",
      "50 tensor(211.2056, device='cuda:0', grad_fn=<DivBackward0>) 13517.1611328125\n",
      "100 tensor(3.9204, device='cuda:0', grad_fn=<DivBackward0>) 250.90623474121094\n",
      "150 tensor(0.0488, device='cuda:0', grad_fn=<DivBackward0>) 3.125051259994507\n",
      "200 tensor(0.0118, device='cuda:0', grad_fn=<DivBackward0>) 0.7522174119949341\n",
      "250 tensor(0.0061, device='cuda:0', grad_fn=<DivBackward0>) 0.3917884826660156\n",
      "300 tensor(0.0038, device='cuda:0', grad_fn=<DivBackward0>) 0.2418130785226822\n",
      "350 tensor(0.0028, device='cuda:0', grad_fn=<DivBackward0>) 0.17600397765636444\n",
      "400 tensor(0.0025, device='cuda:0', grad_fn=<DivBackward0>) 0.15858981013298035\n",
      "450 tensor(0.0014, device='cuda:0', grad_fn=<DivBackward0>) 0.09138224273920059\n",
      "500 tensor(0.0009, device='cuda:0', grad_fn=<DivBackward0>) 0.056176405400037766\n",
      "550 tensor(0.0006, device='cuda:0', grad_fn=<DivBackward0>) 0.03700757771730423\n",
      "600 tensor(0.0004, device='cuda:0', grad_fn=<DivBackward0>) 0.023417653515934944\n",
      "650 tensor(0.0002, device='cuda:0', grad_fn=<DivBackward0>) 0.011842506937682629\n",
      "700 tensor(9.4268e-05, device='cuda:0', grad_fn=<DivBackward0>) 0.006033174227923155\n",
      "750 tensor(5.4473e-05, device='cuda:0', grad_fn=<DivBackward0>) 0.0034862523898482323\n",
      "800 tensor(2.9414e-05, device='cuda:0', grad_fn=<DivBackward0>) 0.0018825206207111478\n",
      "850 tensor(1.5012e-05, device='cuda:0', grad_fn=<DivBackward0>) 0.0009607665124349296\n",
      "900 tensor(1.5196e-05, device='cuda:0', grad_fn=<DivBackward0>) 0.0009725690470077097\n",
      "950 tensor(1.4167e-05, device='cuda:0', grad_fn=<DivBackward0>) 0.0009067154605872929\n"
     ]
    }
   ],
   "source": [
    "#supervised\n",
    "index_supervisedtrain_list = []\n",
    "supervisedtrain_losses = []\n",
    "for iteration in range(1000):\n",
    "\n",
    "    temp_number = 0\n",
    "    total_batch_loss = 0 \n",
    "    \n",
    "    loss_sum = 0\n",
    "    denominator = 0\n",
    "    for index in range(0, BATCH_SIZE):\n",
    "        training_data_i, training_S, training_data,label = appen_train(\n",
    "            Generate_distribution(Agent_number_n))\n",
    "        h_loss = net.supervised_loss(training_data_i, label)\n",
    "        denominator += 1\n",
    "        loss_sum += h_loss\n",
    "\n",
    "    loss_sum = torch.sum(loss_sum)\n",
    "    loss = (loss_sum) / denominator \n",
    "    total_batch_loss += float(loss_sum)\n",
    "\n",
    "    optimizer.zero_grad()\n",
    "    loss.backward()\n",
    "    optimizer.step()\n",
    "\n",
    "    if (iteration%50 == 0):\n",
    "        print(iteration,loss,total_batch_loss)\n",
    "        index_supervisedtrain_list.append(iteration)\n",
    "        supervisedtrain_losses.append(total_batch_loss)\n",
    "    scheduler.step()"
   ]
  },
  {
   "cell_type": "code",
   "execution_count": 14,
   "metadata": {
    "ExecuteTime": {
     "end_time": "2021-06-22T08:26:56.875725Z",
     "start_time": "2021-06-22T08:26:56.759785Z"
    }
   },
   "outputs": [
    {
     "data": {
      "image/png": "[encoded data removed]",
      "text/plain": [
       "<Figure size 432x288 with 1 Axes>"
      ]
     },
     "metadata": {
      "needs_background": "light"
     },
     "output_type": "display_data"
    }
   ],
   "source": [
    "plt.ylim(0, 0.1)\n",
    "plt.plot(index_supervisedtrain_list ,supervisedtrain_losses)\n",
    "plt.ylabel('supervised train loss')\n",
    "\n",
    "plt.show()"
   ]
  },
  {
   "cell_type": "code",
   "execution_count": 15,
   "metadata": {
    "ExecuteTime": {
     "end_time": "2021-06-22T08:26:56.891047Z",
     "start_time": "2021-06-22T08:26:56.877086Z"
    }
   },
   "outputs": [],
   "source": [
    "optimizer = opt.Adam(net.parameters(), lr=LR/100)\n",
    "#optimizer = opt.Adadelta(net.parameters(), lr=1.0)\n",
    "\n",
    "scheduler = torch.optim.lr_scheduler.StepLR(optimizer, step_size=100, gamma=0.98)"
   ]
  },
  {
   "cell_type": "code",
   "execution_count": 16,
   "metadata": {
    "ExecuteTime": {
     "end_time": "2021-06-22T09:45:14.734091Z",
     "start_time": "2021-06-22T08:26:56.892045Z"
    }
   },
   "outputs": [
    {
     "name": "stdout",
     "output_type": "stream",
     "text": [
      "0 tensor(4.6912e-05, device='cuda:0', grad_fn=<DivBackward0>) 0.0030021960847079754 1.6362275800929638e-07\n",
      "batch iteration 0\n",
      "batch_loss: 0.0030 \n",
      "9.074144743597538 8.993902469733202 0.0802422738643358 0.03223543074851065\n",
      "\n",
      "50 tensor(1.1177e-07, device='cuda:0', grad_fn=<DivBackward0>) 0.0 7.1534723247168586e-06\n",
      "batch iteration 50\n",
      "batch_loss: 0.0000 \n",
      "9.063800471056382 8.989576703143609 0.0742237679127733 0.028619393044969854\n",
      "\n",
      "100 tensor(1.0496e-06, device='cuda:0', grad_fn=<DivBackward0>) 0.0 6.717542419210076e-05\n",
      "batch iteration 100\n",
      "batch_loss: 0.0001 \n",
      "9.071239973320562 8.998349605563911 0.07289036775665103 0.02178903773715568\n",
      "\n",
      "150 tensor(1.1173e-06, device='cuda:0', grad_fn=<DivBackward0>) 0.0 7.150571764213964e-05\n",
      "batch iteration 150\n",
      "batch_loss: 0.0001 \n",
      "9.07363836470648 9.001332918499143 0.07230544620733781 0.01864988393082534\n",
      "\n",
      "200 tensor(6.3193e-06, device='cuda:0', grad_fn=<DivBackward0>) 0.0 0.0004044368979521096\n",
      "batch iteration 200\n",
      "batch_loss: 0.0004 \n",
      "9.10788918928452 9.03607256151073 0.07181662777379039 0.020913144647030535\n",
      "\n",
      "250 tensor(8.2144e-06, device='cuda:0', grad_fn=<DivBackward0>) 0.0 0.0005257234442979097\n",
      "batch iteration 250\n",
      "batch_loss: 0.0005 \n",
      "9.106121818519924 9.035295121111535 0.0708266974083891 0.01807744348007745\n",
      "\n",
      "300 tensor(1.4141e-06, device='cuda:0', grad_fn=<DivBackward0>) 0.0 9.050136577570811e-05\n",
      "batch iteration 300\n",
      "batch_loss: 0.0001 \n",
      "9.073181481058171 9.003268301573012 0.06991317948515885 0.01634826176603177\n",
      "\n",
      "350 tensor(2.0692e-05, device='cuda:0', grad_fn=<DivBackward0>) 0.0 0.001324257580563426\n",
      "batch iteration 350\n",
      "batch_loss: 0.0013 \n",
      "9.139684781650164 9.067655117593684 0.0720296640564797 0.01758929298432932\n",
      "\n",
      "400 tensor(1.0287e-07, device='cuda:0', grad_fn=<DivBackward0>) 0.0 6.58396174912923e-06\n",
      "batch iteration 400\n",
      "batch_loss: 0.0000 \n",
      "9.060683261834093 8.991394846586473 0.06928841524761964 0.023612958341793444\n",
      "\n",
      "450 tensor(1.2069e-07, device='cuda:0', grad_fn=<DivBackward0>) 0.0 7.724121132923756e-06\n",
      "batch iteration 450\n",
      "batch_loss: 0.0000 \n",
      "9.060916571564924 8.99194061585853 0.06897595570639403 0.023170235620344926\n",
      "\n",
      "500 tensor(4.8407e-08, device='cuda:0', grad_fn=<DivBackward0>) 0.0 3.0980661449575564e-06\n",
      "batch iteration 500\n",
      "batch_loss: 0.0000 \n",
      "9.059029980810436 8.990377310655518 0.06865267015491838 0.02252288949832426\n",
      "\n",
      "550 tensor(0.0001, device='cuda:0', grad_fn=<DivBackward0>) 0.0 0.006556964013725519\n",
      "batch iteration 550\n",
      "batch_loss: 0.0066 \n",
      "9.233700732907321 9.164890710749054 0.06881002215826726 0.024408084548573683\n",
      "\n",
      "600 tensor(2.0845e-06, device='cuda:0', grad_fn=<DivBackward0>) 0.0 0.00013340760779101402\n",
      "batch iteration 600\n",
      "batch_loss: 0.0001 \n",
      "9.057710923846464 8.998069989663405 0.05964093418305971 0.02954305732870033\n",
      "\n",
      "650 tensor(1.1259e-06, device='cuda:0', grad_fn=<DivBackward0>) 0.0 7.205708971014246e-05\n",
      "batch iteration 650\n",
      "batch_loss: 0.0001 \n",
      "9.056830678062896 8.996631646462301 0.06019903160059492 0.02465352831100809\n",
      "\n",
      "700 tensor(2.7185e-07, device='cuda:0', grad_fn=<DivBackward0>) 0.0 1.739856816129759e-05\n",
      "batch iteration 700\n",
      "batch_loss: 0.0000 \n",
      "9.05103180609484 8.991154792350814 0.05987701374402654 0.026333939283780694\n",
      "\n",
      "750 tensor(5.9195e-07, device='cuda:0', grad_fn=<DivBackward0>) 0.0 3.788485992117785e-05\n",
      "batch iteration 750\n",
      "batch_loss: 0.0000 \n",
      "9.06270288927168 9.001669853387968 0.06103303588371212 0.012984034144649215\n",
      "\n",
      "800 tensor(2.0062e-06, device='cuda:0', grad_fn=<DivBackward0>) 0.0 0.00012839448754675686\n",
      "batch iteration 800\n",
      "batch_loss: 0.0001 \n",
      "9.08482230742584 9.023614849285913 0.06120745813992734 0.0038882755203140107\n",
      "\n",
      "850 tensor(4.0338e-08, device='cuda:0', grad_fn=<DivBackward0>) 0.0 2.581616627139738e-06\n",
      "batch iteration 850\n",
      "batch_loss: 0.0000 \n",
      "9.060032011708373 8.99889826939093 0.06113374231744295 0.004626970589516333\n",
      "\n",
      "900 tensor(9.5020e-08, device='cuda:0', grad_fn=<DivBackward0>) 0.0 6.0813090385636315e-06\n",
      "batch iteration 900\n",
      "batch_loss: 0.0000 \n",
      "9.061530743982296 8.999954984062827 0.061575759919469064 0.003240981410016275\n",
      "\n",
      "950 tensor(3.6619e-08, device='cuda:0', grad_fn=<DivBackward0>) 0.0 2.3436157334799645e-06\n",
      "batch iteration 950\n",
      "batch_loss: 0.0000 \n",
      "9.061292187405943 8.999390178744395 0.061902008661547825 0.0035819191214780943\n",
      "\n",
      "1000 tensor(2.2285e-08, device='cuda:0', grad_fn=<DivBackward0>) 0.0 1.4262615195548278e-06\n",
      "batch iteration 1000\n",
      "batch_loss: 0.0000 \n",
      "9.061870389782353 8.999745800325385 0.06212458945696753 0.0030514495069002834\n",
      "\n"
     ]
    }
   ],
   "source": [
    "for iteration in range(int(echo)):\n",
    "    \n",
    "    temp_number = 0\n",
    "    total_batch_loss = 0 \n",
    "        \n",
    "    loss2_list = []\n",
    "    loss1_sum = 0\n",
    "    loss2_sum = 0\n",
    "    denominator = 0\n",
    "    for index in range(0, BATCH_SIZE):\n",
    "        training_data_i, training_label, training_data,label = appen_train(\n",
    "            Generate_distribution(Agent_number_n))\n",
    "        h_loss1, h_loss2 = net(training_data_i, training_label,\n",
    "                                       training_data)\n",
    "        denominator += 1\n",
    "        loss1_sum += h_loss1\n",
    "        loss2_sum += h_loss2\n",
    "\n",
    "    loss_sum = torch.sum(loss1_sum + loss2_sum)\n",
    "    loss = (loss_sum) / denominator \n",
    "    total_batch_loss +=float(loss_sum)\n",
    "    optimizer.zero_grad()\n",
    "\n",
    "    loss.backward()\n",
    "\n",
    "    optimizer.step()\n",
    "\n",
    "    temp_number = iteration\n",
    "    index_train_list.append(iteration)\n",
    "    train_losses.append(total_batch_loss)\n",
    "    if (iteration%50 == 0):\n",
    "        print(temp_number, loss, float(loss1_sum), float(loss2_sum))\n",
    "\n",
    "        print(\"batch iteration\", iteration)\n",
    "        print(\"batch_loss: %.4f \" % total_batch_loss)\n",
    "\n",
    "        result_list = []\n",
    "        for index in range(len(testing_data)):\n",
    "            h_list = []\n",
    "            for i in range(Agent_number_n):\n",
    "                h = net.calculate(\n",
    "                    torch.tensor(testing_data[index][i]).to(dev).type(\n",
    "                        torch.float32))\n",
    "                h_list.append(float(h))\n",
    "            result_list.append(sum(h_list) / testing_label[index])\n",
    "        print(max(result_list), min(result_list),\n",
    "              max(result_list) - min(result_list),\n",
    "              (sum(result_list) / len(result_list) - min(result_list))+ Agent_number_n-1 - min(min(result_list),Agent_number_n-1) )\n",
    "\n",
    "        index_test_list.append(iteration)\n",
    "        test_losses.append(\n",
    "            (sum(result_list) / len(result_list) - min(result_list))+ Agent_number_n-1 - min(min(result_list),Agent_number_n-1) )\n",
    "        print()\n",
    "        \n",
    "    scheduler.step()\n"
   ]
  },
  {
   "cell_type": "code",
   "execution_count": 17,
   "metadata": {
    "ExecuteTime": {
     "end_time": "2021-06-22T09:45:14.851405Z",
     "start_time": "2021-06-22T09:45:14.734091Z"
    }
   },
   "outputs": [
    {
     "data": {
      "image/png": "[encoded data removed]",
      "text/plain": [
       "<Figure size 432x288 with 1 Axes>"
      ]
     },
     "metadata": {
      "needs_background": "light"
     },
     "output_type": "display_data"
    }
   ],
   "source": [
    "plt.ylim(0, 1.0)\n",
    "plt.plot(index_test_list,test_losses)\n",
    "plt.ylabel('Testing Loss')\n",
    "plt.xlabel('Batch Epoch')\n",
    "plt.show()\n",
    "\n"
   ]
  },
  {
   "cell_type": "code",
   "execution_count": 18,
   "metadata": {
    "ExecuteTime": {
     "end_time": "2021-06-22T09:45:15.016104Z",
     "start_time": "2021-06-22T09:45:14.851405Z"
    }
   },
   "outputs": [
    {
     "data": {
      "image/png": "[encoded data removed]",
      "text/plain": [
       "<Figure size 432x288 with 1 Axes>"
      ]
     },
     "metadata": {
      "needs_background": "light"
     },
     "output_type": "display_data"
    }
   ],
   "source": [
    "import csv\n",
    "with open('save/test_loss_feed_uniform_10.csv', 'w', newline='') as csvfile_feed:\n",
    "    spamwriter = csv.writer(csvfile_feed)\n",
    "    spamwriter.writerow(index_test_list)\n",
    "    spamwriter.writerow(test_losses)\n",
    "\n",
    "with open('save/test_loss_unfeed_uniform_10.csv') as csvfile_unfeed:\n",
    "    reader = csv.reader(csvfile_unfeed)\n",
    "    list_feed = []\n",
    "    for row in reader:\n",
    "        row = np.array(row)\n",
    "        temp_list = []\n",
    "        for i in range(len(row)):\n",
    "            temp_list.append(float(row[i]))\n",
    "\n",
    "        list_feed.append(temp_list)\n",
    "    plt.ylim(0, 1.0)\n",
    "    plt.plot(list_feed[0],list_feed[1],label='neural network')\n",
    "    plt.plot(index_test_list,test_losses,label='feed distribution')\n",
    "    plt.ylabel('Testing Loss')\n",
    "    plt.xlabel('Batch Epoch')\n",
    "    #plt.title('Two or more lines on same plot with suitable legends ')\n",
    "    # show a legend on the plot\n",
    "    plt.legend()\n",
    "    plt.show()"
   ]
  },
  {
   "cell_type": "code",
   "execution_count": 19,
   "metadata": {
    "ExecuteTime": {
     "end_time": "2021-06-22T09:45:15.116986Z",
     "start_time": "2021-06-22T09:45:15.016104Z"
    }
   },
   "outputs": [
    {
     "data": {
      "image/png": "[encoded data removed]",
      "text/plain": [
       "<Figure size 432x288 with 1 Axes>"
      ]
     },
     "metadata": {
      "needs_background": "light"
     },
     "output_type": "display_data"
    }
   ],
   "source": [
    "plt.ylim(0, 1.0)\n",
    "\n",
    "plt.plot(index_train_list,train_losses)\n",
    "plt.ylabel('training loss')\n",
    "\n",
    "plt.plot(index_test_list,test_losses)\n",
    "plt.ylabel('training loss')\n",
    "\n",
    "plt.show()"
   ]
  },
  {
   "cell_type": "code",
   "execution_count": 20,
   "metadata": {
    "ExecuteTime": {
     "end_time": "2021-06-22T09:45:15.217219Z",
     "start_time": "2021-06-22T09:45:15.118567Z"
    }
   },
   "outputs": [],
   "source": [
    "torch.save(net, \"save/Deep_learning_F_uniform_10_1\")"
   ]
  },
  {
   "cell_type": "code",
   "execution_count": 21,
   "metadata": {
    "ExecuteTime": {
     "end_time": "2021-06-22T09:46:59.141581Z",
     "start_time": "2021-06-22T09:45:15.217219Z"
    }
   },
   "outputs": [
    {
     "name": "stdout",
     "output_type": "stream",
     "text": [
      "9.061870389782353 8.999745800325385 0.06212458945696753 0.0027972498322856865\n"
     ]
    }
   ],
   "source": [
    "denominator = 0\n",
    "result_list = []\n",
    "for index in range(len(testing_data)):\n",
    "    h_list = []\n",
    "    for i in range(Agent_number_n):\n",
    "        h = net.calculate(torch.tensor(testing_data[index][i]).cuda().type(torch.float32))\n",
    "        h_list.append(float(h))\n",
    "    \n",
    "    #print(sum(h_list),h_list,sum(h_list)/testing_label[index])\n",
    "    result_list.append(sum(h_list)/testing_label[index])\n",
    "    \n",
    "\n",
    "print(max(result_list),min(result_list),max(result_list)-min(result_list),sum(result_list)/len(result_list)-min(result_list))"
   ]
  },
  {
   "cell_type": "code",
   "execution_count": 22,
   "metadata": {
    "ExecuteTime": {
     "end_time": "2021-06-22T09:46:59.988310Z",
     "start_time": "2021-06-22T09:46:59.142718Z"
    }
   },
   "outputs": [
    {
     "data": {
      "image/png": "[encoded data removed]",
      "text/plain": [
       "<Figure size 432x288 with 1 Axes>"
      ]
     },
     "metadata": {
      "needs_background": "light"
     },
     "output_type": "display_data"
    }
   ],
   "source": [
    "plt.hist(result_list,bins=500)\n",
    "\n",
    "plt.title(\"Means\", y=1.015, fontsize=20)\n",
    "plt.axvline(x=sum(result_list)/len(result_list), linestyle='--', linewidth=2.5, label=\"sample mean\", c='orange')\n",
    "plt.xlabel(\"samples\", labelpad=14)\n",
    "plt.ylabel(\"frequency of occurence\", labelpad=14)\n",
    "plt.legend();\n",
    "\n",
    "result_list.sort()\n",
    "\n",
    "plt.axvline(x=result_list[int(len(result_list)*0.01)], linestyle='--', linewidth=0.5, label=\"1%\", c='b')\n",
    "plt.axvline(x=result_list[int(len(result_list)*0.99)], linestyle='--', linewidth=0.5, label=\"99%\", c='r')\n",
    "\n",
    "\n",
    "plt.show()"
   ]
  },
  {
   "cell_type": "code",
   "execution_count": null,
   "metadata": {},
   "outputs": [],
   "source": []
  },
  {
   "cell_type": "code",
   "execution_count": null,
   "metadata": {},
   "outputs": [],
   "source": []
  }
 ],
 "metadata": {
  "hide_input": false,
  "kernelspec": {
   "display_name": "Python 3",
   "language": "python",
   "name": "python3"
  },
  "language_info": {
   "codemirror_mode": {
    "name": "ipython",
    "version": 3
   },
   "file_extension": ".py",
   "mimetype": "text/x-python",
   "name": "python",
   "nbconvert_exporter": "python",
   "pygments_lexer": "ipython3",
   "version": "3.8.3"
  },
  "varInspector": {
   "cols": {
    "lenName": 16,
    "lenType": 16,
    "lenVar": 40
   },
   "kernels_config": {
    "python": {
     "delete_cmd_postfix": "",
     "delete_cmd_prefix": "del ",
     "library": "var_list.py",
     "varRefreshCmd": "print(var_dic_list())"
    },
    "r": {
     "delete_cmd_postfix": ") ",
     "delete_cmd_prefix": "rm(",
     "library": "var_list.r",
     "varRefreshCmd": "cat(var_dic_list()) "
    }
   },
   "types_to_exclude": [
    "module",
    "function",
    "builtin_function_or_method",
    "instance",
    "_Feature"
   ],
   "window_display": false
  }
 },
 "nbformat": 4,
 "nbformat_minor": 4
}
