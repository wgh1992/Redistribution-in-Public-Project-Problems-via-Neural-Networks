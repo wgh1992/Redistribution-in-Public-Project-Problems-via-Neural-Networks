{
 "cells": [
  {
   "cell_type": "code",
   "execution_count": 1,
   "metadata": {
    "ExecuteTime": {
     "end_time": "2021-06-24T07:00:17.910682Z",
     "start_time": "2021-06-24T07:00:16.305211Z"
    }
   },
   "outputs": [
    {
     "name": "stdout",
     "output_type": "stream",
     "text": [
      "pygame 2.0.1 (SDL 2.0.14, Python 3.8.3)\n",
      "Hello from the pygame community. https://www.pygame.org/contribute.html\n"
     ]
    },
    {
     "name": "stderr",
     "output_type": "stream",
     "text": [
      "D:\\ComputerSoftwares\\Anaconda\\lib\\site-packages\\sklearn\\utils\\deprecation.py:143: FutureWarning: The sklearn.datasets.samples_generator module is  deprecated in version 0.22 and will be removed in version 0.24. The corresponding classes / functions should instead be imported from sklearn.datasets. Anything that cannot be imported from sklearn.datasets is now part of the private API.\n",
      "  warnings.warn(message, FutureWarning)\n"
     ]
    },
    {
     "name": "stdout",
     "output_type": "stream",
     "text": [
      "cuda:0\n"
     ]
    }
   ],
   "source": [
    "\n",
    "import pygame\n",
    "import random\n",
    "import os\n",
    "import time\n",
    "import numpy as np\n",
    "import math\n",
    "import torch\n",
    "import torch.nn.functional\n",
    "import matplotlib.pyplot as plt\n",
    "import torch.optim as opt\n",
    "from torch.autograd import Variable\n",
    "from sklearn.model_selection import train_test_split\n",
    "\n",
    "import scipy.stats as st\n",
    "from sklearn.datasets.samples_generator import make_blobs\n",
    "from matplotlib.colors import LogNorm \n",
    "import matplotlib.cm as cm\n",
    "import torch.nn as nn\n",
    "import numpy as np\n",
    "import matplotlib.pyplot as plt\n",
    "import plotly.graph_objects as go\n",
    "import plotly.express as px\n",
    "from scipy.interpolate import griddata\n",
    "import torch.nn.functional as F\n",
    "import torch.distributions as D\n",
    "if torch.cuda.is_available():  \n",
    "    dev = \"cuda:0\" \n",
    "else:  \n",
    "    dev = \"cpu\"  \n",
    "\n",
    "print(dev)\n",
    "\n"
   ]
  },
  {
   "cell_type": "code",
   "execution_count": 2,
   "metadata": {
    "ExecuteTime": {
     "end_time": "2021-06-24T07:00:17.925916Z",
     "start_time": "2021-06-24T07:00:17.910682Z"
    },
    "run_control": {
     "marked": true
    }
   },
   "outputs": [],
   "source": [
    "global temp_list\n",
    "temp_list = []\n",
    "Agent_number_n=10;\n",
    "Alpha = 1.0;\n",
    "\n",
    "echo = 1001\n",
    "BATCH_SIZE = 64\n",
    "LR = 0.001           # learning rate for generator\n",
    "devided_number = 1\n",
    "\n",
    "def Generate_distribution(Agent_number_n):\n",
    "    return sorted(np.random.rand(Agent_number_n), reverse=True)\n",
    "    #return sorted(np.random.normal(normalloc,normalscale,Agent_number_n), reverse=True)\n",
    "Prior_Distribution = \"uniform\""
   ]
  },
  {
   "cell_type": "code",
   "execution_count": 3,
   "metadata": {
    "ExecuteTime": {
     "end_time": "2021-06-24T07:00:17.947568Z",
     "start_time": "2021-06-24T07:00:17.926914Z"
    }
   },
   "outputs": [],
   "source": [
    "new_input = 3\n",
    "def Dimensionality_reduction(data_sorted):\n",
    "    out_data = torch.ones(new_input).cuda()\n",
    "    out_data[0] = torch.max(data_sorted) \n",
    "    out_data[1] = torch.sum(data_sorted) \n",
    "    \n",
    "    temp_list = []\n",
    "    for i in range(len(data_sorted)-1):\n",
    "        temp_list.append(data_sorted[i] - data_sorted[i + 1])\n",
    "    \n",
    "    temp_tensor = torch.stack(temp_list)    \n",
    "    out_data[2] = torch.max(temp_tensor) \n",
    "    return out_data\n"
   ]
  },
  {
   "cell_type": "code",
   "execution_count": 4,
   "metadata": {
    "ExecuteTime": {
     "end_time": "2021-06-24T07:00:17.969281Z",
     "start_time": "2021-06-24T07:00:17.947568Z"
    },
    "run_control": {
     "marked": true
    }
   },
   "outputs": [],
   "source": [
    "uniformlow = 0\n",
    "uniformhigh = 1.0\n",
    "\n",
    "normalloc = 0.2\n",
    "normalscale = 0.1\n",
    "\n",
    "doublePeakHighMean = 0.9\n",
    "doublePeakLowMean = 0.1\n",
    "doublePeakStd = 0.04\n",
    "\n",
    "beta_a = 0.3\n",
    "beta_b = 0.2\n",
    "\n",
    "d_1 = D.uniform.Uniform(uniformlow, uniformhigh)\n",
    "distributionRatio_1 = d_1.cdf(1) - d_1.cdf(0)\n",
    "distributionBase_1 = d_1.cdf(0)\n",
    "\n",
    "d_2 = D.normal.Normal(normalloc, normalscale)\n",
    "distributionRatio_2 = d_2.cdf(1) - d_2.cdf(0)\n",
    "distributionBase_2 = d_2.cdf(0)\n",
    "\n",
    "d_3 = D.normal.Normal(doublePeakLowMean, doublePeakStd)\n",
    "d_4 = D.normal.Normal(doublePeakHighMean, doublePeakStd)\n",
    "distributionRatio_3 = (d_3.cdf(1) + d_4.cdf(1) - d_3.cdf(0) - d_4.cdf(0)) / 2\n",
    "distributionBase_3 = d_3.cdf(0) + d_4.cdf(0)\n",
    "\n",
    "# d_5 = D.beta.Beta(beta_a,beta_b)\n",
    "\n",
    "# d10 = D.beta.Beta(0.5,0.5)\n",
    "\n",
    "\n",
    "def cdf(x, y, i=None):\n",
    "    if (y == \"uniform\"):\n",
    "        return (d_1.cdf(x) - distributionBase_1) / distributionRatio_1\n",
    "    elif (y == \"normal\"):\n",
    "        return (d_2.cdf(x) - distributionBase_2) / distributionRatio_2\n",
    "    elif (y == \"twopeak\"):\n",
    "        return (d_3.cdf(x) + d_4.cdf(x) -\n",
    "                distributionBase_3) / 2 / distributionRatio_3\n",
    "\n",
    "\n",
    "def pdf(x, y, i=None):\n",
    "    x= x.cpu().type(torch.float32)\n",
    "    if (y == \"uniform\"):\n",
    "        return torch.pow(torch.tensor(10.0), d_1.log_prob(x)).to(dev)\n",
    "    elif (y == \"normal\"):\n",
    "        return torch.pow(torch.tensor(10.0), d_2.log_prob(x)).to(dev)\n",
    "    elif (y == \"twopeak\"):\n",
    "        return (torch.pow(torch.tensor(10.0), d_3.log_prob(x)) +\n",
    "                torch.pow(torch.tensor(10.0), d_4.log_prob(x))).to(dev) / 2 \n",
    "    \n",
    "def Generate_distribution(Agent_number_n):\n",
    "    return np.random.rand(Agent_number_n)\n",
    "    #return np.random.normal(normalloc,normalscale,Agent_number_n)\n"
   ]
  },
  {
   "cell_type": "code",
   "execution_count": 5,
   "metadata": {
    "ExecuteTime": {
     "end_time": "2021-06-24T07:00:19.128570Z",
     "start_time": "2021-06-24T07:00:17.969281Z"
    },
    "run_control": {
     "marked": false
    }
   },
   "outputs": [
    {
     "name": "stdout",
     "output_type": "stream",
     "text": [
      "tensor(10., device='cuda:0')\n",
      "tensor([1.], device='cuda:0')\n",
      "tensor([24.1906], device='cuda:0')\n"
     ]
    }
   ],
   "source": [
    "print(torch.tensor(10.0).to(dev))\n",
    "print(pdf(torch.ones(1)*0.2,\"uniform\"))\n",
    "print(pdf(torch.ones(1)*0.2,\"normal\"))\n"
   ]
  },
  {
   "cell_type": "code",
   "execution_count": 6,
   "metadata": {
    "ExecuteTime": {
     "end_time": "2021-06-24T07:00:19.803762Z",
     "start_time": "2021-06-24T07:00:19.128570Z"
    }
   },
   "outputs": [
    {
     "name": "stdout",
     "output_type": "stream",
     "text": [
      "[[[0.81636455 0.44036364 0.73268869 ... 0.14108013 0.20091578 0.4954669 ]\n",
      "  [0.18119972 0.44036364 0.73268869 ... 0.14108013 0.20091578 0.4954669 ]\n",
      "  [0.18119972 0.81636455 0.73268869 ... 0.14108013 0.20091578 0.4954669 ]\n",
      "  ...\n",
      "  [0.18119972 0.81636455 0.44036364 ... 0.95750389 0.20091578 0.4954669 ]\n",
      "  [0.18119972 0.81636455 0.44036364 ... 0.95750389 0.14108013 0.4954669 ]\n",
      "  [0.18119972 0.81636455 0.44036364 ... 0.95750389 0.14108013 0.20091578]]\n",
      "\n",
      " [[0.65839709 0.54097835 0.25480277 ... 0.87841255 0.32255281 0.64406803]\n",
      "  [0.82796204 0.54097835 0.25480277 ... 0.87841255 0.32255281 0.64406803]\n",
      "  [0.82796204 0.65839709 0.25480277 ... 0.87841255 0.32255281 0.64406803]\n",
      "  ...\n",
      "  [0.82796204 0.65839709 0.54097835 ... 0.06751732 0.32255281 0.64406803]\n",
      "  [0.82796204 0.65839709 0.54097835 ... 0.06751732 0.87841255 0.64406803]\n",
      "  [0.82796204 0.65839709 0.54097835 ... 0.06751732 0.87841255 0.32255281]]\n",
      "\n",
      " [[0.52410277 0.84050754 0.57683198 ... 0.8188463  0.52002829 0.90369253]\n",
      "  [0.87185016 0.84050754 0.57683198 ... 0.8188463  0.52002829 0.90369253]\n",
      "  [0.87185016 0.52410277 0.57683198 ... 0.8188463  0.52002829 0.90369253]\n",
      "  ...\n",
      "  [0.87185016 0.52410277 0.84050754 ... 0.67185078 0.52002829 0.90369253]\n",
      "  [0.87185016 0.52410277 0.84050754 ... 0.67185078 0.8188463  0.90369253]\n",
      "  [0.87185016 0.52410277 0.84050754 ... 0.67185078 0.8188463  0.52002829]]\n",
      "\n",
      " ...\n",
      "\n",
      " [[0.94925171 0.73967385 0.64982509 ... 0.42156403 0.61364793 0.83081846]\n",
      "  [0.77911241 0.73967385 0.64982509 ... 0.42156403 0.61364793 0.83081846]\n",
      "  [0.77911241 0.94925171 0.64982509 ... 0.42156403 0.61364793 0.83081846]\n",
      "  ...\n",
      "  [0.77911241 0.94925171 0.73967385 ... 0.54541681 0.61364793 0.83081846]\n",
      "  [0.77911241 0.94925171 0.73967385 ... 0.54541681 0.42156403 0.83081846]\n",
      "  [0.77911241 0.94925171 0.73967385 ... 0.54541681 0.42156403 0.61364793]]\n",
      "\n",
      " [[0.71611944 0.49310508 0.58844555 ... 0.18352898 0.02828223 0.74406418]\n",
      "  [0.09184835 0.49310508 0.58844555 ... 0.18352898 0.02828223 0.74406418]\n",
      "  [0.09184835 0.71611944 0.58844555 ... 0.18352898 0.02828223 0.74406418]\n",
      "  ...\n",
      "  [0.09184835 0.71611944 0.49310508 ... 0.3011421  0.02828223 0.74406418]\n",
      "  [0.09184835 0.71611944 0.49310508 ... 0.3011421  0.18352898 0.74406418]\n",
      "  [0.09184835 0.71611944 0.49310508 ... 0.3011421  0.18352898 0.02828223]]\n",
      "\n",
      " [[0.21190221 0.69804643 0.2085301  ... 0.67458148 0.35481458 0.20806885]\n",
      "  [0.17660481 0.69804643 0.2085301  ... 0.67458148 0.35481458 0.20806885]\n",
      "  [0.17660481 0.21190221 0.2085301  ... 0.67458148 0.35481458 0.20806885]\n",
      "  ...\n",
      "  [0.17660481 0.21190221 0.69804643 ... 0.23912689 0.35481458 0.20806885]\n",
      "  [0.17660481 0.21190221 0.69804643 ... 0.23912689 0.67458148 0.20806885]\n",
      "  [0.17660481 0.21190221 0.69804643 ... 0.23912689 0.67458148 0.35481458]]]\n",
      "[4.74028865 4.63032118 6.38955935 ... 6.93072048 4.10514963 3.78787727]\n"
     ]
    }
   ],
   "source": [
    "def h_3_star(a, b, t):\n",
    "    return a - min(a, t) + b - min(b, t) + max(min(a, t)+min(b, t), 2*t/3) + 1/2 * max(min(a, t)+min(b, t), t) - 1/2 * max(max(min(a, t), min(b, t)), 2*t/3) - t/6\n",
    "\n",
    "\n",
    "def f_function(a, b, z):\n",
    "    if(z >= 1):\n",
    "        return (a+b)/2 + z/3\n",
    "    else:\n",
    "        return z/3 + h_3_star(a, b, 1-z)/2\n",
    "\n",
    "def h_function_label(input_list):\n",
    "    #input_list = sorted(input_list)\n",
    "    g_list = []\n",
    "    for j1 in range(len(input_list) ):\n",
    "        for j2 in range(len(input_list)):\n",
    "            if(j1 != j2):\n",
    "                a = input_list[j1]\n",
    "                b = input_list[j2]\n",
    "                z = sum(input_list)- a-b\n",
    "\n",
    "                g_list.append( f_function(a, b, z) * (Agent_number_n-1))\n",
    "    h = sum(g_list) * 3 /  (Agent_number_n) /  (Agent_number_n-1) /  (Agent_number_n - 2)\n",
    "    return h\n",
    "\n",
    "def appen(_x_list,y):\n",
    "    global temp_list\n",
    "    temp_list.append(_x_list)\n",
    "    \n",
    "def appen_train(x_list):\n",
    "    global temp_list\n",
    "                \n",
    "    S= max(sum(x_list),1.0);\n",
    "    temp_list = []\n",
    "    h_list = []\n",
    "    for i in range(Agent_number_n):\n",
    "        temp = []\n",
    "        for j in range(Agent_number_n):\n",
    "            if(i!=j):\n",
    "                temp.append(x_list[j])\n",
    "        appen(temp,S)\n",
    "        \n",
    "        h = h_function_label(temp)\n",
    "        h_list.append(float(h))\n",
    "    temp_list = np.array(temp_list)\n",
    "    x_list = np.array(x_list)\n",
    "    return temp_list,S,x_list,h_list\n",
    "    \n",
    "\n",
    "def appen_test(x_list):\n",
    "    global temp_list\n",
    "                \n",
    "    S= max(sum(x_list),1.0);\n",
    "    temp_list = []\n",
    "    \n",
    "    for i in range(Agent_number_n):\n",
    "        temp = []\n",
    "        for j in range(Agent_number_n):\n",
    "            if(i!=j):\n",
    "                temp.append(x_list[j])\n",
    "        appen(temp,S)\n",
    "    testing_data.append(temp_list)\n",
    "    testing_label.append(S)\n",
    "    temp_list = np.array(temp_list)\n",
    "    return temp_list,S\n",
    "    \n",
    "\n",
    "def read_testing_data():\n",
    "    for i in range(10000):\n",
    "        appen_test(Generate_distribution(Agent_number_n));\n",
    "                            \n",
    "\n",
    "testing_data=[]\n",
    "testing_label=[]\n",
    "S=1.0\n",
    "read_testing_data();\n",
    "\n",
    "testing_data=np.array(testing_data)\n",
    "testing_label=np.array(testing_label)\n",
    "print(testing_data)\n",
    "print(testing_label)"
   ]
  },
  {
   "cell_type": "code",
   "execution_count": 7,
   "metadata": {
    "ExecuteTime": {
     "end_time": "2021-06-24T07:00:56.322330Z",
     "start_time": "2021-06-24T07:00:19.803762Z"
    }
   },
   "outputs": [
    {
     "name": "stdout",
     "output_type": "stream",
     "text": [
      "9.079942172257189 8.999999999999995 0.07994217225719424 9.000047482215978\n"
     ]
    }
   ],
   "source": [
    "def h_3_star(a, b, t):\n",
    "    return a - min(a, t) + b - min(b, t) + max(min(a, t)+min(b, t), 2*t/3) + 1/2 * max(min(a, t)+min(b, t), t) - 1/2 * max(max(min(a, t), min(b, t)), 2*t/3) - t/6\n",
    "\n",
    "\n",
    "def f_function(a, b, z):\n",
    "    if(z >= 1):\n",
    "        return (a+b)/2 + z/3\n",
    "    else:\n",
    "        return z/3 + h_3_star(a, b, 1-z)/2\n",
    "\n",
    "def h_function(input_list):\n",
    "    #input_list = sorted(input_list)\n",
    "    g_list = []\n",
    "    for j1 in range(len(input_list) ):\n",
    "        for j2 in range(len(input_list)):\n",
    "            if(j1 != j2):\n",
    "                a = input_list[j1]\n",
    "                b = input_list[j2]\n",
    "                z = sum(input_list)- a-b\n",
    "\n",
    "                g_list.append( f_function(a, b, z) * (Agent_number_n-1))\n",
    "    h = sum(g_list) * 3 /  (Agent_number_n) /  (Agent_number_n-1) /  (Agent_number_n - 2)\n",
    "    return h\n",
    "                \n",
    "                \n",
    "x_list = []\n",
    "y_list = []\n",
    "z_list = []\n",
    "result_list = []\n",
    "for index in range(len(testing_data)):\n",
    "    h_list = []\n",
    "    for i in range(Agent_number_n):\n",
    "        x_list.append(testing_data[index][i][0])\n",
    "        y_list.append(testing_data[index][i][1])\n",
    "        h = h_function(testing_data[index][i])\n",
    "        z_list.append(float(h))\n",
    "        h_list.append(float(h))\n",
    "    result_list.append(sum(h_list)/testing_label[index]) \n",
    "    \n",
    "    \n",
    "print(max(result_list), min(result_list), max(result_list)-min(result_list),sum(result_list)/len(result_list))"
   ]
  },
  {
   "cell_type": "code",
   "execution_count": 8,
   "metadata": {
    "ExecuteTime": {
     "end_time": "2021-06-24T07:00:57.274044Z",
     "start_time": "2021-06-24T07:00:56.322330Z"
    }
   },
   "outputs": [
    {
     "data": {
      "image/png": "[encoded data removed]",
      "text/plain": [
       "<Figure size 432x288 with 1 Axes>"
      ]
     },
     "metadata": {
      "needs_background": "light"
     },
     "output_type": "display_data"
    }
   ],
   "source": [
    "plt.hist(result_list,bins=500)\n",
    "\n",
    "plt.title(\"Means\", y=1.015, fontsize=20)\n",
    "plt.axvline(x=sum(result_list)/len(result_list), linestyle='--', linewidth=2.5, label=\"sample mean\", c='orange')\n",
    "plt.xlabel(\"samples\", labelpad=14)\n",
    "plt.ylabel(\"frequency of occurence\", labelpad=14)\n",
    "plt.legend();\n",
    "\n",
    "result_list.sort()\n",
    "\n",
    "plt.axvline(x=result_list[int(len(result_list)*0.01)], linestyle='--', linewidth=0.5, label=\"1%\", c='b')\n",
    "plt.axvline(x=result_list[int(len(result_list)*0.99)], linestyle='--', linewidth=0.5, label=\"99%\", c='r')\n",
    "\n",
    "\n",
    "plt.show()"
   ]
  },
  {
   "cell_type": "code",
   "execution_count": 9,
   "metadata": {
    "ExecuteTime": {
     "end_time": "2021-06-24T07:00:57.289938Z",
     "start_time": "2021-06-24T07:00:57.275586Z"
    }
   },
   "outputs": [
    {
     "name": "stdout",
     "output_type": "stream",
     "text": [
      "tensor([0.2877], device='cuda:0', grad_fn=<SortBackward>)\n"
     ]
    }
   ],
   "source": [
    "tensor_sample_list,indices = torch.sort(torch.rand(devided_number,requires_grad=True).to(dev))  # random ideas\\n\n",
    "print(tensor_sample_list)"
   ]
  },
  {
   "cell_type": "code",
   "execution_count": 10,
   "metadata": {
    "ExecuteTime": {
     "end_time": "2021-06-24T07:00:57.316566Z",
     "start_time": "2021-06-24T07:00:57.290904Z"
    },
    "run_control": {
     "marked": true
    }
   },
   "outputs": [
    {
     "name": "stdout",
     "output_type": "stream",
     "text": [
      "tensor([0.2877], device='cuda:0', grad_fn=<DivBackward0>)\n",
      "tensor([0.8053], device='cuda:0', grad_fn=<DivBackward0>)\n"
     ]
    }
   ],
   "source": [
    "print(cdf(tensor_sample_list,Prior_Distribution))\n",
    "print(cdf(tensor_sample_list,\"normal\"))"
   ]
  },
  {
   "cell_type": "code",
   "execution_count": 11,
   "metadata": {
    "ExecuteTime": {
     "end_time": "2021-06-24T07:00:57.338517Z",
     "start_time": "2021-06-24T07:00:57.316566Z"
    },
    "run_control": {
     "marked": true
    }
   },
   "outputs": [],
   "source": [
    "def weight_init(m):\n",
    "    if isinstance(m, torch.nn.Conv2d):\n",
    "        torch.nn.init.xavier_normal_(m.weight)\n",
    "        torch.nn.init.zeros_(m.bias)\n",
    "    elif isinstance(m, torch.nn.Linear):\n",
    "        torch.nn.init.xavier_normal_(m.weight)\n",
    "        torch.nn.init.normal_(m.bias, mean=0.0, std=0.01)\n",
    "\n",
    "\n",
    "\n",
    "def redistribution_value_function(input_tensor):\n",
    "    S = torch.max(torch.sum(input_tensor), torch.ones(1).to(dev))\n",
    "    temp_list = []\n",
    "\n",
    "    for i in range(Agent_number_n):\n",
    "        temp = []\n",
    "\n",
    "        for j in range(Agent_number_n):\n",
    "            if(i != j):\n",
    "                temp .append(input_tensor[j])\n",
    "\n",
    "        temp = torch.stack(temp)\n",
    "        temp_list.append(temp)\n",
    "    return torch.stack(temp_list), S\n",
    "\n",
    "\n",
    "class Net(torch.nn.Module):\n",
    "    def __init__(self):\n",
    "\n",
    "        super(Net, self).__init__()\n",
    "\n",
    "        self.input_dim = new_input#(Agent_number_n-1)\n",
    "        self.hidden_dim = 128\n",
    "        self.output_dim = 1\n",
    "        self.hidden_layer_count = 6\n",
    "\n",
    "        current_dim = self.input_dim\n",
    "        self.layers = torch.nn.ModuleList()\n",
    "        for i in range(self.hidden_layer_count):\n",
    "            self.layers.append(torch.nn.Linear(current_dim, self.hidden_dim))\n",
    "            current_dim = self.hidden_dim\n",
    "        self.layers.append(torch.nn.Linear(current_dim, self.output_dim))\n",
    "\n",
    "    def calculate(self, value_list):\n",
    "        h = Dimensionality_reduction(value_list)\n",
    "        #h = value_list           ####Dimensionality_reduction\n",
    "        for layer in self.layers:\n",
    "            h = torch.relu(layer(h))\n",
    "        return h\n",
    "\n",
    "    def forward(self, input_list, input_label, input_data):\n",
    "        global iteration, echo, target_order\n",
    "        loss1 = 0\n",
    "        loss2 = 0\n",
    "        input_list = torch.from_numpy(\n",
    "            np.array(input_list)).to(dev).type(torch.float32)\n",
    "\n",
    "        input_data = torch.from_numpy(\n",
    "            np.array(input_data)).to(dev).type(torch.float32)\n",
    "        \n",
    "        input_label = torch.from_numpy(\n",
    "            np.array(input_label)).to(dev).type(torch.float32)\n",
    "        \n",
    "        \n",
    "        random_index = random.randint(0, Agent_number_n-1)\n",
    "        tensor_sample_list,indices = torch.sort(torch.rand(devided_number,requires_grad=True).to(dev))\n",
    "     \n",
    "        tensor_sample = torch.rand(devided_number,requires_grad=True)[0].to(dev)\n",
    "    \n",
    "        input_data_temp = input_data.detach().clone()\n",
    "        \n",
    "        input_data_temp[random_index] = tensor_sample\n",
    "\n",
    "        value_list_tensor, S_tensor = redistribution_value_function(\n",
    "            input_data_temp)\n",
    "       \n",
    "        h_list = []\n",
    "        for i in range(Agent_number_n):\n",
    "            h = self.calculate(\n",
    "                value_list_tensor[i].to(dev).type(torch.float32))\n",
    "            h_list.append(h)\n",
    "            \n",
    "        S_tensor = S_tensor.detach().to(dev).type(torch.float32)\n",
    "        \n",
    "        sum_h = torch.sum(torch.cat(h_list)).to(dev)\n",
    "        \n",
    "        temp_loss1 = torch.where((Agent_number_n-1)*S_tensor > sum_h,\n",
    "                 torch.square(((Agent_number_n-1)*S_tensor - sum_h)),\n",
    "                 torch.zeros(1).to(dev)\n",
    "              )\n",
    "\n",
    "        temp_loss2 = torch.where((Agent_number_n-Alpha)*S_tensor < sum_h,\n",
    "                    torch.square((sum_h-(Agent_number_n-Alpha)*S_tensor))/10000,\n",
    "                    torch.zeros(1).to(dev)\n",
    "                  )\n",
    "\n",
    "\n",
    "        loss1 = temp_loss1 * pdf(tensor_sample, Prior_Distribution)\n",
    "        loss2 = temp_loss2 * pdf(tensor_sample, Prior_Distribution)\n",
    "                \n",
    "        return loss1, loss2\n",
    "    \n",
    "    def supervised_loss(self, input_list,label):\n",
    "        global iteration,echo,target_order\n",
    "        input_list = torch.from_numpy(\n",
    "            np.array(input_list)).to(dev).type(torch.float32)\n",
    "        loss = 0 \n",
    "        for i in range(Agent_number_n):\n",
    "            h = self.calculate(input_list[i])\n",
    "            loss += torch.square(h - label[i])\n",
    "        return loss"
   ]
  },
  {
   "cell_type": "code",
   "execution_count": 12,
   "metadata": {
    "ExecuteTime": {
     "end_time": "2021-06-24T07:00:57.354178Z",
     "start_time": "2021-06-24T07:00:57.338517Z"
    }
   },
   "outputs": [],
   "source": [
    "random.seed(200)\n",
    "torch.manual_seed(256)\n",
    "net  = Net()\n",
    "net.apply(weight_init)\n",
    "#net = torch.load(\"save/Deep_learning_F_uniform_10_1\")\n",
    "net.to(dev)\n",
    "\n",
    "#optimizer = opt.RMSprop(net.parameters(), lr=0.00001)\n",
    "#optimizer = opt.SGD(net.parameters(), lr=0.00005)\n",
    "optimizer = opt.Adam(net.parameters(), lr=LR)\n",
    "#optimizer = opt.Adadelta(net.parameters(), lr=1.0)\n",
    "\n",
    "scheduler = torch.optim.lr_scheduler.StepLR(optimizer, step_size=100, gamma=0.98)\n",
    "index_train_list = []\n",
    "index_test_list = []\n",
    "train_losses = []\n",
    "test_losses = []"
   ]
  },
  {
   "cell_type": "code",
   "execution_count": 13,
   "metadata": {
    "ExecuteTime": {
     "end_time": "2021-06-24T07:41:31.428633Z",
     "start_time": "2021-06-24T07:00:57.354178Z"
    }
   },
   "outputs": [
    {
     "name": "stdout",
     "output_type": "stream",
     "text": [
      "0 tensor(220.4859, device='cuda:0', grad_fn=<DivBackward0>) 14111.09765625\n",
      "50 tensor(15.1428, device='cuda:0', grad_fn=<DivBackward0>) 969.1422729492188\n",
      "100 tensor(0.1261, device='cuda:0', grad_fn=<DivBackward0>) 8.067256927490234\n",
      "150 tensor(0.0202, device='cuda:0', grad_fn=<DivBackward0>) 1.2933801412582397\n",
      "200 tensor(0.0086, device='cuda:0', grad_fn=<DivBackward0>) 0.5514085292816162\n",
      "250 tensor(0.0047, device='cuda:0', grad_fn=<DivBackward0>) 0.30141332745552063\n",
      "300 tensor(0.0015, device='cuda:0', grad_fn=<DivBackward0>) 0.09597866237163544\n",
      "350 tensor(0.0016, device='cuda:0', grad_fn=<DivBackward0>) 0.10492899268865585\n",
      "400 tensor(0.0012, device='cuda:0', grad_fn=<DivBackward0>) 0.07362209260463715\n",
      "450 tensor(0.0009, device='cuda:0', grad_fn=<DivBackward0>) 0.05677696689963341\n",
      "500 tensor(0.0004, device='cuda:0', grad_fn=<DivBackward0>) 0.02712242119014263\n",
      "550 tensor(0.0003, device='cuda:0', grad_fn=<DivBackward0>) 0.01792978122830391\n",
      "600 tensor(0.0001, device='cuda:0', grad_fn=<DivBackward0>) 0.008180029690265656\n",
      "650 tensor(6.0920e-05, device='cuda:0', grad_fn=<DivBackward0>) 0.0038988799788057804\n",
      "700 tensor(3.2100e-05, device='cuda:0', grad_fn=<DivBackward0>) 0.0020544303115457296\n",
      "750 tensor(2.0947e-05, device='cuda:0', grad_fn=<DivBackward0>) 0.0013405840145424008\n",
      "800 tensor(1.8328e-05, device='cuda:0', grad_fn=<DivBackward0>) 0.0011730239493772388\n",
      "850 tensor(1.6104e-05, device='cuda:0', grad_fn=<DivBackward0>) 0.001030642306432128\n",
      "900 tensor(2.1799e-05, device='cuda:0', grad_fn=<DivBackward0>) 0.001395125058479607\n",
      "950 tensor(1.4464e-05, device='cuda:0', grad_fn=<DivBackward0>) 0.000925703439861536\n",
      "1000 tensor(6.3364e-05, device='cuda:0', grad_fn=<DivBackward0>) 0.004055265802890062\n",
      "1050 tensor(1.0337e-05, device='cuda:0', grad_fn=<DivBackward0>) 0.0006615794263780117\n",
      "1100 tensor(2.5965e-05, device='cuda:0', grad_fn=<DivBackward0>) 0.001661775168031454\n",
      "1150 tensor(1.3048e-05, device='cuda:0', grad_fn=<DivBackward0>) 0.0008350498392246664\n",
      "1200 tensor(1.0989e-05, device='cuda:0', grad_fn=<DivBackward0>) 0.0007032871944829822\n",
      "1250 tensor(2.2251e-05, device='cuda:0', grad_fn=<DivBackward0>) 0.0014240469317883253\n",
      "1300 tensor(5.8845e-06, device='cuda:0', grad_fn=<DivBackward0>) 0.00037660697125829756\n",
      "1350 tensor(1.8771e-05, device='cuda:0', grad_fn=<DivBackward0>) 0.0012013440718874335\n",
      "1400 tensor(9.2804e-06, device='cuda:0', grad_fn=<DivBackward0>) 0.0005939471302554011\n",
      "1450 tensor(1.5016e-05, device='cuda:0', grad_fn=<DivBackward0>) 0.0009610388078726828\n",
      "1500 tensor(7.4089e-06, device='cuda:0', grad_fn=<DivBackward0>) 0.00047416682355105877\n",
      "1550 tensor(8.5213e-06, device='cuda:0', grad_fn=<DivBackward0>) 0.0005453625344671309\n",
      "1600 tensor(7.8162e-06, device='cuda:0', grad_fn=<DivBackward0>) 0.0005002391408197582\n",
      "1650 tensor(4.1089e-05, device='cuda:0', grad_fn=<DivBackward0>) 0.0026297010481357574\n",
      "1700 tensor(1.3603e-05, device='cuda:0', grad_fn=<DivBackward0>) 0.0008705946383997798\n",
      "1750 tensor(6.6677e-06, device='cuda:0', grad_fn=<DivBackward0>) 0.0004267322947271168\n",
      "1800 tensor(4.6262e-06, device='cuda:0', grad_fn=<DivBackward0>) 0.000296075944788754\n",
      "1850 tensor(8.4004e-05, device='cuda:0', grad_fn=<DivBackward0>) 0.005376267712563276\n",
      "1900 tensor(3.5544e-06, device='cuda:0', grad_fn=<DivBackward0>) 0.00022747975890524685\n",
      "1950 tensor(2.6809e-05, device='cuda:0', grad_fn=<DivBackward0>) 0.001715764170512557\n"
     ]
    }
   ],
   "source": [
    "#supervised\n",
    "index_supervisedtrain_list = []\n",
    "supervisedtrain_losses = []\n",
    "for iteration in range(2000):\n",
    "\n",
    "    temp_number = 0\n",
    "    total_batch_loss = 0 \n",
    "    \n",
    "    loss_sum = 0\n",
    "    denominator = 0\n",
    "    for index in range(0, BATCH_SIZE):\n",
    "        training_data_i, training_S, training_data,label = appen_train(\n",
    "            Generate_distribution(Agent_number_n))\n",
    "        h_loss = net.supervised_loss(training_data_i, label)\n",
    "        denominator += 1\n",
    "        loss_sum += h_loss\n",
    "\n",
    "    loss_sum = torch.sum(loss_sum)\n",
    "    loss = (loss_sum) / denominator \n",
    "    total_batch_loss += float(loss_sum)\n",
    "\n",
    "    optimizer.zero_grad()\n",
    "    loss.backward()\n",
    "    optimizer.step()\n",
    "\n",
    "    if (iteration%50 == 0):\n",
    "        print(iteration,loss,total_batch_loss)\n",
    "        index_supervisedtrain_list.append(iteration)\n",
    "        supervisedtrain_losses.append(total_batch_loss)\n",
    "    scheduler.step()"
   ]
  },
  {
   "cell_type": "code",
   "execution_count": 14,
   "metadata": {
    "ExecuteTime": {
     "end_time": "2021-06-24T07:41:31.543744Z",
     "start_time": "2021-06-24T07:41:31.428633Z"
    }
   },
   "outputs": [
    {
     "data": {
      "image/png": "[encoded data removed]",
      "text/plain": [
       "<Figure size 432x288 with 1 Axes>"
      ]
     },
     "metadata": {
      "needs_background": "light"
     },
     "output_type": "display_data"
    }
   ],
   "source": [
    "plt.ylim(0, 0.1)\n",
    "plt.plot(index_supervisedtrain_list ,supervisedtrain_losses)\n",
    "plt.ylabel('supervised train loss')\n",
    "\n",
    "plt.show()"
   ]
  },
  {
   "cell_type": "code",
   "execution_count": 15,
   "metadata": {
    "ExecuteTime": {
     "end_time": "2021-06-24T07:41:31.559393Z",
     "start_time": "2021-06-24T07:41:31.543744Z"
    }
   },
   "outputs": [],
   "source": [
    "optimizer = opt.Adam(net.parameters(), lr=LR/100)\n",
    "#optimizer = opt.Adadelta(net.parameters(), lr=1.0)\n",
    "\n",
    "scheduler = torch.optim.lr_scheduler.StepLR(optimizer, step_size=100, gamma=0.98)"
   ]
  },
  {
   "cell_type": "code",
   "execution_count": 16,
   "metadata": {
    "ExecuteTime": {
     "end_time": "2021-06-24T09:03:02.210309Z",
     "start_time": "2021-06-24T07:41:31.559393Z"
    }
   },
   "outputs": [
    {
     "name": "stdout",
     "output_type": "stream",
     "text": [
      "0 tensor(1.7034e-08, device='cuda:0', grad_fn=<DivBackward0>) 0.0 1.090194587050064e-06\n",
      "batch iteration 0\n",
      "batch_loss: 0.0000 \n",
      "9.057886268126166 8.972785544442095 0.08510072368407151 0.03635349499614016\n",
      "\n",
      "50 tensor(2.9756e-05, device='cuda:0', grad_fn=<DivBackward0>) 0.0 0.0019043718930333853\n",
      "batch iteration 50\n",
      "batch_loss: 0.0019 \n",
      "9.192757764357994 9.093405454698582 0.09935230965941244 0.014832575332151876\n",
      "\n",
      "100 tensor(2.7277e-05, device='cuda:0', grad_fn=<DivBackward0>) 0.0 0.0017457506619393826\n",
      "batch iteration 100\n",
      "batch_loss: 0.0017 \n",
      "9.188014530600524 9.08939344786206 0.0986210827384646 0.014701037603183309\n",
      "\n",
      "150 tensor(2.5017e-05, device='cuda:0', grad_fn=<DivBackward0>) 0.0 0.0016010700492188334\n",
      "batch iteration 150\n",
      "batch_loss: 0.0016 \n",
      "9.181188847453916 9.082437677017179 0.09875117043673676 0.01546825863237622\n",
      "\n",
      "200 tensor(2.0755e-05, device='cuda:0', grad_fn=<DivBackward0>) 0.0 0.0013283493462949991\n",
      "batch iteration 200\n",
      "batch_loss: 0.0013 \n",
      "9.173346828229803 9.073618749178735 0.09972807905106862 0.017201337137867867\n",
      "\n",
      "250 tensor(1.7995e-05, device='cuda:0', grad_fn=<DivBackward0>) 0.0 0.001151653123088181\n",
      "batch iteration 250\n",
      "batch_loss: 0.0012 \n",
      "9.165099039389522 9.063425393168227 0.10167364622129504 0.01946855156452898\n",
      "\n",
      "300 tensor(1.3625e-05, device='cuda:0', grad_fn=<DivBackward0>) 0.0 0.000871981552336365\n",
      "batch iteration 300\n",
      "batch_loss: 0.0009 \n",
      "9.156310995636193 9.052816863798343 0.10349413183785039 0.02063884963078344\n",
      "\n",
      "350 tensor(1.0800e-05, device='cuda:0', grad_fn=<DivBackward0>) 0.0 0.0006911742384545505\n",
      "batch iteration 350\n",
      "batch_loss: 0.0007 \n",
      "9.14799276670732 9.042993345796235 0.10499942091108494 0.020575541768808492\n",
      "\n",
      "400 tensor(7.6960e-06, device='cuda:0', grad_fn=<DivBackward0>) 0.0 0.0004925417597405612\n",
      "batch iteration 400\n",
      "batch_loss: 0.0005 \n",
      "9.13992104595344 9.034078481028201 0.10584256492523814 0.020112918404036506\n",
      "\n",
      "450 tensor(5.3883e-06, device='cuda:0', grad_fn=<DivBackward0>) 0.0 0.00034485067590139806\n",
      "batch iteration 450\n",
      "batch_loss: 0.0003 \n",
      "9.132274568672338 9.02609173163986 0.10618283703247755 0.019628257583358177\n",
      "\n",
      "500 tensor(3.5673e-06, device='cuda:0', grad_fn=<DivBackward0>) 0.0 0.00022830853413324803\n",
      "batch iteration 500\n",
      "batch_loss: 0.0002 \n",
      "9.125086562533545 9.019008998915607 0.10607756361793719 0.019165083610852562\n",
      "\n",
      "550 tensor(2.4274e-06, device='cuda:0', grad_fn=<DivBackward0>) 0.0 0.00015535324928350747\n",
      "batch iteration 550\n",
      "batch_loss: 0.0002 \n",
      "9.118056436027619 9.012885807212065 0.10517062881555361 0.01874145152488893\n",
      "\n",
      "600 tensor(1.6916e-06, device='cuda:0', grad_fn=<DivBackward0>) 0.0 0.00010826348443515599\n",
      "batch iteration 600\n",
      "batch_loss: 0.0001 \n",
      "9.110240896106884 9.007335189434286 0.10290570667259757 0.018499334334846296\n",
      "\n",
      "650 tensor(1.1674e-06, device='cuda:0', grad_fn=<DivBackward0>) 0.0 7.471662684110925e-05\n",
      "batch iteration 650\n",
      "batch_loss: 0.0001 \n",
      "9.103223077335416 9.00201294419627 0.10121013313914595 0.01892389314230769\n",
      "\n",
      "700 tensor(7.7716e-07, device='cuda:0', grad_fn=<DivBackward0>) 0.0 4.973824616172351e-05\n",
      "batch iteration 700\n",
      "batch_loss: 0.0000 \n",
      "9.096621889836115 8.9973649584959 0.0992569313402143 0.021838490456527637\n",
      "\n",
      "750 tensor(5.8108e-07, device='cuda:0', grad_fn=<DivBackward0>) 0.0 3.718924926943146e-05\n",
      "batch iteration 750\n",
      "batch_loss: 0.0000 \n",
      "9.092528202388271 8.995094094836771 0.09743410755149995 0.02369939322439052\n",
      "\n",
      "800 tensor(4.1303e-07, device='cuda:0', grad_fn=<DivBackward0>) 0.0 2.6433974198880605e-05\n",
      "batch iteration 800\n",
      "batch_loss: 0.0000 \n",
      "9.090707268255041 8.994876418935418 0.09583084931962382 0.022758559247009202\n",
      "\n",
      "850 tensor(4.4226e-07, device='cuda:0', grad_fn=<DivBackward0>) 0.0 2.8304455554462038e-05\n",
      "batch iteration 850\n",
      "batch_loss: 0.0000 \n",
      "9.089366271495496 8.996003194328159 0.0933630771673375 0.020324276727807344\n",
      "\n",
      "900 tensor(2.8341e-07, device='cuda:0', grad_fn=<DivBackward0>) 0.0 1.8137963706976734e-05\n",
      "batch iteration 900\n",
      "batch_loss: 0.0000 \n",
      "9.08635370444021 8.994948234492615 0.09140546994759546 0.020809104231201303\n",
      "\n",
      "950 tensor(3.3536e-07, device='cuda:0', grad_fn=<DivBackward0>) 0.0 2.146327642549295e-05\n",
      "batch iteration 950\n",
      "batch_loss: 0.0000 \n",
      "9.090360370099775 8.995874117449722 0.09448625265005361 0.02021029699793786\n",
      "\n",
      "1000 tensor(3.0232e-07, device='cuda:0', grad_fn=<DivBackward0>) 0.0 1.9348790374351665e-05\n",
      "batch iteration 1000\n",
      "batch_loss: 0.0000 \n",
      "9.089697680543692 8.994735009514857 0.09496267102883493 0.021252033072672205\n",
      "\n"
     ]
    }
   ],
   "source": [
    "for iteration in range(int(echo)):\n",
    "    \n",
    "    temp_number = 0\n",
    "    total_batch_loss = 0 \n",
    "        \n",
    "    loss2_list = []\n",
    "    loss1_sum = 0\n",
    "    loss2_sum = 0\n",
    "    denominator = 0\n",
    "    for index in range(0, BATCH_SIZE):\n",
    "        training_data_i, training_label, training_data,label = appen_train(\n",
    "            Generate_distribution(Agent_number_n))\n",
    "        h_loss1, h_loss2 = net(training_data_i, training_label,\n",
    "                                       training_data)\n",
    "        denominator += 1\n",
    "        loss1_sum += h_loss1\n",
    "        loss2_sum += h_loss2\n",
    "\n",
    "    loss_sum = torch.sum(loss1_sum + loss2_sum)\n",
    "    loss = (loss_sum) / denominator \n",
    "    total_batch_loss +=float(loss_sum)\n",
    "    optimizer.zero_grad()\n",
    "\n",
    "    loss.backward()\n",
    "\n",
    "    optimizer.step()\n",
    "\n",
    "    temp_number = iteration\n",
    "    index_train_list.append(iteration)\n",
    "    train_losses.append(total_batch_loss)\n",
    "    if (iteration%50 == 0):\n",
    "        print(temp_number, loss, float(loss1_sum), float(loss2_sum))\n",
    "\n",
    "        print(\"batch iteration\", iteration)\n",
    "        print(\"batch_loss: %.4f \" % total_batch_loss)\n",
    "\n",
    "        result_list = []\n",
    "        for index in range(len(testing_data)):\n",
    "            h_list = []\n",
    "            for i in range(Agent_number_n):\n",
    "                h = net.calculate(\n",
    "                    torch.tensor(testing_data[index][i]).to(dev).type(\n",
    "                        torch.float32))\n",
    "                h_list.append(float(h))\n",
    "            result_list.append(sum(h_list) / testing_label[index])\n",
    "        print(max(result_list), min(result_list),\n",
    "              max(result_list) - min(result_list),\n",
    "              (sum(result_list) / len(result_list) - min(result_list))+ Agent_number_n-1 - min(min(result_list),Agent_number_n-1) )\n",
    "\n",
    "        index_test_list.append(iteration)\n",
    "        test_losses.append(\n",
    "            (sum(result_list) / len(result_list) - min(result_list))+ Agent_number_n-1 - min(min(result_list),Agent_number_n-1) )\n",
    "        print()\n",
    "        \n",
    "    scheduler.step()\n"
   ]
  },
  {
   "cell_type": "code",
   "execution_count": 17,
   "metadata": {
    "ExecuteTime": {
     "end_time": "2021-06-24T09:03:02.325370Z",
     "start_time": "2021-06-24T09:03:02.210309Z"
    }
   },
   "outputs": [
    {
     "data": {
      "image/png": "[encoded data removed]",
      "text/plain": [
       "<Figure size 432x288 with 1 Axes>"
      ]
     },
     "metadata": {
      "needs_background": "light"
     },
     "output_type": "display_data"
    }
   ],
   "source": [
    "plt.ylim(0, 1.0)\n",
    "plt.plot(index_test_list,test_losses)\n",
    "plt.ylabel('Testing Loss')\n",
    "plt.xlabel('Batch Epoch')\n",
    "plt.show()\n",
    "\n"
   ]
  },
  {
   "cell_type": "code",
   "execution_count": 18,
   "metadata": {
    "ExecuteTime": {
     "end_time": "2021-06-24T09:03:02.557056Z",
     "start_time": "2021-06-24T09:03:02.325370Z"
    }
   },
   "outputs": [
    {
     "data": {
      "image/png": "[encoded data removed]",
      "text/plain": [
       "<Figure size 432x288 with 1 Axes>"
      ]
     },
     "metadata": {
      "needs_background": "light"
     },
     "output_type": "display_data"
    }
   ],
   "source": [
    "import csv\n",
    "with open('save/test_loss_feed_uniform_10.csv', 'w', newline='') as csvfile_feed:\n",
    "    spamwriter = csv.writer(csvfile_feed)\n",
    "    spamwriter.writerow(index_test_list)\n",
    "    spamwriter.writerow(test_losses)\n",
    "\n",
    "with open('save/test_loss_unfeed_uniform_10.csv') as csvfile_unfeed:\n",
    "    reader = csv.reader(csvfile_unfeed)\n",
    "    list_feed = []\n",
    "    for row in reader:\n",
    "        row = np.array(row)\n",
    "        temp_list = []\n",
    "        for i in range(len(row)):\n",
    "            temp_list.append(float(row[i]))\n",
    "\n",
    "        list_feed.append(temp_list)\n",
    "    plt.ylim(0, 1.0)\n",
    "    plt.plot(list_feed[0],list_feed[1],label='neural network')\n",
    "    plt.plot(index_test_list,test_losses,label='feed distribution')\n",
    "    plt.ylabel('Testing Loss')\n",
    "    plt.xlabel('Batch Epoch')\n",
    "    #plt.title('Two or more lines on same plot with suitable legends ')\n",
    "    # show a legend on the plot\n",
    "    plt.legend()\n",
    "    plt.show()"
   ]
  },
  {
   "cell_type": "code",
   "execution_count": 19,
   "metadata": {
    "ExecuteTime": {
     "end_time": "2021-06-24T09:03:02.837698Z",
     "start_time": "2021-06-24T09:03:02.558898Z"
    }
   },
   "outputs": [
    {
     "data": {
      "image/png": "[encoded data removed]",
      "text/plain": [
       "<Figure size 432x288 with 1 Axes>"
      ]
     },
     "metadata": {
      "needs_background": "light"
     },
     "output_type": "display_data"
    }
   ],
   "source": [
    "plt.ylim(0, 1.0)\n",
    "\n",
    "plt.plot(index_train_list,train_losses)\n",
    "plt.ylabel('training loss')\n",
    "\n",
    "plt.plot(index_test_list,test_losses)\n",
    "plt.ylabel('training loss')\n",
    "\n",
    "plt.show()"
   ]
  },
  {
   "cell_type": "code",
   "execution_count": 20,
   "metadata": {
    "ExecuteTime": {
     "end_time": "2021-06-24T09:03:02.915813Z",
     "start_time": "2021-06-24T09:03:02.837698Z"
    }
   },
   "outputs": [],
   "source": [
    "torch.save(net, \"save/Deep_learning_F_uniform_10_1\")"
   ]
  },
  {
   "cell_type": "code",
   "execution_count": 21,
   "metadata": {
    "ExecuteTime": {
     "end_time": "2021-06-24T09:04:52.005622Z",
     "start_time": "2021-06-24T09:03:02.915813Z"
    }
   },
   "outputs": [
    {
     "name": "stdout",
     "output_type": "stream",
     "text": [
      "9.089697680543692 8.994735009514857 0.09496267102883493 0.015987042587529032\n"
     ]
    }
   ],
   "source": [
    "denominator = 0\n",
    "result_list = []\n",
    "for index in range(len(testing_data)):\n",
    "    h_list = []\n",
    "    for i in range(Agent_number_n):\n",
    "        h = net.calculate(torch.tensor(testing_data[index][i]).cuda().type(torch.float32))\n",
    "        h_list.append(float(h))\n",
    "    \n",
    "    #print(sum(h_list),h_list,sum(h_list)/testing_label[index])\n",
    "    result_list.append(sum(h_list)/testing_label[index])\n",
    "    \n",
    "\n",
    "print(max(result_list),min(result_list),max(result_list)-min(result_list),sum(result_list)/len(result_list)-min(result_list))"
   ]
  },
  {
   "cell_type": "code",
   "execution_count": 22,
   "metadata": {
    "ExecuteTime": {
     "end_time": "2021-06-24T09:04:52.956766Z",
     "start_time": "2021-06-24T09:04:52.005622Z"
    }
   },
   "outputs": [
    {
     "data": {
      "image/png": "[encoded data removed]",
      "text/plain": [
       "<Figure size 432x288 with 1 Axes>"
      ]
     },
     "metadata": {
      "needs_background": "light"
     },
     "output_type": "display_data"
    }
   ],
   "source": [
    "plt.hist(result_list,bins=500)\n",
    "\n",
    "plt.title(\"Means\", y=1.015, fontsize=20)\n",
    "plt.axvline(x=sum(result_list)/len(result_list), linestyle='--', linewidth=2.5, label=\"sample mean\", c='orange')\n",
    "plt.xlabel(\"samples\", labelpad=14)\n",
    "plt.ylabel(\"frequency of occurence\", labelpad=14)\n",
    "plt.legend();\n",
    "\n",
    "result_list.sort()\n",
    "\n",
    "plt.axvline(x=result_list[int(len(result_list)*0.01)], linestyle='--', linewidth=0.5, label=\"1%\", c='b')\n",
    "plt.axvline(x=result_list[int(len(result_list)*0.99)], linestyle='--', linewidth=0.5, label=\"99%\", c='r')\n",
    "\n",
    "\n",
    "plt.show()"
   ]
  },
  {
   "cell_type": "code",
   "execution_count": null,
   "metadata": {},
   "outputs": [],
   "source": []
  },
  {
   "cell_type": "code",
   "execution_count": null,
   "metadata": {},
   "outputs": [],
   "source": []
  }
 ],
 "metadata": {
  "hide_input": false,
  "kernelspec": {
   "display_name": "Python 3",
   "language": "python",
   "name": "python3"
  },
  "language_info": {
   "codemirror_mode": {
    "name": "ipython",
    "version": 3
   },
   "file_extension": ".py",
   "mimetype": "text/x-python",
   "name": "python",
   "nbconvert_exporter": "python",
   "pygments_lexer": "ipython3",
   "version": "3.8.3"
  },
  "varInspector": {
   "cols": {
    "lenName": 16,
    "lenType": 16,
    "lenVar": 40
   },
   "kernels_config": {
    "python": {
     "delete_cmd_postfix": "",
     "delete_cmd_prefix": "del ",
     "library": "var_list.py",
     "varRefreshCmd": "print(var_dic_list())"
    },
    "r": {
     "delete_cmd_postfix": ") ",
     "delete_cmd_prefix": "rm(",
     "library": "var_list.r",
     "varRefreshCmd": "cat(var_dic_list()) "
    }
   },
   "types_to_exclude": [
    "module",
    "function",
    "builtin_function_or_method",
    "instance",
    "_Feature"
   ],
   "window_display": false
  }
 },
 "nbformat": 4,
 "nbformat_minor": 4
}
