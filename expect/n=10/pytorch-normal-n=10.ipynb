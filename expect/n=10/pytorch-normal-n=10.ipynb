{
 "cells": [
  {
   "cell_type": "code",
   "execution_count": 1,
   "metadata": {
    "ExecuteTime": {
     "end_time": "2021-06-15T12:20:22.812527Z",
     "start_time": "2021-06-15T12:20:20.868706Z"
    }
   },
   "outputs": [
    {
     "name": "stdout",
     "output_type": "stream",
     "text": [
      "pygame 2.0.1 (SDL 2.0.14, Python 3.8.3)\n",
      "Hello from the pygame community. https://www.pygame.org/contribute.html\n"
     ]
    },
    {
     "name": "stderr",
     "output_type": "stream",
     "text": [
      "D:\\ComputerSoftwares\\Anaconda\\lib\\site-packages\\sklearn\\utils\\deprecation.py:143: FutureWarning: The sklearn.datasets.samples_generator module is  deprecated in version 0.22 and will be removed in version 0.24. The corresponding classes / functions should instead be imported from sklearn.datasets. Anything that cannot be imported from sklearn.datasets is now part of the private API.\n",
      "  warnings.warn(message, FutureWarning)\n"
     ]
    },
    {
     "name": "stdout",
     "output_type": "stream",
     "text": [
      "cuda:0\n"
     ]
    }
   ],
   "source": [
    "\n",
    "import pygame\n",
    "import random\n",
    "import os\n",
    "import time\n",
    "import numpy as np\n",
    "import math\n",
    "import torch\n",
    "import torch.nn.functional\n",
    "import matplotlib.pyplot as plt\n",
    "import torch.optim as opt\n",
    "from torch.autograd import Variable\n",
    "from sklearn.model_selection import train_test_split\n",
    "\n",
    "import scipy.stats as st\n",
    "from sklearn.datasets.samples_generator import make_blobs\n",
    "from matplotlib.colors import LogNorm \n",
    "import matplotlib.cm as cm\n",
    "import torch.nn as nn\n",
    "import numpy as np\n",
    "import matplotlib.pyplot as plt\n",
    "import plotly.graph_objects as go\n",
    "import plotly.express as px\n",
    "from scipy.interpolate import griddata\n",
    "# import LossAccPlotter\n",
    "# from laplotter import LossAccPlotter\n",
    "# from check_laplotter import show_chart, add_noise\n",
    "\n",
    "if torch.cuda.is_available():  \n",
    "    dev = \"cuda:0\" \n",
    "else:  \n",
    "    dev = \"cpu\"  \n",
    "\n",
    "print(dev)\n",
    "\n"
   ]
  },
  {
   "cell_type": "code",
   "execution_count": 2,
   "metadata": {
    "ExecuteTime": {
     "end_time": "2021-06-15T12:20:22.828502Z",
     "start_time": "2021-06-15T12:20:22.814522Z"
    },
    "run_control": {
     "marked": true
    }
   },
   "outputs": [],
   "source": [
    "global temp_list\n",
    "temp_list = []\n",
    "Agent_number_n=10;\n",
    "Alpha = 1.0;\n",
    "\n",
    "echo = 2001\n",
    "BATCH_SIZE = 64\n",
    "LR = 0.001           # learning rate for generator\n",
    "\n",
    "normalloc = 0.5\n",
    "normalscale = 0.1\n",
    "\n",
    "def Generate_distribution(Agent_number_n):\n",
    "    #return sorted(np.random.rand(Agent_number_n), reverse=True)\n",
    "    return sorted(np.random.normal(normalloc,normalscale,Agent_number_n), reverse=True)\n"
   ]
  },
  {
   "cell_type": "code",
   "execution_count": 3,
   "metadata": {
    "ExecuteTime": {
     "end_time": "2021-06-15T12:20:23.704208Z",
     "start_time": "2021-06-15T12:20:22.830004Z"
    }
   },
   "outputs": [
    {
     "name": "stdout",
     "output_type": "stream",
     "text": [
      "[[[0.68498653 0.49748217 0.47596324 ... 0.36683862 0.34148725 0.27736133]\n",
      "  [0.7121997  0.49748217 0.47596324 ... 0.36683862 0.34148725 0.27736133]\n",
      "  [0.7121997  0.68498653 0.47596324 ... 0.36683862 0.34148725 0.27736133]\n",
      "  ...\n",
      "  [0.7121997  0.68498653 0.49748217 ... 0.38051571 0.34148725 0.27736133]\n",
      "  [0.7121997  0.68498653 0.49748217 ... 0.38051571 0.36683862 0.27736133]\n",
      "  [0.7121997  0.68498653 0.49748217 ... 0.38051571 0.36683862 0.34148725]]\n",
      "\n",
      " [[0.60911391 0.5820641  0.5263299  ... 0.38614042 0.38415931 0.35024274]\n",
      "  [0.6103891  0.5820641  0.5263299  ... 0.38614042 0.38415931 0.35024274]\n",
      "  [0.6103891  0.60911391 0.5263299  ... 0.38614042 0.38415931 0.35024274]\n",
      "  ...\n",
      "  [0.6103891  0.60911391 0.5820641  ... 0.38841836 0.38415931 0.35024274]\n",
      "  [0.6103891  0.60911391 0.5820641  ... 0.38841836 0.38614042 0.35024274]\n",
      "  [0.6103891  0.60911391 0.5820641  ... 0.38841836 0.38614042 0.38415931]]\n",
      "\n",
      " [[0.54132198 0.52271409 0.51378399 ... 0.44200939 0.38015645 0.36686634]\n",
      "  [0.59167656 0.52271409 0.51378399 ... 0.44200939 0.38015645 0.36686634]\n",
      "  [0.59167656 0.54132198 0.51378399 ... 0.44200939 0.38015645 0.36686634]\n",
      "  ...\n",
      "  [0.59167656 0.54132198 0.52271409 ... 0.46087435 0.38015645 0.36686634]\n",
      "  [0.59167656 0.54132198 0.52271409 ... 0.46087435 0.44200939 0.36686634]\n",
      "  [0.59167656 0.54132198 0.52271409 ... 0.46087435 0.44200939 0.38015645]]\n",
      "\n",
      " ...\n",
      "\n",
      " [[0.62760587 0.54686503 0.5092839  ... 0.38711076 0.33323194 0.31578169]\n",
      "  [0.6409639  0.54686503 0.5092839  ... 0.38711076 0.33323194 0.31578169]\n",
      "  [0.6409639  0.62760587 0.5092839  ... 0.38711076 0.33323194 0.31578169]\n",
      "  ...\n",
      "  [0.6409639  0.62760587 0.54686503 ... 0.47257107 0.33323194 0.31578169]\n",
      "  [0.6409639  0.62760587 0.54686503 ... 0.47257107 0.38711076 0.31578169]\n",
      "  [0.6409639  0.62760587 0.54686503 ... 0.47257107 0.38711076 0.33323194]]\n",
      "\n",
      " [[0.56176295 0.55938971 0.51076565 ... 0.42204856 0.40070721 0.39396488]\n",
      "  [0.57590186 0.55938971 0.51076565 ... 0.42204856 0.40070721 0.39396488]\n",
      "  [0.57590186 0.56176295 0.51076565 ... 0.42204856 0.40070721 0.39396488]\n",
      "  ...\n",
      "  [0.57590186 0.56176295 0.55938971 ... 0.42831673 0.40070721 0.39396488]\n",
      "  [0.57590186 0.56176295 0.55938971 ... 0.42831673 0.42204856 0.39396488]\n",
      "  [0.57590186 0.56176295 0.55938971 ... 0.42831673 0.42204856 0.40070721]]\n",
      "\n",
      " [[0.61975087 0.55383743 0.53048303 ... 0.38013506 0.36386892 0.32089368]\n",
      "  [0.8167786  0.55383743 0.53048303 ... 0.38013506 0.36386892 0.32089368]\n",
      "  [0.8167786  0.61975087 0.53048303 ... 0.38013506 0.36386892 0.32089368]\n",
      "  ...\n",
      "  [0.8167786  0.61975087 0.55383743 ... 0.40647383 0.36386892 0.32089368]\n",
      "  [0.8167786  0.61975087 0.55383743 ... 0.40647383 0.38013506 0.32089368]\n",
      "  [0.8167786  0.61975087 0.55383743 ... 0.40647383 0.38013506 0.36386892]]]\n",
      "[4.58747696 4.79728976 4.78367732 ... 4.82417009 4.78301979 4.9524452 ]\n"
     ]
    }
   ],
   "source": [
    "def h_3_star(a, b, t):\n",
    "    return a - min(a, t) + b - min(b, t) + max(min(a, t)+min(b, t), 2*t/3) + 1/2 * max(min(a, t)+min(b, t), t) - 1/2 * max(max(min(a, t), min(b, t)), 2*t/3) - t/6\n",
    "\n",
    "\n",
    "def f_function(a, b, z):\n",
    "    if(z >= 1):\n",
    "        return (a+b)/2 + z/3\n",
    "    else:\n",
    "        return z/3 + h_3_star(a, b, 1-z)/2\n",
    "\n",
    "def h_function_label(input_list):\n",
    "    #input_list = sorted(input_list)\n",
    "    g_list = []\n",
    "    for j1 in range(len(input_list) ):\n",
    "        for j2 in range(len(input_list)):\n",
    "            if(j1 != j2):\n",
    "                a = input_list[j1]\n",
    "                b = input_list[j2]\n",
    "                z = sum(input_list)- a-b\n",
    "\n",
    "                g_list.append( f_function(a, b, z) * (Agent_number_n-1))\n",
    "    h = sum(g_list) * 3 /  (Agent_number_n) /  (Agent_number_n-1) /  (Agent_number_n - 2)\n",
    "    return h\n",
    "\n",
    "def appen(_x_list,y):\n",
    "    global temp_list\n",
    "    temp_list.append(_x_list)\n",
    "    \n",
    "def appen_train(x_list):\n",
    "    global temp_list\n",
    "                \n",
    "    S= max(sum(x_list),1.0);\n",
    "    temp_list = []\n",
    "    h_list = []\n",
    "    for i in range(Agent_number_n):\n",
    "        temp = []\n",
    "        for j in range(Agent_number_n):\n",
    "            if(i!=j):\n",
    "                temp.append(x_list[j])\n",
    "        appen(temp,S)\n",
    "        \n",
    "        h = h_function_label(temp)\n",
    "        h_list.append(float(h))\n",
    "    temp_list = np.array(temp_list)\n",
    "    x_list = np.array(x_list)\n",
    "    return temp_list,S,x_list,h_list\n",
    "    \n",
    "\n",
    "def appen_test(x_list):\n",
    "    global temp_list\n",
    "                \n",
    "    S= max(sum(x_list),1.0);\n",
    "    temp_list = []\n",
    "    \n",
    "    for i in range(Agent_number_n):\n",
    "        temp = []\n",
    "        for j in range(Agent_number_n):\n",
    "            if(i!=j):\n",
    "                temp.append(x_list[j])\n",
    "        appen(temp,S)\n",
    "    testing_data.append(temp_list)\n",
    "    testing_label.append(S)\n",
    "    temp_list = np.array(temp_list)\n",
    "    return temp_list,S\n",
    "    \n",
    "\n",
    "def read_testing_data():\n",
    "    for i in range(10000):\n",
    "        appen_test(Generate_distribution(Agent_number_n));\n",
    "                            \n",
    "\n",
    "testing_data=[]\n",
    "testing_label=[]\n",
    "S=1.0\n",
    "read_testing_data();\n",
    "\n",
    "testing_data=np.array(testing_data)\n",
    "testing_label=np.array(testing_label)\n",
    "print(testing_data)\n",
    "print(testing_label)"
   ]
  },
  {
   "cell_type": "code",
   "execution_count": 4,
   "metadata": {
    "ExecuteTime": {
     "end_time": "2021-06-15T12:21:14.924681Z",
     "start_time": "2021-06-15T12:20:23.706204Z"
    }
   },
   "outputs": [
    {
     "name": "stdout",
     "output_type": "stream",
     "text": [
      "9.000000000000005 8.999999999999995 1.0658141036401503e-14 9.0\n"
     ]
    }
   ],
   "source": [
    "def h_3_star(a, b, t):\n",
    "    return a - min(a, t) + b - min(b, t) + max(min(a, t)+min(b, t), 2*t/3) + 1/2 * max(min(a, t)+min(b, t), t) - 1/2 * max(max(min(a, t), min(b, t)), 2*t/3) - t/6\n",
    "\n",
    "\n",
    "def f_function(a, b, z):\n",
    "    if(z >= 1):\n",
    "        return (a+b)/2 + z/3\n",
    "    else:\n",
    "        return z/3 + h_3_star(a, b, 1-z)/2\n",
    "\n",
    "def h_function(input_list):\n",
    "    #input_list = sorted(input_list)\n",
    "    g_list = []\n",
    "    for j1 in range(len(input_list) ):\n",
    "        for j2 in range(len(input_list)):\n",
    "            if(j1 != j2):\n",
    "                a = input_list[j1]\n",
    "                b = input_list[j2]\n",
    "                z = sum(input_list)- a-b\n",
    "\n",
    "                g_list.append( f_function(a, b, z) * (Agent_number_n-1))\n",
    "    h = sum(g_list) * 3 /  (Agent_number_n) /  (Agent_number_n-1) /  (Agent_number_n - 2)\n",
    "    return h\n",
    "                \n",
    "                \n",
    "x_list = []\n",
    "y_list = []\n",
    "z_list = []\n",
    "result_list = []\n",
    "for index in range(len(testing_data)):\n",
    "    h_list = []\n",
    "    for i in range(Agent_number_n):\n",
    "        x_list.append(testing_data[index][i][0])\n",
    "        y_list.append(testing_data[index][i][1])\n",
    "        h = h_function(testing_data[index][i])\n",
    "        z_list.append(float(h))\n",
    "        h_list.append(float(h))\n",
    "    result_list.append(sum(h_list)/testing_label[index]) \n",
    "    \n",
    "    \n",
    "print(max(result_list), min(result_list), max(result_list)-min(result_list),sum(result_list)/len(result_list))"
   ]
  },
  {
   "cell_type": "code",
   "execution_count": 5,
   "metadata": {
    "ExecuteTime": {
     "end_time": "2021-06-15T12:21:15.860763Z",
     "start_time": "2021-06-15T12:21:14.925678Z"
    }
   },
   "outputs": [
    {
     "data": {
      "image/png": "[encoded data removed]",
      "text/plain": [
       "<Figure size 432x288 with 1 Axes>"
      ]
     },
     "metadata": {
      "needs_background": "light"
     },
     "output_type": "display_data"
    }
   ],
   "source": [
    "plt.hist(result_list,bins=500)\n",
    "\n",
    "plt.title(\"Means\", y=1.015, fontsize=20)\n",
    "plt.axvline(x=sum(result_list)/len(result_list), linestyle='--', linewidth=2.5, label=\"sample mean\", c='orange')\n",
    "plt.xlabel(\"samples\", labelpad=14)\n",
    "plt.ylabel(\"frequency of occurence\", labelpad=14)\n",
    "plt.legend();\n",
    "\n",
    "result_list.sort()\n",
    "\n",
    "plt.axvline(x=result_list[int(len(result_list)*0.01)], linestyle='--', linewidth=0.5, label=\"1%\", c='b')\n",
    "plt.axvline(x=result_list[int(len(result_list)*0.99)], linestyle='--', linewidth=0.5, label=\"99%\", c='r')\n",
    "\n",
    "\n",
    "plt.show()"
   ]
  },
  {
   "cell_type": "code",
   "execution_count": 6,
   "metadata": {
    "ExecuteTime": {
     "end_time": "2021-06-15T12:21:15.876009Z",
     "start_time": "2021-06-15T12:21:15.860763Z"
    },
    "run_control": {
     "marked": true
    }
   },
   "outputs": [],
   "source": [
    "def weight_init(m):\n",
    "    if isinstance(m, torch.nn.Conv2d):\n",
    "        torch.nn.init.xavier_normal_(m.weight)\n",
    "        torch.nn.init.zeros_(m.bias)\n",
    "    elif isinstance(m, torch.nn.Linear):\n",
    "        torch.nn.init.xavier_normal_(m.weight)\n",
    "        torch.nn.init.normal_(m.bias, mean=0.0, std=0.01)\n",
    "\n",
    "\n",
    "class Net(torch.nn.Module):\n",
    "    def __init__(self):\n",
    "\n",
    "        super(Net, self).__init__()\n",
    "\n",
    "        self.input_dim = (Agent_number_n-1)\n",
    "        self.hidden_dim = 100\n",
    "        self.output_dim = 1\n",
    "        self.hidden_layer_count = 6\n",
    "\n",
    "        current_dim = self.input_dim\n",
    "        self.layers = torch.nn.ModuleList()\n",
    "        for i in range(self.hidden_layer_count):\n",
    "            self.layers.append(torch.nn.Linear(current_dim, self.hidden_dim))\n",
    "            current_dim = self.hidden_dim\n",
    "        self.layers.append(torch.nn.Linear(current_dim, self.output_dim))\n",
    "\n",
    "    def calculate(self, value_list):\n",
    "        h = value_list\n",
    "        for layer in self.layers:\n",
    "            h = torch.relu(layer(h))\n",
    "        return h\n",
    "\n",
    "    def forward(self, input_list, input_label, label):\n",
    "        global iteration, echo, target_order\n",
    "        loss1 = 0\n",
    "        loss2 = 0\n",
    "        input_list = torch.from_numpy(\n",
    "            np.array(input_list)).to(dev).type(torch.float32)\n",
    "        h_list = []\n",
    "\n",
    "        for i in range(Agent_number_n):\n",
    "            h = self.calculate(input_list[i])\n",
    "            h_list.append(h)\n",
    "#             loss3 += torch.square(h_function_2(input_list)-h2[1])\n",
    "\n",
    "        input_label = torch.from_numpy(\n",
    "            np.array(input_label)).to(dev).type(torch.float32)\n",
    "        sum_h = torch.sum(torch.cat(h_list)).to(dev)\n",
    "\n",
    "        loss1 = torch.where((Agent_number_n-1)*input_label > sum_h,\n",
    "                            torch.square(\n",
    "                                ((Agent_number_n-1)*input_label-sum_h)),\n",
    "                            torch.zeros(1).to(dev)\n",
    "                            )\n",
    "#         loss2 = torch.relu((sum_h-(Agent_number_n-Alpha)*input_label))/10000\n",
    "\n",
    "        loss2 = torch.where((Agent_number_n-Alpha)*input_label<sum_h,\n",
    "                        torch.square((sum_h-(Agent_number_n-Alpha)*input_label))/10000,\n",
    "                        torch.zeros(1).to(dev)\n",
    "                      )\n",
    "\n",
    "#         loss1 = torch.relu(((Agent_number_n-1)*input_label-sum_h))\n",
    "\n",
    "#         loss2 = torch.relu((sum_h-(Agent_number_n-Alpha)*input_label))/10000\n",
    "\n",
    "        return loss1, loss2\n",
    "\n",
    "    def supervised_loss(self, input_list,label):\n",
    "        global iteration,echo,target_order\n",
    "        input_list = torch.from_numpy(\n",
    "            np.array(input_list)).to(dev).type(torch.float32)\n",
    "        loss = 0 \n",
    "        for i in range(Agent_number_n):\n",
    "            h = self.calculate(input_list[i])\n",
    "            loss += torch.square(h - label[i])\n",
    "        return loss"
   ]
  },
  {
   "cell_type": "code",
   "execution_count": 7,
   "metadata": {
    "ExecuteTime": {
     "end_time": "2021-06-15T12:21:17.206725Z",
     "start_time": "2021-06-15T12:21:15.879046Z"
    }
   },
   "outputs": [
    {
     "name": "stdout",
     "output_type": "stream",
     "text": [
      "Net(\n",
      "  (layers): ModuleList(\n",
      "    (0): Linear(in_features=9, out_features=100, bias=True)\n",
      "    (1): Linear(in_features=100, out_features=100, bias=True)\n",
      "    (2): Linear(in_features=100, out_features=100, bias=True)\n",
      "    (3): Linear(in_features=100, out_features=100, bias=True)\n",
      "    (4): Linear(in_features=100, out_features=100, bias=True)\n",
      "    (5): Linear(in_features=100, out_features=100, bias=True)\n",
      "    (6): Linear(in_features=100, out_features=1, bias=True)\n",
      "  )\n",
      ")\n"
     ]
    }
   ],
   "source": [
    "random.seed(2000)\n",
    "torch.manual_seed(256)\n",
    "net  = Net()\n",
    "net.apply(weight_init)\n",
    "\n",
    "#net = torch.load(\"save/Deep_learning_normal_10_1\")\n",
    "net.to(dev)\n",
    "#optimizer = opt.RMSprop(net.parameters(), lr=0.00001)\n",
    "#optimizer = opt.SGD(net.parameters(), lr=0.00005)\n",
    "optimizer = opt.Adam(net.parameters(), lr=LR)\n",
    "#optimizer = opt.Adadelta(net.parameters(), lr=1.0)\n",
    "print(net)\n",
    "scheduler = torch.optim.lr_scheduler.StepLR(optimizer, step_size=100, gamma=0.99)\n",
    "\n",
    "\n",
    "index_train_list = []\n",
    "index_test_list = []\n",
    "train_losses = []\n",
    "test_losses = []"
   ]
  },
  {
   "cell_type": "code",
   "execution_count": 8,
   "metadata": {
    "ExecuteTime": {
     "end_time": "2021-06-15T12:41:15.588067Z",
     "start_time": "2021-06-15T12:21:17.206725Z"
    }
   },
   "outputs": [
    {
     "name": "stdout",
     "output_type": "stream",
     "text": [
      "0 tensor(204.3437, device='cuda:0', grad_fn=<DivBackward0>) 13077.99609375\n",
      "50 tensor(0.0687, device='cuda:0', grad_fn=<DivBackward0>) 4.398077011108398\n",
      "100 tensor(0.0378, device='cuda:0', grad_fn=<DivBackward0>) 2.4167892932891846\n",
      "150 tensor(0.0460, device='cuda:0', grad_fn=<DivBackward0>) 2.941755771636963\n",
      "200 tensor(0.0297, device='cuda:0', grad_fn=<DivBackward0>) 1.8992468118667603\n",
      "250 tensor(0.0344, device='cuda:0', grad_fn=<DivBackward0>) 2.2003989219665527\n",
      "300 tensor(0.0329, device='cuda:0', grad_fn=<DivBackward0>) 2.1059298515319824\n",
      "350 tensor(0.0284, device='cuda:0', grad_fn=<DivBackward0>) 1.818978190422058\n",
      "400 tensor(0.0433, device='cuda:0', grad_fn=<DivBackward0>) 2.770720958709717\n",
      "450 tensor(0.0279, device='cuda:0', grad_fn=<DivBackward0>) 1.7857232093811035\n",
      "500 tensor(0.0311, device='cuda:0', grad_fn=<DivBackward0>) 1.9898813962936401\n",
      "550 tensor(0.0236, device='cuda:0', grad_fn=<DivBackward0>) 1.5121190547943115\n",
      "600 tensor(0.0250, device='cuda:0', grad_fn=<DivBackward0>) 1.6001125574111938\n",
      "650 tensor(0.0209, device='cuda:0', grad_fn=<DivBackward0>) 1.3373475074768066\n",
      "700 tensor(0.0147, device='cuda:0', grad_fn=<DivBackward0>) 0.9435784816741943\n",
      "750 tensor(0.0174, device='cuda:0', grad_fn=<DivBackward0>) 1.111971139907837\n",
      "800 tensor(0.0215, device='cuda:0', grad_fn=<DivBackward0>) 1.3771796226501465\n",
      "850 tensor(0.0117, device='cuda:0', grad_fn=<DivBackward0>) 0.7498242259025574\n",
      "900 tensor(0.0134, device='cuda:0', grad_fn=<DivBackward0>) 0.8584893345832825\n",
      "950 tensor(0.0200, device='cuda:0', grad_fn=<DivBackward0>) 1.2794297933578491\n"
     ]
    }
   ],
   "source": [
    "#supervised\n",
    "index_supervisedtrain_list = []\n",
    "supervisedtrain_losses = []\n",
    "for iteration in range(1000):\n",
    "\n",
    "    temp_number = 0\n",
    "    total_batch_loss = 0 \n",
    "    \n",
    "    loss_sum = 0\n",
    "    denominator = 0\n",
    "    for index in range(0, BATCH_SIZE):\n",
    "        training_data_i, training_S, training_data,label = appen_train(\n",
    "            Generate_distribution(Agent_number_n))\n",
    "        h_loss = net.supervised_loss(training_data_i, label)\n",
    "        denominator += 1\n",
    "        loss_sum += h_loss\n",
    "\n",
    "    loss_sum = torch.sum(loss_sum)\n",
    "    loss = (loss_sum) / denominator \n",
    "    total_batch_loss += float(loss_sum)\n",
    "\n",
    "    optimizer.zero_grad()\n",
    "    loss.backward()\n",
    "    optimizer.step()\n",
    "\n",
    "    if (iteration%50 == 0):\n",
    "        print(iteration,loss,total_batch_loss)\n",
    "        index_supervisedtrain_list.append(iteration)\n",
    "        supervisedtrain_losses.append(total_batch_loss)\n",
    "    scheduler.step()"
   ]
  },
  {
   "cell_type": "code",
   "execution_count": 9,
   "metadata": {
    "ExecuteTime": {
     "end_time": "2021-06-15T14:35:44.270766Z",
     "start_time": "2021-06-15T12:41:15.590061Z"
    }
   },
   "outputs": [
    {
     "name": "stdout",
     "output_type": "stream",
     "text": [
      "0 tensor(0.0853, device='cuda:0', grad_fn=<DivBackward0>) 5.456573009490967 0.00021408763132058084\n",
      "batch iteration 0\n",
      "batch_loss: 0.09 \n",
      "9.451866180427867 8.942132447851924 0.5097337325759437 0.2635846335241503\n",
      "\n",
      "50 tensor(0.0056, device='cuda:0', grad_fn=<DivBackward0>) 0.0 0.3587849736213684\n",
      "batch iteration 50\n",
      "batch_loss: 0.01 \n",
      "10.831567647214332 10.255909516454825 0.575658130759507 0.23201346339313922\n",
      "\n",
      "100 tensor(0.0030, device='cuda:0', grad_fn=<DivBackward0>) 0.0 0.19198347628116608\n",
      "batch iteration 100\n",
      "batch_loss: 0.00 \n",
      "10.429382963848418 9.87459561599009 0.5547873478583281 0.2238782296940549\n",
      "\n",
      "150 tensor(0.0017, device='cuda:0', grad_fn=<DivBackward0>) 0.0 0.10616160184144974\n",
      "batch iteration 150\n",
      "batch_loss: 0.00 \n",
      "10.13394475523837 9.594552120305007 0.5393926349333622 0.2178963324702501\n",
      "\n",
      "200 tensor(0.0009, device='cuda:0', grad_fn=<DivBackward0>) 0.0 0.057258427143096924\n",
      "batch iteration 200\n",
      "batch_loss: 0.00 \n",
      "9.917966994860853 9.389873751178097 0.5280932436827559 0.21352615217049475\n",
      "\n",
      "250 tensor(0.0005, device='cuda:0', grad_fn=<DivBackward0>) 0.0 0.03118273988366127\n",
      "batch iteration 250\n",
      "batch_loss: 0.00 \n",
      "9.759131917768038 9.239367138367843 0.5197647794001945 0.2103138132667297\n",
      "\n",
      "300 tensor(0.0003, device='cuda:0', grad_fn=<DivBackward0>) 0.0 0.01881358027458191\n",
      "batch iteration 300\n",
      "batch_loss: 0.00 \n",
      "9.640370666127197 9.12684529907041 0.5135253670567863 0.20791723165410936\n",
      "\n",
      "350 tensor(0.0002, device='cuda:0', grad_fn=<DivBackward0>) 0.0 0.00994008220732212\n",
      "batch iteration 350\n",
      "batch_loss: 0.00 \n",
      "9.551458298927225 9.042611710257747 0.5088465886694777 0.20612353278263917\n",
      "\n",
      "400 tensor(0.0001, device='cuda:0', grad_fn=<DivBackward0>) 0.0 0.006677537690848112\n",
      "batch iteration 400\n",
      "batch_loss: 0.00 \n",
      "9.505391625749043 8.999009265803926 0.5063823599451176 0.20612523367675273\n",
      "\n",
      "450 tensor(9.0907e-05, device='cuda:0', grad_fn=<DivBackward0>) 0.0 0.005818024277687073\n",
      "batch iteration 450\n",
      "batch_loss: 0.00 \n",
      "9.494090542194535 8.988544871615552 0.5055456705789823 0.21628781999275581\n",
      "\n",
      "500 tensor(8.2380e-05, device='cuda:0', grad_fn=<DivBackward0>) 0.0 0.0052723390981554985\n",
      "batch iteration 500\n",
      "batch_loss: 0.00 \n",
      "9.480785171489522 8.97619661352955 0.5045885579599716 0.22830808320754414\n",
      "\n",
      "550 tensor(7.6601e-05, device='cuda:0', grad_fn=<DivBackward0>) 0.0 0.004902435466647148\n",
      "batch iteration 550\n",
      "batch_loss: 0.00 \n",
      "9.477832013543901 8.973519240694007 0.5043127728498948 0.23081975433070845\n",
      "\n",
      "600 tensor(0.0001, device='cuda:0', grad_fn=<DivBackward0>) 0.0 0.009318162687122822\n",
      "batch iteration 600\n",
      "batch_loss: 0.00 \n",
      "9.541954629259084 9.034832340795461 0.5071222884636235 0.2054073959393321\n",
      "\n",
      "650 tensor(9.0185e-05, device='cuda:0', grad_fn=<DivBackward0>) 0.0 0.0057718525640666485\n",
      "batch iteration 650\n",
      "batch_loss: 0.00 \n",
      "9.487619696757202 8.983430489970097 0.504189206787105 0.22084431793337522\n",
      "\n",
      "700 tensor(7.3784e-05, device='cuda:0', grad_fn=<DivBackward0>) 0.0 0.004722150508314371\n",
      "batch iteration 700\n",
      "batch_loss: 0.00 \n",
      "9.471457933496868 8.968296391527959 0.5031615419689093 0.23558638561872414\n",
      "\n",
      "750 tensor(9.8701e-05, device='cuda:0', grad_fn=<DivBackward0>) 0.0 0.0063168699853122234\n",
      "batch iteration 750\n",
      "batch_loss: 0.00 \n",
      "9.504233485224301 8.999724993668888 0.5045084915554128 0.20460301450533436\n",
      "\n",
      "800 tensor(7.8425e-05, device='cuda:0', grad_fn=<DivBackward0>) 0.0 0.005019195843487978\n",
      "batch iteration 800\n",
      "batch_loss: 0.00 \n",
      "9.48083122248852 8.977570798408607 0.5032604240799134 0.22613801108116505\n",
      "\n",
      "850 tensor(7.1506e-05, device='cuda:0', grad_fn=<DivBackward0>) 0.0 0.004576411098241806\n",
      "batch iteration 850\n",
      "batch_loss: 0.00 \n",
      "9.464008682446497 8.961773352053266 0.5022353303932316 0.24148434440603594\n",
      "\n",
      "900 tensor(7.0182e-05, device='cuda:0', grad_fn=<DivBackward0>) 0.0 0.004491675179451704\n",
      "batch iteration 900\n",
      "batch_loss: 0.00 \n",
      "9.462509401820874 8.960577369449858 0.5019320323710161 0.24250998308459337\n",
      "\n",
      "950 tensor(9.9360e-05, device='cuda:0', grad_fn=<DivBackward0>) 0.0 0.006359066814184189\n",
      "batch iteration 950\n",
      "batch_loss: 0.00 \n",
      "9.508862420240368 9.004876135943142 0.5039862842972251 0.20376582796813913\n",
      "\n",
      "1000 tensor(6.1768e-05, device='cuda:0', grad_fn=<DivBackward0>) 0.0 0.003953138366341591\n",
      "batch iteration 1000\n",
      "batch_loss: 0.00 \n",
      "9.45726081855246 8.956119709338164 0.501141109214295 0.24656513815101988\n",
      "\n",
      "1050 tensor(7.0082e-05, device='cuda:0', grad_fn=<DivBackward0>) 0.0 0.00448522437363863\n",
      "batch iteration 1050\n",
      "batch_loss: 0.00 \n",
      "9.461288240730696 8.960142947169206 0.5011452935614891 0.24251300427456535\n",
      "\n",
      "1100 tensor(0.0001, device='cuda:0', grad_fn=<DivBackward0>) 0.0 0.0083745326846838\n",
      "batch iteration 1100\n",
      "batch_loss: 0.00 \n",
      "9.529930136973473 9.025757435267233 0.5041727017062403 0.203758602161761\n",
      "\n",
      "1150 tensor(8.0601e-05, device='cuda:0', grad_fn=<DivBackward0>) 0.0 0.005158482119441032\n",
      "batch iteration 1150\n",
      "batch_loss: 0.00 \n",
      "9.479128954759014 8.977759019138883 0.5013699356201311 0.2249059297189948\n",
      "\n",
      "1200 tensor(0.0001, device='cuda:0', grad_fn=<DivBackward0>) 0.0 0.00941079668700695\n",
      "batch iteration 1200\n",
      "batch_loss: 0.00 \n",
      "9.54364789405067 9.039940648259766 0.5037072457909044 0.20363138941975123\n",
      "\n",
      "1250 tensor(8.1146e-05, device='cuda:0', grad_fn=<DivBackward0>) 0.0 0.005193343851715326\n",
      "batch iteration 1250\n",
      "batch_loss: 0.00 \n",
      "9.47540588369793 8.975372575914934 0.5000333077829957 0.22685480791877488\n",
      "\n",
      "1300 tensor(9.9558e-05, device='cuda:0', grad_fn=<DivBackward0>) 0.0 0.006371704395860434\n",
      "batch iteration 1300\n",
      "batch_loss: 0.00 \n",
      "9.485146544372169 8.98507540978055 0.5000711345916198 0.2172018781943379\n",
      "\n",
      "1350 tensor(6.9622e-05, device='cuda:0', grad_fn=<DivBackward0>) 0.0 0.0044558122754096985\n",
      "batch iteration 1350\n",
      "batch_loss: 0.00 \n",
      "9.46205996738761 8.963388926469056 0.49867104091855374 0.23834829552199643\n",
      "\n",
      "1400 tensor(0.0001, device='cuda:0', grad_fn=<DivBackward0>) 0.0 0.007125480566173792\n",
      "batch iteration 1400\n",
      "batch_loss: 0.00 \n",
      "9.503930494263239 9.003388434873445 0.5005420593897938 0.20232990993788036\n",
      "\n",
      "1450 tensor(6.7505e-05, device='cuda:0', grad_fn=<DivBackward0>) 0.0 0.004320337437093258\n",
      "batch iteration 1450\n",
      "batch_loss: 0.00 \n",
      "9.459043918415228 8.961009425166425 0.49803449324880233 0.24035121094385126\n",
      "\n",
      "1500 tensor(9.1187e-05, device='cuda:0', grad_fn=<DivBackward0>) 0.0 0.005835964810103178\n",
      "batch iteration 1500\n",
      "batch_loss: 0.00 \n",
      "9.481504175905672 8.982785049058476 0.4987191268471953 0.21883163042456388\n",
      "\n",
      "1550 tensor(7.5999e-05, device='cuda:0', grad_fn=<DivBackward0>) 0.0 0.004863907117396593\n",
      "batch iteration 1550\n",
      "batch_loss: 0.00 \n",
      "9.47187601957076 8.974023792157062 0.4978522274136967 0.22721802055938412\n",
      "\n",
      "1600 tensor(8.3556e-05, device='cuda:0', grad_fn=<DivBackward0>) 0.0 0.005347603466361761\n",
      "batch iteration 1600\n",
      "batch_loss: 0.00 \n",
      "9.481860731108888 8.983961704721851 0.49789902638703687 0.21732429541098242\n",
      "\n",
      "1650 tensor(6.9870e-05, device='cuda:0', grad_fn=<DivBackward0>) 0.0 0.004471668507903814\n",
      "batch iteration 1650\n",
      "batch_loss: 0.00 \n",
      "9.464790383581395 8.968081113081636 0.49670927049975866 0.2327490509550092\n",
      "\n",
      "1700 tensor(8.8557e-05, device='cuda:0', grad_fn=<DivBackward0>) 0.0 0.0056676617823541164\n",
      "batch iteration 1700\n",
      "batch_loss: 0.00 \n",
      "9.480924943719957 8.983891891081326 0.4970330526386313 0.21707801372556546\n",
      "\n",
      "1750 tensor(6.5766e-05, device='cuda:0', grad_fn=<DivBackward0>) 0.0 0.004209007136523724\n",
      "batch iteration 1750\n",
      "batch_loss: 0.00 \n",
      "9.463454710302425 8.96733122780837 0.49612348249405613 0.23308632471933244\n",
      "\n",
      "1800 tensor(0.0002, device='cuda:0', grad_fn=<DivBackward0>) 0.0 0.009915675036609173\n",
      "batch iteration 1800\n",
      "batch_loss: 0.00 \n",
      "9.552091937356483 9.052010756180236 0.5000811811762471 0.20182159380156506\n",
      "\n",
      "1850 tensor(0.0001, device='cuda:0', grad_fn=<DivBackward0>) 0.0 0.006864648777991533\n",
      "batch iteration 1850\n",
      "batch_loss: 0.00 \n",
      "9.490807060627406 8.994332461857901 0.4964745987695043 0.20613802969745798\n",
      "\n",
      "1900 tensor(0.0002, device='cuda:0', grad_fn=<DivBackward0>) 0.0 0.013725039549171925\n",
      "batch iteration 1900\n",
      "batch_loss: 0.00 \n",
      "9.589615275834388 9.08877982572227 0.5008354501121186 0.20190838090369922\n",
      "\n",
      "1950 tensor(8.6523e-05, device='cuda:0', grad_fn=<DivBackward0>) 0.0 0.005537451710551977\n",
      "batch iteration 1950\n",
      "batch_loss: 0.00 \n",
      "9.491593684231958 8.995929734844763 0.49566394938719505 0.2039144925693428\n",
      "\n",
      "2000 tensor(9.9668e-05, device='cuda:0', grad_fn=<DivBackward0>) 0.0 0.006378755439072847\n",
      "batch iteration 2000\n",
      "batch_loss: 0.00 \n"
     ]
    },
    {
     "name": "stdout",
     "output_type": "stream",
     "text": [
      "9.484497361301898 8.989478086719986 0.49501927458191197 0.20997248081499187\n",
      "\n"
     ]
    }
   ],
   "source": [
    "for iteration in range(int(echo)):\n",
    "\n",
    "    temp_number = 0\n",
    "    total_batch_loss = 0\n",
    "\n",
    "    loss2_list = []\n",
    "    loss1_sum = 0\n",
    "    loss2_sum = 0\n",
    "    denominator = 0\n",
    "    for index in range(0, BATCH_SIZE):\n",
    "        training_data_i, training_label, training_data,label = appen_train(\n",
    "            Generate_distribution(Agent_number_n))\n",
    "        h_loss1, h_loss2 = net(training_data_i, training_label,\n",
    "                                       training_data)\n",
    "        denominator += 1\n",
    "        loss1_sum += h_loss1\n",
    "        loss2_sum += h_loss2\n",
    "\n",
    "    loss_sum = torch.sum(loss1_sum + loss2_sum)\n",
    "    loss = (loss_sum) / denominator\n",
    "    total_batch_loss = float(loss)\n",
    "    optimizer.zero_grad()\n",
    "\n",
    "    loss.backward()\n",
    "\n",
    "    optimizer.step()\n",
    "\n",
    "    temp_number = iteration\n",
    "\n",
    "    index_train_list.append(iteration)\n",
    "    train_losses.append(total_batch_loss)\n",
    "\n",
    "    if (iteration%50 == 0):\n",
    "        print(temp_number, loss, float(loss1_sum), float(loss2_sum))\n",
    "\n",
    "        print(\"batch iteration\", iteration)\n",
    "        print(\"batch_loss: %.2f \" % total_batch_loss)\n",
    "\n",
    "        result_list = []\n",
    "        for index in range(len(testing_data)):\n",
    "            h_list = []\n",
    "            for i in range(Agent_number_n):\n",
    "                h = net.calculate(\n",
    "                    torch.tensor(testing_data[index][i]).to(dev).type(\n",
    "                        torch.float32))\n",
    "                h_list.append(float(h))\n",
    "            result_list.append(sum(h_list) / testing_label[index])\n",
    "        print(max(result_list), min(result_list),\n",
    "              max(result_list) - min(result_list),\n",
    "              (sum(result_list) / len(result_list) - min(result_list))+ Agent_number_n-1 - min(min(result_list),Agent_number_n-1) )\n",
    "\n",
    "        index_test_list.append(iteration)\n",
    "        test_losses.append(\n",
    "            (sum(result_list) / len(result_list) - min(result_list))+ Agent_number_n-1 - min(min(result_list),Agent_number_n-1) )\n",
    "        print()\n",
    "    scheduler.step()\n",
    "    "
   ]
  },
  {
   "cell_type": "code",
   "execution_count": 11,
   "metadata": {
    "ExecuteTime": {
     "end_time": "2021-06-15T15:07:45.266306Z",
     "start_time": "2021-06-15T15:07:44.976039Z"
    }
   },
   "outputs": [
    {
     "data": {
      "image/png": "[encoded data removed]",
      "text/plain": [
       "<Figure size 432x288 with 1 Axes>"
      ]
     },
     "metadata": {
      "needs_background": "light"
     },
     "output_type": "display_data"
    },
    {
     "data": {
      "image/png": "[encoded data removed]",
      "text/plain": [
       "<Figure size 432x288 with 1 Axes>"
      ]
     },
     "metadata": {
      "needs_background": "light"
     },
     "output_type": "display_data"
    }
   ],
   "source": [
    "plt.ylim(0, 1.0)\n",
    "plt.plot(index_test_list,test_losses)\n",
    "plt.ylabel('Testing Loss')\n",
    "plt.xlabel('Batch Epoch')\n",
    "plt.show()\n",
    "\n",
    "import csv\n",
    "with open('save/test_loss_unfeed_normal_10.csv', 'w', newline='') as csvfile_unfeed:\n",
    "    spamwriter = csv.writer(csvfile_unfeed)\n",
    "    spamwriter.writerow(index_test_list)\n",
    "    spamwriter.writerow(test_losses)\n",
    "\n",
    "\n",
    "with open('save/test_loss_feed_normal_10.csv') as csvfile_feed:\n",
    "    reader = csv.reader(csvfile_feed)\n",
    "    list_feed = []\n",
    "    for row in reader:\n",
    "        row = np.array(row)\n",
    "        temp_list = []\n",
    "        for i in range(len(row)):\n",
    "            temp_list.append(float(row[i]))\n",
    "\n",
    "        list_feed.append(temp_list)\n",
    "    plt.ylim(0, 1.0)\n",
    "    plt.plot(index_test_list,test_losses,label='neural network')\n",
    "    plt.plot(list_feed[0],list_feed[1],label='feed distribution')\n",
    "    plt.ylabel('Testing Loss')\n",
    "    plt.xlabel('Batch Epoch')\n",
    "    #plt.title('Two or more lines on same plot with suitable legends ')\n",
    "    # show a legend on the plot\n",
    "    plt.legend()\n",
    "    plt.show()\n",
    "\n"
   ]
  },
  {
   "cell_type": "code",
   "execution_count": null,
   "metadata": {
    "ExecuteTime": {
     "end_time": "2021-06-15T15:07:45.287250Z",
     "start_time": "2021-06-15T15:07:45.189Z"
    }
   },
   "outputs": [],
   "source": [
    "print(len(list_feed[0]))\n",
    "print(len(list_feed[1]))"
   ]
  },
  {
   "cell_type": "code",
   "execution_count": 12,
   "metadata": {
    "ExecuteTime": {
     "end_time": "2021-06-15T15:07:46.275272Z",
     "start_time": "2021-06-15T15:07:46.136010Z"
    }
   },
   "outputs": [
    {
     "data": {
      "image/png": "[encoded data removed]",
      "text/plain": [
       "<Figure size 432x288 with 1 Axes>"
      ]
     },
     "metadata": {
      "needs_background": "light"
     },
     "output_type": "display_data"
    }
   ],
   "source": [
    "plt.ylim(0, 1.0)\n",
    "\n",
    "plt.plot(index_train_list,train_losses)\n",
    "plt.ylabel('training loss')\n",
    "\n",
    "plt.plot(index_test_list,test_losses)\n",
    "plt.ylabel('training loss')\n",
    "\n",
    "plt.show()"
   ]
  },
  {
   "cell_type": "code",
   "execution_count": 13,
   "metadata": {
    "ExecuteTime": {
     "end_time": "2021-06-15T15:07:47.803069Z",
     "start_time": "2021-06-15T15:07:47.665204Z"
    }
   },
   "outputs": [],
   "source": [
    "torch.save(net, \"save/Deep_learning_normal_10_1\")"
   ]
  },
  {
   "cell_type": "code",
   "execution_count": 14,
   "metadata": {
    "ExecuteTime": {
     "end_time": "2021-06-15T15:09:13.924559Z",
     "start_time": "2021-06-15T15:07:49.084367Z"
    }
   },
   "outputs": [
    {
     "name": "stdout",
     "output_type": "stream",
     "text": [
      "9.484497361301898 8.989478086719986 0.49501927458191197 0.1994505675349778\n"
     ]
    }
   ],
   "source": [
    "denominator = 0\n",
    "result_list = []\n",
    "for index in range(len(testing_data)):\n",
    "    h_list = []\n",
    "    for i in range(Agent_number_n):\n",
    "        h = net.calculate(torch.tensor(testing_data[index][i]).to(dev).type(torch.float32))\n",
    "        h_list.append(float(h))\n",
    "    \n",
    "    #print(sum(h_list),h_list,sum(h_list)/testing_label[index])\n",
    "    result_list.append(sum(h_list)/testing_label[index])\n",
    "    \n",
    "\n",
    "print(max(result_list),min(result_list),max(result_list)-min(result_list),sum(result_list)/len(result_list)-min(result_list))"
   ]
  },
  {
   "cell_type": "code",
   "execution_count": 15,
   "metadata": {
    "ExecuteTime": {
     "end_time": "2021-06-15T15:09:16.119388Z",
     "start_time": "2021-06-15T15:09:15.092599Z"
    }
   },
   "outputs": [
    {
     "data": {
      "image/png": "[encoded data removed]",
      "text/plain": [
       "<Figure size 432x288 with 1 Axes>"
      ]
     },
     "metadata": {
      "needs_background": "light"
     },
     "output_type": "display_data"
    }
   ],
   "source": [
    "plt.hist(result_list,bins=500)\n",
    "\n",
    "plt.title(\"Means\", y=1.015, fontsize=20)\n",
    "plt.axvline(x=sum(result_list)/len(result_list), linestyle='--', linewidth=2.5, label=\"sample mean\", c='orange')\n",
    "plt.xlabel(\"samples\", labelpad=14)\n",
    "plt.ylabel(\"frequency of occurence\", labelpad=14)\n",
    "plt.legend();\n",
    "\n",
    "result_list.sort()\n",
    "\n",
    "plt.axvline(x=result_list[int(len(result_list)*0.01)], linestyle='--', linewidth=0.5, label=\"1%\", c='b')\n",
    "plt.axvline(x=result_list[int(len(result_list)*0.99)], linestyle='--', linewidth=0.5, label=\"99%\", c='r')\n",
    "\n",
    "\n",
    "plt.show()"
   ]
  },
  {
   "cell_type": "code",
   "execution_count": null,
   "metadata": {},
   "outputs": [],
   "source": []
  },
  {
   "cell_type": "code",
   "execution_count": null,
   "metadata": {},
   "outputs": [],
   "source": []
  }
 ],
 "metadata": {
  "hide_input": false,
  "kernelspec": {
   "display_name": "Python 3",
   "language": "python",
   "name": "python3"
  },
  "language_info": {
   "codemirror_mode": {
    "name": "ipython",
    "version": 3
   },
   "file_extension": ".py",
   "mimetype": "text/x-python",
   "name": "python",
   "nbconvert_exporter": "python",
   "pygments_lexer": "ipython3",
   "version": "3.8.3"
  },
  "varInspector": {
   "cols": {
    "lenName": 16,
    "lenType": 16,
    "lenVar": 40
   },
   "kernels_config": {
    "python": {
     "delete_cmd_postfix": "",
     "delete_cmd_prefix": "del ",
     "library": "var_list.py",
     "varRefreshCmd": "print(var_dic_list())"
    },
    "r": {
     "delete_cmd_postfix": ") ",
     "delete_cmd_prefix": "rm(",
     "library": "var_list.r",
     "varRefreshCmd": "cat(var_dic_list()) "
    }
   },
   "types_to_exclude": [
    "module",
    "function",
    "builtin_function_or_method",
    "instance",
    "_Feature"
   ],
   "window_display": false
  }
 },
 "nbformat": 4,
 "nbformat_minor": 4
}
