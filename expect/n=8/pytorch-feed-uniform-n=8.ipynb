{
 "cells": [
  {
   "cell_type": "code",
   "execution_count": 1,
   "metadata": {
    "ExecuteTime": {
     "end_time": "2021-06-22T03:59:04.571512Z",
     "start_time": "2021-06-22T03:59:01.163254Z"
    }
   },
   "outputs": [
    {
     "name": "stdout",
     "output_type": "stream",
     "text": [
      "pygame 2.0.1 (SDL 2.0.14, Python 3.8.3)\n",
      "Hello from the pygame community. https://www.pygame.org/contribute.html\n"
     ]
    },
    {
     "name": "stderr",
     "output_type": "stream",
     "text": [
      "D:\\ComputerSoftwares\\Anaconda\\lib\\site-packages\\sklearn\\utils\\deprecation.py:143: FutureWarning: The sklearn.datasets.samples_generator module is  deprecated in version 0.22 and will be removed in version 0.24. The corresponding classes / functions should instead be imported from sklearn.datasets. Anything that cannot be imported from sklearn.datasets is now part of the private API.\n",
      "  warnings.warn(message, FutureWarning)\n"
     ]
    },
    {
     "name": "stdout",
     "output_type": "stream",
     "text": [
      "cuda:0\n"
     ]
    }
   ],
   "source": [
    "\n",
    "import pygame\n",
    "import random\n",
    "import os\n",
    "import time\n",
    "import numpy as np\n",
    "import math\n",
    "import torch\n",
    "import torch.nn.functional\n",
    "import matplotlib.pyplot as plt\n",
    "import torch.optim as opt\n",
    "from torch.autograd import Variable\n",
    "from sklearn.model_selection import train_test_split\n",
    "\n",
    "import scipy.stats as st\n",
    "from sklearn.datasets.samples_generator import make_blobs\n",
    "from matplotlib.colors import LogNorm \n",
    "import matplotlib.cm as cm\n",
    "import torch.nn as nn\n",
    "import numpy as np\n",
    "import matplotlib.pyplot as plt\n",
    "import plotly.graph_objects as go\n",
    "import plotly.express as px\n",
    "from scipy.interpolate import griddata\n",
    "import torch.nn.functional as F\n",
    "import torch.distributions as D\n",
    "if torch.cuda.is_available():  \n",
    "    dev = \"cuda:0\" \n",
    "else:  \n",
    "    dev = \"cpu\"  \n",
    "\n",
    "print(dev)\n",
    "\n"
   ]
  },
  {
   "cell_type": "code",
   "execution_count": 2,
   "metadata": {
    "ExecuteTime": {
     "end_time": "2021-06-22T03:59:04.586472Z",
     "start_time": "2021-06-22T03:59:04.573507Z"
    },
    "run_control": {
     "marked": true
    }
   },
   "outputs": [],
   "source": [
    "global temp_list\n",
    "temp_list = []\n",
    "Agent_number_n=8;\n",
    "Alpha = 1.0;\n",
    "\n",
    "echo = 1001\n",
    "BATCH_SIZE = 64\n",
    "LR = 0.001           # learning rate for generator\n",
    "devided_number = 1\n",
    "\n",
    "def Generate_distribution(Agent_number_n):\n",
    "    return sorted(np.random.rand(Agent_number_n), reverse=True)\n",
    "    #return sorted(np.random.normal(normalloc,normalscale,Agent_number_n), reverse=True)\n",
    "Prior_Distribution = \"uniform\""
   ]
  },
  {
   "cell_type": "code",
   "execution_count": 3,
   "metadata": {
    "ExecuteTime": {
     "end_time": "2021-06-22T03:59:04.604903Z",
     "start_time": "2021-06-22T03:59:04.589035Z"
    }
   },
   "outputs": [],
   "source": [
    "new_input = 3\n",
    "def Dimensionality_reduction(data_sorted):\n",
    "    out_data = torch.ones(new_input).cuda()\n",
    "    out_data[0] = torch.max(data_sorted) \n",
    "    out_data[1] = torch.sum(data_sorted) \n",
    "    \n",
    "    temp_list = []\n",
    "    for i in range(len(data_sorted)-1):\n",
    "        temp_list.append(data_sorted[i] - data_sorted[i + 1])\n",
    "    \n",
    "    temp_tensor = torch.stack(temp_list)    \n",
    "    out_data[2] = torch.max(temp_tensor) \n",
    "    return out_data\n"
   ]
  },
  {
   "cell_type": "code",
   "execution_count": 4,
   "metadata": {
    "ExecuteTime": {
     "end_time": "2021-06-22T03:59:04.635820Z",
     "start_time": "2021-06-22T03:59:04.606898Z"
    },
    "run_control": {
     "marked": true
    }
   },
   "outputs": [],
   "source": [
    "uniformlow = 0\n",
    "uniformhigh = 1.0\n",
    "\n",
    "normalloc = 0.2\n",
    "normalscale = 0.1\n",
    "\n",
    "doublePeakHighMean = 0.9\n",
    "doublePeakLowMean = 0.1\n",
    "doublePeakStd = 0.04\n",
    "\n",
    "beta_a = 0.3\n",
    "beta_b = 0.2\n",
    "\n",
    "d_1 = D.uniform.Uniform(uniformlow, uniformhigh)\n",
    "distributionRatio_1 = d_1.cdf(1) - d_1.cdf(0)\n",
    "distributionBase_1 = d_1.cdf(0)\n",
    "\n",
    "d_2 = D.normal.Normal(normalloc, normalscale)\n",
    "distributionRatio_2 = d_2.cdf(1) - d_2.cdf(0)\n",
    "distributionBase_2 = d_2.cdf(0)\n",
    "\n",
    "d_3 = D.normal.Normal(doublePeakLowMean, doublePeakStd)\n",
    "d_4 = D.normal.Normal(doublePeakHighMean, doublePeakStd)\n",
    "distributionRatio_3 = (d_3.cdf(1) + d_4.cdf(1) - d_3.cdf(0) - d_4.cdf(0)) / 2\n",
    "distributionBase_3 = d_3.cdf(0) + d_4.cdf(0)\n",
    "\n",
    "# d_5 = D.beta.Beta(beta_a,beta_b)\n",
    "\n",
    "# d10 = D.beta.Beta(0.5,0.5)\n",
    "\n",
    "\n",
    "def cdf(x, y, i=None):\n",
    "    if (y == \"uniform\"):\n",
    "        return (d_1.cdf(x) - distributionBase_1) / distributionRatio_1\n",
    "    elif (y == \"normal\"):\n",
    "        return (d_2.cdf(x) - distributionBase_2) / distributionRatio_2\n",
    "    elif (y == \"twopeak\"):\n",
    "        return (d_3.cdf(x) + d_4.cdf(x) -\n",
    "                distributionBase_3) / 2 / distributionRatio_3\n",
    "\n",
    "\n",
    "def pdf(x, y, i=None):\n",
    "    x= x.cpu().type(torch.float32)\n",
    "    if (y == \"uniform\"):\n",
    "        return torch.pow(torch.tensor(10.0), d_1.log_prob(x)).to(dev)\n",
    "    elif (y == \"normal\"):\n",
    "        return torch.pow(torch.tensor(10.0), d_2.log_prob(x)).to(dev)\n",
    "    elif (y == \"twopeak\"):\n",
    "        return (torch.pow(torch.tensor(10.0), d_3.log_prob(x)) +\n",
    "                torch.pow(torch.tensor(10.0), d_4.log_prob(x))).to(dev) / 2 \n",
    "    \n",
    "def Generate_distribution(Agent_number_n):\n",
    "    return np.random.rand(Agent_number_n)\n",
    "    #return np.random.normal(normalloc,normalscale,Agent_number_n)\n"
   ]
  },
  {
   "cell_type": "code",
   "execution_count": 5,
   "metadata": {
    "ExecuteTime": {
     "end_time": "2021-06-22T03:59:06.589569Z",
     "start_time": "2021-06-22T03:59:04.637816Z"
    },
    "run_control": {
     "marked": false
    }
   },
   "outputs": [
    {
     "name": "stdout",
     "output_type": "stream",
     "text": [
      "tensor(10., device='cuda:0')\n",
      "tensor([1.], device='cuda:0')\n",
      "tensor([24.1906], device='cuda:0')\n"
     ]
    }
   ],
   "source": [
    "print(torch.tensor(10.0).to(dev))\n",
    "print(pdf(torch.ones(1)*0.2,\"uniform\"))\n",
    "print(pdf(torch.ones(1)*0.2,\"normal\"))\n"
   ]
  },
  {
   "cell_type": "code",
   "execution_count": 6,
   "metadata": {
    "ExecuteTime": {
     "end_time": "2021-06-22T03:59:07.742549Z",
     "start_time": "2021-06-22T03:59:06.591564Z"
    }
   },
   "outputs": [
    {
     "name": "stdout",
     "output_type": "stream",
     "text": [
      "[[[0.76134038 0.44537475 0.71320002 ... 0.07863424 0.6460189  0.63932364]\n",
      "  [0.10897312 0.44537475 0.71320002 ... 0.07863424 0.6460189  0.63932364]\n",
      "  [0.10897312 0.76134038 0.71320002 ... 0.07863424 0.6460189  0.63932364]\n",
      "  ...\n",
      "  [0.10897312 0.76134038 0.44537475 ... 0.51775069 0.6460189  0.63932364]\n",
      "  [0.10897312 0.76134038 0.44537475 ... 0.51775069 0.07863424 0.63932364]\n",
      "  [0.10897312 0.76134038 0.44537475 ... 0.51775069 0.07863424 0.6460189 ]]\n",
      "\n",
      " [[0.7188352  0.27939655 0.6007854  ... 0.90873155 0.69161142 0.48179709]\n",
      "  [0.91256739 0.27939655 0.6007854  ... 0.90873155 0.69161142 0.48179709]\n",
      "  [0.91256739 0.7188352  0.6007854  ... 0.90873155 0.69161142 0.48179709]\n",
      "  ...\n",
      "  [0.91256739 0.7188352  0.27939655 ... 0.49673953 0.69161142 0.48179709]\n",
      "  [0.91256739 0.7188352  0.27939655 ... 0.49673953 0.90873155 0.48179709]\n",
      "  [0.91256739 0.7188352  0.27939655 ... 0.49673953 0.90873155 0.69161142]]\n",
      "\n",
      " [[0.85847566 0.05228531 0.73504098 ... 0.61288937 0.29531571 0.25305891]\n",
      "  [0.62799014 0.05228531 0.73504098 ... 0.61288937 0.29531571 0.25305891]\n",
      "  [0.62799014 0.85847566 0.73504098 ... 0.61288937 0.29531571 0.25305891]\n",
      "  ...\n",
      "  [0.62799014 0.85847566 0.05228531 ... 0.76428196 0.29531571 0.25305891]\n",
      "  [0.62799014 0.85847566 0.05228531 ... 0.76428196 0.61288937 0.25305891]\n",
      "  [0.62799014 0.85847566 0.05228531 ... 0.76428196 0.61288937 0.29531571]]\n",
      "\n",
      " ...\n",
      "\n",
      " [[0.84826492 0.55372984 0.41901404 ... 0.45687234 0.84676778 0.19113082]\n",
      "  [0.07802282 0.55372984 0.41901404 ... 0.45687234 0.84676778 0.19113082]\n",
      "  [0.07802282 0.84826492 0.41901404 ... 0.45687234 0.84676778 0.19113082]\n",
      "  ...\n",
      "  [0.07802282 0.84826492 0.55372984 ... 0.08189924 0.84676778 0.19113082]\n",
      "  [0.07802282 0.84826492 0.55372984 ... 0.08189924 0.45687234 0.19113082]\n",
      "  [0.07802282 0.84826492 0.55372984 ... 0.08189924 0.45687234 0.84676778]]\n",
      "\n",
      " [[0.54074313 0.54849829 0.52629846 ... 0.93576386 0.84660548 0.20764112]\n",
      "  [0.21240275 0.54849829 0.52629846 ... 0.93576386 0.84660548 0.20764112]\n",
      "  [0.21240275 0.54074313 0.52629846 ... 0.93576386 0.84660548 0.20764112]\n",
      "  ...\n",
      "  [0.21240275 0.54074313 0.54849829 ... 0.97252923 0.84660548 0.20764112]\n",
      "  [0.21240275 0.54074313 0.54849829 ... 0.97252923 0.93576386 0.20764112]\n",
      "  [0.21240275 0.54074313 0.54849829 ... 0.97252923 0.93576386 0.84660548]]\n",
      "\n",
      " [[0.67285432 0.21292502 0.4938116  ... 0.89341513 0.06852999 0.92777627]\n",
      "  [0.27630787 0.21292502 0.4938116  ... 0.89341513 0.06852999 0.92777627]\n",
      "  [0.27630787 0.67285432 0.4938116  ... 0.89341513 0.06852999 0.92777627]\n",
      "  ...\n",
      "  [0.27630787 0.67285432 0.21292502 ... 0.06944257 0.06852999 0.92777627]\n",
      "  [0.27630787 0.67285432 0.21292502 ... 0.06944257 0.89341513 0.92777627]\n",
      "  [0.27630787 0.67285432 0.21292502 ... 0.06944257 0.89341513 0.06852999]]]\n",
      "[3.91061575 5.09046412 4.19933804 ... 3.4757018  4.79048232 3.61506276]\n"
     ]
    }
   ],
   "source": [
    "def h_3_star(a, b, t):\n",
    "    return a - min(a, t) + b - min(b, t) + max(min(a, t)+min(b, t), 2*t/3) + 1/2 * max(min(a, t)+min(b, t), t) - 1/2 * max(max(min(a, t), min(b, t)), 2*t/3) - t/6\n",
    "\n",
    "\n",
    "def f_function(a, b, z):\n",
    "    if(z >= 1):\n",
    "        return (a+b)/2 + z/3\n",
    "    else:\n",
    "        return z/3 + h_3_star(a, b, 1-z)/2\n",
    "\n",
    "def h_function_label(input_list):\n",
    "    #input_list = sorted(input_list)\n",
    "    g_list = []\n",
    "    for j1 in range(len(input_list) ):\n",
    "        for j2 in range(len(input_list)):\n",
    "            if(j1 != j2):\n",
    "                a = input_list[j1]\n",
    "                b = input_list[j2]\n",
    "                z = sum(input_list)- a-b\n",
    "\n",
    "                g_list.append( f_function(a, b, z) * (Agent_number_n-1))\n",
    "    h = sum(g_list) * 3 /  (Agent_number_n) /  (Agent_number_n-1) /  (Agent_number_n - 2)\n",
    "    return h\n",
    "\n",
    "def appen(_x_list,y):\n",
    "    global temp_list\n",
    "    temp_list.append(_x_list)\n",
    "    \n",
    "def appen_train(x_list):\n",
    "    global temp_list\n",
    "                \n",
    "    S= max(sum(x_list),1.0);\n",
    "    temp_list = []\n",
    "    h_list = []\n",
    "    for i in range(Agent_number_n):\n",
    "        temp = []\n",
    "        for j in range(Agent_number_n):\n",
    "            if(i!=j):\n",
    "                temp.append(x_list[j])\n",
    "        appen(temp,S)\n",
    "        \n",
    "        h = h_function_label(temp)\n",
    "        h_list.append(float(h))\n",
    "    temp_list = np.array(temp_list)\n",
    "    x_list = np.array(x_list)\n",
    "    return temp_list,S,x_list,h_list\n",
    "    \n",
    "\n",
    "def appen_test(x_list):\n",
    "    global temp_list\n",
    "                \n",
    "    S= max(sum(x_list),1.0);\n",
    "    temp_list = []\n",
    "    \n",
    "    for i in range(Agent_number_n):\n",
    "        temp = []\n",
    "        for j in range(Agent_number_n):\n",
    "            if(i!=j):\n",
    "                temp.append(x_list[j])\n",
    "        appen(temp,S)\n",
    "    testing_data.append(temp_list)\n",
    "    testing_label.append(S)\n",
    "    temp_list = np.array(temp_list)\n",
    "    return temp_list,S\n",
    "    \n",
    "\n",
    "def read_testing_data():\n",
    "    for i in range(10000):\n",
    "        appen_test(Generate_distribution(Agent_number_n));\n",
    "                            \n",
    "\n",
    "testing_data=[]\n",
    "testing_label=[]\n",
    "S=1.0\n",
    "read_testing_data();\n",
    "\n",
    "testing_data=np.array(testing_data)\n",
    "testing_label=np.array(testing_label)\n",
    "print(testing_data)\n",
    "print(testing_label)"
   ]
  },
  {
   "cell_type": "code",
   "execution_count": 7,
   "metadata": {
    "ExecuteTime": {
     "end_time": "2021-06-22T03:59:41.669949Z",
     "start_time": "2021-06-22T03:59:07.746537Z"
    }
   },
   "outputs": [
    {
     "name": "stdout",
     "output_type": "stream",
     "text": [
      "7.105140644724065 6.9999999999999964 0.10514064472406837 7.001397672373883\n"
     ]
    }
   ],
   "source": [
    "def h_3_star(a, b, t):\n",
    "    return a - min(a, t) + b - min(b, t) + max(min(a, t)+min(b, t), 2*t/3) + 1/2 * max(min(a, t)+min(b, t), t) - 1/2 * max(max(min(a, t), min(b, t)), 2*t/3) - t/6\n",
    "\n",
    "\n",
    "def f_function(a, b, z):\n",
    "    if(z >= 1):\n",
    "        return (a+b)/2 + z/3\n",
    "    else:\n",
    "        return z/3 + h_3_star(a, b, 1-z)/2\n",
    "\n",
    "def h_function(input_list):\n",
    "    #input_list = sorted(input_list)\n",
    "    g_list = []\n",
    "    for j1 in range(len(input_list) ):\n",
    "        for j2 in range(len(input_list)):\n",
    "            if(j1 != j2):\n",
    "                a = input_list[j1]\n",
    "                b = input_list[j2]\n",
    "                z = sum(input_list)- a-b\n",
    "\n",
    "                g_list.append( f_function(a, b, z) * (Agent_number_n-1))\n",
    "    h = sum(g_list) * 3 /  (Agent_number_n) /  (Agent_number_n-1) /  (Agent_number_n - 2)\n",
    "    return h\n",
    "                \n",
    "                \n",
    "x_list = []\n",
    "y_list = []\n",
    "z_list = []\n",
    "result_list = []\n",
    "for index in range(len(testing_data)):\n",
    "    h_list = []\n",
    "    for i in range(Agent_number_n):\n",
    "        x_list.append(testing_data[index][i][0])\n",
    "        y_list.append(testing_data[index][i][1])\n",
    "        h = h_function(testing_data[index][i])\n",
    "        z_list.append(float(h))\n",
    "        h_list.append(float(h))\n",
    "    result_list.append(sum(h_list)/testing_label[index]) \n",
    "    \n",
    "    \n",
    "print(max(result_list), min(result_list), max(result_list)-min(result_list),sum(result_list)/len(result_list))"
   ]
  },
  {
   "cell_type": "code",
   "execution_count": 8,
   "metadata": {
    "ExecuteTime": {
     "end_time": "2021-06-22T03:59:43.489590Z",
     "start_time": "2021-06-22T03:59:41.672941Z"
    }
   },
   "outputs": [
    {
     "data": {
      "image/png": "[encoded data removed]",
      "text/plain": [
       "<Figure size 432x288 with 1 Axes>"
      ]
     },
     "metadata": {
      "needs_background": "light"
     },
     "output_type": "display_data"
    }
   ],
   "source": [
    "plt.hist(result_list,bins=500)\n",
    "\n",
    "plt.title(\"Means\", y=1.015, fontsize=20)\n",
    "plt.axvline(x=sum(result_list)/len(result_list), linestyle='--', linewidth=2.5, label=\"sample mean\", c='orange')\n",
    "plt.xlabel(\"samples\", labelpad=14)\n",
    "plt.ylabel(\"frequency of occurence\", labelpad=14)\n",
    "plt.legend();\n",
    "\n",
    "result_list.sort()\n",
    "\n",
    "plt.axvline(x=result_list[int(len(result_list)*0.01)], linestyle='--', linewidth=0.5, label=\"1%\", c='b')\n",
    "plt.axvline(x=result_list[int(len(result_list)*0.99)], linestyle='--', linewidth=0.5, label=\"99%\", c='r')\n",
    "\n",
    "\n",
    "plt.show()"
   ]
  },
  {
   "cell_type": "code",
   "execution_count": 9,
   "metadata": {
    "ExecuteTime": {
     "end_time": "2021-06-22T03:59:43.505564Z",
     "start_time": "2021-06-22T03:59:43.491584Z"
    }
   },
   "outputs": [
    {
     "name": "stdout",
     "output_type": "stream",
     "text": [
      "tensor([0.5766], device='cuda:0', grad_fn=<SortBackward>)\n"
     ]
    }
   ],
   "source": [
    "tensor_sample_list,indices = torch.sort(torch.rand(devided_number,requires_grad=True).to(dev))  # random ideas\\n\n",
    "print(tensor_sample_list)"
   ]
  },
  {
   "cell_type": "code",
   "execution_count": 10,
   "metadata": {
    "ExecuteTime": {
     "end_time": "2021-06-22T03:59:43.521522Z",
     "start_time": "2021-06-22T03:59:43.507559Z"
    },
    "run_control": {
     "marked": true
    }
   },
   "outputs": [
    {
     "name": "stdout",
     "output_type": "stream",
     "text": [
      "tensor([0.5766], device='cuda:0', grad_fn=<DivBackward0>)\n",
      "tensor([0.9999], device='cuda:0', grad_fn=<DivBackward0>)\n"
     ]
    }
   ],
   "source": [
    "print(cdf(tensor_sample_list,Prior_Distribution))\n",
    "print(cdf(tensor_sample_list,\"normal\"))"
   ]
  },
  {
   "cell_type": "code",
   "execution_count": 11,
   "metadata": {
    "ExecuteTime": {
     "end_time": "2021-06-22T03:59:43.574534Z",
     "start_time": "2021-06-22T03:59:43.523517Z"
    },
    "run_control": {
     "marked": true
    }
   },
   "outputs": [],
   "source": [
    "def weight_init(m):\n",
    "    if isinstance(m, torch.nn.Conv2d):\n",
    "        torch.nn.init.xavier_normal_(m.weight)\n",
    "        torch.nn.init.zeros_(m.bias)\n",
    "    elif isinstance(m, torch.nn.Linear):\n",
    "        torch.nn.init.xavier_normal_(m.weight)\n",
    "        torch.nn.init.normal_(m.bias, mean=0.0, std=0.01)\n",
    "\n",
    "\n",
    "\n",
    "def redistribution_value_function(input_tensor):\n",
    "    S = torch.max(torch.sum(input_tensor), torch.ones(1).to(dev))\n",
    "    temp_list = []\n",
    "\n",
    "    for i in range(Agent_number_n):\n",
    "        temp = []\n",
    "\n",
    "        for j in range(Agent_number_n):\n",
    "            if(i != j):\n",
    "                temp .append(input_tensor[j])\n",
    "\n",
    "        temp = torch.stack(temp)\n",
    "        temp_list.append(temp)\n",
    "    return torch.stack(temp_list), S\n",
    "\n",
    "\n",
    "class Net(torch.nn.Module):\n",
    "    def __init__(self):\n",
    "\n",
    "        super(Net, self).__init__()\n",
    "\n",
    "        self.input_dim = new_input#(Agent_number_n-1)\n",
    "        self.hidden_dim = 128\n",
    "        self.output_dim = 1\n",
    "        self.hidden_layer_count = 6\n",
    "\n",
    "        current_dim = self.input_dim\n",
    "        self.layers = torch.nn.ModuleList()\n",
    "        for i in range(self.hidden_layer_count):\n",
    "            self.layers.append(torch.nn.Linear(current_dim, self.hidden_dim))\n",
    "            current_dim = self.hidden_dim\n",
    "        self.layers.append(torch.nn.Linear(current_dim, self.output_dim))\n",
    "\n",
    "    def calculate(self, value_list):\n",
    "        h = Dimensionality_reduction(value_list)\n",
    "        #h = value_list           ####Dimensionality_reduction\n",
    "        for layer in self.layers:\n",
    "            h = torch.relu(layer(h))\n",
    "        return h\n",
    "\n",
    "    def forward(self, input_list, input_label, input_data):\n",
    "        global iteration, echo, target_order\n",
    "        loss1 = 0\n",
    "        loss2 = 0\n",
    "        input_list = torch.from_numpy(\n",
    "            np.array(input_list)).to(dev).type(torch.float32)\n",
    "\n",
    "        input_data = torch.from_numpy(\n",
    "            np.array(input_data)).to(dev).type(torch.float32)\n",
    "        \n",
    "        input_label = torch.from_numpy(\n",
    "            np.array(input_label)).to(dev).type(torch.float32)\n",
    "        \n",
    "        \n",
    "        random_index = random.randint(0, Agent_number_n-1)\n",
    "        tensor_sample_list,indices = torch.sort(torch.rand(devided_number,requires_grad=True).to(dev))\n",
    "     \n",
    "        tensor_sample = torch.rand(devided_number,requires_grad=True)[0].to(dev)\n",
    "    \n",
    "        input_data_temp = input_data.detach().clone()\n",
    "        \n",
    "        input_data_temp[random_index] = tensor_sample\n",
    "\n",
    "        value_list_tensor, S_tensor = redistribution_value_function(\n",
    "            input_data_temp)\n",
    "       \n",
    "        h_list = []\n",
    "        for i in range(Agent_number_n):\n",
    "            h = self.calculate(\n",
    "                value_list_tensor[i].to(dev).type(torch.float32))\n",
    "            h_list.append(h)\n",
    "            \n",
    "        S_tensor = S_tensor.detach().to(dev).type(torch.float32)\n",
    "        \n",
    "        sum_h = torch.sum(torch.cat(h_list)).to(dev)\n",
    "        \n",
    "        temp_loss1 = torch.where((Agent_number_n-1)*S_tensor > sum_h,\n",
    "                 torch.square(((Agent_number_n-1)*S_tensor - sum_h)),\n",
    "                 torch.zeros(1).to(dev)\n",
    "              )\n",
    "\n",
    "        temp_loss2 = torch.where((Agent_number_n-Alpha)*S_tensor < sum_h,\n",
    "                    torch.square((sum_h-(Agent_number_n-Alpha)*S_tensor))/10000,\n",
    "                    torch.zeros(1).to(dev)\n",
    "                  )\n",
    "\n",
    "\n",
    "        loss1 = temp_loss1 * pdf(tensor_sample, Prior_Distribution)\n",
    "        loss2 = temp_loss2 * pdf(tensor_sample, Prior_Distribution)\n",
    "                \n",
    "        return loss1, loss2\n",
    "    \n",
    "    def supervised_loss(self, input_list,label):\n",
    "        global iteration,echo,target_order\n",
    "        input_list = torch.from_numpy(\n",
    "            np.array(input_list)).to(dev).type(torch.float32)\n",
    "        loss = 0 \n",
    "        for i in range(Agent_number_n):\n",
    "            h = self.calculate(input_list[i])\n",
    "            loss += torch.square(h - label[i])\n",
    "        return loss"
   ]
  },
  {
   "cell_type": "code",
   "execution_count": 12,
   "metadata": {
    "ExecuteTime": {
     "end_time": "2021-06-22T03:59:43.589161Z",
     "start_time": "2021-06-22T03:59:43.574534Z"
    }
   },
   "outputs": [],
   "source": [
    "random.seed(200)\n",
    "torch.manual_seed(256)\n",
    "net  = Net()\n",
    "net.apply(weight_init)\n",
    "#net = torch.load(\"save/Deep_learning_F_uniform_10_1\")\n",
    "net.to(dev)\n",
    "\n",
    "#optimizer = opt.RMSprop(net.parameters(), lr=0.00001)\n",
    "#optimizer = opt.SGD(net.parameters(), lr=0.00005)\n",
    "optimizer = opt.Adam(net.parameters(), lr=LR)\n",
    "#optimizer = opt.Adadelta(net.parameters(), lr=1.0)\n",
    "\n",
    "scheduler = torch.optim.lr_scheduler.StepLR(optimizer, step_size=100, gamma=0.98)\n",
    "index_train_list = []\n",
    "index_test_list = []\n",
    "train_losses = []\n",
    "test_losses = []"
   ]
  },
  {
   "cell_type": "code",
   "execution_count": 13,
   "metadata": {
    "ExecuteTime": {
     "end_time": "2021-06-22T04:35:08.923342Z",
     "start_time": "2021-06-22T03:59:43.591191Z"
    }
   },
   "outputs": [
    {
     "name": "stdout",
     "output_type": "stream",
     "text": [
      "0 tensor(111.2871, device='cuda:0', grad_fn=<DivBackward0>) 7122.37744140625\n",
      "50 tensor(0.6745, device='cuda:0', grad_fn=<DivBackward0>) 43.16672134399414\n",
      "100 tensor(0.0473, device='cuda:0', grad_fn=<DivBackward0>) 3.0260238647460938\n",
      "150 tensor(0.0078, device='cuda:0', grad_fn=<DivBackward0>) 0.49626705050468445\n",
      "200 tensor(0.0034, device='cuda:0', grad_fn=<DivBackward0>) 0.21644559502601624\n",
      "250 tensor(0.0011, device='cuda:0', grad_fn=<DivBackward0>) 0.07254999130964279\n",
      "300 tensor(0.0008, device='cuda:0', grad_fn=<DivBackward0>) 0.049141932278871536\n",
      "350 tensor(0.0005, device='cuda:0', grad_fn=<DivBackward0>) 0.0334806926548481\n",
      "400 tensor(0.0003, device='cuda:0', grad_fn=<DivBackward0>) 0.019271401688456535\n",
      "450 tensor(0.0002, device='cuda:0', grad_fn=<DivBackward0>) 0.0140707828104496\n",
      "500 tensor(0.0003, device='cuda:0', grad_fn=<DivBackward0>) 0.019138647243380547\n",
      "550 tensor(9.3464e-05, device='cuda:0', grad_fn=<DivBackward0>) 0.005981695372611284\n",
      "600 tensor(9.4418e-05, device='cuda:0', grad_fn=<DivBackward0>) 0.006042724475264549\n",
      "650 tensor(7.8881e-05, device='cuda:0', grad_fn=<DivBackward0>) 0.005048371385782957\n",
      "700 tensor(5.3266e-05, device='cuda:0', grad_fn=<DivBackward0>) 0.003409047843888402\n",
      "750 tensor(3.5044e-05, device='cuda:0', grad_fn=<DivBackward0>) 0.002242823364213109\n",
      "800 tensor(5.0667e-05, device='cuda:0', grad_fn=<DivBackward0>) 0.0032426759134978056\n",
      "850 tensor(5.7761e-05, device='cuda:0', grad_fn=<DivBackward0>) 0.003696734318509698\n",
      "900 tensor(1.5122e-05, device='cuda:0', grad_fn=<DivBackward0>) 0.0009677934576757252\n",
      "950 tensor(3.4251e-05, device='cuda:0', grad_fn=<DivBackward0>) 0.0021920371800661087\n"
     ]
    }
   ],
   "source": [
    "#supervised\n",
    "index_supervisedtrain_list = []\n",
    "supervisedtrain_losses = []\n",
    "for iteration in range(1000):\n",
    "\n",
    "    temp_number = 0\n",
    "    total_batch_loss = 0 \n",
    "    \n",
    "    loss_sum = 0\n",
    "    denominator = 0\n",
    "    for index in range(0, BATCH_SIZE):\n",
    "        training_data_i, training_S, training_data,label = appen_train(\n",
    "            Generate_distribution(Agent_number_n))\n",
    "        h_loss = net.supervised_loss(training_data_i, label)\n",
    "        denominator += 1\n",
    "        loss_sum += h_loss\n",
    "\n",
    "    loss_sum = torch.sum(loss_sum)\n",
    "    loss = (loss_sum) / denominator \n",
    "    total_batch_loss += float(loss_sum)\n",
    "\n",
    "    optimizer.zero_grad()\n",
    "    loss.backward()\n",
    "    optimizer.step()\n",
    "\n",
    "    if (iteration%50 == 0):\n",
    "        print(iteration,loss,total_batch_loss)\n",
    "        index_supervisedtrain_list.append(iteration)\n",
    "        supervisedtrain_losses.append(total_batch_loss)\n",
    "    scheduler.step()"
   ]
  },
  {
   "cell_type": "code",
   "execution_count": 14,
   "metadata": {
    "ExecuteTime": {
     "end_time": "2021-06-22T04:35:09.188905Z",
     "start_time": "2021-06-22T04:35:08.923342Z"
    }
   },
   "outputs": [
    {
     "data": {
      "image/png": "[encoded data removed]",
      "text/plain": [
       "<Figure size 432x288 with 1 Axes>"
      ]
     },
     "metadata": {
      "needs_background": "light"
     },
     "output_type": "display_data"
    }
   ],
   "source": [
    "plt.ylim(0, 0.1)\n",
    "plt.plot(index_supervisedtrain_list ,supervisedtrain_losses)\n",
    "plt.ylabel('supervised train loss')\n",
    "\n",
    "plt.show()"
   ]
  },
  {
   "cell_type": "code",
   "execution_count": 15,
   "metadata": {
    "ExecuteTime": {
     "end_time": "2021-06-22T04:35:09.204526Z",
     "start_time": "2021-06-22T04:35:09.188905Z"
    }
   },
   "outputs": [],
   "source": [
    "optimizer = opt.Adam(net.parameters(), lr=LR/100)\n",
    "#optimizer = opt.Adadelta(net.parameters(), lr=1.0)\n",
    "\n",
    "scheduler = torch.optim.lr_scheduler.StepLR(optimizer, step_size=100, gamma=0.98)"
   ]
  },
  {
   "cell_type": "code",
   "execution_count": 16,
   "metadata": {
    "ExecuteTime": {
     "end_time": "2021-06-22T06:54:15.228339Z",
     "start_time": "2021-06-22T04:35:09.204526Z"
    }
   },
   "outputs": [
    {
     "name": "stdout",
     "output_type": "stream",
     "text": [
      "0 tensor(5.3874e-06, device='cuda:0', grad_fn=<DivBackward0>) 0.00034383998718112707 9.558976898915716e-07\n",
      "batch iteration 0\n",
      "batch_loss: 0.0003 \n",
      "7.193311915717494 7.0107728698243195 0.18253904589317482 0.006581339384263529\n",
      "\n",
      "50 tensor(8.5524e-07, device='cuda:0', grad_fn=<DivBackward0>) 0.0 5.4735151934437454e-05\n",
      "batch iteration 50\n",
      "batch_loss: 0.0001 \n",
      "7.184748983354787 7.01451849216161 0.1702304911931769 0.007134566568261391\n",
      "\n",
      "100 tensor(1.2240e-06, device='cuda:0', grad_fn=<DivBackward0>) 0.0 7.833906420273706e-05\n",
      "batch iteration 100\n",
      "batch_loss: 0.0001 \n",
      "7.179183259663392 7.020868516037888 0.15831474362550413 0.006180108507727766\n",
      "\n",
      "150 tensor(6.9759e-07, device='cuda:0', grad_fn=<DivBackward0>) 0.0 4.4645836169365793e-05\n",
      "batch iteration 150\n",
      "batch_loss: 0.0000 \n",
      "7.188974332545569 7.0107561837100585 0.17821814883551035 0.009811004793899514\n",
      "\n",
      "200 tensor(4.0585e-06, device='cuda:0', grad_fn=<DivBackward0>) 0.0 0.0002597439452074468\n",
      "batch iteration 200\n",
      "batch_loss: 0.0003 \n",
      "7.2133897513211656 7.039372869667532 0.1740168816536336 0.00788806708702694\n",
      "\n",
      "250 tensor(2.1488e-07, device='cuda:0', grad_fn=<DivBackward0>) 0.0 1.3752482118434273e-05\n",
      "batch iteration 250\n",
      "batch_loss: 0.0000 \n",
      "7.173859951536964 7.006857632532291 0.16700231900467344 0.0060595097078532945\n",
      "\n",
      "300 tensor(4.4137e-07, device='cuda:0', grad_fn=<DivBackward0>) 0.0 2.8247808586456813e-05\n",
      "batch iteration 300\n",
      "batch_loss: 0.0000 \n",
      "7.174424030757271 7.01045890522233 0.1639651255349408 0.005380351817589002\n",
      "\n",
      "350 tensor(3.6919e-08, device='cuda:0', grad_fn=<DivBackward0>) 0.0 2.3627937935088994e-06\n",
      "batch iteration 350\n",
      "batch_loss: 0.0000 \n",
      "7.160076397559966 6.99941304538309 0.16066335217687655 0.005263533806672882\n",
      "\n",
      "400 tensor(1.1305e-06, device='cuda:0', grad_fn=<DivBackward0>) 0.0 7.235439261421561e-05\n",
      "batch iteration 400\n",
      "batch_loss: 0.0001 \n",
      "7.182626658849736 7.021508771169696 0.16111788768003965 0.004788618697119773\n",
      "\n",
      "450 tensor(4.0625e-07, device='cuda:0', grad_fn=<DivBackward0>) 0.0 2.6000096113421023e-05\n",
      "batch iteration 450\n",
      "batch_loss: 0.0000 \n",
      "7.16381949712531 7.007047516542855 0.15677198058245523 0.006623655693172026\n",
      "\n",
      "500 tensor(4.6385e-07, device='cuda:0', grad_fn=<DivBackward0>) 0.0 2.9686347261304036e-05\n",
      "batch iteration 500\n",
      "batch_loss: 0.0000 \n",
      "7.17088872181565 7.0126845319078095 0.15820418990784013 0.00542242166167739\n",
      "\n",
      "550 tensor(4.3849e-08, device='cuda:0', grad_fn=<DivBackward0>) 0.0 2.8063589070370654e-06\n",
      "batch iteration 550\n",
      "batch_loss: 0.0000 \n",
      "7.157349263430353 6.999719498339712 0.15762976509064064 0.005215008132020138\n",
      "\n",
      "600 tensor(3.3095e-07, device='cuda:0', grad_fn=<DivBackward0>) 0.0 2.1180581825319678e-05\n",
      "batch iteration 600\n",
      "batch_loss: 0.0000 \n",
      "7.166785932623991 7.00887886684957 0.15790706577442126 0.004660895736581239\n",
      "\n",
      "650 tensor(3.1866e-07, device='cuda:0', grad_fn=<DivBackward0>) 0.0 2.039395440078806e-05\n",
      "batch iteration 650\n",
      "batch_loss: 0.0000 \n",
      "7.169458117586495 7.012419151128229 0.15703896645826632 0.004431557997541802\n",
      "\n",
      "700 tensor(1.1285e-07, device='cuda:0', grad_fn=<DivBackward0>) 6.259597284952179e-06 9.630296062823618e-07\n",
      "batch iteration 700\n",
      "batch_loss: 0.0000 \n",
      "7.154843401114604 6.999159707728876 0.15568369338572818 0.00572891440359502\n",
      "\n",
      "750 tensor(3.0093e-07, device='cuda:0', grad_fn=<DivBackward0>) 1.85704993782565e-05 6.889920314279152e-07\n",
      "batch iteration 750\n",
      "batch_loss: 0.0000 \n",
      "7.157622083381596 7.001243838559021 0.15637824482257479 0.00435321644636133\n",
      "\n",
      "800 tensor(2.5030e-07, device='cuda:0', grad_fn=<DivBackward0>) 0.0 1.6018959286157042e-05\n",
      "batch iteration 800\n",
      "batch_loss: 0.0000 \n",
      "7.1652264990276535 7.0067211335026975 0.15850536552495598 0.004528323204358031\n",
      "\n",
      "850 tensor(9.0028e-06, device='cuda:0', grad_fn=<DivBackward0>) 0.0 0.0005761762149631977\n",
      "batch iteration 850\n",
      "batch_loss: 0.0006 \n",
      "7.258114644508539 7.059223190923747 0.19889145358479166 0.011972680202230634\n",
      "\n",
      "900 tensor(7.6006e-06, device='cuda:0', grad_fn=<DivBackward0>) 0.0 0.0004864354559686035\n",
      "batch iteration 900\n",
      "batch_loss: 0.0005 \n",
      "7.246142487161851 7.050501003393852 0.19564148376799917 0.010992726846026812\n",
      "\n",
      "950 tensor(6.9718e-07, device='cuda:0', grad_fn=<DivBackward0>) 0.0 4.461942444322631e-05\n",
      "batch iteration 950\n",
      "batch_loss: 0.0000 \n",
      "7.19794448699831 7.011445209042884 0.1864992779554262 0.008934435053706835\n",
      "\n",
      "1000 tensor(9.1991e-07, device='cuda:0', grad_fn=<DivBackward0>) 0.0 5.887444785912521e-05\n",
      "batch iteration 1000\n",
      "batch_loss: 0.0001 \n",
      "7.196564611381296 7.015689789859585 0.1808748215217113 0.007736419282791118\n",
      "\n"
     ]
    }
   ],
   "source": [
    "for iteration in range(int(echo)):\n",
    "    \n",
    "    temp_number = 0\n",
    "    total_batch_loss = 0 \n",
    "        \n",
    "    loss2_list = []\n",
    "    loss1_sum = 0\n",
    "    loss2_sum = 0\n",
    "    denominator = 0\n",
    "    for index in range(0, BATCH_SIZE):\n",
    "        training_data_i, training_label, training_data,label = appen_train(\n",
    "            Generate_distribution(Agent_number_n))\n",
    "        h_loss1, h_loss2 = net(training_data_i, training_label,\n",
    "                                       training_data)\n",
    "        denominator += 1\n",
    "        loss1_sum += h_loss1\n",
    "        loss2_sum += h_loss2\n",
    "\n",
    "    loss_sum = torch.sum(loss1_sum + loss2_sum)\n",
    "    loss = (loss_sum) / denominator \n",
    "    total_batch_loss +=float(loss_sum)\n",
    "    optimizer.zero_grad()\n",
    "\n",
    "    loss.backward()\n",
    "\n",
    "    optimizer.step()\n",
    "\n",
    "    temp_number = iteration\n",
    "    index_train_list.append(iteration)\n",
    "    train_losses.append(total_batch_loss)\n",
    "    if (iteration%50 == 0):\n",
    "        print(temp_number, loss, float(loss1_sum), float(loss2_sum))\n",
    "\n",
    "        print(\"batch iteration\", iteration)\n",
    "        print(\"batch_loss: %.4f \" % total_batch_loss)\n",
    "\n",
    "        result_list = []\n",
    "        for index in range(len(testing_data)):\n",
    "            h_list = []\n",
    "            for i in range(Agent_number_n):\n",
    "                h = net.calculate(\n",
    "                    torch.tensor(testing_data[index][i]).to(dev).type(\n",
    "                        torch.float32))\n",
    "                h_list.append(float(h))\n",
    "            result_list.append(sum(h_list) / testing_label[index])\n",
    "        print(max(result_list), min(result_list),\n",
    "              max(result_list) - min(result_list),\n",
    "              (sum(result_list) / len(result_list) - min(result_list))+ Agent_number_n-1 - min(min(result_list),Agent_number_n-1) )\n",
    "\n",
    "        index_test_list.append(iteration)\n",
    "        test_losses.append(\n",
    "            (sum(result_list) / len(result_list) - min(result_list))+ Agent_number_n-1 - min(min(result_list),Agent_number_n-1) )\n",
    "        print()\n",
    "        \n",
    "    scheduler.step()\n"
   ]
  },
  {
   "cell_type": "code",
   "execution_count": 17,
   "metadata": {
    "ExecuteTime": {
     "end_time": "2021-06-22T06:54:15.403230Z",
     "start_time": "2021-06-22T06:54:15.228339Z"
    }
   },
   "outputs": [
    {
     "data": {
      "image/png": "[encoded data removed]",
      "text/plain": [
       "<Figure size 432x288 with 1 Axes>"
      ]
     },
     "metadata": {
      "needs_background": "light"
     },
     "output_type": "display_data"
    }
   ],
   "source": [
    "plt.ylim(0, 1.0)\n",
    "plt.plot(index_test_list,test_losses)\n",
    "plt.ylabel('Testing Loss')\n",
    "plt.xlabel('Batch Epoch')\n",
    "plt.show()\n",
    "\n"
   ]
  },
  {
   "cell_type": "code",
   "execution_count": 18,
   "metadata": {
    "ExecuteTime": {
     "end_time": "2021-06-22T06:54:16.265652Z",
     "start_time": "2021-06-22T06:54:15.405225Z"
    }
   },
   "outputs": [
    {
     "ename": "FileNotFoundError",
     "evalue": "[Errno 2] No such file or directory: 'save/test_loss_unfeed_uniform_10.csv'",
     "output_type": "error",
     "traceback": [
      "\u001b[1;31m---------------------------------------------------------------------------\u001b[0m",
      "\u001b[1;31mFileNotFoundError\u001b[0m                         Traceback (most recent call last)",
      "\u001b[1;32m<ipython-input-18-81fe27684f91>\u001b[0m in \u001b[0;36m<module>\u001b[1;34m\u001b[0m\n\u001b[0;32m      5\u001b[0m     \u001b[0mspamwriter\u001b[0m\u001b[1;33m.\u001b[0m\u001b[0mwriterow\u001b[0m\u001b[1;33m(\u001b[0m\u001b[0mtest_losses\u001b[0m\u001b[1;33m)\u001b[0m\u001b[1;33m\u001b[0m\u001b[1;33m\u001b[0m\u001b[0m\n\u001b[0;32m      6\u001b[0m \u001b[1;33m\u001b[0m\u001b[0m\n\u001b[1;32m----> 7\u001b[1;33m \u001b[1;32mwith\u001b[0m \u001b[0mopen\u001b[0m\u001b[1;33m(\u001b[0m\u001b[1;34m'save/test_loss_unfeed_uniform_10.csv'\u001b[0m\u001b[1;33m)\u001b[0m \u001b[1;32mas\u001b[0m \u001b[0mcsvfile_unfeed\u001b[0m\u001b[1;33m:\u001b[0m\u001b[1;33m\u001b[0m\u001b[1;33m\u001b[0m\u001b[0m\n\u001b[0m\u001b[0;32m      8\u001b[0m     \u001b[0mreader\u001b[0m \u001b[1;33m=\u001b[0m \u001b[0mcsv\u001b[0m\u001b[1;33m.\u001b[0m\u001b[0mreader\u001b[0m\u001b[1;33m(\u001b[0m\u001b[0mcsvfile_unfeed\u001b[0m\u001b[1;33m)\u001b[0m\u001b[1;33m\u001b[0m\u001b[1;33m\u001b[0m\u001b[0m\n\u001b[0;32m      9\u001b[0m     \u001b[0mlist_feed\u001b[0m \u001b[1;33m=\u001b[0m \u001b[1;33m[\u001b[0m\u001b[1;33m]\u001b[0m\u001b[1;33m\u001b[0m\u001b[1;33m\u001b[0m\u001b[0m\n",
      "\u001b[1;31mFileNotFoundError\u001b[0m: [Errno 2] No such file or directory: 'save/test_loss_unfeed_uniform_10.csv'"
     ]
    }
   ],
   "source": [
    "import csv\n",
    "with open('save/test_loss_feed_uniform_10.csv', 'w', newline='') as csvfile_feed:\n",
    "    spamwriter = csv.writer(csvfile_feed)\n",
    "    spamwriter.writerow(index_test_list)\n",
    "    spamwriter.writerow(test_losses)\n",
    "\n",
    "with open('save/test_loss_unfeed_uniform_10.csv') as csvfile_unfeed:\n",
    "    reader = csv.reader(csvfile_unfeed)\n",
    "    list_feed = []\n",
    "    for row in reader:\n",
    "        row = np.array(row)\n",
    "        temp_list = []\n",
    "        for i in range(len(row)):\n",
    "            temp_list.append(float(row[i]))\n",
    "\n",
    "        list_feed.append(temp_list)\n",
    "    plt.ylim(0, 1.0)\n",
    "    plt.plot(list_feed[0],list_feed[1],label='neural network')\n",
    "    plt.plot(index_test_list,test_losses,label='feed distribution')\n",
    "    plt.ylabel('Testing Loss')\n",
    "    plt.xlabel('Batch Epoch')\n",
    "    #plt.title('Two or more lines on same plot with suitable legends ')\n",
    "    # show a legend on the plot\n",
    "    plt.legend()\n",
    "    plt.show()"
   ]
  },
  {
   "cell_type": "code",
   "execution_count": 19,
   "metadata": {
    "ExecuteTime": {
     "end_time": "2021-06-22T07:45:37.510043Z",
     "start_time": "2021-06-22T07:45:37.340136Z"
    }
   },
   "outputs": [
    {
     "data": {
      "image/png": "[encoded data removed]",
      "text/plain": [
       "<Figure size 432x288 with 1 Axes>"
      ]
     },
     "metadata": {
      "needs_background": "light"
     },
     "output_type": "display_data"
    }
   ],
   "source": [
    "plt.ylim(0, 1.0)\n",
    "\n",
    "plt.plot(index_train_list,train_losses)\n",
    "plt.ylabel('training loss')\n",
    "\n",
    "plt.plot(index_test_list,test_losses)\n",
    "plt.ylabel('training loss')\n",
    "\n",
    "plt.show()"
   ]
  },
  {
   "cell_type": "code",
   "execution_count": 20,
   "metadata": {
    "ExecuteTime": {
     "end_time": "2021-06-22T07:45:37.651219Z",
     "start_time": "2021-06-22T07:45:37.635260Z"
    }
   },
   "outputs": [],
   "source": [
    "torch.save(net, \"save/Deep_learning_F_uniform_8_1\")"
   ]
  },
  {
   "cell_type": "code",
   "execution_count": 21,
   "metadata": {
    "ExecuteTime": {
     "end_time": "2021-06-22T07:48:00.146222Z",
     "start_time": "2021-06-22T07:45:38.350998Z"
    }
   },
   "outputs": [
    {
     "name": "stdout",
     "output_type": "stream",
     "text": [
      "7.196564611381296 7.015689789859585 0.1808748215217113 0.007736419282791118\n"
     ]
    }
   ],
   "source": [
    "denominator = 0\n",
    "result_list = []\n",
    "for index in range(len(testing_data)):\n",
    "    h_list = []\n",
    "    for i in range(Agent_number_n):\n",
    "        h = net.calculate(torch.tensor(testing_data[index][i]).cuda().type(torch.float32))\n",
    "        h_list.append(float(h))\n",
    "    \n",
    "    #print(sum(h_list),h_list,sum(h_list)/testing_label[index])\n",
    "    result_list.append(sum(h_list)/testing_label[index])\n",
    "    \n",
    "\n",
    "print(max(result_list),min(result_list),max(result_list)-min(result_list),sum(result_list)/len(result_list)-min(result_list))"
   ]
  },
  {
   "cell_type": "code",
   "execution_count": 22,
   "metadata": {
    "ExecuteTime": {
     "end_time": "2021-06-22T07:48:02.452525Z",
     "start_time": "2021-06-22T07:48:01.297402Z"
    }
   },
   "outputs": [
    {
     "data": {
      "image/png": "[encoded data removed]",
      "text/plain": [
       "<Figure size 432x288 with 1 Axes>"
      ]
     },
     "metadata": {
      "needs_background": "light"
     },
     "output_type": "display_data"
    }
   ],
   "source": [
    "plt.hist(result_list,bins=500)\n",
    "\n",
    "plt.title(\"Means\", y=1.015, fontsize=20)\n",
    "plt.axvline(x=sum(result_list)/len(result_list), linestyle='--', linewidth=2.5, label=\"sample mean\", c='orange')\n",
    "plt.xlabel(\"samples\", labelpad=14)\n",
    "plt.ylabel(\"frequency of occurence\", labelpad=14)\n",
    "plt.legend();\n",
    "\n",
    "result_list.sort()\n",
    "\n",
    "plt.axvline(x=result_list[int(len(result_list)*0.01)], linestyle='--', linewidth=0.5, label=\"1%\", c='b')\n",
    "plt.axvline(x=result_list[int(len(result_list)*0.99)], linestyle='--', linewidth=0.5, label=\"99%\", c='r')\n",
    "\n",
    "\n",
    "plt.show()"
   ]
  },
  {
   "cell_type": "code",
   "execution_count": null,
   "metadata": {},
   "outputs": [],
   "source": []
  },
  {
   "cell_type": "code",
   "execution_count": null,
   "metadata": {},
   "outputs": [],
   "source": []
  },
  {
   "cell_type": "code",
   "execution_count": null,
   "metadata": {},
   "outputs": [],
   "source": []
  }
 ],
 "metadata": {
  "hide_input": false,
  "kernelspec": {
   "display_name": "Python 3",
   "language": "python",
   "name": "python3"
  },
  "language_info": {
   "codemirror_mode": {
    "name": "ipython",
    "version": 3
   },
   "file_extension": ".py",
   "mimetype": "text/x-python",
   "name": "python",
   "nbconvert_exporter": "python",
   "pygments_lexer": "ipython3",
   "version": "3.8.3"
  },
  "varInspector": {
   "cols": {
    "lenName": 16,
    "lenType": 16,
    "lenVar": 40
   },
   "kernels_config": {
    "python": {
     "delete_cmd_postfix": "",
     "delete_cmd_prefix": "del ",
     "library": "var_list.py",
     "varRefreshCmd": "print(var_dic_list())"
    },
    "r": {
     "delete_cmd_postfix": ") ",
     "delete_cmd_prefix": "rm(",
     "library": "var_list.r",
     "varRefreshCmd": "cat(var_dic_list()) "
    }
   },
   "types_to_exclude": [
    "module",
    "function",
    "builtin_function_or_method",
    "instance",
    "_Feature"
   ],
   "window_display": false
  }
 },
 "nbformat": 4,
 "nbformat_minor": 4
}
