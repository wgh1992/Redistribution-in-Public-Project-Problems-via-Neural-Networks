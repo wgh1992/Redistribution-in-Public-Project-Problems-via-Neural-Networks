{
 "cells": [
  {
   "cell_type": "code",
   "execution_count": 1,
   "metadata": {
    "ExecuteTime": {
     "end_time": "2021-06-22T03:58:47.370696Z",
     "start_time": "2021-06-22T03:58:44.364281Z"
    }
   },
   "outputs": [
    {
     "name": "stdout",
     "output_type": "stream",
     "text": [
      "pygame 2.0.1 (SDL 2.0.14, Python 3.8.3)\n",
      "Hello from the pygame community. https://www.pygame.org/contribute.html\n"
     ]
    },
    {
     "name": "stderr",
     "output_type": "stream",
     "text": [
      "D:\\ComputerSoftwares\\Anaconda\\lib\\site-packages\\sklearn\\utils\\deprecation.py:143: FutureWarning: The sklearn.datasets.samples_generator module is  deprecated in version 0.22 and will be removed in version 0.24. The corresponding classes / functions should instead be imported from sklearn.datasets. Anything that cannot be imported from sklearn.datasets is now part of the private API.\n",
      "  warnings.warn(message, FutureWarning)\n"
     ]
    },
    {
     "name": "stdout",
     "output_type": "stream",
     "text": [
      "cuda:0\n"
     ]
    }
   ],
   "source": [
    "\n",
    "import pygame\n",
    "import random\n",
    "import os\n",
    "import time\n",
    "import numpy as np\n",
    "import math\n",
    "import torch\n",
    "import torch.nn.functional\n",
    "import matplotlib.pyplot as plt\n",
    "import torch.optim as opt\n",
    "from torch.autograd import Variable\n",
    "from sklearn.model_selection import train_test_split\n",
    "\n",
    "import scipy.stats as st\n",
    "from sklearn.datasets.samples_generator import make_blobs\n",
    "from matplotlib.colors import LogNorm \n",
    "import matplotlib.cm as cm\n",
    "import torch.nn as nn\n",
    "import numpy as np\n",
    "import matplotlib.pyplot as plt\n",
    "import plotly.graph_objects as go\n",
    "import plotly.express as px\n",
    "from scipy.interpolate import griddata\n",
    "import torch.nn.functional as F\n",
    "import torch.distributions as D\n",
    "if torch.cuda.is_available():  \n",
    "    dev = \"cuda:0\" \n",
    "else:  \n",
    "    dev = \"cpu\"  \n",
    "\n",
    "print(dev)\n",
    "\n"
   ]
  },
  {
   "cell_type": "code",
   "execution_count": 2,
   "metadata": {
    "ExecuteTime": {
     "end_time": "2021-06-22T03:58:47.386653Z",
     "start_time": "2021-06-22T03:58:47.373689Z"
    },
    "run_control": {
     "marked": true
    }
   },
   "outputs": [],
   "source": [
    "global temp_list\n",
    "temp_list = []\n",
    "Agent_number_n=8;\n",
    "Alpha = 1.0;\n",
    "\n",
    "echo = 1001\n",
    "BATCH_SIZE = 64\n",
    "LR = 0.001           # learning rate for generator\n",
    "devided_number = 1\n",
    "\n",
    "uniformlow = 0\n",
    "uniformhigh = 1.0\n",
    "\n",
    "normalloc = 0.5\n",
    "normalscale = 0.1\n",
    "\n",
    "doublePeakHighMean = 0.9\n",
    "doublePeakLowMean = 0.1\n",
    "doublePeakStd = 0.04\n",
    "\n",
    "beta_a = 0.3\n",
    "beta_b = 0.2\n",
    "\n",
    "def Generate_distribution(Agent_number_n):\n",
    "    #return sorted(np.random.rand(Agent_number_n), reverse=True)\n",
    "    return sorted(np.random.normal(normalloc,normalscale,Agent_number_n), reverse=True)\n",
    "Prior_Distribution = \"normal\""
   ]
  },
  {
   "cell_type": "code",
   "execution_count": 3,
   "metadata": {
    "ExecuteTime": {
     "end_time": "2021-06-22T03:58:47.402611Z",
     "start_time": "2021-06-22T03:58:47.388650Z"
    }
   },
   "outputs": [],
   "source": [
    "new_input = 3\n",
    "def Dimensionality_reduction(data_sorted):\n",
    "    out_data = torch.ones(new_input).cuda()\n",
    "    out_data[0] = torch.max(data_sorted) \n",
    "    out_data[1] = torch.sum(data_sorted) \n",
    "    \n",
    "    temp_list = []\n",
    "    for i in range(len(data_sorted)-1):\n",
    "        temp_list.append(data_sorted[i] - data_sorted[i + 1])\n",
    "    \n",
    "    temp_tensor = torch.stack(temp_list)    \n",
    "    out_data[2] = torch.max(temp_tensor) \n",
    "    return out_data\n"
   ]
  },
  {
   "cell_type": "code",
   "execution_count": 4,
   "metadata": {
    "ExecuteTime": {
     "end_time": "2021-06-22T03:58:47.434524Z",
     "start_time": "2021-06-22T03:58:47.404606Z"
    },
    "run_control": {
     "marked": true
    }
   },
   "outputs": [],
   "source": [
    "d_1 = D.uniform.Uniform(uniformlow, uniformhigh)\n",
    "distributionRatio_1 = d_1.cdf(1) - d_1.cdf(0)\n",
    "distributionBase_1 = d_1.cdf(0)\n",
    "\n",
    "d_2 = D.normal.Normal(normalloc, normalscale)\n",
    "distributionRatio_2 = d_2.cdf(1) - d_2.cdf(0)\n",
    "distributionBase_2 = d_2.cdf(0)\n",
    "\n",
    "d_3 = D.normal.Normal(doublePeakLowMean, doublePeakStd)\n",
    "d_4 = D.normal.Normal(doublePeakHighMean, doublePeakStd)\n",
    "distributionRatio_3 = (d_3.cdf(1) + d_4.cdf(1) - d_3.cdf(0) - d_4.cdf(0)) / 2\n",
    "distributionBase_3 = d_3.cdf(0) + d_4.cdf(0)\n",
    "\n",
    "# d_5 = D.beta.Beta(beta_a,beta_b)\n",
    "\n",
    "# d10 = D.beta.Beta(0.5,0.5)\n",
    "\n",
    "\n",
    "def cdf(x, y, i=None):\n",
    "    if (y == \"uniform\"):\n",
    "        return (d_1.cdf(x) - distributionBase_1) / distributionRatio_1\n",
    "    elif (y == \"normal\"):\n",
    "        return (d_2.cdf(x) - distributionBase_2) / distributionRatio_2\n",
    "    elif (y == \"twopeak\"):\n",
    "        return (d_3.cdf(x) + d_4.cdf(x) -\n",
    "                distributionBase_3) / 2 / distributionRatio_3\n",
    "\n",
    "\n",
    "def pdf(x, y, i=None):\n",
    "    x= x.cpu().type(torch.float32)\n",
    "    if (y == \"uniform\"):\n",
    "        return torch.pow(torch.tensor(10.0), d_1.log_prob(x)).to(dev)\n",
    "    elif (y == \"normal\"):\n",
    "        return torch.pow(torch.tensor(10.0), d_2.log_prob(x)).to(dev)\n",
    "    elif (y == \"twopeak\"):\n",
    "        return (torch.pow(torch.tensor(10.0), d_3.log_prob(x)) +\n",
    "                torch.pow(torch.tensor(10.0), d_4.log_prob(x))).to(dev) / 2 \n",
    "    \n",
    "def Generate_distribution(Agent_number_n):\n",
    "    return np.random.rand(Agent_number_n)\n",
    "    #return np.random.normal(normalloc,normalscale,Agent_number_n)\n"
   ]
  },
  {
   "cell_type": "code",
   "execution_count": 5,
   "metadata": {
    "ExecuteTime": {
     "end_time": "2021-06-22T03:58:49.298354Z",
     "start_time": "2021-06-22T03:58:47.436520Z"
    },
    "run_control": {
     "marked": false
    }
   },
   "outputs": [
    {
     "name": "stdout",
     "output_type": "stream",
     "text": [
      "tensor(10., device='cuda:0')\n",
      "tensor([1.], device='cuda:0')\n",
      "tensor([0.0008], device='cuda:0')\n"
     ]
    }
   ],
   "source": [
    "print(torch.tensor(10.0).to(dev))\n",
    "print(pdf(torch.ones(1)*0.2,\"uniform\"))\n",
    "print(pdf(torch.ones(1)*0.2,\"normal\"))\n"
   ]
  },
  {
   "cell_type": "code",
   "execution_count": 6,
   "metadata": {
    "ExecuteTime": {
     "end_time": "2021-06-22T03:58:50.117078Z",
     "start_time": "2021-06-22T03:58:49.300348Z"
    }
   },
   "outputs": [
    {
     "name": "stdout",
     "output_type": "stream",
     "text": [
      "[[[9.97543265e-01 2.68720378e-01 7.87710680e-01 ... 2.33853701e-01\n",
      "   6.79887822e-01 4.01761274e-01]\n",
      "  [1.57319657e-01 2.68720378e-01 7.87710680e-01 ... 2.33853701e-01\n",
      "   6.79887822e-01 4.01761274e-01]\n",
      "  [1.57319657e-01 9.97543265e-01 7.87710680e-01 ... 2.33853701e-01\n",
      "   6.79887822e-01 4.01761274e-01]\n",
      "  ...\n",
      "  [1.57319657e-01 9.97543265e-01 2.68720378e-01 ... 5.23992166e-01\n",
      "   6.79887822e-01 4.01761274e-01]\n",
      "  [1.57319657e-01 9.97543265e-01 2.68720378e-01 ... 5.23992166e-01\n",
      "   2.33853701e-01 4.01761274e-01]\n",
      "  [1.57319657e-01 9.97543265e-01 2.68720378e-01 ... 5.23992166e-01\n",
      "   2.33853701e-01 6.79887822e-01]]\n",
      "\n",
      " [[8.73286320e-02 6.36956323e-01 1.50296589e-01 ... 8.07633178e-01\n",
      "   9.33117971e-01 3.55017279e-01]\n",
      "  [4.67874251e-01 6.36956323e-01 1.50296589e-01 ... 8.07633178e-01\n",
      "   9.33117971e-01 3.55017279e-01]\n",
      "  [4.67874251e-01 8.73286320e-02 1.50296589e-01 ... 8.07633178e-01\n",
      "   9.33117971e-01 3.55017279e-01]\n",
      "  ...\n",
      "  [4.67874251e-01 8.73286320e-02 6.36956323e-01 ... 1.99297367e-01\n",
      "   9.33117971e-01 3.55017279e-01]\n",
      "  [4.67874251e-01 8.73286320e-02 6.36956323e-01 ... 1.99297367e-01\n",
      "   8.07633178e-01 3.55017279e-01]\n",
      "  [4.67874251e-01 8.73286320e-02 6.36956323e-01 ... 1.99297367e-01\n",
      "   8.07633178e-01 9.33117971e-01]]\n",
      "\n",
      " [[9.02995883e-01 1.74761389e-01 3.73571265e-01 ... 6.78443893e-01\n",
      "   2.84439020e-01 9.69357268e-01]\n",
      "  [9.23919251e-01 1.74761389e-01 3.73571265e-01 ... 6.78443893e-01\n",
      "   2.84439020e-01 9.69357268e-01]\n",
      "  [9.23919251e-01 9.02995883e-01 3.73571265e-01 ... 6.78443893e-01\n",
      "   2.84439020e-01 9.69357268e-01]\n",
      "  ...\n",
      "  [9.23919251e-01 9.02995883e-01 1.74761389e-01 ... 7.13737734e-01\n",
      "   2.84439020e-01 9.69357268e-01]\n",
      "  [9.23919251e-01 9.02995883e-01 1.74761389e-01 ... 7.13737734e-01\n",
      "   6.78443893e-01 9.69357268e-01]\n",
      "  [9.23919251e-01 9.02995883e-01 1.74761389e-01 ... 7.13737734e-01\n",
      "   6.78443893e-01 2.84439020e-01]]\n",
      "\n",
      " ...\n",
      "\n",
      " [[6.27803951e-01 5.20218130e-01 7.10035518e-01 ... 9.30290513e-02\n",
      "   6.06868121e-01 4.72863447e-02]\n",
      "  [4.11821933e-04 5.20218130e-01 7.10035518e-01 ... 9.30290513e-02\n",
      "   6.06868121e-01 4.72863447e-02]\n",
      "  [4.11821933e-04 6.27803951e-01 7.10035518e-01 ... 9.30290513e-02\n",
      "   6.06868121e-01 4.72863447e-02]\n",
      "  ...\n",
      "  [4.11821933e-04 6.27803951e-01 5.20218130e-01 ... 6.37525254e-01\n",
      "   6.06868121e-01 4.72863447e-02]\n",
      "  [4.11821933e-04 6.27803951e-01 5.20218130e-01 ... 6.37525254e-01\n",
      "   9.30290513e-02 4.72863447e-02]\n",
      "  [4.11821933e-04 6.27803951e-01 5.20218130e-01 ... 6.37525254e-01\n",
      "   9.30290513e-02 6.06868121e-01]]\n",
      "\n",
      " [[2.63766079e-01 3.71481787e-01 9.46738712e-01 ... 3.04294071e-01\n",
      "   3.86046394e-01 9.66191150e-01]\n",
      "  [8.59411854e-02 3.71481787e-01 9.46738712e-01 ... 3.04294071e-01\n",
      "   3.86046394e-01 9.66191150e-01]\n",
      "  [8.59411854e-02 2.63766079e-01 9.46738712e-01 ... 3.04294071e-01\n",
      "   3.86046394e-01 9.66191150e-01]\n",
      "  ...\n",
      "  [8.59411854e-02 2.63766079e-01 3.71481787e-01 ... 3.87049787e-01\n",
      "   3.86046394e-01 9.66191150e-01]\n",
      "  [8.59411854e-02 2.63766079e-01 3.71481787e-01 ... 3.87049787e-01\n",
      "   3.04294071e-01 9.66191150e-01]\n",
      "  [8.59411854e-02 2.63766079e-01 3.71481787e-01 ... 3.87049787e-01\n",
      "   3.04294071e-01 3.86046394e-01]]\n",
      "\n",
      " [[2.27409826e-01 5.30042806e-01 3.03527145e-01 ... 6.73236013e-01\n",
      "   9.13735826e-01 5.04470318e-01]\n",
      "  [6.86397083e-01 5.30042806e-01 3.03527145e-01 ... 6.73236013e-01\n",
      "   9.13735826e-01 5.04470318e-01]\n",
      "  [6.86397083e-01 2.27409826e-01 3.03527145e-01 ... 6.73236013e-01\n",
      "   9.13735826e-01 5.04470318e-01]\n",
      "  ...\n",
      "  [6.86397083e-01 2.27409826e-01 5.30042806e-01 ... 8.41287281e-01\n",
      "   9.13735826e-01 5.04470318e-01]\n",
      "  [6.86397083e-01 2.27409826e-01 5.30042806e-01 ... 8.41287281e-01\n",
      "   6.73236013e-01 5.04470318e-01]\n",
      "  [6.86397083e-01 2.27409826e-01 5.30042806e-01 ... 8.41287281e-01\n",
      "   6.73236013e-01 9.13735826e-01]]]\n",
      "[4.05078894 3.63752159 5.0212257  ... 3.24317819 3.71150917 4.6801063 ]\n"
     ]
    }
   ],
   "source": [
    "def h_3_star(a, b, t):\n",
    "    return a - min(a, t) + b - min(b, t) + max(min(a, t)+min(b, t), 2*t/3) + 1/2 * max(min(a, t)+min(b, t), t) - 1/2 * max(max(min(a, t), min(b, t)), 2*t/3) - t/6\n",
    "\n",
    "\n",
    "def f_function(a, b, z):\n",
    "    if(z >= 1):\n",
    "        return (a+b)/2 + z/3\n",
    "    else:\n",
    "        return z/3 + h_3_star(a, b, 1-z)/2\n",
    "\n",
    "def h_function_label(input_list):\n",
    "    #input_list = sorted(input_list)\n",
    "    g_list = []\n",
    "    for j1 in range(len(input_list) ):\n",
    "        for j2 in range(len(input_list)):\n",
    "            if(j1 != j2):\n",
    "                a = input_list[j1]\n",
    "                b = input_list[j2]\n",
    "                z = sum(input_list)- a-b\n",
    "\n",
    "                g_list.append( f_function(a, b, z) * (Agent_number_n-1))\n",
    "    h = sum(g_list) * 3 /  (Agent_number_n) /  (Agent_number_n-1) /  (Agent_number_n - 2)\n",
    "    return h\n",
    "\n",
    "def appen(_x_list,y):\n",
    "    global temp_list\n",
    "    temp_list.append(_x_list)\n",
    "    \n",
    "def appen_train(x_list):\n",
    "    global temp_list\n",
    "                \n",
    "    S= max(sum(x_list),1.0);\n",
    "    temp_list = []\n",
    "    h_list = []\n",
    "    for i in range(Agent_number_n):\n",
    "        temp = []\n",
    "        for j in range(Agent_number_n):\n",
    "            if(i!=j):\n",
    "                temp.append(x_list[j])\n",
    "        appen(temp,S)\n",
    "        \n",
    "        h = h_function_label(temp)\n",
    "        h_list.append(float(h))\n",
    "    temp_list = np.array(temp_list)\n",
    "    x_list = np.array(x_list)\n",
    "    return temp_list,S,x_list,h_list\n",
    "    \n",
    "\n",
    "def appen_test(x_list):\n",
    "    global temp_list\n",
    "                \n",
    "    S= max(sum(x_list),1.0);\n",
    "    temp_list = []\n",
    "    \n",
    "    for i in range(Agent_number_n):\n",
    "        temp = []\n",
    "        for j in range(Agent_number_n):\n",
    "            if(i!=j):\n",
    "                temp.append(x_list[j])\n",
    "        appen(temp,S)\n",
    "    testing_data.append(temp_list)\n",
    "    testing_label.append(S)\n",
    "    temp_list = np.array(temp_list)\n",
    "    return temp_list,S\n",
    "    \n",
    "\n",
    "def read_testing_data():\n",
    "    for i in range(10000):\n",
    "        appen_test(Generate_distribution(Agent_number_n));\n",
    "                            \n",
    "\n",
    "testing_data=[]\n",
    "testing_label=[]\n",
    "S=1.0\n",
    "read_testing_data();\n",
    "\n",
    "testing_data=np.array(testing_data)\n",
    "testing_label=np.array(testing_label)\n",
    "print(testing_data)\n",
    "print(testing_label)"
   ]
  },
  {
   "cell_type": "code",
   "execution_count": 7,
   "metadata": {
    "ExecuteTime": {
     "end_time": "2021-06-22T03:59:22.735020Z",
     "start_time": "2021-06-22T03:58:50.118031Z"
    }
   },
   "outputs": [
    {
     "name": "stdout",
     "output_type": "stream",
     "text": [
      "7.179475083327372 6.9999999999999964 0.17947508332737527 7.001275256003984\n"
     ]
    }
   ],
   "source": [
    "def h_3_star(a, b, t):\n",
    "    return a - min(a, t) + b - min(b, t) + max(min(a, t)+min(b, t), 2*t/3) + 1/2 * max(min(a, t)+min(b, t), t) - 1/2 * max(max(min(a, t), min(b, t)), 2*t/3) - t/6\n",
    "\n",
    "\n",
    "def f_function(a, b, z):\n",
    "    if(z >= 1):\n",
    "        return (a+b)/2 + z/3\n",
    "    else:\n",
    "        return z/3 + h_3_star(a, b, 1-z)/2\n",
    "\n",
    "def h_function(input_list):\n",
    "    #input_list = sorted(input_list)\n",
    "    g_list = []\n",
    "    for j1 in range(len(input_list) ):\n",
    "        for j2 in range(len(input_list)):\n",
    "            if(j1 != j2):\n",
    "                a = input_list[j1]\n",
    "                b = input_list[j2]\n",
    "                z = sum(input_list)- a-b\n",
    "\n",
    "                g_list.append( f_function(a, b, z) * (Agent_number_n-1))\n",
    "    h = sum(g_list) * 3 /  (Agent_number_n) /  (Agent_number_n-1) /  (Agent_number_n - 2)\n",
    "    return h\n",
    "                \n",
    "                \n",
    "x_list = []\n",
    "y_list = []\n",
    "z_list = []\n",
    "result_list = []\n",
    "for index in range(len(testing_data)):\n",
    "    h_list = []\n",
    "    for i in range(Agent_number_n):\n",
    "        x_list.append(testing_data[index][i][0])\n",
    "        y_list.append(testing_data[index][i][1])\n",
    "        h = h_function(testing_data[index][i])\n",
    "        z_list.append(float(h))\n",
    "        h_list.append(float(h))\n",
    "    result_list.append(sum(h_list)/testing_label[index]) \n",
    "    \n",
    "    \n",
    "print(max(result_list), min(result_list), max(result_list)-min(result_list),sum(result_list)/len(result_list))"
   ]
  },
  {
   "cell_type": "code",
   "execution_count": 8,
   "metadata": {
    "ExecuteTime": {
     "end_time": "2021-06-22T03:59:25.077918Z",
     "start_time": "2021-06-22T03:59:22.749981Z"
    }
   },
   "outputs": [
    {
     "data": {
      "image/png": "[encoded data removed]",
      "text/plain": [
       "<Figure size 432x288 with 1 Axes>"
      ]
     },
     "metadata": {
      "needs_background": "light"
     },
     "output_type": "display_data"
    }
   ],
   "source": [
    "plt.hist(result_list,bins=500)\n",
    "\n",
    "plt.title(\"Means\", y=1.015, fontsize=20)\n",
    "plt.axvline(x=sum(result_list)/len(result_list), linestyle='--', linewidth=2.5, label=\"sample mean\", c='orange')\n",
    "plt.xlabel(\"samples\", labelpad=14)\n",
    "plt.ylabel(\"frequency of occurence\", labelpad=14)\n",
    "plt.legend();\n",
    "\n",
    "result_list.sort()\n",
    "\n",
    "plt.axvline(x=result_list[int(len(result_list)*0.01)], linestyle='--', linewidth=0.5, label=\"1%\", c='b')\n",
    "plt.axvline(x=result_list[int(len(result_list)*0.99)], linestyle='--', linewidth=0.5, label=\"99%\", c='r')\n",
    "\n",
    "\n",
    "plt.show()"
   ]
  },
  {
   "cell_type": "code",
   "execution_count": 9,
   "metadata": {
    "ExecuteTime": {
     "end_time": "2021-06-22T03:59:25.093340Z",
     "start_time": "2021-06-22T03:59:25.079866Z"
    }
   },
   "outputs": [
    {
     "name": "stdout",
     "output_type": "stream",
     "text": [
      "tensor([0.3961], device='cuda:0', grad_fn=<SortBackward>)\n"
     ]
    }
   ],
   "source": [
    "tensor_sample_list,indices = torch.sort(torch.rand(devided_number,requires_grad=True).to(dev))  # random ideas\\n\n",
    "print(tensor_sample_list)"
   ]
  },
  {
   "cell_type": "code",
   "execution_count": 10,
   "metadata": {
    "ExecuteTime": {
     "end_time": "2021-06-22T03:59:25.109297Z",
     "start_time": "2021-06-22T03:59:25.095335Z"
    },
    "run_control": {
     "marked": true
    }
   },
   "outputs": [
    {
     "name": "stdout",
     "output_type": "stream",
     "text": [
      "tensor([0.1494], device='cuda:0', grad_fn=<DivBackward0>)\n",
      "tensor([0.1494], device='cuda:0', grad_fn=<DivBackward0>)\n"
     ]
    }
   ],
   "source": [
    "print(cdf(tensor_sample_list,Prior_Distribution))\n",
    "print(cdf(tensor_sample_list,\"normal\"))"
   ]
  },
  {
   "cell_type": "code",
   "execution_count": 11,
   "metadata": {
    "ExecuteTime": {
     "end_time": "2021-06-22T03:59:25.157169Z",
     "start_time": "2021-06-22T03:59:25.111292Z"
    },
    "run_control": {
     "marked": true
    }
   },
   "outputs": [],
   "source": [
    "def weight_init(m):\n",
    "    if isinstance(m, torch.nn.Conv2d):\n",
    "        torch.nn.init.xavier_normal_(m.weight)\n",
    "        torch.nn.init.zeros_(m.bias)\n",
    "    elif isinstance(m, torch.nn.Linear):\n",
    "        torch.nn.init.xavier_normal_(m.weight)\n",
    "        torch.nn.init.normal_(m.bias, mean=0.0, std=0.01)\n",
    "\n",
    "\n",
    "\n",
    "def redistribution_value_function(input_tensor):\n",
    "    S = torch.max(torch.sum(input_tensor), torch.ones(1).to(dev))\n",
    "    temp_list = []\n",
    "\n",
    "    for i in range(Agent_number_n):\n",
    "        temp = []\n",
    "\n",
    "        for j in range(Agent_number_n):\n",
    "            if(i != j):\n",
    "                temp .append(input_tensor[j])\n",
    "\n",
    "        temp = torch.stack(temp)\n",
    "        temp_list.append(temp)\n",
    "    return torch.stack(temp_list), S\n",
    "\n",
    "\n",
    "class Net(torch.nn.Module):\n",
    "    def __init__(self):\n",
    "\n",
    "        super(Net, self).__init__()\n",
    "\n",
    "        self.input_dim = new_input#(Agent_number_n-1)\n",
    "        self.hidden_dim = 128\n",
    "        self.output_dim = 1\n",
    "        self.hidden_layer_count = 6\n",
    "\n",
    "        current_dim = self.input_dim\n",
    "        self.layers = torch.nn.ModuleList()\n",
    "        for i in range(self.hidden_layer_count):\n",
    "            self.layers.append(torch.nn.Linear(current_dim, self.hidden_dim))\n",
    "            current_dim = self.hidden_dim\n",
    "        self.layers.append(torch.nn.Linear(current_dim, self.output_dim))\n",
    "\n",
    "    def calculate(self, value_list):\n",
    "        h = Dimensionality_reduction(value_list)\n",
    "        for layer in self.layers:\n",
    "            h = torch.relu(layer(h))\n",
    "        return h\n",
    "\n",
    "    def forward(self, input_list, input_label, input_data):\n",
    "        global iteration, echo, target_order\n",
    "        loss1 = 0\n",
    "        loss2 = 0\n",
    "        input_list = torch.from_numpy(\n",
    "            np.array(input_list)).to(dev).type(torch.float32)\n",
    "\n",
    "        input_data = torch.from_numpy(\n",
    "            np.array(input_data)).to(dev).type(torch.float32)\n",
    "        \n",
    "        input_label = torch.from_numpy(\n",
    "            np.array(input_label)).to(dev).type(torch.float32)\n",
    "        \n",
    "        \n",
    "        random_index = random.randint(0, Agent_number_n-1)\n",
    "        tensor_sample_list,indices = torch.sort(torch.rand(devided_number,requires_grad=True).to(dev))\n",
    "     \n",
    "        tensor_sample = torch.rand(devided_number,requires_grad=True)[0].to(dev)\n",
    "    \n",
    "        input_data_temp = input_data.detach().clone()\n",
    "        \n",
    "        input_data_temp[random_index] = tensor_sample\n",
    "\n",
    "        value_list_tensor, S_tensor = redistribution_value_function(\n",
    "            input_data_temp)\n",
    "       \n",
    "        h_list = []\n",
    "        for i in range(Agent_number_n):\n",
    "            h = self.calculate(\n",
    "                value_list_tensor[i].to(dev).type(torch.float32))\n",
    "            h_list.append(h)\n",
    "            \n",
    "        S_tensor = S_tensor.detach().to(dev).type(torch.float32)\n",
    "        \n",
    "        sum_h = torch.sum(torch.cat(h_list)).to(dev)\n",
    "        \n",
    "        temp_loss1 = torch.where((Agent_number_n-1)*S_tensor > sum_h,\n",
    "                 torch.square(((Agent_number_n-1)*S_tensor - sum_h)),\n",
    "                 torch.zeros(1).to(dev)\n",
    "              )\n",
    "\n",
    "        temp_loss2 = torch.where((Agent_number_n-Alpha)*S_tensor < sum_h,\n",
    "                    torch.square((sum_h-(Agent_number_n-Alpha)*S_tensor))/10000,\n",
    "                    torch.zeros(1).to(dev)\n",
    "                  )\n",
    "\n",
    "\n",
    "        loss1 = temp_loss1 * pdf(tensor_sample, Prior_Distribution)\n",
    "        loss2 = temp_loss2 * pdf(tensor_sample, Prior_Distribution)\n",
    "                \n",
    "        return loss1, loss2\n",
    "    \n",
    "    def supervised_loss(self, input_list,label):\n",
    "        global iteration,echo,target_order\n",
    "        input_list = torch.from_numpy(\n",
    "            np.array(input_list)).to(dev).type(torch.float32)\n",
    "        loss = 0 \n",
    "        for i in range(Agent_number_n):\n",
    "            h = self.calculate(input_list[i])\n",
    "            loss += torch.square(h - label[i])\n",
    "        return loss"
   ]
  },
  {
   "cell_type": "code",
   "execution_count": 12,
   "metadata": {
    "ExecuteTime": {
     "end_time": "2021-06-22T03:59:25.173126Z",
     "start_time": "2021-06-22T03:59:25.159164Z"
    }
   },
   "outputs": [],
   "source": [
    "random.seed(200)\n",
    "torch.manual_seed(256)\n",
    "net  = Net()\n",
    "net.apply(weight_init)\n",
    "#net = torch.load(\"save/Deep_learning_F_normal_10_1\")\n",
    "net.to(dev)\n",
    "\n",
    "#optimizer = opt.RMSprop(net.parameters(), lr=0.00001)\n",
    "#optimizer = opt.SGD(net.parameters(), lr=0.00005)\n",
    "optimizer = opt.Adam(net.parameters(), lr=LR)\n",
    "#optimizer = opt.Adadelta(net.parameters(), lr=1.0)\n",
    "\n",
    "scheduler = torch.optim.lr_scheduler.StepLR(optimizer, step_size=100, gamma=0.98)\n",
    "index_train_list = []\n",
    "index_test_list = []\n",
    "train_losses = []\n",
    "test_losses = []"
   ]
  },
  {
   "cell_type": "code",
   "execution_count": 13,
   "metadata": {
    "ExecuteTime": {
     "end_time": "2021-06-22T04:34:43.062372Z",
     "start_time": "2021-06-22T03:59:25.175121Z"
    }
   },
   "outputs": [
    {
     "name": "stdout",
     "output_type": "stream",
     "text": [
      "0 tensor(102.8044, device='cuda:0', grad_fn=<DivBackward0>) 6579.48046875\n",
      "50 tensor(2.4573, device='cuda:0', grad_fn=<DivBackward0>) 157.2666015625\n",
      "100 tensor(0.0500, device='cuda:0', grad_fn=<DivBackward0>) 3.197050094604492\n",
      "150 tensor(0.0068, device='cuda:0', grad_fn=<DivBackward0>) 0.43298250436782837\n",
      "200 tensor(0.0030, device='cuda:0', grad_fn=<DivBackward0>) 0.1893061250448227\n",
      "250 tensor(8.0528e-05, device='cuda:0', grad_fn=<DivBackward0>) 0.00515380734577775\n",
      "300 tensor(0.0001, device='cuda:0', grad_fn=<DivBackward0>) 0.006991295143961906\n",
      "350 tensor(1.8953e-05, device='cuda:0', grad_fn=<DivBackward0>) 0.0012129945680499077\n",
      "400 tensor(1.5139e-05, device='cuda:0', grad_fn=<DivBackward0>) 0.000968885375186801\n",
      "450 tensor(4.6189e-05, device='cuda:0', grad_fn=<DivBackward0>) 0.002956087002530694\n",
      "500 tensor(1.2826e-05, device='cuda:0', grad_fn=<DivBackward0>) 0.0008208745857700706\n",
      "550 tensor(3.1868e-05, device='cuda:0', grad_fn=<DivBackward0>) 0.0020395226310938597\n",
      "600 tensor(8.7825e-05, device='cuda:0', grad_fn=<DivBackward0>) 0.005620804149657488\n",
      "650 tensor(1.6650e-05, device='cuda:0', grad_fn=<DivBackward0>) 0.0010656251106411219\n",
      "700 tensor(1.3199e-05, device='cuda:0', grad_fn=<DivBackward0>) 0.0008447098080068827\n",
      "750 tensor(2.7052e-05, device='cuda:0', grad_fn=<DivBackward0>) 0.0017313510179519653\n",
      "800 tensor(1.8929e-05, device='cuda:0', grad_fn=<DivBackward0>) 0.0012114574201405048\n",
      "850 tensor(1.9210e-05, device='cuda:0', grad_fn=<DivBackward0>) 0.0012294418411329389\n",
      "900 tensor(2.0184e-05, device='cuda:0', grad_fn=<DivBackward0>) 0.0012917490676045418\n",
      "950 tensor(7.7549e-05, device='cuda:0', grad_fn=<DivBackward0>) 0.004963157698512077\n"
     ]
    }
   ],
   "source": [
    "#supervised\n",
    "index_supervisedtrain_list = []\n",
    "supervisedtrain_losses = []\n",
    "for iteration in range(1000):\n",
    "\n",
    "    temp_number = 0\n",
    "    total_batch_loss = 0 \n",
    "    \n",
    "    loss_sum = 0\n",
    "    denominator = 0\n",
    "    for index in range(0, BATCH_SIZE):\n",
    "        training_data_i, training_S, training_data,label = appen_train(\n",
    "            Generate_distribution(Agent_number_n))\n",
    "        h_loss = net.supervised_loss(training_data_i, label)\n",
    "        denominator += 1\n",
    "        loss_sum += h_loss\n",
    "\n",
    "    loss_sum = torch.sum(loss_sum)\n",
    "    loss = (loss_sum) / denominator \n",
    "    total_batch_loss += float(loss_sum)\n",
    "\n",
    "    optimizer.zero_grad()\n",
    "    loss.backward()\n",
    "    optimizer.step()\n",
    "\n",
    "    if (iteration%50 == 0):\n",
    "        print(iteration,loss,total_batch_loss)\n",
    "        index_supervisedtrain_list.append(iteration)\n",
    "        supervisedtrain_losses.append(total_batch_loss)\n",
    "    scheduler.step()"
   ]
  },
  {
   "cell_type": "code",
   "execution_count": 14,
   "metadata": {
    "ExecuteTime": {
     "end_time": "2021-06-22T04:34:43.331651Z",
     "start_time": "2021-06-22T04:34:43.065364Z"
    }
   },
   "outputs": [
    {
     "data": {
      "image/png": "[encoded data removed]",
      "text/plain": [
       "<Figure size 432x288 with 1 Axes>"
      ]
     },
     "metadata": {
      "needs_background": "light"
     },
     "output_type": "display_data"
    }
   ],
   "source": [
    "plt.ylim(0, 0.1)\n",
    "plt.plot(index_supervisedtrain_list ,supervisedtrain_losses)\n",
    "plt.ylabel('supervised train loss')\n",
    "\n",
    "plt.show()"
   ]
  },
  {
   "cell_type": "code",
   "execution_count": 15,
   "metadata": {
    "ExecuteTime": {
     "end_time": "2021-06-22T04:34:43.361571Z",
     "start_time": "2021-06-22T04:34:43.333646Z"
    }
   },
   "outputs": [],
   "source": [
    "optimizer = opt.Adam(net.parameters(), lr=LR/100)\n",
    "#optimizer = opt.Adadelta(net.parameters(), lr=1.0)\n",
    "\n",
    "scheduler = torch.optim.lr_scheduler.StepLR(optimizer, step_size=100, gamma=0.98)"
   ]
  },
  {
   "cell_type": "code",
   "execution_count": 16,
   "metadata": {
    "ExecuteTime": {
     "end_time": "2021-06-22T06:57:27.870014Z",
     "start_time": "2021-06-22T04:34:43.363566Z"
    }
   },
   "outputs": [
    {
     "name": "stdout",
     "output_type": "stream",
     "text": [
      "0 tensor(0.0002, device='cuda:0', grad_fn=<DivBackward0>) 0.013324292376637459 1.1911333075431685e-07\n",
      "batch iteration 0\n",
      "batch_loss: 0.0133 \n",
      "7.13482633142366 6.989619116180728 0.145207215242932 0.03573961807249937\n",
      "\n",
      "50 tensor(3.5861e-05, device='cuda:0', grad_fn=<DivBackward0>) 0.0 0.0022951290011405945\n",
      "batch iteration 50\n",
      "batch_loss: 0.0023 \n",
      "7.191937780895463 7.0480109047700505 0.14392687612541266 0.02879674092676865\n",
      "\n",
      "100 tensor(1.8917e-05, device='cuda:0', grad_fn=<DivBackward0>) 0.0 0.0012106720823794603\n",
      "batch iteration 100\n",
      "batch_loss: 0.0012 \n",
      "7.155331666165176 7.022067666118169 0.13326400004700645 0.0269536164480364\n",
      "\n",
      "150 tensor(6.2306e-06, device='cuda:0', grad_fn=<DivBackward0>) 0.0 0.0003987566742580384\n",
      "batch iteration 150\n",
      "batch_loss: 0.0004 \n",
      "7.126955577079955 7.001726986637814 0.1252285904421413 0.0257131112684732\n",
      "\n",
      "200 tensor(1.1437e-06, device='cuda:0', grad_fn=<DivBackward0>) 0.0 7.319822179852054e-05\n",
      "batch iteration 200\n",
      "batch_loss: 0.0001 \n",
      "7.109027134572326 6.988708570136565 0.1203185644357605 0.03636826091228773\n",
      "\n",
      "250 tensor(2.4763e-07, device='cuda:0', grad_fn=<DivBackward0>) 0.0 1.5848128896323033e-05\n",
      "batch iteration 250\n",
      "batch_loss: 0.0000 \n",
      "7.097863111541114 6.981600237101718 0.11626287443939631 0.04311809330908467\n",
      "\n",
      "300 tensor(3.7191e-05, device='cuda:0', grad_fn=<DivBackward0>) 0.0 0.0023801936767995358\n",
      "batch iteration 300\n",
      "batch_loss: 0.0024 \n",
      "7.185205389480794 7.070708710602334 0.11449667887846005 0.026860480573585477\n",
      "\n",
      "350 tensor(1.5108e-05, device='cuda:0', grad_fn=<DivBackward0>) 0.0 0.0009669114369899035\n",
      "batch iteration 350\n",
      "batch_loss: 0.0010 \n",
      "7.115559260344849 7.024958878251166 0.09060038209368315 0.021694443745110092\n",
      "\n",
      "400 tensor(1.6112e-06, device='cuda:0', grad_fn=<DivBackward0>) 0.0 0.00010311546066077426\n",
      "batch iteration 400\n",
      "batch_loss: 0.0001 \n",
      "7.074710742594732 6.989351574943257 0.08535916765147533 0.03595695446805891\n",
      "\n",
      "450 tensor(1.4842e-06, device='cuda:0', grad_fn=<DivBackward0>) 6.757659028743554e-16 9.498593135504052e-05\n",
      "batch iteration 450\n",
      "batch_loss: 0.0001 \n",
      "7.073934487590885 6.988112292566658 0.08582219502422728 0.03346674151883988\n",
      "\n",
      "500 tensor(1.6238e-06, device='cuda:0', grad_fn=<DivBackward0>) 8.492136839777231e-05 1.9001357941306196e-05\n",
      "batch iteration 500\n",
      "batch_loss: 0.0001 \n",
      "7.073157665262273 6.988115545276307 0.08504211998596567 0.031855272573857896\n",
      "\n",
      "550 tensor(9.7942e-07, device='cuda:0', grad_fn=<DivBackward0>) 0.0 6.268290599109605e-05\n",
      "batch iteration 550\n",
      "batch_loss: 0.0001 \n",
      "7.083582206249423 6.99572828081071 0.08785392543871229 0.024316446208412223\n",
      "\n",
      "600 tensor(9.7827e-07, device='cuda:0', grad_fn=<DivBackward0>) 0.0 6.26090113655664e-05\n",
      "batch iteration 600\n",
      "batch_loss: 0.0001 \n",
      "7.0765928682910575 6.989490516333582 0.0871023519574754 0.030438964617804487\n",
      "\n",
      "650 tensor(7.5287e-07, device='cuda:0', grad_fn=<DivBackward0>) 0.0 4.8183857870753855e-05\n",
      "batch iteration 650\n",
      "batch_loss: 0.0000 \n",
      "7.081345089974964 6.991882379425831 0.08946271054913346 0.029025072878485325\n",
      "\n",
      "700 tensor(1.5564e-06, device='cuda:0', grad_fn=<DivBackward0>) 0.0 9.961162868421525e-05\n",
      "batch iteration 700\n",
      "batch_loss: 0.0001 \n",
      "7.0826439026626185 6.993054425263669 0.08958947739894985 0.02824870043647465\n",
      "\n",
      "750 tensor(6.5768e-07, device='cuda:0', grad_fn=<DivBackward0>) 0.0 4.2091331124538556e-05\n",
      "batch iteration 750\n",
      "batch_loss: 0.0000 \n",
      "7.0809535327369595 6.992345782323307 0.08860775041365265 0.028273003062357915\n",
      "\n",
      "800 tensor(7.0041e-07, device='cuda:0', grad_fn=<DivBackward0>) 0.0 4.482641816139221e-05\n",
      "batch iteration 800\n",
      "batch_loss: 0.0000 \n",
      "7.077809161012852 6.988391504996188 0.08941765601666418 0.032337254136556304\n",
      "\n",
      "850 tensor(3.8143e-07, device='cuda:0', grad_fn=<DivBackward0>) 0.0 2.4411319827777334e-05\n",
      "batch iteration 850\n",
      "batch_loss: 0.0000 \n",
      "7.075986810716796 6.985274403267524 0.09071240744927245 0.035601628658946005\n",
      "\n",
      "900 tensor(1.8899e-07, device='cuda:0', grad_fn=<DivBackward0>) 0.0 1.209550737257814e-05\n",
      "batch iteration 900\n",
      "batch_loss: 0.0000 \n",
      "7.077661914448771 6.985103003993715 0.09255891045505571 0.03642520432458962\n",
      "\n",
      "950 tensor(2.2070e-07, device='cuda:0', grad_fn=<DivBackward0>) 1.5358631355825263e-17 1.4124867448117584e-05\n",
      "batch iteration 950\n",
      "batch_loss: 0.0000 \n",
      "7.07627351602318 6.982972976640405 0.09330053938277505 0.038811819661083824\n",
      "\n",
      "1000 tensor(2.3134e-06, device='cuda:0', grad_fn=<DivBackward0>) 0.0 0.0001480579376220703\n",
      "batch iteration 1000\n",
      "batch_loss: 0.0001 \n",
      "7.091159498964539 6.993261165979274 0.09789833298526496 0.03016032810896352\n",
      "\n"
     ]
    }
   ],
   "source": [
    "for iteration in range(int(echo)):\n",
    "    \n",
    "    temp_number = 0\n",
    "    total_batch_loss = 0 \n",
    "        \n",
    "    loss2_list = []\n",
    "    loss1_sum = 0\n",
    "    loss2_sum = 0\n",
    "    denominator = 0\n",
    "    for index in range(0, BATCH_SIZE):\n",
    "        training_data_i, training_label, training_data,label = appen_train(\n",
    "            Generate_distribution(Agent_number_n))\n",
    "        h_loss1, h_loss2 = net(training_data_i, training_label,\n",
    "                                       training_data)\n",
    "        denominator += 1\n",
    "        loss1_sum += h_loss1\n",
    "        loss2_sum += h_loss2\n",
    "\n",
    "    loss_sum = torch.sum(loss1_sum + loss2_sum)\n",
    "    loss = (loss_sum) / denominator \n",
    "    total_batch_loss +=float(loss_sum)\n",
    "    optimizer.zero_grad()\n",
    "\n",
    "    loss.backward()\n",
    "\n",
    "    optimizer.step()\n",
    "\n",
    "    temp_number = iteration\n",
    "    index_train_list.append(iteration)\n",
    "    train_losses.append(total_batch_loss)\n",
    "    if (iteration%50 == 0):\n",
    "        print(temp_number, loss, float(loss1_sum), float(loss2_sum))\n",
    "\n",
    "        print(\"batch iteration\", iteration)\n",
    "        print(\"batch_loss: %.4f \" % total_batch_loss)\n",
    "\n",
    "        result_list = []\n",
    "        for index in range(len(testing_data)):\n",
    "            h_list = []\n",
    "            for i in range(Agent_number_n):\n",
    "                h = net.calculate(\n",
    "                    torch.tensor(testing_data[index][i]).to(dev).type(\n",
    "                        torch.float32))\n",
    "                h_list.append(float(h))\n",
    "            result_list.append(sum(h_list) / testing_label[index])\n",
    "        print(max(result_list), min(result_list),\n",
    "              max(result_list) - min(result_list),\n",
    "              (sum(result_list) / len(result_list) - min(result_list))+ Agent_number_n-1 - min(min(result_list),Agent_number_n-1) )\n",
    "\n",
    "        index_test_list.append(iteration)\n",
    "        test_losses.append(\n",
    "            (sum(result_list) / len(result_list) - min(result_list))+ Agent_number_n-1 - min(min(result_list),Agent_number_n-1) )\n",
    "        print()\n",
    "        \n",
    "    scheduler.step()\n"
   ]
  },
  {
   "cell_type": "code",
   "execution_count": 17,
   "metadata": {
    "ExecuteTime": {
     "end_time": "2021-06-22T06:57:28.749908Z",
     "start_time": "2021-06-22T06:57:27.872009Z"
    }
   },
   "outputs": [
    {
     "data": {
      "image/png": "[encoded data removed]",
      "text/plain": [
       "<Figure size 432x288 with 1 Axes>"
      ]
     },
     "metadata": {
      "needs_background": "light"
     },
     "output_type": "display_data"
    },
    {
     "ename": "FileNotFoundError",
     "evalue": "[Errno 2] No such file or directory: 'save/test_loss_unfeed_normal_10.csv'",
     "output_type": "error",
     "traceback": [
      "\u001b[1;31m---------------------------------------------------------------------------\u001b[0m",
      "\u001b[1;31mFileNotFoundError\u001b[0m                         Traceback (most recent call last)",
      "\u001b[1;32m<ipython-input-17-993feb05b73c>\u001b[0m in \u001b[0;36m<module>\u001b[1;34m\u001b[0m\n\u001b[0;32m     12\u001b[0m \u001b[1;33m\u001b[0m\u001b[0m\n\u001b[0;32m     13\u001b[0m \u001b[1;33m\u001b[0m\u001b[0m\n\u001b[1;32m---> 14\u001b[1;33m \u001b[1;32mwith\u001b[0m \u001b[0mopen\u001b[0m\u001b[1;33m(\u001b[0m\u001b[1;34m'save/test_loss_unfeed_normal_10.csv'\u001b[0m\u001b[1;33m)\u001b[0m \u001b[1;32mas\u001b[0m \u001b[0mcsvfile_unfeed\u001b[0m\u001b[1;33m:\u001b[0m\u001b[1;33m\u001b[0m\u001b[1;33m\u001b[0m\u001b[0m\n\u001b[0m\u001b[0;32m     15\u001b[0m     \u001b[0mreader\u001b[0m \u001b[1;33m=\u001b[0m \u001b[0mcsv\u001b[0m\u001b[1;33m.\u001b[0m\u001b[0mreader\u001b[0m\u001b[1;33m(\u001b[0m\u001b[0mcsvfile_unfeed\u001b[0m\u001b[1;33m)\u001b[0m\u001b[1;33m\u001b[0m\u001b[1;33m\u001b[0m\u001b[0m\n\u001b[0;32m     16\u001b[0m     \u001b[0mlist_feed\u001b[0m \u001b[1;33m=\u001b[0m \u001b[1;33m[\u001b[0m\u001b[1;33m]\u001b[0m\u001b[1;33m\u001b[0m\u001b[1;33m\u001b[0m\u001b[0m\n",
      "\u001b[1;31mFileNotFoundError\u001b[0m: [Errno 2] No such file or directory: 'save/test_loss_unfeed_normal_10.csv'"
     ]
    }
   ],
   "source": [
    "plt.ylim(0, 1.0)\n",
    "plt.plot(index_test_list,test_losses)\n",
    "plt.ylabel('Testing Loss')\n",
    "plt.xlabel('Batch Epoch')\n",
    "plt.show()\n",
    "\n",
    "import csv\n",
    "with open('save/test_loss_feed_normal_10.csv', 'w', newline='') as csvfile_feed:\n",
    "    spamwriter = csv.writer(csvfile_feed)\n",
    "    spamwriter.writerow(index_test_list)\n",
    "    spamwriter.writerow(test_losses)\n",
    "\n",
    "\n",
    "with open('save/test_loss_unfeed_normal_10.csv') as csvfile_unfeed:\n",
    "    reader = csv.reader(csvfile_unfeed)\n",
    "    list_feed = []\n",
    "    for row in reader:\n",
    "        row = np.array(row)\n",
    "        temp_list = []\n",
    "        for i in range(len(row)):\n",
    "            temp_list.append(float(row[i]))\n",
    "\n",
    "        list_feed.append(temp_list)\n",
    "    plt.ylim(0, 1.0)\n",
    "    plt.plot(list_feed[0],list_feed[1],label='neural network')\n",
    "    plt.plot(index_test_list,test_losses,label='feed distribution')\n",
    "    plt.ylabel('Testing Loss')\n",
    "    plt.xlabel('Batch Epoch')\n",
    "    #plt.title('Two or more lines on same plot with suitable legends ')\n",
    "    # show a legend on the plot\n",
    "    plt.legend()\n",
    "    plt.show()\n"
   ]
  },
  {
   "cell_type": "code",
   "execution_count": 18,
   "metadata": {
    "ExecuteTime": {
     "end_time": "2021-06-22T07:45:46.983755Z",
     "start_time": "2021-06-22T07:45:46.813356Z"
    }
   },
   "outputs": [
    {
     "data": {
      "image/png": "[encoded data removed]",
      "text/plain": [
       "<Figure size 432x288 with 1 Axes>"
      ]
     },
     "metadata": {
      "needs_background": "light"
     },
     "output_type": "display_data"
    }
   ],
   "source": [
    "plt.ylim(0, 1.0)\n",
    "\n",
    "plt.plot(index_train_list,train_losses)\n",
    "plt.ylabel('training loss')\n",
    "\n",
    "plt.plot(index_test_list,test_losses)\n",
    "plt.ylabel('training loss')\n",
    "\n",
    "plt.show()"
   ]
  },
  {
   "cell_type": "code",
   "execution_count": 19,
   "metadata": {
    "ExecuteTime": {
     "end_time": "2021-06-22T07:45:47.234121Z",
     "start_time": "2021-06-22T07:45:47.109926Z"
    }
   },
   "outputs": [],
   "source": [
    "torch.save(net, \"save/Deep_learning_F_normal_8_1\")"
   ]
  },
  {
   "cell_type": "code",
   "execution_count": 21,
   "metadata": {
    "ExecuteTime": {
     "end_time": "2021-06-22T08:02:29.297426Z",
     "start_time": "2021-06-22T08:01:13.991611Z"
    }
   },
   "outputs": [
    {
     "name": "stdout",
     "output_type": "stream",
     "text": [
      "7.091159498964539 6.993261165979274 0.09789833298526496 0.023421494088237793\n"
     ]
    }
   ],
   "source": [
    "denominator = 0\n",
    "result_list = []\n",
    "for index in range(len(testing_data)):\n",
    "    h_list = []\n",
    "    for i in range(Agent_number_n):\n",
    "        h = net.calculate(torch.tensor(testing_data[index][i]).cuda().type(torch.float32))\n",
    "        h_list.append(float(h))\n",
    "    \n",
    "    #print(sum(h_list),h_list,sum(h_list)/testing_label[index])\n",
    "    result_list.append(sum(h_list)/testing_label[index])\n",
    "    \n",
    "\n",
    "print(max(result_list),min(result_list),max(result_list)-min(result_list),sum(result_list)/len(result_list)-min(result_list))"
   ]
  },
  {
   "cell_type": "code",
   "execution_count": 22,
   "metadata": {
    "ExecuteTime": {
     "end_time": "2021-06-22T08:02:31.083180Z",
     "start_time": "2021-06-22T08:02:30.245535Z"
    }
   },
   "outputs": [
    {
     "data": {
      "image/png": "[encoded data removed]",
      "text/plain": [
       "<Figure size 432x288 with 1 Axes>"
      ]
     },
     "metadata": {
      "needs_background": "light"
     },
     "output_type": "display_data"
    }
   ],
   "source": [
    "plt.hist(result_list,bins=500)\n",
    "\n",
    "plt.title(\"Means\", y=1.015, fontsize=20)\n",
    "plt.axvline(x=sum(result_list)/len(result_list), linestyle='--', linewidth=2.5, label=\"sample mean\", c='orange')\n",
    "plt.xlabel(\"samples\", labelpad=14)\n",
    "plt.ylabel(\"frequency of occurence\", labelpad=14)\n",
    "plt.legend();\n",
    "\n",
    "result_list.sort()\n",
    "\n",
    "plt.axvline(x=result_list[int(len(result_list)*0.01)], linestyle='--', linewidth=0.5, label=\"1%\", c='b')\n",
    "plt.axvline(x=result_list[int(len(result_list)*0.99)], linestyle='--', linewidth=0.5, label=\"99%\", c='r')\n",
    "\n",
    "\n",
    "plt.show()"
   ]
  },
  {
   "cell_type": "code",
   "execution_count": null,
   "metadata": {},
   "outputs": [],
   "source": []
  },
  {
   "cell_type": "code",
   "execution_count": null,
   "metadata": {},
   "outputs": [],
   "source": []
  },
  {
   "cell_type": "code",
   "execution_count": null,
   "metadata": {},
   "outputs": [],
   "source": []
  }
 ],
 "metadata": {
  "hide_input": false,
  "kernelspec": {
   "display_name": "Python 3",
   "language": "python",
   "name": "python3"
  },
  "language_info": {
   "codemirror_mode": {
    "name": "ipython",
    "version": 3
   },
   "file_extension": ".py",
   "mimetype": "text/x-python",
   "name": "python",
   "nbconvert_exporter": "python",
   "pygments_lexer": "ipython3",
   "version": "3.8.3"
  },
  "varInspector": {
   "cols": {
    "lenName": 16,
    "lenType": 16,
    "lenVar": 40
   },
   "kernels_config": {
    "python": {
     "delete_cmd_postfix": "",
     "delete_cmd_prefix": "del ",
     "library": "var_list.py",
     "varRefreshCmd": "print(var_dic_list())"
    },
    "r": {
     "delete_cmd_postfix": ") ",
     "delete_cmd_prefix": "rm(",
     "library": "var_list.r",
     "varRefreshCmd": "cat(var_dic_list()) "
    }
   },
   "types_to_exclude": [
    "module",
    "function",
    "builtin_function_or_method",
    "instance",
    "_Feature"
   ],
   "window_display": false
  }
 },
 "nbformat": 4,
 "nbformat_minor": 4
}
