{
 "cells": [
  {
   "cell_type": "code",
   "execution_count": 1,
   "metadata": {
    "ExecuteTime": {
     "end_time": "2021-06-17T10:45:40.261923Z",
     "start_time": "2021-06-17T10:45:32.977960Z"
    }
   },
   "outputs": [
    {
     "name": "stdout",
     "output_type": "stream",
     "text": [
      "pygame 2.0.1 (SDL 2.0.14, Python 3.8.3)\n",
      "Hello from the pygame community. https://www.pygame.org/contribute.html\n"
     ]
    },
    {
     "name": "stderr",
     "output_type": "stream",
     "text": [
      "D:\\ComputerSoftwares\\Anaconda\\lib\\site-packages\\sklearn\\utils\\deprecation.py:143: FutureWarning: The sklearn.datasets.samples_generator module is  deprecated in version 0.22 and will be removed in version 0.24. The corresponding classes / functions should instead be imported from sklearn.datasets. Anything that cannot be imported from sklearn.datasets is now part of the private API.\n",
      "  warnings.warn(message, FutureWarning)\n"
     ]
    },
    {
     "name": "stdout",
     "output_type": "stream",
     "text": [
      "cuda:0\n"
     ]
    }
   ],
   "source": [
    "\n",
    "import pygame\n",
    "import random\n",
    "import os\n",
    "import time\n",
    "import numpy as np\n",
    "import math\n",
    "import torch\n",
    "import torch.nn.functional\n",
    "import matplotlib.pyplot as plt\n",
    "import torch.optim as opt\n",
    "from torch.autograd import Variable\n",
    "from sklearn.model_selection import train_test_split\n",
    "\n",
    "import scipy.stats as st\n",
    "from sklearn.datasets.samples_generator import make_blobs\n",
    "from matplotlib.colors import LogNorm \n",
    "import matplotlib.cm as cm\n",
    "import torch.nn as nn\n",
    "import numpy as np\n",
    "import matplotlib.pyplot as plt\n",
    "import plotly.graph_objects as go\n",
    "import plotly.express as px\n",
    "from scipy.interpolate import griddata\n",
    "import torch.nn.functional as F\n",
    "import torch.distributions as D\n",
    "if torch.cuda.is_available():  \n",
    "    dev = \"cuda:0\" \n",
    "else:  \n",
    "    dev = \"cpu\"  \n",
    "\n",
    "print(dev)\n",
    "\n"
   ]
  },
  {
   "cell_type": "code",
   "execution_count": 2,
   "metadata": {
    "ExecuteTime": {
     "end_time": "2021-06-17T10:45:40.277393Z",
     "start_time": "2021-06-17T10:45:40.263919Z"
    },
    "run_control": {
     "marked": true
    }
   },
   "outputs": [],
   "source": [
    "global temp_list\n",
    "temp_list = []\n",
    "Agent_number_n=8;\n",
    "Alpha = 1.0;\n",
    "\n",
    "echo = 1001\n",
    "BATCH_SIZE = 64\n",
    "LR = 0.001           # learning rate for generator\n",
    "devided_number = 1\n",
    "\n",
    "def Generate_distribution(Agent_number_n):\n",
    "    return sorted(np.random.rand(Agent_number_n), reverse=True)\n",
    "    #return sorted(np.random.normal(normalloc,normalscale,Agent_number_n), reverse=True)\n",
    "Prior_Distribution = \"uniform\""
   ]
  },
  {
   "cell_type": "code",
   "execution_count": 3,
   "metadata": {
    "ExecuteTime": {
     "end_time": "2021-06-17T10:45:40.292862Z",
     "start_time": "2021-06-17T10:45:40.278898Z"
    }
   },
   "outputs": [],
   "source": [
    "new_input = 3\n",
    "def Dimensionality_reduction(data_sorted):\n",
    "    out_data = torch.ones(new_input).cuda()\n",
    "    out_data[0] = torch.max(data_sorted) \n",
    "    out_data[1] = torch.sum(data_sorted) \n",
    "    \n",
    "    temp_list = []\n",
    "    for i in range(len(data_sorted)-1):\n",
    "        temp_list.append(data_sorted[i] - data_sorted[i + 1])\n",
    "    \n",
    "    temp_tensor = torch.stack(temp_list)    \n",
    "    out_data[2] = torch.max(temp_tensor) \n",
    "    return out_data\n"
   ]
  },
  {
   "cell_type": "code",
   "execution_count": 4,
   "metadata": {
    "ExecuteTime": {
     "end_time": "2021-06-17T10:45:40.324776Z",
     "start_time": "2021-06-17T10:45:40.294856Z"
    },
    "run_control": {
     "marked": true
    }
   },
   "outputs": [],
   "source": [
    "uniformlow = 0\n",
    "uniformhigh = 1.0\n",
    "\n",
    "normalloc = 0.2\n",
    "normalscale = 0.1\n",
    "\n",
    "doublePeakHighMean = 0.9\n",
    "doublePeakLowMean = 0.1\n",
    "doublePeakStd = 0.04\n",
    "\n",
    "beta_a = 0.3\n",
    "beta_b = 0.2\n",
    "\n",
    "d_1 = D.uniform.Uniform(uniformlow, uniformhigh)\n",
    "distributionRatio_1 = d_1.cdf(1) - d_1.cdf(0)\n",
    "distributionBase_1 = d_1.cdf(0)\n",
    "\n",
    "d_2 = D.normal.Normal(normalloc, normalscale)\n",
    "distributionRatio_2 = d_2.cdf(1) - d_2.cdf(0)\n",
    "distributionBase_2 = d_2.cdf(0)\n",
    "\n",
    "d_3 = D.normal.Normal(doublePeakLowMean, doublePeakStd)\n",
    "d_4 = D.normal.Normal(doublePeakHighMean, doublePeakStd)\n",
    "distributionRatio_3 = (d_3.cdf(1) + d_4.cdf(1) - d_3.cdf(0) - d_4.cdf(0)) / 2\n",
    "distributionBase_3 = d_3.cdf(0) + d_4.cdf(0)\n",
    "\n",
    "# d_5 = D.beta.Beta(beta_a,beta_b)\n",
    "\n",
    "# d10 = D.beta.Beta(0.5,0.5)\n",
    "\n",
    "\n",
    "def cdf(x, y, i=None):\n",
    "    if (y == \"uniform\"):\n",
    "        return (d_1.cdf(x) - distributionBase_1) / distributionRatio_1\n",
    "    elif (y == \"normal\"):\n",
    "        return (d_2.cdf(x) - distributionBase_2) / distributionRatio_2\n",
    "    elif (y == \"twopeak\"):\n",
    "        return (d_3.cdf(x) + d_4.cdf(x) -\n",
    "                distributionBase_3) / 2 / distributionRatio_3\n",
    "\n",
    "\n",
    "def pdf(x, y, i=None):\n",
    "    x= x.cpu().type(torch.float32)\n",
    "    if (y == \"uniform\"):\n",
    "        return torch.pow(torch.tensor(10.0), d_1.log_prob(x)).to(dev)\n",
    "    elif (y == \"normal\"):\n",
    "        return torch.pow(torch.tensor(10.0), d_2.log_prob(x)).to(dev)\n",
    "    elif (y == \"twopeak\"):\n",
    "        return (torch.pow(torch.tensor(10.0), d_3.log_prob(x)) +\n",
    "                torch.pow(torch.tensor(10.0), d_4.log_prob(x))).to(dev) / 2 \n",
    "    \n",
    "def Generate_distribution(Agent_number_n):\n",
    "    return np.random.rand(Agent_number_n)\n",
    "    #return np.random.normal(normalloc,normalscale,Agent_number_n)\n"
   ]
  },
  {
   "cell_type": "code",
   "execution_count": 5,
   "metadata": {
    "ExecuteTime": {
     "end_time": "2021-06-17T10:45:42.189468Z",
     "start_time": "2021-06-17T10:45:40.326771Z"
    },
    "run_control": {
     "marked": false
    }
   },
   "outputs": [
    {
     "name": "stdout",
     "output_type": "stream",
     "text": [
      "tensor(10., device='cuda:0')\n",
      "tensor([1.], device='cuda:0')\n",
      "tensor([24.1906], device='cuda:0')\n"
     ]
    }
   ],
   "source": [
    "print(torch.tensor(10.0).to(dev))\n",
    "print(pdf(torch.ones(1)*0.2,\"uniform\"))\n",
    "print(pdf(torch.ones(1)*0.2,\"normal\"))\n"
   ]
  },
  {
   "cell_type": "code",
   "execution_count": 6,
   "metadata": {
    "ExecuteTime": {
     "end_time": "2021-06-17T10:45:43.345960Z",
     "start_time": "2021-06-17T10:45:42.191463Z"
    }
   },
   "outputs": [
    {
     "name": "stdout",
     "output_type": "stream",
     "text": [
      "[[[0.89331525 0.79160897 0.31310735 ... 0.09022633 0.00347222 0.88655752]\n",
      "  [0.68881407 0.79160897 0.31310735 ... 0.09022633 0.00347222 0.88655752]\n",
      "  [0.68881407 0.89331525 0.31310735 ... 0.09022633 0.00347222 0.88655752]\n",
      "  ...\n",
      "  [0.68881407 0.89331525 0.79160897 ... 0.42663719 0.00347222 0.88655752]\n",
      "  [0.68881407 0.89331525 0.79160897 ... 0.42663719 0.09022633 0.88655752]\n",
      "  [0.68881407 0.89331525 0.79160897 ... 0.42663719 0.09022633 0.00347222]]\n",
      "\n",
      " [[0.44989084 0.14256888 0.47269048 ... 0.31599771 0.06032437 0.92638402]\n",
      "  [0.4805821  0.14256888 0.47269048 ... 0.31599771 0.06032437 0.92638402]\n",
      "  [0.4805821  0.44989084 0.47269048 ... 0.31599771 0.06032437 0.92638402]\n",
      "  ...\n",
      "  [0.4805821  0.44989084 0.14256888 ... 0.62442265 0.06032437 0.92638402]\n",
      "  [0.4805821  0.44989084 0.14256888 ... 0.62442265 0.31599771 0.92638402]\n",
      "  [0.4805821  0.44989084 0.14256888 ... 0.62442265 0.31599771 0.06032437]]\n",
      "\n",
      " [[0.65178906 0.19873603 0.50610899 ... 0.80726474 0.93903532 0.22481831]\n",
      "  [0.01789072 0.19873603 0.50610899 ... 0.80726474 0.93903532 0.22481831]\n",
      "  [0.01789072 0.65178906 0.50610899 ... 0.80726474 0.93903532 0.22481831]\n",
      "  ...\n",
      "  [0.01789072 0.65178906 0.19873603 ... 0.9688927  0.93903532 0.22481831]\n",
      "  [0.01789072 0.65178906 0.19873603 ... 0.9688927  0.80726474 0.22481831]\n",
      "  [0.01789072 0.65178906 0.19873603 ... 0.9688927  0.80726474 0.93903532]]\n",
      "\n",
      " ...\n",
      "\n",
      " [[0.1895112  0.86065812 0.37107054 ... 0.11460744 0.38615165 0.32058837]\n",
      "  [0.27619687 0.86065812 0.37107054 ... 0.11460744 0.38615165 0.32058837]\n",
      "  [0.27619687 0.1895112  0.37107054 ... 0.11460744 0.38615165 0.32058837]\n",
      "  ...\n",
      "  [0.27619687 0.1895112  0.86065812 ... 0.15152115 0.38615165 0.32058837]\n",
      "  [0.27619687 0.1895112  0.86065812 ... 0.15152115 0.11460744 0.32058837]\n",
      "  [0.27619687 0.1895112  0.86065812 ... 0.15152115 0.11460744 0.38615165]]\n",
      "\n",
      " [[0.44296651 0.92943271 0.38031316 ... 0.58210159 0.47776617 0.62620595]\n",
      "  [0.16418564 0.92943271 0.38031316 ... 0.58210159 0.47776617 0.62620595]\n",
      "  [0.16418564 0.44296651 0.38031316 ... 0.58210159 0.47776617 0.62620595]\n",
      "  ...\n",
      "  [0.16418564 0.44296651 0.92943271 ... 0.83912556 0.47776617 0.62620595]\n",
      "  [0.16418564 0.44296651 0.92943271 ... 0.83912556 0.58210159 0.62620595]\n",
      "  [0.16418564 0.44296651 0.92943271 ... 0.83912556 0.58210159 0.47776617]]\n",
      "\n",
      " [[0.58637513 0.4598645  0.28226099 ... 0.21718325 0.54987019 0.12426355]\n",
      "  [0.06972435 0.4598645  0.28226099 ... 0.21718325 0.54987019 0.12426355]\n",
      "  [0.06972435 0.58637513 0.28226099 ... 0.21718325 0.54987019 0.12426355]\n",
      "  ...\n",
      "  [0.06972435 0.58637513 0.4598645  ... 0.08682384 0.54987019 0.12426355]\n",
      "  [0.06972435 0.58637513 0.4598645  ... 0.08682384 0.21718325 0.12426355]\n",
      "  [0.06972435 0.58637513 0.4598645  ... 0.08682384 0.21718325 0.54987019]]]\n",
      "[4.0937389  3.47286106 4.31453588 ... 2.67030536 4.44209728 2.3763658 ]\n"
     ]
    }
   ],
   "source": [
    "def h_3_star(a, b, t):\n",
    "    return a - min(a, t) + b - min(b, t) + max(min(a, t)+min(b, t), 2*t/3) + 1/2 * max(min(a, t)+min(b, t), t) - 1/2 * max(max(min(a, t), min(b, t)), 2*t/3) - t/6\n",
    "\n",
    "\n",
    "def f_function(a, b, z):\n",
    "    if(z >= 1):\n",
    "        return (a+b)/2 + z/3\n",
    "    else:\n",
    "        return z/3 + h_3_star(a, b, 1-z)/2\n",
    "\n",
    "def h_function_label(input_list):\n",
    "    #input_list = sorted(input_list)\n",
    "    g_list = []\n",
    "    for j1 in range(len(input_list) ):\n",
    "        for j2 in range(len(input_list)):\n",
    "            if(j1 != j2):\n",
    "                a = input_list[j1]\n",
    "                b = input_list[j2]\n",
    "                z = sum(input_list)- a-b\n",
    "\n",
    "                g_list.append( f_function(a, b, z) * (Agent_number_n-1))\n",
    "    h = sum(g_list) * 3 /  (Agent_number_n) /  (Agent_number_n-1) /  (Agent_number_n - 2)\n",
    "    return h\n",
    "\n",
    "def appen(_x_list,y):\n",
    "    global temp_list\n",
    "    temp_list.append(_x_list)\n",
    "    \n",
    "def appen_train(x_list):\n",
    "    global temp_list\n",
    "                \n",
    "    S= max(sum(x_list),1.0);\n",
    "    temp_list = []\n",
    "    h_list = []\n",
    "    for i in range(Agent_number_n):\n",
    "        temp = []\n",
    "        for j in range(Agent_number_n):\n",
    "            if(i!=j):\n",
    "                temp.append(x_list[j])\n",
    "        appen(temp,S)\n",
    "        \n",
    "        h = h_function_label(temp)\n",
    "        h_list.append(float(h))\n",
    "    temp_list = np.array(temp_list)\n",
    "    x_list = np.array(x_list)\n",
    "    return temp_list,S,x_list,h_list\n",
    "    \n",
    "\n",
    "def appen_test(x_list):\n",
    "    global temp_list\n",
    "                \n",
    "    S= max(sum(x_list),1.0);\n",
    "    temp_list = []\n",
    "    \n",
    "    for i in range(Agent_number_n):\n",
    "        temp = []\n",
    "        for j in range(Agent_number_n):\n",
    "            if(i!=j):\n",
    "                temp.append(x_list[j])\n",
    "        appen(temp,S)\n",
    "    testing_data.append(temp_list)\n",
    "    testing_label.append(S)\n",
    "    temp_list = np.array(temp_list)\n",
    "    return temp_list,S\n",
    "    \n",
    "\n",
    "def read_testing_data():\n",
    "    for i in range(10000):\n",
    "        appen_test(Generate_distribution(Agent_number_n));\n",
    "                            \n",
    "\n",
    "testing_data=[]\n",
    "testing_label=[]\n",
    "S=1.0\n",
    "read_testing_data();\n",
    "\n",
    "testing_data=np.array(testing_data)\n",
    "testing_label=np.array(testing_label)\n",
    "print(testing_data)\n",
    "print(testing_label)"
   ]
  },
  {
   "cell_type": "code",
   "execution_count": 7,
   "metadata": {
    "ExecuteTime": {
     "end_time": "2021-06-17T10:46:20.746618Z",
     "start_time": "2021-06-17T10:45:43.355932Z"
    }
   },
   "outputs": [
    {
     "name": "stdout",
     "output_type": "stream",
     "text": [
      "7.254359651227589 6.999999999999996 0.25435965122759363 7.001285874020574\n"
     ]
    }
   ],
   "source": [
    "def h_3_star(a, b, t):\n",
    "    return a - min(a, t) + b - min(b, t) + max(min(a, t)+min(b, t), 2*t/3) + 1/2 * max(min(a, t)+min(b, t), t) - 1/2 * max(max(min(a, t), min(b, t)), 2*t/3) - t/6\n",
    "\n",
    "\n",
    "def f_function(a, b, z):\n",
    "    if(z >= 1):\n",
    "        return (a+b)/2 + z/3\n",
    "    else:\n",
    "        return z/3 + h_3_star(a, b, 1-z)/2\n",
    "\n",
    "def h_function(input_list):\n",
    "    #input_list = sorted(input_list)\n",
    "    g_list = []\n",
    "    for j1 in range(len(input_list) ):\n",
    "        for j2 in range(len(input_list)):\n",
    "            if(j1 != j2):\n",
    "                a = input_list[j1]\n",
    "                b = input_list[j2]\n",
    "                z = sum(input_list)- a-b\n",
    "\n",
    "                g_list.append( f_function(a, b, z) * (Agent_number_n-1))\n",
    "    h = sum(g_list) * 3 /  (Agent_number_n) /  (Agent_number_n-1) /  (Agent_number_n - 2)\n",
    "    return h\n",
    "                \n",
    "                \n",
    "x_list = []\n",
    "y_list = []\n",
    "z_list = []\n",
    "result_list = []\n",
    "for index in range(len(testing_data)):\n",
    "    h_list = []\n",
    "    for i in range(Agent_number_n):\n",
    "        x_list.append(testing_data[index][i][0])\n",
    "        y_list.append(testing_data[index][i][1])\n",
    "        h = h_function(testing_data[index][i])\n",
    "        z_list.append(float(h))\n",
    "        h_list.append(float(h))\n",
    "    result_list.append(sum(h_list)/testing_label[index]) \n",
    "    \n",
    "    \n",
    "print(max(result_list), min(result_list), max(result_list)-min(result_list),sum(result_list)/len(result_list))"
   ]
  },
  {
   "cell_type": "code",
   "execution_count": 8,
   "metadata": {
    "ExecuteTime": {
     "end_time": "2021-06-17T10:46:23.357869Z",
     "start_time": "2021-06-17T10:46:20.749611Z"
    }
   },
   "outputs": [
    {
     "data": {
      "image/png": "[encoded data removed]",
      "text/plain": [
       "<Figure size 432x288 with 1 Axes>"
      ]
     },
     "metadata": {
      "needs_background": "light"
     },
     "output_type": "display_data"
    }
   ],
   "source": [
    "plt.hist(result_list,bins=500)\n",
    "\n",
    "plt.title(\"Means\", y=1.015, fontsize=20)\n",
    "plt.axvline(x=sum(result_list)/len(result_list), linestyle='--', linewidth=2.5, label=\"sample mean\", c='orange')\n",
    "plt.xlabel(\"samples\", labelpad=14)\n",
    "plt.ylabel(\"frequency of occurence\", labelpad=14)\n",
    "plt.legend();\n",
    "\n",
    "result_list.sort()\n",
    "\n",
    "plt.axvline(x=result_list[int(len(result_list)*0.01)], linestyle='--', linewidth=0.5, label=\"1%\", c='b')\n",
    "plt.axvline(x=result_list[int(len(result_list)*0.99)], linestyle='--', linewidth=0.5, label=\"99%\", c='r')\n",
    "\n",
    "\n",
    "plt.show()"
   ]
  },
  {
   "cell_type": "code",
   "execution_count": 9,
   "metadata": {
    "ExecuteTime": {
     "end_time": "2021-06-17T10:46:23.372829Z",
     "start_time": "2021-06-17T10:46:23.359863Z"
    }
   },
   "outputs": [
    {
     "name": "stdout",
     "output_type": "stream",
     "text": [
      "tensor([0.3016], device='cuda:0', grad_fn=<SortBackward>)\n"
     ]
    }
   ],
   "source": [
    "tensor_sample_list,indices = torch.sort(torch.rand(devided_number,requires_grad=True).to(dev))  # random ideas\\n\n",
    "print(tensor_sample_list)"
   ]
  },
  {
   "cell_type": "code",
   "execution_count": 10,
   "metadata": {
    "ExecuteTime": {
     "end_time": "2021-06-17T10:46:25.651701Z",
     "start_time": "2021-06-17T10:46:23.374824Z"
    },
    "run_control": {
     "marked": true
    }
   },
   "outputs": [
    {
     "name": "stdout",
     "output_type": "stream",
     "text": [
      "tensor([0.3016], device='cuda:0', grad_fn=<DivBackward0>)\n",
      "tensor([0.8415], device='cuda:0', grad_fn=<DivBackward0>)\n"
     ]
    }
   ],
   "source": [
    "print(cdf(tensor_sample_list,Prior_Distribution))\n",
    "print(cdf(tensor_sample_list,\"normal\"))"
   ]
  },
  {
   "cell_type": "code",
   "execution_count": 11,
   "metadata": {
    "ExecuteTime": {
     "end_time": "2021-06-17T10:46:25.766877Z",
     "start_time": "2021-06-17T10:46:25.662672Z"
    },
    "run_control": {
     "marked": true
    }
   },
   "outputs": [],
   "source": [
    "def weight_init(m):\n",
    "    if isinstance(m, torch.nn.Conv2d):\n",
    "        torch.nn.init.xavier_normal_(m.weight)\n",
    "        torch.nn.init.zeros_(m.bias)\n",
    "    elif isinstance(m, torch.nn.Linear):\n",
    "        torch.nn.init.xavier_normal_(m.weight)\n",
    "        torch.nn.init.normal_(m.bias, mean=0.0, std=0.01)\n",
    "\n",
    "\n",
    "\n",
    "def redistribution_value_function(input_tensor):\n",
    "    S = torch.max(torch.sum(input_tensor), torch.ones(1).to(dev))\n",
    "    temp_list = []\n",
    "\n",
    "    for i in range(Agent_number_n):\n",
    "        temp = []\n",
    "\n",
    "        for j in range(Agent_number_n):\n",
    "            if(i != j):\n",
    "                temp .append(input_tensor[j])\n",
    "\n",
    "        temp = torch.stack(temp)\n",
    "        temp_list.append(temp)\n",
    "    return torch.stack(temp_list), S\n",
    "\n",
    "\n",
    "class Net(torch.nn.Module):\n",
    "    def __init__(self):\n",
    "\n",
    "        super(Net, self).__init__()\n",
    "\n",
    "        self.input_dim = new_input#(Agent_number_n-1)\n",
    "        self.hidden_dim = 128\n",
    "        self.output_dim = 1\n",
    "        self.hidden_layer_count = 6\n",
    "\n",
    "        current_dim = self.input_dim\n",
    "        self.layers = torch.nn.ModuleList()\n",
    "        for i in range(self.hidden_layer_count):\n",
    "            self.layers.append(torch.nn.Linear(current_dim, self.hidden_dim))\n",
    "            current_dim = self.hidden_dim\n",
    "        self.layers.append(torch.nn.Linear(current_dim, self.output_dim))\n",
    "\n",
    "    def calculate(self, value_list):\n",
    "        h = Dimensionality_reduction(value_list)\n",
    "        #h = value_list           ####Dimensionality_reduction\n",
    "        for layer in self.layers:\n",
    "            h = torch.relu(layer(h))\n",
    "        return h\n",
    "\n",
    "    def forward(self, input_list, input_label, input_data):\n",
    "        global iteration, echo, target_order\n",
    "        loss1 = 0\n",
    "        loss2 = 0\n",
    "        input_list = torch.from_numpy(\n",
    "            np.array(input_list)).to(dev).type(torch.float32)\n",
    "\n",
    "        input_data = torch.from_numpy(\n",
    "            np.array(input_data)).to(dev).type(torch.float32)\n",
    "        \n",
    "        input_label = torch.from_numpy(\n",
    "            np.array(input_label)).to(dev).type(torch.float32)\n",
    "        \n",
    "        \n",
    "        random_index = random.randint(0, Agent_number_n-1)\n",
    "        tensor_sample_list,indices = torch.sort(torch.rand(devided_number,requires_grad=True).to(dev))\n",
    "     \n",
    "        tensor_sample = torch.rand(devided_number,requires_grad=True)[0].to(dev)\n",
    "    \n",
    "        input_data_temp = input_data.detach().clone()\n",
    "        \n",
    "        input_data_temp[random_index] = tensor_sample\n",
    "\n",
    "        value_list_tensor, S_tensor = redistribution_value_function(\n",
    "            input_data_temp)\n",
    "       \n",
    "        h_list = []\n",
    "        for i in range(Agent_number_n):\n",
    "            h = self.calculate(\n",
    "                value_list_tensor[i].to(dev).type(torch.float32))\n",
    "            h_list.append(h)\n",
    "            \n",
    "        S_tensor = S_tensor.detach().to(dev).type(torch.float32)\n",
    "        \n",
    "        sum_h = torch.sum(torch.cat(h_list)).to(dev)\n",
    "        \n",
    "        temp_loss1 = torch.where((Agent_number_n-1)*S_tensor > sum_h,\n",
    "                 torch.square(((Agent_number_n-1)*S_tensor - sum_h)),\n",
    "                 torch.zeros(1).to(dev)\n",
    "              )\n",
    "\n",
    "        temp_loss2 = torch.where((Agent_number_n-Alpha)*S_tensor < sum_h,\n",
    "                    torch.square((sum_h-(Agent_number_n-Alpha)*S_tensor))/10000,\n",
    "                    torch.zeros(1).to(dev)\n",
    "                  )\n",
    "\n",
    "\n",
    "        loss1 = temp_loss1 * pdf(tensor_sample, Prior_Distribution)\n",
    "        loss2 = temp_loss2 * pdf(tensor_sample, Prior_Distribution)\n",
    "                \n",
    "        return loss1, loss2\n",
    "    \n",
    "    def supervised_loss(self, input_list,label):\n",
    "        global iteration,echo,target_order\n",
    "        input_list = torch.from_numpy(\n",
    "            np.array(input_list)).to(dev).type(torch.float32)\n",
    "        loss = 0 \n",
    "        for i in range(Agent_number_n):\n",
    "            h = self.calculate(input_list[i])\n",
    "            loss += torch.square(h - label[i])\n",
    "        return loss"
   ]
  },
  {
   "cell_type": "code",
   "execution_count": 12,
   "metadata": {
    "ExecuteTime": {
     "end_time": "2021-06-17T10:46:25.786631Z",
     "start_time": "2021-06-17T10:46:25.768871Z"
    }
   },
   "outputs": [],
   "source": [
    "random.seed(200)\n",
    "torch.manual_seed(256)\n",
    "net  = Net()\n",
    "net.apply(weight_init)\n",
    "#net = torch.load(\"save/Deep_learning_F_uniform_10_1\")\n",
    "net.to(dev)\n",
    "\n",
    "#optimizer = opt.RMSprop(net.parameters(), lr=0.00001)\n",
    "#optimizer = opt.SGD(net.parameters(), lr=0.00005)\n",
    "optimizer = opt.Adam(net.parameters(), lr=LR)\n",
    "#optimizer = opt.Adadelta(net.parameters(), lr=1.0)\n",
    "\n",
    "scheduler = torch.optim.lr_scheduler.StepLR(optimizer, step_size=100, gamma=0.98)\n",
    "index_train_list = []\n",
    "index_test_list = []\n",
    "train_losses = []\n",
    "test_losses = []"
   ]
  },
  {
   "cell_type": "code",
   "execution_count": 13,
   "metadata": {
    "ExecuteTime": {
     "end_time": "2021-06-17T11:22:03.567326Z",
     "start_time": "2021-06-17T10:46:25.797601Z"
    }
   },
   "outputs": [
    {
     "name": "stdout",
     "output_type": "stream",
     "text": [
      "0 tensor(104.9170, device='cuda:0', grad_fn=<DivBackward0>) 6714.689453125\n",
      "50 tensor(0.2989, device='cuda:0', grad_fn=<DivBackward0>) 19.132230758666992\n",
      "100 tensor(0.0439, device='cuda:0', grad_fn=<DivBackward0>) 2.8107450008392334\n",
      "150 tensor(0.0069, device='cuda:0', grad_fn=<DivBackward0>) 0.43942323327064514\n",
      "200 tensor(0.0016, device='cuda:0', grad_fn=<DivBackward0>) 0.10181780904531479\n",
      "250 tensor(0.0027, device='cuda:0', grad_fn=<DivBackward0>) 0.1746778041124344\n",
      "300 tensor(0.0013, device='cuda:0', grad_fn=<DivBackward0>) 0.08632363379001617\n",
      "350 tensor(0.0003, device='cuda:0', grad_fn=<DivBackward0>) 0.016165966168045998\n",
      "400 tensor(0.0007, device='cuda:0', grad_fn=<DivBackward0>) 0.04633042961359024\n",
      "450 tensor(8.5267e-05, device='cuda:0', grad_fn=<DivBackward0>) 0.005457071587443352\n",
      "500 tensor(5.2358e-05, device='cuda:0', grad_fn=<DivBackward0>) 0.0033509316854178905\n",
      "550 tensor(2.2044e-05, device='cuda:0', grad_fn=<DivBackward0>) 0.0014108297182247043\n",
      "600 tensor(0.0108, device='cuda:0', grad_fn=<DivBackward0>) 0.6892629861831665\n",
      "650 tensor(0.0001, device='cuda:0', grad_fn=<DivBackward0>) 0.006852182559669018\n",
      "700 tensor(0.0106, device='cuda:0', grad_fn=<DivBackward0>) 0.6772111654281616\n",
      "750 tensor(0.0006, device='cuda:0', grad_fn=<DivBackward0>) 0.036070629954338074\n",
      "800 tensor(0.0004, device='cuda:0', grad_fn=<DivBackward0>) 0.026831483468413353\n",
      "850 tensor(8.1065e-05, device='cuda:0', grad_fn=<DivBackward0>) 0.0051881675608456135\n",
      "900 tensor(8.2687e-05, device='cuda:0', grad_fn=<DivBackward0>) 0.00529194250702858\n",
      "950 tensor(6.7891e-05, device='cuda:0', grad_fn=<DivBackward0>) 0.004344995599240065\n"
     ]
    }
   ],
   "source": [
    "#supervised\n",
    "index_supervisedtrain_list = []\n",
    "supervisedtrain_losses = []\n",
    "for iteration in range(1000):\n",
    "\n",
    "    temp_number = 0\n",
    "    total_batch_loss = 0 \n",
    "    \n",
    "    loss_sum = 0\n",
    "    denominator = 0\n",
    "    for index in range(0, BATCH_SIZE):\n",
    "        training_data_i, training_S, training_data,label = appen_train(\n",
    "            Generate_distribution(Agent_number_n))\n",
    "        h_loss = net.supervised_loss(training_data_i, label)\n",
    "        denominator += 1\n",
    "        loss_sum += h_loss\n",
    "\n",
    "    loss_sum = torch.sum(loss_sum)\n",
    "    loss = (loss_sum) / denominator \n",
    "    total_batch_loss += float(loss_sum)\n",
    "\n",
    "    optimizer.zero_grad()\n",
    "    loss.backward()\n",
    "    optimizer.step()\n",
    "\n",
    "    if (iteration%50 == 0):\n",
    "        print(iteration,loss,total_batch_loss)\n",
    "        index_supervisedtrain_list.append(iteration)\n",
    "        supervisedtrain_losses.append(total_batch_loss)\n",
    "    scheduler.step()"
   ]
  },
  {
   "cell_type": "code",
   "execution_count": 14,
   "metadata": {
    "ExecuteTime": {
     "end_time": "2021-06-17T11:22:03.931640Z",
     "start_time": "2021-06-17T11:22:03.567326Z"
    }
   },
   "outputs": [
    {
     "data": {
      "image/png": "[encoded data removed]",
      "text/plain": [
       "<Figure size 432x288 with 1 Axes>"
      ]
     },
     "metadata": {
      "needs_background": "light"
     },
     "output_type": "display_data"
    }
   ],
   "source": [
    "plt.ylim(0, 0.1)\n",
    "plt.plot(index_supervisedtrain_list ,supervisedtrain_losses)\n",
    "plt.ylabel('supervised train loss')\n",
    "\n",
    "plt.show()"
   ]
  },
  {
   "cell_type": "code",
   "execution_count": 15,
   "metadata": {
    "ExecuteTime": {
     "end_time": "2021-06-17T13:43:51.032404Z",
     "start_time": "2021-06-17T11:22:03.931640Z"
    }
   },
   "outputs": [
    {
     "name": "stdout",
     "output_type": "stream",
     "text": [
      "0 tensor(0.0002, device='cuda:0', grad_fn=<DivBackward0>) 0.014316241256892681 6.252001867323997e-07\n",
      "batch iteration 0\n",
      "batch_loss: 0.0143 \n",
      "7.413163491778455 7.00878324368363 0.4043802480948253 0.03720929369816872\n",
      "\n",
      "50 tensor(0.0001, device='cuda:0', grad_fn=<DivBackward0>) 0.0 0.006899795029312372\n",
      "batch iteration 50\n",
      "batch_loss: 0.0069 \n",
      "7.592881788026897 7.182379175190784 0.41050261283611356 0.05621225762682691\n",
      "\n",
      "100 tensor(8.2462e-06, device='cuda:0', grad_fn=<DivBackward0>) 0.0 0.0005277599557302892\n",
      "batch iteration 100\n",
      "batch_loss: 0.0005 \n",
      "7.425420379608444 7.023778889117346 0.4016414904910981 0.044538562795107595\n",
      "\n",
      "150 tensor(8.5200e-07, device='cuda:0', grad_fn=<DivBackward0>) 0.0 5.452800905914046e-05\n",
      "batch iteration 150\n",
      "batch_loss: 0.0001 \n",
      "7.381703632277329 6.982779903419789 0.39892372885754046 0.05707394751982253\n",
      "\n",
      "200 tensor(0.0002, device='cuda:0', grad_fn=<DivBackward0>) 0.0 0.009712619706988335\n",
      "batch iteration 200\n",
      "batch_loss: 0.0097 \n",
      "8.90883103510969 6.951986332828355 1.9568447022813356 0.3127648863028867\n",
      "\n",
      "250 tensor(0.0020, device='cuda:0', grad_fn=<DivBackward0>) 0.0 0.1308264285326004\n",
      "batch iteration 250\n",
      "batch_loss: 0.1308 \n",
      "9.690512231729395 7.882014046260805 1.80849818546859 0.2237790072448469\n",
      "\n",
      "300 tensor(0.0001, device='cuda:0', grad_fn=<DivBackward0>) 0.0 0.00891248881816864\n",
      "batch iteration 300\n",
      "batch_loss: 0.0089 \n",
      "8.89497675428116 7.079558569559946 1.8154181847212136 0.22318967471416684\n",
      "\n",
      "350 tensor(9.2803e-05, device='cuda:0', grad_fn=<DivBackward0>) 0.0 0.005939393769949675\n",
      "batch iteration 350\n",
      "batch_loss: 0.0059 \n",
      "8.835534956554687 7.047695720823818 1.7878392357308694 0.2177397619786383\n",
      "\n",
      "400 tensor(4.7525e-05, device='cuda:0', grad_fn=<DivBackward0>) 0.0 0.0030416003428399563\n",
      "batch iteration 400\n",
      "batch_loss: 0.0030 \n",
      "8.741243026959447 6.977933226268829 1.7633098006906183 0.2355422441179682\n",
      "\n",
      "450 tensor(9.7629e-05, device='cuda:0', grad_fn=<DivBackward0>) 0.0 0.006248225923627615\n",
      "batch iteration 450\n",
      "batch_loss: 0.0062 \n",
      "8.77710817814376 7.061285923844555 1.715822254299204 0.20526889011590121\n",
      "\n",
      "500 tensor(9.7525e-05, device='cuda:0', grad_fn=<DivBackward0>) 0.0 0.006241584662348032\n",
      "batch iteration 500\n",
      "batch_loss: 0.0062 \n",
      "8.758447883039272 7.07146952878696 1.6869783542523127 0.20029202553043746\n",
      "\n",
      "550 tensor(5.5094e-05, device='cuda:0', grad_fn=<DivBackward0>) 0.0 0.003526007989421487\n",
      "batch iteration 550\n",
      "batch_loss: 0.0035 \n",
      "8.673044649134104 7.004904788319833 1.6681398608142706 0.19701746748388516\n",
      "\n",
      "600 tensor(6.4365e-05, device='cuda:0', grad_fn=<DivBackward0>) 0.0 0.004119351040571928\n",
      "batch iteration 600\n",
      "batch_loss: 0.0041 \n",
      "8.672538171629387 7.028197286440743 1.6443408851886447 0.19291505889608374\n",
      "\n",
      "650 tensor(4.3834e-05, device='cuda:0', grad_fn=<DivBackward0>) 0.0 0.002805367112159729\n",
      "batch iteration 650\n",
      "batch_loss: 0.0028 \n",
      "8.616639239268595 6.988765216245842 1.6278740230227537 0.20128584304335106\n",
      "\n",
      "700 tensor(4.2995e-05, device='cuda:0', grad_fn=<DivBackward0>) 0.0 0.002751660533249378\n",
      "batch iteration 700\n",
      "batch_loss: 0.0028 \n",
      "8.581162642102319 6.97912491565119 1.6020377264511287 0.20649939911602733\n",
      "\n",
      "750 tensor(5.2901e-05, device='cuda:0', grad_fn=<DivBackward0>) 0.0 0.0033856332302093506\n",
      "batch iteration 750\n",
      "batch_loss: 0.0034 \n",
      "8.590064033274984 7.017829170351285 1.5722348629236995 0.18051345886766867\n",
      "\n",
      "800 tensor(3.7301e-05, device='cuda:0', grad_fn=<DivBackward0>) 0.0 0.0023872375022619963\n",
      "batch iteration 800\n",
      "batch_loss: 0.0024 \n",
      "8.529864583597549 6.975225461253971 1.5546391223435778 0.20222769759941084\n",
      "\n",
      "850 tensor(5.3028e-05, device='cuda:0', grad_fn=<DivBackward0>) 0.0 0.0033938095439225435\n",
      "batch iteration 850\n",
      "batch_loss: 0.0034 \n",
      "8.543602953637858 7.018603481725232 1.5249994719126265 0.17234451761422065\n",
      "\n",
      "900 tensor(5.0138e-05, device='cuda:0', grad_fn=<DivBackward0>) 0.0 0.003208802081644535\n",
      "batch iteration 900\n",
      "batch_loss: 0.0032 \n",
      "8.523500276244873 7.022492784522172 1.5010074917227003 0.16820741679781825\n",
      "\n",
      "950 tensor(0.0001, device='cuda:0', grad_fn=<DivBackward0>) 0.0 0.007101735100150108\n",
      "batch iteration 950\n",
      "batch_loss: 0.0071 \n",
      "8.567831198404448 7.112217509854658 1.4556136885497901 0.16038108880681357\n",
      "\n",
      "1000 tensor(3.0597e-05, device='cuda:0', grad_fn=<DivBackward0>) 0.0 0.001958183478564024\n",
      "batch iteration 1000\n",
      "batch_loss: 0.0020 \n",
      "8.432628540624574 6.986508228779248 1.446120311845326 0.17206421741698374\n",
      "\n"
     ]
    }
   ],
   "source": [
    "for iteration in range(int(echo)):\n",
    "    \n",
    "    temp_number = 0\n",
    "    total_batch_loss = 0 \n",
    "        \n",
    "    loss2_list = []\n",
    "    loss1_sum = 0\n",
    "    loss2_sum = 0\n",
    "    denominator = 0\n",
    "    for index in range(0, BATCH_SIZE):\n",
    "        training_data_i, training_label, training_data,label = appen_train(\n",
    "            Generate_distribution(Agent_number_n))\n",
    "        h_loss1, h_loss2 = net(training_data_i, training_label,\n",
    "                                       training_data)\n",
    "        denominator += 1\n",
    "        loss1_sum += h_loss1\n",
    "        loss2_sum += h_loss2\n",
    "\n",
    "    loss_sum = torch.sum(loss1_sum + loss2_sum)\n",
    "    loss = (loss_sum) / denominator \n",
    "    total_batch_loss +=float(loss_sum)\n",
    "    optimizer.zero_grad()\n",
    "\n",
    "    loss.backward()\n",
    "\n",
    "    optimizer.step()\n",
    "\n",
    "    temp_number = iteration\n",
    "    index_train_list.append(iteration)\n",
    "    train_losses.append(total_batch_loss)\n",
    "    if (iteration%50 == 0):\n",
    "        print(temp_number, loss, float(loss1_sum), float(loss2_sum))\n",
    "\n",
    "        print(\"batch iteration\", iteration)\n",
    "        print(\"batch_loss: %.4f \" % total_batch_loss)\n",
    "\n",
    "        result_list = []\n",
    "        for index in range(len(testing_data)):\n",
    "            h_list = []\n",
    "            for i in range(Agent_number_n):\n",
    "                h = net.calculate(\n",
    "                    torch.tensor(testing_data[index][i]).to(dev).type(\n",
    "                        torch.float32))\n",
    "                h_list.append(float(h))\n",
    "            result_list.append(sum(h_list) / testing_label[index])\n",
    "        print(max(result_list), min(result_list),\n",
    "              max(result_list) - min(result_list),\n",
    "              (sum(result_list) / len(result_list) - min(result_list))+ Agent_number_n-1 - min(min(result_list),Agent_number_n-1) )\n",
    "\n",
    "        index_test_list.append(iteration)\n",
    "        test_losses.append(\n",
    "            (sum(result_list) / len(result_list) - min(result_list))+ Agent_number_n-1 - min(min(result_list),Agent_number_n-1) )\n",
    "        print()\n",
    "        \n",
    "    scheduler.step()\n"
   ]
  },
  {
   "cell_type": "code",
   "execution_count": 16,
   "metadata": {
    "ExecuteTime": {
     "end_time": "2021-06-17T13:43:51.188854Z",
     "start_time": "2021-06-17T13:43:51.032404Z"
    }
   },
   "outputs": [
    {
     "data": {
      "image/png": "[encoded data removed]",
      "text/plain": [
       "<Figure size 432x288 with 1 Axes>"
      ]
     },
     "metadata": {
      "needs_background": "light"
     },
     "output_type": "display_data"
    }
   ],
   "source": [
    "plt.ylim(0, 1.0)\n",
    "plt.plot(index_test_list,test_losses)\n",
    "plt.ylabel('Testing Loss')\n",
    "plt.xlabel('Batch Epoch')\n",
    "plt.show()\n",
    "\n"
   ]
  },
  {
   "cell_type": "code",
   "execution_count": 17,
   "metadata": {
    "ExecuteTime": {
     "end_time": "2021-06-17T13:43:52.046316Z",
     "start_time": "2021-06-17T13:43:51.188854Z"
    }
   },
   "outputs": [
    {
     "ename": "FileNotFoundError",
     "evalue": "[Errno 2] No such file or directory: 'save/test_loss_unfeed_uniform_10.csv'",
     "output_type": "error",
     "traceback": [
      "\u001b[1;31m---------------------------------------------------------------------------\u001b[0m",
      "\u001b[1;31mFileNotFoundError\u001b[0m                         Traceback (most recent call last)",
      "\u001b[1;32m<ipython-input-17-81fe27684f91>\u001b[0m in \u001b[0;36m<module>\u001b[1;34m\u001b[0m\n\u001b[0;32m      5\u001b[0m     \u001b[0mspamwriter\u001b[0m\u001b[1;33m.\u001b[0m\u001b[0mwriterow\u001b[0m\u001b[1;33m(\u001b[0m\u001b[0mtest_losses\u001b[0m\u001b[1;33m)\u001b[0m\u001b[1;33m\u001b[0m\u001b[1;33m\u001b[0m\u001b[0m\n\u001b[0;32m      6\u001b[0m \u001b[1;33m\u001b[0m\u001b[0m\n\u001b[1;32m----> 7\u001b[1;33m \u001b[1;32mwith\u001b[0m \u001b[0mopen\u001b[0m\u001b[1;33m(\u001b[0m\u001b[1;34m'save/test_loss_unfeed_uniform_10.csv'\u001b[0m\u001b[1;33m)\u001b[0m \u001b[1;32mas\u001b[0m \u001b[0mcsvfile_unfeed\u001b[0m\u001b[1;33m:\u001b[0m\u001b[1;33m\u001b[0m\u001b[1;33m\u001b[0m\u001b[0m\n\u001b[0m\u001b[0;32m      8\u001b[0m     \u001b[0mreader\u001b[0m \u001b[1;33m=\u001b[0m \u001b[0mcsv\u001b[0m\u001b[1;33m.\u001b[0m\u001b[0mreader\u001b[0m\u001b[1;33m(\u001b[0m\u001b[0mcsvfile_unfeed\u001b[0m\u001b[1;33m)\u001b[0m\u001b[1;33m\u001b[0m\u001b[1;33m\u001b[0m\u001b[0m\n\u001b[0;32m      9\u001b[0m     \u001b[0mlist_feed\u001b[0m \u001b[1;33m=\u001b[0m \u001b[1;33m[\u001b[0m\u001b[1;33m]\u001b[0m\u001b[1;33m\u001b[0m\u001b[1;33m\u001b[0m\u001b[0m\n",
      "\u001b[1;31mFileNotFoundError\u001b[0m: [Errno 2] No such file or directory: 'save/test_loss_unfeed_uniform_10.csv'"
     ]
    }
   ],
   "source": [
    "import csv\n",
    "with open('save/test_loss_feed_uniform_10.csv', 'w', newline='') as csvfile_feed:\n",
    "    spamwriter = csv.writer(csvfile_feed)\n",
    "    spamwriter.writerow(index_test_list)\n",
    "    spamwriter.writerow(test_losses)\n",
    "\n",
    "with open('save/test_loss_unfeed_uniform_10.csv') as csvfile_unfeed:\n",
    "    reader = csv.reader(csvfile_unfeed)\n",
    "    list_feed = []\n",
    "    for row in reader:\n",
    "        row = np.array(row)\n",
    "        temp_list = []\n",
    "        for i in range(len(row)):\n",
    "            temp_list.append(float(row[i]))\n",
    "\n",
    "        list_feed.append(temp_list)\n",
    "    plt.ylim(0, 1.0)\n",
    "    plt.plot(list_feed[0],list_feed[1],label='neural network')\n",
    "    plt.plot(index_test_list,test_losses,label='feed distribution')\n",
    "    plt.ylabel('Testing Loss')\n",
    "    plt.xlabel('Batch Epoch')\n",
    "    #plt.title('Two or more lines on same plot with suitable legends ')\n",
    "    # show a legend on the plot\n",
    "    plt.legend()\n",
    "    plt.show()"
   ]
  },
  {
   "cell_type": "code",
   "execution_count": 18,
   "metadata": {
    "ExecuteTime": {
     "end_time": "2021-06-17T13:53:21.659581Z",
     "start_time": "2021-06-17T13:53:21.378230Z"
    }
   },
   "outputs": [
    {
     "data": {
      "image/png": "[encoded data removed]",
      "text/plain": [
       "<Figure size 432x288 with 1 Axes>"
      ]
     },
     "metadata": {
      "needs_background": "light"
     },
     "output_type": "display_data"
    }
   ],
   "source": [
    "plt.ylim(0, 1.0)\n",
    "\n",
    "plt.plot(index_train_list,train_losses)\n",
    "plt.ylabel('training loss')\n",
    "\n",
    "plt.plot(index_test_list,test_losses)\n",
    "plt.ylabel('training loss')\n",
    "\n",
    "plt.show()"
   ]
  },
  {
   "cell_type": "code",
   "execution_count": null,
   "metadata": {
    "ExecuteTime": {
     "end_time": "2021-06-17T13:53:21.695519Z",
     "start_time": "2021-06-17T13:53:21.562Z"
    }
   },
   "outputs": [],
   "source": [
    "torch.save(net, \"save/Deep_learning_F_uniform_8_1\")"
   ]
  },
  {
   "cell_type": "code",
   "execution_count": 19,
   "metadata": {
    "ExecuteTime": {
     "end_time": "2021-06-17T13:56:43.892644Z",
     "start_time": "2021-06-17T13:53:21.812206Z"
    }
   },
   "outputs": [
    {
     "name": "stdout",
     "output_type": "stream",
     "text": [
      "8.432628540624574 6.986508228779248 1.446120311845326 0.15857244619623145\n"
     ]
    }
   ],
   "source": [
    "denominator = 0\n",
    "result_list = []\n",
    "for index in range(len(testing_data)):\n",
    "    h_list = []\n",
    "    for i in range(Agent_number_n):\n",
    "        h = net.calculate(torch.tensor(testing_data[index][i]).cuda().type(torch.float32))\n",
    "        h_list.append(float(h))\n",
    "    \n",
    "    #print(sum(h_list),h_list,sum(h_list)/testing_label[index])\n",
    "    result_list.append(sum(h_list)/testing_label[index])\n",
    "    \n",
    "\n",
    "print(max(result_list),min(result_list),max(result_list)-min(result_list),sum(result_list)/len(result_list)-min(result_list))"
   ]
  },
  {
   "cell_type": "code",
   "execution_count": null,
   "metadata": {
    "ExecuteTime": {
     "end_time": "2021-06-17T13:56:43.918118Z",
     "start_time": "2021-06-17T13:53:21.949Z"
    }
   },
   "outputs": [],
   "source": [
    "plt.hist(result_list,bins=500)\n",
    "\n",
    "plt.title(\"Means\", y=1.015, fontsize=20)\n",
    "plt.axvline(x=sum(result_list)/len(result_list), linestyle='--', linewidth=2.5, label=\"sample mean\", c='orange')\n",
    "plt.xlabel(\"samples\", labelpad=14)\n",
    "plt.ylabel(\"frequency of occurence\", labelpad=14)\n",
    "plt.legend();\n",
    "\n",
    "result_list.sort()\n",
    "\n",
    "plt.axvline(x=result_list[int(len(result_list)*0.01)], linestyle='--', linewidth=0.5, label=\"1%\", c='b')\n",
    "plt.axvline(x=result_list[int(len(result_list)*0.99)], linestyle='--', linewidth=0.5, label=\"99%\", c='r')\n",
    "\n",
    "\n",
    "plt.show()"
   ]
  },
  {
   "cell_type": "code",
   "execution_count": null,
   "metadata": {},
   "outputs": [],
   "source": []
  },
  {
   "cell_type": "code",
   "execution_count": null,
   "metadata": {},
   "outputs": [],
   "source": []
  }
 ],
 "metadata": {
  "hide_input": false,
  "kernelspec": {
   "display_name": "Python 3",
   "language": "python",
   "name": "python3"
  },
  "language_info": {
   "codemirror_mode": {
    "name": "ipython",
    "version": 3
   },
   "file_extension": ".py",
   "mimetype": "text/x-python",
   "name": "python",
   "nbconvert_exporter": "python",
   "pygments_lexer": "ipython3",
   "version": "3.8.3"
  },
  "varInspector": {
   "cols": {
    "lenName": 16,
    "lenType": 16,
    "lenVar": 40
   },
   "kernels_config": {
    "python": {
     "delete_cmd_postfix": "",
     "delete_cmd_prefix": "del ",
     "library": "var_list.py",
     "varRefreshCmd": "print(var_dic_list())"
    },
    "r": {
     "delete_cmd_postfix": ") ",
     "delete_cmd_prefix": "rm(",
     "library": "var_list.r",
     "varRefreshCmd": "cat(var_dic_list()) "
    }
   },
   "types_to_exclude": [
    "module",
    "function",
    "builtin_function_or_method",
    "instance",
    "_Feature"
   ],
   "window_display": false
  }
 },
 "nbformat": 4,
 "nbformat_minor": 4
}
