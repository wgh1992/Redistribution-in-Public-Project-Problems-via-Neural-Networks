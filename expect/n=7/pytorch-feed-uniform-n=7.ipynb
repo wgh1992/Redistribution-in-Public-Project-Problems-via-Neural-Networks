{
 "cells": [
  {
   "cell_type": "code",
   "execution_count": 1,
   "metadata": {
    "ExecuteTime": {
     "end_time": "2021-06-22T03:57:41.442035Z",
     "start_time": "2021-06-22T03:57:38.838087Z"
    }
   },
   "outputs": [
    {
     "name": "stdout",
     "output_type": "stream",
     "text": [
      "pygame 2.0.1 (SDL 2.0.14, Python 3.8.3)\n",
      "Hello from the pygame community. https://www.pygame.org/contribute.html\n"
     ]
    },
    {
     "name": "stderr",
     "output_type": "stream",
     "text": [
      "D:\\ComputerSoftwares\\Anaconda\\lib\\site-packages\\sklearn\\utils\\deprecation.py:143: FutureWarning: The sklearn.datasets.samples_generator module is  deprecated in version 0.22 and will be removed in version 0.24. The corresponding classes / functions should instead be imported from sklearn.datasets. Anything that cannot be imported from sklearn.datasets is now part of the private API.\n",
      "  warnings.warn(message, FutureWarning)\n"
     ]
    },
    {
     "name": "stdout",
     "output_type": "stream",
     "text": [
      "cuda:0\n"
     ]
    }
   ],
   "source": [
    "\n",
    "import pygame\n",
    "import random\n",
    "import os\n",
    "import time\n",
    "import numpy as np\n",
    "import math\n",
    "import torch\n",
    "import torch.nn.functional\n",
    "import matplotlib.pyplot as plt\n",
    "import torch.optim as opt\n",
    "from torch.autograd import Variable\n",
    "from sklearn.model_selection import train_test_split\n",
    "\n",
    "import scipy.stats as st\n",
    "from sklearn.datasets.samples_generator import make_blobs\n",
    "from matplotlib.colors import LogNorm \n",
    "import matplotlib.cm as cm\n",
    "import torch.nn as nn\n",
    "import numpy as np\n",
    "import matplotlib.pyplot as plt\n",
    "import plotly.graph_objects as go\n",
    "import plotly.express as px\n",
    "from scipy.interpolate import griddata\n",
    "import torch.nn.functional as F\n",
    "import torch.distributions as D\n",
    "if torch.cuda.is_available():  \n",
    "    dev = \"cuda:0\" \n",
    "else:  \n",
    "    dev = \"cpu\"  \n",
    "\n",
    "print(dev)\n",
    "\n"
   ]
  },
  {
   "cell_type": "code",
   "execution_count": 2,
   "metadata": {
    "ExecuteTime": {
     "end_time": "2021-06-22T03:57:41.456993Z",
     "start_time": "2021-06-22T03:57:41.444029Z"
    },
    "run_control": {
     "marked": true
    }
   },
   "outputs": [],
   "source": [
    "global temp_list\n",
    "temp_list = []\n",
    "Agent_number_n=7;\n",
    "Alpha = 1.0;\n",
    "\n",
    "echo = 1001\n",
    "BATCH_SIZE = 64\n",
    "LR = 0.001           # learning rate for generator\n",
    "devided_number = 1\n",
    "\n",
    "def Generate_distribution(Agent_number_n):\n",
    "    return sorted(np.random.rand(Agent_number_n), reverse=True)\n",
    "    #return sorted(np.random.normal(normalloc,normalscale,Agent_number_n), reverse=True)\n",
    "Prior_Distribution = \"uniform\""
   ]
  },
  {
   "cell_type": "code",
   "execution_count": 3,
   "metadata": {
    "ExecuteTime": {
     "end_time": "2021-06-22T03:57:41.478443Z",
     "start_time": "2021-06-22T03:57:41.457991Z"
    }
   },
   "outputs": [],
   "source": [
    "new_input = 3\n",
    "def Dimensionality_reduction(data_sorted):\n",
    "    out_data = torch.ones(new_input).cuda()\n",
    "    out_data[0] = torch.max(data_sorted) \n",
    "    out_data[1] = torch.sum(data_sorted) \n",
    "    \n",
    "    temp_list = []\n",
    "    for i in range(len(data_sorted)-1):\n",
    "        temp_list.append(data_sorted[i] - data_sorted[i + 1])\n",
    "    \n",
    "    temp_tensor = torch.stack(temp_list)    \n",
    "    out_data[2] = torch.max(temp_tensor) \n",
    "    return out_data\n"
   ]
  },
  {
   "cell_type": "code",
   "execution_count": 4,
   "metadata": {
    "ExecuteTime": {
     "end_time": "2021-06-22T03:57:41.522869Z",
     "start_time": "2021-06-22T03:57:41.480439Z"
    },
    "run_control": {
     "marked": true
    }
   },
   "outputs": [],
   "source": [
    "uniformlow = 0\n",
    "uniformhigh = 1.0\n",
    "\n",
    "normalloc = 0.2\n",
    "normalscale = 0.1\n",
    "\n",
    "doublePeakHighMean = 0.9\n",
    "doublePeakLowMean = 0.1\n",
    "doublePeakStd = 0.04\n",
    "\n",
    "beta_a = 0.3\n",
    "beta_b = 0.2\n",
    "\n",
    "d_1 = D.uniform.Uniform(uniformlow, uniformhigh)\n",
    "distributionRatio_1 = d_1.cdf(1) - d_1.cdf(0)\n",
    "distributionBase_1 = d_1.cdf(0)\n",
    "\n",
    "d_2 = D.normal.Normal(normalloc, normalscale)\n",
    "distributionRatio_2 = d_2.cdf(1) - d_2.cdf(0)\n",
    "distributionBase_2 = d_2.cdf(0)\n",
    "\n",
    "d_3 = D.normal.Normal(doublePeakLowMean, doublePeakStd)\n",
    "d_4 = D.normal.Normal(doublePeakHighMean, doublePeakStd)\n",
    "distributionRatio_3 = (d_3.cdf(1) + d_4.cdf(1) - d_3.cdf(0) - d_4.cdf(0)) / 2\n",
    "distributionBase_3 = d_3.cdf(0) + d_4.cdf(0)\n",
    "\n",
    "# d_5 = D.beta.Beta(beta_a,beta_b)\n",
    "\n",
    "# d10 = D.beta.Beta(0.5,0.5)\n",
    "\n",
    "\n",
    "def cdf(x, y, i=None):\n",
    "    if (y == \"uniform\"):\n",
    "        return (d_1.cdf(x) - distributionBase_1) / distributionRatio_1\n",
    "    elif (y == \"normal\"):\n",
    "        return (d_2.cdf(x) - distributionBase_2) / distributionRatio_2\n",
    "    elif (y == \"twopeak\"):\n",
    "        return (d_3.cdf(x) + d_4.cdf(x) -\n",
    "                distributionBase_3) / 2 / distributionRatio_3\n",
    "\n",
    "\n",
    "def pdf(x, y, i=None):\n",
    "    x= x.cpu().type(torch.float32)\n",
    "    if (y == \"uniform\"):\n",
    "        return torch.pow(torch.tensor(10.0), d_1.log_prob(x)).to(dev)\n",
    "    elif (y == \"normal\"):\n",
    "        return torch.pow(torch.tensor(10.0), d_2.log_prob(x)).to(dev)\n",
    "    elif (y == \"twopeak\"):\n",
    "        return (torch.pow(torch.tensor(10.0), d_3.log_prob(x)) +\n",
    "                torch.pow(torch.tensor(10.0), d_4.log_prob(x))).to(dev) / 2 \n",
    "    \n",
    "def Generate_distribution(Agent_number_n):\n",
    "    return np.random.rand(Agent_number_n)\n",
    "    #return np.random.normal(normalloc,normalscale,Agent_number_n)\n"
   ]
  },
  {
   "cell_type": "code",
   "execution_count": 5,
   "metadata": {
    "ExecuteTime": {
     "end_time": "2021-06-22T03:57:43.052059Z",
     "start_time": "2021-06-22T03:57:41.522869Z"
    },
    "run_control": {
     "marked": false
    }
   },
   "outputs": [
    {
     "name": "stdout",
     "output_type": "stream",
     "text": [
      "tensor(10., device='cuda:0')\n",
      "tensor([1.], device='cuda:0')\n",
      "tensor([24.1906], device='cuda:0')\n"
     ]
    }
   ],
   "source": [
    "print(torch.tensor(10.0).to(dev))\n",
    "print(pdf(torch.ones(1)*0.2,\"uniform\"))\n",
    "print(pdf(torch.ones(1)*0.2,\"normal\"))\n"
   ]
  },
  {
   "cell_type": "code",
   "execution_count": 6,
   "metadata": {
    "ExecuteTime": {
     "end_time": "2021-06-22T03:57:43.626009Z",
     "start_time": "2021-06-22T03:57:43.055051Z"
    }
   },
   "outputs": [
    {
     "name": "stdout",
     "output_type": "stream",
     "text": [
      "[[[0.63722724 0.02833785 0.15906169 0.00758111 0.93436731 0.68777561]\n",
      "  [0.56388694 0.02833785 0.15906169 0.00758111 0.93436731 0.68777561]\n",
      "  [0.56388694 0.63722724 0.15906169 0.00758111 0.93436731 0.68777561]\n",
      "  ...\n",
      "  [0.56388694 0.63722724 0.02833785 0.15906169 0.93436731 0.68777561]\n",
      "  [0.56388694 0.63722724 0.02833785 0.15906169 0.00758111 0.68777561]\n",
      "  [0.56388694 0.63722724 0.02833785 0.15906169 0.00758111 0.93436731]]\n",
      "\n",
      " [[0.45574965 0.29158382 0.59938092 0.47696337 0.02222976 0.65948911]\n",
      "  [0.12555026 0.29158382 0.59938092 0.47696337 0.02222976 0.65948911]\n",
      "  [0.12555026 0.45574965 0.59938092 0.47696337 0.02222976 0.65948911]\n",
      "  ...\n",
      "  [0.12555026 0.45574965 0.29158382 0.59938092 0.02222976 0.65948911]\n",
      "  [0.12555026 0.45574965 0.29158382 0.59938092 0.47696337 0.65948911]\n",
      "  [0.12555026 0.45574965 0.29158382 0.59938092 0.47696337 0.02222976]]\n",
      "\n",
      " [[0.21106697 0.90237724 0.96610914 0.8885516  0.35854788 0.88052835]\n",
      "  [0.96024687 0.90237724 0.96610914 0.8885516  0.35854788 0.88052835]\n",
      "  [0.96024687 0.21106697 0.96610914 0.8885516  0.35854788 0.88052835]\n",
      "  ...\n",
      "  [0.96024687 0.21106697 0.90237724 0.96610914 0.35854788 0.88052835]\n",
      "  [0.96024687 0.21106697 0.90237724 0.96610914 0.8885516  0.88052835]\n",
      "  [0.96024687 0.21106697 0.90237724 0.96610914 0.8885516  0.35854788]]\n",
      "\n",
      " ...\n",
      "\n",
      " [[0.65124621 0.18656166 0.18551304 0.54701711 0.36199004 0.18326398]\n",
      "  [0.78515241 0.18656166 0.18551304 0.54701711 0.36199004 0.18326398]\n",
      "  [0.78515241 0.65124621 0.18551304 0.54701711 0.36199004 0.18326398]\n",
      "  ...\n",
      "  [0.78515241 0.65124621 0.18656166 0.18551304 0.36199004 0.18326398]\n",
      "  [0.78515241 0.65124621 0.18656166 0.18551304 0.54701711 0.18326398]\n",
      "  [0.78515241 0.65124621 0.18656166 0.18551304 0.54701711 0.36199004]]\n",
      "\n",
      " [[0.94434812 0.45832866 0.84644645 0.00648655 0.48711695 0.24908119]\n",
      "  [0.56958505 0.45832866 0.84644645 0.00648655 0.48711695 0.24908119]\n",
      "  [0.56958505 0.94434812 0.84644645 0.00648655 0.48711695 0.24908119]\n",
      "  ...\n",
      "  [0.56958505 0.94434812 0.45832866 0.84644645 0.48711695 0.24908119]\n",
      "  [0.56958505 0.94434812 0.45832866 0.84644645 0.00648655 0.24908119]\n",
      "  [0.56958505 0.94434812 0.45832866 0.84644645 0.00648655 0.48711695]]\n",
      "\n",
      " [[0.23671477 0.99821156 0.04891101 0.96373084 0.89382288 0.53027743]\n",
      "  [0.10229951 0.99821156 0.04891101 0.96373084 0.89382288 0.53027743]\n",
      "  [0.10229951 0.23671477 0.04891101 0.96373084 0.89382288 0.53027743]\n",
      "  ...\n",
      "  [0.10229951 0.23671477 0.99821156 0.04891101 0.89382288 0.53027743]\n",
      "  [0.10229951 0.23671477 0.99821156 0.04891101 0.96373084 0.53027743]\n",
      "  [0.10229951 0.23671477 0.99821156 0.04891101 0.96373084 0.89382288]]]\n",
      "[3.01823775 2.63094688 5.16742804 ... 2.90074445 3.56139297 3.773968  ]\n"
     ]
    }
   ],
   "source": [
    "def h_3_star(a, b, t):\n",
    "    return a - min(a, t) + b - min(b, t) + max(min(a, t)+min(b, t), 2*t/3) + 1/2 * max(min(a, t)+min(b, t), t) - 1/2 * max(max(min(a, t), min(b, t)), 2*t/3) - t/6\n",
    "\n",
    "\n",
    "def f_function(a, b, z):\n",
    "    if(z >= 1):\n",
    "        return (a+b)/2 + z/3\n",
    "    else:\n",
    "        return z/3 + h_3_star(a, b, 1-z)/2\n",
    "\n",
    "def h_function_label(input_list):\n",
    "    #input_list = sorted(input_list)\n",
    "    g_list = []\n",
    "    for j1 in range(len(input_list) ):\n",
    "        for j2 in range(len(input_list)):\n",
    "            if(j1 != j2):\n",
    "                a = input_list[j1]\n",
    "                b = input_list[j2]\n",
    "                z = sum(input_list)- a-b\n",
    "\n",
    "                g_list.append( f_function(a, b, z) * (Agent_number_n-1))\n",
    "    h = sum(g_list) * 3 /  (Agent_number_n) /  (Agent_number_n-1) /  (Agent_number_n - 2)\n",
    "    return h\n",
    "\n",
    "def appen(_x_list,y):\n",
    "    global temp_list\n",
    "    temp_list.append(_x_list)\n",
    "    \n",
    "def appen_train(x_list):\n",
    "    global temp_list\n",
    "                \n",
    "    S= max(sum(x_list),1.0);\n",
    "    temp_list = []\n",
    "    h_list = []\n",
    "    for i in range(Agent_number_n):\n",
    "        temp = []\n",
    "        for j in range(Agent_number_n):\n",
    "            if(i!=j):\n",
    "                temp.append(x_list[j])\n",
    "        appen(temp,S)\n",
    "        \n",
    "        h = h_function_label(temp)\n",
    "        h_list.append(float(h))\n",
    "    temp_list = np.array(temp_list)\n",
    "    x_list = np.array(x_list)\n",
    "    return temp_list,S,x_list,h_list\n",
    "    \n",
    "\n",
    "def appen_test(x_list):\n",
    "    global temp_list\n",
    "                \n",
    "    S= max(sum(x_list),1.0);\n",
    "    temp_list = []\n",
    "    \n",
    "    for i in range(Agent_number_n):\n",
    "        temp = []\n",
    "        for j in range(Agent_number_n):\n",
    "            if(i!=j):\n",
    "                temp.append(x_list[j])\n",
    "        appen(temp,S)\n",
    "    testing_data.append(temp_list)\n",
    "    testing_label.append(S)\n",
    "    temp_list = np.array(temp_list)\n",
    "    return temp_list,S\n",
    "    \n",
    "\n",
    "def read_testing_data():\n",
    "    for i in range(10000):\n",
    "        appen_test(Generate_distribution(Agent_number_n));\n",
    "                            \n",
    "\n",
    "testing_data=[]\n",
    "testing_label=[]\n",
    "S=1.0\n",
    "read_testing_data();\n",
    "\n",
    "testing_data=np.array(testing_data)\n",
    "testing_label=np.array(testing_label)\n",
    "print(testing_data)\n",
    "print(testing_label)"
   ]
  },
  {
   "cell_type": "code",
   "execution_count": 7,
   "metadata": {
    "ExecuteTime": {
     "end_time": "2021-06-22T03:57:59.802602Z",
     "start_time": "2021-06-22T03:57:43.629697Z"
    }
   },
   "outputs": [
    {
     "name": "stdout",
     "output_type": "stream",
     "text": [
      "6.237346880615322 5.9999999999999964 0.23734688061532516 6.006329460123859\n"
     ]
    }
   ],
   "source": [
    "def h_3_star(a, b, t):\n",
    "    return a - min(a, t) + b - min(b, t) + max(min(a, t)+min(b, t), 2*t/3) + 1/2 * max(min(a, t)+min(b, t), t) - 1/2 * max(max(min(a, t), min(b, t)), 2*t/3) - t/6\n",
    "\n",
    "\n",
    "def f_function(a, b, z):\n",
    "    if(z >= 1):\n",
    "        return (a+b)/2 + z/3\n",
    "    else:\n",
    "        return z/3 + h_3_star(a, b, 1-z)/2\n",
    "\n",
    "def h_function(input_list):\n",
    "    #input_list = sorted(input_list)\n",
    "    g_list = []\n",
    "    for j1 in range(len(input_list) ):\n",
    "        for j2 in range(len(input_list)):\n",
    "            if(j1 != j2):\n",
    "                a = input_list[j1]\n",
    "                b = input_list[j2]\n",
    "                z = sum(input_list)- a-b\n",
    "\n",
    "                g_list.append( f_function(a, b, z) * (Agent_number_n-1))\n",
    "    h = sum(g_list) * 3 /  (Agent_number_n) /  (Agent_number_n-1) /  (Agent_number_n - 2)\n",
    "    return h\n",
    "                \n",
    "                \n",
    "x_list = []\n",
    "y_list = []\n",
    "z_list = []\n",
    "result_list = []\n",
    "for index in range(len(testing_data)):\n",
    "    h_list = []\n",
    "    for i in range(Agent_number_n):\n",
    "        x_list.append(testing_data[index][i][0])\n",
    "        y_list.append(testing_data[index][i][1])\n",
    "        h = h_function(testing_data[index][i])\n",
    "        z_list.append(float(h))\n",
    "        h_list.append(float(h))\n",
    "    result_list.append(sum(h_list)/testing_label[index]) \n",
    "    \n",
    "    \n",
    "print(max(result_list), min(result_list), max(result_list)-min(result_list),sum(result_list)/len(result_list))"
   ]
  },
  {
   "cell_type": "code",
   "execution_count": 8,
   "metadata": {
    "ExecuteTime": {
     "end_time": "2021-06-22T03:58:01.225343Z",
     "start_time": "2021-06-22T03:57:59.804552Z"
    }
   },
   "outputs": [
    {
     "data": {
      "image/png": "[encoded data removed]",
      "text/plain": [
       "<Figure size 432x288 with 1 Axes>"
      ]
     },
     "metadata": {
      "needs_background": "light"
     },
     "output_type": "display_data"
    }
   ],
   "source": [
    "plt.hist(result_list,bins=500)\n",
    "\n",
    "plt.title(\"Means\", y=1.015, fontsize=20)\n",
    "plt.axvline(x=sum(result_list)/len(result_list), linestyle='--', linewidth=2.5, label=\"sample mean\", c='orange')\n",
    "plt.xlabel(\"samples\", labelpad=14)\n",
    "plt.ylabel(\"frequency of occurence\", labelpad=14)\n",
    "plt.legend();\n",
    "\n",
    "result_list.sort()\n",
    "\n",
    "plt.axvline(x=result_list[int(len(result_list)*0.01)], linestyle='--', linewidth=0.5, label=\"1%\", c='b')\n",
    "plt.axvline(x=result_list[int(len(result_list)*0.99)], linestyle='--', linewidth=0.5, label=\"99%\", c='r')\n",
    "\n",
    "\n",
    "plt.show()"
   ]
  },
  {
   "cell_type": "code",
   "execution_count": 9,
   "metadata": {
    "ExecuteTime": {
     "end_time": "2021-06-22T03:58:01.241300Z",
     "start_time": "2021-06-22T03:58:01.227338Z"
    }
   },
   "outputs": [
    {
     "name": "stdout",
     "output_type": "stream",
     "text": [
      "tensor([0.2472], device='cuda:0', grad_fn=<SortBackward>)\n"
     ]
    }
   ],
   "source": [
    "tensor_sample_list,indices = torch.sort(torch.rand(devided_number,requires_grad=True).to(dev))  # random ideas\\n\n",
    "print(tensor_sample_list)"
   ]
  },
  {
   "cell_type": "code",
   "execution_count": 10,
   "metadata": {
    "ExecuteTime": {
     "end_time": "2021-06-22T03:58:04.072369Z",
     "start_time": "2021-06-22T03:58:01.242297Z"
    },
    "run_control": {
     "marked": true
    }
   },
   "outputs": [
    {
     "name": "stdout",
     "output_type": "stream",
     "text": [
      "tensor([0.2472], device='cuda:0', grad_fn=<DivBackward0>)\n",
      "tensor([0.6741], device='cuda:0', grad_fn=<DivBackward0>)\n"
     ]
    }
   ],
   "source": [
    "print(cdf(tensor_sample_list,Prior_Distribution))\n",
    "print(cdf(tensor_sample_list,\"normal\"))"
   ]
  },
  {
   "cell_type": "code",
   "execution_count": 11,
   "metadata": {
    "ExecuteTime": {
     "end_time": "2021-06-22T03:58:04.118246Z",
     "start_time": "2021-06-22T03:58:04.074364Z"
    },
    "run_control": {
     "marked": true
    }
   },
   "outputs": [],
   "source": [
    "def weight_init(m):\n",
    "    if isinstance(m, torch.nn.Conv2d):\n",
    "        torch.nn.init.xavier_normal_(m.weight)\n",
    "        torch.nn.init.zeros_(m.bias)\n",
    "    elif isinstance(m, torch.nn.Linear):\n",
    "        torch.nn.init.xavier_normal_(m.weight)\n",
    "        torch.nn.init.normal_(m.bias, mean=0.0, std=0.01)\n",
    "\n",
    "\n",
    "\n",
    "def redistribution_value_function(input_tensor):\n",
    "    S = torch.max(torch.sum(input_tensor), torch.ones(1).to(dev))\n",
    "    temp_list = []\n",
    "\n",
    "    for i in range(Agent_number_n):\n",
    "        temp = []\n",
    "\n",
    "        for j in range(Agent_number_n):\n",
    "            if(i != j):\n",
    "                temp .append(input_tensor[j])\n",
    "\n",
    "        temp = torch.stack(temp)\n",
    "        temp_list.append(temp)\n",
    "    return torch.stack(temp_list), S\n",
    "\n",
    "\n",
    "class Net(torch.nn.Module):\n",
    "    def __init__(self):\n",
    "\n",
    "        super(Net, self).__init__()\n",
    "\n",
    "        self.input_dim = new_input#(Agent_number_n-1)\n",
    "        self.hidden_dim = 128\n",
    "        self.output_dim = 1\n",
    "        self.hidden_layer_count = 6\n",
    "\n",
    "        current_dim = self.input_dim\n",
    "        self.layers = torch.nn.ModuleList()\n",
    "        for i in range(self.hidden_layer_count):\n",
    "            self.layers.append(torch.nn.Linear(current_dim, self.hidden_dim))\n",
    "            current_dim = self.hidden_dim\n",
    "        self.layers.append(torch.nn.Linear(current_dim, self.output_dim))\n",
    "\n",
    "    def calculate(self, value_list):\n",
    "        h = Dimensionality_reduction(value_list)\n",
    "        #h = value_list           ####Dimensionality_reduction\n",
    "        for layer in self.layers:\n",
    "            h = torch.relu(layer(h))\n",
    "        return h\n",
    "\n",
    "    def forward(self, input_list, input_label, input_data):\n",
    "        global iteration, echo, target_order\n",
    "        loss1 = 0\n",
    "        loss2 = 0\n",
    "        input_list = torch.from_numpy(\n",
    "            np.array(input_list)).to(dev).type(torch.float32)\n",
    "\n",
    "        input_data = torch.from_numpy(\n",
    "            np.array(input_data)).to(dev).type(torch.float32)\n",
    "        \n",
    "        input_label = torch.from_numpy(\n",
    "            np.array(input_label)).to(dev).type(torch.float32)\n",
    "        \n",
    "        \n",
    "        random_index = random.randint(0, Agent_number_n-1)\n",
    "        tensor_sample_list,indices = torch.sort(torch.rand(devided_number,requires_grad=True).to(dev))\n",
    "     \n",
    "        tensor_sample = torch.rand(devided_number,requires_grad=True)[0].to(dev)\n",
    "    \n",
    "        input_data_temp = input_data.detach().clone()\n",
    "        \n",
    "        input_data_temp[random_index] = tensor_sample\n",
    "\n",
    "        value_list_tensor, S_tensor = redistribution_value_function(\n",
    "            input_data_temp)\n",
    "       \n",
    "        h_list = []\n",
    "        for i in range(Agent_number_n):\n",
    "            h = self.calculate(\n",
    "                value_list_tensor[i].to(dev).type(torch.float32))\n",
    "            h_list.append(h)\n",
    "            \n",
    "        S_tensor = S_tensor.detach().to(dev).type(torch.float32)\n",
    "        \n",
    "        sum_h = torch.sum(torch.cat(h_list)).to(dev)\n",
    "        \n",
    "        temp_loss1 = torch.where((Agent_number_n-1)*S_tensor > sum_h,\n",
    "                 torch.square(((Agent_number_n-1)*S_tensor - sum_h)),\n",
    "                 torch.zeros(1).to(dev)\n",
    "              )\n",
    "\n",
    "        temp_loss2 = torch.where((Agent_number_n-Alpha)*S_tensor < sum_h,\n",
    "                    torch.square((sum_h-(Agent_number_n-Alpha)*S_tensor))/10000,\n",
    "                    torch.zeros(1).to(dev)\n",
    "                  )\n",
    "\n",
    "\n",
    "        loss1 = temp_loss1 * pdf(tensor_sample, Prior_Distribution)\n",
    "        loss2 = temp_loss2 * pdf(tensor_sample, Prior_Distribution)\n",
    "                \n",
    "        return loss1, loss2\n",
    "    \n",
    "    def supervised_loss(self, input_list,label):\n",
    "        global iteration,echo,target_order\n",
    "        input_list = torch.from_numpy(\n",
    "            np.array(input_list)).to(dev).type(torch.float32)\n",
    "        loss = 0 \n",
    "        for i in range(Agent_number_n):\n",
    "            h = self.calculate(input_list[i])\n",
    "            loss += torch.square(h - label[i])\n",
    "        return loss"
   ]
  },
  {
   "cell_type": "code",
   "execution_count": 12,
   "metadata": {
    "ExecuteTime": {
     "end_time": "2021-06-22T03:58:04.134205Z",
     "start_time": "2021-06-22T03:58:04.120241Z"
    }
   },
   "outputs": [],
   "source": [
    "random.seed(200)\n",
    "torch.manual_seed(256)\n",
    "net  = Net()\n",
    "net.apply(weight_init)\n",
    "#net = torch.load(\"save/Deep_learning_F_uniform_10_1\")\n",
    "net.to(dev)\n",
    "\n",
    "#optimizer = opt.RMSprop(net.parameters(), lr=0.00001)\n",
    "#optimizer = opt.SGD(net.parameters(), lr=0.00005)\n",
    "optimizer = opt.Adam(net.parameters(), lr=LR)\n",
    "#optimizer = opt.Adadelta(net.parameters(), lr=1.0)\n",
    "\n",
    "scheduler = torch.optim.lr_scheduler.StepLR(optimizer, step_size=100, gamma=0.98)\n",
    "index_train_list = []\n",
    "index_test_list = []\n",
    "train_losses = []\n",
    "test_losses = []"
   ]
  },
  {
   "cell_type": "code",
   "execution_count": 13,
   "metadata": {
    "ExecuteTime": {
     "end_time": "2021-06-22T04:27:05.873053Z",
     "start_time": "2021-06-22T03:58:04.136198Z"
    }
   },
   "outputs": [
    {
     "name": "stdout",
     "output_type": "stream",
     "text": [
      "0 tensor(66.2394, device='cuda:0', grad_fn=<DivBackward0>) 4239.32470703125\n",
      "50 tensor(0.1158, device='cuda:0', grad_fn=<DivBackward0>) 7.4109063148498535\n",
      "100 tensor(0.0195, device='cuda:0', grad_fn=<DivBackward0>) 1.2502648830413818\n",
      "150 tensor(0.0047, device='cuda:0', grad_fn=<DivBackward0>) 0.30105045437812805\n",
      "200 tensor(0.0027, device='cuda:0', grad_fn=<DivBackward0>) 0.1707991063594818\n",
      "250 tensor(0.0018, device='cuda:0', grad_fn=<DivBackward0>) 0.11301911622285843\n",
      "300 tensor(0.0007, device='cuda:0', grad_fn=<DivBackward0>) 0.04176652804017067\n",
      "350 tensor(0.0006, device='cuda:0', grad_fn=<DivBackward0>) 0.03539668768644333\n",
      "400 tensor(0.0008, device='cuda:0', grad_fn=<DivBackward0>) 0.0496746227145195\n",
      "450 tensor(0.0002, device='cuda:0', grad_fn=<DivBackward0>) 0.013813836500048637\n",
      "500 tensor(0.0002, device='cuda:0', grad_fn=<DivBackward0>) 0.010893759317696095\n",
      "550 tensor(0.0002, device='cuda:0', grad_fn=<DivBackward0>) 0.01039915531873703\n",
      "600 tensor(0.0001, device='cuda:0', grad_fn=<DivBackward0>) 0.007619311101734638\n",
      "650 tensor(8.9168e-05, device='cuda:0', grad_fn=<DivBackward0>) 0.005706782918423414\n",
      "700 tensor(2.7418e-05, device='cuda:0', grad_fn=<DivBackward0>) 0.001754749333485961\n",
      "750 tensor(0.0001, device='cuda:0', grad_fn=<DivBackward0>) 0.007100997492671013\n",
      "800 tensor(4.1837e-05, device='cuda:0', grad_fn=<DivBackward0>) 0.0026775372680276632\n",
      "850 tensor(2.7224e-05, device='cuda:0', grad_fn=<DivBackward0>) 0.0017423058161512017\n",
      "900 tensor(4.6487e-05, device='cuda:0', grad_fn=<DivBackward0>) 0.0029751656111329794\n",
      "950 tensor(5.9000e-05, device='cuda:0', grad_fn=<DivBackward0>) 0.003776019439101219\n"
     ]
    }
   ],
   "source": [
    "#supervised\n",
    "index_supervisedtrain_list = []\n",
    "supervisedtrain_losses = []\n",
    "for iteration in range(1000):\n",
    "\n",
    "    temp_number = 0\n",
    "    total_batch_loss = 0 \n",
    "    \n",
    "    loss_sum = 0\n",
    "    denominator = 0\n",
    "    for index in range(0, BATCH_SIZE):\n",
    "        training_data_i, training_S, training_data,label = appen_train(\n",
    "            Generate_distribution(Agent_number_n))\n",
    "        h_loss = net.supervised_loss(training_data_i, label)\n",
    "        denominator += 1\n",
    "        loss_sum += h_loss\n",
    "\n",
    "    loss_sum = torch.sum(loss_sum)\n",
    "    loss = (loss_sum) / denominator \n",
    "    total_batch_loss += float(loss_sum)\n",
    "\n",
    "    optimizer.zero_grad()\n",
    "    loss.backward()\n",
    "    optimizer.step()\n",
    "\n",
    "    if (iteration%50 == 0):\n",
    "        print(iteration,loss,total_batch_loss)\n",
    "        index_supervisedtrain_list.append(iteration)\n",
    "        supervisedtrain_losses.append(total_batch_loss)\n",
    "    scheduler.step()"
   ]
  },
  {
   "cell_type": "code",
   "execution_count": 14,
   "metadata": {
    "ExecuteTime": {
     "end_time": "2021-06-22T04:27:06.155156Z",
     "start_time": "2021-06-22T04:27:05.873053Z"
    }
   },
   "outputs": [
    {
     "data": {
      "image/png": "[encoded data removed]",
      "text/plain": [
       "<Figure size 432x288 with 1 Axes>"
      ]
     },
     "metadata": {
      "needs_background": "light"
     },
     "output_type": "display_data"
    }
   ],
   "source": [
    "plt.ylim(0, 0.1)\n",
    "plt.plot(index_supervisedtrain_list ,supervisedtrain_losses)\n",
    "plt.ylabel('supervised train loss')\n",
    "\n",
    "plt.show()"
   ]
  },
  {
   "cell_type": "code",
   "execution_count": 15,
   "metadata": {
    "ExecuteTime": {
     "end_time": "2021-06-22T04:27:06.170117Z",
     "start_time": "2021-06-22T04:27:06.157151Z"
    }
   },
   "outputs": [],
   "source": [
    "optimizer = opt.Adam(net.parameters(), lr=LR/100)\n",
    "#optimizer = opt.Adadelta(net.parameters(), lr=1.0)\n",
    "\n",
    "scheduler = torch.optim.lr_scheduler.StepLR(optimizer, step_size=100, gamma=0.98)"
   ]
  },
  {
   "cell_type": "code",
   "execution_count": 16,
   "metadata": {
    "ExecuteTime": {
     "end_time": "2021-06-22T06:34:40.814396Z",
     "start_time": "2021-06-22T04:27:06.172111Z"
    }
   },
   "outputs": [
    {
     "name": "stdout",
     "output_type": "stream",
     "text": [
      "0 tensor(9.2697e-08, device='cuda:0', grad_fn=<DivBackward0>) 3.3527612686157227e-08 5.899101324757794e-06\n",
      "batch iteration 0\n",
      "batch_loss: 0.0000 \n",
      "6.243035631589669 5.923724174499512 0.3193114570901576 0.173833276986457\n",
      "\n",
      "50 tensor(4.2180e-06, device='cuda:0', grad_fn=<DivBackward0>) 0.0 0.0002699509495869279\n",
      "batch iteration 50\n",
      "batch_loss: 0.0003 \n",
      "6.23645590806566 5.914973735809326 0.32148217225633413 0.2289505550105453\n",
      "\n",
      "100 tensor(1.2766e-06, device='cuda:0', grad_fn=<DivBackward0>) 0.0 8.169976354110986e-05\n",
      "batch iteration 100\n",
      "batch_loss: 0.0001 \n",
      "6.189160118022042 5.904937982559204 0.28422213546283803 0.22250955095532365\n",
      "\n",
      "150 tensor(7.0039e-07, device='cuda:0', grad_fn=<DivBackward0>) 0.0 4.482509393710643e-05\n",
      "batch iteration 150\n",
      "batch_loss: 0.0000 \n",
      "6.206979587881161 5.9091185331344604 0.29786105474670066 0.20774955946427465\n",
      "\n",
      "200 tensor(2.5123e-07, device='cuda:0', grad_fn=<DivBackward0>) 0.0 1.6078995031421073e-05\n",
      "batch iteration 200\n",
      "batch_loss: 0.0000 \n",
      "6.205353232073043 5.905455648899078 0.29989758317396475 0.20527831986783873\n",
      "\n",
      "250 tensor(1.4584e-07, device='cuda:0', grad_fn=<DivBackward0>) 0.0 9.333635716757271e-06\n",
      "batch iteration 250\n",
      "batch_loss: 0.0000 \n",
      "6.213006206941615 5.919432997703552 0.29357320923806274 0.17304742298881415\n",
      "\n",
      "300 tensor(1.1956e-06, device='cuda:0', grad_fn=<DivBackward0>) 0.0 7.652126805623993e-05\n",
      "batch iteration 300\n",
      "batch_loss: 0.0001 \n",
      "6.230750659065222 5.927566647529602 0.30318401153562036 0.17724609945056002\n",
      "\n",
      "350 tensor(2.1982e-07, device='cuda:0', grad_fn=<DivBackward0>) 0.0 1.4068714335735422e-05\n",
      "batch iteration 350\n",
      "batch_loss: 0.0000 \n",
      "6.217801826663766 5.923502624034882 0.294299202628884 0.1676917884865059\n",
      "\n",
      "400 tensor(2.1121e-07, device='cuda:0', grad_fn=<DivBackward0>) 0.0 1.3517371371563058e-05\n",
      "batch iteration 400\n",
      "batch_loss: 0.0000 \n",
      "6.214924203725085 5.9224947690963745 0.2924294346287102 0.1642039343773698\n",
      "\n",
      "450 tensor(2.7118e-07, device='cuda:0', grad_fn=<DivBackward0>) 0.0 1.7355798263452016e-05\n",
      "batch iteration 450\n",
      "batch_loss: 0.0000 \n",
      "6.217188815628398 5.923160374164581 0.29402844146381657 0.16865990448422163\n",
      "\n",
      "500 tensor(1.9869e-07, device='cuda:0', grad_fn=<DivBackward0>) 0.0 1.2715879165625665e-05\n",
      "batch iteration 500\n",
      "batch_loss: 0.0000 \n",
      "6.215374085936908 5.921656787395477 0.2937172985414307 0.16775521048686404\n",
      "\n",
      "550 tensor(1.4759e-06, device='cuda:0', grad_fn=<DivBackward0>) 0.0 9.445558680454269e-05\n",
      "batch iteration 550\n",
      "batch_loss: 0.0001 \n",
      "6.235273246515092 5.928928971290588 0.3063442752245038 0.17722217355952719\n",
      "\n",
      "600 tensor(1.6672e-07, device='cuda:0', grad_fn=<DivBackward0>) 1.3849385140929371e-06 9.285365194955375e-06\n",
      "batch iteration 600\n",
      "batch_loss: 0.0000 \n",
      "6.205547928431434 5.9173805713653564 0.28816735706607766 0.17248535801021259\n",
      "\n",
      "650 tensor(9.7867e-08, device='cuda:0', grad_fn=<DivBackward0>) 0.0 6.263485374802258e-06\n",
      "batch iteration 650\n",
      "batch_loss: 0.0000 \n",
      "6.217147428079159 5.924016058444977 0.2931313696341826 0.16113729461254067\n",
      "\n",
      "700 tensor(1.6168e-07, device='cuda:0', grad_fn=<DivBackward0>) 0.0 1.0347217539674602e-05\n",
      "batch iteration 700\n",
      "batch_loss: 0.0000 \n",
      "6.216976945454884 5.923549652099609 0.2934272933552746 0.16198317772618154\n",
      "\n",
      "750 tensor(1.2937e-07, device='cuda:0', grad_fn=<DivBackward0>) 0.0 8.279997018689755e-06\n",
      "batch iteration 750\n",
      "batch_loss: 0.0000 \n",
      "6.223901983731534 5.9243099093437195 0.29959207438781466 0.16328330996053708\n",
      "\n",
      "800 tensor(2.5004e-07, device='cuda:0', grad_fn=<DivBackward0>) 0.0 1.6002251868485473e-05\n",
      "batch iteration 800\n",
      "batch_loss: 0.0000 \n",
      "6.225164460924188 5.924077808856964 0.30108665206722396 0.16593349961300508\n",
      "\n",
      "850 tensor(1.1712e-06, device='cuda:0', grad_fn=<DivBackward0>) 0.0 7.49544269638136e-05\n",
      "batch iteration 850\n",
      "batch_loss: 0.0001 \n",
      "6.240399697589663 5.950767695903778 0.2896320016858853 0.1281223847654296\n",
      "\n",
      "900 tensor(1.5119e-06, device='cuda:0', grad_fn=<DivBackward0>) 0.0 9.676390618551522e-05\n",
      "batch iteration 900\n",
      "batch_loss: 0.0001 \n",
      "6.277356626728028 5.993614673614502 0.2837419531135259 0.047802353395224095\n",
      "\n",
      "950 tensor(1.2055e-07, device='cuda:0', grad_fn=<DivBackward0>) 0.0 7.715507308603264e-06\n",
      "batch iteration 950\n",
      "batch_loss: 0.0000 \n",
      "6.255099227807949 5.984787702560425 0.2703115252475241 0.039121395562697\n",
      "\n",
      "1000 tensor(4.9431e-07, device='cuda:0', grad_fn=<DivBackward0>) 0.0 3.163553265039809e-05\n",
      "batch iteration 1000\n",
      "batch_loss: 0.0000 \n",
      "6.272870404719581 6.009607012106935 0.26326339261264575 0.009119783024635453\n",
      "\n"
     ]
    }
   ],
   "source": [
    "for iteration in range(int(echo)):\n",
    "    \n",
    "    temp_number = 0\n",
    "    total_batch_loss = 0 \n",
    "        \n",
    "    loss2_list = []\n",
    "    loss1_sum = 0\n",
    "    loss2_sum = 0\n",
    "    denominator = 0\n",
    "    for index in range(0, BATCH_SIZE):\n",
    "        training_data_i, training_label, training_data,label = appen_train(\n",
    "            Generate_distribution(Agent_number_n))\n",
    "        h_loss1, h_loss2 = net(training_data_i, training_label,\n",
    "                                       training_data)\n",
    "        denominator += 1\n",
    "        loss1_sum += h_loss1\n",
    "        loss2_sum += h_loss2\n",
    "\n",
    "    loss_sum = torch.sum(loss1_sum + loss2_sum)\n",
    "    loss = (loss_sum) / denominator \n",
    "    total_batch_loss +=float(loss_sum)\n",
    "    optimizer.zero_grad()\n",
    "\n",
    "    loss.backward()\n",
    "\n",
    "    optimizer.step()\n",
    "\n",
    "    temp_number = iteration\n",
    "    index_train_list.append(iteration)\n",
    "    train_losses.append(total_batch_loss)\n",
    "    if (iteration%50 == 0):\n",
    "        print(temp_number, loss, float(loss1_sum), float(loss2_sum))\n",
    "\n",
    "        print(\"batch iteration\", iteration)\n",
    "        print(\"batch_loss: %.4f \" % total_batch_loss)\n",
    "\n",
    "        result_list = []\n",
    "        for index in range(len(testing_data)):\n",
    "            h_list = []\n",
    "            for i in range(Agent_number_n):\n",
    "                h = net.calculate(\n",
    "                    torch.tensor(testing_data[index][i]).to(dev).type(\n",
    "                        torch.float32))\n",
    "                h_list.append(float(h))\n",
    "            result_list.append(sum(h_list) / testing_label[index])\n",
    "        print(max(result_list), min(result_list),\n",
    "              max(result_list) - min(result_list),\n",
    "              (sum(result_list) / len(result_list) - min(result_list))+ Agent_number_n-1 - min(min(result_list),Agent_number_n-1) )\n",
    "\n",
    "        index_test_list.append(iteration)\n",
    "        test_losses.append(\n",
    "            (sum(result_list) / len(result_list) - min(result_list))+ Agent_number_n-1 - min(min(result_list),Agent_number_n-1) )\n",
    "        print()\n",
    "        \n",
    "    scheduler.step()\n"
   ]
  },
  {
   "cell_type": "code",
   "execution_count": 17,
   "metadata": {
    "ExecuteTime": {
     "end_time": "2021-06-22T06:34:41.045515Z",
     "start_time": "2021-06-22T06:34:40.816392Z"
    }
   },
   "outputs": [
    {
     "data": {
      "image/png": "[encoded data removed]",
      "text/plain": [
       "<Figure size 432x288 with 1 Axes>"
      ]
     },
     "metadata": {
      "needs_background": "light"
     },
     "output_type": "display_data"
    }
   ],
   "source": [
    "plt.ylim(0, 1.0)\n",
    "plt.plot(index_test_list,test_losses)\n",
    "plt.ylabel('Testing Loss')\n",
    "plt.xlabel('Batch Epoch')\n",
    "plt.show()\n",
    "\n"
   ]
  },
  {
   "cell_type": "code",
   "execution_count": 18,
   "metadata": {
    "ExecuteTime": {
     "end_time": "2021-06-22T06:34:42.226173Z",
     "start_time": "2021-06-22T06:34:41.045515Z"
    }
   },
   "outputs": [
    {
     "ename": "FileNotFoundError",
     "evalue": "[Errno 2] No such file or directory: 'save/test_loss_unfeed_uniform_10.csv'",
     "output_type": "error",
     "traceback": [
      "\u001b[1;31m---------------------------------------------------------------------------\u001b[0m",
      "\u001b[1;31mFileNotFoundError\u001b[0m                         Traceback (most recent call last)",
      "\u001b[1;32m<ipython-input-18-81fe27684f91>\u001b[0m in \u001b[0;36m<module>\u001b[1;34m\u001b[0m\n\u001b[0;32m      5\u001b[0m     \u001b[0mspamwriter\u001b[0m\u001b[1;33m.\u001b[0m\u001b[0mwriterow\u001b[0m\u001b[1;33m(\u001b[0m\u001b[0mtest_losses\u001b[0m\u001b[1;33m)\u001b[0m\u001b[1;33m\u001b[0m\u001b[1;33m\u001b[0m\u001b[0m\n\u001b[0;32m      6\u001b[0m \u001b[1;33m\u001b[0m\u001b[0m\n\u001b[1;32m----> 7\u001b[1;33m \u001b[1;32mwith\u001b[0m \u001b[0mopen\u001b[0m\u001b[1;33m(\u001b[0m\u001b[1;34m'save/test_loss_unfeed_uniform_10.csv'\u001b[0m\u001b[1;33m)\u001b[0m \u001b[1;32mas\u001b[0m \u001b[0mcsvfile_unfeed\u001b[0m\u001b[1;33m:\u001b[0m\u001b[1;33m\u001b[0m\u001b[1;33m\u001b[0m\u001b[0m\n\u001b[0m\u001b[0;32m      8\u001b[0m     \u001b[0mreader\u001b[0m \u001b[1;33m=\u001b[0m \u001b[0mcsv\u001b[0m\u001b[1;33m.\u001b[0m\u001b[0mreader\u001b[0m\u001b[1;33m(\u001b[0m\u001b[0mcsvfile_unfeed\u001b[0m\u001b[1;33m)\u001b[0m\u001b[1;33m\u001b[0m\u001b[1;33m\u001b[0m\u001b[0m\n\u001b[0;32m      9\u001b[0m     \u001b[0mlist_feed\u001b[0m \u001b[1;33m=\u001b[0m \u001b[1;33m[\u001b[0m\u001b[1;33m]\u001b[0m\u001b[1;33m\u001b[0m\u001b[1;33m\u001b[0m\u001b[0m\n",
      "\u001b[1;31mFileNotFoundError\u001b[0m: [Errno 2] No such file or directory: 'save/test_loss_unfeed_uniform_10.csv'"
     ]
    }
   ],
   "source": [
    "import csv\n",
    "with open('save/test_loss_feed_uniform_10.csv', 'w', newline='') as csvfile_feed:\n",
    "    spamwriter = csv.writer(csvfile_feed)\n",
    "    spamwriter.writerow(index_test_list)\n",
    "    spamwriter.writerow(test_losses)\n",
    "\n",
    "with open('save/test_loss_unfeed_uniform_10.csv') as csvfile_unfeed:\n",
    "    reader = csv.reader(csvfile_unfeed)\n",
    "    list_feed = []\n",
    "    for row in reader:\n",
    "        row = np.array(row)\n",
    "        temp_list = []\n",
    "        for i in range(len(row)):\n",
    "            temp_list.append(float(row[i]))\n",
    "\n",
    "        list_feed.append(temp_list)\n",
    "    plt.ylim(0, 1.0)\n",
    "    plt.plot(list_feed[0],list_feed[1],label='neural network')\n",
    "    plt.plot(index_test_list,test_losses,label='feed distribution')\n",
    "    plt.ylabel('Testing Loss')\n",
    "    plt.xlabel('Batch Epoch')\n",
    "    #plt.title('Two or more lines on same plot with suitable legends ')\n",
    "    # show a legend on the plot\n",
    "    plt.legend()\n",
    "    plt.show()"
   ]
  },
  {
   "cell_type": "code",
   "execution_count": 19,
   "metadata": {
    "ExecuteTime": {
     "end_time": "2021-06-22T07:45:31.576289Z",
     "start_time": "2021-06-22T07:45:31.417037Z"
    }
   },
   "outputs": [
    {
     "data": {
      "image/png": "[encoded data removed]",
      "text/plain": [
       "<Figure size 432x288 with 1 Axes>"
      ]
     },
     "metadata": {
      "needs_background": "light"
     },
     "output_type": "display_data"
    }
   ],
   "source": [
    "plt.ylim(0, 1.0)\n",
    "\n",
    "plt.plot(index_train_list,train_losses)\n",
    "plt.ylabel('training loss')\n",
    "\n",
    "plt.plot(index_test_list,test_losses)\n",
    "plt.ylabel('training loss')\n",
    "\n",
    "plt.show()"
   ]
  },
  {
   "cell_type": "code",
   "execution_count": null,
   "metadata": {
    "ExecuteTime": {
     "end_time": "2021-06-22T07:45:31.612193Z",
     "start_time": "2021-06-22T07:45:31.593Z"
    }
   },
   "outputs": [],
   "source": [
    "torch.save(net, \"save/Deep_learning_F_uniform_7_1\")"
   ]
  },
  {
   "cell_type": "code",
   "execution_count": 20,
   "metadata": {
    "ExecuteTime": {
     "end_time": "2021-06-22T07:47:41.607309Z",
     "start_time": "2021-06-22T07:45:32.331627Z"
    }
   },
   "outputs": [
    {
     "name": "stdout",
     "output_type": "stream",
     "text": [
      "6.272870404719581 6.009607012106935 0.26326339261264575 0.009119783024635453\n"
     ]
    }
   ],
   "source": [
    "denominator = 0\n",
    "result_list = []\n",
    "for index in range(len(testing_data)):\n",
    "    h_list = []\n",
    "    for i in range(Agent_number_n):\n",
    "        h = net.calculate(torch.tensor(testing_data[index][i]).cuda().type(torch.float32))\n",
    "        h_list.append(float(h))\n",
    "    \n",
    "    #print(sum(h_list),h_list,sum(h_list)/testing_label[index])\n",
    "    result_list.append(sum(h_list)/testing_label[index])\n",
    "    \n",
    "\n",
    "print(max(result_list),min(result_list),max(result_list)-min(result_list),sum(result_list)/len(result_list)-min(result_list))"
   ]
  },
  {
   "cell_type": "code",
   "execution_count": 21,
   "metadata": {
    "ExecuteTime": {
     "end_time": "2021-06-22T07:47:44.424882Z",
     "start_time": "2021-06-22T07:47:43.066542Z"
    }
   },
   "outputs": [
    {
     "data": {
      "image/png": "[encoded data removed]",
      "text/plain": [
       "<Figure size 432x288 with 1 Axes>"
      ]
     },
     "metadata": {
      "needs_background": "light"
     },
     "output_type": "display_data"
    }
   ],
   "source": [
    "plt.hist(result_list,bins=500)\n",
    "\n",
    "plt.title(\"Means\", y=1.015, fontsize=20)\n",
    "plt.axvline(x=sum(result_list)/len(result_list), linestyle='--', linewidth=2.5, label=\"sample mean\", c='orange')\n",
    "plt.xlabel(\"samples\", labelpad=14)\n",
    "plt.ylabel(\"frequency of occurence\", labelpad=14)\n",
    "plt.legend();\n",
    "\n",
    "result_list.sort()\n",
    "\n",
    "plt.axvline(x=result_list[int(len(result_list)*0.01)], linestyle='--', linewidth=0.5, label=\"1%\", c='b')\n",
    "plt.axvline(x=result_list[int(len(result_list)*0.99)], linestyle='--', linewidth=0.5, label=\"99%\", c='r')\n",
    "\n",
    "\n",
    "plt.show()"
   ]
  },
  {
   "cell_type": "code",
   "execution_count": null,
   "metadata": {},
   "outputs": [],
   "source": []
  },
  {
   "cell_type": "code",
   "execution_count": null,
   "metadata": {},
   "outputs": [],
   "source": []
  }
 ],
 "metadata": {
  "hide_input": false,
  "kernelspec": {
   "display_name": "Python 3",
   "language": "python",
   "name": "python3"
  },
  "language_info": {
   "codemirror_mode": {
    "name": "ipython",
    "version": 3
   },
   "file_extension": ".py",
   "mimetype": "text/x-python",
   "name": "python",
   "nbconvert_exporter": "python",
   "pygments_lexer": "ipython3",
   "version": "3.8.3"
  },
  "varInspector": {
   "cols": {
    "lenName": 16,
    "lenType": 16,
    "lenVar": 40
   },
   "kernels_config": {
    "python": {
     "delete_cmd_postfix": "",
     "delete_cmd_prefix": "del ",
     "library": "var_list.py",
     "varRefreshCmd": "print(var_dic_list())"
    },
    "r": {
     "delete_cmd_postfix": ") ",
     "delete_cmd_prefix": "rm(",
     "library": "var_list.r",
     "varRefreshCmd": "cat(var_dic_list()) "
    }
   },
   "types_to_exclude": [
    "module",
    "function",
    "builtin_function_or_method",
    "instance",
    "_Feature"
   ],
   "window_display": false
  }
 },
 "nbformat": 4,
 "nbformat_minor": 4
}
