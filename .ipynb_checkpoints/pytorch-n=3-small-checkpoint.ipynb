{
 "cells": [
  {
   "cell_type": "code",
   "execution_count": 1,
   "metadata": {
    "ExecuteTime": {
     "end_time": "2021-05-12T12:29:08.543232Z",
     "start_time": "2021-05-12T12:29:07.378980Z"
    }
   },
   "outputs": [
    {
     "name": "stdout",
     "output_type": "stream",
     "text": [
      "pygame 2.0.1 (SDL 2.0.14, Python 3.8.3)\n",
      "Hello from the pygame community. https://www.pygame.org/contribute.html\n"
     ]
    },
    {
     "name": "stderr",
     "output_type": "stream",
     "text": [
      "D:\\ComputerSoftwares\\Anaconda\\lib\\site-packages\\sklearn\\utils\\deprecation.py:143: FutureWarning: The sklearn.datasets.samples_generator module is  deprecated in version 0.22 and will be removed in version 0.24. The corresponding classes / functions should instead be imported from sklearn.datasets. Anything that cannot be imported from sklearn.datasets is now part of the private API.\n",
      "  warnings.warn(message, FutureWarning)\n"
     ]
    }
   ],
   "source": [
    "\"\"\"\n",
    "The classic game of flappy bird. Make with python\n",
    "and pygame. Features pixel perfect collision using masks :o\n",
    "Date Modified:  Jul 30, 2019\n",
    "Author: Tech With Tim\n",
    "Estimated Work Time: 5 hours (1 just for that damn collision)\n",
    "\"\"\"\n",
    "import pygame\n",
    "import random\n",
    "import os\n",
    "import time\n",
    "import numpy as np\n",
    "import math\n",
    "import torch\n",
    "import torch.nn.functional\n",
    "import matplotlib.pyplot as plt\n",
    "import torch.optim as opt\n",
    "from torch.autograd import Variable\n",
    "from sklearn.model_selection import train_test_split\n",
    "\n",
    "import scipy.stats as st\n",
    "from sklearn.datasets.samples_generator import make_blobs\n",
    "from matplotlib.colors import LogNorm \n",
    "import matplotlib.cm as cm"
   ]
  },
  {
   "cell_type": "code",
   "execution_count": 2,
   "metadata": {
    "ExecuteTime": {
     "end_time": "2021-05-12T12:29:09.327275Z",
     "start_time": "2021-05-12T12:29:08.544234Z"
    }
   },
   "outputs": [],
   "source": [
    "Agent_number_n=3;\n",
    "Alpha = 0.5 #(1-0.667);\n",
    "\n",
    "global temp_list\n",
    "temp_list = []\n",
    "def appen(_x_list,y):\n",
    "    global temp_list\n",
    "    temp_list.append(_x_list)\n",
    "    \n",
    "def appen_train(x_list):\n",
    "    global temp_list\n",
    "                \n",
    "    S= max(sum(x_list),1.0);\n",
    "    temp_list = []\n",
    "    \n",
    "    for i in range(Agent_number_n):\n",
    "        temp = []\n",
    "        for j in range(Agent_number_n):\n",
    "            if(i!=j):\n",
    "                temp.append(x_list[j])\n",
    "        appen(temp,S)\n",
    "    \n",
    "    training_data.append(temp_list)\n",
    "    training_label.append(S)\n",
    "    \n",
    "\n",
    "def read_training_data():\n",
    "    for i in range(50000):\n",
    "        appen_train(np.random.rand(Agent_number_n));\n",
    "\n",
    "training_data=[]\n",
    "training_label=[]\n",
    "S=1.0\n",
    "read_training_data();\n",
    "\n",
    "def appen_test(x_list):\n",
    "    global temp_list\n",
    "                \n",
    "    S= max(sum(x_list),1.0);\n",
    "    temp_list = []\n",
    "    \n",
    "    for i in range(Agent_number_n):\n",
    "        temp = []\n",
    "        for j in range(Agent_number_n):\n",
    "            if(i!=j):\n",
    "                temp.append(x_list[j])\n",
    "        appen(temp,S)\n",
    "    testing_data.append(temp_list)\n",
    "    testing_label.append(S)\n",
    "    \n",
    "\n",
    "def read_testing_data():\n",
    "#     devided=20\n",
    "#     for i1 in range(devided+1):\n",
    "#         for i2 in range(i1+1):\n",
    "#             for i3 in range(i2+1):\n",
    "#                 appen_test(i1/devided,i2/devided,i3/devided);\n",
    "    for i in range(50000):\n",
    "        appen_test(np.random.rand(Agent_number_n));\n",
    "                            \n",
    "\n",
    "testing_data=[]\n",
    "testing_label=[]\n",
    "S=1.0\n",
    "read_testing_data();"
   ]
  },
  {
   "cell_type": "code",
   "execution_count": 3,
   "metadata": {
    "ExecuteTime": {
     "end_time": "2021-05-12T12:29:09.704274Z",
     "start_time": "2021-05-12T12:29:09.327275Z"
    }
   },
   "outputs": [
    {
     "name": "stdout",
     "output_type": "stream",
     "text": [
      "[[[0.15829183 0.08045844]\n",
      "  [0.6767061  0.08045844]\n",
      "  [0.6767061  0.15829183]]\n",
      "\n",
      " [[0.50300018 0.04430918]\n",
      "  [0.06065732 0.04430918]\n",
      "  [0.06065732 0.50300018]]\n",
      "\n",
      " [[0.14360769 0.17453685]\n",
      "  [0.71343879 0.17453685]\n",
      "  [0.71343879 0.14360769]]\n",
      "\n",
      " ...\n",
      "\n",
      " [[0.0585099  0.88597479]\n",
      "  [0.41193737 0.88597479]\n",
      "  [0.41193737 0.0585099 ]]\n",
      "\n",
      " [[0.30064563 0.80281359]\n",
      "  [0.91397678 0.80281359]\n",
      "  [0.91397678 0.30064563]]\n",
      "\n",
      " [[0.57628242 0.8268775 ]\n",
      "  [0.68362976 0.8268775 ]\n",
      "  [0.68362976 0.57628242]]]\n",
      "[[[0.39709984 0.59733295]\n",
      "  [0.72712116 0.59733295]\n",
      "  [0.72712116 0.39709984]]\n",
      "\n",
      " [[0.47716049 0.09269976]\n",
      "  [0.92940415 0.09269976]\n",
      "  [0.92940415 0.47716049]]\n",
      "\n",
      " [[0.02911679 0.32815498]\n",
      "  [0.67296496 0.32815498]\n",
      "  [0.67296496 0.02911679]]\n",
      "\n",
      " ...\n",
      "\n",
      " [[0.04772059 0.67619233]\n",
      "  [0.47778121 0.67619233]\n",
      "  [0.47778121 0.04772059]]\n",
      "\n",
      " [[0.71737912 0.75352184]\n",
      "  [0.31060507 0.75352184]\n",
      "  [0.31060507 0.71737912]]\n",
      "\n",
      " [[0.25036379 0.59003904]\n",
      "  [0.92662313 0.59003904]\n",
      "  [0.92662313 0.25036379]]]\n",
      "[1.         1.         1.03158333 ... 1.35642206 2.017436   2.08678968]\n",
      "[1.72155395 1.4992644  1.03023673 ... 1.20169413 1.78150603 1.76702595]\n"
     ]
    }
   ],
   "source": [
    "training_data=np.array(training_data)\n",
    "training_label=np.array(training_label)\n",
    "testing_data=np.array(testing_data)\n",
    "testing_label=np.array(testing_label)\n",
    "print(training_data)\n",
    "print(testing_data)\n",
    "print(training_label)\n",
    "print(testing_label)"
   ]
  },
  {
   "cell_type": "code",
   "execution_count": 4,
   "metadata": {
    "ExecuteTime": {
     "end_time": "2021-05-12T12:29:10.178234Z",
     "start_time": "2021-05-12T12:29:09.705237Z"
    }
   },
   "outputs": [
    {
     "name": "stdout",
     "output_type": "stream",
     "text": [
      "cuda:0\n"
     ]
    }
   ],
   "source": [
    "if torch.cuda.is_available():  \n",
    "    dev = \"cuda:0\" \n",
    "else:  \n",
    "    dev = \"cpu\"  \n",
    "\n",
    "print(dev)\n"
   ]
  },
  {
   "cell_type": "code",
   "execution_count": 5,
   "metadata": {
    "ExecuteTime": {
     "end_time": "2021-05-12T12:29:10.194099Z",
     "start_time": "2021-05-12T12:29:10.178984Z"
    },
    "run_control": {
     "marked": true
    }
   },
   "outputs": [],
   "source": [
    "def weight_init(m):\n",
    "    if isinstance(m, torch.nn.Conv2d):\n",
    "        torch.nn.init.xavier_normal_(m.weight, gain=nn.init.calculate_gain('relu'))\n",
    "        torch.nn.init.zeros_(m.bias)\n",
    "    elif isinstance(m, torch.nn.Linear):\n",
    "        torch.nn.init.xavier_normal_(m.weight)\n",
    "        torch.nn.init.zeros_(m.bias)\n",
    "        \n",
    "\n",
    "class Net(torch.nn.Module):\n",
    "    def __init__(self):\n",
    "\n",
    "        super(Net, self).__init__()\n",
    "\n",
    "        num_input = Agent_number_n-1\n",
    "        num_hidden = 10\n",
    "        num_output = 1\n",
    "\n",
    "        self.hidden_0 = torch.nn.Linear(num_input, num_hidden)\n",
    "        self.hidden_1 = torch.nn.Linear(num_hidden, num_hidden)\n",
    "        self.output_allocation = torch.nn.Linear(num_hidden, num_output)\n",
    "\n",
    "    def calculate(self, value_list):\n",
    "        h1 = torch.relu_(self.hidden_0(value_list))\n",
    "        h2 = torch.relu_(self.hidden_1(h1))\n",
    "        h = torch.relu(self.output_allocation(h2))\n",
    "        return h\n",
    "\n",
    "    def forward(self, input_list,input_label):\n",
    "        global iteration,echo\n",
    "        loss1 = 0\n",
    "        loss2 = 0\n",
    "        input_list = torch.from_numpy(\n",
    "            np.array(input_list)).cuda().type(torch.float32)\n",
    "        h_list = []\n",
    "        for i in range(Agent_number_n):\n",
    "            h = self.calculate(input_list[i])\n",
    "            h_list.append(h)\n",
    "        \n",
    "        input_label = torch.from_numpy(\n",
    "            np.array(input_label)).cuda().type(torch.float32)\n",
    "        sum_h = torch.sum(torch.cat(h_list)).cuda()\n",
    "        \n",
    "        \n",
    "        loss1 = torch.where((Agent_number_n-1)*input_label>sum_h,\n",
    "                        torch.square((Agent_number_n-1)*input_label-sum_h),\n",
    "                        torch.zeros(1).cuda()\n",
    "                      )\n",
    "\n",
    "        loss2 = torch.where((Agent_number_n-Alpha)*input_label<sum_h,\n",
    "                        torch.square(sum_h-(Agent_number_n-Alpha)*input_label),\n",
    "                        torch.zeros(1).cuda()\n",
    "                      )\n",
    "                      \n",
    "\n",
    "        return loss1,loss2,h_list"
   ]
  },
  {
   "cell_type": "code",
   "execution_count": 6,
   "metadata": {
    "ExecuteTime": {
     "end_time": "2021-05-12T12:29:11.308676Z",
     "start_time": "2021-05-12T12:29:10.194867Z"
    }
   },
   "outputs": [
    {
     "data": {
      "text/plain": [
       "Net(\n",
       "  (hidden_0): Linear(in_features=2, out_features=10, bias=True)\n",
       "  (hidden_1): Linear(in_features=10, out_features=10, bias=True)\n",
       "  (output_allocation): Linear(in_features=10, out_features=1, bias=True)\n",
       ")"
      ]
     },
     "execution_count": 6,
     "metadata": {},
     "output_type": "execute_result"
    }
   ],
   "source": [
    "random.seed(2000)\n",
    "torch.manual_seed(256)\n",
    "net  = Net()\n",
    "net.apply(weight_init)\n",
    "\n",
    "net = torch.load(\"save/Deep_learning_small_3\")\n",
    "net.to(dev)"
   ]
  },
  {
   "cell_type": "code",
   "execution_count": 7,
   "metadata": {
    "ExecuteTime": {
     "end_time": "2021-05-12T12:29:11.323930Z",
     "start_time": "2021-05-12T12:29:11.311639Z"
    },
    "run_control": {
     "marked": true
    }
   },
   "outputs": [],
   "source": [
    "#optimizer = opt.RMSprop(net.parameters(), lr=0.00001)\n",
    "#optimizer = opt.SGD(net.parameters(), lr=0.00001)\n",
    "optimizer = opt.Adam(net.parameters(), lr=0.00005)\n",
    "\n",
    "batch_size = 64\n",
    "echo = 5"
   ]
  },
  {
   "cell_type": "code",
   "execution_count": 8,
   "metadata": {
    "ExecuteTime": {
     "end_time": "2021-05-12T12:37:41.708324Z",
     "start_time": "2021-05-12T12:29:11.324912Z"
    }
   },
   "outputs": [
    {
     "name": "stdout",
     "output_type": "stream",
     "text": [
      "3024 tensor([0.0005], device='cuda:0', grad_fn=<DivBackward0>) 0.010361728258430958 0.02106577530503273\n",
      "4347 tensor([0.0026], device='cuda:0', grad_fn=<DivBackward0>) 0.1677761822938919 0.001128654577769339\n",
      "8883 tensor([0.0009], device='cuda:0', grad_fn=<DivBackward0>) 0.041588302701711655 0.01622765138745308\n",
      "13104 tensor([0.0002], device='cuda:0', grad_fn=<DivBackward0>) 0.0030365840066224337 0.012516188435256481\n",
      "16128 tensor([0.0004], device='cuda:0', grad_fn=<DivBackward0>) 0.024984732270240784 0.002889821771532297\n",
      "25011 tensor([0.0010], device='cuda:0', grad_fn=<DivBackward0>) 0.03103424422442913 0.03019488975405693\n",
      "35091 tensor([0.0030], device='cuda:0', grad_fn=<DivBackward0>) 0.16176633536815643 0.031003259122371674\n",
      "36351 tensor([0.0004], device='cuda:0', grad_fn=<DivBackward0>) 0.019604820758104324 0.003929955419152975\n",
      "36666 tensor([0.0052], device='cuda:0', grad_fn=<DivBackward0>) 0.3148651421070099 0.02094942331314087\n",
      "batch iteration 0\n",
      "batch_loss: 0.00 \n",
      "\n",
      "\n",
      "5985 tensor([0.0001], device='cuda:0', grad_fn=<DivBackward0>) 0.00207904982380569 0.005829159636050463\n",
      "18081 tensor([0.0008], device='cuda:0', grad_fn=<DivBackward0>) 0.030436009168624878 0.022036448121070862\n",
      "18144 tensor([0.0016], device='cuda:0', grad_fn=<DivBackward0>) 0.09481567144393921 0.0063442662358284\n",
      "29988 tensor([0.0011], device='cuda:0', grad_fn=<DivBackward0>) 0.04377096891403198 0.02582463063299656\n",
      "32004 tensor([0.0002], device='cuda:0', grad_fn=<DivBackward0>) 0.008879407308995724 0.0007653635693714023\n",
      "35658 tensor([0.0004], device='cuda:0', grad_fn=<DivBackward0>) 0.0003118637250736356 0.023421894758939743\n",
      "35847 tensor([0.0013], device='cuda:0', grad_fn=<DivBackward0>) 0.052679602056741714 0.0296334121376276\n",
      "44856 tensor([0.0020], device='cuda:0', grad_fn=<DivBackward0>) 0.08504418283700943 0.041673291474580765\n",
      "batch iteration 1\n",
      "batch_loss: 0.00 \n",
      "\n",
      "\n",
      "4032 tensor([0.0016], device='cuda:0', grad_fn=<DivBackward0>) 0.08223007619380951 0.019906703382730484\n",
      "7371 tensor([0.0012], device='cuda:0', grad_fn=<DivBackward0>) 0.05637161433696747 0.018368780612945557\n",
      "9450 tensor([0.0017], device='cuda:0', grad_fn=<DivBackward0>) 0.1100618913769722 0.00103804434183985\n",
      "15687 tensor([0.0001], device='cuda:0', grad_fn=<DivBackward0>) 5.919405884924345e-05 0.006637754384428263\n",
      "17451 tensor([0.0003], device='cuda:0', grad_fn=<DivBackward0>) 0.0 0.016535960137844086\n",
      "23247 tensor([0.0001], device='cuda:0', grad_fn=<DivBackward0>) 0.0004967486602254212 0.00788219552487135\n",
      "28287 tensor([0.0003], device='cuda:0', grad_fn=<DivBackward0>) 0.011437304317951202 0.004591468255966902\n",
      "37926 tensor([0.0002], device='cuda:0', grad_fn=<DivBackward0>) 0.0024520105216652155 0.01133327279239893\n",
      "45045 tensor([0.0001], device='cuda:0', grad_fn=<DivBackward0>) 0.0026644340250641108 0.004180992022156715\n",
      "batch iteration 2\n",
      "batch_loss: 0.00 \n",
      "\n",
      "\n",
      "693 tensor([0.0002], device='cuda:0', grad_fn=<DivBackward0>) 0.004598591942340136 0.006904065143316984\n",
      "11844 tensor([0.0021], device='cuda:0', grad_fn=<DivBackward0>) 0.1085820123553276 0.02262650616466999\n",
      "21420 tensor([3.1571e-05], device='cuda:0', grad_fn=<DivBackward0>) 0.0 0.002020574640482664\n",
      "36288 tensor([9.0609e-05], device='cuda:0', grad_fn=<DivBackward0>) 0.0008185029728338122 0.0049804504960775375\n",
      "47691 tensor([0.0002], device='cuda:0', grad_fn=<DivBackward0>) 0.01599307917058468 1.4210854715202004e-12\n",
      "batch iteration 3\n",
      "batch_loss: 0.00 \n",
      "\n",
      "\n",
      "9702 tensor([9.9611e-05], device='cuda:0', grad_fn=<DivBackward0>) 0.0012620146153494716 0.005113061983138323\n",
      "17640 tensor([9.6540e-05], device='cuda:0', grad_fn=<DivBackward0>) 0.0016026683151721954 0.004575860686600208\n",
      "18396 tensor([9.2536e-05], device='cuda:0', grad_fn=<DivBackward0>) 0.0014652122044935822 0.004457063507288694\n",
      "18459 tensor([0.0005], device='cuda:0', grad_fn=<DivBackward0>) 0.0234355628490448 0.009696015156805515\n",
      "23373 tensor([0.0003], device='cuda:0', grad_fn=<DivBackward0>) 7.705914322286844e-05 0.021992217749357224\n",
      "41769 tensor([0.0001], device='cuda:0', grad_fn=<DivBackward0>) 0.0052952817641198635 0.004250735975801945\n",
      "batch iteration 4\n",
      "batch_loss: 0.00 \n",
      "\n",
      "\n"
     ]
    }
   ],
   "source": [
    "for iteration in range(int(echo)):\n",
    "    # offender_types = []\n",
    "    # defender_types = []\n",
    "    \n",
    "    \n",
    "    X_train_list = []\n",
    "    temp_number = 0\n",
    "    total_batch_loss = 0 \n",
    "    while(temp_number<len(training_data)-1):\n",
    "        loss2_list = []\n",
    "        loss1_sum = 0\n",
    "        loss2_sum = 0\n",
    "        denominator = 0\n",
    "        for index in range(temp_number, min(batch_size+temp_number,len(training_data))):\n",
    "            h_loss1,h_loss2,h_list = net(training_data[index],training_label[index])\n",
    "            denominator += 1\n",
    "            loss1_sum += h_loss1\n",
    "            loss2_sum += h_loss2\n",
    "            \n",
    "        loss_sum = loss1_sum + loss2_sum\n",
    "        loss = (loss_sum) / denominator \n",
    "        total_batch_loss +=float(loss_sum)\n",
    "        optimizer.zero_grad()\n",
    "        \n",
    "        loss.backward()\n",
    "        \n",
    "        optimizer.step()\n",
    "        \n",
    "        temp_number = index\n",
    "        \n",
    "        if(random.random()<=0.01):\n",
    "            print(temp_number,loss,float(loss1_sum),float(loss2_sum))\n",
    "\n",
    "\n",
    "    print(\"batch iteration\", iteration)\n",
    "    print(\"batch_loss: %.2f \" % (total_batch_loss/len(training_data)))\n",
    "    \n",
    "    print()\n",
    "    print()"
   ]
  },
  {
   "cell_type": "code",
   "execution_count": 9,
   "metadata": {
    "ExecuteTime": {
     "end_time": "2021-05-12T12:37:41.724324Z",
     "start_time": "2021-05-12T12:37:41.709322Z"
    }
   },
   "outputs": [],
   "source": [
    "torch.save(net, \"save/Deep_learning_small_3\")"
   ]
  },
  {
   "cell_type": "code",
   "execution_count": 10,
   "metadata": {
    "ExecuteTime": {
     "end_time": "2021-05-12T12:38:37.068211Z",
     "start_time": "2021-05-12T12:37:41.725319Z"
    }
   },
   "outputs": [],
   "source": [
    "denominator = 0\n",
    "result_list = []\n",
    "for index in range(len(testing_data)):\n",
    "    h_list = []\n",
    "    for i in range(Agent_number_n):\n",
    "        h = net.calculate(torch.tensor(testing_data[index][i]).cuda().type(torch.float32))\n",
    "        h_list.append(float(h))\n",
    "    \n",
    "    #print(sum(h_list),h_list,sum(h_list)/testing_label[index])\n",
    "    result_list.append(sum(h_list)/testing_label[index])\n",
    "    \n",
    "\n"
   ]
  },
  {
   "cell_type": "code",
   "execution_count": 11,
   "metadata": {
    "ExecuteTime": {
     "end_time": "2021-05-12T12:38:37.084134Z",
     "start_time": "2021-05-12T12:38:37.069174Z"
    }
   },
   "outputs": [
    {
     "name": "stdout",
     "output_type": "stream",
     "text": [
      "2.7020063996315002 1.5890969038009644 1.1129094958305359\n"
     ]
    }
   ],
   "source": [
    "print(max(result_list),min(result_list),max(result_list)-min(result_list))"
   ]
  },
  {
   "cell_type": "code",
   "execution_count": 12,
   "metadata": {
    "ExecuteTime": {
     "end_time": "2021-05-12T12:38:38.281712Z",
     "start_time": "2021-05-12T12:38:37.086129Z"
    }
   },
   "outputs": [
    {
     "data": {
      "image/png": "[encoded data removed]",
      "text/plain": [
       "<Figure size 432x288 with 1 Axes>"
      ]
     },
     "metadata": {
      "needs_background": "light"
     },
     "output_type": "display_data"
    }
   ],
   "source": [
    "plt.hist(result_list,bins=500)\n",
    "\n",
    "plt.title(\"Means\", y=1.015, fontsize=20)\n",
    "plt.axvline(x=sum(result_list)/len(result_list), linestyle='--', linewidth=2.5, label=\"sample mean\", c='orange')\n",
    "plt.xlabel(\"samples\", labelpad=14)\n",
    "plt.ylabel(\"frequency of occurence\", labelpad=14)\n",
    "plt.legend();\n",
    "\n",
    "result_list.sort()\n",
    "\n",
    "plt.axvline(x=result_list[int(len(result_list)*0.001)], linestyle='--', linewidth=0.5, label=\"0.1%\", c='b')\n",
    "plt.axvline(x=result_list[int(len(result_list)*0.999)], linestyle='--', linewidth=0.5, label=\"99%\", c='r')\n",
    "\n",
    "\n",
    "plt.show()"
   ]
  },
  {
   "cell_type": "code",
   "execution_count": 13,
   "metadata": {
    "ExecuteTime": {
     "end_time": "2021-05-12T12:38:38.296670Z",
     "start_time": "2021-05-12T12:38:38.283705Z"
    }
   },
   "outputs": [],
   "source": [
    "from torchsummary import summary"
   ]
  },
  {
   "cell_type": "code",
   "execution_count": 14,
   "metadata": {
    "ExecuteTime": {
     "end_time": "2021-05-12T12:38:38.311629Z",
     "start_time": "2021-05-12T12:38:38.297671Z"
    },
    "run_control": {
     "marked": true
    }
   },
   "outputs": [],
   "source": [
    "#summary( net(training_data[index],training_label[index]),input_size=(2))"
   ]
  },
  {
   "cell_type": "code",
   "execution_count": null,
   "metadata": {},
   "outputs": [],
   "source": []
  }
 ],
 "metadata": {
  "hide_input": false,
  "kernelspec": {
   "display_name": "Python 3",
   "language": "python",
   "name": "python3"
  },
  "language_info": {
   "codemirror_mode": {
    "name": "ipython",
    "version": 3
   },
   "file_extension": ".py",
   "mimetype": "text/x-python",
   "name": "python",
   "nbconvert_exporter": "python",
   "pygments_lexer": "ipython3",
   "version": "3.8.3"
  },
  "varInspector": {
   "cols": {
    "lenName": 16,
    "lenType": 16,
    "lenVar": 40
   },
   "kernels_config": {
    "python": {
     "delete_cmd_postfix": "",
     "delete_cmd_prefix": "del ",
     "library": "var_list.py",
     "varRefreshCmd": "print(var_dic_list())"
    },
    "r": {
     "delete_cmd_postfix": ") ",
     "delete_cmd_prefix": "rm(",
     "library": "var_list.r",
     "varRefreshCmd": "cat(var_dic_list()) "
    }
   },
   "types_to_exclude": [
    "module",
    "function",
    "builtin_function_or_method",
    "instance",
    "_Feature"
   ],
   "window_display": false
  }
 },
 "nbformat": 4,
 "nbformat_minor": 4
}
