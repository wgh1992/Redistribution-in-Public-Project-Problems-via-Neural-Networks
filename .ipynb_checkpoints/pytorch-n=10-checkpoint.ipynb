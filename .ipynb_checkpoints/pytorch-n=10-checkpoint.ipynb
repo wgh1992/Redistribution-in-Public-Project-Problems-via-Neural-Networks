{
 "cells": [
  {
   "cell_type": "code",
   "execution_count": 1,
   "metadata": {
    "ExecuteTime": {
     "end_time": "2021-05-12T05:35:45.713321Z",
     "start_time": "2021-05-12T05:35:44.351130Z"
    }
   },
   "outputs": [
    {
     "name": "stdout",
     "output_type": "stream",
     "text": [
      "pygame 2.0.1 (SDL 2.0.14, Python 3.8.3)\n",
      "Hello from the pygame community. https://www.pygame.org/contribute.html\n"
     ]
    },
    {
     "name": "stderr",
     "output_type": "stream",
     "text": [
      "D:\\ComputerSoftwares\\Anaconda\\lib\\site-packages\\sklearn\\utils\\deprecation.py:143: FutureWarning: The sklearn.datasets.samples_generator module is  deprecated in version 0.22 and will be removed in version 0.24. The corresponding classes / functions should instead be imported from sklearn.datasets. Anything that cannot be imported from sklearn.datasets is now part of the private API.\n",
      "  warnings.warn(message, FutureWarning)\n"
     ]
    }
   ],
   "source": [
    "\"\"\"\n",
    "The classic game of flappy bird. Make with python\n",
    "and pygame. Features pixel perfect collision using masks :o\n",
    "Date Modified:  Jul 30, 2019\n",
    "Author: Tech With Tim\n",
    "Estimated Work Time: 5 hours (1 just for that damn collision)\n",
    "\"\"\"\n",
    "import pygame\n",
    "import random\n",
    "import os\n",
    "import time\n",
    "import numpy as np\n",
    "import math\n",
    "import torch\n",
    "import torch.nn.functional\n",
    "import matplotlib.pyplot as plt\n",
    "import torch.optim as opt\n",
    "from torch.autograd import Variable\n",
    "from sklearn.model_selection import train_test_split\n",
    "\n",
    "import scipy.stats as st\n",
    "from sklearn.datasets.samples_generator import make_blobs\n",
    "from matplotlib.colors import LogNorm \n",
    "import matplotlib.cm as cm"
   ]
  },
  {
   "cell_type": "code",
   "execution_count": 2,
   "metadata": {
    "ExecuteTime": {
     "end_time": "2021-05-12T05:35:46.329110Z",
     "start_time": "2021-05-12T05:35:45.715019Z"
    }
   },
   "outputs": [],
   "source": [
    "Agent_number_n=10;\n",
    "Alpha = (1-0.882);\n",
    "\n",
    "global temp_list\n",
    "temp_list = []\n",
    "def appen(_x_list,y):\n",
    "    global temp_list\n",
    "    temp_list.append(_x_list)\n",
    "    \n",
    "def appen_train(x_list):\n",
    "    global temp_list\n",
    "                \n",
    "    S= max(sum(x_list),1.0);\n",
    "    temp_list = []\n",
    "    \n",
    "    for i in range(Agent_number_n):\n",
    "        temp = []\n",
    "        for j in range(Agent_number_n):\n",
    "            if(i!=j):\n",
    "                temp.append(x_list[j])\n",
    "        appen(temp,S)\n",
    "    \n",
    "    training_data.append(temp_list)\n",
    "    training_label.append(S)\n",
    "    \n",
    "\n",
    "def read_training_data():\n",
    "    for i in range(10000):\n",
    "        appen_train(np.random.rand(Agent_number_n));\n",
    "\n",
    "training_data=[]\n",
    "training_label=[]\n",
    "S=1.0\n",
    "read_training_data();\n",
    "\n",
    "def appen_test(x_list):\n",
    "    global temp_list\n",
    "                \n",
    "    S= max(sum(x_list),1.0);\n",
    "    temp_list = []\n",
    "    \n",
    "    for i in range(Agent_number_n):\n",
    "        temp = []\n",
    "        for j in range(Agent_number_n):\n",
    "            if(i!=j):\n",
    "                temp.append(x_list[j])\n",
    "        appen(temp,S)\n",
    "    testing_data.append(temp_list)\n",
    "    testing_label.append(S)\n",
    "    \n",
    "\n",
    "def read_testing_data():\n",
    "#     devided=20\n",
    "#     for i1 in range(devided+1):\n",
    "#         for i2 in range(i1+1):\n",
    "#             for i3 in range(i2+1):\n",
    "#                 appen_test(i1/devided,i2/devided,i3/devided);\n",
    "    for i in range(10000):\n",
    "        appen_test(np.random.rand(Agent_number_n));\n",
    "                            \n",
    "\n",
    "testing_data=[]\n",
    "testing_label=[]\n",
    "S=1.0\n",
    "read_testing_data();"
   ]
  },
  {
   "cell_type": "code",
   "execution_count": 3,
   "metadata": {
    "ExecuteTime": {
     "end_time": "2021-05-12T05:35:46.703164Z",
     "start_time": "2021-05-12T05:35:46.332146Z"
    }
   },
   "outputs": [
    {
     "name": "stdout",
     "output_type": "stream",
     "text": [
      "[[[0.74884657 0.84148508 0.08715531 ... 0.372788   0.16363437 0.66886469]\n",
      "  [0.07950302 0.84148508 0.08715531 ... 0.372788   0.16363437 0.66886469]\n",
      "  [0.07950302 0.74884657 0.08715531 ... 0.372788   0.16363437 0.66886469]\n",
      "  ...\n",
      "  [0.07950302 0.74884657 0.84148508 ... 0.96747547 0.16363437 0.66886469]\n",
      "  [0.07950302 0.74884657 0.84148508 ... 0.96747547 0.372788   0.66886469]\n",
      "  [0.07950302 0.74884657 0.84148508 ... 0.96747547 0.372788   0.16363437]]\n",
      "\n",
      " [[0.36746967 0.22376082 0.77738123 ... 0.08056694 0.88764149 0.92682851]\n",
      "  [0.38237256 0.22376082 0.77738123 ... 0.08056694 0.88764149 0.92682851]\n",
      "  [0.38237256 0.36746967 0.77738123 ... 0.08056694 0.88764149 0.92682851]\n",
      "  ...\n",
      "  [0.38237256 0.36746967 0.22376082 ... 0.98302191 0.88764149 0.92682851]\n",
      "  [0.38237256 0.36746967 0.22376082 ... 0.98302191 0.08056694 0.92682851]\n",
      "  [0.38237256 0.36746967 0.22376082 ... 0.98302191 0.08056694 0.88764149]]\n",
      "\n",
      " [[0.33454368 0.3148424  0.62788498 ... 0.90644084 0.7290862  0.5525316 ]\n",
      "  [0.36633888 0.3148424  0.62788498 ... 0.90644084 0.7290862  0.5525316 ]\n",
      "  [0.36633888 0.33454368 0.62788498 ... 0.90644084 0.7290862  0.5525316 ]\n",
      "  ...\n",
      "  [0.36633888 0.33454368 0.3148424  ... 0.75262475 0.7290862  0.5525316 ]\n",
      "  [0.36633888 0.33454368 0.3148424  ... 0.75262475 0.90644084 0.5525316 ]\n",
      "  [0.36633888 0.33454368 0.3148424  ... 0.75262475 0.90644084 0.7290862 ]]\n",
      "\n",
      " ...\n",
      "\n",
      " [[0.61506338 0.19595815 0.95932765 ... 0.79851926 0.41548546 0.97476546]\n",
      "  [0.41343465 0.19595815 0.95932765 ... 0.79851926 0.41548546 0.97476546]\n",
      "  [0.41343465 0.61506338 0.95932765 ... 0.79851926 0.41548546 0.97476546]\n",
      "  ...\n",
      "  [0.41343465 0.61506338 0.19595815 ... 0.62516759 0.41548546 0.97476546]\n",
      "  [0.41343465 0.61506338 0.19595815 ... 0.62516759 0.79851926 0.97476546]\n",
      "  [0.41343465 0.61506338 0.19595815 ... 0.62516759 0.79851926 0.41548546]]\n",
      "\n",
      " [[0.38474473 0.49149025 0.25961055 ... 0.12330787 0.24713005 0.75893326]\n",
      "  [0.70612945 0.49149025 0.25961055 ... 0.12330787 0.24713005 0.75893326]\n",
      "  [0.70612945 0.38474473 0.25961055 ... 0.12330787 0.24713005 0.75893326]\n",
      "  ...\n",
      "  [0.70612945 0.38474473 0.49149025 ... 0.30677957 0.24713005 0.75893326]\n",
      "  [0.70612945 0.38474473 0.49149025 ... 0.30677957 0.12330787 0.75893326]\n",
      "  [0.70612945 0.38474473 0.49149025 ... 0.30677957 0.12330787 0.24713005]]\n",
      "\n",
      " [[0.36294646 0.33925136 0.61579636 ... 0.97970915 0.71117606 0.6453303 ]\n",
      "  [0.1813919  0.33925136 0.61579636 ... 0.97970915 0.71117606 0.6453303 ]\n",
      "  [0.1813919  0.36294646 0.61579636 ... 0.97970915 0.71117606 0.6453303 ]\n",
      "  ...\n",
      "  [0.1813919  0.36294646 0.33925136 ... 0.72204506 0.71117606 0.6453303 ]\n",
      "  [0.1813919  0.36294646 0.33925136 ... 0.72204506 0.97970915 0.6453303 ]\n",
      "  [0.1813919  0.36294646 0.33925136 ... 0.72204506 0.97970915 0.71117606]]]\n",
      "[[[0.45064317 0.58128918 0.23160864 ... 0.50643753 0.21168478 0.2302483 ]\n",
      "  [0.18052294 0.58128918 0.23160864 ... 0.50643753 0.21168478 0.2302483 ]\n",
      "  [0.18052294 0.45064317 0.23160864 ... 0.50643753 0.21168478 0.2302483 ]\n",
      "  ...\n",
      "  [0.18052294 0.45064317 0.58128918 ... 0.88077007 0.21168478 0.2302483 ]\n",
      "  [0.18052294 0.45064317 0.58128918 ... 0.88077007 0.50643753 0.2302483 ]\n",
      "  [0.18052294 0.45064317 0.58128918 ... 0.88077007 0.50643753 0.21168478]]\n",
      "\n",
      " [[0.63696705 0.77504553 0.40287426 ... 0.81692736 0.49165112 0.75316675]\n",
      "  [0.01739939 0.77504553 0.40287426 ... 0.81692736 0.49165112 0.75316675]\n",
      "  [0.01739939 0.63696705 0.40287426 ... 0.81692736 0.49165112 0.75316675]\n",
      "  ...\n",
      "  [0.01739939 0.63696705 0.77504553 ... 0.68312    0.49165112 0.75316675]\n",
      "  [0.01739939 0.63696705 0.77504553 ... 0.68312    0.81692736 0.75316675]\n",
      "  [0.01739939 0.63696705 0.77504553 ... 0.68312    0.81692736 0.49165112]]\n",
      "\n",
      " [[0.08185598 0.56812831 0.22970198 ... 0.33025298 0.67655584 0.30496173]\n",
      "  [0.59938068 0.56812831 0.22970198 ... 0.33025298 0.67655584 0.30496173]\n",
      "  [0.59938068 0.08185598 0.22970198 ... 0.33025298 0.67655584 0.30496173]\n",
      "  ...\n",
      "  [0.59938068 0.08185598 0.56812831 ... 0.65723965 0.67655584 0.30496173]\n",
      "  [0.59938068 0.08185598 0.56812831 ... 0.65723965 0.33025298 0.30496173]\n",
      "  [0.59938068 0.08185598 0.56812831 ... 0.65723965 0.33025298 0.67655584]]\n",
      "\n",
      " ...\n",
      "\n",
      " [[0.54650696 0.09961905 0.70319099 ... 0.80178862 0.32125873 0.36574699]\n",
      "  [0.44740767 0.09961905 0.70319099 ... 0.80178862 0.32125873 0.36574699]\n",
      "  [0.44740767 0.54650696 0.70319099 ... 0.80178862 0.32125873 0.36574699]\n",
      "  ...\n",
      "  [0.44740767 0.54650696 0.09961905 ... 0.18046685 0.32125873 0.36574699]\n",
      "  [0.44740767 0.54650696 0.09961905 ... 0.18046685 0.80178862 0.36574699]\n",
      "  [0.44740767 0.54650696 0.09961905 ... 0.18046685 0.80178862 0.32125873]]\n",
      "\n",
      " [[0.90755861 0.46189854 0.49490414 ... 0.50991825 0.16097443 0.53707512]\n",
      "  [0.81951291 0.46189854 0.49490414 ... 0.50991825 0.16097443 0.53707512]\n",
      "  [0.81951291 0.90755861 0.49490414 ... 0.50991825 0.16097443 0.53707512]\n",
      "  ...\n",
      "  [0.81951291 0.90755861 0.46189854 ... 0.04710433 0.16097443 0.53707512]\n",
      "  [0.81951291 0.90755861 0.46189854 ... 0.04710433 0.50991825 0.53707512]\n",
      "  [0.81951291 0.90755861 0.46189854 ... 0.04710433 0.50991825 0.16097443]]\n",
      "\n",
      " [[0.25111593 0.4214135  0.7684598  ... 0.03684239 0.28518144 0.38577103]\n",
      "  [0.0110232  0.4214135  0.7684598  ... 0.03684239 0.28518144 0.38577103]\n",
      "  [0.0110232  0.25111593 0.7684598  ... 0.03684239 0.28518144 0.38577103]\n",
      "  ...\n",
      "  [0.0110232  0.25111593 0.4214135  ... 0.48278361 0.28518144 0.38577103]\n",
      "  [0.0110232  0.25111593 0.4214135  ... 0.48278361 0.03684239 0.38577103]\n",
      "  [0.0110232  0.25111593 0.4214135  ... 0.48278361 0.03684239 0.28518144]]]\n",
      "[4.99016025 5.99863358 5.86885451 ... 6.23885408 4.35639721 5.61478606]\n",
      "[4.03896437 5.4406504  4.9154817  ... 3.92687274 4.67461892 4.12111311]\n"
     ]
    }
   ],
   "source": [
    "training_data=np.array(training_data)\n",
    "training_label=np.array(training_label)\n",
    "testing_data=np.array(testing_data)\n",
    "testing_label=np.array(testing_label)\n",
    "print(training_data)\n",
    "print(testing_data)\n",
    "print(training_label)\n",
    "print(testing_label)"
   ]
  },
  {
   "cell_type": "code",
   "execution_count": 4,
   "metadata": {
    "ExecuteTime": {
     "end_time": "2021-05-12T05:35:46.749949Z",
     "start_time": "2021-05-12T05:35:46.704165Z"
    }
   },
   "outputs": [
    {
     "name": "stdout",
     "output_type": "stream",
     "text": [
      "cuda:0\n"
     ]
    }
   ],
   "source": [
    "if torch.cuda.is_available():  \n",
    "    dev = \"cuda:0\" \n",
    "else:  \n",
    "    dev = \"cpu\"  \n",
    "\n",
    "print(dev)\n"
   ]
  },
  {
   "cell_type": "code",
   "execution_count": 5,
   "metadata": {
    "ExecuteTime": {
     "end_time": "2021-05-12T05:35:46.765298Z",
     "start_time": "2021-05-12T05:35:46.750989Z"
    },
    "run_control": {
     "marked": true
    }
   },
   "outputs": [],
   "source": [
    "def weight_init(m):\n",
    "    if isinstance(m, torch.nn.Conv2d):\n",
    "        torch.nn.init.xavier_normal_(m.weight, gain=nn.init.calculate_gain('relu'))\n",
    "        torch.nn.init.zeros_(m.bias)\n",
    "    elif isinstance(m, torch.nn.Linear):\n",
    "        torch.nn.init.xavier_normal_(m.weight)\n",
    "        torch.nn.init.zeros_(m.bias)\n",
    "        \n",
    "\n",
    "class Net(torch.nn.Module):\n",
    "    def __init__(self):\n",
    "\n",
    "        super(Net, self).__init__()\n",
    "\n",
    "        num_input = Agent_number_n-1\n",
    "        num_hidden = 100\n",
    "        num_output = 1\n",
    "\n",
    "        self.hidden_0 = torch.nn.Linear(num_input, num_hidden)\n",
    "        self.hidden_1 = torch.nn.Linear(num_hidden, num_hidden)\n",
    "        self.hidden_2 = torch.nn.Linear(num_hidden, num_hidden)\n",
    "        self.hidden_3 = torch.nn.Linear(num_hidden, num_hidden)\n",
    "        self.output_allocation = torch.nn.Linear(num_hidden, num_output)\n",
    "\n",
    "    def calculate(self, value_list):\n",
    "        h1 = torch.relu_(self.hidden_0(value_list))\n",
    "        h2 = torch.relu_(self.hidden_1(h1))\n",
    "        h3 = torch.relu_(self.hidden_2(h2))\n",
    "        h4 = torch.relu_(self.hidden_3(h3))\n",
    "        h = torch.relu(self.output_allocation(h4))\n",
    "\n",
    "        return h\n",
    "\n",
    "    def forward(self, input_list,input_label):\n",
    "        global iteration,echo\n",
    "        loss1 = 0\n",
    "        loss2 = 0\n",
    "        input_list = torch.from_numpy(\n",
    "            np.array(input_list)).cuda().type(torch.float32)\n",
    "        h_list = []\n",
    "        for i in range(Agent_number_n):\n",
    "            h = self.calculate(input_list[i])\n",
    "            h_list.append(h)\n",
    "        \n",
    "        input_label = torch.from_numpy(\n",
    "            np.array(input_label)).cuda().type(torch.float32)\n",
    "        sum_h = torch.sum(torch.cat(h_list)).cuda()\n",
    "        \n",
    "        \n",
    "        loss1 = torch.where((Agent_number_n-1)*input_label>sum_h,\n",
    "                        torch.square((Agent_number_n-1)*input_label-sum_h),\n",
    "                        torch.zeros(1).cuda()\n",
    "                      )\n",
    "\n",
    "        loss2 = torch.where((Agent_number_n-Alpha)*input_label<sum_h,\n",
    "                        torch.square(sum_h-(Agent_number_n-Alpha)*input_label),\n",
    "                        torch.zeros(1).cuda()\n",
    "                      )\n",
    "                      \n",
    "\n",
    "        return loss1,loss2,h_list"
   ]
  },
  {
   "cell_type": "code",
   "execution_count": 6,
   "metadata": {
    "ExecuteTime": {
     "end_time": "2021-05-12T05:35:47.944265Z",
     "start_time": "2021-05-12T05:35:46.766317Z"
    }
   },
   "outputs": [
    {
     "data": {
      "text/plain": [
       "Net(\n",
       "  (hidden_0): Linear(in_features=9, out_features=100, bias=True)\n",
       "  (hidden_1): Linear(in_features=100, out_features=100, bias=True)\n",
       "  (hidden_2): Linear(in_features=100, out_features=100, bias=True)\n",
       "  (hidden_3): Linear(in_features=100, out_features=100, bias=True)\n",
       "  (output_allocation): Linear(in_features=100, out_features=1, bias=True)\n",
       ")"
      ]
     },
     "execution_count": 6,
     "metadata": {},
     "output_type": "execute_result"
    }
   ],
   "source": [
    "random.seed(2000)\n",
    "torch.manual_seed(256)\n",
    "net  = Net()\n",
    "net.apply(weight_init)\n",
    "\n",
    "net = torch.load(\"save/Deep_learning_10\")\n",
    "net.to(dev)"
   ]
  },
  {
   "cell_type": "code",
   "execution_count": 7,
   "metadata": {
    "ExecuteTime": {
     "end_time": "2021-05-12T05:35:47.960022Z",
     "start_time": "2021-05-12T05:35:47.949290Z"
    },
    "run_control": {
     "marked": true
    }
   },
   "outputs": [],
   "source": [
    "#optimizer = opt.RMSprop(net.parameters(), lr=0.00001)\n",
    "#optimizer = opt.SGD(net.parameters(), lr=0.00001)\n",
    "optimizer = opt.Adam(net.parameters(), lr=0.00005)\n",
    "\n",
    "batch_size = 128\n",
    "echo = 10"
   ]
  },
  {
   "cell_type": "code",
   "execution_count": 8,
   "metadata": {
    "ExecuteTime": {
     "end_time": "2021-05-12T05:49:48.931791Z",
     "start_time": "2021-05-12T05:35:47.961977Z"
    }
   },
   "outputs": [
    {
     "name": "stdout",
     "output_type": "stream",
     "text": [
      "6096 tensor([0.], device='cuda:0', grad_fn=<DivBackward0>) 0.0 0.0\n",
      "6858 tensor([0.], device='cuda:0', grad_fn=<DivBackward0>) 0.0 0.0\n",
      "8763 tensor([0.], device='cuda:0', grad_fn=<DivBackward0>) 0.0 0.0\n",
      "batch iteration 0\n",
      "batch_loss: 0.00 \n",
      "\n",
      "381 tensor([0.], device='cuda:0', grad_fn=<DivBackward0>) 0.0 0.0\n",
      "1778 tensor([0.], device='cuda:0', grad_fn=<DivBackward0>) 0.0 0.0\n",
      "7874 tensor([0.], device='cuda:0', grad_fn=<DivBackward0>) 0.0 0.0\n",
      "batch iteration 1\n",
      "batch_loss: 0.00 \n",
      "\n",
      "3048 tensor([0.], device='cuda:0', grad_fn=<DivBackward0>) 0.0 0.0\n",
      "6350 tensor([0.], device='cuda:0', grad_fn=<DivBackward0>) 0.0 0.0\n",
      "9271 tensor([0.], device='cuda:0', grad_fn=<DivBackward0>) 0.0 0.0\n",
      "batch iteration 2\n",
      "batch_loss: 0.00 \n",
      "\n",
      "2413 tensor([0.], device='cuda:0', grad_fn=<DivBackward0>) 0.0 0.0\n",
      "3302 tensor([0.], device='cuda:0', grad_fn=<DivBackward0>) 0.0 0.0\n",
      "batch iteration 3\n",
      "batch_loss: 0.00 \n",
      "\n",
      "9017 tensor([0.], device='cuda:0', grad_fn=<DivBackward0>) 0.0 0.0\n",
      "batch iteration 4\n",
      "batch_loss: 0.00 \n",
      "\n",
      "254 tensor([0.], device='cuda:0', grad_fn=<DivBackward0>) 0.0 0.0\n",
      "3175 tensor([0.], device='cuda:0', grad_fn=<DivBackward0>) 0.0 0.0\n",
      "batch iteration 5\n",
      "batch_loss: 0.00 \n",
      "\n",
      "8509 tensor([0.], device='cuda:0', grad_fn=<DivBackward0>) 0.0 0.0\n",
      "batch iteration 6\n",
      "batch_loss: 0.00 \n",
      "\n",
      "508 tensor([0.], device='cuda:0', grad_fn=<DivBackward0>) 0.0 0.0\n",
      "1651 tensor([0.], device='cuda:0', grad_fn=<DivBackward0>) 0.0 0.0\n",
      "3048 tensor([0.], device='cuda:0', grad_fn=<DivBackward0>) 0.0 0.0\n",
      "3683 tensor([0.], device='cuda:0', grad_fn=<DivBackward0>) 0.0 0.0\n",
      "5461 tensor([0.], device='cuda:0', grad_fn=<DivBackward0>) 0.0 0.0\n",
      "batch iteration 7\n",
      "batch_loss: 0.00 \n",
      "\n",
      "batch iteration 8\n",
      "batch_loss: 0.00 \n",
      "\n",
      "9017 tensor([0.], device='cuda:0', grad_fn=<DivBackward0>) 0.0 0.0\n",
      "batch iteration 9\n",
      "batch_loss: 0.00 \n",
      "\n"
     ]
    }
   ],
   "source": [
    "for iteration in range(int(echo)):\n",
    "    # offender_types = []\n",
    "    # defender_types = []\n",
    "    \n",
    "    \n",
    "    X_train_list = []\n",
    "    temp_number = 0\n",
    "    total_batch_loss = 0 \n",
    "    while(temp_number<len(training_data)-1):\n",
    "        loss2_list = []\n",
    "        loss1_sum = 0\n",
    "        loss2_sum = 0\n",
    "        denominator = 0\n",
    "        for index in range(temp_number, min(batch_size+temp_number,len(training_data))):\n",
    "            h_loss1,h_loss2,h_list = net(training_data[index],training_label[index])\n",
    "            denominator += 1\n",
    "            loss1_sum += h_loss1\n",
    "            loss2_sum += h_loss2\n",
    "            \n",
    "        loss_sum = loss1_sum + loss2_sum\n",
    "        loss = (loss_sum) / denominator \n",
    "        total_batch_loss +=float(loss_sum)\n",
    "        optimizer.zero_grad()\n",
    "        \n",
    "        loss.backward()\n",
    "        \n",
    "        optimizer.step()\n",
    "        \n",
    "        temp_number = index\n",
    "        \n",
    "        if(random.random()<=0.02):\n",
    "            print(temp_number,loss,float(loss1_sum),float(loss2_sum))\n",
    "\n",
    "\n",
    "    print(\"batch iteration\", iteration)\n",
    "    print(\"batch_loss: %.2f \" % (total_batch_loss/len(training_data)))\n",
    "    \n",
    "    print()"
   ]
  },
  {
   "cell_type": "code",
   "execution_count": 9,
   "metadata": {
    "ExecuteTime": {
     "end_time": "2021-05-12T05:49:48.947402Z",
     "start_time": "2021-05-12T05:49:48.931791Z"
    }
   },
   "outputs": [],
   "source": [
    "torch.save(net, \"save/Deep_learning_10\")"
   ]
  },
  {
   "cell_type": "code",
   "execution_count": 10,
   "metadata": {
    "ExecuteTime": {
     "end_time": "2021-05-12T05:50:43.446899Z",
     "start_time": "2021-05-12T05:49:48.949385Z"
    }
   },
   "outputs": [],
   "source": [
    "denominator = 0\n",
    "result_list = []\n",
    "for index in range(len(testing_data)):\n",
    "    h_list = []\n",
    "    for i in range(Agent_number_n):\n",
    "        h = net.calculate(torch.tensor(testing_data[index][i]).cuda().type(torch.float32))\n",
    "        h_list.append(float(h))\n",
    "    \n",
    "    #print(sum(h_list),h_list,sum(h_list)/testing_label[index])\n",
    "    result_list.append(sum(h_list)/testing_label[index])\n",
    "    \n",
    "\n"
   ]
  },
  {
   "cell_type": "code",
   "execution_count": 11,
   "metadata": {
    "ExecuteTime": {
     "end_time": "2021-05-12T05:50:43.462065Z",
     "start_time": "2021-05-12T05:50:43.446899Z"
    }
   },
   "outputs": [
    {
     "name": "stdout",
     "output_type": "stream",
     "text": [
      "9.517985986917996 7.916990697383881 1.600995289534115\n"
     ]
    }
   ],
   "source": [
    "print(max(result_list),min(result_list),max(result_list)-min(result_list))"
   ]
  },
  {
   "cell_type": "code",
   "execution_count": null,
   "metadata": {
    "ExecuteTime": {
     "end_time": "2021-05-12T05:50:44.153457Z",
     "start_time": "2021-05-12T05:48:09.609Z"
    }
   },
   "outputs": [],
   "source": [
    "plt.hist(result_list,bins=200)\n",
    "plt.show()"
   ]
  },
  {
   "cell_type": "code",
   "execution_count": null,
   "metadata": {},
   "outputs": [],
   "source": []
  },
  {
   "cell_type": "code",
   "execution_count": null,
   "metadata": {},
   "outputs": [],
   "source": []
  }
 ],
 "metadata": {
  "hide_input": false,
  "kernelspec": {
   "display_name": "Python 3",
   "language": "python",
   "name": "python3"
  },
  "language_info": {
   "codemirror_mode": {
    "name": "ipython",
    "version": 3
   },
   "file_extension": ".py",
   "mimetype": "text/x-python",
   "name": "python",
   "nbconvert_exporter": "python",
   "pygments_lexer": "ipython3",
   "version": "3.8.3"
  },
  "varInspector": {
   "cols": {
    "lenName": 16,
    "lenType": 16,
    "lenVar": 40
   },
   "kernels_config": {
    "python": {
     "delete_cmd_postfix": "",
     "delete_cmd_prefix": "del ",
     "library": "var_list.py",
     "varRefreshCmd": "print(var_dic_list())"
    },
    "r": {
     "delete_cmd_postfix": ") ",
     "delete_cmd_prefix": "rm(",
     "library": "var_list.r",
     "varRefreshCmd": "cat(var_dic_list()) "
    }
   },
   "types_to_exclude": [
    "module",
    "function",
    "builtin_function_or_method",
    "instance",
    "_Feature"
   ],
   "window_display": false
  }
 },
 "nbformat": 4,
 "nbformat_minor": 4
}
