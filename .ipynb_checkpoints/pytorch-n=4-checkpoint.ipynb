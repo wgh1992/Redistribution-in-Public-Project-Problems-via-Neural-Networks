{
 "cells": [
  {
   "cell_type": "code",
   "execution_count": 1,
   "metadata": {
    "ExecuteTime": {
     "end_time": "2021-05-21T09:12:19.380634Z",
     "start_time": "2021-05-21T09:11:55.576757Z"
    }
   },
   "outputs": [
    {
     "name": "stdout",
     "output_type": "stream",
     "text": [
      "pygame 2.0.1 (SDL 2.0.14, Python 3.8.3)\n",
      "Hello from the pygame community. https://www.pygame.org/contribute.html\n",
      "cuda:0\n"
     ]
    },
    {
     "name": "stderr",
     "output_type": "stream",
     "text": [
      "D:\\ComputerSoftwares\\Anaconda\\lib\\site-packages\\sklearn\\utils\\deprecation.py:143: FutureWarning: The sklearn.datasets.samples_generator module is  deprecated in version 0.22 and will be removed in version 0.24. The corresponding classes / functions should instead be imported from sklearn.datasets. Anything that cannot be imported from sklearn.datasets is now part of the private API.\n",
      "  warnings.warn(message, FutureWarning)\n"
     ]
    }
   ],
   "source": [
    "\"\"\"\n",
    "The classic game of flappy bird. Make with python\n",
    "and pygame. Features pixel perfect collision using masks :o\n",
    "Date Modified:  Jul 30, 2019\n",
    "Author: Tech With Tim\n",
    "Estimated Work Time: 5 hours (1 just for that damn collision)\n",
    "\"\"\"\n",
    "import pygame\n",
    "import random\n",
    "import os\n",
    "import time\n",
    "import numpy as np\n",
    "import math\n",
    "import torch\n",
    "import torch.nn.functional\n",
    "import matplotlib.pyplot as plt\n",
    "import torch.optim as opt\n",
    "from torch.autograd import Variable\n",
    "from sklearn.model_selection import train_test_split\n",
    "import torch.nn as nn\n",
    "import scipy.stats as st\n",
    "from sklearn.datasets.samples_generator import make_blobs\n",
    "from matplotlib.colors import LogNorm \n",
    "import matplotlib.cm as cm\n",
    "\n",
    "if torch.cuda.is_available():  \n",
    "    dev = \"cuda:0\" \n",
    "else:  \n",
    "    dev = \"cpu\"  \n",
    "\n",
    "print(dev)\n"
   ]
  },
  {
   "cell_type": "code",
   "execution_count": 2,
   "metadata": {
    "ExecuteTime": {
     "end_time": "2021-05-21T09:12:19.643090Z",
     "start_time": "2021-05-21T09:12:19.399674Z"
    }
   },
   "outputs": [],
   "source": [
    "global target_order\n",
    "target_order = \"supervised\"\n",
    "global temp_list\n",
    "temp_list = []\n",
    "Agent_number_n=4;\n",
    "Alpha = (1-0.700);\n",
    "\n",
    "# torch.manual_seed(1)    # reproducible\n",
    "# np.random.seed(1)\n",
    "\n",
    "# Hyper Parameters\n",
    "BATCH_SIZE = 64\n",
    "LR_G = 0.00001           # learning rate for generator\n",
    "N_IDEAS = Agent_number_n             # think of this as number of ideas for generating an art work (Generator)\n",
    "ART_COMPONENTS = Agent_number_n     # it could be total point G can draw in the canvas\n",
    "PAINT_POINTS = np.vstack([np.linspace(-1, 1, ART_COMPONENTS) for _ in range(BATCH_SIZE)])\n",
    "\n",
    "\n",
    "GeneratorNet = nn.Sequential(                      # Generator\n",
    "    # random ideas (could from normal distribution)\n",
    "    nn.Linear(N_IDEAS, 128),\n",
    "    nn.ReLU(),\n",
    "    # making a painting from these random ideas\n",
    "    nn.Linear(128, ART_COMPONENTS),\n",
    ")\n",
    "#GeneratorNet = torch.load(\"save/GeneratorNet_4_1\") "
   ]
  },
  {
   "cell_type": "code",
   "execution_count": 3,
   "metadata": {
    "ExecuteTime": {
     "end_time": "2021-05-21T09:12:22.498871Z",
     "start_time": "2021-05-21T09:12:19.659991Z"
    }
   },
   "outputs": [
    {
     "name": "stdout",
     "output_type": "stream",
     "text": [
      "[[[0.19723635 0.41661046 0.66438578]\n",
      "  [0.12740321 0.41661046 0.66438578]\n",
      "  [0.12740321 0.19723635 0.66438578]\n",
      "  [0.12740321 0.19723635 0.41661046]]\n",
      "\n",
      " [[0.72396812 0.83599921 0.99176844]\n",
      "  [0.20078682 0.83599921 0.99176844]\n",
      "  [0.20078682 0.72396812 0.99176844]\n",
      "  [0.20078682 0.72396812 0.83599921]]\n",
      "\n",
      " [[0.30444941 0.59944887 0.83177931]\n",
      "  [0.1430069  0.59944887 0.83177931]\n",
      "  [0.1430069  0.30444941 0.83177931]\n",
      "  [0.1430069  0.30444941 0.59944887]]\n",
      "\n",
      " ...\n",
      "\n",
      " [[0.39898603 0.91060661 0.94287845]\n",
      "  [0.0578767  0.91060661 0.94287845]\n",
      "  [0.0578767  0.39898603 0.94287845]\n",
      "  [0.0578767  0.39898603 0.91060661]]\n",
      "\n",
      " [[0.28967858 0.49403384 0.62953951]\n",
      "  [0.10848181 0.49403384 0.62953951]\n",
      "  [0.10848181 0.28967858 0.62953951]\n",
      "  [0.10848181 0.28967858 0.49403384]]\n",
      "\n",
      " [[0.39414654 0.55721969 0.94929834]\n",
      "  [0.05083234 0.55721969 0.94929834]\n",
      "  [0.05083234 0.39414654 0.94929834]\n",
      "  [0.05083234 0.39414654 0.55721969]]]\n",
      "[[[0.25725248 0.59931215 0.63595239]\n",
      "  [0.03103171 0.59931215 0.63595239]\n",
      "  [0.03103171 0.25725248 0.63595239]\n",
      "  [0.03103171 0.25725248 0.59931215]]\n",
      "\n",
      " [[0.6453183  0.66957966 0.99731336]\n",
      "  [0.1401365  0.66957966 0.99731336]\n",
      "  [0.1401365  0.6453183  0.99731336]\n",
      "  [0.1401365  0.6453183  0.66957966]]\n",
      "\n",
      " [[0.38444649 0.53018036 0.92401147]\n",
      "  [0.05642616 0.53018036 0.92401147]\n",
      "  [0.05642616 0.38444649 0.92401147]\n",
      "  [0.05642616 0.38444649 0.53018036]]\n",
      "\n",
      " ...\n",
      "\n",
      " [[0.24264462 0.90407355 0.99669772]\n",
      "  [0.13024342 0.90407355 0.99669772]\n",
      "  [0.13024342 0.24264462 0.99669772]\n",
      "  [0.13024342 0.24264462 0.90407355]]\n",
      "\n",
      " [[0.63675626 0.80728051 0.83522253]\n",
      "  [0.12828451 0.80728051 0.83522253]\n",
      "  [0.12828451 0.63675626 0.83522253]\n",
      "  [0.12828451 0.63675626 0.80728051]]\n",
      "\n",
      " [[0.8977458  0.90725804 0.95350411]\n",
      "  [0.46185796 0.90725804 0.95350411]\n",
      "  [0.46185796 0.8977458  0.95350411]\n",
      "  [0.46185796 0.8977458  0.90725804]]]\n",
      "[1.40563579 2.75252259 1.87868448 ... 2.31034779 1.52173374 1.95149691]\n",
      "[1.52354873 2.45234781 1.89506448 ... 2.27365931 2.40754381 3.2203659 ]\n"
     ]
    }
   ],
   "source": [
    "def appen(_x_list,y):\n",
    "    global temp_list\n",
    "    temp_list.append(_x_list)\n",
    "    \n",
    "def appen_train(x_list):\n",
    "    global temp_list\n",
    "                \n",
    "    S= max(sum(x_list),1.0);\n",
    "    temp_list = []\n",
    "    \n",
    "    for i in range(Agent_number_n):\n",
    "        temp = []\n",
    "        for j in range(Agent_number_n):\n",
    "            if(i!=j):\n",
    "                temp.append(x_list[j])\n",
    "        appen(temp,S)\n",
    "    \n",
    "    training_data.append(temp_list)\n",
    "    training_label.append(S)\n",
    "    \n",
    "\n",
    "def read_training_data():\n",
    "    for i in range(100000):\n",
    "        appen_train(sorted(np.random.rand(Agent_number_n), reverse=True));\n",
    "\n",
    "training_data=[]\n",
    "training_label=[]\n",
    "S=1.0\n",
    "read_training_data();\n",
    "\n",
    "def appen_test(x_list):\n",
    "    global temp_list\n",
    "                \n",
    "    S= max(sum(x_list),1.0);\n",
    "    temp_list = []\n",
    "    \n",
    "    for i in range(Agent_number_n):\n",
    "        temp = []\n",
    "        for j in range(Agent_number_n):\n",
    "            if(i!=j):\n",
    "                temp.append(x_list[j])\n",
    "        appen(temp,S)\n",
    "    testing_data.append(temp_list)\n",
    "    testing_label.append(S)\n",
    "    \n",
    "\n",
    "def read_testing_data():\n",
    "#     devided=20\n",
    "#     for i1 in range(devided+1):\n",
    "#         for i2 in range(i1+1):\n",
    "#             for i3 in range(i2+1):\n",
    "#                 appen_test(i1/devided,i2/devided,i3/devided);\n",
    "    for i in range(100000):\n",
    "        appen_test(sorted(np.random.rand(Agent_number_n), reverse=True));\n",
    "                            \n",
    "\n",
    "testing_data=[]\n",
    "testing_label=[]\n",
    "S=1.0\n",
    "read_testing_data();\n",
    "\n",
    "training_data=np.array(training_data)\n",
    "training_label=np.array(training_label)\n",
    "testing_data=np.array(testing_data)\n",
    "testing_label=np.array(testing_label)\n",
    "print(training_data)\n",
    "print(testing_data)\n",
    "print(training_label)\n",
    "print(testing_label)"
   ]
  },
  {
   "cell_type": "code",
   "execution_count": 4,
   "metadata": {
    "ExecuteTime": {
     "end_time": "2021-05-21T09:12:45.141755Z",
     "start_time": "2021-05-21T09:12:22.515826Z"
    }
   },
   "outputs": [
    {
     "name": "stdout",
     "output_type": "stream",
     "text": [
      "3.3748965001429463 2.999999999999999 0.3748965001429472\n"
     ]
    }
   ],
   "source": [
    "def h_3_star(a, b, t):\n",
    "    return a - min(a, t) + b - min(b, t) + max(min(a, t)+min(b, t), 2*t/3) + 1/2 * max(min(a, t)+min(b, t), t) - 1/2 * max(max(min(a, t), min(b, t)), 2*t/3) - t/6\n",
    "\n",
    "\n",
    "def f_function(a, b, z):\n",
    "    if(z >= 1):\n",
    "        return (a+b)/2 + z/3\n",
    "    else:\n",
    "        return z/3 + h_3_star(a, b, 1-z)/2\n",
    "\n",
    "def h_function(input_list):\n",
    "    #input_list = sorted(input_list)\n",
    "    g_list = []\n",
    "    for j1 in range(len(input_list) ):\n",
    "        for j2 in range(len(input_list)):\n",
    "            if(j1 != j2):\n",
    "                a = input_list[j1]\n",
    "                b = input_list[j2]\n",
    "                z = sum(input_list)- a-b\n",
    "\n",
    "                g_list.append( f_function(a, b, z) * (Agent_number_n-1))\n",
    "    h = sum(g_list) * 3 /  (Agent_number_n) /  (Agent_number_n-1) /  (Agent_number_n - 2)\n",
    "    return h\n",
    "                \n",
    "                \n",
    "x_list = []\n",
    "y_list = []\n",
    "z_list = []\n",
    "result_list = []\n",
    "training_supervised_label=[]\n",
    "for index in range(len(training_data)):\n",
    "    h_list = []\n",
    "    for i in range(Agent_number_n):\n",
    "        x_list.append(training_data[index][i][0])\n",
    "        y_list.append(training_data[index][i][1])\n",
    "        h = h_function(training_data[index][i])\n",
    "        z_list.append(float(h))\n",
    "        h_list.append(float(h))\n",
    "    training_supervised_label.append(h_list)\n",
    "    result_list.append(sum(h_list)/training_label[index]) \n",
    "    \n",
    "    \n",
    "print(max(result_list), min(result_list), max(result_list)-min(result_list))"
   ]
  },
  {
   "cell_type": "code",
   "execution_count": 5,
   "metadata": {
    "ExecuteTime": {
     "end_time": "2021-05-21T09:12:47.468975Z",
     "start_time": "2021-05-21T09:12:46.239461Z"
    }
   },
   "outputs": [
    {
     "data": {
      "image/png": "[encoded data removed]",
      "text/plain": [
       "<Figure size 432x288 with 1 Axes>"
      ]
     },
     "metadata": {
      "needs_background": "light"
     },
     "output_type": "display_data"
    }
   ],
   "source": [
    "plt.hist(result_list,bins=500)\n",
    "\n",
    "plt.title(\"Means\", y=1.015, fontsize=20)\n",
    "plt.axvline(x=sum(result_list)/len(result_list), linestyle='--', linewidth=2.5, label=\"sample mean\", c='orange')\n",
    "plt.xlabel(\"samples\", labelpad=14)\n",
    "plt.ylabel(\"frequency of occurence\", labelpad=14)\n",
    "plt.legend();\n",
    "\n",
    "result_list.sort()\n",
    "\n",
    "plt.axvline(x=result_list[int(len(result_list)*0.01)], linestyle='--', linewidth=0.5, label=\"1%\", c='b')\n",
    "plt.axvline(x=result_list[int(len(result_list)*0.99)], linestyle='--', linewidth=0.5, label=\"99%\", c='r')\n",
    "\n",
    "\n",
    "plt.show()"
   ]
  },
  {
   "cell_type": "code",
   "execution_count": 6,
   "metadata": {
    "ExecuteTime": {
     "end_time": "2021-05-20T12:13:47.150614Z",
     "start_time": "2021-05-20T12:13:47.028157Z"
    }
   },
   "outputs": [
    {
     "name": "stdout",
     "output_type": "stream",
     "text": [
      "[[1.31524597 1.88581769 1.02871209 1.66225517]\n",
      " [2.13376824 2.06178366 2.02487169 1.71331627]\n",
      " [2.21783754 2.25200929 1.94789476 1.72427294]\n",
      " ...\n",
      " [1.04658812 1.25652238 1.97768596 1.63570575]\n",
      " [2.03127631 2.69566754 2.09531858 2.07008518]\n",
      " [1.21192318 0.75       1.37800985 0.96311491]]\n"
     ]
    }
   ],
   "source": [
    "training_supervised_label=np.array(training_supervised_label)\n",
    "print(training_supervised_label)"
   ]
  },
  {
   "cell_type": "code",
   "execution_count": 7,
   "metadata": {
    "ExecuteTime": {
     "end_time": "2021-05-20T12:13:47.182528Z",
     "start_time": "2021-05-20T12:13:47.153609Z"
    },
    "run_control": {
     "marked": true
    }
   },
   "outputs": [],
   "source": [
    "def weight_init(m):\n",
    "    if isinstance(m, torch.nn.Conv2d):\n",
    "        torch.nn.init.xavier_normal_(m.weight, gain=nn.init.calculate_gain('relu'))\n",
    "        torch.nn.init.zeros_(m.bias)\n",
    "    elif isinstance(m, torch.nn.Linear):\n",
    "        torch.nn.init.xavier_uniform_(m.weight, gain=1.0)\n",
    "        torch.nn.init.uniform_(m.bias, a=-1.0, b=1.0)\n",
    "        \n",
    "\n",
    "class Net(torch.nn.Module):\n",
    "    def __init__(self):\n",
    "\n",
    "        super(Net, self).__init__()\n",
    "\n",
    "        num_input = Agent_number_n-1\n",
    "        num_hidden = 100\n",
    "        num_output = 1\n",
    "\n",
    "        self.hidden_0 = torch.nn.Linear(num_input, num_hidden)\n",
    "        self.hidden_1 = torch.nn.Linear(num_hidden, num_hidden)\n",
    "        self.hidden_2 = torch.nn.Linear(num_hidden, num_hidden)\n",
    "        self.hidden_3 = torch.nn.Linear(num_hidden, num_hidden)\n",
    "        self.hidden_4 = torch.nn.Linear(num_hidden, num_hidden)\n",
    "        self.hidden_5 = torch.nn.Linear(num_hidden, num_hidden)\n",
    "        self.hidden_6 = torch.nn.Linear(num_hidden, num_hidden)\n",
    "        self.hidden_7 = torch.nn.Linear(num_hidden, num_hidden)\n",
    "        self.hidden_8 = torch.nn.Linear(num_hidden, num_hidden)\n",
    "        self.output_allocation = torch.nn.Linear(num_hidden, num_output)\n",
    "\n",
    "    def calculate(self, value_list):\n",
    "        h1 = torch.relu(self.hidden_0(value_list))\n",
    "        h2 = torch.relu(self.hidden_1(h1))\n",
    "        h3 = torch.relu(self.hidden_2(h2))\n",
    "        h4 = torch.relu(self.hidden_3(h3))\n",
    "        h5 = torch.relu(self.hidden_4(h4))\n",
    "        h6 = torch.relu(self.hidden_5(h5))\n",
    "        h7 = torch.relu(self.hidden_6(h6))\n",
    "        h8 = torch.relu(self.hidden_7(h7))\n",
    "        h9 = torch.relu(self.hidden_8(h8))\n",
    "        h = torch.relu(self.output_allocation(h9))\n",
    "\n",
    "        return h\n",
    "\n",
    "    def forward(self, input_list,input_label,label):\n",
    "        global iteration,echo,target_order\n",
    "        loss1 = 0\n",
    "        loss2 = 0\n",
    "        h_list = []\n",
    "\n",
    "        if (target_order == \"supervised\"):\n",
    "            loss = 0 \n",
    "            for i in range(Agent_number_n):\n",
    "                h = self.calculate(input_list[i])\n",
    "                loss += torch.square(h - label[i])\n",
    "                h_list.append(h)\n",
    "            return loss\n",
    "        else:\n",
    "            for i in range(Agent_number_n):\n",
    "                h = self.calculate(input_list[i])\n",
    "                h_list.append(h)\n",
    "                \n",
    "            sum_h = torch.sum(torch.cat(h_list)).cuda()\n",
    "\n",
    "\n",
    "            loss1 = torch.where((Agent_number_n-1)*input_label>sum_h,\n",
    "                            torch.relu((Agent_number_n-1)*input_label-sum_h),\n",
    "                            torch.zeros(1).cuda()\n",
    "                          )\n",
    "\n",
    "            loss2 = torch.where((Agent_number_n-Alpha)*input_label<sum_h,\n",
    "                            torch.relu(sum_h-(Agent_number_n-Alpha)*input_label),\n",
    "                            torch.zeros(1).cuda()\n",
    "                          )\n",
    "\n",
    "            return loss1,loss2,h_list"
   ]
  },
  {
   "cell_type": "code",
   "execution_count": 8,
   "metadata": {
    "ExecuteTime": {
     "end_time": "2021-05-20T12:13:47.198485Z",
     "start_time": "2021-05-20T12:13:47.183526Z"
    }
   },
   "outputs": [],
   "source": [
    "def redistribution_value_function(input_tensor):\n",
    "    S = torch.max(torch.sum(input_tensor), torch.ones(1))\n",
    "    temp_list = []\n",
    "\n",
    "\n",
    "    for i in range(Agent_number_n):\n",
    "        temp = []\n",
    "        \n",
    "        for j in range(Agent_number_n):\n",
    "            if(i != j):\n",
    "                temp .append(input_tensor[j])\n",
    "                \n",
    "        temp = torch.stack(temp)\n",
    "        temp_list.append(temp)\n",
    "    return torch.stack(temp_list), S\n",
    "\n",
    "def Generator(GeneratorNet,DiscriminatorNet):\n",
    "\n",
    "    opt_G = torch.optim.Adam(GeneratorNet.parameters(), lr=LR_G)\n",
    "\n",
    "\n",
    "    DiscriminatorNet.requires_grad = False\n",
    "\n",
    "    show_list = []\n",
    "    for step in range(51):\n",
    "        # real painting from artist\n",
    "        G_ideas = torch.randn(BATCH_SIZE, N_IDEAS,\n",
    "                              requires_grad=True)  # random ideas\\n\n",
    "        # fake painting from G (random ideas)\n",
    "        G_values = GeneratorNet(G_ideas)\n",
    "    #     print(artist_paintings)\n",
    "    #     print(G_paintings)\n",
    "\n",
    "        result_list = []\n",
    "        for index in range(BATCH_SIZE):\n",
    "            h_list = []\n",
    "            value_list_tensor, S_tensor = redistribution_value_function(\n",
    "                G_values[index])\n",
    "            for i in range(Agent_number_n):\n",
    "                h = DiscriminatorNet.calculate(\n",
    "                    value_list_tensor[i].cuda().type(torch.float32))\n",
    "                h_list.append(h)\n",
    "            h_list = torch.stack(h_list)\n",
    "            result_list.append(torch.sum(h_list)/S_tensor.cuda())\n",
    "            show_list.append(float(torch.sum(h_list)/S_tensor.cuda()))\n",
    "        result_list = torch.stack(result_list)\n",
    "\n",
    "        diff_loss = torch.max(result_list)-torch.min(result_list)\n",
    "        G_loss = torch.max(- diff_loss)\n",
    "\n",
    "        opt_G.zero_grad()\n",
    "        G_loss.backward()\n",
    "        opt_G.step()\n",
    "\n",
    "        if step % 50 == 0 and step != 0:  # plotting\n",
    "\n",
    "\n",
    "            print(max(show_list), min(show_list),\n",
    "                  max(show_list)-min(show_list))\n",
    "\n",
    "            plt.hist(show_list, bins=500)\n",
    "\n",
    "            plt.title(\"Means\", y=1.015, fontsize=20)\n",
    "            plt.axvline(x=sum(show_list)/len(show_list), linestyle='--',\n",
    "                        linewidth=2.5, label=\"sample mean\", c='orange')\n",
    "            plt.xlabel(\"samples\", labelpad=14)\n",
    "            plt.ylabel(\"frequency of occurence\", labelpad=14)\n",
    "            plt.legend()\n",
    "\n",
    "            show_list.sort()\n",
    "            show_list = []\n",
    "            plt.show()\n",
    "    torch.save(GeneratorNet , \"save/GeneratorNet_4\") \n",
    "    \n",
    "    DiscriminatorNet.requires_grad = True\n",
    "    return GeneratorNet"
   ]
  },
  {
   "cell_type": "code",
   "execution_count": 9,
   "metadata": {
    "ExecuteTime": {
     "end_time": "2021-05-20T12:13:48.573475Z",
     "start_time": "2021-05-20T12:13:47.201479Z"
    }
   },
   "outputs": [
    {
     "data": {
      "text/plain": [
       "Net(\n",
       "  (hidden_0): Linear(in_features=3, out_features=100, bias=True)\n",
       "  (hidden_1): Linear(in_features=100, out_features=100, bias=True)\n",
       "  (hidden_2): Linear(in_features=100, out_features=100, bias=True)\n",
       "  (hidden_3): Linear(in_features=100, out_features=100, bias=True)\n",
       "  (hidden_4): Linear(in_features=100, out_features=100, bias=True)\n",
       "  (hidden_5): Linear(in_features=100, out_features=100, bias=True)\n",
       "  (hidden_6): Linear(in_features=100, out_features=100, bias=True)\n",
       "  (hidden_7): Linear(in_features=100, out_features=100, bias=True)\n",
       "  (hidden_8): Linear(in_features=100, out_features=100, bias=True)\n",
       "  (output_allocation): Linear(in_features=100, out_features=1, bias=True)\n",
       ")"
      ]
     },
     "execution_count": 9,
     "metadata": {},
     "output_type": "execute_result"
    }
   ],
   "source": [
    "random.seed(2000)\n",
    "torch.manual_seed(256)\n",
    "net  = Net()\n",
    "net.apply(weight_init)\n",
    "\n",
    "net = torch.load(\"save/Deep_learning_4\")\n",
    "net.to(dev)"
   ]
  },
  {
   "cell_type": "code",
   "execution_count": 10,
   "metadata": {
    "ExecuteTime": {
     "end_time": "2021-05-20T12:13:48.589458Z",
     "start_time": "2021-05-20T12:13:48.575437Z"
    },
    "run_control": {
     "marked": true
    }
   },
   "outputs": [],
   "source": [
    "#optimizer = opt.RMSprop(net.parameters(), lr=0.00001)\n",
    "#optimizer = opt.SGD(net.parameters(), lr=0.00001)\n",
    "optimizer = opt.Adam(net.parameters(), lr=0.00005)\n",
    "\n",
    "batch_size = 64\n",
    "echo = 2"
   ]
  },
  {
   "cell_type": "code",
   "execution_count": 11,
   "metadata": {
    "ExecuteTime": {
     "end_time": "2021-05-20T12:40:04.583569Z",
     "start_time": "2021-05-20T12:13:48.592450Z"
    }
   },
   "outputs": [
    {
     "name": "stdout",
     "output_type": "stream",
     "text": [
      "3024 tensor([0.0002], device='cuda:0', grad_fn=<DivBackward0>) 0.010086576454341412\n",
      "4347 tensor([5.9573e-05], device='cuda:0', grad_fn=<DivBackward0>) 0.0038126984145492315\n",
      "8883 tensor([4.0704e-05], device='cuda:0', grad_fn=<DivBackward0>) 0.002605054760351777\n",
      "13104 tensor([3.0158e-05], device='cuda:0', grad_fn=<DivBackward0>) 0.0019301114371046424\n",
      "16128 tensor([4.1562e-05], device='cuda:0', grad_fn=<DivBackward0>) 0.0026599701959639788\n",
      "25011 tensor([3.5759e-05], device='cuda:0', grad_fn=<DivBackward0>) 0.0022885447833687067\n",
      "35091 tensor([3.2631e-05], device='cuda:0', grad_fn=<DivBackward0>) 0.002088394947350025\n",
      "36351 tensor([4.8342e-05], device='cuda:0', grad_fn=<DivBackward0>) 0.003093898296356201\n",
      "36666 tensor([3.3598e-05], device='cuda:0', grad_fn=<DivBackward0>) 0.0021502457093447447\n",
      "56007 tensor([3.2351e-05], device='cuda:0', grad_fn=<DivBackward0>) 0.002070460934191942\n",
      "68103 tensor([3.0802e-05], device='cuda:0', grad_fn=<DivBackward0>) 0.0019713088404387236\n",
      "68166 tensor([4.9977e-05], device='cuda:0', grad_fn=<DivBackward0>) 0.0031985563691705465\n",
      "80010 tensor([4.3552e-05], device='cuda:0', grad_fn=<DivBackward0>) 0.0027873048093169928\n",
      "82026 tensor([3.7852e-05], device='cuda:0', grad_fn=<DivBackward0>) 0.0024225334636867046\n",
      "85680 tensor([6.2040e-05], device='cuda:0', grad_fn=<DivBackward0>) 0.003970557823777199\n",
      "85869 tensor([7.3177e-05], device='cuda:0', grad_fn=<DivBackward0>) 0.004683316685259342\n",
      "94878 tensor([4.5330e-05], device='cuda:0', grad_fn=<DivBackward0>) 0.002901096362620592\n",
      "batch iteration 0\n",
      "batch_loss: 0.00 \n",
      "\n",
      "\n",
      "4032 tensor([4.3111e-05], device='cuda:0', grad_fn=<DivBackward0>) 0.0027590878307819366\n",
      "7371 tensor([3.7616e-05], device='cuda:0', grad_fn=<DivBackward0>) 0.002407405059784651\n",
      "9450 tensor([3.4961e-05], device='cuda:0', grad_fn=<DivBackward0>) 0.0022374819964170456\n",
      "15687 tensor([4.6113e-05], device='cuda:0', grad_fn=<DivBackward0>) 0.0029512045439332724\n",
      "17451 tensor([6.3533e-05], device='cuda:0', grad_fn=<DivBackward0>) 0.004066080320626497\n",
      "23247 tensor([8.3497e-05], device='cuda:0', grad_fn=<DivBackward0>) 0.005343779921531677\n",
      "28287 tensor([7.0237e-05], device='cuda:0', grad_fn=<DivBackward0>) 0.004495168570429087\n",
      "37926 tensor([6.0062e-05], device='cuda:0', grad_fn=<DivBackward0>) 0.0038439519703388214\n",
      "45045 tensor([8.8657e-05], device='cuda:0', grad_fn=<DivBackward0>) 0.005674079991877079\n",
      "50715 tensor([2.8996e-05], device='cuda:0', grad_fn=<DivBackward0>) 0.001855771173723042\n",
      "61866 tensor([7.7017e-05], device='cuda:0', grad_fn=<DivBackward0>) 0.004929057322442532\n",
      "71442 tensor([0.0002], device='cuda:0', grad_fn=<DivBackward0>) 0.010530686937272549\n",
      "86310 tensor([5.4111e-05], device='cuda:0', grad_fn=<DivBackward0>) 0.0034630722366273403\n",
      "97713 tensor([3.3319e-05], device='cuda:0', grad_fn=<DivBackward0>) 0.0021324343979358673\n",
      "batch iteration 1\n",
      "batch_loss: 0.00 \n",
      "\n",
      "\n"
     ]
    }
   ],
   "source": [
    "target_order = \"supervised\"\n",
    "for iteration in range(int(echo)):\n",
    "    # offender_types = []\n",
    "    # defender_types = []\n",
    "    \n",
    "    \n",
    "    X_train_list = []\n",
    "    temp_number = 0\n",
    "    total_batch_loss = 0 \n",
    "    while(temp_number<len(training_data)-1):\n",
    "        loss_sum = 0\n",
    "        denominator = 0\n",
    "        for index in range(temp_number, min(batch_size+temp_number,len(training_data))):\n",
    "            h_loss = net(torch.from_numpy(\n",
    "            np.array(training_data[index])).cuda().type(torch.float32),training_label[index],training_supervised_label[index])\n",
    "            denominator += 1\n",
    "            loss_sum += h_loss\n",
    "            \n",
    "        loss = (loss_sum) / denominator \n",
    "        total_batch_loss +=float(loss_sum)\n",
    "        optimizer.zero_grad()\n",
    "        \n",
    "        loss.backward()\n",
    "        \n",
    "        optimizer.step()\n",
    "        \n",
    "        temp_number = index\n",
    "        \n",
    "        if(random.random()<=0.01):\n",
    "            print(temp_number,loss,float(loss_sum))\n",
    "\n",
    "\n",
    "    print(\"batch iteration\", iteration)\n",
    "    print(\"batch_loss: %.2f \" % (total_batch_loss/len(training_data)))\n",
    "    \n",
    "    print()\n",
    "    print()"
   ]
  },
  {
   "cell_type": "code",
   "execution_count": 12,
   "metadata": {
    "ExecuteTime": {
     "end_time": "2021-05-20T12:47:28.518582Z",
     "start_time": "2021-05-20T12:40:04.584566Z"
    }
   },
   "outputs": [
    {
     "name": "stdout",
     "output_type": "stream",
     "text": [
      "3.4075229902960236 2.9966358178770585 0.4108871724189651\n"
     ]
    }
   ],
   "source": [
    "denominator = 0\n",
    "result_list = []\n",
    "for index in range(len(testing_data)):\n",
    "    h_list = []\n",
    "    for i in range(Agent_number_n):\n",
    "        h = net.calculate(torch.tensor(testing_data[index][i]).cuda().type(torch.float32))\n",
    "        h_list.append(float(h))\n",
    "    \n",
    "    #print(sum(h_list),h_list,sum(h_list)/testing_label[index])\n",
    "    result_list.append(sum(h_list)/testing_label[index])\n",
    "    \n",
    "\n",
    "print(max(result_list),min(result_list),max(result_list)-min(result_list))"
   ]
  },
  {
   "cell_type": "code",
   "execution_count": 13,
   "metadata": {
    "ExecuteTime": {
     "end_time": "2021-05-20T12:47:30.029788Z",
     "start_time": "2021-05-20T12:47:28.521580Z"
    }
   },
   "outputs": [
    {
     "data": {
      "image/png": "[encoded data removed]",
      "text/plain": [
       "<Figure size 432x288 with 1 Axes>"
      ]
     },
     "metadata": {
      "needs_background": "light"
     },
     "output_type": "display_data"
    }
   ],
   "source": [
    "plt.hist(result_list,bins=500)\n",
    "\n",
    "plt.title(\"Means\", y=1.015, fontsize=20)\n",
    "plt.axvline(x=sum(result_list)/len(result_list), linestyle='--', linewidth=2.5, label=\"sample mean\", c='orange')\n",
    "plt.xlabel(\"samples\", labelpad=14)\n",
    "plt.ylabel(\"frequency of occurence\", labelpad=14)\n",
    "plt.legend();\n",
    "\n",
    "result_list.sort()\n",
    "\n",
    "plt.axvline(x=result_list[int(len(result_list)*0.001)], linestyle='--', linewidth=0.5, label=\"0.1%\", c='b')\n",
    "plt.axvline(x=result_list[int(len(result_list)*0.999)], linestyle='--', linewidth=0.5, label=\"99%\", c='r')\n",
    "\n",
    "\n",
    "plt.show()"
   ]
  },
  {
   "cell_type": "code",
   "execution_count": 14,
   "metadata": {
    "ExecuteTime": {
     "end_time": "2021-05-20T12:47:30.045259Z",
     "start_time": "2021-05-20T12:47:30.031781Z"
    }
   },
   "outputs": [],
   "source": [
    "torch.save(net, \"save/Deep_learning_4\")"
   ]
  },
  {
   "cell_type": "code",
   "execution_count": 15,
   "metadata": {
    "ExecuteTime": {
     "end_time": "2021-05-20T12:47:30.061216Z",
     "start_time": "2021-05-20T12:47:30.048250Z"
    },
    "run_control": {
     "marked": true
    }
   },
   "outputs": [],
   "source": [
    "#optimizer = opt.RMSprop(net.parameters(), lr=0.00001)\n",
    "#optimizer = opt.SGD(net.parameters(), lr=0.00005)\n",
    "optimizer = opt.Adam(net.parameters(), lr=0.000001)\n",
    "\n",
    "batch_size = 64\n",
    "echo = 1\n",
    "\n"
   ]
  },
  {
   "cell_type": "code",
   "execution_count": 16,
   "metadata": {
    "ExecuteTime": {
     "end_time": "2021-05-20T13:01:58.805786Z",
     "start_time": "2021-05-20T12:47:30.064206Z"
    }
   },
   "outputs": [
    {
     "name": "stdout",
     "output_type": "stream",
     "text": [
      "3.4857754707336426 2.911541700363159 0.5742337703704834\n"
     ]
    },
    {
     "data": {
      "image/png": "[encoded data removed]",
      "text/plain": [
       "<Figure size 432x288 with 1 Axes>"
      ]
     },
     "metadata": {
      "needs_background": "light"
     },
     "output_type": "display_data"
    },
    {
     "name": "stdout",
     "output_type": "stream",
     "text": [
      "0 batch iteration 0\n",
      "batch_loss: 0.00 \n",
      "\n",
      "\n",
      "3339 tensor([0.], device='cuda:0', grad_fn=<DivBackward0>) 0.0 0.0\n",
      "11277 tensor([0.], device='cuda:0', grad_fn=<DivBackward0>) 0.0 0.0\n",
      "12033 tensor([0.], device='cuda:0', grad_fn=<DivBackward0>) 0.0 0.0\n",
      "12096 tensor([0.], device='cuda:0', grad_fn=<DivBackward0>) 0.0 0.0\n",
      "17010 tensor([0.], device='cuda:0', grad_fn=<DivBackward0>) 0.0 0.0\n",
      "35406 tensor([0.], device='cuda:0', grad_fn=<DivBackward0>) 0.0 0.0\n",
      "51723 tensor([0.], device='cuda:0', grad_fn=<DivBackward0>) 0.0 0.0\n",
      "53991 tensor([0.], device='cuda:0', grad_fn=<DivBackward0>) 0.0 0.0\n",
      "67788 tensor([0.], device='cuda:0', grad_fn=<DivBackward0>) 0.0 0.0\n",
      "93240 tensor([0.], device='cuda:0', grad_fn=<DivBackward0>) 0.0 0.0\n",
      "batch iteration 0\n",
      "batch_loss: 0.00 \n",
      "\n",
      "\n"
     ]
    }
   ],
   "source": [
    "target_order = \"unsupervised\"\n",
    "for iteration in range(int(echo)):\n",
    "    # offender_types = []\n",
    "    # defender_types = []\n",
    "\n",
    "    GeneratorNet = Generator(GeneratorNet, net)\n",
    "\n",
    "    X_train_list = []\n",
    "    total_batch_loss = 0\n",
    "    for i in range(101):\n",
    "\n",
    "        G_ideas = torch.randn(BATCH_SIZE, N_IDEAS,\n",
    "                              requires_grad=True)\n",
    "        G_values = GeneratorNet(G_ideas)\n",
    "\n",
    "        loss1_sum = 0\n",
    "        loss2_sum = 0\n",
    "\n",
    "        for index in range(BATCH_SIZE):\n",
    "            h_list = []\n",
    "            value_list_tensor, S_tensor = redistribution_value_function(\n",
    "                G_values[index])\n",
    "\n",
    "            h_loss1, h_loss2, h_list = net(\n",
    "                value_list_tensor.cuda().type(torch.float32), S_tensor.cuda(), 0)\n",
    "            loss1_sum += h_loss1\n",
    "            loss2_sum += h_loss2\n",
    "\n",
    "        loss_sum = loss1_sum + loss2_sum\n",
    "        loss = (loss_sum) / BATCH_SIZE\n",
    "        total_batch_loss += float(loss_sum)\n",
    "        optimizer.zero_grad()\n",
    "\n",
    "        loss.backward()\n",
    "\n",
    "        optimizer.step()\n",
    "\n",
    "        if(random.random() <= 0.01):\n",
    "            print(i, loss, float(loss1_sum), float(loss2_sum))\n",
    "\n",
    "    print(iteration, \"batch iteration\", iteration)\n",
    "    print(\"batch_loss: %.2f \" % (total_batch_loss/len(training_data)))\n",
    "\n",
    "    print()\n",
    "    print()\n",
    "\n",
    "for iteration in range(int(echo)):\n",
    "    # offender_types = []\n",
    "    # defender_types = []\n",
    "\n",
    "    X_train_list = []\n",
    "    temp_number = 0\n",
    "    total_batch_loss = 0\n",
    "    while(temp_number < len(training_data)-1):\n",
    "\n",
    "        loss2_list = []\n",
    "        loss1_sum = 0\n",
    "        loss2_sum = 0\n",
    "        denominator = 0\n",
    "        for index in range(temp_number, min(batch_size+temp_number, len(training_data))):\n",
    "            h_loss1, h_loss2, h_list = net(\n",
    "                torch.from_numpy(\n",
    "                    np.array(\n",
    "                        training_data[index])).cuda().type(torch.float32), training_label[index], 0)\n",
    "            denominator += 1\n",
    "            loss1_sum += h_loss1\n",
    "            loss2_sum += h_loss2\n",
    "\n",
    "        loss_sum = loss1_sum + loss2_sum\n",
    "        loss = (loss_sum) / denominator\n",
    "        total_batch_loss += float(loss_sum)\n",
    "        optimizer.zero_grad()\n",
    "\n",
    "        loss.backward()\n",
    "\n",
    "        optimizer.step()\n",
    "\n",
    "        temp_number = index\n",
    "\n",
    "        if(random.random() <= 0.01):\n",
    "            print(temp_number, loss, float(loss1_sum), float(loss2_sum))\n",
    "\n",
    "    print(\"batch iteration\", iteration)\n",
    "    print(\"batch_loss: %.2f \" % (total_batch_loss/len(training_data)))\n",
    "\n",
    "    print()\n",
    "    print()"
   ]
  },
  {
   "cell_type": "code",
   "execution_count": 17,
   "metadata": {
    "ExecuteTime": {
     "end_time": "2021-05-20T13:01:58.821259Z",
     "start_time": "2021-05-20T13:01:58.807780Z"
    }
   },
   "outputs": [],
   "source": [
    "torch.save(net, \"save/Deep_learning_4_1\")"
   ]
  },
  {
   "cell_type": "code",
   "execution_count": 18,
   "metadata": {
    "ExecuteTime": {
     "end_time": "2021-05-20T13:08:44.969119Z",
     "start_time": "2021-05-20T13:01:58.823253Z"
    }
   },
   "outputs": [
    {
     "name": "stdout",
     "output_type": "stream",
     "text": [
      "3.4744823750581757 3.024310622524286 0.4501717525338895\n"
     ]
    }
   ],
   "source": [
    "denominator = 0\n",
    "result_list = []\n",
    "for index in range(len(testing_data)):\n",
    "    h_list = []\n",
    "    for i in range(Agent_number_n):\n",
    "        h = net.calculate(torch.tensor(testing_data[index][i]).cuda().type(torch.float32))\n",
    "        h_list.append(float(h))\n",
    "    \n",
    "    #print(sum(h_list),h_list,sum(h_list)/testing_label[index])\n",
    "    result_list.append(sum(h_list)/testing_label[index])\n",
    "    \n",
    "\n",
    "print(max(result_list),min(result_list),max(result_list)-min(result_list))"
   ]
  },
  {
   "cell_type": "code",
   "execution_count": 19,
   "metadata": {
    "ExecuteTime": {
     "end_time": "2021-05-20T13:08:46.072521Z",
     "start_time": "2021-05-20T13:08:44.970115Z"
    }
   },
   "outputs": [
    {
     "data": {
      "image/png": "[encoded data removed]",
      "text/plain": [
       "<Figure size 432x288 with 1 Axes>"
      ]
     },
     "metadata": {
      "needs_background": "light"
     },
     "output_type": "display_data"
    }
   ],
   "source": [
    "plt.hist(result_list,bins=500)\n",
    "\n",
    "plt.title(\"Means\", y=1.015, fontsize=20)\n",
    "plt.axvline(x=sum(result_list)/len(result_list), linestyle='--', linewidth=2.5, label=\"sample mean\", c='orange')\n",
    "plt.xlabel(\"samples\", labelpad=14)\n",
    "plt.ylabel(\"frequency of occurence\", labelpad=14)\n",
    "plt.legend();\n",
    "\n",
    "result_list.sort()\n",
    "\n",
    "plt.axvline(x=result_list[int(len(result_list)*0.001)], linestyle='--', linewidth=0.5, label=\"0.1%\", c='b')\n",
    "plt.axvline(x=result_list[int(len(result_list)*0.999)], linestyle='--', linewidth=0.5, label=\"99%\", c='r')\n",
    "\n",
    "\n",
    "plt.show()"
   ]
  },
  {
   "cell_type": "code",
   "execution_count": null,
   "metadata": {},
   "outputs": [],
   "source": []
  },
  {
   "cell_type": "code",
   "execution_count": null,
   "metadata": {},
   "outputs": [],
   "source": []
  }
 ],
 "metadata": {
  "hide_input": false,
  "kernelspec": {
   "display_name": "Python 3",
   "language": "python",
   "name": "python3"
  },
  "language_info": {
   "codemirror_mode": {
    "name": "ipython",
    "version": 3
   },
   "file_extension": ".py",
   "mimetype": "text/x-python",
   "name": "python",
   "nbconvert_exporter": "python",
   "pygments_lexer": "ipython3",
   "version": "3.8.3"
  },
  "varInspector": {
   "cols": {
    "lenName": 16,
    "lenType": 16,
    "lenVar": 40
   },
   "kernels_config": {
    "python": {
     "delete_cmd_postfix": "",
     "delete_cmd_prefix": "del ",
     "library": "var_list.py",
     "varRefreshCmd": "print(var_dic_list())"
    },
    "r": {
     "delete_cmd_postfix": ") ",
     "delete_cmd_prefix": "rm(",
     "library": "var_list.r",
     "varRefreshCmd": "cat(var_dic_list()) "
    }
   },
   "types_to_exclude": [
    "module",
    "function",
    "builtin_function_or_method",
    "instance",
    "_Feature"
   ],
   "window_display": false
  }
 },
 "nbformat": 4,
 "nbformat_minor": 4
}
