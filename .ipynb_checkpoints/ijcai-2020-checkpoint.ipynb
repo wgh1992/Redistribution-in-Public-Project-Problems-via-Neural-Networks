{
 "cells": [
  {
   "cell_type": "code",
   "execution_count": 1,
   "metadata": {
    "ExecuteTime": {
     "end_time": "2021-05-17T07:24:38.165333Z",
     "start_time": "2021-05-17T07:24:36.947670Z"
    }
   },
   "outputs": [
    {
     "name": "stdout",
     "output_type": "stream",
     "text": [
      "pygame 2.0.1 (SDL 2.0.14, Python 3.8.3)\n",
      "Hello from the pygame community. https://www.pygame.org/contribute.html\n"
     ]
    },
    {
     "name": "stderr",
     "output_type": "stream",
     "text": [
      "D:\\ComputerSoftwares\\Anaconda\\lib\\site-packages\\sklearn\\utils\\deprecation.py:143: FutureWarning: The sklearn.datasets.samples_generator module is  deprecated in version 0.22 and will be removed in version 0.24. The corresponding classes / functions should instead be imported from sklearn.datasets. Anything that cannot be imported from sklearn.datasets is now part of the private API.\n",
      "  warnings.warn(message, FutureWarning)\n"
     ]
    }
   ],
   "source": [
    "\"\"\"\n",
    "The classic game of flappy bird. Make with python\n",
    "and pygame. Features pixel perfect collision using masks :o\n",
    "Date Modified:  Jul 30, 2019\n",
    "Author: Tech With Tim\n",
    "Estimated Work Time: 5 hours (1 just for that damn collision)\n",
    "\"\"\"\n",
    "import pygame\n",
    "import random\n",
    "import os\n",
    "import time\n",
    "import numpy as np\n",
    "import math\n",
    "import torch\n",
    "import torch.nn.functional\n",
    "import matplotlib.pyplot as plt\n",
    "import torch.optim as opt\n",
    "from torch.autograd import Variable\n",
    "from sklearn.model_selection import train_test_split\n",
    "\n",
    "import scipy.stats as st\n",
    "from sklearn.datasets.samples_generator import make_blobs\n",
    "from matplotlib.colors import LogNorm \n",
    "import matplotlib.cm as cm"
   ]
  },
  {
   "cell_type": "code",
   "execution_count": 2,
   "metadata": {
    "ExecuteTime": {
     "end_time": "2021-05-17T07:24:41.960251Z",
     "start_time": "2021-05-17T07:24:38.167328Z"
    }
   },
   "outputs": [
    {
     "name": "stdout",
     "output_type": "stream",
     "text": [
      "[[[0.03969337 0.00392356 0.44413631 0.61586325]\n",
      "  [0.49280477 0.00392356 0.44413631 0.61586325]\n",
      "  [0.49280477 0.03969337 0.44413631 0.61586325]\n",
      "  [0.49280477 0.03969337 0.00392356 0.61586325]\n",
      "  [0.49280477 0.03969337 0.00392356 0.44413631]]\n",
      "\n",
      " [[0.36090256 0.19136887 0.70290508 0.67715295]\n",
      "  [0.53637054 0.19136887 0.70290508 0.67715295]\n",
      "  [0.53637054 0.36090256 0.70290508 0.67715295]\n",
      "  [0.53637054 0.36090256 0.19136887 0.67715295]\n",
      "  [0.53637054 0.36090256 0.19136887 0.70290508]]\n",
      "\n",
      " [[0.32976336 0.86943941 0.71460571 0.78385341]\n",
      "  [0.7755049  0.86943941 0.71460571 0.78385341]\n",
      "  [0.7755049  0.32976336 0.71460571 0.78385341]\n",
      "  [0.7755049  0.32976336 0.86943941 0.78385341]\n",
      "  [0.7755049  0.32976336 0.86943941 0.71460571]]\n",
      "\n",
      " ...\n",
      "\n",
      " [[0.23781988 0.20529782 0.81261602 0.5204592 ]\n",
      "  [0.57397727 0.20529782 0.81261602 0.5204592 ]\n",
      "  [0.57397727 0.23781988 0.81261602 0.5204592 ]\n",
      "  [0.57397727 0.23781988 0.20529782 0.5204592 ]\n",
      "  [0.57397727 0.23781988 0.20529782 0.81261602]]\n",
      "\n",
      " [[0.18049544 0.15978565 0.60606575 0.8266402 ]\n",
      "  [0.25607368 0.15978565 0.60606575 0.8266402 ]\n",
      "  [0.25607368 0.18049544 0.60606575 0.8266402 ]\n",
      "  [0.25607368 0.18049544 0.15978565 0.8266402 ]\n",
      "  [0.25607368 0.18049544 0.15978565 0.60606575]]\n",
      "\n",
      " [[0.15179482 0.78942895 0.59922057 0.01415055]\n",
      "  [0.9252003  0.78942895 0.59922057 0.01415055]\n",
      "  [0.9252003  0.15179482 0.59922057 0.01415055]\n",
      "  [0.9252003  0.15179482 0.78942895 0.01415055]\n",
      "  [0.9252003  0.15179482 0.78942895 0.59922057]]]\n",
      "[[[0.42329769 0.13742414 0.02865329 0.54921782]\n",
      "  [0.02141418 0.13742414 0.02865329 0.54921782]\n",
      "  [0.02141418 0.42329769 0.02865329 0.54921782]\n",
      "  [0.02141418 0.42329769 0.13742414 0.54921782]\n",
      "  [0.02141418 0.42329769 0.13742414 0.02865329]]\n",
      "\n",
      " [[0.53316174 0.40183788 0.6349608  0.47039889]\n",
      "  [0.81393791 0.40183788 0.6349608  0.47039889]\n",
      "  [0.81393791 0.53316174 0.6349608  0.47039889]\n",
      "  [0.81393791 0.53316174 0.40183788 0.47039889]\n",
      "  [0.81393791 0.53316174 0.40183788 0.6349608 ]]\n",
      "\n",
      " [[0.74452404 0.66642701 0.71149437 0.45589367]\n",
      "  [0.06430696 0.66642701 0.71149437 0.45589367]\n",
      "  [0.06430696 0.74452404 0.71149437 0.45589367]\n",
      "  [0.06430696 0.74452404 0.66642701 0.45589367]\n",
      "  [0.06430696 0.74452404 0.66642701 0.71149437]]\n",
      "\n",
      " ...\n",
      "\n",
      " [[0.15812295 0.55862643 0.22895906 0.34270492]\n",
      "  [0.27870537 0.55862643 0.22895906 0.34270492]\n",
      "  [0.27870537 0.15812295 0.22895906 0.34270492]\n",
      "  [0.27870537 0.15812295 0.55862643 0.34270492]\n",
      "  [0.27870537 0.15812295 0.55862643 0.22895906]]\n",
      "\n",
      " [[0.27058383 0.1348313  0.24050415 0.64071483]\n",
      "  [0.8028468  0.1348313  0.24050415 0.64071483]\n",
      "  [0.8028468  0.27058383 0.24050415 0.64071483]\n",
      "  [0.8028468  0.27058383 0.1348313  0.64071483]\n",
      "  [0.8028468  0.27058383 0.1348313  0.24050415]]\n",
      "\n",
      " [[0.20984132 0.04916023 0.98436266 0.65398662]\n",
      "  [0.66064411 0.04916023 0.98436266 0.65398662]\n",
      "  [0.66064411 0.20984132 0.98436266 0.65398662]\n",
      "  [0.66064411 0.20984132 0.04916023 0.65398662]\n",
      "  [0.66064411 0.20984132 0.04916023 0.98436266]]]\n",
      "[1.59642126 2.4687     3.4731668  ... 2.3501702  2.02906072 2.47979519]\n",
      "[1.16000712 2.85429722 2.64264605 ... 1.56711873 2.0894809  2.55799495]\n"
     ]
    }
   ],
   "source": [
    "Agent_number_n=5;\n",
    "Alpha = (1-0.667 - 0.01);\n",
    "\n",
    "global temp_list\n",
    "temp_list = []\n",
    "def appen(_x_list,y):\n",
    "    global temp_list\n",
    "    temp_list.append(_x_list)\n",
    "    \n",
    "def appen_train(x_list):\n",
    "    global temp_list\n",
    "                \n",
    "    S= max(sum(x_list),1.0);\n",
    "    temp_list = []\n",
    "    \n",
    "    for i in range(Agent_number_n):\n",
    "        temp = []\n",
    "        for j in range(Agent_number_n):\n",
    "            if(i!=j):\n",
    "                temp.append(x_list[j])\n",
    "        appen(temp,S)\n",
    "    \n",
    "    training_data.append(temp_list)\n",
    "    training_label.append(S)\n",
    "    \n",
    "\n",
    "def read_training_data():\n",
    "    for i in range(100000):\n",
    "        appen_train(np.random.rand(Agent_number_n));\n",
    "\n",
    "training_data=[]\n",
    "training_label=[]\n",
    "S=1.0\n",
    "read_training_data();\n",
    "\n",
    "def appen_test(x_list):\n",
    "    global temp_list\n",
    "                \n",
    "    S= max(sum(x_list),1.0);\n",
    "    temp_list = []\n",
    "    \n",
    "    for i in range(Agent_number_n):\n",
    "        temp = []\n",
    "        for j in range(Agent_number_n):\n",
    "            if(i!=j):\n",
    "                temp.append(x_list[j])\n",
    "        appen(temp,S)\n",
    "    testing_data.append(temp_list)\n",
    "    testing_label.append(S)\n",
    "    \n",
    "\n",
    "def read_testing_data():\n",
    "#     devided=20\n",
    "#     for i1 in range(devided+1):\n",
    "#         for i2 in range(i1+1):\n",
    "#             for i3 in range(i2+1):\n",
    "#                 appen_test(i1/devided,i2/devided,i3/devided);\n",
    "    for i in range(100000):\n",
    "        appen_test(np.random.rand(Agent_number_n));\n",
    "                            \n",
    "\n",
    "testing_data=[]\n",
    "testing_label=[]\n",
    "S=1.0\n",
    "read_testing_data();\n",
    "\n",
    "training_data=np.array(training_data)\n",
    "training_label=np.array(training_label)\n",
    "testing_data=np.array(testing_data)\n",
    "testing_label=np.array(testing_label)\n",
    "print(training_data)\n",
    "print(testing_data)\n",
    "print(training_label)\n",
    "print(testing_label)"
   ]
  },
  {
   "cell_type": "code",
   "execution_count": 3,
   "metadata": {
    "ExecuteTime": {
     "end_time": "2021-05-17T07:24:41.976209Z",
     "start_time": "2021-05-17T07:24:41.962245Z"
    }
   },
   "outputs": [],
   "source": [
    "def h_3_star(a, b, t):\n",
    "    return a - min(a, t) + b - min(b, t) + max(min(a, t)+min(b, t), 2*t/3) + 1/2 * max(min(a, t)+min(b, t), t) - 1/2 * max(max(min(a, t), min(b, t)), 2*t/3) - t/6\n",
    "\n",
    "\n",
    "def f_function(a, b, z):\n",
    "    if(z >= 1):\n",
    "        return (a+b)/2 + z/3\n",
    "    else:\n",
    "        return z/3 + h_3_star(a, b, 1-z)/2\n",
    "\n",
    "def h_function(input_list):\n",
    "    #input_list = sorted(input_list)\n",
    "    g_list = []\n",
    "    for j1 in range(len(input_list) ):\n",
    "        for j2 in range(len(input_list)):\n",
    "            if(j1 != j2):\n",
    "                a = input_list[j1]\n",
    "                b = input_list[j2]\n",
    "                z = sum(input_list)- a-b\n",
    "\n",
    "                g_list.append( f_function(a, b, z) * (Agent_number_n-1))\n",
    "    h = sum(g_list) * 3 /  (Agent_number_n) /  (Agent_number_n-1) /  (Agent_number_n - 2)\n",
    "    return h\n",
    "                \n",
    "                "
   ]
  },
  {
   "cell_type": "code",
   "execution_count": 4,
   "metadata": {
    "ExecuteTime": {
     "end_time": "2021-05-17T07:24:42.038885Z",
     "start_time": "2021-05-17T07:24:41.978204Z"
    }
   },
   "outputs": [
    {
     "name": "stdout",
     "output_type": "stream",
     "text": [
      "100000\n"
     ]
    }
   ],
   "source": [
    "print(len(training_data))"
   ]
  },
  {
   "cell_type": "code",
   "execution_count": 5,
   "metadata": {
    "ExecuteTime": {
     "end_time": "2021-05-17T07:25:23.569636Z",
     "start_time": "2021-05-17T07:24:42.039883Z"
    },
    "run_control": {
     "marked": true
    }
   },
   "outputs": [
    {
     "name": "stdout",
     "output_type": "stream",
     "text": [
      "4.390693951250498 3.9999999999999982 0.39069395125049944\n"
     ]
    },
    {
     "data": {
      "image/png": "[encoded data removed]",
      "text/plain": [
       "<Figure size 432x288 with 1 Axes>"
      ]
     },
     "metadata": {
      "needs_background": "light"
     },
     "output_type": "display_data"
    }
   ],
   "source": [
    "x_list = []\n",
    "y_list = []\n",
    "z_list = []\n",
    "result_list = []\n",
    "for index in range(len(testing_data)):\n",
    "    h_list = []\n",
    "    for i in range(Agent_number_n):\n",
    "        x_list.append(testing_data[index][i][0])\n",
    "        y_list.append(testing_data[index][i][1])\n",
    "        h = h_function(testing_data[index][i])\n",
    "        z_list.append(float(h))\n",
    "        h_list.append(float(h))\n",
    "    result_list.append(sum(h_list)/testing_label[index]) \n",
    "print(max(result_list), min(result_list), max(result_list)-min(result_list))\n",
    "\n",
    "\n",
    "plt.hist(result_list,bins=500)\n",
    "\n",
    "plt.title(\"Means\", y=1.015, fontsize=20)\n",
    "plt.axvline(x=sum(result_list)/len(result_list), linestyle='--', linewidth=2.5, label=\"sample mean\", c='orange')\n",
    "plt.xlabel(\"samples\", labelpad=14)\n",
    "plt.ylabel(\"frequency of occurence\", labelpad=14)\n",
    "plt.legend();\n",
    "\n",
    "result_list.sort()\n",
    "\n",
    "plt.axvline(x=result_list[int(len(result_list)*0.001)], linestyle='--', linewidth=0.5, label=\"0.1%\", c='b')\n",
    "plt.axvline(x=result_list[int(len(result_list)*0.999)], linestyle='--', linewidth=0.5, label=\"99%\", c='r')\n",
    "\n",
    "\n",
    "plt.show()"
   ]
  },
  {
   "cell_type": "code",
   "execution_count": null,
   "metadata": {},
   "outputs": [],
   "source": []
  }
 ],
 "metadata": {
  "hide_input": false,
  "kernelspec": {
   "display_name": "Python 3",
   "language": "python",
   "name": "python3"
  },
  "language_info": {
   "codemirror_mode": {
    "name": "ipython",
    "version": 3
   },
   "file_extension": ".py",
   "mimetype": "text/x-python",
   "name": "python",
   "nbconvert_exporter": "python",
   "pygments_lexer": "ipython3",
   "version": "3.8.3"
  },
  "varInspector": {
   "cols": {
    "lenName": 16,
    "lenType": 16,
    "lenVar": 40
   },
   "kernels_config": {
    "python": {
     "delete_cmd_postfix": "",
     "delete_cmd_prefix": "del ",
     "library": "var_list.py",
     "varRefreshCmd": "print(var_dic_list())"
    },
    "r": {
     "delete_cmd_postfix": ") ",
     "delete_cmd_prefix": "rm(",
     "library": "var_list.r",
     "varRefreshCmd": "cat(var_dic_list()) "
    }
   },
   "types_to_exclude": [
    "module",
    "function",
    "builtin_function_or_method",
    "instance",
    "_Feature"
   ],
   "window_display": false
  }
 },
 "nbformat": 4,
 "nbformat_minor": 4
}
