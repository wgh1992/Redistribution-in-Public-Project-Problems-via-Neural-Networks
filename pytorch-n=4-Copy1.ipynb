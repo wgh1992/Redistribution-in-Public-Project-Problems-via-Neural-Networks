{
 "cells": [
  {
   "cell_type": "code",
   "execution_count": 1,
   "metadata": {
    "ExecuteTime": {
     "end_time": "2021-05-17T13:38:38.812309Z",
     "start_time": "2021-05-17T13:38:37.629518Z"
    }
   },
   "outputs": [
    {
     "name": "stdout",
     "output_type": "stream",
     "text": [
      "pygame 2.0.1 (SDL 2.0.14, Python 3.8.3)\n",
      "Hello from the pygame community. https://www.pygame.org/contribute.html\n"
     ]
    },
    {
     "name": "stderr",
     "output_type": "stream",
     "text": [
      "D:\\ComputerSoftwares\\Anaconda\\lib\\site-packages\\sklearn\\utils\\deprecation.py:143: FutureWarning: The sklearn.datasets.samples_generator module is  deprecated in version 0.22 and will be removed in version 0.24. The corresponding classes / functions should instead be imported from sklearn.datasets. Anything that cannot be imported from sklearn.datasets is now part of the private API.\n",
      "  warnings.warn(message, FutureWarning)\n"
     ]
    }
   ],
   "source": [
    "\"\"\"\n",
    "The classic game of flappy bird. Make with python\n",
    "and pygame. Features pixel perfect collision using masks :o\n",
    "Date Modified:  Jul 30, 2019\n",
    "Author: Tech With Tim\n",
    "Estimated Work Time: 5 hours (1 just for that damn collision)\n",
    "\"\"\"\n",
    "import pygame\n",
    "import random\n",
    "import os\n",
    "import time\n",
    "import numpy as np\n",
    "import math\n",
    "import torch\n",
    "import torch.nn.functional\n",
    "import matplotlib.pyplot as plt\n",
    "import torch.optim as opt\n",
    "from torch.autograd import Variable\n",
    "from sklearn.model_selection import train_test_split\n",
    "\n",
    "import scipy.stats as st\n",
    "from sklearn.datasets.samples_generator import make_blobs\n",
    "from matplotlib.colors import LogNorm \n",
    "import matplotlib.cm as cm\n",
    "import torch.nn as nn\n",
    "import numpy as np\n",
    "import matplotlib.pyplot as plt\n",
    "\n",
    "\n",
    "if torch.cuda.is_available():  \n",
    "    dev = \"cuda:0\" \n",
    "else:  \n",
    "    dev = \"cpu\"  \n",
    "\n",
    "print(dev)\n"
   ]
  },
  {
   "cell_type": "code",
   "execution_count": 2,
   "metadata": {
    "ExecuteTime": {
     "end_time": "2021-05-17T13:38:38.827939Z",
     "start_time": "2021-05-17T13:38:38.814269Z"
    }
   },
   "outputs": [],
   "source": [
    "global target_order\n",
    "target_order = \"supervised\"\n",
    "\n",
    "global target_order\n",
    "target_order = \"supervised\"\n",
    "global temp_list\n",
    "temp_list = []\n",
    "Agent_number_n=4;\n",
    "Alpha = (1-0.650 - 0.01);\n",
    "\n",
    "\n",
    "# torch.manual_seed(1)    # reproducible\n",
    "# np.random.seed(1)\n",
    "\n",
    "# Hyper Parameters\n",
    "BATCH_SIZE = 64\n",
    "LR_G = 0.0001           # learning rate for generator\n",
    "LR_D = 0.0001           # learning rate for discriminator\n",
    "N_IDEAS = Agent_number_n             # think of this as number of ideas for generating an art work (Generator)\n",
    "ART_COMPONENTS = Agent_number_n     # it could be total point G can draw in the canvas\n",
    "PAINT_POINTS = np.vstack([np.linspace(-1, 1, ART_COMPONENTS) for _ in range(BATCH_SIZE)])"
   ]
  },
  {
   "cell_type": "code",
   "execution_count": 3,
   "metadata": {
    "ExecuteTime": {
     "end_time": "2021-05-17T13:38:41.891442Z",
     "start_time": "2021-05-17T13:38:38.829941Z"
    }
   },
   "outputs": [
    {
     "name": "stdout",
     "output_type": "stream",
     "text": [
      "[[[2.83476142e-01 4.92579347e-01 8.97445205e-04]\n",
      "  [7.73550749e-02 4.92579347e-01 8.97445205e-04]\n",
      "  [7.73550749e-02 2.83476142e-01 8.97445205e-04]\n",
      "  [7.73550749e-02 2.83476142e-01 4.92579347e-01]]\n",
      "\n",
      " [[1.57974169e-01 9.39382627e-01 9.72037284e-02]\n",
      "  [8.05516291e-01 9.39382627e-01 9.72037284e-02]\n",
      "  [8.05516291e-01 1.57974169e-01 9.72037284e-02]\n",
      "  [8.05516291e-01 1.57974169e-01 9.39382627e-01]]\n",
      "\n",
      " [[2.25255248e-01 9.88253580e-01 2.39819045e-01]\n",
      "  [1.62150515e-01 9.88253580e-01 2.39819045e-01]\n",
      "  [1.62150515e-01 2.25255248e-01 2.39819045e-01]\n",
      "  [1.62150515e-01 2.25255248e-01 9.88253580e-01]]\n",
      "\n",
      " ...\n",
      "\n",
      " [[8.62519945e-01 8.26116832e-01 9.93924433e-01]\n",
      "  [9.18713725e-01 8.26116832e-01 9.93924433e-01]\n",
      "  [9.18713725e-01 8.62519945e-01 9.93924433e-01]\n",
      "  [9.18713725e-01 8.62519945e-01 8.26116832e-01]]\n",
      "\n",
      " [[5.18995601e-01 2.91336367e-01 4.05098526e-01]\n",
      "  [8.37467811e-01 2.91336367e-01 4.05098526e-01]\n",
      "  [8.37467811e-01 5.18995601e-01 4.05098526e-01]\n",
      "  [8.37467811e-01 5.18995601e-01 2.91336367e-01]]\n",
      "\n",
      " [[6.91717675e-01 2.49402542e-01 2.80019820e-01]\n",
      "  [6.00132495e-02 2.49402542e-01 2.80019820e-01]\n",
      "  [6.00132495e-02 6.91717675e-01 2.80019820e-01]\n",
      "  [6.00132495e-02 6.91717675e-01 2.49402542e-01]]]\n",
      "[[[0.61890448 0.00245066 0.65283037]\n",
      "  [0.79466345 0.00245066 0.65283037]\n",
      "  [0.79466345 0.61890448 0.65283037]\n",
      "  [0.79466345 0.61890448 0.00245066]]\n",
      "\n",
      " [[0.93683868 0.11533993 0.12041943]\n",
      "  [0.48256553 0.11533993 0.12041943]\n",
      "  [0.48256553 0.93683868 0.12041943]\n",
      "  [0.48256553 0.93683868 0.11533993]]\n",
      "\n",
      " [[0.9531963  0.43492057 0.39124548]\n",
      "  [0.24943433 0.43492057 0.39124548]\n",
      "  [0.24943433 0.9531963  0.39124548]\n",
      "  [0.24943433 0.9531963  0.43492057]]\n",
      "\n",
      " ...\n",
      "\n",
      " [[0.80109773 0.45804596 0.96117823]\n",
      "  [0.9155151  0.45804596 0.96117823]\n",
      "  [0.9155151  0.80109773 0.96117823]\n",
      "  [0.9155151  0.80109773 0.45804596]]\n",
      "\n",
      " [[0.9710887  0.08522205 0.30151014]\n",
      "  [0.02575052 0.08522205 0.30151014]\n",
      "  [0.02575052 0.9710887  0.30151014]\n",
      "  [0.02575052 0.9710887  0.08522205]]\n",
      "\n",
      " [[0.28849007 0.87613967 0.6345444 ]\n",
      "  [0.32497877 0.87613967 0.6345444 ]\n",
      "  [0.32497877 0.28849007 0.6345444 ]\n",
      "  [0.32497877 0.28849007 0.87613967]]]\n",
      "[1.         2.00007682 1.61547839 ... 3.60127494 2.0528983  1.28115329]\n",
      "[2.06884896 1.65516357 2.02879668 ... 3.13583702 1.3835714  2.12415291]\n"
     ]
    }
   ],
   "source": [
    "global temp_list\n",
    "temp_list = []\n",
    "def appen(_x_list,y):\n",
    "    global temp_list\n",
    "    temp_list.append(_x_list)\n",
    "    \n",
    "def appen_train(x_list):\n",
    "    global temp_list\n",
    "                \n",
    "    S= max(sum(x_list),1.0);\n",
    "    temp_list = []\n",
    "    \n",
    "    for i in range(Agent_number_n):\n",
    "        temp = []\n",
    "        for j in range(Agent_number_n):\n",
    "            if(i!=j):\n",
    "                temp.append(x_list[j])\n",
    "        appen(temp,S)\n",
    "    \n",
    "    training_data.append(temp_list)\n",
    "    training_label.append(S)\n",
    "    \n",
    "\n",
    "def read_training_data():\n",
    "    for i in range(100000):\n",
    "        appen_train(np.random.rand(Agent_number_n));\n",
    "\n",
    "training_data=[]\n",
    "training_label=[]\n",
    "S=1.0\n",
    "read_training_data();\n",
    "\n",
    "def appen_test(x_list):\n",
    "    global temp_list\n",
    "                \n",
    "    S= max(sum(x_list),1.0);\n",
    "    temp_list = []\n",
    "    \n",
    "    for i in range(Agent_number_n):\n",
    "        temp = []\n",
    "        for j in range(Agent_number_n):\n",
    "            if(i!=j):\n",
    "                temp.append(x_list[j])\n",
    "        appen(temp,S)\n",
    "    testing_data.append(temp_list)\n",
    "    testing_label.append(S)\n",
    "    \n",
    "\n",
    "def read_testing_data():\n",
    "#     devided=20\n",
    "#     for i1 in range(devided+1):\n",
    "#         for i2 in range(i1+1):\n",
    "#             for i3 in range(i2+1):\n",
    "#                 appen_test(i1/devided,i2/devided,i3/devided);\n",
    "    for i in range(100000):\n",
    "        appen_test(np.random.rand(Agent_number_n));\n",
    "                            \n",
    "\n",
    "testing_data=[]\n",
    "testing_label=[]\n",
    "S=1.0\n",
    "read_testing_data();\n",
    "\n",
    "training_data=np.array(training_data)\n",
    "training_label=np.array(training_label)\n",
    "testing_data=np.array(testing_data)\n",
    "testing_label=np.array(testing_label)\n",
    "print(training_data)\n",
    "print(testing_data)\n",
    "print(training_label)\n",
    "print(testing_label)"
   ]
  },
  {
   "cell_type": "code",
   "execution_count": 4,
   "metadata": {
    "ExecuteTime": {
     "end_time": "2021-05-17T13:39:06.008899Z",
     "start_time": "2021-05-17T13:38:41.893437Z"
    }
   },
   "outputs": [
    {
     "name": "stdout",
     "output_type": "stream",
     "text": [
      "3.3737152724301236 2.999999999999999 0.3737152724301245\n"
     ]
    }
   ],
   "source": [
    "def h_3_star(a, b, t):\n",
    "    return a - min(a, t) + b - min(b, t) + max(min(a, t)+min(b, t), 2*t/3) + 1/2 * max(min(a, t)+min(b, t), t) - 1/2 * max(max(min(a, t), min(b, t)), 2*t/3) - t/6\n",
    "\n",
    "\n",
    "def f_function(a, b, z):\n",
    "    if(z >= 1):\n",
    "        return (a+b)/2 + z/3\n",
    "    else:\n",
    "        return z/3 + h_3_star(a, b, 1-z)/2\n",
    "\n",
    "def h_function(input_list):\n",
    "    #input_list = sorted(input_list)\n",
    "    g_list = []\n",
    "    for j1 in range(len(input_list) ):\n",
    "        for j2 in range(len(input_list)):\n",
    "            if(j1 != j2):\n",
    "                a = input_list[j1]\n",
    "                b = input_list[j2]\n",
    "                z = sum(input_list)- a-b\n",
    "\n",
    "                g_list.append( f_function(a, b, z) * (Agent_number_n-1))\n",
    "    h = sum(g_list) * 3 /  (Agent_number_n) /  (Agent_number_n-1) /  (Agent_number_n - 2)\n",
    "    return h\n",
    "                \n",
    "                \n",
    "x_list = []\n",
    "y_list = []\n",
    "z_list = []\n",
    "result_list = []\n",
    "training_supervised_label=[]\n",
    "for index in range(len(training_data)):\n",
    "    h_list = []\n",
    "    for i in range(Agent_number_n):\n",
    "        x_list.append(training_data[index][i][0])\n",
    "        y_list.append(training_data[index][i][1])\n",
    "        h = h_function(training_data[index][i])\n",
    "        z_list.append(float(h))\n",
    "        h_list.append(float(h))\n",
    "    training_supervised_label.append(h_list)\n",
    "    result_list.append(sum(h_list)/training_label[index]) \n",
    "    \n",
    "    \n",
    "print(max(result_list), min(result_list), max(result_list)-min(result_list))"
   ]
  },
  {
   "cell_type": "code",
   "execution_count": 5,
   "metadata": {
    "ExecuteTime": {
     "end_time": "2021-05-17T13:39:07.035937Z",
     "start_time": "2021-05-17T13:39:06.010546Z"
    }
   },
   "outputs": [
    {
     "data": {
      "image/png": "[encoded data removed]",
      "text/plain": [
       "<Figure size 432x288 with 1 Axes>"
      ]
     },
     "metadata": {
      "needs_background": "light"
     },
     "output_type": "display_data"
    }
   ],
   "source": [
    "plt.hist(result_list,bins=500)\n",
    "\n",
    "plt.title(\"Means\", y=1.015, fontsize=20)\n",
    "plt.axvline(x=sum(result_list)/len(result_list), linestyle='--', linewidth=2.5, label=\"sample mean\", c='orange')\n",
    "plt.xlabel(\"samples\", labelpad=14)\n",
    "plt.ylabel(\"frequency of occurence\", labelpad=14)\n",
    "plt.legend();\n",
    "\n",
    "result_list.sort()\n",
    "\n",
    "plt.axvline(x=result_list[int(len(result_list)*0.001)], linestyle='--', linewidth=0.5, label=\"0.1%\", c='b')\n",
    "plt.axvline(x=result_list[int(len(result_list)*0.999)], linestyle='--', linewidth=0.5, label=\"99%\", c='r')\n",
    "\n",
    "\n",
    "plt.show()"
   ]
  },
  {
   "cell_type": "code",
   "execution_count": 6,
   "metadata": {
    "ExecuteTime": {
     "end_time": "2021-05-17T13:39:07.146944Z",
     "start_time": "2021-05-17T13:39:07.036900Z"
    }
   },
   "outputs": [
    {
     "name": "stdout",
     "output_type": "stream",
     "text": [
      "[[0.79437486 0.75       0.75       0.85061742]\n",
      " [1.14093217 1.95035982 1.00555913 2.02632287]\n",
      " [1.44606475 1.36718383 0.75       1.34897909]\n",
      " ...\n",
      " [2.72224106 2.77141062 2.80326334 2.65643169]\n",
      " [1.28910201 1.60332795 1.88790199 1.74569929]\n",
      " [1.25599096 0.75       0.98374385 0.94547225]]\n"
     ]
    }
   ],
   "source": [
    "training_supervised_label=np.array(training_supervised_label)\n",
    "print(training_supervised_label)"
   ]
  },
  {
   "cell_type": "code",
   "execution_count": 7,
   "metadata": {
    "ExecuteTime": {
     "end_time": "2021-05-17T13:39:08.084139Z",
     "start_time": "2021-05-17T13:39:07.149937Z"
    }
   },
   "outputs": [
    {
     "name": "stdout",
     "output_type": "stream",
     "text": [
      "cuda:0\n"
     ]
    }
   ],
   "source": [
    "if torch.cuda.is_available():  \n",
    "    dev = \"cuda:0\" \n",
    "else:  \n",
    "    dev = \"cpu\"  \n",
    "\n",
    "print(dev)\n"
   ]
  },
  {
   "cell_type": "code",
   "execution_count": 8,
   "metadata": {
    "ExecuteTime": {
     "end_time": "2021-05-17T13:39:08.116122Z",
     "start_time": "2021-05-17T13:39:08.086133Z"
    },
    "run_control": {
     "marked": true
    }
   },
   "outputs": [],
   "source": [
    "def weight_init(m):\n",
    "    if isinstance(m, torch.nn.Conv2d):\n",
    "        torch.nn.init.xavier_normal_(m.weight, gain=nn.init.calculate_gain('relu'))\n",
    "        torch.nn.init.zeros_(m.bias)\n",
    "    elif isinstance(m, torch.nn.Linear):\n",
    "        torch.nn.init.xavier_normal_(m.weight)\n",
    "        torch.nn.init.zeros_(m.bias)\n",
    "        \n",
    "\n",
    "class Net(torch.nn.Module):\n",
    "    def __init__(self):\n",
    "\n",
    "        super(Net, self).__init__()\n",
    "\n",
    "        num_input = Agent_number_n-1\n",
    "        num_hidden = 100\n",
    "        num_output = 1\n",
    "\n",
    "        self.hidden_0 = torch.nn.Linear(num_input, num_hidden)\n",
    "        self.hidden_1 = torch.nn.Linear(num_hidden, num_hidden)\n",
    "        self.hidden_2 = torch.nn.Linear(num_hidden, num_hidden)\n",
    "        self.hidden_3 = torch.nn.Linear(num_hidden, num_hidden)\n",
    "        self.output_allocation = torch.nn.Linear(num_hidden, num_output)\n",
    "\n",
    "    def calculate(self, value_list):\n",
    "        h1 = torch.relu_(self.hidden_0(value_list))\n",
    "        h2 = torch.relu_(self.hidden_1(h1))\n",
    "        h3 = torch.relu_(self.hidden_2(h2))\n",
    "        h4 = torch.relu_(self.hidden_3(h3))\n",
    "        h = torch.relu(self.output_allocation(h4))\n",
    "\n",
    "        return h\n",
    "\n",
    "    def forward(self, input_list,input_label,label):\n",
    "        global iteration,echo,target_order\n",
    "        loss1 = 0\n",
    "        loss2 = 0\n",
    "        input_list = torch.from_numpy(\n",
    "            np.array(input_list)).cuda().type(torch.float32)\n",
    "        h_list = []\n",
    "\n",
    "        if (target_order == \"supervised\"):\n",
    "            loss = 0 \n",
    "            for i in range(Agent_number_n):\n",
    "                h = self.calculate(input_list[i])\n",
    "                loss += torch.square(h - label[i])\n",
    "                h_list.append(h)\n",
    "            return loss\n",
    "        else:\n",
    "            for i in range(Agent_number_n):\n",
    "                h = self.calculate(input_list[i])\n",
    "                h_list.append(h)\n",
    "            input_label = torch.from_numpy(\n",
    "                np.array(input_label)).cuda().type(torch.float32)\n",
    "            sum_h = torch.sum(torch.cat(h_list)).cuda()\n",
    "\n",
    "\n",
    "            loss1 = torch.where((Agent_number_n-1)*input_label>sum_h,\n",
    "                            torch.square((Agent_number_n-1)*input_label-sum_h),\n",
    "                            torch.zeros(1).cuda()\n",
    "                          )\n",
    "\n",
    "            loss2 = torch.where((Agent_number_n-Alpha)*input_label<sum_h,\n",
    "                            torch.square(sum_h-(Agent_number_n-Alpha)*input_label),\n",
    "                            torch.zeros(1).cuda()\n",
    "                          )\n",
    "\n",
    "            return loss1,loss2,h_list"
   ]
  },
  {
   "cell_type": "code",
   "execution_count": 9,
   "metadata": {
    "ExecuteTime": {
     "end_time": "2021-05-17T13:39:09.331434Z",
     "start_time": "2021-05-17T13:39:08.119144Z"
    }
   },
   "outputs": [
    {
     "data": {
      "text/plain": [
       "Net(\n",
       "  (hidden_0): Linear(in_features=3, out_features=100, bias=True)\n",
       "  (hidden_1): Linear(in_features=100, out_features=100, bias=True)\n",
       "  (hidden_2): Linear(in_features=100, out_features=100, bias=True)\n",
       "  (hidden_3): Linear(in_features=100, out_features=100, bias=True)\n",
       "  (output_allocation): Linear(in_features=100, out_features=1, bias=True)\n",
       ")"
      ]
     },
     "execution_count": 9,
     "metadata": {},
     "output_type": "execute_result"
    }
   ],
   "source": [
    "random.seed(2000)\n",
    "torch.manual_seed(256)\n",
    "net  = Net()\n",
    "net.apply(weight_init)\n",
    "\n",
    "net = torch.load(\"save/Deep_learning_4_1\")\n",
    "net.to(dev)"
   ]
  },
  {
   "cell_type": "code",
   "execution_count": 10,
   "metadata": {
    "ExecuteTime": {
     "end_time": "2021-05-17T13:39:09.347302Z",
     "start_time": "2021-05-17T13:39:09.331434Z"
    },
    "run_control": {
     "marked": true
    }
   },
   "outputs": [],
   "source": [
    "#optimizer = opt.RMSprop(net.parameters(), lr=0.00001)\n",
    "#optimizer = opt.SGD(net.parameters(), lr=0.00001)\n",
    "optimizer = opt.Adam(net.parameters(), lr=0.00002)\n",
    "\n",
    "batch_size = 64\n",
    "echo = 5"
   ]
  },
  {
   "cell_type": "code",
   "execution_count": 11,
   "metadata": {
    "ExecuteTime": {
     "end_time": "2021-05-17T14:06:33.034177Z",
     "start_time": "2021-05-17T13:39:09.350296Z"
    }
   },
   "outputs": [
    {
     "name": "stdout",
     "output_type": "stream",
     "text": [
      "3024 tensor([3.3841e-05], device='cuda:0', grad_fn=<DivBackward0>) 0.002165805082768202\n",
      "4347 tensor([2.7654e-05], device='cuda:0', grad_fn=<DivBackward0>) 0.001769845373928547\n",
      "8883 tensor([4.0740e-05], device='cuda:0', grad_fn=<DivBackward0>) 0.0026073839981108904\n",
      "13104 tensor([3.6898e-05], device='cuda:0', grad_fn=<DivBackward0>) 0.0023614882957190275\n",
      "16128 tensor([2.6964e-05], device='cuda:0', grad_fn=<DivBackward0>) 0.0017257258296012878\n",
      "25011 tensor([3.0174e-05], device='cuda:0', grad_fn=<DivBackward0>) 0.0019311353098601103\n",
      "35091 tensor([4.2884e-05], device='cuda:0', grad_fn=<DivBackward0>) 0.0027445778250694275\n",
      "36351 tensor([3.5440e-05], device='cuda:0', grad_fn=<DivBackward0>) 0.0022681429982185364\n",
      "36666 tensor([3.5680e-05], device='cuda:0', grad_fn=<DivBackward0>) 0.0022835046984255314\n",
      "56007 tensor([3.8109e-05], device='cuda:0', grad_fn=<DivBackward0>) 0.002438994823023677\n",
      "68103 tensor([3.4739e-05], device='cuda:0', grad_fn=<DivBackward0>) 0.0022233144845813513\n",
      "68166 tensor([2.9211e-05], device='cuda:0', grad_fn=<DivBackward0>) 0.001869494211860001\n",
      "80010 tensor([3.2068e-05], device='cuda:0', grad_fn=<DivBackward0>) 0.0020523271523416042\n",
      "82026 tensor([3.2187e-05], device='cuda:0', grad_fn=<DivBackward0>) 0.0020599670242518187\n",
      "85680 tensor([3.4056e-05], device='cuda:0', grad_fn=<DivBackward0>) 0.002179568400606513\n",
      "85869 tensor([3.0892e-05], device='cuda:0', grad_fn=<DivBackward0>) 0.0019770669750869274\n",
      "94878 tensor([4.0783e-05], device='cuda:0', grad_fn=<DivBackward0>) 0.0026101034600287676\n",
      "batch iteration 0\n",
      "batch_loss: 0.00 \n",
      "\n",
      "\n",
      "4032 tensor([3.0898e-05], device='cuda:0', grad_fn=<DivBackward0>) 0.0019774632528424263\n",
      "7371 tensor([2.6667e-05], device='cuda:0', grad_fn=<DivBackward0>) 0.0017067056614905596\n",
      "9450 tensor([3.3186e-05], device='cuda:0', grad_fn=<DivBackward0>) 0.002123903250321746\n",
      "15687 tensor([2.7991e-05], device='cuda:0', grad_fn=<DivBackward0>) 0.0017914249328896403\n",
      "17451 tensor([3.1522e-05], device='cuda:0', grad_fn=<DivBackward0>) 0.0020173799712210894\n",
      "23247 tensor([3.6474e-05], device='cuda:0', grad_fn=<DivBackward0>) 0.0023343446664512157\n",
      "28287 tensor([2.8465e-05], device='cuda:0', grad_fn=<DivBackward0>) 0.0018217917531728745\n",
      "37926 tensor([3.2784e-05], device='cuda:0', grad_fn=<DivBackward0>) 0.0020981740672141314\n",
      "45045 tensor([3.4210e-05], device='cuda:0', grad_fn=<DivBackward0>) 0.002189420396462083\n",
      "50715 tensor([2.3022e-05], device='cuda:0', grad_fn=<DivBackward0>) 0.0014733963180333376\n",
      "61866 tensor([2.5779e-05], device='cuda:0', grad_fn=<DivBackward0>) 0.0016498671611770988\n",
      "71442 tensor([3.1097e-05], device='cuda:0', grad_fn=<DivBackward0>) 0.001990232616662979\n",
      "86310 tensor([2.8629e-05], device='cuda:0', grad_fn=<DivBackward0>) 0.0018322246614843607\n",
      "97713 tensor([2.7145e-05], device='cuda:0', grad_fn=<DivBackward0>) 0.0017372953006997705\n",
      "batch iteration 1\n",
      "batch_loss: 0.00 \n",
      "\n",
      "\n",
      "9702 tensor([3.8779e-05], device='cuda:0', grad_fn=<DivBackward0>) 0.0024818535894155502\n",
      "17640 tensor([2.0808e-05], device='cuda:0', grad_fn=<DivBackward0>) 0.0013317420380190015\n",
      "18396 tensor([2.7130e-05], device='cuda:0', grad_fn=<DivBackward0>) 0.0017363009974360466\n",
      "18459 tensor([2.6130e-05], device='cuda:0', grad_fn=<DivBackward0>) 0.0016723118023946881\n",
      "23373 tensor([2.5904e-05], device='cuda:0', grad_fn=<DivBackward0>) 0.0016578673385083675\n",
      "41769 tensor([2.3501e-05], device='cuda:0', grad_fn=<DivBackward0>) 0.0015040836296975613\n",
      "58086 tensor([3.4651e-05], device='cuda:0', grad_fn=<DivBackward0>) 0.0022176788188517094\n",
      "60354 tensor([2.2879e-05], device='cuda:0', grad_fn=<DivBackward0>) 0.001464259228669107\n",
      "74151 tensor([3.0317e-05], device='cuda:0', grad_fn=<DivBackward0>) 0.001940284506417811\n",
      "99603 tensor([3.0337e-05], device='cuda:0', grad_fn=<DivBackward0>) 0.0019415967399254441\n",
      "batch iteration 2\n",
      "batch_loss: 0.00 \n",
      "\n",
      "\n",
      "10269 tensor([2.3794e-05], device='cuda:0', grad_fn=<DivBackward0>) 0.001522794016636908\n",
      "10584 tensor([2.3790e-05], device='cuda:0', grad_fn=<DivBackward0>) 0.0015225840033963323\n",
      "14238 tensor([2.2391e-05], device='cuda:0', grad_fn=<DivBackward0>) 0.0014330479316413403\n",
      "22554 tensor([3.1706e-05], device='cuda:0', grad_fn=<DivBackward0>) 0.0020291879773139954\n",
      "25704 tensor([2.4510e-05], device='cuda:0', grad_fn=<DivBackward0>) 0.0015686593251302838\n",
      "41013 tensor([2.4935e-05], device='cuda:0', grad_fn=<DivBackward0>) 0.001595841720700264\n",
      "41139 tensor([2.6369e-05], device='cuda:0', grad_fn=<DivBackward0>) 0.0016875936416909099\n",
      "42903 tensor([2.5737e-05], device='cuda:0', grad_fn=<DivBackward0>) 0.0016471610870212317\n",
      "49203 tensor([2.5570e-05], device='cuda:0', grad_fn=<DivBackward0>) 0.0016365011688321829\n",
      "55062 tensor([3.6472e-05], device='cuda:0', grad_fn=<DivBackward0>) 0.0023341779597103596\n",
      "57960 tensor([3.1491e-05], device='cuda:0', grad_fn=<DivBackward0>) 0.0020154400262981653\n",
      "64638 tensor([2.3996e-05], device='cuda:0', grad_fn=<DivBackward0>) 0.0015357390511780977\n",
      "71505 tensor([3.1394e-05], device='cuda:0', grad_fn=<DivBackward0>) 0.002009220886975527\n",
      "75285 tensor([2.3945e-05], device='cuda:0', grad_fn=<DivBackward0>) 0.00153249385766685\n",
      "85617 tensor([2.8169e-05], device='cuda:0', grad_fn=<DivBackward0>) 0.001802810118533671\n",
      "91665 tensor([2.7147e-05], device='cuda:0', grad_fn=<DivBackward0>) 0.0017373833106830716\n",
      "94626 tensor([2.7404e-05], device='cuda:0', grad_fn=<DivBackward0>) 0.001753885531798005\n",
      "95886 tensor([2.8517e-05], device='cuda:0', grad_fn=<DivBackward0>) 0.0018251149449497461\n",
      "95949 tensor([2.7738e-05], device='cuda:0', grad_fn=<DivBackward0>) 0.0017752613639459014\n",
      "batch iteration 3\n",
      "batch_loss: 0.00 \n",
      "\n",
      "\n",
      "882 tensor([2.8617e-05], device='cuda:0', grad_fn=<DivBackward0>) 0.001831489964388311\n",
      "2709 tensor([2.9136e-05], device='cuda:0', grad_fn=<DivBackward0>) 0.0018647307297214866\n",
      "11592 tensor([2.7715e-05], device='cuda:0', grad_fn=<DivBackward0>) 0.0017737323651090264\n",
      "13041 tensor([2.7470e-05], device='cuda:0', grad_fn=<DivBackward0>) 0.001758065540343523\n",
      "42273 tensor([1.6599e-05], device='cuda:0', grad_fn=<DivBackward0>) 0.001062333001755178\n",
      "43974 tensor([3.3871e-05], device='cuda:0', grad_fn=<DivBackward0>) 0.0021677499171346426\n",
      "44856 tensor([2.3431e-05], device='cuda:0', grad_fn=<DivBackward0>) 0.0014995894161984324\n",
      "57708 tensor([2.2884e-05], device='cuda:0', grad_fn=<DivBackward0>) 0.0014645758783444762\n",
      "62244 tensor([2.5537e-05], device='cuda:0', grad_fn=<DivBackward0>) 0.0016343797324225307\n",
      "65583 tensor([2.6768e-05], device='cuda:0', grad_fn=<DivBackward0>) 0.001713172416202724\n",
      "72324 tensor([2.2881e-05], device='cuda:0', grad_fn=<DivBackward0>) 0.0014644095208495855\n",
      "73521 tensor([2.4558e-05], device='cuda:0', grad_fn=<DivBackward0>) 0.0015716917114332318\n",
      "80955 tensor([2.2117e-05], device='cuda:0', grad_fn=<DivBackward0>) 0.0014155043754726648\n",
      "batch iteration 4\n",
      "batch_loss: 0.00 \n",
      "\n",
      "\n"
     ]
    }
   ],
   "source": [
    "target_order = \"supervised\"\n",
    "for iteration in range(int(echo)):\n",
    "    # offender_types = []\n",
    "    # defender_types = []\n",
    "    \n",
    "    \n",
    "    X_train_list = []\n",
    "    temp_number = 0\n",
    "    total_batch_loss = 0 \n",
    "    while(temp_number<len(training_data)-1):\n",
    "        loss_sum = 0\n",
    "        denominator = 0\n",
    "        for index in range(temp_number, min(batch_size+temp_number,len(training_data))):\n",
    "            h_loss = net(training_data[index],training_label[index],training_supervised_label[index])\n",
    "            denominator += 1\n",
    "            loss_sum += h_loss\n",
    "            \n",
    "        loss = (loss_sum) / denominator \n",
    "        total_batch_loss +=float(loss_sum)\n",
    "        optimizer.zero_grad()\n",
    "        \n",
    "        loss.backward()\n",
    "        \n",
    "        optimizer.step()\n",
    "        \n",
    "        temp_number = index\n",
    "        \n",
    "        if(random.random()<=0.01):\n",
    "            print(temp_number,loss,float(loss_sum))\n",
    "\n",
    "\n",
    "    print(\"batch iteration\", iteration)\n",
    "    print(\"batch_loss: %.2f \" % (total_batch_loss/len(training_data)))\n",
    "    \n",
    "    print()\n",
    "    print()"
   ]
  },
  {
   "cell_type": "code",
   "execution_count": 12,
   "metadata": {
    "ExecuteTime": {
     "end_time": "2021-05-17T14:09:48.652593Z",
     "start_time": "2021-05-17T14:06:33.035608Z"
    }
   },
   "outputs": [
    {
     "name": "stdout",
     "output_type": "stream",
     "text": [
      "3.377741831241763 2.9830283522605896 0.39471347898117326\n"
     ]
    }
   ],
   "source": [
    "denominator = 0\n",
    "result_list = []\n",
    "for index in range(len(testing_data)):\n",
    "    h_list = []\n",
    "    for i in range(Agent_number_n):\n",
    "        h = net.calculate(torch.tensor(testing_data[index][i]).cuda().type(torch.float32))\n",
    "        h_list.append(float(h))\n",
    "    \n",
    "    #print(sum(h_list),h_list,sum(h_list)/testing_label[index])\n",
    "    result_list.append(sum(h_list)/testing_label[index])\n",
    "    \n",
    "\n",
    "print(max(result_list),min(result_list),max(result_list)-min(result_list))"
   ]
  },
  {
   "cell_type": "code",
   "execution_count": 13,
   "metadata": {
    "ExecuteTime": {
     "end_time": "2021-05-17T14:09:49.664220Z",
     "start_time": "2021-05-17T14:09:48.654588Z"
    }
   },
   "outputs": [
    {
     "data": {
      "image/png": "[encoded data removed]",
      "text/plain": [
       "<Figure size 432x288 with 1 Axes>"
      ]
     },
     "metadata": {
      "needs_background": "light"
     },
     "output_type": "display_data"
    }
   ],
   "source": [
    "plt.hist(result_list,bins=500)\n",
    "\n",
    "plt.title(\"Means\", y=1.015, fontsize=20)\n",
    "plt.axvline(x=sum(result_list)/len(result_list), linestyle='--', linewidth=2.5, label=\"sample mean\", c='orange')\n",
    "plt.xlabel(\"samples\", labelpad=14)\n",
    "plt.ylabel(\"frequency of occurence\", labelpad=14)\n",
    "plt.legend();\n",
    "\n",
    "result_list.sort()\n",
    "\n",
    "plt.axvline(x=result_list[int(len(result_list)*0.001)], linestyle='--', linewidth=0.5, label=\"0.1%\", c='b')\n",
    "plt.axvline(x=result_list[int(len(result_list)*0.999)], linestyle='--', linewidth=0.5, label=\"99%\", c='r')\n",
    "\n",
    "\n",
    "plt.show()"
   ]
  },
  {
   "cell_type": "code",
   "execution_count": 14,
   "metadata": {
    "ExecuteTime": {
     "end_time": "2021-05-17T14:09:49.679475Z",
     "start_time": "2021-05-17T14:09:49.666117Z"
    }
   },
   "outputs": [],
   "source": [
    "torch.save(net, \"save/Deep_learning_4_1\")"
   ]
  },
  {
   "cell_type": "code",
   "execution_count": 15,
   "metadata": {
    "ExecuteTime": {
     "end_time": "2021-05-17T14:09:49.695238Z",
     "start_time": "2021-05-17T14:09:49.683418Z"
    }
   },
   "outputs": [],
   "source": [
    "#optimizer = opt.RMSprop(net.parameters(), lr=0.00001)\n",
    "#optimizer = opt.SGD(net.parameters(), lr=0.00005)\n",
    "optimizer = opt.Adam(net.parameters(), lr=0.000001)\n",
    "\n",
    "batch_size = 64\n",
    "echo = 1"
   ]
  },
  {
   "cell_type": "code",
   "execution_count": null,
   "metadata": {
    "ExecuteTime": {
     "start_time": "2021-05-17T13:38:37.604Z"
    }
   },
   "outputs": [
    {
     "name": "stdout",
     "output_type": "stream",
     "text": [
      "2961 tensor([0.], device='cuda:0', grad_fn=<DivBackward0>) 0.0 0.0\n",
      "9891 tensor([0.], device='cuda:0', grad_fn=<DivBackward0>) 0.0 0.0\n"
     ]
    }
   ],
   "source": [
    "target_order = \"unsupervised\"\n",
    "for iteration in range(int(echo)):\n",
    "    # offender_types = []\n",
    "    # defender_types = []\n",
    "    \n",
    "    \n",
    "    X_train_list = []\n",
    "    temp_number = 0\n",
    "    total_batch_loss = 0 \n",
    "    while(temp_number<len(training_data)-1):\n",
    "        \n",
    "        loss2_list = []\n",
    "        loss1_sum = 0\n",
    "        loss2_sum = 0\n",
    "        denominator = 0\n",
    "        for index in range(temp_number, min(batch_size+temp_number,len(training_data))):\n",
    "            h_loss1,h_loss2,h_list = net(training_data[index],training_label[index],0)\n",
    "            denominator += 1\n",
    "            loss1_sum += h_loss1\n",
    "            loss2_sum += h_loss2\n",
    "            \n",
    "        loss_sum = loss1_sum + loss2_sum\n",
    "        loss = (loss_sum) / denominator \n",
    "        total_batch_loss +=float(loss_sum)\n",
    "        optimizer.zero_grad()\n",
    "        \n",
    "        loss.backward()\n",
    "        \n",
    "        optimizer.step()\n",
    "        \n",
    "        temp_number = index\n",
    "        \n",
    "        if(random.random()<=0.01):\n",
    "            print(temp_number,loss,float(loss1_sum),float(loss2_sum))\n",
    "\n",
    "\n",
    "    print(\"batch iteration\", iteration)\n",
    "    print(\"batch_loss: %.2f \" % (total_batch_loss/len(training_data)))\n",
    "    \n",
    "    print()\n",
    "    print()"
   ]
  },
  {
   "cell_type": "code",
   "execution_count": null,
   "metadata": {
    "ExecuteTime": {
     "start_time": "2021-05-17T13:38:37.605Z"
    }
   },
   "outputs": [],
   "source": [
    "torch.save(net, \"save/Deep_learning_4_2\")"
   ]
  },
  {
   "cell_type": "code",
   "execution_count": null,
   "metadata": {
    "ExecuteTime": {
     "start_time": "2021-05-17T13:38:37.606Z"
    }
   },
   "outputs": [],
   "source": [
    "denominator = 0\n",
    "result_list = []\n",
    "for index in range(len(testing_data)):\n",
    "    h_list = []\n",
    "    for i in range(Agent_number_n):\n",
    "        h = net.calculate(torch.tensor(testing_data[index][i]).cuda().type(torch.float32))\n",
    "        h_list.append(float(h))\n",
    "    \n",
    "    #print(sum(h_list),h_list,sum(h_list)/testing_label[index])\n",
    "    result_list.append(sum(h_list)/testing_label[index])\n",
    "    \n",
    "\n",
    "print(max(result_list),min(result_list),max(result_list)-min(result_list))"
   ]
  },
  {
   "cell_type": "code",
   "execution_count": null,
   "metadata": {
    "ExecuteTime": {
     "start_time": "2021-05-17T13:38:37.607Z"
    }
   },
   "outputs": [],
   "source": [
    "plt.hist(result_list,bins=500)\n",
    "\n",
    "plt.title(\"Means\", y=1.015, fontsize=20)\n",
    "plt.axvline(x=sum(result_list)/len(result_list), linestyle='--', linewidth=2.5, label=\"sample mean\", c='orange')\n",
    "plt.xlabel(\"samples\", labelpad=14)\n",
    "plt.ylabel(\"frequency of occurence\", labelpad=14)\n",
    "plt.legend();\n",
    "\n",
    "result_list.sort()\n",
    "\n",
    "plt.axvline(x=result_list[int(len(result_list)*0.001)], linestyle='--', linewidth=0.5, label=\"0.1%\", c='b')\n",
    "plt.axvline(x=result_list[int(len(result_list)*0.999)], linestyle='--', linewidth=0.5, label=\"99%\", c='r')\n",
    "\n",
    "\n",
    "plt.show()"
   ]
  },
  {
   "cell_type": "code",
   "execution_count": null,
   "metadata": {},
   "outputs": [],
   "source": []
  }
 ],
 "metadata": {
  "hide_input": false,
  "kernelspec": {
   "display_name": "Python 3",
   "language": "python",
   "name": "python3"
  },
  "language_info": {
   "codemirror_mode": {
    "name": "ipython",
    "version": 3
   },
   "file_extension": ".py",
   "mimetype": "text/x-python",
   "name": "python",
   "nbconvert_exporter": "python",
   "pygments_lexer": "ipython3",
   "version": "3.8.3"
  },
  "varInspector": {
   "cols": {
    "lenName": 16,
    "lenType": 16,
    "lenVar": 40
   },
   "kernels_config": {
    "python": {
     "delete_cmd_postfix": "",
     "delete_cmd_prefix": "del ",
     "library": "var_list.py",
     "varRefreshCmd": "print(var_dic_list())"
    },
    "r": {
     "delete_cmd_postfix": ") ",
     "delete_cmd_prefix": "rm(",
     "library": "var_list.r",
     "varRefreshCmd": "cat(var_dic_list()) "
    }
   },
   "types_to_exclude": [
    "module",
    "function",
    "builtin_function_or_method",
    "instance",
    "_Feature"
   ],
   "window_display": false
  }
 },
 "nbformat": 4,
 "nbformat_minor": 4
}
