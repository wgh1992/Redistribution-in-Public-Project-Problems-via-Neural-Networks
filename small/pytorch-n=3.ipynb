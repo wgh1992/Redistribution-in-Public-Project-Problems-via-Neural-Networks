{
 "cells": [
  {
   "cell_type": "code",
   "execution_count": 1,
   "metadata": {
    "ExecuteTime": {
     "end_time": "2021-05-24T03:11:22.246358Z",
     "start_time": "2021-05-24T03:11:20.905818Z"
    }
   },
   "outputs": [
    {
     "name": "stdout",
     "output_type": "stream",
     "text": [
      "pygame 2.0.1 (SDL 2.0.14, Python 3.8.3)\n",
      "Hello from the pygame community. https://www.pygame.org/contribute.html\n",
      "cuda:0\n"
     ]
    },
    {
     "name": "stderr",
     "output_type": "stream",
     "text": [
      "D:\\ComputerSoftwares\\Anaconda\\lib\\site-packages\\sklearn\\utils\\deprecation.py:143: FutureWarning: The sklearn.datasets.samples_generator module is  deprecated in version 0.22 and will be removed in version 0.24. The corresponding classes / functions should instead be imported from sklearn.datasets. Anything that cannot be imported from sklearn.datasets is now part of the private API.\n",
      "  warnings.warn(message, FutureWarning)\n"
     ]
    }
   ],
   "source": [
    "\n",
    "import pygame\n",
    "import random\n",
    "import os\n",
    "import time\n",
    "import numpy as np\n",
    "import math\n",
    "import torch\n",
    "import torch.nn.functional\n",
    "import matplotlib.pyplot as plt\n",
    "import torch.optim as opt\n",
    "from torch.autograd import Variable\n",
    "from sklearn.model_selection import train_test_split\n",
    "\n",
    "import scipy.stats as st\n",
    "from sklearn.datasets.samples_generator import make_blobs\n",
    "from matplotlib.colors import LogNorm \n",
    "import matplotlib.cm as cm\n",
    "import torch.nn as nn\n",
    "import numpy as np\n",
    "import matplotlib.pyplot as plt\n",
    "\n",
    "\n",
    "if torch.cuda.is_available():  \n",
    "    dev = \"cuda:0\" \n",
    "else:  \n",
    "    dev = \"cpu\"  \n",
    "\n",
    "print(dev)\n"
   ]
  },
  {
   "cell_type": "code",
   "execution_count": 2,
   "metadata": {
    "ExecuteTime": {
     "end_time": "2021-05-24T03:11:22.272030Z",
     "start_time": "2021-05-24T03:11:22.247354Z"
    }
   },
   "outputs": [],
   "source": [
    "global target_order\n",
    "target_order = \"supervised\"\n",
    "global temp_list\n",
    "temp_list = []\n",
    "Agent_number_n=3\n",
    "Alpha = 0.666;\n",
    "\n"
   ]
  },
  {
   "cell_type": "code",
   "execution_count": 3,
   "metadata": {
    "ExecuteTime": {
     "end_time": "2021-05-24T03:11:24.637895Z",
     "start_time": "2021-05-24T03:11:22.272030Z"
    }
   },
   "outputs": [
    {
     "name": "stdout",
     "output_type": "stream",
     "text": [
      "[[[0.745557   0.52666128]\n",
      "  [0.75937385 0.52666128]\n",
      "  [0.75937385 0.745557  ]]\n",
      "\n",
      " [[0.57046028 0.29564215]\n",
      "  [0.67880752 0.29564215]\n",
      "  [0.67880752 0.57046028]]\n",
      "\n",
      " [[0.31419662 0.16604697]\n",
      "  [0.74975494 0.16604697]\n",
      "  [0.74975494 0.31419662]]\n",
      "\n",
      " ...\n",
      "\n",
      " [[0.49380702 0.35806817]\n",
      "  [0.85994106 0.35806817]\n",
      "  [0.85994106 0.49380702]]\n",
      "\n",
      " [[0.27474254 0.22181276]\n",
      "  [0.95123328 0.22181276]\n",
      "  [0.95123328 0.27474254]]\n",
      "\n",
      " [[0.60155806 0.40245604]\n",
      "  [0.92450681 0.40245604]\n",
      "  [0.92450681 0.60155806]]]\n",
      "[[[0.60631265 0.43004705]\n",
      "  [0.98080212 0.43004705]\n",
      "  [0.98080212 0.60631265]]\n",
      "\n",
      " [[0.38243344 0.09055397]\n",
      "  [0.58239218 0.09055397]\n",
      "  [0.58239218 0.38243344]]\n",
      "\n",
      " [[0.5860326  0.41174237]\n",
      "  [0.997385   0.41174237]\n",
      "  [0.997385   0.5860326 ]]\n",
      "\n",
      " ...\n",
      "\n",
      " [[0.76283291 0.14322068]\n",
      "  [0.87034092 0.14322068]\n",
      "  [0.87034092 0.76283291]]\n",
      "\n",
      " [[0.22917019 0.06060505]\n",
      "  [0.7787866  0.06060505]\n",
      "  [0.7787866  0.22917019]]\n",
      "\n",
      " [[0.66285047 0.49912648]\n",
      "  [0.84537254 0.49912648]\n",
      "  [0.84537254 0.66285047]]]\n",
      "[2.03159214 1.54490995 1.22999852 ... 1.71181625 1.44778858 1.92852091]\n",
      "[2.01716182 1.05537959 1.99515997 ... 1.77639451 1.06856183 2.00734949]\n"
     ]
    }
   ],
   "source": [
    "global temp_list\n",
    "temp_list = []\n",
    "def appen(_x_list,y):\n",
    "    global temp_list\n",
    "    temp_list.append(_x_list)\n",
    "    \n",
    "def appen_train(x_list):\n",
    "    global temp_list\n",
    "                \n",
    "    S= max(sum(x_list),1.0);\n",
    "    temp_list = []\n",
    "    \n",
    "    for i in range(Agent_number_n):\n",
    "        temp = []\n",
    "        for j in range(Agent_number_n):\n",
    "            if(i!=j):\n",
    "                temp.append(x_list[j])\n",
    "        appen(temp,S)\n",
    "    \n",
    "    training_data.append(temp_list)\n",
    "    training_label.append(S)\n",
    "    \n",
    "\n",
    "def read_training_data():\n",
    "    for i in range(100000):\n",
    "        appen_train(sorted(np.random.rand(Agent_number_n), reverse=True));\n",
    "\n",
    "training_data=[]\n",
    "training_label=[]\n",
    "S=1.0\n",
    "read_training_data();\n",
    "\n",
    "def appen_test(x_list):\n",
    "    global temp_list\n",
    "                \n",
    "    S= max(sum(x_list),1.0);\n",
    "    temp_list = []\n",
    "    \n",
    "    for i in range(Agent_number_n):\n",
    "        temp = []\n",
    "        for j in range(Agent_number_n):\n",
    "            if(i!=j):\n",
    "                temp.append(x_list[j])\n",
    "        appen(temp,S)\n",
    "    testing_data.append(temp_list)\n",
    "    testing_label.append(S)\n",
    "    \n",
    "\n",
    "def read_testing_data():\n",
    "#     devided=20\n",
    "#     for i1 in range(devided+1):\n",
    "#         for i2 in range(i1+1):\n",
    "#             for i3 in range(i2+1):\n",
    "#                 appen_test(i1/devided,i2/devided,i3/devided);\n",
    "    for i in range(100000):\n",
    "        appen_test(sorted(np.random.rand(Agent_number_n), reverse=True));\n",
    "                            \n",
    "\n",
    "testing_data=[]\n",
    "testing_label=[]\n",
    "S=1.0\n",
    "read_testing_data();\n",
    "\n",
    "training_data=np.array(training_data)\n",
    "training_label=np.array(training_label)\n",
    "testing_data=np.array(testing_data)\n",
    "testing_label=np.array(testing_label)\n",
    "print(training_data)\n",
    "print(testing_data)\n",
    "print(training_label)\n",
    "print(testing_label)"
   ]
  },
  {
   "cell_type": "code",
   "execution_count": 4,
   "metadata": {
    "ExecuteTime": {
     "end_time": "2021-05-24T03:11:32.057353Z",
     "start_time": "2021-05-24T03:11:24.637895Z"
    }
   },
   "outputs": [
    {
     "name": "stdout",
     "output_type": "stream",
     "text": [
      "2.333317483059065 2.0 0.33331748305906483\n"
     ]
    }
   ],
   "source": [
    "def h_3_star(a, b, t):\n",
    "    return a - min(a, t) + b - min(b, t) + max(min(a, t)+min(b, t), 2*t/3) + 1/2 * max(min(a, t)+min(b, t), t) - 1/2 * max(max(min(a, t), min(b, t)), 2*t/3) - t/6\n",
    "\n",
    "\n",
    "def f_function(a, b, z):\n",
    "    if(z >= 1):\n",
    "        return (a+b)/2 + z/3\n",
    "    else:\n",
    "        return z/3 + h_3_star(a, b, 1-z)/2\n",
    "\n",
    "def h_function(input_list):\n",
    "    #input_list = sorted(input_list)\n",
    "    g_list = []\n",
    "    for j1 in range(len(input_list) ):\n",
    "        for j2 in range(len(input_list)):\n",
    "            if(j1 != j2):\n",
    "                a = input_list[j1]\n",
    "                b = input_list[j2]\n",
    "                z = sum(input_list)- a-b\n",
    "\n",
    "                g_list.append( f_function(a, b, z) * (Agent_number_n-1))\n",
    "    h = sum(g_list) * 3 /  (Agent_number_n) /  (Agent_number_n-1) /  (Agent_number_n - 2)\n",
    "    return h\n",
    "                \n",
    "                \n",
    "x_list = []\n",
    "y_list = []\n",
    "z_list = []\n",
    "result_list = []\n",
    "training_supervised_label=[]\n",
    "for index in range(len(training_data)):\n",
    "    h_list = []\n",
    "    for i in range(Agent_number_n):\n",
    "        x_list.append(training_data[index][i][0])\n",
    "        y_list.append(training_data[index][i][1])\n",
    "        h = h_function(training_data[index][i])\n",
    "        z_list.append(float(h))\n",
    "        h_list.append(float(h))\n",
    "    training_supervised_label.append(h_list)\n",
    "    result_list.append(sum(h_list)/training_label[index]) \n",
    "    \n",
    "    \n",
    "print(max(result_list), min(result_list), max(result_list)-min(result_list))"
   ]
  },
  {
   "cell_type": "code",
   "execution_count": 5,
   "metadata": {
    "ExecuteTime": {
     "end_time": "2021-05-24T03:11:33.065595Z",
     "start_time": "2021-05-24T03:11:32.057353Z"
    }
   },
   "outputs": [
    {
     "data": {
      "image/png": "[encoded data removed]",
      "text/plain": [
       "<Figure size 432x288 with 1 Axes>"
      ]
     },
     "metadata": {
      "needs_background": "light"
     },
     "output_type": "display_data"
    }
   ],
   "source": [
    "plt.hist(result_list,bins=500)\n",
    "\n",
    "plt.title(\"Means\", y=1.015, fontsize=20)\n",
    "plt.axvline(x=sum(result_list)/len(result_list), linestyle='--', linewidth=2.5, label=\"sample mean\", c='orange')\n",
    "plt.xlabel(\"samples\", labelpad=14)\n",
    "plt.ylabel(\"frequency of occurence\", labelpad=14)\n",
    "plt.legend();\n",
    "\n",
    "result_list.sort()\n",
    "\n",
    "plt.axvline(x=result_list[int(len(result_list)*0.001)], linestyle='--', linewidth=0.5, label=\"0.1%\", c='b')\n",
    "plt.axvline(x=result_list[int(len(result_list)*0.999)], linestyle='--', linewidth=0.5, label=\"99%\", c='r')\n",
    "\n",
    "\n",
    "plt.show()"
   ]
  },
  {
   "cell_type": "code",
   "execution_count": 6,
   "metadata": {
    "ExecuteTime": {
     "end_time": "2021-05-24T03:11:33.159417Z",
     "start_time": "2021-05-24T03:11:33.065595Z"
    }
   },
   "outputs": [
    {
     "name": "stdout",
     "output_type": "stream",
     "text": [
      "[[1.36888225 1.3826991  1.71104269]\n",
      " [0.86610243 0.96837924 1.36783128]\n",
      " [0.66666667 0.87425777 1.0543832 ]\n",
      " ...\n",
      " [0.85187519 1.23037665 1.43398493]\n",
      " [0.66666667 1.11728576 1.19668042]\n",
      " [1.00602115 1.3615242  1.66017724]]\n"
     ]
    }
   ],
   "source": [
    "training_supervised_label=np.array(training_supervised_label)\n",
    "print(training_supervised_label)"
   ]
  },
  {
   "cell_type": "code",
   "execution_count": 7,
   "metadata": {
    "ExecuteTime": {
     "end_time": "2021-05-24T03:11:33.188150Z",
     "start_time": "2021-05-24T03:11:33.160424Z"
    }
   },
   "outputs": [
    {
     "name": "stdout",
     "output_type": "stream",
     "text": [
      "cuda:0\n"
     ]
    }
   ],
   "source": [
    "if torch.cuda.is_available():  \n",
    "    dev = \"cuda:0\" \n",
    "else:  \n",
    "    dev = \"cpu\"  \n",
    "\n",
    "print(dev)\n"
   ]
  },
  {
   "cell_type": "code",
   "execution_count": 8,
   "metadata": {
    "ExecuteTime": {
     "end_time": "2021-05-24T03:11:33.203656Z",
     "start_time": "2021-05-24T03:11:33.189678Z"
    },
    "run_control": {
     "marked": true
    }
   },
   "outputs": [],
   "source": [
    "def weight_init(m):\n",
    "    if isinstance(m, torch.nn.Conv2d):\n",
    "        torch.nn.init.xavier_normal_(m.weight)\n",
    "        torch.nn.init.zeros_(m.bias)\n",
    "    elif isinstance(m, torch.nn.Linear):\n",
    "        torch.nn.init.normal_(m.weight, mean=0.0,std =0.5)\n",
    "        torch.nn.init.normal_(m.bias, mean=0.0,std =0.1)\n",
    "\n",
    "        \n",
    "\n",
    "class Net(torch.nn.Module):\n",
    "    def __init__(self):\n",
    "\n",
    "        super(Net, self).__init__()\n",
    "        \n",
    "        self.input_dim = Agent_number_n-1\n",
    "        self.hidden_dim = 3\n",
    "        self.output_dim = 1\n",
    "        self.hidden_layer_count = 1 \n",
    "        \n",
    "        current_dim = self.input_dim\n",
    "        self.layers = torch.nn.ModuleList()\n",
    "        for i in range(self.hidden_layer_count):\n",
    "            self.layers.append(torch.nn.Linear(current_dim, self.hidden_dim))\n",
    "            current_dim = self.hidden_dim\n",
    "        self.layers.append(torch.nn.Linear(current_dim, self.output_dim))\n",
    "\n",
    "    def calculate(self, value_list):\n",
    "        h = value_list\n",
    "        for layer in self.layers:\n",
    "            h = torch.relu(layer(h))\n",
    "        return h\n",
    "\n",
    "    def forward(self, input_list,input_label,label):\n",
    "        global iteration,echo,target_order\n",
    "        loss1 = 0\n",
    "        loss2 = 0\n",
    "        input_list = torch.from_numpy(\n",
    "            np.array(input_list)).cuda().type(torch.float32)\n",
    "        h_list = []\n",
    "\n",
    "        if (target_order == \"supervised\"):\n",
    "            loss = 0 \n",
    "            for i in range(Agent_number_n):\n",
    "                h = self.calculate(input_list[i])\n",
    "                loss += torch.square(h - label[i])\n",
    "                h_list.append(h)\n",
    "            return loss\n",
    "        else:\n",
    "            for i in range(Agent_number_n):\n",
    "                h = self.calculate(input_list[i])\n",
    "                h_list.append(h)\n",
    "            input_label = torch.from_numpy(\n",
    "                np.array(input_label)).cuda().type(torch.float32)\n",
    "            sum_h = torch.sum(torch.cat(h_list)).cuda()\n",
    "\n",
    "\n",
    "            loss1 = torch.where((Agent_number_n-1)*input_label>sum_h,\n",
    "                            torch.square(((Agent_number_n-1)*input_label-sum_h)),\n",
    "                            torch.zeros(1).cuda()\n",
    "                          )\n",
    "\n",
    "            loss2 = torch.where((Agent_number_n-Alpha)*input_label<sum_h,\n",
    "                            torch.square((sum_h-(Agent_number_n-Alpha)*input_label)),\n",
    "                            torch.zeros(1).cuda()\n",
    "                          )\n",
    "\n",
    "            return loss1,loss2,h_list"
   ]
  },
  {
   "cell_type": "code",
   "execution_count": 9,
   "metadata": {
    "ExecuteTime": {
     "end_time": "2021-05-24T03:11:34.284403Z",
     "start_time": "2021-05-24T03:11:33.203656Z"
    },
    "run_control": {
     "marked": true
    }
   },
   "outputs": [
    {
     "data": {
      "text/plain": [
       "Net(\n",
       "  (layers): ModuleList(\n",
       "    (0): Linear(in_features=2, out_features=3, bias=True)\n",
       "    (1): Linear(in_features=3, out_features=1, bias=True)\n",
       "  )\n",
       ")"
      ]
     },
     "execution_count": 9,
     "metadata": {},
     "output_type": "execute_result"
    }
   ],
   "source": [
    "random.seed(2000)\n",
    "torch.manual_seed(256)\n",
    "net  = Net()\n",
    "net.apply(weight_init)\n",
    "\n",
    "net = torch.load(\"save/Deep_learning_3\")\n",
    "net.to(dev)"
   ]
  },
  {
   "cell_type": "code",
   "execution_count": 10,
   "metadata": {
    "ExecuteTime": {
     "end_time": "2021-05-24T03:11:34.313637Z",
     "start_time": "2021-05-24T03:11:34.284403Z"
    },
    "run_control": {
     "marked": true
    }
   },
   "outputs": [],
   "source": [
    "#optimizer = opt.RMSprop(net.parameters(), lr=0.00001)\n",
    "#optimizer = opt.SGD(net.parameters(), lr=0.00001)\n",
    "optimizer = opt.Adam(net.parameters(), lr=0.0001)\n",
    "\n",
    "batch_size = 128\n",
    "echo = 5"
   ]
  },
  {
   "cell_type": "code",
   "execution_count": 11,
   "metadata": {
    "ExecuteTime": {
     "end_time": "2021-05-24T03:22:21.292180Z",
     "start_time": "2021-05-24T03:11:34.313637Z"
    }
   },
   "outputs": [
    {
     "name": "stdout",
     "output_type": "stream",
     "text": [
      "6096 tensor([0.0334], device='cuda:0', grad_fn=<DivBackward0>) 4.279897212982178\n",
      "8763 tensor([0.0320], device='cuda:0', grad_fn=<DivBackward0>) 4.089962005615234\n",
      "17907 tensor([0.0284], device='cuda:0', grad_fn=<DivBackward0>) 3.6331627368927\n",
      "26416 tensor([0.0350], device='cuda:0', grad_fn=<DivBackward0>) 4.480686187744141\n",
      "32512 tensor([0.0315], device='cuda:0', grad_fn=<DivBackward0>) 4.029052734375\n",
      "50419 tensor([0.0282], device='cuda:0', grad_fn=<DivBackward0>) 3.6099677085876465\n",
      "70739 tensor([0.0327], device='cuda:0', grad_fn=<DivBackward0>) 4.186634540557861\n",
      "73279 tensor([0.0291], device='cuda:0', grad_fn=<DivBackward0>) 3.7252867221832275\n",
      "73914 tensor([0.0320], device='cuda:0', grad_fn=<DivBackward0>) 4.0941057205200195\n",
      "batch iteration 0\n",
      "batch_loss: 0.03 \n",
      "\n",
      "\n",
      "12827 tensor([0.0271], device='cuda:0', grad_fn=<DivBackward0>) 3.462449312210083\n",
      "37211 tensor([0.0272], device='cuda:0', grad_fn=<DivBackward0>) 3.4822998046875\n",
      "37338 tensor([0.0312], device='cuda:0', grad_fn=<DivBackward0>) 3.9884026050567627\n",
      "61214 tensor([0.0268], device='cuda:0', grad_fn=<DivBackward0>) 3.4283597469329834\n",
      "65278 tensor([0.0294], device='cuda:0', grad_fn=<DivBackward0>) 3.7662100791931152\n",
      "72644 tensor([0.0300], device='cuda:0', grad_fn=<DivBackward0>) 3.842442512512207\n",
      "73025 tensor([0.0291], device='cuda:0', grad_fn=<DivBackward0>) 3.7223002910614014\n",
      "91186 tensor([0.0282], device='cuda:0', grad_fn=<DivBackward0>) 3.604975461959839\n",
      "batch iteration 1\n",
      "batch_loss: 0.03 \n",
      "\n",
      "\n",
      "9652 tensor([0.0238], device='cuda:0', grad_fn=<DivBackward0>) 3.043269634246826\n",
      "16383 tensor([0.0232], device='cuda:0', grad_fn=<DivBackward0>) 2.975290298461914\n",
      "20574 tensor([0.0236], device='cuda:0', grad_fn=<DivBackward0>) 3.0201945304870605\n",
      "33147 tensor([0.0244], device='cuda:0', grad_fn=<DivBackward0>) 3.128573417663574\n",
      "36703 tensor([0.0236], device='cuda:0', grad_fn=<DivBackward0>) 3.0267844200134277\n",
      "48387 tensor([0.0265], device='cuda:0', grad_fn=<DivBackward0>) 3.397017240524292\n",
      "58547 tensor([0.0290], device='cuda:0', grad_fn=<DivBackward0>) 3.7088797092437744\n",
      "77978 tensor([0.0208], device='cuda:0', grad_fn=<DivBackward0>) 2.66563081741333\n",
      "92329 tensor([0.0241], device='cuda:0', grad_fn=<DivBackward0>) 3.087399959564209\n",
      "batch iteration 2\n",
      "batch_loss: 0.02 \n",
      "\n",
      "\n",
      "3683 tensor([0.0250], device='cuda:0', grad_fn=<DivBackward0>) 3.1964704990386963\n",
      "26162 tensor([0.0213], device='cuda:0', grad_fn=<DivBackward0>) 2.7287650108337402\n",
      "45466 tensor([0.0180], device='cuda:0', grad_fn=<DivBackward0>) 2.3053181171417236\n",
      "75438 tensor([0.0162], device='cuda:0', grad_fn=<DivBackward0>) 2.072136640548706\n",
      "98425 tensor([0.0119], device='cuda:0', grad_fn=<DivBackward0>) 1.5249677896499634\n",
      "batch iteration 3\n",
      "batch_loss: 0.02 \n",
      "\n",
      "\n",
      "22606 tensor([0.0137], device='cuda:0', grad_fn=<DivBackward0>) 1.7564119100570679\n",
      "38608 tensor([0.0123], device='cuda:0', grad_fn=<DivBackward0>) 1.5692150592803955\n",
      "40132 tensor([0.0122], device='cuda:0', grad_fn=<DivBackward0>) 1.5628491640090942\n",
      "40259 tensor([0.0131], device='cuda:0', grad_fn=<DivBackward0>) 1.674181580543518\n",
      "50165 tensor([0.0119], device='cuda:0', grad_fn=<DivBackward0>) 1.5205122232437134\n",
      "87249 tensor([0.0087], device='cuda:0', grad_fn=<DivBackward0>) 1.1191962957382202\n",
      "batch iteration 4\n",
      "batch_loss: 0.01 \n",
      "\n",
      "\n"
     ]
    }
   ],
   "source": [
    "target_order = \"supervised\"\n",
    "for iteration in range(int(echo)):\n",
    "    # offender_types = []\n",
    "    # defender_types = []\n",
    "    \n",
    "    \n",
    "    X_train_list = []\n",
    "    temp_number = 0\n",
    "    total_batch_loss = 0 \n",
    "    while(temp_number<len(training_data)-1):\n",
    "        loss_sum = 0\n",
    "        denominator = 0\n",
    "        for index in range(temp_number, min(batch_size+temp_number,len(training_data))):\n",
    "            h_loss = net(training_data[index],training_label[index],training_supervised_label[index])\n",
    "            denominator += 1\n",
    "            loss_sum += h_loss\n",
    "            \n",
    "        loss = (loss_sum) / denominator \n",
    "        total_batch_loss +=float(loss_sum)\n",
    "        optimizer.zero_grad()\n",
    "        \n",
    "        loss.backward()\n",
    "        \n",
    "        optimizer.step()\n",
    "        \n",
    "        temp_number = index\n",
    "        \n",
    "        if(random.random()<=0.01):\n",
    "            print(temp_number,loss,float(loss_sum))\n",
    "\n",
    "\n",
    "    print(\"batch iteration\", iteration)\n",
    "    print(\"batch_loss: %.2f \" % (total_batch_loss/len(training_data)))\n",
    "    \n",
    "    print()\n",
    "    print()"
   ]
  },
  {
   "cell_type": "code",
   "execution_count": 12,
   "metadata": {
    "ExecuteTime": {
     "end_time": "2021-05-24T03:23:58.829864Z",
     "start_time": "2021-05-24T03:22:21.292180Z"
    }
   },
   "outputs": [
    {
     "name": "stdout",
     "output_type": "stream",
     "text": [
      "2.440383791923523 1.3865317106246948 1.0538520812988281\n"
     ]
    }
   ],
   "source": [
    "denominator = 0\n",
    "result_list = []\n",
    "for index in range(len(testing_data)):\n",
    "    h_list = []\n",
    "    for i in range(Agent_number_n):\n",
    "        h = net.calculate(torch.tensor(testing_data[index][i]).cuda().type(torch.float32))\n",
    "        h_list.append(float(h))\n",
    "    \n",
    "    #print(sum(h_list),h_list,sum(h_list)/testing_label[index])\n",
    "    result_list.append(sum(h_list)/testing_label[index])\n",
    "    \n",
    "\n",
    "print(max(result_list),min(result_list),max(result_list)-min(result_list))"
   ]
  },
  {
   "cell_type": "code",
   "execution_count": 13,
   "metadata": {
    "ExecuteTime": {
     "end_time": "2021-05-24T03:23:59.927560Z",
     "start_time": "2021-05-24T03:23:58.829864Z"
    }
   },
   "outputs": [
    {
     "data": {
      "image/png": "[encoded data removed]",
      "text/plain": [
       "<Figure size 432x288 with 1 Axes>"
      ]
     },
     "metadata": {
      "needs_background": "light"
     },
     "output_type": "display_data"
    }
   ],
   "source": [
    "plt.hist(result_list,bins=500)\n",
    "\n",
    "plt.title(\"Means\", y=1.015, fontsize=20)\n",
    "plt.axvline(x=sum(result_list)/len(result_list), linestyle='--', linewidth=2.5, label=\"sample mean\", c='orange')\n",
    "plt.xlabel(\"samples\", labelpad=14)\n",
    "plt.ylabel(\"frequency of occurence\", labelpad=14)\n",
    "plt.legend();\n",
    "\n",
    "result_list.sort()\n",
    "\n",
    "plt.axvline(x=result_list[int(len(result_list)*0.01)], linestyle='--', linewidth=0.5, label=\"1%\", c='b')\n",
    "plt.axvline(x=result_list[int(len(result_list)*0.99)], linestyle='--', linewidth=0.5, label=\"99%\", c='r')\n",
    "\n",
    "\n",
    "plt.show()"
   ]
  },
  {
   "cell_type": "code",
   "execution_count": 14,
   "metadata": {
    "ExecuteTime": {
     "end_time": "2021-05-24T03:23:59.943068Z",
     "start_time": "2021-05-24T03:23:59.927560Z"
    }
   },
   "outputs": [],
   "source": [
    "torch.save(net, \"save/Deep_learning_3\")"
   ]
  },
  {
   "cell_type": "code",
   "execution_count": 15,
   "metadata": {
    "ExecuteTime": {
     "end_time": "2021-05-24T03:23:59.948164Z",
     "start_time": "2021-05-24T03:23:59.945011Z"
    }
   },
   "outputs": [],
   "source": [
    "#optimizer = opt.RMSprop(net.parameters(), lr=0.00001)\n",
    "#optimizer = opt.SGD(net.parameters(), lr=0.00005)\n",
    "optimizer = opt.Adam(net.parameters(), lr=0.000005)\n",
    "\n",
    "batch_size = 128\n",
    "echo = 5"
   ]
  },
  {
   "cell_type": "code",
   "execution_count": 16,
   "metadata": {
    "ExecuteTime": {
     "end_time": "2021-05-24T03:38:44.836575Z",
     "start_time": "2021-05-24T03:23:59.948164Z"
    }
   },
   "outputs": [
    {
     "name": "stdout",
     "output_type": "stream",
     "text": [
      "20066 tensor([0.0034], device='cuda:0', grad_fn=<DivBackward0>) 0.42651602625846863 0.00242258096113801\n",
      "24638 tensor([0.0060], device='cuda:0', grad_fn=<DivBackward0>) 0.771563708782196 0.0\n",
      "52451 tensor([0.0052], device='cuda:0', grad_fn=<DivBackward0>) 0.6595842838287354 2.7559755835682154e-05\n",
      "batch iteration 0\n",
      "batch_loss: 0.00 \n",
      "\n",
      "\n",
      "3683 tensor([0.0049], device='cuda:0', grad_fn=<DivBackward0>) 0.6232278347015381 0.002522103488445282\n",
      "25273 tensor([0.0065], device='cuda:0', grad_fn=<DivBackward0>) 0.8210398554801941 0.004953576717525721\n",
      "25908 tensor([0.0032], device='cuda:0', grad_fn=<DivBackward0>) 0.40065035223960876 0.0032024437095969915\n",
      "33274 tensor([0.0023], device='cuda:0', grad_fn=<DivBackward0>) 0.28354525566101074 0.011305602267384529\n",
      "50038 tensor([0.0033], device='cuda:0', grad_fn=<DivBackward0>) 0.42632871866226196 0.0016483509680256248\n",
      "56388 tensor([0.0015], device='cuda:0', grad_fn=<DivBackward0>) 0.19805514812469482 0.00015820635599084198\n",
      "87249 tensor([0.0004], device='cuda:0', grad_fn=<DivBackward0>) 0.036879003047943115 0.008308873511850834\n",
      "87503 tensor([0.0025], device='cuda:0', grad_fn=<DivBackward0>) 0.311738520860672 0.004404762759804726\n",
      "91059 tensor([0.0033], device='cuda:0', grad_fn=<DivBackward0>) 0.42090603709220886 0.0002157938142772764\n",
      "batch iteration 1\n",
      "batch_loss: 0.00 \n",
      "\n",
      "\n",
      "3683 tensor([0.0040], device='cuda:0', grad_fn=<DivBackward0>) 0.4994811415672302 0.01032570842653513\n",
      "15494 tensor([0.0057], device='cuda:0', grad_fn=<DivBackward0>) 0.7017872929573059 0.024223819375038147\n",
      "21336 tensor([0.0035], device='cuda:0', grad_fn=<DivBackward0>) 0.4303658604621887 0.022853953763842583\n",
      "34798 tensor([0.0026], device='cuda:0', grad_fn=<DivBackward0>) 0.31684866547584534 0.021160000935196877\n",
      "48641 tensor([0.0048], device='cuda:0', grad_fn=<DivBackward0>) 0.6055273413658142 0.007807742804288864\n",
      "56261 tensor([0.0022], device='cuda:0', grad_fn=<DivBackward0>) 0.2668240964412689 0.018338659778237343\n",
      "77089 tensor([0.0029], device='cuda:0', grad_fn=<DivBackward0>) 0.342080295085907 0.024974588304758072\n",
      "89281 tensor([0.0022], device='cuda:0', grad_fn=<DivBackward0>) 0.27982276678085327 0.0038599458057433367\n",
      "95250 tensor([0.0042], device='cuda:0', grad_fn=<DivBackward0>) 0.5235633850097656 0.014546388760209084\n",
      "97790 tensor([0.0012], device='cuda:0', grad_fn=<DivBackward0>) 0.13664692640304565 0.010815851390361786\n",
      "97917 tensor([0.0036], device='cuda:0', grad_fn=<DivBackward0>) 0.4504207372665405 0.008786019869148731\n",
      "batch iteration 2\n",
      "batch_loss: 0.00 \n",
      "\n",
      "\n",
      "7874 tensor([0.0014], device='cuda:0', grad_fn=<DivBackward0>) 0.1604771614074707 0.013105754740536213\n",
      "11557 tensor([0.0035], device='cuda:0', grad_fn=<DivBackward0>) 0.4251450002193451 0.02074315957725048\n",
      "29464 tensor([0.0019], device='cuda:0', grad_fn=<DivBackward0>) 0.22256453335285187 0.016383454203605652\n",
      "32385 tensor([0.0037], device='cuda:0', grad_fn=<DivBackward0>) 0.43313664197921753 0.04211578518152237\n",
      "91313 tensor([0.0021], device='cuda:0', grad_fn=<DivBackward0>) 0.26307618618011475 0.0024958141148090363\n",
      "94742 tensor([0.0026], device='cuda:0', grad_fn=<DivBackward0>) 0.330684095621109 0.0007294222596101463\n",
      "96520 tensor([0.0017], device='cuda:0', grad_fn=<DivBackward0>) 0.1950279027223587 0.024498753249645233\n",
      "batch iteration 3\n",
      "batch_loss: 0.00 \n",
      "\n",
      "\n",
      "22352 tensor([0.0016], device='cuda:0', grad_fn=<DivBackward0>) 0.15903997421264648 0.04716626927256584\n",
      "31496 tensor([0.0023], device='cuda:0', grad_fn=<DivBackward0>) 0.21501925587654114 0.07740649580955505\n",
      "38227 tensor([0.0026], device='cuda:0', grad_fn=<DivBackward0>) 0.3093184530735016 0.024659007787704468\n",
      "51816 tensor([0.0020], device='cuda:0', grad_fn=<DivBackward0>) 0.2353934645652771 0.024653004482388496\n",
      "54229 tensor([0.0028], device='cuda:0', grad_fn=<DivBackward0>) 0.3199419677257538 0.034666065126657486\n",
      "69215 tensor([0.0016], device='cuda:0', grad_fn=<DivBackward0>) 0.14987832307815552 0.049722086638212204\n",
      "batch iteration 4\n",
      "batch_loss: 0.00 \n",
      "\n",
      "\n"
     ]
    }
   ],
   "source": [
    "target_order = \"unsupervised\"\n",
    "for iteration in range(int(echo)):\n",
    "    # offender_types = []\n",
    "    # defender_types = []\n",
    "    \n",
    "    \n",
    "    X_train_list = []\n",
    "    temp_number = 0\n",
    "    total_batch_loss = 0 \n",
    "    while(temp_number<len(training_data)-1):\n",
    "        \n",
    "        loss2_list = []\n",
    "        loss1_sum = 0\n",
    "        loss2_sum = 0\n",
    "        denominator = 0\n",
    "        for index in range(temp_number, min(batch_size+temp_number,len(training_data))):\n",
    "            h_loss1,h_loss2,h_list = net(training_data[index],training_label[index],0)\n",
    "            denominator += 1\n",
    "            loss1_sum += h_loss1\n",
    "            loss2_sum += h_loss2\n",
    "            \n",
    "        loss_sum = loss1_sum + loss2_sum\n",
    "        loss = (loss_sum) / denominator \n",
    "        total_batch_loss +=float(loss_sum)\n",
    "        optimizer.zero_grad()\n",
    "        \n",
    "        loss.backward()\n",
    "        \n",
    "        optimizer.step()\n",
    "        \n",
    "        temp_number = index\n",
    "        \n",
    "        if(random.random()<=0.01):\n",
    "            print(temp_number,loss,float(loss1_sum),float(loss2_sum))\n",
    "\n",
    "\n",
    "    print(\"batch iteration\", iteration)\n",
    "    print(\"batch_loss: %.2f \" % (total_batch_loss/len(training_data)))\n",
    "    \n",
    "    print()\n",
    "    print()"
   ]
  },
  {
   "cell_type": "code",
   "execution_count": 17,
   "metadata": {
    "ExecuteTime": {
     "end_time": "2021-05-24T03:38:44.852039Z",
     "start_time": "2021-05-24T03:38:44.836575Z"
    }
   },
   "outputs": [],
   "source": [
    "torch.save(net, \"save/Deep_learning_3\")"
   ]
  },
  {
   "cell_type": "code",
   "execution_count": 18,
   "metadata": {
    "ExecuteTime": {
     "end_time": "2021-05-24T03:40:22.980111Z",
     "start_time": "2021-05-24T03:38:44.854032Z"
    }
   },
   "outputs": [
    {
     "name": "stdout",
     "output_type": "stream",
     "text": [
      "2.5629539489746094 1.483013391494751 1.0799405574798584\n"
     ]
    }
   ],
   "source": [
    "denominator = 0\n",
    "result_list = []\n",
    "for index in range(len(testing_data)):\n",
    "    h_list = []\n",
    "    for i in range(Agent_number_n):\n",
    "        h = net.calculate(torch.tensor(testing_data[index][i]).cuda().type(torch.float32))\n",
    "        h_list.append(float(h))\n",
    "    \n",
    "    #print(sum(h_list),h_list,sum(h_list)/testing_label[index])\n",
    "    result_list.append(sum(h_list)/testing_label[index])\n",
    "    \n",
    "\n",
    "print(max(result_list),min(result_list),max(result_list)-min(result_list))"
   ]
  },
  {
   "cell_type": "code",
   "execution_count": 19,
   "metadata": {
    "ExecuteTime": {
     "end_time": "2021-05-24T03:40:23.970309Z",
     "start_time": "2021-05-24T03:40:22.982078Z"
    }
   },
   "outputs": [
    {
     "data": {
      "image/png": "[encoded data removed]",
      "text/plain": [
       "<Figure size 432x288 with 1 Axes>"
      ]
     },
     "metadata": {
      "needs_background": "light"
     },
     "output_type": "display_data"
    }
   ],
   "source": [
    "plt.hist(result_list,bins=500)\n",
    "\n",
    "plt.title(\"Means\", y=1.015, fontsize=20)\n",
    "plt.axvline(x=sum(result_list)/len(result_list), linestyle='--', linewidth=2.5, label=\"sample mean\", c='orange')\n",
    "plt.xlabel(\"samples\", labelpad=14)\n",
    "plt.ylabel(\"frequency of occurence\", labelpad=14)\n",
    "plt.legend();\n",
    "\n",
    "result_list.sort()\n",
    "\n",
    "plt.axvline(x=result_list[int(len(result_list)*0.01)], linestyle='--', linewidth=0.5, label=\"1%\", c='b')\n",
    "plt.axvline(x=result_list[int(len(result_list)*0.99)], linestyle='--', linewidth=0.5, label=\"99%\", c='r')\n",
    "\n",
    "\n",
    "plt.show()"
   ]
  },
  {
   "cell_type": "code",
   "execution_count": null,
   "metadata": {},
   "outputs": [],
   "source": []
  }
 ],
 "metadata": {
  "hide_input": false,
  "kernelspec": {
   "display_name": "Python 3",
   "language": "python",
   "name": "python3"
  },
  "language_info": {
   "codemirror_mode": {
    "name": "ipython",
    "version": 3
   },
   "file_extension": ".py",
   "mimetype": "text/x-python",
   "name": "python",
   "nbconvert_exporter": "python",
   "pygments_lexer": "ipython3",
   "version": "3.8.3"
  },
  "varInspector": {
   "cols": {
    "lenName": 16,
    "lenType": 16,
    "lenVar": 40
   },
   "kernels_config": {
    "python": {
     "delete_cmd_postfix": "",
     "delete_cmd_prefix": "del ",
     "library": "var_list.py",
     "varRefreshCmd": "print(var_dic_list())"
    },
    "r": {
     "delete_cmd_postfix": ") ",
     "delete_cmd_prefix": "rm(",
     "library": "var_list.r",
     "varRefreshCmd": "cat(var_dic_list()) "
    }
   },
   "types_to_exclude": [
    "module",
    "function",
    "builtin_function_or_method",
    "instance",
    "_Feature"
   ],
   "window_display": false
  }
 },
 "nbformat": 4,
 "nbformat_minor": 4
}
