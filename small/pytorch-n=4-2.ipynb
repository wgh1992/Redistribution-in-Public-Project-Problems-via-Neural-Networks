{
 "cells": [
  {
   "cell_type": "code",
   "execution_count": 1,
   "metadata": {
    "ExecuteTime": {
     "end_time": "2021-05-25T06:27:30.598724Z",
     "start_time": "2021-05-25T06:27:29.174845Z"
    }
   },
   "outputs": [
    {
     "name": "stdout",
     "output_type": "stream",
     "text": [
      "pygame 2.0.1 (SDL 2.0.14, Python 3.8.3)\n",
      "Hello from the pygame community. https://www.pygame.org/contribute.html\n",
      "cuda:0\n"
     ]
    },
    {
     "name": "stderr",
     "output_type": "stream",
     "text": [
      "D:\\ComputerSoftwares\\Anaconda\\lib\\site-packages\\sklearn\\utils\\deprecation.py:143: FutureWarning: The sklearn.datasets.samples_generator module is  deprecated in version 0.22 and will be removed in version 0.24. The corresponding classes / functions should instead be imported from sklearn.datasets. Anything that cannot be imported from sklearn.datasets is now part of the private API.\n",
      "  warnings.warn(message, FutureWarning)\n"
     ]
    }
   ],
   "source": [
    "\n",
    "import pygame\n",
    "import random\n",
    "import os\n",
    "import time\n",
    "import numpy as np\n",
    "import math\n",
    "import torch\n",
    "import torch.nn.functional\n",
    "import matplotlib.pyplot as plt\n",
    "import torch.optim as opt\n",
    "from torch.autograd import Variable\n",
    "from sklearn.model_selection import train_test_split\n",
    "\n",
    "import scipy.stats as st\n",
    "from sklearn.datasets.samples_generator import make_blobs\n",
    "from matplotlib.colors import LogNorm \n",
    "import matplotlib.cm as cm\n",
    "import torch.nn as nn\n",
    "import numpy as np\n",
    "import matplotlib.pyplot as plt\n",
    "\n",
    "\n",
    "if torch.cuda.is_available():  \n",
    "    dev = \"cuda:0\" \n",
    "else:  \n",
    "    dev = \"cpu\"  \n",
    "\n",
    "print(dev)\n"
   ]
  },
  {
   "cell_type": "code",
   "execution_count": 2,
   "metadata": {
    "ExecuteTime": {
     "end_time": "2021-05-25T06:27:30.614706Z",
     "start_time": "2021-05-25T06:27:30.600719Z"
    }
   },
   "outputs": [],
   "source": [
    "global temp_list\n",
    "temp_list = []\n",
    "Agent_number_n=4;\n",
    "Alpha = 0.666;\n",
    "\n"
   ]
  },
  {
   "cell_type": "code",
   "execution_count": 3,
   "metadata": {
    "ExecuteTime": {
     "end_time": "2021-05-25T06:27:33.465347Z",
     "start_time": "2021-05-25T06:27:30.616701Z"
    }
   },
   "outputs": [
    {
     "name": "stdout",
     "output_type": "stream",
     "text": [
      "[[[0.90812741 0.87027927 0.69046539]\n",
      "  [0.9152895  0.87027927 0.69046539]\n",
      "  [0.9152895  0.90812741 0.69046539]\n",
      "  [0.9152895  0.90812741 0.87027927]]\n",
      "\n",
      " [[0.87441223 0.37693932 0.36163308]\n",
      "  [0.99140331 0.37693932 0.36163308]\n",
      "  [0.99140331 0.87441223 0.36163308]\n",
      "  [0.99140331 0.87441223 0.37693932]]\n",
      "\n",
      " [[0.70661144 0.66086978 0.590891  ]\n",
      "  [0.83386524 0.66086978 0.590891  ]\n",
      "  [0.83386524 0.70661144 0.590891  ]\n",
      "  [0.83386524 0.70661144 0.66086978]]\n",
      "\n",
      " ...\n",
      "\n",
      " [[0.42076697 0.32813831 0.29972815]\n",
      "  [0.95086276 0.32813831 0.29972815]\n",
      "  [0.95086276 0.42076697 0.29972815]\n",
      "  [0.95086276 0.42076697 0.32813831]]\n",
      "\n",
      " [[0.43846007 0.23746008 0.18105194]\n",
      "  [0.96945965 0.23746008 0.18105194]\n",
      "  [0.96945965 0.43846007 0.18105194]\n",
      "  [0.96945965 0.43846007 0.23746008]]\n",
      "\n",
      " [[0.7638285  0.4615698  0.0313176 ]\n",
      "  [0.81152692 0.4615698  0.0313176 ]\n",
      "  [0.81152692 0.7638285  0.0313176 ]\n",
      "  [0.81152692 0.7638285  0.4615698 ]]]\n",
      "[[[0.81550696 0.36828479 0.28154933]\n",
      "  [0.9370009  0.36828479 0.28154933]\n",
      "  [0.9370009  0.81550696 0.28154933]\n",
      "  [0.9370009  0.81550696 0.36828479]]\n",
      "\n",
      " [[0.88000412 0.78525454 0.05678813]\n",
      "  [0.97661453 0.78525454 0.05678813]\n",
      "  [0.97661453 0.88000412 0.05678813]\n",
      "  [0.97661453 0.88000412 0.78525454]]\n",
      "\n",
      " [[0.79074572 0.77499105 0.43625649]\n",
      "  [0.97195325 0.77499105 0.43625649]\n",
      "  [0.97195325 0.79074572 0.43625649]\n",
      "  [0.97195325 0.79074572 0.77499105]]\n",
      "\n",
      " ...\n",
      "\n",
      " [[0.46749535 0.17546904 0.11557052]\n",
      "  [0.55854651 0.17546904 0.11557052]\n",
      "  [0.55854651 0.46749535 0.11557052]\n",
      "  [0.55854651 0.46749535 0.17546904]]\n",
      "\n",
      " [[0.51215073 0.4660108  0.2888207 ]\n",
      "  [0.77493152 0.4660108  0.2888207 ]\n",
      "  [0.77493152 0.51215073 0.2888207 ]\n",
      "  [0.77493152 0.51215073 0.4660108 ]]\n",
      "\n",
      " [[0.78325272 0.46366664 0.32816559]\n",
      "  [0.88054749 0.46366664 0.32816559]\n",
      "  [0.88054749 0.78325272 0.32816559]\n",
      "  [0.88054749 0.78325272 0.46366664]]]\n",
      "[3.38416157 2.60438794 2.79223746 ... 1.99949619 1.82643175 2.06824283]\n",
      "[2.40234198 2.69866132 2.97394652 ... 1.31708141 2.04191376 2.45563244]\n"
     ]
    }
   ],
   "source": [
    "def appen(_x_list,y):\n",
    "    global temp_list\n",
    "    temp_list.append(_x_list)\n",
    "    \n",
    "def appen_train(x_list):\n",
    "    global temp_list\n",
    "                \n",
    "    S= max(sum(x_list),1.0);\n",
    "    temp_list = []\n",
    "    \n",
    "    for i in range(Agent_number_n):\n",
    "        temp = []\n",
    "        for j in range(Agent_number_n):\n",
    "            if(i!=j):\n",
    "                temp.append(x_list[j])\n",
    "        appen(temp,S)\n",
    "    \n",
    "    training_data.append(temp_list)\n",
    "    training_label.append(S)\n",
    "    \n",
    "\n",
    "def read_training_data():\n",
    "    for i in range(100000):\n",
    "        appen_train(sorted(np.random.rand(Agent_number_n), reverse=True));\n",
    "\n",
    "training_data=[]\n",
    "training_label=[]\n",
    "S=1.0\n",
    "read_training_data();\n",
    "\n",
    "def appen_test(x_list):\n",
    "    global temp_list\n",
    "                \n",
    "    S= max(sum(x_list),1.0);\n",
    "    temp_list = []\n",
    "    \n",
    "    for i in range(Agent_number_n):\n",
    "        temp = []\n",
    "        for j in range(Agent_number_n):\n",
    "            if(i!=j):\n",
    "                temp.append(x_list[j])\n",
    "        appen(temp,S)\n",
    "    testing_data.append(temp_list)\n",
    "    testing_label.append(S)\n",
    "    \n",
    "\n",
    "def read_testing_data():\n",
    "#     devided=20\n",
    "#     for i1 in range(devided+1):\n",
    "#         for i2 in range(i1+1):\n",
    "#             for i3 in range(i2+1):\n",
    "#                 appen_test(i1/devided,i2/devided,i3/devided);\n",
    "    for i in range(100000):\n",
    "        appen_test(sorted(np.random.rand(Agent_number_n), reverse=True));\n",
    "                            \n",
    "\n",
    "testing_data=[]\n",
    "testing_label=[]\n",
    "S=1.0\n",
    "read_testing_data();\n",
    "\n",
    "training_data=np.array(training_data)\n",
    "training_label=np.array(training_label)\n",
    "testing_data=np.array(testing_data)\n",
    "testing_label=np.array(testing_label)\n",
    "print(training_data)\n",
    "print(testing_data)\n",
    "print(training_label)\n",
    "print(testing_label)"
   ]
  },
  {
   "cell_type": "code",
   "execution_count": 4,
   "metadata": {
    "ExecuteTime": {
     "end_time": "2021-05-25T06:27:58.997604Z",
     "start_time": "2021-05-25T06:27:33.467345Z"
    }
   },
   "outputs": [
    {
     "name": "stdout",
     "output_type": "stream",
     "text": [
      "3.3711287282501434 2.999999999999999 0.3711287282501443\n"
     ]
    }
   ],
   "source": [
    "def h_3_star(a, b, t):\n",
    "    return a - min(a, t) + b - min(b, t) + max(min(a, t)+min(b, t), 2*t/3) + 1/2 * max(min(a, t)+min(b, t), t) - 1/2 * max(max(min(a, t), min(b, t)), 2*t/3) - t/6\n",
    "\n",
    "\n",
    "def f_function(a, b, z):\n",
    "    if(z >= 1):\n",
    "        return (a+b)/2 + z/3\n",
    "    else:\n",
    "        return z/3 + h_3_star(a, b, 1-z)/2\n",
    "\n",
    "def h_function(input_list):\n",
    "    #input_list = sorted(input_list)\n",
    "    g_list = []\n",
    "    for j1 in range(len(input_list) ):\n",
    "        for j2 in range(len(input_list)):\n",
    "            if(j1 != j2):\n",
    "                a = input_list[j1]\n",
    "                b = input_list[j2]\n",
    "                z = sum(input_list)- a-b\n",
    "\n",
    "                g_list.append( f_function(a, b, z) * (Agent_number_n-1))\n",
    "    h = sum(g_list) * 3 /  (Agent_number_n) /  (Agent_number_n-1) /  (Agent_number_n - 2)\n",
    "    return h\n",
    "                \n",
    "                \n",
    "x_list = []\n",
    "y_list = []\n",
    "z_list = []\n",
    "result_list = []\n",
    "training_supervised_label=[]\n",
    "for index in range(len(training_data)):\n",
    "    h_list = []\n",
    "    for i in range(Agent_number_n):\n",
    "        x_list.append(training_data[index][i][0])\n",
    "        y_list.append(training_data[index][i][1])\n",
    "        h = h_function(training_data[index][i])\n",
    "        z_list.append(float(h))\n",
    "        h_list.append(float(h))\n",
    "    training_supervised_label.append(h_list)\n",
    "    result_list.append(sum(h_list)/training_label[index]) \n",
    "    \n",
    "    \n",
    "print(max(result_list), min(result_list), max(result_list)-min(result_list))"
   ]
  },
  {
   "cell_type": "code",
   "execution_count": 5,
   "metadata": {
    "ExecuteTime": {
     "end_time": "2021-05-25T06:28:00.186971Z",
     "start_time": "2021-05-25T06:27:58.998600Z"
    }
   },
   "outputs": [
    {
     "data": {
      "image/png": "[encoded data removed]",
      "text/plain": [
       "<Figure size 432x288 with 1 Axes>"
      ]
     },
     "metadata": {
      "needs_background": "light"
     },
     "output_type": "display_data"
    }
   ],
   "source": [
    "plt.hist(result_list,bins=500)\n",
    "\n",
    "plt.title(\"Means\", y=1.015, fontsize=20)\n",
    "plt.axvline(x=sum(result_list)/len(result_list), linestyle='--', linewidth=2.5, label=\"sample mean\", c='orange')\n",
    "plt.xlabel(\"samples\", labelpad=14)\n",
    "plt.ylabel(\"frequency of occurence\", labelpad=14)\n",
    "plt.legend();\n",
    "\n",
    "result_list.sort()\n",
    "\n",
    "plt.axvline(x=result_list[int(len(result_list)*0.01)], linestyle='--', linewidth=0.5, label=\"1%\", c='b')\n",
    "plt.axvline(x=result_list[int(len(result_list)*0.99)], linestyle='--', linewidth=0.5, label=\"99%\", c='r')\n",
    "\n",
    "\n",
    "plt.show()"
   ]
  },
  {
   "cell_type": "code",
   "execution_count": 6,
   "metadata": {
    "ExecuteTime": {
     "end_time": "2021-05-25T06:28:00.294678Z",
     "start_time": "2021-05-25T06:28:00.187929Z"
    }
   },
   "outputs": [
    {
     "name": "stdout",
     "output_type": "stream",
     "text": [
      "[[2.53526306 2.54152989 2.57464701 2.73198416]\n",
      " [1.6883262  1.7906934  2.32401754 2.33741051]\n",
      " [2.08857569 2.19992277 2.23994672 2.30117815]\n",
      " ...\n",
      " [1.07598973 1.61683799 1.73262381 1.76813652]\n",
      " [0.8569721  1.37141723 1.62266722 1.69317739]\n",
      " [1.24604909 1.29672866 1.67455203 2.15730958]]\n"
     ]
    }
   ],
   "source": [
    "training_supervised_label=np.array(training_supervised_label)\n",
    "print(training_supervised_label)"
   ]
  },
  {
   "cell_type": "code",
   "execution_count": 7,
   "metadata": {
    "ExecuteTime": {
     "end_time": "2021-05-25T06:28:00.310628Z",
     "start_time": "2021-05-25T06:28:00.297635Z"
    }
   },
   "outputs": [
    {
     "name": "stdout",
     "output_type": "stream",
     "text": [
      "cuda:0\n"
     ]
    }
   ],
   "source": [
    "if torch.cuda.is_available():  \n",
    "    dev = \"cuda:0\" \n",
    "else:  \n",
    "    dev = \"cpu\"  \n",
    "\n",
    "print(dev)\n"
   ]
  },
  {
   "cell_type": "code",
   "execution_count": 8,
   "metadata": {
    "ExecuteTime": {
     "end_time": "2021-05-25T06:28:00.341517Z",
     "start_time": "2021-05-25T06:28:00.312596Z"
    },
    "run_control": {
     "marked": true
    }
   },
   "outputs": [],
   "source": [
    "def weight_init(m):\n",
    "    if isinstance(m, torch.nn.Conv2d):\n",
    "        torch.nn.init.xavier_normal_(m.weight)\n",
    "        torch.nn.init.zeros_(m.bias)\n",
    "    elif isinstance(m, torch.nn.Linear):\n",
    "        torch.nn.init.xavier_normal_(m.weight)\n",
    "        torch.nn.init.zeros_(m.bias)\n",
    "\n",
    "\n",
    "class Net(torch.nn.Module):\n",
    "    def __init__(self):\n",
    "\n",
    "        super(Net, self).__init__()\n",
    "\n",
    "        self.input_dim = (Agent_number_n-1)\n",
    "        self.hidden_dim = 500\n",
    "        self.output_dim = 1\n",
    "        self.hidden_layer_count = 2 \n",
    "        \n",
    "        current_dim = self.input_dim\n",
    "        self.layers = torch.nn.ModuleList()\n",
    "        for i in range(self.hidden_layer_count):\n",
    "            self.layers.append(torch.nn.Linear(current_dim, self.hidden_dim))\n",
    "            current_dim = self.hidden_dim\n",
    "        self.layers.append(torch.nn.Linear(current_dim, self.output_dim))\n",
    "\n",
    "    def calculate(self, value_list):\n",
    "        h = value_list\n",
    "        for layer in self.layers:\n",
    "            h = torch.relu(layer(h))\n",
    "        return h\n",
    "\n",
    "    def forward(self, input_list, input_label, label):\n",
    "        global iteration, echo, target_order\n",
    "        loss1 = 0\n",
    "        loss2 = 0\n",
    "        input_list = torch.from_numpy(\n",
    "            np.array(input_list)).cuda().type(torch.float32)\n",
    "        h_list = []\n",
    "\n",
    "        for i in range(Agent_number_n):\n",
    "            h = self.calculate(input_list[i])\n",
    "            h_list.append(h)\n",
    "        input_label = torch.from_numpy(\n",
    "            np.array(input_label)).cuda().type(torch.float32)\n",
    "        sum_h = torch.sum(torch.cat(h_list)).cuda()\n",
    "\n",
    "        loss1 = torch.where((Agent_number_n-1)*input_label > sum_h,\n",
    "                            torch.square(\n",
    "                                ((Agent_number_n-1)*input_label-sum_h)),\n",
    "                            torch.zeros(1).cuda()\n",
    "                            )\n",
    "\n",
    "        loss2 = torch.where((Agent_number_n-Alpha)*input_label < sum_h,\n",
    "                            torch.square(\n",
    "                                (sum_h-(Agent_number_n-Alpha)*input_label)),\n",
    "                            torch.zeros(1).cuda()\n",
    "                            )\n",
    "\n",
    "        return loss1, loss2, h_list"
   ]
  },
  {
   "cell_type": "code",
   "execution_count": 9,
   "metadata": {
    "ExecuteTime": {
     "end_time": "2021-05-25T06:28:01.841041Z",
     "start_time": "2021-05-25T06:28:00.342515Z"
    },
    "run_control": {
     "marked": true
    }
   },
   "outputs": [
    {
     "data": {
      "text/plain": [
       "Net(\n",
       "  (layers): ModuleList(\n",
       "    (0): Linear(in_features=3, out_features=500, bias=True)\n",
       "    (1): Linear(in_features=500, out_features=500, bias=True)\n",
       "    (2): Linear(in_features=500, out_features=1, bias=True)\n",
       "  )\n",
       ")"
      ]
     },
     "execution_count": 9,
     "metadata": {},
     "output_type": "execute_result"
    }
   ],
   "source": [
    "random.seed(2000)\n",
    "torch.manual_seed(256)\n",
    "net  = Net()\n",
    "net.apply(weight_init)\n",
    "\n",
    "#net = torch.load(\"save/Deep_learning_4_2\")\n",
    "net.to(dev)"
   ]
  },
  {
   "cell_type": "code",
   "execution_count": 10,
   "metadata": {
    "ExecuteTime": {
     "end_time": "2021-05-25T06:28:01.855999Z",
     "start_time": "2021-05-25T06:28:01.843035Z"
    }
   },
   "outputs": [],
   "source": [
    "#optimizer = opt.RMSprop(net.parameters(), lr=0.00001)\n",
    "#optimizer = opt.SGD(net.parameters(), lr=0.00005)\n",
    "optimizer = opt.Adam(net.parameters(), lr=0.00001)\n",
    "#optimizer = opt.Adadelta(net.parameters(), lr=1.0)\n",
    "batch_size = 64\n",
    "echo = 5"
   ]
  },
  {
   "cell_type": "code",
   "execution_count": 11,
   "metadata": {
    "ExecuteTime": {
     "end_time": "2021-05-25T06:52:05.232472Z",
     "start_time": "2021-05-25T06:28:01.858992Z"
    }
   },
   "outputs": [
    {
     "name": "stdout",
     "output_type": "stream",
     "text": [
      "3024 tensor([24.3820], device='cuda:0', grad_fn=<DivBackward0>) 1560.4510498046875 0.0\n",
      "4347 tensor([29.0060], device='cuda:0', grad_fn=<DivBackward0>) 1856.383544921875 0.0\n",
      "8883 tensor([24.4329], device='cuda:0', grad_fn=<DivBackward0>) 1563.70654296875 0.0\n",
      "13104 tensor([18.9882], device='cuda:0', grad_fn=<DivBackward0>) 1215.243896484375 0.0\n",
      "16128 tensor([13.6155], device='cuda:0', grad_fn=<DivBackward0>) 871.3914184570312 0.0\n",
      "25011 tensor([8.1819], device='cuda:0', grad_fn=<DivBackward0>) 523.6390380859375 0.0\n",
      "35091 tensor([2.2632], device='cuda:0', grad_fn=<DivBackward0>) 144.84475708007812 0.0\n",
      "36351 tensor([2.2280], device='cuda:0', grad_fn=<DivBackward0>) 142.59423828125 0.0\n",
      "36666 tensor([1.6176], device='cuda:0', grad_fn=<DivBackward0>) 103.52881622314453 0.0\n",
      "56007 tensor([0.1731], device='cuda:0', grad_fn=<DivBackward0>) 9.494924545288086 1.584323763847351\n",
      "68103 tensor([0.0773], device='cuda:0', grad_fn=<DivBackward0>) 1.9775959253311157 2.969416379928589\n",
      "68166 tensor([0.0725], device='cuda:0', grad_fn=<DivBackward0>) 2.690293550491333 1.9482178688049316\n",
      "80010 tensor([0.0595], device='cuda:0', grad_fn=<DivBackward0>) 1.4574154615402222 2.348360776901245\n",
      "82026 tensor([0.0654], device='cuda:0', grad_fn=<DivBackward0>) 2.5346906185150146 1.65089750289917\n",
      "85680 tensor([0.0427], device='cuda:0', grad_fn=<DivBackward0>) 1.7588557004928589 0.9731216430664062\n",
      "85869 tensor([0.0635], device='cuda:0', grad_fn=<DivBackward0>) 2.2980997562408447 1.7638109922409058\n",
      "94878 tensor([0.0334], device='cuda:0', grad_fn=<DivBackward0>) 1.3919817209243774 0.7457687258720398\n",
      "batch iteration 0\n",
      "batch_loss: 5.72 \n",
      "\n",
      "\n",
      "4032 tensor([0.0504], device='cuda:0', grad_fn=<DivBackward0>) 2.5661542415618896 0.6600956320762634\n",
      "7371 tensor([0.0374], device='cuda:0', grad_fn=<DivBackward0>) 1.112100601196289 1.2787437438964844\n",
      "9450 tensor([0.0361], device='cuda:0', grad_fn=<DivBackward0>) 1.0345585346221924 1.2769588232040405\n",
      "15687 tensor([0.0167], device='cuda:0', grad_fn=<DivBackward0>) 0.5485429763793945 0.5226404666900635\n",
      "17451 tensor([0.0278], device='cuda:0', grad_fn=<DivBackward0>) 0.3667255640029907 1.4109599590301514\n",
      "23247 tensor([0.0187], device='cuda:0', grad_fn=<DivBackward0>) 0.6234198808670044 0.5762567520141602\n",
      "28287 tensor([0.0162], device='cuda:0', grad_fn=<DivBackward0>) 0.1169387623667717 0.9177570343017578\n",
      "37926 tensor([0.0124], device='cuda:0', grad_fn=<DivBackward0>) 0.4204854965209961 0.3730253577232361\n",
      "45045 tensor([0.0092], device='cuda:0', grad_fn=<DivBackward0>) 0.3912598490715027 0.1978435516357422\n",
      "50715 tensor([0.0719], device='cuda:0', grad_fn=<DivBackward0>) 4.063354969024658 0.535663902759552\n",
      "61866 tensor([0.0083], device='cuda:0', grad_fn=<DivBackward0>) 0.35694655776023865 0.17635905742645264\n",
      "71442 tensor([0.0448], device='cuda:0', grad_fn=<DivBackward0>) 2.761281967163086 0.10458961129188538\n",
      "86310 tensor([0.0253], device='cuda:0', grad_fn=<DivBackward0>) 1.568070650100708 0.0482097789645195\n",
      "97713 tensor([0.0102], device='cuda:0', grad_fn=<DivBackward0>) 0.6187042593955994 0.03662918880581856\n",
      "batch iteration 1\n",
      "batch_loss: 0.01 \n",
      "\n",
      "\n",
      "9702 tensor([2.5679e-05], device='cuda:0', grad_fn=<DivBackward0>) 0.0008188631618395448 0.0008245863136835396\n",
      "17640 tensor([0.0031], device='cuda:0', grad_fn=<DivBackward0>) 0.1550600379705429 0.04333142191171646\n",
      "18396 tensor([0.0021], device='cuda:0', grad_fn=<DivBackward0>) 0.03429330885410309 0.0984872356057167\n",
      "18459 tensor([0.0005], device='cuda:0', grad_fn=<DivBackward0>) 0.010122004896402359 0.018693692982196808\n",
      "23373 tensor([0.0016], device='cuda:0', grad_fn=<DivBackward0>) 0.008912516757845879 0.09368781000375748\n",
      "41769 tensor([0.0009], device='cuda:0', grad_fn=<DivBackward0>) 0.0031125182285904884 0.05597168579697609\n",
      "58086 tensor([4.1529e-05], device='cuda:0', grad_fn=<DivBackward0>) 5.383993629948236e-05 0.002604016335681081\n",
      "60354 tensor([0.0082], device='cuda:0', grad_fn=<DivBackward0>) 0.47189879417419434 0.05249400436878204\n",
      "74151 tensor([0.0155], device='cuda:0', grad_fn=<DivBackward0>) 0.9752852320671082 0.014836430549621582\n",
      "99603 tensor([0.0129], device='cuda:0', grad_fn=<DivBackward0>) 0.7930552363395691 0.034024205058813095\n",
      "batch iteration 2\n",
      "batch_loss: 0.01 \n",
      "\n",
      "\n",
      "10269 tensor([0.0016], device='cuda:0', grad_fn=<DivBackward0>) 0.05933433771133423 0.042775917798280716\n",
      "10584 tensor([0.0051], device='cuda:0', grad_fn=<DivBackward0>) 0.22039158642292023 0.1061781570315361\n",
      "14238 tensor([0.0086], device='cuda:0', grad_fn=<DivBackward0>) 0.46134498715400696 0.08918549120426178\n",
      "22554 tensor([0.0047], device='cuda:0', grad_fn=<DivBackward0>) 0.1617514193058014 0.1374204307794571\n",
      "25704 tensor([0.0021], device='cuda:0', grad_fn=<DivBackward0>) 0.017975669354200363 0.11353137344121933\n",
      "41013 tensor([0.0003], device='cuda:0', grad_fn=<DivBackward0>) 0.0017919527599588037 0.015683408826589584\n",
      "41139 tensor([0.0013], device='cuda:0', grad_fn=<DivBackward0>) 0.02741033211350441 0.05883436277508736\n",
      "42903 tensor([0.0050], device='cuda:0', grad_fn=<DivBackward0>) 0.27761560678482056 0.043981414288282394\n",
      "49203 tensor([0.0010], device='cuda:0', grad_fn=<DivBackward0>) 0.04856305569410324 0.018314730376005173\n",
      "55062 tensor([0.0368], device='cuda:0', grad_fn=<DivBackward0>) 2.322803497314453 0.03080798126757145\n",
      "57960 tensor([0.0009], device='cuda:0', grad_fn=<DivBackward0>) 0.0015421643620356917 0.054851233959198\n",
      "64638 tensor([0.0008], device='cuda:0', grad_fn=<DivBackward0>) 0.0020775769371539354 0.048519644886255264\n",
      "71505 tensor([0.0008], device='cuda:0', grad_fn=<DivBackward0>) 0.009725775569677353 0.04202522337436676\n",
      "75285 tensor([0.0022], device='cuda:0', grad_fn=<DivBackward0>) 0.12778769433498383 0.01533996406942606\n",
      "85617 tensor([0.0046], device='cuda:0', grad_fn=<DivBackward0>) 0.15314005315303802 0.1424855887889862\n",
      "91665 tensor([0.0019], device='cuda:0', grad_fn=<DivBackward0>) 0.0032317412551492453 0.11575216799974442\n",
      "94626 tensor([0.0366], device='cuda:0', grad_fn=<DivBackward0>) 2.3404695987701416 0.0005359153728932142\n",
      "95886 tensor([0.0002], device='cuda:0', grad_fn=<DivBackward0>) 0.0028873891569674015 0.011869898065924644\n",
      "95949 tensor([0.0026], device='cuda:0', grad_fn=<DivBackward0>) 0.030498355627059937 0.13576696813106537\n",
      "batch iteration 3\n",
      "batch_loss: 0.01 \n",
      "\n",
      "\n",
      "882 tensor([0.0013], device='cuda:0', grad_fn=<DivBackward0>) 0.07162075489759445 0.010063683614134789\n",
      "2709 tensor([0.0136], device='cuda:0', grad_fn=<DivBackward0>) 0.8466587662696838 0.02446625754237175\n",
      "11592 tensor([0.0029], device='cuda:0', grad_fn=<DivBackward0>) 0.12575705349445343 0.05993299186229706\n",
      "13041 tensor([0.0012], device='cuda:0', grad_fn=<DivBackward0>) 0.00021737978386227041 0.07862405478954315\n",
      "42273 tensor([0.0003], device='cuda:0', grad_fn=<DivBackward0>) 0.0032798023894429207 0.015256785787642002\n",
      "43974 tensor([0.0018], device='cuda:0', grad_fn=<DivBackward0>) 0.09044946730136871 0.02703927829861641\n",
      "44856 tensor([0.0004], device='cuda:0', grad_fn=<DivBackward0>) 0.02452954277396202 0.0016925845993682742\n",
      "57708 tensor([0.0007], device='cuda:0', grad_fn=<DivBackward0>) 0.010985057801008224 0.030745739117264748\n",
      "62244 tensor([0.0007], device='cuda:0', grad_fn=<DivBackward0>) 0.0038081766106188297 0.040704816579818726\n",
      "65583 tensor([0.0008], device='cuda:0', grad_fn=<DivBackward0>) 0.0010534177999943495 0.0479181706905365\n",
      "72324 tensor([0.0253], device='cuda:0', grad_fn=<DivBackward0>) 1.4244935512542725 0.1972879320383072\n",
      "73521 tensor([0.0044], device='cuda:0', grad_fn=<DivBackward0>) 0.1215333342552185 0.16217972338199615\n",
      "80955 tensor([0.0103], device='cuda:0', grad_fn=<DivBackward0>) 0.6199895739555359 0.03661655634641647\n",
      "batch iteration 4\n",
      "batch_loss: 0.01 \n",
      "\n",
      "\n"
     ]
    }
   ],
   "source": [
    "for iteration in range(int(echo)):\n",
    "    # offender_types = []\n",
    "    # defender_types = []\n",
    "    \n",
    "    \n",
    "    X_train_list = []\n",
    "    temp_number = 0\n",
    "    total_batch_loss = 0 \n",
    "    while(temp_number<len(training_data)-1):\n",
    "        \n",
    "        loss2_list = []\n",
    "        loss1_sum = 0\n",
    "        loss2_sum = 0\n",
    "        denominator = 0\n",
    "        for index in range(temp_number, min(batch_size+temp_number,len(training_data))):\n",
    "            h_loss1,h_loss2,h_list = net(training_data[index],training_label[index],0)\n",
    "            denominator += 1\n",
    "            loss1_sum += h_loss1\n",
    "            loss2_sum += h_loss2\n",
    "            \n",
    "        loss_sum = loss1_sum + loss2_sum\n",
    "        loss = (loss_sum) / denominator \n",
    "        total_batch_loss +=float(loss_sum)\n",
    "        optimizer.zero_grad()\n",
    "        \n",
    "        loss.backward()\n",
    "        \n",
    "        optimizer.step()\n",
    "        \n",
    "        temp_number = index\n",
    "        \n",
    "        if(random.random()<=0.01):\n",
    "            print(temp_number,loss,float(loss1_sum),float(loss2_sum))\n",
    "\n",
    "\n",
    "    print(\"batch iteration\", iteration)\n",
    "    print(\"batch_loss: %.2f \" % (total_batch_loss/len(training_data)))\n",
    "    \n",
    "    print()\n",
    "    print()"
   ]
  },
  {
   "cell_type": "code",
   "execution_count": 12,
   "metadata": {
    "ExecuteTime": {
     "end_time": "2021-05-25T06:52:05.248389Z",
     "start_time": "2021-05-25T06:52:05.233314Z"
    }
   },
   "outputs": [],
   "source": [
    "torch.save(net, \"save/Deep_learning_4_2\")"
   ]
  },
  {
   "cell_type": "code",
   "execution_count": 13,
   "metadata": {
    "ExecuteTime": {
     "end_time": "2021-05-25T06:54:31.284312Z",
     "start_time": "2021-05-25T06:52:05.250104Z"
    }
   },
   "outputs": [
    {
     "name": "stdout",
     "output_type": "stream",
     "text": [
      "3.701557914521314 1.319931536912918 2.381626377608396\n"
     ]
    }
   ],
   "source": [
    "denominator = 0\n",
    "result_list = []\n",
    "for index in range(len(testing_data)):\n",
    "    h_list = []\n",
    "    for i in range(Agent_number_n):\n",
    "        h = net.calculate(torch.tensor(testing_data[index][i]).cuda().type(torch.float32))\n",
    "        h_list.append(float(h))\n",
    "    \n",
    "    #print(sum(h_list),h_list,sum(h_list)/testing_label[index])\n",
    "    result_list.append(sum(h_list)/testing_label[index])\n",
    "    \n",
    "\n",
    "print(max(result_list),min(result_list),max(result_list)-min(result_list))"
   ]
  },
  {
   "cell_type": "code",
   "execution_count": 14,
   "metadata": {
    "ExecuteTime": {
     "end_time": "2021-05-25T06:54:32.239496Z",
     "start_time": "2021-05-25T06:54:31.285197Z"
    }
   },
   "outputs": [
    {
     "data": {
      "image/png": "[encoded data removed]",
      "text/plain": [
       "<Figure size 432x288 with 1 Axes>"
      ]
     },
     "metadata": {
      "needs_background": "light"
     },
     "output_type": "display_data"
    }
   ],
   "source": [
    "plt.hist(result_list,bins=500)\n",
    "\n",
    "plt.title(\"Means\", y=1.015, fontsize=20)\n",
    "plt.axvline(x=sum(result_list)/len(result_list), linestyle='--', linewidth=2.5, label=\"sample mean\", c='orange')\n",
    "plt.xlabel(\"samples\", labelpad=14)\n",
    "plt.ylabel(\"frequency of occurence\", labelpad=14)\n",
    "plt.legend();\n",
    "\n",
    "result_list.sort()\n",
    "\n",
    "plt.axvline(x=result_list[int(len(result_list)*0.01)], linestyle='--', linewidth=0.5, label=\"1%\", c='b')\n",
    "plt.axvline(x=result_list[int(len(result_list)*0.99)], linestyle='--', linewidth=0.5, label=\"99%\", c='r')\n",
    "\n",
    "\n",
    "plt.show()"
   ]
  },
  {
   "cell_type": "code",
   "execution_count": null,
   "metadata": {},
   "outputs": [],
   "source": []
  },
  {
   "cell_type": "code",
   "execution_count": null,
   "metadata": {},
   "outputs": [],
   "source": []
  },
  {
   "cell_type": "code",
   "execution_count": null,
   "metadata": {},
   "outputs": [],
   "source": []
  }
 ],
 "metadata": {
  "hide_input": false,
  "kernelspec": {
   "display_name": "Python 3",
   "language": "python",
   "name": "python3"
  },
  "language_info": {
   "codemirror_mode": {
    "name": "ipython",
    "version": 3
   },
   "file_extension": ".py",
   "mimetype": "text/x-python",
   "name": "python",
   "nbconvert_exporter": "python",
   "pygments_lexer": "ipython3",
   "version": "3.8.3"
  },
  "varInspector": {
   "cols": {
    "lenName": 16,
    "lenType": 16,
    "lenVar": 40
   },
   "kernels_config": {
    "python": {
     "delete_cmd_postfix": "",
     "delete_cmd_prefix": "del ",
     "library": "var_list.py",
     "varRefreshCmd": "print(var_dic_list())"
    },
    "r": {
     "delete_cmd_postfix": ") ",
     "delete_cmd_prefix": "rm(",
     "library": "var_list.r",
     "varRefreshCmd": "cat(var_dic_list()) "
    }
   },
   "types_to_exclude": [
    "module",
    "function",
    "builtin_function_or_method",
    "instance",
    "_Feature"
   ],
   "window_display": false
  }
 },
 "nbformat": 4,
 "nbformat_minor": 4
}
