{
 "cells": [
  {
   "cell_type": "code",
   "execution_count": 1,
   "metadata": {
    "ExecuteTime": {
     "end_time": "2021-05-25T05:23:16.334287Z",
     "start_time": "2021-05-25T05:23:15.102434Z"
    }
   },
   "outputs": [
    {
     "name": "stdout",
     "output_type": "stream",
     "text": [
      "pygame 2.0.1 (SDL 2.0.14, Python 3.8.3)\n",
      "Hello from the pygame community. https://www.pygame.org/contribute.html\n",
      "cuda:0\n"
     ]
    },
    {
     "name": "stderr",
     "output_type": "stream",
     "text": [
      "D:\\ComputerSoftwares\\Anaconda\\lib\\site-packages\\sklearn\\utils\\deprecation.py:143: FutureWarning: The sklearn.datasets.samples_generator module is  deprecated in version 0.22 and will be removed in version 0.24. The corresponding classes / functions should instead be imported from sklearn.datasets. Anything that cannot be imported from sklearn.datasets is now part of the private API.\n",
      "  warnings.warn(message, FutureWarning)\n"
     ]
    }
   ],
   "source": [
    "\n",
    "import pygame\n",
    "import random\n",
    "import os\n",
    "import time\n",
    "import numpy as np\n",
    "import math\n",
    "import torch\n",
    "import torch.nn.functional\n",
    "import matplotlib.pyplot as plt\n",
    "import torch.optim as opt\n",
    "from torch.autograd import Variable\n",
    "from sklearn.model_selection import train_test_split\n",
    "\n",
    "import scipy.stats as st\n",
    "from sklearn.datasets.samples_generator import make_blobs\n",
    "from matplotlib.colors import LogNorm \n",
    "import matplotlib.cm as cm\n",
    "import torch.nn as nn\n",
    "import numpy as np\n",
    "import matplotlib.pyplot as plt\n",
    "\n",
    "\n",
    "if torch.cuda.is_available():  \n",
    "    dev = \"cuda:0\" \n",
    "else:  \n",
    "    dev = \"cpu\"  \n",
    "\n",
    "print(dev)\n"
   ]
  },
  {
   "cell_type": "code",
   "execution_count": 2,
   "metadata": {
    "ExecuteTime": {
     "end_time": "2021-05-25T05:23:16.349554Z",
     "start_time": "2021-05-25T05:23:16.336282Z"
    }
   },
   "outputs": [],
   "source": [
    "global target_order\n",
    "target_order = \"supervised\"\n",
    "global temp_list\n",
    "temp_list = []\n",
    "Agent_number_n=4;\n",
    "Alpha = 0.666;\n",
    "\n"
   ]
  },
  {
   "cell_type": "code",
   "execution_count": 3,
   "metadata": {
    "ExecuteTime": {
     "end_time": "2021-05-25T05:23:18.944035Z",
     "start_time": "2021-05-25T05:23:16.350244Z"
    }
   },
   "outputs": [
    {
     "name": "stdout",
     "output_type": "stream",
     "text": [
      "[[[0.58458364 0.45517576 0.09800954]\n",
      "  [0.62963389 0.45517576 0.09800954]\n",
      "  [0.62963389 0.58458364 0.09800954]\n",
      "  [0.62963389 0.58458364 0.45517576]]\n",
      "\n",
      " [[0.71664285 0.36119433 0.24672969]\n",
      "  [0.75859634 0.36119433 0.24672969]\n",
      "  [0.75859634 0.71664285 0.24672969]\n",
      "  [0.75859634 0.71664285 0.36119433]]\n",
      "\n",
      " [[0.76647958 0.25337538 0.04826547]\n",
      "  [0.89500034 0.25337538 0.04826547]\n",
      "  [0.89500034 0.76647958 0.04826547]\n",
      "  [0.89500034 0.76647958 0.25337538]]\n",
      "\n",
      " ...\n",
      "\n",
      " [[0.6353479  0.19127619 0.16052997]\n",
      "  [0.83761207 0.19127619 0.16052997]\n",
      "  [0.83761207 0.6353479  0.16052997]\n",
      "  [0.83761207 0.6353479  0.19127619]]\n",
      "\n",
      " [[0.46814343 0.33326235 0.10152092]\n",
      "  [0.63432616 0.33326235 0.10152092]\n",
      "  [0.63432616 0.46814343 0.10152092]\n",
      "  [0.63432616 0.46814343 0.33326235]]\n",
      "\n",
      " [[0.75158974 0.23155066 0.15367797]\n",
      "  [0.86701455 0.23155066 0.15367797]\n",
      "  [0.86701455 0.75158974 0.15367797]\n",
      "  [0.86701455 0.75158974 0.23155066]]]\n",
      "[[[0.54876721 0.05549857 0.03993691]\n",
      "  [0.98068395 0.05549857 0.03993691]\n",
      "  [0.98068395 0.54876721 0.03993691]\n",
      "  [0.98068395 0.54876721 0.05549857]]\n",
      "\n",
      " [[0.57614096 0.3948259  0.37923235]\n",
      "  [0.93073768 0.3948259  0.37923235]\n",
      "  [0.93073768 0.57614096 0.37923235]\n",
      "  [0.93073768 0.57614096 0.3948259 ]]\n",
      "\n",
      " [[0.55799792 0.35541641 0.11752315]\n",
      "  [0.77058902 0.35541641 0.11752315]\n",
      "  [0.77058902 0.55799792 0.11752315]\n",
      "  [0.77058902 0.55799792 0.35541641]]\n",
      "\n",
      " ...\n",
      "\n",
      " [[0.23530822 0.08765721 0.0559058 ]\n",
      "  [0.63176201 0.08765721 0.0559058 ]\n",
      "  [0.63176201 0.23530822 0.0559058 ]\n",
      "  [0.63176201 0.23530822 0.08765721]]\n",
      "\n",
      " [[0.71399365 0.22367773 0.21565648]\n",
      "  [0.98218332 0.22367773 0.21565648]\n",
      "  [0.98218332 0.71399365 0.21565648]\n",
      "  [0.98218332 0.71399365 0.22367773]]\n",
      "\n",
      " [[0.71402245 0.62479101 0.40492592]\n",
      "  [0.81103292 0.62479101 0.40492592]\n",
      "  [0.81103292 0.71402245 0.40492592]\n",
      "  [0.81103292 0.71402245 0.62479101]]]\n",
      "[1.76740284 2.08316321 1.96312077 ... 1.82476613 1.53725285 2.00383292]\n",
      "[1.62488665 2.28093691 1.8015265  ... 1.01063324 2.13551118 2.55477229]\n"
     ]
    }
   ],
   "source": [
    "global temp_list\n",
    "temp_list = []\n",
    "def appen(_x_list,y):\n",
    "    global temp_list\n",
    "    temp_list.append(_x_list)\n",
    "    \n",
    "def appen_train(x_list):\n",
    "    global temp_list\n",
    "                \n",
    "    S= max(sum(x_list),1.0);\n",
    "    temp_list = []\n",
    "    \n",
    "    for i in range(Agent_number_n):\n",
    "        temp = []\n",
    "        for j in range(Agent_number_n):\n",
    "            if(i!=j):\n",
    "                temp.append(x_list[j])\n",
    "        appen(temp,S)\n",
    "    \n",
    "    training_data.append(temp_list)\n",
    "    training_label.append(S)\n",
    "    \n",
    "\n",
    "def read_training_data():\n",
    "    for i in range(100000):\n",
    "        appen_train(sorted(np.random.rand(Agent_number_n), reverse=True));\n",
    "\n",
    "training_data=[]\n",
    "training_label=[]\n",
    "S=1.0\n",
    "read_training_data();\n",
    "\n",
    "def appen_test(x_list):\n",
    "    global temp_list\n",
    "                \n",
    "    S= max(sum(x_list),1.0);\n",
    "    temp_list = []\n",
    "    \n",
    "    for i in range(Agent_number_n):\n",
    "        temp = []\n",
    "        for j in range(Agent_number_n):\n",
    "            if(i!=j):\n",
    "                temp.append(x_list[j])\n",
    "        appen(temp,S)\n",
    "    testing_data.append(temp_list)\n",
    "    testing_label.append(S)\n",
    "    \n",
    "\n",
    "def read_testing_data():\n",
    "#     devided=20\n",
    "#     for i1 in range(devided+1):\n",
    "#         for i2 in range(i1+1):\n",
    "#             for i3 in range(i2+1):\n",
    "#                 appen_test(i1/devided,i2/devided,i3/devided);\n",
    "    for i in range(100000):\n",
    "        appen_test(sorted(np.random.rand(Agent_number_n), reverse=True));\n",
    "                            \n",
    "\n",
    "testing_data=[]\n",
    "testing_label=[]\n",
    "S=1.0\n",
    "read_testing_data();\n",
    "\n",
    "training_data=np.array(training_data)\n",
    "training_label=np.array(training_label)\n",
    "testing_data=np.array(testing_data)\n",
    "testing_label=np.array(testing_label)\n",
    "print(training_data)\n",
    "print(testing_data)\n",
    "print(training_label)\n",
    "print(testing_label)"
   ]
  },
  {
   "cell_type": "code",
   "execution_count": 4,
   "metadata": {
    "ExecuteTime": {
     "end_time": "2021-05-25T05:23:41.183624Z",
     "start_time": "2021-05-25T05:23:18.945006Z"
    }
   },
   "outputs": [
    {
     "name": "stdout",
     "output_type": "stream",
     "text": [
      "3.374740521343152 2.999999999999999 0.3747405213431527\n"
     ]
    }
   ],
   "source": [
    "def h_3_star(a, b, t):\n",
    "    return a - min(a, t) + b - min(b, t) + max(min(a, t)+min(b, t), 2*t/3) + 1/2 * max(min(a, t)+min(b, t), t) - 1/2 * max(max(min(a, t), min(b, t)), 2*t/3) - t/6\n",
    "\n",
    "\n",
    "def f_function(a, b, z):\n",
    "    if(z >= 1):\n",
    "        return (a+b)/2 + z/3\n",
    "    else:\n",
    "        return z/3 + h_3_star(a, b, 1-z)/2\n",
    "\n",
    "def h_function(input_list):\n",
    "    #input_list = sorted(input_list)\n",
    "    g_list = []\n",
    "    for j1 in range(len(input_list) ):\n",
    "        for j2 in range(len(input_list)):\n",
    "            if(j1 != j2):\n",
    "                a = input_list[j1]\n",
    "                b = input_list[j2]\n",
    "                z = sum(input_list)- a-b\n",
    "\n",
    "                g_list.append( f_function(a, b, z) * (Agent_number_n-1))\n",
    "    h = sum(g_list) * 3 /  (Agent_number_n) /  (Agent_number_n-1) /  (Agent_number_n - 2)\n",
    "    return h\n",
    "                \n",
    "                \n",
    "x_list = []\n",
    "y_list = []\n",
    "z_list = []\n",
    "result_list = []\n",
    "training_supervised_label=[]\n",
    "for index in range(len(training_data)):\n",
    "    h_list = []\n",
    "    for i in range(Agent_number_n):\n",
    "        x_list.append(training_data[index][i][0])\n",
    "        y_list.append(training_data[index][i][1])\n",
    "        h = h_function(training_data[index][i])\n",
    "        z_list.append(float(h))\n",
    "        h_list.append(float(h))\n",
    "    training_supervised_label.append(h_list)\n",
    "    result_list.append(sum(h_list)/training_label[index]) \n",
    "    \n",
    "    \n",
    "print(max(result_list), min(result_list), max(result_list)-min(result_list))"
   ]
  },
  {
   "cell_type": "code",
   "execution_count": 5,
   "metadata": {
    "ExecuteTime": {
     "end_time": "2021-05-25T05:23:42.150626Z",
     "start_time": "2021-05-25T05:23:41.184621Z"
    }
   },
   "outputs": [
    {
     "data": {
      "image/png": "[encoded data removed]",
      "text/plain": [
       "<Figure size 432x288 with 1 Axes>"
      ]
     },
     "metadata": {
      "needs_background": "light"
     },
     "output_type": "display_data"
    }
   ],
   "source": [
    "plt.hist(result_list,bins=500)\n",
    "\n",
    "plt.title(\"Means\", y=1.015, fontsize=20)\n",
    "plt.axvline(x=sum(result_list)/len(result_list), linestyle='--', linewidth=2.5, label=\"sample mean\", c='orange')\n",
    "plt.xlabel(\"samples\", labelpad=14)\n",
    "plt.ylabel(\"frequency of occurence\", labelpad=14)\n",
    "plt.legend();\n",
    "\n",
    "result_list.sort()\n",
    "\n",
    "plt.axvline(x=result_list[int(len(result_list)*0.001)], linestyle='--', linewidth=0.5, label=\"0.1%\", c='b')\n",
    "plt.axvline(x=result_list[int(len(result_list)*0.999)], linestyle='--', linewidth=0.5, label=\"99%\", c='r')\n",
    "\n",
    "\n",
    "plt.show()"
   ]
  },
  {
   "cell_type": "code",
   "execution_count": 6,
   "metadata": {
    "ExecuteTime": {
     "end_time": "2021-05-25T05:23:42.260350Z",
     "start_time": "2021-05-25T05:23:42.151626Z"
    }
   },
   "outputs": [
    {
     "name": "stdout",
     "output_type": "stream",
     "text": [
      "[[1.14033917 1.19134443 1.35310428 1.83571914]\n",
      " [1.38009987 1.42367682 1.86798747 1.98187933]\n",
      " [1.01298539 1.1495387  1.79091895 2.05049839]\n",
      " ...\n",
      " [0.95492283 1.17231989 1.72740954 1.76619068]\n",
      " [0.89849201 1.0489858  1.21758714 1.55071546]\n",
      " [1.1214145  1.24017352 1.89022236 1.98756323]]\n"
     ]
    }
   ],
   "source": [
    "training_supervised_label=np.array(training_supervised_label)\n",
    "print(training_supervised_label)"
   ]
  },
  {
   "cell_type": "code",
   "execution_count": 7,
   "metadata": {
    "ExecuteTime": {
     "end_time": "2021-05-25T05:23:42.276308Z",
     "start_time": "2021-05-25T05:23:42.262345Z"
    }
   },
   "outputs": [
    {
     "name": "stdout",
     "output_type": "stream",
     "text": [
      "cuda:0\n"
     ]
    }
   ],
   "source": [
    "if torch.cuda.is_available():  \n",
    "    dev = \"cuda:0\" \n",
    "else:  \n",
    "    dev = \"cpu\"  \n",
    "\n",
    "print(dev)\n"
   ]
  },
  {
   "cell_type": "code",
   "execution_count": 8,
   "metadata": {
    "ExecuteTime": {
     "end_time": "2021-05-25T05:23:42.292293Z",
     "start_time": "2021-05-25T05:23:42.278302Z"
    },
    "run_control": {
     "marked": true
    }
   },
   "outputs": [],
   "source": [
    "def weight_init(m):\n",
    "    if isinstance(m, torch.nn.Conv2d):\n",
    "        torch.nn.init.xavier_normal_(m.weight)\n",
    "        torch.nn.init.zeros_(m.bias)\n",
    "    elif isinstance(m, torch.nn.Linear):\n",
    "        torch.nn.init.normal_(m.weight, mean=0.0,std =0.2)\n",
    "        torch.nn.init.normal_(m.bias, mean=0.0,std =0.01)\n",
    "    elif isinstance(m, torch.nn.Parameter):\n",
    "        torch.nn.init.uniform_(m, a=-1.0, b=1.0)\n",
    "        \n",
    "\n",
    "class Net(torch.nn.Module):\n",
    "    def __init__(self):\n",
    "\n",
    "        super(Net, self).__init__()\n",
    "        \n",
    "        self.input_dim = (Agent_number_n-1)+4\n",
    "        self.hidden_dim = 10\n",
    "        self.output_dim = 1\n",
    "        self.hidden_layer_count = 1\n",
    "        \n",
    "        \n",
    "        self.bias0 = torch.nn.Parameter(torch.Tensor(self.input_dim))\n",
    "        self.layer1 = torch.nn.Parameter(torch.Tensor(self.input_dim, self.output_dim))\n",
    "        self.bias1 = torch.nn.Parameter(torch.Tensor(self.output_dim))\n",
    "\n",
    "    def calculate(self, value_list):\n",
    "        #h0 = torch.cat([torch.tensor([torch.sum(value_list)]).cuda(),value_list])\n",
    "        h0 = torch.cat(\n",
    "            [\n",
    "                 torch.tensor([torch.sum(value_list)]).cuda(),\n",
    "                 torch.tensor([torch.sum(value_list)]).cuda(),\n",
    "                 torch.tensor([torch.sum(value_list)]).cuda(),\n",
    "                 -torch.tensor([torch.sum(value_list)]).cuda(),\n",
    "                 value_list\n",
    "            ]\n",
    "        )\n",
    "        h1 = torch.relu(h0-self.bias0) + self.bias0\n",
    "        h = torch.relu(torch.matmul(self.layer1,h1)+self.bias1)\n",
    "        \n",
    "        return h\n",
    "\n",
    "    def forward(self, input_list,input_label,label):\n",
    "        global iteration,echo,target_order\n",
    "        loss1 = 0\n",
    "        loss2 = 0\n",
    "        input_list = torch.from_numpy(\n",
    "            np.array(input_list)).cuda().type(torch.float32)\n",
    "        h_list = []\n",
    "\n",
    "        for i in range(Agent_number_n):\n",
    "            h = self.calculate(input_list[i])\n",
    "            h_list.append(h)\n",
    "        input_label = torch.from_numpy(\n",
    "            np.array(input_label)).cuda().type(torch.float32)\n",
    "        sum_h = torch.sum(torch.cat(h_list)).cuda()\n",
    "\n",
    "\n",
    "        loss1 = torch.where((Agent_number_n-1)*input_label>sum_h,\n",
    "                        torch.square(((Agent_number_n-1)*input_label-sum_h)),\n",
    "                        torch.zeros(1).cuda()\n",
    "                      )\n",
    "\n",
    "        loss2 = torch.where((Agent_number_n-Alpha)*input_label<sum_h,\n",
    "                        torch.square((sum_h-(Agent_number_n-Alpha)*input_label)),\n",
    "                        torch.zeros(1).cuda()\n",
    "                      )\n",
    "\n",
    "        return loss1,loss2,h_list"
   ]
  },
  {
   "cell_type": "code",
   "execution_count": 9,
   "metadata": {
    "ExecuteTime": {
     "end_time": "2021-05-25T05:23:43.505622Z",
     "start_time": "2021-05-25T05:23:42.293262Z"
    }
   },
   "outputs": [
    {
     "data": {
      "text/plain": [
       "Net()"
      ]
     },
     "execution_count": 9,
     "metadata": {},
     "output_type": "execute_result"
    }
   ],
   "source": [
    "random.seed(2000)\n",
    "torch.manual_seed(256)\n",
    "net  = Net()\n",
    "net.apply(weight_init)\n",
    "\n",
    "net = torch.load(\"save/Deep_learning_4_1\")\n",
    "net.to(dev)"
   ]
  },
  {
   "cell_type": "code",
   "execution_count": 10,
   "metadata": {
    "ExecuteTime": {
     "end_time": "2021-05-25T05:23:43.520548Z",
     "start_time": "2021-05-25T05:23:43.506586Z"
    }
   },
   "outputs": [],
   "source": [
    "#optimizer = opt.RMSprop(net.parameters(), lr=0.00001)\n",
    "#optimizer = opt.SGD(net.parameters(), lr=0.00005)\n",
    "optimizer = opt.Adam(net.parameters(), lr=0.01)\n",
    "#optimizer = opt.Adadelta(net.parameters(), lr=1.0)\n",
    "batch_size = 64\n",
    "echo = 2"
   ]
  },
  {
   "cell_type": "code",
   "execution_count": 11,
   "metadata": {
    "ExecuteTime": {
     "end_time": "2021-05-25T05:41:55.393072Z",
     "start_time": "2021-05-25T05:23:43.521545Z"
    }
   },
   "outputs": [
    {
     "name": "stdout",
     "output_type": "stream",
     "text": [
      "3024 tensor([39.4621], device='cuda:0', grad_fn=<DivBackward0>) 2525.5771484375 0.0\n",
      "4347 tensor([37.0250], device='cuda:0', grad_fn=<DivBackward0>) 2369.59765625 0.0\n",
      "8883 tensor([40.2989], device='cuda:0', grad_fn=<DivBackward0>) 2579.13232421875 0.0\n",
      "13104 tensor([41.1346], device='cuda:0', grad_fn=<DivBackward0>) 2632.616455078125 0.0\n",
      "16128 tensor([38.6221], device='cuda:0', grad_fn=<DivBackward0>) 2471.813232421875 0.0\n",
      "25011 tensor([43.0925], device='cuda:0', grad_fn=<DivBackward0>) 2757.92236328125 0.0\n",
      "35091 tensor([37.6534], device='cuda:0', grad_fn=<DivBackward0>) 2409.81591796875 0.0\n",
      "36351 tensor([36.7558], device='cuda:0', grad_fn=<DivBackward0>) 2352.374267578125 0.0\n",
      "36666 tensor([38.8100], device='cuda:0', grad_fn=<DivBackward0>) 2483.83935546875 0.0\n",
      "56007 tensor([36.4485], device='cuda:0', grad_fn=<DivBackward0>) 2332.705810546875 0.0\n",
      "68103 tensor([41.1563], device='cuda:0', grad_fn=<DivBackward0>) 2634.002197265625 0.0\n",
      "68166 tensor([37.7958], device='cuda:0', grad_fn=<DivBackward0>) 2418.928955078125 0.0\n",
      "80010 tensor([37.8794], device='cuda:0', grad_fn=<DivBackward0>) 2424.28076171875 0.0\n",
      "82026 tensor([40.7774], device='cuda:0', grad_fn=<DivBackward0>) 2609.756103515625 0.0\n",
      "85680 tensor([35.7695], device='cuda:0', grad_fn=<DivBackward0>) 2289.24853515625 0.0\n",
      "85869 tensor([36.1340], device='cuda:0', grad_fn=<DivBackward0>) 2312.576904296875 0.0\n",
      "94878 tensor([35.7587], device='cuda:0', grad_fn=<DivBackward0>) 2288.55615234375 0.0\n",
      "batch iteration 0\n",
      "batch_loss: 39.75 \n",
      "\n",
      "\n",
      "4032 tensor([38.1717], device='cuda:0', grad_fn=<DivBackward0>) 2442.986572265625 0.0\n",
      "7371 tensor([40.9852], device='cuda:0', grad_fn=<DivBackward0>) 2623.0556640625 0.0\n",
      "9450 tensor([42.8229], device='cuda:0', grad_fn=<DivBackward0>) 2740.6650390625 0.0\n",
      "15687 tensor([39.8163], device='cuda:0', grad_fn=<DivBackward0>) 2548.242919921875 0.0\n",
      "17451 tensor([34.1725], device='cuda:0', grad_fn=<DivBackward0>) 2187.036865234375 0.0\n",
      "23247 tensor([39.2597], device='cuda:0', grad_fn=<DivBackward0>) 2512.62158203125 0.0\n",
      "28287 tensor([34.3265], device='cuda:0', grad_fn=<DivBackward0>) 2196.895263671875 0.0\n",
      "37926 tensor([34.1067], device='cuda:0', grad_fn=<DivBackward0>) 2182.830322265625 0.0\n",
      "45045 tensor([39.4879], device='cuda:0', grad_fn=<DivBackward0>) 2527.2255859375 0.0\n",
      "50715 tensor([36.8099], device='cuda:0', grad_fn=<DivBackward0>) 2355.833984375 0.0\n",
      "61866 tensor([43.3323], device='cuda:0', grad_fn=<DivBackward0>) 2773.264892578125 0.0\n",
      "71442 tensor([39.9390], device='cuda:0', grad_fn=<DivBackward0>) 2556.09716796875 0.0\n",
      "86310 tensor([38.6654], device='cuda:0', grad_fn=<DivBackward0>) 2474.5859375 0.0\n",
      "97713 tensor([44.7690], device='cuda:0', grad_fn=<DivBackward0>) 2865.2177734375 0.0\n",
      "batch iteration 1\n",
      "batch_loss: 39.75 \n",
      "\n",
      "\n"
     ]
    }
   ],
   "source": [
    "for iteration in range(int(echo)):\n",
    "    # offender_types = []\n",
    "    # defender_types = []\n",
    "    \n",
    "    \n",
    "    X_train_list = []\n",
    "    temp_number = 0\n",
    "    total_batch_loss = 0 \n",
    "    while(temp_number<len(training_data)-1):\n",
    "        \n",
    "        loss2_list = []\n",
    "        loss1_sum = 0\n",
    "        loss2_sum = 0\n",
    "        denominator = 0\n",
    "        for index in range(temp_number, min(batch_size+temp_number,len(training_data))):\n",
    "            h_loss1,h_loss2,h_list = net(training_data[index],training_label[index],0)\n",
    "            denominator += 1\n",
    "            loss1_sum += h_loss1\n",
    "            loss2_sum += h_loss2\n",
    "            \n",
    "        loss_sum = loss1_sum + loss2_sum\n",
    "        loss = (loss_sum) / denominator \n",
    "        total_batch_loss +=float(loss_sum)\n",
    "        optimizer.zero_grad()\n",
    "        \n",
    "        loss.backward()\n",
    "        \n",
    "        optimizer.step()\n",
    "        \n",
    "        temp_number = index\n",
    "        \n",
    "        if(random.random()<=0.01):\n",
    "            print(temp_number,loss,float(loss1_sum),float(loss2_sum))\n",
    "\n",
    "\n",
    "    print(\"batch iteration\", iteration)\n",
    "    print(\"batch_loss: %.2f \" % (total_batch_loss/len(training_data)))\n",
    "    \n",
    "    print()\n",
    "    print()"
   ]
  },
  {
   "cell_type": "code",
   "execution_count": 12,
   "metadata": {
    "ExecuteTime": {
     "end_time": "2021-05-25T05:41:55.409178Z",
     "start_time": "2021-05-25T05:41:55.394148Z"
    }
   },
   "outputs": [],
   "source": [
    "torch.save(net, \"save/Deep_learning_4_1\")"
   ]
  },
  {
   "cell_type": "code",
   "execution_count": 13,
   "metadata": {
    "ExecuteTime": {
     "end_time": "2021-05-25T05:47:51.249653Z",
     "start_time": "2021-05-25T05:41:55.410175Z"
    }
   },
   "outputs": [
    {
     "name": "stdout",
     "output_type": "stream",
     "text": [
      "0.0 0.0 0.0\n"
     ]
    }
   ],
   "source": [
    "denominator = 0\n",
    "result_list = []\n",
    "for index in range(len(testing_data)):\n",
    "    h_list = []\n",
    "    for i in range(Agent_number_n):\n",
    "        h = net.calculate(torch.tensor(testing_data[index][i]).cuda().type(torch.float32))\n",
    "        h_list.append(float(h))\n",
    "    \n",
    "    #print(sum(h_list),h_list,sum(h_list)/testing_label[index])\n",
    "    result_list.append(sum(h_list)/testing_label[index])\n",
    "    \n",
    "\n",
    "print(max(result_list),min(result_list),max(result_list)-min(result_list))"
   ]
  },
  {
   "cell_type": "code",
   "execution_count": 14,
   "metadata": {
    "ExecuteTime": {
     "end_time": "2021-05-25T05:47:52.259472Z",
     "start_time": "2021-05-25T05:47:51.251584Z"
    }
   },
   "outputs": [
    {
     "data": {
      "image/png": "[encoded data removed]",
      "text/plain": [
       "<Figure size 432x288 with 1 Axes>"
      ]
     },
     "metadata": {
      "needs_background": "light"
     },
     "output_type": "display_data"
    }
   ],
   "source": [
    "plt.hist(result_list,bins=500)\n",
    "\n",
    "plt.title(\"Means\", y=1.015, fontsize=20)\n",
    "plt.axvline(x=sum(result_list)/len(result_list), linestyle='--', linewidth=2.5, label=\"sample mean\", c='orange')\n",
    "plt.xlabel(\"samples\", labelpad=14)\n",
    "plt.ylabel(\"frequency of occurence\", labelpad=14)\n",
    "plt.legend();\n",
    "\n",
    "result_list.sort()\n",
    "\n",
    "plt.axvline(x=result_list[int(len(result_list)*0.01)], linestyle='--', linewidth=0.5, label=\"1%\", c='b')\n",
    "plt.axvline(x=result_list[int(len(result_list)*0.99)], linestyle='--', linewidth=0.5, label=\"99%\", c='r')\n",
    "\n",
    "\n",
    "plt.show()"
   ]
  },
  {
   "cell_type": "code",
   "execution_count": null,
   "metadata": {},
   "outputs": [],
   "source": []
  },
  {
   "cell_type": "code",
   "execution_count": null,
   "metadata": {},
   "outputs": [],
   "source": []
  },
  {
   "cell_type": "code",
   "execution_count": null,
   "metadata": {},
   "outputs": [],
   "source": []
  }
 ],
 "metadata": {
  "hide_input": false,
  "kernelspec": {
   "display_name": "Python 3",
   "language": "python",
   "name": "python3"
  },
  "language_info": {
   "codemirror_mode": {
    "name": "ipython",
    "version": 3
   },
   "file_extension": ".py",
   "mimetype": "text/x-python",
   "name": "python",
   "nbconvert_exporter": "python",
   "pygments_lexer": "ipython3",
   "version": "3.8.3"
  },
  "varInspector": {
   "cols": {
    "lenName": 16,
    "lenType": 16,
    "lenVar": 40
   },
   "kernels_config": {
    "python": {
     "delete_cmd_postfix": "",
     "delete_cmd_prefix": "del ",
     "library": "var_list.py",
     "varRefreshCmd": "print(var_dic_list())"
    },
    "r": {
     "delete_cmd_postfix": ") ",
     "delete_cmd_prefix": "rm(",
     "library": "var_list.r",
     "varRefreshCmd": "cat(var_dic_list()) "
    }
   },
   "types_to_exclude": [
    "module",
    "function",
    "builtin_function_or_method",
    "instance",
    "_Feature"
   ],
   "window_display": false
  }
 },
 "nbformat": 4,
 "nbformat_minor": 4
}
