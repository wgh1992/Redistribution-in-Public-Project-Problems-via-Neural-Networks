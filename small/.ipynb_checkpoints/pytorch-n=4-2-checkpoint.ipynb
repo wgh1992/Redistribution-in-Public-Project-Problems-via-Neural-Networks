{
 "cells": [
  {
   "cell_type": "code",
   "execution_count": 1,
   "metadata": {
    "ExecuteTime": {
     "end_time": "2021-05-25T06:11:43.067839Z",
     "start_time": "2021-05-25T06:11:41.358106Z"
    }
   },
   "outputs": [
    {
     "name": "stdout",
     "output_type": "stream",
     "text": [
      "pygame 2.0.1 (SDL 2.0.14, Python 3.8.3)\n",
      "Hello from the pygame community. https://www.pygame.org/contribute.html\n",
      "cuda:0\n"
     ]
    },
    {
     "name": "stderr",
     "output_type": "stream",
     "text": [
      "D:\\ComputerSoftwares\\Anaconda\\lib\\site-packages\\sklearn\\utils\\deprecation.py:143: FutureWarning: The sklearn.datasets.samples_generator module is  deprecated in version 0.22 and will be removed in version 0.24. The corresponding classes / functions should instead be imported from sklearn.datasets. Anything that cannot be imported from sklearn.datasets is now part of the private API.\n",
      "  warnings.warn(message, FutureWarning)\n"
     ]
    }
   ],
   "source": [
    "\n",
    "import pygame\n",
    "import random\n",
    "import os\n",
    "import time\n",
    "import numpy as np\n",
    "import math\n",
    "import torch\n",
    "import torch.nn.functional\n",
    "import matplotlib.pyplot as plt\n",
    "import torch.optim as opt\n",
    "from torch.autograd import Variable\n",
    "from sklearn.model_selection import train_test_split\n",
    "\n",
    "import scipy.stats as st\n",
    "from sklearn.datasets.samples_generator import make_blobs\n",
    "from matplotlib.colors import LogNorm \n",
    "import matplotlib.cm as cm\n",
    "import torch.nn as nn\n",
    "import numpy as np\n",
    "import matplotlib.pyplot as plt\n",
    "\n",
    "\n",
    "if torch.cuda.is_available():  \n",
    "    dev = \"cuda:0\" \n",
    "else:  \n",
    "    dev = \"cpu\"  \n",
    "\n",
    "print(dev)\n"
   ]
  },
  {
   "cell_type": "code",
   "execution_count": 2,
   "metadata": {
    "ExecuteTime": {
     "end_time": "2021-05-25T06:11:43.083949Z",
     "start_time": "2021-05-25T06:11:43.069835Z"
    }
   },
   "outputs": [],
   "source": [
    "global temp_list\n",
    "temp_list = []\n",
    "Agent_number_n=4;\n",
    "Alpha = 0.666;\n",
    "\n"
   ]
  },
  {
   "cell_type": "code",
   "execution_count": 3,
   "metadata": {
    "ExecuteTime": {
     "end_time": "2021-05-25T06:11:45.749946Z",
     "start_time": "2021-05-25T06:11:43.085948Z"
    }
   },
   "outputs": [
    {
     "name": "stdout",
     "output_type": "stream",
     "text": [
      "[[[0.68145267 0.52026328 0.2675507 ]\n",
      "  [0.91338716 0.52026328 0.2675507 ]\n",
      "  [0.91338716 0.68145267 0.2675507 ]\n",
      "  [0.91338716 0.68145267 0.52026328]]\n",
      "\n",
      " [[0.80958789 0.75553136 0.67727987]\n",
      "  [0.91837615 0.75553136 0.67727987]\n",
      "  [0.91837615 0.80958789 0.67727987]\n",
      "  [0.91837615 0.80958789 0.75553136]]\n",
      "\n",
      " [[0.48053624 0.44834881 0.07401329]\n",
      "  [0.99591538 0.44834881 0.07401329]\n",
      "  [0.99591538 0.48053624 0.07401329]\n",
      "  [0.99591538 0.48053624 0.44834881]]\n",
      "\n",
      " ...\n",
      "\n",
      " [[0.53294193 0.10070608 0.07249206]\n",
      "  [0.89444251 0.10070608 0.07249206]\n",
      "  [0.89444251 0.53294193 0.07249206]\n",
      "  [0.89444251 0.53294193 0.10070608]]\n",
      "\n",
      " [[0.77469132 0.32595877 0.10302092]\n",
      "  [0.90722655 0.32595877 0.10302092]\n",
      "  [0.90722655 0.77469132 0.10302092]\n",
      "  [0.90722655 0.77469132 0.32595877]]\n",
      "\n",
      " [[0.03001082 0.02590904 0.01482384]\n",
      "  [0.51371295 0.02590904 0.01482384]\n",
      "  [0.51371295 0.03001082 0.01482384]\n",
      "  [0.51371295 0.03001082 0.02590904]]]\n",
      "[[[0.48114071 0.27515864 0.07487758]\n",
      "  [0.68830252 0.27515864 0.07487758]\n",
      "  [0.68830252 0.48114071 0.07487758]\n",
      "  [0.68830252 0.48114071 0.27515864]]\n",
      "\n",
      " [[0.33170546 0.27758738 0.15473604]\n",
      "  [0.73334743 0.27758738 0.15473604]\n",
      "  [0.73334743 0.33170546 0.15473604]\n",
      "  [0.73334743 0.33170546 0.27758738]]\n",
      "\n",
      " [[0.72061002 0.09903473 0.09291289]\n",
      "  [0.94389666 0.09903473 0.09291289]\n",
      "  [0.94389666 0.72061002 0.09291289]\n",
      "  [0.94389666 0.72061002 0.09903473]]\n",
      "\n",
      " ...\n",
      "\n",
      " [[0.73226861 0.14541699 0.06163786]\n",
      "  [0.81818051 0.14541699 0.06163786]\n",
      "  [0.81818051 0.73226861 0.06163786]\n",
      "  [0.81818051 0.73226861 0.14541699]]\n",
      "\n",
      " [[0.59201281 0.52482003 0.15324577]\n",
      "  [0.71369489 0.52482003 0.15324577]\n",
      "  [0.71369489 0.59201281 0.15324577]\n",
      "  [0.71369489 0.59201281 0.52482003]]\n",
      "\n",
      " [[0.42729202 0.28232027 0.12901047]\n",
      "  [0.8778722  0.28232027 0.12901047]\n",
      "  [0.8778722  0.42729202 0.12901047]\n",
      "  [0.8778722  0.42729202 0.28232027]]]\n",
      "[2.3826538  3.16077526 1.99881372 ... 1.60058258 2.11089755 1.        ]\n",
      "[1.51947944 1.49737631 1.85645429 ... 1.75750398 1.9837735  1.71649496]\n"
     ]
    }
   ],
   "source": [
    "def appen(_x_list,y):\n",
    "    global temp_list\n",
    "    temp_list.append(_x_list)\n",
    "    \n",
    "def appen_train(x_list):\n",
    "    global temp_list\n",
    "                \n",
    "    S= max(sum(x_list),1.0);\n",
    "    temp_list = []\n",
    "    \n",
    "    for i in range(Agent_number_n):\n",
    "        temp = []\n",
    "        for j in range(Agent_number_n):\n",
    "            if(i!=j):\n",
    "                temp.append(x_list[j])\n",
    "        appen(temp,S)\n",
    "    \n",
    "    training_data.append(temp_list)\n",
    "    training_label.append(S)\n",
    "    \n",
    "\n",
    "def read_training_data():\n",
    "    for i in range(100000):\n",
    "        appen_train(sorted(np.random.rand(Agent_number_n), reverse=True));\n",
    "\n",
    "training_data=[]\n",
    "training_label=[]\n",
    "S=1.0\n",
    "read_training_data();\n",
    "\n",
    "def appen_test(x_list):\n",
    "    global temp_list\n",
    "                \n",
    "    S= max(sum(x_list),1.0);\n",
    "    temp_list = []\n",
    "    \n",
    "    for i in range(Agent_number_n):\n",
    "        temp = []\n",
    "        for j in range(Agent_number_n):\n",
    "            if(i!=j):\n",
    "                temp.append(x_list[j])\n",
    "        appen(temp,S)\n",
    "    testing_data.append(temp_list)\n",
    "    testing_label.append(S)\n",
    "    \n",
    "\n",
    "def read_testing_data():\n",
    "#     devided=20\n",
    "#     for i1 in range(devided+1):\n",
    "#         for i2 in range(i1+1):\n",
    "#             for i3 in range(i2+1):\n",
    "#                 appen_test(i1/devided,i2/devided,i3/devided);\n",
    "    for i in range(100000):\n",
    "        appen_test(sorted(np.random.rand(Agent_number_n), reverse=True));\n",
    "                            \n",
    "\n",
    "testing_data=[]\n",
    "testing_label=[]\n",
    "S=1.0\n",
    "read_testing_data();\n",
    "\n",
    "training_data=np.array(training_data)\n",
    "training_label=np.array(training_label)\n",
    "testing_data=np.array(testing_data)\n",
    "testing_label=np.array(testing_label)\n",
    "print(training_data)\n",
    "print(testing_data)\n",
    "print(training_label)\n",
    "print(testing_label)"
   ]
  },
  {
   "cell_type": "code",
   "execution_count": 4,
   "metadata": {
    "ExecuteTime": {
     "end_time": "2021-05-25T06:12:09.414989Z",
     "start_time": "2021-05-25T06:11:45.751907Z"
    }
   },
   "outputs": [
    {
     "name": "stdout",
     "output_type": "stream",
     "text": [
      "3.3747568199595626 2.999999999999999 0.37475681995956345\n"
     ]
    }
   ],
   "source": [
    "def h_3_star(a, b, t):\n",
    "    return a - min(a, t) + b - min(b, t) + max(min(a, t)+min(b, t), 2*t/3) + 1/2 * max(min(a, t)+min(b, t), t) - 1/2 * max(max(min(a, t), min(b, t)), 2*t/3) - t/6\n",
    "\n",
    "\n",
    "def f_function(a, b, z):\n",
    "    if(z >= 1):\n",
    "        return (a+b)/2 + z/3\n",
    "    else:\n",
    "        return z/3 + h_3_star(a, b, 1-z)/2\n",
    "\n",
    "def h_function(input_list):\n",
    "    #input_list = sorted(input_list)\n",
    "    g_list = []\n",
    "    for j1 in range(len(input_list) ):\n",
    "        for j2 in range(len(input_list)):\n",
    "            if(j1 != j2):\n",
    "                a = input_list[j1]\n",
    "                b = input_list[j2]\n",
    "                z = sum(input_list)- a-b\n",
    "\n",
    "                g_list.append( f_function(a, b, z) * (Agent_number_n-1))\n",
    "    h = sum(g_list) * 3 /  (Agent_number_n) /  (Agent_number_n-1) /  (Agent_number_n - 2)\n",
    "    return h\n",
    "                \n",
    "                \n",
    "x_list = []\n",
    "y_list = []\n",
    "z_list = []\n",
    "result_list = []\n",
    "training_supervised_label=[]\n",
    "for index in range(len(training_data)):\n",
    "    h_list = []\n",
    "    for i in range(Agent_number_n):\n",
    "        x_list.append(training_data[index][i][0])\n",
    "        y_list.append(training_data[index][i][1])\n",
    "        h = h_function(training_data[index][i])\n",
    "        z_list.append(float(h))\n",
    "        h_list.append(float(h))\n",
    "    training_supervised_label.append(h_list)\n",
    "    result_list.append(sum(h_list)/training_label[index]) \n",
    "    \n",
    "    \n",
    "print(max(result_list), min(result_list), max(result_list)-min(result_list))"
   ]
  },
  {
   "cell_type": "code",
   "execution_count": 5,
   "metadata": {
    "ExecuteTime": {
     "end_time": "2021-05-25T06:12:10.478479Z",
     "start_time": "2021-05-25T06:12:09.415986Z"
    }
   },
   "outputs": [
    {
     "data": {
      "image/png": "[encoded data removed]",
      "text/plain": [
       "<Figure size 432x288 with 1 Axes>"
      ]
     },
     "metadata": {
      "needs_background": "light"
     },
     "output_type": "display_data"
    }
   ],
   "source": [
    "plt.hist(result_list,bins=500)\n",
    "\n",
    "plt.title(\"Means\", y=1.015, fontsize=20)\n",
    "plt.axvline(x=sum(result_list)/len(result_list), linestyle='--', linewidth=2.5, label=\"sample mean\", c='orange')\n",
    "plt.xlabel(\"samples\", labelpad=14)\n",
    "plt.ylabel(\"frequency of occurence\", labelpad=14)\n",
    "plt.legend();\n",
    "\n",
    "result_list.sort()\n",
    "\n",
    "plt.axvline(x=result_list[int(len(result_list)*0.01)], linestyle='--', linewidth=0.5, label=\"1%\", c='b')\n",
    "plt.axvline(x=result_list[int(len(result_list)*0.99)], linestyle='--', linewidth=0.5, label=\"99%\", c='r')\n",
    "\n",
    "\n",
    "plt.show()"
   ]
  },
  {
   "cell_type": "code",
   "execution_count": 6,
   "metadata": {
    "ExecuteTime": {
     "end_time": "2021-05-25T06:12:10.586392Z",
     "start_time": "2021-05-25T06:12:10.480474Z"
    }
   },
   "outputs": [
    {
     "name": "stdout",
     "output_type": "stream",
     "text": [
      "[[1.57147669 1.78398124 1.98546797 2.22571522]\n",
      " [2.33709923 2.43228895 2.47958842 2.54805847]\n",
      " [0.96425208 1.52437859 1.56461287 2.03253227]\n",
      " ...\n",
      " [0.75795528 0.9929351  1.53322992 1.57378757]\n",
      " [1.19115056 1.33004784 1.89096353 2.13189206]\n",
      " [0.75       0.75       0.75       0.75      ]]\n"
     ]
    }
   ],
   "source": [
    "training_supervised_label=np.array(training_supervised_label)\n",
    "print(training_supervised_label)"
   ]
  },
  {
   "cell_type": "code",
   "execution_count": 7,
   "metadata": {
    "ExecuteTime": {
     "end_time": "2021-05-25T06:12:10.602163Z",
     "start_time": "2021-05-25T06:12:10.589707Z"
    }
   },
   "outputs": [
    {
     "name": "stdout",
     "output_type": "stream",
     "text": [
      "cuda:0\n"
     ]
    }
   ],
   "source": [
    "if torch.cuda.is_available():  \n",
    "    dev = \"cuda:0\" \n",
    "else:  \n",
    "    dev = \"cpu\"  \n",
    "\n",
    "print(dev)\n"
   ]
  },
  {
   "cell_type": "code",
   "execution_count": 8,
   "metadata": {
    "ExecuteTime": {
     "end_time": "2021-05-25T06:12:10.634108Z",
     "start_time": "2021-05-25T06:12:10.605156Z"
    },
    "run_control": {
     "marked": true
    }
   },
   "outputs": [],
   "source": [
    "def weight_init(m):\n",
    "    if isinstance(m, torch.nn.Conv2d):\n",
    "        torch.nn.init.xavier_normal_(m.weight)\n",
    "        torch.nn.init.zeros_(m.bias)\n",
    "    elif isinstance(m, torch.nn.Linear):\n",
    "        torch.nn.init.xavier_normal_(m.weight)\n",
    "        torch.nn.init.zeros_(m.bias)\n",
    "\n",
    "\n",
    "class Net(torch.nn.Module):\n",
    "    def __init__(self):\n",
    "\n",
    "        super(Net, self).__init__()\n",
    "\n",
    "        self.input_dim = (Agent_number_n-1)\n",
    "        self.hidden_dim = 100\n",
    "        self.output_dim = 1\n",
    "        self.hidden_layer_count = 2 \n",
    "        \n",
    "        current_dim = self.input_dim\n",
    "        self.layers = torch.nn.ModuleList()\n",
    "        for i in range(self.hidden_layer_count):\n",
    "            self.layers.append(torch.nn.Linear(current_dim, self.hidden_dim))\n",
    "            current_dim = self.hidden_dim\n",
    "        self.layers.append(torch.nn.Linear(current_dim, self.output_dim))\n",
    "\n",
    "    def calculate(self, value_list):\n",
    "        h = value_list\n",
    "        for layer in self.layers:\n",
    "            h = torch.relu(layer(h))\n",
    "        return h\n",
    "\n",
    "    def forward(self, input_list, input_label, label):\n",
    "        global iteration, echo, target_order\n",
    "        loss1 = 0\n",
    "        loss2 = 0\n",
    "        input_list = torch.from_numpy(\n",
    "            np.array(input_list)).cuda().type(torch.float32)\n",
    "        h_list = []\n",
    "\n",
    "        for i in range(Agent_number_n):\n",
    "            h = self.calculate(input_list[i])\n",
    "            h_list.append(h)\n",
    "        input_label = torch.from_numpy(\n",
    "            np.array(input_label)).cuda().type(torch.float32)\n",
    "        sum_h = torch.sum(torch.cat(h_list)).cuda()\n",
    "\n",
    "        loss1 = torch.where((Agent_number_n-1)*input_label > sum_h,\n",
    "                            torch.square(\n",
    "                                ((Agent_number_n-1)*input_label-sum_h)),\n",
    "                            torch.zeros(1).cuda()\n",
    "                            )\n",
    "\n",
    "        loss2 = torch.where((Agent_number_n-Alpha)*input_label < sum_h,\n",
    "                            torch.square(\n",
    "                                (sum_h-(Agent_number_n-Alpha)*input_label)),\n",
    "                            torch.zeros(1).cuda()\n",
    "                            )\n",
    "\n",
    "        return loss1, loss2, h_list"
   ]
  },
  {
   "cell_type": "code",
   "execution_count": 9,
   "metadata": {
    "ExecuteTime": {
     "end_time": "2021-05-25T06:12:12.376530Z",
     "start_time": "2021-05-25T06:12:10.635078Z"
    },
    "run_control": {
     "marked": true
    }
   },
   "outputs": [
    {
     "data": {
      "text/plain": [
       "Net(\n",
       "  (layers): ModuleList(\n",
       "    (0): Linear(in_features=3, out_features=100, bias=True)\n",
       "    (1): Linear(in_features=100, out_features=100, bias=True)\n",
       "    (2): Linear(in_features=100, out_features=1, bias=True)\n",
       "  )\n",
       ")"
      ]
     },
     "execution_count": 9,
     "metadata": {},
     "output_type": "execute_result"
    }
   ],
   "source": [
    "random.seed(2000)\n",
    "torch.manual_seed(256)\n",
    "net  = Net()\n",
    "net.apply(weight_init)\n",
    "\n",
    "net = torch.load(\"save/Deep_learning_4_2\")\n",
    "net.to(dev)"
   ]
  },
  {
   "cell_type": "code",
   "execution_count": 10,
   "metadata": {
    "ExecuteTime": {
     "end_time": "2021-05-25T06:12:12.392487Z",
     "start_time": "2021-05-25T06:12:12.377527Z"
    }
   },
   "outputs": [],
   "source": [
    "#optimizer = opt.RMSprop(net.parameters(), lr=0.00001)\n",
    "#optimizer = opt.SGD(net.parameters(), lr=0.00005)\n",
    "optimizer = opt.Adam(net.parameters(), lr=0.00001)\n",
    "#optimizer = opt.Adadelta(net.parameters(), lr=1.0)\n",
    "batch_size = 64\n",
    "echo = 2"
   ]
  },
  {
   "cell_type": "code",
   "execution_count": null,
   "metadata": {
    "ExecuteTime": {
     "start_time": "2021-05-25T06:11:41.325Z"
    }
   },
   "outputs": [
    {
     "name": "stdout",
     "output_type": "stream",
     "text": [
      "3024 tensor([23.8278], device='cuda:0', grad_fn=<DivBackward0>) 1524.97900390625 0.0\n",
      "4347 tensor([20.9065], device='cuda:0', grad_fn=<DivBackward0>) 1338.0135498046875 0.0\n",
      "8883 tensor([10.1444], device='cuda:0', grad_fn=<DivBackward0>) 649.244384765625 0.0\n",
      "13104 tensor([2.3168], device='cuda:0', grad_fn=<DivBackward0>) 148.2741241455078 0.0\n",
      "16128 tensor([0.5643], device='cuda:0', grad_fn=<DivBackward0>) 36.107215881347656 0.01070072129368782\n",
      "25011 tensor([0.0916], device='cuda:0', grad_fn=<DivBackward0>) 4.494763374328613 1.3684295415878296\n",
      "35091 tensor([0.0670], device='cuda:0', grad_fn=<DivBackward0>) 0.9593999981880188 3.330721855163574\n",
      "36351 tensor([0.0722], device='cuda:0', grad_fn=<DivBackward0>) 2.920109510421753 1.7036447525024414\n",
      "36666 tensor([0.0449], device='cuda:0', grad_fn=<DivBackward0>) 0.3694218099117279 2.504476308822632\n",
      "56007 tensor([0.0238], device='cuda:0', grad_fn=<DivBackward0>) 0.59894198179245 0.9224816560745239\n",
      "68103 tensor([0.0202], device='cuda:0', grad_fn=<DivBackward0>) 0.6825262308120728 0.6088687181472778\n",
      "68166 tensor([0.0230], device='cuda:0', grad_fn=<DivBackward0>) 0.6000303030014038 0.870756983757019\n",
      "80010 tensor([0.0144], device='cuda:0', grad_fn=<DivBackward0>) 0.32899385690689087 0.5947470664978027\n",
      "82026 tensor([0.0112], device='cuda:0', grad_fn=<DivBackward0>) 0.05537675693631172 0.6645615100860596\n",
      "85680 tensor([0.0120], device='cuda:0', grad_fn=<DivBackward0>) 0.32606586813926697 0.4437359869480133\n",
      "85869 tensor([0.0121], device='cuda:0', grad_fn=<DivBackward0>) 0.1858999878168106 0.5910117030143738\n",
      "94878 tensor([0.0173], device='cuda:0', grad_fn=<DivBackward0>) 0.6431475281715393 0.46209800243377686\n",
      "batch iteration 0\n",
      "batch_loss: 2.19 \n",
      "\n",
      "\n",
      "4032 tensor([0.0088], device='cuda:0', grad_fn=<DivBackward0>) 0.024571415036916733 0.539692759513855\n",
      "7371 tensor([0.0076], device='cuda:0', grad_fn=<DivBackward0>) 0.3709992468357086 0.11554081737995148\n",
      "9450 tensor([0.0049], device='cuda:0', grad_fn=<DivBackward0>) 0.10225585103034973 0.21438369154930115\n",
      "15687 tensor([0.0056], device='cuda:0', grad_fn=<DivBackward0>) 0.011469617486000061 0.3500584065914154\n",
      "17451 tensor([0.0012], device='cuda:0', grad_fn=<DivBackward0>) 0.015453443862497807 0.060087863355875015\n",
      "23247 tensor([0.0111], device='cuda:0', grad_fn=<DivBackward0>) 0.43430331349372864 0.2766239047050476\n",
      "28287 tensor([0.0014], device='cuda:0', grad_fn=<DivBackward0>) 0.0892101377248764 0.0028677370864897966\n",
      "37926 tensor([0.0030], device='cuda:0', grad_fn=<DivBackward0>) 0.06623635441064835 0.12777569890022278\n",
      "45045 tensor([0.0024], device='cuda:0', grad_fn=<DivBackward0>) 0.12441620230674744 0.028276152908802032\n",
      "50715 tensor([0.0100], device='cuda:0', grad_fn=<DivBackward0>) 0.5785937309265137 0.05958617478609085\n"
     ]
    }
   ],
   "source": [
    "for iteration in range(int(echo)):\n",
    "    # offender_types = []\n",
    "    # defender_types = []\n",
    "    \n",
    "    \n",
    "    X_train_list = []\n",
    "    temp_number = 0\n",
    "    total_batch_loss = 0 \n",
    "    while(temp_number<len(training_data)-1):\n",
    "        \n",
    "        loss2_list = []\n",
    "        loss1_sum = 0\n",
    "        loss2_sum = 0\n",
    "        denominator = 0\n",
    "        for index in range(temp_number, min(batch_size+temp_number,len(training_data))):\n",
    "            h_loss1,h_loss2,h_list = net(training_data[index],training_label[index],0)\n",
    "            denominator += 1\n",
    "            loss1_sum += h_loss1\n",
    "            loss2_sum += h_loss2\n",
    "            \n",
    "        loss_sum = loss1_sum + loss2_sum\n",
    "        loss = (loss_sum) / denominator \n",
    "        total_batch_loss +=float(loss_sum)\n",
    "        optimizer.zero_grad()\n",
    "        \n",
    "        loss.backward()\n",
    "        \n",
    "        optimizer.step()\n",
    "        \n",
    "        temp_number = index\n",
    "        \n",
    "        if(random.random()<=0.01):\n",
    "            print(temp_number,loss,float(loss1_sum),float(loss2_sum))\n",
    "\n",
    "\n",
    "    print(\"batch iteration\", iteration)\n",
    "    print(\"batch_loss: %.2f \" % (total_batch_loss/len(training_data)))\n",
    "    \n",
    "    print()\n",
    "    print()"
   ]
  },
  {
   "cell_type": "code",
   "execution_count": null,
   "metadata": {
    "ExecuteTime": {
     "start_time": "2021-05-25T06:11:41.326Z"
    }
   },
   "outputs": [],
   "source": [
    "torch.save(net, \"save/Deep_learning_4_2\")"
   ]
  },
  {
   "cell_type": "code",
   "execution_count": null,
   "metadata": {
    "ExecuteTime": {
     "start_time": "2021-05-25T06:11:41.327Z"
    }
   },
   "outputs": [],
   "source": [
    "denominator = 0\n",
    "result_list = []\n",
    "for index in range(len(testing_data)):\n",
    "    h_list = []\n",
    "    for i in range(Agent_number_n):\n",
    "        h = net.calculate(torch.tensor(testing_data[index][i]).cuda().type(torch.float32))\n",
    "        h_list.append(float(h))\n",
    "    \n",
    "    #print(sum(h_list),h_list,sum(h_list)/testing_label[index])\n",
    "    result_list.append(sum(h_list)/testing_label[index])\n",
    "    \n",
    "\n",
    "print(max(result_list),min(result_list),max(result_list)-min(result_list))"
   ]
  },
  {
   "cell_type": "code",
   "execution_count": null,
   "metadata": {
    "ExecuteTime": {
     "start_time": "2021-05-25T06:11:41.329Z"
    }
   },
   "outputs": [],
   "source": [
    "plt.hist(result_list,bins=500)\n",
    "\n",
    "plt.title(\"Means\", y=1.015, fontsize=20)\n",
    "plt.axvline(x=sum(result_list)/len(result_list), linestyle='--', linewidth=2.5, label=\"sample mean\", c='orange')\n",
    "plt.xlabel(\"samples\", labelpad=14)\n",
    "plt.ylabel(\"frequency of occurence\", labelpad=14)\n",
    "plt.legend();\n",
    "\n",
    "result_list.sort()\n",
    "\n",
    "plt.axvline(x=result_list[int(len(result_list)*0.01)], linestyle='--', linewidth=0.5, label=\"1%\", c='b')\n",
    "plt.axvline(x=result_list[int(len(result_list)*0.99)], linestyle='--', linewidth=0.5, label=\"99%\", c='r')\n",
    "\n",
    "\n",
    "plt.show()"
   ]
  },
  {
   "cell_type": "code",
   "execution_count": null,
   "metadata": {},
   "outputs": [],
   "source": []
  },
  {
   "cell_type": "code",
   "execution_count": null,
   "metadata": {},
   "outputs": [],
   "source": []
  },
  {
   "cell_type": "code",
   "execution_count": null,
   "metadata": {},
   "outputs": [],
   "source": []
  }
 ],
 "metadata": {
  "hide_input": false,
  "kernelspec": {
   "display_name": "Python 3",
   "language": "python",
   "name": "python3"
  },
  "language_info": {
   "codemirror_mode": {
    "name": "ipython",
    "version": 3
   },
   "file_extension": ".py",
   "mimetype": "text/x-python",
   "name": "python",
   "nbconvert_exporter": "python",
   "pygments_lexer": "ipython3",
   "version": "3.8.3"
  },
  "varInspector": {
   "cols": {
    "lenName": 16,
    "lenType": 16,
    "lenVar": 40
   },
   "kernels_config": {
    "python": {
     "delete_cmd_postfix": "",
     "delete_cmd_prefix": "del ",
     "library": "var_list.py",
     "varRefreshCmd": "print(var_dic_list())"
    },
    "r": {
     "delete_cmd_postfix": ") ",
     "delete_cmd_prefix": "rm(",
     "library": "var_list.r",
     "varRefreshCmd": "cat(var_dic_list()) "
    }
   },
   "types_to_exclude": [
    "module",
    "function",
    "builtin_function_or_method",
    "instance",
    "_Feature"
   ],
   "window_display": false
  }
 },
 "nbformat": 4,
 "nbformat_minor": 4
}
