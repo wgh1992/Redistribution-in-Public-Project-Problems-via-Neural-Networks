{
 "cells": [
  {
   "cell_type": "code",
   "execution_count": 1,
   "metadata": {
    "ExecuteTime": {
     "end_time": "2021-05-25T02:21:54.156084Z",
     "start_time": "2021-05-25T02:21:52.490687Z"
    }
   },
   "outputs": [
    {
     "name": "stdout",
     "output_type": "stream",
     "text": [
      "pygame 2.0.1 (SDL 2.0.14, Python 3.8.3)\n",
      "Hello from the pygame community. https://www.pygame.org/contribute.html\n",
      "cuda:0\n"
     ]
    },
    {
     "name": "stderr",
     "output_type": "stream",
     "text": [
      "D:\\ComputerSoftwares\\Anaconda\\lib\\site-packages\\sklearn\\utils\\deprecation.py:143: FutureWarning: The sklearn.datasets.samples_generator module is  deprecated in version 0.22 and will be removed in version 0.24. The corresponding classes / functions should instead be imported from sklearn.datasets. Anything that cannot be imported from sklearn.datasets is now part of the private API.\n",
      "  warnings.warn(message, FutureWarning)\n"
     ]
    }
   ],
   "source": [
    "\n",
    "import pygame\n",
    "import random\n",
    "import os\n",
    "import time\n",
    "import numpy as np\n",
    "import math\n",
    "import torch\n",
    "import torch.nn.functional\n",
    "import matplotlib.pyplot as plt\n",
    "import torch.optim as opt\n",
    "from torch.autograd import Variable\n",
    "from sklearn.model_selection import train_test_split\n",
    "\n",
    "import scipy.stats as st\n",
    "from sklearn.datasets.samples_generator import make_blobs\n",
    "from matplotlib.colors import LogNorm \n",
    "import matplotlib.cm as cm\n",
    "import torch.nn as nn\n",
    "import numpy as np\n",
    "import matplotlib.pyplot as plt\n",
    "\n",
    "\n",
    "if torch.cuda.is_available():  \n",
    "    dev = \"cuda:0\" \n",
    "else:  \n",
    "    dev = \"cpu\"  \n",
    "\n",
    "print(dev)\n"
   ]
  },
  {
   "cell_type": "code",
   "execution_count": 2,
   "metadata": {
    "ExecuteTime": {
     "end_time": "2021-05-25T02:21:54.172089Z",
     "start_time": "2021-05-25T02:21:54.157082Z"
    }
   },
   "outputs": [],
   "source": [
    "global target_order\n",
    "target_order = \"supervised\"\n",
    "global temp_list\n",
    "temp_list = []\n",
    "Agent_number_n=4;\n",
    "Alpha = 0.666;\n",
    "\n"
   ]
  },
  {
   "cell_type": "code",
   "execution_count": 3,
   "metadata": {
    "ExecuteTime": {
     "end_time": "2021-05-25T02:21:56.789075Z",
     "start_time": "2021-05-25T02:21:54.173129Z"
    }
   },
   "outputs": [
    {
     "name": "stdout",
     "output_type": "stream",
     "text": [
      "[[[0.34636867 0.29289854 0.10270202]\n",
      "  [0.51117051 0.29289854 0.10270202]\n",
      "  [0.51117051 0.34636867 0.10270202]\n",
      "  [0.51117051 0.34636867 0.29289854]]\n",
      "\n",
      " [[0.62147548 0.41629655 0.26606457]\n",
      "  [0.96949225 0.41629655 0.26606457]\n",
      "  [0.96949225 0.62147548 0.26606457]\n",
      "  [0.96949225 0.62147548 0.41629655]]\n",
      "\n",
      " [[0.61661913 0.41558416 0.34801275]\n",
      "  [0.71575281 0.41558416 0.34801275]\n",
      "  [0.71575281 0.61661913 0.34801275]\n",
      "  [0.71575281 0.61661913 0.41558416]]\n",
      "\n",
      " ...\n",
      "\n",
      " [[0.68484577 0.68421487 0.62599604]\n",
      "  [0.74156409 0.68421487 0.62599604]\n",
      "  [0.74156409 0.68484577 0.62599604]\n",
      "  [0.74156409 0.68484577 0.68421487]]\n",
      "\n",
      " [[0.7495643  0.33886665 0.33136414]\n",
      "  [0.92933383 0.33886665 0.33136414]\n",
      "  [0.92933383 0.7495643  0.33136414]\n",
      "  [0.92933383 0.7495643  0.33886665]]\n",
      "\n",
      " [[0.65610267 0.49612256 0.29541216]\n",
      "  [0.99280632 0.49612256 0.29541216]\n",
      "  [0.99280632 0.65610267 0.29541216]\n",
      "  [0.99280632 0.65610267 0.49612256]]]\n",
      "[[[0.62915566 0.61540014 0.1443081 ]\n",
      "  [0.71640696 0.61540014 0.1443081 ]\n",
      "  [0.71640696 0.62915566 0.1443081 ]\n",
      "  [0.71640696 0.62915566 0.61540014]]\n",
      "\n",
      " [[0.60455685 0.19402615 0.04607838]\n",
      "  [0.93191713 0.19402615 0.04607838]\n",
      "  [0.93191713 0.60455685 0.04607838]\n",
      "  [0.93191713 0.60455685 0.19402615]]\n",
      "\n",
      " [[0.56504732 0.56158243 0.07687236]\n",
      "  [0.61865589 0.56158243 0.07687236]\n",
      "  [0.61865589 0.56504732 0.07687236]\n",
      "  [0.61865589 0.56504732 0.56158243]]\n",
      "\n",
      " ...\n",
      "\n",
      " [[0.57835643 0.26350315 0.25906072]\n",
      "  [0.89943758 0.26350315 0.25906072]\n",
      "  [0.89943758 0.57835643 0.25906072]\n",
      "  [0.89943758 0.57835643 0.26350315]]\n",
      "\n",
      " [[0.90954573 0.65517279 0.56546893]\n",
      "  [0.93485524 0.65517279 0.56546893]\n",
      "  [0.93485524 0.90954573 0.56546893]\n",
      "  [0.93485524 0.90954573 0.65517279]]\n",
      "\n",
      " [[0.95490515 0.31181158 0.11684253]\n",
      "  [0.9555573  0.31181158 0.11684253]\n",
      "  [0.9555573  0.95490515 0.11684253]\n",
      "  [0.9555573  0.95490515 0.31181158]]]\n",
      "[1.25313974 2.27332885 2.09596884 ... 2.73662077 2.34912891 2.44044371]\n",
      "[2.10527085 1.7765785  1.822158   ... 2.00035788 3.06504269 2.33911656]\n"
     ]
    }
   ],
   "source": [
    "global temp_list\n",
    "temp_list = []\n",
    "def appen(_x_list,y):\n",
    "    global temp_list\n",
    "    temp_list.append(_x_list)\n",
    "    \n",
    "def appen_train(x_list):\n",
    "    global temp_list\n",
    "                \n",
    "    S= max(sum(x_list),1.0);\n",
    "    temp_list = []\n",
    "    \n",
    "    for i in range(Agent_number_n):\n",
    "        temp = []\n",
    "        for j in range(Agent_number_n):\n",
    "            if(i!=j):\n",
    "                temp.append(x_list[j])\n",
    "        appen(temp,S)\n",
    "    \n",
    "    training_data.append(temp_list)\n",
    "    training_label.append(S)\n",
    "    \n",
    "\n",
    "def read_training_data():\n",
    "    for i in range(100000):\n",
    "        appen_train(sorted(np.random.rand(Agent_number_n), reverse=True));\n",
    "\n",
    "training_data=[]\n",
    "training_label=[]\n",
    "S=1.0\n",
    "read_training_data();\n",
    "\n",
    "def appen_test(x_list):\n",
    "    global temp_list\n",
    "                \n",
    "    S= max(sum(x_list),1.0);\n",
    "    temp_list = []\n",
    "    \n",
    "    for i in range(Agent_number_n):\n",
    "        temp = []\n",
    "        for j in range(Agent_number_n):\n",
    "            if(i!=j):\n",
    "                temp.append(x_list[j])\n",
    "        appen(temp,S)\n",
    "    testing_data.append(temp_list)\n",
    "    testing_label.append(S)\n",
    "    \n",
    "\n",
    "def read_testing_data():\n",
    "#     devided=20\n",
    "#     for i1 in range(devided+1):\n",
    "#         for i2 in range(i1+1):\n",
    "#             for i3 in range(i2+1):\n",
    "#                 appen_test(i1/devided,i2/devided,i3/devided);\n",
    "    for i in range(100000):\n",
    "        appen_test(sorted(np.random.rand(Agent_number_n), reverse=True));\n",
    "                            \n",
    "\n",
    "testing_data=[]\n",
    "testing_label=[]\n",
    "S=1.0\n",
    "read_testing_data();\n",
    "\n",
    "training_data=np.array(training_data)\n",
    "training_label=np.array(training_label)\n",
    "testing_data=np.array(testing_data)\n",
    "testing_label=np.array(testing_label)\n",
    "print(training_data)\n",
    "print(testing_data)\n",
    "print(training_label)\n",
    "print(testing_label)"
   ]
  },
  {
   "cell_type": "code",
   "execution_count": 4,
   "metadata": {
    "ExecuteTime": {
     "end_time": "2021-05-25T02:22:19.329667Z",
     "start_time": "2021-05-25T02:21:56.790898Z"
    }
   },
   "outputs": [
    {
     "name": "stdout",
     "output_type": "stream",
     "text": [
      "3.3720578140895183 2.999999999999999 0.3720578140895192\n"
     ]
    }
   ],
   "source": [
    "def h_3_star(a, b, t):\n",
    "    return a - min(a, t) + b - min(b, t) + max(min(a, t)+min(b, t), 2*t/3) + 1/2 * max(min(a, t)+min(b, t), t) - 1/2 * max(max(min(a, t), min(b, t)), 2*t/3) - t/6\n",
    "\n",
    "\n",
    "def f_function(a, b, z):\n",
    "    if(z >= 1):\n",
    "        return (a+b)/2 + z/3\n",
    "    else:\n",
    "        return z/3 + h_3_star(a, b, 1-z)/2\n",
    "\n",
    "def h_function(input_list):\n",
    "    #input_list = sorted(input_list)\n",
    "    g_list = []\n",
    "    for j1 in range(len(input_list) ):\n",
    "        for j2 in range(len(input_list)):\n",
    "            if(j1 != j2):\n",
    "                a = input_list[j1]\n",
    "                b = input_list[j2]\n",
    "                z = sum(input_list)- a-b\n",
    "\n",
    "                g_list.append( f_function(a, b, z) * (Agent_number_n-1))\n",
    "    h = sum(g_list) * 3 /  (Agent_number_n) /  (Agent_number_n-1) /  (Agent_number_n - 2)\n",
    "    return h\n",
    "                \n",
    "                \n",
    "x_list = []\n",
    "y_list = []\n",
    "z_list = []\n",
    "result_list = []\n",
    "training_supervised_label=[]\n",
    "for index in range(len(training_data)):\n",
    "    h_list = []\n",
    "    for i in range(Agent_number_n):\n",
    "        x_list.append(training_data[index][i][0])\n",
    "        y_list.append(training_data[index][i][1])\n",
    "        h = h_function(training_data[index][i])\n",
    "        z_list.append(float(h))\n",
    "        h_list.append(float(h))\n",
    "    training_supervised_label.append(h_list)\n",
    "    result_list.append(sum(h_list)/training_label[index]) \n",
    "    \n",
    "    \n",
    "print(max(result_list), min(result_list), max(result_list)-min(result_list))"
   ]
  },
  {
   "cell_type": "code",
   "execution_count": 5,
   "metadata": {
    "ExecuteTime": {
     "end_time": "2021-05-25T02:22:20.536683Z",
     "start_time": "2021-05-25T02:22:19.331662Z"
    }
   },
   "outputs": [
    {
     "data": {
      "image/png": "[encoded data removed]",
      "text/plain": [
       "<Figure size 432x288 with 1 Axes>"
      ]
     },
     "metadata": {
      "needs_background": "light"
     },
     "output_type": "display_data"
    }
   ],
   "source": [
    "plt.hist(result_list,bins=500)\n",
    "\n",
    "plt.title(\"Means\", y=1.015, fontsize=20)\n",
    "plt.axvline(x=sum(result_list)/len(result_list), linestyle='--', linewidth=2.5, label=\"sample mean\", c='orange')\n",
    "plt.xlabel(\"samples\", labelpad=14)\n",
    "plt.ylabel(\"frequency of occurence\", labelpad=14)\n",
    "plt.legend();\n",
    "\n",
    "result_list.sort()\n",
    "\n",
    "plt.axvline(x=result_list[int(len(result_list)*0.001)], linestyle='--', linewidth=0.5, label=\"0.1%\", c='b')\n",
    "plt.axvline(x=result_list[int(len(result_list)*0.999)], linestyle='--', linewidth=0.5, label=\"99%\", c='r')\n",
    "\n",
    "\n",
    "plt.show()"
   ]
  },
  {
   "cell_type": "code",
   "execution_count": 6,
   "metadata": {
    "ExecuteTime": {
     "end_time": "2021-05-25T02:22:20.648384Z",
     "start_time": "2021-05-25T02:22:20.537681Z"
    }
   },
   "outputs": [
    {
     "name": "stdout",
     "output_type": "stream",
     "text": [
      "[[0.76540071 0.89931428 0.94226021 1.20962115]\n",
      " [1.3756562  1.70125712 1.95773078 2.13135625]\n",
      " [1.48740635 1.58077984 1.83207355 1.90446158]\n",
      " ...\n",
      " [2.1206746  2.17030312 2.17085516 2.22179664]\n",
      " [1.49365724 1.65095559 2.13397948 2.14054418]\n",
      " [1.55441726 1.85812393 2.05809907 2.25190261]]\n"
     ]
    }
   ],
   "source": [
    "training_supervised_label=np.array(training_supervised_label)\n",
    "print(training_supervised_label)"
   ]
  },
  {
   "cell_type": "code",
   "execution_count": 7,
   "metadata": {
    "ExecuteTime": {
     "end_time": "2021-05-25T02:22:20.663411Z",
     "start_time": "2021-05-25T02:22:20.652374Z"
    }
   },
   "outputs": [
    {
     "name": "stdout",
     "output_type": "stream",
     "text": [
      "cuda:0\n"
     ]
    }
   ],
   "source": [
    "if torch.cuda.is_available():  \n",
    "    dev = \"cuda:0\" \n",
    "else:  \n",
    "    dev = \"cpu\"  \n",
    "\n",
    "print(dev)\n"
   ]
  },
  {
   "cell_type": "code",
   "execution_count": 8,
   "metadata": {
    "ExecuteTime": {
     "end_time": "2021-05-25T02:22:20.694261Z",
     "start_time": "2021-05-25T02:22:20.665340Z"
    },
    "run_control": {
     "marked": true
    }
   },
   "outputs": [],
   "source": [
    "def weight_init(m):\n",
    "    if isinstance(m, torch.nn.Conv2d):\n",
    "        torch.nn.init.xavier_normal_(m.weight)\n",
    "        torch.nn.init.zeros_(m.bias)\n",
    "    elif isinstance(m, torch.nn.Linear):\n",
    "        torch.nn.init.normal_(m.weight, mean=0.0,std =0.2)\n",
    "        torch.nn.init.normal_(m.bias, mean=0.0,std =0.01)\n",
    "    elif isinstance(m, torch.nn.Parameter):\n",
    "        torch.nn.init.normal_(m, mean=0.0,std =0.1)\n",
    "        \n",
    "\n",
    "class Net(torch.nn.Module):\n",
    "    def __init__(self):\n",
    "\n",
    "        super(Net, self).__init__()\n",
    "        \n",
    "        self.input_dim = (Agent_number_n-1) \n",
    "        self.hidden_dim = 10\n",
    "        self.output_dim = 1\n",
    "        self.hidden_layer_count = 1\n",
    "        \n",
    "        \n",
    "        self.layer0 = torch.nn.Parameter(torch.Tensor(self.input_dim, self.hidden_dim))\n",
    "        self.bias0 = torch.nn.Parameter(torch.Tensor(self.hidden_dim))\n",
    "        self.layer1 = torch.nn.Parameter(torch.Tensor(self.hidden_dim, self.hidden_dim))\n",
    "        self.bias1 = torch.nn.Parameter(torch.Tensor(self.hidden_dim))\n",
    "        self.layer2 = torch.nn.Parameter(torch.Tensor(self.hidden_dim, self.output_dim))\n",
    "        self.bias2 = torch.nn.Parameter(torch.Tensor(self.output_dim))\n",
    "\n",
    "    def calculate(self, value_list):\n",
    "        #h0 = torch.cat([torch.tensor([torch.sum(value_list)]).cuda(),value_list])\n",
    "        h0 = value_list\n",
    "        h1 = torch.relu(torch.matmul(h0,self.layer0)-self.bias0) + self.bias0\n",
    "        h2 = torch.relu(torch.matmul(h1,self.layer1)-self.bias1) + self.bias1\n",
    "        h = torch.relu(torch.matmul(h2,self.layer2)+self.bias2) \n",
    "        \n",
    "        return h\n",
    "\n",
    "    def forward(self, input_list,input_label,label):\n",
    "        global iteration,echo,target_order\n",
    "        loss1 = 0\n",
    "        loss2 = 0\n",
    "        input_list = torch.from_numpy(\n",
    "            np.array(input_list)).cuda().type(torch.float32)\n",
    "        h_list = []\n",
    "\n",
    "        for i in range(Agent_number_n):\n",
    "            h = self.calculate(input_list[i])\n",
    "            h_list.append(h)\n",
    "        input_label = torch.from_numpy(\n",
    "            np.array(input_label)).cuda().type(torch.float32)\n",
    "        sum_h = torch.sum(torch.cat(h_list)).cuda()\n",
    "\n",
    "\n",
    "        loss1 = torch.where((Agent_number_n-1)*input_label>sum_h,\n",
    "                        torch.square(((Agent_number_n-1)*input_label-sum_h)),\n",
    "                        torch.zeros(1).cuda()\n",
    "                      )\n",
    "\n",
    "        loss2 = torch.where((Agent_number_n-Alpha)*input_label<sum_h,\n",
    "                        torch.square((sum_h-(Agent_number_n-Alpha)*input_label)),\n",
    "                        torch.zeros(1).cuda()\n",
    "                      )\n",
    "\n",
    "        return loss1,loss2,h_list"
   ]
  },
  {
   "cell_type": "code",
   "execution_count": 9,
   "metadata": {
    "ExecuteTime": {
     "end_time": "2021-05-25T02:22:22.297732Z",
     "start_time": "2021-05-25T02:22:20.695259Z"
    }
   },
   "outputs": [
    {
     "data": {
      "text/plain": [
       "Net()"
      ]
     },
     "execution_count": 9,
     "metadata": {},
     "output_type": "execute_result"
    }
   ],
   "source": [
    "random.seed(2000)\n",
    "torch.manual_seed(256)\n",
    "net  = Net()\n",
    "net.apply(weight_init)\n",
    "\n",
    "net = torch.load(\"save/Deep_learning_4\")\n",
    "net.to(dev)"
   ]
  },
  {
   "cell_type": "code",
   "execution_count": 10,
   "metadata": {
    "ExecuteTime": {
     "end_time": "2021-05-25T02:22:22.313472Z",
     "start_time": "2021-05-25T02:22:22.298731Z"
    }
   },
   "outputs": [],
   "source": [
    "#optimizer = opt.RMSprop(net.parameters(), lr=0.00001)\n",
    "#optimizer = opt.SGD(net.parameters(), lr=0.00005)\n",
    "optimizer = opt.Adam(net.parameters(), lr=0.00005)\n",
    "#optimizer = opt.Adadelta(net.parameters(), lr=1.0)\n",
    "batch_size = 64\n",
    "echo = 3"
   ]
  },
  {
   "cell_type": "code",
   "execution_count": null,
   "metadata": {
    "ExecuteTime": {
     "start_time": "2021-05-25T02:21:52.460Z"
    }
   },
   "outputs": [
    {
     "name": "stdout",
     "output_type": "stream",
     "text": [
      "3024 tensor([37.0105], device='cuda:0', grad_fn=<DivBackward0>) 2368.671875 0.0\n",
      "4347 tensor([40.6173], device='cuda:0', grad_fn=<DivBackward0>) 2599.5048828125 0.0\n",
      "8883 tensor([38.9220], device='cuda:0', grad_fn=<DivBackward0>) 2491.009033203125 0.0\n",
      "13104 tensor([39.1969], device='cuda:0', grad_fn=<DivBackward0>) 2508.60302734375 0.0\n",
      "16128 tensor([31.2681], device='cuda:0', grad_fn=<DivBackward0>) 2001.158935546875 0.0\n",
      "25011 tensor([39.8809], device='cuda:0', grad_fn=<DivBackward0>) 2552.378662109375 0.0\n",
      "35091 tensor([33.9041], device='cuda:0', grad_fn=<DivBackward0>) 2169.864501953125 0.0\n",
      "36351 tensor([42.2094], device='cuda:0', grad_fn=<DivBackward0>) 2701.39990234375 0.0\n",
      "36666 tensor([42.5428], device='cuda:0', grad_fn=<DivBackward0>) 2722.7412109375 0.0\n",
      "56007 tensor([38.6715], device='cuda:0', grad_fn=<DivBackward0>) 2474.973876953125 0.0\n",
      "68103 tensor([34.0742], device='cuda:0', grad_fn=<DivBackward0>) 2180.74853515625 0.0\n",
      "68166 tensor([43.1694], device='cuda:0', grad_fn=<DivBackward0>) 2762.84228515625 0.0\n",
      "80010 tensor([36.6760], device='cuda:0', grad_fn=<DivBackward0>) 2347.260986328125 0.0\n",
      "82026 tensor([30.0902], device='cuda:0', grad_fn=<DivBackward0>) 1925.772216796875 0.0\n",
      "85680 tensor([33.3912], device='cuda:0', grad_fn=<DivBackward0>) 2137.035400390625 0.0\n",
      "85869 tensor([32.2438], device='cuda:0', grad_fn=<DivBackward0>) 2063.602294921875 0.0\n",
      "94878 tensor([32.1737], device='cuda:0', grad_fn=<DivBackward0>) 2059.116943359375 0.0\n",
      "batch iteration 0\n",
      "batch_loss: 37.78 \n",
      "\n",
      "\n",
      "4032 tensor([31.5613], device='cuda:0', grad_fn=<DivBackward0>) 2019.9227294921875 0.0\n",
      "7371 tensor([33.0976], device='cuda:0', grad_fn=<DivBackward0>) 2118.24951171875 0.0\n",
      "9450 tensor([35.3784], device='cuda:0', grad_fn=<DivBackward0>) 2264.21484375 0.0\n",
      "15687 tensor([38.6468], device='cuda:0', grad_fn=<DivBackward0>) 2473.39697265625 0.0\n",
      "17451 tensor([35.5922], device='cuda:0', grad_fn=<DivBackward0>) 2277.899169921875 0.0\n",
      "23247 tensor([34.6808], device='cuda:0', grad_fn=<DivBackward0>) 2219.572021484375 0.0\n",
      "28287 tensor([33.1082], device='cuda:0', grad_fn=<DivBackward0>) 2118.923095703125 0.0\n",
      "37926 tensor([33.4707], device='cuda:0', grad_fn=<DivBackward0>) 2142.12646484375 0.0\n",
      "45045 tensor([37.9110], device='cuda:0', grad_fn=<DivBackward0>) 2426.3017578125 0.0\n",
      "50715 tensor([38.0576], device='cuda:0', grad_fn=<DivBackward0>) 2435.689453125 0.0\n",
      "61866 tensor([35.4028], device='cuda:0', grad_fn=<DivBackward0>) 2265.77783203125 0.0\n",
      "71442 tensor([32.6193], device='cuda:0', grad_fn=<DivBackward0>) 2087.637939453125 0.0\n",
      "86310 tensor([28.7484], device='cuda:0', grad_fn=<DivBackward0>) 1839.8983154296875 0.0\n",
      "97713 tensor([30.7881], device='cuda:0', grad_fn=<DivBackward0>) 1970.4393310546875 0.0\n",
      "batch iteration 1\n",
      "batch_loss: 34.17 \n",
      "\n",
      "\n",
      "9702 tensor([33.3034], device='cuda:0', grad_fn=<DivBackward0>) 2131.418212890625 0.0\n",
      "17640 tensor([34.2970], device='cuda:0', grad_fn=<DivBackward0>) 2195.0087890625 0.0\n",
      "18396 tensor([32.4761], device='cuda:0', grad_fn=<DivBackward0>) 2078.4716796875 0.0\n",
      "18459 tensor([36.8999], device='cuda:0', grad_fn=<DivBackward0>) 2361.59521484375 0.0\n",
      "23373 tensor([31.4968], device='cuda:0', grad_fn=<DivBackward0>) 2015.794921875 0.0\n",
      "41769 tensor([28.7813], device='cuda:0', grad_fn=<DivBackward0>) 1842.00390625 0.0\n",
      "58086 tensor([29.1775], device='cuda:0', grad_fn=<DivBackward0>) 1867.3582763671875 0.0\n",
      "60354 tensor([34.3987], device='cuda:0', grad_fn=<DivBackward0>) 2201.515380859375 0.0\n",
      "74151 tensor([27.5856], device='cuda:0', grad_fn=<DivBackward0>) 1765.476806640625 0.0\n"
     ]
    }
   ],
   "source": [
    "for iteration in range(int(echo)):\n",
    "    # offender_types = []\n",
    "    # defender_types = []\n",
    "    \n",
    "    \n",
    "    X_train_list = []\n",
    "    temp_number = 0\n",
    "    total_batch_loss = 0 \n",
    "    while(temp_number<len(training_data)-1):\n",
    "        \n",
    "        loss2_list = []\n",
    "        loss1_sum = 0\n",
    "        loss2_sum = 0\n",
    "        denominator = 0\n",
    "        for index in range(temp_number, min(batch_size+temp_number,len(training_data))):\n",
    "            h_loss1,h_loss2,h_list = net(training_data[index],training_label[index],0)\n",
    "            denominator += 1\n",
    "            loss1_sum += h_loss1\n",
    "            loss2_sum += h_loss2\n",
    "            \n",
    "        loss_sum = loss1_sum + loss2_sum\n",
    "        loss = (loss_sum) / denominator \n",
    "        total_batch_loss +=float(loss_sum)\n",
    "        optimizer.zero_grad()\n",
    "        \n",
    "        loss.backward()\n",
    "        \n",
    "        optimizer.step()\n",
    "        \n",
    "        temp_number = index\n",
    "        \n",
    "        if(random.random()<=0.01):\n",
    "            print(temp_number,loss,float(loss1_sum),float(loss2_sum))\n",
    "\n",
    "\n",
    "    print(\"batch iteration\", iteration)\n",
    "    print(\"batch_loss: %.2f \" % (total_batch_loss/len(training_data)))\n",
    "    \n",
    "    print()\n",
    "    print()"
   ]
  },
  {
   "cell_type": "code",
   "execution_count": null,
   "metadata": {
    "ExecuteTime": {
     "start_time": "2021-05-25T02:21:52.460Z"
    }
   },
   "outputs": [],
   "source": [
    "torch.save(net, \"save/Deep_learning_4\")"
   ]
  },
  {
   "cell_type": "code",
   "execution_count": null,
   "metadata": {
    "ExecuteTime": {
     "start_time": "2021-05-25T02:21:52.461Z"
    }
   },
   "outputs": [],
   "source": [
    "denominator = 0\n",
    "result_list = []\n",
    "for index in range(len(testing_data)):\n",
    "    h_list = []\n",
    "    for i in range(Agent_number_n):\n",
    "        h = net.calculate(torch.tensor(testing_data[index][i]).cuda().type(torch.float32))\n",
    "        h_list.append(float(h))\n",
    "    \n",
    "    #print(sum(h_list),h_list,sum(h_list)/testing_label[index])\n",
    "    result_list.append(sum(h_list)/testing_label[index])\n",
    "    \n",
    "\n",
    "print(max(result_list),min(result_list),max(result_list)-min(result_list))"
   ]
  },
  {
   "cell_type": "code",
   "execution_count": null,
   "metadata": {
    "ExecuteTime": {
     "start_time": "2021-05-25T02:21:52.462Z"
    }
   },
   "outputs": [],
   "source": [
    "plt.hist(result_list,bins=500)\n",
    "\n",
    "plt.title(\"Means\", y=1.015, fontsize=20)\n",
    "plt.axvline(x=sum(result_list)/len(result_list), linestyle='--', linewidth=2.5, label=\"sample mean\", c='orange')\n",
    "plt.xlabel(\"samples\", labelpad=14)\n",
    "plt.ylabel(\"frequency of occurence\", labelpad=14)\n",
    "plt.legend();\n",
    "\n",
    "result_list.sort()\n",
    "\n",
    "plt.axvline(x=result_list[int(len(result_list)*0.01)], linestyle='--', linewidth=0.5, label=\"1%\", c='b')\n",
    "plt.axvline(x=result_list[int(len(result_list)*0.99)], linestyle='--', linewidth=0.5, label=\"99%\", c='r')\n",
    "\n",
    "\n",
    "plt.show()"
   ]
  },
  {
   "cell_type": "code",
   "execution_count": null,
   "metadata": {},
   "outputs": [],
   "source": []
  },
  {
   "cell_type": "code",
   "execution_count": null,
   "metadata": {},
   "outputs": [],
   "source": []
  },
  {
   "cell_type": "code",
   "execution_count": null,
   "metadata": {},
   "outputs": [],
   "source": []
  }
 ],
 "metadata": {
  "hide_input": false,
  "kernelspec": {
   "display_name": "Python 3",
   "language": "python",
   "name": "python3"
  },
  "language_info": {
   "codemirror_mode": {
    "name": "ipython",
    "version": 3
   },
   "file_extension": ".py",
   "mimetype": "text/x-python",
   "name": "python",
   "nbconvert_exporter": "python",
   "pygments_lexer": "ipython3",
   "version": "3.8.3"
  },
  "varInspector": {
   "cols": {
    "lenName": 16,
    "lenType": 16,
    "lenVar": 40
   },
   "kernels_config": {
    "python": {
     "delete_cmd_postfix": "",
     "delete_cmd_prefix": "del ",
     "library": "var_list.py",
     "varRefreshCmd": "print(var_dic_list())"
    },
    "r": {
     "delete_cmd_postfix": ") ",
     "delete_cmd_prefix": "rm(",
     "library": "var_list.r",
     "varRefreshCmd": "cat(var_dic_list()) "
    }
   },
   "types_to_exclude": [
    "module",
    "function",
    "builtin_function_or_method",
    "instance",
    "_Feature"
   ],
   "window_display": false
  }
 },
 "nbformat": 4,
 "nbformat_minor": 4
}
