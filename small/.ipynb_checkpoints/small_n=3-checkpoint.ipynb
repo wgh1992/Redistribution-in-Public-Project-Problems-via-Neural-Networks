{
 "cells": [
  {
   "cell_type": "code",
   "execution_count": 1,
   "metadata": {
    "ExecuteTime": {
     "end_time": "2021-05-24T09:03:18.637413Z",
     "start_time": "2021-05-24T09:03:17.365278Z"
    }
   },
   "outputs": [
    {
     "name": "stdout",
     "output_type": "stream",
     "text": [
      "pygame 2.0.1 (SDL 2.0.14, Python 3.8.3)\n",
      "Hello from the pygame community. https://www.pygame.org/contribute.html\n",
      "cuda:0\n"
     ]
    },
    {
     "name": "stderr",
     "output_type": "stream",
     "text": [
      "D:\\ComputerSoftwares\\Anaconda\\lib\\site-packages\\sklearn\\utils\\deprecation.py:143: FutureWarning: The sklearn.datasets.samples_generator module is  deprecated in version 0.22 and will be removed in version 0.24. The corresponding classes / functions should instead be imported from sklearn.datasets. Anything that cannot be imported from sklearn.datasets is now part of the private API.\n",
      "  warnings.warn(message, FutureWarning)\n"
     ]
    }
   ],
   "source": [
    "\n",
    "import pygame\n",
    "import random\n",
    "import os\n",
    "import time\n",
    "import numpy as np\n",
    "import math\n",
    "import torch\n",
    "import torch.nn.functional\n",
    "import matplotlib.pyplot as plt\n",
    "import torch.optim as opt\n",
    "from torch.autograd import Variable\n",
    "from sklearn.model_selection import train_test_split\n",
    "\n",
    "import scipy.stats as st\n",
    "from sklearn.datasets.samples_generator import make_blobs\n",
    "from matplotlib.colors import LogNorm \n",
    "import matplotlib.cm as cm\n",
    "import torch.nn as nn\n",
    "import numpy as np\n",
    "import matplotlib.pyplot as plt\n",
    "\n",
    "\n",
    "if torch.cuda.is_available():  \n",
    "    dev = \"cuda:0\" \n",
    "else:  \n",
    "    dev = \"cpu\"  \n",
    "\n",
    "print(dev)\n"
   ]
  },
  {
   "cell_type": "code",
   "execution_count": 2,
   "metadata": {
    "ExecuteTime": {
     "end_time": "2021-05-24T09:03:18.652936Z",
     "start_time": "2021-05-24T09:03:18.639402Z"
    }
   },
   "outputs": [],
   "source": [
    "global target_order\n",
    "global temp_list\n",
    "temp_list = []\n",
    "Agent_number_n=3\n",
    "Alpha = 0.666;\n",
    "\n"
   ]
  },
  {
   "cell_type": "code",
   "execution_count": 3,
   "metadata": {
    "ExecuteTime": {
     "end_time": "2021-05-24T09:03:20.926457Z",
     "start_time": "2021-05-24T09:03:18.655928Z"
    }
   },
   "outputs": [],
   "source": [
    "global temp_list\n",
    "temp_list = []\n",
    "def appen(_x_list,y):\n",
    "    global temp_list\n",
    "    temp_list.append(_x_list)\n",
    "    \n",
    "def appen_train(x_list):\n",
    "    global temp_list\n",
    "                \n",
    "    S= max(sum(x_list),1.0);\n",
    "    temp_list = []\n",
    "    \n",
    "    for i in range(Agent_number_n):\n",
    "        temp = []\n",
    "        for j in range(Agent_number_n):\n",
    "            if(i!=j):\n",
    "                temp.append(x_list[j])\n",
    "        appen(temp,S)\n",
    "    \n",
    "    training_data.append(temp_list)\n",
    "    training_label.append(S)\n",
    "    \n",
    "\n",
    "def read_training_data():\n",
    "    for i in range(100000):\n",
    "        appen_train(sorted(np.random.rand(Agent_number_n), reverse=True));\n",
    "\n",
    "training_data=[]\n",
    "training_label=[]\n",
    "S=1.0\n",
    "read_training_data();\n",
    "\n",
    "def appen_test(x_list):\n",
    "    global temp_list\n",
    "                \n",
    "    S= max(sum(x_list),1.0);\n",
    "    temp_list = []\n",
    "    \n",
    "    for i in range(Agent_number_n):\n",
    "        temp = []\n",
    "        for j in range(Agent_number_n):\n",
    "            if(i!=j):\n",
    "                temp.append(x_list[j])\n",
    "        appen(temp,S)\n",
    "    testing_data.append(temp_list)\n",
    "    testing_label.append(S)\n",
    "    \n",
    "\n",
    "def read_testing_data():\n",
    "#     devided=20\n",
    "#     for i1 in range(devided+1):\n",
    "#         for i2 in range(i1+1):\n",
    "#             for i3 in range(i2+1):\n",
    "#                 appen_test(i1/devided,i2/devided,i3/devided);\n",
    "    for i in range(100000):\n",
    "        appen_test(sorted(np.random.rand(Agent_number_n), reverse=True));\n",
    "                            \n",
    "\n",
    "testing_data=[]\n",
    "testing_label=[]\n",
    "S=1.0\n",
    "read_testing_data();\n",
    "\n",
    "training_data=np.array(training_data)\n",
    "training_label=np.array(training_label)\n",
    "testing_data=np.array(testing_data)\n",
    "testing_label=np.array(testing_label)\n",
    "# print(training_data)\n",
    "# print(testing_data)\n",
    "# print(training_label)\n",
    "# print(testing_label)"
   ]
  },
  {
   "cell_type": "code",
   "execution_count": 4,
   "metadata": {
    "ExecuteTime": {
     "end_time": "2021-05-24T09:03:20.941681Z",
     "start_time": "2021-05-24T09:03:20.928454Z"
    }
   },
   "outputs": [],
   "source": [
    "def weight_init(m):\n",
    "    if isinstance(m, torch.nn.Conv2d):\n",
    "        torch.nn.init.xavier_normal_(m.weight)\n",
    "        torch.nn.init.zeros_(m.bias)\n",
    "    elif isinstance(m, torch.nn.Linear):\n",
    "        torch.nn.init.normal_(m.weight, mean=0.0,std =0.2)\n",
    "        torch.nn.init.normal_(m.bias, mean=0.0,std =0.1)\n",
    "\n",
    "        \n",
    "\n",
    "class Net(torch.nn.Module):\n",
    "    def __init__(self):\n",
    "\n",
    "        super(Net, self).__init__()\n",
    "        \n",
    "        self.input_dim = Agent_number_n-1+1\n",
    "        self.hidden_dim = 3\n",
    "        self.output_dim = 1\n",
    "        self.hidden_layer_count = 2 \n",
    "        \n",
    "        current_dim = self.input_dim\n",
    "        self.layers = torch.nn.ModuleList()\n",
    "        for i in range(self.hidden_layer_count):\n",
    "            self.layers.append(torch.nn.Linear(current_dim, self.hidden_dim))\n",
    "            current_dim = self.hidden_dim\n",
    "        self.layers.append(torch.nn.Linear(current_dim, self.output_dim))\n",
    "\n",
    "    def calculate(self, value_list):\n",
    "        h = torch.stack([torch.sum(value_list),value_list])\n",
    "        for layer in self.layers:\n",
    "            h = torch.relu(layer(h))\n",
    "        return h\n",
    "\n",
    "    def forward(self, input_list,input_label,label):\n",
    "        global iteration,echo,target_order\n",
    "        loss1 = 0\n",
    "        loss2 = 0\n",
    "        input_list = torch.from_numpy(\n",
    "            np.array(input_list)).cuda().type(torch.float32)\n",
    "        h_list = []\n",
    "\n",
    "\n",
    "        for i in range(Agent_number_n):\n",
    "            h = self.calculate(input_list[i])\n",
    "            h_list.append(h)\n",
    "        input_label = torch.from_numpy(\n",
    "            np.array(input_label)).cuda().type(torch.float32)\n",
    "        sum_h = torch.sum(torch.cat(h_list)).cuda()\n",
    "\n",
    "\n",
    "        loss1 = torch.where((Agent_number_n-1)*input_label>sum_h,\n",
    "                        torch.square(((Agent_number_n-1)*input_label-sum_h)),\n",
    "                        torch.zeros(1).cuda()\n",
    "                      )\n",
    "\n",
    "        loss2 = torch.where((Agent_number_n-Alpha)*input_label<sum_h,\n",
    "                        torch.square((sum_h-(Agent_number_n-Alpha)*input_label)),\n",
    "                        torch.zeros(1).cuda()\n",
    "                      )\n",
    "\n",
    "#         loss1 = torch.relu(((Agent_number_n-1)*input_label-sum_h))\n",
    "\n",
    "#         loss2 = torch.relu((sum_h-(Agent_number_n-Alpha)*input_label))\n",
    "        \n",
    "        return loss1,loss2,h_list"
   ]
  },
  {
   "cell_type": "code",
   "execution_count": 5,
   "metadata": {
    "ExecuteTime": {
     "end_time": "2021-05-24T09:03:22.092377Z",
     "start_time": "2021-05-24T09:03:20.943413Z"
    }
   },
   "outputs": [
    {
     "data": {
      "text/plain": [
       "Net(\n",
       "  (layers): ModuleList(\n",
       "    (0): Linear(in_features=2, out_features=3, bias=True)\n",
       "    (1): Linear(in_features=3, out_features=3, bias=True)\n",
       "    (2): Linear(in_features=3, out_features=1, bias=True)\n",
       "  )\n",
       ")"
      ]
     },
     "execution_count": 5,
     "metadata": {},
     "output_type": "execute_result"
    }
   ],
   "source": [
    "random.seed(2000)\n",
    "torch.manual_seed(256)\n",
    "net  = Net()\n",
    "net.apply(weight_init)\n",
    "#net = torch.load(\"save/Deep_learning_3_small\")\n",
    "net.to(dev)"
   ]
  },
  {
   "cell_type": "code",
   "execution_count": 6,
   "metadata": {
    "ExecuteTime": {
     "end_time": "2021-05-24T09:03:22.107337Z",
     "start_time": "2021-05-24T09:03:22.094372Z"
    }
   },
   "outputs": [],
   "source": [
    "#optimizer = opt.RMSprop(net.parameters(), lr=0.00001)\n",
    "#optimizer = opt.SGD(net.parameters(), lr=0.00001)\n",
    "optimizer = opt.Adam(net.parameters(), lr=0.0001)\n",
    "\n",
    "batch_size = 64\n",
    "echo = 3"
   ]
  },
  {
   "cell_type": "code",
   "execution_count": 7,
   "metadata": {
    "ExecuteTime": {
     "end_time": "2021-05-24T09:14:50.781953Z",
     "start_time": "2021-05-24T09:03:22.109332Z"
    }
   },
   "outputs": [
    {
     "name": "stdout",
     "output_type": "stream",
     "text": [
      "3024 tensor([9.6027], device='cuda:0', grad_fn=<DivBackward0>) 614.5733642578125 0.0\n",
      "4347 tensor([8.8346], device='cuda:0', grad_fn=<DivBackward0>) 565.4161987304688 0.0\n",
      "8883 tensor([7.8352], device='cuda:0', grad_fn=<DivBackward0>) 501.45263671875 0.0\n",
      "13104 tensor([7.2277], device='cuda:0', grad_fn=<DivBackward0>) 462.5751647949219 0.0\n",
      "16128 tensor([7.8885], device='cuda:0', grad_fn=<DivBackward0>) 504.8610534667969 0.0\n",
      "25011 tensor([8.3440], device='cuda:0', grad_fn=<DivBackward0>) 534.0181884765625 0.0\n",
      "35091 tensor([7.4399], device='cuda:0', grad_fn=<DivBackward0>) 476.15557861328125 0.0\n",
      "36351 tensor([7.3888], device='cuda:0', grad_fn=<DivBackward0>) 472.8819274902344 0.0\n",
      "36666 tensor([7.3793], device='cuda:0', grad_fn=<DivBackward0>) 472.2756652832031 0.0\n",
      "56007 tensor([5.7344], device='cuda:0', grad_fn=<DivBackward0>) 366.99969482421875 0.0\n",
      "68103 tensor([6.7504], device='cuda:0', grad_fn=<DivBackward0>) 432.0224914550781 0.0\n",
      "68166 tensor([6.3022], device='cuda:0', grad_fn=<DivBackward0>) 403.343505859375 0.0\n",
      "80010 tensor([6.4042], device='cuda:0', grad_fn=<DivBackward0>) 409.87139892578125 0.0\n",
      "82026 tensor([6.4128], device='cuda:0', grad_fn=<DivBackward0>) 410.4193115234375 0.0\n",
      "85680 tensor([5.6626], device='cuda:0', grad_fn=<DivBackward0>) 362.4089050292969 0.0\n",
      "85869 tensor([6.4814], device='cuda:0', grad_fn=<DivBackward0>) 414.8067932128906 0.0\n",
      "94878 tensor([5.9426], device='cuda:0', grad_fn=<DivBackward0>) 380.3266296386719 0.0\n",
      "batch iteration 0\n",
      "batch_loss: 7.03 \n",
      "\n",
      "\n",
      "4032 tensor([4.8819], device='cuda:0', grad_fn=<DivBackward0>) 312.4403076171875 0.0\n",
      "7371 tensor([5.8298], device='cuda:0', grad_fn=<DivBackward0>) 373.1068420410156 0.0\n",
      "9450 tensor([4.4286], device='cuda:0', grad_fn=<DivBackward0>) 283.42803955078125 0.0\n",
      "15687 tensor([5.9961], device='cuda:0', grad_fn=<DivBackward0>) 383.7492980957031 0.0\n",
      "17451 tensor([5.1611], device='cuda:0', grad_fn=<DivBackward0>) 330.31085205078125 0.0\n",
      "23247 tensor([5.5034], device='cuda:0', grad_fn=<DivBackward0>) 352.2193603515625 0.0\n",
      "28287 tensor([5.1220], device='cuda:0', grad_fn=<DivBackward0>) 327.8067932128906 0.0\n",
      "37926 tensor([4.7186], device='cuda:0', grad_fn=<DivBackward0>) 301.98992919921875 0.0\n",
      "45045 tensor([4.3013], device='cuda:0', grad_fn=<DivBackward0>) 275.28070068359375 0.0\n",
      "50715 tensor([5.0716], device='cuda:0', grad_fn=<DivBackward0>) 324.5793151855469 0.0\n",
      "61866 tensor([5.0190], device='cuda:0', grad_fn=<DivBackward0>) 321.2188415527344 0.0\n",
      "71442 tensor([4.8831], device='cuda:0', grad_fn=<DivBackward0>) 312.5162658691406 0.0\n",
      "86310 tensor([3.5605], device='cuda:0', grad_fn=<DivBackward0>) 227.8716278076172 0.0\n",
      "97713 tensor([4.0514], device='cuda:0', grad_fn=<DivBackward0>) 259.28656005859375 0.0\n",
      "batch iteration 1\n",
      "batch_loss: 4.93 \n",
      "\n",
      "\n",
      "9702 tensor([3.4388], device='cuda:0', grad_fn=<DivBackward0>) 220.0821533203125 0.0\n",
      "17640 tensor([4.3909], device='cuda:0', grad_fn=<DivBackward0>) 281.0196533203125 0.0\n",
      "18396 tensor([4.1608], device='cuda:0', grad_fn=<DivBackward0>) 266.2925109863281 0.0\n",
      "18459 tensor([3.3461], device='cuda:0', grad_fn=<DivBackward0>) 214.15089416503906 0.0\n",
      "23373 tensor([3.8701], device='cuda:0', grad_fn=<DivBackward0>) 247.68507385253906 0.0\n",
      "41769 tensor([3.6992], device='cuda:0', grad_fn=<DivBackward0>) 236.748779296875 0.0\n",
      "58086 tensor([2.8528], device='cuda:0', grad_fn=<DivBackward0>) 182.576904296875 0.0\n",
      "60354 tensor([3.0049], device='cuda:0', grad_fn=<DivBackward0>) 192.3139190673828 0.0\n",
      "74151 tensor([2.8083], device='cuda:0', grad_fn=<DivBackward0>) 179.73287963867188 0.0\n",
      "99603 tensor([2.6470], device='cuda:0', grad_fn=<DivBackward0>) 169.4108123779297 0.0\n",
      "batch iteration 2\n",
      "batch_loss: 3.39 \n",
      "\n",
      "\n"
     ]
    }
   ],
   "source": [
    "for iteration in range(int(echo)):\n",
    "    # offender_types = []\n",
    "    # defender_types = []\n",
    "    \n",
    "    \n",
    "    X_train_list = []\n",
    "    temp_number = 0\n",
    "    total_batch_loss = 0 \n",
    "    while(temp_number<len(training_data)-1):\n",
    "        \n",
    "        loss2_list = []\n",
    "        loss1_sum = 0\n",
    "        loss2_sum = 0\n",
    "        denominator = 0\n",
    "        for index in range(temp_number, min(batch_size+temp_number,len(training_data))):\n",
    "            h_loss1,h_loss2,h_list = net(training_data[index],training_label[index],0)\n",
    "            denominator += 1\n",
    "            loss1_sum += h_loss1\n",
    "            loss2_sum += h_loss2\n",
    "            \n",
    "        loss_sum = loss1_sum + loss2_sum\n",
    "        loss = (loss_sum) / denominator \n",
    "        total_batch_loss +=float(loss_sum)\n",
    "        optimizer.zero_grad()\n",
    "        \n",
    "        loss.backward()\n",
    "        \n",
    "        optimizer.step()\n",
    "        \n",
    "        temp_number = index\n",
    "        \n",
    "        if(random.random()<=0.01):\n",
    "            print(temp_number,loss,float(loss1_sum),float(loss2_sum))\n",
    "\n",
    "\n",
    "    print(\"batch iteration\", iteration)\n",
    "    print(\"batch_loss: %.2f \" % (total_batch_loss/len(training_data)))\n",
    "    \n",
    "    print()\n",
    "    print()"
   ]
  },
  {
   "cell_type": "code",
   "execution_count": 8,
   "metadata": {
    "ExecuteTime": {
     "end_time": "2021-05-24T09:18:43.054420Z",
     "start_time": "2021-05-24T09:14:50.783948Z"
    }
   },
   "outputs": [
    {
     "name": "stdout",
     "output_type": "stream",
     "text": [
      "1.6847974061965942 0.5686023576504953 1.116195048546099\n"
     ]
    },
    {
     "data": {
      "image/png": "[encoded data removed]",
      "text/plain": [
       "<Figure size 432x288 with 1 Axes>"
      ]
     },
     "metadata": {
      "needs_background": "light"
     },
     "output_type": "display_data"
    }
   ],
   "source": [
    "denominator = 0\n",
    "result_list = []\n",
    "for index in range(len(testing_data)):\n",
    "    h_list = []\n",
    "    for i in range(Agent_number_n):\n",
    "        h = net.calculate(torch.tensor(testing_data[index][i]).cuda().type(torch.float32))\n",
    "        h_list.append(float(h))\n",
    "    \n",
    "    #print(sum(h_list),h_list,sum(h_list)/testing_label[index])\n",
    "    result_list.append(sum(h_list)/testing_label[index])\n",
    "    \n",
    "\n",
    "print(max(result_list),min(result_list),max(result_list)-min(result_list))\n",
    "\n",
    "plt.hist(result_list,bins=500)\n",
    "\n",
    "plt.title(\"Means\", y=1.015, fontsize=20)\n",
    "plt.axvline(x=sum(result_list)/len(result_list), linestyle='--', linewidth=2.5, label=\"sample mean\", c='orange')\n",
    "plt.xlabel(\"samples\", labelpad=14)\n",
    "plt.ylabel(\"frequency of occurence\", labelpad=14)\n",
    "plt.legend();\n",
    "\n",
    "result_list.sort()\n",
    "\n",
    "plt.axvline(x=result_list[int(len(result_list)*0.01)], linestyle='--', linewidth=0.5, label=\"1%\", c='b')\n",
    "plt.axvline(x=result_list[int(len(result_list)*0.99)], linestyle='--', linewidth=0.5, label=\"99%\", c='r')\n",
    "\n",
    "\n",
    "plt.show()"
   ]
  },
  {
   "cell_type": "code",
   "execution_count": 9,
   "metadata": {
    "ExecuteTime": {
     "end_time": "2021-05-24T09:18:43.070017Z",
     "start_time": "2021-05-24T09:18:43.057411Z"
    }
   },
   "outputs": [],
   "source": [
    "torch.save(net, \"save/Deep_learning_3_small\")"
   ]
  }
 ],
 "metadata": {
  "hide_input": false,
  "kernelspec": {
   "display_name": "Python 3",
   "language": "python",
   "name": "python3"
  },
  "language_info": {
   "codemirror_mode": {
    "name": "ipython",
    "version": 3
   },
   "file_extension": ".py",
   "mimetype": "text/x-python",
   "name": "python",
   "nbconvert_exporter": "python",
   "pygments_lexer": "ipython3",
   "version": "3.8.3"
  },
  "varInspector": {
   "cols": {
    "lenName": 16,
    "lenType": 16,
    "lenVar": 40
   },
   "kernels_config": {
    "python": {
     "delete_cmd_postfix": "",
     "delete_cmd_prefix": "del ",
     "library": "var_list.py",
     "varRefreshCmd": "print(var_dic_list())"
    },
    "r": {
     "delete_cmd_postfix": ") ",
     "delete_cmd_prefix": "rm(",
     "library": "var_list.r",
     "varRefreshCmd": "cat(var_dic_list()) "
    }
   },
   "types_to_exclude": [
    "module",
    "function",
    "builtin_function_or_method",
    "instance",
    "_Feature"
   ],
   "window_display": false
  }
 },
 "nbformat": 4,
 "nbformat_minor": 4
}
