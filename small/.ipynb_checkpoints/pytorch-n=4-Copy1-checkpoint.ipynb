{
 "cells": [
  {
   "cell_type": "code",
   "execution_count": 1,
   "metadata": {
    "ExecuteTime": {
     "end_time": "2021-05-25T02:53:22.443802Z",
     "start_time": "2021-05-25T02:53:20.800775Z"
    }
   },
   "outputs": [
    {
     "name": "stdout",
     "output_type": "stream",
     "text": [
      "pygame 2.0.1 (SDL 2.0.14, Python 3.8.3)\n",
      "Hello from the pygame community. https://www.pygame.org/contribute.html\n",
      "cuda:0\n"
     ]
    },
    {
     "name": "stderr",
     "output_type": "stream",
     "text": [
      "D:\\ComputerSoftwares\\Anaconda\\lib\\site-packages\\sklearn\\utils\\deprecation.py:143: FutureWarning: The sklearn.datasets.samples_generator module is  deprecated in version 0.22 and will be removed in version 0.24. The corresponding classes / functions should instead be imported from sklearn.datasets. Anything that cannot be imported from sklearn.datasets is now part of the private API.\n",
      "  warnings.warn(message, FutureWarning)\n"
     ]
    }
   ],
   "source": [
    "\n",
    "import pygame\n",
    "import random\n",
    "import os\n",
    "import time\n",
    "import numpy as np\n",
    "import math\n",
    "import torch\n",
    "import torch.nn.functional\n",
    "import matplotlib.pyplot as plt\n",
    "import torch.optim as opt\n",
    "from torch.autograd import Variable\n",
    "from sklearn.model_selection import train_test_split\n",
    "\n",
    "import scipy.stats as st\n",
    "from sklearn.datasets.samples_generator import make_blobs\n",
    "from matplotlib.colors import LogNorm \n",
    "import matplotlib.cm as cm\n",
    "import torch.nn as nn\n",
    "import numpy as np\n",
    "import matplotlib.pyplot as plt\n",
    "\n",
    "\n",
    "if torch.cuda.is_available():  \n",
    "    dev = \"cuda:0\" \n",
    "else:  \n",
    "    dev = \"cpu\"  \n",
    "\n",
    "print(dev)\n"
   ]
  },
  {
   "cell_type": "code",
   "execution_count": 2,
   "metadata": {
    "ExecuteTime": {
     "end_time": "2021-05-25T02:53:22.459724Z",
     "start_time": "2021-05-25T02:53:22.445755Z"
    }
   },
   "outputs": [],
   "source": [
    "global target_order\n",
    "target_order = \"supervised\"\n",
    "global temp_list\n",
    "temp_list = []\n",
    "Agent_number_n=4;\n",
    "Alpha = 0.666;\n",
    "\n"
   ]
  },
  {
   "cell_type": "code",
   "execution_count": 3,
   "metadata": {
    "ExecuteTime": {
     "end_time": "2021-05-25T02:53:25.025195Z",
     "start_time": "2021-05-25T02:53:22.461741Z"
    }
   },
   "outputs": [
    {
     "name": "stdout",
     "output_type": "stream",
     "text": [
      "[[[0.45409243 0.23782009 0.21612415]\n",
      "  [0.67163979 0.23782009 0.21612415]\n",
      "  [0.67163979 0.45409243 0.21612415]\n",
      "  [0.67163979 0.45409243 0.23782009]]\n",
      "\n",
      " [[0.55052628 0.54073017 0.26145573]\n",
      "  [0.77944052 0.54073017 0.26145573]\n",
      "  [0.77944052 0.55052628 0.26145573]\n",
      "  [0.77944052 0.55052628 0.54073017]]\n",
      "\n",
      " [[0.33454572 0.13641707 0.12626498]\n",
      "  [0.88432058 0.13641707 0.12626498]\n",
      "  [0.88432058 0.33454572 0.12626498]\n",
      "  [0.88432058 0.33454572 0.13641707]]\n",
      "\n",
      " ...\n",
      "\n",
      " [[0.60435407 0.59011728 0.25729043]\n",
      "  [0.92363324 0.59011728 0.25729043]\n",
      "  [0.92363324 0.60435407 0.25729043]\n",
      "  [0.92363324 0.60435407 0.59011728]]\n",
      "\n",
      " [[0.8010904  0.7030203  0.67118871]\n",
      "  [0.96766095 0.7030203  0.67118871]\n",
      "  [0.96766095 0.8010904  0.67118871]\n",
      "  [0.96766095 0.8010904  0.7030203 ]]\n",
      "\n",
      " [[0.65082563 0.55036601 0.47750227]\n",
      "  [0.75801109 0.55036601 0.47750227]\n",
      "  [0.75801109 0.65082563 0.47750227]\n",
      "  [0.75801109 0.65082563 0.55036601]]]\n",
      "[[[0.65983028 0.36400532 0.35077864]\n",
      "  [0.9509366  0.36400532 0.35077864]\n",
      "  [0.9509366  0.65983028 0.35077864]\n",
      "  [0.9509366  0.65983028 0.36400532]]\n",
      "\n",
      " [[0.53574239 0.4529175  0.3822975 ]\n",
      "  [0.94618301 0.4529175  0.3822975 ]\n",
      "  [0.94618301 0.53574239 0.3822975 ]\n",
      "  [0.94618301 0.53574239 0.4529175 ]]\n",
      "\n",
      " [[0.76713692 0.24466324 0.19420515]\n",
      "  [0.98194005 0.24466324 0.19420515]\n",
      "  [0.98194005 0.76713692 0.19420515]\n",
      "  [0.98194005 0.76713692 0.24466324]]\n",
      "\n",
      " ...\n",
      "\n",
      " [[0.92110907 0.59491268 0.22763066]\n",
      "  [0.98874991 0.59491268 0.22763066]\n",
      "  [0.98874991 0.92110907 0.22763066]\n",
      "  [0.98874991 0.92110907 0.59491268]]\n",
      "\n",
      " [[0.76791799 0.36505968 0.07968042]\n",
      "  [0.83020138 0.36505968 0.07968042]\n",
      "  [0.83020138 0.76791799 0.07968042]\n",
      "  [0.83020138 0.76791799 0.36505968]]\n",
      "\n",
      " [[0.79927587 0.61263465 0.54595527]\n",
      "  [0.80011863 0.61263465 0.54595527]\n",
      "  [0.80011863 0.79927587 0.54595527]\n",
      "  [0.80011863 0.79927587 0.61263465]]]\n",
      "[1.57967646 2.1321527  1.48154835 ... 2.37539502 3.14296036 2.436705  ]\n",
      "[2.32555084 2.31714039 2.18794536 ... 2.73240232 2.04285947 2.75798441]\n"
     ]
    }
   ],
   "source": [
    "global temp_list\n",
    "temp_list = []\n",
    "def appen(_x_list,y):\n",
    "    global temp_list\n",
    "    temp_list.append(_x_list)\n",
    "    \n",
    "def appen_train(x_list):\n",
    "    global temp_list\n",
    "                \n",
    "    S= max(sum(x_list),1.0);\n",
    "    temp_list = []\n",
    "    \n",
    "    for i in range(Agent_number_n):\n",
    "        temp = []\n",
    "        for j in range(Agent_number_n):\n",
    "            if(i!=j):\n",
    "                temp.append(x_list[j])\n",
    "        appen(temp,S)\n",
    "    \n",
    "    training_data.append(temp_list)\n",
    "    training_label.append(S)\n",
    "    \n",
    "\n",
    "def read_training_data():\n",
    "    for i in range(100000):\n",
    "        appen_train(sorted(np.random.rand(Agent_number_n), reverse=True));\n",
    "\n",
    "training_data=[]\n",
    "training_label=[]\n",
    "S=1.0\n",
    "read_training_data();\n",
    "\n",
    "def appen_test(x_list):\n",
    "    global temp_list\n",
    "                \n",
    "    S= max(sum(x_list),1.0);\n",
    "    temp_list = []\n",
    "    \n",
    "    for i in range(Agent_number_n):\n",
    "        temp = []\n",
    "        for j in range(Agent_number_n):\n",
    "            if(i!=j):\n",
    "                temp.append(x_list[j])\n",
    "        appen(temp,S)\n",
    "    testing_data.append(temp_list)\n",
    "    testing_label.append(S)\n",
    "    \n",
    "\n",
    "def read_testing_data():\n",
    "#     devided=20\n",
    "#     for i1 in range(devided+1):\n",
    "#         for i2 in range(i1+1):\n",
    "#             for i3 in range(i2+1):\n",
    "#                 appen_test(i1/devided,i2/devided,i3/devided);\n",
    "    for i in range(100000):\n",
    "        appen_test(sorted(np.random.rand(Agent_number_n), reverse=True));\n",
    "                            \n",
    "\n",
    "testing_data=[]\n",
    "testing_label=[]\n",
    "S=1.0\n",
    "read_testing_data();\n",
    "\n",
    "training_data=np.array(training_data)\n",
    "training_label=np.array(training_label)\n",
    "testing_data=np.array(testing_data)\n",
    "testing_label=np.array(testing_label)\n",
    "print(training_data)\n",
    "print(testing_data)\n",
    "print(training_label)\n",
    "print(testing_label)"
   ]
  },
  {
   "cell_type": "code",
   "execution_count": 4,
   "metadata": {
    "ExecuteTime": {
     "end_time": "2021-05-25T02:53:47.023840Z",
     "start_time": "2021-05-25T02:53:25.026227Z"
    }
   },
   "outputs": [
    {
     "name": "stdout",
     "output_type": "stream",
     "text": [
      "3.374696361205909 2.999999999999999 0.37469636120590977\n"
     ]
    }
   ],
   "source": [
    "def h_3_star(a, b, t):\n",
    "    return a - min(a, t) + b - min(b, t) + max(min(a, t)+min(b, t), 2*t/3) + 1/2 * max(min(a, t)+min(b, t), t) - 1/2 * max(max(min(a, t), min(b, t)), 2*t/3) - t/6\n",
    "\n",
    "\n",
    "def f_function(a, b, z):\n",
    "    if(z >= 1):\n",
    "        return (a+b)/2 + z/3\n",
    "    else:\n",
    "        return z/3 + h_3_star(a, b, 1-z)/2\n",
    "\n",
    "def h_function(input_list):\n",
    "    #input_list = sorted(input_list)\n",
    "    g_list = []\n",
    "    for j1 in range(len(input_list) ):\n",
    "        for j2 in range(len(input_list)):\n",
    "            if(j1 != j2):\n",
    "                a = input_list[j1]\n",
    "                b = input_list[j2]\n",
    "                z = sum(input_list)- a-b\n",
    "\n",
    "                g_list.append( f_function(a, b, z) * (Agent_number_n-1))\n",
    "    h = sum(g_list) * 3 /  (Agent_number_n) /  (Agent_number_n-1) /  (Agent_number_n - 2)\n",
    "    return h\n",
    "                \n",
    "                \n",
    "x_list = []\n",
    "y_list = []\n",
    "z_list = []\n",
    "result_list = []\n",
    "training_supervised_label=[]\n",
    "for index in range(len(training_data)):\n",
    "    h_list = []\n",
    "    for i in range(Agent_number_n):\n",
    "        x_list.append(training_data[index][i][0])\n",
    "        y_list.append(training_data[index][i][1])\n",
    "        h = h_function(training_data[index][i])\n",
    "        z_list.append(float(h))\n",
    "        h_list.append(float(h))\n",
    "    training_supervised_label.append(h_list)\n",
    "    result_list.append(sum(h_list)/training_label[index]) \n",
    "    \n",
    "    \n",
    "print(max(result_list), min(result_list), max(result_list)-min(result_list))"
   ]
  },
  {
   "cell_type": "code",
   "execution_count": 5,
   "metadata": {
    "ExecuteTime": {
     "end_time": "2021-05-25T02:53:48.034331Z",
     "start_time": "2021-05-25T02:53:47.025792Z"
    }
   },
   "outputs": [
    {
     "data": {
      "image/png": "[encoded data removed]",
      "text/plain": [
       "<Figure size 432x288 with 1 Axes>"
      ]
     },
     "metadata": {
      "needs_background": "light"
     },
     "output_type": "display_data"
    }
   ],
   "source": [
    "plt.hist(result_list,bins=500)\n",
    "\n",
    "plt.title(\"Means\", y=1.015, fontsize=20)\n",
    "plt.axvline(x=sum(result_list)/len(result_list), linestyle='--', linewidth=2.5, label=\"sample mean\", c='orange')\n",
    "plt.xlabel(\"samples\", labelpad=14)\n",
    "plt.ylabel(\"frequency of occurence\", labelpad=14)\n",
    "plt.legend();\n",
    "\n",
    "result_list.sort()\n",
    "\n",
    "plt.axvline(x=result_list[int(len(result_list)*0.001)], linestyle='--', linewidth=0.5, label=\"0.1%\", c='b')\n",
    "plt.axvline(x=result_list[int(len(result_list)*0.999)], linestyle='--', linewidth=0.5, label=\"99%\", c='r')\n",
    "\n",
    "\n",
    "plt.show()"
   ]
  },
  {
   "cell_type": "code",
   "execution_count": 6,
   "metadata": {
    "ExecuteTime": {
     "end_time": "2021-05-25T02:53:48.129543Z",
     "start_time": "2021-05-25T02:53:48.035261Z"
    }
   },
   "outputs": [
    {
     "name": "stdout",
     "output_type": "stream",
     "text": [
      "[[0.90803667 1.13407086 1.40441128 1.43559919]\n",
      " [1.44918949 1.68474283 1.69698796 2.01185985]\n",
      " [0.75       1.10213307 1.34979388 1.36248399]\n",
      " ...\n",
      " [1.56212779 1.86743872 1.88523471 2.22834152]\n",
      " [2.27838698 2.42413621 2.50994755 2.5378002 ]\n",
      " [1.84385717 1.93764444 2.02554661 2.08930238]]\n"
     ]
    }
   ],
   "source": [
    "training_supervised_label=np.array(training_supervised_label)\n",
    "print(training_supervised_label)"
   ]
  },
  {
   "cell_type": "code",
   "execution_count": 7,
   "metadata": {
    "ExecuteTime": {
     "end_time": "2021-05-25T02:53:48.145525Z",
     "start_time": "2021-05-25T02:53:48.131047Z"
    }
   },
   "outputs": [
    {
     "name": "stdout",
     "output_type": "stream",
     "text": [
      "cuda:0\n"
     ]
    }
   ],
   "source": [
    "if torch.cuda.is_available():  \n",
    "    dev = \"cuda:0\" \n",
    "else:  \n",
    "    dev = \"cpu\"  \n",
    "\n",
    "print(dev)\n"
   ]
  },
  {
   "cell_type": "code",
   "execution_count": 8,
   "metadata": {
    "ExecuteTime": {
     "end_time": "2021-05-25T02:53:48.176439Z",
     "start_time": "2021-05-25T02:53:48.147519Z"
    },
    "run_control": {
     "marked": true
    }
   },
   "outputs": [],
   "source": [
    "def weight_init(m):\n",
    "    if isinstance(m, torch.nn.Conv2d):\n",
    "        torch.nn.init.xavier_normal_(m.weight)\n",
    "        torch.nn.init.zeros_(m.bias)\n",
    "    elif isinstance(m, torch.nn.Linear):\n",
    "        torch.nn.init.normal_(m.weight, mean=0.0,std =0.2)\n",
    "        torch.nn.init.normal_(m.bias, mean=0.0,std =0.01)\n",
    "    elif isinstance(m, torch.nn.Parameter):\n",
    "        torch.nn.init.normal_(m, mean=0.0,std =0.1)\n",
    "        \n",
    "\n",
    "class Net(torch.nn.Module):\n",
    "    def __init__(self):\n",
    "\n",
    "        super(Net, self).__init__()\n",
    "        \n",
    "        self.input_dim = (Agent_number_n-1) \n",
    "        self.hidden_dim = 10\n",
    "        self.output_dim = 1\n",
    "        self.hidden_layer_count = 1\n",
    "        \n",
    "        \n",
    "        self.layer0 = torch.nn.Parameter(torch.Tensor(self.input_dim, self.hidden_dim))\n",
    "        self.bias0 = torch.nn.Parameter(torch.Tensor(self.hidden_dim))\n",
    "        self.layer1 = torch.nn.Parameter(torch.Tensor(self.hidden_dim, self.hidden_dim))\n",
    "        self.bias1 = torch.nn.Parameter(torch.Tensor(self.hidden_dim))\n",
    "        self.layer2 = torch.nn.Parameter(torch.Tensor(self.hidden_dim, self.output_dim))\n",
    "        self.bias2 = torch.nn.Parameter(torch.Tensor(self.output_dim))\n",
    "\n",
    "    def calculate(self, value_list):\n",
    "        #h0 = torch.cat([torch.tensor([torch.sum(value_list)]).cuda(),value_list])\n",
    "        h0 = value_list\n",
    "        h1 = torch.relu(torch.matmul(h0,self.layer0)-self.bias0) + self.bias0\n",
    "        h2 = torch.relu(torch.matmul(h1,self.layer1)-self.bias1) + self.bias1\n",
    "        h = torch.relu(torch.matmul(h2,self.layer2)+self.bias2) \n",
    "        \n",
    "        return h\n",
    "\n",
    "    def forward(self, input_list,input_label,label):\n",
    "        global iteration,echo,target_order\n",
    "        loss1 = 0\n",
    "        loss2 = 0\n",
    "        input_list = torch.from_numpy(\n",
    "            np.array(input_list)).cuda().type(torch.float32)\n",
    "        h_list = []\n",
    "\n",
    "        for i in range(Agent_number_n):\n",
    "            h = self.calculate(input_list[i])\n",
    "            h_list.append(h)\n",
    "        input_label = torch.from_numpy(\n",
    "            np.array(input_label)).cuda().type(torch.float32)\n",
    "        sum_h = torch.sum(torch.cat(h_list)).cuda()\n",
    "\n",
    "\n",
    "        loss1 = torch.where((Agent_number_n-1)*input_label>sum_h,\n",
    "                        torch.square(((Agent_number_n-1)*input_label-sum_h)),\n",
    "                        torch.zeros(1).cuda()\n",
    "                      )\n",
    "\n",
    "        loss2 = torch.where((Agent_number_n-Alpha)*input_label<sum_h,\n",
    "                        torch.square((sum_h-(Agent_number_n-Alpha)*input_label)),\n",
    "                        torch.zeros(1).cuda()\n",
    "                      )\n",
    "\n",
    "        return loss1,loss2,h_list"
   ]
  },
  {
   "cell_type": "code",
   "execution_count": 9,
   "metadata": {
    "ExecuteTime": {
     "end_time": "2021-05-25T02:53:49.855484Z",
     "start_time": "2021-05-25T02:53:48.177437Z"
    }
   },
   "outputs": [
    {
     "data": {
      "text/plain": [
       "Net()"
      ]
     },
     "execution_count": 9,
     "metadata": {},
     "output_type": "execute_result"
    }
   ],
   "source": [
    "random.seed(2000)\n",
    "torch.manual_seed(256)\n",
    "net  = Net()\n",
    "net.apply(weight_init)\n",
    "\n",
    "net = torch.load(\"save/Deep_learning_4\")\n",
    "net.to(dev)"
   ]
  },
  {
   "cell_type": "code",
   "execution_count": 10,
   "metadata": {
    "ExecuteTime": {
     "end_time": "2021-05-25T02:53:49.870520Z",
     "start_time": "2021-05-25T02:53:49.857409Z"
    }
   },
   "outputs": [],
   "source": [
    "#optimizer = opt.RMSprop(net.parameters(), lr=0.00001)\n",
    "#optimizer = opt.SGD(net.parameters(), lr=0.00005)\n",
    "optimizer = opt.Adam(net.parameters(), lr=0.0001)\n",
    "#optimizer = opt.Adadelta(net.parameters(), lr=1.0)\n",
    "batch_size = 64\n",
    "echo = 10"
   ]
  },
  {
   "cell_type": "code",
   "execution_count": 11,
   "metadata": {
    "ExecuteTime": {
     "end_time": "2021-05-25T03:39:08.954374Z",
     "start_time": "2021-05-25T02:53:49.871442Z"
    }
   },
   "outputs": [
    {
     "name": "stdout",
     "output_type": "stream",
     "text": [
      "3024 tensor([13.3315], device='cuda:0', grad_fn=<DivBackward0>) 853.2154541015625 0.0\n",
      "4347 tensor([13.6367], device='cuda:0', grad_fn=<DivBackward0>) 872.747314453125 0.0\n",
      "8883 tensor([13.8305], device='cuda:0', grad_fn=<DivBackward0>) 885.153564453125 0.0\n",
      "13104 tensor([11.2715], device='cuda:0', grad_fn=<DivBackward0>) 721.3738403320312 0.0\n",
      "16128 tensor([10.0084], device='cuda:0', grad_fn=<DivBackward0>) 640.5358276367188 0.0\n",
      "25011 tensor([12.4093], device='cuda:0', grad_fn=<DivBackward0>) 794.1958618164062 0.0\n",
      "35091 tensor([12.1661], device='cuda:0', grad_fn=<DivBackward0>) 778.63134765625 0.0\n",
      "36351 tensor([13.8704], device='cuda:0', grad_fn=<DivBackward0>) 887.7025756835938 0.0\n",
      "36666 tensor([9.4468], device='cuda:0', grad_fn=<DivBackward0>) 604.59521484375 0.0\n",
      "56007 tensor([12.3008], device='cuda:0', grad_fn=<DivBackward0>) 787.2516479492188 0.0\n",
      "68103 tensor([10.2913], device='cuda:0', grad_fn=<DivBackward0>) 658.6412963867188 0.0\n",
      "68166 tensor([12.1055], device='cuda:0', grad_fn=<DivBackward0>) 774.7537231445312 0.0\n",
      "80010 tensor([9.4657], device='cuda:0', grad_fn=<DivBackward0>) 605.80615234375 0.0\n",
      "82026 tensor([10.5359], device='cuda:0', grad_fn=<DivBackward0>) 674.2955932617188 0.0\n",
      "85680 tensor([8.1014], device='cuda:0', grad_fn=<DivBackward0>) 518.48974609375 0.0\n",
      "85869 tensor([7.9994], device='cuda:0', grad_fn=<DivBackward0>) 511.96099853515625 0.0\n",
      "94878 tensor([9.1628], device='cuda:0', grad_fn=<DivBackward0>) 586.4196166992188 0.0\n",
      "batch iteration 0\n",
      "batch_loss: 12.03 \n",
      "\n",
      "\n",
      "4032 tensor([9.9831], device='cuda:0', grad_fn=<DivBackward0>) 638.9195556640625 0.00027620591572485864\n",
      "7371 tensor([11.9065], device='cuda:0', grad_fn=<DivBackward0>) 762.0122680664062 0.005489680916070938\n",
      "9450 tensor([10.7777], device='cuda:0', grad_fn=<DivBackward0>) 689.770751953125 0.004728315863758326\n",
      "15687 tensor([11.9257], device='cuda:0', grad_fn=<DivBackward0>) 763.2205810546875 0.02160697989165783\n",
      "17451 tensor([8.6778], device='cuda:0', grad_fn=<DivBackward0>) 555.3491821289062 0.027126137167215347\n",
      "23247 tensor([10.3055], device='cuda:0', grad_fn=<DivBackward0>) 659.5383911132812 0.016673322767019272\n",
      "28287 tensor([9.0149], device='cuda:0', grad_fn=<DivBackward0>) 576.8952026367188 0.06159532442688942\n",
      "37926 tensor([9.8654], device='cuda:0', grad_fn=<DivBackward0>) 631.3136596679688 0.06929304450750351\n",
      "45045 tensor([8.3428], device='cuda:0', grad_fn=<DivBackward0>) 533.7467651367188 0.19338300824165344\n",
      "50715 tensor([6.8264], device='cuda:0', grad_fn=<DivBackward0>) 436.6074523925781 0.2796693444252014\n",
      "61866 tensor([8.0914], device='cuda:0', grad_fn=<DivBackward0>) 517.357177734375 0.4894464612007141\n",
      "71442 tensor([8.2159], device='cuda:0', grad_fn=<DivBackward0>) 525.4237670898438 0.39393413066864014\n",
      "86310 tensor([7.5665], device='cuda:0', grad_fn=<DivBackward0>) 482.7893371582031 1.4695749282836914\n",
      "97713 tensor([6.9208], device='cuda:0', grad_fn=<DivBackward0>) 441.1641540527344 1.767951488494873\n",
      "batch iteration 1\n",
      "batch_loss: 8.78 \n",
      "\n",
      "\n",
      "9702 tensor([6.0740], device='cuda:0', grad_fn=<DivBackward0>) 387.5392150878906 1.1978212594985962\n",
      "17640 tensor([8.6712], device='cuda:0', grad_fn=<DivBackward0>) 552.9080810546875 2.0462558269500732\n",
      "18396 tensor([6.9121], device='cuda:0', grad_fn=<DivBackward0>) 441.9320983886719 0.4414306581020355\n",
      "18459 tensor([6.0857], device='cuda:0', grad_fn=<DivBackward0>) 387.156005859375 2.326011896133423\n",
      "23373 tensor([4.7721], device='cuda:0', grad_fn=<DivBackward0>) 304.5485534667969 0.8655955791473389\n",
      "41769 tensor([5.6264], device='cuda:0', grad_fn=<DivBackward0>) 357.6260070800781 2.4643099308013916\n",
      "58086 tensor([6.1440], device='cuda:0', grad_fn=<DivBackward0>) 390.78564453125 2.427946090698242\n",
      "60354 tensor([4.7635], device='cuda:0', grad_fn=<DivBackward0>) 302.8017578125 2.0639352798461914\n",
      "74151 tensor([4.4394], device='cuda:0', grad_fn=<DivBackward0>) 280.3206481933594 3.800640106201172\n",
      "99603 tensor([5.3686], device='cuda:0', grad_fn=<DivBackward0>) 336.35125732421875 7.238383769989014\n",
      "batch iteration 2\n",
      "batch_loss: 6.33 \n",
      "\n",
      "\n",
      "10269 tensor([4.3923], device='cuda:0', grad_fn=<DivBackward0>) 275.68475341796875 5.419934272766113\n",
      "10584 tensor([5.2243], device='cuda:0', grad_fn=<DivBackward0>) 324.7772216796875 9.576573371887207\n",
      "14238 tensor([4.0584], device='cuda:0', grad_fn=<DivBackward0>) 257.0129699707031 2.726616859436035\n",
      "22554 tensor([6.7747], device='cuda:0', grad_fn=<DivBackward0>) 427.2073059082031 6.376399993896484\n",
      "25704 tensor([5.5096], device='cuda:0', grad_fn=<DivBackward0>) 350.9994201660156 1.6154528856277466\n",
      "41013 tensor([6.8815], device='cuda:0', grad_fn=<DivBackward0>) 435.0724792480469 5.341831684112549\n",
      "41139 tensor([6.0479], device='cuda:0', grad_fn=<DivBackward0>) 378.8934020996094 8.174161911010742\n",
      "42903 tensor([3.9055], device='cuda:0', grad_fn=<DivBackward0>) 243.505126953125 6.445838928222656\n",
      "49203 tensor([2.8842], device='cuda:0', grad_fn=<DivBackward0>) 177.85333251953125 6.738414764404297\n",
      "55062 tensor([4.0620], device='cuda:0', grad_fn=<DivBackward0>) 252.84707641601562 7.1203436851501465\n",
      "57960 tensor([4.7502], device='cuda:0', grad_fn=<DivBackward0>) 296.08074951171875 7.93308162689209\n",
      "64638 tensor([5.1849], device='cuda:0', grad_fn=<DivBackward0>) 316.4707336425781 15.363121032714844\n",
      "71505 tensor([4.3757], device='cuda:0', grad_fn=<DivBackward0>) 267.5400695800781 12.506896018981934\n",
      "75285 tensor([4.2826], device='cuda:0', grad_fn=<DivBackward0>) 262.50732421875 11.577553749084473\n",
      "85617 tensor([4.1476], device='cuda:0', grad_fn=<DivBackward0>) 255.8451385498047 9.600334167480469\n",
      "91665 tensor([3.3497], device='cuda:0', grad_fn=<DivBackward0>) 203.0454864501953 11.33248233795166\n",
      "94626 tensor([3.5758], device='cuda:0', grad_fn=<DivBackward0>) 214.8491668701172 14.001084327697754\n",
      "95886 tensor([4.8296], device='cuda:0', grad_fn=<DivBackward0>) 300.1296691894531 8.966737747192383\n",
      "95949 tensor([4.2054], device='cuda:0', grad_fn=<DivBackward0>) 256.8618469238281 12.282763481140137\n",
      "batch iteration 3\n",
      "batch_loss: 4.56 \n",
      "\n",
      "\n",
      "882 tensor([4.1538], device='cuda:0', grad_fn=<DivBackward0>) 257.766357421875 8.075711250305176\n",
      "2709 tensor([3.8473], device='cuda:0', grad_fn=<DivBackward0>) 234.1236114501953 12.100976943969727\n",
      "11592 tensor([3.3572], device='cuda:0', grad_fn=<DivBackward0>) 207.81869506835938 7.044093608856201\n",
      "13041 tensor([4.0457], device='cuda:0', grad_fn=<DivBackward0>) 239.350830078125 19.572877883911133\n",
      "42273 tensor([2.5981], device='cuda:0', grad_fn=<DivBackward0>) 145.0951385498047 21.182498931884766\n",
      "43974 tensor([2.7119], device='cuda:0', grad_fn=<DivBackward0>) 151.53115844726562 22.03173828125\n",
      "44856 tensor([3.1029], device='cuda:0', grad_fn=<DivBackward0>) 182.46609497070312 16.117033004760742\n",
      "57708 tensor([3.3624], device='cuda:0', grad_fn=<DivBackward0>) 192.94924926757812 22.243379592895508\n",
      "62244 tensor([3.5280], device='cuda:0', grad_fn=<DivBackward0>) 193.9411163330078 31.853614807128906\n",
      "65583 tensor([2.8765], device='cuda:0', grad_fn=<DivBackward0>) 171.6136932373047 12.485087394714355\n",
      "72324 tensor([3.2998], device='cuda:0', grad_fn=<DivBackward0>) 194.69883728027344 16.48856544494629\n",
      "73521 tensor([3.3321], device='cuda:0', grad_fn=<DivBackward0>) 193.88644409179688 19.3695011138916\n",
      "80955 tensor([2.8290], device='cuda:0', grad_fn=<DivBackward0>) 165.78062438964844 15.276148796081543\n",
      "batch iteration 4\n",
      "batch_loss: 3.37 \n",
      "\n",
      "\n",
      "2961 tensor([3.0855], device='cuda:0', grad_fn=<DivBackward0>) 172.93646240234375 24.535144805908203\n",
      "9891 tensor([3.3582], device='cuda:0', grad_fn=<DivBackward0>) 188.93629455566406 25.9903507232666\n",
      "16506 tensor([3.1575], device='cuda:0', grad_fn=<DivBackward0>) 171.98348999023438 30.09823989868164\n",
      "22113 tensor([2.7380], device='cuda:0', grad_fn=<DivBackward0>) 139.31785583496094 35.91297912597656\n",
      "25956 tensor([3.3627], device='cuda:0', grad_fn=<DivBackward0>) 190.2332763671875 24.981889724731445\n",
      "35343 tensor([2.5655], device='cuda:0', grad_fn=<DivBackward0>) 157.96971130371094 6.223397254943848\n",
      "37548 tensor([2.8488], device='cuda:0', grad_fn=<DivBackward0>) 146.5802001953125 35.74610137939453\n",
      "40950 tensor([2.7097], device='cuda:0', grad_fn=<DivBackward0>) 115.26910400390625 58.149715423583984\n",
      "50967 tensor([2.7559], device='cuda:0', grad_fn=<DivBackward0>) 135.78976440429688 40.58921813964844\n"
     ]
    },
    {
     "name": "stdout",
     "output_type": "stream",
     "text": [
      "54810 tensor([3.0865], device='cuda:0', grad_fn=<DivBackward0>) 177.90525817871094 19.62891387939453\n",
      "60291 tensor([3.3431], device='cuda:0', grad_fn=<DivBackward0>) 197.77357482910156 16.18511390686035\n",
      "94185 tensor([2.3441], device='cuda:0', grad_fn=<DivBackward0>) 99.68877410888672 50.33085250854492\n",
      "95445 tensor([2.4567], device='cuda:0', grad_fn=<DivBackward0>) 114.46410369873047 42.76173782348633\n",
      "batch iteration 5\n",
      "batch_loss: 2.68 \n",
      "\n",
      "\n",
      "5040 tensor([1.7766], device='cuda:0', grad_fn=<DivBackward0>) 93.46204376220703 20.24322509765625\n",
      "6615 tensor([2.7107], device='cuda:0', grad_fn=<DivBackward0>) 138.6673126220703 34.81752395629883\n",
      "10395 tensor([2.2213], device='cuda:0', grad_fn=<DivBackward0>) 101.83069610595703 40.32937240600586\n",
      "14679 tensor([2.3978], device='cuda:0', grad_fn=<DivBackward0>) 102.05557250976562 51.40119934082031\n",
      "17514 tensor([2.7670], device='cuda:0', grad_fn=<DivBackward0>) 135.121826171875 41.967994689941406\n",
      "17703 tensor([2.2607], device='cuda:0', grad_fn=<DivBackward0>) 102.3327865600586 42.35185241699219\n",
      "28287 tensor([2.3801], device='cuda:0', grad_fn=<DivBackward0>) 97.73441314697266 54.59239959716797\n",
      "35595 tensor([2.3210], device='cuda:0', grad_fn=<DivBackward0>) 96.7966537475586 51.74773025512695\n",
      "41769 tensor([2.0967], device='cuda:0', grad_fn=<DivBackward0>) 72.50933074951172 61.67709732055664\n",
      "42903 tensor([1.9990], device='cuda:0', grad_fn=<DivBackward0>) 75.54135131835938 52.39543151855469\n",
      "44730 tensor([2.5247], device='cuda:0', grad_fn=<DivBackward0>) 96.32598114013672 65.25614929199219\n",
      "51912 tensor([2.1016], device='cuda:0', grad_fn=<DivBackward0>) 79.08501434326172 55.41727828979492\n",
      "55692 tensor([2.2283], device='cuda:0', grad_fn=<DivBackward0>) 74.47953796386719 68.13099670410156\n",
      "55881 tensor([2.9133], device='cuda:0', grad_fn=<DivBackward0>) 143.8216552734375 42.62917709350586\n",
      "69867 tensor([2.3275], device='cuda:0', grad_fn=<DivBackward0>) 78.1186752319336 70.84053039550781\n",
      "80136 tensor([2.6448], device='cuda:0', grad_fn=<DivBackward0>) 88.91095733642578 80.35501098632812\n",
      "82152 tensor([2.2635], device='cuda:0', grad_fn=<DivBackward0>) 57.4556999206543 87.40516662597656\n",
      "84042 tensor([2.3202], device='cuda:0', grad_fn=<DivBackward0>) 94.07872772216797 54.41221237182617\n",
      "86373 tensor([1.9515], device='cuda:0', grad_fn=<DivBackward0>) 85.61153411865234 39.28340148925781\n",
      "87696 tensor([2.0951], device='cuda:0', grad_fn=<DivBackward0>) 65.26803588867188 68.81544494628906\n",
      "batch iteration 6\n",
      "batch_loss: 2.38 \n",
      "\n",
      "\n",
      "252 tensor([2.4993], device='cuda:0', grad_fn=<DivBackward0>) 103.0223617553711 56.933746337890625\n",
      "13104 tensor([2.4746], device='cuda:0', grad_fn=<DivBackward0>) 70.33788299560547 88.03807067871094\n",
      "14931 tensor([2.1179], device='cuda:0', grad_fn=<DivBackward0>) 59.24387741088867 76.30331420898438\n",
      "40446 tensor([2.0364], device='cuda:0', grad_fn=<DivBackward0>) 51.229331970214844 79.0970687866211\n",
      "43344 tensor([2.0444], device='cuda:0', grad_fn=<DivBackward0>) 72.46373748779297 58.37618637084961\n",
      "44163 tensor([2.3095], device='cuda:0', grad_fn=<DivBackward0>) 82.12348175048828 65.685302734375\n",
      "47817 tensor([2.0868], device='cuda:0', grad_fn=<DivBackward0>) 69.49054718017578 64.06310272216797\n",
      "59598 tensor([2.4367], device='cuda:0', grad_fn=<DivBackward0>) 83.64591979980469 72.30450439453125\n",
      "61551 tensor([2.2430], device='cuda:0', grad_fn=<DivBackward0>) 88.72496032714844 54.82394027709961\n",
      "63252 tensor([1.8923], device='cuda:0', grad_fn=<DivBackward0>) 43.4091682434082 77.69529724121094\n",
      "67536 tensor([2.7227], device='cuda:0', grad_fn=<DivBackward0>) 96.85550689697266 77.39598846435547\n",
      "68607 tensor([2.2502], device='cuda:0', grad_fn=<DivBackward0>) 91.52808380126953 52.485652923583984\n",
      "82845 tensor([2.7522], device='cuda:0', grad_fn=<DivBackward0>) 79.19615936279297 96.94458770751953\n",
      "91035 tensor([1.8239], device='cuda:0', grad_fn=<DivBackward0>) 75.1130599975586 41.6148681640625\n",
      "97587 tensor([2.3940], device='cuda:0', grad_fn=<DivBackward0>) 76.32585906982422 76.89237976074219\n",
      "batch iteration 7\n",
      "batch_loss: 2.31 \n",
      "\n",
      "\n",
      "7623 tensor([2.1022], device='cuda:0', grad_fn=<DivBackward0>) 70.15880584716797 64.37908935546875\n",
      "20664 tensor([1.9358], device='cuda:0', grad_fn=<DivBackward0>) 90.54022979736328 33.34919738769531\n",
      "21168 tensor([1.6948], device='cuda:0', grad_fn=<DivBackward0>) 55.341033935546875 53.126243591308594\n",
      "26649 tensor([3.2751], device='cuda:0', grad_fn=<DivBackward0>) 147.25880432128906 62.34970474243164\n",
      "36477 tensor([1.7975], device='cuda:0', grad_fn=<DivBackward0>) 75.98011779785156 39.058143615722656\n",
      "47565 tensor([1.9949], device='cuda:0', grad_fn=<DivBackward0>) 85.16014862060547 42.511131286621094\n",
      "48951 tensor([2.6479], device='cuda:0', grad_fn=<DivBackward0>) 83.39742279052734 86.06888580322266\n",
      "53991 tensor([1.8269], device='cuda:0', grad_fn=<DivBackward0>) 28.463090896606445 88.45638275146484\n",
      "84861 tensor([2.4115], device='cuda:0', grad_fn=<DivBackward0>) 69.87504577636719 84.46112823486328\n",
      "90972 tensor([1.9424], device='cuda:0', grad_fn=<DivBackward0>) 54.72221755981445 69.59347534179688\n",
      "91098 tensor([3.1865], device='cuda:0', grad_fn=<DivBackward0>) 124.77068328857422 79.1634521484375\n",
      "94437 tensor([1.6391], device='cuda:0', grad_fn=<DivBackward0>) 53.41094970703125 51.492340087890625\n",
      "batch iteration 8\n",
      "batch_loss: 2.30 \n",
      "\n",
      "\n",
      "7056 tensor([2.4985], device='cuda:0', grad_fn=<DivBackward0>) 72.04090881347656 87.86211395263672\n",
      "7371 tensor([3.2610], device='cuda:0', grad_fn=<DivBackward0>) 127.02236938476562 81.68186950683594\n",
      "8946 tensor([2.3637], device='cuda:0', grad_fn=<DivBackward0>) 92.1812515258789 59.09822082519531\n",
      "12285 tensor([2.2126], device='cuda:0', grad_fn=<DivBackward0>) 79.33108520507812 62.27620315551758\n",
      "33768 tensor([1.9824], device='cuda:0', grad_fn=<DivBackward0>) 62.11797332763672 64.7574234008789\n",
      "41643 tensor([2.1541], device='cuda:0', grad_fn=<DivBackward0>) 79.34355163574219 58.51630401611328\n",
      "45801 tensor([2.2466], device='cuda:0', grad_fn=<DivBackward0>) 91.3913345336914 52.38821792602539\n",
      "48195 tensor([2.2763], device='cuda:0', grad_fn=<DivBackward0>) 67.92923736572266 77.75643157958984\n",
      "51282 tensor([2.2668], device='cuda:0', grad_fn=<DivBackward0>) 73.81168365478516 71.2632064819336\n",
      "75474 tensor([2.2091], device='cuda:0', grad_fn=<DivBackward0>) 75.80013275146484 65.583740234375\n",
      "75852 tensor([1.9087], device='cuda:0', grad_fn=<DivBackward0>) 51.29751968383789 70.86135864257812\n",
      "76671 tensor([2.4918], device='cuda:0', grad_fn=<DivBackward0>) 98.74546813964844 60.72929382324219\n",
      "79128 tensor([1.7903], device='cuda:0', grad_fn=<DivBackward0>) 53.75675964355469 60.82356262207031\n",
      "81018 tensor([1.7889], device='cuda:0', grad_fn=<DivBackward0>) 79.04055786132812 35.45207595825195\n",
      "89901 tensor([2.2777], device='cuda:0', grad_fn=<DivBackward0>) 71.55162048339844 74.22218322753906\n",
      "96894 tensor([2.4677], device='cuda:0', grad_fn=<DivBackward0>) 85.58011627197266 72.35453796386719\n",
      "97335 tensor([2.0879], device='cuda:0', grad_fn=<DivBackward0>) 63.19092559814453 70.43576049804688\n",
      "batch iteration 9\n",
      "batch_loss: 2.30 \n",
      "\n",
      "\n"
     ]
    }
   ],
   "source": [
    "for iteration in range(int(echo)):\n",
    "    # offender_types = []\n",
    "    # defender_types = []\n",
    "    \n",
    "    \n",
    "    X_train_list = []\n",
    "    temp_number = 0\n",
    "    total_batch_loss = 0 \n",
    "    while(temp_number<len(training_data)-1):\n",
    "        \n",
    "        loss2_list = []\n",
    "        loss1_sum = 0\n",
    "        loss2_sum = 0\n",
    "        denominator = 0\n",
    "        for index in range(temp_number, min(batch_size+temp_number,len(training_data))):\n",
    "            h_loss1,h_loss2,h_list = net(training_data[index],training_label[index],0)\n",
    "            denominator += 1\n",
    "            loss1_sum += h_loss1\n",
    "            loss2_sum += h_loss2\n",
    "            \n",
    "        loss_sum = loss1_sum + loss2_sum\n",
    "        loss = (loss_sum) / denominator \n",
    "        total_batch_loss +=float(loss_sum)\n",
    "        optimizer.zero_grad()\n",
    "        \n",
    "        loss.backward()\n",
    "        \n",
    "        optimizer.step()\n",
    "        \n",
    "        temp_number = index\n",
    "        \n",
    "        if(random.random()<=0.01):\n",
    "            print(temp_number,loss,float(loss1_sum),float(loss2_sum))\n",
    "\n",
    "\n",
    "    print(\"batch iteration\", iteration)\n",
    "    print(\"batch_loss: %.2f \" % (total_batch_loss/len(training_data)))\n",
    "    \n",
    "    print()\n",
    "    print()"
   ]
  },
  {
   "cell_type": "code",
   "execution_count": 12,
   "metadata": {
    "ExecuteTime": {
     "end_time": "2021-05-25T03:39:08.969818Z",
     "start_time": "2021-05-25T03:39:08.956341Z"
    }
   },
   "outputs": [],
   "source": [
    "torch.save(net, \"save/Deep_learning_4\")"
   ]
  },
  {
   "cell_type": "code",
   "execution_count": 13,
   "metadata": {
    "ExecuteTime": {
     "end_time": "2021-05-25T03:41:56.736732Z",
     "start_time": "2021-05-25T03:39:08.971811Z"
    }
   },
   "outputs": [
    {
     "name": "stdout",
     "output_type": "stream",
     "text": [
      "6.2743682861328125 1.6027247060699017 4.671643580062911\n"
     ]
    }
   ],
   "source": [
    "denominator = 0\n",
    "result_list = []\n",
    "for index in range(len(testing_data)):\n",
    "    h_list = []\n",
    "    for i in range(Agent_number_n):\n",
    "        h = net.calculate(torch.tensor(testing_data[index][i]).cuda().type(torch.float32))\n",
    "        h_list.append(float(h))\n",
    "    \n",
    "    #print(sum(h_list),h_list,sum(h_list)/testing_label[index])\n",
    "    result_list.append(sum(h_list)/testing_label[index])\n",
    "    \n",
    "\n",
    "print(max(result_list),min(result_list),max(result_list)-min(result_list))"
   ]
  },
  {
   "cell_type": "code",
   "execution_count": 14,
   "metadata": {
    "ExecuteTime": {
     "end_time": "2021-05-25T03:41:57.816244Z",
     "start_time": "2021-05-25T03:41:56.738727Z"
    }
   },
   "outputs": [
    {
     "data": {
      "image/png": "[encoded data removed]",
      "text/plain": [
       "<Figure size 432x288 with 1 Axes>"
      ]
     },
     "metadata": {
      "needs_background": "light"
     },
     "output_type": "display_data"
    }
   ],
   "source": [
    "plt.hist(result_list,bins=500)\n",
    "\n",
    "plt.title(\"Means\", y=1.015, fontsize=20)\n",
    "plt.axvline(x=sum(result_list)/len(result_list), linestyle='--', linewidth=2.5, label=\"sample mean\", c='orange')\n",
    "plt.xlabel(\"samples\", labelpad=14)\n",
    "plt.ylabel(\"frequency of occurence\", labelpad=14)\n",
    "plt.legend();\n",
    "\n",
    "result_list.sort()\n",
    "\n",
    "plt.axvline(x=result_list[int(len(result_list)*0.01)], linestyle='--', linewidth=0.5, label=\"1%\", c='b')\n",
    "plt.axvline(x=result_list[int(len(result_list)*0.99)], linestyle='--', linewidth=0.5, label=\"99%\", c='r')\n",
    "\n",
    "\n",
    "plt.show()"
   ]
  },
  {
   "cell_type": "code",
   "execution_count": null,
   "metadata": {},
   "outputs": [],
   "source": []
  },
  {
   "cell_type": "code",
   "execution_count": null,
   "metadata": {},
   "outputs": [],
   "source": []
  },
  {
   "cell_type": "code",
   "execution_count": null,
   "metadata": {},
   "outputs": [],
   "source": []
  }
 ],
 "metadata": {
  "hide_input": false,
  "kernelspec": {
   "display_name": "Python 3",
   "language": "python",
   "name": "python3"
  },
  "language_info": {
   "codemirror_mode": {
    "name": "ipython",
    "version": 3
   },
   "file_extension": ".py",
   "mimetype": "text/x-python",
   "name": "python",
   "nbconvert_exporter": "python",
   "pygments_lexer": "ipython3",
   "version": "3.8.3"
  },
  "varInspector": {
   "cols": {
    "lenName": 16,
    "lenType": 16,
    "lenVar": 40
   },
   "kernels_config": {
    "python": {
     "delete_cmd_postfix": "",
     "delete_cmd_prefix": "del ",
     "library": "var_list.py",
     "varRefreshCmd": "print(var_dic_list())"
    },
    "r": {
     "delete_cmd_postfix": ") ",
     "delete_cmd_prefix": "rm(",
     "library": "var_list.r",
     "varRefreshCmd": "cat(var_dic_list()) "
    }
   },
   "types_to_exclude": [
    "module",
    "function",
    "builtin_function_or_method",
    "instance",
    "_Feature"
   ],
   "window_display": false
  }
 },
 "nbformat": 4,
 "nbformat_minor": 4
}
