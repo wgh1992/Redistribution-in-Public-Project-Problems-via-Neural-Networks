{
 "cells": [
  {
   "cell_type": "code",
   "execution_count": 1,
   "metadata": {
    "ExecuteTime": {
     "end_time": "2021-05-27T06:22:57.115944Z",
     "start_time": "2021-05-27T06:22:55.526004Z"
    }
   },
   "outputs": [
    {
     "name": "stdout",
     "output_type": "stream",
     "text": [
      "pygame 2.0.1 (SDL 2.0.14, Python 3.8.3)\n",
      "Hello from the pygame community. https://www.pygame.org/contribute.html\n",
      "cuda:0\n"
     ]
    },
    {
     "name": "stderr",
     "output_type": "stream",
     "text": [
      "D:\\ComputerSoftwares\\Anaconda\\lib\\site-packages\\sklearn\\utils\\deprecation.py:143: FutureWarning: The sklearn.datasets.samples_generator module is  deprecated in version 0.22 and will be removed in version 0.24. The corresponding classes / functions should instead be imported from sklearn.datasets. Anything that cannot be imported from sklearn.datasets is now part of the private API.\n",
      "  warnings.warn(message, FutureWarning)\n"
     ]
    }
   ],
   "source": [
    "\n",
    "import pygame\n",
    "import random\n",
    "import os\n",
    "import time\n",
    "import numpy as np\n",
    "import math\n",
    "import torch\n",
    "import torch.nn.functional\n",
    "import matplotlib.pyplot as plt\n",
    "import torch.optim as opt\n",
    "from torch.autograd import Variable\n",
    "from sklearn.model_selection import train_test_split\n",
    "\n",
    "import scipy.stats as st\n",
    "from sklearn.datasets.samples_generator import make_blobs\n",
    "from matplotlib.colors import LogNorm \n",
    "import matplotlib.cm as cm\n",
    "import torch.nn as nn\n",
    "import numpy as np\n",
    "import matplotlib.pyplot as plt\n",
    "\n",
    "\n",
    "if torch.cuda.is_available():  \n",
    "    dev = \"cuda:0\" \n",
    "else:  \n",
    "    dev = \"cpu\"  \n",
    "\n",
    "print(dev)\n"
   ]
  },
  {
   "cell_type": "code",
   "execution_count": 2,
   "metadata": {
    "ExecuteTime": {
     "end_time": "2021-05-27T06:22:57.131441Z",
     "start_time": "2021-05-27T06:22:57.117939Z"
    }
   },
   "outputs": [],
   "source": [
    "global target_order\n",
    "target_order = \"supervised\"\n",
    "global temp_list\n",
    "temp_list = []\n",
    "Agent_number_n=4;\n",
    "Alpha = 0.666;\n",
    "\n"
   ]
  },
  {
   "cell_type": "code",
   "execution_count": 3,
   "metadata": {
    "ExecuteTime": {
     "end_time": "2021-05-27T06:22:58.457179Z",
     "start_time": "2021-05-27T06:22:57.133434Z"
    }
   },
   "outputs": [
    {
     "name": "stdout",
     "output_type": "stream",
     "text": [
      "[[[2.82652365e-01 2.39043015e-01 2.71752642e-04]\n",
      "  [5.71335945e-01 2.39043015e-01 2.71752642e-04]\n",
      "  [5.71335945e-01 2.82652365e-01 2.71752642e-04]\n",
      "  [5.71335945e-01 2.82652365e-01 2.39043015e-01]]\n",
      "\n",
      " [[6.60333235e-01 4.09459437e-01 2.82214893e-01]\n",
      "  [8.29044603e-01 4.09459437e-01 2.82214893e-01]\n",
      "  [8.29044603e-01 6.60333235e-01 2.82214893e-01]\n",
      "  [8.29044603e-01 6.60333235e-01 4.09459437e-01]]\n",
      "\n",
      " [[4.36028477e-01 2.52591939e-01 1.95378546e-01]\n",
      "  [6.22992291e-01 2.52591939e-01 1.95378546e-01]\n",
      "  [6.22992291e-01 4.36028477e-01 1.95378546e-01]\n",
      "  [6.22992291e-01 4.36028477e-01 2.52591939e-01]]\n",
      "\n",
      " ...\n",
      "\n",
      " [[5.33983752e-01 4.51210573e-01 3.69677300e-02]\n",
      "  [8.31531907e-01 4.51210573e-01 3.69677300e-02]\n",
      "  [8.31531907e-01 5.33983752e-01 3.69677300e-02]\n",
      "  [8.31531907e-01 5.33983752e-01 4.51210573e-01]]\n",
      "\n",
      " [[6.09200631e-01 4.22362341e-01 4.05502296e-01]\n",
      "  [7.73297376e-01 4.22362341e-01 4.05502296e-01]\n",
      "  [7.73297376e-01 6.09200631e-01 4.05502296e-01]\n",
      "  [7.73297376e-01 6.09200631e-01 4.22362341e-01]]\n",
      "\n",
      " [[4.39780687e-01 1.23984597e-01 8.33478580e-02]\n",
      "  [6.42076273e-01 1.23984597e-01 8.33478580e-02]\n",
      "  [6.42076273e-01 4.39780687e-01 8.33478580e-02]\n",
      "  [6.42076273e-01 4.39780687e-01 1.23984597e-01]]]\n",
      "[[[0.80082966 0.07150343 0.05511778]\n",
      "  [0.90445242 0.07150343 0.05511778]\n",
      "  [0.90445242 0.80082966 0.05511778]\n",
      "  [0.90445242 0.80082966 0.07150343]]\n",
      "\n",
      " [[0.50274134 0.17313192 0.0742152 ]\n",
      "  [0.85513692 0.17313192 0.0742152 ]\n",
      "  [0.85513692 0.50274134 0.0742152 ]\n",
      "  [0.85513692 0.50274134 0.17313192]]\n",
      "\n",
      " [[0.58050376 0.19476098 0.1733237 ]\n",
      "  [0.84175081 0.19476098 0.1733237 ]\n",
      "  [0.84175081 0.58050376 0.1733237 ]\n",
      "  [0.84175081 0.58050376 0.19476098]]\n",
      "\n",
      " ...\n",
      "\n",
      " [[0.36896277 0.30771558 0.1187071 ]\n",
      "  [0.85596117 0.30771558 0.1187071 ]\n",
      "  [0.85596117 0.36896277 0.1187071 ]\n",
      "  [0.85596117 0.36896277 0.30771558]]\n",
      "\n",
      " [[0.7129699  0.6743849  0.41982573]\n",
      "  [0.82006077 0.6743849  0.41982573]\n",
      "  [0.82006077 0.7129699  0.41982573]\n",
      "  [0.82006077 0.7129699  0.6743849 ]]\n",
      "\n",
      " [[0.72766146 0.72593856 0.24331354]\n",
      "  [0.90542077 0.72593856 0.24331354]\n",
      "  [0.90542077 0.72766146 0.24331354]\n",
      "  [0.90542077 0.72766146 0.72593856]]]\n",
      "[1.09330308 2.18105217 1.50699125 1.48156578 2.15882566 1.55051056\n",
      " 2.61022664 2.61296113 1.6233109  2.24876904 1.19051904 1.91804729\n",
      " 2.49167429 2.27327804 3.04500198 1.91335564 1.85452353 1.\n",
      " 1.85861272 2.12157649 2.83786232 1.43688554 2.16326895 1.88805216\n",
      " 2.63653192 1.69355441 2.28796658 2.55978688 2.53744218 1.93417982\n",
      " 1.28186781 2.8589439  1.42950032 2.25263494 1.37789094 2.02945651\n",
      " 2.68964763 2.12381715 1.88954426 2.37540751 1.67089754 2.38702688\n",
      " 1.69573803 1.61769413 1.         1.36949174 1.86350749 2.3863772\n",
      " 2.05739226 1.85562503 2.70250515 1.79263106 1.70913082 2.0337212\n",
      " 2.00824188 1.56215009 1.70849438 1.63632559 2.63247345 2.61145584\n",
      " 1.4737859  1.87949876 2.10863369 1.87399037 2.27869654 1.\n",
      " 2.9936008  1.99384366 1.91655902 2.96006495 2.20896893 1.28978768\n",
      " 2.17055365 3.32591    1.71073393 1.45356954 2.6514842  1.71884963\n",
      " 2.48626241 2.18406102 1.76413385 1.5523642  1.86622075 1.18116301\n",
      " 1.29845463 2.70952789 1.60751324 1.77967036 1.95255182 2.26481006\n",
      " 1.80553706 2.4436712  2.79807365 1.43057074 1.58893713 1.77299656\n",
      " 2.64940214 2.12237962 2.27427002 1.83779668 2.61679986 1.21682469\n",
      " 1.46131626 2.27996428 1.89977882 2.30932997 2.16607583 2.31480723\n",
      " 1.63455885 1.60242792 2.59499977 2.95696028 1.89032287 2.76253161\n",
      " 2.2955987  2.66524768 3.25595269 2.13130821 2.13165488 1.13526598\n",
      " 1.95550907 2.29203438 2.05125816 1.88197532 2.3098719  2.85757393\n",
      " 1.         1.4119604  2.51311546 1.93513617 1.2310099  1.49849288\n",
      " 1.39616678 2.47443643 2.13607043 1.83269581 1.57581867 2.28004757\n",
      " 2.62589653 1.60101527 2.31150059 2.28190206 1.9768595  2.48577274\n",
      " 1.55813458 1.93268054 2.38743667 1.92161397 1.88871336 1.92291383\n",
      " 1.67936027 2.70078616 1.         1.62713867 2.41567214 1.17582382\n",
      " 2.40865762 1.83811222 2.50786621 2.04035101 2.85901071 2.11159167\n",
      " 2.01554184 2.50437246 1.59239026 2.73571695 1.31258915 1.51213663\n",
      " 1.         3.21718561 1.85097546 1.88667938 2.25521023 2.30354254\n",
      " 1.68607966 1.79952476 1.82748771 2.14552256 2.51764553 1.4248895\n",
      " 1.51994568 2.73657566 2.83847436 2.35943696 1.31781388 2.16914067\n",
      " 2.71834728 2.75239352 1.51585763 2.92621511 2.72111203 1.99302401\n",
      " 2.21454262 2.25742881 2.43536742 1.0875797  2.56580991 1.64517325\n",
      " 1.72497326 3.12351962 2.60249585 1.04027549 1.5863367  1.84701815\n",
      " 1.76871874 2.37998097 2.30136793 1.57208545 1.96196825 1.92122406\n",
      " 1.10179631 2.53419516 1.99525426 1.3862481  1.76437298 2.65706512\n",
      " 1.         1.66925935 2.30575214 1.77215741 1.68892186 2.07441403\n",
      " 1.87921212 1.13385836 2.38959736 1.42305036 1.86936048 1.16278508\n",
      " 2.41493989 1.28581858 1.01411101 2.24753101 1.71411872 1.5128811\n",
      " 3.46009168 1.40369637 2.67950719 2.35236236 1.32886403 1.73307821\n",
      " 1.77201076 2.22906909 2.759051   2.78628622 1.41101286 1.81973375\n",
      " 2.68856823 1.8594386  1.05115449 2.2180486  2.33582083 2.20905609\n",
      " 2.3008461  2.8623788  2.06794278 2.71565912 1.83883106 1.47784917\n",
      " 2.77776714 1.         1.28036943 1.53784564 2.73938474 1.01411879\n",
      " 2.09707171 1.58149887 2.55605667 2.61071975 3.09590877 2.07972497\n",
      " 2.16550151 1.82691319 2.13569884 1.64670997 1.         2.26822259\n",
      " 1.6917725  1.74284239 1.38294816 2.60599293 2.44539896 3.38089039\n",
      " 2.37159237 3.47206602 1.44308314 2.19603321 1.43744109 3.00476492\n",
      " 3.01808928 2.21347445 2.70671523 1.84953199 2.33470263 2.50686164\n",
      " 2.68748813 1.61512846 2.6226329  1.55765047 2.44625055 1.79308759\n",
      " 3.08117329 2.41162283 1.42335288 1.3096393  1.90999303 1.\n",
      " 1.10589371 2.28162853 1.56409318 2.2423878  2.85148238 1.4416425\n",
      " 1.92103203 1.80420557 1.67897194 2.43502902 1.38627298 2.25049786\n",
      " 2.23930005 2.04248635 1.89740531 2.26891506 1.         2.59834874\n",
      " 2.95148236 1.         1.70479989 1.7382808  1.36302669 1.66435575\n",
      " 2.26862865 1.99510296 1.         1.57084577 1.15880375 3.08500736\n",
      " 3.56699602 2.22859758 1.66742116 1.41702667 1.71528473 2.33997082\n",
      " 2.65608689 1.61083846 2.47294221 2.23090131 2.55118179 2.01696969\n",
      " 2.76679871 2.59578945 1.81995021 2.25086773 3.17470007 1.78766225\n",
      " 2.38729145 2.71488395 1.92536387 1.4657188  2.54819258 1.69570892\n",
      " 1.97562037 1.43987665 1.84309065 2.17408918 2.33970735 1.95946635\n",
      " 2.32901197 2.50205959 1.93997364 2.09038925 1.78409443 2.18127867\n",
      " 2.29165719 1.45094712 1.69868916 1.67791511 2.72804221 1.66366951\n",
      " 1.35962576 2.4047444  1.41429237 2.77316048 3.10802931 1.96402517\n",
      " 2.17858193 1.87672628 1.         1.66857611 1.89070846 2.65256457\n",
      " 1.77004265 2.55577325 1.36288743 2.21962273 2.27012914 2.19090758\n",
      " 2.36391371 1.         2.22836721 1.5819541  1.69904802 1.49549024\n",
      " 1.57272704 1.42715427 1.69634623 2.03141919 3.22025633 1.70367443\n",
      " 2.65524057 2.57296137 1.78009974 2.14378595 1.78400752 1.\n",
      " 2.52389483 1.86337227 2.74741263 1.         2.7217253  1.37107745\n",
      " 1.         1.         2.14264563 1.19613529 2.23391779 1.25851646\n",
      " 1.41309678 1.85490271 2.59700118 3.00028833 1.97823156 1.\n",
      " 1.         1.789497   2.114798   1.93159051 2.20098778 1.69298653\n",
      " 1.25597791 1.21372597 2.27659768 2.9998415  2.16315097 2.26786131\n",
      " 2.42564947 2.2434569  1.55461175 1.74828152 1.         1.96365188\n",
      " 1.39978739 1.77092081 1.48708119 2.56132631 1.93289483 2.72048441\n",
      " 2.68745285 2.2719284  2.27888642 1.         1.70868088 2.16772638\n",
      " 2.78456628 1.75494998 2.0979664  2.44803083 2.34850276 2.71812774\n",
      " 1.69901394 1.97359904 1.         1.77134605 1.3168002  2.24620017\n",
      " 1.67843242 1.67898816 1.80270779 2.21368663 1.38516884 2.06931482\n",
      " 2.01658563 1.         1.76694311 1.1952283  2.36427471 1.99305518\n",
      " 2.00785604 1.         2.10811033 2.21824532 2.15062046 1.71542548\n",
      " 3.05454771 1.62065069 2.75226537 2.02476956 1.52495831 1.9164303\n",
      " 1.63781106 3.52679782 3.22314765 1.59148751 2.85426867 1.37633322\n",
      " 1.47446113 1.78070937 2.22644    2.7654048  2.35065332 2.06701236\n",
      " 2.2336225  2.48966485 1.89522993 1.45277495 2.48933098 1.59584877\n",
      " 1.46206537 2.06279301 2.09958746 1.4757197  1.46736969 2.63690771\n",
      " 1.         2.35689892 1.05290687 1.51946665 1.11543433 1.99926003\n",
      " 2.42045903 1.69238528 2.78618456 3.07381032 2.42089736 1.89794705\n",
      " 2.72444633 2.13475019 2.21384982 2.86843535 1.40125964 1.17713573\n",
      " 1.42051475 1.10530437 1.83653153 1.90572318 1.         2.48595933\n",
      " 2.26020477 1.33923999 1.         2.08928339 1.69700643 2.82034717\n",
      " 1.64344524 1.03404795 1.86184513 1.43822837 1.76098451 1.82199144\n",
      " 1.96726673 2.19275368 2.54867448 1.73575186 1.30599005 1.86625559\n",
      " 1.69419452 2.50460076 2.06548233 2.48730058 1.67831371 1.15310338\n",
      " 1.29320385 1.92328799 2.28499129 2.20088495 1.53644034 2.52891744\n",
      " 1.21619917 2.952656   1.81169533 2.17580911 1.         1.9060328\n",
      " 1.98015314 2.59436865 1.78499467 2.10588191 2.46139788 1.99335641\n",
      " 1.0176224  1.60733995 2.47164183 2.86758277 1.49580673 2.78860196\n",
      " 1.96424701 1.6039248  2.13858716 1.7403103  2.56313665 1.95358897\n",
      " 2.33051004 1.57000182 1.66979236 1.4742624  1.68989144 1.20207694\n",
      " 1.79853091 1.54027023 1.30364997 2.81726065 2.1462678  3.1980462\n",
      " 1.22999138 1.51356011 1.73631519 1.83209232 2.28021021 1.70856893\n",
      " 2.4411479  1.90279838 1.39863856 1.         2.06964452 2.58412592\n",
      " 1.85577845 2.86228833 1.75775332 2.30281104 1.         1.25035047\n",
      " 1.10639655 1.1134437  3.51178581 2.65106733 1.43931852 1.8397952\n",
      " 1.46157115 2.90111181 2.76813649 2.62066511 2.42702895 2.8806027\n",
      " 1.60748855 1.33148328 3.15760311 2.686137   2.27419613 2.21132821\n",
      " 1.55507324 1.11844387 1.38315518 3.02940082 1.38878449 1.67511971\n",
      " 2.75449858 2.65834584 1.0897184  1.6509762  2.14776986 1.85027186\n",
      " 2.98715532 1.         2.92043419 2.49570151 2.46546418 2.69275968\n",
      " 2.94886871 2.07965457 1.14762871 1.13172785 1.98480321 2.6988849\n",
      " 3.03967565 2.17969692 1.45005858 2.03139511 1.88403718 2.43248863\n",
      " 1.3528826  2.9427848  1.45081012 2.51714348 2.21233066 1.62354579\n",
      " 2.04921146 1.58194569 2.02302135 2.24714515 1.         2.55894267\n",
      " 1.23347139 1.85979615 2.70746304 1.57254949 1.99709291 1.66157219\n",
      " 3.02332215 1.62012853 1.         2.07705756 1.04035381 1.82556687\n",
      " 2.92920793 3.01634549 2.29601635 1.14802963 1.88416464 1.08681006\n",
      " 1.65503801 1.45822733 1.85821516 2.45623435 2.6882302  2.32517133\n",
      " 1.48763086 1.         1.74388734 2.76313585 2.44806104 1.48793696\n",
      " 1.6499119  1.67468053 2.73283118 1.675947   1.38917014 1.\n",
      " 2.69325562 2.34273697 1.96074802 1.8948546  2.29123923 1.95301775\n",
      " 1.68604239 1.57156588 1.79584068 1.55222242 1.52309555 1.68043508\n",
      " 2.02665161 2.36924482 2.26804789 1.57444728 3.28703946 2.28044587\n",
      " 2.70952737 1.13666891 2.78898737 1.56973822 1.         2.00217783\n",
      " 1.32548932 2.25209341 1.52238646 2.00288889 1.86823644 1.82758085\n",
      " 1.83576727 1.98515624 1.49418397 2.66340874 2.86210071 2.96498644\n",
      " 2.70442732 2.0852035  2.31395436 2.19027499 2.22016642 1.1443786\n",
      " 1.4666986  1.6710992  1.9002075  2.91571908 2.42214628 1.97494729\n",
      " 1.65077278 1.44023047 2.23750654 2.98310472 2.52227143 2.5889382\n",
      " 1.62909554 2.32695989 2.49526407 2.06158483 1.25858224 1.53483777\n",
      " 1.21828472 2.00528738 1.81570711 2.24156916 2.37238425 2.13624712\n",
      " 2.83422845 1.82714899 2.33564156 1.00127566 1.74376916 1.76436911\n",
      " 3.39302115 2.53972063 2.56006053 1.44862034 1.         2.64504416\n",
      " 1.83561187 3.13671068 2.54790285 1.98170071 2.07294012 1.82922763\n",
      " 2.35131719 1.2098736  2.36421504 2.8301821  2.15020368 1.9385039\n",
      " 1.59193353 2.10521378 1.9844559  1.98121358 1.82909405 1.22516873\n",
      " 1.         1.46457126 1.48053068 1.         1.58870791 2.52467297\n",
      " 1.         2.93534723 1.1634723  3.02068246 1.76944016 1.09541409\n",
      " 1.3768254  1.4057291  1.23771055 1.81166318 2.02920048 1.89246605\n",
      " 2.4443998  2.23531918 2.86589354 2.44946835 2.01455907 2.08377032\n",
      " 2.38262576 1.96964303 1.83876091 1.9478444  2.50611911 2.96485248\n",
      " 2.4387696  1.93971661 2.16379369 1.6755645  1.59300971 1.7732385\n",
      " 2.41474617 2.37881374 2.25231628 1.876382   1.1810961  2.29207596\n",
      " 2.88737254 2.75397212 1.14337324 2.56867474 2.74431619 2.35534468\n",
      " 2.01048438 1.73656104 1.         2.19958331 1.81441978 2.28914719\n",
      " 2.35527246 2.52381541 2.92607901 1.36897195 1.73043961 2.10648676\n",
      " 1.86378487 2.17940822 1.61117027 2.09741904 1.         2.0120386\n",
      " 2.95338016 1.6535076  1.14363865 2.32198414 2.33910448 1.71177623\n",
      " 2.71561126 2.19822514 1.49853614 2.47658983 1.7579254  1.9398238\n",
      " 1.98308246 1.97201925 1.         1.         1.         1.7048549\n",
      " 1.         1.95345566 1.55299353 1.6394442  2.77963993 2.28075725\n",
      " 2.06141584 2.12370014 3.02826349 1.88269801 1.         1.57574161\n",
      " 1.27033429 1.         2.51316307 1.21126605 2.23184025 2.27932402\n",
      " 2.13359696 2.02246025 1.9523927  1.34697325 1.26983892 1.\n",
      " 2.031041   2.96536037 2.55343462 2.51443441 2.22514033 1.90590678\n",
      " 2.31474625 1.5109176  2.14513083 2.42881764 1.41674805 2.0237753\n",
      " 1.83575709 1.02112206 2.14321133 1.79014722 1.98021458 1.88290504\n",
      " 1.9264111  1.88487517 1.6573488  3.13253061 1.39209944 1.99218299\n",
      " 2.48257162 2.6344529  2.14349036 2.6019864  1.57181452 2.15118889\n",
      " 2.05669452 1.81672709 1.47967635 1.24997722 2.47125949 1.82336506\n",
      " 1.64727695 1.         2.74388432 1.26604269 2.48944437 2.28884867\n",
      " 2.29075331 2.29955282 2.84017073 1.49918958 1.65311891 1.4678075\n",
      " 1.87431865 2.9947628  1.60317175 2.46277735 1.34979519 1.47066227\n",
      " 1.32860187 1.16088473 1.77947244 1.90362778 2.24080434 1.17719491\n",
      " 2.44113321 1.36115118 1.66844154 1.91451096 2.10815865 1.62378275\n",
      " 1.         1.85369396 2.21036264 1.28918942]\n",
      "[1.83190329 1.60522538 1.79033925 ... 1.65134662 2.6272413  2.60233434]\n"
     ]
    }
   ],
   "source": [
    "global temp_list\n",
    "temp_list = []\n",
    "def appen(_x_list,y):\n",
    "    global temp_list\n",
    "    temp_list.append(_x_list)\n",
    "    \n",
    "def appen_train(x_list):\n",
    "    global temp_list\n",
    "                \n",
    "    S= max(sum(x_list),1.0);\n",
    "    temp_list = []\n",
    "    \n",
    "    for i in range(Agent_number_n):\n",
    "        temp = []\n",
    "        for j in range(Agent_number_n):\n",
    "            if(i!=j):\n",
    "                temp.append(x_list[j])\n",
    "        appen(temp,S)\n",
    "    \n",
    "    training_data.append(temp_list)\n",
    "    training_label.append(S)\n",
    "    \n",
    "\n",
    "def read_training_data():\n",
    "    for i in range(1000):\n",
    "        appen_train(sorted(np.random.rand(Agent_number_n), reverse=True));\n",
    "\n",
    "training_data=[]\n",
    "training_label=[]\n",
    "S=1.0\n",
    "read_training_data();\n",
    "\n",
    "def appen_test(x_list):\n",
    "    global temp_list\n",
    "                \n",
    "    S= max(sum(x_list),1.0);\n",
    "    temp_list = []\n",
    "    \n",
    "    for i in range(Agent_number_n):\n",
    "        temp = []\n",
    "        for j in range(Agent_number_n):\n",
    "            if(i!=j):\n",
    "                temp.append(x_list[j])\n",
    "        appen(temp,S)\n",
    "    testing_data.append(temp_list)\n",
    "    testing_label.append(S)\n",
    "    \n",
    "\n",
    "def read_testing_data():\n",
    "#     devided=20\n",
    "#     for i1 in range(devided+1):\n",
    "#         for i2 in range(i1+1):\n",
    "#             for i3 in range(i2+1):\n",
    "#                 appen_test(i1/devided,i2/devided,i3/devided);\n",
    "    for i in range(100000):\n",
    "        appen_test(sorted(np.random.rand(Agent_number_n), reverse=True));\n",
    "                            \n",
    "\n",
    "testing_data=[]\n",
    "testing_label=[]\n",
    "S=1.0\n",
    "read_testing_data();\n",
    "\n",
    "training_data=np.array(training_data)\n",
    "training_label=np.array(training_label)\n",
    "testing_data=np.array(testing_data)\n",
    "testing_label=np.array(testing_label)\n",
    "print(training_data)\n",
    "print(testing_data)\n",
    "print(training_label)\n",
    "print(testing_label)"
   ]
  },
  {
   "cell_type": "code",
   "execution_count": 4,
   "metadata": {
    "ExecuteTime": {
     "end_time": "2021-05-27T06:22:58.472357Z",
     "start_time": "2021-05-27T06:22:58.458177Z"
    }
   },
   "outputs": [
    {
     "name": "stdout",
     "output_type": "stream",
     "text": [
      "[-1.   -0.95 -0.9  -0.85 -0.8  -0.75 -0.7  -0.65 -0.6  -0.55 -0.5  -0.45\n",
      " -0.4  -0.35 -0.3  -0.25 -0.2  -0.15 -0.1  -0.05  0.    0.05  0.1   0.15\n",
      "  0.2   0.25  0.3   0.35  0.4   0.45  0.5   0.55  0.6   0.65  0.7   0.75\n",
      "  0.8   0.85  0.9   0.95  1.  ]\n"
     ]
    }
   ],
   "source": [
    "pool = []\n",
    "for i in range(0,41):\n",
    "    pool.append(float(i-20)/20)\n",
    "pool=np.array(pool)\n",
    "print(pool)"
   ]
  },
  {
   "cell_type": "code",
   "execution_count": 5,
   "metadata": {
    "ExecuteTime": {
     "end_time": "2021-05-27T06:24:02.005638Z",
     "start_time": "2021-05-27T06:22:58.474282Z"
    }
   },
   "outputs": [],
   "source": [
    "list_= np.ones(5)\n",
    "\n",
    "def h_function(input_list):\n",
    "    #input_list = sorted(input_list)\n",
    "    h = list_[0]*max(sum(input_list),list_[1]) + list_[2] * max(input_list[0],list_[3]) + list_[4]\n",
    "    return h\n",
    "                \n",
    "def brute_force(deep):\n",
    "    if(deep >= 4):\n",
    "        x_list = []\n",
    "        y_list = []\n",
    "        z_list = []\n",
    "        result_list = []\n",
    "        training_supervised_label=[]\n",
    "        \n",
    "        for index in range(len(training_data)):\n",
    "            h_list = []\n",
    "            for i in range(Agent_number_n):\n",
    "                x_list.append(training_data[index][i][0])\n",
    "                y_list.append(training_data[index][i][1])\n",
    "                h = h_function(training_data[index][i])\n",
    "                z_list.append(float(h))\n",
    "                h_list.append(float(h))\n",
    "            training_supervised_label.append(h_list)\n",
    "            if(sum(h_list)/training_label[index]<2.9):\n",
    "                return;\n",
    "            if(sum(h_list)/training_label[index]>3.4):\n",
    "                return;\n",
    "            result_list.append(sum(h_list)/training_label[index]) \n",
    "            \n",
    "        print(list_)\n",
    "        print(max(result_list), min(result_list), max(result_list)-min(result_list))\n",
    "        return;\n",
    "    for i in range(len(pool)):\n",
    "        list_[deep] = pool[i]\n",
    "        brute_force(deep+1)\n",
    "            \n",
    "\n",
    "brute_force(0)"
   ]
  },
  {
   "cell_type": "code",
   "execution_count": 6,
   "metadata": {
    "ExecuteTime": {
     "end_time": "2021-05-27T06:24:02.052638Z",
     "start_time": "2021-05-27T06:24:02.005638Z"
    }
   },
   "outputs": [
    {
     "name": "stdout",
     "output_type": "stream",
     "text": [
      "[-1.0, -1.0, 0.92, -0.5, 0.0, 1.0]\n",
      "2.929979858955982 0.6010438312262951 2.3289360277296867\n"
     ]
    }
   ],
   "source": [
    "list_= [-1. ,  -1.  ,  0.92 ,-0.5  , 0.   , 1.  ]\n",
    "\n",
    "def h_function(input_list):\n",
    "    #input_list = sorted(input_list)\n",
    "    h = list_[0]*max(sum(input_list),list_[1]) + list_[2] * max(sum(input_list),list_[3]) + list_[4] * max(input_list[0],list_[5]) + 3/4\n",
    "    return h\n",
    "                \n",
    "x_list = []\n",
    "y_list = []\n",
    "z_list = []\n",
    "result_list = []\n",
    "training_supervised_label=[]\n",
    "\n",
    "for index in range(len(training_data)):\n",
    "    h_list = []\n",
    "    for i in range(Agent_number_n):\n",
    "        x_list.append(training_data[index][i][0])\n",
    "        y_list.append(training_data[index][i][1])\n",
    "        h = h_function(training_data[index][i])\n",
    "        z_list.append(float(h))\n",
    "        h_list.append(float(h))\n",
    "    training_supervised_label.append(h_list)\n",
    "\n",
    "    result_list.append(sum(h_list)/training_label[index]) \n",
    "\n",
    "print(list_)\n",
    "print(max(result_list), min(result_list), max(result_list)-min(result_list))"
   ]
  },
  {
   "cell_type": "code",
   "execution_count": 7,
   "metadata": {
    "ExecuteTime": {
     "end_time": "2021-05-27T06:24:02.980679Z",
     "start_time": "2021-05-27T06:24:02.055629Z"
    }
   },
   "outputs": [
    {
     "data": {
      "image/png": "[encoded data removed]",
      "text/plain": [
       "<Figure size 432x288 with 1 Axes>"
      ]
     },
     "metadata": {
      "needs_background": "light"
     },
     "output_type": "display_data"
    }
   ],
   "source": [
    "plt.hist(result_list,bins=500)\n",
    "\n",
    "plt.title(\"Means\", y=1.015, fontsize=20)\n",
    "plt.axvline(x=sum(result_list)/len(result_list), linestyle='--', linewidth=2.5, label=\"sample mean\", c='orange')\n",
    "plt.xlabel(\"samples\", labelpad=14)\n",
    "plt.ylabel(\"frequency of occurence\", labelpad=14)\n",
    "plt.legend();\n",
    "\n",
    "result_list.sort()\n",
    "\n",
    "plt.axvline(x=result_list[int(len(result_list)*0.01)], linestyle='--', linewidth=0.5, label=\"1%\", c='b')\n",
    "plt.axvline(x=result_list[int(len(result_list)*0.99)], linestyle='--', linewidth=0.5, label=\"99%\", c='r')\n",
    "\n",
    "\n",
    "plt.show()"
   ]
  },
  {
   "cell_type": "code",
   "execution_count": 8,
   "metadata": {
    "ExecuteTime": {
     "end_time": "2021-05-27T06:24:25.104836Z",
     "start_time": "2021-05-27T06:24:02.982707Z"
    }
   },
   "outputs": [
    {
     "name": "stdout",
     "output_type": "stream",
     "text": [
      "3.3749210163178307 2.999999999999999 0.3749210163178316\n"
     ]
    }
   ],
   "source": [
    "def h_3_star(a, b, t):\n",
    "    return a - min(a, t) + b - min(b, t) + max(min(a, t)+min(b, t), t*2/3) + 1/2 * max(min(a, t)+min(b, t), t) - 1/2 * max(max(min(a, t), min(b, t)), 2*t/3) - t/6\n",
    "\n",
    "\n",
    "def f_function(a, b, z):\n",
    "    if(z >= 1):\n",
    "        return (a+b)/2 + z/3\n",
    "    else:\n",
    "        return z/3 + h_3_star(a, b, 1-z)/2\n",
    "\n",
    "def h_function(input_list):\n",
    "    #input_list = sorted(input_list)\n",
    "    g_list = []\n",
    "    for j1 in range(len(input_list) ):\n",
    "        for j2 in range(len(input_list)):\n",
    "            if(j1 != j2):\n",
    "                a = input_list[j1]\n",
    "                b = input_list[j2]\n",
    "                z = sum(input_list)- a-b\n",
    "\n",
    "                g_list.append( f_function(a, b, z) * (Agent_number_n-1))\n",
    "    h = sum(g_list) * 3 /  (Agent_number_n) /  (Agent_number_n-1) /  (Agent_number_n - 2)\n",
    "    return h\n",
    "                \n",
    "                \n",
    "x_list = []\n",
    "y_list = []\n",
    "z_list = []\n",
    "result_list = []\n",
    "training_supervised_label=[]\n",
    "for index in range(len(testing_data)):\n",
    "    h_list = []\n",
    "    for i in range(Agent_number_n):\n",
    "        x_list.append(testing_data[index][i][0])\n",
    "        y_list.append(testing_data[index][i][1])\n",
    "        h = h_function(testing_data[index][i])\n",
    "        z_list.append(float(h))\n",
    "        h_list.append(float(h))\n",
    "    training_supervised_label.append(h_list)\n",
    "    result_list.append(sum(h_list)/testing_label[index]) \n",
    "    \n",
    "    \n",
    "print(max(result_list), min(result_list), max(result_list)-min(result_list))"
   ]
  },
  {
   "cell_type": "code",
   "execution_count": 9,
   "metadata": {
    "ExecuteTime": {
     "end_time": "2021-05-27T06:24:26.123287Z",
     "start_time": "2021-05-27T06:24:25.104836Z"
    }
   },
   "outputs": [
    {
     "data": {
      "image/png": "[encoded data removed]",
      "text/plain": [
       "<Figure size 432x288 with 1 Axes>"
      ]
     },
     "metadata": {
      "needs_background": "light"
     },
     "output_type": "display_data"
    }
   ],
   "source": [
    "plt.hist(result_list,bins=500)\n",
    "\n",
    "plt.title(\"Means\", y=1.015, fontsize=20)\n",
    "plt.axvline(x=sum(result_list)/len(result_list), linestyle='--', linewidth=2.5, label=\"sample mean\", c='orange')\n",
    "plt.xlabel(\"samples\", labelpad=14)\n",
    "plt.ylabel(\"frequency of occurence\", labelpad=14)\n",
    "plt.legend();\n",
    "\n",
    "result_list.sort()\n",
    "\n",
    "plt.axvline(x=result_list[int(len(result_list)*0.001)], linestyle='--', linewidth=0.5, label=\"0.1%\", c='b')\n",
    "plt.axvline(x=result_list[int(len(result_list)*0.999)], linestyle='--', linewidth=0.5, label=\"99%\", c='r')\n",
    "\n",
    "\n",
    "plt.show()"
   ]
  },
  {
   "cell_type": "code",
   "execution_count": null,
   "metadata": {},
   "outputs": [],
   "source": []
  }
 ],
 "metadata": {
  "hide_input": false,
  "kernelspec": {
   "display_name": "Python 3",
   "language": "python",
   "name": "python3"
  },
  "language_info": {
   "codemirror_mode": {
    "name": "ipython",
    "version": 3
   },
   "file_extension": ".py",
   "mimetype": "text/x-python",
   "name": "python",
   "nbconvert_exporter": "python",
   "pygments_lexer": "ipython3",
   "version": "3.8.3"
  },
  "varInspector": {
   "cols": {
    "lenName": 16,
    "lenType": 16,
    "lenVar": 40
   },
   "kernels_config": {
    "python": {
     "delete_cmd_postfix": "",
     "delete_cmd_prefix": "del ",
     "library": "var_list.py",
     "varRefreshCmd": "print(var_dic_list())"
    },
    "r": {
     "delete_cmd_postfix": ") ",
     "delete_cmd_prefix": "rm(",
     "library": "var_list.r",
     "varRefreshCmd": "cat(var_dic_list()) "
    }
   },
   "types_to_exclude": [
    "module",
    "function",
    "builtin_function_or_method",
    "instance",
    "_Feature"
   ],
   "window_display": false
  }
 },
 "nbformat": 4,
 "nbformat_minor": 4
}
