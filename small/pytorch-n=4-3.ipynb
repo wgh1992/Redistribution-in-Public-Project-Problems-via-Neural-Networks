{
 "cells": [
  {
   "cell_type": "code",
   "execution_count": 1,
   "metadata": {
    "ExecuteTime": {
     "end_time": "2021-05-25T07:07:13.247599Z",
     "start_time": "2021-05-25T07:07:11.948837Z"
    }
   },
   "outputs": [
    {
     "name": "stdout",
     "output_type": "stream",
     "text": [
      "pygame 2.0.1 (SDL 2.0.14, Python 3.8.3)\n",
      "Hello from the pygame community. https://www.pygame.org/contribute.html\n",
      "cuda:0\n"
     ]
    },
    {
     "name": "stderr",
     "output_type": "stream",
     "text": [
      "D:\\ComputerSoftwares\\Anaconda\\lib\\site-packages\\sklearn\\utils\\deprecation.py:143: FutureWarning: The sklearn.datasets.samples_generator module is  deprecated in version 0.22 and will be removed in version 0.24. The corresponding classes / functions should instead be imported from sklearn.datasets. Anything that cannot be imported from sklearn.datasets is now part of the private API.\n",
      "  warnings.warn(message, FutureWarning)\n"
     ]
    }
   ],
   "source": [
    "\n",
    "import pygame\n",
    "import random\n",
    "import os\n",
    "import time\n",
    "import numpy as np\n",
    "import math\n",
    "import torch\n",
    "import torch.nn.functional\n",
    "import matplotlib.pyplot as plt\n",
    "import torch.optim as opt\n",
    "from torch.autograd import Variable\n",
    "from sklearn.model_selection import train_test_split\n",
    "\n",
    "import scipy.stats as st\n",
    "from sklearn.datasets.samples_generator import make_blobs\n",
    "from matplotlib.colors import LogNorm \n",
    "import matplotlib.cm as cm\n",
    "import torch.nn as nn\n",
    "import numpy as np\n",
    "import matplotlib.pyplot as plt\n",
    "\n",
    "\n",
    "if torch.cuda.is_available():  \n",
    "    dev = \"cuda:0\" \n",
    "else:  \n",
    "    dev = \"cpu\"  \n",
    "\n",
    "print(dev)\n"
   ]
  },
  {
   "cell_type": "code",
   "execution_count": 2,
   "metadata": {
    "ExecuteTime": {
     "end_time": "2021-05-25T07:07:13.263066Z",
     "start_time": "2021-05-25T07:07:13.249594Z"
    }
   },
   "outputs": [],
   "source": [
    "global temp_list\n",
    "temp_list = []\n",
    "Agent_number_n=4;\n",
    "Alpha = 0.666;\n",
    "\n"
   ]
  },
  {
   "cell_type": "code",
   "execution_count": 3,
   "metadata": {
    "ExecuteTime": {
     "end_time": "2021-05-25T07:07:16.022028Z",
     "start_time": "2021-05-25T07:07:13.265062Z"
    }
   },
   "outputs": [
    {
     "name": "stdout",
     "output_type": "stream",
     "text": [
      "[[[0.45446081 0.41641995 0.2930419 ]\n",
      "  [0.48851746 0.41641995 0.2930419 ]\n",
      "  [0.48851746 0.45446081 0.2930419 ]\n",
      "  [0.48851746 0.45446081 0.41641995]]\n",
      "\n",
      " [[0.69332121 0.25512611 0.24424128]\n",
      "  [0.90225668 0.25512611 0.24424128]\n",
      "  [0.90225668 0.69332121 0.24424128]\n",
      "  [0.90225668 0.69332121 0.25512611]]\n",
      "\n",
      " [[0.71246467 0.6475857  0.22413361]\n",
      "  [0.86032341 0.6475857  0.22413361]\n",
      "  [0.86032341 0.71246467 0.22413361]\n",
      "  [0.86032341 0.71246467 0.6475857 ]]\n",
      "\n",
      " ...\n",
      "\n",
      " [[0.80905991 0.36597786 0.26046224]\n",
      "  [0.99090529 0.36597786 0.26046224]\n",
      "  [0.99090529 0.80905991 0.26046224]\n",
      "  [0.99090529 0.80905991 0.36597786]]\n",
      "\n",
      " [[0.46819876 0.30509608 0.04448042]\n",
      "  [0.76667471 0.30509608 0.04448042]\n",
      "  [0.76667471 0.46819876 0.04448042]\n",
      "  [0.76667471 0.46819876 0.30509608]]\n",
      "\n",
      " [[0.70455751 0.54581998 0.30417121]\n",
      "  [0.98423344 0.54581998 0.30417121]\n",
      "  [0.98423344 0.70455751 0.30417121]\n",
      "  [0.98423344 0.70455751 0.54581998]]]\n",
      "[[[0.71471668 0.21475561 0.16724006]\n",
      "  [0.89062077 0.21475561 0.16724006]\n",
      "  [0.89062077 0.71471668 0.16724006]\n",
      "  [0.89062077 0.71471668 0.21475561]]\n",
      "\n",
      " [[0.43858577 0.31353782 0.08569956]\n",
      "  [0.70606141 0.31353782 0.08569956]\n",
      "  [0.70606141 0.43858577 0.08569956]\n",
      "  [0.70606141 0.43858577 0.31353782]]\n",
      "\n",
      " [[0.91940487 0.52320147 0.47695086]\n",
      "  [0.92660388 0.52320147 0.47695086]\n",
      "  [0.92660388 0.91940487 0.47695086]\n",
      "  [0.92660388 0.91940487 0.52320147]]\n",
      "\n",
      " ...\n",
      "\n",
      " [[0.33330578 0.27318046 0.06496397]\n",
      "  [0.97166448 0.27318046 0.06496397]\n",
      "  [0.97166448 0.33330578 0.06496397]\n",
      "  [0.97166448 0.33330578 0.27318046]]\n",
      "\n",
      " [[0.54208111 0.48290475 0.11073177]\n",
      "  [0.60279048 0.48290475 0.11073177]\n",
      "  [0.60279048 0.54208111 0.11073177]\n",
      "  [0.60279048 0.54208111 0.48290475]]\n",
      "\n",
      " [[0.79632186 0.57312371 0.5336848 ]\n",
      "  [0.92148223 0.57312371 0.5336848 ]\n",
      "  [0.92148223 0.79632186 0.5336848 ]\n",
      "  [0.92148223 0.79632186 0.57312371]]]\n",
      "[1.65244011 2.09494528 2.44450738 ... 2.42640529 1.58444998 2.53878215]\n",
      "[1.98733312 1.54388457 2.84616108 ... 1.64311469 1.7385081  2.8246126 ]\n"
     ]
    }
   ],
   "source": [
    "def appen(_x_list,y):\n",
    "    global temp_list\n",
    "    temp_list.append(_x_list)\n",
    "    \n",
    "def appen_train(x_list):\n",
    "    global temp_list\n",
    "                \n",
    "    S= max(sum(x_list),1.0);\n",
    "    temp_list = []\n",
    "    \n",
    "    for i in range(Agent_number_n):\n",
    "        temp = []\n",
    "        for j in range(Agent_number_n):\n",
    "            if(i!=j):\n",
    "                temp.append(x_list[j])\n",
    "        appen(temp,S)\n",
    "    \n",
    "    training_data.append(temp_list)\n",
    "    training_label.append(S)\n",
    "    \n",
    "\n",
    "def read_training_data():\n",
    "    for i in range(100000):\n",
    "        appen_train(sorted(np.random.rand(Agent_number_n), reverse=True));\n",
    "\n",
    "training_data=[]\n",
    "training_label=[]\n",
    "S=1.0\n",
    "read_training_data();\n",
    "\n",
    "def appen_test(x_list):\n",
    "    global temp_list\n",
    "                \n",
    "    S= max(sum(x_list),1.0);\n",
    "    temp_list = []\n",
    "    \n",
    "    for i in range(Agent_number_n):\n",
    "        temp = []\n",
    "        for j in range(Agent_number_n):\n",
    "            if(i!=j):\n",
    "                temp.append(x_list[j])\n",
    "        appen(temp,S)\n",
    "    testing_data.append(temp_list)\n",
    "    testing_label.append(S)\n",
    "    \n",
    "\n",
    "def read_testing_data():\n",
    "#     devided=20\n",
    "#     for i1 in range(devided+1):\n",
    "#         for i2 in range(i1+1):\n",
    "#             for i3 in range(i2+1):\n",
    "#                 appen_test(i1/devided,i2/devided,i3/devided);\n",
    "    for i in range(100000):\n",
    "        appen_test(sorted(np.random.rand(Agent_number_n), reverse=True));\n",
    "                            \n",
    "\n",
    "testing_data=[]\n",
    "testing_label=[]\n",
    "S=1.0\n",
    "read_testing_data();\n",
    "\n",
    "training_data=np.array(training_data)\n",
    "training_label=np.array(training_label)\n",
    "testing_data=np.array(testing_data)\n",
    "testing_label=np.array(testing_label)\n",
    "print(training_data)\n",
    "print(testing_data)\n",
    "print(training_label)\n",
    "print(testing_label)"
   ]
  },
  {
   "cell_type": "code",
   "execution_count": 4,
   "metadata": {
    "ExecuteTime": {
     "end_time": "2021-05-25T07:07:39.623330Z",
     "start_time": "2021-05-25T07:07:16.023234Z"
    }
   },
   "outputs": [
    {
     "name": "stdout",
     "output_type": "stream",
     "text": [
      "3.3747106146088353 2.999999999999999 0.37471061460883615\n"
     ]
    }
   ],
   "source": [
    "def h_3_star(a, b, t):\n",
    "    return a - min(a, t) + b - min(b, t) + max(min(a, t)+min(b, t), 2*t/3) + 1/2 * max(min(a, t)+min(b, t), t) - 1/2 * max(max(min(a, t), min(b, t)), 2*t/3) - t/6\n",
    "\n",
    "\n",
    "def f_function(a, b, z):\n",
    "    if(z >= 1):\n",
    "        return (a+b)/2 + z/3\n",
    "    else:\n",
    "        return z/3 + h_3_star(a, b, 1-z)/2\n",
    "\n",
    "def h_function(input_list):\n",
    "    #input_list = sorted(input_list)\n",
    "    g_list = []\n",
    "    for j1 in range(len(input_list) ):\n",
    "        for j2 in range(len(input_list)):\n",
    "            if(j1 != j2):\n",
    "                a = input_list[j1]\n",
    "                b = input_list[j2]\n",
    "                z = sum(input_list)- a-b\n",
    "\n",
    "                g_list.append( f_function(a, b, z) * (Agent_number_n-1))\n",
    "    h = sum(g_list) * 3 /  (Agent_number_n) /  (Agent_number_n-1) /  (Agent_number_n - 2)\n",
    "    return h\n",
    "                \n",
    "                \n",
    "x_list = []\n",
    "y_list = []\n",
    "z_list = []\n",
    "result_list = []\n",
    "training_supervised_label=[]\n",
    "for index in range(len(training_data)):\n",
    "    h_list = []\n",
    "    for i in range(Agent_number_n):\n",
    "        x_list.append(training_data[index][i][0])\n",
    "        y_list.append(training_data[index][i][1])\n",
    "        h = h_function(training_data[index][i])\n",
    "        z_list.append(float(h))\n",
    "        h_list.append(float(h))\n",
    "    training_supervised_label.append(h_list)\n",
    "    result_list.append(sum(h_list)/training_label[index]) \n",
    "    \n",
    "    \n",
    "print(max(result_list), min(result_list), max(result_list)-min(result_list))"
   ]
  },
  {
   "cell_type": "code",
   "execution_count": 5,
   "metadata": {
    "ExecuteTime": {
     "end_time": "2021-05-25T07:07:40.645467Z",
     "start_time": "2021-05-25T07:07:39.625324Z"
    }
   },
   "outputs": [
    {
     "data": {
      "image/png": "[encoded data removed]",
      "text/plain": [
       "<Figure size 432x288 with 1 Axes>"
      ]
     },
     "metadata": {
      "needs_background": "light"
     },
     "output_type": "display_data"
    }
   ],
   "source": [
    "plt.hist(result_list,bins=500)\n",
    "\n",
    "plt.title(\"Means\", y=1.015, fontsize=20)\n",
    "plt.axvline(x=sum(result_list)/len(result_list), linestyle='--', linewidth=2.5, label=\"sample mean\", c='orange')\n",
    "plt.xlabel(\"samples\", labelpad=14)\n",
    "plt.ylabel(\"frequency of occurence\", labelpad=14)\n",
    "plt.legend();\n",
    "\n",
    "result_list.sort()\n",
    "\n",
    "plt.axvline(x=result_list[int(len(result_list)*0.01)], linestyle='--', linewidth=0.5, label=\"1%\", c='b')\n",
    "plt.axvline(x=result_list[int(len(result_list)*0.99)], linestyle='--', linewidth=0.5, label=\"99%\", c='r')\n",
    "\n",
    "\n",
    "plt.show()"
   ]
  },
  {
   "cell_type": "code",
   "execution_count": 6,
   "metadata": {
    "ExecuteTime": {
     "end_time": "2021-05-25T07:07:40.756503Z",
     "start_time": "2021-05-25T07:07:40.646464Z"
    }
   },
   "outputs": [
    {
     "name": "stdout",
     "output_type": "stream",
     "text": [
      "[[1.23397891 1.27332246 1.32087353 1.49822948]\n",
      " [1.21915826 1.41368383 1.96142771 1.97503375]\n",
      " [1.70116789 1.84243212 1.92353083 2.31782705]\n",
      " ...\n",
      " [1.49097754 1.65009225 2.177874   2.27020017]\n",
      " [0.81871011 1.0724026  1.27628094 1.63745893]\n",
      " [1.67897682 1.92369326 2.1188419  2.33028457]]\n"
     ]
    }
   ],
   "source": [
    "training_supervised_label=np.array(training_supervised_label)\n",
    "print(training_supervised_label)"
   ]
  },
  {
   "cell_type": "code",
   "execution_count": 7,
   "metadata": {
    "ExecuteTime": {
     "end_time": "2021-05-25T07:07:40.772460Z",
     "start_time": "2021-05-25T07:07:40.759496Z"
    }
   },
   "outputs": [
    {
     "name": "stdout",
     "output_type": "stream",
     "text": [
      "cuda:0\n"
     ]
    }
   ],
   "source": [
    "if torch.cuda.is_available():  \n",
    "    dev = \"cuda:0\" \n",
    "else:  \n",
    "    dev = \"cpu\"  \n",
    "\n",
    "print(dev)\n"
   ]
  },
  {
   "cell_type": "code",
   "execution_count": 8,
   "metadata": {
    "ExecuteTime": {
     "end_time": "2021-05-25T07:07:40.788419Z",
     "start_time": "2021-05-25T07:07:40.774455Z"
    },
    "run_control": {
     "marked": true
    }
   },
   "outputs": [],
   "source": [
    "def weight_init(m):\n",
    "    if isinstance(m, torch.nn.Conv2d):\n",
    "        torch.nn.init.xavier_normal_(m.weight)\n",
    "        torch.nn.init.zeros_(m.bias)\n",
    "    elif isinstance(m, torch.nn.Linear):\n",
    "        torch.nn.init.xavier_normal_(m.weight)\n",
    "        torch.nn.init.zeros_(m.bias)\n",
    "\n",
    "\n",
    "class Net(torch.nn.Module):\n",
    "    def __init__(self):\n",
    "\n",
    "        super(Net, self).__init__()\n",
    "\n",
    "        self.input_dim = (Agent_number_n-1)\n",
    "        self.hidden_dim = 200\n",
    "        self.output_dim = 1\n",
    "        self.hidden_layer_count = 5 \n",
    "        \n",
    "        current_dim = self.input_dim\n",
    "        self.layers = torch.nn.ModuleList()\n",
    "        for i in range(self.hidden_layer_count):\n",
    "            self.layers.append(torch.nn.Linear(current_dim, self.hidden_dim))\n",
    "            current_dim = self.hidden_dim\n",
    "        self.layers.append(torch.nn.Linear(current_dim, self.output_dim))\n",
    "\n",
    "    def calculate(self, value_list):\n",
    "        h = value_list\n",
    "        for layer in self.layers:\n",
    "            h = torch.relu(layer(h))\n",
    "        return h\n",
    "\n",
    "    def forward(self, input_list, input_label, label):\n",
    "        global iteration, echo, target_order\n",
    "        loss1 = 0\n",
    "        loss2 = 0\n",
    "        input_list = torch.from_numpy(\n",
    "            np.array(input_list)).cuda().type(torch.float32)\n",
    "        h_list = []\n",
    "\n",
    "        for i in range(Agent_number_n):\n",
    "            h = self.calculate(input_list[i])\n",
    "            h_list.append(h)\n",
    "        input_label = torch.from_numpy(\n",
    "            np.array(input_label)).cuda().type(torch.float32)\n",
    "        sum_h = torch.sum(torch.cat(h_list)).cuda()\n",
    "\n",
    "        loss1 = torch.where((Agent_number_n-1)*input_label > sum_h,\n",
    "                            torch.square(\n",
    "                                ((Agent_number_n-1)*input_label-sum_h)),\n",
    "                            torch.zeros(1).cuda()\n",
    "                            )\n",
    "\n",
    "        loss2 = torch.where((Agent_number_n-Alpha)*input_label < sum_h,\n",
    "                            torch.square(\n",
    "                                (sum_h-(Agent_number_n-Alpha)*input_label)),\n",
    "                            torch.zeros(1).cuda()\n",
    "                            )\n",
    "\n",
    "        return loss1, loss2, h_list"
   ]
  },
  {
   "cell_type": "code",
   "execution_count": 9,
   "metadata": {
    "ExecuteTime": {
     "end_time": "2021-05-25T07:07:42.001534Z",
     "start_time": "2021-05-25T07:07:40.789416Z"
    },
    "run_control": {
     "marked": true
    }
   },
   "outputs": [
    {
     "data": {
      "text/plain": [
       "Net(\n",
       "  (layers): ModuleList(\n",
       "    (0): Linear(in_features=3, out_features=200, bias=True)\n",
       "    (1): Linear(in_features=200, out_features=200, bias=True)\n",
       "    (2): Linear(in_features=200, out_features=200, bias=True)\n",
       "    (3): Linear(in_features=200, out_features=200, bias=True)\n",
       "    (4): Linear(in_features=200, out_features=200, bias=True)\n",
       "    (5): Linear(in_features=200, out_features=1, bias=True)\n",
       "  )\n",
       ")"
      ]
     },
     "execution_count": 9,
     "metadata": {},
     "output_type": "execute_result"
    }
   ],
   "source": [
    "random.seed(2000)\n",
    "torch.manual_seed(256)\n",
    "net  = Net()\n",
    "net.apply(weight_init)\n",
    "\n",
    "#net = torch.load(\"save/Deep_learning_4_3\")\n",
    "net.to(dev)"
   ]
  },
  {
   "cell_type": "code",
   "execution_count": 10,
   "metadata": {
    "ExecuteTime": {
     "end_time": "2021-05-25T07:07:42.017506Z",
     "start_time": "2021-05-25T07:07:42.003529Z"
    }
   },
   "outputs": [],
   "source": [
    "#optimizer = opt.RMSprop(net.parameters(), lr=0.00001)\n",
    "#optimizer = opt.SGD(net.parameters(), lr=0.00005)\n",
    "optimizer = opt.Adam(net.parameters(), lr=0.0001)\n",
    "#optimizer = opt.Adadelta(net.parameters(), lr=1.0)\n",
    "batch_size = 64\n",
    "echo = 5"
   ]
  },
  {
   "cell_type": "code",
   "execution_count": null,
   "metadata": {
    "ExecuteTime": {
     "start_time": "2021-05-25T07:07:11.909Z"
    }
   },
   "outputs": [
    {
     "name": "stdout",
     "output_type": "stream",
     "text": [
      "3024 tensor([38.8522], device='cuda:0', grad_fn=<DivBackward0>) 2486.540771484375 0.0\n",
      "4347 tensor([38.6304], device='cuda:0', grad_fn=<DivBackward0>) 2472.347412109375 0.0\n",
      "8883 tensor([42.0629], device='cuda:0', grad_fn=<DivBackward0>) 2692.02490234375 0.0\n",
      "13104 tensor([38.0420], device='cuda:0', grad_fn=<DivBackward0>) 2434.68701171875 0.0\n",
      "16128 tensor([37.3608], device='cuda:0', grad_fn=<DivBackward0>) 2391.093994140625 0.0\n",
      "25011 tensor([39.3780], device='cuda:0', grad_fn=<DivBackward0>) 2520.189697265625 0.0\n",
      "35091 tensor([40.6150], device='cuda:0', grad_fn=<DivBackward0>) 2599.361572265625 0.0\n",
      "36351 tensor([34.5600], device='cuda:0', grad_fn=<DivBackward0>) 2211.84033203125 0.0\n",
      "36666 tensor([39.6971], device='cuda:0', grad_fn=<DivBackward0>) 2540.617431640625 0.0\n",
      "56007 tensor([40.2260], device='cuda:0', grad_fn=<DivBackward0>) 2574.465087890625 0.0\n",
      "68103 tensor([33.7651], device='cuda:0', grad_fn=<DivBackward0>) 2160.963623046875 0.0\n",
      "68166 tensor([36.1349], device='cuda:0', grad_fn=<DivBackward0>) 2312.633056640625 0.0\n",
      "80010 tensor([34.7586], device='cuda:0', grad_fn=<DivBackward0>) 2224.552734375 0.0\n",
      "82026 tensor([42.4926], device='cuda:0', grad_fn=<DivBackward0>) 2719.5234375 0.0\n",
      "85680 tensor([41.4045], device='cuda:0', grad_fn=<DivBackward0>) 2649.88623046875 0.0\n",
      "85869 tensor([38.5827], device='cuda:0', grad_fn=<DivBackward0>) 2469.293212890625 0.0\n",
      "94878 tensor([37.5066], device='cuda:0', grad_fn=<DivBackward0>) 2400.420166015625 0.0\n",
      "batch iteration 0\n",
      "batch_loss: 39.64 \n",
      "\n",
      "\n",
      "4032 tensor([38.2159], device='cuda:0', grad_fn=<DivBackward0>) 2445.81787109375 0.0\n",
      "7371 tensor([39.6957], device='cuda:0', grad_fn=<DivBackward0>) 2540.52685546875 0.0\n",
      "9450 tensor([40.8752], device='cuda:0', grad_fn=<DivBackward0>) 2616.009765625 0.0\n",
      "15687 tensor([41.2821], device='cuda:0', grad_fn=<DivBackward0>) 2642.053955078125 0.0\n",
      "17451 tensor([38.0685], device='cuda:0', grad_fn=<DivBackward0>) 2436.3818359375 0.0\n",
      "23247 tensor([37.4051], device='cuda:0', grad_fn=<DivBackward0>) 2393.927490234375 0.0\n",
      "28287 tensor([41.8735], device='cuda:0', grad_fn=<DivBackward0>) 2679.902099609375 0.0\n",
      "37926 tensor([42.3934], device='cuda:0', grad_fn=<DivBackward0>) 2713.1748046875 0.0\n",
      "45045 tensor([39.9077], device='cuda:0', grad_fn=<DivBackward0>) 2554.08984375 0.0\n",
      "50715 tensor([33.0093], device='cuda:0', grad_fn=<DivBackward0>) 2112.593505859375 0.0\n",
      "61866 tensor([37.7086], device='cuda:0', grad_fn=<DivBackward0>) 2413.35302734375 0.0\n",
      "71442 tensor([40.6266], device='cuda:0', grad_fn=<DivBackward0>) 2600.100341796875 0.0\n",
      "86310 tensor([34.9087], device='cuda:0', grad_fn=<DivBackward0>) 2234.158447265625 0.0\n",
      "97713 tensor([36.1397], device='cuda:0', grad_fn=<DivBackward0>) 2312.940185546875 0.0\n",
      "batch iteration 1\n",
      "batch_loss: 39.64 \n",
      "\n",
      "\n",
      "9702 tensor([37.3352], device='cuda:0', grad_fn=<DivBackward0>) 2389.44970703125 0.0\n",
      "17640 tensor([31.4158], device='cuda:0', grad_fn=<DivBackward0>) 2010.6085205078125 0.0\n",
      "18396 tensor([39.3681], device='cuda:0', grad_fn=<DivBackward0>) 2519.56005859375 0.0\n",
      "18459 tensor([39.3637], device='cuda:0', grad_fn=<DivBackward0>) 2519.277587890625 0.0\n",
      "23373 tensor([38.3831], device='cuda:0', grad_fn=<DivBackward0>) 2456.515625 0.0\n",
      "41769 tensor([39.4958], device='cuda:0', grad_fn=<DivBackward0>) 2527.730712890625 0.0\n",
      "58086 tensor([42.4219], device='cuda:0', grad_fn=<DivBackward0>) 2715.00341796875 0.0\n",
      "60354 tensor([38.8610], device='cuda:0', grad_fn=<DivBackward0>) 2487.105712890625 0.0\n",
      "74151 tensor([41.1390], device='cuda:0', grad_fn=<DivBackward0>) 2632.8974609375 0.0\n"
     ]
    }
   ],
   "source": [
    "for iteration in range(int(echo)):\n",
    "    # offender_types = []\n",
    "    # defender_types = []\n",
    "    \n",
    "    \n",
    "    X_train_list = []\n",
    "    temp_number = 0\n",
    "    total_batch_loss = 0 \n",
    "    while(temp_number<len(training_data)-1):\n",
    "        \n",
    "        loss2_list = []\n",
    "        loss1_sum = 0\n",
    "        loss2_sum = 0\n",
    "        denominator = 0\n",
    "        for index in range(temp_number, min(batch_size+temp_number,len(training_data))):\n",
    "            h_loss1,h_loss2,h_list = net(training_data[index],training_label[index],0)\n",
    "            denominator += 1\n",
    "            loss1_sum += h_loss1\n",
    "            loss2_sum += h_loss2\n",
    "            \n",
    "        loss_sum = loss1_sum + loss2_sum\n",
    "        loss = (loss_sum) / denominator \n",
    "        total_batch_loss +=float(loss_sum)\n",
    "        optimizer.zero_grad()\n",
    "        \n",
    "        loss.backward()\n",
    "        \n",
    "        optimizer.step()\n",
    "        \n",
    "        temp_number = index\n",
    "        \n",
    "        if(random.random()<=0.01):\n",
    "            print(temp_number,loss,float(loss1_sum),float(loss2_sum))\n",
    "\n",
    "\n",
    "    print(\"batch iteration\", iteration)\n",
    "    print(\"batch_loss: %.2f \" % (total_batch_loss/len(training_data)))\n",
    "    \n",
    "    print()\n",
    "    print()"
   ]
  },
  {
   "cell_type": "code",
   "execution_count": null,
   "metadata": {
    "ExecuteTime": {
     "start_time": "2021-05-25T07:07:11.910Z"
    }
   },
   "outputs": [],
   "source": [
    "torch.save(net, \"save/Deep_learning_4_3\")"
   ]
  },
  {
   "cell_type": "code",
   "execution_count": null,
   "metadata": {
    "ExecuteTime": {
     "start_time": "2021-05-25T07:07:11.911Z"
    }
   },
   "outputs": [],
   "source": [
    "denominator = 0\n",
    "result_list = []\n",
    "for index in range(len(testing_data)):\n",
    "    h_list = []\n",
    "    for i in range(Agent_number_n):\n",
    "        h = net.calculate(torch.tensor(testing_data[index][i]).cuda().type(torch.float32))\n",
    "        h_list.append(float(h))\n",
    "    \n",
    "    #print(sum(h_list),h_list,sum(h_list)/testing_label[index])\n",
    "    result_list.append(sum(h_list)/testing_label[index])\n",
    "    \n",
    "\n",
    "print(max(result_list),min(result_list),max(result_list)-min(result_list))"
   ]
  },
  {
   "cell_type": "code",
   "execution_count": null,
   "metadata": {
    "ExecuteTime": {
     "start_time": "2021-05-25T07:07:11.912Z"
    }
   },
   "outputs": [],
   "source": [
    "plt.hist(result_list,bins=500)\n",
    "\n",
    "plt.title(\"Means\", y=1.015, fontsize=20)\n",
    "plt.axvline(x=sum(result_list)/len(result_list), linestyle='--', linewidth=2.5, label=\"sample mean\", c='orange')\n",
    "plt.xlabel(\"samples\", labelpad=14)\n",
    "plt.ylabel(\"frequency of occurence\", labelpad=14)\n",
    "plt.legend();\n",
    "\n",
    "result_list.sort()\n",
    "\n",
    "plt.axvline(x=result_list[int(len(result_list)*0.01)], linestyle='--', linewidth=0.5, label=\"1%\", c='b')\n",
    "plt.axvline(x=result_list[int(len(result_list)*0.99)], linestyle='--', linewidth=0.5, label=\"99%\", c='r')\n",
    "\n",
    "\n",
    "plt.show()"
   ]
  },
  {
   "cell_type": "code",
   "execution_count": null,
   "metadata": {},
   "outputs": [],
   "source": []
  },
  {
   "cell_type": "code",
   "execution_count": null,
   "metadata": {},
   "outputs": [],
   "source": []
  },
  {
   "cell_type": "code",
   "execution_count": null,
   "metadata": {},
   "outputs": [],
   "source": []
  }
 ],
 "metadata": {
  "hide_input": false,
  "kernelspec": {
   "display_name": "Python 3",
   "language": "python",
   "name": "python3"
  },
  "language_info": {
   "codemirror_mode": {
    "name": "ipython",
    "version": 3
   },
   "file_extension": ".py",
   "mimetype": "text/x-python",
   "name": "python",
   "nbconvert_exporter": "python",
   "pygments_lexer": "ipython3",
   "version": "3.8.3"
  },
  "varInspector": {
   "cols": {
    "lenName": 16,
    "lenType": 16,
    "lenVar": 40
   },
   "kernels_config": {
    "python": {
     "delete_cmd_postfix": "",
     "delete_cmd_prefix": "del ",
     "library": "var_list.py",
     "varRefreshCmd": "print(var_dic_list())"
    },
    "r": {
     "delete_cmd_postfix": ") ",
     "delete_cmd_prefix": "rm(",
     "library": "var_list.r",
     "varRefreshCmd": "cat(var_dic_list()) "
    }
   },
   "types_to_exclude": [
    "module",
    "function",
    "builtin_function_or_method",
    "instance",
    "_Feature"
   ],
   "window_display": false
  }
 },
 "nbformat": 4,
 "nbformat_minor": 4
}
