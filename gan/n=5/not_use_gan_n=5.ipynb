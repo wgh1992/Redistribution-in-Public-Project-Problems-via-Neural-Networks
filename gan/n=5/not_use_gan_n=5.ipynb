{
 "cells": [
  {
   "cell_type": "code",
   "execution_count": 1,
   "metadata": {
    "ExecuteTime": {
     "end_time": "2021-06-14T11:54:04.977465Z",
     "start_time": "2021-06-14T11:54:02.924198Z"
    }
   },
   "outputs": [
    {
     "name": "stdout",
     "output_type": "stream",
     "text": [
      "pygame 2.0.1 (SDL 2.0.14, Python 3.8.3)\n",
      "Hello from the pygame community. https://www.pygame.org/contribute.html\n"
     ]
    },
    {
     "name": "stderr",
     "output_type": "stream",
     "text": [
      "D:\\ComputerSoftwares\\Anaconda\\lib\\site-packages\\sklearn\\utils\\deprecation.py:143: FutureWarning: The sklearn.datasets.samples_generator module is  deprecated in version 0.22 and will be removed in version 0.24. The corresponding classes / functions should instead be imported from sklearn.datasets. Anything that cannot be imported from sklearn.datasets is now part of the private API.\n",
      "  warnings.warn(message, FutureWarning)\n"
     ]
    },
    {
     "name": "stdout",
     "output_type": "stream",
     "text": [
      "cuda:0\n"
     ]
    }
   ],
   "source": [
    "\n",
    "import pygame\n",
    "import random\n",
    "import os\n",
    "import time\n",
    "import numpy as np\n",
    "import math\n",
    "import torch\n",
    "import torch.nn.functional\n",
    "import matplotlib.pyplot as plt\n",
    "import torch.optim as opt\n",
    "from torch.autograd import Variable\n",
    "from sklearn.model_selection import train_test_split\n",
    "\n",
    "import scipy.stats as st\n",
    "from sklearn.datasets.samples_generator import make_blobs\n",
    "from matplotlib.colors import LogNorm \n",
    "import matplotlib.cm as cm\n",
    "import torch.nn as nn\n",
    "import numpy as np\n",
    "import matplotlib.pyplot as plt\n",
    "import plotly.graph_objects as go\n",
    "import plotly.express as px\n",
    "from scipy.interpolate import griddata\n",
    "if torch.cuda.is_available():  \n",
    "    dev = \"cuda:0\" \n",
    "else:  \n",
    "    dev = \"cpu\"  \n",
    "\n",
    "print(dev)\n",
    "\n"
   ]
  },
  {
   "cell_type": "code",
   "execution_count": 2,
   "metadata": {
    "ExecuteTime": {
     "end_time": "2021-06-14T11:54:04.992836Z",
     "start_time": "2021-06-14T11:54:04.978462Z"
    }
   },
   "outputs": [],
   "source": [
    "#print(torch.exp(torch.tensor([0.1,10])))"
   ]
  },
  {
   "cell_type": "code",
   "execution_count": 3,
   "metadata": {
    "ExecuteTime": {
     "end_time": "2021-06-14T11:54:05.008240Z",
     "start_time": "2021-06-14T11:54:04.993832Z"
    }
   },
   "outputs": [],
   "source": [
    "global temp_list\n",
    "temp_list = []\n",
    "Agent_number_n=5;\n",
    "Alpha = 0.71\n",
    "\n",
    "# Hyper Parameters\n",
    "echo = 1001\n",
    "BATCH_SIZE = 64\n",
    "LR_G = 0.001           # learning rate for generator\n",
    "LR_D = 0.001           # learning rate for discriminator\n",
    "N_IDEAS = Agent_number_n             # think of this as number of ideas for generating an art work (Generator)\n",
    "ART_COMPONENTS = Agent_number_n     # it could be total point G can draw in the canvas\n",
    "\n",
    "Is_GAN = False # if use Gan\n",
    "\n",
    "def Generate_distribution(Agent_number_n):\n",
    "    return sorted(np.random.rand(Agent_number_n), reverse=True)\n",
    "    #return np.random.normal(normalloc,normalscale,Agent_number_n)"
   ]
  },
  {
   "cell_type": "code",
   "execution_count": 4,
   "metadata": {
    "ExecuteTime": {
     "end_time": "2021-06-14T11:54:05.291484Z",
     "start_time": "2021-06-14T11:54:05.009239Z"
    }
   },
   "outputs": [
    {
     "name": "stdout",
     "output_type": "stream",
     "text": [
      "[[[0.58567798 0.40108889 0.0982954  0.00715421]\n",
      "  [0.80772376 0.40108889 0.0982954  0.00715421]\n",
      "  [0.80772376 0.58567798 0.0982954  0.00715421]\n",
      "  [0.80772376 0.58567798 0.40108889 0.00715421]\n",
      "  [0.80772376 0.58567798 0.40108889 0.0982954 ]]\n",
      "\n",
      " [[0.82562432 0.66531644 0.54383857 0.34893678]\n",
      "  [0.93777894 0.66531644 0.54383857 0.34893678]\n",
      "  [0.93777894 0.82562432 0.54383857 0.34893678]\n",
      "  [0.93777894 0.82562432 0.66531644 0.34893678]\n",
      "  [0.93777894 0.82562432 0.66531644 0.54383857]]\n",
      "\n",
      " [[0.96167658 0.95511756 0.80231548 0.33642432]\n",
      "  [0.99665829 0.95511756 0.80231548 0.33642432]\n",
      "  [0.99665829 0.96167658 0.80231548 0.33642432]\n",
      "  [0.99665829 0.96167658 0.95511756 0.33642432]\n",
      "  [0.99665829 0.96167658 0.95511756 0.80231548]]\n",
      "\n",
      " ...\n",
      "\n",
      " [[0.72573695 0.71143077 0.42349963 0.40443206]\n",
      "  [0.91047755 0.71143077 0.42349963 0.40443206]\n",
      "  [0.91047755 0.72573695 0.42349963 0.40443206]\n",
      "  [0.91047755 0.72573695 0.71143077 0.40443206]\n",
      "  [0.91047755 0.72573695 0.71143077 0.42349963]]\n",
      "\n",
      " [[0.87026829 0.84855166 0.28385075 0.27210502]\n",
      "  [0.90293103 0.84855166 0.28385075 0.27210502]\n",
      "  [0.90293103 0.87026829 0.28385075 0.27210502]\n",
      "  [0.90293103 0.87026829 0.84855166 0.27210502]\n",
      "  [0.90293103 0.87026829 0.84855166 0.28385075]]\n",
      "\n",
      " [[0.90123822 0.71411727 0.61973047 0.59010787]\n",
      "  [0.96607866 0.71411727 0.61973047 0.59010787]\n",
      "  [0.96607866 0.90123822 0.61973047 0.59010787]\n",
      "  [0.96607866 0.90123822 0.71411727 0.59010787]\n",
      "  [0.96607866 0.90123822 0.71411727 0.61973047]]]\n",
      "[1.89994023 3.32149506 4.05219223 ... 3.17557696 3.17770676 3.7912725 ]\n"
     ]
    }
   ],
   "source": [
    "def h_3_star(a, b, t):\n",
    "    return a - min(a, t) + b - min(b, t) + max(min(a, t)+min(b, t), 2*t/3) + 1/2 * max(min(a, t)+min(b, t), t) - 1/2 * max(max(min(a, t), min(b, t)), 2*t/3) - t/6\n",
    "\n",
    "\n",
    "def f_function(a, b, z):\n",
    "    if(z >= 1):\n",
    "        return (a+b)/2 + z/3\n",
    "    else:\n",
    "        return z/3 + h_3_star(a, b, 1-z)/2\n",
    "\n",
    "def h_function_label(input_list):\n",
    "    #input_list = sorted(input_list)\n",
    "    g_list = []\n",
    "    for j1 in range(len(input_list) ):\n",
    "        for j2 in range(len(input_list)):\n",
    "            if(j1 != j2):\n",
    "                a = input_list[j1]\n",
    "                b = input_list[j2]\n",
    "                z = sum(input_list)- a-b\n",
    "\n",
    "                g_list.append( f_function(a, b, z) * (Agent_number_n-1))\n",
    "    h = sum(g_list) * 3 /  (Agent_number_n) /  (Agent_number_n-1) /  (Agent_number_n - 2)\n",
    "    return h\n",
    "\n",
    "def appen(_x_list,y):\n",
    "    global temp_list\n",
    "    temp_list.append(_x_list)\n",
    "    \n",
    "def appen_train(x_list):\n",
    "    global temp_list\n",
    "                \n",
    "    S= max(sum(x_list),1.0);\n",
    "    temp_list = []\n",
    "    h_list = []\n",
    "    for i in range(Agent_number_n):\n",
    "        temp = []\n",
    "        for j in range(Agent_number_n):\n",
    "            if(i!=j):\n",
    "                temp.append(x_list[j])\n",
    "        appen(temp,S)\n",
    "        \n",
    "        h = h_function_label(temp)\n",
    "        h_list.append(float(h))\n",
    "    temp_list = np.array(temp_list)\n",
    "    x_list = np.array(x_list)\n",
    "    return temp_list,S,x_list,h_list\n",
    "    \n",
    "\n",
    "def appen_test(x_list):\n",
    "    global temp_list\n",
    "                \n",
    "    S= max(sum(x_list),1.0);\n",
    "    temp_list = []\n",
    "    \n",
    "    for i in range(Agent_number_n):\n",
    "        temp = []\n",
    "        for j in range(Agent_number_n):\n",
    "            if(i!=j):\n",
    "                temp.append(x_list[j])\n",
    "        appen(temp,S)\n",
    "    testing_data.append(temp_list)\n",
    "    testing_label.append(S)\n",
    "    temp_list = np.array(temp_list)\n",
    "    return temp_list,S\n",
    "    \n",
    "\n",
    "def read_testing_data():\n",
    "    for i in range(10000):\n",
    "        appen_test(Generate_distribution(Agent_number_n));\n",
    "                            \n",
    "\n",
    "testing_data=[]\n",
    "testing_label=[]\n",
    "S=1.0\n",
    "read_testing_data();\n",
    "\n",
    "testing_data=np.array(testing_data)\n",
    "testing_label=np.array(testing_label)\n",
    "print(testing_data)\n",
    "print(testing_label)"
   ]
  },
  {
   "cell_type": "code",
   "execution_count": 5,
   "metadata": {
    "ExecuteTime": {
     "end_time": "2021-06-14T11:54:09.445102Z",
     "start_time": "2021-06-14T11:54:05.292482Z"
    }
   },
   "outputs": [
    {
     "name": "stdout",
     "output_type": "stream",
     "text": [
      "4.378463831663624 3.9999999999999987 0.3784638316636255 4.068613332694438\n"
     ]
    }
   ],
   "source": [
    "def h_3_star(a, b, t):\n",
    "    return a - min(a, t) + b - min(b, t) + max(min(a, t)+min(b, t), 2*t/3) + 1/2 * max(min(a, t)+min(b, t), t) - 1/2 * max(max(min(a, t), min(b, t)), 2*t/3) - t/6\n",
    "\n",
    "\n",
    "def f_function(a, b, z):\n",
    "    if(z >= 1):\n",
    "        return (a+b)/2 + z/3\n",
    "    else:\n",
    "        return z/3 + h_3_star(a, b, 1-z)/2\n",
    "\n",
    "def h_function(input_list):\n",
    "    #input_list = sorted(input_list)\n",
    "    g_list = []\n",
    "    for j1 in range(len(input_list) ):\n",
    "        for j2 in range(len(input_list)):\n",
    "            if(j1 != j2):\n",
    "                a = input_list[j1]\n",
    "                b = input_list[j2]\n",
    "                z = sum(input_list)- a-b\n",
    "\n",
    "                g_list.append( f_function(a, b, z) * (Agent_number_n-1))\n",
    "    h = sum(g_list) * 3 /  (Agent_number_n) /  (Agent_number_n-1) /  (Agent_number_n - 2)\n",
    "    return h\n",
    "                \n",
    "                \n",
    "x_list = []\n",
    "y_list = []\n",
    "z_list = []\n",
    "result_list = []\n",
    "for index in range(len(testing_data)):\n",
    "    h_list = []\n",
    "    for i in range(Agent_number_n):\n",
    "        x_list.append(testing_data[index][i][0])\n",
    "        y_list.append(testing_data[index][i][1])\n",
    "        h = h_function(testing_data[index][i])\n",
    "        z_list.append(float(h))\n",
    "        h_list.append(float(h))\n",
    "    result_list.append(sum(h_list)/testing_label[index]) \n",
    "    \n",
    "    \n",
    "print(max(result_list), min(result_list), max(result_list)-min(result_list),sum(result_list)/len(result_list))"
   ]
  },
  {
   "cell_type": "code",
   "execution_count": 6,
   "metadata": {
    "ExecuteTime": {
     "end_time": "2021-06-14T11:54:10.343536Z",
     "start_time": "2021-06-14T11:54:09.446101Z"
    }
   },
   "outputs": [
    {
     "data": {
      "image/png": "[encoded data removed]",
      "text/plain": [
       "<Figure size 432x288 with 1 Axes>"
      ]
     },
     "metadata": {
      "needs_background": "light"
     },
     "output_type": "display_data"
    }
   ],
   "source": [
    "plt.hist(result_list,bins=500)\n",
    "\n",
    "plt.title(\"Means\", y=1.015, fontsize=20)\n",
    "plt.axvline(x=sum(result_list)/len(result_list), linestyle='--', linewidth=2.5, label=\"sample mean\", c='orange')\n",
    "plt.xlabel(\"samples\", labelpad=14)\n",
    "plt.ylabel(\"frequency of occurence\", labelpad=14)\n",
    "plt.legend();\n",
    "\n",
    "result_list.sort()\n",
    "\n",
    "plt.axvline(x=result_list[int(len(result_list)*0.01)], linestyle='--', linewidth=0.5, label=\"1%\", c='b')\n",
    "plt.axvline(x=result_list[int(len(result_list)*0.99)], linestyle='--', linewidth=0.5, label=\"99%\", c='r')\n",
    "\n",
    "\n",
    "plt.show()"
   ]
  },
  {
   "cell_type": "code",
   "execution_count": 7,
   "metadata": {
    "ExecuteTime": {
     "end_time": "2021-06-14T11:54:10.359600Z",
     "start_time": "2021-06-14T11:54:10.346337Z"
    }
   },
   "outputs": [],
   "source": [
    "def weight_init(m):\n",
    "    if isinstance(m, torch.nn.Conv2d):\n",
    "        torch.nn.init.xavier_normal_(m.weight)\n",
    "        torch.nn.init.zeros_(m.bias)\n",
    "    elif isinstance(m, torch.nn.Linear):\n",
    "        torch.nn.init.xavier_normal_(m.weight)\n",
    "        torch.nn.init.zeros_(m.bias)\n",
    "\n",
    "class Net(torch.nn.Module):\n",
    "    def __init__(self):\n",
    "\n",
    "        super(Net, self).__init__()\n",
    "        \n",
    "        self.input_dim = (Agent_number_n-1)\n",
    "        self.hidden_dim = 128\n",
    "        self.output_dim = 1\n",
    "        self.hidden_layer_count = 6 \n",
    "        \n",
    "        current_dim = self.input_dim\n",
    "        self.layers = torch.nn.ModuleList()\n",
    "        for i in range(self.hidden_layer_count):\n",
    "            self.layers.append(torch.nn.Linear(current_dim, self.hidden_dim))\n",
    "            current_dim = self.hidden_dim\n",
    "        self.layers.append(torch.nn.Linear(current_dim, self.output_dim))\n",
    "\n",
    "    def calculate(self, value_list):\n",
    "        h = value_list\n",
    "        LeakyReLU = torch.nn.LeakyReLU()\n",
    "        for layer in self.layers:\n",
    "            h = torch.relu(layer(h))\n",
    "        return h\n",
    "\n",
    "    def forward(self, input_list,input_label,list_x):\n",
    "        global iteration,echo,target_order\n",
    "        loss1 = 0\n",
    "        loss2 = 0\n",
    "        loss3 = 0\n",
    "        input_list = torch.from_numpy(\n",
    "            np.array(input_list)).to(dev).type(torch.float32)\n",
    "        h_list = []\n",
    "\n",
    "        for i in range(Agent_number_n):\n",
    "            h = self.calculate(input_list[i])\n",
    "            h_list.append(h)\n",
    "#             loss3 += torch.square(h_function_2(input_list)-h2[1])\n",
    "            \n",
    "        input_label = torch.from_numpy(\n",
    "            np.array(input_label)).to(dev).type(torch.float32)\n",
    "        sum_h = torch.sum(torch.cat(h_list)).to(dev)\n",
    "\n",
    "\n",
    "        loss1 = torch.where((Agent_number_n-1)*input_label>sum_h,\n",
    "                        torch.square(((Agent_number_n-1)*input_label-sum_h)),\n",
    "                        torch.zeros(1).to(dev)\n",
    "                      )\n",
    "\n",
    "        loss2 = torch.where((Agent_number_n-Alpha)*input_label<sum_h,\n",
    "                        torch.square((sum_h-(Agent_number_n-Alpha)*input_label))/10000,\n",
    "                        torch.zeros(1).to(dev)\n",
    "                      )\n",
    "\n",
    "\n",
    "        return loss1,loss2\n",
    "    \n",
    "    def supervised_loss(self, input_list,label):\n",
    "        global iteration,echo,target_order\n",
    "        input_list = torch.from_numpy(\n",
    "            np.array(input_list)).to(dev).type(torch.float32)\n",
    "        loss = 0 \n",
    "        for i in range(Agent_number_n):\n",
    "            h = self.calculate(input_list[i])\n",
    "            loss += torch.square(h - label[i])\n",
    "        return loss"
   ]
  },
  {
   "cell_type": "code",
   "execution_count": 8,
   "metadata": {
    "ExecuteTime": {
     "end_time": "2021-06-14T11:54:10.375048Z",
     "start_time": "2021-06-14T11:54:10.361262Z"
    }
   },
   "outputs": [],
   "source": [
    "def redistribution_value_function(input_tensor):\n",
    "    S = torch.max(torch.sum(input_tensor), torch.ones(1).to(dev))\n",
    "    temp_list = []\n",
    "\n",
    "\n",
    "    for i in range(Agent_number_n):\n",
    "        temp = []\n",
    "        \n",
    "        for j in range(Agent_number_n):\n",
    "            if(i != j):\n",
    "                temp .append(input_tensor[j])\n",
    "                \n",
    "        temp = torch.stack(temp)\n",
    "        temp_list.append(temp)\n",
    "    return torch.stack(temp_list), S\n",
    "\n",
    "GeneratorNet = nn.Sequential(                      # Generator\n",
    "    # random ideas (could from normal distribution)\n",
    "    nn.Linear(N_IDEAS, 64),\n",
    "    nn.ReLU(),\n",
    "    nn.Linear(64, 64),\n",
    "    nn.ReLU(),\n",
    "    nn.Linear(64, 64),\n",
    "    nn.ReLU(),\n",
    "    # making a painting from these random ideas\n",
    "    nn.Linear(64, ART_COMPONENTS),\n",
    "    nn.Sigmoid(),\n",
    ")"
   ]
  },
  {
   "cell_type": "code",
   "execution_count": 9,
   "metadata": {
    "ExecuteTime": {
     "end_time": "2021-06-14T11:54:12.069303Z",
     "start_time": "2021-06-14T11:54:10.375813Z"
    },
    "run_control": {
     "marked": false
    }
   },
   "outputs": [],
   "source": [
    "random.seed(2000)\n",
    "torch.manual_seed(256)\n",
    "DiscriminatorNet  = Net()\n",
    "DiscriminatorNet.apply(weight_init)\n",
    "GeneratorNet.apply(weight_init)\n",
    "# DiscriminatorNet = torch.load(\"save/Deep_learning_D_4_ungan\")\n",
    "# if(Is_GAN):\n",
    "#     GeneratorNet = torch.load(\"save/Deep_learning_G_4)\n",
    "DiscriminatorNet.to(dev)\n",
    "GeneratorNet.to(dev)\n",
    "\n",
    "opt_D = torch.optim.Adam(DiscriminatorNet.parameters(), lr=LR_D)\n",
    "opt_G = torch.optim.Adam(GeneratorNet.parameters(), lr=LR_G)\n",
    "\n",
    "\n",
    "scheduler_D = torch.optim.lr_scheduler.StepLR(opt_D, step_size=100, gamma=0.99)\n",
    "scheduler_G = torch.optim.lr_scheduler.StepLR(opt_G, step_size=100, gamma=0.99)\n",
    "\n",
    "index_train_list = []\n",
    "index_test_list = []\n",
    "train_losses = []\n",
    "test_losses = []"
   ]
  },
  {
   "cell_type": "code",
   "execution_count": 10,
   "metadata": {
    "ExecuteTime": {
     "end_time": "2021-06-14T12:35:08.716652Z",
     "start_time": "2021-06-14T11:54:12.073299Z"
    }
   },
   "outputs": [
    {
     "name": "stdout",
     "output_type": "stream",
     "text": [
      "0 tensor(21.0260, device='cuda:0', grad_fn=<DivBackward0>) 1345.6640625\n",
      "100 tensor(0.0129, device='cuda:0', grad_fn=<DivBackward0>) 0.8280437588691711\n",
      "200 tensor(0.0010, device='cuda:0', grad_fn=<DivBackward0>) 0.06675449758768082\n",
      "300 tensor(0.0006, device='cuda:0', grad_fn=<DivBackward0>) 0.03801896050572395\n",
      "400 tensor(0.0003, device='cuda:0', grad_fn=<DivBackward0>) 0.02051660791039467\n",
      "500 tensor(0.0003, device='cuda:0', grad_fn=<DivBackward0>) 0.021729618310928345\n",
      "600 tensor(0.0003, device='cuda:0', grad_fn=<DivBackward0>) 0.01874208077788353\n",
      "700 tensor(0.0002, device='cuda:0', grad_fn=<DivBackward0>) 0.015157879330217838\n",
      "800 tensor(0.0003, device='cuda:0', grad_fn=<DivBackward0>) 0.020301446318626404\n",
      "900 tensor(0.0003, device='cuda:0', grad_fn=<DivBackward0>) 0.02017025277018547\n",
      "1000 tensor(0.0003, device='cuda:0', grad_fn=<DivBackward0>) 0.017937559634447098\n",
      "1100 tensor(0.0002, device='cuda:0', grad_fn=<DivBackward0>) 0.012214936316013336\n",
      "1200 tensor(0.0001, device='cuda:0', grad_fn=<DivBackward0>) 0.008956420235335827\n",
      "1300 tensor(0.0002, device='cuda:0', grad_fn=<DivBackward0>) 0.013156335800886154\n",
      "1400 tensor(0.0001, device='cuda:0', grad_fn=<DivBackward0>) 0.006435502786189318\n",
      "1500 tensor(0.0001, device='cuda:0', grad_fn=<DivBackward0>) 0.008655224926769733\n",
      "1600 tensor(0.0001, device='cuda:0', grad_fn=<DivBackward0>) 0.006529309321194887\n",
      "1700 tensor(0.0001, device='cuda:0', grad_fn=<DivBackward0>) 0.008952825330197811\n",
      "1800 tensor(0.0001, device='cuda:0', grad_fn=<DivBackward0>) 0.00699513778090477\n",
      "1900 tensor(8.4541e-05, device='cuda:0', grad_fn=<DivBackward0>) 0.005410636309534311\n",
      "2000 tensor(6.0428e-05, device='cuda:0', grad_fn=<DivBackward0>) 0.0038673689123243093\n",
      "2100 tensor(5.5274e-05, device='cuda:0', grad_fn=<DivBackward0>) 0.003537520533427596\n",
      "2200 tensor(6.0119e-05, device='cuda:0', grad_fn=<DivBackward0>) 0.0038475876208394766\n",
      "2300 tensor(5.0712e-05, device='cuda:0', grad_fn=<DivBackward0>) 0.0032455495093017817\n",
      "2400 tensor(5.0060e-05, device='cuda:0', grad_fn=<DivBackward0>) 0.003203831147402525\n",
      "2500 tensor(4.0695e-05, device='cuda:0', grad_fn=<DivBackward0>) 0.002604509238153696\n",
      "2600 tensor(4.3189e-05, device='cuda:0', grad_fn=<DivBackward0>) 0.002764075295999646\n",
      "2700 tensor(3.3104e-05, device='cuda:0', grad_fn=<DivBackward0>) 0.0021186661906540394\n",
      "2800 tensor(4.9056e-05, device='cuda:0', grad_fn=<DivBackward0>) 0.0031395661644637585\n",
      "2900 tensor(5.7995e-05, device='cuda:0', grad_fn=<DivBackward0>) 0.003711709985509515\n",
      "3000 tensor(4.2225e-05, device='cuda:0', grad_fn=<DivBackward0>) 0.0027024203445762396\n",
      "3100 tensor(3.2634e-05, device='cuda:0', grad_fn=<DivBackward0>) 0.0020885951817035675\n",
      "3200 tensor(4.4570e-05, device='cuda:0', grad_fn=<DivBackward0>) 0.00285246386192739\n",
      "3300 tensor(2.5648e-05, device='cuda:0', grad_fn=<DivBackward0>) 0.0016415002755820751\n",
      "3400 tensor(4.0275e-05, device='cuda:0', grad_fn=<DivBackward0>) 0.0025776117108762264\n",
      "3500 tensor(2.5202e-05, device='cuda:0', grad_fn=<DivBackward0>) 0.0016129222931340337\n",
      "3600 tensor(2.3311e-05, device='cuda:0', grad_fn=<DivBackward0>) 0.0014919303357601166\n",
      "3700 tensor(3.9922e-05, device='cuda:0', grad_fn=<DivBackward0>) 0.002554998267441988\n",
      "3800 tensor(5.2450e-05, device='cuda:0', grad_fn=<DivBackward0>) 0.0033567973878234625\n",
      "3900 tensor(0.0001, device='cuda:0', grad_fn=<DivBackward0>) 0.009148952551186085\n",
      "4000 tensor(2.1267e-05, device='cuda:0', grad_fn=<DivBackward0>) 0.0013610945316031575\n"
     ]
    }
   ],
   "source": [
    "#supervised\n",
    "index_supervisedtrain_list = []\n",
    "supervisedtrain_losses = []\n",
    "for iteration in range(int(echo)*4):\n",
    "\n",
    "    temp_number = 0\n",
    "    total_batch_loss = 0 \n",
    "    \n",
    "    loss_sum = 0\n",
    "    denominator = 0\n",
    "    for index in range(0, BATCH_SIZE):\n",
    "        training_data_i, training_S, training_data,label = appen_train(\n",
    "            Generate_distribution(Agent_number_n))\n",
    "        h_loss = DiscriminatorNet.supervised_loss(training_data_i, label)\n",
    "        denominator += 1\n",
    "        loss_sum += h_loss\n",
    "\n",
    "    loss_sum = torch.sum(loss_sum)\n",
    "    loss = (loss_sum) / denominator \n",
    "    total_batch_loss += float(loss_sum)\n",
    "\n",
    "    opt_D.zero_grad()\n",
    "    loss.backward()\n",
    "    opt_D.step()\n",
    "\n",
    "    if (iteration%100 == 0):\n",
    "        print(iteration,loss,total_batch_loss)\n",
    "        index_supervisedtrain_list.append(iteration)\n",
    "        supervisedtrain_losses.append(total_batch_loss)\n",
    "    scheduler_D.step()"
   ]
  },
  {
   "cell_type": "code",
   "execution_count": 11,
   "metadata": {
    "ExecuteTime": {
     "end_time": "2021-06-14T12:35:08.887196Z",
     "start_time": "2021-06-14T12:35:08.718647Z"
    }
   },
   "outputs": [
    {
     "data": {
      "image/png": "[encoded data removed]",
      "text/plain": [
       "<Figure size 432x288 with 1 Axes>"
      ]
     },
     "metadata": {
      "needs_background": "light"
     },
     "output_type": "display_data"
    }
   ],
   "source": [
    "plt.ylim(0, 0.1)\n",
    "plt.plot(index_supervisedtrain_list ,supervisedtrain_losses)\n",
    "plt.ylabel('supervised train loss')\n",
    "\n",
    "plt.show()"
   ]
  },
  {
   "cell_type": "code",
   "execution_count": 12,
   "metadata": {
    "ExecuteTime": {
     "end_time": "2021-06-14T12:57:02.842731Z",
     "start_time": "2021-06-14T12:35:08.889192Z"
    },
    "run_control": {
     "marked": true
    }
   },
   "outputs": [
    {
     "name": "stdout",
     "output_type": "stream",
     "text": [
      "0 tensor(7.1050e-06, device='cuda:0', grad_fn=<DivBackward0>) 0.0004547197022475302 0.0\n",
      "4.389835000038147 3.993122696876526 0.3967123031616211 0.0817913051187702\n",
      "\n",
      "\n"
     ]
    },
    {
     "name": "stderr",
     "output_type": "stream",
     "text": [
      "D:\\ComputerSoftwares\\Anaconda\\lib\\site-packages\\torch\\optim\\lr_scheduler.py:118: UserWarning: Detected call of `lr_scheduler.step()` before `optimizer.step()`. In PyTorch 1.1.0 and later, you should call them in the opposite order: `optimizer.step()` before `lr_scheduler.step()`.  Failure to do this will result in PyTorch skipping the first value of the learning rate schedule. See more details at https://pytorch.org/docs/stable/optim.html#how-to-adjust-learning-rate\n",
      "  warnings.warn(\"Detected call of `lr_scheduler.step()` before `optimizer.step()`. \"\n"
     ]
    },
    {
     "name": "stdout",
     "output_type": "stream",
     "text": [
      "100 tensor(0., device='cuda:0', grad_fn=<DivBackward0>) 0.0 0.0\n",
      "4.396534621715546 3.9906950839911417 0.40583953772440395 0.09612057150899389\n",
      "\n",
      "\n",
      "200 tensor(0., device='cuda:0', grad_fn=<DivBackward0>) 0.0 0.0\n",
      "4.433821439743042 4.022182665154724 0.4116387745883179 0.06657551760958302\n",
      "\n",
      "\n",
      "300 tensor(0., device='cuda:0', grad_fn=<DivBackward0>) 0.0 0.0\n",
      "4.43278968334198 4.021924336241062 0.41086534710091804 0.0667780378941858\n",
      "\n",
      "\n",
      "400 tensor(3.8935e-09, device='cuda:0', grad_fn=<DivBackward0>) 0.0 2.4918239205362624e-07\n",
      "4.43142968416214 4.0215777121657075 0.4098519719964324 0.06705131680504195\n",
      "\n",
      "\n",
      "500 tensor(0., device='cuda:0', grad_fn=<DivBackward0>) 0.0 0.0\n",
      "4.430016100406647 4.0212083922662325 0.4088077081404142 0.06734306061082229\n",
      "\n",
      "\n",
      "600 tensor(1.4749e-08, device='cuda:0', grad_fn=<DivBackward0>) 0.0 9.43948293752328e-07\n",
      "4.428848206996918 4.020887792735871 0.4079604142610469 0.06759979630077151\n",
      "\n",
      "\n",
      "700 tensor(1.2588e-09, device='cuda:0', grad_fn=<DivBackward0>) 0.0 8.056091616026606e-08\n",
      "4.427239716053009 4.020481150814508 0.4067585652385013 0.06791714567308382\n",
      "\n",
      "\n",
      "800 tensor(8.1299e-09, device='cuda:0', grad_fn=<DivBackward0>) 0.0 5.203166324463382e-07\n",
      "4.426039099693298 4.020164283486334 0.4058748162069641 0.06816362131531317\n",
      "\n",
      "\n",
      "900 tensor(0., device='cuda:0', grad_fn=<DivBackward0>) 0.0 0.0\n",
      "4.424518942832947 4.019768098455788 0.40475084437715836 0.06847300091197983\n",
      "\n",
      "\n",
      "1000 tensor(0., device='cuda:0', grad_fn=<DivBackward0>) 0.0 0.0\n",
      "4.4230440855026245 4.019387043974657 0.40365704152796766 0.06876967775209764\n",
      "\n",
      "\n"
     ]
    }
   ],
   "source": [
    "#unsupervised\n",
    "train_losses = []\n",
    "for iteration in range(int(echo)):\n",
    "\n",
    "    temp_number = 0\n",
    "    total_batch_loss = 0 \n",
    "        \n",
    "    loss2_list = []\n",
    "    loss1_sum = 0\n",
    "    loss2_sum = 0\n",
    "    denominator = 0\n",
    "    for index in range(0, BATCH_SIZE):\n",
    "        training_data_i, training_label, training_data, label = appen_train(\n",
    "            Generate_distribution(Agent_number_n))\n",
    "        h_loss1, h_loss2 = DiscriminatorNet(training_data_i, training_label,\n",
    "                                       training_data)\n",
    "        denominator += 1\n",
    "        loss1_sum += h_loss1\n",
    "        loss2_sum += h_loss2\n",
    "\n",
    "    loss_sum = torch.sum(loss1_sum + loss2_sum)\n",
    "    loss = (loss_sum) / denominator \n",
    "    total_batch_loss +=float(loss_sum)\n",
    "\n",
    "    opt_D.zero_grad()\n",
    "    loss.backward()\n",
    "    opt_D.step()\n",
    "\n",
    "    temp_number = iteration\n",
    "    index_train_list.append(iteration)\n",
    "    train_losses.append(total_batch_loss)\n",
    "\n",
    "    if (iteration%100 == 0):\n",
    "        print(temp_number,loss,float(loss1_sum),float(loss2_sum))\n",
    "    ## Gan \n",
    "        if(Is_GAN):## Gan Work traning GeneratorNet\n",
    "\n",
    "            DiscriminatorNet.requires_grad = True\n",
    "            GeneratorNet.requires_grad = True\n",
    "\n",
    "\n",
    "            for step in range(100):\n",
    "                # real painting from artist\n",
    "                G_ideas = torch.randn(BATCH_SIZE, N_IDEAS,\n",
    "                                      requires_grad=True).to(dev)  # random ideas\\n\n",
    "                # fake painting from G (random ideas)\n",
    "\n",
    "                G_values = GeneratorNet(G_ideas)\n",
    "                G_values , indices = torch.sort(G_values, descending=True)\n",
    "            #     print(artist_paintings)\n",
    "            #     print(G_paintings)\n",
    "\n",
    "                result_list = []\n",
    "                for index in range(BATCH_SIZE):\n",
    "                    h_list = []\n",
    "                    value_list_tensor, S_tensor = redistribution_value_function(\n",
    "                        G_values[index])\n",
    "                    for i in range(Agent_number_n):\n",
    "                        h = DiscriminatorNet.calculate(\n",
    "                            value_list_tensor[i].cuda().type(torch.float32))\n",
    "                        h_list.append(h)\n",
    "                    h_list = torch.stack(h_list)\n",
    "                    result_list.append(torch.sum(h_list)/S_tensor.cuda())\n",
    "                result_list = torch.stack(result_list)\n",
    "\n",
    "                diff_loss = torch.max(result_list)-torch.min(result_list)\n",
    "                G_loss = torch.max(- diff_loss)\n",
    "\n",
    "                opt_G.zero_grad()\n",
    "                G_loss.backward()\n",
    "                opt_G.step()\n",
    "\n",
    "            # real painting from artist\n",
    "                G_ideas = torch.randn(BATCH_SIZE, N_IDEAS,\n",
    "                                      requires_grad=True).to(dev)  # random ideas\\n\n",
    "                # fake painting from G (random ideas)\n",
    "\n",
    "                G_values = GeneratorNet(G_ideas)\n",
    "                G_values , indices = torch.sort(G_values, descending=True)\n",
    "            #     print(artist_paintings)\n",
    "            #     print(G_paintings)\n",
    "\n",
    "                result_list = []\n",
    "                for index in range(BATCH_SIZE):\n",
    "                    h_list = []\n",
    "                    value_list_tensor, S_tensor = redistribution_value_function(\n",
    "                        G_values[index])\n",
    "                    for i in range(Agent_number_n):\n",
    "                        h = DiscriminatorNet.calculate(\n",
    "                            value_list_tensor[i].cuda().type(torch.float32))\n",
    "                        h_list.append(h)\n",
    "                    h_list = torch.stack(h_list)\n",
    "                    result_list.append(torch.sum(h_list)/S_tensor.cuda())\n",
    "                result_list = torch.stack(result_list)\n",
    "\n",
    "                diff_loss = torch.max(result_list)-torch.min(result_list)\n",
    "\n",
    "                D_loss = torch.where((Agent_number_n-1)>torch.min(result_list),\n",
    "                    torch.square(((Agent_number_n-1)-torch.min(result_list))),\n",
    "                    torch.zeros(1).to(dev)\n",
    "                  )   + torch.where((Agent_number_n-Alpha)<torch.max(result_list),\n",
    "                                torch.square((torch.max(result_list)-(Agent_number_n-Alpha)))/10000,\n",
    "                                torch.zeros(1).to(dev)\n",
    "                              )\n",
    "\n",
    "\n",
    "                opt_D.zero_grad()\n",
    "                D_loss.backward()\n",
    "                opt_D.step()\n",
    "                \n",
    "            print(\"Gan:\",G_loss,D_loss)\n",
    "            print()\n",
    "\n",
    "        result_list = []\n",
    "        for index in range(len(testing_data)):\n",
    "            h_list = []\n",
    "            for i in range(Agent_number_n):\n",
    "                h = DiscriminatorNet.calculate(\n",
    "                    torch.tensor(testing_data[index][i]).to(dev).type(\n",
    "                        torch.float32))\n",
    "                h_list.append(float(h))\n",
    "            result_list.append(sum(h_list) / testing_label[index])\n",
    "        print(max(result_list), min(result_list),\n",
    "              max(result_list) - min(result_list),\n",
    "              (sum(result_list) / len(result_list) - min(result_list))+ Agent_number_n-1 - min(min(result_list),Agent_number_n-1) )\n",
    "\n",
    "        index_test_list.append(iteration)\n",
    "        test_losses.append(\n",
    "            (sum(result_list) / len(result_list) - min(result_list))+ Agent_number_n-1 - min(min(result_list),Agent_number_n-1) )\n",
    "        print()\n",
    "        index_test_list.append(iteration)\n",
    "        test_losses.append(\n",
    "            max(result_list)-min(result_list) )\n",
    "        \n",
    "        print()\n",
    "\n",
    "    scheduler_D.step()\n",
    "    scheduler_G.step()"
   ]
  },
  {
   "cell_type": "code",
   "execution_count": 13,
   "metadata": {
    "ExecuteTime": {
     "end_time": "2021-06-14T12:57:03.021096Z",
     "start_time": "2021-06-14T12:57:02.844903Z"
    }
   },
   "outputs": [
    {
     "data": {
      "image/png": "[encoded data removed]",
      "text/plain": [
       "<Figure size 432x288 with 1 Axes>"
      ]
     },
     "metadata": {
      "needs_background": "light"
     },
     "output_type": "display_data"
    }
   ],
   "source": [
    "plt.ylim(0, 1.0)\n",
    "plt.plot(index_test_list,test_losses)\n",
    "plt.ylabel('test loss')\n",
    "\n",
    "plt.show()"
   ]
  },
  {
   "cell_type": "code",
   "execution_count": 14,
   "metadata": {
    "ExecuteTime": {
     "end_time": "2021-06-14T12:57:03.414794Z",
     "start_time": "2021-06-14T12:57:03.024088Z"
    }
   },
   "outputs": [],
   "source": [
    "torch.save(DiscriminatorNet, \"save/Deep_learning_D_5_ungan\")\n",
    "if(Is_GAN):\n",
    "    torch.save(GeneratorNet, \"save/Deep_learning_G_5\")"
   ]
  },
  {
   "cell_type": "code",
   "execution_count": 15,
   "metadata": {
    "ExecuteTime": {
     "end_time": "2021-06-14T12:58:01.676199Z",
     "start_time": "2021-06-14T12:57:03.416788Z"
    }
   },
   "outputs": [
    {
     "name": "stdout",
     "output_type": "stream",
     "text": [
      "4.4230440855026245 4.019387043974657 0.40365704152796766\n",
      "4.0881567217267545\n"
     ]
    }
   ],
   "source": [
    "denominator = 0\n",
    "result_list = []\n",
    "for index in range(len(testing_data)):\n",
    "    h_list = []\n",
    "    for i in range(Agent_number_n):\n",
    "        h = DiscriminatorNet.calculate(torch.tensor(testing_data[index][i]).to(dev).type(torch.float32))\n",
    "        h_list.append(float(h))\n",
    "    \n",
    "    #print(sum(h_list),h_list,sum(h_list)/testing_label[index])\n",
    "    result_list.append(sum(h_list)/testing_label[index])\n",
    "    \n",
    "\n",
    "print(max(result_list),min(result_list),max(result_list)-min(result_list))\n",
    "print(sum(result_list)/len(result_list))"
   ]
  },
  {
   "cell_type": "code",
   "execution_count": 16,
   "metadata": {
    "ExecuteTime": {
     "end_time": "2021-06-14T12:58:03.192213Z",
     "start_time": "2021-06-14T12:58:01.678194Z"
    }
   },
   "outputs": [
    {
     "data": {
      "image/png": "[encoded data removed]",
      "text/plain": [
       "<Figure size 432x288 with 1 Axes>"
      ]
     },
     "metadata": {
      "needs_background": "light"
     },
     "output_type": "display_data"
    }
   ],
   "source": [
    "plt.hist(result_list,bins=500)\n",
    "\n",
    "plt.title(\"Means\", y=1.015, fontsize=20)\n",
    "plt.axvline(x=sum(result_list)/len(result_list), linestyle='--', linewidth=2.5, label=\"sample mean\", c='orange')\n",
    "plt.xlabel(\"samples\", labelpad=14)\n",
    "plt.ylabel(\"frequency of occurence\", labelpad=14)\n",
    "plt.legend();\n",
    "\n",
    "result_list.sort()\n",
    "\n",
    "plt.axvline(x=result_list[int(len(result_list)*0.01)], linestyle='--', linewidth=0.5, label=\"1%\", c='b')\n",
    "plt.axvline(x=result_list[int(len(result_list)*0.99)], linestyle='--', linewidth=0.5, label=\"99%\", c='r')\n",
    "\n",
    "\n",
    "plt.show()"
   ]
  },
  {
   "cell_type": "code",
   "execution_count": 17,
   "metadata": {
    "ExecuteTime": {
     "end_time": "2021-06-14T12:58:03.207888Z",
     "start_time": "2021-06-14T12:58:03.194208Z"
    }
   },
   "outputs": [],
   "source": [
    "#Generate 10000 testing data on GeneratorNet"
   ]
  },
  {
   "cell_type": "code",
   "execution_count": 18,
   "metadata": {
    "ExecuteTime": {
     "end_time": "2021-06-14T12:58:13.031051Z",
     "start_time": "2021-06-14T12:58:03.210392Z"
    },
    "run_control": {
     "marked": false
    }
   },
   "outputs": [
    {
     "name": "stdout",
     "output_type": "stream",
     "text": [
      "[[[3.3847513e-03 8.9964735e-05 4.4466244e-05 3.3007975e-05]\n",
      "  [2.9331830e-01 8.9964735e-05 4.4466244e-05 3.3007975e-05]\n",
      "  [2.9331830e-01 3.3847513e-03 4.4466244e-05 3.3007975e-05]\n",
      "  [2.9331830e-01 3.3847513e-03 8.9964735e-05 3.3007975e-05]\n",
      "  [2.9331830e-01 3.3847513e-03 8.9964735e-05 4.4466244e-05]]\n",
      "\n",
      " [[9.9958545e-01 9.9870980e-01 9.5372909e-01 2.0412540e-01]\n",
      "  [9.9971420e-01 9.9870980e-01 9.5372909e-01 2.0412540e-01]\n",
      "  [9.9971420e-01 9.9958545e-01 9.5372909e-01 2.0412540e-01]\n",
      "  [9.9971420e-01 9.9958545e-01 9.9870980e-01 2.0412540e-01]\n",
      "  [9.9971420e-01 9.9958545e-01 9.9870980e-01 9.5372909e-01]]\n",
      "\n",
      " [[2.9592866e-01 1.1073529e-02 6.5249898e-03 6.3691786e-03]\n",
      "  [7.6469040e-01 1.1073529e-02 6.5249898e-03 6.3691786e-03]\n",
      "  [7.6469040e-01 2.9592866e-01 6.5249898e-03 6.3691786e-03]\n",
      "  [7.6469040e-01 2.9592866e-01 1.1073529e-02 6.3691786e-03]\n",
      "  [7.6469040e-01 2.9592866e-01 1.1073529e-02 6.5249898e-03]]\n",
      "\n",
      " ...\n",
      "\n",
      " [[9.8270273e-01 9.5250750e-01 5.5753887e-01 4.1050695e-02]\n",
      "  [9.9995530e-01 9.5250750e-01 5.5753887e-01 4.1050695e-02]\n",
      "  [9.9995530e-01 9.8270273e-01 5.5753887e-01 4.1050695e-02]\n",
      "  [9.9995530e-01 9.8270273e-01 9.5250750e-01 4.1050695e-02]\n",
      "  [9.9995530e-01 9.8270273e-01 9.5250750e-01 5.5753887e-01]]\n",
      "\n",
      " [[4.6859481e-05 7.1773638e-06 4.0247096e-06 3.6831213e-06]\n",
      "  [9.9873239e-01 7.1773638e-06 4.0247096e-06 3.6831213e-06]\n",
      "  [9.9873239e-01 4.6859481e-05 4.0247096e-06 3.6831213e-06]\n",
      "  [9.9873239e-01 4.6859481e-05 7.1773638e-06 3.6831213e-06]\n",
      "  [9.9873239e-01 4.6859481e-05 7.1773638e-06 4.0247096e-06]]\n",
      "\n",
      " [[9.1563918e-05 2.1901758e-06 5.9040315e-07 5.5965614e-07]\n",
      "  [3.3500835e-01 2.1901758e-06 5.9040315e-07 5.5965614e-07]\n",
      "  [3.3500835e-01 9.1563918e-05 5.9040315e-07 5.5965614e-07]\n",
      "  [3.3500835e-01 9.1563918e-05 2.1901758e-06 5.5965614e-07]\n",
      "  [3.3500835e-01 9.1563918e-05 2.1901758e-06 5.9040315e-07]]]\n",
      "[1.         4.15586394 1.08458675 ... 3.53375509 1.         1.        ]\n"
     ]
    }
   ],
   "source": [
    "GeneratorNet = torch.load(\"save/Deep_learning_G_5\")\n",
    "def appen_test_G(x_list):\n",
    "    global temp_list\n",
    "                \n",
    "    S= max(sum(x_list),1.0);\n",
    "    temp_list = []\n",
    "    \n",
    "    for i in range(Agent_number_n):\n",
    "        temp = []\n",
    "        for j in range(Agent_number_n):\n",
    "            if(i!=j):\n",
    "                temp.append(x_list[j])\n",
    "        appen(temp,S)\n",
    "    testing_data_G.append(temp_list)\n",
    "    testing_label_G.append(S)\n",
    "# fake painting from G (random ideas)\n",
    "\n",
    "def read_testing_data_G():\n",
    "    for i in range(10000):\n",
    "        #appen_test_G(sorted(np.random.rand(Agent_number_n), reverse=True));\n",
    "        G_ideas = torch.randn(N_IDEAS).to(dev)  # random ideas\\n\n",
    "        G_values = GeneratorNet(G_ideas)\n",
    "        G_values , indices = torch.sort(G_values, descending=True)\n",
    "        appen_test_G(G_values.detach().cpu().numpy()) \n",
    "        \n",
    "testing_data_G = []\n",
    "testing_label_G = []\n",
    "read_testing_data_G()\n",
    "testing_data_G=np.array(testing_data_G)\n",
    "testing_label_G=np.array(testing_label_G)\n",
    "print(testing_data_G)\n",
    "print(testing_label_G)"
   ]
  },
  {
   "cell_type": "code",
   "execution_count": 19,
   "metadata": {
    "ExecuteTime": {
     "end_time": "2021-06-14T12:59:12.616700Z",
     "start_time": "2021-06-14T12:58:13.033046Z"
    }
   },
   "outputs": [
    {
     "name": "stdout",
     "output_type": "stream",
     "text": [
      "4.49936449871349 4.011609023783069 0.48775547493042115\n",
      "4.186373332073665\n"
     ]
    }
   ],
   "source": [
    "result_list_G = []\n",
    "for index in range(len(testing_data_G)):\n",
    "    h_list = []\n",
    "    for i in range(Agent_number_n):\n",
    "        h = DiscriminatorNet.calculate(torch.tensor(testing_data_G[index][i]).to(dev).type(torch.float32))\n",
    "        h_list.append(float(h))\n",
    "    \n",
    "    #print(sum(h_list),h_list,sum(h_list)/testing_label[index])\n",
    "    result_list_G.append(sum(h_list)/testing_label_G[index])\n",
    "    \n",
    "\n",
    "print(max(result_list_G),min(result_list_G),max(result_list_G)-min(result_list_G))\n",
    "print(sum(result_list_G)/len(result_list_G))"
   ]
  },
  {
   "cell_type": "code",
   "execution_count": 20,
   "metadata": {
    "ExecuteTime": {
     "end_time": "2021-06-14T12:59:14.232754Z",
     "start_time": "2021-06-14T12:59:12.618696Z"
    }
   },
   "outputs": [
    {
     "data": {
      "image/png": "[encoded data removed]",
      "text/plain": [
       "<Figure size 432x288 with 1 Axes>"
      ]
     },
     "metadata": {
      "needs_background": "light"
     },
     "output_type": "display_data"
    }
   ],
   "source": [
    "plt.hist(result_list_G,bins=500)\n",
    "\n",
    "plt.title(\"Means\", y=1.015, fontsize=20)\n",
    "plt.axvline(x=sum(result_list_G)/len(result_list_G), linestyle='--', linewidth=2.5, label=\"sample mean\", c='orange')\n",
    "plt.xlabel(\"samples\", labelpad=14)\n",
    "plt.ylabel(\"frequency of occurence\", labelpad=14)\n",
    "plt.legend();\n",
    "\n",
    "result_list_G.sort()\n",
    "\n",
    "plt.axvline(x=result_list[int(len(result_list_G)*0.01)], linestyle='--', linewidth=0.5, label=\"1%\", c='b')\n",
    "plt.axvline(x=result_list[int(len(result_list_G)*0.99)], linestyle='--', linewidth=0.5, label=\"99%\", c='r')\n",
    "\n",
    "\n",
    "plt.show()"
   ]
  },
  {
   "cell_type": "code",
   "execution_count": 21,
   "metadata": {
    "ExecuteTime": {
     "end_time": "2021-06-14T12:59:16.043056Z",
     "start_time": "2021-06-14T12:59:14.234749Z"
    }
   },
   "outputs": [
    {
     "data": {
      "image/png": "[encoded data removed]",
      "text/plain": [
       "<Figure size 432x288 with 1 Axes>"
      ]
     },
     "metadata": {
      "needs_background": "light"
     },
     "output_type": "display_data"
    }
   ],
   "source": [
    "final_list = result_list + result_list_G\n",
    "\n",
    "\n",
    "plt.hist(final_list,bins=500)\n",
    "\n",
    "plt.title(\"Means\", y=1.015, fontsize=20)\n",
    "plt.axvline(x=sum(final_list)/len(final_list), linestyle='--', linewidth=2.5, label=\"sample mean\", c='orange')\n",
    "plt.xlabel(\"samples\", labelpad=14)\n",
    "plt.ylabel(\"frequency of occurence\", labelpad=14)\n",
    "plt.legend();\n",
    "\n",
    "final_list.sort()\n",
    "\n",
    "plt.axvline(x=final_list[int(len(final_list)*0.01)], linestyle='--', linewidth=0.5, label=\"1%\", c='b')\n",
    "plt.axvline(x=final_list[int(len(final_list)*0.99)], linestyle='--', linewidth=0.5, label=\"99%\", c='r')\n",
    "\n",
    "\n",
    "plt.show()"
   ]
  },
  {
   "cell_type": "code",
   "execution_count": null,
   "metadata": {},
   "outputs": [],
   "source": []
  },
  {
   "cell_type": "code",
   "execution_count": null,
   "metadata": {},
   "outputs": [],
   "source": []
  },
  {
   "cell_type": "code",
   "execution_count": null,
   "metadata": {},
   "outputs": [],
   "source": []
  }
 ],
 "metadata": {
  "hide_input": false,
  "kernelspec": {
   "display_name": "Python 3",
   "language": "python",
   "name": "python3"
  },
  "language_info": {
   "codemirror_mode": {
    "name": "ipython",
    "version": 3
   },
   "file_extension": ".py",
   "mimetype": "text/x-python",
   "name": "python",
   "nbconvert_exporter": "python",
   "pygments_lexer": "ipython3",
   "version": "3.8.3"
  },
  "varInspector": {
   "cols": {
    "lenName": 16,
    "lenType": 16,
    "lenVar": 40
   },
   "kernels_config": {
    "python": {
     "delete_cmd_postfix": "",
     "delete_cmd_prefix": "del ",
     "library": "var_list.py",
     "varRefreshCmd": "print(var_dic_list())"
    },
    "r": {
     "delete_cmd_postfix": ") ",
     "delete_cmd_prefix": "rm(",
     "library": "var_list.r",
     "varRefreshCmd": "cat(var_dic_list()) "
    }
   },
   "types_to_exclude": [
    "module",
    "function",
    "builtin_function_or_method",
    "instance",
    "_Feature"
   ],
   "window_display": false
  }
 },
 "nbformat": 4,
 "nbformat_minor": 4
}
