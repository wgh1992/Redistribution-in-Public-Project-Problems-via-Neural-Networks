{
 "cells": [
  {
   "cell_type": "code",
   "execution_count": 1,
   "metadata": {
    "ExecuteTime": {
     "end_time": "2021-06-25T03:49:26.699600Z",
     "start_time": "2021-06-25T03:49:16.784934Z"
    }
   },
   "outputs": [
    {
     "name": "stdout",
     "output_type": "stream",
     "text": [
      "pygame 2.0.1 (SDL 2.0.14, Python 3.8.3)\n",
      "Hello from the pygame community. https://www.pygame.org/contribute.html\n"
     ]
    },
    {
     "name": "stderr",
     "output_type": "stream",
     "text": [
      "D:\\ComputerSoftwares\\Anaconda\\lib\\site-packages\\sklearn\\utils\\deprecation.py:143: FutureWarning: The sklearn.datasets.samples_generator module is  deprecated in version 0.22 and will be removed in version 0.24. The corresponding classes / functions should instead be imported from sklearn.datasets. Anything that cannot be imported from sklearn.datasets is now part of the private API.\n",
      "  warnings.warn(message, FutureWarning)\n"
     ]
    },
    {
     "name": "stdout",
     "output_type": "stream",
     "text": [
      "cuda:0\n"
     ]
    }
   ],
   "source": [
    "\n",
    "import pygame\n",
    "import random\n",
    "import os\n",
    "import time\n",
    "import numpy as np\n",
    "import math\n",
    "import torch\n",
    "import torch.nn.functional\n",
    "import matplotlib.pyplot as plt\n",
    "import torch.optim as opt\n",
    "from torch.autograd import Variable\n",
    "from sklearn.model_selection import train_test_split\n",
    "\n",
    "import scipy.stats as st\n",
    "from sklearn.datasets.samples_generator import make_blobs\n",
    "from matplotlib.colors import LogNorm \n",
    "import matplotlib.cm as cm\n",
    "import torch.nn as nn\n",
    "import numpy as np\n",
    "import matplotlib.pyplot as plt\n",
    "import plotly.graph_objects as go\n",
    "import plotly.express as px\n",
    "from scipy.interpolate import griddata\n",
    "if torch.cuda.is_available():  \n",
    "    dev = \"cuda:0\" \n",
    "else:  \n",
    "    dev = \"cpu\"  \n",
    "\n",
    "print(dev)\n",
    "\n"
   ]
  },
  {
   "cell_type": "code",
   "execution_count": 2,
   "metadata": {
    "ExecuteTime": {
     "end_time": "2021-06-25T03:49:26.715426Z",
     "start_time": "2021-06-25T03:49:26.702599Z"
    }
   },
   "outputs": [],
   "source": [
    "global temp_list\n",
    "temp_list = []\n",
    "Agent_number_n=6;\n",
    "Alpha = 0.85\n",
    "\n",
    "\n",
    "# Hyper Parameters\n",
    "echo = 2001 \n",
    "BATCH_SIZE = 64\n",
    "LR_G = 0.001           # learning rate for generator\n",
    "LR_D = 0.001           # learning rate for discriminator\n",
    "N_IDEAS = Agent_number_n             # think of this as number of ideas for generating an art work (Generator)\n",
    "ART_COMPONENTS = Agent_number_n     # it could be total point G can draw in the canvas\n",
    "\n",
    "Is_GAN = True # if use Gan\n",
    "\n",
    "def Generate_distribution(Agent_number_n):\n",
    "    return sorted(np.random.rand(Agent_number_n), reverse=True)\n",
    "    #return sorted(np.random.normal(normalloc,normalscale,Agent_number_n))"
   ]
  },
  {
   "cell_type": "code",
   "execution_count": 3,
   "metadata": {
    "ExecuteTime": {
     "end_time": "2021-06-25T03:49:26.731386Z",
     "start_time": "2021-06-25T03:49:26.717421Z"
    }
   },
   "outputs": [],
   "source": [
    "new_input = 3\n",
    "def Dimensionality_reduction(data_sorted):\n",
    "    out_data = torch.ones(new_input).cuda()\n",
    "    out_data[0] = torch.max(data_sorted) \n",
    "    out_data[1] = torch.sum(data_sorted) \n",
    "    \n",
    "    temp_list = []\n",
    "    for i in range(len(data_sorted)-1):\n",
    "        temp_list.append(data_sorted[i] - data_sorted[i + 1])\n",
    "    \n",
    "    temp_tensor = torch.stack(temp_list)    \n",
    "    out_data[2] = torch.max(temp_tensor) \n",
    "    return out_data\n"
   ]
  },
  {
   "cell_type": "code",
   "execution_count": 4,
   "metadata": {
    "ExecuteTime": {
     "end_time": "2021-06-25T03:49:27.166930Z",
     "start_time": "2021-06-25T03:49:26.732346Z"
    }
   },
   "outputs": [
    {
     "name": "stdout",
     "output_type": "stream",
     "text": [
      "[[[0.75372822 0.35428118 0.29760537 0.24632997 0.18033587]\n",
      "  [0.75486592 0.35428118 0.29760537 0.24632997 0.18033587]\n",
      "  [0.75486592 0.75372822 0.29760537 0.24632997 0.18033587]\n",
      "  [0.75486592 0.75372822 0.35428118 0.24632997 0.18033587]\n",
      "  [0.75486592 0.75372822 0.35428118 0.29760537 0.18033587]\n",
      "  [0.75486592 0.75372822 0.35428118 0.29760537 0.24632997]]\n",
      "\n",
      " [[0.75946804 0.57122718 0.44553968 0.1006347  0.0512507 ]\n",
      "  [0.96433435 0.57122718 0.44553968 0.1006347  0.0512507 ]\n",
      "  [0.96433435 0.75946804 0.44553968 0.1006347  0.0512507 ]\n",
      "  [0.96433435 0.75946804 0.57122718 0.1006347  0.0512507 ]\n",
      "  [0.96433435 0.75946804 0.57122718 0.44553968 0.0512507 ]\n",
      "  [0.96433435 0.75946804 0.57122718 0.44553968 0.1006347 ]]\n",
      "\n",
      " [[0.96191185 0.62395188 0.58383139 0.458205   0.11438696]\n",
      "  [0.98965102 0.62395188 0.58383139 0.458205   0.11438696]\n",
      "  [0.98965102 0.96191185 0.58383139 0.458205   0.11438696]\n",
      "  [0.98965102 0.96191185 0.62395188 0.458205   0.11438696]\n",
      "  [0.98965102 0.96191185 0.62395188 0.58383139 0.11438696]\n",
      "  [0.98965102 0.96191185 0.62395188 0.58383139 0.458205  ]]\n",
      "\n",
      " ...\n",
      "\n",
      " [[0.62892775 0.60752052 0.60064722 0.39858949 0.30373103]\n",
      "  [0.77255731 0.60752052 0.60064722 0.39858949 0.30373103]\n",
      "  [0.77255731 0.62892775 0.60064722 0.39858949 0.30373103]\n",
      "  [0.77255731 0.62892775 0.60752052 0.39858949 0.30373103]\n",
      "  [0.77255731 0.62892775 0.60752052 0.60064722 0.30373103]\n",
      "  [0.77255731 0.62892775 0.60752052 0.60064722 0.39858949]]\n",
      "\n",
      " [[0.79597609 0.65957751 0.63190986 0.61100457 0.09877258]\n",
      "  [0.80533681 0.65957751 0.63190986 0.61100457 0.09877258]\n",
      "  [0.80533681 0.79597609 0.63190986 0.61100457 0.09877258]\n",
      "  [0.80533681 0.79597609 0.65957751 0.61100457 0.09877258]\n",
      "  [0.80533681 0.79597609 0.65957751 0.63190986 0.09877258]\n",
      "  [0.80533681 0.79597609 0.65957751 0.63190986 0.61100457]]\n",
      "\n",
      " [[0.92708695 0.76597612 0.70710582 0.51395853 0.3799767 ]\n",
      "  [0.98938923 0.76597612 0.70710582 0.51395853 0.3799767 ]\n",
      "  [0.98938923 0.92708695 0.70710582 0.51395853 0.3799767 ]\n",
      "  [0.98938923 0.92708695 0.76597612 0.51395853 0.3799767 ]\n",
      "  [0.98938923 0.92708695 0.76597612 0.70710582 0.3799767 ]\n",
      "  [0.98938923 0.92708695 0.76597612 0.70710582 0.51395853]]]\n",
      "[2.58714653 2.89245465 3.73193809 ... 3.31197332 3.60257742 4.28349334]\n"
     ]
    }
   ],
   "source": [
    "def h_3_star(a, b, t):\n",
    "    return a - min(a, t) + b - min(b, t) + max(min(a, t)+min(b, t), 2*t/3) + 1/2 * max(min(a, t)+min(b, t), t) - 1/2 * max(max(min(a, t), min(b, t)), 2*t/3) - t/6\n",
    "\n",
    "\n",
    "def f_function(a, b, z):\n",
    "    if(z >= 1):\n",
    "        return (a+b)/2 + z/3\n",
    "    else:\n",
    "        return z/3 + h_3_star(a, b, 1-z)/2\n",
    "\n",
    "def h_function_label(input_list):\n",
    "    #input_list = sorted(input_list)\n",
    "    g_list = []\n",
    "    for j1 in range(len(input_list) ):\n",
    "        for j2 in range(len(input_list)):\n",
    "            if(j1 != j2):\n",
    "                a = input_list[j1]\n",
    "                b = input_list[j2]\n",
    "                z = sum(input_list)- a-b\n",
    "\n",
    "                g_list.append( f_function(a, b, z) * (Agent_number_n-1))\n",
    "    h = sum(g_list) * 3 /  (Agent_number_n) /  (Agent_number_n-1) /  (Agent_number_n - 2)\n",
    "    return h\n",
    "\n",
    "def appen(_x_list,y):\n",
    "    global temp_list\n",
    "    temp_list.append(_x_list)\n",
    "    \n",
    "def appen_train(x_list):\n",
    "    global temp_list\n",
    "                \n",
    "    S= max(sum(x_list),1.0);\n",
    "    temp_list = []\n",
    "    h_list = []\n",
    "    for i in range(Agent_number_n):\n",
    "        temp = []\n",
    "        for j in range(Agent_number_n):\n",
    "            if(i!=j):\n",
    "                temp.append(x_list[j])\n",
    "        appen(temp,S)\n",
    "        \n",
    "        h = h_function_label(temp)\n",
    "        h_list.append(float(h))\n",
    "    temp_list = np.array(temp_list)\n",
    "    x_list = np.array(x_list)\n",
    "    return temp_list,S,x_list,h_list\n",
    "    \n",
    "\n",
    "def appen_test(x_list):\n",
    "    global temp_list\n",
    "                \n",
    "    S= max(sum(x_list),1.0);\n",
    "    temp_list = []\n",
    "    \n",
    "    for i in range(Agent_number_n):\n",
    "        temp = []\n",
    "        for j in range(Agent_number_n):\n",
    "            if(i!=j):\n",
    "                temp.append(x_list[j])\n",
    "        appen(temp,S)\n",
    "    testing_data.append(temp_list)\n",
    "    testing_label.append(S)\n",
    "    temp_list = np.array(temp_list)\n",
    "    return temp_list,S\n",
    "    \n",
    "\n",
    "def read_testing_data():\n",
    "    for i in range(10000):\n",
    "        appen_test(Generate_distribution(Agent_number_n));\n",
    "                        \n",
    "            \n",
    "\n",
    "testing_data=[]\n",
    "testing_label=[]\n",
    "S=1.0\n",
    "read_testing_data();\n",
    "\n",
    "testing_data=np.array(testing_data)\n",
    "testing_label=np.array(testing_label)\n",
    "print(testing_data)\n",
    "print(testing_label)"
   ]
  },
  {
   "cell_type": "code",
   "execution_count": 5,
   "metadata": {
    "ExecuteTime": {
     "end_time": "2021-06-25T03:49:27.198810Z",
     "start_time": "2021-06-25T03:49:27.168889Z"
    }
   },
   "outputs": [],
   "source": [
    "def weight_init(m):\n",
    "    if isinstance(m, torch.nn.Conv2d):\n",
    "        torch.nn.init.xavier_normal_(m.weight)\n",
    "        torch.nn.init.zeros_(m.bias)\n",
    "    elif isinstance(m, torch.nn.Linear):\n",
    "        torch.nn.init.xavier_normal_(m.weight)\n",
    "        torch.nn.init.normal_(m.bias, mean=0.0, std=0.01)\n",
    "\n",
    "class Net(torch.nn.Module):\n",
    "    def __init__(self):\n",
    "\n",
    "        super(Net, self).__init__()\n",
    "        \n",
    "        self.input_dim = new_input# (Agent_number_n-1)\n",
    "        self.hidden_dim = 128\n",
    "        self.output_dim = 1\n",
    "        self.hidden_layer_count = 6 \n",
    "        \n",
    "        current_dim = self.input_dim\n",
    "        self.layers = torch.nn.ModuleList()\n",
    "        for i in range(self.hidden_layer_count):\n",
    "            self.layers.append(torch.nn.Linear(current_dim, self.hidden_dim))\n",
    "            current_dim = self.hidden_dim\n",
    "        self.layers.append(torch.nn.Linear(current_dim, self.output_dim))\n",
    "\n",
    "    def calculate(self, value_list):\n",
    "        h = Dimensionality_reduction(value_list)\n",
    "        for layer in self.layers:\n",
    "            h = torch.relu(layer(h))\n",
    "        return h\n",
    "\n",
    "    def forward(self, input_list,input_label,list_x):\n",
    "        global iteration,echo,target_order\n",
    "        loss1 = 0\n",
    "        loss2 = 0\n",
    "        loss3 = 0\n",
    "        input_list = torch.from_numpy(\n",
    "            np.array(input_list)).to(dev).type(torch.float32)\n",
    "        h_list = []\n",
    "\n",
    "        for i in range(Agent_number_n):\n",
    "            h = self.calculate(input_list[i])\n",
    "            h_list.append(h)\n",
    "#             loss3 += torch.square(h_function_2(input_list)-h2[1])\n",
    "            \n",
    "        input_label = torch.from_numpy(\n",
    "            np.array(input_label)).to(dev).type(torch.float32)\n",
    "        sum_h = torch.sum(torch.cat(h_list)).to(dev)\n",
    "\n",
    "\n",
    "        loss1 = torch.where((Agent_number_n-1)*input_label>sum_h,\n",
    "                        torch.square(((Agent_number_n-1)*input_label-sum_h)),\n",
    "                        torch.zeros(1).to(dev)\n",
    "                      )\n",
    "\n",
    "        loss2 = torch.where((Agent_number_n-Alpha)*input_label<sum_h,\n",
    "                        torch.square((sum_h-(Agent_number_n-Alpha)*input_label))/100,\n",
    "                        torch.zeros(1).to(dev)\n",
    "                      )\n",
    "\n",
    "\n",
    "        return loss1,loss2\n",
    "    \n",
    "    def supervised_loss(self, input_list,label):\n",
    "        global iteration,echo,target_order\n",
    "        input_list = torch.from_numpy(\n",
    "            np.array(input_list)).to(dev).type(torch.float32)\n",
    "        loss = 0 \n",
    "        for i in range(Agent_number_n):\n",
    "            h = self.calculate(input_list[i])\n",
    "            loss += torch.square(h - label[i])\n",
    "        return loss"
   ]
  },
  {
   "cell_type": "code",
   "execution_count": 6,
   "metadata": {
    "ExecuteTime": {
     "end_time": "2021-06-25T03:49:27.733430Z",
     "start_time": "2021-06-25T03:49:27.200805Z"
    }
   },
   "outputs": [],
   "source": [
    "def redistribution_value_function(input_tensor):\n",
    "    S = torch.max(torch.sum(input_tensor), torch.ones(1).to(dev))\n",
    "    temp_list = []\n",
    "\n",
    "\n",
    "    for i in range(Agent_number_n):\n",
    "        temp = []\n",
    "        \n",
    "        for j in range(Agent_number_n):\n",
    "            if(i != j):\n",
    "                temp .append(input_tensor[j])\n",
    "                \n",
    "        temp = torch.stack(temp)\n",
    "        temp_list.append(temp)\n",
    "    return torch.stack(temp_list), S\n",
    "\n",
    "GeneratorNet = nn.Sequential(                      # Generator\n",
    "    # random ideas (could from normal distribution)\n",
    "    nn.Linear(N_IDEAS, 64),\n",
    "    nn.ReLU(),\n",
    "    nn.Linear(64, 64),\n",
    "    nn.ReLU(),\n",
    "    nn.Linear(64, 64),\n",
    "    nn.ReLU(),\n",
    "    # making a painting from these random ideas\n",
    "    nn.Linear(64, ART_COMPONENTS),\n",
    "    nn.Sigmoid(),\n",
    ")"
   ]
  },
  {
   "cell_type": "code",
   "execution_count": 7,
   "metadata": {
    "ExecuteTime": {
     "end_time": "2021-06-25T03:49:37.426161Z",
     "start_time": "2021-06-25T03:49:27.735425Z"
    },
    "run_control": {
     "marked": false
    }
   },
   "outputs": [],
   "source": [
    "random.seed(2000)\n",
    "torch.manual_seed(256)\n",
    "DiscriminatorNet  = Net()\n",
    "DiscriminatorNet.apply(weight_init)\n",
    "GeneratorNet.apply(weight_init)\n",
    "# DiscriminatorNet = torch.load(\"save/Deep_learning_D_10_supervised_1\")\n",
    "# if(Is_GAN):\n",
    "#     GeneratorNet = torch.load(\"save/Deep_learning_G_10\")\n",
    "DiscriminatorNet.to(dev)\n",
    "GeneratorNet.to(dev)\n",
    "\n",
    "opt_D = torch.optim.Adam(DiscriminatorNet.parameters(), lr=LR_D)\n",
    "opt_G = torch.optim.Adam(GeneratorNet.parameters(), lr=LR_G)\n",
    "\n",
    "\n",
    "scheduler_D = torch.optim.lr_scheduler.StepLR(opt_D, step_size=100, gamma=0.98)\n",
    "scheduler_G = torch.optim.lr_scheduler.StepLR(opt_G, step_size=100, gamma=0.98)\n",
    "\n",
    "index_train_list = []\n",
    "index_test_list = []\n",
    "train_losses = []\n",
    "test_losses = []"
   ]
  },
  {
   "cell_type": "code",
   "execution_count": 8,
   "metadata": {
    "ExecuteTime": {
     "end_time": "2021-06-25T04:15:20.382652Z",
     "start_time": "2021-06-25T03:49:37.428090Z"
    }
   },
   "outputs": [
    {
     "name": "stdout",
     "output_type": "stream",
     "text": [
      "0 tensor(40.5404, device='cuda:0', grad_fn=<DivBackward0>) 2594.58642578125\n",
      "100 tensor(0.0213, device='cuda:0', grad_fn=<DivBackward0>) 1.3656582832336426\n",
      "200 tensor(0.0044, device='cuda:0', grad_fn=<DivBackward0>) 0.2834337651729584\n",
      "300 tensor(0.0030, device='cuda:0', grad_fn=<DivBackward0>) 0.1940702646970749\n",
      "400 tensor(0.0006, device='cuda:0', grad_fn=<DivBackward0>) 0.04129917547106743\n",
      "500 tensor(0.0004, device='cuda:0', grad_fn=<DivBackward0>) 0.027388326823711395\n",
      "600 tensor(0.0003, device='cuda:0', grad_fn=<DivBackward0>) 0.01604573242366314\n",
      "700 tensor(0.0002, device='cuda:0', grad_fn=<DivBackward0>) 0.010937600396573544\n",
      "800 tensor(0.0002, device='cuda:0', grad_fn=<DivBackward0>) 0.01014729868620634\n",
      "900 tensor(0.0001, device='cuda:0', grad_fn=<DivBackward0>) 0.007503259461373091\n",
      "1000 tensor(9.7242e-05, device='cuda:0', grad_fn=<DivBackward0>) 0.006223457865417004\n",
      "1100 tensor(8.4799e-05, device='cuda:0', grad_fn=<DivBackward0>) 0.005427111871540546\n",
      "1200 tensor(0.0001, device='cuda:0', grad_fn=<DivBackward0>) 0.007203175686299801\n",
      "1300 tensor(0.0001, device='cuda:0', grad_fn=<DivBackward0>) 0.008409162051975727\n",
      "1400 tensor(8.0418e-05, device='cuda:0', grad_fn=<DivBackward0>) 0.0051467521116137505\n",
      "1500 tensor(7.0625e-05, device='cuda:0', grad_fn=<DivBackward0>) 0.004519970156252384\n",
      "1600 tensor(7.5210e-05, device='cuda:0', grad_fn=<DivBackward0>) 0.004813430365175009\n",
      "1700 tensor(6.4521e-05, device='cuda:0', grad_fn=<DivBackward0>) 0.004129329696297646\n",
      "1800 tensor(8.0107e-05, device='cuda:0', grad_fn=<DivBackward0>) 0.005126859527081251\n",
      "1900 tensor(7.5522e-05, device='cuda:0', grad_fn=<DivBackward0>) 0.004833410959690809\n",
      "2000 tensor(7.3068e-05, device='cuda:0', grad_fn=<DivBackward0>) 0.004676325246691704\n"
     ]
    }
   ],
   "source": [
    "#supervised\n",
    "index_supervisedtrain_list = []\n",
    "supervisedtrain_losses = []\n",
    "for iteration in range(echo):\n",
    "\n",
    "    temp_number = 0\n",
    "    total_batch_loss = 0 \n",
    "    \n",
    "    loss_sum = 0\n",
    "    denominator = 0\n",
    "    for index in range(0, BATCH_SIZE):\n",
    "        training_data_i, training_S, training_data,label = appen_train(\n",
    "            Generate_distribution(Agent_number_n))\n",
    "        h_loss = DiscriminatorNet.supervised_loss(training_data_i, label)\n",
    "        denominator += 1\n",
    "        loss_sum += h_loss\n",
    "\n",
    "    loss_sum = torch.sum(loss_sum)\n",
    "    loss = (loss_sum) / denominator \n",
    "    total_batch_loss += float(loss_sum)\n",
    "\n",
    "    opt_D.zero_grad()\n",
    "    loss.backward()\n",
    "    opt_D.step()\n",
    "\n",
    "    if (iteration%100 == 0):\n",
    "        print(iteration,loss,total_batch_loss)\n",
    "        index_supervisedtrain_list.append(iteration)\n",
    "        supervisedtrain_losses.append(total_batch_loss)\n",
    "    scheduler_D.step()"
   ]
  },
  {
   "cell_type": "code",
   "execution_count": 9,
   "metadata": {
    "ExecuteTime": {
     "end_time": "2021-06-25T04:15:20.761908Z",
     "start_time": "2021-06-25T04:15:20.382652Z"
    }
   },
   "outputs": [
    {
     "data": {
      "image/png": "[encoded data removed]",
      "text/plain": [
       "<Figure size 432x288 with 1 Axes>"
      ]
     },
     "metadata": {
      "needs_background": "light"
     },
     "output_type": "display_data"
    }
   ],
   "source": [
    "plt.ylim(0, 0.1)\n",
    "plt.plot(index_supervisedtrain_list ,supervisedtrain_losses)\n",
    "plt.ylabel('supervised train loss')\n",
    "\n",
    "plt.show()"
   ]
  },
  {
   "cell_type": "code",
   "execution_count": 10,
   "metadata": {
    "ExecuteTime": {
     "end_time": "2021-06-25T04:15:20.855011Z",
     "start_time": "2021-06-25T04:15:20.762906Z"
    }
   },
   "outputs": [],
   "source": [
    "if(echo!=0):\n",
    "    torch.save(DiscriminatorNet, \"save/Deep_learning_D_6_supervised\")\n",
    "    if(Is_GAN):\n",
    "        torch.save(GeneratorNet, \"save/Deep_learning_G_6\")"
   ]
  },
  {
   "cell_type": "code",
   "execution_count": 11,
   "metadata": {
    "ExecuteTime": {
     "end_time": "2021-06-25T04:15:20.870632Z",
     "start_time": "2021-06-25T04:15:20.855011Z"
    }
   },
   "outputs": [],
   "source": [
    "opt_D = torch.optim.Adam(DiscriminatorNet.parameters(), lr=LR_D/100)\n",
    "opt_G = torch.optim.Adam(GeneratorNet.parameters(), lr=LR_G/100)\n",
    "scheduler_D = torch.optim.lr_scheduler.StepLR(opt_D, step_size=100, gamma=0.98)\n",
    "scheduler_G = torch.optim.lr_scheduler.StepLR(opt_G, step_size=100, gamma=0.98)"
   ]
  },
  {
   "cell_type": "code",
   "execution_count": 12,
   "metadata": {
    "ExecuteTime": {
     "end_time": "2021-06-25T05:59:31.409886Z",
     "start_time": "2021-06-25T04:15:20.870632Z"
    }
   },
   "outputs": [
    {
     "name": "stdout",
     "output_type": "stream",
     "text": [
      "0\n",
      "Gan: tensor(-0.0035, device='cuda:0', grad_fn=<MaxBackward1>) tensor([9.9129e-07], device='cuda:0', grad_fn=<AddBackward0>)\n",
      "\n",
      "50\n",
      "Gan: tensor(-0.0032, device='cuda:0', grad_fn=<MaxBackward1>) tensor([0.], device='cuda:0', grad_fn=<AddBackward0>)\n",
      "\n",
      "100\n",
      "Gan: tensor(-0.0033, device='cuda:0', grad_fn=<MaxBackward1>) tensor([0.], device='cuda:0', grad_fn=<AddBackward0>)\n",
      "\n",
      "150\n",
      "Gan: tensor(-0.0040, device='cuda:0', grad_fn=<MaxBackward1>) tensor([0.], device='cuda:0', grad_fn=<AddBackward0>)\n",
      "\n",
      "200\n",
      "Gan: tensor(-0.0033, device='cuda:0', grad_fn=<MaxBackward1>) tensor([0.], device='cuda:0', grad_fn=<AddBackward0>)\n",
      "\n",
      "250\n",
      "Gan: tensor(-0.0042, device='cuda:0', grad_fn=<MaxBackward1>) tensor([0.], device='cuda:0', grad_fn=<AddBackward0>)\n",
      "\n",
      "300\n",
      "Gan: tensor(-0.0039, device='cuda:0', grad_fn=<MaxBackward1>) tensor([0.], device='cuda:0', grad_fn=<AddBackward0>)\n",
      "\n",
      "350\n",
      "Gan: tensor(-0.0037, device='cuda:0', grad_fn=<MaxBackward1>) tensor([0.], device='cuda:0', grad_fn=<AddBackward0>)\n",
      "\n",
      "400\n",
      "Gan: tensor(-0.0036, device='cuda:0', grad_fn=<MaxBackward1>) tensor([0.], device='cuda:0', grad_fn=<AddBackward0>)\n",
      "\n",
      "450\n",
      "Gan: tensor(-0.0042, device='cuda:0', grad_fn=<MaxBackward1>) tensor([0.], device='cuda:0', grad_fn=<AddBackward0>)\n",
      "\n",
      "500\n",
      "Gan: tensor(-0.0042, device='cuda:0', grad_fn=<MaxBackward1>) tensor([0.], device='cuda:0', grad_fn=<AddBackward0>)\n",
      "\n",
      "550\n",
      "Gan: tensor(-0.0042, device='cuda:0', grad_fn=<MaxBackward1>) tensor([0.], device='cuda:0', grad_fn=<AddBackward0>)\n",
      "\n",
      "600\n",
      "Gan: tensor(-0.0046, device='cuda:0', grad_fn=<MaxBackward1>) tensor([0.], device='cuda:0', grad_fn=<AddBackward0>)\n",
      "\n",
      "650\n",
      "Gan: tensor(-0.0047, device='cuda:0', grad_fn=<MaxBackward1>) tensor([0.], device='cuda:0', grad_fn=<AddBackward0>)\n",
      "\n",
      "700\n",
      "Gan: tensor(-0.0042, device='cuda:0', grad_fn=<MaxBackward1>) tensor([0.], device='cuda:0', grad_fn=<AddBackward0>)\n",
      "\n",
      "750\n",
      "Gan: tensor(-0.0046, device='cuda:0', grad_fn=<MaxBackward1>) tensor([0.], device='cuda:0', grad_fn=<AddBackward0>)\n",
      "\n",
      "800\n",
      "Gan: tensor(-0.0043, device='cuda:0', grad_fn=<MaxBackward1>) tensor([0.], device='cuda:0', grad_fn=<AddBackward0>)\n",
      "\n",
      "850\n",
      "Gan: tensor(-0.0046, device='cuda:0', grad_fn=<MaxBackward1>) tensor([0.], device='cuda:0', grad_fn=<AddBackward0>)\n",
      "\n",
      "900\n",
      "Gan: tensor(-0.0047, device='cuda:0', grad_fn=<MaxBackward1>) tensor([0.], device='cuda:0', grad_fn=<AddBackward0>)\n",
      "\n",
      "950\n",
      "Gan: tensor(-0.0043, device='cuda:0', grad_fn=<MaxBackward1>) tensor([0.], device='cuda:0', grad_fn=<AddBackward0>)\n",
      "\n",
      "1000\n",
      "Gan: tensor(-0.0047, device='cuda:0', grad_fn=<MaxBackward1>) tensor([0.], device='cuda:0', grad_fn=<AddBackward0>)\n",
      "\n",
      "1050\n",
      "Gan: tensor(-0.0048, device='cuda:0', grad_fn=<MaxBackward1>) tensor([0.], device='cuda:0', grad_fn=<AddBackward0>)\n",
      "\n",
      "1100\n",
      "Gan: tensor(-0.0046, device='cuda:0', grad_fn=<MaxBackward1>) tensor([0.], device='cuda:0', grad_fn=<AddBackward0>)\n",
      "\n",
      "1150\n",
      "Gan: tensor(-0.0044, device='cuda:0', grad_fn=<MaxBackward1>) tensor([0.], device='cuda:0', grad_fn=<AddBackward0>)\n",
      "\n",
      "1200\n",
      "Gan: tensor(-0.0045, device='cuda:0', grad_fn=<MaxBackward1>) tensor([0.], device='cuda:0', grad_fn=<AddBackward0>)\n",
      "\n",
      "1250\n",
      "Gan: tensor(-0.0049, device='cuda:0', grad_fn=<MaxBackward1>) tensor([0.], device='cuda:0', grad_fn=<AddBackward0>)\n",
      "\n",
      "1300\n",
      "Gan: tensor(-0.0047, device='cuda:0', grad_fn=<MaxBackward1>) tensor([0.], device='cuda:0', grad_fn=<AddBackward0>)\n",
      "\n",
      "1350\n",
      "Gan: tensor(-0.0049, device='cuda:0', grad_fn=<MaxBackward1>) tensor([0.], device='cuda:0', grad_fn=<AddBackward0>)\n",
      "\n",
      "1400\n",
      "Gan: tensor(-0.0049, device='cuda:0', grad_fn=<MaxBackward1>) tensor([0.], device='cuda:0', grad_fn=<AddBackward0>)\n",
      "\n",
      "1450\n",
      "Gan: tensor(-0.0048, device='cuda:0', grad_fn=<MaxBackward1>) tensor([0.], device='cuda:0', grad_fn=<AddBackward0>)\n",
      "\n",
      "1500\n",
      "Gan: tensor(-0.0045, device='cuda:0', grad_fn=<MaxBackward1>) tensor([0.], device='cuda:0', grad_fn=<AddBackward0>)\n",
      "\n",
      "1550\n",
      "Gan: tensor(-0.0055, device='cuda:0', grad_fn=<MaxBackward1>) tensor([0.], device='cuda:0', grad_fn=<AddBackward0>)\n",
      "\n",
      "1600\n",
      "Gan: tensor(-0.0055, device='cuda:0', grad_fn=<MaxBackward1>) tensor([0.], device='cuda:0', grad_fn=<AddBackward0>)\n",
      "\n",
      "1650\n",
      "Gan: tensor(-0.0048, device='cuda:0', grad_fn=<MaxBackward1>) tensor([0.], device='cuda:0', grad_fn=<AddBackward0>)\n",
      "\n",
      "1700\n",
      "Gan: tensor(-0.0049, device='cuda:0', grad_fn=<MaxBackward1>) tensor([0.], device='cuda:0', grad_fn=<AddBackward0>)\n",
      "\n",
      "1750\n",
      "Gan: tensor(-0.0050, device='cuda:0', grad_fn=<MaxBackward1>) tensor([0.], device='cuda:0', grad_fn=<AddBackward0>)\n",
      "\n",
      "1800\n",
      "Gan: tensor(-0.0047, device='cuda:0', grad_fn=<MaxBackward1>) tensor([0.], device='cuda:0', grad_fn=<AddBackward0>)\n",
      "\n",
      "1850\n",
      "Gan: tensor(-0.0053, device='cuda:0', grad_fn=<MaxBackward1>) tensor([0.], device='cuda:0', grad_fn=<AddBackward0>)\n",
      "\n",
      "1900\n",
      "Gan: tensor(-0.0052, device='cuda:0', grad_fn=<MaxBackward1>) tensor([0.], device='cuda:0', grad_fn=<AddBackward0>)\n",
      "\n",
      "1950\n",
      "Gan: tensor(-0.0053, device='cuda:0', grad_fn=<MaxBackward1>) tensor([0.], device='cuda:0', grad_fn=<AddBackward0>)\n",
      "\n",
      "2000\n",
      "Gan: tensor(-0.0053, device='cuda:0', grad_fn=<MaxBackward1>) tensor([0.], device='cuda:0', grad_fn=<AddBackward0>)\n",
      "\n"
     ]
    }
   ],
   "source": [
    "for iteration in range(int(echo)):\n",
    "\n",
    "    temp_number = 0\n",
    "    total_batch_loss = 0 \n",
    "    \n",
    "    loss2_list = []\n",
    "    loss1_sum = 0\n",
    "    loss2_sum = 0\n",
    "    loss = 0\n",
    "    if(Is_GAN==False):\n",
    "        denominator = 0\n",
    "        for index in range(0, BATCH_SIZE):\n",
    "            training_data_i, training_label, training_data, label = appen_train(\n",
    "                Generate_distribution(Agent_number_n))\n",
    "            h_loss1, h_loss2 = DiscriminatorNet(training_data_i, training_label,\n",
    "                                           training_data)\n",
    "            denominator += 1\n",
    "            loss1_sum += h_loss1\n",
    "            loss2_sum += h_loss2\n",
    "\n",
    "        loss_sum = torch.sum(loss1_sum + loss2_sum)\n",
    "        loss = (loss_sum) / denominator \n",
    "        total_batch_loss +=float(loss_sum)\n",
    "\n",
    "        opt_D.zero_grad()\n",
    "        loss.backward()\n",
    "        opt_D.step()\n",
    "\n",
    "        temp_number = iteration\n",
    "        index_train_list.append(iteration)\n",
    "        train_losses.append(total_batch_loss)\n",
    "\n",
    "\n",
    "    ## Gan \n",
    "    else:## Gan Work traning GeneratorNet\n",
    "\n",
    "        # real painting from artist\n",
    "        G_ideas = torch.randn(BATCH_SIZE, N_IDEAS,\n",
    "                              requires_grad=True).to(dev)  # random ideas\\n\n",
    "        # fake painting from G (random ideas)\n",
    "\n",
    "        G_values = GeneratorNet(G_ideas)\n",
    "        G_values , indices = torch.sort(G_values, descending=True)\n",
    "    #     print(artist_paintings)\n",
    "    #     print(G_paintings)\n",
    "\n",
    "        result_list = []\n",
    "        for index in range(BATCH_SIZE):\n",
    "            h_list = []\n",
    "            value_list_tensor, S_tensor = redistribution_value_function(\n",
    "                G_values[index])\n",
    "            for i in range(Agent_number_n):\n",
    "                h = DiscriminatorNet.calculate(\n",
    "                    value_list_tensor[i].cuda().type(torch.float32))\n",
    "                h_list.append(h)\n",
    "            h_list = torch.stack(h_list)\n",
    "            result_list.append(torch.sum(h_list)/S_tensor.cuda())\n",
    "        result_list = torch.stack(result_list)\n",
    "\n",
    "        diff_loss = torch.max(result_list)-torch.min(result_list)\n",
    "        G_loss = torch.max(- diff_loss)\n",
    "\n",
    "        opt_G.zero_grad()\n",
    "        G_loss.backward()\n",
    "        opt_G.step()\n",
    "\n",
    "    # real painting from artist\n",
    "        G_ideas = torch.randn(BATCH_SIZE, N_IDEAS,\n",
    "                              requires_grad=True).to(dev)  # random ideas\\n\n",
    "        # fake painting from G (random ideas)\n",
    "\n",
    "        G_values = GeneratorNet(G_ideas)\n",
    "        G_values , indices = torch.sort(G_values, descending=True)\n",
    "    #     print(artist_paintings)\n",
    "    #     print(G_paintings)\n",
    "\n",
    "        result_list = []\n",
    "        for index in range(BATCH_SIZE):\n",
    "            h_list = []\n",
    "            value_list_tensor, S_tensor = redistribution_value_function(\n",
    "                G_values[index])\n",
    "            for i in range(Agent_number_n):\n",
    "                h = DiscriminatorNet.calculate(\n",
    "                    value_list_tensor[i].cuda().type(torch.float32))\n",
    "                h_list.append(h)\n",
    "            h_list = torch.stack(h_list)\n",
    "            result_list.append(torch.sum(h_list)/S_tensor.cuda())\n",
    "        result_list = torch.stack(result_list)\n",
    "\n",
    "        diff_loss = torch.max(result_list)-torch.min(result_list)\n",
    "\n",
    "        D_loss = torch.where((Agent_number_n-1)>torch.min(result_list),\n",
    "            torch.square(((Agent_number_n-1)-torch.min(result_list))),\n",
    "            torch.zeros(1).to(dev)\n",
    "          )   + torch.where((Agent_number_n-Alpha)<torch.max(result_list),\n",
    "                        torch.square((torch.max(result_list)-(Agent_number_n-Alpha)))/10000,\n",
    "                        torch.zeros(1).to(dev)\n",
    "                      )\n",
    "\n",
    "\n",
    "        opt_D.zero_grad()\n",
    "        D_loss.backward()\n",
    "        opt_D.step()\n",
    "\n",
    "\n",
    "\n",
    "    scheduler_D.step()\n",
    "    scheduler_G.step()\n",
    "    temp_number = iteration\n",
    "    if (iteration%50 == 0):\n",
    "        print(temp_number)\n",
    "        if(Is_GAN):\n",
    "            print(\"Gan:\",G_loss,D_loss)\n",
    "            print()\n",
    "        else:\n",
    "            print(loss,float(loss1_sum),float(loss2_sum))\n",
    "            print()\n",
    "        "
   ]
  },
  {
   "cell_type": "code",
   "execution_count": 13,
   "metadata": {
    "ExecuteTime": {
     "end_time": "2021-06-25T05:59:31.664294Z",
     "start_time": "2021-06-25T05:59:31.411882Z"
    }
   },
   "outputs": [
    {
     "data": {
      "image/png": "[encoded data removed]",
      "text/plain": [
       "<Figure size 432x288 with 1 Axes>"
      ]
     },
     "metadata": {
      "needs_background": "light"
     },
     "output_type": "display_data"
    }
   ],
   "source": [
    "plt.ylim(0, 1.0)\n",
    "plt.plot(index_test_list,test_losses)\n",
    "plt.ylabel('test loss')\n",
    "\n",
    "plt.show()"
   ]
  },
  {
   "cell_type": "code",
   "execution_count": 14,
   "metadata": {
    "ExecuteTime": {
     "end_time": "2021-06-25T05:59:31.679762Z",
     "start_time": "2021-06-25T05:59:31.666290Z"
    }
   },
   "outputs": [],
   "source": [
    "if(echo!=0):\n",
    "    torch.save(DiscriminatorNet, \"save/Deep_learning_D_6_supervised_1\")\n",
    "    if(Is_GAN):\n",
    "        torch.save(GeneratorNet, \"save/Deep_learning_G_6\")"
   ]
  },
  {
   "cell_type": "code",
   "execution_count": 15,
   "metadata": {
    "ExecuteTime": {
     "end_time": "2021-06-25T06:00:56.191464Z",
     "start_time": "2021-06-25T05:59:31.681758Z"
    }
   },
   "outputs": [
    {
     "name": "stdout",
     "output_type": "stream",
     "text": [
      "5.449877017714683 5.042290210723877 0.40758680699080596\n",
      "5.0856997807633135\n"
     ]
    }
   ],
   "source": [
    "denominator = 0\n",
    "result_list = []\n",
    "for index in range(len(testing_data)):\n",
    "    h_list = []\n",
    "    for i in range(Agent_number_n):\n",
    "        h = DiscriminatorNet.calculate(torch.tensor(testing_data[index][i]).to(dev).type(torch.float32))\n",
    "        h_list.append(float(h))\n",
    "    \n",
    "    #print(sum(h_list),h_list,sum(h_list)/testing_label[index])\n",
    "    result_list.append(sum(h_list)/testing_label[index])\n",
    "    \n",
    "\n",
    "print(max(result_list),min(result_list),max(result_list)-min(result_list))\n",
    "print(sum(result_list)/len(result_list))"
   ]
  },
  {
   "cell_type": "code",
   "execution_count": 16,
   "metadata": {
    "ExecuteTime": {
     "end_time": "2021-06-25T06:00:57.695998Z",
     "start_time": "2021-06-25T06:00:56.193459Z"
    }
   },
   "outputs": [
    {
     "data": {
      "image/png": "[encoded data removed]",
      "text/plain": [
       "<Figure size 432x288 with 1 Axes>"
      ]
     },
     "metadata": {
      "needs_background": "light"
     },
     "output_type": "display_data"
    }
   ],
   "source": [
    "plt.hist(result_list,bins=500)\n",
    "\n",
    "plt.title(\"Means\", y=1.015, fontsize=20)\n",
    "plt.axvline(x=sum(result_list)/len(result_list), linestyle='--', linewidth=2.5, label=\"sample mean\", c='orange')\n",
    "plt.xlabel(\"samples\", labelpad=14)\n",
    "plt.ylabel(\"frequency of occurence\", labelpad=14)\n",
    "plt.legend();\n",
    "\n",
    "result_list.sort()\n",
    "\n",
    "plt.axvline(x=result_list[int(len(result_list)*0.01)], linestyle='--', linewidth=0.5, label=\"1%\", c='b')\n",
    "plt.axvline(x=result_list[int(len(result_list)*0.99)], linestyle='--', linewidth=0.5, label=\"99%\", c='r')\n",
    "\n",
    "\n",
    "plt.show()"
   ]
  },
  {
   "cell_type": "code",
   "execution_count": 17,
   "metadata": {
    "ExecuteTime": {
     "end_time": "2021-06-25T06:01:05.647039Z",
     "start_time": "2021-06-25T06:00:57.697993Z"
    },
    "run_control": {
     "marked": true
    }
   },
   "outputs": [
    {
     "name": "stdout",
     "output_type": "stream",
     "text": [
      "[[[0.5745617  0.55045325 0.52776825 0.45615727 0.31551304]\n",
      "  [0.5955849  0.55045325 0.52776825 0.45615727 0.31551304]\n",
      "  [0.5955849  0.5745617  0.52776825 0.45615727 0.31551304]\n",
      "  [0.5955849  0.5745617  0.55045325 0.45615727 0.31551304]\n",
      "  [0.5955849  0.5745617  0.55045325 0.52776825 0.31551304]\n",
      "  [0.5955849  0.5745617  0.55045325 0.52776825 0.45615727]]\n",
      "\n",
      " [[0.52460784 0.513712   0.51040447 0.49230036 0.47335052]\n",
      "  [0.5252358  0.513712   0.51040447 0.49230036 0.47335052]\n",
      "  [0.5252358  0.52460784 0.51040447 0.49230036 0.47335052]\n",
      "  [0.5252358  0.52460784 0.513712   0.49230036 0.47335052]\n",
      "  [0.5252358  0.52460784 0.513712   0.51040447 0.47335052]\n",
      "  [0.5252358  0.52460784 0.513712   0.51040447 0.49230036]]\n",
      "\n",
      " [[0.5464682  0.52239865 0.4890266  0.4364326  0.4097444 ]\n",
      "  [0.58080965 0.52239865 0.4890266  0.4364326  0.4097444 ]\n",
      "  [0.58080965 0.5464682  0.4890266  0.4364326  0.4097444 ]\n",
      "  [0.58080965 0.5464682  0.52239865 0.4364326  0.4097444 ]\n",
      "  [0.58080965 0.5464682  0.52239865 0.4890266  0.4097444 ]\n",
      "  [0.58080965 0.5464682  0.52239865 0.4890266  0.4364326 ]]\n",
      "\n",
      " ...\n",
      "\n",
      " [[0.4937468  0.4727652  0.45209232 0.4375936  0.4292398 ]\n",
      "  [0.56421983 0.4727652  0.45209232 0.4375936  0.4292398 ]\n",
      "  [0.56421983 0.4937468  0.45209232 0.4375936  0.4292398 ]\n",
      "  [0.56421983 0.4937468  0.4727652  0.4375936  0.4292398 ]\n",
      "  [0.56421983 0.4937468  0.4727652  0.45209232 0.4292398 ]\n",
      "  [0.56421983 0.4937468  0.4727652  0.45209232 0.4375936 ]]\n",
      "\n",
      " [[0.5570244  0.5509466  0.53765017 0.45386708 0.4281505 ]\n",
      "  [0.5697078  0.5509466  0.53765017 0.45386708 0.4281505 ]\n",
      "  [0.5697078  0.5570244  0.53765017 0.45386708 0.4281505 ]\n",
      "  [0.5697078  0.5570244  0.5509466  0.45386708 0.4281505 ]\n",
      "  [0.5697078  0.5570244  0.5509466  0.53765017 0.4281505 ]\n",
      "  [0.5697078  0.5570244  0.5509466  0.53765017 0.45386708]]\n",
      "\n",
      " [[0.54180515 0.5258242  0.50683266 0.49933046 0.46127436]\n",
      "  [0.54193366 0.5258242  0.50683266 0.49933046 0.46127436]\n",
      "  [0.54193366 0.54180515 0.50683266 0.49933046 0.46127436]\n",
      "  [0.54193366 0.54180515 0.5258242  0.49933046 0.46127436]\n",
      "  [0.54193366 0.54180515 0.5258242  0.50683266 0.46127436]\n",
      "  [0.54193366 0.54180515 0.5258242  0.50683266 0.49933046]]]\n",
      "[3.02003846 3.03961095 2.98488012 ... 2.84965757 3.09734657 3.07700047]\n"
     ]
    }
   ],
   "source": [
    "def appen_test_G(x_list):\n",
    "    global temp_list\n",
    "                \n",
    "    S= max(sum(x_list),1.0);\n",
    "    temp_list = []\n",
    "    \n",
    "    for i in range(Agent_number_n):\n",
    "        temp = []\n",
    "        for j in range(Agent_number_n):\n",
    "            if(i!=j):\n",
    "                temp.append(x_list[j])\n",
    "        appen(temp,S)\n",
    "    testing_data_G.append(temp_list)\n",
    "    testing_label_G.append(S)\n",
    "def read_testing_data_G():\n",
    "    for i in range(10000):\n",
    "        #appen_test_G(sorted(np.random.rand(Agent_number_n), reverse=True));\n",
    "        G_ideas = torch.randn(N_IDEAS).to(dev)  # random ideas\\n\n",
    "        G_values = GeneratorNet(G_ideas)\n",
    "        G_values , indices = torch.sort(G_values, descending=True)\n",
    "        appen_test_G(G_values.detach().cpu().numpy()) \n",
    "\n",
    "testing_data_G = []\n",
    "testing_label_G = []\n",
    "read_testing_data_G()\n",
    "testing_data_G=np.array(testing_data_G)\n",
    "testing_label_G=np.array(testing_label_G)\n",
    "print(testing_data_G)\n",
    "print(testing_label_G)"
   ]
  },
  {
   "cell_type": "code",
   "execution_count": 18,
   "metadata": {
    "ExecuteTime": {
     "end_time": "2021-06-25T06:02:29.016624Z",
     "start_time": "2021-06-25T06:01:05.649034Z"
    }
   },
   "outputs": [
    {
     "name": "stdout",
     "output_type": "stream",
     "text": [
      "5.067333511562334 5.06075658507565 0.00657692648668462\n",
      "5.065106129954284\n"
     ]
    }
   ],
   "source": [
    "\n",
    "result_list_G = []\n",
    "for index in range(len(testing_data_G)):\n",
    "    h_list = []\n",
    "    for i in range(Agent_number_n):\n",
    "        h = DiscriminatorNet.calculate(torch.tensor(testing_data_G[index][i]).to(dev).type(torch.float32))\n",
    "        h_list.append(float(h))\n",
    "    \n",
    "    #print(sum(h_list),h_list,sum(h_list)/testing_label[index])\n",
    "    result_list_G.append(sum(h_list)/testing_label_G[index])\n",
    "    \n",
    "\n",
    "print(max(result_list_G),min(result_list_G),max(result_list_G)-min(result_list_G))\n",
    "print(sum(result_list_G)/len(result_list_G))"
   ]
  },
  {
   "cell_type": "code",
   "execution_count": 19,
   "metadata": {
    "ExecuteTime": {
     "end_time": "2021-06-25T06:02:30.269846Z",
     "start_time": "2021-06-25T06:02:29.017621Z"
    }
   },
   "outputs": [
    {
     "data": {
      "image/png": "[encoded data removed]",
      "text/plain": [
       "<Figure size 432x288 with 1 Axes>"
      ]
     },
     "metadata": {
      "needs_background": "light"
     },
     "output_type": "display_data"
    }
   ],
   "source": [
    "plt.hist(result_list_G,bins=500)\n",
    "\n",
    "plt.title(\"Means\", y=1.015, fontsize=20)\n",
    "plt.axvline(x=sum(result_list_G)/len(result_list_G), linestyle='--', linewidth=2.5, label=\"sample mean\", c='orange')\n",
    "plt.xlabel(\"samples\", labelpad=14)\n",
    "plt.ylabel(\"frequency of occurence\", labelpad=14)\n",
    "plt.legend();\n",
    "\n",
    "result_list_G.sort()\n",
    "\n",
    "plt.axvline(x=result_list[int(len(result_list_G)*0.01)], linestyle='--', linewidth=0.5, label=\"1%\", c='b')\n",
    "plt.axvline(x=result_list[int(len(result_list_G)*0.99)], linestyle='--', linewidth=0.5, label=\"99%\", c='r')\n",
    "\n",
    "\n",
    "plt.show()"
   ]
  },
  {
   "cell_type": "code",
   "execution_count": 20,
   "metadata": {
    "ExecuteTime": {
     "end_time": "2021-06-25T06:02:31.455727Z",
     "start_time": "2021-06-25T06:02:30.271840Z"
    }
   },
   "outputs": [
    {
     "name": "stdout",
     "output_type": "stream",
     "text": [
      "5.449877017714683 5.042290210723877 0.40758680699080596\n"
     ]
    },
    {
     "data": {
      "image/png": "[encoded data removed]",
      "text/plain": [
       "<Figure size 432x288 with 1 Axes>"
      ]
     },
     "metadata": {
      "needs_background": "light"
     },
     "output_type": "display_data"
    }
   ],
   "source": [
    "final_list = result_list + result_list_G\n",
    "\n",
    "print(max(final_list),min(final_list),max(final_list)-min(final_list))\n",
    "\n",
    "\n",
    "plt.hist(final_list,bins=500)\n",
    "\n",
    "plt.title(\"Means\", y=1.015, fontsize=20)\n",
    "plt.axvline(x=sum(final_list)/len(final_list), linestyle='--', linewidth=2.5, label=\"sample mean\", c='orange')\n",
    "plt.xlabel(\"samples\", labelpad=14)\n",
    "plt.ylabel(\"frequency of occurence\", labelpad=14)\n",
    "plt.legend();\n",
    "\n",
    "final_list.sort()\n",
    "\n",
    "plt.axvline(x=final_list[int(len(final_list)*0.01)], linestyle='--', linewidth=0.5, label=\"1%\", c='b')\n",
    "plt.axvline(x=final_list[int(len(final_list)*0.99)], linestyle='--', linewidth=0.5, label=\"99%\", c='r')\n",
    "\n",
    "\n",
    "plt.show()"
   ]
  },
  {
   "cell_type": "markdown",
   "metadata": {},
   "source": [
    " "
   ]
  }
 ],
 "metadata": {
  "hide_input": false,
  "kernelspec": {
   "display_name": "Python 3",
   "language": "python",
   "name": "python3"
  },
  "language_info": {
   "codemirror_mode": {
    "name": "ipython",
    "version": 3
   },
   "file_extension": ".py",
   "mimetype": "text/x-python",
   "name": "python",
   "nbconvert_exporter": "python",
   "pygments_lexer": "ipython3",
   "version": "3.8.8"
  },
  "varInspector": {
   "cols": {
    "lenName": 16,
    "lenType": 16,
    "lenVar": 40
   },
   "kernels_config": {
    "python": {
     "delete_cmd_postfix": "",
     "delete_cmd_prefix": "del ",
     "library": "var_list.py",
     "varRefreshCmd": "print(var_dic_list())"
    },
    "r": {
     "delete_cmd_postfix": ") ",
     "delete_cmd_prefix": "rm(",
     "library": "var_list.r",
     "varRefreshCmd": "cat(var_dic_list()) "
    }
   },
   "types_to_exclude": [
    "module",
    "function",
    "builtin_function_or_method",
    "instance",
    "_Feature"
   ],
   "window_display": false
  }
 },
 "nbformat": 4,
 "nbformat_minor": 4
}
