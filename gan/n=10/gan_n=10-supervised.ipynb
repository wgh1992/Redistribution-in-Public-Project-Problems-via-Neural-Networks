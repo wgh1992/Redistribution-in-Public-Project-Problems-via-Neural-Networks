{
 "cells": [
  {
   "cell_type": "code",
   "execution_count": 1,
   "metadata": {
    "ExecuteTime": {
     "end_time": "2021-06-19T04:35:05.165807Z",
     "start_time": "2021-06-19T04:35:03.033174Z"
    }
   },
   "outputs": [
    {
     "name": "stdout",
     "output_type": "stream",
     "text": [
      "pygame 2.0.1 (SDL 2.0.14, Python 3.8.3)\n",
      "Hello from the pygame community. https://www.pygame.org/contribute.html\n"
     ]
    },
    {
     "name": "stderr",
     "output_type": "stream",
     "text": [
      "D:\\ComputerSoftwares\\Anaconda\\lib\\site-packages\\sklearn\\utils\\deprecation.py:143: FutureWarning: The sklearn.datasets.samples_generator module is  deprecated in version 0.22 and will be removed in version 0.24. The corresponding classes / functions should instead be imported from sklearn.datasets. Anything that cannot be imported from sklearn.datasets is now part of the private API.\n",
      "  warnings.warn(message, FutureWarning)\n"
     ]
    },
    {
     "name": "stdout",
     "output_type": "stream",
     "text": [
      "cuda:0\n"
     ]
    }
   ],
   "source": [
    "\n",
    "import pygame\n",
    "import random\n",
    "import os\n",
    "import time\n",
    "import numpy as np\n",
    "import math\n",
    "import torch\n",
    "import torch.nn.functional\n",
    "import matplotlib.pyplot as plt\n",
    "import torch.optim as opt\n",
    "from torch.autograd import Variable\n",
    "from sklearn.model_selection import train_test_split\n",
    "\n",
    "import scipy.stats as st\n",
    "from sklearn.datasets.samples_generator import make_blobs\n",
    "from matplotlib.colors import LogNorm \n",
    "import matplotlib.cm as cm\n",
    "import torch.nn as nn\n",
    "import numpy as np\n",
    "import matplotlib.pyplot as plt\n",
    "import plotly.graph_objects as go\n",
    "import plotly.express as px\n",
    "from scipy.interpolate import griddata\n",
    "if torch.cuda.is_available():  \n",
    "    dev = \"cuda:0\" \n",
    "else:  \n",
    "    dev = \"cpu\"  \n",
    "\n",
    "print(dev)\n",
    "\n"
   ]
  },
  {
   "cell_type": "code",
   "execution_count": 2,
   "metadata": {
    "ExecuteTime": {
     "end_time": "2021-06-19T04:35:05.181763Z",
     "start_time": "2021-06-19T04:35:05.166738Z"
    }
   },
   "outputs": [],
   "source": [
    "global temp_list\n",
    "temp_list = []\n",
    "Agent_number_n=10;\n",
    "Alpha = 0.7\n",
    "\n",
    "# Hyper Parameters\n",
    "echo = 2001 \n",
    "BATCH_SIZE = 64\n",
    "LR_G = 0.001           # learning rate for generator\n",
    "LR_D = 0.001           # learning rate for discriminator\n",
    "N_IDEAS = Agent_number_n             # think of this as number of ideas for generating an art work (Generator)\n",
    "ART_COMPONENTS = Agent_number_n     # it could be total point G can draw in the canvas\n",
    "\n",
    "Is_GAN = True # if use Gan\n",
    "\n",
    "def Generate_distribution(Agent_number_n):\n",
    "    return sorted(np.random.rand(Agent_number_n), reverse=True)\n",
    "    #return sorted(np.random.normal(normalloc,normalscale,Agent_number_n))"
   ]
  },
  {
   "cell_type": "code",
   "execution_count": 3,
   "metadata": {
    "ExecuteTime": {
     "end_time": "2021-06-19T04:35:05.197713Z",
     "start_time": "2021-06-19T04:35:05.182695Z"
    }
   },
   "outputs": [],
   "source": [
    "new_input = 3\n",
    "def Dimensionality_reduction(data_sorted):\n",
    "    out_data = torch.ones(new_input).cuda()\n",
    "    out_data[0] = torch.max(data_sorted) \n",
    "    out_data[1] = torch.sum(data_sorted) \n",
    "    \n",
    "    temp_list = []\n",
    "    for i in range(len(data_sorted)-1):\n",
    "        temp_list.append(data_sorted[i] - data_sorted[i + 1])\n",
    "    \n",
    "    temp_tensor = torch.stack(temp_list)    \n",
    "    out_data[2] = torch.max(temp_tensor) \n",
    "    return out_data\n"
   ]
  },
  {
   "cell_type": "code",
   "execution_count": 4,
   "metadata": {
    "ExecuteTime": {
     "end_time": "2021-06-19T04:35:05.763662Z",
     "start_time": "2021-06-19T04:35:05.199651Z"
    }
   },
   "outputs": [
    {
     "name": "stdout",
     "output_type": "stream",
     "text": [
      "[[[0.85491065 0.84723765 0.77493081 ... 0.30244251 0.27110581 0.11905407]\n",
      "  [0.96179223 0.84723765 0.77493081 ... 0.30244251 0.27110581 0.11905407]\n",
      "  [0.96179223 0.85491065 0.77493081 ... 0.30244251 0.27110581 0.11905407]\n",
      "  ...\n",
      "  [0.96179223 0.85491065 0.84723765 ... 0.40444323 0.27110581 0.11905407]\n",
      "  [0.96179223 0.85491065 0.84723765 ... 0.40444323 0.30244251 0.11905407]\n",
      "  [0.96179223 0.85491065 0.84723765 ... 0.40444323 0.30244251 0.27110581]]\n",
      "\n",
      " [[0.81150607 0.78400815 0.75396538 ... 0.36006456 0.34185005 0.04497307]\n",
      "  [0.86432455 0.78400815 0.75396538 ... 0.36006456 0.34185005 0.04497307]\n",
      "  [0.86432455 0.81150607 0.75396538 ... 0.36006456 0.34185005 0.04497307]\n",
      "  ...\n",
      "  [0.86432455 0.81150607 0.78400815 ... 0.3677938  0.34185005 0.04497307]\n",
      "  [0.86432455 0.81150607 0.78400815 ... 0.3677938  0.36006456 0.04497307]\n",
      "  [0.86432455 0.81150607 0.78400815 ... 0.3677938  0.36006456 0.34185005]]\n",
      "\n",
      " [[0.97974126 0.93873775 0.76912241 ... 0.31901809 0.31629092 0.30600889]\n",
      "  [0.99037776 0.93873775 0.76912241 ... 0.31901809 0.31629092 0.30600889]\n",
      "  [0.99037776 0.97974126 0.76912241 ... 0.31901809 0.31629092 0.30600889]\n",
      "  ...\n",
      "  [0.99037776 0.97974126 0.93873775 ... 0.39109237 0.31629092 0.30600889]\n",
      "  [0.99037776 0.97974126 0.93873775 ... 0.39109237 0.31901809 0.30600889]\n",
      "  [0.99037776 0.97974126 0.93873775 ... 0.39109237 0.31901809 0.31629092]]\n",
      "\n",
      " ...\n",
      "\n",
      " [[0.72578819 0.68455234 0.67156691 ... 0.20711427 0.17988443 0.10561046]\n",
      "  [0.82483237 0.68455234 0.67156691 ... 0.20711427 0.17988443 0.10561046]\n",
      "  [0.82483237 0.72578819 0.67156691 ... 0.20711427 0.17988443 0.10561046]\n",
      "  ...\n",
      "  [0.82483237 0.72578819 0.68455234 ... 0.32913073 0.17988443 0.10561046]\n",
      "  [0.82483237 0.72578819 0.68455234 ... 0.32913073 0.20711427 0.10561046]\n",
      "  [0.82483237 0.72578819 0.68455234 ... 0.32913073 0.20711427 0.17988443]]\n",
      "\n",
      " [[0.7844877  0.73102373 0.67115111 ... 0.15183991 0.08822544 0.07255212]\n",
      "  [0.86521752 0.73102373 0.67115111 ... 0.15183991 0.08822544 0.07255212]\n",
      "  [0.86521752 0.7844877  0.67115111 ... 0.15183991 0.08822544 0.07255212]\n",
      "  ...\n",
      "  [0.86521752 0.7844877  0.73102373 ... 0.60212506 0.08822544 0.07255212]\n",
      "  [0.86521752 0.7844877  0.73102373 ... 0.60212506 0.15183991 0.07255212]\n",
      "  [0.86521752 0.7844877  0.73102373 ... 0.60212506 0.15183991 0.08822544]]\n",
      "\n",
      " [[0.91443594 0.80384576 0.75981299 ... 0.48397999 0.4413875  0.16839778]\n",
      "  [0.96905967 0.80384576 0.75981299 ... 0.48397999 0.4413875  0.16839778]\n",
      "  [0.96905967 0.91443594 0.75981299 ... 0.48397999 0.4413875  0.16839778]\n",
      "  ...\n",
      "  [0.96905967 0.91443594 0.80384576 ... 0.51838348 0.4413875  0.16839778]\n",
      "  [0.96905967 0.91443594 0.80384576 ... 0.51838348 0.48397999 0.16839778]\n",
      "  [0.96905967 0.91443594 0.80384576 ... 0.51838348 0.48397999 0.4413875 ]]]\n",
      "[5.68792166 5.484856   5.95936404 ... 4.76180512 5.27346119 6.43061076]\n"
     ]
    }
   ],
   "source": [
    "def h_3_star(a, b, t):\n",
    "    return a - min(a, t) + b - min(b, t) + max(min(a, t)+min(b, t), 2*t/3) + 1/2 * max(min(a, t)+min(b, t), t) - 1/2 * max(max(min(a, t), min(b, t)), 2*t/3) - t/6\n",
    "\n",
    "\n",
    "def f_function(a, b, z):\n",
    "    if(z >= 1):\n",
    "        return (a+b)/2 + z/3\n",
    "    else:\n",
    "        return z/3 + h_3_star(a, b, 1-z)/2\n",
    "\n",
    "def h_function_label(input_list):\n",
    "    #input_list = sorted(input_list)\n",
    "    g_list = []\n",
    "    for j1 in range(len(input_list) ):\n",
    "        for j2 in range(len(input_list)):\n",
    "            if(j1 != j2):\n",
    "                a = input_list[j1]\n",
    "                b = input_list[j2]\n",
    "                z = sum(input_list)- a-b\n",
    "\n",
    "                g_list.append( f_function(a, b, z) * (Agent_number_n-1))\n",
    "    h = sum(g_list) * 3 /  (Agent_number_n) /  (Agent_number_n-1) /  (Agent_number_n - 2)\n",
    "    return h\n",
    "\n",
    "def appen(_x_list,y):\n",
    "    global temp_list\n",
    "    temp_list.append(_x_list)\n",
    "    \n",
    "def appen_train(x_list):\n",
    "    global temp_list\n",
    "                \n",
    "    S= max(sum(x_list),1.0);\n",
    "    temp_list = []\n",
    "    h_list = []\n",
    "    for i in range(Agent_number_n):\n",
    "        temp = []\n",
    "        for j in range(Agent_number_n):\n",
    "            if(i!=j):\n",
    "                temp.append(x_list[j])\n",
    "        appen(temp,S)\n",
    "        \n",
    "        h = h_function_label(temp)\n",
    "        h_list.append(float(h))\n",
    "    temp_list = np.array(temp_list)\n",
    "    x_list = np.array(x_list)\n",
    "    return temp_list,S,x_list,h_list\n",
    "    \n",
    "\n",
    "def appen_test(x_list):\n",
    "    global temp_list\n",
    "                \n",
    "    S= max(sum(x_list),1.0);\n",
    "    temp_list = []\n",
    "    \n",
    "    for i in range(Agent_number_n):\n",
    "        temp = []\n",
    "        for j in range(Agent_number_n):\n",
    "            if(i!=j):\n",
    "                temp.append(x_list[j])\n",
    "        appen(temp,S)\n",
    "    testing_data.append(temp_list)\n",
    "    testing_label.append(S)\n",
    "    temp_list = np.array(temp_list)\n",
    "    return temp_list,S\n",
    "    \n",
    "\n",
    "def read_testing_data():\n",
    "    for i in range(10000):\n",
    "        appen_test(Generate_distribution(Agent_number_n));\n",
    "                        \n",
    "            \n",
    "\n",
    "testing_data=[]\n",
    "testing_label=[]\n",
    "S=1.0\n",
    "read_testing_data();\n",
    "\n",
    "testing_data=np.array(testing_data)\n",
    "testing_label=np.array(testing_label)\n",
    "print(testing_data)\n",
    "print(testing_label)"
   ]
  },
  {
   "cell_type": "code",
   "execution_count": 5,
   "metadata": {
    "ExecuteTime": {
     "end_time": "2021-06-19T04:35:05.779620Z",
     "start_time": "2021-06-19T04:35:05.764661Z"
    }
   },
   "outputs": [],
   "source": [
    "def weight_init(m):\n",
    "    if isinstance(m, torch.nn.Conv2d):\n",
    "        torch.nn.init.xavier_normal_(m.weight)\n",
    "        torch.nn.init.zeros_(m.bias)\n",
    "    elif isinstance(m, torch.nn.Linear):\n",
    "        torch.nn.init.xavier_normal_(m.weight)\n",
    "        torch.nn.init.normal_(m.bias, mean=0.0, std=0.01)\n",
    "\n",
    "class Net(torch.nn.Module):\n",
    "    def __init__(self):\n",
    "\n",
    "        super(Net, self).__init__()\n",
    "        \n",
    "        self.input_dim = new_input# (Agent_number_n-1)\n",
    "        self.hidden_dim = 128\n",
    "        self.output_dim = 1\n",
    "        self.hidden_layer_count = 6 \n",
    "        \n",
    "        current_dim = self.input_dim\n",
    "        self.layers = torch.nn.ModuleList()\n",
    "        for i in range(self.hidden_layer_count):\n",
    "            self.layers.append(torch.nn.Linear(current_dim, self.hidden_dim))\n",
    "            current_dim = self.hidden_dim\n",
    "        self.layers.append(torch.nn.Linear(current_dim, self.output_dim))\n",
    "\n",
    "    def calculate(self, value_list):\n",
    "        h = Dimensionality_reduction(value_list)\n",
    "        for layer in self.layers:\n",
    "            h = torch.relu(layer(h))\n",
    "        return h\n",
    "\n",
    "    def forward(self, input_list,input_label,list_x):\n",
    "        global iteration,echo,target_order\n",
    "        loss1 = 0\n",
    "        loss2 = 0\n",
    "        loss3 = 0\n",
    "        input_list = torch.from_numpy(\n",
    "            np.array(input_list)).to(dev).type(torch.float32)\n",
    "        h_list = []\n",
    "\n",
    "        for i in range(Agent_number_n):\n",
    "            h = self.calculate(input_list[i])\n",
    "            h_list.append(h)\n",
    "#             loss3 += torch.square(h_function_2(input_list)-h2[1])\n",
    "            \n",
    "        input_label = torch.from_numpy(\n",
    "            np.array(input_label)).to(dev).type(torch.float32)\n",
    "        sum_h = torch.sum(torch.cat(h_list)).to(dev)\n",
    "\n",
    "\n",
    "        loss1 = torch.where((Agent_number_n-1)*input_label>sum_h,\n",
    "                        torch.square(((Agent_number_n-1)*input_label-sum_h)),\n",
    "                        torch.zeros(1).to(dev)\n",
    "                      )\n",
    "\n",
    "        loss2 = torch.where((Agent_number_n-Alpha)*input_label<sum_h,\n",
    "                        torch.square((sum_h-(Agent_number_n-Alpha)*input_label))/100,\n",
    "                        torch.zeros(1).to(dev)\n",
    "                      )\n",
    "\n",
    "\n",
    "        return loss1,loss2\n",
    "    \n",
    "    def supervised_loss(self, input_list,label):\n",
    "        global iteration,echo,target_order\n",
    "        input_list = torch.from_numpy(\n",
    "            np.array(input_list)).to(dev).type(torch.float32)\n",
    "        loss = 0 \n",
    "        for i in range(Agent_number_n):\n",
    "            h = self.calculate(input_list[i])\n",
    "            loss += torch.square(h - label[i])\n",
    "        return loss"
   ]
  },
  {
   "cell_type": "code",
   "execution_count": 6,
   "metadata": {
    "ExecuteTime": {
     "end_time": "2021-06-19T04:35:05.795578Z",
     "start_time": "2021-06-19T04:35:05.780617Z"
    }
   },
   "outputs": [],
   "source": [
    "def redistribution_value_function(input_tensor):\n",
    "    S = torch.max(torch.sum(input_tensor), torch.ones(1).to(dev))\n",
    "    temp_list = []\n",
    "\n",
    "\n",
    "    for i in range(Agent_number_n):\n",
    "        temp = []\n",
    "        \n",
    "        for j in range(Agent_number_n):\n",
    "            if(i != j):\n",
    "                temp .append(input_tensor[j])\n",
    "                \n",
    "        temp = torch.stack(temp)\n",
    "        temp_list.append(temp)\n",
    "    return torch.stack(temp_list), S\n",
    "\n",
    "GeneratorNet = nn.Sequential(                      # Generator\n",
    "    # random ideas (could from normal distribution)\n",
    "    nn.Linear(N_IDEAS, 64),\n",
    "    nn.ReLU(),\n",
    "    nn.Linear(64, 64),\n",
    "    nn.ReLU(),\n",
    "    nn.Linear(64, 64),\n",
    "    nn.ReLU(),\n",
    "    # making a painting from these random ideas\n",
    "    nn.Linear(64, ART_COMPONENTS),\n",
    "    nn.Sigmoid(),\n",
    ")"
   ]
  },
  {
   "cell_type": "code",
   "execution_count": 7,
   "metadata": {
    "ExecuteTime": {
     "end_time": "2021-06-19T04:35:07.514523Z",
     "start_time": "2021-06-19T04:35:05.797572Z"
    },
    "run_control": {
     "marked": false
    }
   },
   "outputs": [],
   "source": [
    "random.seed(2000)\n",
    "torch.manual_seed(256)\n",
    "DiscriminatorNet  = Net()\n",
    "DiscriminatorNet.apply(weight_init)\n",
    "GeneratorNet.apply(weight_init)\n",
    "DiscriminatorNet = torch.load(\"save/Deep_learning_D_10_supervised_1\")\n",
    "if(Is_GAN):\n",
    "    GeneratorNet = torch.load(\"save/Deep_learning_G_10\")\n",
    "DiscriminatorNet.to(dev)\n",
    "GeneratorNet.to(dev)\n",
    "\n",
    "opt_D = torch.optim.Adam(DiscriminatorNet.parameters(), lr=LR_D)\n",
    "opt_G = torch.optim.Adam(GeneratorNet.parameters(), lr=LR_G)\n",
    "\n",
    "\n",
    "scheduler_D = torch.optim.lr_scheduler.StepLR(opt_D, step_size=100, gamma=0.98)\n",
    "scheduler_G = torch.optim.lr_scheduler.StepLR(opt_G, step_size=100, gamma=0.98)\n",
    "\n",
    "index_train_list = []\n",
    "index_test_list = []\n",
    "train_losses = []\n",
    "test_losses = []"
   ]
  },
  {
   "cell_type": "code",
   "execution_count": 8,
   "metadata": {
    "ExecuteTime": {
     "end_time": "2021-06-19T04:35:07.530496Z",
     "start_time": "2021-06-19T04:35:07.516517Z"
    }
   },
   "outputs": [],
   "source": [
    "#supervised\n",
    "index_supervisedtrain_list = []\n",
    "supervisedtrain_losses = []\n",
    "for iteration in range(0):\n",
    "\n",
    "    temp_number = 0\n",
    "    total_batch_loss = 0 \n",
    "    \n",
    "    loss_sum = 0\n",
    "    denominator = 0\n",
    "    for index in range(0, BATCH_SIZE):\n",
    "        training_data_i, training_S, training_data,label = appen_train(\n",
    "            Generate_distribution(Agent_number_n))\n",
    "        h_loss = DiscriminatorNet.supervised_loss(training_data_i, label)\n",
    "        denominator += 1\n",
    "        loss_sum += h_loss\n",
    "\n",
    "    loss_sum = torch.sum(loss_sum)\n",
    "    loss = (loss_sum) / denominator \n",
    "    total_batch_loss += float(loss_sum)\n",
    "\n",
    "    opt_D.zero_grad()\n",
    "    loss.backward()\n",
    "    opt_D.step()\n",
    "\n",
    "    if (iteration%100 == 0):\n",
    "        print(iteration,loss,total_batch_loss)\n",
    "        index_supervisedtrain_list.append(iteration)\n",
    "        supervisedtrain_losses.append(total_batch_loss)\n",
    "    scheduler_D.step()"
   ]
  },
  {
   "cell_type": "code",
   "execution_count": 9,
   "metadata": {
    "ExecuteTime": {
     "end_time": "2021-06-19T04:35:07.653169Z",
     "start_time": "2021-06-19T04:35:07.531494Z"
    }
   },
   "outputs": [
    {
     "data": {
      "image/png": "[encoded data removed]",
      "text/plain": [
       "<Figure size 432x288 with 1 Axes>"
      ]
     },
     "metadata": {
      "needs_background": "light"
     },
     "output_type": "display_data"
    }
   ],
   "source": [
    "plt.ylim(0, 0.1)\n",
    "plt.plot(index_supervisedtrain_list ,supervisedtrain_losses)\n",
    "plt.ylabel('supervised train loss')\n",
    "\n",
    "plt.show()"
   ]
  },
  {
   "cell_type": "code",
   "execution_count": 10,
   "metadata": {
    "ExecuteTime": {
     "end_time": "2021-06-19T04:35:07.763872Z",
     "start_time": "2021-06-19T04:35:07.654166Z"
    }
   },
   "outputs": [],
   "source": [
    "if(echo!=0):\n",
    "    torch.save(DiscriminatorNet, \"save/Deep_learning_D_10_supervised\")\n",
    "    if(Is_GAN):\n",
    "        torch.save(GeneratorNet, \"save/Deep_learning_G_10\")"
   ]
  },
  {
   "cell_type": "code",
   "execution_count": 11,
   "metadata": {
    "ExecuteTime": {
     "end_time": "2021-06-19T04:35:07.778879Z",
     "start_time": "2021-06-19T04:35:07.764870Z"
    }
   },
   "outputs": [],
   "source": [
    "opt_D = torch.optim.Adam(DiscriminatorNet.parameters(), lr=LR_D/10)\n",
    "opt_G = torch.optim.Adam(GeneratorNet.parameters(), lr=LR_G/100)\n",
    "scheduler_D = torch.optim.lr_scheduler.StepLR(opt_D, step_size=100, gamma=0.98)\n",
    "scheduler_G = torch.optim.lr_scheduler.StepLR(opt_G, step_size=100, gamma=0.98)"
   ]
  },
  {
   "cell_type": "code",
   "execution_count": 12,
   "metadata": {
    "ExecuteTime": {
     "end_time": "2021-06-19T07:48:21.286312Z",
     "start_time": "2021-06-19T04:35:07.779831Z"
    }
   },
   "outputs": [
    {
     "name": "stdout",
     "output_type": "stream",
     "text": [
      "0 0 0.0 0.0\n",
      "\n",
      "Gan: tensor(-0.4211, device='cuda:0', grad_fn=<MaxBackward1>) tensor([1.1225e-05], device='cuda:0', grad_fn=<AddBackward0>)\n",
      "\n",
      "0 0 0.0 0.0\n",
      "\n",
      "Gan: tensor(-0.7935, device='cuda:0', grad_fn=<MaxBackward1>) tensor([5.2392e-05], device='cuda:0', grad_fn=<AddBackward0>)\n",
      "\n",
      "0 0 0.0 0.0\n",
      "\n",
      "Gan: tensor(-0.4584, device='cuda:0', grad_fn=<MaxBackward1>) tensor([4.5559e-05], device='cuda:0', grad_fn=<AddBackward0>)\n",
      "\n",
      "0 0 0.0 0.0\n",
      "\n",
      "Gan: tensor(-0.3861, device='cuda:0', grad_fn=<MaxBackward1>) tensor([1.5089e-05], device='cuda:0', grad_fn=<AddBackward0>)\n",
      "\n",
      "0 0 0.0 0.0\n",
      "\n",
      "Gan: tensor(-0.3156, device='cuda:0', grad_fn=<MaxBackward1>) tensor([4.8417e-06], device='cuda:0', grad_fn=<AddBackward0>)\n",
      "\n",
      "0 0 0.0 0.0\n",
      "\n",
      "Gan: tensor(-0.3229, device='cuda:0', grad_fn=<MaxBackward1>) tensor([7.1211e-07], device='cuda:0', grad_fn=<AddBackward0>)\n",
      "\n",
      "0 0 0.0 0.0\n",
      "\n",
      "Gan: tensor(-0.8071, device='cuda:0', grad_fn=<MaxBackward1>) tensor([9.6440e-05], device='cuda:0', grad_fn=<AddBackward0>)\n",
      "\n",
      "0 0 0.0 0.0\n",
      "\n",
      "Gan: tensor(-0.4658, device='cuda:0', grad_fn=<MaxBackward1>) tensor([2.9778e-05], device='cuda:0', grad_fn=<AddBackward0>)\n",
      "\n",
      "0 0 0.0 0.0\n",
      "\n",
      "Gan: tensor(-0.2787, device='cuda:0', grad_fn=<MaxBackward1>) tensor([3.1725e-06], device='cuda:0', grad_fn=<AddBackward0>)\n",
      "\n",
      "0 0 0.0 0.0\n",
      "\n",
      "Gan: tensor(-0.3657, device='cuda:0', grad_fn=<MaxBackward1>) tensor([5.0416e-06], device='cuda:0', grad_fn=<AddBackward0>)\n",
      "\n",
      "0 0 0.0 0.0\n",
      "\n",
      "Gan: tensor(-0.3133, device='cuda:0', grad_fn=<MaxBackward1>) tensor([2.9188e-07], device='cuda:0', grad_fn=<AddBackward0>)\n",
      "\n",
      "0 0 0.0 0.0\n",
      "\n",
      "Gan: tensor(-0.3071, device='cuda:0', grad_fn=<MaxBackward1>) tensor([0.], device='cuda:0', grad_fn=<AddBackward0>)\n",
      "\n",
      "0 0 0.0 0.0\n",
      "\n",
      "Gan: tensor(-0.4165, device='cuda:0', grad_fn=<MaxBackward1>) tensor([0.], device='cuda:0', grad_fn=<AddBackward0>)\n",
      "\n",
      "0 0 0.0 0.0\n",
      "\n",
      "Gan: tensor(-0.2332, device='cuda:0', grad_fn=<MaxBackward1>) tensor([0.], device='cuda:0', grad_fn=<AddBackward0>)\n",
      "\n",
      "0 0 0.0 0.0\n",
      "\n",
      "Gan: tensor(-0.2045, device='cuda:0', grad_fn=<MaxBackward1>) tensor([4.3456e-06], device='cuda:0', grad_fn=<AddBackward0>)\n",
      "\n",
      "0 0 0.0 0.0\n",
      "\n",
      "Gan: tensor(-0.2899, device='cuda:0', grad_fn=<MaxBackward1>) tensor([2.2992e-07], device='cuda:0', grad_fn=<AddBackward0>)\n",
      "\n",
      "0 0 0.0 0.0\n",
      "\n",
      "Gan: tensor(-0.3687, device='cuda:0', grad_fn=<MaxBackward1>) tensor([3.3292e-06], device='cuda:0', grad_fn=<AddBackward0>)\n",
      "\n",
      "0 0 0.0 0.0\n",
      "\n",
      "Gan: tensor(-0.2614, device='cuda:0', grad_fn=<MaxBackward1>) tensor([8.0932e-07], device='cuda:0', grad_fn=<AddBackward0>)\n",
      "\n",
      "0 0 0.0 0.0\n",
      "\n",
      "Gan: tensor(-0.2354, device='cuda:0', grad_fn=<MaxBackward1>) tensor([0.], device='cuda:0', grad_fn=<AddBackward0>)\n",
      "\n",
      "0 0 0.0 0.0\n",
      "\n",
      "Gan: tensor(-0.3216, device='cuda:0', grad_fn=<MaxBackward1>) tensor([0.], device='cuda:0', grad_fn=<AddBackward0>)\n",
      "\n",
      "0 0 0.0 0.0\n",
      "\n",
      "Gan: tensor(-0.2218, device='cuda:0', grad_fn=<MaxBackward1>) tensor([0.], device='cuda:0', grad_fn=<AddBackward0>)\n",
      "\n",
      "0 0 0.0 0.0\n",
      "\n",
      "Gan: tensor(-0.2628, device='cuda:0', grad_fn=<MaxBackward1>) tensor([2.3690e-07], device='cuda:0', grad_fn=<AddBackward0>)\n",
      "\n",
      "0 0 0.0 0.0\n",
      "\n",
      "Gan: tensor(-0.2252, device='cuda:0', grad_fn=<MaxBackward1>) tensor([0.], device='cuda:0', grad_fn=<AddBackward0>)\n",
      "\n",
      "0 0 0.0 0.0\n",
      "\n",
      "Gan: tensor(-0.2141, device='cuda:0', grad_fn=<MaxBackward1>) tensor([0.], device='cuda:0', grad_fn=<AddBackward0>)\n",
      "\n",
      "0 0 0.0 0.0\n",
      "\n",
      "Gan: tensor(-0.2708, device='cuda:0', grad_fn=<MaxBackward1>) tensor([0.], device='cuda:0', grad_fn=<AddBackward0>)\n",
      "\n",
      "0 0 0.0 0.0\n",
      "\n",
      "Gan: tensor(-0.2799, device='cuda:0', grad_fn=<MaxBackward1>) tensor([6.3096e-08], device='cuda:0', grad_fn=<AddBackward0>)\n",
      "\n",
      "0 0 0.0 0.0\n",
      "\n",
      "Gan: tensor(-0.1447, device='cuda:0', grad_fn=<MaxBackward1>) tensor([0.], device='cuda:0', grad_fn=<AddBackward0>)\n",
      "\n",
      "0 0 0.0 0.0\n",
      "\n",
      "Gan: tensor(-0.1960, device='cuda:0', grad_fn=<MaxBackward1>) tensor([0.], device='cuda:0', grad_fn=<AddBackward0>)\n",
      "\n",
      "0 0 0.0 0.0\n",
      "\n",
      "Gan: tensor(-0.1856, device='cuda:0', grad_fn=<MaxBackward1>) tensor([0.], device='cuda:0', grad_fn=<AddBackward0>)\n",
      "\n",
      "0 0 0.0 0.0\n",
      "\n",
      "Gan: tensor(-0.1573, device='cuda:0', grad_fn=<MaxBackward1>) tensor([0.], device='cuda:0', grad_fn=<AddBackward0>)\n",
      "\n",
      "0 0 0.0 0.0\n",
      "\n",
      "Gan: tensor(-0.1658, device='cuda:0', grad_fn=<MaxBackward1>) tensor([1.9280e-07], device='cuda:0', grad_fn=<AddBackward0>)\n",
      "\n",
      "0 0 0.0 0.0\n",
      "\n",
      "Gan: tensor(-0.1821, device='cuda:0', grad_fn=<MaxBackward1>) tensor([0.], device='cuda:0', grad_fn=<AddBackward0>)\n",
      "\n",
      "0 0 0.0 0.0\n",
      "\n",
      "Gan: tensor(-0.1655, device='cuda:0', grad_fn=<MaxBackward1>) tensor([0.], device='cuda:0', grad_fn=<AddBackward0>)\n",
      "\n",
      "0 0 0.0 0.0\n",
      "\n",
      "Gan: tensor(-0.1671, device='cuda:0', grad_fn=<MaxBackward1>) tensor([0.], device='cuda:0', grad_fn=<AddBackward0>)\n",
      "\n",
      "0 0 0.0 0.0\n",
      "\n",
      "Gan: tensor(-0.2635, device='cuda:0', grad_fn=<MaxBackward1>) tensor([3.5063e-09], device='cuda:0', grad_fn=<AddBackward0>)\n",
      "\n",
      "0 0 0.0 0.0\n",
      "\n",
      "Gan: tensor(-0.2379, device='cuda:0', grad_fn=<MaxBackward1>) tensor([0.], device='cuda:0', grad_fn=<AddBackward0>)\n",
      "\n",
      "0 0 0.0 0.0\n",
      "\n",
      "Gan: tensor(-0.2932, device='cuda:0', grad_fn=<MaxBackward1>) tensor([0.], device='cuda:0', grad_fn=<AddBackward0>)\n",
      "\n",
      "0 0 0.0 0.0\n",
      "\n",
      "Gan: tensor(-0.1796, device='cuda:0', grad_fn=<MaxBackward1>) tensor([0.], device='cuda:0', grad_fn=<AddBackward0>)\n",
      "\n",
      "0 0 0.0 0.0\n",
      "\n",
      "Gan: tensor(-0.2555, device='cuda:0', grad_fn=<MaxBackward1>) tensor([0.], device='cuda:0', grad_fn=<AddBackward0>)\n",
      "\n",
      "0 0 0.0 0.0\n",
      "\n",
      "Gan: tensor(-0.1816, device='cuda:0', grad_fn=<MaxBackward1>) tensor([0.], device='cuda:0', grad_fn=<AddBackward0>)\n",
      "\n",
      "0 0 0.0 0.0\n",
      "\n",
      "Gan: tensor(-0.2224, device='cuda:0', grad_fn=<MaxBackward1>) tensor([0.], device='cuda:0', grad_fn=<AddBackward0>)\n",
      "\n"
     ]
    }
   ],
   "source": [
    "for iteration in range(int(echo)):\n",
    "\n",
    "    temp_number = 0\n",
    "    total_batch_loss = 0 \n",
    "    \n",
    "    loss2_list = []\n",
    "    loss1_sum = 0\n",
    "    loss2_sum = 0\n",
    "    loss = 0\n",
    "    if(Is_GAN==False):\n",
    "        denominator = 0\n",
    "        for index in range(0, BATCH_SIZE):\n",
    "            training_data_i, training_label, training_data, label = appen_train(\n",
    "                Generate_distribution(Agent_number_n))\n",
    "            h_loss1, h_loss2 = DiscriminatorNet(training_data_i, training_label,\n",
    "                                           training_data)\n",
    "            denominator += 1\n",
    "            loss1_sum += h_loss1\n",
    "            loss2_sum += h_loss2\n",
    "\n",
    "        loss_sum = torch.sum(loss1_sum + loss2_sum)\n",
    "        loss = (loss_sum) / denominator \n",
    "        total_batch_loss +=float(loss_sum)\n",
    "\n",
    "        opt_D.zero_grad()\n",
    "        loss.backward()\n",
    "        opt_D.step()\n",
    "\n",
    "        temp_number = iteration\n",
    "        index_train_list.append(iteration)\n",
    "        train_losses.append(total_batch_loss)\n",
    "\n",
    "\n",
    "    ## Gan \n",
    "    else:## Gan Work traning GeneratorNet\n",
    "\n",
    "        # real painting from artist\n",
    "        G_ideas = torch.randn(BATCH_SIZE, N_IDEAS,\n",
    "                              requires_grad=True).to(dev)  # random ideas\\n\n",
    "        # fake painting from G (random ideas)\n",
    "\n",
    "        G_values = GeneratorNet(G_ideas)\n",
    "        G_values , indices = torch.sort(G_values, descending=True)\n",
    "    #     print(artist_paintings)\n",
    "    #     print(G_paintings)\n",
    "\n",
    "        result_list = []\n",
    "        for index in range(BATCH_SIZE):\n",
    "            h_list = []\n",
    "            value_list_tensor, S_tensor = redistribution_value_function(\n",
    "                G_values[index])\n",
    "            for i in range(Agent_number_n):\n",
    "                h = DiscriminatorNet.calculate(\n",
    "                    value_list_tensor[i].cuda().type(torch.float32))\n",
    "                h_list.append(h)\n",
    "            h_list = torch.stack(h_list)\n",
    "            result_list.append(torch.sum(h_list)/S_tensor.cuda())\n",
    "        result_list = torch.stack(result_list)\n",
    "\n",
    "        diff_loss = torch.max(result_list)-torch.min(result_list)\n",
    "        G_loss = torch.max(- diff_loss)\n",
    "\n",
    "        opt_G.zero_grad()\n",
    "        G_loss.backward()\n",
    "        opt_G.step()\n",
    "\n",
    "    # real painting from artist\n",
    "        G_ideas = torch.randn(BATCH_SIZE, N_IDEAS,\n",
    "                              requires_grad=True).to(dev)  # random ideas\\n\n",
    "        # fake painting from G (random ideas)\n",
    "\n",
    "        G_values = GeneratorNet(G_ideas)\n",
    "        G_values , indices = torch.sort(G_values, descending=True)\n",
    "    #     print(artist_paintings)\n",
    "    #     print(G_paintings)\n",
    "\n",
    "        result_list = []\n",
    "        for index in range(BATCH_SIZE):\n",
    "            h_list = []\n",
    "            value_list_tensor, S_tensor = redistribution_value_function(\n",
    "                G_values[index])\n",
    "            for i in range(Agent_number_n):\n",
    "                h = DiscriminatorNet.calculate(\n",
    "                    value_list_tensor[i].cuda().type(torch.float32))\n",
    "                h_list.append(h)\n",
    "            h_list = torch.stack(h_list)\n",
    "            result_list.append(torch.sum(h_list)/S_tensor.cuda())\n",
    "        result_list = torch.stack(result_list)\n",
    "\n",
    "        diff_loss = torch.max(result_list)-torch.min(result_list)\n",
    "\n",
    "        D_loss = torch.where((Agent_number_n-1)>torch.min(result_list),\n",
    "            torch.square(((Agent_number_n-1)-torch.min(result_list))),\n",
    "            torch.zeros(1).to(dev)\n",
    "          )   + torch.where((Agent_number_n-Alpha)<torch.max(result_list),\n",
    "                        torch.square((torch.max(result_list)-(Agent_number_n-Alpha)))/10000,\n",
    "                        torch.zeros(1).to(dev)\n",
    "                      )\n",
    "\n",
    "\n",
    "        opt_D.zero_grad()\n",
    "        D_loss.backward()\n",
    "        opt_D.step()\n",
    "\n",
    "\n",
    "\n",
    "    scheduler_D.step()\n",
    "    scheduler_G.step()\n",
    "    temp_number = iteration\n",
    "    if (iteration%50 == 0):\n",
    "        print(temp_number)\n",
    "        if(Is_GAN):\n",
    "            print(\"Gan:\",G_loss,D_loss)\n",
    "            print()\n",
    "        else：\n",
    "            print(loss,float(loss1_sum),float(loss2_sum))\n",
    "            print()\n",
    "        "
   ]
  },
  {
   "cell_type": "code",
   "execution_count": 13,
   "metadata": {
    "ExecuteTime": {
     "end_time": "2021-06-19T07:48:21.658984Z",
     "start_time": "2021-06-19T07:48:21.302270Z"
    }
   },
   "outputs": [
    {
     "data": {
      "image/png": "[encoded data removed]",
      "text/plain": [
       "<Figure size 432x288 with 1 Axes>"
      ]
     },
     "metadata": {
      "needs_background": "light"
     },
     "output_type": "display_data"
    }
   ],
   "source": [
    "plt.ylim(0, 1.0)\n",
    "plt.plot(index_test_list,test_losses)\n",
    "plt.ylabel('test loss')\n",
    "\n",
    "plt.show()"
   ]
  },
  {
   "cell_type": "code",
   "execution_count": 14,
   "metadata": {
    "ExecuteTime": {
     "end_time": "2021-06-19T07:48:21.781617Z",
     "start_time": "2021-06-19T07:48:21.659914Z"
    }
   },
   "outputs": [],
   "source": [
    "if(echo!=0):\n",
    "    torch.save(DiscriminatorNet, \"save/Deep_learning_D_10_supervised_1\")\n",
    "    if(Is_GAN):\n",
    "        torch.save(GeneratorNet, \"save/Deep_learning_G_10\")"
   ]
  },
  {
   "cell_type": "code",
   "execution_count": 15,
   "metadata": {
    "ExecuteTime": {
     "end_time": "2021-06-19T07:49:56.825671Z",
     "start_time": "2021-06-19T07:48:21.782587Z"
    }
   },
   "outputs": [
    {
     "name": "stdout",
     "output_type": "stream",
     "text": [
      "9.201195427710577 8.940237705232297 0.2609577224782793\n",
      "9.188056018997377\n"
     ]
    }
   ],
   "source": [
    "denominator = 0\n",
    "result_list = []\n",
    "for index in range(len(testing_data)):\n",
    "    h_list = []\n",
    "    for i in range(Agent_number_n):\n",
    "        h = DiscriminatorNet.calculate(torch.tensor(testing_data[index][i]).to(dev).type(torch.float32))\n",
    "        h_list.append(float(h))\n",
    "    \n",
    "    #print(sum(h_list),h_list,sum(h_list)/testing_label[index])\n",
    "    result_list.append(sum(h_list)/testing_label[index])\n",
    "    \n",
    "\n",
    "print(max(result_list),min(result_list),max(result_list)-min(result_list))\n",
    "print(sum(result_list)/len(result_list))"
   ]
  },
  {
   "cell_type": "code",
   "execution_count": 16,
   "metadata": {
    "ExecuteTime": {
     "end_time": "2021-06-19T07:49:57.794224Z",
     "start_time": "2021-06-19T07:49:56.827666Z"
    }
   },
   "outputs": [
    {
     "data": {
      "image/png": "[encoded data removed]",
      "text/plain": [
       "<Figure size 432x288 with 1 Axes>"
      ]
     },
     "metadata": {
      "needs_background": "light"
     },
     "output_type": "display_data"
    }
   ],
   "source": [
    "plt.hist(result_list,bins=500)\n",
    "\n",
    "plt.title(\"Means\", y=1.015, fontsize=20)\n",
    "plt.axvline(x=sum(result_list)/len(result_list), linestyle='--', linewidth=2.5, label=\"sample mean\", c='orange')\n",
    "plt.xlabel(\"samples\", labelpad=14)\n",
    "plt.ylabel(\"frequency of occurence\", labelpad=14)\n",
    "plt.legend();\n",
    "\n",
    "result_list.sort()\n",
    "\n",
    "plt.axvline(x=result_list[int(len(result_list)*0.01)], linestyle='--', linewidth=0.5, label=\"1%\", c='b')\n",
    "plt.axvline(x=result_list[int(len(result_list)*0.99)], linestyle='--', linewidth=0.5, label=\"99%\", c='r')\n",
    "\n",
    "\n",
    "plt.show()"
   ]
  },
  {
   "cell_type": "code",
   "execution_count": 17,
   "metadata": {
    "ExecuteTime": {
     "end_time": "2021-06-19T07:50:03.787442Z",
     "start_time": "2021-06-19T07:49:57.795221Z"
    },
    "run_control": {
     "marked": true
    }
   },
   "outputs": [
    {
     "name": "stdout",
     "output_type": "stream",
     "text": [
      "[[[0.34125668 0.33482465 0.3297945  ... 0.29421562 0.29025906 0.27714399]\n",
      "  [0.373863   0.33482465 0.3297945  ... 0.29421562 0.29025906 0.27714399]\n",
      "  [0.373863   0.34125668 0.3297945  ... 0.29421562 0.29025906 0.27714399]\n",
      "  ...\n",
      "  [0.373863   0.34125668 0.33482465 ... 0.2984778  0.29025906 0.27714399]\n",
      "  [0.373863   0.34125668 0.33482465 ... 0.2984778  0.29421562 0.27714399]\n",
      "  [0.373863   0.34125668 0.33482465 ... 0.2984778  0.29421562 0.29025906]]\n",
      "\n",
      " [[0.22178918 0.2211234  0.22034079 ... 0.2162196  0.21586257 0.2156408 ]\n",
      "  [0.22790197 0.2211234  0.22034079 ... 0.2162196  0.21586257 0.2156408 ]\n",
      "  [0.22790197 0.22178918 0.22034079 ... 0.2162196  0.21586257 0.2156408 ]\n",
      "  ...\n",
      "  [0.22790197 0.22178918 0.2211234  ... 0.21664755 0.21586257 0.2156408 ]\n",
      "  [0.22790197 0.22178918 0.2211234  ... 0.21664755 0.2162196  0.2156408 ]\n",
      "  [0.22790197 0.22178918 0.2211234  ... 0.21664755 0.2162196  0.21586257]]\n",
      "\n",
      " [[0.02606197 0.02546679 0.02498022 ... 0.02408197 0.02303522 0.02221586]\n",
      "  [0.02670447 0.02546679 0.02498022 ... 0.02408197 0.02303522 0.02221586]\n",
      "  [0.02670447 0.02606197 0.02498022 ... 0.02408197 0.02303522 0.02221586]\n",
      "  ...\n",
      "  [0.02670447 0.02606197 0.02546679 ... 0.02414129 0.02303522 0.02221586]\n",
      "  [0.02670447 0.02606197 0.02546679 ... 0.02414129 0.02408197 0.02221586]\n",
      "  [0.02670447 0.02606197 0.02546679 ... 0.02414129 0.02408197 0.02303522]]\n",
      "\n",
      " ...\n",
      "\n",
      " [[0.08665867 0.08498468 0.08493708 ... 0.08330882 0.08174599 0.08113254]\n",
      "  [0.09117673 0.08498468 0.08493708 ... 0.08330882 0.08174599 0.08113254]\n",
      "  [0.09117673 0.08665867 0.08493708 ... 0.08330882 0.08174599 0.08113254]\n",
      "  ...\n",
      "  [0.09117673 0.08665867 0.08498468 ... 0.08436298 0.08174599 0.08113254]\n",
      "  [0.09117673 0.08665867 0.08498468 ... 0.08436298 0.08330882 0.08113254]\n",
      "  [0.09117673 0.08665867 0.08498468 ... 0.08436298 0.08330882 0.08174599]]\n",
      "\n",
      " [[0.06564432 0.0655981  0.0655678  ... 0.06350973 0.06322975 0.06228642]\n",
      "  [0.06656674 0.0655981  0.0655678  ... 0.06350973 0.06322975 0.06228642]\n",
      "  [0.06656674 0.06564432 0.0655678  ... 0.06350973 0.06322975 0.06228642]\n",
      "  ...\n",
      "  [0.06656674 0.06564432 0.0655981  ... 0.06356432 0.06322975 0.06228642]\n",
      "  [0.06656674 0.06564432 0.0655981  ... 0.06356432 0.06350973 0.06228642]\n",
      "  [0.06656674 0.06564432 0.0655981  ... 0.06356432 0.06350973 0.06322975]]\n",
      "\n",
      " [[0.0586227  0.05818887 0.0569446  ... 0.0528758  0.05181409 0.05169395]\n",
      "  [0.05912209 0.05818887 0.0569446  ... 0.0528758  0.05181409 0.05169395]\n",
      "  [0.05912209 0.0586227  0.0569446  ... 0.0528758  0.05181409 0.05169395]\n",
      "  ...\n",
      "  [0.05912209 0.0586227  0.05818887 ... 0.05316766 0.05181409 0.05169395]\n",
      "  [0.05912209 0.0586227  0.05818887 ... 0.05316766 0.0528758  0.05169395]\n",
      "  [0.05912209 0.0586227  0.05818887 ... 0.05316766 0.0528758  0.05181409]]]\n",
      "[3.14482969 2.19265686 1.         ... 1.         1.         1.        ]\n"
     ]
    }
   ],
   "source": [
    "def appen_test_G(x_list):\n",
    "    global temp_list\n",
    "                \n",
    "    S= max(sum(x_list),1.0);\n",
    "    temp_list = []\n",
    "    \n",
    "    for i in range(Agent_number_n):\n",
    "        temp = []\n",
    "        for j in range(Agent_number_n):\n",
    "            if(i!=j):\n",
    "                temp.append(x_list[j])\n",
    "        appen(temp,S)\n",
    "    testing_data_G.append(temp_list)\n",
    "    testing_label_G.append(S)\n",
    "def read_testing_data_G():\n",
    "    for i in range(10000):\n",
    "        #appen_test_G(sorted(np.random.rand(Agent_number_n), reverse=True));\n",
    "        G_ideas = torch.randn(N_IDEAS).to(dev)  # random ideas\\n\n",
    "        G_values = GeneratorNet(G_ideas)\n",
    "        G_values , indices = torch.sort(G_values, descending=True)\n",
    "        appen_test_G(G_values.detach().cpu().numpy()) \n",
    "\n",
    "testing_data_G = []\n",
    "testing_label_G = []\n",
    "read_testing_data_G()\n",
    "testing_data_G=np.array(testing_data_G)\n",
    "testing_label_G=np.array(testing_label_G)\n",
    "print(testing_data_G)\n",
    "print(testing_label_G)"
   ]
  },
  {
   "cell_type": "code",
   "execution_count": 18,
   "metadata": {
    "ExecuteTime": {
     "end_time": "2021-06-19T07:51:37.954842Z",
     "start_time": "2021-06-19T07:50:03.788440Z"
    }
   },
   "outputs": [
    {
     "name": "stdout",
     "output_type": "stream",
     "text": [
      "9.3176626817939 9.029363989830017 0.2882986919638828\n",
      "9.16545644572572\n"
     ]
    }
   ],
   "source": [
    "\n",
    "result_list_G = []\n",
    "for index in range(len(testing_data_G)):\n",
    "    h_list = []\n",
    "    for i in range(Agent_number_n):\n",
    "        h = DiscriminatorNet.calculate(torch.tensor(testing_data_G[index][i]).to(dev).type(torch.float32))\n",
    "        h_list.append(float(h))\n",
    "    \n",
    "    #print(sum(h_list),h_list,sum(h_list)/testing_label[index])\n",
    "    result_list_G.append(sum(h_list)/testing_label_G[index])\n",
    "    \n",
    "\n",
    "print(max(result_list_G),min(result_list_G),max(result_list_G)-min(result_list_G))\n",
    "print(sum(result_list_G)/len(result_list_G))"
   ]
  },
  {
   "cell_type": "code",
   "execution_count": 19,
   "metadata": {
    "ExecuteTime": {
     "end_time": "2021-06-19T07:51:38.805338Z",
     "start_time": "2021-06-19T07:51:37.956838Z"
    }
   },
   "outputs": [
    {
     "data": {
      "image/png": "[encoded data removed]",
      "text/plain": [
       "<Figure size 432x288 with 1 Axes>"
      ]
     },
     "metadata": {
      "needs_background": "light"
     },
     "output_type": "display_data"
    }
   ],
   "source": [
    "plt.hist(result_list_G,bins=500)\n",
    "\n",
    "plt.title(\"Means\", y=1.015, fontsize=20)\n",
    "plt.axvline(x=sum(result_list_G)/len(result_list_G), linestyle='--', linewidth=2.5, label=\"sample mean\", c='orange')\n",
    "plt.xlabel(\"samples\", labelpad=14)\n",
    "plt.ylabel(\"frequency of occurence\", labelpad=14)\n",
    "plt.legend();\n",
    "\n",
    "result_list_G.sort()\n",
    "\n",
    "plt.axvline(x=result_list[int(len(result_list_G)*0.01)], linestyle='--', linewidth=0.5, label=\"1%\", c='b')\n",
    "plt.axvline(x=result_list[int(len(result_list_G)*0.99)], linestyle='--', linewidth=0.5, label=\"99%\", c='r')\n",
    "\n",
    "\n",
    "plt.show()"
   ]
  },
  {
   "cell_type": "code",
   "execution_count": 20,
   "metadata": {
    "ExecuteTime": {
     "end_time": "2021-06-19T07:51:39.742499Z",
     "start_time": "2021-06-19T07:51:38.806269Z"
    }
   },
   "outputs": [
    {
     "data": {
      "image/png": "[encoded data removed]",
      "text/plain": [
       "<Figure size 432x288 with 1 Axes>"
      ]
     },
     "metadata": {
      "needs_background": "light"
     },
     "output_type": "display_data"
    }
   ],
   "source": [
    "final_list = result_list + result_list_G\n",
    "\n",
    "\n",
    "plt.hist(final_list,bins=500)\n",
    "\n",
    "plt.title(\"Means\", y=1.015, fontsize=20)\n",
    "plt.axvline(x=sum(final_list)/len(final_list), linestyle='--', linewidth=2.5, label=\"sample mean\", c='orange')\n",
    "plt.xlabel(\"samples\", labelpad=14)\n",
    "plt.ylabel(\"frequency of occurence\", labelpad=14)\n",
    "plt.legend();\n",
    "\n",
    "final_list.sort()\n",
    "\n",
    "plt.axvline(x=final_list[int(len(final_list)*0.01)], linestyle='--', linewidth=0.5, label=\"1%\", c='b')\n",
    "plt.axvline(x=final_list[int(len(final_list)*0.99)], linestyle='--', linewidth=0.5, label=\"99%\", c='r')\n",
    "\n",
    "\n",
    "plt.show()"
   ]
  },
  {
   "cell_type": "markdown",
   "metadata": {},
   "source": [
    " "
   ]
  }
 ],
 "metadata": {
  "hide_input": false,
  "kernelspec": {
   "display_name": "Python 3",
   "language": "python",
   "name": "python3"
  },
  "language_info": {
   "codemirror_mode": {
    "name": "ipython",
    "version": 3
   },
   "file_extension": ".py",
   "mimetype": "text/x-python",
   "name": "python",
   "nbconvert_exporter": "python",
   "pygments_lexer": "ipython3",
   "version": "3.8.3"
  },
  "varInspector": {
   "cols": {
    "lenName": 16,
    "lenType": 16,
    "lenVar": 40
   },
   "kernels_config": {
    "python": {
     "delete_cmd_postfix": "",
     "delete_cmd_prefix": "del ",
     "library": "var_list.py",
     "varRefreshCmd": "print(var_dic_list())"
    },
    "r": {
     "delete_cmd_postfix": ") ",
     "delete_cmd_prefix": "rm(",
     "library": "var_list.r",
     "varRefreshCmd": "cat(var_dic_list()) "
    }
   },
   "types_to_exclude": [
    "module",
    "function",
    "builtin_function_or_method",
    "instance",
    "_Feature"
   ],
   "window_display": false
  }
 },
 "nbformat": 4,
 "nbformat_minor": 4
}
