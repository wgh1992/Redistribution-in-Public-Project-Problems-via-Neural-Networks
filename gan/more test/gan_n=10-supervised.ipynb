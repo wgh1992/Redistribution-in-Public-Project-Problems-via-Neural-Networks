{
 "cells": [
  {
   "cell_type": "code",
   "execution_count": 1,
   "metadata": {
    "ExecuteTime": {
     "end_time": "2021-07-12T03:12:38.742301Z",
     "start_time": "2021-07-12T03:12:36.801256Z"
    }
   },
   "outputs": [
    {
     "name": "stdout",
     "output_type": "stream",
     "text": [
      "pygame 2.0.1 (SDL 2.0.14, Python 3.8.3)\n",
      "Hello from the pygame community. https://www.pygame.org/contribute.html\n"
     ]
    },
    {
     "name": "stderr",
     "output_type": "stream",
     "text": [
      "D:\\ComputerSoftwares\\Anaconda\\lib\\site-packages\\sklearn\\utils\\deprecation.py:143: FutureWarning: The sklearn.datasets.samples_generator module is  deprecated in version 0.22 and will be removed in version 0.24. The corresponding classes / functions should instead be imported from sklearn.datasets. Anything that cannot be imported from sklearn.datasets is now part of the private API.\n",
      "  warnings.warn(message, FutureWarning)\n"
     ]
    },
    {
     "name": "stdout",
     "output_type": "stream",
     "text": [
      "cuda:0\n"
     ]
    }
   ],
   "source": [
    "\n",
    "import pygame\n",
    "import random\n",
    "import os\n",
    "import time\n",
    "import numpy as np\n",
    "import math\n",
    "import torch\n",
    "import torch.nn.functional\n",
    "import matplotlib.pyplot as plt\n",
    "import torch.optim as opt\n",
    "from torch.autograd import Variable\n",
    "from sklearn.model_selection import train_test_split\n",
    "\n",
    "import scipy.stats as st\n",
    "from sklearn.datasets.samples_generator import make_blobs\n",
    "from matplotlib.colors import LogNorm \n",
    "import matplotlib.cm as cm\n",
    "import torch.nn as nn\n",
    "import numpy as np\n",
    "import matplotlib.pyplot as plt\n",
    "import plotly.graph_objects as go\n",
    "import plotly.express as px\n",
    "from scipy.interpolate import griddata\n",
    "if torch.cuda.is_available():  \n",
    "    dev = \"cuda:0\" \n",
    "else:  \n",
    "    dev = \"cpu\"  \n",
    "\n",
    "print(dev)\n",
    "\n"
   ]
  },
  {
   "cell_type": "code",
   "execution_count": 2,
   "metadata": {
    "ExecuteTime": {
     "end_time": "2021-07-12T03:12:38.758316Z",
     "start_time": "2021-07-12T03:12:38.744294Z"
    }
   },
   "outputs": [],
   "source": [
    "global temp_list\n",
    "temp_list = []\n",
    "Agent_number_n=10;\n",
    "Alpha = 0.7\n",
    "\n",
    "# Hyper Parameters\n",
    "echo = 1001 \n",
    "BATCH_SIZE = 64\n",
    "LR_G = 0.0001           # learning rate for generator\n",
    "LR_D = 0.0001           # learning rate for discriminator\n",
    "N_IDEAS = Agent_number_n             # think of this as number of ideas for generating an art work (Generator)\n",
    "ART_COMPONENTS = Agent_number_n     # it could be total point G can draw in the canvas\n",
    "\n",
    "Is_GAN = True # if use Gan\n",
    "\n",
    "def Generate_distribution(Agent_number_n):\n",
    "    return sorted(np.random.rand(Agent_number_n), reverse=True)\n",
    "    #return sorted(np.random.normal(normalloc,normalscale,Agent_number_n))"
   ]
  },
  {
   "cell_type": "code",
   "execution_count": 3,
   "metadata": {
    "ExecuteTime": {
     "end_time": "2021-07-12T03:12:38.773851Z",
     "start_time": "2021-07-12T03:12:38.760830Z"
    }
   },
   "outputs": [],
   "source": [
    "new_input = 3\n",
    "def Dimensionality_reduction(data_sorted):\n",
    "    out_data = torch.ones(new_input).cuda()\n",
    "    out_data[0] = torch.max(data_sorted) \n",
    "    out_data[1] = torch.sum(data_sorted) \n",
    "    \n",
    "    temp_list = []\n",
    "    for i in range(len(data_sorted)-1):\n",
    "        temp_list.append(data_sorted[i] - data_sorted[i + 1])\n",
    "    \n",
    "    temp_tensor = torch.stack(temp_list)    \n",
    "    out_data[2] = torch.max(temp_tensor) \n",
    "    return out_data\n"
   ]
  },
  {
   "cell_type": "code",
   "execution_count": 4,
   "metadata": {
    "ExecuteTime": {
     "end_time": "2021-07-12T03:12:38.853570Z",
     "start_time": "2021-07-12T03:12:38.774782Z"
    }
   },
   "outputs": [
    {
     "name": "stdout",
     "output_type": "stream",
     "text": [
      "[[[7.00245292e-01 6.67975317e-01 4.63184674e-01 ... 3.25261914e-01\n",
      "   1.94478176e-01 1.18721666e-01]\n",
      "  [8.95814761e-01 6.67975317e-01 4.63184674e-01 ... 3.25261914e-01\n",
      "   1.94478176e-01 1.18721666e-01]\n",
      "  [8.95814761e-01 7.00245292e-01 4.63184674e-01 ... 3.25261914e-01\n",
      "   1.94478176e-01 1.18721666e-01]\n",
      "  ...\n",
      "  [8.95814761e-01 7.00245292e-01 6.67975317e-01 ... 3.25295020e-01\n",
      "   1.94478176e-01 1.18721666e-01]\n",
      "  [8.95814761e-01 7.00245292e-01 6.67975317e-01 ... 3.25295020e-01\n",
      "   3.25261914e-01 1.18721666e-01]\n",
      "  [8.95814761e-01 7.00245292e-01 6.67975317e-01 ... 3.25295020e-01\n",
      "   3.25261914e-01 1.94478176e-01]]\n",
      "\n",
      " [[6.79624301e-01 3.36233828e-01 3.12062852e-01 ... 7.62596411e-02\n",
      "   5.45290680e-02 3.79084322e-04]\n",
      "  [8.13768334e-01 3.36233828e-01 3.12062852e-01 ... 7.62596411e-02\n",
      "   5.45290680e-02 3.79084322e-04]\n",
      "  [8.13768334e-01 6.79624301e-01 3.12062852e-01 ... 7.62596411e-02\n",
      "   5.45290680e-02 3.79084322e-04]\n",
      "  ...\n",
      "  [8.13768334e-01 6.79624301e-01 3.36233828e-01 ... 1.54203369e-01\n",
      "   5.45290680e-02 3.79084322e-04]\n",
      "  [8.13768334e-01 6.79624301e-01 3.36233828e-01 ... 1.54203369e-01\n",
      "   7.62596411e-02 3.79084322e-04]\n",
      "  [8.13768334e-01 6.79624301e-01 3.36233828e-01 ... 1.54203369e-01\n",
      "   7.62596411e-02 5.45290680e-02]]\n",
      "\n",
      " [[8.45665463e-01 8.25695543e-01 7.97345031e-01 ... 4.44630144e-01\n",
      "   1.06644305e-01 2.54106509e-02]\n",
      "  [9.03060600e-01 8.25695543e-01 7.97345031e-01 ... 4.44630144e-01\n",
      "   1.06644305e-01 2.54106509e-02]\n",
      "  [9.03060600e-01 8.45665463e-01 7.97345031e-01 ... 4.44630144e-01\n",
      "   1.06644305e-01 2.54106509e-02]\n",
      "  ...\n",
      "  [9.03060600e-01 8.45665463e-01 8.25695543e-01 ... 5.44996487e-01\n",
      "   1.06644305e-01 2.54106509e-02]\n",
      "  [9.03060600e-01 8.45665463e-01 8.25695543e-01 ... 5.44996487e-01\n",
      "   4.44630144e-01 2.54106509e-02]\n",
      "  [9.03060600e-01 8.45665463e-01 8.25695543e-01 ... 5.44996487e-01\n",
      "   4.44630144e-01 1.06644305e-01]]\n",
      "\n",
      " ...\n",
      "\n",
      " [[8.72606589e-01 8.58398317e-01 8.38187076e-01 ... 2.02021549e-01\n",
      "   1.70101626e-01 9.32888757e-02]\n",
      "  [9.88933225e-01 8.58398317e-01 8.38187076e-01 ... 2.02021549e-01\n",
      "   1.70101626e-01 9.32888757e-02]\n",
      "  [9.88933225e-01 8.72606589e-01 8.38187076e-01 ... 2.02021549e-01\n",
      "   1.70101626e-01 9.32888757e-02]\n",
      "  ...\n",
      "  [9.88933225e-01 8.72606589e-01 8.58398317e-01 ... 2.10087324e-01\n",
      "   1.70101626e-01 9.32888757e-02]\n",
      "  [9.88933225e-01 8.72606589e-01 8.58398317e-01 ... 2.10087324e-01\n",
      "   2.02021549e-01 9.32888757e-02]\n",
      "  [9.88933225e-01 8.72606589e-01 8.58398317e-01 ... 2.10087324e-01\n",
      "   2.02021549e-01 1.70101626e-01]]\n",
      "\n",
      " [[9.60295850e-01 9.48730865e-01 9.47507944e-01 ... 6.12430933e-01\n",
      "   5.09666858e-01 1.45362919e-01]\n",
      "  [9.79568346e-01 9.48730865e-01 9.47507944e-01 ... 6.12430933e-01\n",
      "   5.09666858e-01 1.45362919e-01]\n",
      "  [9.79568346e-01 9.60295850e-01 9.47507944e-01 ... 6.12430933e-01\n",
      "   5.09666858e-01 1.45362919e-01]\n",
      "  ...\n",
      "  [9.79568346e-01 9.60295850e-01 9.48730865e-01 ... 7.05584117e-01\n",
      "   5.09666858e-01 1.45362919e-01]\n",
      "  [9.79568346e-01 9.60295850e-01 9.48730865e-01 ... 7.05584117e-01\n",
      "   6.12430933e-01 1.45362919e-01]\n",
      "  [9.79568346e-01 9.60295850e-01 9.48730865e-01 ... 7.05584117e-01\n",
      "   6.12430933e-01 5.09666858e-01]]\n",
      "\n",
      " [[8.32140164e-01 6.92142199e-01 6.53372479e-01 ... 4.54622415e-01\n",
      "   1.38929855e-01 8.66340466e-02]\n",
      "  [9.34268726e-01 6.92142199e-01 6.53372479e-01 ... 4.54622415e-01\n",
      "   1.38929855e-01 8.66340466e-02]\n",
      "  [9.34268726e-01 8.32140164e-01 6.53372479e-01 ... 4.54622415e-01\n",
      "   1.38929855e-01 8.66340466e-02]\n",
      "  ...\n",
      "  [9.34268726e-01 8.32140164e-01 6.92142199e-01 ... 4.64828948e-01\n",
      "   1.38929855e-01 8.66340466e-02]\n",
      "  [9.34268726e-01 8.32140164e-01 6.92142199e-01 ... 4.64828948e-01\n",
      "   4.54622415e-01 8.66340466e-02]\n",
      "  [9.34268726e-01 8.32140164e-01 6.92142199e-01 ... 4.64828948e-01\n",
      "   4.54622415e-01 1.38929855e-01]]]\n",
      "[4.420364   2.78956355 5.99912227 3.44856389 4.50361484 4.59376484\n",
      " 5.37729151 5.33672196 5.2830615  5.85410414 5.89784964 4.0006262\n",
      " 4.80492594 5.48300835 5.34263108 4.72128123 3.71845653 4.6212606\n",
      " 6.73800808 5.80312524 5.98298301 4.38391466 3.44481248 4.44159392\n",
      " 3.6672574  3.89528863 5.25560718 5.42999387 5.58431187 6.02198786\n",
      " 7.73599438 7.30404454 4.780808   3.70583807 5.4949887  6.57017531\n",
      " 4.94339978 5.51770403 4.30810588 4.05348048 4.00421183 6.66117412\n",
      " 6.04607035 5.6391011  5.38015659 5.26031353 4.36574284 4.88716263\n",
      " 6.41228881 5.42367509 5.57922101 4.57863076 6.73323511 4.31285579\n",
      " 4.6538063  3.73851129 4.16531175 5.7688544  3.5885508  5.14160009\n",
      " 3.34171032 4.5738023  4.38385553 5.61415762 4.82182909 4.17002238\n",
      " 5.06955978 5.05810553 5.90157659 5.12904688 6.18007982 4.28250964\n",
      " 4.79981664 4.70099409 4.53124465 5.17628239 3.60723943 3.94613134\n",
      " 4.00579762 4.69824702 4.12150109 2.80725732 2.89946209 5.05973595\n",
      " 5.1716539  5.30331947 3.93284179 5.16560458 5.96957423 5.26892819\n",
      " 4.53073785 4.54514256 5.47350024 6.08253948 7.43327865 6.40021557\n",
      " 5.17158515 5.50496855 5.05681094 4.95011429 4.54031124 5.70407326\n",
      " 3.91130255 5.52136734 4.17618332 4.76347085 6.04247749 3.90390273\n",
      " 5.64031972 4.76962657 5.45954004 5.27782936 4.40817458 5.85548044\n",
      " 4.43050022 4.94061348 3.38402974 5.4371767  4.06313624 4.55136734\n",
      " 5.85302216 6.04016106 4.61855428 5.28621165 6.2904087  5.29586261\n",
      " 7.63334072 7.23820325 3.54034366 4.72628124 5.60255409 6.77236831\n",
      " 4.10384288 3.73093764 3.5188769  3.58809598 3.03487303 5.77402961\n",
      " 4.92086897 4.96179034 5.92883765 4.69864031 5.48092806 3.79731065\n",
      " 5.70391105 4.87766025 5.56204359 5.40427979 4.23362232 5.7106168\n",
      " 5.05194375 3.90605317 4.91519185 4.60001921 6.33685498 5.67968922\n",
      " 5.46285625 4.15087313 5.1926321  3.51950612 5.1578418  4.3614242\n",
      " 5.00697015 6.49870219 4.36875892 5.42242254 5.2760342  4.29031327\n",
      " 5.87317102 6.6330985  3.837317   4.95194921 4.68913387 3.99058178\n",
      " 4.74282334 5.66186306 5.47241474 4.45430347 4.13779565 5.51964273\n",
      " 6.05373373 4.45857585 4.52694672 5.53796665 3.42214985 4.51878933\n",
      " 6.94216974 4.51323497 4.75483009 5.3544521  4.22871447 4.37593715\n",
      " 5.2906919  3.52588192 4.14643328 5.31889283 4.58477057 3.70549456\n",
      " 4.67157218 4.05649857 5.95756593 5.08256398 4.72852664 4.66349704\n",
      " 2.85931962 4.48106485 4.53282929 5.23469853 4.14766385 4.88463512\n",
      " 5.07107392 6.30959761 5.88900947 5.10271861 3.37367592 6.33473468\n",
      " 5.97284984 4.00498797 5.15542013 4.97422326 5.5418799  3.60934103\n",
      " 4.98341918 4.5319993  3.89116743 5.34301484 4.41796436 5.78928757\n",
      " 5.43574141 5.46414844 5.33252696 4.97697865 5.3640499  4.15936755\n",
      " 6.44443652 4.12106513 4.46239154 6.01373922 4.32140323 6.27110056\n",
      " 5.21222994 5.06811691 4.34575739 5.25967535 4.11409714 5.43555139\n",
      " 6.50309739 4.45048393 4.75962681 5.73161246 5.10749338 5.02134057\n",
      " 5.36024855 5.63845786 5.18612104 4.57036452 5.05823511 4.35509076\n",
      " 4.18307549 4.52720226 5.01375429 5.17626709 4.05812667 4.69641062\n",
      " 5.81801363 6.75127471 4.89787715 5.75789651 5.76339776 6.26345905\n",
      " 5.38285362 5.52648372 4.72015645 5.48473839 3.93081966 5.33365871\n",
      " 2.92498423 4.25043348 5.72047475 4.65368636 4.84097813 5.07010435\n",
      " 4.95384621 5.49711266 4.85185501 5.54007734 5.30583373 3.61046736\n",
      " 5.46748009 6.05298554 4.12639868 5.78194679 5.11416278 5.0280739\n",
      " 4.63482305 2.83945521 3.42201455 5.24349265 3.7755796  5.55422466\n",
      " 6.75145305 6.31466855 4.50559076 4.32654924 4.32607362 5.63202191\n",
      " 4.34955717 6.20613747 3.3851434  4.80143192 4.5907034  5.62944051\n",
      " 4.54951029 5.65823772 5.32447342 6.73390904 5.51660921 5.66463887\n",
      " 4.65156398 4.95927527 6.59657262 3.27774268 4.27590698 6.78596186\n",
      " 5.72011998 4.62266539 5.5613149  3.80246692 4.25410768 4.50245527\n",
      " 4.94402563 4.41358726 6.19538717 6.04651487 5.56974737 3.68193849\n",
      " 4.32345892 4.41805334 7.27145159 4.44317065 4.89714173 3.49088924\n",
      " 5.02796681 3.56849641 5.13194271 4.7294752  5.77245516 3.38597322\n",
      " 4.96921118 6.27901993 4.59208264 5.753586   5.19356102 5.47782343\n",
      " 5.74378682 3.68381368 5.4253604  4.8015336  4.0666343  4.32778663\n",
      " 5.50097512 5.55916633 5.28928804 4.83208655 4.48380981 6.98169564\n",
      " 4.26309971 5.11459184 5.20966288 6.26763209 4.82347955 5.61654251\n",
      " 5.61659679 6.4193297  4.98675295 3.60701513 6.35648156 4.88165102\n",
      " 4.78338552 6.12029049 3.33517354 5.60763283 4.57528501 4.17458566\n",
      " 5.53483005 5.00224867 5.53800843 3.61875522 3.68193978 6.41694669\n",
      " 3.23021038 5.87793656 4.56962714 6.08075276 5.47419068 5.58984773\n",
      " 5.55678523 4.4562461  5.62114964 4.48655072 4.5430315  5.39560474\n",
      " 4.42111711 4.65473876 4.84136879 5.0355617  4.57701482 4.8312897\n",
      " 2.93299385 5.0270795  5.42549826 5.97320979 3.89200788 4.58438786\n",
      " 4.00431874 5.68841503 5.03985637 4.08869634 6.72415927 5.09177499\n",
      " 3.735528   4.57212715 6.03268836 4.90507289 5.16148477 5.61858772\n",
      " 4.50655972 4.30131869 4.24370554 5.20340877 4.65430849 5.54299203\n",
      " 6.27493975 5.25577294 6.0311438  5.56356894 4.48981865 3.83771312\n",
      " 5.63908166 5.00754218 4.10726256 5.9822239  5.6509123  6.59053853\n",
      " 4.45091796 4.5053817  4.05887223 6.16565379 4.24500517 6.84827247\n",
      " 6.16775034 5.99751864 6.98769673 6.66220493 4.37776924 6.41497134\n",
      " 5.16552707 4.489744   5.05130185 6.37472977 5.60286321 4.40603364\n",
      " 4.86984678 5.58428496 4.04202228 5.40461331 3.38012788 4.41228969\n",
      " 4.99875831 4.51158226 4.99115471 4.2753848  6.42671192 4.94659046\n",
      " 6.64879026 6.20708515 3.79249363 4.56869804 3.16286109 5.82953808\n",
      " 6.03269674 4.27972131 5.52960399 4.2359499  5.45048727 5.8000649\n",
      " 4.09252829 5.23511869 4.64559788 5.58871518 3.19028539 4.64959688\n",
      " 3.73790921 5.87905712 5.73305331 2.81724129 5.92603013 5.20655675\n",
      " 5.95642599 5.23916088 3.8689811  5.68976715 5.37107542 4.74636115\n",
      " 5.90042417 5.06298046 6.22942128 5.50604359 3.65245881 3.32786491\n",
      " 4.48458459 4.43058508 6.61977318 3.62343235 5.44129265 4.17270556\n",
      " 5.10453649 4.00841394 4.95638391 4.38572868 5.08722408 4.22288086\n",
      " 4.12940951 5.29091001 4.93389677 4.72760528 5.94488789 3.07138793\n",
      " 3.10731548 4.99227016 5.14269968 5.19038939 4.63343797 6.06170982\n",
      " 5.49084846 5.85008696 6.27897209 3.76956875 5.69483176 4.46351924\n",
      " 5.15519851 4.91284669 6.62044505 3.980959   4.08205451 4.2140114\n",
      " 5.04338678 4.45278041 3.30510274 4.07557168 3.0299428  3.52900081\n",
      " 5.89595289 4.51800133 4.10654254 5.95565762 4.59811364 5.97712673\n",
      " 3.27758575 5.2642825  4.4892361  6.92894047 4.59188182 5.43062748\n",
      " 4.52594572 5.12877034 4.80864298 4.0947664  4.57822842 5.84900008\n",
      " 5.55463742 5.38310731 4.31238352 4.96215867 4.48327819 5.88679114\n",
      " 4.69319831 4.08957971 4.84176891 5.58010487 4.32958448 4.74694858\n",
      " 5.7352918  4.97171061 4.81127672 4.40221985 5.89444451 2.52632857\n",
      " 5.3301329  5.18006627 4.94737108 2.83873145 3.88933118 5.26082768\n",
      " 4.3702169  6.71096763 5.9883053  5.84960265 5.23741268 5.03158862\n",
      " 5.55657426 5.15213212 2.55418098 4.62088102 4.53698317 3.52993053\n",
      " 4.9529603  4.54094933 4.1203363  3.82413203 4.88997117 5.4589618\n",
      " 6.02473313 4.74783988 4.08110254 6.34710282 7.04430012 4.7847468\n",
      " 3.75339501 4.0824224  5.09614909 5.42510049 6.61925493 3.202258\n",
      " 7.43382475 3.97071803 6.22355231 4.33705108 5.23872823 6.90190529\n",
      " 4.965087   7.01443447 5.03091546 5.45217953 5.31703713 6.71753596\n",
      " 5.20621405 5.16884096 5.55884142 4.8157355  5.74970547 5.21518416\n",
      " 5.00785933 5.76550904 6.1053021  6.69152723 4.07363223 5.67525842\n",
      " 6.28759309 3.87058775 5.30473042 3.50562234 5.7998202  5.32985859\n",
      " 5.0183984  4.96962441 5.48872988 6.54931795 4.13862031 3.79269073\n",
      " 5.91994817 4.90071916 6.22967234 4.10204298 3.1709313  4.61812196\n",
      " 4.74518105 4.96779755 4.48966278 4.43104892 4.2607053  5.00670965\n",
      " 4.76522708 4.37291819 6.68295126 4.60659714 5.24174377 5.34753439\n",
      " 4.21940239 5.92641459 5.96755049 4.03718725 4.44324733 4.35701035\n",
      " 5.50878506 4.18263681 3.77257041 5.31171239 6.84434862 5.33861284\n",
      " 6.87226624 4.15484922 3.59476424 4.97561208 4.43448305 4.98827364\n",
      " 5.3405207  4.31618978 3.58334563 5.32036474 6.22474693 5.77496374\n",
      " 5.24696384 5.27182045 4.88454883 5.0295644  3.58512836 5.99193426\n",
      " 3.92876453 4.94640951 5.25994894 4.35337774 3.98332052 4.6842418\n",
      " 5.93400555 6.00174877 5.86998976 3.40620636 5.38306845 4.05774578\n",
      " 5.19757415 5.67374248 6.96737667 5.36718638 4.87733518 2.85551988\n",
      " 3.39172678 4.84059434 4.77032605 5.14304159 3.05027809 4.91312826\n",
      " 5.48217573 5.66899947 4.74742076 5.23666224 4.22962688 4.05072943\n",
      " 6.32201424 5.82908972 6.52031584 6.2655461  4.7420369  4.32996945\n",
      " 5.51565369 5.14766683 6.36369561 4.27059252 3.7215356  4.6554364\n",
      " 3.78551644 5.44554884 4.46223534 6.53589145 4.60303603 4.00080294\n",
      " 4.67515297 4.00060886 5.32433101 4.47436693 4.58617741 5.6611046\n",
      " 5.09800712 4.88363689 4.70546536 5.11941409 4.06563466 5.73939903\n",
      " 5.9635868  5.15654025 7.43571077 5.9385198  5.59854385 3.71943899\n",
      " 5.49080785 5.06872189 5.23461381 3.93893323 3.00017653 4.37639639\n",
      " 5.24772686 6.25872963 5.02277608 4.36840843 6.28896115 4.60524791\n",
      " 6.6346021  3.85263801 4.20539852 5.69281401 3.72897553 3.83308335\n",
      " 4.19959365 5.06260447 5.85767116 3.71709969 6.65726761 3.79669767\n",
      " 3.14617301 5.10735883 4.39801558 3.8276361  5.66996327 4.55913931\n",
      " 4.64969974 4.4159223  4.36794836 6.31226007 3.54879034 4.82143879\n",
      " 4.73710363 5.6263316  5.93402524 4.6814578  3.88050359 4.91364178\n",
      " 6.99690075 4.04556684 5.61469777 5.39070972 5.01487564 5.46249517\n",
      " 5.83741813 4.28490596 4.72004404 5.69494943 5.31890428 6.59967605\n",
      " 4.93756707 5.30087036 4.4208491  7.40374489 7.75548886 5.14094507\n",
      " 4.98372357 3.06838857 3.44928268 6.02930329 3.72569859 4.3841663\n",
      " 4.68228556 6.92612952 4.11290186 5.62929945 4.8274235  4.98399585\n",
      " 4.59079467 4.3160974  4.58372318 5.33109604 4.51042629 4.70987064\n",
      " 6.22579767 2.75155896 4.66699711 6.45302969 3.9044062  6.14133146\n",
      " 6.00629903 5.40047369 6.81856342 4.16618279 4.72551763 3.97026204\n",
      " 7.12916159 3.97578892 4.84790685 6.23063856 4.6451115  4.92181582\n",
      " 5.22977966 5.50405293 3.47380109 4.91146101 4.50304609 4.71406994\n",
      " 3.48919258 6.31788967 4.89981853 6.1320086  4.34070809 5.04788956\n",
      " 4.5999171  5.05247909 4.85889536 5.61300393 5.59385096 3.72750763\n",
      " 5.73844854 4.49291763 3.4550681  7.16879348 7.19349307 4.0762959\n",
      " 5.39563619 4.93638419 5.44077777 5.0541642  3.93404939 6.53509764\n",
      " 5.07756429 5.89925862 5.18654139 5.06047825 5.07388522 3.42948568\n",
      " 5.67716522 4.67212367 3.98982334 3.56077393 4.43572989 5.16736035\n",
      " 4.08077488 4.94748553 6.04152417 5.65647901 5.23969038 4.69291874\n",
      " 5.55624661 4.57120597 4.02279256 4.45763608 6.68815209 4.81543374\n",
      " 4.51930532 4.57108694 4.09500882 4.55167472 5.79904759 5.46113934\n",
      " 6.54812902 6.16659218 3.21158229 5.49384472 4.31674907 5.17951082\n",
      " 4.73433581 5.44479339 4.9490653  5.64946567 3.08125616 5.74374895\n",
      " 5.9734755  4.86724433 4.90249772 5.84992639 5.19906619 7.56168942\n",
      " 4.28263602 6.38879082 5.77780879 5.22714439 4.98113574 6.28607449\n",
      " 6.3675205  6.12735223 5.00799522 4.04581001 7.59547329 4.28947149\n",
      " 6.16744883 5.46943069 5.03619536 4.51749328 4.57755128 5.11045908\n",
      " 5.90255584 5.59106812 5.41953866 5.74815636 3.7423565  5.92924573\n",
      " 5.36825884 5.24028388 3.83730628 3.63181154 5.18485334 4.52898412\n",
      " 5.14032513 5.32803214 4.79823824 4.59578959 5.99362385 5.04309175\n",
      " 5.81060473 4.22987651 4.60043099 6.11729503 5.25245003 5.55289767\n",
      " 5.52354037 5.79960423 4.73010783 5.65340046 5.01564651 6.06489485\n",
      " 4.62245646 5.68145618 7.39163889 5.41142427]\n"
     ]
    }
   ],
   "source": [
    "def h_3_star(a, b, t):\n",
    "    return a - min(a, t) + b - min(b, t) + max(min(a, t)+min(b, t), 2*t/3) + 1/2 * max(min(a, t)+min(b, t), t) - 1/2 * max(max(min(a, t), min(b, t)), 2*t/3) - t/6\n",
    "\n",
    "\n",
    "def f_function(a, b, z):\n",
    "    if(z >= 1):\n",
    "        return (a+b)/2 + z/3\n",
    "    else:\n",
    "        return z/3 + h_3_star(a, b, 1-z)/2\n",
    "\n",
    "def h_function_label(input_list):\n",
    "    #input_list = sorted(input_list)\n",
    "    g_list = []\n",
    "    for j1 in range(len(input_list) ):\n",
    "        for j2 in range(len(input_list)):\n",
    "            if(j1 != j2):\n",
    "                a = input_list[j1]\n",
    "                b = input_list[j2]\n",
    "                z = sum(input_list)- a-b\n",
    "\n",
    "                g_list.append( f_function(a, b, z) * (Agent_number_n-1))\n",
    "    h = sum(g_list) * 3 /  (Agent_number_n) /  (Agent_number_n-1) /  (Agent_number_n - 2)\n",
    "    return h\n",
    "\n",
    "def appen(_x_list,y):\n",
    "    global temp_list\n",
    "    temp_list.append(_x_list)\n",
    "    \n",
    "def appen_train(x_list):\n",
    "    global temp_list\n",
    "                \n",
    "    S= max(sum(x_list),1.0);\n",
    "    temp_list = []\n",
    "    h_list = []\n",
    "    for i in range(Agent_number_n):\n",
    "        temp = []\n",
    "        for j in range(Agent_number_n):\n",
    "            if(i!=j):\n",
    "                temp.append(x_list[j])\n",
    "        appen(temp,S)\n",
    "        \n",
    "        h = h_function_label(temp)\n",
    "        h_list.append(float(h))\n",
    "    temp_list = np.array(temp_list)\n",
    "    x_list = np.array(x_list)\n",
    "    return temp_list,S,x_list,h_list\n",
    "    \n",
    "\n",
    "def appen_test(x_list):\n",
    "    global temp_list\n",
    "                \n",
    "    S= max(sum(x_list),1.0);\n",
    "    temp_list = []\n",
    "    \n",
    "    for i in range(Agent_number_n):\n",
    "        temp = []\n",
    "        for j in range(Agent_number_n):\n",
    "            if(i!=j):\n",
    "                temp.append(x_list[j])\n",
    "        appen(temp,S)\n",
    "    testing_data.append(temp_list)\n",
    "    testing_label.append(S)\n",
    "    temp_list = np.array(temp_list)\n",
    "    return temp_list,S\n",
    "    \n",
    "\n",
    "def read_testing_data():\n",
    "    for i in range(1000):\n",
    "        appen_test(Generate_distribution(Agent_number_n));\n",
    "                        \n",
    "            \n",
    "\n",
    "testing_data=[]\n",
    "testing_label=[]\n",
    "S=1.0\n",
    "read_testing_data();\n",
    "\n",
    "testing_data=np.array(testing_data)\n",
    "testing_label=np.array(testing_label)\n",
    "print(testing_data)\n",
    "print(testing_label)"
   ]
  },
  {
   "cell_type": "code",
   "execution_count": 5,
   "metadata": {
    "ExecuteTime": {
     "end_time": "2021-07-12T03:12:38.885485Z",
     "start_time": "2021-07-12T03:12:38.855565Z"
    }
   },
   "outputs": [],
   "source": [
    "def weight_init(m):\n",
    "    if isinstance(m, torch.nn.Conv2d):\n",
    "        torch.nn.init.xavier_normal_(m.weight)\n",
    "        torch.nn.init.zeros_(m.bias)\n",
    "    elif isinstance(m, torch.nn.Linear):\n",
    "        torch.nn.init.xavier_normal_(m.weight)\n",
    "        torch.nn.init.normal_(m.bias, mean=0.0, std=0.01)\n",
    "\n",
    "class Net(torch.nn.Module):\n",
    "    def __init__(self):\n",
    "\n",
    "        super(Net, self).__init__()\n",
    "        \n",
    "        self.input_dim = new_input# (Agent_number_n-1)\n",
    "        self.hidden_dim = 128\n",
    "        self.output_dim = 1\n",
    "        self.hidden_layer_count = 6 \n",
    "        \n",
    "        current_dim = self.input_dim\n",
    "        self.layers = torch.nn.ModuleList()\n",
    "        for i in range(self.hidden_layer_count):\n",
    "            self.layers.append(torch.nn.Linear(current_dim, self.hidden_dim))\n",
    "            current_dim = self.hidden_dim\n",
    "        self.layers.append(torch.nn.Linear(current_dim, self.output_dim))\n",
    "\n",
    "    def calculate(self, value_list):\n",
    "        h = Dimensionality_reduction(value_list)\n",
    "        for layer in self.layers:\n",
    "            h = torch.relu(layer(h))\n",
    "        return h\n",
    "\n",
    "    def forward(self, input_list,input_label,list_x):\n",
    "        global iteration,echo,target_order\n",
    "        loss1 = 0\n",
    "        loss2 = 0\n",
    "        loss3 = 0\n",
    "        input_list = torch.from_numpy(\n",
    "            np.array(input_list)).to(dev).type(torch.float32)\n",
    "        h_list = []\n",
    "\n",
    "        for i in range(Agent_number_n):\n",
    "            h = self.calculate(input_list[i])\n",
    "            h_list.append(h)\n",
    "#             loss3 += torch.square(h_function_2(input_list)-h2[1])\n",
    "            \n",
    "        input_label = torch.from_numpy(\n",
    "            np.array(input_label)).to(dev).type(torch.float32)\n",
    "        sum_h = torch.sum(torch.cat(h_list)).to(dev)\n",
    "\n",
    "\n",
    "        loss1 = torch.where((Agent_number_n-1)*input_label>sum_h,\n",
    "                        torch.square(((Agent_number_n-1)*input_label-sum_h)),\n",
    "                        torch.zeros(1).to(dev)\n",
    "                      )\n",
    "\n",
    "        loss2 = torch.where((Agent_number_n-Alpha)*input_label<sum_h,\n",
    "                        torch.square((sum_h-(Agent_number_n-Alpha)*input_label))/100,\n",
    "                        torch.zeros(1).to(dev)\n",
    "                      )\n",
    "\n",
    "\n",
    "        return loss1,loss2\n",
    "    \n",
    "    def supervised_loss(self, input_list,label):\n",
    "        global iteration,echo,target_order\n",
    "        input_list = torch.from_numpy(\n",
    "            np.array(input_list)).to(dev).type(torch.float32)\n",
    "        loss = 0 \n",
    "        for i in range(Agent_number_n):\n",
    "            h = self.calculate(input_list[i])\n",
    "            loss += torch.square(h - label[i])\n",
    "        return loss"
   ]
  },
  {
   "cell_type": "code",
   "execution_count": 6,
   "metadata": {
    "ExecuteTime": {
     "end_time": "2021-07-12T03:12:38.901442Z",
     "start_time": "2021-07-12T03:12:38.887480Z"
    }
   },
   "outputs": [],
   "source": [
    "def redistribution_value_function(input_tensor):\n",
    "    S = torch.max(torch.sum(input_tensor), torch.ones(1).to(dev))\n",
    "    temp_list = []\n",
    "\n",
    "\n",
    "    for i in range(Agent_number_n):\n",
    "        temp = []\n",
    "        \n",
    "        for j in range(Agent_number_n):\n",
    "            if(i != j):\n",
    "                temp .append(input_tensor[j])\n",
    "                \n",
    "        temp = torch.stack(temp)\n",
    "        temp_list.append(temp)\n",
    "    return torch.stack(temp_list), S\n",
    "\n",
    "GeneratorNet = nn.Sequential(                      # Generator\n",
    "    # random ideas (could from normal distribution)\n",
    "    nn.Linear(N_IDEAS, 64),\n",
    "    nn.ReLU(),\n",
    "    nn.Linear(64, 64),\n",
    "    nn.ReLU(),\n",
    "    nn.Linear(64, 64),\n",
    "    nn.ReLU(),\n",
    "    # making a painting from these random ideas\n",
    "    nn.Linear(64, ART_COMPONENTS),\n",
    "    nn.Sigmoid(),\n",
    ")"
   ]
  },
  {
   "cell_type": "code",
   "execution_count": 7,
   "metadata": {
    "ExecuteTime": {
     "end_time": "2021-07-12T03:12:51.810982Z",
     "start_time": "2021-07-12T03:12:38.904435Z"
    },
    "run_control": {
     "marked": false
    }
   },
   "outputs": [],
   "source": [
    "random.seed(2000)\n",
    "torch.manual_seed(256)\n",
    "DiscriminatorNet  = Net()\n",
    "DiscriminatorNet.apply(weight_init)\n",
    "GeneratorNet.apply(weight_init)\n",
    "DiscriminatorNet = torch.load(\"save/Deep_learning_D_10_supervised_1\")\n",
    "if(Is_GAN):\n",
    "    GeneratorNet = torch.load(\"save/Deep_learning_G_10\")\n",
    "DiscriminatorNet.to(dev)\n",
    "GeneratorNet.to(dev)\n",
    "\n",
    "opt_D = torch.optim.Adam(DiscriminatorNet.parameters(), lr=LR_D)\n",
    "opt_G = torch.optim.Adam(GeneratorNet.parameters(), lr=LR_G)\n",
    "\n",
    "\n",
    "scheduler_D = torch.optim.lr_scheduler.StepLR(opt_D, step_size=100, gamma=0.98)\n",
    "scheduler_G = torch.optim.lr_scheduler.StepLR(opt_G, step_size=100, gamma=0.98)\n",
    "\n",
    "index_train_list = []\n",
    "index_test_list = []\n",
    "train_losses = []\n",
    "test_losses = []"
   ]
  },
  {
   "cell_type": "code",
   "execution_count": 8,
   "metadata": {
    "ExecuteTime": {
     "end_time": "2021-07-12T03:12:51.825903Z",
     "start_time": "2021-07-12T03:12:51.811940Z"
    }
   },
   "outputs": [],
   "source": [
    "#supervised\n",
    "index_supervisedtrain_list = []\n",
    "supervisedtrain_losses = []\n",
    "for iteration in range(0):\n",
    "\n",
    "    temp_number = 0\n",
    "    total_batch_loss = 0 \n",
    "    \n",
    "    loss_sum = 0\n",
    "    denominator = 0\n",
    "    for index in range(0, BATCH_SIZE):\n",
    "        training_data_i, training_S, training_data,label = appen_train(\n",
    "            Generate_distribution(Agent_number_n))\n",
    "        h_loss = DiscriminatorNet.supervised_loss(training_data_i, label)\n",
    "        denominator += 1\n",
    "        loss_sum += h_loss\n",
    "\n",
    "    loss_sum = torch.sum(loss_sum)\n",
    "    loss = (loss_sum) / denominator \n",
    "    total_batch_loss += float(loss_sum)\n",
    "\n",
    "    opt_D.zero_grad()\n",
    "    loss.backward()\n",
    "    opt_D.step()\n",
    "\n",
    "    if (iteration%100 == 0):\n",
    "        print(iteration,loss,total_batch_loss)\n",
    "        index_supervisedtrain_list.append(iteration)\n",
    "        supervisedtrain_losses.append(total_batch_loss)\n",
    "    scheduler_D.step()"
   ]
  },
  {
   "cell_type": "code",
   "execution_count": 9,
   "metadata": {
    "ExecuteTime": {
     "end_time": "2021-07-12T03:12:52.013400Z",
     "start_time": "2021-07-12T03:12:51.826927Z"
    }
   },
   "outputs": [
    {
     "data": {
      "image/png": "[encoded data removed]",
      "text/plain": [
       "<Figure size 432x288 with 1 Axes>"
      ]
     },
     "metadata": {
      "needs_background": "light"
     },
     "output_type": "display_data"
    }
   ],
   "source": [
    "plt.ylim(0, 0.1)\n",
    "plt.plot(index_supervisedtrain_list ,supervisedtrain_losses)\n",
    "plt.ylabel('supervised train loss')\n",
    "\n",
    "plt.show()"
   ]
  },
  {
   "cell_type": "code",
   "execution_count": 10,
   "metadata": {
    "ExecuteTime": {
     "end_time": "2021-07-12T03:12:52.060276Z",
     "start_time": "2021-07-12T03:12:52.014399Z"
    }
   },
   "outputs": [],
   "source": [
    "if(echo!=0):\n",
    "    torch.save(DiscriminatorNet, \"save/Deep_learning_D_10_supervised\")\n",
    "    if(Is_GAN):\n",
    "        torch.save(GeneratorNet, \"save/Deep_learning_G_10\")"
   ]
  },
  {
   "cell_type": "code",
   "execution_count": 11,
   "metadata": {
    "ExecuteTime": {
     "end_time": "2021-07-12T03:12:52.075304Z",
     "start_time": "2021-07-12T03:12:52.061273Z"
    }
   },
   "outputs": [],
   "source": [
    "opt_D = torch.optim.Adam(DiscriminatorNet.parameters(), lr=LR_D/10)\n",
    "opt_G = torch.optim.Adam(GeneratorNet.parameters(), lr=LR_G/100)\n",
    "scheduler_D = torch.optim.lr_scheduler.StepLR(opt_D, step_size=100, gamma=0.98)\n",
    "scheduler_G = torch.optim.lr_scheduler.StepLR(opt_G, step_size=100, gamma=0.98)"
   ]
  },
  {
   "cell_type": "code",
   "execution_count": 12,
   "metadata": {
    "ExecuteTime": {
     "end_time": "2021-07-12T04:16:27.825489Z",
     "start_time": "2021-07-12T03:12:52.076268Z"
    }
   },
   "outputs": [
    {
     "name": "stdout",
     "output_type": "stream",
     "text": [
      "0\n",
      "Gan: tensor(-0.2605, device='cuda:0', grad_fn=<MaxBackward1>) tensor([0.], device='cuda:0', grad_fn=<AddBackward0>)\n",
      "\n",
      "50\n",
      "Gan: tensor(-0.2137, device='cuda:0', grad_fn=<MaxBackward1>) tensor([2.0113e-08], device='cuda:0', grad_fn=<AddBackward0>)\n",
      "\n",
      "100\n",
      "Gan: tensor(-0.2300, device='cuda:0', grad_fn=<MaxBackward1>) tensor([0.], device='cuda:0', grad_fn=<AddBackward0>)\n",
      "\n",
      "150\n",
      "Gan: tensor(-0.2256, device='cuda:0', grad_fn=<MaxBackward1>) tensor([0.], device='cuda:0', grad_fn=<AddBackward0>)\n",
      "\n",
      "200\n",
      "Gan: tensor(-0.2050, device='cuda:0', grad_fn=<MaxBackward1>) tensor([0.], device='cuda:0', grad_fn=<AddBackward0>)\n",
      "\n",
      "250\n",
      "Gan: tensor(-0.1948, device='cuda:0', grad_fn=<MaxBackward1>) tensor([0.], device='cuda:0', grad_fn=<AddBackward0>)\n",
      "\n",
      "300\n",
      "Gan: tensor(-0.2104, device='cuda:0', grad_fn=<MaxBackward1>) tensor([0.], device='cuda:0', grad_fn=<AddBackward0>)\n",
      "\n",
      "350\n",
      "Gan: tensor(-0.2419, device='cuda:0', grad_fn=<MaxBackward1>) tensor([2.0946e-09], device='cuda:0', grad_fn=<AddBackward0>)\n",
      "\n",
      "400\n",
      "Gan: tensor(-0.2256, device='cuda:0', grad_fn=<MaxBackward1>) tensor([0.], device='cuda:0', grad_fn=<AddBackward0>)\n",
      "\n",
      "450\n",
      "Gan: tensor(-0.2585, device='cuda:0', grad_fn=<MaxBackward1>) tensor([7.4161e-09], device='cuda:0', grad_fn=<AddBackward0>)\n",
      "\n",
      "500\n",
      "Gan: tensor(-0.2025, device='cuda:0', grad_fn=<MaxBackward1>) tensor([0.], device='cuda:0', grad_fn=<AddBackward0>)\n",
      "\n",
      "550\n",
      "Gan: tensor(-0.2534, device='cuda:0', grad_fn=<MaxBackward1>) tensor([0.], device='cuda:0', grad_fn=<AddBackward0>)\n",
      "\n",
      "600\n",
      "Gan: tensor(-0.2589, device='cuda:0', grad_fn=<MaxBackward1>) tensor([0.], device='cuda:0', grad_fn=<AddBackward0>)\n",
      "\n",
      "650\n",
      "Gan: tensor(-0.2348, device='cuda:0', grad_fn=<MaxBackward1>) tensor([0.], device='cuda:0', grad_fn=<AddBackward0>)\n",
      "\n",
      "700\n",
      "Gan: tensor(-0.3088, device='cuda:0', grad_fn=<MaxBackward1>) tensor([0.], device='cuda:0', grad_fn=<AddBackward0>)\n",
      "\n",
      "750\n",
      "Gan: tensor(-0.2561, device='cuda:0', grad_fn=<MaxBackward1>) tensor([0.], device='cuda:0', grad_fn=<AddBackward0>)\n",
      "\n",
      "800\n",
      "Gan: tensor(-0.2628, device='cuda:0', grad_fn=<MaxBackward1>) tensor([0.], device='cuda:0', grad_fn=<AddBackward0>)\n",
      "\n",
      "850\n",
      "Gan: tensor(-0.2433, device='cuda:0', grad_fn=<MaxBackward1>) tensor([0.], device='cuda:0', grad_fn=<AddBackward0>)\n",
      "\n",
      "900\n",
      "Gan: tensor(-0.1594, device='cuda:0', grad_fn=<MaxBackward1>) tensor([1.3429e-06], device='cuda:0', grad_fn=<AddBackward0>)\n",
      "\n",
      "950\n",
      "Gan: tensor(-0.1670, device='cuda:0', grad_fn=<MaxBackward1>) tensor([7.5683e-07], device='cuda:0', grad_fn=<AddBackward0>)\n",
      "\n",
      "1000\n",
      "Gan: tensor(-0.1560, device='cuda:0', grad_fn=<MaxBackward1>) tensor([1.7982e-07], device='cuda:0', grad_fn=<AddBackward0>)\n",
      "\n"
     ]
    }
   ],
   "source": [
    "for iteration in range(int(echo)):\n",
    "\n",
    "    temp_number = 0\n",
    "    total_batch_loss = 0 \n",
    "    \n",
    "    loss2_list = []\n",
    "    loss1_sum = 0\n",
    "    loss2_sum = 0\n",
    "    loss = 0\n",
    "    if(Is_GAN==False):\n",
    "        denominator = 0\n",
    "        for index in range(0, BATCH_SIZE):\n",
    "            training_data_i, training_label, training_data, label = appen_train(\n",
    "                Generate_distribution(Agent_number_n))\n",
    "            h_loss1, h_loss2 = DiscriminatorNet(training_data_i, training_label,\n",
    "                                           training_data)\n",
    "            denominator += 1\n",
    "            loss1_sum += h_loss1\n",
    "            loss2_sum += h_loss2\n",
    "\n",
    "        loss_sum = torch.sum(loss1_sum + loss2_sum)\n",
    "        loss = (loss_sum) / denominator \n",
    "        total_batch_loss +=float(loss_sum)\n",
    "\n",
    "        opt_D.zero_grad()\n",
    "        loss.backward()\n",
    "        opt_D.step()\n",
    "\n",
    "        temp_number = iteration\n",
    "        index_train_list.append(iteration)\n",
    "        train_losses.append(total_batch_loss)\n",
    "\n",
    "\n",
    "    ## Gan \n",
    "    else:## Gan Work traning GeneratorNet\n",
    "\n",
    "        # real painting from artist\n",
    "        G_ideas = torch.randn(BATCH_SIZE, N_IDEAS,\n",
    "                              requires_grad=True).to(dev)  # random ideas\\n\n",
    "        # fake painting from G (random ideas)\n",
    "\n",
    "        G_values = GeneratorNet(G_ideas)\n",
    "        G_values , indices = torch.sort(G_values, descending=True)\n",
    "    #     print(artist_paintings)\n",
    "    #     print(G_paintings)\n",
    "\n",
    "        result_list = []\n",
    "        for index in range(BATCH_SIZE):\n",
    "            h_list = []\n",
    "            value_list_tensor, S_tensor = redistribution_value_function(\n",
    "                G_values[index])\n",
    "            for i in range(Agent_number_n):\n",
    "                h = DiscriminatorNet.calculate(\n",
    "                    value_list_tensor[i].cuda().type(torch.float32))\n",
    "                h_list.append(h)\n",
    "            h_list = torch.stack(h_list)\n",
    "            result_list.append(torch.sum(h_list)/S_tensor.cuda())\n",
    "        result_list = torch.stack(result_list)\n",
    "\n",
    "        diff_loss = torch.max(result_list)-torch.min(result_list)\n",
    "        G_loss = torch.max(- diff_loss)\n",
    "\n",
    "        opt_G.zero_grad()\n",
    "        G_loss.backward()\n",
    "        opt_G.step()\n",
    "\n",
    "    # real painting from artist\n",
    "        G_ideas = torch.randn(BATCH_SIZE, N_IDEAS,\n",
    "                              requires_grad=True).to(dev)  # random ideas\\n\n",
    "        # fake painting from G (random ideas)\n",
    "\n",
    "        G_values = GeneratorNet(G_ideas)\n",
    "        G_values , indices = torch.sort(G_values, descending=True)\n",
    "    #     print(artist_paintings)\n",
    "    #     print(G_paintings)\n",
    "\n",
    "        result_list = []\n",
    "        for index in range(BATCH_SIZE):\n",
    "            h_list = []\n",
    "            value_list_tensor, S_tensor = redistribution_value_function(\n",
    "                G_values[index])\n",
    "            for i in range(Agent_number_n):\n",
    "                h = DiscriminatorNet.calculate(\n",
    "                    value_list_tensor[i].cuda().type(torch.float32))\n",
    "                h_list.append(h)\n",
    "            h_list = torch.stack(h_list)\n",
    "            result_list.append(torch.sum(h_list)/S_tensor.cuda())\n",
    "        result_list = torch.stack(result_list)\n",
    "\n",
    "        diff_loss = torch.max(result_list)-torch.min(result_list)\n",
    "\n",
    "        D_loss = torch.where((Agent_number_n-1)>torch.min(result_list),\n",
    "            torch.square(((Agent_number_n-1)-torch.min(result_list))),\n",
    "            torch.zeros(1).to(dev)\n",
    "          )   + torch.where((Agent_number_n-Alpha)<torch.max(result_list),\n",
    "                        torch.square((torch.max(result_list)-(Agent_number_n-Alpha)))/10000,\n",
    "                        torch.zeros(1).to(dev)\n",
    "                      )\n",
    "\n",
    "\n",
    "        opt_D.zero_grad()\n",
    "        D_loss.backward()\n",
    "        opt_D.step()\n",
    "\n",
    "\n",
    "\n",
    "    scheduler_D.step()\n",
    "    scheduler_G.step()\n",
    "    temp_number = iteration\n",
    "    if (iteration%50 == 0):\n",
    "        print(temp_number)\n",
    "        if(Is_GAN):\n",
    "            print(\"Gan:\",G_loss,D_loss)\n",
    "            print()\n",
    "        else:\n",
    "            print(loss,float(loss1_sum),float(loss2_sum))\n",
    "            print()\n",
    "        "
   ]
  },
  {
   "cell_type": "code",
   "execution_count": 13,
   "metadata": {
    "ExecuteTime": {
     "end_time": "2021-07-12T04:16:27.920016Z",
     "start_time": "2021-07-12T04:16:27.826419Z"
    }
   },
   "outputs": [
    {
     "data": {
      "image/png": "[encoded data removed]",
      "text/plain": [
       "<Figure size 432x288 with 1 Axes>"
      ]
     },
     "metadata": {
      "needs_background": "light"
     },
     "output_type": "display_data"
    }
   ],
   "source": [
    "plt.ylim(0, 1.0)\n",
    "plt.plot(index_test_list,test_losses)\n",
    "plt.ylabel('test loss')\n",
    "\n",
    "plt.show()"
   ]
  },
  {
   "cell_type": "code",
   "execution_count": 14,
   "metadata": {
    "ExecuteTime": {
     "end_time": "2021-07-12T04:16:27.935934Z",
     "start_time": "2021-07-12T04:16:27.920947Z"
    }
   },
   "outputs": [],
   "source": [
    "if(echo!=0):\n",
    "    torch.save(DiscriminatorNet, \"save/Deep_learning_D_10_supervised_1\")\n",
    "    if(Is_GAN):\n",
    "        torch.save(GeneratorNet, \"save/Deep_learning_G_10\")"
   ]
  },
  {
   "cell_type": "code",
   "execution_count": 15,
   "metadata": {
    "ExecuteTime": {
     "end_time": "2021-07-12T04:16:33.192823Z",
     "start_time": "2021-07-12T04:16:27.936904Z"
    }
   },
   "outputs": [
    {
     "name": "stdout",
     "output_type": "stream",
     "text": [
      "[[[0.8501101  0.75861452 0.57950547 ... 0.04097043 0.0366577  0.00974617]\n",
      "  [0.86150817 0.75861452 0.57950547 ... 0.04097043 0.0366577  0.00974617]\n",
      "  [0.86150817 0.8501101  0.57950547 ... 0.04097043 0.0366577  0.00974617]\n",
      "  ...\n",
      "  [0.86150817 0.8501101  0.75861452 ... 0.19288788 0.0366577  0.00974617]\n",
      "  [0.86150817 0.8501101  0.75861452 ... 0.19288788 0.04097043 0.00974617]\n",
      "  [0.86150817 0.8501101  0.75861452 ... 0.19288788 0.04097043 0.0366577 ]]\n",
      "\n",
      " [[0.94118962 0.83854428 0.7886044  ... 0.40729346 0.29236781 0.04027978]\n",
      "  [0.98282416 0.83854428 0.7886044  ... 0.40729346 0.29236781 0.04027978]\n",
      "  [0.98282416 0.94118962 0.7886044  ... 0.40729346 0.29236781 0.04027978]\n",
      "  ...\n",
      "  [0.98282416 0.94118962 0.83854428 ... 0.59349701 0.29236781 0.04027978]\n",
      "  [0.98282416 0.94118962 0.83854428 ... 0.59349701 0.40729346 0.04027978]\n",
      "  [0.98282416 0.94118962 0.83854428 ... 0.59349701 0.40729346 0.29236781]]\n",
      "\n",
      " [[0.76382984 0.52122664 0.46770668 ... 0.13981526 0.03292349 0.03214455]\n",
      "  [0.98429132 0.52122664 0.46770668 ... 0.13981526 0.03292349 0.03214455]\n",
      "  [0.98429132 0.76382984 0.46770668 ... 0.13981526 0.03292349 0.03214455]\n",
      "  ...\n",
      "  [0.98429132 0.76382984 0.52122664 ... 0.2678343  0.03292349 0.03214455]\n",
      "  [0.98429132 0.76382984 0.52122664 ... 0.2678343  0.13981526 0.03214455]\n",
      "  [0.98429132 0.76382984 0.52122664 ... 0.2678343  0.13981526 0.03292349]]\n",
      "\n",
      " ...\n",
      "\n",
      " [[0.94853422 0.91197437 0.84349673 ... 0.09226501 0.0567787  0.00922512]\n",
      "  [0.96720944 0.91197437 0.84349673 ... 0.09226501 0.0567787  0.00922512]\n",
      "  [0.96720944 0.94853422 0.84349673 ... 0.09226501 0.0567787  0.00922512]\n",
      "  ...\n",
      "  [0.96720944 0.94853422 0.91197437 ... 0.54216369 0.0567787  0.00922512]\n",
      "  [0.96720944 0.94853422 0.91197437 ... 0.54216369 0.09226501 0.00922512]\n",
      "  [0.96720944 0.94853422 0.91197437 ... 0.54216369 0.09226501 0.0567787 ]]\n",
      "\n",
      " [[0.80753636 0.69815357 0.57185173 ... 0.35087355 0.13705306 0.05210604]\n",
      "  [0.97231276 0.69815357 0.57185173 ... 0.35087355 0.13705306 0.05210604]\n",
      "  [0.97231276 0.80753636 0.57185173 ... 0.35087355 0.13705306 0.05210604]\n",
      "  ...\n",
      "  [0.97231276 0.80753636 0.69815357 ... 0.35339491 0.13705306 0.05210604]\n",
      "  [0.97231276 0.80753636 0.69815357 ... 0.35339491 0.35087355 0.05210604]\n",
      "  [0.97231276 0.80753636 0.69815357 ... 0.35339491 0.35087355 0.13705306]]\n",
      "\n",
      " [[0.60188445 0.34782892 0.29768098 ... 0.17266176 0.09346303 0.02083286]\n",
      "  [0.69418328 0.34782892 0.29768098 ... 0.17266176 0.09346303 0.02083286]\n",
      "  [0.69418328 0.60188445 0.29768098 ... 0.17266176 0.09346303 0.02083286]\n",
      "  ...\n",
      "  [0.69418328 0.60188445 0.34782892 ... 0.1767012  0.09346303 0.02083286]\n",
      "  [0.69418328 0.60188445 0.34782892 ... 0.1767012  0.17266176 0.02083286]\n",
      "  [0.69418328 0.60188445 0.34782892 ... 0.1767012  0.17266176 0.09346303]]]\n",
      "[4.22864396 6.27189386 3.90813759 ... 5.90917358 4.84562556 2.78893231]\n"
     ]
    }
   ],
   "source": [
    "def read_testing_data():\n",
    "    for i in range(50000):\n",
    "        appen_test(Generate_distribution(Agent_number_n));\n",
    "        \n",
    "testing_data=[]\n",
    "testing_label=[]\n",
    "S=1.0\n",
    "read_testing_data();\n",
    "\n",
    "testing_data=np.array(testing_data)\n",
    "testing_label=np.array(testing_label)\n",
    "print(testing_data)\n",
    "print(testing_label)"
   ]
  },
  {
   "cell_type": "code",
   "execution_count": 18,
   "metadata": {
    "ExecuteTime": {
     "end_time": "2021-07-12T04:32:24.539842Z",
     "start_time": "2021-07-12T04:31:31.977097Z"
    },
    "run_control": {
     "marked": true
    }
   },
   "outputs": [
    {
     "name": "stdout",
     "output_type": "stream",
     "text": [
      "[[[0.998533   0.9984528  0.9981323  ... 0.99618894 0.9956487  0.99342453]\n",
      "  [0.9998858  0.9984528  0.9981323  ... 0.99618894 0.9956487  0.99342453]\n",
      "  [0.9998858  0.998533   0.9981323  ... 0.99618894 0.9956487  0.99342453]\n",
      "  ...\n",
      "  [0.9998858  0.998533   0.9984528  ... 0.9965072  0.9956487  0.99342453]\n",
      "  [0.9998858  0.998533   0.9984528  ... 0.9965072  0.99618894 0.99342453]\n",
      "  [0.9998858  0.998533   0.9984528  ... 0.9965072  0.99618894 0.9956487 ]]\n",
      "\n",
      " [[0.9847126  0.98388827 0.9812555  ... 0.96876985 0.9620479  0.9533285 ]\n",
      "  [0.9956928  0.98388827 0.9812555  ... 0.96876985 0.9620479  0.9533285 ]\n",
      "  [0.9956928  0.9847126  0.9812555  ... 0.96876985 0.9620479  0.9533285 ]\n",
      "  ...\n",
      "  [0.9956928  0.9847126  0.98388827 ... 0.9708303  0.9620479  0.9533285 ]\n",
      "  [0.9956928  0.9847126  0.98388827 ... 0.9708303  0.96876985 0.9533285 ]\n",
      "  [0.9956928  0.9847126  0.98388827 ... 0.9708303  0.96876985 0.9620479 ]]\n",
      "\n",
      " [[0.7800725  0.7419748  0.74196464 ... 0.7162671  0.70556563 0.6929999 ]\n",
      "  [0.8924221  0.7419748  0.74196464 ... 0.7162671  0.70556563 0.6929999 ]\n",
      "  [0.8924221  0.7800725  0.74196464 ... 0.7162671  0.70556563 0.6929999 ]\n",
      "  ...\n",
      "  [0.8924221  0.7800725  0.7419748  ... 0.71635765 0.70556563 0.6929999 ]\n",
      "  [0.8924221  0.7800725  0.7419748  ... 0.71635765 0.7162671  0.6929999 ]\n",
      "  [0.8924221  0.7800725  0.7419748  ... 0.71635765 0.7162671  0.70556563]]\n",
      "\n",
      " ...\n",
      "\n",
      " [[0.12903444 0.12830141 0.12618321 ... 0.12094143 0.11629346 0.11352333]\n",
      "  [0.12970082 0.12830141 0.12618321 ... 0.12094143 0.11629346 0.11352333]\n",
      "  [0.12970082 0.12903444 0.12618321 ... 0.12094143 0.11629346 0.11352333]\n",
      "  ...\n",
      "  [0.12970082 0.12903444 0.12830141 ... 0.12212807 0.11629346 0.11352333]\n",
      "  [0.12970082 0.12903444 0.12830141 ... 0.12212807 0.12094143 0.11352333]\n",
      "  [0.12970082 0.12903444 0.12830141 ... 0.12212807 0.12094143 0.11629346]]\n",
      "\n",
      " [[0.9969638  0.9964737  0.9956201  ... 0.98943543 0.9886081  0.9860292 ]\n",
      "  [0.9997148  0.9964737  0.9956201  ... 0.98943543 0.9886081  0.9860292 ]\n",
      "  [0.9997148  0.9969638  0.9956201  ... 0.98943543 0.9886081  0.9860292 ]\n",
      "  ...\n",
      "  [0.9997148  0.9969638  0.9964737  ... 0.9922272  0.9886081  0.9860292 ]\n",
      "  [0.9997148  0.9969638  0.9964737  ... 0.9922272  0.98943543 0.9860292 ]\n",
      "  [0.9997148  0.9969638  0.9964737  ... 0.9922272  0.98943543 0.9886081 ]]\n",
      "\n",
      " [[0.37439373 0.34836388 0.34632203 ... 0.2864069  0.28585428 0.28182212]\n",
      "  [0.3849191  0.34836388 0.34632203 ... 0.2864069  0.28585428 0.28182212]\n",
      "  [0.3849191  0.37439373 0.34632203 ... 0.2864069  0.28585428 0.28182212]\n",
      "  ...\n",
      "  [0.3849191  0.37439373 0.34836388 ... 0.29416877 0.28585428 0.28182212]\n",
      "  [0.3849191  0.37439373 0.34836388 ... 0.29416877 0.2864069  0.28182212]\n",
      "  [0.3849191  0.37439373 0.34836388 ... 0.29416877 0.2864069  0.28585428]]]\n",
      "[9.97088248 9.74890041 7.44036514 ... 1.2351443  9.93270969 3.22910944]\n"
     ]
    }
   ],
   "source": [
    "def appen_test_G(x_list):\n",
    "    global temp_list\n",
    "                \n",
    "    S= max(sum(x_list),1.0);\n",
    "    temp_list = []\n",
    "    \n",
    "    for i in range(Agent_number_n):\n",
    "        temp = []\n",
    "        for j in range(Agent_number_n):\n",
    "            if(i!=j):\n",
    "                temp.append(x_list[j])\n",
    "        appen(temp,S)\n",
    "    testing_data_G.append(temp_list)\n",
    "    testing_label_G.append(S)\n",
    "def read_testing_data_G():\n",
    "    for i in range(50000):\n",
    "        #appen_test_G(sorted(np.random.rand(Agent_number_n), reverse=True));\n",
    "        G_ideas = torch.randn(N_IDEAS).to(dev)  # random ideas\\n\n",
    "        G_values = GeneratorNet(G_ideas)\n",
    "        G_values , indices = torch.sort(G_values, descending=True)\n",
    "        appen_test_G(G_values.detach().cpu().numpy()) \n",
    "\n",
    "testing_data_G = []\n",
    "testing_label_G = []\n",
    "read_testing_data_G()\n",
    "testing_data_G=np.array(testing_data_G)\n",
    "testing_label_G=np.array(testing_label_G)\n",
    "print(testing_data_G)\n",
    "print(testing_label_G)"
   ]
  },
  {
   "cell_type": "code",
   "execution_count": 19,
   "metadata": {
    "ExecuteTime": {
     "end_time": "2021-07-12T04:47:11.751987Z",
     "start_time": "2021-07-12T04:32:24.540799Z"
    }
   },
   "outputs": [
    {
     "name": "stdout",
     "output_type": "stream",
     "text": [
      "9.566680644596724 9.20884085342748 0.35783979116924414\n",
      "9.273618989103522\n"
     ]
    }
   ],
   "source": [
    "\n",
    "result_list_G = []\n",
    "for index in range(len(testing_data_G)):\n",
    "    h_list = []\n",
    "    for i in range(Agent_number_n):\n",
    "        h = DiscriminatorNet.calculate(torch.tensor(testing_data_G[index][i]).to(dev).type(torch.float32))\n",
    "        h_list.append(float(h))\n",
    "    \n",
    "    #print(sum(h_list),h_list,sum(h_list)/testing_label[index])\n",
    "    result_list_G.append(sum(h_list)/testing_label_G[index])\n",
    "    \n",
    "\n",
    "print(max(result_list_G),min(result_list_G),max(result_list_G)-min(result_list_G))\n",
    "print(sum(result_list_G)/len(result_list_G))"
   ]
  },
  {
   "cell_type": "code",
   "execution_count": 20,
   "metadata": {
    "ExecuteTime": {
     "end_time": "2021-07-12T04:47:12.611708Z",
     "start_time": "2021-07-12T04:47:11.752989Z"
    }
   },
   "outputs": [
    {
     "data": {
      "image/png": "[encoded data removed]",
      "text/plain": [
       "<Figure size 432x288 with 1 Axes>"
      ]
     },
     "metadata": {
      "needs_background": "light"
     },
     "output_type": "display_data"
    }
   ],
   "source": [
    "plt.hist(result_list_G,bins=500)\n",
    "\n",
    "plt.title(\"Means\", y=1.015, fontsize=20)\n",
    "plt.axvline(x=sum(result_list_G)/len(result_list_G), linestyle='--', linewidth=2.5, label=\"sample mean\", c='orange')\n",
    "plt.xlabel(\"samples\", labelpad=14)\n",
    "plt.ylabel(\"frequency of occurence\", labelpad=14)\n",
    "plt.legend();\n",
    "\n",
    "# result_list_G.sort()\n",
    "\n",
    "# plt.axvline(x=result_list[int(len(result_list_G)*0.01)], linestyle='--', linewidth=0.5, label=\"1%\", c='b')\n",
    "# plt.axvline(x=result_list[int(len(result_list_G)*0.99)], linestyle='--', linewidth=0.5, label=\"99%\", c='r')\n",
    "\n",
    "\n",
    "plt.show()"
   ]
  },
  {
   "cell_type": "code",
   "execution_count": 21,
   "metadata": {
    "ExecuteTime": {
     "end_time": "2021-07-12T04:47:13.535026Z",
     "start_time": "2021-07-12T04:47:12.613704Z"
    }
   },
   "outputs": [
    {
     "data": {
      "image/png": "[encoded data removed]",
      "text/plain": [
       "<Figure size 432x288 with 1 Axes>"
      ]
     },
     "metadata": {
      "needs_background": "light"
     },
     "output_type": "display_data"
    }
   ],
   "source": [
    "final_list = result_list + result_list_G\n",
    "\n",
    "\n",
    "plt.hist(final_list,bins=500)\n",
    "\n",
    "plt.title(\"Means\", y=1.015, fontsize=20)\n",
    "plt.axvline(x=sum(final_list)/len(final_list), linestyle='--', linewidth=2.5, label=\"sample mean\", c='orange')\n",
    "plt.xlabel(\"samples\", labelpad=14)\n",
    "plt.ylabel(\"frequency of occurence\", labelpad=14)\n",
    "plt.legend();\n",
    "\n",
    "# final_list.sort()\n",
    "\n",
    "# plt.axvline(x=final_list[int(len(final_list)*0.01)], linestyle='--', linewidth=0.5, label=\"1%\", c='b')\n",
    "# plt.axvline(x=final_list[int(len(final_list)*0.99)], linestyle='--', linewidth=0.5, label=\"99%\", c='r')\n",
    "\n",
    "\n",
    "plt.show()"
   ]
  },
  {
   "cell_type": "code",
   "execution_count": 22,
   "metadata": {
    "ExecuteTime": {
     "end_time": "2021-07-12T04:47:14.342419Z",
     "start_time": "2021-07-12T04:47:13.535998Z"
    }
   },
   "outputs": [
    {
     "data": {
      "image/png": "[encoded data removed]",
      "text/plain": [
       "<Figure size 432x288 with 1 Axes>"
      ]
     },
     "metadata": {
      "needs_background": "light"
     },
     "output_type": "display_data"
    },
    {
     "name": "stdout",
     "output_type": "stream",
     "text": [
      "9.503533570939757 9.140216013767239 0.36331755717251824\n",
      "9.295409357936467\n"
     ]
    }
   ],
   "source": [
    "final_list = result_list[:5000] + result_list_G[:5000]\n",
    "\n",
    "\n",
    "plt.hist(final_list,bins=500)\n",
    "\n",
    "plt.title(\"Means\", y=1.015, fontsize=20)\n",
    "plt.axvline(x=sum(final_list)/len(final_list), linestyle='--', linewidth=2.5, label=\"sample mean\", c='orange')\n",
    "plt.xlabel(\"samples\", labelpad=14)\n",
    "plt.ylabel(\"frequency of occurence\", labelpad=14)\n",
    "plt.legend();\n",
    "\n",
    "\n",
    "plt.show()\n",
    "\n",
    "\n",
    "print(max(final_list),min(final_list),max(final_list)-min(final_list))\n",
    "print(sum(final_list)/len(final_list))"
   ]
  },
  {
   "cell_type": "code",
   "execution_count": 23,
   "metadata": {
    "ExecuteTime": {
     "end_time": "2021-07-12T04:47:15.244548Z",
     "start_time": "2021-07-12T04:47:14.343416Z"
    }
   },
   "outputs": [
    {
     "data": {
      "image/png": "[encoded data removed]",
      "text/plain": [
       "<Figure size 432x288 with 1 Axes>"
      ]
     },
     "metadata": {
      "needs_background": "light"
     },
     "output_type": "display_data"
    },
    {
     "name": "stdout",
     "output_type": "stream",
     "text": [
      "9.503533570939757 9.140216013767239 0.36331755717251824\n",
      "9.299875562559706\n"
     ]
    }
   ],
   "source": [
    "final_list = result_list[:10000] + result_list_G[:10000]\n",
    "\n",
    "\n",
    "plt.hist(final_list,bins=500)\n",
    "\n",
    "plt.title(\"Means\", y=1.015, fontsize=20)\n",
    "plt.axvline(x=sum(final_list)/len(final_list), linestyle='--', linewidth=2.5, label=\"sample mean\", c='orange')\n",
    "plt.xlabel(\"samples\", labelpad=14)\n",
    "plt.ylabel(\"frequency of occurence\", labelpad=14)\n",
    "plt.legend();\n",
    "\n",
    "\n",
    "plt.show()\n",
    "\n",
    "\n",
    "print(max(final_list),min(final_list),max(final_list)-min(final_list))\n",
    "print(sum(final_list)/len(final_list))"
   ]
  },
  {
   "cell_type": "code",
   "execution_count": 24,
   "metadata": {
    "ExecuteTime": {
     "end_time": "2021-07-12T04:47:16.147656Z",
     "start_time": "2021-07-12T04:47:15.245546Z"
    }
   },
   "outputs": [
    {
     "data": {
      "image/png": "[encoded data removed]",
      "text/plain": [
       "<Figure size 432x288 with 1 Axes>"
      ]
     },
     "metadata": {
      "needs_background": "light"
     },
     "output_type": "display_data"
    },
    {
     "name": "stdout",
     "output_type": "stream",
     "text": [
      "9.509668269732899 9.140216013767239 0.3694522559656601\n",
      "9.305360769012685\n"
     ]
    }
   ],
   "source": [
    "final_list = result_list[:25000] + result_list_G[:25000]\n",
    "\n",
    "\n",
    "plt.hist(final_list,bins=500)\n",
    "\n",
    "plt.title(\"Means\", y=1.015, fontsize=20)\n",
    "plt.axvline(x=sum(final_list)/len(final_list), linestyle='--', linewidth=2.5, label=\"sample mean\", c='orange')\n",
    "plt.xlabel(\"samples\", labelpad=14)\n",
    "plt.ylabel(\"frequency of occurence\", labelpad=14)\n",
    "plt.legend();\n",
    "\n",
    "\n",
    "plt.show()\n",
    "\n",
    "\n",
    "print(max(final_list),min(final_list),max(final_list)-min(final_list))\n",
    "print(sum(final_list)/len(final_list))"
   ]
  },
  {
   "cell_type": "code",
   "execution_count": 25,
   "metadata": {
    "ExecuteTime": {
     "end_time": "2021-07-12T04:47:17.095687Z",
     "start_time": "2021-07-12T04:47:16.151646Z"
    }
   },
   "outputs": [
    {
     "data": {
      "image/png": "[encoded data removed]",
      "text/plain": [
       "<Figure size 432x288 with 1 Axes>"
      ]
     },
     "metadata": {
      "needs_background": "light"
     },
     "output_type": "display_data"
    },
    {
     "name": "stdout",
     "output_type": "stream",
     "text": [
      "9.509668269732899 9.140216013767239 0.3694522559656601\n",
      "9.308173247901536\n"
     ]
    }
   ],
   "source": [
    "final_list = result_list[:40000] + result_list_G[:40000]\n",
    "\n",
    "\n",
    "plt.hist(final_list,bins=500)\n",
    "\n",
    "plt.title(\"Means\", y=1.015, fontsize=20)\n",
    "plt.axvline(x=sum(final_list)/len(final_list), linestyle='--', linewidth=2.5, label=\"sample mean\", c='orange')\n",
    "plt.xlabel(\"samples\", labelpad=14)\n",
    "plt.ylabel(\"frequency of occurence\", labelpad=14)\n",
    "plt.legend();\n",
    "\n",
    "\n",
    "plt.show()\n",
    "\n",
    "\n",
    "print(max(final_list),min(final_list),max(final_list)-min(final_list))\n",
    "print(sum(final_list)/len(final_list))"
   ]
  },
  {
   "cell_type": "markdown",
   "metadata": {},
   "source": [
    " "
   ]
  },
  {
   "cell_type": "code",
   "execution_count": 26,
   "metadata": {
    "ExecuteTime": {
     "end_time": "2021-07-12T04:47:18.033260Z",
     "start_time": "2021-07-12T04:47:17.097646Z"
    }
   },
   "outputs": [
    {
     "data": {
      "image/png": "[encoded data removed]",
      "text/plain": [
       "<Figure size 432x288 with 1 Axes>"
      ]
     },
     "metadata": {
      "needs_background": "light"
     },
     "output_type": "display_data"
    },
    {
     "name": "stdout",
     "output_type": "stream",
     "text": [
      "9.509668269732899 9.140216013767239 0.3694522559656601\n",
      "9.309374567924014\n"
     ]
    }
   ],
   "source": [
    "final_list = result_list[:50000] + result_list_G[:50000]\n",
    "\n",
    "\n",
    "plt.hist(final_list,bins=500)\n",
    "\n",
    "plt.title(\"Means\", y=1.015, fontsize=20)\n",
    "plt.axvline(x=sum(final_list)/len(final_list), linestyle='--', linewidth=2.5, label=\"sample mean\", c='orange')\n",
    "plt.xlabel(\"samples\", labelpad=14)\n",
    "plt.ylabel(\"frequency of occurence\", labelpad=14)\n",
    "plt.legend();\n",
    "\n",
    "\n",
    "plt.show()\n",
    "\n",
    "\n",
    "print(max(final_list),min(final_list),max(final_list)-min(final_list))\n",
    "print(sum(final_list)/len(final_list))"
   ]
  },
  {
   "cell_type": "code",
   "execution_count": null,
   "metadata": {},
   "outputs": [],
   "source": []
  }
 ],
 "metadata": {
  "hide_input": false,
  "kernelspec": {
   "display_name": "Python 3",
   "language": "python",
   "name": "python3"
  },
  "language_info": {
   "codemirror_mode": {
    "name": "ipython",
    "version": 3
   },
   "file_extension": ".py",
   "mimetype": "text/x-python",
   "name": "python",
   "nbconvert_exporter": "python",
   "pygments_lexer": "ipython3",
   "version": "3.8.3"
  },
  "varInspector": {
   "cols": {
    "lenName": 16,
    "lenType": 16,
    "lenVar": 40
   },
   "kernels_config": {
    "python": {
     "delete_cmd_postfix": "",
     "delete_cmd_prefix": "del ",
     "library": "var_list.py",
     "varRefreshCmd": "print(var_dic_list())"
    },
    "r": {
     "delete_cmd_postfix": ") ",
     "delete_cmd_prefix": "rm(",
     "library": "var_list.r",
     "varRefreshCmd": "cat(var_dic_list()) "
    }
   },
   "types_to_exclude": [
    "module",
    "function",
    "builtin_function_or_method",
    "instance",
    "_Feature"
   ],
   "window_display": false
  }
 },
 "nbformat": 4,
 "nbformat_minor": 4
}
