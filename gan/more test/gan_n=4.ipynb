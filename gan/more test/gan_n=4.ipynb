{
 "cells": [
  {
   "cell_type": "code",
   "execution_count": 1,
   "metadata": {
    "ExecuteTime": {
     "end_time": "2021-07-11T14:43:56.244661Z",
     "start_time": "2021-07-11T14:43:54.133202Z"
    }
   },
   "outputs": [
    {
     "name": "stdout",
     "output_type": "stream",
     "text": [
      "pygame 2.0.1 (SDL 2.0.14, Python 3.8.3)\n",
      "Hello from the pygame community. https://www.pygame.org/contribute.html\n"
     ]
    },
    {
     "name": "stderr",
     "output_type": "stream",
     "text": [
      "D:\\ComputerSoftwares\\Anaconda\\lib\\site-packages\\sklearn\\utils\\deprecation.py:143: FutureWarning: The sklearn.datasets.samples_generator module is  deprecated in version 0.22 and will be removed in version 0.24. The corresponding classes / functions should instead be imported from sklearn.datasets. Anything that cannot be imported from sklearn.datasets is now part of the private API.\n",
      "  warnings.warn(message, FutureWarning)\n"
     ]
    },
    {
     "name": "stdout",
     "output_type": "stream",
     "text": [
      "cuda:0\n"
     ]
    }
   ],
   "source": [
    "\n",
    "import pygame\n",
    "import random\n",
    "import os\n",
    "import time\n",
    "import numpy as np\n",
    "import math\n",
    "import torch\n",
    "import torch.nn.functional\n",
    "import matplotlib.pyplot as plt\n",
    "import torch.optim as opt\n",
    "from torch.autograd import Variable\n",
    "from sklearn.model_selection import train_test_split\n",
    "\n",
    "import scipy.stats as st\n",
    "from sklearn.datasets.samples_generator import make_blobs\n",
    "from matplotlib.colors import LogNorm \n",
    "import matplotlib.cm as cm\n",
    "import torch.nn as nn\n",
    "import numpy as np\n",
    "import matplotlib.pyplot as plt\n",
    "import plotly.graph_objects as go\n",
    "import plotly.express as px\n",
    "from scipy.interpolate import griddata\n",
    "if torch.cuda.is_available():  \n",
    "    dev = \"cuda:0\" \n",
    "else:  \n",
    "    dev = \"cpu\"  \n",
    "\n",
    "print(dev)\n",
    "\n"
   ]
  },
  {
   "cell_type": "code",
   "execution_count": 2,
   "metadata": {
    "ExecuteTime": {
     "end_time": "2021-07-11T14:43:56.260214Z",
     "start_time": "2021-07-11T14:43:56.246624Z"
    }
   },
   "outputs": [],
   "source": [
    "global temp_list\n",
    "temp_list = []\n",
    "Agent_number_n=4;\n",
    "Alpha = 0.64\n",
    "\n",
    "# Hyper Parameters\n",
    "echo = 2001\n",
    "BATCH_SIZE = 64\n",
    "LR_G = 0.0005           # learning rate for generator\n",
    "LR_D = 0.0005           # learning rate for discriminator\n",
    "N_IDEAS = Agent_number_n             # think of this as number of ideas for generating an art work (Generator)\n",
    "ART_COMPONENTS = Agent_number_n     # it could be total point G can draw in the canvas\n",
    "\n",
    "Is_GAN = True # if use Gan\n",
    "\n",
    "def Generate_distribution(Agent_number_n):\n",
    "    return sorted(np.random.rand(Agent_number_n), reverse=True)\n",
    "    #return sorted(np.random.normal(normalloc,normalscale,Agent_number_n))"
   ]
  },
  {
   "cell_type": "code",
   "execution_count": 3,
   "metadata": {
    "ExecuteTime": {
     "end_time": "2021-07-11T14:43:56.511739Z",
     "start_time": "2021-07-11T14:43:56.262145Z"
    }
   },
   "outputs": [
    {
     "name": "stdout",
     "output_type": "stream",
     "text": [
      "[[[0.6296199  0.16428312 0.02135004]\n",
      "  [0.72693163 0.16428312 0.02135004]\n",
      "  [0.72693163 0.6296199  0.02135004]\n",
      "  [0.72693163 0.6296199  0.16428312]]\n",
      "\n",
      " [[0.72624192 0.43927588 0.24831071]\n",
      "  [0.95824557 0.43927588 0.24831071]\n",
      "  [0.95824557 0.72624192 0.24831071]\n",
      "  [0.95824557 0.72624192 0.43927588]]\n",
      "\n",
      " [[0.54655145 0.33835037 0.23127281]\n",
      "  [0.66952469 0.33835037 0.23127281]\n",
      "  [0.66952469 0.54655145 0.23127281]\n",
      "  [0.66952469 0.54655145 0.33835037]]\n",
      "\n",
      " ...\n",
      "\n",
      " [[0.3617713  0.16659563 0.06292157]\n",
      "  [0.95262855 0.16659563 0.06292157]\n",
      "  [0.95262855 0.3617713  0.06292157]\n",
      "  [0.95262855 0.3617713  0.16659563]]\n",
      "\n",
      " [[0.31382345 0.10691546 0.00950515]\n",
      "  [0.71071537 0.10691546 0.00950515]\n",
      "  [0.71071537 0.31382345 0.00950515]\n",
      "  [0.71071537 0.31382345 0.10691546]]\n",
      "\n",
      " [[0.67274149 0.36020593 0.27449534]\n",
      "  [0.92429048 0.36020593 0.27449534]\n",
      "  [0.92429048 0.67274149 0.27449534]\n",
      "  [0.92429048 0.67274149 0.36020593]]]\n",
      "[1.54218469 2.37207409 1.78569934 ... 1.54391705 1.14095943 2.23173324]\n"
     ]
    }
   ],
   "source": [
    "def h_3_star(a, b, t):\n",
    "    return a - min(a, t) + b - min(b, t) + max(min(a, t)+min(b, t), 2*t/3) + 1/2 * max(min(a, t)+min(b, t), t) - 1/2 * max(max(min(a, t), min(b, t)), 2*t/3) - t/6\n",
    "\n",
    "\n",
    "def f_function(a, b, z):\n",
    "    if(z >= 1):\n",
    "        return (a+b)/2 + z/3\n",
    "    else:\n",
    "        return z/3 + h_3_star(a, b, 1-z)/2\n",
    "\n",
    "def h_function_label(input_list):\n",
    "    #input_list = sorted(input_list)\n",
    "    g_list = []\n",
    "    for j1 in range(len(input_list) ):\n",
    "        for j2 in range(len(input_list)):\n",
    "            if(j1 != j2):\n",
    "                a = input_list[j1]\n",
    "                b = input_list[j2]\n",
    "                z = sum(input_list)- a-b\n",
    "\n",
    "                g_list.append( f_function(a, b, z) * (Agent_number_n-1))\n",
    "    h = sum(g_list) * 3 /  (Agent_number_n) /  (Agent_number_n-1) /  (Agent_number_n - 2)\n",
    "    return h\n",
    "\n",
    "def appen(_x_list,y):\n",
    "    global temp_list\n",
    "    temp_list.append(_x_list)\n",
    "    \n",
    "def appen_train(x_list):\n",
    "    global temp_list\n",
    "                \n",
    "    S= max(sum(x_list),1.0);\n",
    "    temp_list = []\n",
    "    h_list = []\n",
    "    for i in range(Agent_number_n):\n",
    "        temp = []\n",
    "        for j in range(Agent_number_n):\n",
    "            if(i!=j):\n",
    "                temp.append(x_list[j])\n",
    "        appen(temp,S)\n",
    "        \n",
    "        h = h_function_label(temp)\n",
    "        h_list.append(float(h))\n",
    "    temp_list = np.array(temp_list)\n",
    "    x_list = np.array(x_list)\n",
    "    return temp_list,S,x_list,h_list\n",
    "    \n",
    "\n",
    "def appen_test(x_list):\n",
    "    global temp_list\n",
    "                \n",
    "    S= max(sum(x_list),1.0);\n",
    "    temp_list = []\n",
    "    \n",
    "    for i in range(Agent_number_n):\n",
    "        temp = []\n",
    "        for j in range(Agent_number_n):\n",
    "            if(i!=j):\n",
    "                temp.append(x_list[j])\n",
    "        appen(temp,S)\n",
    "    testing_data.append(temp_list)\n",
    "    testing_label.append(S)\n",
    "    temp_list = np.array(temp_list)\n",
    "    return temp_list,S\n",
    "    \n",
    "\n",
    "def read_testing_data():\n",
    "    for i in range(10000):\n",
    "        appen_test(Generate_distribution(Agent_number_n));\n",
    "                            \n",
    "\n",
    "testing_data=[]\n",
    "testing_label=[]\n",
    "S=1.0\n",
    "read_testing_data();\n",
    "\n",
    "testing_data=np.array(testing_data)\n",
    "testing_label=np.array(testing_label)\n",
    "print(testing_data)\n",
    "print(testing_label)"
   ]
  },
  {
   "cell_type": "code",
   "execution_count": 4,
   "metadata": {
    "ExecuteTime": {
     "end_time": "2021-07-11T14:43:56.527777Z",
     "start_time": "2021-07-11T14:43:56.512699Z"
    }
   },
   "outputs": [],
   "source": [
    "def weight_init(m):\n",
    "    if isinstance(m, torch.nn.Conv2d):\n",
    "        torch.nn.init.xavier_normal_(m.weight)\n",
    "        torch.nn.init.zeros_(m.bias)\n",
    "    elif isinstance(m, torch.nn.Linear):\n",
    "        torch.nn.init.xavier_normal_(m.weight)\n",
    "        torch.nn.init.zeros_(m.bias)\n",
    "\n",
    "class Net(torch.nn.Module):\n",
    "    def __init__(self):\n",
    "\n",
    "        super(Net, self).__init__()\n",
    "        \n",
    "        self.input_dim = (Agent_number_n-1)\n",
    "        self.hidden_dim = 128\n",
    "        self.output_dim = 1\n",
    "        self.hidden_layer_count = 6 \n",
    "        \n",
    "        current_dim = self.input_dim\n",
    "        self.layers = torch.nn.ModuleList()\n",
    "        for i in range(self.hidden_layer_count):\n",
    "            self.layers.append(torch.nn.Linear(current_dim, self.hidden_dim))\n",
    "            current_dim = self.hidden_dim\n",
    "        self.layers.append(torch.nn.Linear(current_dim, self.output_dim))\n",
    "\n",
    "    def calculate(self, value_list):\n",
    "        h = value_list\n",
    "        LeakyReLU = torch.nn.LeakyReLU()\n",
    "        for layer in self.layers:\n",
    "            h = torch.relu(layer(h))\n",
    "        return h\n",
    "\n",
    "    def forward(self, input_list,input_label,list_x):\n",
    "        global iteration,echo,target_order\n",
    "        loss1 = 0\n",
    "        loss2 = 0\n",
    "        loss3 = 0\n",
    "        input_list = torch.from_numpy(\n",
    "            np.array(input_list)).to(dev).type(torch.float32)\n",
    "        h_list = []\n",
    "\n",
    "        for i in range(Agent_number_n):\n",
    "            h = self.calculate(input_list[i])\n",
    "            h_list.append(h)\n",
    "#             loss3 += torch.square(h_function_2(input_list)-h2[1])\n",
    "            \n",
    "        input_label = torch.from_numpy(\n",
    "            np.array(input_label)).to(dev).type(torch.float32)\n",
    "        sum_h = torch.sum(torch.cat(h_list)).to(dev)\n",
    "\n",
    "\n",
    "        loss1 = torch.where((Agent_number_n-1)*input_label>sum_h,\n",
    "                        torch.square(((Agent_number_n-1)*input_label-sum_h)),\n",
    "                        torch.zeros(1).to(dev)\n",
    "                      )\n",
    "\n",
    "        loss2 = torch.where((Agent_number_n-Alpha)*input_label<sum_h,\n",
    "                        torch.square((sum_h-(Agent_number_n-Alpha)*input_label))/100,\n",
    "                        torch.zeros(1).to(dev)\n",
    "                      )\n",
    "\n",
    "\n",
    "        return loss1,loss2\n",
    "    \n",
    "    def supervised_loss(self, input_list,label):\n",
    "        global iteration,echo,target_order\n",
    "        input_list = torch.from_numpy(\n",
    "            np.array(input_list)).to(dev).type(torch.float32)\n",
    "        loss = 0 \n",
    "        for i in range(Agent_number_n):\n",
    "            h = self.calculate(input_list[i])\n",
    "            loss += torch.square(h - label[i])\n",
    "        return loss"
   ]
  },
  {
   "cell_type": "code",
   "execution_count": 5,
   "metadata": {
    "ExecuteTime": {
     "end_time": "2021-07-11T14:43:56.543317Z",
     "start_time": "2021-07-11T14:43:56.528696Z"
    }
   },
   "outputs": [],
   "source": [
    "def redistribution_value_function(input_tensor):\n",
    "    S = torch.max(torch.sum(input_tensor), torch.ones(1).to(dev))\n",
    "    temp_list = []\n",
    "\n",
    "\n",
    "    for i in range(Agent_number_n):\n",
    "        temp = []\n",
    "        \n",
    "        for j in range(Agent_number_n):\n",
    "            if(i != j):\n",
    "                temp .append(input_tensor[j])\n",
    "                \n",
    "        temp = torch.stack(temp)\n",
    "        temp_list.append(temp)\n",
    "    return torch.stack(temp_list), S\n",
    "\n",
    "GeneratorNet = nn.Sequential(                      # Generator\n",
    "    # random ideas (could from normal distribution)\n",
    "    nn.Linear(N_IDEAS, 64),\n",
    "    nn.ReLU(),\n",
    "    nn.Linear(64, 64),\n",
    "    nn.ReLU(),\n",
    "    nn.Linear(64, 64),\n",
    "    nn.ReLU(),\n",
    "    # making a painting from these random ideas\n",
    "    nn.Linear(64, ART_COMPONENTS),\n",
    "    nn.Sigmoid(),\n",
    ")"
   ]
  },
  {
   "cell_type": "code",
   "execution_count": 6,
   "metadata": {
    "ExecuteTime": {
     "end_time": "2021-07-11T14:43:58.282557Z",
     "start_time": "2021-07-11T14:43:56.545264Z"
    },
    "run_control": {
     "marked": false
    }
   },
   "outputs": [],
   "source": [
    "random.seed(2000)\n",
    "torch.manual_seed(256)\n",
    "DiscriminatorNet  = Net()\n",
    "DiscriminatorNet.apply(weight_init)\n",
    "GeneratorNet.apply(weight_init)\n",
    "DiscriminatorNet = torch.load(\"save/Deep_learning_D_4_gan_1\")\n",
    "if(Is_GAN):\n",
    "    GeneratorNet = torch.load(\"save/Deep_learning_G_4_1\")\n",
    "DiscriminatorNet.to(dev)\n",
    "GeneratorNet.to(dev)\n",
    "\n",
    "opt_D = torch.optim.Adam(DiscriminatorNet.parameters(), lr=LR_D)\n",
    "opt_G = torch.optim.Adam(GeneratorNet.parameters(), lr=LR_G)\n",
    "\n",
    "\n",
    "scheduler_D = torch.optim.lr_scheduler.StepLR(opt_D, step_size=100, gamma=0.98)\n",
    "scheduler_G = torch.optim.lr_scheduler.StepLR(opt_G, step_size=100, gamma=0.98)\n",
    "\n",
    "index_train_list = []\n",
    "index_test_list = []\n",
    "train_losses = []\n",
    "test_losses = []"
   ]
  },
  {
   "cell_type": "code",
   "execution_count": 7,
   "metadata": {
    "ExecuteTime": {
     "end_time": "2021-07-11T15:07:38.099900Z",
     "start_time": "2021-07-11T14:43:58.284554Z"
    }
   },
   "outputs": [
    {
     "name": "stdout",
     "output_type": "stream",
     "text": [
      "0 tensor(0.0017, device='cuda:0', grad_fn=<DivBackward0>) 0.10564491897821426\n",
      "100 tensor(0.0001, device='cuda:0', grad_fn=<DivBackward0>) 0.008830081671476364\n",
      "200 tensor(0.0001, device='cuda:0', grad_fn=<DivBackward0>) 0.007123796734958887\n",
      "300 tensor(7.9291e-05, device='cuda:0', grad_fn=<DivBackward0>) 0.005074651446193457\n",
      "400 tensor(4.7456e-05, device='cuda:0', grad_fn=<DivBackward0>) 0.003037160262465477\n",
      "500 tensor(0.0001, device='cuda:0', grad_fn=<DivBackward0>) 0.00662061246111989\n",
      "600 tensor(5.1057e-05, device='cuda:0', grad_fn=<DivBackward0>) 0.003267669351771474\n",
      "700 tensor(5.2649e-05, device='cuda:0', grad_fn=<DivBackward0>) 0.003369544865563512\n",
      "800 tensor(5.7262e-05, device='cuda:0', grad_fn=<DivBackward0>) 0.0036647918168455362\n",
      "900 tensor(4.6944e-05, device='cuda:0', grad_fn=<DivBackward0>) 0.0030043977312743664\n",
      "1000 tensor(3.7944e-05, device='cuda:0', grad_fn=<DivBackward0>) 0.0024283863604068756\n",
      "1100 tensor(3.9200e-05, device='cuda:0', grad_fn=<DivBackward0>) 0.002508787205442786\n",
      "1200 tensor(5.3762e-05, device='cuda:0', grad_fn=<DivBackward0>) 0.0034407833591103554\n",
      "1300 tensor(3.1087e-05, device='cuda:0', grad_fn=<DivBackward0>) 0.0019895907025784254\n",
      "1400 tensor(3.3335e-05, device='cuda:0', grad_fn=<DivBackward0>) 0.0021334157790988684\n",
      "1500 tensor(2.1608e-05, device='cuda:0', grad_fn=<DivBackward0>) 0.0013829190284013748\n",
      "1600 tensor(2.2815e-05, device='cuda:0', grad_fn=<DivBackward0>) 0.001460139057599008\n",
      "1700 tensor(2.7592e-05, device='cuda:0', grad_fn=<DivBackward0>) 0.0017658957513049245\n",
      "1800 tensor(2.2533e-05, device='cuda:0', grad_fn=<DivBackward0>) 0.0014421310042962432\n",
      "1900 tensor(0.0001, device='cuda:0', grad_fn=<DivBackward0>) 0.007794181350618601\n",
      "2000 tensor(1.6578e-05, device='cuda:0', grad_fn=<DivBackward0>) 0.001060984912328422\n",
      "2100 tensor(9.5077e-05, device='cuda:0', grad_fn=<DivBackward0>) 0.006084902212023735\n",
      "2200 tensor(3.7694e-05, device='cuda:0', grad_fn=<DivBackward0>) 0.002412414411082864\n",
      "2300 tensor(5.3570e-05, device='cuda:0', grad_fn=<DivBackward0>) 0.003428511554375291\n",
      "2400 tensor(2.3491e-05, device='cuda:0', grad_fn=<DivBackward0>) 0.0015033953823149204\n",
      "2500 tensor(2.6870e-05, device='cuda:0', grad_fn=<DivBackward0>) 0.001719708670862019\n",
      "2600 tensor(2.9071e-05, device='cuda:0', grad_fn=<DivBackward0>) 0.0018605481600388885\n",
      "2700 tensor(1.9018e-05, device='cuda:0', grad_fn=<DivBackward0>) 0.0012171261478215456\n",
      "2800 tensor(2.4769e-05, device='cuda:0', grad_fn=<DivBackward0>) 0.0015852386131882668\n",
      "2900 tensor(3.0938e-05, device='cuda:0', grad_fn=<DivBackward0>) 0.0019800588488578796\n",
      "3000 tensor(2.1232e-05, device='cuda:0', grad_fn=<DivBackward0>) 0.0013588399160653353\n",
      "3100 tensor(1.4543e-05, device='cuda:0', grad_fn=<DivBackward0>) 0.0009307365398854017\n",
      "3200 tensor(3.8382e-05, device='cuda:0', grad_fn=<DivBackward0>) 0.002456430811434984\n",
      "3300 tensor(5.0782e-05, device='cuda:0', grad_fn=<DivBackward0>) 0.0032500610686838627\n",
      "3400 tensor(1.5099e-05, device='cuda:0', grad_fn=<DivBackward0>) 0.0009663520031608641\n",
      "3500 tensor(1.5191e-05, device='cuda:0', grad_fn=<DivBackward0>) 0.0009721937240101397\n",
      "3600 tensor(5.7214e-05, device='cuda:0', grad_fn=<DivBackward0>) 0.0036616907455027103\n",
      "3700 tensor(1.6697e-05, device='cuda:0', grad_fn=<DivBackward0>) 0.0010686024324968457\n",
      "3800 tensor(1.3792e-05, device='cuda:0', grad_fn=<DivBackward0>) 0.0008826814009808004\n",
      "3900 tensor(0.0002, device='cuda:0', grad_fn=<DivBackward0>) 0.013920551165938377\n",
      "4000 tensor(6.5355e-05, device='cuda:0', grad_fn=<DivBackward0>) 0.004182692617177963\n",
      "4100 tensor(9.5440e-06, device='cuda:0', grad_fn=<DivBackward0>) 0.0006108154193498194\n",
      "4200 tensor(2.5098e-05, device='cuda:0', grad_fn=<DivBackward0>) 0.001606281497515738\n",
      "4300 tensor(0.0001, device='cuda:0', grad_fn=<DivBackward0>) 0.00913891289383173\n",
      "4400 tensor(6.3008e-06, device='cuda:0', grad_fn=<DivBackward0>) 0.0004032481519971043\n",
      "4500 tensor(6.3301e-06, device='cuda:0', grad_fn=<DivBackward0>) 0.0004051259020343423\n",
      "4600 tensor(1.1503e-05, device='cuda:0', grad_fn=<DivBackward0>) 0.0007361707976087928\n",
      "4700 tensor(1.1160e-05, device='cuda:0', grad_fn=<DivBackward0>) 0.0007142702233977616\n",
      "4800 tensor(0.0003, device='cuda:0', grad_fn=<DivBackward0>) 0.019199911504983902\n",
      "4900 tensor(1.2796e-05, device='cuda:0', grad_fn=<DivBackward0>) 0.0008189635700546205\n"
     ]
    }
   ],
   "source": [
    "#supervised\n",
    "index_supervisedtrain_list = []\n",
    "supervisedtrain_losses = []\n",
    "for iteration in range(int(1000)):\n",
    "\n",
    "    temp_number = 0\n",
    "    total_batch_loss = 0 \n",
    "    \n",
    "    loss_sum = 0\n",
    "    denominator = 0\n",
    "    for index in range(0, BATCH_SIZE):\n",
    "        training_data_i, training_S, training_data,label = appen_train(\n",
    "            Generate_distribution(Agent_number_n))\n",
    "        h_loss = DiscriminatorNet.supervised_loss(training_data_i, label)\n",
    "        denominator += 1\n",
    "        loss_sum += h_loss\n",
    "\n",
    "    loss_sum = torch.sum(loss_sum)\n",
    "    loss = (loss_sum) / denominator \n",
    "    total_batch_loss += float(loss_sum)\n",
    "\n",
    "    opt_D.zero_grad()\n",
    "    loss.backward()\n",
    "    opt_D.step()\n",
    "\n",
    "    if (iteration%100 == 0):\n",
    "        print(iteration,loss,total_batch_loss)\n",
    "        index_supervisedtrain_list.append(iteration)\n",
    "        supervisedtrain_losses.append(total_batch_loss)\n",
    "    scheduler_D.step()"
   ]
  },
  {
   "cell_type": "code",
   "execution_count": 8,
   "metadata": {
    "ExecuteTime": {
     "end_time": "2021-07-11T15:07:38.209951Z",
     "start_time": "2021-07-11T15:07:38.101573Z"
    }
   },
   "outputs": [
    {
     "data": {
      "image/png": "[encoded data removed]",
      "text/plain": [
       "<Figure size 432x288 with 1 Axes>"
      ]
     },
     "metadata": {
      "needs_background": "light"
     },
     "output_type": "display_data"
    }
   ],
   "source": [
    "plt.ylim(0, 0.1)\n",
    "plt.plot(index_supervisedtrain_list ,supervisedtrain_losses)\n",
    "plt.ylabel('supervised train loss')\n",
    "\n",
    "plt.show()"
   ]
  },
  {
   "cell_type": "code",
   "execution_count": 9,
   "metadata": {
    "ExecuteTime": {
     "end_time": "2021-07-11T15:28:47.908035Z",
     "start_time": "2021-07-11T15:07:38.210823Z"
    }
   },
   "outputs": [
    {
     "name": "stdout",
     "output_type": "stream",
     "text": [
      "0 tensor(0., device='cuda:0', grad_fn=<DivBackward0>) 0.0 0.0\n",
      "Gan: tensor(-0.8569, device='cuda:0', grad_fn=<MaxBackward1>) tensor([7.1646e-05], device='cuda:0', grad_fn=<AddBackward0>)\n",
      "\n",
      "4.2273805141448975 3.233732329425131 0.9936481847197665 0.252444672870352\n",
      "\n",
      "\n",
      "100 tensor(8.0380e-06, device='cuda:0', grad_fn=<DivBackward0>) 0.0 0.0005144319729879498\n",
      "Gan: tensor(-0.9129, device='cuda:0', grad_fn=<MaxBackward1>) tensor([1.3246e-05], device='cuda:0', grad_fn=<AddBackward0>)\n",
      "\n",
      "3.658748984336853 3.0387343955714394 0.6200145887654136 0.15173319983173528\n",
      "\n",
      "\n",
      "200 tensor(0., device='cuda:0', grad_fn=<DivBackward0>) 0.0 0.0\n",
      "Gan: tensor(-0.8801, device='cuda:0', grad_fn=<MaxBackward1>) tensor([2.7164e-05], device='cuda:0', grad_fn=<AddBackward0>)\n",
      "\n",
      "3.549465596675873 2.9897904992103577 0.5596750974655151 0.1637487632411858\n",
      "\n",
      "\n",
      "300 tensor(0., device='cuda:0', grad_fn=<DivBackward0>) 0.0 0.0\n",
      "Gan: tensor(-0.7720, device='cuda:0', grad_fn=<MaxBackward1>) tensor([2.2082e-05], device='cuda:0', grad_fn=<AddBackward0>)\n",
      "\n",
      "3.508164882659912 3.0135873379375444 0.4945775447223677 0.14261337361195814\n",
      "\n",
      "\n",
      "400 tensor(1.6423e-09, device='cuda:0', grad_fn=<DivBackward0>) 0.0 1.0510666470509022e-07\n",
      "Gan: tensor(-0.7142, device='cuda:0', grad_fn=<MaxBackward1>) tensor([0.0002], device='cuda:0', grad_fn=<AddBackward0>)\n",
      "\n",
      "3.5518962083185053 3.0552259330832756 0.49667027523522966 0.14808385790306833\n",
      "\n",
      "\n",
      "500 tensor(3.1726e-07, device='cuda:0', grad_fn=<DivBackward0>) 0.0 2.0304418285377324e-05\n",
      "Gan: tensor(-0.7014, device='cuda:0', grad_fn=<MaxBackward1>) tensor([0.0004], device='cuda:0', grad_fn=<AddBackward0>)\n",
      "\n",
      "3.598658502101898 3.0782632192538286 0.5203952828480696 0.16040475893515893\n",
      "\n",
      "\n",
      "600 tensor(1.4595e-06, device='cuda:0', grad_fn=<DivBackward0>) 0.0 9.341084660263732e-05\n",
      "Gan: tensor(-0.8667, device='cuda:0', grad_fn=<MaxBackward1>) tensor([2.5159e-05], device='cuda:0', grad_fn=<AddBackward0>)\n",
      "\n",
      "3.592129349708557 3.0040919395520476 0.5880374101565096 0.14783910025622582\n",
      "\n",
      "\n",
      "700 tensor(1.7814e-05, device='cuda:0', grad_fn=<DivBackward0>) 0.0 0.001140064443461597\n",
      "Gan: tensor(-0.7581, device='cuda:0', grad_fn=<MaxBackward1>) tensor([1.6317e-05], device='cuda:0', grad_fn=<AddBackward0>)\n",
      "\n",
      "3.4975114107359637 2.99015891634485 0.5073524943911139 0.1542490812377082\n",
      "\n",
      "\n",
      "800 tensor(7.5411e-08, device='cuda:0', grad_fn=<DivBackward0>) 0.0 4.826280473935185e-06\n",
      "Gan: tensor(-0.7014, device='cuda:0', grad_fn=<MaxBackward1>) tensor([1.2063e-05], device='cuda:0', grad_fn=<AddBackward0>)\n",
      "\n",
      "3.481998358314772 2.9956157208510175 0.48638263746375454 0.14688095136682788\n",
      "\n",
      "\n",
      "900 tensor(7.9669e-07, device='cuda:0', grad_fn=<DivBackward0>) 0.0 5.09883466293104e-05\n",
      "Gan: tensor(-0.6424, device='cuda:0', grad_fn=<MaxBackward1>) tensor([8.0629e-06], device='cuda:0', grad_fn=<AddBackward0>)\n",
      "\n",
      "3.4709275601259924 3.0008377236299495 0.47008983649604286 0.14076910795331976\n",
      "\n",
      "\n",
      "1000 tensor(0., device='cuda:0', grad_fn=<DivBackward0>) 0.0 0.0\n",
      "Gan: tensor(-0.6047, device='cuda:0', grad_fn=<MaxBackward1>) tensor([6.7305e-06], device='cuda:0', grad_fn=<AddBackward0>)\n",
      "\n",
      "3.4630524215917413 3.0046775699571624 0.4583748516345789 0.13888349725475635\n",
      "\n",
      "\n",
      "1100 tensor(0., device='cuda:0', grad_fn=<DivBackward0>) 0.0 0.0\n",
      "Gan: tensor(-0.5690, device='cuda:0', grad_fn=<MaxBackward1>) tensor([4.7595e-06], device='cuda:0', grad_fn=<AddBackward0>)\n",
      "\n",
      "3.449597577643745 3.002179521388061 0.447418056255684 0.13777108345993305\n",
      "\n",
      "\n",
      "1200 tensor(0., device='cuda:0', grad_fn=<DivBackward0>) 0.0 0.0\n",
      "Gan: tensor(-0.5446, device='cuda:0', grad_fn=<MaxBackward1>) tensor([3.5682e-06], device='cuda:0', grad_fn=<AddBackward0>)\n",
      "\n",
      "3.433926237799342 2.9961559777801696 0.4377702600191724 0.1412345441520486\n",
      "\n",
      "\n",
      "1300 tensor(0., device='cuda:0', grad_fn=<DivBackward0>) 0.0 0.0\n",
      "Gan: tensor(-0.5167, device='cuda:0', grad_fn=<MaxBackward1>) tensor([2.6922e-06], device='cuda:0', grad_fn=<AddBackward0>)\n",
      "\n",
      "3.4311351756656423 2.9997888784656923 0.43134629719995 0.13651557328744568\n",
      "\n",
      "\n",
      "1400 tensor(0., device='cuda:0', grad_fn=<DivBackward0>) 0.0 0.0\n",
      "Gan: tensor(-0.4877, device='cuda:0', grad_fn=<MaxBackward1>) tensor([2.0363e-06], device='cuda:0', grad_fn=<AddBackward0>)\n",
      "\n",
      "3.429241685226591 3.0047660156048557 0.4244756696217351 0.13563811583500307\n",
      "\n",
      "\n",
      "1500 tensor(0., device='cuda:0', grad_fn=<DivBackward0>) 0.0 0.0\n",
      "Gan: tensor(-0.4695, device='cuda:0', grad_fn=<MaxBackward1>) tensor([1.4116e-06], device='cuda:0', grad_fn=<AddBackward0>)\n",
      "\n",
      "3.415816162504586 2.9984951333138423 0.4173210291907439 0.13718150296879505\n",
      "\n",
      "\n",
      "1600 tensor(0., device='cuda:0', grad_fn=<DivBackward0>) 0.0 0.0\n",
      "Gan: tensor(-0.4536, device='cuda:0', grad_fn=<MaxBackward1>) tensor([9.5391e-07], device='cuda:0', grad_fn=<AddBackward0>)\n",
      "\n",
      "3.4071433332326375 2.9950432113148033 0.4121001219178342 0.14041887529178743\n",
      "\n",
      "\n",
      "1700 tensor(0., device='cuda:0', grad_fn=<DivBackward0>) 0.0 0.0\n",
      "Gan: tensor(-0.4337, device='cuda:0', grad_fn=<MaxBackward1>) tensor([7.6621e-07], device='cuda:0', grad_fn=<AddBackward0>)\n",
      "\n",
      "3.4132524136178617 3.004664002566545 0.4085884110513165 0.13404265641651492\n",
      "\n",
      "\n",
      "1800 tensor(0., device='cuda:0', grad_fn=<DivBackward0>) 0.0 0.0\n",
      "Gan: tensor(-0.4235, device='cuda:0', grad_fn=<MaxBackward1>) tensor([5.1380e-07], device='cuda:0', grad_fn=<AddBackward0>)\n",
      "\n",
      "3.404186904104058 2.9984227418899536 0.4057641622141044 0.13703008093993851\n",
      "\n",
      "\n",
      "1900 tensor(0., device='cuda:0', grad_fn=<DivBackward0>) 0.0 0.0\n",
      "Gan: tensor(-0.4172, device='cuda:0', grad_fn=<MaxBackward1>) tensor([4.0938e-07], device='cuda:0', grad_fn=<AddBackward0>)\n",
      "\n",
      "3.409899764461594 3.0047167264769175 0.40518303798467636 0.13428784570013708\n",
      "\n",
      "\n",
      "2000 tensor(0., device='cuda:0', grad_fn=<DivBackward0>) 0.0 0.0\n",
      "Gan: tensor(-0.4090, device='cuda:0', grad_fn=<MaxBackward1>) tensor([3.3614e-07], device='cuda:0', grad_fn=<AddBackward0>)\n",
      "\n",
      "3.4026247376190715 3.000473380088806 0.4021513575302653 0.13485629993382808\n",
      "\n",
      "\n"
     ]
    }
   ],
   "source": [
    "for iteration in range(int(echo)):\n",
    "\n",
    "    temp_number = 0\n",
    "    total_batch_loss = 0 \n",
    "        \n",
    "    loss2_list = []\n",
    "    loss1_sum = 0\n",
    "    loss2_sum = 0\n",
    "    denominator = 0\n",
    "    for index in range(0, BATCH_SIZE):\n",
    "        training_data_i, training_label, training_data, label = appen_train(\n",
    "            Generate_distribution(Agent_number_n))\n",
    "        h_loss1, h_loss2 = DiscriminatorNet(training_data_i, training_label,\n",
    "                                       training_data)\n",
    "        denominator += 1\n",
    "        loss1_sum += h_loss1\n",
    "        loss2_sum += h_loss2\n",
    "\n",
    "    loss_sum = torch.sum(loss1_sum + loss2_sum)\n",
    "    loss = (loss_sum) / denominator \n",
    "    total_batch_loss +=float(loss_sum)\n",
    "\n",
    "    opt_D.zero_grad()\n",
    "    loss.backward()\n",
    "    opt_D.step()\n",
    "\n",
    "    temp_number = iteration\n",
    "    index_train_list.append(iteration)\n",
    "    train_losses.append(total_batch_loss)\n",
    "\n",
    "    if (iteration%100 == 0):\n",
    "        print(temp_number,loss,float(loss1_sum),float(loss2_sum))\n",
    "    ## Gan \n",
    "        if(Is_GAN):## Gan Work traning GeneratorNet\n",
    "\n",
    "            DiscriminatorNet.requires_grad = True\n",
    "            GeneratorNet.requires_grad = True\n",
    "\n",
    "\n",
    "            for step in range(10):\n",
    "                # real painting from artist\n",
    "                G_ideas = torch.randn(BATCH_SIZE, N_IDEAS,\n",
    "                                      requires_grad=True).to(dev)  # random ideas\\n\n",
    "                # fake painting from G (random ideas)\n",
    "\n",
    "                G_values = GeneratorNet(G_ideas)\n",
    "                G_values , indices = torch.sort(G_values, descending=True)\n",
    "            #     print(artist_paintings)\n",
    "            #     print(G_paintings)\n",
    "\n",
    "                result_list = []\n",
    "                for index in range(BATCH_SIZE):\n",
    "                    h_list = []\n",
    "                    value_list_tensor, S_tensor = redistribution_value_function(\n",
    "                        G_values[index])\n",
    "                    for i in range(Agent_number_n):\n",
    "                        h = DiscriminatorNet.calculate(\n",
    "                            value_list_tensor[i].cuda().type(torch.float32))\n",
    "                        h_list.append(h)\n",
    "                    h_list = torch.stack(h_list)\n",
    "                    result_list.append(torch.sum(h_list)/S_tensor.cuda())\n",
    "                result_list = torch.stack(result_list)\n",
    "\n",
    "                diff_loss = torch.max(result_list)-torch.min(result_list)\n",
    "                G_loss = torch.max(- diff_loss)\n",
    "\n",
    "                opt_G.zero_grad()\n",
    "                G_loss.backward()\n",
    "                opt_G.step()\n",
    "\n",
    "            # real painting from artist\n",
    "                G_ideas = torch.randn(BATCH_SIZE, N_IDEAS,\n",
    "                                      requires_grad=True).to(dev)  # random ideas\\n\n",
    "                # fake painting from G (random ideas)\n",
    "\n",
    "                G_values = GeneratorNet(G_ideas)\n",
    "                G_values , indices = torch.sort(G_values, descending=True)\n",
    "            #     print(artist_paintings)\n",
    "            #     print(G_paintings)\n",
    "\n",
    "                result_list = []\n",
    "                for index in range(BATCH_SIZE):\n",
    "                    h_list = []\n",
    "                    value_list_tensor, S_tensor = redistribution_value_function(\n",
    "                        G_values[index])\n",
    "                    for i in range(Agent_number_n):\n",
    "                        h = DiscriminatorNet.calculate(\n",
    "                            value_list_tensor[i].cuda().type(torch.float32))\n",
    "                        h_list.append(h)\n",
    "                    h_list = torch.stack(h_list)\n",
    "                    result_list.append(torch.sum(h_list)/S_tensor.cuda())\n",
    "                result_list = torch.stack(result_list)\n",
    "\n",
    "                diff_loss = torch.max(result_list)-torch.min(result_list)\n",
    "\n",
    "                D_loss = torch.where((Agent_number_n-1)>torch.min(result_list),\n",
    "                    torch.square(((Agent_number_n-1)-torch.min(result_list))),\n",
    "                    torch.zeros(1).to(dev)\n",
    "                  )   + torch.where((Agent_number_n-Alpha)<torch.max(result_list),\n",
    "                                torch.square((torch.max(result_list)-(Agent_number_n-Alpha)))/10000,\n",
    "                                torch.zeros(1).to(dev)\n",
    "                              )\n",
    "\n",
    "\n",
    "                opt_D.zero_grad()\n",
    "                D_loss.backward()\n",
    "                opt_D.step()\n",
    "                \n",
    "            print(\"Gan:\",G_loss,D_loss)\n",
    "            print()\n",
    "\n",
    "            \n",
    "        result_list = []\n",
    "        for index in range(len(testing_data)):\n",
    "            h_list = []\n",
    "            for i in range(Agent_number_n):\n",
    "                h = DiscriminatorNet.calculate(\n",
    "                    torch.tensor(testing_data[index][i]).to(dev).type(\n",
    "                        torch.float32))\n",
    "                h_list.append(float(h))\n",
    "            result_list.append(sum(h_list) / testing_label[index])\n",
    "        print(max(result_list), min(result_list),\n",
    "              max(result_list) - min(result_list),\n",
    "              (sum(result_list) / len(result_list) - min(result_list))+ Agent_number_n-1 - min(min(result_list),Agent_number_n-1) )\n",
    "\n",
    "        index_test_list.append(iteration)\n",
    "        test_losses.append(\n",
    "            (sum(result_list) / len(result_list) - min(result_list))+ Agent_number_n-1 - min(min(result_list),Agent_number_n-1) )\n",
    "        print()\n",
    "        index_test_list.append(iteration)\n",
    "        test_losses.append(\n",
    "            max(result_list)-min(result_list) )\n",
    "        \n",
    "  \n",
    "        print()\n",
    "\n",
    "\n",
    "    scheduler_D.step()\n",
    "    scheduler_G.step()"
   ]
  },
  {
   "cell_type": "code",
   "execution_count": 10,
   "metadata": {
    "ExecuteTime": {
     "end_time": "2021-07-11T15:28:48.016632Z",
     "start_time": "2021-07-11T15:28:47.909038Z"
    }
   },
   "outputs": [
    {
     "data": {
      "image/png": "[encoded data removed]",
      "text/plain": [
       "<Figure size 432x288 with 1 Axes>"
      ]
     },
     "metadata": {
      "needs_background": "light"
     },
     "output_type": "display_data"
    }
   ],
   "source": [
    "plt.ylim(0, 1.0)\n",
    "plt.plot(index_test_list,test_losses)\n",
    "plt.ylabel('test loss')\n",
    "\n",
    "plt.show()"
   ]
  },
  {
   "cell_type": "code",
   "execution_count": 11,
   "metadata": {
    "ExecuteTime": {
     "end_time": "2021-07-11T15:28:48.031857Z",
     "start_time": "2021-07-11T15:28:48.017596Z"
    }
   },
   "outputs": [],
   "source": [
    "torch.save(DiscriminatorNet, \"save/Deep_learning_D_4_gan_1\")\n",
    "if(Is_GAN):\n",
    "    torch.save(GeneratorNet, \"save/Deep_learning_G_4_1\")"
   ]
  },
  {
   "cell_type": "code",
   "execution_count": 12,
   "metadata": {
    "ExecuteTime": {
     "end_time": "2021-07-11T15:28:50.314603Z",
     "start_time": "2021-07-11T15:28:48.032893Z"
    }
   },
   "outputs": [
    {
     "name": "stdout",
     "output_type": "stream",
     "text": [
      "3.3667379858927498 2.999999999999999 0.36673798589275064 3.1223365332309982\n"
     ]
    }
   ],
   "source": [
    "def h_3_star(a, b, t):\n",
    "    return a - min(a, t) + b - min(b, t) + max(min(a, t)+min(b, t), 2*t/3) + 1/2 * max(min(a, t)+min(b, t), t) - 1/2 * max(max(min(a, t), min(b, t)), 2*t/3) - t/6\n",
    "\n",
    "\n",
    "def f_function(a, b, z):\n",
    "    if(z >= 1):\n",
    "        return (a+b)/2 + z/3\n",
    "    else:\n",
    "        return z/3 + h_3_star(a, b, 1-z)/2\n",
    "\n",
    "def h_function(input_list):\n",
    "    #input_list = sorted(input_list)\n",
    "    g_list = []\n",
    "    for j1 in range(len(input_list) ):\n",
    "        for j2 in range(len(input_list)):\n",
    "            if(j1 != j2):\n",
    "                a = input_list[j1]\n",
    "                b = input_list[j2]\n",
    "                z = sum(input_list)- a-b\n",
    "\n",
    "                g_list.append( f_function(a, b, z) * (Agent_number_n-1))\n",
    "    h = sum(g_list) * 3 /  (Agent_number_n) /  (Agent_number_n-1) /  (Agent_number_n - 2)\n",
    "    return h\n",
    "                \n",
    "                \n",
    "x_list = []\n",
    "y_list = []\n",
    "z_list = []\n",
    "result_list = []\n",
    "for index in range(len(testing_data)):\n",
    "    h_list = []\n",
    "    for i in range(Agent_number_n):\n",
    "        x_list.append(testing_data[index][i][0])\n",
    "        y_list.append(testing_data[index][i][1])\n",
    "        h = h_function(testing_data[index][i])\n",
    "        z_list.append(float(h))\n",
    "        h_list.append(float(h))\n",
    "    result_list.append(sum(h_list)/testing_label[index]) \n",
    "    \n",
    "    \n",
    "print(max(result_list), min(result_list), max(result_list)-min(result_list),sum(result_list)/len(result_list))"
   ]
  },
  {
   "cell_type": "code",
   "execution_count": 13,
   "metadata": {
    "ExecuteTime": {
     "end_time": "2021-07-11T15:28:51.169099Z",
     "start_time": "2021-07-11T15:28:50.316563Z"
    }
   },
   "outputs": [
    {
     "data": {
      "image/png": "[encoded data removed]",
      "text/plain": [
       "<Figure size 432x288 with 1 Axes>"
      ]
     },
     "metadata": {
      "needs_background": "light"
     },
     "output_type": "display_data"
    }
   ],
   "source": [
    "plt.hist(result_list,bins=500)\n",
    "\n",
    "plt.title(\"Means\", y=1.015, fontsize=20)\n",
    "plt.axvline(x=sum(result_list)/len(result_list), linestyle='--', linewidth=2.5, label=\"sample mean\", c='orange')\n",
    "plt.xlabel(\"samples\", labelpad=14)\n",
    "plt.ylabel(\"frequency of occurence\", labelpad=14)\n",
    "plt.legend();\n",
    "\n",
    "# result_list.sort()\n",
    "\n",
    "# plt.axvline(x=result_list[int(len(result_list)*0.01)], linestyle='--', linewidth=0.5, label=\"1%\", c='b')\n",
    "# plt.axvline(x=result_list[int(len(result_list)*0.99)], linestyle='--', linewidth=0.5, label=\"99%\", c='r')\n",
    "\n",
    "\n",
    "plt.show()"
   ]
  },
  {
   "cell_type": "code",
   "execution_count": 14,
   "metadata": {
    "ExecuteTime": {
     "end_time": "2021-07-11T15:28:53.062772Z",
     "start_time": "2021-07-11T15:28:51.170096Z"
    }
   },
   "outputs": [
    {
     "name": "stdout",
     "output_type": "stream",
     "text": [
      "[[[0.61276434 0.60552607 0.44851615]\n",
      "  [0.79130828 0.60552607 0.44851615]\n",
      "  [0.79130828 0.61276434 0.44851615]\n",
      "  [0.79130828 0.61276434 0.60552607]]\n",
      "\n",
      " [[0.54731539 0.37578378 0.2699402 ]\n",
      "  [0.95772544 0.37578378 0.2699402 ]\n",
      "  [0.95772544 0.54731539 0.2699402 ]\n",
      "  [0.95772544 0.54731539 0.37578378]]\n",
      "\n",
      " [[0.45317327 0.43195185 0.19709568]\n",
      "  [0.51943188 0.43195185 0.19709568]\n",
      "  [0.51943188 0.45317327 0.19709568]\n",
      "  [0.51943188 0.45317327 0.43195185]]\n",
      "\n",
      " ...\n",
      "\n",
      " [[0.6489734  0.39064059 0.08056311]\n",
      "  [0.79650378 0.39064059 0.08056311]\n",
      "  [0.79650378 0.6489734  0.08056311]\n",
      "  [0.79650378 0.6489734  0.39064059]]\n",
      "\n",
      " [[0.44205627 0.29172995 0.29007849]\n",
      "  [0.99952063 0.29172995 0.29007849]\n",
      "  [0.99952063 0.44205627 0.29007849]\n",
      "  [0.99952063 0.44205627 0.29172995]]\n",
      "\n",
      " [[0.66645258 0.60016184 0.59845483]\n",
      "  [0.88551925 0.60016184 0.59845483]\n",
      "  [0.88551925 0.66645258 0.59845483]\n",
      "  [0.88551925 0.66645258 0.60016184]]]\n",
      "[2.45811484 2.1507648  1.60165268 ... 1.91668088 2.02338533 2.7505885 ]\n"
     ]
    }
   ],
   "source": [
    "def read_testing_data():\n",
    "    for i in range(100000):\n",
    "        appen_test(Generate_distribution(Agent_number_n));\n",
    "        \n",
    "testing_data=[]\n",
    "testing_label=[]\n",
    "S=1.0\n",
    "read_testing_data();\n",
    "\n",
    "testing_data=np.array(testing_data)\n",
    "testing_label=np.array(testing_label)\n",
    "print(testing_data)\n",
    "print(testing_label)"
   ]
  },
  {
   "cell_type": "code",
   "execution_count": 15,
   "metadata": {
    "ExecuteTime": {
     "end_time": "2021-07-11T15:32:51.197246Z",
     "start_time": "2021-07-11T15:28:53.063732Z"
    }
   },
   "outputs": [
    {
     "name": "stdout",
     "output_type": "stream",
     "text": [
      "3.4181647896766663 2.9868289828300476 0.43133580684661865\n",
      "3.1348627325127087\n"
     ]
    }
   ],
   "source": [
    "denominator = 0\n",
    "result_list = []\n",
    "for index in range(len(testing_data)):\n",
    "    h_list = []\n",
    "    for i in range(Agent_number_n):\n",
    "        h = DiscriminatorNet.calculate(torch.tensor(testing_data[index][i]).to(dev).type(torch.float32))\n",
    "        h_list.append(float(h))\n",
    "    \n",
    "    #print(sum(h_list),h_list,sum(h_list)/testing_label[index])\n",
    "    result_list.append(sum(h_list)/testing_label[index])\n",
    "    \n",
    "\n",
    "print(max(result_list),min(result_list),max(result_list)-min(result_list))\n",
    "print(sum(result_list)/len(result_list))"
   ]
  },
  {
   "cell_type": "code",
   "execution_count": 16,
   "metadata": {
    "ExecuteTime": {
     "end_time": "2021-07-11T15:32:52.007079Z",
     "start_time": "2021-07-11T15:32:51.199241Z"
    }
   },
   "outputs": [
    {
     "data": {
      "image/png": "[encoded data removed]",
      "text/plain": [
       "<Figure size 432x288 with 1 Axes>"
      ]
     },
     "metadata": {
      "needs_background": "light"
     },
     "output_type": "display_data"
    }
   ],
   "source": [
    "plt.hist(result_list,bins=500)\n",
    "\n",
    "plt.title(\"Means\", y=1.015, fontsize=20)\n",
    "plt.axvline(x=sum(result_list)/len(result_list), linestyle='--', linewidth=2.5, label=\"sample mean\", c='orange')\n",
    "plt.xlabel(\"samples\", labelpad=14)\n",
    "plt.ylabel(\"frequency of occurence\", labelpad=14)\n",
    "plt.legend();\n",
    "\n",
    "# result_list.sort()\n",
    "\n",
    "# plt.axvline(x=result_list[int(len(result_list)*0.01)], linestyle='--', linewidth=0.5, label=\"1%\", c='b')\n",
    "# plt.axvline(x=result_list[int(len(result_list)*0.99)], linestyle='--', linewidth=0.5, label=\"99%\", c='r')\n",
    "\n",
    "\n",
    "plt.show()"
   ]
  },
  {
   "cell_type": "code",
   "execution_count": 17,
   "metadata": {
    "ExecuteTime": {
     "end_time": "2021-07-11T15:32:52.022272Z",
     "start_time": "2021-07-11T15:32:52.008077Z"
    }
   },
   "outputs": [],
   "source": [
    "#Generate 10000 testing data on GeneratorNet"
   ]
  },
  {
   "cell_type": "code",
   "execution_count": 18,
   "metadata": {
    "ExecuteTime": {
     "end_time": "2021-07-11T15:33:41.700609Z",
     "start_time": "2021-07-11T15:32:52.023098Z"
    },
    "run_control": {
     "marked": true
    }
   },
   "outputs": [
    {
     "name": "stdout",
     "output_type": "stream",
     "text": [
      "[[[0.00222633 0.00189164 0.00182766]\n",
      "  [0.00565906 0.00189164 0.00182766]\n",
      "  [0.00565906 0.00222633 0.00182766]\n",
      "  [0.00565906 0.00222633 0.00189164]]\n",
      "\n",
      " [[0.16026327 0.05997305 0.03041615]\n",
      "  [0.48554423 0.05997305 0.03041615]\n",
      "  [0.48554423 0.16026327 0.03041615]\n",
      "  [0.48554423 0.16026327 0.05997305]]\n",
      "\n",
      " [[0.778237   0.03074712 0.0023134 ]\n",
      "  [0.99919873 0.03074712 0.0023134 ]\n",
      "  [0.99919873 0.778237   0.0023134 ]\n",
      "  [0.99919873 0.778237   0.03074712]]\n",
      "\n",
      " ...\n",
      "\n",
      " [[0.01230624 0.00656839 0.00139603]\n",
      "  [0.1036894  0.00656839 0.00139603]\n",
      "  [0.1036894  0.01230624 0.00139603]\n",
      "  [0.1036894  0.01230624 0.00656839]]\n",
      "\n",
      " [[0.06358941 0.06319433 0.01893264]\n",
      "  [0.2823352  0.06319433 0.01893264]\n",
      "  [0.2823352  0.06358941 0.01893264]\n",
      "  [0.2823352  0.06358941 0.06319433]]\n",
      "\n",
      " [[0.39251965 0.2806983  0.18340792]\n",
      "  [0.68507785 0.2806983  0.18340792]\n",
      "  [0.68507785 0.39251965 0.18340792]\n",
      "  [0.68507785 0.39251965 0.2806983 ]]]\n",
      "[1.         1.         1.81049624 ... 1.         1.         1.54170372]\n"
     ]
    }
   ],
   "source": [
    "def appen_test_G(x_list):\n",
    "    global temp_list\n",
    "                \n",
    "    S= max(sum(x_list),1.0);\n",
    "    temp_list = []\n",
    "    \n",
    "    for i in range(Agent_number_n):\n",
    "        temp = []\n",
    "        for j in range(Agent_number_n):\n",
    "            if(i!=j):\n",
    "                temp.append(x_list[j])\n",
    "        appen(temp,S)\n",
    "    testing_data_G.append(temp_list)\n",
    "    testing_label_G.append(S)\n",
    "# fake painting from G (random ideas)\n",
    "\n",
    "def read_testing_data_G():\n",
    "    for i in range(100000):\n",
    "        #appen_test_G(sorted(np.random.rand(Agent_number_n), reverse=True));\n",
    "        G_ideas = torch.randn(N_IDEAS).to(dev)  # random ideas\\n\n",
    "        G_values = GeneratorNet(G_ideas)\n",
    "        G_values , indices = torch.sort(G_values, descending=True)\n",
    "        appen_test_G(G_values.detach().cpu().numpy()) \n",
    "        \n",
    "testing_data_G = []\n",
    "testing_label_G = []\n",
    "read_testing_data_G()\n",
    "testing_data_G=np.array(testing_data_G)\n",
    "testing_label_G=np.array(testing_label_G)\n",
    "print(testing_data_G)\n",
    "print(testing_label_G)"
   ]
  },
  {
   "cell_type": "code",
   "execution_count": 19,
   "metadata": {
    "ExecuteTime": {
     "end_time": "2021-07-11T15:37:32.340264Z",
     "start_time": "2021-07-11T15:33:41.701641Z"
    }
   },
   "outputs": [
    {
     "name": "stdout",
     "output_type": "stream",
     "text": [
      "3.4201659285509214 2.9972416162490845 0.4229243123018369\n",
      "3.1549317651176207\n"
     ]
    }
   ],
   "source": [
    "result_list_G = []\n",
    "for index in range(len(testing_data_G)):\n",
    "    h_list = []\n",
    "    for i in range(Agent_number_n):\n",
    "        h = DiscriminatorNet.calculate(torch.tensor(testing_data_G[index][i]).to(dev).type(torch.float32))\n",
    "        h_list.append(float(h))\n",
    "    \n",
    "    #print(sum(h_list),h_list,sum(h_list)/testing_label[index])\n",
    "    result_list_G.append(sum(h_list)/testing_label_G[index])\n",
    "    \n",
    "\n",
    "print(max(result_list_G),min(result_list_G),max(result_list_G)-min(result_list_G))\n",
    "print(sum(result_list_G)/len(result_list_G))"
   ]
  },
  {
   "cell_type": "code",
   "execution_count": 20,
   "metadata": {
    "ExecuteTime": {
     "end_time": "2021-07-11T15:37:33.166475Z",
     "start_time": "2021-07-11T15:37:32.341194Z"
    }
   },
   "outputs": [
    {
     "data": {
      "image/png": "[encoded data removed]",
      "text/plain": [
       "<Figure size 432x288 with 1 Axes>"
      ]
     },
     "metadata": {
      "needs_background": "light"
     },
     "output_type": "display_data"
    }
   ],
   "source": [
    "plt.hist(result_list_G,bins=500)\n",
    "\n",
    "plt.title(\"Means\", y=1.015, fontsize=20)\n",
    "plt.axvline(x=sum(result_list_G)/len(result_list_G), linestyle='--', linewidth=2.5, label=\"sample mean\", c='orange')\n",
    "plt.xlabel(\"samples\", labelpad=14)\n",
    "plt.ylabel(\"frequency of occurence\", labelpad=14)\n",
    "plt.legend();\n",
    "\n",
    "# result_list_G.sort()\n",
    "\n",
    "# plt.axvline(x=result_list[int(len(result_list_G)*0.01)], linestyle='--', linewidth=0.5, label=\"1%\", c='b')\n",
    "# plt.axvline(x=result_list[int(len(result_list_G)*0.99)], linestyle='--', linewidth=0.5, label=\"99%\", c='r')\n",
    "\n",
    "\n",
    "plt.show()"
   ]
  },
  {
   "cell_type": "code",
   "execution_count": 21,
   "metadata": {
    "ExecuteTime": {
     "end_time": "2021-07-11T15:37:34.097533Z",
     "start_time": "2021-07-11T15:37:33.167474Z"
    }
   },
   "outputs": [
    {
     "data": {
      "image/png": "[encoded data removed]",
      "text/plain": [
       "<Figure size 432x288 with 1 Axes>"
      ]
     },
     "metadata": {
      "needs_background": "light"
     },
     "output_type": "display_data"
    },
    {
     "name": "stdout",
     "output_type": "stream",
     "text": [
      "3.4201659285509214 2.9868289828300476 0.4333369457208738\n",
      "3.1448972488151847\n"
     ]
    }
   ],
   "source": [
    "final_list = result_list + result_list_G\n",
    "\n",
    "\n",
    "plt.hist(final_list,bins=500)\n",
    "\n",
    "plt.title(\"Means\", y=1.015, fontsize=20)\n",
    "plt.axvline(x=sum(final_list)/len(final_list), linestyle='--', linewidth=2.5, label=\"sample mean\", c='orange')\n",
    "plt.xlabel(\"samples\", labelpad=14)\n",
    "plt.ylabel(\"frequency of occurence\", labelpad=14)\n",
    "plt.legend();\n",
    "\n",
    "\n",
    "plt.show()\n",
    "\n",
    "\n",
    "print(max(final_list),min(final_list),max(final_list)-min(final_list))\n",
    "print(sum(final_list)/len(final_list))"
   ]
  },
  {
   "cell_type": "code",
   "execution_count": 22,
   "metadata": {
    "ExecuteTime": {
     "end_time": "2021-07-11T15:37:34.890406Z",
     "start_time": "2021-07-11T15:37:34.099461Z"
    }
   },
   "outputs": [
    {
     "data": {
      "image/png": "[encoded data removed]",
      "text/plain": [
       "<Figure size 432x288 with 1 Axes>"
      ]
     },
     "metadata": {
      "needs_background": "light"
     },
     "output_type": "display_data"
    },
    {
     "name": "stdout",
     "output_type": "stream",
     "text": [
      "3.417697846889496 2.99926098695048 0.4184368599390158\n",
      "3.1443654939941825\n"
     ]
    }
   ],
   "source": [
    "final_list = result_list[:10000] + result_list_G[:10000]\n",
    "\n",
    "\n",
    "plt.hist(final_list,bins=500)\n",
    "\n",
    "plt.title(\"Means\", y=1.015, fontsize=20)\n",
    "plt.axvline(x=sum(final_list)/len(final_list), linestyle='--', linewidth=2.5, label=\"sample mean\", c='orange')\n",
    "plt.xlabel(\"samples\", labelpad=14)\n",
    "plt.ylabel(\"frequency of occurence\", labelpad=14)\n",
    "plt.legend();\n",
    "\n",
    "\n",
    "plt.show()\n",
    "\n",
    "\n",
    "print(max(final_list),min(final_list),max(final_list)-min(final_list))\n",
    "print(sum(final_list)/len(final_list))"
   ]
  },
  {
   "cell_type": "code",
   "execution_count": 23,
   "metadata": {
    "ExecuteTime": {
     "end_time": "2021-07-11T15:37:35.758243Z",
     "start_time": "2021-07-11T15:37:34.891403Z"
    }
   },
   "outputs": [
    {
     "data": {
      "image/png": "[encoded data removed]",
      "text/plain": [
       "<Figure size 432x288 with 1 Axes>"
      ]
     },
     "metadata": {
      "needs_background": "light"
     },
     "output_type": "display_data"
    },
    {
     "name": "stdout",
     "output_type": "stream",
     "text": [
      "3.417697846889496 2.99926098695048 0.4184368599390158\n",
      "3.1444362810098028\n"
     ]
    }
   ],
   "source": [
    "final_list = result_list[:20000] + result_list_G[:20000]\n",
    "\n",
    "\n",
    "plt.hist(final_list,bins=500)\n",
    "\n",
    "plt.title(\"Means\", y=1.015, fontsize=20)\n",
    "plt.axvline(x=sum(final_list)/len(final_list), linestyle='--', linewidth=2.5, label=\"sample mean\", c='orange')\n",
    "plt.xlabel(\"samples\", labelpad=14)\n",
    "plt.ylabel(\"frequency of occurence\", labelpad=14)\n",
    "plt.legend();\n",
    "\n",
    "\n",
    "plt.show()\n",
    "\n",
    "\n",
    "print(max(final_list),min(final_list),max(final_list)-min(final_list))\n",
    "print(sum(final_list)/len(final_list))"
   ]
  },
  {
   "cell_type": "code",
   "execution_count": 24,
   "metadata": {
    "ExecuteTime": {
     "end_time": "2021-07-11T15:37:36.650659Z",
     "start_time": "2021-07-11T15:37:35.760921Z"
    }
   },
   "outputs": [
    {
     "data": {
      "image/png": "[encoded data removed]",
      "text/plain": [
       "<Figure size 432x288 with 1 Axes>"
      ]
     },
     "metadata": {
      "needs_background": "light"
     },
     "output_type": "display_data"
    },
    {
     "name": "stdout",
     "output_type": "stream",
     "text": [
      "3.418692469596863 2.9868289828300476 0.4318634867668152\n",
      "3.144958671660811\n"
     ]
    }
   ],
   "source": [
    "final_list = result_list[:50000] + result_list_G[:50000]\n",
    "\n",
    "\n",
    "plt.hist(final_list,bins=500)\n",
    "\n",
    "plt.title(\"Means\", y=1.015, fontsize=20)\n",
    "plt.axvline(x=sum(final_list)/len(final_list), linestyle='--', linewidth=2.5, label=\"sample mean\", c='orange')\n",
    "plt.xlabel(\"samples\", labelpad=14)\n",
    "plt.ylabel(\"frequency of occurence\", labelpad=14)\n",
    "plt.legend();\n",
    "\n",
    "\n",
    "plt.show()\n",
    "\n",
    "\n",
    "print(max(final_list),min(final_list),max(final_list)-min(final_list))\n",
    "print(sum(final_list)/len(final_list))"
   ]
  },
  {
   "cell_type": "code",
   "execution_count": null,
   "metadata": {},
   "outputs": [],
   "source": []
  }
 ],
 "metadata": {
  "hide_input": false,
  "kernelspec": {
   "display_name": "Python 3",
   "language": "python",
   "name": "python3"
  },
  "language_info": {
   "codemirror_mode": {
    "name": "ipython",
    "version": 3
   },
   "file_extension": ".py",
   "mimetype": "text/x-python",
   "name": "python",
   "nbconvert_exporter": "python",
   "pygments_lexer": "ipython3",
   "version": "3.8.3"
  },
  "varInspector": {
   "cols": {
    "lenName": 16,
    "lenType": 16,
    "lenVar": 40
   },
   "kernels_config": {
    "python": {
     "delete_cmd_postfix": "",
     "delete_cmd_prefix": "del ",
     "library": "var_list.py",
     "varRefreshCmd": "print(var_dic_list())"
    },
    "r": {
     "delete_cmd_postfix": ") ",
     "delete_cmd_prefix": "rm(",
     "library": "var_list.r",
     "varRefreshCmd": "cat(var_dic_list()) "
    }
   },
   "types_to_exclude": [
    "module",
    "function",
    "builtin_function_or_method",
    "instance",
    "_Feature"
   ],
   "window_display": false
  }
 },
 "nbformat": 4,
 "nbformat_minor": 4
}
