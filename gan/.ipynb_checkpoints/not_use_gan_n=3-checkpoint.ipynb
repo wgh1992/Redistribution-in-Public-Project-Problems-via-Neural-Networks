{
 "cells": [
  {
   "cell_type": "code",
   "execution_count": 1,
   "metadata": {
    "ExecuteTime": {
     "end_time": "2021-06-12T09:55:03.099423Z",
     "start_time": "2021-06-12T09:55:01.060772Z"
    }
   },
   "outputs": [
    {
     "name": "stdout",
     "output_type": "stream",
     "text": [
      "pygame 2.0.1 (SDL 2.0.14, Python 3.8.3)\n",
      "Hello from the pygame community. https://www.pygame.org/contribute.html\n"
     ]
    },
    {
     "name": "stderr",
     "output_type": "stream",
     "text": [
      "D:\\ComputerSoftwares\\Anaconda\\lib\\site-packages\\sklearn\\utils\\deprecation.py:143: FutureWarning: The sklearn.datasets.samples_generator module is  deprecated in version 0.22 and will be removed in version 0.24. The corresponding classes / functions should instead be imported from sklearn.datasets. Anything that cannot be imported from sklearn.datasets is now part of the private API.\n",
      "  warnings.warn(message, FutureWarning)\n"
     ]
    },
    {
     "name": "stdout",
     "output_type": "stream",
     "text": [
      "cuda:0\n"
     ]
    }
   ],
   "source": [
    "\n",
    "import pygame\n",
    "import random\n",
    "import os\n",
    "import time\n",
    "import numpy as np\n",
    "import math\n",
    "import torch\n",
    "import torch.nn.functional\n",
    "import matplotlib.pyplot as plt\n",
    "import torch.optim as opt\n",
    "from torch.autograd import Variable\n",
    "from sklearn.model_selection import train_test_split\n",
    "\n",
    "import scipy.stats as st\n",
    "from sklearn.datasets.samples_generator import make_blobs\n",
    "from matplotlib.colors import LogNorm \n",
    "import matplotlib.cm as cm\n",
    "import torch.nn as nn\n",
    "import numpy as np\n",
    "import matplotlib.pyplot as plt\n",
    "import plotly.graph_objects as go\n",
    "import plotly.express as px\n",
    "from scipy.interpolate import griddata\n",
    "if torch.cuda.is_available():  \n",
    "    dev = \"cuda:0\" \n",
    "else:  \n",
    "    dev = \"cpu\"  \n",
    "\n",
    "print(dev)\n",
    "\n"
   ]
  },
  {
   "cell_type": "code",
   "execution_count": 2,
   "metadata": {
    "ExecuteTime": {
     "end_time": "2021-06-12T09:55:03.114365Z",
     "start_time": "2021-06-12T09:55:03.101417Z"
    }
   },
   "outputs": [],
   "source": [
    "global temp_list\n",
    "temp_list = []\n",
    "Agent_number_n=3;\n",
    "Alpha = 0.66\n",
    "\n",
    "# Hyper Parameters\n",
    "echo = 10001\n",
    "BATCH_SIZE = 64\n",
    "LR_G = 0.001           # learning rate for generator\n",
    "LR_D = 0.001           # learning rate for discriminator\n",
    "N_IDEAS = Agent_number_n             # think of this as number of ideas for generating an art work (Generator)\n",
    "ART_COMPONENTS = Agent_number_n     # it could be total point G can draw in the canvas\n",
    "\n",
    "Is_GAN = False # if use Gan\n",
    "\n",
    "def Generate_distribution(Agent_number_n):\n",
    "    return sorted(np.random.rand(Agent_number_n), reverse=True)\n",
    "    #return np.random.normal(normalloc,normalscale,Agent_number_n)"
   ]
  },
  {
   "cell_type": "code",
   "execution_count": 3,
   "metadata": {
    "ExecuteTime": {
     "end_time": "2021-06-12T09:55:03.366663Z",
     "start_time": "2021-06-12T09:55:03.115339Z"
    }
   },
   "outputs": [
    {
     "name": "stdout",
     "output_type": "stream",
     "text": [
      "[[[0.86397619 0.05981491]\n",
      "  [0.89274666 0.05981491]\n",
      "  [0.89274666 0.86397619]]\n",
      "\n",
      " [[0.53892424 0.29975623]\n",
      "  [0.59909814 0.29975623]\n",
      "  [0.59909814 0.53892424]]\n",
      "\n",
      " [[0.53669093 0.20988868]\n",
      "  [0.85610399 0.20988868]\n",
      "  [0.85610399 0.53669093]]\n",
      "\n",
      " ...\n",
      "\n",
      " [[0.4639378  0.18648124]\n",
      "  [0.72704536 0.18648124]\n",
      "  [0.72704536 0.4639378 ]]\n",
      "\n",
      " [[0.25228766 0.00099883]\n",
      "  [0.84459619 0.00099883]\n",
      "  [0.84459619 0.25228766]]\n",
      "\n",
      " [[0.71172242 0.56924962]\n",
      "  [0.81844089 0.56924962]\n",
      "  [0.81844089 0.71172242]]]\n",
      "[1.81653776 1.43777861 1.6026836  ... 1.3774644  1.09788268 2.09941294]\n"
     ]
    }
   ],
   "source": [
    "def appen(_x_list,y):\n",
    "    global temp_list\n",
    "    temp_list.append(_x_list)\n",
    "    \n",
    "def appen_train(x_list):\n",
    "    global temp_list\n",
    "                \n",
    "    S= max(sum(x_list),1.0);\n",
    "    temp_list = []\n",
    "    \n",
    "    for i in range(Agent_number_n):\n",
    "        temp = []\n",
    "        for j in range(Agent_number_n):\n",
    "            if(i!=j):\n",
    "                temp.append(x_list[j])\n",
    "        appen(temp,S)\n",
    "    \n",
    "    temp_list = np.array(temp_list)\n",
    "    x_list = np.array(x_list)\n",
    "    return temp_list,S,x_list\n",
    "    \n",
    "\n",
    "def appen_test(x_list):\n",
    "    global temp_list\n",
    "                \n",
    "    S= max(sum(x_list),1.0);\n",
    "    temp_list = []\n",
    "    \n",
    "    for i in range(Agent_number_n):\n",
    "        temp = []\n",
    "        for j in range(Agent_number_n):\n",
    "            if(i!=j):\n",
    "                temp.append(x_list[j])\n",
    "        appen(temp,S)\n",
    "    testing_data.append(temp_list)\n",
    "    testing_label.append(S)\n",
    "    temp_list = np.array(temp_list)\n",
    "    return temp_list,S\n",
    "    \n",
    "\n",
    "def read_testing_data():\n",
    "    for i in range(10000):\n",
    "        appen_test(Generate_distribution(Agent_number_n));\n",
    "                            \n",
    "\n",
    "testing_data=[]\n",
    "testing_label=[]\n",
    "S=1.0\n",
    "read_testing_data();\n",
    "\n",
    "testing_data=np.array(testing_data)\n",
    "testing_label=np.array(testing_label)\n",
    "print(testing_data)\n",
    "print(testing_label)"
   ]
  },
  {
   "cell_type": "code",
   "execution_count": 4,
   "metadata": {
    "ExecuteTime": {
     "end_time": "2021-06-12T09:55:04.214186Z",
     "start_time": "2021-06-12T09:55:03.368659Z"
    }
   },
   "outputs": [
    {
     "name": "stdout",
     "output_type": "stream",
     "text": [
      "2.332502147380376 2.0 0.3325021473803762 2.103513549068793\n"
     ]
    }
   ],
   "source": [
    "def h_3_star(a, b, t):\n",
    "    return a - min(a, t) + b - min(b, t) + max(min(a, t)+min(b, t), 2*t/3) + 1/2 * max(min(a, t)+min(b, t), t) - 1/2 * max(max(min(a, t), min(b, t)), 2*t/3) - t/6\n",
    "\n",
    "\n",
    "def f_function(a, b, z):\n",
    "    if(z >= 1):\n",
    "        return (a+b)/2 + z/3\n",
    "    else:\n",
    "        return z/3 + h_3_star(a, b, 1-z)/2\n",
    "\n",
    "def h_function(input_list):\n",
    "    #input_list = sorted(input_list)\n",
    "    g_list = []\n",
    "    for j1 in range(len(input_list) ):\n",
    "        for j2 in range(len(input_list)):\n",
    "            if(j1 != j2):\n",
    "                a = input_list[j1]\n",
    "                b = input_list[j2]\n",
    "                z = sum(input_list)- a-b\n",
    "\n",
    "                g_list.append( f_function(a, b, z) * (Agent_number_n-1))\n",
    "    h = sum(g_list) * 3 /  (Agent_number_n) /  (Agent_number_n-1) /  (Agent_number_n - 2)\n",
    "    return h\n",
    "                \n",
    "                \n",
    "x_list = []\n",
    "y_list = []\n",
    "z_list = []\n",
    "result_list = []\n",
    "for index in range(len(testing_data)):\n",
    "    h_list = []\n",
    "    for i in range(Agent_number_n):\n",
    "        x_list.append(testing_data[index][i][0])\n",
    "        y_list.append(testing_data[index][i][1])\n",
    "        h = h_function(testing_data[index][i])\n",
    "        z_list.append(float(h))\n",
    "        h_list.append(float(h))\n",
    "    result_list.append(sum(h_list)/testing_label[index]) \n",
    "    \n",
    "    \n",
    "print(max(result_list), min(result_list), max(result_list)-min(result_list),sum(result_list)/len(result_list))"
   ]
  },
  {
   "cell_type": "code",
   "execution_count": 5,
   "metadata": {
    "ExecuteTime": {
     "end_time": "2021-06-12T09:55:05.464593Z",
     "start_time": "2021-06-12T09:55:04.216182Z"
    }
   },
   "outputs": [
    {
     "data": {
      "image/png": "[encoded data removed]",
      "text/plain": [
       "<Figure size 432x288 with 1 Axes>"
      ]
     },
     "metadata": {
      "needs_background": "light"
     },
     "output_type": "display_data"
    }
   ],
   "source": [
    "plt.hist(result_list,bins=500)\n",
    "\n",
    "plt.title(\"Means\", y=1.015, fontsize=20)\n",
    "plt.axvline(x=sum(result_list)/len(result_list), linestyle='--', linewidth=2.5, label=\"sample mean\", c='orange')\n",
    "plt.xlabel(\"samples\", labelpad=14)\n",
    "plt.ylabel(\"frequency of occurence\", labelpad=14)\n",
    "plt.legend();\n",
    "\n",
    "result_list.sort()\n",
    "\n",
    "plt.axvline(x=result_list[int(len(result_list)*0.01)], linestyle='--', linewidth=0.5, label=\"1%\", c='b')\n",
    "plt.axvline(x=result_list[int(len(result_list)*0.99)], linestyle='--', linewidth=0.5, label=\"99%\", c='r')\n",
    "\n",
    "\n",
    "plt.show()"
   ]
  },
  {
   "cell_type": "code",
   "execution_count": 6,
   "metadata": {
    "ExecuteTime": {
     "end_time": "2021-06-12T09:55:05.495992Z",
     "start_time": "2021-06-12T09:55:05.466588Z"
    }
   },
   "outputs": [],
   "source": [
    "def weight_init(m):\n",
    "    if isinstance(m, torch.nn.Conv2d):\n",
    "        torch.nn.init.xavier_normal_(m.weight)\n",
    "        torch.nn.init.zeros_(m.bias)\n",
    "    elif isinstance(m, torch.nn.Linear):\n",
    "        torch.nn.init.xavier_normal_(m.weight)\n",
    "        torch.nn.init.zeros_(m.bias)\n",
    "\n",
    "class Net(torch.nn.Module):\n",
    "    def __init__(self):\n",
    "\n",
    "        super(Net, self).__init__()\n",
    "        \n",
    "        self.input_dim = (Agent_number_n-1)\n",
    "        self.hidden_dim = 128\n",
    "        self.output_dim = 1\n",
    "        self.hidden_layer_count = 6 \n",
    "        \n",
    "        current_dim = self.input_dim\n",
    "        self.layers = torch.nn.ModuleList()\n",
    "        for i in range(self.hidden_layer_count):\n",
    "            self.layers.append(torch.nn.Linear(current_dim, self.hidden_dim))\n",
    "            current_dim = self.hidden_dim\n",
    "        self.layers.append(torch.nn.Linear(current_dim, self.output_dim))\n",
    "\n",
    "    def calculate(self, value_list):\n",
    "        h = value_list\n",
    "        LeakyReLU = torch.nn.LeakyReLU()\n",
    "        for layer in self.layers:\n",
    "            h = torch.relu(layer(h))\n",
    "        return h\n",
    "\n",
    "    def forward(self, input_list,input_label,label):\n",
    "        global iteration,echo,target_order\n",
    "        loss1 = 0\n",
    "        loss2 = 0\n",
    "        loss3 = 0\n",
    "        input_list = torch.from_numpy(\n",
    "            np.array(input_list)).to(dev).type(torch.float32)\n",
    "        h_list = []\n",
    "\n",
    "        for i in range(Agent_number_n):\n",
    "            h = self.calculate(input_list[i])\n",
    "            h_list.append(h)\n",
    "#             loss3 += torch.square(h_function_2(input_list)-h2[1])\n",
    "            \n",
    "        input_label = torch.from_numpy(\n",
    "            np.array(input_label)).to(dev).type(torch.float32)\n",
    "        sum_h = torch.sum(torch.cat(h_list)).to(dev)\n",
    "\n",
    "\n",
    "        loss1 = torch.where((Agent_number_n-1)*input_label>sum_h,\n",
    "                        torch.square(((Agent_number_n-1)*input_label-sum_h)),\n",
    "                        torch.zeros(1).to(dev)\n",
    "                      )\n",
    "\n",
    "        loss2 = torch.where((Agent_number_n-Alpha)*input_label<sum_h,\n",
    "                        torch.square((sum_h-(Agent_number_n-Alpha)*input_label))/100,\n",
    "                        torch.zeros(1).to(dev)\n",
    "                      )\n",
    "\n",
    "\n",
    "        return loss1,loss2"
   ]
  },
  {
   "cell_type": "code",
   "execution_count": 7,
   "metadata": {
    "ExecuteTime": {
     "end_time": "2021-06-12T09:55:05.511949Z",
     "start_time": "2021-06-12T09:55:05.497987Z"
    }
   },
   "outputs": [],
   "source": [
    "def redistribution_value_function(input_tensor):\n",
    "    S = torch.max(torch.sum(input_tensor), torch.ones(1).to(dev))\n",
    "    temp_list = []\n",
    "\n",
    "\n",
    "    for i in range(Agent_number_n):\n",
    "        temp = []\n",
    "        \n",
    "        for j in range(Agent_number_n):\n",
    "            if(i != j):\n",
    "                temp .append(input_tensor[j])\n",
    "                \n",
    "        temp = torch.stack(temp)\n",
    "        temp_list.append(temp)\n",
    "    return torch.stack(temp_list), S\n",
    "\n",
    "GeneratorNet = nn.Sequential(                      # Generator\n",
    "    # random ideas (could from normal distribution)\n",
    "    nn.Linear(N_IDEAS, 64),\n",
    "    nn.ReLU(),\n",
    "    nn.Linear(64, 64),\n",
    "    nn.ReLU(),\n",
    "    # making a painting from these random ideas\n",
    "    nn.Linear(64, ART_COMPONENTS),\n",
    "    nn.Sigmoid(),\n",
    ")"
   ]
  },
  {
   "cell_type": "code",
   "execution_count": 8,
   "metadata": {
    "ExecuteTime": {
     "end_time": "2021-06-12T09:55:07.003020Z",
     "start_time": "2021-06-12T09:55:05.513944Z"
    },
    "run_control": {
     "marked": false
    }
   },
   "outputs": [],
   "source": [
    "random.seed(2000)\n",
    "torch.manual_seed(256)\n",
    "DiscriminatorNet  = Net()\n",
    "DiscriminatorNet.apply(weight_init)\n",
    "GeneratorNet.apply(weight_init)\n",
    "# DiscriminatorNet = torch.load(\"save/Deep_learning_D_3_2\")\n",
    "# if(Is_GAN):\n",
    "#     GeneratorNet = torch.load(\"save/Deep_learning_G_3_2\")\n",
    "DiscriminatorNet.to(dev)\n",
    "GeneratorNet.to(dev)\n",
    "\n",
    "opt_D = torch.optim.Adam(DiscriminatorNet.parameters(), lr=LR_D)\n",
    "opt_G = torch.optim.Adam(GeneratorNet.parameters(), lr=LR_G)\n",
    "\n",
    "\n",
    "scheduler_D = torch.optim.lr_scheduler.StepLR(opt_D, step_size=100, gamma=0.98)\n",
    "scheduler_G = torch.optim.lr_scheduler.StepLR(opt_G, step_size=100, gamma=0.98)\n",
    "\n",
    "index_train_list = []\n",
    "index_test_list = []\n",
    "train_losses = []\n",
    "test_losses = []"
   ]
  },
  {
   "cell_type": "code",
   "execution_count": 9,
   "metadata": {
    "ExecuteTime": {
     "end_time": "2021-06-12T11:29:28.143382Z",
     "start_time": "2021-06-12T09:55:07.005015Z"
    }
   },
   "outputs": [
    {
     "name": "stdout",
     "output_type": "stream",
     "text": [
      "0 tensor(1.6563e-05, device='cuda:0', grad_fn=<DivBackward0>) 0.0010600440436974168 0.0\n",
      "2.77418977022171 2.2876780640845356 0.48651170613717465 0.154929123720295\n",
      "\n",
      "\n"
     ]
    },
    {
     "name": "stderr",
     "output_type": "stream",
     "text": [
      "D:\\ComputerSoftwares\\Anaconda\\lib\\site-packages\\torch\\optim\\lr_scheduler.py:118: UserWarning: Detected call of `lr_scheduler.step()` before `optimizer.step()`. In PyTorch 1.1.0 and later, you should call them in the opposite order: `optimizer.step()` before `lr_scheduler.step()`.  Failure to do this will result in PyTorch skipping the first value of the learning rate schedule. See more details at https://pytorch.org/docs/stable/optim.html#how-to-adjust-learning-rate\n",
      "  warnings.warn(\"Detected call of `lr_scheduler.step()` before `optimizer.step()`. \"\n"
     ]
    },
    {
     "name": "stdout",
     "output_type": "stream",
     "text": [
      "100 tensor(2.0122e-06, device='cuda:0', grad_fn=<DivBackward0>) 0.0 0.00012878281995654106\n",
      "2.507790207862854 2.0020771824302317 0.5057130254326223 0.10428939507441237\n",
      "\n",
      "\n",
      "200 tensor(1.6589e-08, device='cuda:0', grad_fn=<DivBackward0>) 0.0 1.0617188763717422e-06\n",
      "2.475352942943573 1.9965649771277847 0.4787879658157883 0.10868820100971899\n",
      "\n",
      "\n",
      "300 tensor(0., device='cuda:0', grad_fn=<DivBackward0>) 0.0 0.0\n",
      "2.466162860393524 1.997929334640503 0.46823352575302124 0.11756577295899451\n",
      "\n",
      "\n",
      "400 tensor(2.2126e-07, device='cuda:0', grad_fn=<DivBackward0>) 0.0 1.4160587852529716e-05\n",
      "2.4565462470054626 2.002637028694153 0.4539092183113098 0.11929049729185648\n",
      "\n",
      "\n",
      "500 tensor(0., device='cuda:0', grad_fn=<DivBackward0>) 0.0 0.0\n",
      "2.4394419193267822 2.0101885383560236 0.4292533809707586 0.11436904267477344\n",
      "\n",
      "\n",
      "600 tensor(0., device='cuda:0', grad_fn=<DivBackward0>) 0.0 0.0\n",
      "2.4096380472183228 1.9961527870527849 0.4134852601655379 0.11940795935951276\n",
      "\n",
      "\n",
      "700 tensor(3.1727e-13, device='cuda:0', grad_fn=<DivBackward0>) 0.0 2.0305037165546658e-11\n",
      "2.3996569514274597 1.988800287246704 0.4108566641807556 0.1380932933031609\n",
      "\n",
      "\n",
      "800 tensor(0., device='cuda:0', grad_fn=<DivBackward0>) 0.0 0.0\n",
      "2.3981205821037292 2.0022096037864685 0.39591097831726074 0.12014594063315664\n",
      "\n",
      "\n",
      "900 tensor(0., device='cuda:0', grad_fn=<DivBackward0>) 0.0 0.0\n",
      "2.4061691761016846 1.9974931599905932 0.4086760161110914 0.12435827004235689\n",
      "\n",
      "\n",
      "1000 tensor(1.2513e-07, device='cuda:0', grad_fn=<DivBackward0>) 0.0 8.00838643044699e-06\n",
      "2.4197031259536743 2.009029805368753 0.41067332058492134 0.12254276066995429\n",
      "\n",
      "\n",
      "1100 tensor(1.1087e-07, device='cuda:0', grad_fn=<DivBackward0>) 0.0 7.0955275077722035e-06\n",
      "2.415074050426483 2.005905861283787 0.40916818914269637 0.12192202968582411\n",
      "\n",
      "\n",
      "1200 tensor(0., device='cuda:0', grad_fn=<DivBackward0>) 0.0 0.0\n",
      "2.4124024510383606 2.0100948008091715 0.40230765022918913 0.12082653377430619\n",
      "\n",
      "\n",
      "1300 tensor(0., device='cuda:0', grad_fn=<DivBackward0>) 0.0 0.0\n",
      "2.4337661266326904 2.030110145681914 0.40365598095077626 0.12240301260632824\n",
      "\n",
      "\n",
      "1400 tensor(4.8568e-07, device='cuda:0', grad_fn=<DivBackward0>) 0.0 3.1083691283129156e-05\n",
      "2.4570961594581604 2.0149874853824445 0.44210867407571586 0.1290888614175132\n",
      "\n",
      "\n",
      "1500 tensor(3.7804e-07, device='cuda:0', grad_fn=<DivBackward0>) 2.419472912151832e-05 0.0\n",
      "2.40866219997406 2.0014624372364613 0.4071997627375987 0.1203955066639475\n",
      "\n",
      "\n",
      "1600 tensor(0., device='cuda:0', grad_fn=<DivBackward0>) 0.0 0.0\n",
      "2.443371534347534 2.0246711435042344 0.4187003908432998 0.12251065092406588\n",
      "\n",
      "\n",
      "1700 tensor(0., device='cuda:0', grad_fn=<DivBackward0>) 0.0 0.0\n",
      "2.402242064476013 2.0005779162811907 0.40166414819482243 0.1201426473713405\n",
      "\n",
      "\n",
      "1800 tensor(0., device='cuda:0', grad_fn=<DivBackward0>) 0.0 0.0\n",
      "2.3925588130950928 2.009710967540741 0.3828478455543518 0.12238828837675264\n",
      "\n",
      "\n",
      "1900 tensor(0., device='cuda:0', grad_fn=<DivBackward0>) 0.0 0.0\n",
      "2.377205491065979 1.9953590931564296 0.38184639790954944 0.11251079760366989\n",
      "\n",
      "\n",
      "2000 tensor(1.7452e-06, device='cuda:0', grad_fn=<DivBackward0>) 0.0 0.00011169337085448205\n",
      "2.643194317817688 2.025939578885354 0.617254738932334 0.1588134398440908\n",
      "\n",
      "\n",
      "2100 tensor(7.8512e-07, device='cuda:0', grad_fn=<DivBackward0>) 0.0 5.024755228077993e-05\n",
      "2.523429751396179 1.9872226543106633 0.536207097085516 0.152333105995486\n",
      "\n",
      "\n",
      "2200 tensor(2.7451e-06, device='cuda:0', grad_fn=<DivBackward0>) 0.0 0.00017568589828442782\n",
      "2.5094485878944397 1.996077099231015 0.5133714886634246 0.14480789377219327\n",
      "\n",
      "\n",
      "2300 tensor(7.3565e-08, device='cuda:0', grad_fn=<DivBackward0>) 0.0 4.708134838438127e-06\n",
      "2.4927104115486145 1.9958182490890541 0.49689216245956036 0.14037907608487865\n",
      "\n",
      "\n",
      "2400 tensor(1.1789e-07, device='cuda:0', grad_fn=<DivBackward0>) 6.078623755456647e-06 1.4662283547295374e-06\n",
      "2.473763942718506 1.9922355902070465 0.4815283525114593 0.14648690023314104\n",
      "\n",
      "\n",
      "2500 tensor(0., device='cuda:0', grad_fn=<DivBackward0>) 0.0 0.0\n",
      "2.4739477038383484 1.9970162853588203 0.47693141847952814 0.14014189304479197\n",
      "\n",
      "\n",
      "2600 tensor(0., device='cuda:0', grad_fn=<DivBackward0>) 0.0 0.0\n",
      "2.4709742069244385 1.9972621082875883 0.47371209863685015 0.13967046565282892\n",
      "\n",
      "\n",
      "2700 tensor(8.6848e-08, device='cuda:0', grad_fn=<DivBackward0>) 0.0 5.558291377383284e-06\n",
      "2.4615840315818787 1.9936584830284119 0.4679255485534668 0.15057298500630845\n",
      "\n",
      "\n",
      "2800 tensor(1.0419e-06, device='cuda:0', grad_fn=<DivBackward0>) 0.0 6.668398418696597e-05\n",
      "2.455493688583374 1.9986961532627305 0.4567975353206435 0.14249766230335914\n",
      "\n",
      "\n",
      "2900 tensor(3.0201e-08, device='cuda:0', grad_fn=<DivBackward0>) 0.0 1.9328558664710727e-06\n",
      "2.453399896621704 1.9999452829360962 0.4534546136856079 0.1369854005389497\n",
      "\n",
      "\n",
      "3000 tensor(0., device='cuda:0', grad_fn=<DivBackward0>) 0.0 0.0\n",
      "2.4469156861305237 1.9978548756968586 0.4490608104336651 0.13987389046154486\n",
      "\n",
      "\n",
      "3100 tensor(0., device='cuda:0', grad_fn=<DivBackward0>) 0.0 0.0\n",
      "2.444669187068939 1.9958503246307373 0.4488188624382019 0.1476783058167701\n",
      "\n",
      "\n",
      "3200 tensor(0., device='cuda:0', grad_fn=<DivBackward0>) 0.0 0.0\n",
      "2.4426279067993164 2.001127243041992 0.4415006637573242 0.13832047915770573\n",
      "\n",
      "\n",
      "3300 tensor(1.3750e-06, device='cuda:0', grad_fn=<DivBackward0>) 0.0 8.79988438100554e-05\n",
      "2.4439231753349304 2.004148304462433 0.43977487087249756 0.1405605437995634\n",
      "\n",
      "\n",
      "3400 tensor(2.4904e-08, device='cuda:0', grad_fn=<DivBackward0>) 0.0 1.5938406932036742e-06\n",
      "2.4523744583129883 2.0040571689605713 0.448317289352417 0.14709542627936534\n",
      "\n",
      "\n",
      "3500 tensor(4.9842e-09, device='cuda:0', grad_fn=<DivBackward0>) 0.0 3.1898747465675115e-07\n",
      "2.440552771091461 2.0010171164546233 0.43953565463683786 0.14017800397776492\n",
      "\n",
      "\n",
      "3600 tensor(0., device='cuda:0', grad_fn=<DivBackward0>) 0.0 0.0\n",
      "2.4299554228782654 1.996530538973876 0.4334248839043895 0.14270248869995084\n",
      "\n",
      "\n",
      "3700 tensor(0., device='cuda:0', grad_fn=<DivBackward0>) 0.0 0.0\n",
      "2.4284236431121826 1.9991026687168179 0.42932097439536476 0.1390199776444978\n",
      "\n",
      "\n",
      "3800 tensor(6.5819e-07, device='cuda:0', grad_fn=<DivBackward0>) 0.0 4.2124007450183854e-05\n",
      "2.4351713061332703 1.9992125630378723 0.43595874309539795 0.14409336769396885\n",
      "\n",
      "\n",
      "3900 tensor(2.2915e-08, device='cuda:0', grad_fn=<DivBackward0>) 0.0 1.4665774870081805e-06\n",
      "2.4283688068389893 2.000253140926361 0.4281156659126282 0.13996059946966177\n",
      "\n",
      "\n",
      "4000 tensor(7.8321e-07, device='cuda:0', grad_fn=<DivBackward0>) 0.0 5.012530891690403e-05\n",
      "2.4191665053367615 1.995043652180191 0.4241228531565704 0.1424811823152643\n",
      "\n",
      "\n",
      "4100 tensor(0., device='cuda:0', grad_fn=<DivBackward0>) 0.0 0.0\n",
      "2.416881799697876 1.9982076287269592 0.41867417097091675 0.13759278254893648\n",
      "\n",
      "\n",
      "4200 tensor(0., device='cuda:0', grad_fn=<DivBackward0>) 0.0 0.0\n",
      "2.412003993988037 1.9983295015267877 0.41367449246124943 0.13436046604501772\n",
      "\n",
      "\n",
      "4300 tensor(6.8005e-07, device='cuda:0', grad_fn=<DivBackward0>) 0.0 4.352316682343371e-05\n",
      "2.4281874299049377 1.9984142184257507 0.429773211479187 0.14302748064671222\n",
      "\n",
      "\n",
      "4400 tensor(1.6415e-10, device='cuda:0', grad_fn=<DivBackward0>) 0.0 1.0505459613341372e-08\n",
      "2.426886737346649 1.9942423701286316 0.4326443672180176 0.15832496816229158\n",
      "\n",
      "\n",
      "4500 tensor(0., device='cuda:0', grad_fn=<DivBackward0>) 0.0 0.0\n",
      "2.4177531003952026 1.9966439604759216 0.421109139919281 0.1464679025984017\n",
      "\n",
      "\n",
      "4600 tensor(0., device='cuda:0', grad_fn=<DivBackward0>) 0.0 0.0\n",
      "2.412339687347412 1.9958239721537294 0.4165157151936827 0.1415754543146488\n",
      "\n",
      "\n",
      "4700 tensor(1.8485e-08, device='cuda:0', grad_fn=<DivBackward0>) 1.1830163657577941e-06 0.0\n",
      "2.4082693457603455 1.9945840279630669 0.4136853177972786 0.14167822327577828\n",
      "\n",
      "\n",
      "4800 tensor(1.3076e-07, device='cuda:0', grad_fn=<DivBackward0>) 0.0 8.368733688257635e-06\n",
      "2.411272704601288 1.9981451628369795 0.4131275417643083 0.13762946715180657\n",
      "\n",
      "\n",
      "4900 tensor(0., device='cuda:0', grad_fn=<DivBackward0>) 0.0 0.0\n",
      "2.4133490324020386 1.9952733744407174 0.4180756579613212 0.1434482844894298\n",
      "\n",
      "\n",
      "5000 tensor(4.9801e-07, device='cuda:0', grad_fn=<DivBackward0>) 0.0 3.1872361432760954e-05\n",
      "2.4069113731384277 1.9966014085453379 0.4103099645930899 0.13837244242766134\n",
      "\n",
      "\n",
      "5100 tensor(0., device='cuda:0', grad_fn=<DivBackward0>) 0.0 0.0\n",
      "2.4100841879844666 2.0009798776777328 0.4091043103067338 0.13457606733594085\n",
      "\n",
      "\n",
      "5200 tensor(0., device='cuda:0', grad_fn=<DivBackward0>) 0.0 0.0\n",
      "2.407041907310486 2.0014376640319824 0.4056042432785034 0.1329106224344434\n",
      "\n",
      "\n",
      "5300 tensor(0., device='cuda:0', grad_fn=<DivBackward0>) 0.0 0.0\n"
     ]
    },
    {
     "name": "stdout",
     "output_type": "stream",
     "text": [
      "2.4043189883232117 1.9988802155945826 0.40543877272862905 0.13498686477905353\n",
      "\n",
      "\n",
      "5400 tensor(2.4854e-07, device='cuda:0', grad_fn=<DivBackward0>) 0.0 1.590645479154773e-05\n",
      "2.4212454557418823 2.004623532295227 0.4166219234466553 0.14034792452763334\n",
      "\n",
      "\n",
      "5500 tensor(0., device='cuda:0', grad_fn=<DivBackward0>) 0.0 0.0\n",
      "2.408951997756958 1.9974773025761667 0.4114746951807913 0.13981047017695092\n",
      "\n",
      "\n",
      "5600 tensor(0., device='cuda:0', grad_fn=<DivBackward0>) 0.0 0.0\n",
      "2.4106737971305847 2.000279448459284 0.41039434867130087 0.1364861925365708\n",
      "\n",
      "\n",
      "5700 tensor(2.0751e-09, device='cuda:0', grad_fn=<DivBackward0>) 0.0 1.328039758163868e-07\n",
      "2.4020867943763733 1.999982860015212 0.4021039343611612 0.13318721133904843\n",
      "\n",
      "\n",
      "5800 tensor(5.0386e-09, device='cuda:0', grad_fn=<DivBackward0>) 0.0 3.2247109515992634e-07\n",
      "2.4008673429489136 1.9985087839874922 0.40235855896142136 0.13505737441130505\n",
      "\n",
      "\n",
      "5900 tensor(2.3421e-08, device='cuda:0', grad_fn=<DivBackward0>) 0.0 1.498941514910257e-06\n",
      "2.4245768189430237 2.005132580654834 0.41944423828818955 0.1415544279538805\n",
      "\n",
      "\n",
      "6000 tensor(4.2220e-08, device='cuda:0', grad_fn=<DivBackward0>) 0.0 2.7020807920052903e-06\n",
      "2.4207802414894104 2.0061371326446533 0.4146431088447571 0.14344829266383075\n",
      "\n",
      "\n",
      "6100 tensor(0., device='cuda:0', grad_fn=<DivBackward0>) 0.0 0.0\n",
      "2.3997098803520203 1.9951093196868896 0.4046005606651306 0.1435974890294851\n",
      "\n",
      "\n",
      "6200 tensor(2.6838e-10, device='cuda:0', grad_fn=<DivBackward0>) 0.0 1.7176379429884037e-08\n",
      "2.410161852836609 2.007312774658203 0.40284907817840576 0.13654671455132883\n",
      "\n",
      "\n",
      "6300 tensor(5.5206e-08, device='cuda:0', grad_fn=<DivBackward0>) 0.0 3.5331927392689977e-06\n",
      "2.3972633481025696 1.9987351298332214 0.39852821826934814 0.1370451749385091\n",
      "\n",
      "\n",
      "6400 tensor(1.2362e-07, device='cuda:0', grad_fn=<DivBackward0>) 0.0 7.911658030934632e-06\n",
      "2.3993654251098633 2.00006297750595 0.3993024476039131 0.13389717329261952\n",
      "\n",
      "\n",
      "6500 tensor(0., device='cuda:0', grad_fn=<DivBackward0>) 0.0 0.0\n",
      "2.396968126296997 2.0038394750591166 0.39312865123788043 0.1307104955719689\n",
      "\n",
      "\n",
      "6600 tensor(4.4446e-11, device='cuda:0', grad_fn=<DivBackward0>) 0.0 2.8445406030641607e-09\n",
      "2.396112084388733 2.0012796121901597 0.3948324721985732 0.13230724364805013\n",
      "\n",
      "\n",
      "6700 tensor(0., device='cuda:0', grad_fn=<DivBackward0>) 0.0 0.0\n",
      "2.4025315046310425 2.006606698036194 0.39592480659484863 0.13493378930711852\n",
      "\n",
      "\n",
      "6800 tensor(1.2049e-07, device='cuda:0', grad_fn=<DivBackward0>) 0.0 7.711487342021428e-06\n",
      "2.4209125638008118 2.008265793323517 0.4126467704772949 0.1510596495890404\n",
      "\n",
      "\n",
      "6900 tensor(0., device='cuda:0', grad_fn=<DivBackward0>) 0.0 0.0\n",
      "2.3982449173927307 2.000638961791992 0.3976059556007385 0.13833547219740394\n",
      "\n",
      "\n",
      "7000 tensor(0., device='cuda:0', grad_fn=<DivBackward0>) 0.0 0.0\n",
      "2.4033021926879883 1.9997516597418499 0.4035505329461384 0.13613810557093586\n",
      "\n",
      "\n",
      "7100 tensor(0., device='cuda:0', grad_fn=<DivBackward0>) 0.0 0.0\n",
      "2.4099764227867126 2.013651160060665 0.3963252627260476 0.13277596829265814\n",
      "\n",
      "\n",
      "7200 tensor(0., device='cuda:0', grad_fn=<DivBackward0>) 0.0 0.0\n",
      "2.392017185688019 2.000718682502662 0.39129850318535686 0.13097653095958472\n",
      "\n",
      "\n",
      "7300 tensor(0., device='cuda:0', grad_fn=<DivBackward0>) 0.0 0.0\n",
      "2.38768208026886 1.9982474914810637 0.38943458878779613 0.13198810032029784\n",
      "\n",
      "\n",
      "7400 tensor(0., device='cuda:0', grad_fn=<DivBackward0>) 0.0 0.0\n",
      "2.3870785236358643 1.9973834067453717 0.3896951168904925 0.1327505694944784\n",
      "\n",
      "\n",
      "7500 tensor(0., device='cuda:0', grad_fn=<DivBackward0>) 0.0 0.0\n",
      "2.386619985103607 1.9976466298103333 0.3889733552932739 0.13486555936833966\n",
      "\n",
      "\n",
      "7600 tensor(2.0305e-08, device='cuda:0', grad_fn=<DivBackward0>) 0.0 1.2995420775041566e-06\n",
      "2.3841441869735718 1.997685241362612 0.3864589456109597 0.13041076246545846\n",
      "\n",
      "\n",
      "7700 tensor(3.6330e-08, device='cuda:0', grad_fn=<DivBackward0>) 0.0 2.325102741451701e-06\n",
      "2.3936535120010376 2.002349615097046 0.3913038969039917 0.134139299674501\n",
      "\n",
      "\n",
      "7800 tensor(0., device='cuda:0', grad_fn=<DivBackward0>) 0.0 0.0\n",
      "2.383000075817108 1.9952579085836817 0.38774216723342647 0.13635087347055963\n",
      "\n",
      "\n",
      "7900 tensor(0., device='cuda:0', grad_fn=<DivBackward0>) 0.0 0.0\n",
      "2.3832547664642334 1.9975817799568176 0.38567298650741577 0.1334769896807404\n",
      "\n",
      "\n",
      "8000 tensor(0., device='cuda:0', grad_fn=<DivBackward0>) 0.0 0.0\n",
      "2.3923661708831787 2.006077289581299 0.3862888813018799 0.13072333112813217\n",
      "\n",
      "\n",
      "8100 tensor(2.5015e-08, device='cuda:0', grad_fn=<DivBackward0>) 0.0 1.6009521459636744e-06\n",
      "2.3849793076515198 2.0009935932554024 0.3839857143961174 0.12945893625620108\n",
      "\n",
      "\n",
      "8200 tensor(0., device='cuda:0', grad_fn=<DivBackward0>) 0.0 0.0\n",
      "2.3831931352615356 1.9997411683528479 0.38345196690868777 0.12948180977573598\n",
      "\n",
      "\n",
      "8300 tensor(1.2514e-09, device='cuda:0', grad_fn=<DivBackward0>) 8.009061502889381e-08 0.0\n",
      "2.3798468708992004 1.9973759651184082 0.38247090578079224 0.13303174690993647\n",
      "\n",
      "\n",
      "8400 tensor(0., device='cuda:0', grad_fn=<DivBackward0>) 0.0 0.0\n",
      "2.3831074833869934 1.998562318299434 0.3845451650875593 0.1292685360289907\n",
      "\n",
      "\n",
      "8500 tensor(1.2616e-07, device='cuda:0', grad_fn=<DivBackward0>) 0.0 8.074508514255285e-06\n",
      "2.3995946645736694 2.0085206031799316 0.3910740613937378 0.1402937843396792\n",
      "\n",
      "\n",
      "8600 tensor(0., device='cuda:0', grad_fn=<DivBackward0>) 0.0 0.0\n",
      "2.390625774860382 2.009958505630493 0.3806672692298889 0.12814148796923286\n",
      "\n",
      "\n",
      "8700 tensor(0., device='cuda:0', grad_fn=<DivBackward0>) 0.0 0.0\n",
      "2.379399061203003 2.001558144435856 0.37784091676714704 0.12644129245600944\n",
      "\n",
      "\n",
      "8800 tensor(0., device='cuda:0', grad_fn=<DivBackward0>) 0.0 0.0\n",
      "2.3760465383529663 1.998997817464052 0.3770487208889144 0.12704978696740032\n",
      "\n",
      "\n",
      "8900 tensor(0., device='cuda:0', grad_fn=<DivBackward0>) 0.0 0.0\n",
      "2.39074569940567 2.00009853829091 0.39064716111476017 0.12183265370403706\n",
      "\n",
      "\n",
      "9000 tensor(0., device='cuda:0', grad_fn=<DivBackward0>) 0.0 0.0\n",
      "2.3880200386047363 1.9991363883018494 0.38888365030288696 0.13499138899413898\n",
      "\n",
      "\n",
      "9100 tensor(0., device='cuda:0', grad_fn=<DivBackward0>) 0.0 0.0\n",
      "2.378864288330078 1.9984444975852966 0.3804197907447815 0.12986836791254852\n",
      "\n",
      "\n",
      "9200 tensor(0., device='cuda:0', grad_fn=<DivBackward0>) 0.0 0.0\n",
      "2.393757462501526 2.0140579087235406 0.37969955377798525 0.12604923284148395\n",
      "\n",
      "\n",
      "9300 tensor(0., device='cuda:0', grad_fn=<DivBackward0>) 0.0 0.0\n",
      "2.3788588643074036 2.0027361512184143 0.37612271308898926 0.12582965182481276\n",
      "\n",
      "\n",
      "9400 tensor(0., device='cuda:0', grad_fn=<DivBackward0>) 0.0 0.0\n",
      "2.3763145208358765 1.9985368859818577 0.3777776348540187 0.1269421505438597\n",
      "\n",
      "\n",
      "9500 tensor(0., device='cuda:0', grad_fn=<DivBackward0>) 0.0 0.0\n",
      "2.387709617614746 2.00926810503006 0.3784415125846863 0.12726596968550385\n",
      "\n",
      "\n",
      "9600 tensor(0., device='cuda:0', grad_fn=<DivBackward0>) 0.0 0.0\n",
      "2.3797228932380676 2.001905784568565 0.3778171086695026 0.12500517876795536\n",
      "\n",
      "\n",
      "9700 tensor(0., device='cuda:0', grad_fn=<DivBackward0>) 0.0 0.0\n",
      "2.3718916177749634 1.9971622531145625 0.37472936466040085 0.12700612214475004\n",
      "\n",
      "\n",
      "9800 tensor(1.5124e-07, device='cuda:0', grad_fn=<DivBackward0>) 0.0 9.679389222583268e-06\n",
      "2.3882669806480408 2.0067965388298035 0.3814704418182373 0.13445220377582512\n",
      "\n",
      "\n",
      "9900 tensor(0., device='cuda:0', grad_fn=<DivBackward0>) 0.0 0.0\n",
      "2.383632004261017 2.0089824199676514 0.3746495842933655 0.12455454355385243\n",
      "\n",
      "\n",
      "10000 tensor(0., device='cuda:0', grad_fn=<DivBackward0>) 0.0 0.0\n",
      "2.377062737941742 2.0013661773043876 0.37569656063735435 0.12406374473147785\n",
      "\n",
      "\n"
     ]
    }
   ],
   "source": [
    "for iteration in range(int(echo)):\n",
    "\n",
    "    temp_number = 0\n",
    "    total_batch_loss = 0 \n",
    "        \n",
    "    loss2_list = []\n",
    "    loss1_sum = 0\n",
    "    loss2_sum = 0\n",
    "    denominator = 0\n",
    "    for index in range(0, BATCH_SIZE):\n",
    "        training_data_i, training_label, training_data = appen_train(\n",
    "            Generate_distribution(Agent_number_n))\n",
    "        h_loss1, h_loss2 = DiscriminatorNet(training_data_i, training_label,\n",
    "                                       training_data)\n",
    "        denominator += 1\n",
    "        loss1_sum += h_loss1\n",
    "        loss2_sum += h_loss2\n",
    "\n",
    "    loss_sum = torch.sum(loss1_sum + loss2_sum)\n",
    "    loss = (loss_sum) / denominator \n",
    "    total_batch_loss +=float(loss_sum)\n",
    "\n",
    "    opt_D.zero_grad()\n",
    "    loss.backward()\n",
    "    opt_D.step()\n",
    "\n",
    "    temp_number = iteration\n",
    "    index_train_list.append(iteration)\n",
    "    train_losses.append(total_batch_loss)\n",
    "\n",
    "    if (iteration%100 == 0):\n",
    "        print(temp_number,loss,float(loss1_sum),float(loss2_sum))\n",
    "    ## Gan \n",
    "        if(Is_GAN):## Gan Work traning GeneratorNet\n",
    "\n",
    "            DiscriminatorNet.requires_grad = True\n",
    "            GeneratorNet.requires_grad = True\n",
    "\n",
    "\n",
    "            for step in range(100):\n",
    "                # real painting from artist\n",
    "                G_ideas = torch.randn(BATCH_SIZE, N_IDEAS,\n",
    "                                      requires_grad=True).to(dev)  # random ideas\\n\n",
    "                # fake painting from G (random ideas)\n",
    "\n",
    "                G_values = GeneratorNet(G_ideas)\n",
    "                G_values , indices = torch.sort(G_values, descending=True)\n",
    "            #     print(artist_paintings)\n",
    "            #     print(G_paintings)\n",
    "\n",
    "                result_list = []\n",
    "                for index in range(BATCH_SIZE):\n",
    "                    h_list = []\n",
    "                    value_list_tensor, S_tensor = redistribution_value_function(\n",
    "                        G_values[index])\n",
    "                    for i in range(Agent_number_n):\n",
    "                        h = DiscriminatorNet.calculate(\n",
    "                            value_list_tensor[i].cuda().type(torch.float32))\n",
    "                        h_list.append(h)\n",
    "                    h_list = torch.stack(h_list)\n",
    "                    result_list.append(torch.sum(h_list)/S_tensor.cuda())\n",
    "                result_list = torch.stack(result_list)\n",
    "\n",
    "                diff_loss = torch.max(result_list)-torch.min(result_list)\n",
    "                G_loss = torch.max(- diff_loss)\n",
    "\n",
    "                opt_G.zero_grad()\n",
    "                G_loss.backward()\n",
    "                opt_G.step()\n",
    "\n",
    "            # real painting from artist\n",
    "                G_ideas = torch.randn(BATCH_SIZE, N_IDEAS,\n",
    "                                      requires_grad=True).to(dev)  # random ideas\\n\n",
    "                # fake painting from G (random ideas)\n",
    "\n",
    "                G_values = GeneratorNet(G_ideas)\n",
    "                G_values , indices = torch.sort(G_values, descending=True)\n",
    "            #     print(artist_paintings)\n",
    "            #     print(G_paintings)\n",
    "\n",
    "                result_list = []\n",
    "                for index in range(BATCH_SIZE):\n",
    "                    h_list = []\n",
    "                    value_list_tensor, S_tensor = redistribution_value_function(\n",
    "                        G_values[index])\n",
    "                    for i in range(Agent_number_n):\n",
    "                        h = DiscriminatorNet.calculate(\n",
    "                            value_list_tensor[i].cuda().type(torch.float32))\n",
    "                        h_list.append(h)\n",
    "                    h_list = torch.stack(h_list)\n",
    "                    result_list.append(torch.sum(h_list)/S_tensor.cuda())\n",
    "                result_list = torch.stack(result_list)\n",
    "\n",
    "                diff_loss = torch.max(result_list)-torch.min(result_list)\n",
    "\n",
    "                D_loss = torch.where((Agent_number_n-1)>torch.min(result_list),\n",
    "                    torch.square(((Agent_number_n-1)-torch.min(result_list))),\n",
    "                    torch.zeros(1).to(dev)\n",
    "                  )   + torch.where((Agent_number_n-Alpha)<torch.max(result_list),\n",
    "                                torch.square((torch.max(result_list)-(Agent_number_n-Alpha)))/10000,\n",
    "                                torch.zeros(1).to(dev)\n",
    "                              )\n",
    "\n",
    "\n",
    "                opt_D.zero_grad()\n",
    "                D_loss.backward()\n",
    "                opt_D.step()\n",
    "                \n",
    "            print(\"Gan:\",G_loss,D_loss)\n",
    "            print()\n",
    "\n",
    "        result_list = []\n",
    "        for index in range(len(testing_data)):\n",
    "            h_list = []\n",
    "            for i in range(Agent_number_n):\n",
    "                h = DiscriminatorNet.calculate(\n",
    "                    torch.tensor(testing_data[index][i]).to(dev).type(\n",
    "                        torch.float32))\n",
    "                h_list.append(float(h))\n",
    "            result_list.append(sum(h_list) / testing_label[index])\n",
    "        print(max(result_list), min(result_list),\n",
    "              max(result_list) - min(result_list),\n",
    "              (sum(result_list) / len(result_list) - min(result_list))+ Agent_number_n-1 - min(min(result_list),Agent_number_n-1) )\n",
    "\n",
    "        index_test_list.append(iteration)\n",
    "        test_losses.append(\n",
    "            (sum(result_list) / len(result_list) - min(result_list))+ Agent_number_n-1 - min(min(result_list),Agent_number_n-1) )\n",
    "        print()\n",
    "        index_test_list.append(iteration)\n",
    "        test_losses.append(\n",
    "            max(result_list)-min(result_list) )\n",
    "        \n",
    "        print()\n",
    "\n",
    "    scheduler_D.step()\n",
    "    scheduler_G.step()"
   ]
  },
  {
   "cell_type": "code",
   "execution_count": 10,
   "metadata": {
    "ExecuteTime": {
     "end_time": "2021-06-12T11:29:28.286029Z",
     "start_time": "2021-06-12T11:29:28.147371Z"
    }
   },
   "outputs": [
    {
     "data": {
      "image/png": "[encoded data removed]",
      "text/plain": [
       "<Figure size 432x288 with 1 Axes>"
      ]
     },
     "metadata": {
      "needs_background": "light"
     },
     "output_type": "display_data"
    }
   ],
   "source": [
    "plt.ylim(0, 1.0)\n",
    "plt.plot(index_test_list,test_losses)\n",
    "plt.ylabel('test loss')\n",
    "\n",
    "plt.show()"
   ]
  },
  {
   "cell_type": "code",
   "execution_count": 11,
   "metadata": {
    "ExecuteTime": {
     "end_time": "2021-06-12T11:29:28.300990Z",
     "start_time": "2021-06-12T11:29:28.288026Z"
    }
   },
   "outputs": [],
   "source": [
    "torch.save(DiscriminatorNet, \"save/Deep_learning_D_3_2\")\n",
    "if(Is_GAN):\n",
    "    torch.save(GeneratorNet, \"save/Deep_learning_G_3_2\")"
   ]
  },
  {
   "cell_type": "code",
   "execution_count": 12,
   "metadata": {
    "ExecuteTime": {
     "end_time": "2021-06-12T11:29:53.080602Z",
     "start_time": "2021-06-12T11:29:28.302985Z"
    }
   },
   "outputs": [
    {
     "name": "stdout",
     "output_type": "stream",
     "text": [
      "2.377062737941742 2.0013661773043876 0.37569656063735435\n",
      "2.1254299220358654\n"
     ]
    }
   ],
   "source": [
    "denominator = 0\n",
    "result_list = []\n",
    "for index in range(len(testing_data)):\n",
    "    h_list = []\n",
    "    for i in range(Agent_number_n):\n",
    "        h = DiscriminatorNet.calculate(torch.tensor(testing_data[index][i]).to(dev).type(torch.float32))\n",
    "        h_list.append(float(h))\n",
    "    \n",
    "    #print(sum(h_list),h_list,sum(h_list)/testing_label[index])\n",
    "    result_list.append(sum(h_list)/testing_label[index])\n",
    "    \n",
    "\n",
    "print(max(result_list),min(result_list),max(result_list)-min(result_list))\n",
    "print(sum(result_list)/len(result_list))"
   ]
  },
  {
   "cell_type": "code",
   "execution_count": 13,
   "metadata": {
    "ExecuteTime": {
     "end_time": "2021-06-12T11:29:54.259943Z",
     "start_time": "2021-06-12T11:29:53.082561Z"
    }
   },
   "outputs": [
    {
     "data": {
      "image/png": "[encoded data removed]",
      "text/plain": [
       "<Figure size 432x288 with 1 Axes>"
      ]
     },
     "metadata": {
      "needs_background": "light"
     },
     "output_type": "display_data"
    }
   ],
   "source": [
    "plt.hist(result_list,bins=500)\n",
    "\n",
    "plt.title(\"Means\", y=1.015, fontsize=20)\n",
    "plt.axvline(x=sum(result_list)/len(result_list), linestyle='--', linewidth=2.5, label=\"sample mean\", c='orange')\n",
    "plt.xlabel(\"samples\", labelpad=14)\n",
    "plt.ylabel(\"frequency of occurence\", labelpad=14)\n",
    "plt.legend();\n",
    "\n",
    "result_list.sort()\n",
    "\n",
    "plt.axvline(x=result_list[int(len(result_list)*0.01)], linestyle='--', linewidth=0.5, label=\"1%\", c='b')\n",
    "plt.axvline(x=result_list[int(len(result_list)*0.99)], linestyle='--', linewidth=0.5, label=\"99%\", c='r')\n",
    "\n",
    "\n",
    "plt.show()"
   ]
  },
  {
   "cell_type": "code",
   "execution_count": 14,
   "metadata": {
    "ExecuteTime": {
     "end_time": "2021-06-12T11:29:54.275177Z",
     "start_time": "2021-06-12T11:29:54.261939Z"
    }
   },
   "outputs": [],
   "source": [
    "#Generate 10000 testing data on GeneratorNet"
   ]
  },
  {
   "cell_type": "code",
   "execution_count": 15,
   "metadata": {
    "ExecuteTime": {
     "end_time": "2021-06-12T11:30:00.088014Z",
     "start_time": "2021-06-12T11:29:54.277132Z"
    },
    "run_control": {
     "marked": true
    }
   },
   "outputs": [
    {
     "name": "stdout",
     "output_type": "stream",
     "text": [
      "[[[2.6910862e-01 2.4584652e-01]\n",
      "  [2.8106955e-01 2.4584652e-01]\n",
      "  [2.8106955e-01 2.6910862e-01]]\n",
      "\n",
      " [[3.0370909e-01 4.3555128e-06]\n",
      "  [4.0452507e-01 4.3555128e-06]\n",
      "  [4.0452507e-01 3.0370909e-01]]\n",
      "\n",
      " [[2.9683438e-01 2.9450130e-01]\n",
      "  [3.3180195e-01 2.9450130e-01]\n",
      "  [3.3180195e-01 2.9683438e-01]]\n",
      "\n",
      " ...\n",
      "\n",
      " [[2.0544656e-01 2.4909202e-06]\n",
      "  [3.5620731e-01 2.4909202e-06]\n",
      "  [3.5620731e-01 2.0544656e-01]]\n",
      "\n",
      " [[3.3301893e-01 3.3091107e-01]\n",
      "  [3.3654895e-01 3.3091107e-01]\n",
      "  [3.3654895e-01 3.3301893e-01]]\n",
      "\n",
      " [[1.1776526e-01 8.3445595e-04]\n",
      "  [3.3058640e-01 8.3445595e-04]\n",
      "  [3.3058640e-01 1.1776526e-01]]]\n",
      "[1.         1.         1.         ... 1.         1.00047895 1.        ]\n"
     ]
    }
   ],
   "source": [
    "GeneratorNet = torch.load(\"save/Deep_learning_G_3_1\")\n",
    "def appen_test_G(x_list):\n",
    "    global temp_list\n",
    "                \n",
    "    S= max(sum(x_list),1.0);\n",
    "    temp_list = []\n",
    "    \n",
    "    for i in range(Agent_number_n):\n",
    "        temp = []\n",
    "        for j in range(Agent_number_n):\n",
    "            if(i!=j):\n",
    "                temp.append(x_list[j])\n",
    "        appen(temp,S)\n",
    "    testing_data_G.append(temp_list)\n",
    "    testing_label_G.append(S)\n",
    "# fake painting from G (random ideas)\n",
    "\n",
    "def read_testing_data_G():\n",
    "    for i in range(10000):\n",
    "        #appen_test_G(sorted(np.random.rand(Agent_number_n), reverse=True));\n",
    "        G_ideas = torch.randn(N_IDEAS).to(dev)  # random ideas\\n\n",
    "        G_values = GeneratorNet(G_ideas)\n",
    "        G_values , indices = torch.sort(G_values, descending=True)\n",
    "        appen_test_G(G_values.detach().cpu().numpy()) \n",
    "        \n",
    "testing_data_G = []\n",
    "testing_label_G = []\n",
    "read_testing_data_G()\n",
    "testing_data_G=np.array(testing_data_G)\n",
    "testing_label_G=np.array(testing_label_G)\n",
    "print(testing_data_G)\n",
    "print(testing_label_G)"
   ]
  },
  {
   "cell_type": "code",
   "execution_count": 16,
   "metadata": {
    "ExecuteTime": {
     "end_time": "2021-06-12T11:30:24.107909Z",
     "start_time": "2021-06-12T11:30:00.090009Z"
    }
   },
   "outputs": [
    {
     "name": "stdout",
     "output_type": "stream",
     "text": [
      "2.3831517100334167 1.9898426132489981 0.3933090967844186\n",
      "2.121125088350015\n"
     ]
    }
   ],
   "source": [
    "result_list_G = []\n",
    "for index in range(len(testing_data_G)):\n",
    "    h_list = []\n",
    "    for i in range(Agent_number_n):\n",
    "        h = DiscriminatorNet.calculate(torch.tensor(testing_data_G[index][i]).to(dev).type(torch.float32))\n",
    "        h_list.append(float(h))\n",
    "    \n",
    "    #print(sum(h_list),h_list,sum(h_list)/testing_label[index])\n",
    "    result_list_G.append(sum(h_list)/testing_label_G[index])\n",
    "    \n",
    "\n",
    "print(max(result_list_G),min(result_list_G),max(result_list_G)-min(result_list_G))\n",
    "print(sum(result_list_G)/len(result_list_G))"
   ]
  },
  {
   "cell_type": "code",
   "execution_count": 17,
   "metadata": {
    "ExecuteTime": {
     "end_time": "2021-06-12T11:30:25.348289Z",
     "start_time": "2021-06-12T11:30:24.109903Z"
    }
   },
   "outputs": [
    {
     "data": {
      "image/png": "[encoded data removed]",
      "text/plain": [
       "<Figure size 432x288 with 1 Axes>"
      ]
     },
     "metadata": {
      "needs_background": "light"
     },
     "output_type": "display_data"
    }
   ],
   "source": [
    "plt.hist(result_list_G,bins=500)\n",
    "\n",
    "plt.title(\"Means\", y=1.015, fontsize=20)\n",
    "plt.axvline(x=sum(result_list_G)/len(result_list_G), linestyle='--', linewidth=2.5, label=\"sample mean\", c='orange')\n",
    "plt.xlabel(\"samples\", labelpad=14)\n",
    "plt.ylabel(\"frequency of occurence\", labelpad=14)\n",
    "plt.legend();\n",
    "\n",
    "result_list_G.sort()\n",
    "\n",
    "plt.axvline(x=result_list[int(len(result_list_G)*0.01)], linestyle='--', linewidth=0.5, label=\"1%\", c='b')\n",
    "plt.axvline(x=result_list[int(len(result_list_G)*0.99)], linestyle='--', linewidth=0.5, label=\"99%\", c='r')\n",
    "\n",
    "\n",
    "plt.show()"
   ]
  },
  {
   "cell_type": "code",
   "execution_count": 19,
   "metadata": {
    "ExecuteTime": {
     "end_time": "2021-06-12T15:58:09.668479Z",
     "start_time": "2021-06-12T15:58:08.178201Z"
    }
   },
   "outputs": [
    {
     "data": {
      "image/png": "[encoded data removed]",
      "text/plain": [
       "<Figure size 432x288 with 1 Axes>"
      ]
     },
     "metadata": {
      "needs_background": "light"
     },
     "output_type": "display_data"
    }
   ],
   "source": [
    "final_list = result_list + result_list_G\n",
    "\n",
    "\n",
    "plt.hist(final_list,bins=500)\n",
    "\n",
    "plt.title(\"Means\", y=1.015, fontsize=20)\n",
    "plt.axvline(x=sum(final_list)/len(final_list), linestyle='--', linewidth=2.5, label=\"sample mean\", c='orange')\n",
    "plt.xlabel(\"samples\", labelpad=14)\n",
    "plt.ylabel(\"frequency of occurence\", labelpad=14)\n",
    "plt.legend();\n",
    "\n",
    "final_list.sort()\n",
    "\n",
    "plt.axvline(x=final_list[int(len(final_list)*0.01)], linestyle='--', linewidth=0.5, label=\"1%\", c='b')\n",
    "plt.axvline(x=final_list[int(len(final_list)*0.99)], linestyle='--', linewidth=0.5, label=\"99%\", c='r')\n",
    "\n",
    "\n",
    "plt.show()"
   ]
  },
  {
   "cell_type": "code",
   "execution_count": null,
   "metadata": {},
   "outputs": [],
   "source": []
  }
 ],
 "metadata": {
  "hide_input": false,
  "kernelspec": {
   "display_name": "Python 3",
   "language": "python",
   "name": "python3"
  },
  "language_info": {
   "codemirror_mode": {
    "name": "ipython",
    "version": 3
   },
   "file_extension": ".py",
   "mimetype": "text/x-python",
   "name": "python",
   "nbconvert_exporter": "python",
   "pygments_lexer": "ipython3",
   "version": "3.8.3"
  },
  "varInspector": {
   "cols": {
    "lenName": 16,
    "lenType": 16,
    "lenVar": 40
   },
   "kernels_config": {
    "python": {
     "delete_cmd_postfix": "",
     "delete_cmd_prefix": "del ",
     "library": "var_list.py",
     "varRefreshCmd": "print(var_dic_list())"
    },
    "r": {
     "delete_cmd_postfix": ") ",
     "delete_cmd_prefix": "rm(",
     "library": "var_list.r",
     "varRefreshCmd": "cat(var_dic_list()) "
    }
   },
   "types_to_exclude": [
    "module",
    "function",
    "builtin_function_or_method",
    "instance",
    "_Feature"
   ],
   "window_display": false
  }
 },
 "nbformat": 4,
 "nbformat_minor": 4
}
