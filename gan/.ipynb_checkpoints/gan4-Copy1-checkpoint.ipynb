{
 "cells": [
  {
   "cell_type": "code",
   "execution_count": 1,
   "metadata": {
    "ExecuteTime": {
     "end_time": "2021-06-03T10:10:59.399288Z",
     "start_time": "2021-06-03T10:10:57.189724Z"
    }
   },
   "outputs": [
    {
     "name": "stdout",
     "output_type": "stream",
     "text": [
      "pygame 2.0.1 (SDL 2.0.14, Python 3.8.3)\n",
      "Hello from the pygame community. https://www.pygame.org/contribute.html\n"
     ]
    },
    {
     "name": "stderr",
     "output_type": "stream",
     "text": [
      "D:\\ComputerSoftwares\\Anaconda\\lib\\site-packages\\sklearn\\utils\\deprecation.py:143: FutureWarning: The sklearn.datasets.samples_generator module is  deprecated in version 0.22 and will be removed in version 0.24. The corresponding classes / functions should instead be imported from sklearn.datasets. Anything that cannot be imported from sklearn.datasets is now part of the private API.\n",
      "  warnings.warn(message, FutureWarning)\n"
     ]
    },
    {
     "name": "stdout",
     "output_type": "stream",
     "text": [
      "cuda:0\n"
     ]
    }
   ],
   "source": [
    "\n",
    "import pygame\n",
    "import random\n",
    "import os\n",
    "import time\n",
    "import numpy as np\n",
    "import math\n",
    "import torch\n",
    "import torch.nn.functional\n",
    "import matplotlib.pyplot as plt\n",
    "import torch.optim as opt\n",
    "from torch.autograd import Variable\n",
    "from sklearn.model_selection import train_test_split\n",
    "\n",
    "import scipy.stats as st\n",
    "from sklearn.datasets.samples_generator import make_blobs\n",
    "from matplotlib.colors import LogNorm \n",
    "import matplotlib.cm as cm\n",
    "import torch.nn as nn\n",
    "import numpy as np\n",
    "import matplotlib.pyplot as plt\n",
    "import plotly.graph_objects as go\n",
    "import plotly.express as px\n",
    "from scipy.interpolate import griddata\n",
    "if torch.cuda.is_available():  \n",
    "    dev = \"cuda:0\" \n",
    "else:  \n",
    "    dev = \"cpu\"  \n",
    "\n",
    "print(dev)\n",
    "\n"
   ]
  },
  {
   "cell_type": "code",
   "execution_count": 2,
   "metadata": {
    "ExecuteTime": {
     "end_time": "2021-06-03T10:10:59.415207Z",
     "start_time": "2021-06-03T10:10:59.400248Z"
    }
   },
   "outputs": [],
   "source": [
    "global temp_list\n",
    "temp_list = []\n",
    "Agent_number_n=4;\n",
    "Alpha = 0.666 \n",
    "\n",
    "# Hyper Parameters\n",
    "echo = 5 \n",
    "BATCH_SIZE = 64\n",
    "LR_G = 0.00001           # learning rate for generator\n",
    "LR_D = 0.00001           # learning rate for discriminator\n",
    "N_IDEAS = Agent_number_n             # think of this as number of ideas for generating an art work (Generator)\n",
    "ART_COMPONENTS = Agent_number_n     # it could be total point G can draw in the canvas\n",
    "\n",
    "Is_GAN = False # if use Gan"
   ]
  },
  {
   "cell_type": "code",
   "execution_count": 3,
   "metadata": {
    "ExecuteTime": {
     "end_time": "2021-06-03T10:11:01.013338Z",
     "start_time": "2021-06-03T10:10:59.416206Z"
    }
   },
   "outputs": [
    {
     "name": "stdout",
     "output_type": "stream",
     "text": [
      "[[[0.81093362 0.7948124  0.11324705]\n",
      "  [0.97936084 0.7948124  0.11324705]\n",
      "  [0.97936084 0.81093362 0.11324705]\n",
      "  [0.97936084 0.81093362 0.7948124 ]]\n",
      "\n",
      " [[0.20490716 0.10787569 0.10016239]\n",
      "  [0.50621464 0.10787569 0.10016239]\n",
      "  [0.50621464 0.20490716 0.10016239]\n",
      "  [0.50621464 0.20490716 0.10787569]]\n",
      "\n",
      " [[0.42304851 0.21337202 0.16749998]\n",
      "  [0.86022368 0.21337202 0.16749998]\n",
      "  [0.86022368 0.42304851 0.16749998]\n",
      "  [0.86022368 0.42304851 0.21337202]]\n",
      "\n",
      " ...\n",
      "\n",
      " [[0.80176199 0.60024979 0.1840225 ]\n",
      "  [0.82062741 0.60024979 0.1840225 ]\n",
      "  [0.82062741 0.80176199 0.1840225 ]\n",
      "  [0.82062741 0.80176199 0.60024979]]\n",
      "\n",
      " [[0.67582307 0.63477618 0.09173365]\n",
      "  [0.98670274 0.63477618 0.09173365]\n",
      "  [0.98670274 0.67582307 0.09173365]\n",
      "  [0.98670274 0.67582307 0.63477618]]\n",
      "\n",
      " [[0.51082684 0.48707276 0.48612369]\n",
      "  [0.52393669 0.48707276 0.48612369]\n",
      "  [0.52393669 0.51082684 0.48612369]\n",
      "  [0.52393669 0.51082684 0.48707276]]]\n",
      "[[[7.79793048e-01 7.72331644e-01 4.17747620e-01]\n",
      "  [9.46623791e-01 7.72331644e-01 4.17747620e-01]\n",
      "  [9.46623791e-01 7.79793048e-01 4.17747620e-01]\n",
      "  [9.46623791e-01 7.79793048e-01 7.72331644e-01]]\n",
      "\n",
      " [[9.09145434e-01 8.16460246e-01 5.81695444e-01]\n",
      "  [9.35209097e-01 8.16460246e-01 5.81695444e-01]\n",
      "  [9.35209097e-01 9.09145434e-01 5.81695444e-01]\n",
      "  [9.35209097e-01 9.09145434e-01 8.16460246e-01]]\n",
      "\n",
      " [[5.68396231e-01 1.70909762e-01 7.09263481e-02]\n",
      "  [6.62326389e-01 1.70909762e-01 7.09263481e-02]\n",
      "  [6.62326389e-01 5.68396231e-01 7.09263481e-02]\n",
      "  [6.62326389e-01 5.68396231e-01 1.70909762e-01]]\n",
      "\n",
      " ...\n",
      "\n",
      " [[3.40477039e-01 2.06311859e-01 3.52264828e-04]\n",
      "  [4.56047802e-01 2.06311859e-01 3.52264828e-04]\n",
      "  [4.56047802e-01 3.40477039e-01 3.52264828e-04]\n",
      "  [4.56047802e-01 3.40477039e-01 2.06311859e-01]]\n",
      "\n",
      " [[7.54474058e-01 6.42193211e-01 4.11929125e-01]\n",
      "  [9.08431321e-01 6.42193211e-01 4.11929125e-01]\n",
      "  [9.08431321e-01 7.54474058e-01 4.11929125e-01]\n",
      "  [9.08431321e-01 7.54474058e-01 6.42193211e-01]]\n",
      "\n",
      " [[6.70527335e-01 3.41147211e-01 2.84872362e-01]\n",
      "  [9.58300221e-01 3.41147211e-01 2.84872362e-01]\n",
      "  [9.58300221e-01 6.70527335e-01 2.84872362e-01]\n",
      "  [9.58300221e-01 6.70527335e-01 3.41147211e-01]]]\n",
      "[2.69835392 1.         1.66414419 ... 2.40666168 2.38903564 2.00795999]\n",
      "[2.9164961  3.24251022 1.47255873 ... 1.00318896 2.71702771 2.25484713]\n"
     ]
    }
   ],
   "source": [
    "def appen(_x_list,y):\n",
    "    global temp_list\n",
    "    temp_list.append(_x_list)\n",
    "    \n",
    "def appen_train(x_list):\n",
    "    global temp_list\n",
    "                \n",
    "    S= max(sum(x_list),1.0);\n",
    "    temp_list = []\n",
    "    \n",
    "    for i in range(Agent_number_n):\n",
    "        temp = []\n",
    "        for j in range(Agent_number_n):\n",
    "            if(i!=j):\n",
    "                temp.append(x_list[j])\n",
    "        appen(temp,S)\n",
    "    \n",
    "    training_data.append(temp_list)\n",
    "    training_label.append(S)\n",
    "    \n",
    "\n",
    "def read_training_data():\n",
    "    for i in range(100000):\n",
    "        appen_train(sorted(np.random.rand(Agent_number_n), reverse=True));\n",
    "\n",
    "training_data=[]\n",
    "training_label=[]\n",
    "S=1.0\n",
    "read_training_data();\n",
    "\n",
    "def appen_test(x_list):\n",
    "    global temp_list\n",
    "                \n",
    "    S= max(sum(x_list),1.0);\n",
    "    temp_list = []\n",
    "    \n",
    "    for i in range(Agent_number_n):\n",
    "        temp = []\n",
    "        for j in range(Agent_number_n):\n",
    "            if(i!=j):\n",
    "                temp.append(x_list[j])\n",
    "        appen(temp,S)\n",
    "    testing_data.append(temp_list)\n",
    "    testing_label.append(S)\n",
    "    \n",
    "\n",
    "def read_testing_data():\n",
    "    for i in range(10000):\n",
    "        appen_test(sorted(np.random.rand(Agent_number_n), reverse=True));\n",
    "                            \n",
    "\n",
    "testing_data=[]\n",
    "testing_label=[]\n",
    "S=1.0\n",
    "read_testing_data();\n",
    "\n",
    "training_data=np.array(training_data)\n",
    "training_label=np.array(training_label)\n",
    "testing_data=np.array(testing_data)\n",
    "testing_label=np.array(testing_label)\n",
    "print(training_data)\n",
    "print(testing_data)\n",
    "print(training_label)\n",
    "print(testing_label)"
   ]
  },
  {
   "cell_type": "code",
   "execution_count": 4,
   "metadata": {
    "ExecuteTime": {
     "end_time": "2021-06-03T10:11:23.451921Z",
     "start_time": "2021-06-03T10:11:01.014572Z"
    }
   },
   "outputs": [
    {
     "name": "stdout",
     "output_type": "stream",
     "text": [
      "3.37494589961045 2.999999999999999 0.3749458996104509 3.1227945417743146\n"
     ]
    }
   ],
   "source": [
    "def h_3_star(a, b, t):\n",
    "    return a - min(a, t) + b - min(b, t) + max(min(a, t)+min(b, t), 2*t/3) + 1/2 * max(min(a, t)+min(b, t), t) - 1/2 * max(max(min(a, t), min(b, t)), 2*t/3) - t/6\n",
    "\n",
    "\n",
    "def f_function(a, b, z):\n",
    "    if(z >= 1):\n",
    "        return (a+b)/2 + z/3\n",
    "    else:\n",
    "        return z/3 + h_3_star(a, b, 1-z)/2\n",
    "\n",
    "def h_function(input_list):\n",
    "    #input_list = sorted(input_list)\n",
    "    g_list = []\n",
    "    for j1 in range(len(input_list) ):\n",
    "        for j2 in range(len(input_list)):\n",
    "            if(j1 != j2):\n",
    "                a = input_list[j1]\n",
    "                b = input_list[j2]\n",
    "                z = sum(input_list)- a-b\n",
    "\n",
    "                g_list.append( f_function(a, b, z) * (Agent_number_n-1))\n",
    "    h = sum(g_list) * 3 /  (Agent_number_n) /  (Agent_number_n-1) /  (Agent_number_n - 2)\n",
    "    return h\n",
    "                \n",
    "                \n",
    "x_list = []\n",
    "y_list = []\n",
    "z_list = []\n",
    "result_list = []\n",
    "training_supervised_label=[]\n",
    "for index in range(len(training_data)):\n",
    "    h_list = []\n",
    "    for i in range(Agent_number_n):\n",
    "        x_list.append(training_data[index][i][0])\n",
    "        y_list.append(training_data[index][i][1])\n",
    "        h = h_function(training_data[index][i])\n",
    "        z_list.append(float(h))\n",
    "        h_list.append(float(h))\n",
    "    training_supervised_label.append(h_list)\n",
    "    result_list.append(sum(h_list)/training_label[index]) \n",
    "    \n",
    "    \n",
    "print(max(result_list), min(result_list), max(result_list)-min(result_list),sum(result_list)/len(result_list))"
   ]
  },
  {
   "cell_type": "code",
   "execution_count": 5,
   "metadata": {
    "ExecuteTime": {
     "end_time": "2021-06-03T10:11:24.527995Z",
     "start_time": "2021-06-03T10:11:23.452920Z"
    }
   },
   "outputs": [
    {
     "data": {
      "image/png": "[encoded data removed]",
      "text/plain": [
       "<Figure size 432x288 with 1 Axes>"
      ]
     },
     "metadata": {
      "needs_background": "light"
     },
     "output_type": "display_data"
    }
   ],
   "source": [
    "plt.hist(result_list,bins=500)\n",
    "\n",
    "plt.title(\"Means\", y=1.015, fontsize=20)\n",
    "plt.axvline(x=sum(result_list)/len(result_list), linestyle='--', linewidth=2.5, label=\"sample mean\", c='orange')\n",
    "plt.xlabel(\"samples\", labelpad=14)\n",
    "plt.ylabel(\"frequency of occurence\", labelpad=14)\n",
    "plt.legend();\n",
    "\n",
    "result_list.sort()\n",
    "\n",
    "plt.axvline(x=result_list[int(len(result_list)*0.01)], linestyle='--', linewidth=0.5, label=\"1%\", c='b')\n",
    "plt.axvline(x=result_list[int(len(result_list)*0.99)], linestyle='--', linewidth=0.5, label=\"99%\", c='r')\n",
    "\n",
    "\n",
    "plt.show()"
   ]
  },
  {
   "cell_type": "code",
   "execution_count": 6,
   "metadata": {
    "ExecuteTime": {
     "end_time": "2021-06-03T10:11:24.634940Z",
     "start_time": "2021-06-03T10:11:24.529028Z"
    }
   },
   "outputs": [
    {
     "name": "stdout",
     "output_type": "stream",
     "text": [
      "[[1.83042511 1.99201506 2.01216658 2.63696851]\n",
      " [0.75       0.75968478 0.82032944 0.82515026]\n",
      " [0.80533139 1.22878572 1.49088133 1.54822139]\n",
      " ...\n",
      " [1.67921669 1.69838934 1.95027959 2.31980929]\n",
      " [1.45589937 1.77150219 1.8228108  2.38513924]\n",
      " [1.66289727 1.67494017 1.70463277 1.70581911]]\n"
     ]
    }
   ],
   "source": [
    "training_supervised_label=np.array(training_supervised_label)\n",
    "print(training_supervised_label)"
   ]
  },
  {
   "cell_type": "code",
   "execution_count": 7,
   "metadata": {
    "ExecuteTime": {
     "end_time": "2021-06-03T10:11:24.718616Z",
     "start_time": "2021-06-03T10:11:24.638920Z"
    }
   },
   "outputs": [],
   "source": [
    "def weight_init(m):\n",
    "    if isinstance(m, torch.nn.Conv2d):\n",
    "        torch.nn.init.xavier_normal_(m.weight)\n",
    "        torch.nn.init.zeros_(m.bias)\n",
    "    elif isinstance(m, torch.nn.Linear):\n",
    "        torch.nn.init.normal_(m.weight, mean=0.0, std=0.2)\n",
    "        torch.nn.init.normal_(m.bias, mean=0.0, std=0.01)\n",
    "\n",
    "    elif isinstance(m, nn.MultiheadAttention):\n",
    "        m.in_proj_weight.data.normal_(mean=0.0, std=0.02)\n",
    "        m.out_proj.weight.data.normal_(mean=0.0, std=0.02)\n",
    "\n",
    "\n",
    "        \n",
    "\n",
    "class Net(torch.nn.Module):\n",
    "    def __init__(self):\n",
    "\n",
    "        super(Net, self).__init__()\n",
    "        \n",
    "        self.input_dim = (Agent_number_n-1)\n",
    "        self.hidden_dim = 64\n",
    "        self.output_dim = 1\n",
    "        self.hidden_layer_count = 6 \n",
    "        \n",
    "        current_dim = self.input_dim\n",
    "        self.layers = torch.nn.ModuleList()\n",
    "        for i in range(self.hidden_layer_count):\n",
    "            self.layers.append(torch.nn.Linear(current_dim, self.hidden_dim))\n",
    "            current_dim = self.hidden_dim\n",
    "        self.layers.append(torch.nn.Linear(current_dim, self.output_dim))\n",
    "\n",
    "    def calculate(self, value_list):\n",
    "        h = value_list\n",
    "        for layer in self.layers:\n",
    "            h = torch.relu(layer(h))\n",
    "        return h\n",
    "\n",
    "    def forward(self, input_list,input_label,label):\n",
    "        global iteration,echo,target_order\n",
    "        loss1 = 0\n",
    "        loss2 = 0\n",
    "        loss3 = 0\n",
    "        input_list = torch.from_numpy(\n",
    "            np.array(input_list)).to(dev).type(torch.float32)\n",
    "        h_list = []\n",
    "\n",
    "        for i in range(Agent_number_n):\n",
    "            h = self.calculate(input_list[i])\n",
    "            h_list.append(h)\n",
    "#             loss3 += torch.square(h_function_2(input_list)-h2[1])\n",
    "            \n",
    "        input_label = torch.from_numpy(\n",
    "            np.array(input_label)).to(dev).type(torch.float32)\n",
    "        sum_h = torch.sum(torch.cat(h_list)).to(dev)\n",
    "\n",
    "\n",
    "        loss1 = torch.where((Agent_number_n-1)*input_label>sum_h,\n",
    "                        torch.square(((Agent_number_n-1)*input_label-sum_h)),\n",
    "                        torch.zeros(1).to(dev)\n",
    "                      )\n",
    "\n",
    "        loss2 = torch.where((Agent_number_n-Alpha)*input_label<sum_h,\n",
    "                        torch.square((sum_h-(Agent_number_n-Alpha)*input_label))/100,\n",
    "                        torch.zeros(1).to(dev)\n",
    "                      )\n",
    "        \n",
    "#         loss1 = torch.relu(((Agent_number_n-1)*input_label-sum_h))\n",
    "\n",
    "#         loss2 = torch.relu((sum_h-(Agent_number_n-Alpha)*input_label))/10000\n",
    "\n",
    "        return loss1,loss2,h_list"
   ]
  },
  {
   "cell_type": "code",
   "execution_count": 8,
   "metadata": {
    "ExecuteTime": {
     "end_time": "2021-06-03T10:11:24.734238Z",
     "start_time": "2021-06-03T10:11:24.718616Z"
    }
   },
   "outputs": [],
   "source": [
    "def redistribution_value_function(input_tensor):\n",
    "    S = torch.max(torch.sum(input_tensor), torch.ones(1).to(dev))\n",
    "    temp_list = []\n",
    "\n",
    "\n",
    "    for i in range(Agent_number_n):\n",
    "        temp = []\n",
    "        \n",
    "        for j in range(Agent_number_n):\n",
    "            if(i != j):\n",
    "                temp .append(input_tensor[j])\n",
    "                \n",
    "        temp = torch.stack(temp)\n",
    "        temp_list.append(temp)\n",
    "    return torch.stack(temp_list), S\n",
    "\n",
    "GeneratorNet = nn.Sequential(                      # Generator\n",
    "    # random ideas (could from normal distribution)\n",
    "    nn.Linear(N_IDEAS, 64),\n",
    "    nn.ReLU(),\n",
    "    nn.Linear(64, 64),\n",
    "    nn.ReLU(),\n",
    "    # making a painting from these random ideas\n",
    "    nn.Linear(64, ART_COMPONENTS),\n",
    "    nn.Sigmoid(),\n",
    ")"
   ]
  },
  {
   "cell_type": "code",
   "execution_count": 9,
   "metadata": {
    "ExecuteTime": {
     "end_time": "2021-06-03T10:11:25.850912Z",
     "start_time": "2021-06-03T10:11:24.734238Z"
    }
   },
   "outputs": [],
   "source": [
    "random.seed(2000)\n",
    "torch.manual_seed(256)\n",
    "DiscriminatorNet  = Net()\n",
    "DiscriminatorNet.apply(weight_init)\n",
    "GeneratorNet.apply(weight_init)\n",
    "DiscriminatorNet = torch.load(\"save/Deep_learning_D_4_2\")\n",
    "GeneratorNet = torch.load(\"save/Deep_learning_G_4_2\")\n",
    "DiscriminatorNet.to(dev)\n",
    "GeneratorNet.to(dev)\n",
    "\n",
    "opt_D = torch.optim.Adam(DiscriminatorNet.parameters(), lr=LR_D)\n",
    "opt_G = torch.optim.Adam(GeneratorNet.parameters(), lr=LR_G)\n"
   ]
  },
  {
   "cell_type": "code",
   "execution_count": 10,
   "metadata": {
    "ExecuteTime": {
     "end_time": "2021-06-03T10:52:44.790990Z",
     "start_time": "2021-06-03T10:11:25.850912Z"
    }
   },
   "outputs": [
    {
     "name": "stdout",
     "output_type": "stream",
     "text": [
      "3024 tensor([0.], device='cuda:0', grad_fn=<DivBackward0>) 0.0 0.0\n",
      "4347 tensor([1.8068e-09], device='cuda:0', grad_fn=<DivBackward0>) 0.0 1.1563836466166322e-07\n",
      "8883 tensor([1.4193e-08], device='cuda:0', grad_fn=<DivBackward0>) 0.0 9.083581744562252e-07\n",
      "13104 tensor([0.], device='cuda:0', grad_fn=<DivBackward0>) 0.0 0.0\n",
      "16128 tensor([0.], device='cuda:0', grad_fn=<DivBackward0>) 0.0 0.0\n",
      "25011 tensor([0.], device='cuda:0', grad_fn=<DivBackward0>) 0.0 0.0\n",
      "35091 tensor([0.], device='cuda:0', grad_fn=<DivBackward0>) 0.0 0.0\n",
      "36351 tensor([0.], device='cuda:0', grad_fn=<DivBackward0>) 0.0 0.0\n",
      "36666 tensor([0.], device='cuda:0', grad_fn=<DivBackward0>) 0.0 0.0\n",
      "56007 tensor([0.], device='cuda:0', grad_fn=<DivBackward0>) 0.0 0.0\n",
      "68103 tensor([0.], device='cuda:0', grad_fn=<DivBackward0>) 0.0 0.0\n",
      "68166 tensor([0.], device='cuda:0', grad_fn=<DivBackward0>) 0.0 0.0\n",
      "80010 tensor([0.], device='cuda:0', grad_fn=<DivBackward0>) 0.0 0.0\n",
      "82026 tensor([0.], device='cuda:0', grad_fn=<DivBackward0>) 0.0 0.0\n",
      "85680 tensor([7.9637e-07], device='cuda:0', grad_fn=<DivBackward0>) 0.0 5.096758104627952e-05\n",
      "85869 tensor([0.], device='cuda:0', grad_fn=<DivBackward0>) 0.0 0.0\n",
      "94878 tensor([0.], device='cuda:0', grad_fn=<DivBackward0>) 0.0 0.0\n",
      "batch iteration 0\n",
      "batch_loss: 0.00 \n",
      "\n",
      "\n",
      "4032 tensor([0.], device='cuda:0', grad_fn=<DivBackward0>) 0.0 0.0\n",
      "7371 tensor([0.], device='cuda:0', grad_fn=<DivBackward0>) 0.0 0.0\n",
      "9450 tensor([0.], device='cuda:0', grad_fn=<DivBackward0>) 0.0 0.0\n",
      "15687 tensor([0.], device='cuda:0', grad_fn=<DivBackward0>) 0.0 0.0\n",
      "17451 tensor([0.], device='cuda:0', grad_fn=<DivBackward0>) 0.0 0.0\n",
      "23247 tensor([0.], device='cuda:0', grad_fn=<DivBackward0>) 0.0 0.0\n",
      "28287 tensor([0.], device='cuda:0', grad_fn=<DivBackward0>) 0.0 0.0\n",
      "37926 tensor([0.], device='cuda:0', grad_fn=<DivBackward0>) 0.0 0.0\n",
      "45045 tensor([0.], device='cuda:0', grad_fn=<DivBackward0>) 0.0 0.0\n",
      "50715 tensor([0.], device='cuda:0', grad_fn=<DivBackward0>) 0.0 0.0\n",
      "61866 tensor([0.], device='cuda:0', grad_fn=<DivBackward0>) 0.0 0.0\n",
      "71442 tensor([0.], device='cuda:0', grad_fn=<DivBackward0>) 0.0 0.0\n",
      "86310 tensor([0.], device='cuda:0', grad_fn=<DivBackward0>) 0.0 0.0\n",
      "97713 tensor([0.], device='cuda:0', grad_fn=<DivBackward0>) 0.0 0.0\n",
      "batch iteration 1\n",
      "batch_loss: 0.00 \n",
      "\n",
      "\n",
      "9702 tensor([2.4395e-07], device='cuda:0', grad_fn=<DivBackward0>) 0.0 1.5613048162776977e-05\n",
      "17640 tensor([0.], device='cuda:0', grad_fn=<DivBackward0>) 0.0 0.0\n",
      "18396 tensor([1.8541e-10], device='cuda:0', grad_fn=<DivBackward0>) 0.0 1.1866495341905647e-08\n",
      "18459 tensor([0.], device='cuda:0', grad_fn=<DivBackward0>) 0.0 0.0\n",
      "23373 tensor([0.], device='cuda:0', grad_fn=<DivBackward0>) 0.0 0.0\n",
      "41769 tensor([0.], device='cuda:0', grad_fn=<DivBackward0>) 0.0 0.0\n",
      "58086 tensor([0.], device='cuda:0', grad_fn=<DivBackward0>) 0.0 0.0\n",
      "60354 tensor([1.7639e-07], device='cuda:0', grad_fn=<DivBackward0>) 0.0 1.128902022173861e-05\n",
      "74151 tensor([0.], device='cuda:0', grad_fn=<DivBackward0>) 0.0 0.0\n",
      "99603 tensor([0.], device='cuda:0', grad_fn=<DivBackward0>) 0.0 0.0\n",
      "batch iteration 2\n",
      "batch_loss: 0.00 \n",
      "\n",
      "\n",
      "10269 tensor([0.], device='cuda:0', grad_fn=<DivBackward0>) 0.0 0.0\n",
      "10584 tensor([0.], device='cuda:0', grad_fn=<DivBackward0>) 0.0 0.0\n",
      "14238 tensor([0.], device='cuda:0', grad_fn=<DivBackward0>) 0.0 0.0\n",
      "22554 tensor([0.], device='cuda:0', grad_fn=<DivBackward0>) 0.0 0.0\n",
      "25704 tensor([0.], device='cuda:0', grad_fn=<DivBackward0>) 0.0 0.0\n",
      "41013 tensor([0.], device='cuda:0', grad_fn=<DivBackward0>) 0.0 0.0\n",
      "41139 tensor([0.], device='cuda:0', grad_fn=<DivBackward0>) 0.0 0.0\n",
      "42903 tensor([0.], device='cuda:0', grad_fn=<DivBackward0>) 0.0 0.0\n",
      "49203 tensor([0.], device='cuda:0', grad_fn=<DivBackward0>) 0.0 0.0\n",
      "55062 tensor([0.], device='cuda:0', grad_fn=<DivBackward0>) 0.0 0.0\n",
      "57960 tensor([0.], device='cuda:0', grad_fn=<DivBackward0>) 0.0 0.0\n",
      "64638 tensor([0.], device='cuda:0', grad_fn=<DivBackward0>) 0.0 0.0\n",
      "71505 tensor([0.], device='cuda:0', grad_fn=<DivBackward0>) 0.0 0.0\n",
      "75285 tensor([0.], device='cuda:0', grad_fn=<DivBackward0>) 0.0 0.0\n",
      "85617 tensor([0.], device='cuda:0', grad_fn=<DivBackward0>) 0.0 0.0\n",
      "91665 tensor([0.], device='cuda:0', grad_fn=<DivBackward0>) 0.0 0.0\n",
      "94626 tensor([0.], device='cuda:0', grad_fn=<DivBackward0>) 0.0 0.0\n",
      "95886 tensor([0.], device='cuda:0', grad_fn=<DivBackward0>) 0.0 0.0\n",
      "95949 tensor([0.], device='cuda:0', grad_fn=<DivBackward0>) 0.0 0.0\n",
      "batch iteration 3\n",
      "batch_loss: 0.00 \n",
      "\n",
      "\n",
      "882 tensor([0.], device='cuda:0', grad_fn=<DivBackward0>) 0.0 0.0\n",
      "2709 tensor([0.], device='cuda:0', grad_fn=<DivBackward0>) 0.0 0.0\n",
      "11592 tensor([0.], device='cuda:0', grad_fn=<DivBackward0>) 0.0 0.0\n",
      "13041 tensor([0.], device='cuda:0', grad_fn=<DivBackward0>) 0.0 0.0\n",
      "42273 tensor([0.], device='cuda:0', grad_fn=<DivBackward0>) 0.0 0.0\n",
      "43974 tensor([0.], device='cuda:0', grad_fn=<DivBackward0>) 0.0 0.0\n",
      "44856 tensor([0.], device='cuda:0', grad_fn=<DivBackward0>) 0.0 0.0\n",
      "57708 tensor([0.], device='cuda:0', grad_fn=<DivBackward0>) 0.0 0.0\n",
      "62244 tensor([0.], device='cuda:0', grad_fn=<DivBackward0>) 0.0 0.0\n",
      "65583 tensor([0.], device='cuda:0', grad_fn=<DivBackward0>) 0.0 0.0\n",
      "72324 tensor([0.], device='cuda:0', grad_fn=<DivBackward0>) 0.0 0.0\n",
      "73521 tensor([0.], device='cuda:0', grad_fn=<DivBackward0>) 0.0 0.0\n",
      "80955 tensor([0.], device='cuda:0', grad_fn=<DivBackward0>) 0.0 0.0\n",
      "batch iteration 4\n",
      "batch_loss: 0.00 \n",
      "\n",
      "\n"
     ]
    }
   ],
   "source": [
    "for iteration in range(int(echo)):\n",
    "    # offender_types = []\n",
    "    # defender_types = []\n",
    "    \n",
    "    \n",
    "    X_train_list = []\n",
    "    temp_number = 0\n",
    "    total_batch_loss = 0 \n",
    "    while(temp_number<len(training_data)-1):\n",
    "        \n",
    "        loss2_list = []\n",
    "        loss1_sum = 0\n",
    "        loss2_sum = 0\n",
    "        denominator = 0\n",
    "        for index in range(temp_number, min(BATCH_SIZE+temp_number,len(training_data))):\n",
    "            h_loss1,h_loss2,h_list = DiscriminatorNet(training_data[index],training_label[index],0)\n",
    "            denominator += 1\n",
    "            loss1_sum += h_loss1\n",
    "            loss2_sum += h_loss2\n",
    "            \n",
    "        loss_sum = loss1_sum + loss2_sum\n",
    "        loss = (loss_sum) / denominator \n",
    "        total_batch_loss +=float(loss_sum)\n",
    "        opt_D.zero_grad()\n",
    "        \n",
    "        loss.backward()\n",
    "        \n",
    "        opt_D.step()\n",
    "        \n",
    "        temp_number = index\n",
    "        \n",
    "        if(random.random()<=0.01):\n",
    "            print(temp_number,loss,float(loss1_sum),float(loss2_sum))\n",
    "        ## Gan \n",
    "            if(Is_GAN):## Gan Work traning GeneratorNet\n",
    "                \n",
    "                DiscriminatorNet.requires_grad = True\n",
    "                GeneratorNet.requires_grad = True\n",
    "\n",
    "\n",
    "                for step in range(101):\n",
    "                    # real painting from artist\n",
    "                    G_ideas = torch.randn(BATCH_SIZE, N_IDEAS,\n",
    "                                          requires_grad=True).to(dev)  # random ideas\\n\n",
    "                    # fake painting from G (random ideas)\n",
    "                    \n",
    "                    G_values = GeneratorNet(G_ideas)\n",
    "                    G_values , indices = torch.sort(G_values, descending=True)\n",
    "                #     print(artist_paintings)\n",
    "                #     print(G_paintings)\n",
    "\n",
    "                    result_list = []\n",
    "                    for index in range(BATCH_SIZE):\n",
    "                        h_list = []\n",
    "                        value_list_tensor, S_tensor = redistribution_value_function(\n",
    "                            G_values[index])\n",
    "                        for i in range(Agent_number_n):\n",
    "                            h = DiscriminatorNet.calculate(\n",
    "                                value_list_tensor[i].cuda().type(torch.float32))\n",
    "                            h_list.append(h)\n",
    "                        h_list = torch.stack(h_list)\n",
    "                        result_list.append(torch.sum(h_list)/S_tensor.to(dev))\n",
    "                    result_list = torch.stack(result_list)\n",
    "\n",
    "                    diff_loss = torch.max(result_list)-torch.min(result_list)\n",
    "                    G_loss = torch.max(- diff_loss)\n",
    "\n",
    "                    opt_G.zero_grad()\n",
    "                    G_loss.backward()\n",
    "                    opt_G.step()\n",
    "                    \n",
    "                # real painting from artist\n",
    "                    G_ideas = torch.randn(BATCH_SIZE, N_IDEAS,\n",
    "                                          requires_grad=True).to(dev)  # random ideas\\n\n",
    "                    # fake painting from G (random ideas)\n",
    "                    \n",
    "                    G_values = GeneratorNet(G_ideas)\n",
    "                    G_values , indices = torch.sort(G_values, descending=True)\n",
    "                #     print(artist_paintings)\n",
    "                #     print(G_paintings)\n",
    "\n",
    "                    result_list = []\n",
    "                    for index in range(BATCH_SIZE):\n",
    "                        h_list = []\n",
    "                        value_list_tensor, S_tensor = redistribution_value_function(\n",
    "                            G_values[index])\n",
    "                        for i in range(Agent_number_n):\n",
    "                            h = DiscriminatorNet.calculate(\n",
    "                                value_list_tensor[i].cuda().type(torch.float32))\n",
    "                            h_list.append(h)\n",
    "                        h_list = torch.stack(h_list)\n",
    "                        result_list.append(torch.sum(h_list)/S_tensor.cuda())\n",
    "                    result_list = torch.stack(result_list)\n",
    "\n",
    "                    diff_loss = torch.max(result_list)-torch.min(result_list)\n",
    "                    \n",
    "                    D_loss = torch.where((Agent_number_n-1)>torch.min(result_list),\n",
    "                        torch.square(((Agent_number_n-1)-torch.min(result_list))),\n",
    "                        torch.zeros(1).to(dev)\n",
    "                      )   + torch.where((Agent_number_n-Alpha)<torch.max(result_list),\n",
    "                                    torch.square((torch.max(result_list)-(Agent_number_n-Alpha)))/100,\n",
    "                                    torch.zeros(1).to(dev)\n",
    "                                  )\n",
    "                     \n",
    "\n",
    "                    opt_D.zero_grad()\n",
    "                    D_loss.backward()\n",
    "                    opt_D.step()\n",
    "\n",
    "                print(G_loss,D_loss)\n",
    "                print()\n",
    "\n",
    "    print(\"batch iteration\", iteration)\n",
    "    print(\"batch_loss: %.2f \" % (total_batch_loss/len(training_data)))\n",
    "    \n",
    "    print()\n",
    "    print()\n",
    "\n",
    "\n",
    "        \n"
   ]
  },
  {
   "cell_type": "code",
   "execution_count": 11,
   "metadata": {
    "ExecuteTime": {
     "end_time": "2021-06-03T10:52:44.806948Z",
     "start_time": "2021-06-03T10:52:44.791986Z"
    }
   },
   "outputs": [],
   "source": [
    "torch.save(DiscriminatorNet, \"save/Deep_learning_D_4_2\")\n",
    "torch.save(GeneratorNet, \"save/Deep_learning_G_4_2\")"
   ]
  },
  {
   "cell_type": "code",
   "execution_count": 12,
   "metadata": {
    "ExecuteTime": {
     "end_time": "2021-06-03T10:53:10.808959Z",
     "start_time": "2021-06-03T10:52:44.807945Z"
    }
   },
   "outputs": [
    {
     "name": "stdout",
     "output_type": "stream",
     "text": [
      "3.362692641924223 3.006834328174591 0.35585831374963206\n",
      "3.1589981822265183\n"
     ]
    }
   ],
   "source": [
    "denominator = 0\n",
    "result_list = []\n",
    "for index in range(len(testing_data)):\n",
    "    h_list = []\n",
    "    for i in range(Agent_number_n):\n",
    "        h = DiscriminatorNet.calculate(torch.tensor(testing_data[index][i]).to(dev).type(torch.float32))\n",
    "        h_list.append(float(h))\n",
    "    \n",
    "    #print(sum(h_list),h_list,sum(h_list)/testing_label[index])\n",
    "    result_list.append(sum(h_list)/testing_label[index])\n",
    "    \n",
    "\n",
    "print(max(result_list),min(result_list),max(result_list)-min(result_list))\n",
    "print(sum(result_list)/len(result_list))"
   ]
  },
  {
   "cell_type": "code",
   "execution_count": 13,
   "metadata": {
    "ExecuteTime": {
     "end_time": "2021-06-03T10:53:11.762960Z",
     "start_time": "2021-06-03T10:53:10.810954Z"
    }
   },
   "outputs": [
    {
     "data": {
      "image/png": "[encoded data removed]",
      "text/plain": [
       "<Figure size 432x288 with 1 Axes>"
      ]
     },
     "metadata": {
      "needs_background": "light"
     },
     "output_type": "display_data"
    }
   ],
   "source": [
    "plt.hist(result_list,bins=500)\n",
    "\n",
    "plt.title(\"Means\", y=1.015, fontsize=20)\n",
    "plt.axvline(x=sum(result_list)/len(result_list), linestyle='--', linewidth=2.5, label=\"sample mean\", c='orange')\n",
    "plt.xlabel(\"samples\", labelpad=14)\n",
    "plt.ylabel(\"frequency of occurence\", labelpad=14)\n",
    "plt.legend();\n",
    "\n",
    "result_list.sort()\n",
    "\n",
    "plt.axvline(x=result_list[int(len(result_list)*0.01)], linestyle='--', linewidth=0.5, label=\"1%\", c='b')\n",
    "plt.axvline(x=result_list[int(len(result_list)*0.99)], linestyle='--', linewidth=0.5, label=\"99%\", c='r')\n",
    "\n",
    "\n",
    "plt.show()"
   ]
  },
  {
   "cell_type": "code",
   "execution_count": null,
   "metadata": {},
   "outputs": [],
   "source": [
    "#Generate 10000 testing data on GeneratorNet"
   ]
  },
  {
   "cell_type": "code",
   "execution_count": 14,
   "metadata": {
    "ExecuteTime": {
     "end_time": "2021-06-03T12:22:09.230195Z",
     "start_time": "2021-06-03T12:22:04.664213Z"
    }
   },
   "outputs": [
    {
     "name": "stdout",
     "output_type": "stream",
     "text": [
      "[[[1.17507465e-01 1.09641820e-01 4.72905580e-03]\n",
      "  [8.55963469e-01 1.09641820e-01 4.72905580e-03]\n",
      "  [8.55963469e-01 1.17507465e-01 4.72905580e-03]\n",
      "  [8.55963469e-01 1.17507465e-01 1.09641820e-01]]\n",
      "\n",
      " [[4.04709995e-01 3.68556231e-01 1.46202612e-04]\n",
      "  [9.58811998e-01 3.68556231e-01 1.46202612e-04]\n",
      "  [9.58811998e-01 4.04709995e-01 1.46202612e-04]\n",
      "  [9.58811998e-01 4.04709995e-01 3.68556231e-01]]\n",
      "\n",
      " [[4.18021411e-01 5.68946474e-04 2.10815490e-08]\n",
      "  [6.17134333e-01 5.68946474e-04 2.10815490e-08]\n",
      "  [6.17134333e-01 4.18021411e-01 2.10815490e-08]\n",
      "  [6.17134333e-01 4.18021411e-01 5.68946474e-04]]\n",
      "\n",
      " ...\n",
      "\n",
      " [[4.87094611e-01 1.80859510e-02 1.86323465e-04]\n",
      "  [4.94158179e-01 1.80859510e-02 1.86323465e-04]\n",
      "  [4.94158179e-01 4.87094611e-01 1.86323465e-04]\n",
      "  [4.94158179e-01 4.87094611e-01 1.80859510e-02]]\n",
      "\n",
      " [[4.99107420e-01 4.23848331e-01 6.28735451e-03]\n",
      "  [6.38944030e-01 4.23848331e-01 6.28735451e-03]\n",
      "  [6.38944030e-01 4.99107420e-01 6.28735451e-03]\n",
      "  [6.38944030e-01 4.99107420e-01 4.23848331e-01]]\n",
      "\n",
      " [[7.79214740e-01 4.75004166e-01 7.75127955e-06]\n",
      "  [9.83182669e-01 4.75004166e-01 7.75127955e-06]\n",
      "  [9.83182669e-01 7.79214740e-01 7.75127955e-06]\n",
      "  [9.83182669e-01 7.79214740e-01 4.75004166e-01]]]\n",
      "[1.08784181 1.73222443 1.03572471 ... 1.         1.56818714 2.23740933]\n"
     ]
    }
   ],
   "source": [
    "GeneratorNet = torch.load(\"save/Deep_learning_G_4_1\")\n",
    "def appen_test_G(x_list):\n",
    "    global temp_list\n",
    "                \n",
    "    S= max(sum(x_list),1.0);\n",
    "    temp_list = []\n",
    "    \n",
    "    for i in range(Agent_number_n):\n",
    "        temp = []\n",
    "        for j in range(Agent_number_n):\n",
    "            if(i!=j):\n",
    "                temp.append(x_list[j])\n",
    "        appen(temp,S)\n",
    "    testing_data_G.append(temp_list)\n",
    "    testing_label_G.append(S)\n",
    "# fake painting from G (random ideas)\n",
    "\n",
    "def read_testing_data_G():\n",
    "    for i in range(10000):\n",
    "        #appen_test_G(sorted(np.random.rand(Agent_number_n), reverse=True));\n",
    "        G_ideas = torch.randn(N_IDEAS).to(dev)  # random ideas\\n\n",
    "        G_values = GeneratorNet(G_ideas)\n",
    "        G_values , indices = torch.sort(G_values, descending=True)\n",
    "        appen_test_G(G_values.detach().cpu().numpy()) \n",
    "        \n",
    "testing_data_G = []\n",
    "testing_label_G = []\n",
    "read_testing_data_G()\n",
    "testing_data_G=np.array(testing_data_G)\n",
    "testing_label_G=np.array(testing_label_G)\n",
    "print(testing_data_G)\n",
    "print(testing_label_G)"
   ]
  },
  {
   "cell_type": "code",
   "execution_count": 15,
   "metadata": {
    "ExecuteTime": {
     "end_time": "2021-06-03T12:22:42.729340Z",
     "start_time": "2021-06-03T12:22:19.127877Z"
    }
   },
   "outputs": [
    {
     "name": "stdout",
     "output_type": "stream",
     "text": [
      "3.4642226696014404 2.9635857939720154 0.500636875629425\n",
      "3.1663031738265692\n"
     ]
    }
   ],
   "source": [
    "result_list_G = []\n",
    "for index in range(len(testing_data_G)):\n",
    "    h_list = []\n",
    "    for i in range(Agent_number_n):\n",
    "        h = DiscriminatorNet.calculate(torch.tensor(testing_data_G[index][i]).to(dev).type(torch.float32))\n",
    "        h_list.append(float(h))\n",
    "    \n",
    "    #print(sum(h_list),h_list,sum(h_list)/testing_label[index])\n",
    "    result_list_G.append(sum(h_list)/testing_label_G[index])\n",
    "    \n",
    "\n",
    "print(max(result_list_G),min(result_list_G),max(result_list_G)-min(result_list_G))\n",
    "print(sum(result_list_G)/len(result_list_G))"
   ]
  },
  {
   "cell_type": "code",
   "execution_count": 16,
   "metadata": {
    "ExecuteTime": {
     "end_time": "2021-06-03T12:22:53.517734Z",
     "start_time": "2021-06-03T12:22:52.659985Z"
    }
   },
   "outputs": [
    {
     "data": {
      "image/png": "[encoded data removed]",
      "text/plain": [
       "<Figure size 432x288 with 1 Axes>"
      ]
     },
     "metadata": {
      "needs_background": "light"
     },
     "output_type": "display_data"
    }
   ],
   "source": [
    "plt.hist(result_list,bins=500)\n",
    "\n",
    "plt.title(\"Means\", y=1.015, fontsize=20)\n",
    "plt.axvline(x=sum(result_list_G)/len(result_list_G), linestyle='--', linewidth=2.5, label=\"sample mean\", c='orange')\n",
    "plt.xlabel(\"samples\", labelpad=14)\n",
    "plt.ylabel(\"frequency of occurence\", labelpad=14)\n",
    "plt.legend();\n",
    "\n",
    "result_list.sort()\n",
    "\n",
    "plt.axvline(x=result_list[int(len(result_list_G)*0.01)], linestyle='--', linewidth=0.5, label=\"1%\", c='b')\n",
    "plt.axvline(x=result_list[int(len(result_list_G)*0.99)], linestyle='--', linewidth=0.5, label=\"99%\", c='r')\n",
    "\n",
    "\n",
    "plt.show()"
   ]
  },
  {
   "cell_type": "code",
   "execution_count": null,
   "metadata": {},
   "outputs": [],
   "source": []
  }
 ],
 "metadata": {
  "hide_input": false,
  "kernelspec": {
   "display_name": "Python 3",
   "language": "python",
   "name": "python3"
  },
  "language_info": {
   "codemirror_mode": {
    "name": "ipython",
    "version": 3
   },
   "file_extension": ".py",
   "mimetype": "text/x-python",
   "name": "python",
   "nbconvert_exporter": "python",
   "pygments_lexer": "ipython3",
   "version": "3.8.3"
  },
  "varInspector": {
   "cols": {
    "lenName": 16,
    "lenType": 16,
    "lenVar": 40
   },
   "kernels_config": {
    "python": {
     "delete_cmd_postfix": "",
     "delete_cmd_prefix": "del ",
     "library": "var_list.py",
     "varRefreshCmd": "print(var_dic_list())"
    },
    "r": {
     "delete_cmd_postfix": ") ",
     "delete_cmd_prefix": "rm(",
     "library": "var_list.r",
     "varRefreshCmd": "cat(var_dic_list()) "
    }
   },
   "types_to_exclude": [
    "module",
    "function",
    "builtin_function_or_method",
    "instance",
    "_Feature"
   ],
   "window_display": false
  }
 },
 "nbformat": 4,
 "nbformat_minor": 4
}
