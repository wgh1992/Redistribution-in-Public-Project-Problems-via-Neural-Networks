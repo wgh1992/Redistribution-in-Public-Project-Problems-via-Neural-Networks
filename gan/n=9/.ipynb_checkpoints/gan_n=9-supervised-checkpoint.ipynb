{
 "cells": [
  {
   "cell_type": "code",
   "execution_count": 1,
   "metadata": {
    "ExecuteTime": {
     "end_time": "2021-07-13T03:35:07.104011Z",
     "start_time": "2021-07-13T03:34:34.699997Z"
    }
   },
   "outputs": [
    {
     "name": "stdout",
     "output_type": "stream",
     "text": [
      "pygame 2.0.1 (SDL 2.0.14, Python 3.8.3)\n",
      "Hello from the pygame community. https://www.pygame.org/contribute.html\n"
     ]
    },
    {
     "name": "stderr",
     "output_type": "stream",
     "text": [
      "D:\\ComputerSoftwares\\Anaconda\\lib\\site-packages\\sklearn\\utils\\deprecation.py:143: FutureWarning: The sklearn.datasets.samples_generator module is  deprecated in version 0.22 and will be removed in version 0.24. The corresponding classes / functions should instead be imported from sklearn.datasets. Anything that cannot be imported from sklearn.datasets is now part of the private API.\n",
      "  warnings.warn(message, FutureWarning)\n"
     ]
    },
    {
     "name": "stdout",
     "output_type": "stream",
     "text": [
      "cuda:0\n"
     ]
    }
   ],
   "source": [
    "\n",
    "import pygame\n",
    "import random\n",
    "import os\n",
    "import time\n",
    "import numpy as np\n",
    "import math\n",
    "import torch\n",
    "import torch.nn.functional\n",
    "import matplotlib.pyplot as plt\n",
    "import torch.optim as opt\n",
    "from torch.autograd import Variable\n",
    "from sklearn.model_selection import train_test_split\n",
    "\n",
    "import scipy.stats as st\n",
    "from sklearn.datasets.samples_generator import make_blobs\n",
    "from matplotlib.colors import LogNorm \n",
    "import matplotlib.cm as cm\n",
    "import torch.nn as nn\n",
    "import numpy as np\n",
    "import matplotlib.pyplot as plt\n",
    "import plotly.graph_objects as go\n",
    "import plotly.express as px\n",
    "from scipy.interpolate import griddata\n",
    "if torch.cuda.is_available():  \n",
    "    dev = \"cuda:0\" \n",
    "else:  \n",
    "    dev = \"cpu\"  \n",
    "\n",
    "print(dev)\n",
    "\n"
   ]
  },
  {
   "cell_type": "code",
   "execution_count": 2,
   "metadata": {
    "ExecuteTime": {
     "end_time": "2021-07-13T03:35:07.122365Z",
     "start_time": "2021-07-13T03:35:07.104011Z"
    }
   },
   "outputs": [],
   "source": [
    "global temp_list\n",
    "temp_list = []\n",
    "Agent_number_n=9;\n",
    "Alpha = 0.74\n",
    "\n",
    "# Hyper Parameters\n",
    "echo = 101 \n",
    "BATCH_SIZE = 64\n",
    "LR_G = 0.001           # learning rate for generator\n",
    "LR_D = 0.001           # learning rate for discriminator\n",
    "N_IDEAS = Agent_number_n             # think of this as number of ideas for generating an art work (Generator)\n",
    "ART_COMPONENTS = Agent_number_n     # it could be total point G can draw in the canvas\n",
    "\n",
    "Is_GAN = True # if use Gan\n",
    "\n",
    "def Generate_distribution(Agent_number_n):\n",
    "    return sorted(np.random.rand(Agent_number_n), reverse=True)\n",
    "    #return sorted(np.random.normal(normalloc,normalscale,Agent_number_n))"
   ]
  },
  {
   "cell_type": "code",
   "execution_count": 3,
   "metadata": {
    "ExecuteTime": {
     "end_time": "2021-07-13T03:35:07.138462Z",
     "start_time": "2021-07-13T03:35:07.124499Z"
    }
   },
   "outputs": [],
   "source": [
    "new_input = 3\n",
    "def Dimensionality_reduction(data_sorted):\n",
    "    out_data = torch.ones(new_input).cuda()\n",
    "    out_data[0] = torch.max(data_sorted) \n",
    "    out_data[1] = torch.sum(data_sorted) \n",
    "    \n",
    "    temp_list = []\n",
    "    for i in range(len(data_sorted)-1):\n",
    "        temp_list.append(data_sorted[i] - data_sorted[i + 1])\n",
    "    \n",
    "    temp_tensor = torch.stack(temp_list)    \n",
    "    out_data[2] = torch.max(temp_tensor) \n",
    "    return out_data\n"
   ]
  },
  {
   "cell_type": "code",
   "execution_count": 4,
   "metadata": {
    "ExecuteTime": {
     "end_time": "2021-07-13T03:35:07.248169Z",
     "start_time": "2021-07-13T03:35:07.139459Z"
    }
   },
   "outputs": [
    {
     "name": "stdout",
     "output_type": "stream",
     "text": [
      "[[[0.93889902 0.91349262 0.6766448  ... 0.61465881 0.17956493 0.07331648]\n",
      "  [0.95280782 0.91349262 0.6766448  ... 0.61465881 0.17956493 0.07331648]\n",
      "  [0.95280782 0.93889902 0.6766448  ... 0.61465881 0.17956493 0.07331648]\n",
      "  ...\n",
      "  [0.95280782 0.93889902 0.91349262 ... 0.61905073 0.17956493 0.07331648]\n",
      "  [0.95280782 0.93889902 0.91349262 ... 0.61905073 0.61465881 0.07331648]\n",
      "  [0.95280782 0.93889902 0.91349262 ... 0.61905073 0.61465881 0.17956493]]\n",
      "\n",
      " [[0.82079922 0.57267461 0.5705378  ... 0.466547   0.43496603 0.12412023]\n",
      "  [0.94278172 0.57267461 0.5705378  ... 0.466547   0.43496603 0.12412023]\n",
      "  [0.94278172 0.82079922 0.5705378  ... 0.466547   0.43496603 0.12412023]\n",
      "  ...\n",
      "  [0.94278172 0.82079922 0.57267461 ... 0.4720104  0.43496603 0.12412023]\n",
      "  [0.94278172 0.82079922 0.57267461 ... 0.4720104  0.466547   0.12412023]\n",
      "  [0.94278172 0.82079922 0.57267461 ... 0.4720104  0.466547   0.43496603]]\n",
      "\n",
      " [[0.87684075 0.83567248 0.66055005 ... 0.19492107 0.05557515 0.00780067]\n",
      "  [0.97797119 0.83567248 0.66055005 ... 0.19492107 0.05557515 0.00780067]\n",
      "  [0.97797119 0.87684075 0.66055005 ... 0.19492107 0.05557515 0.00780067]\n",
      "  ...\n",
      "  [0.97797119 0.87684075 0.83567248 ... 0.20472843 0.05557515 0.00780067]\n",
      "  [0.97797119 0.87684075 0.83567248 ... 0.20472843 0.19492107 0.00780067]\n",
      "  [0.97797119 0.87684075 0.83567248 ... 0.20472843 0.19492107 0.05557515]]\n",
      "\n",
      " ...\n",
      "\n",
      " [[0.86616972 0.84253085 0.50153957 ... 0.23859339 0.07492951 0.01800209]\n",
      "  [0.9929761  0.84253085 0.50153957 ... 0.23859339 0.07492951 0.01800209]\n",
      "  [0.9929761  0.86616972 0.50153957 ... 0.23859339 0.07492951 0.01800209]\n",
      "  ...\n",
      "  [0.9929761  0.86616972 0.84253085 ... 0.34815736 0.07492951 0.01800209]\n",
      "  [0.9929761  0.86616972 0.84253085 ... 0.34815736 0.23859339 0.01800209]\n",
      "  [0.9929761  0.86616972 0.84253085 ... 0.34815736 0.23859339 0.07492951]]\n",
      "\n",
      " [[0.71534618 0.45723789 0.43457947 ... 0.2305305  0.2148697  0.02768379]\n",
      "  [0.77512377 0.45723789 0.43457947 ... 0.2305305  0.2148697  0.02768379]\n",
      "  [0.77512377 0.71534618 0.43457947 ... 0.2305305  0.2148697  0.02768379]\n",
      "  ...\n",
      "  [0.77512377 0.71534618 0.45723789 ... 0.27205996 0.2148697  0.02768379]\n",
      "  [0.77512377 0.71534618 0.45723789 ... 0.27205996 0.2305305  0.02768379]\n",
      "  [0.77512377 0.71534618 0.45723789 ... 0.27205996 0.2305305  0.2148697 ]]\n",
      "\n",
      " [[0.79006285 0.70052428 0.66620091 ... 0.26141156 0.16910305 0.09684489]\n",
      "  [0.92083459 0.70052428 0.66620091 ... 0.26141156 0.16910305 0.09684489]\n",
      "  [0.92083459 0.79006285 0.66620091 ... 0.26141156 0.16910305 0.09684489]\n",
      "  ...\n",
      "  [0.92083459 0.79006285 0.70052428 ... 0.27965262 0.16910305 0.09684489]\n",
      "  [0.92083459 0.79006285 0.70052428 ... 0.27965262 0.26141156 0.09684489]\n",
      "  [0.92083459 0.79006285 0.70052428 ... 0.27965262 0.26141156 0.16910305]]]\n",
      "[5.60196984 4.89471043 4.02955907 4.69208136 4.84303493 5.71106158\n",
      " 3.97343349 5.42584244 4.08989007 3.99125496 5.68016211 3.8674262\n",
      " 5.22444322 6.73550159 5.53406405 3.89126181 4.06087125 5.2028637\n",
      " 5.0411659  5.67851246 4.72216636 3.85256098 3.74789084 3.76268169\n",
      " 5.42304296 4.28594137 4.23627567 2.95851164 3.27983015 4.09947567\n",
      " 4.97604221 5.17475202 3.7624912  4.29184317 4.43048137 4.47175958\n",
      " 3.85641728 5.9992442  4.01874867 4.35024484 3.18841883 2.87785046\n",
      " 4.41228983 6.29229336 4.98586526 4.90717558 5.54839216 3.36020557\n",
      " 5.34070568 3.88586194 4.13627237 4.16812194 4.64393619 4.35307273\n",
      " 3.72853756 3.7281182  4.35438635 3.46080293 4.18426095 4.46115981\n",
      " 4.27195821 5.15158935 3.98323695 4.46305016 4.37980416 3.39705823\n",
      " 3.14823435 4.40005599 5.84043412 3.87506095 4.45848811 5.4660047\n",
      " 3.37774272 4.91558962 3.0701774  4.38383619 3.47461007 5.08429536\n",
      " 3.54267991 4.94565015 4.06493934 4.64349474 3.91247405 3.34093464\n",
      " 5.88398662 3.59881016 4.69547583 5.74313399 4.29633683 4.37882764\n",
      " 5.0209755  3.81516443 4.30944705 4.12542325 4.67870788 4.71086491\n",
      " 3.89102213 5.04439303 5.01901799 4.80852475 3.43690494 4.50779607\n",
      " 3.32483103 5.08726481 5.38399302 3.74517513 5.79967918 3.98417839\n",
      " 5.95661564 4.94036024 4.26242132 4.5198489  4.23617017 5.3134846\n",
      " 5.69172913 4.26763196 4.33166625 4.29447456 4.7478537  3.84348815\n",
      " 4.56071989 5.46857218 3.89496821 4.25379871 4.74500744 4.10597193\n",
      " 5.01071272 3.47149822 4.41567233 4.76440613 3.56614185 3.38390384\n",
      " 4.41893546 5.57251029 5.31020809 4.21000928 4.44982758 4.56721321\n",
      " 3.96018919 4.84309251 4.22998044 4.42713786 4.30100429 4.00398155\n",
      " 4.70786441 5.12897845 5.07193436 3.35209251 4.92137195 3.08472501\n",
      " 3.83630644 4.29351002 3.66016192 4.60524757 5.22611216 5.84552695\n",
      " 6.63648623 3.68539646 2.98315216 4.27614304 4.240871   3.74665931\n",
      " 5.2475977  4.53830988 5.15358809 5.81240671 3.25640902 5.52464503\n",
      " 4.34842519 4.55253558 4.30315628 5.05710733 5.14275581 4.47988288\n",
      " 5.60307703 4.41287631 4.28378905 4.68899911 5.07304869 4.97430173\n",
      " 5.13952925 3.95227185 4.47966535 3.87174818 3.27076011 3.59766996\n",
      " 3.85993716 3.82733207 3.55654625 5.02428902 3.0600869  4.82287948\n",
      " 4.0831706  6.04560597 3.27462665 4.5967406  3.50132308 4.06203212\n",
      " 5.60069925 4.81127958 3.95908772 4.9147761  4.64263035 2.79335661\n",
      " 4.72463587 4.15888722 5.04633216 4.43549578 4.50368035 4.30959775\n",
      " 4.33750951 4.30775601 5.5335763  3.25946253 3.83629867 4.53981684\n",
      " 3.68102023 2.8928964  4.89275663 2.73479029 4.18065438 5.40919137\n",
      " 4.7756265  3.44484462 5.18567955 3.90255243 3.36097761 4.53351562\n",
      " 3.53473619 4.92288028 5.08325809 3.78565316 4.94179207 5.01452701\n",
      " 3.67418733 4.70012604 4.80177789 4.65362499 5.68788262 4.76953515\n",
      " 7.20687899 4.18280824 3.67950432 3.18895292 3.85738916 5.76619883\n",
      " 3.50615248 4.14873679 4.88887466 4.73717384 4.42992084 5.15007046\n",
      " 6.02299431 4.75932599 3.13941185 4.02132699 5.74407359 4.65065337\n",
      " 5.13436097 6.38871034 4.71024796 4.75233122 3.94334452 5.59058455\n",
      " 4.14627094 3.91786606 3.87491014 3.90928086 5.04202452 4.88893126\n",
      " 5.43196553 5.19289042 4.05121701 4.56082381 3.51851    3.58858182\n",
      " 3.66718071 4.57990335 4.41412757 5.43031087 4.85520043 4.82067393\n",
      " 4.21465337 4.9816935  4.83733392 5.00894697 4.62047161 3.91522004\n",
      " 4.40474404 3.98657455 4.15864512 3.98359201 3.23526009 5.24534266\n",
      " 5.02538554 3.31950174 5.32871093 5.77350752 5.06919978 4.85715356\n",
      " 4.75253933 5.25478226 4.71256404 3.4512791  4.73935224 5.32090824\n",
      " 3.74077023 3.06408057 3.22811304 5.61056858 3.22887184 4.16797642\n",
      " 4.65625717 5.62840774 4.92725641 3.49604382 5.14053905 5.45568551\n",
      " 5.49418138 4.81487481 4.27638435 4.28190433 4.59478428 4.87363925\n",
      " 4.8454054  4.04175028 3.93770275 3.41862316 2.87200131 5.08192946\n",
      " 3.73975072 3.74605217 4.53120165 6.61704853 5.0238106  4.79548668\n",
      " 4.71371082 5.74133999 4.34188542 4.02878037 5.68557693 3.72680059\n",
      " 3.35292595 6.41120126 5.92608938 2.21763853 4.83305178 4.43865191\n",
      " 2.64671907 4.86801118 4.6645686  3.40321674 5.32317648 5.93616987\n",
      " 3.20558091 5.13004218 3.71506723 5.29467242 4.81809007 5.53250807\n",
      " 6.12638959 4.22722134 4.40056353 4.19388139 3.47538028 4.13274492\n",
      " 4.4912774  4.93291329 4.77911031 4.93177188 4.67336372 5.75642406\n",
      " 4.14904914 6.16497993 3.49992487 3.45621524 4.99861044 5.37677017\n",
      " 4.51204115 3.94262205 4.05734272 4.19817853 5.18583483 3.54894802\n",
      " 4.9226539  3.9861845  5.31350138 5.14299795 4.20538363 4.3684251\n",
      " 5.22668776 2.98982892 3.4330445  3.84494303 4.41409913 4.47727887\n",
      " 4.32167878 3.34811512 4.03351616 4.59688308 5.07203381 5.14937534\n",
      " 3.06042032 5.14361973 4.12997559 4.79107696 3.9013277  4.48020778\n",
      " 4.37520609 4.61572485 5.45056565 5.06106272 3.53668959 4.54792271\n",
      " 4.02948183 4.1251839  4.2581439  3.84818038 3.2099095  3.87429005\n",
      " 6.43268206 3.91484977 3.90850496 3.40048639 4.35364027 3.57664569\n",
      " 3.32660969 3.58461995 5.33630692 4.96840382 3.02439196 4.51012697\n",
      " 4.38642095 5.78971252 6.24529894 3.63476046 3.82163411 3.08320268\n",
      " 4.72790968 5.17591965 4.80390241 3.60467428 4.17744123 4.03124289\n",
      " 3.07497845 4.9951267  4.54933943 5.2335521  5.05827012 6.1936862\n",
      " 4.81708754 3.97587725 2.55583731 3.77556199 4.83894232 3.11723831\n",
      " 4.89608501 5.30191266 5.91198631 6.04999432 5.15690606 5.16604396\n",
      " 3.61623308 4.84468101 4.62148228 4.16330358 4.68069175 3.79697858\n",
      " 3.44314735 3.2174091  4.01106578 4.02201658 4.3208226  6.10965585\n",
      " 3.29704256 5.30334213 4.21705157 2.94970733 3.10961934 3.70761724\n",
      " 4.92696899 3.73602265 3.46290851 5.66831462 5.54603804 4.71827713\n",
      " 4.43707005 5.02042037 4.89258628 4.55073836 3.91514479 4.59138042\n",
      " 6.77794876 5.55276252 4.91002382 4.98042607 5.03910993 4.06328306\n",
      " 4.50307285 4.65286991 5.03450838 5.06285402 5.71115975 4.16808512\n",
      " 2.63107733 3.47217997 6.11715463 4.31190269 5.10151465 5.0477425\n",
      " 4.71275594 4.20649613 4.68683804 4.69515235 4.55601897 4.33281746\n",
      " 4.21915656 4.12958974 5.66754579 3.59836755 4.51270629 4.31316477\n",
      " 6.02622178 5.33878425 4.95959765 4.04622939 4.58879365 6.19320862\n",
      " 3.63837205 4.4629399  2.79975842 5.62335064 5.84260234 3.5767092\n",
      " 4.54563152 4.39103515 4.24748472 4.17266789 4.72391494 2.82464653\n",
      " 6.44111475 3.97299401 3.78351533 5.39561615 5.22975364 2.55077395\n",
      " 4.18188086 3.94240094 5.28561049 4.8459748  5.00733844 4.40303398\n",
      " 5.33546612 5.91783331 3.98619983 4.96929    4.33404601 4.21031069\n",
      " 5.75499558 4.05362137 4.63513124 4.03913274 6.04434985 4.12973421\n",
      " 5.16859387 4.47676542 4.43028685 4.91516942 3.34107917 4.58827558\n",
      " 4.29179884 5.32366435 6.35677422 4.82122927 4.03451798 3.64730723\n",
      " 4.16529644 4.26986372 4.50230658 4.00405461 4.29704296 4.48560412\n",
      " 3.91229993 4.205482   4.73068202 4.15362594 3.59379723 5.48169367\n",
      " 6.4417689  4.91499066 4.73567289 3.89621447 4.12053195 3.85373913\n",
      " 4.91285802 5.15770066 2.13701049 3.85219293 4.68665297 4.30368809\n",
      " 4.19025284 4.14437763 4.92054574 5.74697072 4.58751767 4.93959376\n",
      " 3.03188714 4.27792689 4.18174464 4.2162144  2.72644218 3.47875947\n",
      " 4.19162932 3.49721109 5.52726571 4.12536684 5.39233694 4.17057935\n",
      " 4.59109658 4.63584747 4.86274891 3.77499763 6.62196326 3.53437314\n",
      " 3.28294417 5.15649182 5.34371258 5.63721943 5.54070502 5.24321174\n",
      " 6.23596057 5.08721134 5.01261243 3.54522165 4.67689908 5.75371548\n",
      " 4.43257479 4.61245802 3.75738839 4.74430273 4.26837305 5.59835162\n",
      " 4.00707599 6.04209278 4.73979865 4.23586184 5.39061817 5.33098829\n",
      " 4.76894718 2.0292061  5.14018185 5.07877107 4.96054775 4.2146565\n",
      " 3.51023206 4.61366249 3.61788869 5.61650753 3.69957117 4.94621112\n",
      " 5.42850405 3.8479399  3.33399863 4.17579354 3.97716196 2.91771262\n",
      " 4.7997711  5.67328699 3.52091402 4.84487664 4.35504738 5.13873182\n",
      " 5.0309141  4.29958983 3.90707163 5.62504433 3.58174212 4.3717228\n",
      " 4.96046641 2.95053564 5.24608047 5.79057466 3.53309576 5.53449512\n",
      " 4.77590745 6.25186851 3.6725514  5.76931377 4.50335873 4.27823083\n",
      " 4.65264407 3.54212359 3.28181689 3.94097746 5.09808293 2.99798351\n",
      " 3.92347013 4.01307542 4.00744489 3.40415598 3.18256651 4.99031025\n",
      " 4.9718504  4.69813738 3.17744747 4.15448554 4.83218142 4.05737982\n",
      " 6.19502913 4.33071625 4.80833746 5.91991799 2.50546812 5.34820581\n",
      " 3.96718491 4.47506765 4.30010127 4.7668579  5.07747852 5.23971134\n",
      " 4.52998699 4.17019672 3.83673594 3.334884   4.7676173  5.63703251\n",
      " 4.6065275  4.20262845 4.59073489 5.28380297 4.81585637 4.85018383\n",
      " 5.1444629  5.29661915 3.25528735 6.05682794 6.06566207 3.49416837\n",
      " 5.35914222 4.4079041  4.81473931 5.00869423 4.12680655 3.80866535\n",
      " 5.91934399 4.57797733 3.69421559 5.80339328 2.98057473 3.9831182\n",
      " 5.66918905 4.77135068 5.18094281 4.36104373 4.66478946 3.66315705\n",
      " 4.14787815 5.96697874 3.21810168 3.82823079 4.92605286 4.41495593\n",
      " 3.97977696 4.42188146 4.54056537 3.66484837 5.0198314  4.22268638\n",
      " 4.10707638 4.94654588 3.02705918 4.55910919 5.8515359  4.33658816\n",
      " 2.70734646 5.3303457  5.35846264 4.54135919 5.62601581 5.16077301\n",
      " 3.78865053 2.84977234 3.29414663 3.9626882  5.19002091 5.59899021\n",
      " 5.30627743 4.92596605 4.70757789 3.87009562 4.63402256 4.7594542\n",
      " 3.93690168 5.69789217 3.82247531 5.95467609 4.27747098 5.08196581\n",
      " 4.46941102 5.77238705 2.54562963 6.3686945  5.18960398 4.65009352\n",
      " 4.69520409 4.38557354 4.86094779 4.14375297 3.4187868  3.68875976\n",
      " 4.31851435 4.18790068 5.31610724 5.33284559 4.28323505 4.48205277\n",
      " 3.80332035 4.78793531 3.55996989 4.76095198 4.59155896 4.30434605\n",
      " 4.30739429 5.08990505 5.98158453 6.00459796 3.89285462 4.01492942\n",
      " 4.71307645 5.14284406 5.40248625 4.41777725 4.88396238 5.45564141\n",
      " 3.07624228 3.09052411 4.96445898 4.07065677 3.95538419 4.91363661\n",
      " 5.24967468 4.95641162 4.97497816 5.6273828  4.63632017 4.83491619\n",
      " 3.3105324  4.56807707 5.37583876 5.57112289 5.61171648 4.15708749\n",
      " 3.6878376  4.40365597 3.78603178 3.18729262 3.20121758 3.89815525\n",
      " 3.14142894 4.80869988 5.30791001 4.2470151  3.66206639 4.53181943\n",
      " 3.53988755 6.07284105 3.68178716 4.60132645 4.85232949 5.77853748\n",
      " 3.61359585 4.49601634 4.60133016 4.56866468 3.09202368 5.46404115\n",
      " 4.86480544 4.1987564  3.92931346 3.74836228 3.68556605 5.2912176\n",
      " 3.40779416 3.6514537  3.81454654 3.73921375 4.68464319 4.04697366\n",
      " 4.56727796 3.71909751 4.57689732 4.38966947 4.11106131 4.27001717\n",
      " 4.95868256 4.74221833 4.42454334 4.56296202 4.8531786  4.57411062\n",
      " 3.74025256 3.9197774  4.66973951 5.63295995 5.05693321 3.57447003\n",
      " 3.62346735 5.34248223 4.09669705 4.74015061 3.80614551 4.58492353\n",
      " 6.22830744 3.64113496 5.51243648 5.40412037 3.07081589 4.93608521\n",
      " 4.89794343 6.18015568 4.88152333 3.57965638 4.38279073 4.19920226\n",
      " 4.46057485 4.73920674 3.87254864 5.22209273 5.00475661 4.89128019\n",
      " 5.42297293 2.96319006 5.11295339 5.11926827 4.91630486 3.610121\n",
      " 3.826983   3.91710934 4.8193741  4.48524868 3.43395482 4.99848384\n",
      " 4.42399582 5.42811905 3.48141654 4.88283247 3.63982399 4.40830797\n",
      " 4.14575937 6.05280593 4.66052581 4.52669419 4.37145512 4.06154157\n",
      " 4.94360135 4.47692248 4.2510215  4.4208798  5.47031789 3.18836535\n",
      " 3.78016111 5.78226028 5.29254764 4.42017758 4.10269488 4.39618571\n",
      " 4.16065631 4.69324384 2.99408585 4.75256091 4.34457871 2.87178777\n",
      " 4.91149516 3.24046785 4.60664594 3.2219125  5.24980351 4.57734214\n",
      " 4.55700309 4.03261928 4.80653893 2.61712075 4.18112887 3.52486985\n",
      " 5.18920941 3.44077854 4.70978552 4.24647899 5.06813339 4.23996061\n",
      " 3.75773823 3.24825973 3.44779433 3.8631014  4.50113295 3.26514997\n",
      " 5.043177   4.38294429 3.44380111 4.23875415]\n"
     ]
    }
   ],
   "source": [
    "def h_3_star(a, b, t):\n",
    "    return a - min(a, t) + b - min(b, t) + max(min(a, t)+min(b, t), 2*t/3) + 1/2 * max(min(a, t)+min(b, t), t) - 1/2 * max(max(min(a, t), min(b, t)), 2*t/3) - t/6\n",
    "\n",
    "\n",
    "def f_function(a, b, z):\n",
    "    if(z >= 1):\n",
    "        return (a+b)/2 + z/3\n",
    "    else:\n",
    "        return z/3 + h_3_star(a, b, 1-z)/2\n",
    "\n",
    "def h_function_label(input_list):\n",
    "    #input_list = sorted(input_list)\n",
    "    g_list = []\n",
    "    for j1 in range(len(input_list) ):\n",
    "        for j2 in range(len(input_list)):\n",
    "            if(j1 != j2):\n",
    "                a = input_list[j1]\n",
    "                b = input_list[j2]\n",
    "                z = sum(input_list)- a-b\n",
    "\n",
    "                g_list.append( f_function(a, b, z) * (Agent_number_n-1))\n",
    "    h = sum(g_list) * 3 /  (Agent_number_n) /  (Agent_number_n-1) /  (Agent_number_n - 2)\n",
    "    return h\n",
    "\n",
    "def appen(_x_list,y):\n",
    "    global temp_list\n",
    "    temp_list.append(_x_list)\n",
    "    \n",
    "def appen_train(x_list):\n",
    "    global temp_list\n",
    "                \n",
    "    S= max(sum(x_list),1.0);\n",
    "    temp_list = []\n",
    "    h_list = []\n",
    "    for i in range(Agent_number_n):\n",
    "        temp = []\n",
    "        for j in range(Agent_number_n):\n",
    "            if(i!=j):\n",
    "                temp.append(x_list[j])\n",
    "        appen(temp,S)\n",
    "        \n",
    "        h = h_function_label(temp)\n",
    "        h_list.append(float(h))\n",
    "    temp_list = np.array(temp_list)\n",
    "    x_list = np.array(x_list)\n",
    "    return temp_list,S,x_list,h_list\n",
    "    \n",
    "\n",
    "def appen_test(x_list):\n",
    "    global temp_list\n",
    "                \n",
    "    S= max(sum(x_list),1.0);\n",
    "    temp_list = []\n",
    "    \n",
    "    for i in range(Agent_number_n):\n",
    "        temp = []\n",
    "        for j in range(Agent_number_n):\n",
    "            if(i!=j):\n",
    "                temp.append(x_list[j])\n",
    "        appen(temp,S)\n",
    "    testing_data.append(temp_list)\n",
    "    testing_label.append(S)\n",
    "    temp_list = np.array(temp_list)\n",
    "    return temp_list,S\n",
    "    \n",
    "\n",
    "def read_testing_data():\n",
    "    for i in range(1000):\n",
    "        appen_test(Generate_distribution(Agent_number_n));\n",
    "                        \n",
    "            \n",
    "\n",
    "testing_data=[]\n",
    "testing_label=[]\n",
    "S=1.0\n",
    "read_testing_data();\n",
    "\n",
    "testing_data=np.array(testing_data)\n",
    "testing_label=np.array(testing_label)\n",
    "print(testing_data)\n",
    "print(testing_label)"
   ]
  },
  {
   "cell_type": "code",
   "execution_count": 5,
   "metadata": {
    "ExecuteTime": {
     "end_time": "2021-07-13T03:35:07.280111Z",
     "start_time": "2021-07-13T03:35:07.250164Z"
    }
   },
   "outputs": [],
   "source": [
    "def weight_init(m):\n",
    "    if isinstance(m, torch.nn.Conv2d):\n",
    "        torch.nn.init.xavier_normal_(m.weight)\n",
    "        torch.nn.init.zeros_(m.bias)\n",
    "    elif isinstance(m, torch.nn.Linear):\n",
    "        torch.nn.init.xavier_normal_(m.weight)\n",
    "        torch.nn.init.normal_(m.bias, mean=0.0, std=0.01)\n",
    "\n",
    "class Net(torch.nn.Module):\n",
    "    def __init__(self):\n",
    "\n",
    "        super(Net, self).__init__()\n",
    "        \n",
    "        self.input_dim = new_input# (Agent_number_n-1)\n",
    "        self.hidden_dim = 128\n",
    "        self.output_dim = 1\n",
    "        self.hidden_layer_count = 6 \n",
    "        \n",
    "        current_dim = self.input_dim\n",
    "        self.layers = torch.nn.ModuleList()\n",
    "        for i in range(self.hidden_layer_count):\n",
    "            self.layers.append(torch.nn.Linear(current_dim, self.hidden_dim))\n",
    "            current_dim = self.hidden_dim\n",
    "        self.layers.append(torch.nn.Linear(current_dim, self.output_dim))\n",
    "\n",
    "    def calculate(self, value_list):\n",
    "        h = Dimensionality_reduction(value_list)\n",
    "        for layer in self.layers:\n",
    "            h = torch.relu(layer(h))\n",
    "        return h\n",
    "\n",
    "    def forward(self, input_list,input_label,list_x):\n",
    "        global iteration,echo,target_order\n",
    "        loss1 = 0\n",
    "        loss2 = 0\n",
    "        loss3 = 0\n",
    "        input_list = torch.from_numpy(\n",
    "            np.array(input_list)).to(dev).type(torch.float32)\n",
    "        h_list = []\n",
    "\n",
    "        for i in range(Agent_number_n):\n",
    "            h = self.calculate(input_list[i])\n",
    "            h_list.append(h)\n",
    "#             loss3 += torch.square(h_function_2(input_list)-h2[1])\n",
    "            \n",
    "        input_label = torch.from_numpy(\n",
    "            np.array(input_label)).to(dev).type(torch.float32)\n",
    "        sum_h = torch.sum(torch.cat(h_list)).to(dev)\n",
    "\n",
    "\n",
    "        loss1 = torch.where((Agent_number_n-1)*input_label>sum_h,\n",
    "                        torch.square(((Agent_number_n-1)*input_label-sum_h)),\n",
    "                        torch.zeros(1).to(dev)\n",
    "                      )\n",
    "\n",
    "        loss2 = torch.where((Agent_number_n-Alpha)*input_label<sum_h,\n",
    "                        torch.square((sum_h-(Agent_number_n-Alpha)*input_label))/100,\n",
    "                        torch.zeros(1).to(dev)\n",
    "                      )\n",
    "\n",
    "\n",
    "        return loss1,loss2\n",
    "    \n",
    "    def supervised_loss(self, input_list,label):\n",
    "        global iteration,echo,target_order\n",
    "        input_list = torch.from_numpy(\n",
    "            np.array(input_list)).to(dev).type(torch.float32)\n",
    "        loss = 0 \n",
    "        for i in range(Agent_number_n):\n",
    "            h = self.calculate(input_list[i])\n",
    "            loss += torch.square(h - label[i])\n",
    "        return loss"
   ]
  },
  {
   "cell_type": "code",
   "execution_count": 6,
   "metadata": {
    "ExecuteTime": {
     "end_time": "2021-07-13T03:35:07.515976Z",
     "start_time": "2021-07-13T03:35:07.282080Z"
    }
   },
   "outputs": [],
   "source": [
    "def redistribution_value_function(input_tensor):\n",
    "    S = torch.max(torch.sum(input_tensor), torch.ones(1).to(dev))\n",
    "    temp_list = []\n",
    "\n",
    "\n",
    "    for i in range(Agent_number_n):\n",
    "        temp = []\n",
    "        \n",
    "        for j in range(Agent_number_n):\n",
    "            if(i != j):\n",
    "                temp .append(input_tensor[j])\n",
    "                \n",
    "        temp = torch.stack(temp)\n",
    "        temp_list.append(temp)\n",
    "    return torch.stack(temp_list), S\n",
    "\n",
    "GeneratorNet = nn.Sequential(                      # Generator\n",
    "    # random ideas (could from normal distribution)\n",
    "    nn.Linear(N_IDEAS, 64),\n",
    "    nn.ReLU(),\n",
    "    nn.Linear(64, 64),\n",
    "    nn.ReLU(),\n",
    "    nn.Linear(64, 64),\n",
    "    nn.ReLU(),\n",
    "    # making a painting from these random ideas\n",
    "    nn.Linear(64, ART_COMPONENTS),\n",
    "    nn.Sigmoid(),\n",
    ")"
   ]
  },
  {
   "cell_type": "code",
   "execution_count": 7,
   "metadata": {
    "ExecuteTime": {
     "end_time": "2021-07-13T03:35:18.221762Z",
     "start_time": "2021-07-13T03:35:07.519965Z"
    },
    "run_control": {
     "marked": false
    }
   },
   "outputs": [],
   "source": [
    "random.seed(2000)\n",
    "torch.manual_seed(256)\n",
    "DiscriminatorNet  = Net()\n",
    "DiscriminatorNet.apply(weight_init)\n",
    "GeneratorNet.apply(weight_init)\n",
    "DiscriminatorNet = torch.load(\"save/Deep_learning_D_9_supervised\")\n",
    "if(Is_GAN):\n",
    "    GeneratorNet = torch.load(\"save/Deep_learning_G_9\")\n",
    "DiscriminatorNet.to(dev)\n",
    "GeneratorNet.to(dev)\n",
    "\n",
    "opt_D = torch.optim.Adam(DiscriminatorNet.parameters(), lr=LR_D)\n",
    "opt_G = torch.optim.Adam(GeneratorNet.parameters(), lr=LR_G)\n",
    "\n",
    "\n",
    "scheduler_D = torch.optim.lr_scheduler.StepLR(opt_D, step_size=100, gamma=0.98)\n",
    "scheduler_G = torch.optim.lr_scheduler.StepLR(opt_G, step_size=100, gamma=0.98)\n",
    "\n",
    "index_train_list = []\n",
    "index_test_list = []\n",
    "train_losses = []\n",
    "test_losses = []"
   ]
  },
  {
   "cell_type": "code",
   "execution_count": 8,
   "metadata": {
    "ExecuteTime": {
     "end_time": "2021-07-13T03:36:58.629730Z",
     "start_time": "2021-07-13T03:35:18.221762Z"
    }
   },
   "outputs": [
    {
     "name": "stdout",
     "output_type": "stream",
     "text": [
      "0 tensor(0.0199, device='cuda:0', grad_fn=<DivBackward0>) 1.2766387462615967\n",
      "100 tensor(0.0029, device='cuda:0', grad_fn=<DivBackward0>) 0.18647035956382751\n"
     ]
    }
   ],
   "source": [
    "#supervised\n",
    "index_supervisedtrain_list = []\n",
    "supervisedtrain_losses = []\n",
    "for iteration in range(echo):\n",
    "\n",
    "    temp_number = 0\n",
    "    total_batch_loss = 0 \n",
    "    \n",
    "    loss_sum = 0\n",
    "    denominator = 0\n",
    "    for index in range(0, BATCH_SIZE):\n",
    "        training_data_i, training_S, training_data,label = appen_train(\n",
    "            Generate_distribution(Agent_number_n))\n",
    "        h_loss = DiscriminatorNet.supervised_loss(training_data_i, label)\n",
    "        denominator += 1\n",
    "        loss_sum += h_loss\n",
    "\n",
    "    loss_sum = torch.sum(loss_sum)\n",
    "    loss = (loss_sum) / denominator \n",
    "    total_batch_loss += float(loss_sum)\n",
    "\n",
    "    opt_D.zero_grad()\n",
    "    loss.backward()\n",
    "    opt_D.step()\n",
    "\n",
    "    if (iteration%100 == 0):\n",
    "        print(iteration,loss,total_batch_loss)\n",
    "        index_supervisedtrain_list.append(iteration)\n",
    "        supervisedtrain_losses.append(total_batch_loss)\n",
    "    scheduler_D.step()"
   ]
  },
  {
   "cell_type": "code",
   "execution_count": 9,
   "metadata": {
    "ExecuteTime": {
     "end_time": "2021-07-13T03:36:58.880897Z",
     "start_time": "2021-07-13T03:36:58.630727Z"
    }
   },
   "outputs": [
    {
     "data": {
      "image/png": "[encoded data removed]",
      "text/plain": [
       "<Figure size 432x288 with 1 Axes>"
      ]
     },
     "metadata": {
      "needs_background": "light"
     },
     "output_type": "display_data"
    }
   ],
   "source": [
    "plt.ylim(0, 0.1)\n",
    "plt.plot(index_supervisedtrain_list ,supervisedtrain_losses)\n",
    "plt.ylabel('supervised train loss')\n",
    "\n",
    "plt.show()"
   ]
  },
  {
   "cell_type": "code",
   "execution_count": 10,
   "metadata": {
    "ExecuteTime": {
     "end_time": "2021-07-13T03:36:58.918192Z",
     "start_time": "2021-07-13T03:36:58.880897Z"
    }
   },
   "outputs": [],
   "source": [
    "if(echo!=0):\n",
    "    torch.save(DiscriminatorNet, \"save/Deep_learning_D_9_supervised\")\n",
    "    if(Is_GAN):\n",
    "        torch.save(GeneratorNet, \"save/Deep_learning_G_9\")"
   ]
  },
  {
   "cell_type": "code",
   "execution_count": 11,
   "metadata": {
    "ExecuteTime": {
     "end_time": "2021-07-13T03:36:58.933812Z",
     "start_time": "2021-07-13T03:36:58.918192Z"
    }
   },
   "outputs": [],
   "source": [
    "opt_D = torch.optim.Adam(DiscriminatorNet.parameters(), lr=LR_D/100)\n",
    "opt_G = torch.optim.Adam(GeneratorNet.parameters(), lr=LR_G/100)\n",
    "scheduler_D = torch.optim.lr_scheduler.StepLR(opt_D, step_size=100, gamma=0.98)\n",
    "scheduler_G = torch.optim.lr_scheduler.StepLR(opt_G, step_size=100, gamma=0.98)"
   ]
  },
  {
   "cell_type": "code",
   "execution_count": 12,
   "metadata": {
    "ExecuteTime": {
     "end_time": "2021-07-13T03:42:59.240987Z",
     "start_time": "2021-07-13T03:36:58.933812Z"
    }
   },
   "outputs": [
    {
     "name": "stdout",
     "output_type": "stream",
     "text": [
      "0\n",
      "Gan: tensor(-0.0920, device='cuda:0', grad_fn=<MaxBackward1>) tensor([0.], device='cuda:0', grad_fn=<AddBackward0>)\n",
      "\n",
      "50\n",
      "Gan: tensor(-0.0777, device='cuda:0', grad_fn=<MaxBackward1>) tensor([0.], device='cuda:0', grad_fn=<AddBackward0>)\n",
      "\n",
      "100\n",
      "Gan: tensor(-0.0736, device='cuda:0', grad_fn=<MaxBackward1>) tensor([0.], device='cuda:0', grad_fn=<AddBackward0>)\n",
      "\n"
     ]
    }
   ],
   "source": [
    "for iteration in range(int(echo)):\n",
    "\n",
    "    temp_number = 0\n",
    "    total_batch_loss = 0 \n",
    "    \n",
    "    loss2_list = []\n",
    "    loss1_sum = 0\n",
    "    loss2_sum = 0\n",
    "    loss = 0\n",
    "    if(Is_GAN==False):\n",
    "        denominator = 0\n",
    "        for index in range(0, BATCH_SIZE):\n",
    "            training_data_i, training_label, training_data, label = appen_train(\n",
    "                Generate_distribution(Agent_number_n))\n",
    "            h_loss1, h_loss2 = DiscriminatorNet(training_data_i, training_label,\n",
    "                                           training_data)\n",
    "            denominator += 1\n",
    "            loss1_sum += h_loss1\n",
    "            loss2_sum += h_loss2\n",
    "\n",
    "        loss_sum = torch.sum(loss1_sum + loss2_sum)\n",
    "        loss = (loss_sum) / denominator \n",
    "        total_batch_loss +=float(loss_sum)\n",
    "\n",
    "        opt_D.zero_grad()\n",
    "        loss.backward()\n",
    "        opt_D.step()\n",
    "\n",
    "        temp_number = iteration\n",
    "        index_train_list.append(iteration)\n",
    "        train_losses.append(total_batch_loss)\n",
    "\n",
    "\n",
    "    ## Gan \n",
    "    else:## Gan Work traning GeneratorNet\n",
    "\n",
    "        # real painting from artist\n",
    "        G_ideas = torch.randn(BATCH_SIZE, N_IDEAS,\n",
    "                              requires_grad=True).to(dev)  # random ideas\\n\n",
    "        # fake painting from G (random ideas)\n",
    "\n",
    "        G_values = GeneratorNet(G_ideas)\n",
    "        G_values , indices = torch.sort(G_values, descending=True)\n",
    "    #     print(artist_paintings)\n",
    "    #     print(G_paintings)\n",
    "\n",
    "        result_list = []\n",
    "        for index in range(BATCH_SIZE):\n",
    "            h_list = []\n",
    "            value_list_tensor, S_tensor = redistribution_value_function(\n",
    "                G_values[index])\n",
    "            for i in range(Agent_number_n):\n",
    "                h = DiscriminatorNet.calculate(\n",
    "                    value_list_tensor[i].cuda().type(torch.float32))\n",
    "                h_list.append(h)\n",
    "            h_list = torch.stack(h_list)\n",
    "            result_list.append(torch.sum(h_list)/S_tensor.cuda())\n",
    "        result_list = torch.stack(result_list)\n",
    "\n",
    "        diff_loss = torch.max(result_list)-torch.min(result_list)\n",
    "        G_loss = torch.max(- diff_loss)\n",
    "\n",
    "        opt_G.zero_grad()\n",
    "        G_loss.backward()\n",
    "        opt_G.step()\n",
    "\n",
    "    # real painting from artist\n",
    "        G_ideas = torch.randn(BATCH_SIZE, N_IDEAS,\n",
    "                              requires_grad=True).to(dev)  # random ideas\\n\n",
    "        # fake painting from G (random ideas)\n",
    "\n",
    "        G_values = GeneratorNet(G_ideas)\n",
    "        G_values , indices = torch.sort(G_values, descending=True)\n",
    "    #     print(artist_paintings)\n",
    "    #     print(G_paintings)\n",
    "\n",
    "        result_list = []\n",
    "        for index in range(BATCH_SIZE):\n",
    "            h_list = []\n",
    "            value_list_tensor, S_tensor = redistribution_value_function(\n",
    "                G_values[index])\n",
    "            for i in range(Agent_number_n):\n",
    "                h = DiscriminatorNet.calculate(\n",
    "                    value_list_tensor[i].cuda().type(torch.float32))\n",
    "                h_list.append(h)\n",
    "            h_list = torch.stack(h_list)\n",
    "            result_list.append(torch.sum(h_list)/S_tensor.cuda())\n",
    "        result_list = torch.stack(result_list)\n",
    "\n",
    "        diff_loss = torch.max(result_list)-torch.min(result_list)\n",
    "\n",
    "        D_loss = torch.where((Agent_number_n-1)>torch.min(result_list),\n",
    "            torch.square(((Agent_number_n-1)-torch.min(result_list))),\n",
    "            torch.zeros(1).to(dev)\n",
    "          )   + torch.where((Agent_number_n-Alpha)<torch.max(result_list),\n",
    "                        torch.square((torch.max(result_list)-(Agent_number_n-Alpha)))/10000,\n",
    "                        torch.zeros(1).to(dev)\n",
    "                      )\n",
    "\n",
    "\n",
    "        opt_D.zero_grad()\n",
    "        D_loss.backward()\n",
    "        opt_D.step()\n",
    "\n",
    "\n",
    "\n",
    "    scheduler_D.step()\n",
    "    scheduler_G.step()\n",
    "    temp_number = iteration\n",
    "    if (iteration%50 == 0):\n",
    "        print(temp_number)\n",
    "        if(Is_GAN):\n",
    "            print(\"Gan:\",G_loss,D_loss)\n",
    "            print()\n",
    "        else:\n",
    "            print(loss,float(loss1_sum),float(loss2_sum))\n",
    "            print()\n",
    "        "
   ]
  },
  {
   "cell_type": "code",
   "execution_count": 13,
   "metadata": {
    "ExecuteTime": {
     "end_time": "2021-07-13T03:42:59.460462Z",
     "start_time": "2021-07-13T03:42:59.242225Z"
    }
   },
   "outputs": [
    {
     "data": {
      "image/png": "[encoded data removed]",
      "text/plain": [
       "<Figure size 432x288 with 1 Axes>"
      ]
     },
     "metadata": {
      "needs_background": "light"
     },
     "output_type": "display_data"
    }
   ],
   "source": [
    "plt.ylim(0, 1.0)\n",
    "plt.plot(index_test_list,test_losses)\n",
    "plt.ylabel('test loss')\n",
    "\n",
    "plt.show()"
   ]
  },
  {
   "cell_type": "code",
   "execution_count": 14,
   "metadata": {
    "ExecuteTime": {
     "end_time": "2021-07-13T03:42:59.478143Z",
     "start_time": "2021-07-13T03:42:59.462474Z"
    }
   },
   "outputs": [],
   "source": [
    "if(echo!=0):\n",
    "    torch.save(DiscriminatorNet, \"save/Deep_learning_D_9_supervised_1\")\n",
    "    if(Is_GAN):\n",
    "        torch.save(GeneratorNet, \"save/Deep_learning_G_9\")"
   ]
  },
  {
   "cell_type": "code",
   "execution_count": 15,
   "metadata": {
    "ExecuteTime": {
     "end_time": "2021-07-13T03:43:07.624522Z",
     "start_time": "2021-07-13T03:42:59.479312Z"
    }
   },
   "outputs": [
    {
     "name": "stdout",
     "output_type": "stream",
     "text": [
      "8.294064447699759 7.934377876497717 0.35968657120204206\n",
      "8.01706698504216\n"
     ]
    }
   ],
   "source": [
    "denominator = 0\n",
    "result_list = []\n",
    "for index in range(len(testing_data)):\n",
    "    h_list = []\n",
    "    for i in range(Agent_number_n):\n",
    "        h = DiscriminatorNet.calculate(torch.tensor(testing_data[index][i]).to(dev).type(torch.float32))\n",
    "        h_list.append(float(h))\n",
    "    \n",
    "    #print(sum(h_list),h_list,sum(h_list)/testing_label[index])\n",
    "    result_list.append(sum(h_list)/testing_label[index])\n",
    "    \n",
    "\n",
    "print(max(result_list),min(result_list),max(result_list)-min(result_list))\n",
    "print(sum(result_list)/len(result_list))"
   ]
  },
  {
   "cell_type": "code",
   "execution_count": 16,
   "metadata": {
    "ExecuteTime": {
     "end_time": "2021-07-13T03:43:08.427725Z",
     "start_time": "2021-07-13T03:43:07.624522Z"
    }
   },
   "outputs": [
    {
     "data": {
      "image/png": "[encoded data removed]",
      "text/plain": [
       "<Figure size 432x288 with 1 Axes>"
      ]
     },
     "metadata": {
      "needs_background": "light"
     },
     "output_type": "display_data"
    }
   ],
   "source": [
    "plt.hist(result_list,bins=500)\n",
    "\n",
    "plt.title(\"Means\", y=1.015, fontsize=20)\n",
    "plt.axvline(x=sum(result_list)/len(result_list), linestyle='--', linewidth=2.5, label=\"sample mean\", c='orange')\n",
    "plt.xlabel(\"samples\", labelpad=14)\n",
    "plt.ylabel(\"frequency of occurence\", labelpad=14)\n",
    "plt.legend();\n",
    "\n",
    "result_list.sort()\n",
    "\n",
    "plt.axvline(x=result_list[int(len(result_list)*0.01)], linestyle='--', linewidth=0.5, label=\"1%\", c='b')\n",
    "plt.axvline(x=result_list[int(len(result_list)*0.99)], linestyle='--', linewidth=0.5, label=\"99%\", c='r')\n",
    "\n",
    "\n",
    "plt.show()"
   ]
  },
  {
   "cell_type": "code",
   "execution_count": 17,
   "metadata": {
    "ExecuteTime": {
     "end_time": "2021-07-13T03:44:02.891241Z",
     "start_time": "2021-07-13T03:43:08.427725Z"
    },
    "run_control": {
     "marked": true
    }
   },
   "outputs": [
    {
     "name": "stdout",
     "output_type": "stream",
     "text": [
      "[[[0.5346754  0.50017387 0.4998291  ... 0.46377438 0.41453412 0.3782239 ]\n",
      "  [0.56725323 0.50017387 0.4998291  ... 0.46377438 0.41453412 0.3782239 ]\n",
      "  [0.56725323 0.5346754  0.4998291  ... 0.46377438 0.41453412 0.3782239 ]\n",
      "  ...\n",
      "  [0.56725323 0.5346754  0.50017387 ... 0.47891566 0.41453412 0.3782239 ]\n",
      "  [0.56725323 0.5346754  0.50017387 ... 0.47891566 0.46377438 0.3782239 ]\n",
      "  [0.56725323 0.5346754  0.50017387 ... 0.47891566 0.46377438 0.41453412]]\n",
      "\n",
      " [[0.58079386 0.530014   0.5271637  ... 0.42724124 0.3601268  0.35351   ]\n",
      "  [0.70552266 0.530014   0.5271637  ... 0.42724124 0.3601268  0.35351   ]\n",
      "  [0.70552266 0.58079386 0.5271637  ... 0.42724124 0.3601268  0.35351   ]\n",
      "  ...\n",
      "  [0.70552266 0.58079386 0.530014   ... 0.44274163 0.3601268  0.35351   ]\n",
      "  [0.70552266 0.58079386 0.530014   ... 0.44274163 0.42724124 0.35351   ]\n",
      "  [0.70552266 0.58079386 0.530014   ... 0.44274163 0.42724124 0.3601268 ]]\n",
      "\n",
      " [[0.5500702  0.5097001  0.50610644 ... 0.44793013 0.42941278 0.42432404]\n",
      "  [0.5986917  0.5097001  0.50610644 ... 0.44793013 0.42941278 0.42432404]\n",
      "  [0.5986917  0.5500702  0.50610644 ... 0.44793013 0.42941278 0.42432404]\n",
      "  ...\n",
      "  [0.5986917  0.5500702  0.5097001  ... 0.4985807  0.42941278 0.42432404]\n",
      "  [0.5986917  0.5500702  0.5097001  ... 0.4985807  0.44793013 0.42432404]\n",
      "  [0.5986917  0.5500702  0.5097001  ... 0.4985807  0.44793013 0.42941278]]\n",
      "\n",
      " ...\n",
      "\n",
      " [[0.539751   0.52186173 0.5122913  ... 0.48436478 0.48194426 0.45108745]\n",
      "  [0.54195154 0.52186173 0.5122913  ... 0.48436478 0.48194426 0.45108745]\n",
      "  [0.54195154 0.539751   0.5122913  ... 0.48436478 0.48194426 0.45108745]\n",
      "  ...\n",
      "  [0.54195154 0.539751   0.52186173 ... 0.49513695 0.48194426 0.45108745]\n",
      "  [0.54195154 0.539751   0.52186173 ... 0.49513695 0.48436478 0.45108745]\n",
      "  [0.54195154 0.539751   0.52186173 ... 0.49513695 0.48436478 0.48194426]]\n",
      "\n",
      " [[0.53921133 0.528236   0.51996654 ... 0.4766441  0.44853032 0.4427964 ]\n",
      "  [0.5624227  0.528236   0.51996654 ... 0.4766441  0.44853032 0.4427964 ]\n",
      "  [0.5624227  0.53921133 0.51996654 ... 0.4766441  0.44853032 0.4427964 ]\n",
      "  ...\n",
      "  [0.5624227  0.53921133 0.528236   ... 0.4825494  0.44853032 0.4427964 ]\n",
      "  [0.5624227  0.53921133 0.528236   ... 0.4825494  0.4766441  0.4427964 ]\n",
      "  [0.5624227  0.53921133 0.528236   ... 0.4825494  0.4766441  0.44853032]]\n",
      "\n",
      " [[0.57897687 0.5320502  0.53184646 ... 0.4621321  0.45193928 0.42933014]\n",
      "  [0.6341759  0.5320502  0.53184646 ... 0.4621321  0.45193928 0.42933014]\n",
      "  [0.6341759  0.57897687 0.53184646 ... 0.4621321  0.45193928 0.42933014]\n",
      "  ...\n",
      "  [0.6341759  0.57897687 0.5320502  ... 0.4714523  0.45193928 0.42933014]\n",
      "  [0.6341759  0.57897687 0.5320502  ... 0.4714523  0.4621321  0.42933014]\n",
      "  [0.6341759  0.57897687 0.5320502  ... 0.4714523  0.4621321  0.45193928]]]\n",
      "[4.33664799 4.43675184 4.46770284 ... 4.52696928 4.51868168 4.61017969]\n"
     ]
    }
   ],
   "source": [
    "def appen_test_G(x_list):\n",
    "    global temp_list\n",
    "                \n",
    "    S= max(sum(x_list),1.0);\n",
    "    temp_list = []\n",
    "    \n",
    "    for i in range(Agent_number_n):\n",
    "        temp = []\n",
    "        for j in range(Agent_number_n):\n",
    "            if(i!=j):\n",
    "                temp.append(x_list[j])\n",
    "        appen(temp,S)\n",
    "    testing_data_G.append(temp_list)\n",
    "    testing_label_G.append(S)\n",
    "def read_testing_data_G():\n",
    "    for i in range(100000):\n",
    "        #appen_test_G(sorted(np.random.rand(Agent_number_n), reverse=True));\n",
    "        G_ideas = torch.randn(N_IDEAS).to(dev)  # random ideas\\n\n",
    "        G_values = GeneratorNet(G_ideas)\n",
    "        G_values , indices = torch.sort(G_values, descending=True)\n",
    "        appen_test_G(G_values.detach().cpu().numpy()) \n",
    "\n",
    "testing_data_G = []\n",
    "testing_label_G = []\n",
    "read_testing_data_G()\n",
    "testing_data_G=np.array(testing_data_G)\n",
    "testing_label_G=np.array(testing_label_G)\n",
    "print(testing_data_G)\n",
    "print(testing_label_G)"
   ]
  },
  {
   "cell_type": "code",
   "execution_count": 18,
   "metadata": {
    "ExecuteTime": {
     "end_time": "2021-07-13T03:58:03.002395Z",
     "start_time": "2021-07-13T03:44:02.891957Z"
    }
   },
   "outputs": [
    {
     "name": "stdout",
     "output_type": "stream",
     "text": [
      "8.16078455518282 8.03066558932736 0.1301189658554609\n",
      "8.122964081809958\n"
     ]
    }
   ],
   "source": [
    "\n",
    "result_list_G = []\n",
    "for index in range(len(testing_data_G)):\n",
    "    h_list = []\n",
    "    for i in range(Agent_number_n):\n",
    "        h = DiscriminatorNet.calculate(torch.tensor(testing_data_G[index][i]).to(dev).type(torch.float32))\n",
    "        h_list.append(float(h))\n",
    "    \n",
    "    #print(sum(h_list),h_list,sum(h_list)/testing_label[index])\n",
    "    result_list_G.append(sum(h_list)/testing_label_G[index])\n",
    "    \n",
    "\n",
    "print(max(result_list_G),min(result_list_G),max(result_list_G)-min(result_list_G))\n",
    "print(sum(result_list_G)/len(result_list_G))"
   ]
  },
  {
   "cell_type": "code",
   "execution_count": 20,
   "metadata": {
    "ExecuteTime": {
     "end_time": "2021-07-13T04:10:47.107051Z",
     "start_time": "2021-07-13T04:10:46.100644Z"
    }
   },
   "outputs": [
    {
     "data": {
      "image/png": "[encoded data removed]",
      "text/plain": [
       "<Figure size 432x288 with 1 Axes>"
      ]
     },
     "metadata": {
      "needs_background": "light"
     },
     "output_type": "display_data"
    }
   ],
   "source": [
    "plt.hist(result_list_G,bins=500)\n",
    "\n",
    "plt.title(\"Means\", y=1.015, fontsize=20)\n",
    "plt.axvline(x=sum(result_list_G)/len(result_list_G), linestyle='--', linewidth=2.5, label=\"sample mean\", c='orange')\n",
    "plt.xlabel(\"samples\", labelpad=14)\n",
    "plt.ylabel(\"frequency of occurence\", labelpad=14)\n",
    "plt.legend();\n",
    "\n",
    "\n",
    "plt.show()"
   ]
  },
  {
   "cell_type": "code",
   "execution_count": 27,
   "metadata": {
    "ExecuteTime": {
     "end_time": "2021-07-13T04:25:01.027631Z",
     "start_time": "2021-07-13T04:25:00.120516Z"
    }
   },
   "outputs": [
    {
     "name": "stdout",
     "output_type": "stream",
     "text": [
      "8.294064447699759 7.934377876497717 0.35968657120204206\n"
     ]
    },
    {
     "data": {
      "image/png": "[encoded data removed]",
      "text/plain": [
       "<Figure size 432x288 with 1 Axes>"
      ]
     },
     "metadata": {
      "needs_background": "light"
     },
     "output_type": "display_data"
    }
   ],
   "source": [
    "final_list = result_list + result_list_G\n",
    "print(max(final_list),min(final_list),max(final_list)-min(final_list))\n",
    "\n",
    "plt.hist(final_list,bins=500)\n",
    "\n",
    "plt.title(\"Means\", y=1.015, fontsize=20)\n",
    "plt.axvline(x=sum(final_list)/len(final_list), linestyle='--', linewidth=2.5, label=\"sample mean\", c='orange')\n",
    "plt.xlabel(\"samples\", labelpad=14)\n",
    "plt.ylabel(\"frequency of occurence\", labelpad=14)\n",
    "plt.legend();\n",
    "\n",
    "final_list.sort()\n",
    "\n",
    "plt.axvline(x=final_list[int(len(final_list)*0.01)], linestyle='--', linewidth=0.5, label=\"1%\", c='b')\n",
    "plt.axvline(x=final_list[int(len(final_list)*0.99)], linestyle='--', linewidth=0.5, label=\"99%\", c='r')\n",
    "\n",
    "\n",
    "plt.show()"
   ]
  },
  {
   "cell_type": "code",
   "execution_count": 28,
   "metadata": {
    "ExecuteTime": {
     "end_time": "2021-07-13T04:25:06.641549Z",
     "start_time": "2021-07-13T04:25:01.893804Z"
    }
   },
   "outputs": [
    {
     "name": "stdout",
     "output_type": "stream",
     "text": [
      "[[[0.79826129 0.71217432 0.6725797  ... 0.33807532 0.30008792 0.03820655]\n",
      "  [0.81560385 0.71217432 0.6725797  ... 0.33807532 0.30008792 0.03820655]\n",
      "  [0.81560385 0.79826129 0.6725797  ... 0.33807532 0.30008792 0.03820655]\n",
      "  ...\n",
      "  [0.81560385 0.79826129 0.71217432 ... 0.53219402 0.30008792 0.03820655]\n",
      "  [0.81560385 0.79826129 0.71217432 ... 0.53219402 0.33807532 0.03820655]\n",
      "  [0.81560385 0.79826129 0.71217432 ... 0.53219402 0.33807532 0.30008792]]\n",
      "\n",
      " [[0.56644042 0.44890397 0.38973809 ... 0.07457346 0.03384715 0.02306089]\n",
      "  [0.90326188 0.44890397 0.38973809 ... 0.07457346 0.03384715 0.02306089]\n",
      "  [0.90326188 0.56644042 0.38973809 ... 0.07457346 0.03384715 0.02306089]\n",
      "  ...\n",
      "  [0.90326188 0.56644042 0.44890397 ... 0.18949887 0.03384715 0.02306089]\n",
      "  [0.90326188 0.56644042 0.44890397 ... 0.18949887 0.07457346 0.02306089]\n",
      "  [0.90326188 0.56644042 0.44890397 ... 0.18949887 0.07457346 0.03384715]]\n",
      "\n",
      " [[0.84902808 0.81696436 0.63703538 ... 0.19398048 0.10479223 0.09351937]\n",
      "  [0.90883827 0.81696436 0.63703538 ... 0.19398048 0.10479223 0.09351937]\n",
      "  [0.90883827 0.84902808 0.63703538 ... 0.19398048 0.10479223 0.09351937]\n",
      "  ...\n",
      "  [0.90883827 0.84902808 0.81696436 ... 0.33740048 0.10479223 0.09351937]\n",
      "  [0.90883827 0.84902808 0.81696436 ... 0.33740048 0.19398048 0.09351937]\n",
      "  [0.90883827 0.84902808 0.81696436 ... 0.33740048 0.19398048 0.10479223]]\n",
      "\n",
      " ...\n",
      "\n",
      " [[0.44917423 0.35332033 0.3412892  ... 0.18573521 0.15844312 0.0348729 ]\n",
      "  [0.72304571 0.35332033 0.3412892  ... 0.18573521 0.15844312 0.0348729 ]\n",
      "  [0.72304571 0.44917423 0.3412892  ... 0.18573521 0.15844312 0.0348729 ]\n",
      "  ...\n",
      "  [0.72304571 0.44917423 0.35332033 ... 0.19900633 0.15844312 0.0348729 ]\n",
      "  [0.72304571 0.44917423 0.35332033 ... 0.19900633 0.18573521 0.0348729 ]\n",
      "  [0.72304571 0.44917423 0.35332033 ... 0.19900633 0.18573521 0.15844312]]\n",
      "\n",
      " [[0.63102251 0.61471494 0.39614091 ... 0.30830859 0.30172021 0.15470537]\n",
      "  [0.91842481 0.61471494 0.39614091 ... 0.30830859 0.30172021 0.15470537]\n",
      "  [0.91842481 0.63102251 0.39614091 ... 0.30830859 0.30172021 0.15470537]\n",
      "  ...\n",
      "  [0.91842481 0.63102251 0.61471494 ... 0.36565105 0.30172021 0.15470537]\n",
      "  [0.91842481 0.63102251 0.61471494 ... 0.36565105 0.30830859 0.15470537]\n",
      "  [0.91842481 0.63102251 0.61471494 ... 0.36565105 0.30830859 0.30172021]]\n",
      "\n",
      " [[0.93670377 0.86713714 0.76207607 ... 0.13728352 0.07097448 0.02748548]\n",
      "  [0.94637884 0.86713714 0.76207607 ... 0.13728352 0.07097448 0.02748548]\n",
      "  [0.94637884 0.93670377 0.76207607 ... 0.13728352 0.07097448 0.02748548]\n",
      "  ...\n",
      "  [0.94637884 0.93670377 0.86713714 ... 0.30642223 0.07097448 0.02748548]\n",
      "  [0.94637884 0.93670377 0.86713714 ... 0.30642223 0.13728352 0.02748548]\n",
      "  [0.94637884 0.93670377 0.86713714 ... 0.30642223 0.13728352 0.07097448]]]\n",
      "[4.80038519 2.85419039 4.46215776 ... 2.71672324 4.07709806 4.40501813]\n"
     ]
    }
   ],
   "source": [
    "def read_testing_data():\n",
    "    for i in range(100000):\n",
    "        appen_test(Generate_distribution(Agent_number_n));\n",
    "        \n",
    "testing_data=[]\n",
    "testing_label=[]\n",
    "S=1.0\n",
    "read_testing_data();\n",
    "\n",
    "testing_data=np.array(testing_data)\n",
    "testing_label=np.array(testing_label)\n",
    "print(testing_data)\n",
    "print(testing_label)"
   ]
  },
  {
   "cell_type": "code",
   "execution_count": 29,
   "metadata": {
    "ExecuteTime": {
     "end_time": "2021-07-13T04:40:22.155284Z",
     "start_time": "2021-07-13T04:25:07.500219Z"
    }
   },
   "outputs": [
    {
     "name": "stdout",
     "output_type": "stream",
     "text": [
      "8.372352881803389 7.169802188873291 1.2025506929300978\n",
      "8.018284120491222\n"
     ]
    }
   ],
   "source": [
    "denominator = 0\n",
    "result_list = []\n",
    "for index in range(len(testing_data)):\n",
    "    h_list = []\n",
    "    for i in range(Agent_number_n):\n",
    "        h = DiscriminatorNet.calculate(torch.tensor(testing_data[index][i]).to(dev).type(torch.float32))\n",
    "        h_list.append(float(h))\n",
    "    \n",
    "    #print(sum(h_list),h_list,sum(h_list)/testing_label[index])\n",
    "    result_list.append(sum(h_list)/testing_label[index])\n",
    "    \n",
    "\n",
    "print(max(result_list),min(result_list),max(result_list)-min(result_list))\n",
    "print(sum(result_list)/len(result_list))"
   ]
  },
  {
   "cell_type": "code",
   "execution_count": 30,
   "metadata": {
    "ExecuteTime": {
     "end_time": "2021-07-13T04:40:24.122583Z",
     "start_time": "2021-07-13T04:40:23.243376Z"
    }
   },
   "outputs": [
    {
     "data": {
      "image/png": "[encoded data removed]",
      "text/plain": [
       "<Figure size 432x288 with 1 Axes>"
      ]
     },
     "metadata": {
      "needs_background": "light"
     },
     "output_type": "display_data"
    }
   ],
   "source": [
    "plt.hist(result_list,bins=500)\n",
    "\n",
    "plt.title(\"Means\", y=1.015, fontsize=20)\n",
    "plt.axvline(x=sum(result_list)/len(result_list), linestyle='--', linewidth=2.5, label=\"sample mean\", c='orange')\n",
    "plt.xlabel(\"samples\", labelpad=14)\n",
    "plt.ylabel(\"frequency of occurence\", labelpad=14)\n",
    "plt.legend();\n",
    "\n",
    "result_list.sort()\n",
    "\n",
    "plt.axvline(x=result_list[int(len(result_list)*0.01)], linestyle='--', linewidth=0.5, label=\"1%\", c='b')\n",
    "plt.axvline(x=result_list[int(len(result_list)*0.99)], linestyle='--', linewidth=0.5, label=\"99%\", c='r')\n",
    "\n",
    "\n",
    "plt.show()"
   ]
  },
  {
   "cell_type": "code",
   "execution_count": 31,
   "metadata": {
    "ExecuteTime": {
     "end_time": "2021-07-13T04:41:23.811237Z",
     "start_time": "2021-07-13T04:40:25.247548Z"
    }
   },
   "outputs": [
    {
     "name": "stdout",
     "output_type": "stream",
     "text": [
      "[[[0.5321248  0.52274024 0.51342016 ... 0.4691121  0.4447386  0.40178412]\n",
      "  [0.53261983 0.52274024 0.51342016 ... 0.4691121  0.4447386  0.40178412]\n",
      "  [0.53261983 0.5321248  0.51342016 ... 0.4691121  0.4447386  0.40178412]\n",
      "  ...\n",
      "  [0.53261983 0.5321248  0.52274024 ... 0.4781803  0.4447386  0.40178412]\n",
      "  [0.53261983 0.5321248  0.52274024 ... 0.4781803  0.4691121  0.40178412]\n",
      "  [0.53261983 0.5321248  0.52274024 ... 0.4781803  0.4691121  0.4447386 ]]\n",
      "\n",
      " [[0.5566253  0.550502   0.54770416 ... 0.46684235 0.4135648  0.41013148]\n",
      "  [0.6313223  0.550502   0.54770416 ... 0.46684235 0.4135648  0.41013148]\n",
      "  [0.6313223  0.5566253  0.54770416 ... 0.46684235 0.4135648  0.41013148]\n",
      "  ...\n",
      "  [0.6313223  0.5566253  0.550502   ... 0.48802584 0.4135648  0.41013148]\n",
      "  [0.6313223  0.5566253  0.550502   ... 0.48802584 0.46684235 0.41013148]\n",
      "  [0.6313223  0.5566253  0.550502   ... 0.48802584 0.46684235 0.4135648 ]]\n",
      "\n",
      " [[0.5914569  0.5857195  0.49787652 ... 0.48068997 0.41627407 0.3921952 ]\n",
      "  [0.6810359  0.5857195  0.49787652 ... 0.48068997 0.41627407 0.3921952 ]\n",
      "  [0.6810359  0.5914569  0.49787652 ... 0.48068997 0.41627407 0.3921952 ]\n",
      "  ...\n",
      "  [0.6810359  0.5914569  0.5857195  ... 0.48324308 0.41627407 0.3921952 ]\n",
      "  [0.6810359  0.5914569  0.5857195  ... 0.48324308 0.48068997 0.3921952 ]\n",
      "  [0.6810359  0.5914569  0.5857195  ... 0.48324308 0.48068997 0.41627407]]\n",
      "\n",
      " ...\n",
      "\n",
      " [[0.5382455  0.5195128  0.5193227  ... 0.46745425 0.4292853  0.41679385]\n",
      "  [0.5561814  0.5195128  0.5193227  ... 0.46745425 0.4292853  0.41679385]\n",
      "  [0.5561814  0.5382455  0.5193227  ... 0.46745425 0.4292853  0.41679385]\n",
      "  ...\n",
      "  [0.5561814  0.5382455  0.5195128  ... 0.49884182 0.4292853  0.41679385]\n",
      "  [0.5561814  0.5382455  0.5195128  ... 0.49884182 0.46745425 0.41679385]\n",
      "  [0.5561814  0.5382455  0.5195128  ... 0.49884182 0.46745425 0.4292853 ]]\n",
      "\n",
      " [[0.58491856 0.5640392  0.5391089  ... 0.44116557 0.43696824 0.4108289 ]\n",
      "  [0.66251713 0.5640392  0.5391089  ... 0.44116557 0.43696824 0.4108289 ]\n",
      "  [0.66251713 0.58491856 0.5391089  ... 0.44116557 0.43696824 0.4108289 ]\n",
      "  ...\n",
      "  [0.66251713 0.58491856 0.5640392  ... 0.45165303 0.43696824 0.4108289 ]\n",
      "  [0.66251713 0.58491856 0.5640392  ... 0.45165303 0.44116557 0.4108289 ]\n",
      "  [0.66251713 0.58491856 0.5640392  ... 0.45165303 0.44116557 0.43696824]]\n",
      "\n",
      " [[0.59644485 0.5565754  0.5202409  ... 0.43566456 0.41036993 0.38390893]\n",
      "  [0.6010091  0.5565754  0.5202409  ... 0.43566456 0.41036993 0.38390893]\n",
      "  [0.6010091  0.59644485 0.5202409  ... 0.43566456 0.41036993 0.38390893]\n",
      "  ...\n",
      "  [0.6010091  0.59644485 0.5565754  ... 0.47070813 0.41036993 0.38390893]\n",
      "  [0.6010091  0.59644485 0.5565754  ... 0.47070813 0.43566456 0.38390893]\n",
      "  [0.6010091  0.59644485 0.5565754  ... 0.47070813 0.43566456 0.41036993]]]\n",
      "[4.39291283 4.57273486 4.61774796 ... 4.45588914 4.62674707 4.47173208]\n"
     ]
    }
   ],
   "source": [
    "def appen_test_G(x_list):\n",
    "    global temp_list\n",
    "                \n",
    "    S= max(sum(x_list),1.0);\n",
    "    temp_list = []\n",
    "    \n",
    "    for i in range(Agent_number_n):\n",
    "        temp = []\n",
    "        for j in range(Agent_number_n):\n",
    "            if(i!=j):\n",
    "                temp.append(x_list[j])\n",
    "        appen(temp,S)\n",
    "    testing_data_G.append(temp_list)\n",
    "    testing_label_G.append(S)\n",
    "def read_testing_data_G():\n",
    "    for i in range(100000):\n",
    "        #appen_test_G(sorted(np.random.rand(Agent_number_n), reverse=True));\n",
    "        G_ideas = torch.randn(N_IDEAS).to(dev)  # random ideas\\n\n",
    "        G_values = GeneratorNet(G_ideas)\n",
    "        G_values , indices = torch.sort(G_values, descending=True)\n",
    "        appen_test_G(G_values.detach().cpu().numpy()) \n",
    "\n",
    "testing_data_G = []\n",
    "testing_label_G = []\n",
    "read_testing_data_G()\n",
    "testing_data_G=np.array(testing_data_G)\n",
    "testing_label_G=np.array(testing_label_G)\n",
    "print(testing_data_G)\n",
    "print(testing_label_G)"
   ]
  },
  {
   "cell_type": "code",
   "execution_count": 32,
   "metadata": {
    "ExecuteTime": {
     "end_time": "2021-07-13T04:55:25.676605Z",
     "start_time": "2021-07-13T04:41:25.198440Z"
    }
   },
   "outputs": [
    {
     "name": "stdout",
     "output_type": "stream",
     "text": [
      "8.159823612923667 8.028819967702649 0.1310036452210177\n",
      "8.122958631702385\n"
     ]
    }
   ],
   "source": [
    "\n",
    "result_list_G = []\n",
    "for index in range(len(testing_data_G)):\n",
    "    h_list = []\n",
    "    for i in range(Agent_number_n):\n",
    "        h = DiscriminatorNet.calculate(torch.tensor(testing_data_G[index][i]).to(dev).type(torch.float32))\n",
    "        h_list.append(float(h))\n",
    "    \n",
    "    #print(sum(h_list),h_list,sum(h_list)/testing_label[index])\n",
    "    result_list_G.append(sum(h_list)/testing_label_G[index])\n",
    "    \n",
    "\n",
    "print(max(result_list_G),min(result_list_G),max(result_list_G)-min(result_list_G))\n",
    "print(sum(result_list_G)/len(result_list_G))"
   ]
  },
  {
   "cell_type": "code",
   "execution_count": 33,
   "metadata": {
    "ExecuteTime": {
     "end_time": "2021-07-13T04:55:27.554631Z",
     "start_time": "2021-07-13T04:55:26.713094Z"
    }
   },
   "outputs": [
    {
     "data": {
      "image/png": "[encoded data removed]",
      "text/plain": [
       "<Figure size 432x288 with 1 Axes>"
      ]
     },
     "metadata": {
      "needs_background": "light"
     },
     "output_type": "display_data"
    }
   ],
   "source": [
    "plt.hist(result_list_G,bins=500)\n",
    "\n",
    "plt.title(\"Means\", y=1.015, fontsize=20)\n",
    "plt.axvline(x=sum(result_list_G)/len(result_list_G), linestyle='--', linewidth=2.5, label=\"sample mean\", c='orange')\n",
    "plt.xlabel(\"samples\", labelpad=14)\n",
    "plt.ylabel(\"frequency of occurence\", labelpad=14)\n",
    "plt.legend();\n",
    "\n",
    "# result_list_G.sort()\n",
    "\n",
    "# plt.axvline(x=result_list[int(len(result_list_G)*0.01)], linestyle='--', linewidth=0.5, label=\"1%\", c='b')\n",
    "# plt.axvline(x=result_list[int(len(result_list_G)*0.99)], linestyle='--', linewidth=0.5, label=\"99%\", c='r')\n",
    "\n",
    "\n",
    "plt.show()"
   ]
  },
  {
   "cell_type": "code",
   "execution_count": 34,
   "metadata": {
    "ExecuteTime": {
     "end_time": "2021-07-13T04:55:29.393241Z",
     "start_time": "2021-07-13T04:55:28.509013Z"
    }
   },
   "outputs": [
    {
     "data": {
      "image/png": "[encoded data removed]",
      "text/plain": [
       "<Figure size 432x288 with 1 Axes>"
      ]
     },
     "metadata": {
      "needs_background": "light"
     },
     "output_type": "display_data"
    }
   ],
   "source": [
    "final_list = result_list + result_list_G\n",
    "\n",
    "\n",
    "plt.hist(final_list,bins=500)\n",
    "\n",
    "plt.title(\"Means\", y=1.015, fontsize=20)\n",
    "plt.axvline(x=sum(final_list)/len(final_list), linestyle='--', linewidth=2.5, label=\"sample mean\", c='orange')\n",
    "plt.xlabel(\"samples\", labelpad=14)\n",
    "plt.ylabel(\"frequency of occurence\", labelpad=14)\n",
    "plt.legend();\n",
    "\n",
    "# final_list.sort()\n",
    "\n",
    "# plt.axvline(x=final_list[int(len(final_list)*0.01)], linestyle='--', linewidth=0.5, label=\"1%\", c='b')\n",
    "# plt.axvline(x=final_list[int(len(final_list)*0.99)], linestyle='--', linewidth=0.5, label=\"99%\", c='r')\n",
    "\n",
    "\n",
    "plt.show()"
   ]
  },
  {
   "cell_type": "code",
   "execution_count": 35,
   "metadata": {
    "ExecuteTime": {
     "end_time": "2021-07-13T04:55:31.453975Z",
     "start_time": "2021-07-13T04:55:30.547088Z"
    }
   },
   "outputs": [
    {
     "data": {
      "image/png": "[encoded data removed]",
      "text/plain": [
       "<Figure size 432x288 with 1 Axes>"
      ]
     },
     "metadata": {
      "needs_background": "light"
     },
     "output_type": "display_data"
    },
    {
     "name": "stdout",
     "output_type": "stream",
     "text": [
      "8.157139089826181 7.169802188873291 0.9873369009528901\n",
      "8.045150559438813\n"
     ]
    }
   ],
   "source": [
    "final_list = result_list[:5000] + result_list_G[:5000]\n",
    "\n",
    "\n",
    "plt.hist(final_list,bins=500)\n",
    "\n",
    "plt.title(\"Means\", y=1.015, fontsize=20)\n",
    "plt.axvline(x=sum(final_list)/len(final_list), linestyle='--', linewidth=2.5, label=\"sample mean\", c='orange')\n",
    "plt.xlabel(\"samples\", labelpad=14)\n",
    "plt.ylabel(\"frequency of occurence\", labelpad=14)\n",
    "plt.legend();\n",
    "\n",
    "\n",
    "plt.show()\n",
    "\n",
    "\n",
    "print(max(final_list),min(final_list),max(final_list)-min(final_list))\n",
    "print(sum(final_list)/len(final_list))"
   ]
  },
  {
   "cell_type": "code",
   "execution_count": 36,
   "metadata": {
    "ExecuteTime": {
     "end_time": "2021-07-13T04:55:33.212541Z",
     "start_time": "2021-07-13T04:55:32.381954Z"
    }
   },
   "outputs": [
    {
     "data": {
      "image/png": "[encoded data removed]",
      "text/plain": [
       "<Figure size 432x288 with 1 Axes>"
      ]
     },
     "metadata": {
      "needs_background": "light"
     },
     "output_type": "display_data"
    },
    {
     "name": "stdout",
     "output_type": "stream",
     "text": [
      "8.158596859822005 7.169802188873291 0.9887946709487139\n",
      "8.04902847291791\n"
     ]
    }
   ],
   "source": [
    "final_list = result_list[:10000] + result_list_G[:10000]\n",
    "\n",
    "\n",
    "plt.hist(final_list,bins=500)\n",
    "\n",
    "plt.title(\"Means\", y=1.015, fontsize=20)\n",
    "plt.axvline(x=sum(final_list)/len(final_list), linestyle='--', linewidth=2.5, label=\"sample mean\", c='orange')\n",
    "plt.xlabel(\"samples\", labelpad=14)\n",
    "plt.ylabel(\"frequency of occurence\", labelpad=14)\n",
    "plt.legend();\n",
    "\n",
    "\n",
    "plt.show()\n",
    "\n",
    "\n",
    "print(max(final_list),min(final_list),max(final_list)-min(final_list))\n",
    "print(sum(final_list)/len(final_list))"
   ]
  },
  {
   "cell_type": "code",
   "execution_count": 37,
   "metadata": {
    "ExecuteTime": {
     "end_time": "2021-07-13T04:55:34.988081Z",
     "start_time": "2021-07-13T04:55:34.065260Z"
    }
   },
   "outputs": [
    {
     "data": {
      "image/png": "[encoded data removed]",
      "text/plain": [
       "<Figure size 432x288 with 1 Axes>"
      ]
     },
     "metadata": {
      "needs_background": "light"
     },
     "output_type": "display_data"
    },
    {
     "name": "stdout",
     "output_type": "stream",
     "text": [
      "8.159823612923667 7.169802188873291 0.9900214240503757\n",
      "8.05879731927333\n"
     ]
    }
   ],
   "source": [
    "final_list = result_list[:50000] + result_list_G[:50000]\n",
    "\n",
    "\n",
    "plt.hist(final_list,bins=500)\n",
    "\n",
    "plt.title(\"Means\", y=1.015, fontsize=20)\n",
    "plt.axvline(x=sum(final_list)/len(final_list), linestyle='--', linewidth=2.5, label=\"sample mean\", c='orange')\n",
    "plt.xlabel(\"samples\", labelpad=14)\n",
    "plt.ylabel(\"frequency of occurence\", labelpad=14)\n",
    "plt.legend();\n",
    "\n",
    "\n",
    "plt.show()\n",
    "\n",
    "\n",
    "print(max(final_list),min(final_list),max(final_list)-min(final_list))\n",
    "print(sum(final_list)/len(final_list))"
   ]
  },
  {
   "cell_type": "markdown",
   "metadata": {},
   "source": [
    " "
   ]
  },
  {
   "cell_type": "code",
   "execution_count": null,
   "metadata": {},
   "outputs": [],
   "source": []
  }
 ],
 "metadata": {
  "hide_input": false,
  "kernelspec": {
   "display_name": "Python 3",
   "language": "python",
   "name": "python3"
  },
  "language_info": {
   "codemirror_mode": {
    "name": "ipython",
    "version": 3
   },
   "file_extension": ".py",
   "mimetype": "text/x-python",
   "name": "python",
   "nbconvert_exporter": "python",
   "pygments_lexer": "ipython3",
   "version": "3.8.3"
  },
  "varInspector": {
   "cols": {
    "lenName": 16,
    "lenType": 16,
    "lenVar": 40
   },
   "kernels_config": {
    "python": {
     "delete_cmd_postfix": "",
     "delete_cmd_prefix": "del ",
     "library": "var_list.py",
     "varRefreshCmd": "print(var_dic_list())"
    },
    "r": {
     "delete_cmd_postfix": ") ",
     "delete_cmd_prefix": "rm(",
     "library": "var_list.r",
     "varRefreshCmd": "cat(var_dic_list()) "
    }
   },
   "types_to_exclude": [
    "module",
    "function",
    "builtin_function_or_method",
    "instance",
    "_Feature"
   ],
   "window_display": false
  }
 },
 "nbformat": 4,
 "nbformat_minor": 4
}
